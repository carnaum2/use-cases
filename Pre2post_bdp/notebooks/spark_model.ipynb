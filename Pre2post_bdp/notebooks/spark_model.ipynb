{
 "cells": [
  {
   "cell_type": "markdown",
   "metadata": {},
   "source": [
    "# Set paths"
   ]
  },
  {
   "cell_type": "markdown",
   "metadata": {},
   "source": [
    "DEVEL_SRC must contain the directory use-cases and pykhaos"
   ]
  },
  {
   "cell_type": "code",
   "execution_count": 2,
   "metadata": {},
   "outputs": [
    {
     "name": "stderr",
     "output_type": "stream",
     "text": [
      "20190308-132650 [INFO ] Logging to file /var/SP/data/home/csanc109/logging/out_20190308_132650.log\n",
      "20190308-132650 [DEBUG] $HOME=/home/csanc109\n",
      "20190308-132650 [DEBUG] matplotlib data path /opt/cloudera/parcels/Anaconda-2.5.0/lib/python2.7/site-packages/matplotlib/mpl-data\n",
      "20190308-132650 [DEBUG] loaded rc file /opt/cloudera/parcels/Anaconda-2.5.0/lib/python2.7/site-packages/matplotlib/mpl-data/matplotlibrc\n",
      "20190308-132650 [DEBUG] matplotlib version 2.2.3\n",
      "20190308-132650 [DEBUG] interactive is False\n",
      "20190308-132650 [DEBUG] platform is linux2\n",
      "20190308-132650 [DEBUG] loaded modules: ['_multiprocessing', 'IPython.core.error', 'ipython_genutils.py3compat', 'traitlets.config.sys', 'concurrent.futures.types', 'ipykernel.parentpoller', 'traitlets.config.decorator', 'ctypes.os', 'pexpect.select', 'runpy', 'gc', 'numpy.lib.numpy', 'pty', 'prompt_toolkit.terminal.vt100_output', 'prompt_toolkit.key_binding.six', 'dateutil.parser.dateutil', 'pygments.filters', 'IPython.utils.pprint', 'numpy.core.info', 'jupyter_client.blocking.channels', 'numpy.random.threading', 'logging.weakref', 'pathlib2.fnmatch', 'traitlets.traitlets', 'dateutil.tz.os', 'pprint', 'ipykernel.getpass', 'matplotlib', 'prompt_toolkit.key_binding.manager', 'pathlib2.scandir', 'IPython.utils.simplegeneric', 'prompt_toolkit.key_binding.bindings.vi', 'ipykernel.traitlets', 'numpy.core.umath', 'IPython.core.magics.display', 'colorama.ansi', 'timeit', 'IPython.core.magics.traitlets', 'IPython.terminal.sys', 'string', 'pexpect.utils', 'prompt_toolkit.layout.six', 'multiprocessing.threading', 'numpy.lib.arraysetops', 'jupyter_client.blocking.__future__', 'IPython.utils.timing', 'encodings.utf_8', 'unittest.types', 'concurrent.futures.weakref', 'numpy.ctypeslib', 'dateutil.parser.decimal', 'json.encoder', 'unittest.signals', 'datetime', 'IPython.core.magics.extension', 'numpy.lib', 'zmq.backend.cython.utils', 'traitlets.six', 'ipython_genutils', 'prompt_toolkit.eventloop.abc', 'unittest.StringIO', 'numpy.core._internal', 'array', 'cmd', 'IPython.core.debugger', 'numpy.lib.function_base', 'concurrent.futures.collections', 'future.types.newobject', 'curses.os', 'numpy.ma.extras', 'IPython.lib.IPython', 'pygments.lexers.pygments', 'prompt_toolkit.styles.prompt_toolkit', 'shlex', 'zmq.backend.cython.zmq', 'IPython.core.ultratb', 'prompt_toolkit.key_binding.vi_state', 'ipywidgets.widgets.widget_bool', 'prompt_toolkit.clipboard', 'IPython.utils.resource', 'dis', 'prompt_toolkit.filters.utils', 'pykhaos.utils.os', 'zlib', 'logging.threading', 'pykhaos.utils.sys', 'ipykernel.importlib', 'IPython.core.splitinput', 'IPython.lib.types', 'unittest.result', 'ipywidgets.widgets.domwidget', 'pexpect.spawnbase', 'prompt_toolkit.__future__', 'IPython.terminal.unicodedata', 'IPython.core.excolors', 'jupyter_core.paths', 'ptyprocess.termios', 'IPython.utils.tempfile', 'prompt_toolkit.layout.screen', 'IPython.core.inspect', 'unittest.pprint', 'IPython.lib.getpass', 'IPython.core.magics.gc', 'abc', 'IPython.core.displaypub', 'zmq.utils.sys', 'bdb', 'dateutil.parser.warnings', 'numpy._globals', 'ast', 'numpy.lib.npyio', 'ptyprocess', 'matplotlib.sys', 'IPython.core.mimetypes', 'traitlets.os', 'zmq.backend.cython.codecs', 'IPython.utils.io', 'ntpath', 'IPython.terminal.__future__', 'zmq.sugar.warnings', 'numpy.random.mtrand', 'jupyter_client.adapter', 'encodings.aliases', 'IPython.utils.openpy', 'IPython.core.alias', 'inspect', 'ipykernel.warnings', 'IPython.core.datetime', 'ctypes.tempfile', 'ipywidgets.widgets.base64', 'numpy._distributor_init', 'prompt_toolkit.terminal', 'ipython_genutils.re', '_ctypes', 'fnmatch', 'json.scanner', 'concurrent.futures.itertools', '__main__', 'colorama.winterm', 'jupyter_client.hmac', 'codecs', 'dateutil.warnings', 'jupyter_client.blocking.functools', 'prompt_toolkit.clipboard.six', 'IPython.core.shadowns', 'traitlets.config.loader', 'pexpect.run', 'pexpect.stat', 'ipython_genutils.locale', 'traitlets.config.json', 'IPython.utils.shutil', 'StringIO', 'ptyprocess.errno', 'concurrent.futures.atexit', 'wcwidth', 'colorama.win32', 'weakref', 'IPython.terminal.shortcuts', 'prompt_toolkit.styles.__future__', 'traitlets', 'ipywidgets.os', 'ipykernel.itertools', 'numpy.testing._private.utils', 'ptyprocess.resource', 'IPython.core.display', 'IPython.core.usage', 'numpy.lib.arraypad', 'IPython.terminal', 'numpy.random.warnings', 'base64', 'jupyter_client.os', 'dateutil.parser.isoparser', '_sre', 'pygments.formatters.html', 'ipykernel.cPickle', 'future.types.newdict', 'future.utils.sys', 'numpy.linalg', 'IPython.core.json', 'traitlets.types', 'matplotlib.cbook.warnings', 'sqlite3.dbapi2', 'IPython', 'logging.re', 'prompt_toolkit.clipboard.prompt_toolkit', 'urllib2', 'IPython.core.errno', 'select', 'ctypes._ctypes', '_heapq', 'IPython.core.display_trap', 'zmq.sugar.constants', 'project.time', 'prompt_toolkit.key_binding.bindings.prompt_toolkit', 'numpy.lib.financial', 'zmq.backend.cython.time', 'binascii', 'IPython.lib.contextlib', 'dateutil.calendar', 'pexpect.time', 'pygments.lexers.python', 'numpy.core.shape_base', 'IPython.core.logger', 'jupyter_client.manager', 'tokenize', 'pygments.formatters.sys', 'IPython.core.StringIO', 'matplotlib.json', 'IPython.core.magics.io', 'traitlets.utils.inspect', 'zmq.backend.cython.warnings', 'unittest.fnmatch', 'cPickle', 'jupyter_client.session', 'pykhaos.utils.re', 'ipykernel.comm.ipykernel', 'prompt_toolkit.pygments', 'IPython.core.magics.errno', 'future.builtins.future_builtins', 'IPython.utils.encoding', 'IPython.core.ast', 'IPython.core.keyword', 'IPython.lib.os', 'prompt_toolkit.clipboard.base', 'prompt_toolkit.styles.abc', 'prompt_toolkit.terminal.__future__', 'zmq.backend.cython.cPickle', 'IPython.core.getipython', 'numpy.compat', 'prompt_toolkit.key_binding.input_processor', 'numpy.core.fromnumeric', 'unicodedata', 'zmq', 'IPython.core.page', '_ast', 'IPython.utils.process', 'jupyter_client.sys', 'prompt_toolkit.styles.pygments', 'project.datetime', 'jupyter_client.io', 'zmq.sugar.tracker', 'jupyter_client.blocking.getpass', 'numpy.core.memmap', '_bisect', 'pathlib2.ctypes', 'IPython.extensions.textwrap', 'ptyprocess.pty', 'ipywidgets.widgets.mimetypes', 'exceptions', 'sre_parse', 'tornado.concurrent', 'numpy.lib._version', 'pickle', 'jupyter_core.version', 'ipywidgets.widgets.ipykernel', 'future.types.__future__', 'pygments.regexopt', 'ipywidgets.widgets.widget_controller', 'jupyter_client.launcher', 'matplotlib.rcsetup', 'logging.cStringIO', 'cython_runtime', 'ipykernel.collections', 'numpy.lib.polynomial', 'IPython.terminal.debugger', 'dateutil.parser.__future__', 'prompt_toolkit.styles.six', 'numbers', 'IPython.utils.shlex', 'IPython.core.magics.signal', 'numpy.core.records', 'ipykernel.comm.ipython_genutils', 'prompt_toolkit.key_binding.abc', 'traitlets.inspect', 'future.builtins.iterators', 'ipykernel.zmq', 'IPython.utils.platform', 'strop', 'pygments.util', 'jupyter_client.jupyter_client', 'IPython.core.history', 'numpy.core.numeric', 'concurrent.futures.process', 'six', 'IPython.shutil', 'jupyter_client.connect', 'ipython_genutils.textwrap', 'dateutil.parser._parser', 'zmq.backend.cython.struct', 'matplotlib.testing', 'prompt_toolkit.abc', 'IPython.utils.ipstruct', 'traitlets._version', 'prompt_toolkit.eventloop.base', 'dateutil.math', 'IPython.extensions.__future__', 'jupyter_client.jupyter_core', 'concurrent.pkgutil', 'ctypes.util', 'jupyter_client.blocking.sys', 'numpy.core.defchararray', 'IPython.core.magics.osm', 'numpy.linalg.lapack_lite', 'htmlentitydefs', 'zmq.backend.cython.threading', 'ipywidgets.widgets.widget_link', 'jupyter_core.tempfile', 'ipywidgets.widgets.contextlib', 'jupyter_client.blocking', 'numpy.linalg._umath_linalg', 'pexpect.os', 'codeop', 'future.types.collections', 'numpy.lib.arrayterator', 'tornado.platform.interface', 'pygments.formatter', 'os.path', 'IPython.core.magics.time', 'argparse', 'prompt_toolkit.eventloop.callbacks', 'ipykernel.copyreg', 'IPython.core.tempfile', 'IPython.core.payload', '_weakrefset', 'zmq.backend.select', 'ipykernel.copy', 'prompt_toolkit.bisect', 'unittest.traceback', 'six.moves.urllib.request', 'ipywidgets.widgets.widget', 'traitlets.config.configurable', 'IPython.core.traitlets', 'tty', 'zmq.eventloop.queue', 'ipykernel.threading', 'pexpect.exceptions', 'prompt_toolkit.io', 'pygments.pygments', 'functools', 'tornado.platform.posix', 'prompt_toolkit.subprocess', 'numpy.core._multiarray_tests', 'backports.shutil_get_terminal_size.termios', 'sysconfig', 'IPython.terminal.embed', 'concurrent.futures.concurrent', 'ipykernel.serialize', 'jupyter_client._version', 'pexpect.contextlib', 'sqlite3.collections', 'pygments.formatters.types', 'dateutil.tz.time', 'prompt_toolkit.eventloop.__future__', 'builtins', 'uuid', 'jupyter_core.os', 'numpy.compat.py3k', 'tempfile', 'curses', 'numpy.core.machar', 'prompt_toolkit.tempfile', 'imp', 'prompt_toolkit.wcwidth', 'multiprocessing.os', 'jupyter_core.sys', 'IPython.utils.tempdir', 'matplotlib.compat', 'zmq.utils.constant_names', 'multiprocessing.itertools', 'backports.shutil_get_terminal_size.collections', 'enum.sys', 'jupyter_client.datetime', 'matplotlib._color_data', 'jupyter_client.random', 'ipywidgets.widgets.docutils', 'traitlets.utils.sentinel', 'ptyprocess.os', 'numpy.linalg.info', 'future.types.numbers', 'zmq.zmq', 'ptyprocess.codecs', 'prompt_toolkit.input', 'numpy.polynomial.polynomial', 'zmq.eventloop.tornado', 'IPython.core.traceback', 'unittest.util', 'IPython.utils._tokenize_py2', 'IPython.core.__main__', 'IPython.extensions.inspect', 'ipython_genutils._version', 'prompt_toolkit.layout.mouse_handlers', 'IPython.utils.hashlib', 'hmac', 'zmq.eventloop.__future__', 'decorator', 'IPython.core.zipimport', 'pygments.lexers.sys', 'pykhaos.utils.logging', 'pygments.unistring', 'prompt_toolkit.cache', 'IPython.terminal.interactiveshell', 'IPython.extensions.traitlets', 'decimal', 'ipywidgets.widgets.itertools', 'numpy.lib._datasource', 'IPython.core.warnings', 'IPython.utils.imp', 'logging.handlers', 'dateutil.tz.datetime', 'token', 'prompt_toolkit.key_binding.digraphs', 'prompt_toolkit.auto_suggest', 'prompt_toolkit.buffer', 'zmq.backend', 'unittest.runner', 'IPython.testing.sys', 'pygments.formatters.os', 'IPython.utils.warnings', 'pathlib2.six', 'ptyprocess.fcntl', 'cStringIO', 'IPython.utils.errno', 'backports.shutil_get_terminal_size.struct', 'IPython.core.io', 'IPython.terminal.pt_inputhooks', 'IPython.core.magics.namespace', 'traitlets.config.copy', 'ipywidgets.widgets.widget_color', 'traitlets.utils.ipython_genutils', 'zmq.os', 'zmq.sugar.frame', 'multiprocessing.process', 'ctypes.errno', 'encodings', 'IPython.core.magics.history', 'IPython.core.__future__', 'IPython.core.displayhook', 'pexpect.expect', 'IPython.core.binascii', 'future.types.struct', 'numpy.matrixlib', 'ipykernel.comm.uuid', 'IPython.core.interactiveshell', 'traitlets.ipython_genutils', 'IPython.core.operator', 'IPython.core.crashhandler', 'IPython.utils', 'numpy.fft.helper', 'zmq.ctypes', 'prompt_toolkit.layout.time', 'prompt_toolkit.threading', 'dateutil.six', 're', 'pygments.filters.re', 'numpy.fft.fftpack_lite', 'future.types', 'IPython.core.magics.IPython', 'IPython.utils.capture', 'ipykernel.errno', 'ipykernel.ipkernel', 'sqlite3.time', 'dateutil.relativedelta', 'math', 'IPython.core.IPython', 'pygments.formatters.fnmatch', 'wcwidth.__future__', 'ipykernel.comm.manager', 'IPython.core.importlib', 'ipython_genutils.errno', 'dateutil.tz.six', 'IPython.lib.sys', 'prompt_toolkit.interface', 'prompt_toolkit.terminal.vt100_input', 'numpy.lib.ufunclike', 'dateutil.tz.tz', 'prompt_toolkit.key_binding.bindings.six', 'ctypes.struct', 'IPython.utils.colorable', 'ipykernel.ctypes', 'ipywidgets.widgets.IPython', 'prompt_toolkit.filters', '_locale', 'IPython.core.logging', 'logging', 'prompt_toolkit.enums', 'thread', 'pykhaos.utils.custom_logger', 'numpy.lib.shape_base', 'IPython.core.events', 'prompt_toolkit.eventloop', 'traceback', 'ipykernel.signal', 'multiprocessing', 'concurrent.futures.time', 'IPython.core.copy', 'IPython.core.builtin_trap', 'zmq.backend.platform', 'IPython.utils.coloransi', 'multiprocessing.util', 'IPython.utils._process_posix', 'colorama.os', 'future.types.newbytes', 'ipywidgets.widgets.widget_layout', 'ctypes.re', 'pathlib2.os', 'pykhaos.utils.pyspark_configuration', 'prompt_toolkit.filters.six', '_collections', 'prompt_toolkit.mouse_events', 'ipykernel.jupyter_core', 'jupyter_client.multikernelmanager', 'numpy.random', 'prompt_toolkit.key_binding.bindings.__future__', 'ipykernel.kernelbase', 'traitlets.config.os', 'traitlets.config.ast', 'multiprocessing.sys', 'ipykernel.uuid', 'future.builtins', 'ipywidgets.widgets.widget_button', 'pexpect.pty_spawn', 'pygments.filter', 'numpy.core.arrayprint', 'IPython.utils.locale', 'ctypes.sys', 'IPython.core.magics.config', 'pygments.lexers.__future__', 'pexpect', 'posixpath', 'jupyter_client.channels', 'numpy.testing._private', 'ipykernel.atexit', 'zmq.sugar.atexit', 'IPython.utils._sysinfo', 'prompt_toolkit.filters.cli', 'traitlets.logging', 'colorama.contextlib', 'types', 'zmq.backend.cython._device', 'typing', 'prompt_toolkit.utils', 'prompt_toolkit.clipboard.in_memory', 'IPython.core.linecache', 'ipywidgets.widgets.widget_string', 'matplotlib.cbook.functools', 'json._json', 'numpy._import_tools', 'curses.sys', 'ipykernel.jupyter_client', '_codecs', 'traitlets.contextlib', 'numpy.testing._private.pytesttester', 'ipykernel.comm.sys', 'IPython.core.unicodedata', 'enum.collections', 'json.sys', 'encodings.ascii', 'future.builtins.__builtin__', 'IPython.utils.os', 'ipykernel.datapub', 'pygments.styles.pygments', 'concurrent.futures.multiprocessing', 'pygments.time', 'zmq.eventloop.ioloop', 'copy', 'ipykernel.datetime', 'prompt_toolkit.styles.collections', 'ipykernel.comm.logging', 'ipython_genutils.shutil', 'hashlib', 'prompt_toolkit', 'zmq.error', 'keyword', 'ipython_genutils.random', 'distutils', 'ipywidgets.widgets.widget_core', 'numpy.lib.nanfunctions', 'IPython.extensions.IPython', 'ipywidgets.widgets.sys', 'unittest.weakref', 'project', 'numpy.fft.info', 'future', 'posix', 'IPython.core.hashlib', 'pygments.lexers.fnmatch', '_curses', 'ipywidgets.widgets.widget_box', 'IPython.utils.generics', 'ipykernel.connect', 'backports.shutil_get_terminal_size.os', 'ipywidgets.IPython', 'prompt_toolkit.layout.collections', 'sre_compile', 'ipykernel', 'dateutil.tz._factories', '_hashlib', 'prompt_toolkit.layout.utils', 'IPython.utils.ulinecache', 'zmq.eventloop.cPickle', 'IPython.core.magics.code', 'urllib', 'IPython.core.bdb', 'logging.collections', 'IPython.core.threading', 'zmq.eventloop.zmq', 'pygments.__future__', 'future.utils.types', 'colorama.initialise', 'multiprocessing.atexit', 'calendar', 'dateutil.operator', 'prompt_toolkit.string', 'unittest.time', 'prompt_toolkit.layout.re', 'dateutil._version', 'pexpect.pty', 'future.utils.numbers', 'prompt_toolkit.layout.__future__', 'ipykernel.types', 'dateutil.parser', 'prompt_toolkit.token', 'IPython.core.pprint', 'jupyter_client.ipython_genutils', 'encodings.codecs', 'ipywidgets', 'IPython.utils.__builtin__', 'IPython.terminal.os', 'IPython.lib.threading', 'zmq.utils.jsonapi', 'curses.curses', 'ipywidgets.widgets.datetime', 'numpy.lib.utils', 'ipykernel.IPython', 'IPython.core.completer', 'prompt_toolkit.layout.toolbars', 'ipywidgets.widgets.json', 'unittest.difflib', '_ssl', 'pexpect.ptyprocess', 'IPython.utils.sys', 'IPython.utils.re', 'tornado', 'IPython.lib.clipboard', 'glob', 'pathlib2.operator', 'multiprocessing.multiprocessing', 'IPython.utils.inspect', 'pygments.formatters', 'zmq.backend.cython.sys', 'gzip', 'IPython.core.base64', 'pexpect.errno', '_sqlite3', 'ipython_genutils.text', '_thread', 'IPython.core.shellapp', 'zmq.backend.cython.random', 'numpy.lib.twodim_base', 'prompt_toolkit.selection', 'numpy.polynomial', 'matplotlib.cbook', 'future_builtins', 'concurrent.futures.sys', 'dateutil.parser.calendar', 'pygments.modeline', 'future.types.string', 'zmq.backend.cython.error', 'IPython.utils.wildcard', 'IPython.core.extensions', 'IPython.utils.tokenutil', '_io', 'linecache', '_strptime', 'project.os', 'ipywidgets.widgets.trait_types', 'IPython.core.compilerop', 'ipykernel.comm', 'future.types.newstr', 'jupyter_client.zmq', 'numpy.linalg.linalg', 'pathlib2.urllib', 'scandir', 'prompt_toolkit.terminal.six', 'ipywidgets.widgets.widget_output', 'numpy.lib._iotools', 'prompt_toolkit.key_binding.bindings.named_commands', 'ipywidgets.widgets.traitlets', 'future.standard_library', 'jupyter_client.json', 'random', 'pygments.styles', 'zmq.sugar.context', 'subprocess', 'IPython.extensions.storemagic', 'prompt_toolkit.key_binding.weakref', 'backports.shutil_get_terminal_size.fcntl', 'ipython_genutils.sys', 'pygments.operator', 'logging.os', 'ctypes._endian', 'encodings.encodings', 'ptyprocess.time', 'ipykernel.numbers', 'colorama.ansitowin32', 'pygments.formatters._mapping', 'logging.stat', 'numpy.__config__', '_cython_0_28_5', 'importlib', 'prompt_toolkit.styles.from_pygments', 'IPython.core.magic', 'ipywidgets.widgets.ipython_genutils', 'IPython.utils.dir2', '_json', 'prompt_toolkit.key_binding.bindings.basic', 'unittest.sys', 'ipykernel.logging', 'traitlets.config.argparse', 'ipython_genutils.importstring', 'jupyter_client.blocking.traitlets', 'logging.thread', 'cProfile', 'prompt_toolkit.styles.defaults', 'prompt_toolkit.buffer_mapping', 'ipywidgets.widgets.functools', 'prompt_toolkit.history', 'IPython.lib.re', 'pathlib2', 'pygments.sys', 'prompt_toolkit.terminal.termios', 'prompt_toolkit.styles', 'concurrent.futures.threading', 'repr', 'ipykernel.pickleutil', 'ipykernel.traceback', 'ssl', 'traitlets.config.__future__', 'prompt_toolkit.reactive', 'numpy.version', 'ipython_genutils.platform', 'distutils.re', 'prompt_toolkit.terminal.tty', '_lsprof', 'IPython.os', 'pygments.lexer', 'prompt_toolkit.completion', 'ptyprocess.ptyprocess', 'numpy.lib.type_check', 'numpy.testing._private.nosetester', 'traitlets.config.collections', 'resource', 'IPython.terminal.traitlets', 'bisect', 'traitlets.config', 'unittest', 'queue', 'IPython.utils.IPython', 'pydoc', 'threading', 'prompt_toolkit.keys', 'IPython.core.prefilter', 'ipywidgets.widgets.widget_float', 'prompt_toolkit.styles.from_dict', 'jupyter_client.hashlib', 'dateutil.tz.functools', 'IPython.lib.datetime', 'cycler', 'IPython.core.string', 'pathlib2.errno', 'numpy.fft', 'ipywidgets.widgets.widget_selection', 'dateutil._common', 'pathlib2.io', 'IPython.core.textwrap', 'jupyter_client.errno', 'future.backports.misc', 'locale', 'unittest.re', 'ipywidgets.widgets.widget_date', 'prompt_toolkit.document', 'ptyprocess.sys', 'atexit', 'IPython.core.autocall', 'dateutil.parser.io', 'IPython.core.sys', 'pexpect.sys', 'zmq.backend.cython.message', 'ipykernel.comm.traitlets', 'sphinxcontrib', 'IPython.core.magics.__future__', 'traitlets.sys', 'IPython.core.magics.pylab', 'dateutil', 'ipywidgets.widgets.numbers', 'traitlets.utils.bunch', 'backports.shutil_get_terminal_size.get_terminal_size', 'numpy.polynomial.hermite_e', 'tornado.log', 'jupyter_client.managerabc', 'future.builtins.future', 'numpy.core.numerictypes', 'IPython.lib.io', 'pygments.StringIO', 'IPython.lib.subprocess', 'ipykernel.displayhook', 'zmq.sys', 'prompt_toolkit.validation', 'fcntl', 'ipywidgets.widgets.collections', 'IPython.utils.path', 'ipywidgets.widgets.inspect', 'IPython.core.atexit', 'pygments.plugin', 'zmq.eventloop.warnings', 'prompt_toolkit.layout.controls', 'zmq.utils', 'jupyter_client.localinterfaces', 'Queue', 'numpy.lib.info', 'jupyter_client.shutil', 'ctypes', 'IPython.lib.collections', 'IPython.core.magics.re', 'backports.functools_lru_cache', 'IPython.utils._process_common', 'pickleshare', 'ipykernel.ipykernel', 'ipython_genutils.functools', 'prompt_toolkit.types', 'numpy.matrixlib.defmatrix', 'traitlets.config.application', 'jupyter_client.socket', 'pexpect.codecs', 'matplotlib.compat.subprocess', 'prompt_toolkit.key_binding.bindings', 'prompt_toolkit.filters.base', 'itertools', 'jupyter_client.blocking.zmq', 'opcode', 'colorama.sys', 'pstats', 'future.utils.copy', 'prompt_toolkit.key_binding.bindings.math', 'ptyprocess.signal', 'traitlets.config.six', 'pdb', 'future.types.newrange', 'IPython.core.magics.subprocess', 'IPython.terminal.signal', 'numpy.sys', 'IPython.extensions.os', 'IPython.core.magics.atexit', 'six.moves', 'IPython.terminal.logging', 'zmq.errno', 'prompt_toolkit.key_binding.collections', 'IPython.testing', 'prompt_toolkit.renderer', 'sqlite3.datetime', 'zmq.sugar.socket', 'prompt_toolkit.key_binding.bindings.string', 'pygments.lexers.re', 'prompt_toolkit.shortcuts', 'pygments', 'logging.errno', 'pathlib2.re', 'curses._curses', 'future.types.future', 'prompt_toolkit.signal', 'ipykernel.imp', 'dateutil.parser.re', 'prompt_toolkit.shlex', 'IPython.core.hooks', 'numpy.os', 'IPython.display', 'pkgutil', 'IPython.core.tokenize', 'platform', 'future.utils', 'IPython.lib.__future__', 'IPython.utils.sentinel', 'ipykernel.tornado', 'IPython.core.magics.warnings', 'logging.struct', 'sre_constants', 'zmq.backend.os', 'json', 'pygments.styles.default', 'prompt_toolkit.filters.prompt_toolkit', 'numpy.core.function_base', 'jupyter_client.jsonutil', 'ipykernel.platform', 'numpy', 'zmq.sugar.random', 'IPython.lib.warnings', 'json.re', 'prompt_toolkit.sys', 'zmq.utils.itertools', 'prompt_toolkit.layout.lexers', 'zmq.eventloop', 'ipywidgets.widgets', 'subprocess32', 'dateutil.parser.time', 'termios', 'pygments.itertools', 'IPython.IPython', 'ptyprocess.shutil', 'prompt_toolkit.application', 'zmq.sugar', 'project.pykhaos', 'logging.atexit', 'logging.cPickle', 'IPython.core.completerlib', 'matplotlib.cbook._backports', 'pyparsing', 'IPython.core.sqlite3', 'unittest.main', 'future.builtins.newsuper', 'zmq.sugar.stopwatch', 'getpass', 'ipykernel.__future__', 'concurrent.futures.logging', 'prompt_toolkit.inspect', 'prompt_toolkit.functools', 'ptyprocess.util', 'storemagic', 'wcwidth.table_zero', 'jupyter_client.blocking.jupyter_client', 'prompt_toolkit.textwrap', 'jupyter_client.blocking.client', 'ipython_genutils.__builtin__', 'concurrent.futures.Queue', 'multiprocessing.weakref', 'numpy.lib.stride_tricks', 'pykhaos.utils', 'IPython.terminal.prompt_toolkit', 'jupyter_client.binascii', 'json.decoder', 'traitlets.enum', 'unittest.signal', 'copy_reg', 'IPython.core.magics.os', 'ipykernel.kernelapp', 'tornado.platform.auto', 'IPython.utils.linecache', 'site', 'ipywidgets.widgets.widget_selectioncontainer', 'copyreg', 'IPython.core.shutil', 'dateutil.tz', 'io', 'ipython_genutils.string', 'prompt_toolkit.search_state', 'IPython.core.pygments', 'shutil', 'dateutil.parser.datetime', 'IPython.utils.random', 'jupyter_client.clientabc', 'prompt_toolkit.clipboard.collections', 'pygments.filters.pygments', 'zmq.sugar.zmq', 'zmq.backend.sys', 'prompt_toolkit.terminal.os', 'prompt_toolkit.styles.base', 'IPython.lib.backgroundjobs', 'IPython.lib.logging', 'ipykernel.zmqshell', 'IPython.utils.decorators', 'future.builtins.decimal', 'IPython.testing.skipdoctest', 'numpy.fft.fftpack', 'ipywidgets.widgets.__future__', 'IPython.core.magics.script', 'numpy.core', 'future.builtins.newround', 'sqlite3', 'pygments.formatters.pygments', 'prompt_toolkit.weakref', 'IPython.core.magics.basic', 'IPython.core.magics.auto', 'traitlets.config.traitlets', 'IPython.core.macro', 'ipywidgets.widgets.widget_style', 'IPython.core.magics.pprint', 'IPython.utils.data', 'rfc822', 'unittest.collections', 'numpy.polynomial.polyutils', 'json.json', 'IPython.terminal.ipapp', 'IPython.core.types', 'sys', 'pathlib2.stat', 'numpy.compat._inspect', 'IPython.terminal.IPython', 'multiprocessing.subprocess', 'importlib.sys', 'numpy.polynomial.legendre', 'ipykernel.re', 'jupyter_client.traitlets', 'IPython.terminal.pt_inputhooks.importlib', 'ipywidgets.traitlets', 'tornado.util', 'distutils.sys', 'IPython.utils.importstring', 'unittest.functools', 'prompt_toolkit.output', 'matplotlib.fontconfig_pattern', '_weakref', 'pygments.formatters.__future__', 'IPython.core.inputtransformer', 'difflib', 'urlparse', 'ipykernel.binascii', 'prompt_toolkit.key_binding.prompt_toolkit', 'pygments.cStringIO', 'ipywidgets.widgets.re', 'IPython.core.decorator', 'IPython.core.application', 'ipykernel._version', 'IPython.core', 'unittest.os', 'prompt_toolkit.layout.processors', 'IPython.utils.terminal', 'traitlets.utils.six', 'logging.logging', 'prompt_toolkit.key_binding.registry', 'heapq', 'concurrent.futures._base', 'concurrent.futures', 'IPython.core.time', 'prompt_toolkit.terminal.array', 'pykhaos', 'prompt_toolkit.key_binding.bindings.completion', 'IPython.extensions', 'ipykernel._thread', 'matplotlib.cbook.textwrap', 'prompt_toolkit.key_binding.defaults', 'ptyprocess.struct', 'zmq.backend.cython.socket', 'IPython.terminal.pt_inputhooks.os', 'IPython.core.oinspect', 'zmq.sugar.time', 'prompt_toolkit.key_binding.bindings.codecs', 'zmq.sugar.attrsettr', 'tornado.platform.epoll', 'ipywidgets.widgets.widget_description', 'matplotlib.colors', 'tornado.escape', 'IPython.core.os', 'zmq.backend.cython.constants', 'ipython_genutils.path', 'IPython.utils._signatures', 'jupyter_client.logging', 'struct', 'numpy.random.info', 'IPython.utils.strdispatch', 'IPython.core.inputsplitter', 'IPython.utils.tokenize2', 'prompt_toolkit.terminal.errno', 'future.builtins.io', 'IPython.lib', 'sqlite3._sqlite3', 'prompt_toolkit.key_binding', 'IPython.utils.string', 'collections', 'jupyter_client.cPickle', 'prompt_toolkit.eventloop.six', 'prompt_toolkit.filters.collections', 'logging.socket', 'ipykernel.comm.comm', 'distutils.types', 'IPython.extensions.sys', 'backports.shutil_get_terminal_size.ctypes', 'traitlets.utils', 'ipython_genutils.encoding', 'dateutil.tz._common', 'zipimport', 'IPython.core.struct', 'pathlib2.sys', 'IPython.core.magics.execution', 'jupyter_client', 'IPython.terminal.magics', 'textwrap', 'zmq.platform', 'pexpect.io', 'pathlib2.functools', 'getopt', 'numpy.lib.scimath', 'jupyter_client.channelsabc', 'prompt_toolkit.filters.__future__', 'pexpect.traceback', 'ipykernel.math', 'traitlets.config.re', 'zmq.backend.cython._version', 'pexpect.types', 'future.backports', 'IPython.lib.random', 'ipykernel.codeutil', 'IPython.utils.frame', 'signal', 'IPython.core.payloadpage', 'prompt_toolkit.terminal.prompt_toolkit', 'prompt_toolkit.filters.abc', 'prompt_toolkit.re', 'IPython.terminal.warnings', 'jupyter_client.dateutil', 'prompt_toolkit.layout.containers', 'unittest.suite', 'numpy.core.multiarray', 'IPython.core.magics', 'zmq.backend.cython.context', 'pygments.lexers.types', 'zmq.eventloop.zmqstream', 'IPython.core.getopt', 'jupyter_client.kernelspec', 'google', 'ipywidgets._version', 'IPython.terminal.prompts', 'mimetypes', 'numpy.core.getlimits', 'dateutil.tz.sys', 'ipykernel.io', 'prompt_toolkit.key_binding.bindings.emacs', 'pygments.lexers._mapping', 'IPython.utils.token', 'IPython.utils.module_paths', 'pygments.lexers.os', 'logging.traceback', 'numpy.lib.index_tricks', 'IPython.core.magic_arguments', 'pygments.codecs', 'traitlets.utils.getargspec', 'dateutil.parser.six', 'IPython.core.magics.logging', 'wcwidth.table_wide', 'warnings', 'IPython.utils.sysinfo', 'backports', 'ipywidgets.widgets.valuewidget', 'IPython.core.argparse', 'IPython.lib.security', 'numpy.lib.mixins', 'jupyter_client.warnings', 'numpy.ma.core', 'IPython.core.subprocess', 'pygments.formatters.re', 'traitlets.config.logging', 'ipython_genutils.warnings', 'IPython.utils.subprocess', 'jupyter_client.abc', 'prompt_toolkit.key_binding.bindings.itertools', 'mpl_toolkits', 'IPython.utils.syspathcontext', 'UserDict', 'traitlets.config.ipython_genutils', 'enum', 'matplotlib._version', 'six.moves.urllib', 'pygments.os', 'prompt_toolkit.prompt_toolkit', 'IPython.utils.PyColorize', 'project.sys', 'ipywidgets.widgets.widget_int', 'tornado.platform.common', 'prompt_toolkit.time', 'numpy.random.operator', 'IPython.terminal.wcwidth', 'logging.sys', 'pexpect.re', 'IPython.terminal.ptutils', 'future.builtins.newnext', 'unittest.loader', '_functools', 'ipykernel.sys', 'socket', 'pathlib2.ntpath', 'ipykernel.socket', 'IPython.core.pylabtools', 'zmq.sugar.version', 'backports.shutil_get_terminal_size', 'pexpect.signal', 'prompt_toolkit.datetime', 'pykhaos.utils.notebooks', 'IPython.utils.contexts', 'IPython.core.imp', 'ipykernel.iostream', 'ipykernel.os', 'colorama', 'IPython.core.pdb', 'dateutil.tz.struct', 'os', 'marshal', 'zmq.sugar.sys', 'distutils.version', 'matplotlib.cbook.deprecation', '__future__', 'simplegeneric', 'tornado.speedups', 'traitlets.utils.functools', 'numpy.random.numpy', 'IPython.lib.deepreload', 'ipywidgets.widgets.interaction', 'prompt_toolkit.clipboard.__future__', '__builtin__', 'zmq.backend.cython', 'IPython.utils.functools', 'IPython.lib.display', 'prompt_toolkit.layout.itertools', 'pykhaos.utils.datetime', 'numpy.lib.format', 'operator', 'prompt_toolkit.layout.menus', 'json.struct', 'pygments.token', 'pathlib2.collections', 'dateutil.parser.functools', 'zmq.backend.cython._poll', 'IPython.core.re', 'errno', 'unittest.case', '_socket', 'future.types.sys', 'prompt_toolkit.clipboard.abc', 'jupyter_client.blocking.queue', 'IPython.core.glob', 'IPython.core.abc', 'prompt_toolkit.layout.prompt_toolkit', 'jupyter_client.re', 'pathlib2.posixpath', 'prompt_toolkit.terminal.re', '_warnings', 'IPython.core.magics.sys', 'multiprocessing._multiprocessing', 'IPython.core.latex_symbols', 'prompt_toolkit.key_binding.__future__', 'IPython.utils.text', 'encodings.__builtin__', 'IPython.utils.__future__', 'ipython_genutils.os', 'prompt_toolkit.layout.math', 'tornado.platform', 'IPython.core.profiledir', 'future.builtins.misc', 'project.project_generic', 'prompt_toolkit.layout.abc', 'pwd', 'future.utils.__builtin__', 'curses.wrapper', 'httplib', 'prompt_toolkit.six', 'backports.shutil_get_terminal_size.sys', 'IPython.utils.pexpect', '_posixsubprocess32', 'IPython.utils.types', '_sysconfigdata', '_struct', 'ptyprocess.builtins', 'ipykernel.heartbeat', 'typing.re', 'future.types.copy', 'prompt_toolkit.filters.weakref', 'numpy.lib.histograms', 'jupyter_client.pprint', 'IPython.core.functools', 'dateutil.tz.bisect', 'IPython.paths', 'IPython.terminal.pygments', 'jupyter_client.subprocess', 'logging.time', 'prompt_toolkit.filters.types', 'numpy.polynomial.chebyshev', 'ipykernel.ipython_genutils', 'zmq.sugar.errno', 'IPython.lib.imp', 'logging.warnings', 'IPython.tempfile', 'mimetools', 'multiprocessing.signal', 'pygments.re', 'dateutil.datetime', 'colorama.atexit', 'logging.codecs', '_random', 'zmq.backend.cython.copy', 'numpy.polynomial._polybase', 'zmq.utils.zmq', 'prompt_toolkit.layout.margins', 'numpy.polynomial.hermite', 'contextlib', 'IPython.utils.time', 'prompt_toolkit.layout.dimension', 'concurrent.futures.thread', 'numpy.add_newdocs', 'future.utils.inspect', 'IPython.lib.hashlib', 'traitlets.warnings', 'prompt_toolkit.key_binding.bindings.scroll', 'IPython.utils.glob', 'zmq.sugar.cPickle', 'zmq.utils.strtypes', 'future.types.newint', 'grp', 'IPython.core.release', 'IPython.lib.pretty', 'colorama.ctypes', 'ipywidgets.widgets.widget_media', 'gettext', 'ptyprocess.io', 'dateutil.parser.string', '_abcoll', 'prompt_toolkit.os', 'pexpect.tty', 'IPython.core.codeop', 'traitlets.log', 'prompt_toolkit.layout.prompt', 'wcwidth.wcwidth', 'ipython_genutils.types', 'genericpath', 'stat', 'jupyter_core', 'pygments.lexers', 'IPython.core.formatters', 'jupyter_client.client', 'IPython.warnings', 'unittest.warnings', 'prompt_toolkit.collections', 'prompt_toolkit.styles.utils', 'ipykernel.time', 'zmq.sugar.threading', 'concurrent', 'numpy.polynomial.laguerre', 'numpy.core.einsumfunc', 'ctypes.ctypes', 'future.types.newlist', 'pygments.style', 'numpy.testing', 'numpy.ma', 'future.utils.functools', 'numpy.core._methods', 'numpy.testing._private.decorators', 'IPython.core.itertools', 'zmq.sugar.poll', 'distutils.string', 'prompt_toolkit.layout', 'traitlets.utils.importstring', 'tornado.stack_context', 'ipykernel.jsonutil', 'ipywidgets.widgets.warnings', 'IPython.utils.signatures', 'jupyter_client.blocking.time', 'time', 'colorama.re', 'tornado.ioloop', 'typing.io', 'IPython.utils.py3compat', 'traitlets.re']\n"
     ]
    },
    {
     "name": "stderr",
     "output_type": "stream",
     "text": [
      "20190308-132650 [DEBUG] CACHEDIR=/home/csanc109/.cache/matplotlib\n",
      "20190308-132650 [DEBUG] Using fontManager instance from /home/csanc109/.cache/matplotlib/fontList.json\n",
      "20190308-132650 [DEBUG] backend agg version v2.2\n",
      "20190308-132650 [DEBUG] backend module://ipykernel.pylab.backend_inline version unknown\n",
      "20190308-132650 [DEBUG] backend module://ipykernel.pylab.backend_inline version unknown\n"
     ]
    },
    {
     "data": {
      "application/javascript": [
       "if (!(\"Notification\" in window)) {\n",
       "    alert(\"This browser does not support desktop notifications, so the %%notify magic will not work.\");\n",
       "} else if (Notification.permission !== 'granted' && Notification.permission !== 'denied') {\n",
       "    Notification.requestPermission(function (permission) {\n",
       "        if(!('permission' in Notification)) {\n",
       "            Notification.permission = permission;\n",
       "        }\n",
       "    })\n",
       "}\n"
      ],
      "text/plain": [
       "<IPython.core.display.Javascript object>"
      ]
     },
     "metadata": {},
     "output_type": "display_data"
    },
    {
     "data": {
      "text/html": [
       "<style>.container { width:100% !important; }</style>"
      ],
      "text/plain": [
       "<IPython.core.display.HTML object>"
      ]
     },
     "metadata": {},
     "output_type": "display_data"
    }
   ],
   "source": [
    "import os, sys\n",
    "import datetime as dt\n",
    "DEVEL_SRC = os.path.join(os.environ.get('BDA_USER_HOME', ''), \"src\", \"devel\")\n",
    "if DEVEL_SRC not in sys.path:\n",
    "    sys.path.append(DEVEL_SRC)\n",
    "\n",
    "USECASES_SRC = os.path.join(DEVEL_SRC, \"use-cases\") # TODO when '-' is removed from name, remove also this line and adapt imports \n",
    "if USECASES_SRC not in sys.path: \n",
    "    sys.path.append(USECASES_SRC)\n",
    "    \n",
    "# AMDOCS_SRC = os.path.join(DEVEL_SRC, \"amdocs_informational_dataset\") # TODO when - is removed, remove also this line and adapt imports\n",
    "# if AMDOCS_SRC not in sys.path: \n",
    "#     sys.path.append(AMDOCS_SRC)\n",
    "    \n",
    "import pykhaos.utils.custom_logger as clogger\n",
    "logging_file = os.path.join(os.environ.get('BDA_USER_HOME', ''), \"logging\",\n",
    "                                    \"out_\" + dt.datetime.now().strftime(\"%Y%m%d_%H%M%S\") + \".log\")\n",
    "logger = clogger.configure_logger(log_filename=logging_file, std_channel=sys.stderr, logger_name=\"\")\n",
    "logger.info(\"Logging to file {}\".format(logging_file))    \n",
    "        \n",
    "from project.project_generic import Project\n",
    "\n",
    "import pykhaos.utils.notebooks as nb\n",
    "\n",
    "import time\n",
    "start_time = time.time()\n",
    "\n",
    "RUNNING_FROM_NOTEBOOK = nb.isnotebook()\n",
    "import matplotlib\n",
    "matplotlib.use('Agg')\n",
    "import matplotlib.pyplot as plt\n",
    "if RUNNING_FROM_NOTEBOOK:\n",
    "    %load_ext autoreload\n",
    "    %autoreload 2\n",
    "    %matplotlib inline  \n",
    "    EXTERNAL_LIB = os.path.join(os.environ.get('BDA_USER_HOME', ''), \"lib\", \"external_libs\")\n",
    "    if EXTERNAL_LIB not in sys.path:\n",
    "        sys.path.append(EXTERNAL_LIB)\n",
    "    # feel free from commenting this line and the other ones that begin with \"%%notify\" if you do not have \n",
    "    # the extension installed or copy de lib from /var/SP/data/home/csanc109/lib/external_libs/jupyternotify/\n",
    "    %load_ext jupyternotify \n",
    "from IPython.core.display import display, HTML\n",
    "display(HTML(\"<style>.container { width:100% !important; }</style>\"))"
   ]
  },
  {
   "cell_type": "code",
   "execution_count": 3,
   "metadata": {},
   "outputs": [],
   "source": [
    "from pyspark.sql import Row, DataFrame, Column, Window\n",
    "from pyspark.sql.types import DoubleType, StringType, IntegerType, DateType, ArrayType\n",
    "from pyspark.ml import Pipeline\n",
    "from pyspark.ml.classification import RandomForestClassifier\n",
    "from pyspark.ml.feature import StringIndexer, VectorIndexer, VectorAssembler, SQLTransformer, OneHotEncoder\n",
    "from pyspark.ml.evaluation import MulticlassClassificationEvaluator, BinaryClassificationEvaluator\n",
    "from pyspark.mllib.evaluation import BinaryClassificationMetrics\n",
    "from pyspark.sql.functions import collect_set, concat, size, coalesce, col, lpad, struct, count as sql_count, lit, min as sql_min, max as sql_max, collect_list, udf, when, desc, asc, to_date, create_map, sum as sql_sum\n",
    "from pyspark.sql.types import StringType, ArrayType, MapType, StructType, StructField, IntegerType\n",
    "from pyspark.sql.functions import array, regexp_extract\n",
    "from itertools import chain"
   ]
  },
  {
   "cell_type": "markdown",
   "metadata": {},
   "source": [
    "## Start spark context"
   ]
  },
  {
   "cell_type": "code",
   "execution_count": 4,
   "metadata": {},
   "outputs": [
    {
     "name": "stdout",
     "output_type": "stream",
     "text": [
      "Ended spark session: 35.1641249657 secs | default parallelism=4\n"
     ]
    }
   ],
   "source": [
    "from churn.utils.general_functions import init_spark\n",
    "spark = init_spark(\"spark_model\")\n",
    "sc = spark.sparkContext"
   ]
  },
  {
   "cell_type": "markdown",
   "metadata": {},
   "source": [
    "# EDIT: Input file for training the model"
   ]
  },
  {
   "cell_type": "code",
   "execution_count": 5,
   "metadata": {},
   "outputs": [],
   "source": [
    "DP_FILENAME = \"/user/csanc109/projects/pre2post/data/df_all_201811_201811_M2_classical_complete\"\n"
   ]
  },
  {
   "cell_type": "markdown",
   "metadata": {},
   "source": [
    "# Config "
   ]
  },
  {
   "cell_type": "code",
   "execution_count": 6,
   "metadata": {},
   "outputs": [],
   "source": [
    "cat_cols = ['prepaid_nacionalidad', 'prepaid_tipo_documento_comprador', 'tariffs_Plan', 'campaign_CAMPAIGNCODE', 'campaign_CREATIVIDAD', 'campaign_CELLCODE',\n",
    "           'campaign_CANAL','campaign_EsRespondedor']\n",
    "numerical_feats = ['prepaid_num_prepago', 'prepaid_num_pospago', 'prepaid_age_in_years', 'prepaid_days_since_fx_1llamada', 'tariffs_MOU', 'tariffs_TOTAL_LLAMADAS', 'tariffs_TOTAL_SMS',  'tariffs_MOU_Week',\n",
    "                 'tariffs_LLAM_Week', 'tariffs_SMS_Week', 'tariffs_MOU_Weekend', 'tariffs_LLAM_Weekend', 'tariffs_SMS_Weekend', 'tariffs_MOU_VF', 'tariffs_LLAM_VF', 'tariffs_SMS_VF', 'tariffs_MOU_Fijo',\n",
    "                 'tariffs_LLAM_Fijo', 'tariffs_SMS_Fijo', 'tariffs_MOU_OOM', 'tariffs_LLAM_OOM', 'tariffs_SMS_OOM', 'tariffs_MOU_Internacional', 'tariffs_LLAM_Internacional', 'tariffs_SMS_Internacional',\n",
    "                 'tariffs_ActualVolume', 'tariffs_Num_accesos',  'tariffs_Num_Cambio_Planes', 'tariffs_LLAM_COMUNIDAD_SMART', 'tariffs_MOU_COMUNIDAD_SMART', 'tariffs_LLAM_SMS_COMUNIDAD_SMART',\n",
    "                 'tariffs_Flag_Uso_Etnica', 'tariffs_cuota_SMART8', 'tariffs_cuota_SMART12', 'tariffs_cuota_SMART16', 'campaign_days_since_DATEID']\n",
    "noninf_feats = ['prepaid_msisdn']\n",
    "\n",
    "feat_cols = numerical_feats # notebook is not still prepared for categoricals.\n",
    "\n",
    "label_col = 'label'"
   ]
  },
  {
   "cell_type": "code",
   "execution_count": 24,
   "metadata": {},
   "outputs": [],
   "source": [
    "def prepare_df(filename):\n",
    "    inittrdf = spark.read.option(\"delimiter\", \"|\").option(\"header\", True).csv(filename)\n",
    "    \n",
    "    cols_to_drop = [col_ for col_ in inittrdf.columns if col_.startswith(\"in_pospago\")]\n",
    "    cols_to_drop += ['prepaid_x_fecha_nacimiento', 'prepaid_partitioned_month', 'prepaid_fx_1llamada']\n",
    "    \n",
    "    inittrdf = inittrdf.drop(*cols_to_drop)\n",
    "    if \"migrated_to_postpaid\" in inittrdf.columns:\n",
    "        inittrdf = inittrdf.withColumnRenamed(\"migrated_to_postpaid\", \"label\")\n",
    "    for col_ in numerical_feats:\n",
    "        inittrdf = inittrdf.withColumn(col_, col(col_).cast(\"float\"))\n",
    "    if label_col in inittrdf.columns:\n",
    "        inittrdf = inittrdf.withColumn(label_col, col(label_col).cast(\"integer\"))\n",
    "    return inittrdf"
   ]
  },
  {
   "cell_type": "markdown",
   "metadata": {},
   "source": [
    "# Read file for training the model"
   ]
  },
  {
   "cell_type": "code",
   "execution_count": null,
   "metadata": {},
   "outputs": [],
   "source": [
    "inittrdf = prepare_df(DP_FILENAME)"
   ]
  },
  {
   "cell_type": "code",
   "execution_count": 8,
   "metadata": {},
   "outputs": [
    {
     "name": "stdout",
     "output_type": "stream",
     "text": [
      "+-------+--------------------+\n",
      "|summary|               label|\n",
      "+-------+--------------------+\n",
      "|  count|             1673170|\n",
      "|   mean|0.004475337234112493|\n",
      "| stddev|  0.0667481179775881|\n",
      "|    min|                   0|\n",
      "|    max|                   1|\n",
      "+-------+--------------------+\n",
      "\n",
      "[Info FbbChurn] Fri Mar  8 13:27:50 2019 Stat description of the target variable printed above\n",
      "+-----+--------+\n",
      "|label|count(1)|\n",
      "+-----+--------+\n",
      "|    1|    7488|\n",
      "|    0| 1665682|\n",
      "+-----+--------+\n",
      "\n",
      "[Info FbbChurn]Fri Mar  8 13:28:13 2019 Count on label column for unbalanced tr set showed above\n",
      "[Info balance_df2] Dataframe has been balanced - Total number of rows is 15114\n",
      "+-----+--------+\n",
      "|label|count(1)|\n",
      "+-----+--------+\n",
      "|    1|    7495|\n",
      "|    0|    7619|\n",
      "+-----+--------+\n",
      "\n",
      "[Info FbbChurn] Fri Mar  8 13:28:49 2019 Count on label column for balanced tr set showed above\n",
      "[Info FbbChurn] Non-informative feat: prepaid_msisdn\n"
     ]
    }
   ],
   "source": [
    "[unbaltrdf, valdf] = inittrdf.randomSplit([0.7, 0.3], 1234)\n",
    "#unbaltrdf.repartition(400)\n",
    "\n",
    "#print \"[Info FbbChurn] \" + time.ctime() + \" Total number of training samples is : \" + str(unbaltrdf.count())\n",
    "\n",
    "unbaltrdf.describe('label').show()\n",
    "\n",
    "print \"[Info FbbChurn] \" + time.ctime() + \" Stat description of the target variable printed above\"\n",
    "\n",
    "# 1.2. Balanced df for training\n",
    "\n",
    "unbaltrdf.groupBy('label').agg(sql_count('*')).show()\n",
    "\n",
    "print \"[Info FbbChurn]\" + time.ctime() + \" Count on label column for unbalanced tr set showed above\"\n",
    "\n",
    "from churn.models.fbb_churn_amdocs.utils_general import balance_df2\n",
    "trdf = balance_df2(unbaltrdf, 'label')\n",
    "\n",
    "trdf.groupBy('label').agg(sql_count('*')).show()\n",
    "\n",
    "print \"[Info FbbChurn] \" + time.ctime() + \" Count on label column for balanced tr set showed above\"\n",
    "\n",
    "# 1.3. Feature selection\n",
    "\n",
    "# allFeats = trdf.columns\n",
    "\n",
    "for f in noninf_feats:\n",
    "    print \"[Info FbbChurn] Non-informative feat: \" + f\n"
   ]
  },
  {
   "cell_type": "markdown",
   "metadata": {},
   "source": [
    "# Model"
   ]
  },
  {
   "cell_type": "code",
   "execution_count": 13,
   "metadata": {},
   "outputs": [
    {
     "name": "stderr",
     "output_type": "stream",
     "text": [
      "20190308-133601 [INFO ] Feat cols = prepaid_num_prepago,prepaid_num_pospago,prepaid_age_in_years,prepaid_days_since_fx_1llamada,tariffs_MOU,tariffs_TOTAL_LLAMADAS,tariffs_TOTAL_SMS,tariffs_MOU_Week,tariffs_LLAM_Week,tariffs_SMS_Week,tariffs_MOU_Weekend,tariffs_LLAM_Weekend,tariffs_SMS_Weekend,tariffs_MOU_VF,tariffs_LLAM_VF,tariffs_SMS_VF,tariffs_MOU_Fijo,tariffs_LLAM_Fijo,tariffs_SMS_Fijo,tariffs_MOU_OOM,tariffs_LLAM_OOM,tariffs_SMS_OOM,tariffs_MOU_Internacional,tariffs_LLAM_Internacional,tariffs_SMS_Internacional,tariffs_ActualVolume,tariffs_Num_accesos,tariffs_Num_Cambio_Planes,tariffs_LLAM_COMUNIDAD_SMART,tariffs_MOU_COMUNIDAD_SMART,tariffs_LLAM_SMS_COMUNIDAD_SMART,tariffs_Flag_Uso_Etnica,tariffs_cuota_SMART8,tariffs_cuota_SMART12,tariffs_cuota_SMART16,campaign_days_since_DATEID\n"
     ]
    },
    {
     "name": "stdout",
     "output_type": "stream",
     "text": [
      "[Info FbbChurn] Imp feat tariffs_MOU_VF: 0.10205106073760442\n",
      "[Info FbbChurn] Imp feat tariffs_LLAM_VF: 0.09950515929900287\n",
      "[Info FbbChurn] Imp feat tariffs_ActualVolume: 0.09219025441452952\n",
      "[Info FbbChurn] Imp feat tariffs_TOTAL_LLAMADAS: 0.08794113613503185\n",
      "[Info FbbChurn] Imp feat tariffs_Num_accesos: 0.08141114719357084\n",
      "[Info FbbChurn] Imp feat tariffs_LLAM_Week: 0.0691205719718031\n",
      "[Info FbbChurn] Imp feat prepaid_days_since_fx_1llamada: 0.058720686435507444\n",
      "[Info FbbChurn] Imp feat prepaid_num_pospago: 0.05366907126490554\n",
      "[Info FbbChurn] Imp feat tariffs_MOU_Week: 0.051041618807041056\n",
      "[Info FbbChurn] Imp feat tariffs_MOU: 0.04871471321766864\n",
      "[Info FbbChurn] Imp feat tariffs_LLAM_OOM: 0.035225720269220696\n",
      "[Info FbbChurn] Imp feat tariffs_MOU_OOM: 0.03290104524926101\n",
      "[Info FbbChurn] Imp feat prepaid_age_in_years: 0.03264339025514904\n",
      "[Info FbbChurn] Imp feat tariffs_MOU_Weekend: 0.030986110059125747\n",
      "[Info FbbChurn] Imp feat tariffs_LLAM_Weekend: 0.024386259759344095\n",
      "[Info FbbChurn] Imp feat tariffs_MOU_Fijo: 0.024324232985471567\n",
      "[Info FbbChurn] Imp feat tariffs_LLAM_Fijo: 0.01895704012724324\n",
      "[Info FbbChurn] Imp feat tariffs_MOU_COMUNIDAD_SMART: 0.015872998788693967\n",
      "[Info FbbChurn] Imp feat tariffs_LLAM_COMUNIDAD_SMART: 0.015529978228915215\n",
      "[Info FbbChurn] Imp feat prepaid_num_prepago: 0.011207712126946351\n",
      "[Info FbbChurn] Imp feat tariffs_cuota_SMART8: 0.0025448884268177824\n",
      "[Info FbbChurn] Imp feat tariffs_TOTAL_SMS: 0.0023212236533960103\n",
      "[Info FbbChurn] Imp feat tariffs_SMS_VF: 0.001954614358536322\n",
      "[Info FbbChurn] Imp feat tariffs_SMS_Week: 0.0014528232909797511\n",
      "[Info FbbChurn] Imp feat tariffs_MOU_Internacional: 0.001244343172776918\n",
      "[Info FbbChurn] Imp feat tariffs_LLAM_Internacional: 0.0009823248786230087\n",
      "[Info FbbChurn] Imp feat tariffs_Flag_Uso_Etnica: 0.0007102226133438911\n",
      "[Info FbbChurn] Imp feat tariffs_LLAM_SMS_COMUNIDAD_SMART: 0.0006021506059466527\n",
      "[Info FbbChurn] Imp feat tariffs_Num_Cambio_Planes: 0.000558964335004889\n",
      "[Info FbbChurn] Imp feat tariffs_SMS_Weekend: 0.0004894043273744257\n",
      "[Info FbbChurn] Imp feat tariffs_SMS_OOM: 0.00041483445799190985\n",
      "[Info FbbChurn] Imp feat campaign_days_since_DATEID: 0.0002219379023948345\n",
      "[Info FbbChurn] Imp feat tariffs_SMS_Internacional: 7.081725495694971e-05\n",
      "[Info FbbChurn] Imp feat tariffs_SMS_Fijo: 3.154339582004847e-05\n",
      "[Info FbbChurn] Imp feat tariffs_cuota_SMART12: 0.0\n",
      "[Info FbbChurn] Imp feat tariffs_cuota_SMART16: 0.0\n"
     ]
    }
   ],
   "source": [
    "\n",
    "logger.info(\"Feat cols = {}\".format(\",\".join(feat_cols)))\n",
    "\n",
    "assembler = VectorAssembler(inputCols = feat_cols, outputCol = \"features\")\n",
    "\n",
    "classifier = RandomForestClassifier(featuresCol=\"features\", \\\n",
    "                                    labelCol=\"label\", \\\n",
    "                                    maxDepth=15, \\\n",
    "                                    maxBins=32, \\\n",
    "                                    minInstancesPerNode=50, \\\n",
    "                                    impurity=\"gini\", \\\n",
    "                                    featureSubsetStrategy=\"sqrt\", \\\n",
    "                                    subsamplingRate=0.7, \\\n",
    "                                    numTrees=600, \\\n",
    "                                    seed = 1234)\n",
    "\n",
    "pipeline = Pipeline(stages= [assembler, classifier])\n",
    "\n",
    "model = pipeline.fit(trdf)\n",
    "\n",
    "from churn.models.fbb_churn_amdocs.utils_model import getOrderedRelevantFeats\n",
    "feat_importance = getOrderedRelevantFeats(model, feat_cols, 'f', 'rf')\n",
    "\n",
    "for fimp in feat_importance:\n",
    "    print \"[Info FbbChurn] Imp feat \" + str(fimp[0]) + \": \" +  str(fimp[1])\n",
    "\n",
    "# EVALUATION\n",
    "# TODO: to include model calibration\n",
    "\n",
    "# Calibration\n",
    "#calibmodel = get_calibration_function2(spark, model, valdf, 'label', 10)\n",
    "#getScore = udf(lambda prob: float(prob[1]), DoubleType())\n",
    "\n",
    "getScore = udf(lambda prob: float(prob[1]), DoubleType())\n",
    "\n",
    "\n",
    "# Train\n",
    "tr_preds_df = model.transform(trdf).withColumn(\"model_score\", getScore(col(\"probability\")).cast(DoubleType()))\n",
    "\n",
    "# Train evaluation\n",
    "trPredictionAndLabels = tr_preds_df.select(['model_score', 'label']).rdd.map(lambda r: (r['model_score'], float(r['label'])))\n",
    "trmetrics = BinaryClassificationMetrics(trPredictionAndLabels)\n",
    "\n",
    "\n",
    "\n"
   ]
  },
  {
   "cell_type": "markdown",
   "metadata": {},
   "source": [
    "# Evaluation"
   ]
  },
  {
   "cell_type": "code",
   "execution_count": 14,
   "metadata": {},
   "outputs": [],
   "source": [
    "# Test eval\n",
    "\n",
    "tt_preds_df = model.transform(valdf).withColumn(\"model_score\", getScore(col(\"probability\")).cast(DoubleType()))\n",
    "\n",
    "# Evaluation\n",
    "ttPredictionAndLabels = tt_preds_df.select(['model_score', 'label']).rdd.map(lambda r: (r['model_score'], float(r['label'])))\n",
    "ttmetrics = BinaryClassificationMetrics(ttPredictionAndLabels)"
   ]
  },
  {
   "cell_type": "code",
   "execution_count": 15,
   "metadata": {},
   "outputs": [
    {
     "name": "stdout",
     "output_type": "stream",
     "text": [
      "[Info FbbChurn] Fri Mar  8 13:41:07 2019 Area under ROC(tr) = 0.728203606361 - Area under ROC(tt) = 0.723991746899\n",
      "[Info get_lift] Computing lift\n",
      "[Info get_lift] Computing lift - Ref Prevalence for class 1: 0.00447615441895\n",
      "[Info get_deciles] Computing deciles\n",
      "40.0: 4.28138768809\n",
      "39.0: 3.27718823899\n",
      "38.0: 2.46750596676\n",
      "37.0: 2.24553774222\n",
      "36.0: 1.89499955329\n",
      "35.0: 1.89082355179\n",
      "34.0: 1.74516363018\n",
      "33.0: 1.74399730626\n",
      "32.0: 1.64652394674\n",
      "31.0: 1.40506952787\n",
      "30.0: 1.26168213097\n",
      "29.0: 1.21230829029\n",
      "28.0: 1.24383609087\n",
      "27.0: 0.964488762485\n",
      "26.0: 1.37683260006\n",
      "25.0: 0.943437731974\n",
      "24.0: 0.817339225359\n",
      "23.0: 0.745889897994\n",
      "22.0: 0.835797481476\n",
      "21.0: 0.719104899607\n",
      "20.0: 0.70407335297\n",
      "19.0: 0.611792026284\n",
      "18.0: 0.450923470921\n",
      "17.0: 0.522238231598\n",
      "16.0: 0.566660887587\n",
      "15.0: 0.454782363487\n",
      "14.0: 0.533967466308\n",
      "13.0: 0.486451685686\n",
      "12.0: 0.442288134091\n",
      "11.0: 0.402420138351\n",
      "10.0: 0.455956572228\n",
      "9.0: 0.350355591229\n",
      "8.0: 0.350814286247\n",
      "7.0: 0.321859211523\n",
      "6.0: 0.263435003751\n",
      "5.0: 0.263568941211\n",
      "4.0: 0.344648459398\n",
      "3.0: 0.265706535361\n",
      "2.0: 0.0591553394406\n",
      "1.0: 0.136291198727\n"
     ]
    }
   ],
   "source": [
    "print(\"[Info FbbChurn] \" + time.ctime() + \" Area under ROC(tr) = \" + str\n",
    "    (trmetrics.areaUnderROC) + \" - Area under ROC(tt) = \" + str(ttmetrics.areaUnderROC))\n",
    "\n",
    "\n",
    "from churn.models.fbb_churn_amdocs.utils_model import get_lift\n",
    "lift = get_lift(tt_preds_df, 'model_score', 'label', 40)\n",
    "\n",
    "for d ,l in lift:\n",
    "    print str(d) + \": \" + str(l)"
   ]
  },
  {
   "cell_type": "markdown",
   "metadata": {},
   "source": [
    "# EDIT: Predict section"
   ]
  },
  {
   "cell_type": "code",
   "execution_count": 25,
   "metadata": {},
   "outputs": [
    {
     "name": "stdout",
     "output_type": "stream",
     "text": [
      "+--------------+--------------------+-------------------+-------------------+--------------------+--------------------------------+------------------------------+-----------+----------------------+-----------------+----------------+-----------------+----------------+-------------------+--------------------+-------------------+--------------+---------------+--------------+----------------+-----------------+----------------+---------------+----------------+---------------+-------------------------+--------------------------+-------------------------+--------------------+-------------------+------------+-------------------------+----------------------------+---------------------------+--------------------------------+-----------------------+--------------------+---------------------+---------------------+-----+---------------------+--------------------+-----------------+--------------+----------------------+--------------------------+--------------------+--------------------+--------------------+----------+-------------------+\n",
      "|prepaid_msisdn|prepaid_nacionalidad|prepaid_num_prepago|prepaid_num_pospago|prepaid_age_in_years|prepaid_tipo_documento_comprador|prepaid_days_since_fx_1llamada|tariffs_MOU|tariffs_TOTAL_LLAMADAS|tariffs_TOTAL_SMS|tariffs_MOU_Week|tariffs_LLAM_Week|tariffs_SMS_Week|tariffs_MOU_Weekend|tariffs_LLAM_Weekend|tariffs_SMS_Weekend|tariffs_MOU_VF|tariffs_LLAM_VF|tariffs_SMS_VF|tariffs_MOU_Fijo|tariffs_LLAM_Fijo|tariffs_SMS_Fijo|tariffs_MOU_OOM|tariffs_LLAM_OOM|tariffs_SMS_OOM|tariffs_MOU_Internacional|tariffs_LLAM_Internacional|tariffs_SMS_Internacional|tariffs_ActualVolume|tariffs_Num_accesos|tariffs_Plan|tariffs_Num_Cambio_Planes|tariffs_LLAM_COMUNIDAD_SMART|tariffs_MOU_COMUNIDAD_SMART|tariffs_LLAM_SMS_COMUNIDAD_SMART|tariffs_Flag_Uso_Etnica|tariffs_cuota_SMART8|tariffs_cuota_SMART12|tariffs_cuota_SMART16|label|campaign_CAMPAIGNCODE|campaign_CREATIVIDAD|campaign_CELLCODE|campaign_CANAL|campaign_EsRespondedor|campaign_days_since_DATEID|            features|       rawPrediction|         probability|prediction|        model_score|\n",
      "+--------------+--------------------+-------------------+-------------------+--------------------+--------------------------------+------------------------------+-----------+----------------------+-----------------+----------------+-----------------+----------------+-------------------+--------------------+-------------------+--------------+---------------+--------------+----------------+-----------------+----------------+---------------+----------------+---------------+-------------------------+--------------------------+-------------------------+--------------------+-------------------+------------+-------------------------+----------------------------+---------------------------+--------------------------------+-----------------------+--------------------+---------------------+---------------------+-----+---------------------+--------------------+-----------------+--------------+----------------------+--------------------------+--------------------+--------------------+--------------------+----------+-------------------+\n",
      "|     666566534|           MARRUECOS|                1.0|                0.0|                26.0|                       PASAPORTE|                         380.0|        0.0|                   0.0|              0.0|             0.0|              0.0|             0.0|                0.0|                 0.0|                0.0|           0.0|            0.0|           0.0|             0.0|              0.0|             0.0|            0.0|             0.0|            0.0|                      0.0|                       0.0|                      0.0|                 0.0|                0.0|       PPIB7|                      0.0|                         0.0|                        0.0|                             0.0|                    0.0|                 0.0|                  0.0|                  0.0|    0|              UNKNOWN|             UNKNOWN|          UNKNOWN|       UNKNOWN|                   0.0|                      -1.0|(36,[0,2,3,35],[1...|[447.738212517021...|[0.74623035419503...|       0.0|0.25376964580496375|\n",
      "|     649635320|             BOLIVIA|                1.0|                0.0|                35.0|                       PASAPORTE|                         527.0|        0.0|                   0.0|              0.0|             0.0|              0.0|             0.0|                0.0|                 0.0|                0.0|           0.0|            0.0|           0.0|             0.0|              0.0|             0.0|            0.0|             0.0|            0.0|                      0.0|                       0.0|                      0.0|                 0.0|                0.0|       PPIB7|                      0.0|                         0.0|                        0.0|                             0.0|                    0.0|                 0.0|                  0.0|                  0.0|    0|              UNKNOWN|             UNKNOWN|          UNKNOWN|       UNKNOWN|                   0.0|                      -1.0|(36,[0,2,3,35],[1...|[445.056235429960...|[0.74176039238326...|       0.0| 0.2582396076167317|\n",
      "|     671720562|              ESPAÑA|                1.0|                0.0|                73.0|                          N.I.F.|                        3523.0|     5.6333|                   2.0|              0.0|          5.6333|              2.0|             0.0|                0.0|                 0.0|                0.0|           0.0|            0.0|           0.0|             0.4|              1.0|             0.0|         5.2333|             1.0|            0.0|                      0.0|                       0.0|                      0.0|                 0.0|                0.0|       PPXS8|                      0.0|                         0.0|                        0.0|                             0.0|                    0.0|                 0.0|                  0.0|                  0.0|    0|              UNKNOWN|             UNKNOWN|          UNKNOWN|       UNKNOWN|                   0.0|                      -1.0|(36,[0,2,3,4,5,7,...|[451.875878805703...|[0.75312646467617...|       0.0|  0.246873535323828|\n",
      "|     654444027|              ESPAÑA|                1.0|                1.0|                78.0|                          N.I.F.|                        3137.0|        0.0|                   0.0|              0.0|             0.0|              0.0|             0.0|                0.0|                 0.0|                0.0|           0.0|            0.0|           0.0|             0.0|              0.0|             0.0|            0.0|             0.0|            0.0|                      0.0|                       0.0|                      0.0|                 0.0|                0.0|       PPREX|                      0.0|                         0.0|                        0.0|                             0.0|                    0.0|                 0.0|                  0.0|                  0.0|    0|              UNKNOWN|             UNKNOWN|          UNKNOWN|       UNKNOWN|                   0.0|                      -1.0|(36,[0,1,2,3,35],...|[363.252681121460...|[0.60542113520243...|       0.0|0.39457886479756465|\n",
      "|     632164780|              ESPAÑA|                1.0|                2.0|                49.0|                          N.I.F.|                         144.0|     0.1333|                   2.0|              0.0|          0.1333|              2.0|             0.0|                0.0|                 0.0|                0.0|        0.1333|            2.0|           0.0|             0.0|              0.0|             0.0|            0.0|             0.0|            0.0|                      0.0|                       0.0|                      0.0|                 0.0|                0.0|       PPFCL|                      0.0|                         0.0|                        0.0|                             0.0|                    0.0|                 0.0|                  0.0|                  0.0|    1|              UNKNOWN|             UNKNOWN|          UNKNOWN|       UNKNOWN|                   0.0|                      -1.0|(36,[0,1,2,3,4,5,...|[234.705425537646...|[0.39117570922941...|       1.0| 0.6088242907705896|\n",
      "|     615203890|              ESPAÑA|                1.0|                0.0|                25.0|                          N.I.F.|                        1187.0|     1.7167|                   6.0|              1.0|          1.7167|              6.0|             1.0|                0.0|                 0.0|                0.0|        1.1667|            5.0|           1.0|             0.0|              0.0|             0.0|           0.55|             1.0|            0.0|                      0.0|                       0.0|                      0.0|                 0.0|                0.0|       PPIB7|                      0.0|                         0.0|                        0.0|                             0.0|                    0.0|                 0.0|                  0.0|                  0.0|    1|              UNKNOWN|             UNKNOWN|          UNKNOWN|       UNKNOWN|                   0.0|                      -1.0|(36,[0,2,3,4,5,6,...|[298.791436844036...|[0.49798572807339...|       1.0|  0.502014271926606|\n",
      "|     603197479|              ESPAÑA|                2.0|                3.0|                47.0|                          N.I.F.|                        1465.0|    16.2833|                  27.0|              0.0|         16.2833|             27.0|             0.0|                0.0|                 0.0|                0.0|        9.0667|            4.0|           0.0|          1.4667|              1.0|             0.0|           5.75|            22.0|            0.0|                      0.0|                       0.0|                      0.0|        1.22946227E9|               31.0|       PPIB4|                      0.0|                         0.0|                        0.0|                             0.0|                    0.0|            9.999924|                  0.0|                  0.0|    1|              UNKNOWN|             UNKNOWN|          UNKNOWN|       UNKNOWN|                   0.0|                      -1.0|(36,[0,1,2,3,4,5,...|[197.280028464416...|[0.32880004744069...|       1.0| 0.6711999525593055|\n",
      "|     678023526|              ESPAÑA|                1.0|                3.0|                46.0|                          N.I.F.|                        1320.0|      13.65|                   4.0|              0.0|            13.3|              3.0|             0.0|               0.35|                 1.0|                0.0|        8.3333|            1.0|           0.0|          0.5167|              1.0|             0.0|            4.8|             2.0|            0.0|                      0.0|                       0.0|                      0.0|                 0.0|                0.0|       PPFCL|                      0.0|                         0.0|                        0.0|                             0.0|                    0.0|                 0.0|                  0.0|                  0.0|    1|              UNKNOWN|             UNKNOWN|          UNKNOWN|       UNKNOWN|                   0.0|                      -1.0|(36,[0,1,2,3,4,5,...|[285.381941321897...|[0.47563656886982...|       1.0| 0.5243634311301706|\n",
      "|     622552386|              ESPAÑA|                1.0|                0.0|                37.0|                          N.I.F.|                          24.0|        0.0|                   0.0|              0.0|             0.0|              0.0|             0.0|                0.0|                 0.0|                0.0|           0.0|            0.0|           0.0|             0.0|              0.0|             0.0|            0.0|             0.0|            0.0|                      0.0|                       0.0|                      0.0|                 0.0|                0.0|     UNKNOWN|                      0.0|                         0.0|                        0.0|                             0.0|                    0.0|                 0.0|                  0.0|                  0.0|    0|              UNKNOWN|             UNKNOWN|          UNKNOWN|       UNKNOWN|                   0.0|                      -1.0|(36,[0,2,3,35],[1...|[414.306303585850...|[0.69051050597641...|       0.0|0.30948949402358256|\n",
      "|     689680829|           MARRUECOS|                1.0|                0.0|                48.0|                       PASAPORTE|                        3330.0|     0.9333|                   1.0|              1.0|          0.9333|              1.0|             0.0|                0.0|                 0.0|                1.0|           0.0|            0.0|           1.0|             0.0|              0.0|             0.0|         0.9333|             1.0|            0.0|                      0.0|                       0.0|                      0.0|        1.20693414E9|               22.0|       PPIB7|                      0.0|                         0.0|                        0.0|                             0.0|                    0.0|                 0.0|                  0.0|                  0.0|    1|              UNKNOWN|             UNKNOWN|          UNKNOWN|       UNKNOWN|                   0.0|                      -1.0|(36,[0,2,3,4,5,6,...|[306.434929700510...|[0.51072488283418...|       0.0| 0.4892751171658162|\n",
      "|     696186867|           MARRUECOS|                1.0|                0.0|                44.0|                          N.I.E.|                         506.0|    23.6667|                  38.0|              0.0|            18.7|             34.0|             0.0|             4.9667|                 4.0|                0.0|       15.0833|           22.0|           0.0|          6.9333|              9.0|             0.0|           1.65|             7.0|            0.0|                      0.0|                       0.0|                      0.0|        3.15691802E9|               29.0|       PPIB9|                      0.0|                        13.0|                     2.2667|                             0.0|                    0.0|                 0.0|                  0.0|                  0.0|    1|              UNKNOWN|             UNKNOWN|          UNKNOWN|       UNKNOWN|                   0.0|                      -1.0|(36,[0,2,3,4,5,7,...|[147.823975886519...|[0.24637329314419...|       1.0| 0.7536267068558015|\n",
      "|     630394482|              ESPAÑA|                1.0|                0.0|                77.0|                          N.I.F.|                        3319.0|       6.15|                   5.0|              0.0|            6.15|              5.0|             0.0|                0.0|                 0.0|                0.0|        0.8667|            1.0|           0.0|          5.2833|              4.0|             0.0|            0.0|             0.0|            0.0|                      0.0|                       0.0|                      0.0|                 0.0|                0.0|       PPFCL|                      0.0|                         0.0|                        0.0|                             0.0|                    0.0|                 0.0|                  0.0|                  0.0|    1|              UNKNOWN|             UNKNOWN|          UNKNOWN|       UNKNOWN|                   0.0|                      -1.0|(36,[0,2,3,4,5,7,...|[349.059637549675...|[0.58176606258279...|       0.0|0.41823393741720755|\n",
      "|     624622952|              ESPAÑA|                1.0|                0.0|                50.0|                          N.I.F.|                         444.0|   116.9167|                  65.0|              0.0|        100.5667|             56.0|             0.0|              16.35|                 9.0|                0.0|       75.2833|           39.0|           0.0|         12.3667|             13.0|             0.0|        29.2667|            13.0|            0.0|                      0.0|                       0.0|                      0.0|         3.3029271E9|               29.0|       PPIB8|                      0.0|                        39.0|                    75.2833|                             0.0|                    0.0|                 0.0|                  0.0|                  0.0|    1|              UNKNOWN|             UNKNOWN|          UNKNOWN|       UNKNOWN|                   0.0|                      -1.0|(36,[0,2,3,4,5,7,...|[129.196402172392...|[0.21532733695398...|       1.0| 0.7846726630460129|\n",
      "|     679448653|              ESPAÑA|                1.0|                0.0|                58.0|                          N.I.F.|                        2508.0|     0.0333|                   1.0|              0.0|             0.0|              0.0|             0.0|             0.0333|                 1.0|                0.0|        0.0333|            1.0|           0.0|             0.0|              0.0|             0.0|            0.0|             0.0|            0.0|                      0.0|                       0.0|                      0.0|           7199976.0|                2.0|       PPFCL|                      0.0|                         0.0|                        0.0|                             0.0|                    0.0|                 0.0|                  0.0|                  0.0|    0|              UNKNOWN|             UNKNOWN|          UNKNOWN|       UNKNOWN|                   0.0|                      -1.0|(36,[0,2,3,4,5,10...|[289.671439782575...|[0.48278573297095...|       1.0|  0.517214267029041|\n",
      "|     630502940|              ESPAÑA|                3.0|                0.0|                34.0|                          N.I.F.|                         314.0|   273.4833|                 109.0|             21.0|           172.6|             65.0|            20.0|           100.8833|                44.0|                1.0|         261.9|           91.0|          21.0|          4.2167|              5.0|             0.0|         7.3667|            13.0|            0.0|                      0.0|                       0.0|                      0.0|        2.21108198E9|               30.0|       PPIB7|                      0.0|                        90.0|                   261.5167|                            21.0|                    0.0|                 0.0|                  0.0|                  0.0|    0|              UNKNOWN|             UNKNOWN|          UNKNOWN|       UNKNOWN|                   0.0|                      -1.0|[3.0,0.0,34.0,314...|[206.558202791440...|[0.34426367131906...|       1.0| 0.6557363286809326|\n",
      "|     640722301|              BRASIL|                1.0|                0.0|                -1.0|                       PASAPORTE|                           7.0|        0.0|                   0.0|              0.0|             0.0|              0.0|             0.0|                0.0|                 0.0|                0.0|           0.0|            0.0|           0.0|             0.0|              0.0|             0.0|            0.0|             0.0|            0.0|                      0.0|                       0.0|                      0.0|                 0.0|                0.0|     UNKNOWN|                      0.0|                         0.0|                        0.0|                             0.0|                    0.0|                 0.0|                  0.0|                  0.0|    0|              UNKNOWN|             UNKNOWN|          UNKNOWN|       UNKNOWN|                   0.0|                      -1.0|(36,[0,2,3,35],[1...|[401.393928527620...|[0.66898988087936...|       0.0|0.33101011912063283|\n",
      "|     671163308|               Other|                1.0|                0.0|                68.0|                          N.I.F.|                        3869.0|      110.9|                  31.0|              0.0|          100.55|             25.0|             0.0|              10.35|                 6.0|                0.0|         88.15|           21.0|           0.0|             0.0|              0.0|             0.0|          22.75|            10.0|            0.0|                      0.0|                       0.0|                      0.0|                 0.0|                0.0|       PPFCL|                      0.0|                         0.0|                        0.0|                             0.0|                    0.0|                 0.0|                  0.0|                  0.0|    1|              UNKNOWN|             UNKNOWN|          UNKNOWN|       UNKNOWN|                   0.0|                      -1.0|(36,[0,2,3,4,5,7,...|[226.119366806977...|[0.37686561134496...|       1.0| 0.6231343886550385|\n",
      "|     689788249|              ESPAÑA|                2.0|                0.0|                -1.0|                          N.I.F.|                         133.0|    32.8833|                  83.0|              0.0|         31.7167|             73.0|             0.0|             1.1667|                10.0|                0.0|       32.8833|           83.0|           0.0|             0.0|              0.0|             0.0|            0.0|             0.0|            0.0|                      0.0|                       0.0|                      0.0|         8.0699608E7|               22.0|       PPIB7|                      0.0|                        83.0|                    32.8833|                             0.0|                    0.0|                 0.0|                  0.0|                  0.0|    1|              UNKNOWN|             UNKNOWN|          UNKNOWN|       UNKNOWN|                   0.0|                      -1.0|(36,[0,2,3,4,5,7,...|[271.188318052185...|[0.45198053008697...|       1.0| 0.5480194699130244|\n",
      "|     649534301|              ESPAÑA|                4.0|                0.0|                46.0|                          N.I.F.|                         196.0|        0.0|                   0.0|              0.0|             0.0|              0.0|             0.0|                0.0|                 0.0|                0.0|           0.0|            0.0|           0.0|             0.0|              0.0|             0.0|            0.0|             0.0|            0.0|                      0.0|                       0.0|                      0.0|                 0.0|                0.0|       PPFCL|                      0.0|                         0.0|                        0.0|                             0.0|                    0.0|                 0.0|                  0.0|                  0.0|    1|              UNKNOWN|             UNKNOWN|          UNKNOWN|       UNKNOWN|                   0.0|                      -1.0|(36,[0,2,3,35],[4...|[463.826221677123...|[0.77304370279520...|       0.0| 0.2269562972047942|\n",
      "|     619497895|           ARGENTINA|                5.0|                0.0|                43.0|                       PASAPORTE|                          16.0|        0.0|                   0.0|              0.0|             0.0|              0.0|             0.0|                0.0|                 0.0|                0.0|           0.0|            0.0|           0.0|             0.0|              0.0|             0.0|            0.0|             0.0|            0.0|                      0.0|                       0.0|                      0.0|                 0.0|                0.0|       PPIB7|                      0.0|                         0.0|                        0.0|                             0.0|                    0.0|                 0.0|                  0.0|                  0.0|    0|              UNKNOWN|             UNKNOWN|          UNKNOWN|       UNKNOWN|                   0.0|                      -1.0|(36,[0,2,3,35],[5...|[410.728022190754...|[0.68454670365125...|       0.0| 0.3154532963487424|\n",
      "+--------------+--------------------+-------------------+-------------------+--------------------+--------------------------------+------------------------------+-----------+----------------------+-----------------+----------------+-----------------+----------------+-------------------+--------------------+-------------------+--------------+---------------+--------------+----------------+-----------------+----------------+---------------+----------------+---------------+-------------------------+--------------------------+-------------------------+--------------------+-------------------+------------+-------------------------+----------------------------+---------------------------+--------------------------------+-----------------------+--------------------+---------------------+---------------------+-----+---------------------+--------------------+-----------------+--------------+----------------------+--------------------------+--------------------+--------------------+--------------------+----------+-------------------+\n",
      "only showing top 20 rows\n",
      "\n"
     ]
    }
   ],
   "source": [
    "predict_yyyymm = \"201901\"\n",
    "FILE_FOR_PREDICT = '/user/csanc109/projects/pre2post/data/unlabeled/df_all_{0}_{0}_M1_classical_complete'.format(predict_yyyymm)\n",
    "\n",
    "df_pred = prepare_df(FILE_FOR_PREDICT)\n",
    "pr_preds_df = model.transform(trdf).withColumn(\"model_score\", getScore(col(\"probability\")).cast(DoubleType()))\n"
   ]
  },
  {
   "cell_type": "code",
   "execution_count": null,
   "metadata": {},
   "outputs": [],
   "source": [
    "# Preparing the dataframe for delivery"
   ]
  },
  {
   "cell_type": "code",
   "execution_count": 51,
   "metadata": {},
   "outputs": [
    {
     "data": {
      "text/plain": [
       "0.838063546156047"
      ]
     },
     "execution_count": 51,
     "metadata": {},
     "output_type": "execute_result"
    }
   ],
   "source": [
    "pr_preds_df = pr_preds_df.withColumn(\"prepaid_msisdn\", col(\"prepaid_msisdn\").cast(\"string\"))\n",
    "df_scored_hidden = pr_preds_df.select('prepaid_msisdn', 'model_score').toPandas()\n",
    "df_scored_hidden[\"prepaid_msisdn\"] = df_scored_hidden[\"prepaid_msisdn\"].apply(lambda ll: str(ll))\n",
    "df_scored_hidden.rename(columns={\"prepaid_msisdn\" : \"msisdn_hidden\", \"model_score\" : \"score\"}, inplace=True)\n",
    "df_scored_hidden[\"score\"].max()"
   ]
  },
  {
   "cell_type": "code",
   "execution_count": null,
   "metadata": {},
   "outputs": [],
   "source": [
    "# Checking scores"
   ]
  },
  {
   "cell_type": "code",
   "execution_count": 47,
   "metadata": {},
   "outputs": [
    {
     "name": "stderr",
     "output_type": "stream",
     "text": [
      "20190308-135917 [DEBUG] backend module://ipykernel.pylab.backend_inline version unknown\n"
     ]
    },
    {
     "name": "stdout",
     "output_type": "stream",
     "text": [
      "The autoreload extension is already loaded. To reload it, use:\n",
      "  %reload_ext autoreload\n"
     ]
    },
    {
     "data": {
      "image/png": "[encoded data removed]",
      "text/plain": [
       "<Figure size 432x288 with 1 Axes>"
      ]
     },
     "metadata": {},
     "output_type": "display_data"
    }
   ],
   "source": [
    "%load_ext autoreload\n",
    "%autoreload 2\n",
    "%matplotlib inline  \n",
    "\n",
    "plt.figure()\n",
    "n, bins, patches = plt.hist(df_scored_hidden[\"score\"], bins=50)\n",
    "plt.xlabel('Model Score')\n",
    "plt.ylabel('Number of msisdns')\n",
    "#plt.title(filename_pred)\n",
    "plt.grid(True)\n",
    "# #plt.show()"
   ]
  },
  {
   "cell_type": "markdown",
   "metadata": {},
   "source": [
    "## Prepare delivery"
   ]
  },
  {
   "cell_type": "markdown",
   "metadata": {},
   "source": [
    "Predictions are stored in a table, whose name is stored in variable 'name_table_anonymized'"
   ]
  },
  {
   "cell_type": "markdown",
   "metadata": {},
   "source": [
    "### Save predictions in a table"
   ]
  },
  {
   "cell_type": "code",
   "execution_count": 55,
   "metadata": {},
   "outputs": [],
   "source": [
    "PROJECT_NAME = \"pre2post\"\n",
    "CAMPAIGN_DATE = \"201903\""
   ]
  },
  {
   "cell_type": "code",
   "execution_count": 53,
   "metadata": {},
   "outputs": [
    {
     "name": "stdout",
     "output_type": "stream",
     "text": [
      "('tests_es.csanc109_tmp_pre2post_201903_notprepared_kkkk', 'tests_es.csanc109_tmp_pre2post_201903_prepared_kkkkk', 'pre2post_delivery_201903_20190308_140236')\n",
      "Created table tests_es.csanc109_tmp_pre2post_201903_notprepared_kkkk\n",
      "df_predictions saved as table 'tests_es.csanc109_tmp_pre2post_201903_notprepared_kkkk'\n"
     ]
    }
   ],
   "source": [
    "project_name = PROJECT_NAME\n",
    "campaign_date_label = CAMPAIGN_DATE\n",
    "df_predictions = df_scored_hidden\n",
    "from pykhaos.utils.constants import WHOAMI\n",
    "from Pre2post_bdp.model.delivery.prepare_delivery import save_pred_as_table, desanonimizar, deliver_table\n",
    "\n",
    "dir_download = os.path.join(os.environ.get('BDA_USER_HOME', ''), \"data\", \"download\", project_name, \"\")\n",
    "dir_delivery = os.path.join(os.environ.get('BDA_USER_HOME', ''), \"data\", \"delivery\", project_name, \"\")\n",
    "name_table_anonymized = 'tests_es.{}_tmp_{}_{}_notprepared'.format(WHOAMI, project_name, campaign_date_label )\n",
    "name_table_deanonymized = 'tests_es.{}_tmp_{}_{}_prepared'.format(WHOAMI, project_name, campaign_date_label )\n",
    "name_file_delivery = '{}_delivery_{}_{}'.format(project_name, campaign_date_label ,\n",
    "                                                dt.datetime.now().strftime(\"%Y%m%d_%H%M%S\"))\n",
    "\n",
    "print(name_table_anonymized,name_table_deanonymized,name_file_delivery)\n",
    "save_pred_as_table(spark, df_predictions, name_table_anonymized)\n",
    "print(\"df_predictions saved as table '{}'\".format(name_table_anonymized))\n"
   ]
  },
  {
   "cell_type": "markdown",
   "metadata": {},
   "source": [
    "### Deanonymized table"
   ]
  },
  {
   "cell_type": "markdown",
   "metadata": {},
   "source": [
    "Take table created in previous step and deanonymize the msisdn"
   ]
  },
  {
   "cell_type": "code",
   "execution_count": 66,
   "metadata": {},
   "outputs": [
    {
     "name": "stdout",
     "output_type": "stream",
     "text": [
      "Starting process for desanonimizar....\n"
     ]
    },
    {
     "ename": "KeyboardInterrupt",
     "evalue": "",
     "output_type": "error",
     "traceback": [
      "\u001b[0;31m---------------------------------------------------------------------------\u001b[0m",
      "\u001b[0;31mKeyboardInterrupt\u001b[0m                         Traceback (most recent call last)",
      "\u001b[0;32m<ipython-input-66-b26ea15c3352>\u001b[0m in \u001b[0;36m<module>\u001b[0;34m()\u001b[0m\n\u001b[1;32m      4\u001b[0m \u001b[0;31m# !!!!!!!  If \"desanonimizar\" does not end, run the command line by hand in a Terminal. Remember to update the line with the proper table names.\u001b[0m\u001b[0;34m\u001b[0m\u001b[0;34m\u001b[0m\u001b[0m\n\u001b[1;32m      5\u001b[0m \u001b[0mspark\u001b[0m\u001b[0;34m.\u001b[0m\u001b[0msql\u001b[0m\u001b[0;34m(\u001b[0m\u001b[0;34m\"refresh table {}\"\u001b[0m\u001b[0;34m.\u001b[0m\u001b[0mformat\u001b[0m\u001b[0;34m(\u001b[0m\u001b[0mname_table_anonymized\u001b[0m\u001b[0;34m)\u001b[0m\u001b[0;34m)\u001b[0m\u001b[0;34m\u001b[0m\u001b[0m\n\u001b[0;32m----> 6\u001b[0;31m \u001b[0mdesanonimizar\u001b[0m\u001b[0;34m(\u001b[0m\u001b[0mname_table_anonymized\u001b[0m\u001b[0;34m,\u001b[0m\u001b[0mname_table_deanonymized\u001b[0m\u001b[0;34m)\u001b[0m\u001b[0;34m\u001b[0m\u001b[0m\n\u001b[0m",
      "\u001b[0;32m/var/SP/data/home/csanc109/src/devel/use-cases/Pre2post_bdp/model/delivery/prepare_delivery.pyc\u001b[0m in \u001b[0;36mdesanonimizar\u001b[0;34m(name_table_anonymized, name_table_deanonymized)\u001b[0m\n\u001b[1;32m     60\u001b[0m \u001b[0;34m\u001b[0m\u001b[0m\n\u001b[1;32m     61\u001b[0m \u001b[0;34m\u001b[0m\u001b[0m\n\u001b[0;32m---> 62\u001b[0;31m     \u001b[0;32mprint\u001b[0m\u001b[0;34m(\u001b[0m\u001b[0mp\u001b[0m\u001b[0;34m.\u001b[0m\u001b[0mstdout\u001b[0m\u001b[0;34m.\u001b[0m\u001b[0mreadline\u001b[0m\u001b[0;34m(\u001b[0m\u001b[0;34m)\u001b[0m\u001b[0;34m)\u001b[0m\u001b[0;34m\u001b[0m\u001b[0m\n\u001b[0m\u001b[1;32m     63\u001b[0m     \u001b[0mtime\u001b[0m\u001b[0;34m.\u001b[0m\u001b[0msleep\u001b[0m\u001b[0;34m(\u001b[0m\u001b[0;36m5\u001b[0m\u001b[0;34m)\u001b[0m \u001b[0;31m# wait until ravel is initialized\u001b[0m\u001b[0;34m\u001b[0m\u001b[0m\n\u001b[1;32m     64\u001b[0m \u001b[0;34m\u001b[0m\u001b[0m\n",
      "\u001b[0;31mKeyboardInterrupt\u001b[0m: "
     ]
    }
   ],
   "source": [
    "from Pre2post_bdp.model.delivery.prepare_delivery import save_pred_as_table, desanonimizar, deliver_table\n",
    "\n",
    "# sh /var/SP/data/home/csanc109/src/desanonimizar_jsotovi2/desanonimizar_csanc109.sh --fields msisdn=DE_MSISDN --overwrite tests_es.csanc109_tmp_pre2post_201902_notprepared tests_es.csanc109_tmp_pre2post_201902_prepared\n",
    "# !!!!!!!  If \"desanonimizar\" does not end, run the command line by hand in a Terminal. Remember to update the line with the proper table names.\n",
    "spark.sql(\"refresh table {}\".format(name_table_anonymized))\n",
    "desanonimizar(name_table_anonymized,name_table_deanonymized)"
   ]
  },
  {
   "cell_type": "markdown",
   "metadata": {},
   "source": [
    "### Create csv"
   ]
  },
  {
   "cell_type": "code",
   "execution_count": 62,
   "metadata": {},
   "outputs": [
    {
     "ename": "AnalysisException",
     "evalue": "u\"Table or view 'csanc109_tmp_pre2post_201903_prepared_kkkkk' not found in database 'tests_es';\"",
     "output_type": "error",
     "traceback": [
      "\u001b[0;31m---------------------------------------------------------------------------\u001b[0m",
      "\u001b[0;31mAnalysisException\u001b[0m                         Traceback (most recent call last)",
      "\u001b[0;32m<ipython-input-62-65a2d46113a4>\u001b[0m in \u001b[0;36m<module>\u001b[0;34m()\u001b[0m\n\u001b[1;32m      1\u001b[0m \u001b[0;31m# Generate the delivery file (the csv we have to sent to Everis)\u001b[0m\u001b[0;34m\u001b[0m\u001b[0;34m\u001b[0m\u001b[0m\n\u001b[0;32m----> 2\u001b[0;31m \u001b[0mdeliver_table\u001b[0m\u001b[0;34m(\u001b[0m\u001b[0mspark\u001b[0m\u001b[0;34m,\u001b[0m \u001b[0mname_table_deanonymized\u001b[0m\u001b[0;34m,\u001b[0m\u001b[0mname_file_delivery\u001b[0m\u001b[0;34m,\u001b[0m\u001b[0mdir_download\u001b[0m\u001b[0;34m,\u001b[0m\u001b[0mdir_delivery\u001b[0m\u001b[0;34m,\u001b[0m\u001b[0mlocal_dir_deliverables\u001b[0m\u001b[0;34m=\u001b[0m\u001b[0mNone\u001b[0m\u001b[0;34m)\u001b[0m\u001b[0;34m\u001b[0m\u001b[0m\n\u001b[0m",
      "\u001b[0;32m/var/SP/data/home/csanc109/src/devel/use-cases/Pre2post_bdp/model/delivery/prepare_delivery.pyc\u001b[0m in \u001b[0;36mdeliver_table\u001b[0;34m(spark, hive_name_table, filename, dir_download, dir_delivery, local_dir_deliverables, columns, sep, order_by, allow_multiple_partitions, file_extension)\u001b[0m\n\u001b[1;32m     86\u001b[0m     '''\n\u001b[1;32m     87\u001b[0m \u001b[0;34m\u001b[0m\u001b[0m\n\u001b[0;32m---> 88\u001b[0;31m     \u001b[0mspark\u001b[0m\u001b[0;34m.\u001b[0m\u001b[0msql\u001b[0m\u001b[0;34m(\u001b[0m\u001b[0;34m\"refresh table {}\"\u001b[0m\u001b[0;34m.\u001b[0m\u001b[0mformat\u001b[0m\u001b[0;34m(\u001b[0m\u001b[0mhive_name_table\u001b[0m\u001b[0;34m)\u001b[0m\u001b[0;34m)\u001b[0m\u001b[0;34m\u001b[0m\u001b[0m\n\u001b[0m\u001b[1;32m     89\u001b[0m     \u001b[0mhive_table\u001b[0m \u001b[0;34m=\u001b[0m \u001b[0;34m(\u001b[0m\u001b[0mspark\u001b[0m\u001b[0;34m.\u001b[0m\u001b[0mread\u001b[0m\u001b[0;34m.\u001b[0m\u001b[0mtable\u001b[0m\u001b[0;34m(\u001b[0m\u001b[0mhive_name_table\u001b[0m\u001b[0;34m)\u001b[0m\u001b[0;34m)\u001b[0m\u001b[0;34m\u001b[0m\u001b[0m\n\u001b[1;32m     90\u001b[0m \u001b[0;34m\u001b[0m\u001b[0m\n",
      "\u001b[0;32m/opt/cloudera/parcels/SPARK2/lib/spark2/python/pyspark/sql/session.py\u001b[0m in \u001b[0;36msql\u001b[0;34m(self, sqlQuery)\u001b[0m\n\u001b[1;32m    543\u001b[0m         \u001b[0;34m[\u001b[0m\u001b[0mRow\u001b[0m\u001b[0;34m(\u001b[0m\u001b[0mf1\u001b[0m\u001b[0;34m=\u001b[0m\u001b[0;36m1\u001b[0m\u001b[0;34m,\u001b[0m \u001b[0mf2\u001b[0m\u001b[0;34m=\u001b[0m\u001b[0;34mu'row1'\u001b[0m\u001b[0;34m)\u001b[0m\u001b[0;34m,\u001b[0m \u001b[0mRow\u001b[0m\u001b[0;34m(\u001b[0m\u001b[0mf1\u001b[0m\u001b[0;34m=\u001b[0m\u001b[0;36m2\u001b[0m\u001b[0;34m,\u001b[0m \u001b[0mf2\u001b[0m\u001b[0;34m=\u001b[0m\u001b[0;34mu'row2'\u001b[0m\u001b[0;34m)\u001b[0m\u001b[0;34m,\u001b[0m \u001b[0mRow\u001b[0m\u001b[0;34m(\u001b[0m\u001b[0mf1\u001b[0m\u001b[0;34m=\u001b[0m\u001b[0;36m3\u001b[0m\u001b[0;34m,\u001b[0m \u001b[0mf2\u001b[0m\u001b[0;34m=\u001b[0m\u001b[0;34mu'row3'\u001b[0m\u001b[0;34m)\u001b[0m\u001b[0;34m]\u001b[0m\u001b[0;34m\u001b[0m\u001b[0m\n\u001b[1;32m    544\u001b[0m         \"\"\"\n\u001b[0;32m--> 545\u001b[0;31m         \u001b[0;32mreturn\u001b[0m \u001b[0mDataFrame\u001b[0m\u001b[0;34m(\u001b[0m\u001b[0mself\u001b[0m\u001b[0;34m.\u001b[0m\u001b[0m_jsparkSession\u001b[0m\u001b[0;34m.\u001b[0m\u001b[0msql\u001b[0m\u001b[0;34m(\u001b[0m\u001b[0msqlQuery\u001b[0m\u001b[0;34m)\u001b[0m\u001b[0;34m,\u001b[0m \u001b[0mself\u001b[0m\u001b[0;34m.\u001b[0m\u001b[0m_wrapped\u001b[0m\u001b[0;34m)\u001b[0m\u001b[0;34m\u001b[0m\u001b[0m\n\u001b[0m\u001b[1;32m    546\u001b[0m \u001b[0;34m\u001b[0m\u001b[0m\n\u001b[1;32m    547\u001b[0m     \u001b[0;34m@\u001b[0m\u001b[0msince\u001b[0m\u001b[0;34m(\u001b[0m\u001b[0;36m2.0\u001b[0m\u001b[0;34m)\u001b[0m\u001b[0;34m\u001b[0m\u001b[0m\n",
      "\u001b[0;32m/opt/cloudera/parcels/Anaconda-2.5.0/lib/python2.7/site-packages/py4j/java_gateway.pyc\u001b[0m in \u001b[0;36m__call__\u001b[0;34m(self, *args)\u001b[0m\n\u001b[1;32m   1255\u001b[0m         \u001b[0manswer\u001b[0m \u001b[0;34m=\u001b[0m \u001b[0mself\u001b[0m\u001b[0;34m.\u001b[0m\u001b[0mgateway_client\u001b[0m\u001b[0;34m.\u001b[0m\u001b[0msend_command\u001b[0m\u001b[0;34m(\u001b[0m\u001b[0mcommand\u001b[0m\u001b[0;34m)\u001b[0m\u001b[0;34m\u001b[0m\u001b[0m\n\u001b[1;32m   1256\u001b[0m         return_value = get_return_value(\n\u001b[0;32m-> 1257\u001b[0;31m             answer, self.gateway_client, self.target_id, self.name)\n\u001b[0m\u001b[1;32m   1258\u001b[0m \u001b[0;34m\u001b[0m\u001b[0m\n\u001b[1;32m   1259\u001b[0m         \u001b[0;32mfor\u001b[0m \u001b[0mtemp_arg\u001b[0m \u001b[0;32min\u001b[0m \u001b[0mtemp_args\u001b[0m\u001b[0;34m:\u001b[0m\u001b[0;34m\u001b[0m\u001b[0m\n",
      "\u001b[0;32m/opt/cloudera/parcels/SPARK2/lib/spark2/python/pyspark/sql/utils.py\u001b[0m in \u001b[0;36mdeco\u001b[0;34m(*a, **kw)\u001b[0m\n\u001b[1;32m     69\u001b[0m                 \u001b[0;32mraise\u001b[0m \u001b[0mAnalysisException\u001b[0m\u001b[0;34m(\u001b[0m\u001b[0ms\u001b[0m\u001b[0;34m.\u001b[0m\u001b[0msplit\u001b[0m\u001b[0;34m(\u001b[0m\u001b[0;34m': '\u001b[0m\u001b[0;34m,\u001b[0m \u001b[0;36m1\u001b[0m\u001b[0;34m)\u001b[0m\u001b[0;34m[\u001b[0m\u001b[0;36m1\u001b[0m\u001b[0;34m]\u001b[0m\u001b[0;34m,\u001b[0m \u001b[0mstackTrace\u001b[0m\u001b[0;34m)\u001b[0m\u001b[0;34m\u001b[0m\u001b[0m\n\u001b[1;32m     70\u001b[0m             \u001b[0;32mif\u001b[0m \u001b[0ms\u001b[0m\u001b[0;34m.\u001b[0m\u001b[0mstartswith\u001b[0m\u001b[0;34m(\u001b[0m\u001b[0;34m'org.apache.spark.sql.catalyst.analysis'\u001b[0m\u001b[0;34m)\u001b[0m\u001b[0;34m:\u001b[0m\u001b[0;34m\u001b[0m\u001b[0m\n\u001b[0;32m---> 71\u001b[0;31m                 \u001b[0;32mraise\u001b[0m \u001b[0mAnalysisException\u001b[0m\u001b[0;34m(\u001b[0m\u001b[0ms\u001b[0m\u001b[0;34m.\u001b[0m\u001b[0msplit\u001b[0m\u001b[0;34m(\u001b[0m\u001b[0;34m': '\u001b[0m\u001b[0;34m,\u001b[0m \u001b[0;36m1\u001b[0m\u001b[0;34m)\u001b[0m\u001b[0;34m[\u001b[0m\u001b[0;36m1\u001b[0m\u001b[0;34m]\u001b[0m\u001b[0;34m,\u001b[0m \u001b[0mstackTrace\u001b[0m\u001b[0;34m)\u001b[0m\u001b[0;34m\u001b[0m\u001b[0m\n\u001b[0m\u001b[1;32m     72\u001b[0m             \u001b[0;32mif\u001b[0m \u001b[0ms\u001b[0m\u001b[0;34m.\u001b[0m\u001b[0mstartswith\u001b[0m\u001b[0;34m(\u001b[0m\u001b[0;34m'org.apache.spark.sql.catalyst.parser.ParseException: '\u001b[0m\u001b[0;34m)\u001b[0m\u001b[0;34m:\u001b[0m\u001b[0;34m\u001b[0m\u001b[0m\n\u001b[1;32m     73\u001b[0m                 \u001b[0;32mraise\u001b[0m \u001b[0mParseException\u001b[0m\u001b[0;34m(\u001b[0m\u001b[0ms\u001b[0m\u001b[0;34m.\u001b[0m\u001b[0msplit\u001b[0m\u001b[0;34m(\u001b[0m\u001b[0;34m': '\u001b[0m\u001b[0;34m,\u001b[0m \u001b[0;36m1\u001b[0m\u001b[0;34m)\u001b[0m\u001b[0;34m[\u001b[0m\u001b[0;36m1\u001b[0m\u001b[0;34m]\u001b[0m\u001b[0;34m,\u001b[0m \u001b[0mstackTrace\u001b[0m\u001b[0;34m)\u001b[0m\u001b[0;34m\u001b[0m\u001b[0m\n",
      "\u001b[0;31mAnalysisException\u001b[0m: u\"Table or view 'csanc109_tmp_pre2post_201903_prepared_kkkkk' not found in database 'tests_es';\""
     ]
    }
   ],
   "source": [
    "# Generate the delivery file (the csv we have to sent to Everis)\n",
    "deliver_table(spark, name_table_deanonymized,name_file_delivery,dir_download,dir_delivery,local_dir_deliverables=None)"
   ]
  },
  {
   "cell_type": "code",
   "execution_count": null,
   "metadata": {},
   "outputs": [],
   "source": [
    "# from pyspark.ml import Pipeline\n",
    "# from pyspark.ml.feature import StringIndexer, OneHotEncoderEstimator\n",
    "\n",
    "\n",
    "# indexers = [StringIndexer(inputCol=c, outputCol=c + \"_idx\", handleInvalid='skip') for c in cat_cols]\n",
    "# encoders = [OneHotEncoder(inputCol=c + \"_idx\", outputCol = c + \"_enc\") for c in cat_cols]\n",
    "\n"
   ]
  }
 ],
 "metadata": {
  "kernelspec": {
   "display_name": "Python 2",
   "language": "python",
   "name": "python2"
  },
  "language_info": {
   "codemirror_mode": {
    "name": "ipython",
    "version": 2
   },
   "file_extension": ".py",
   "mimetype": "text/x-python",
   "name": "python",
   "nbconvert_exporter": "python",
   "pygments_lexer": "ipython2",
   "version": "2.7.11"
  }
 },
 "nbformat": 4,
 "nbformat_minor": 2
}
