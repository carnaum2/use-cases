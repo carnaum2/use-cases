{
 "cells": [
  {
   "cell_type": "markdown",
   "metadata": {},
   "source": [
    "# App for making predictions using model from stage 1, once tested and validated in stage 2\n",
    "\n",
    "\n",
    "We have already created a model and trained it (Notebook #1), tested it in another month (Notebook #2).\n",
    "\n",
    "There's only one step left: actually using it to make predictions! This notebook does exactly that. Assumptions:\n",
    "\n",
    "1. We have a saved model (which in fact is a pyspark.ml.PipelineModel) in Julio's HDFS home directory for the project (`\"hdfs:///user/jsotovi2/pre2post/best_model_pre2post_yyyymmdd_hhmmss.sparkModel\"`), where `yyyymmdd_hhmmss` is the datetime at which the model was saved. By default, this code will always grab the latest model in presence of more than one.\n",
    "2. The model scored well in Notebook #2, meaning that the `auc_test` variable >= $0.8$.\n",
    "3. The following tables exist in Hive's metastore:\n",
    "    + `raw_es.vf_pre_ac_final`\n",
    "    + `raw_es.vf_pre_info_tarif`\n",
    "4. Date and time clocks in the Spark driver are accurate. This is important because we rely heavilly on date in order to compute *which is the next month after the current one* and that sort of stuff.\n",
    "\n",
    "With all that said, let's start:"
   ]
  },
  {
   "cell_type": "markdown",
   "metadata": {},
   "source": [
    "## 1. The one and only line that we have to change between executions"
   ]
  },
  {
   "cell_type": "markdown",
   "metadata": {},
   "source": [
    "To understand better the whole workflow:\n",
    "\n",
    "1. We use historical data from one month (eg. 2017/04) to train a couple of models, and keep/save the best one (this is done in notebook #1, which you do not currently have). Once we have got a good model, we just save it to HDFS. This *does not has to happen every single month*; as long as the model is not extremely outated, there should be no need for running this all months.\n",
    "2. We then use historical data from next month (2017/05) to get an unbiased measure on how good our saved model is. This should run all months; it is always important to keep track of model performance on a monthly basis.\n",
    "3. Finally, in order to make predictions, we will use the most recent data to predict customer behaviour (notebook #3). This can be ran as many times as we want, when needed (usually once a month). This notebook does exactly that.\n",
    "\n",
    "This is notebook (#3), which in theory will only have to be ran once a month (probably towards the end of the month), since its output will be used for marketing campaigns (which start at the beggining of the month after):"
   ]
  },
  {
   "cell_type": "code",
   "execution_count": null,
   "metadata": {
    "collapsed": true
   },
   "outputs": [],
   "source": [
    "# The yyyymm date to predict people who will\n",
    "# migrate from prepaid to postpaid in two months.\n",
    "# Should be manually changed.\n",
    "# We should get the most recent month for which\n",
    "# we have data.\n",
    "\n",
    "# Given that data needed for this notebook\n",
    "# comes from Spain CVM, the data of 201706\n",
    "# is usually available on 2017/07/15.\n",
    "month_for_getting_prepaid_data = \"201712\""
   ]
  },
  {
   "cell_type": "markdown",
   "metadata": {},
   "source": [
    "And that's it. There are no other dates needed in this notebook."
   ]
  },
  {
   "cell_type": "markdown",
   "metadata": {},
   "source": [
    "## 2. Imports and app setup\n",
    "\n",
    "Your usual stuff:"
   ]
  },
  {
   "cell_type": "code",
   "execution_count": 2,
   "metadata": {
    "collapsed": false
   },
   "outputs": [],
   "source": [
    "# This literal_eval is needed since \n",
    "# we have to read from a textfile\n",
    "# which is formatted as python objects.\n",
    "# It is totally safe.\n",
    "from ast import literal_eval\n",
    "\n",
    "# Standard Library stuff:\n",
    "from functools import partial\n",
    "from datetime import date, timedelta, datetime\n",
    "\n",
    "# Numpy stuff\n",
    "from numpy import nan as np_nan, round as np_round, int64 as np_int64\n",
    "\n",
    "# Spark stuff\n",
    "from pyspark.sql import SparkSession\n",
    "from pyspark import StorageLevel\n",
    "from pyspark.sql.functions import (udf, col, decode, when, lit, lower, \n",
    "                                   translate, count, sum as sql_sum, max as sql_max, \n",
    "                                   isnull)\n",
    "from pyspark.sql.types import DoubleType, StringType, IntegerType"
   ]
  },
  {
   "cell_type": "code",
   "execution_count": 3,
   "metadata": {
    "collapsed": true
   },
   "outputs": [],
   "source": [
    "spark = (SparkSession.builder\n",
    "         .appName(\"Pre2Post prediction and list creation\")\n",
    "         .master(\"yarn\")\n",
    "         .config(\"spark.submit.deployMode\", \"client\")\n",
    "         .config(\"spark.ui.showConsoleProgress\", \"true\")\n",
    "         .enableHiveSupport()\n",
    "         .getOrCreate()\n",
    "         )\n",
    "\n",
    "sc = spark.sparkContext"
   ]
  },
  {
   "cell_type": "markdown",
   "metadata": {},
   "source": [
    "## 3. Data imports and first transformations"
   ]
  },
  {
   "cell_type": "markdown",
   "metadata": {},
   "source": [
    "Compared to notebooks #1 and #2, we only have to use two tables in this one."
   ]
  },
  {
   "cell_type": "markdown",
   "metadata": {},
   "source": [
    "The first one is `raw_es.vf_pre_ac_final`, which contains information about *which VF clients were prepaid for a given month*, and very basic info about them (age, nationality, number of prepaid/postpaid services...)\n",
    "\n",
    "The following cell includes reading the table and some transformations (that might can be easily translated to RedAgent):"
   ]
  },
  {
   "cell_type": "code",
   "execution_count": 4,
   "metadata": {
    "collapsed": false
   },
   "outputs": [],
   "source": [
    "useful_columns_from_acFinalPrepago = [\"FECHA_EJECUCION\",\n",
    "                                      \"MSISDN\",\n",
    "                                      \"NUM_DOCUMENTO_CLIENTE\",\n",
    "                                      \"NACIONALIDAD\",\n",
    "                                      \"NUM_PREPAGO\",\n",
    "                                      \"NUM_POSPAGO\",\n",
    "                                      #\"Tipo_Documento_Cliente\", Very uninformed\n",
    "                                      \"Tipo_Documento_Comprador\",\n",
    "                                      \"X_FECHA_NACIMIENTO\"]\n",
    "\n",
    "# Lots of tables in Hive have empty string instead\n",
    "# of null for missing values in StringType columns:\n",
    "def empty_str_to_null(string_value):\n",
    "    \"\"\"\n",
    "    Turns empty strings to None, that are\n",
    "    handled as nulls by Spark DataFrames:\n",
    "    \"\"\"\n",
    "    if string_value == \"\":\n",
    "        result = None\n",
    "    elif string_value == u\"\":\n",
    "        result = None\n",
    "    else:\n",
    "        result = string_value\n",
    "    return result\n",
    "\n",
    "# We register previous function as a udf:\n",
    "empty_string_to_null = udf(empty_str_to_null, StringType())\n",
    "\n",
    "# Function that returns customer age out of his/her birthdate:\n",
    "def get_customer_age_raw(birthdate, month_for_getting_prepaid_data):\n",
    "        if birthdate is None:\n",
    "            return np_nan\n",
    "        \n",
    "        # Now, they use only birth year:\n",
    "        #parsed_date = datetime.strptime(str(int(birthdate)), \"%Y%m%d\")\n",
    "        parsed_date = datetime(int(birthdate), 6, 1)\n",
    "        timedelta = datetime.strptime(month_for_getting_prepaid_data, \"%Y%m\") - parsed_date\n",
    "        return timedelta.days / 365.25\n",
    "\n",
    "# We register previous function as a udf:\n",
    "def get_customer_age_udf(birthdate, month):\n",
    "    return udf(partial(get_customer_age_raw, month_for_getting_prepaid_data=month), DoubleType())(birthdate)\n",
    "\n",
    "# Self-explanatory.\n",
    "def subsitute_crappy_characters(string_column):\n",
    "    \"\"\"\n",
    "    I really hate charset encoding.\n",
    "    \"\"\"\n",
    "    return (string_column\n",
    "            .replace(u\"\\ufffd\", u\"ñ\")\n",
    "            # add more here in the future if needed\n",
    "           )\n",
    "\n",
    "# We register previous function as a udf:\n",
    "substitute_crappy_characters_udf = udf(subsitute_crappy_characters, StringType())\n",
    "\n",
    "# And we finally read raw_es.vf_pre_ac_final,\n",
    "# filtering by date, and with new columns\n",
    "# that we create using our UDFs:\n",
    "acFinalPrepago = (spark.read.table(\"raw_es.vf_pre_ac_final\")\n",
    "                  .where((col(\"year\") == int(month_for_getting_prepaid_data[:4]))\n",
    "                         & (col(\"month\") == int(month_for_getting_prepaid_data[4:]))\n",
    "                        )\n",
    "                  .where(col(\"X_FECHA_NACIMIENTO\") != \"X_FE\")\n",
    "                  #.select(*useful_columns_from_acFinalPrepago)\n",
    "                  .withColumn(\"X_FECHA_NACIMIENTO\", empty_string_to_null(col(\"X_FECHA_NACIMIENTO\")))\n",
    "                  .withColumn(\"NUM_DOCUMENTO_CLIENTE\", empty_string_to_null(col(\"NUM_DOCUMENTO_CLIENTE\")))\n",
    "                  .withColumn(\"NUM_DOCUMENTO_COMPRADOR\", empty_string_to_null(col(\"NUM_DOCUMENTO_COMPRADOR\")))\n",
    "                  .withColumn(\"age_in_years\", get_customer_age_udf(col(\"X_FECHA_NACIMIENTO\"),\n",
    "                                                                   month_for_getting_prepaid_data)\n",
    "                             )\n",
    "                  .withColumn(\"NACIONALIDAD\", substitute_crappy_characters_udf(col(\"NACIONALIDAD\")))\n",
    "                 )\n",
    "\n",
    "# Good old repartition for underpartitioned tables:\n",
    "acFinalPrepago = acFinalPrepago.repartition(int(acFinalPrepago.count() / 500)+1)"
   ]
  },
  {
   "cell_type": "code",
   "execution_count": 5,
   "metadata": {
    "collapsed": true
   },
   "outputs": [],
   "source": [
    "# In this acFinalPrepago DF we have a column (nationality)\n",
    "# with lot's of different values (high cardinality), which\n",
    "# is terrible for ML models, so we will get the most frequent\n",
    "# countries, and replace all others with \"Other\":\n",
    "\n",
    "most_frequent_countries = [u\"España\",\n",
    "                           u\"Marruecos\",\n",
    "                           u\"Rumania\",\n",
    "                           u\"Colombia\",\n",
    "                           u\"Italia\",\n",
    "                           u\"Ecuador\",\n",
    "                           u\"Alemania\",\n",
    "                           u\"Estados Unidos\",\n",
    "                           u\"Francia\",\n",
    "                           u\"Brasil\",\n",
    "                           u\"Argentina\",\n",
    "                           u\"Afganistan\",\n",
    "                           u\"Bolivia\",\n",
    "                           u\"Gran Bretaña\",\n",
    "                           u\"Portugal\",\n",
    "                           u\"Paraguay\",\n",
    "                           u\"China\",\n",
    "                           u\"Gran Bretana\",\n",
    "                           u\"Venezuela\",\n",
    "                           u\"Honduras\",\n",
    "                           u\"Corea del Sur\"]\n",
    "\n",
    "\n",
    "acFinalPrepago = acFinalPrepago.withColumn(\"NACIONALIDAD\", when(col(\"NACIONALIDAD\").isin(most_frequent_countries),\n",
    "                                                                  col(\"NACIONALIDAD\")\n",
    "                                                                 ).otherwise(lit(\"Other\"))\n",
    "                                            )"
   ]
  },
  {
   "cell_type": "markdown",
   "metadata": {},
   "source": [
    "There is only one data source remaining, which is the one with pretty much all customer consumption patterns (MOU, MB, number of monthly calls...). We just have to read it, and join it with `acFinalPrepago`:"
   ]
  },
  {
   "cell_type": "code",
   "execution_count": 6,
   "metadata": {
    "collapsed": true
   },
   "outputs": [],
   "source": [
    "# We will read raw_es.vf_pre_info_tarif.\n",
    "# The columns that we care about are the following:\n",
    "\n",
    "useful_columns_from_tarificadorPre = ['MSISDN',\n",
    "                                      'MOU',\n",
    "                                      'TOTAL_LLAMADAS',\n",
    "                                      'TOTAL_SMS',\n",
    "                                      'MOU_Week',\n",
    "                                      'LLAM_Week',\n",
    "                                      'SMS_Week',\n",
    "                                      'MOU_Weekend',\n",
    "                                      'LLAM_Weekend',\n",
    "                                      'SMS_Weekend',\n",
    "                                      'MOU_VF',\n",
    "                                      'LLAM_VF',\n",
    "                                      'SMS_VF',\n",
    "                                      'MOU_Fijo',\n",
    "                                      'LLAM_Fijo',\n",
    "                                      'SMS_Fijo',\n",
    "                                      'MOU_OOM',\n",
    "                                      'LLAM_OOM',\n",
    "                                      'SMS_OOM',\n",
    "                                      'MOU_Internacional',\n",
    "                                      'LLAM_Internacional',\n",
    "                                      'SMS_Internacional',\n",
    "                                      'ActualVolume',\n",
    "                                      'Num_accesos',\n",
    "                                      'Plan',\n",
    "                                      'Num_Cambio_Planes',\n",
    "                                      #'TOP_Internacional', # No idea of what is\n",
    "                                      'LLAM_COMUNIDAD_SMART',\n",
    "                                      'MOU_COMUNIDAD_SMART',\n",
    "                                      'LLAM_SMS_COMUNIDAD_SMART',\n",
    "                                      'Flag_Uso_Etnica',\n",
    "                                      'cuota_SMART8',\n",
    "                                      'cuota_SMART12',\n",
    "                                      'cuota_SMART16']\n",
    "\n",
    "# Read raw_es.vf_pre_info_tarif + yyyymm predicates + \n",
    "# column selection:\n",
    "tarificadorPre = (spark.read.table(\"raw_es.vf_pre_info_tarif\")\n",
    "                  .where((col(\"year\") == int(month_for_getting_prepaid_data[:4]))\n",
    "                         & (col(\"month\") == int(month_for_getting_prepaid_data[4:]))\n",
    "                        )\n",
    "                  .select(*useful_columns_from_tarificadorPre)\n",
    "                 )\n",
    "\n",
    "# Good old repartition for underpartitioned tables:\n",
    "tarificadorPre = tarificadorPre.repartition(int(tarificadorPre.count() / 500)+1)\n",
    "\n",
    "# Just as it happend with Nationlity column,\n",
    "# Plan is a column with very high cardenality.\n",
    "# We will replace any category not included\n",
    "# in the following list with \"Other\":\n",
    "plan_categories = ['PPIB7',\n",
    "                   'PPFCL',\n",
    "                   'PPIB4',\n",
    "                   'PPXS8',\n",
    "                   'PPIB8',\n",
    "                   'PPIB9',\n",
    "                   'PPTIN',\n",
    "                   'PPIB1',\n",
    "                   'PPVIS',\n",
    "                   'PPREX',\n",
    "                   'PPIB5',\n",
    "                   'PPREU',\n",
    "                   'PPRET',\n",
    "                   'PPFCS',\n",
    "                   'PPIB6',\n",
    "                   'PPREY',\n",
    "                   'PPVSP',\n",
    "                   'PPIB2',\n",
    "                   'PPIB3',\n",
    "                   'PPRE2',\n",
    "                   'PPRE5',\n",
    "                   'PPVE2',\n",
    "                   'PPVE1',\n",
    "                   'PPRES',\n",
    "                   'PPJ24',\n",
    "                   'PPVE3',\n",
    "                   'PPJAT',\n",
    "                   'PPJMI']\n",
    "\n",
    "tarificadorPre_2 = tarificadorPre.withColumn(\"Plan\",\n",
    "                                             when(col(\"Plan\").isin(plan_categories),\n",
    "                                                  col(\"Plan\")\n",
    "                                                 ).otherwise(lit(\"Other\"))\n",
    "                                            )"
   ]
  },
  {
   "cell_type": "code",
   "execution_count": 7,
   "metadata": {
    "collapsed": true
   },
   "outputs": [],
   "source": [
    "# Only one step left:\n",
    "prepaid_dataset_1 = acFinalPrepago.join(tarificadorPre_2,\n",
    "                                        how=\"inner\",\n",
    "                                        on=\"MSISDN\").persist(StorageLevel.DISK_ONLY_2)"
   ]
  },
  {
   "cell_type": "markdown",
   "metadata": {},
   "source": [
    "`prepaid_dataset_1` is the DF that we will use for model predictions."
   ]
  },
  {
   "cell_type": "markdown",
   "metadata": {},
   "source": [
    "## 4. Feature engineering"
   ]
  },
  {
   "cell_type": "markdown",
   "metadata": {},
   "source": [
    "100% analogous to notebook #2:"
   ]
  },
  {
   "cell_type": "code",
   "execution_count": 8,
   "metadata": {
    "collapsed": false
   },
   "outputs": [],
   "source": [
    "numeric_columns = ['NUM_PREPAGO',\n",
    "                   'NUM_POSPAGO',\n",
    "                   'age_in_years',\n",
    "                   #'documenttype_Other',\n",
    "                   #'documenttype_cif',\n",
    "                   #'documenttype_nif',\n",
    "                   #'documenttype_pasaporte',\n",
    "                   #'documenttype_tarj_residente',\n",
    "                   #'nationality_Afganistan',\n",
    "                   #'nationality_Alemania',\n",
    "                   #'nationality_Argentina',\n",
    "                   #'nationality_Bolivia',\n",
    "                   #'nationality_Brasil',\n",
    "                   #'nationality_China',\n",
    "                   #'nationality_Colombia',\n",
    "                   #'nationality_Corea_del_Sur',\n",
    "                   #'nationality_Ecuador',\n",
    "                   #'nationality_España',\n",
    "                   #'nationality_Estados_Unidos',\n",
    "                   #'nationality_Francia',\n",
    "                   #'nationality_Gran_Bretana',\n",
    "                   #'nationality_Gran_Bretaña',\n",
    "                   #'nationality_Honduras',\n",
    "                   #'nationality_Italia',\n",
    "                   #'nationality_Marruecos',\n",
    "                   #'nationality_Other',\n",
    "                   #'nationality_Paraguay',\n",
    "                   #'nationality_Portugal',\n",
    "                   #'nationality_Rumania',\n",
    "                   #'nationality_Venezuela',\n",
    "                   #'migrated_to_postpaid',\n",
    "                   'MOU',\n",
    "                   'TOTAL_LLAMADAS',\n",
    "                   'TOTAL_SMS',\n",
    "                   'MOU_Week',\n",
    "                   'LLAM_Week',\n",
    "                   'SMS_Week',\n",
    "                   'MOU_Weekend',\n",
    "                   'LLAM_Weekend',\n",
    "                   'SMS_Weekend',\n",
    "                   'MOU_VF',\n",
    "                   'LLAM_VF',\n",
    "                   'SMS_VF',\n",
    "                   'MOU_Fijo',\n",
    "                   'LLAM_Fijo',\n",
    "                   'SMS_Fijo',\n",
    "                   'MOU_OOM',\n",
    "                   'LLAM_OOM',\n",
    "                   'SMS_OOM',\n",
    "                   'MOU_Internacional',\n",
    "                   'LLAM_Internacional',\n",
    "                   'SMS_Internacional',\n",
    "                   'ActualVolume',\n",
    "                   'Num_accesos',\n",
    "                   'Num_Cambio_Planes',\n",
    "                   'LLAM_COMUNIDAD_SMART',\n",
    "                   'MOU_COMUNIDAD_SMART',\n",
    "                   'LLAM_SMS_COMUNIDAD_SMART',\n",
    "                   #'Flag_Uso_Etnica',\n",
    "                   'cuota_SMART8',\n",
    "                   #'cuota_SMART12',\n",
    "                   #'cuota_SMART16',\n",
    "                   #'plan_PPFCL',\n",
    "                   #'plan_PPFCS',\n",
    "                   #'plan_PPIB1',\n",
    "                   #'plan_PPIB2',\n",
    "                   #'plan_PPIB3',\n",
    "                   #'plan_PPIB4',\n",
    "                   #'plan_PPIB5',\n",
    "                   #'plan_PPIB6',\n",
    "                   #'plan_PPIB7',\n",
    "                   #'plan_PPIB8',\n",
    "                   #'plan_PPIB9',\n",
    "                   #'plan_PPJ24',\n",
    "                   #'plan_PPJAT',\n",
    "                   #'plan_PPJMI',\n",
    "                   #'plan_PPRE2',\n",
    "                   #'plan_PPRE5',\n",
    "                   #'plan_PPRES',\n",
    "                   #'plan_PPRET',\n",
    "                   #'plan_PPREU',\n",
    "                   #'plan_PPREX',\n",
    "                   #'plan_PPREY',\n",
    "                   #'plan_PPTIN',\n",
    "                   #'plan_PPVE1',\n",
    "                   #'plan_PPVE2',\n",
    "                   #'plan_PPVE3',\n",
    "                   #'plan_PPVIS',\n",
    "                   #'plan_PPVSP',\n",
    "                   #'plan_PPXS8'\n",
    "                  ]\n",
    "\n",
    "categorical_columns = [\"tipo_documento_comprador\", \"NACIONALIDAD\", \"Plan\"]\n",
    "\n",
    "prepaid_dataset_2 = prepaid_dataset_1\n",
    "\n",
    "for column in numeric_columns:\n",
    "    prepaid_dataset_2 = prepaid_dataset_2.withColumn(column, col(column).cast(DoubleType()))\n",
    "    \n",
    "prepaid_dataset_2 = (prepaid_dataset_2\n",
    "                     .repartition(int(prepaid_dataset_2.count() / 50000)+1)\n",
    "                     .persist(StorageLevel.DISK_ONLY_2)\n",
    "                     )"
   ]
  },
  {
   "cell_type": "markdown",
   "metadata": {},
   "source": [
    "## 5. Load machine learning model from HDFS"
   ]
  },
  {
   "cell_type": "markdown",
   "metadata": {},
   "source": [
    "100% analogous to notebook #2:"
   ]
  },
  {
   "cell_type": "code",
   "execution_count": 9,
   "metadata": {
    "collapsed": false
   },
   "outputs": [],
   "source": [
    "import subprocess\n",
    "\n",
    "directory_list = subprocess.check_output([\"hadoop\", \"fs\", \"-ls\", \"/user/jsotovi2/pre2post_v2\"]).split(\"\\n\")\n",
    "files_list = [item.split(\" \")[-1].split(\"/\")[-1] for item in directory_list if \".\" in item.split(\" \")[-1].split(\"/\")[-1]]\n",
    "history_list = [\"_\".join(theFile.replace(\".txt\",\"\").split(\"_\")[-2:]) \n",
    "                for theFile in files_list \n",
    "                if \"model_pre2post_results\" in theFile]\n",
    "\n",
    "most_recent_model_date = list(reversed(sorted([datetime.strptime(a_date, \"%Y%m%d_%H%M%S\") for a_date in history_list])))[0]\n",
    "most_recent_model_date_str = most_recent_model_date.strftime(\"%Y%m%d_%H%M%S\")"
   ]
  },
  {
   "cell_type": "code",
   "execution_count": 10,
   "metadata": {
    "collapsed": false
   },
   "outputs": [
    {
     "data": {
      "text/plain": [
       "'20170810_130214'"
      ]
     },
     "execution_count": 10,
     "metadata": {},
     "output_type": "execute_result"
    }
   ],
   "source": [
    "most_recent_model_date_str"
   ]
  },
  {
   "cell_type": "code",
   "execution_count": 11,
   "metadata": {
    "collapsed": false
   },
   "outputs": [],
   "source": [
    "from pyspark.ml import PipelineModel\n",
    "\n",
    "most_recent_model = PipelineModel.load(\"hdfs:///user/jsotovi2/pre2post_v2/best_model_pre2post_\"\n",
    "                                       + most_recent_model_date_str + \".sparkModel\")"
   ]
  },
  {
   "cell_type": "markdown",
   "metadata": {},
   "source": [
    "## 6. Final data preparations"
   ]
  },
  {
   "cell_type": "markdown",
   "metadata": {},
   "source": [
    "100% analogous to notebook #2:"
   ]
  },
  {
   "cell_type": "code",
   "execution_count": 12,
   "metadata": {
    "collapsed": false
   },
   "outputs": [],
   "source": [
    "# Get the median value for age:\n",
    "training_results_file = sc.textFile(\"hdfs:///user/jsotovi2/pre2post_v2/best_model_pre2post_results_\"\n",
    "                                    + most_recent_model_date_str + \".txt\")"
   ]
  },
  {
   "cell_type": "code",
   "execution_count": 13,
   "metadata": {
    "collapsed": false
   },
   "outputs": [],
   "source": [
    "training_results = dict([literal_eval(row) for row in training_results_file.collect()])"
   ]
  },
  {
   "cell_type": "code",
   "execution_count": 14,
   "metadata": {
    "collapsed": false
   },
   "outputs": [],
   "source": [
    "# The actual imputation:\n",
    "prepaid_dataset_2_filled = (prepaid_dataset_2\n",
    "                            .na.fill(float(training_results[\"age_median_value\"]), subset=[\"age_in_years\"])\n",
    "                            )"
   ]
  },
  {
   "cell_type": "code",
   "execution_count": 15,
   "metadata": {
    "collapsed": true
   },
   "outputs": [],
   "source": [
    "prepaid_dataset_2_filled_filtered = (prepaid_dataset_2_filled\n",
    "                                     .where(col(\"NACIONALIDAD\")!=\"Rumania\")\n",
    "                                     .where(col(\"NACIONALIDAD\")!=\"Marruecos\")\n",
    "                                     .where(col(\"NACIONALIDAD\")!=\"Colombia\")\n",
    "                                     .where(col(\"NACIONALIDAD\")!=\"Ecuador\")\n",
    "                                     .where(col(\"NACIONALIDAD\")!=\"Bolivia\")\n",
    "                                     .where(col(\"NACIONALIDAD\")!=\"Gran Bretana\")\n",
    "                                     .where(col(\"NACIONALIDAD\")!=\"Argentina\")\n",
    "                                     .where(col(\"tipo_documento_comprador\")!=\"Pasaporte\")\n",
    "                                     .where(col(\"tipo_documento_cliente\")!=\"Pasaporte\")\n",
    "                                     .where(col(\"tipo_documento_comprador\")!=\"PASAPORTE\")\n",
    "                                     .where(col(\"tipo_documento_cliente\")!=\"PASAPORTE\")\n",
    "                                     .where(col(\"tipo_documento_comprador\")!=\"CIF\")\n",
    "                                     .where(col(\"tipo_documento_cliente\")!=\"CIF\")\n",
    "                                     .where(col(\"tipo_documento_comprador\")!=\"Otros\")\n",
    "                                     .where(col(\"tipo_documento_cliente\")!=\"Otros\")\n",
    "                                     .where(col(\"Plan\")!=\"PPVE3\")\n",
    "                                     .where(col(\"Plan\")!=\"PPJAT\")\n",
    "                                     .where(col(\"Plan\")!=\"PPJ24\")\n",
    "                                    )"
   ]
  },
  {
   "cell_type": "markdown",
   "metadata": {},
   "source": [
    "## 7. Make predictions"
   ]
  },
  {
   "cell_type": "code",
   "execution_count": 16,
   "metadata": {
    "collapsed": false
   },
   "outputs": [],
   "source": [
    "predictions = most_recent_model.transform(prepaid_dataset_2_filled_filtered).cache()"
   ]
  },
  {
   "cell_type": "markdown",
   "metadata": {},
   "source": [
    "## 8. Output results"
   ]
  },
  {
   "cell_type": "code",
   "execution_count": 17,
   "metadata": {
    "collapsed": false
   },
   "outputs": [],
   "source": [
    "# In order to export the predictions, \n",
    "# we only care about two columns:\n",
    "# MSISDN and the second (first-indexed)\n",
    "# column of te probability column created\n",
    "# by our model.transform (this probability\n",
    "# column is of type org.apache.spark.sql.types.VectorUDTType):\n",
    "results = (predictions\n",
    "           .select(col(\"MSISDN\"),\n",
    "                   udf(lambda x: x.tolist()[1], DoubleType())\n",
    "                   (col(\"probability\")).alias(\"raw_score\")\n",
    "                  )\n",
    "          )"
   ]
  },
  {
   "cell_type": "code",
   "execution_count": 18,
   "metadata": {
    "collapsed": false
   },
   "outputs": [],
   "source": [
    "# This cell will add one column more, called percentiles,\n",
    "# which are the percentiles of each raw_score.\n",
    "\n",
    "# This code is a little harder to understand, but that's OK.\n",
    "\n",
    "\n",
    "# Percentile computation in Spark DFs is as counter-intuitive as it gets...\n",
    "percentiles = list(zip(list(reversed([i/100.0 for i in range(1, 101, 1)])),\n",
    "                       results\n",
    "                       .approxQuantile(\"raw_score\", \n",
    "                                       list(reversed([i/100.0 for i in range(1, 101, 1)])),\n",
    "                                       relativeError=0.0)\n",
    "                  ))\n",
    "\n",
    "# Broadcasting this list is not really neccesary,\n",
    "# but may help understanding the code.\n",
    "# If you decide to remove the broadcast,\n",
    "# remember to subsitute percentiles.value with\n",
    "# just percentiles in the next function.\n",
    "percentiles_broadcast = sc.broadcast(percentiles)\n",
    "\n",
    "def get_percentile(row, percentiles):\n",
    "    \"\"\"\n",
    "    For each row of a column,\n",
    "    returns the corresponding percentile.\n",
    "    \n",
    "    percentiles argument must be a broadcast\n",
    "    value.\n",
    "    \"\"\"\n",
    "    resulting_percentile = 1.0\n",
    "    for p, q in percentiles.value:\n",
    "        if row <= q:\n",
    "            resulting_percentile = p\n",
    "    return resulting_percentile\n",
    "\n",
    "def get_percentile_udf(column, percentiles):\n",
    "    \"\"\"\n",
    "    Computes the corresponding percentiles\n",
    "    for one column.\n",
    "    \n",
    "    Args:\n",
    "        column -> A Spark DF column\n",
    "        percentiles -> A broadcasted list of tuples (percentile, value)\n",
    "        \n",
    "    Returns:\n",
    "        A Spark DF column with the percentile each row belongs to.\n",
    "    \"\"\"\n",
    "    return udf(partial(get_percentile, percentiles=percentiles),\n",
    "                       DoubleType())(column)\n",
    "\n",
    "results_with_percentile = (results\n",
    "                           .withColumn(\"percentile\", \n",
    "                                       get_percentile_udf(col(\"raw_score\"), \n",
    "                                                          percentiles_broadcast)\n",
    "                                      )\n",
    "                          )"
   ]
  },
  {
   "cell_type": "code",
   "execution_count": 19,
   "metadata": {
    "collapsed": false
   },
   "outputs": [
    {
     "name": "stdout",
     "output_type": "stream",
     "text": [
      "+---------+--------------------+----------+\n",
      "|   MSISDN|           raw_score|percentile|\n",
      "+---------+--------------------+----------+\n",
      "|625383731|0.007328565115779894|      0.57|\n",
      "|631920790|0.015470708484037669|      0.88|\n",
      "|683827273|0.003903671522442377|      0.03|\n",
      "|628933506|0.006139007037681297|      0.35|\n",
      "|656769413|0.003516374760892...|      0.02|\n",
      "|660395176|0.012018122158675678|      0.81|\n",
      "|638563158|0.004931211157711...|      0.09|\n",
      "|657501368|0.007424749033163...|      0.59|\n",
      "|617634924| 0.00781499097487612|      0.62|\n",
      "|671581870|0.006926897911887...|      0.52|\n",
      "|630681055|0.006573026811215898|      0.45|\n",
      "|677719608|0.006426949732688776|      0.42|\n",
      "|601022800|0.007370248474481394|      0.58|\n",
      "|640574722|0.006433768431484456|      0.42|\n",
      "|684448694|0.029722009194229435|      0.99|\n",
      "|615742660| 0.01090617127031737|      0.77|\n",
      "|670846968|0.005423790997771696|      0.19|\n",
      "|622321146|0.007711084329766974|      0.62|\n",
      "|644122841| 0.00528795536017321|      0.16|\n",
      "|691265708|0.010184206075255765|      0.74|\n",
      "+---------+--------------------+----------+\n",
      "only showing top 20 rows\n",
      "\n"
     ]
    }
   ],
   "source": [
    "results_with_percentile.show()"
   ]
  },
  {
   "cell_type": "code",
   "execution_count": 20,
   "metadata": {
    "collapsed": true
   },
   "outputs": [],
   "source": [
    "results_with_percentile.write.format(\"parquet\").saveAsTable(\"tests_es.output_pre2post_201712_notprepared\")"
   ]
  },
  {
   "cell_type": "markdown",
   "metadata": {},
   "source": [
    "And we are done! There are only two tasks left:\n",
    "\n",
    "+ Deanonymize the `MSISDN` column\n",
    "+ Figure out a way to return `results_with_percentile` (with the `MSISDN` column deanonymized) back to Spain CVM"
   ]
  },
  {
   "cell_type": "code",
   "execution_count": null,
   "metadata": {
    "collapsed": true
   },
   "outputs": [],
   "source": []
  }
 ],
 "metadata": {
  "kernelspec": {
   "display_name": "Python 2",
   "language": "python",
   "name": "python2"
  },
  "language_info": {
   "codemirror_mode": {
    "name": "ipython",
    "version": 2
   },
   "file_extension": ".py",
   "mimetype": "text/x-python",
   "name": "python",
   "nbconvert_exporter": "python",
   "pygments_lexer": "ipython2",
   "version": "2.7.11"
  }
 },
 "nbformat": 4,
 "nbformat_minor": 2
}
