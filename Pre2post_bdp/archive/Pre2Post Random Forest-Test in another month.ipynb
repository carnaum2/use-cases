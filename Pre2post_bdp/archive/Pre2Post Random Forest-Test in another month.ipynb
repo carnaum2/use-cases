{
 "cells": [
  {
   "cell_type": "markdown",
   "metadata": {},
   "source": [
    "# App for testing how well our best model from stage 1 predicts\n",
    "\n",
    "\n",
    "In machine learning you should always test your model with fresh data that the model has never seen before.\n",
    "\n",
    "In this notebook, we do exactly that: we will create a new dataset for testing, and see how well the model does. In order to run this, the following assumptions should be fullfilled:\n",
    "\n",
    "1. We have a saved model (which in fact is a pyspark.ml.PipelineModel) in Julio's HDFS home directory for the project (`\"hdfs:///user/jsotovi2/pre2post/best_model_pre2post_yyyymmdd_hhmmss.sparkModel\"`), where `yyyymmdd_hhmmss` is the datetime at which the model was saved. By default, this code will always grab the latest model in presence of more than one.\n",
    "2. The following tables exist in Hive's metastore:\n",
    "    + `raw_es.vf_pre_ac_final`\n",
    "    + `raw_es.vf_pos_ac_final`\n",
    "    + `raw_es.campaign_msisdncontacthist`\n",
    "    + `raw_es.campaign_msisdnresponsehist`\n",
    "    + `raw_es.anonymisation_lookup_msisdn` --> This is a temporary workaround. Chris knows about it.\n",
    "3. Date and time clocks in the Spark driver are accurate. This is important because we rely heavilly on date in order to compute *which is the next month after the current one* and that sort of stuff.\n",
    "\n",
    "With all that said, let's start:"
   ]
  },
  {
   "cell_type": "markdown",
   "metadata": {},
   "source": [
    "## 1. The one and only line that we have to change between executions"
   ]
  },
  {
   "cell_type": "markdown",
   "metadata": {},
   "source": [
    "To understand better the whole workflow:\n",
    "\n",
    "1. We use historical data from one month (eg. 2017/04) to train a couple of models, and keep/save the best one (this is done in notebook #1, which you do not currently have). Once we have got a good model, we just save it to HDFS. This *does not has to happen every single month*; as long as the model is not extremely outated, there should be no need for running this all months.\n",
    "2. We then use historical data from next month (2017/05) to get an unbiased measure on how good our saved model is. This is the notebook for this stage (notebook #2). This should run all months; it is always important to keep track of model performance on a monthly basis.\n",
    "3. Finally, in order to make predictions, we will use the most recent data to predict customer behaviour. This can be ran as many times as we want, when needed (usually once a month).\n",
    "\n",
    "Given that this notebook (#2) has to run on a monthly basis, I took care to structure the code so we just need to change one line from one monthly execution to another:"
   ]
  },
  {
   "cell_type": "code",
   "execution_count": 1,
   "metadata": {
    "collapsed": true
   },
   "outputs": [],
   "source": [
    "# The yyyymm date to verify people that have migrated\n",
    "# from prepaid to postpaid.\n",
    "# Should be manually changed:\n",
    "month_for_verifying_in_pospago = \"201707\""
   ]
  },
  {
   "cell_type": "markdown",
   "metadata": {},
   "source": [
    "And that's it. All other date filters for all tables used are inferred from this one."
   ]
  },
  {
   "cell_type": "markdown",
   "metadata": {},
   "source": [
    "## 2. Imports and app setup\n",
    "\n",
    "Your usual stuff:"
   ]
  },
  {
   "cell_type": "code",
   "execution_count": 2,
   "metadata": {
    "collapsed": true
   },
   "outputs": [],
   "source": [
    "# This literal_eval is needed since \n",
    "# we have to read from a textfile\n",
    "# which is formatted as python objects.\n",
    "# It is totally safe.\n",
    "from ast import literal_eval\n",
    "\n",
    "# Standard Library stuff:\n",
    "from functools import partial\n",
    "from datetime import date, timedelta, datetime\n",
    "\n",
    "# Numpy stuff\n",
    "from numpy import nan as np_nan, round as np_round\n",
    "\n",
    "# Spark stuff\n",
    "from pyspark.sql import SparkSession\n",
    "from pyspark import StorageLevel\n",
    "from pyspark.sql.functions import (udf, col, decode, when, lit, lower, \n",
    "                                   translate, count, sum as sql_sum, max as sql_max, isnull)\n",
    "from pyspark.sql.types import DoubleType, StringType, IntegerType"
   ]
  },
  {
   "cell_type": "code",
   "execution_count": 3,
   "metadata": {
    "collapsed": true
   },
   "outputs": [],
   "source": [
    "spark = (SparkSession.builder\n",
    "         .appName(\"Pre2Post Spain hyperparameter tuning\")\n",
    "         .master(\"yarn\")\n",
    "         .config(\"spark.submit.deployMode\", \"client\")\n",
    "         .config(\"spark.ui.showConsoleProgress\", \"true\")\n",
    "         .enableHiveSupport()\n",
    "         .getOrCreate()\n",
    "         )\n",
    "\n",
    "sc = spark.sparkContext"
   ]
  },
  {
   "cell_type": "markdown",
   "metadata": {},
   "source": [
    "## 3. Data imports and first transformations"
   ]
  },
  {
   "cell_type": "code",
   "execution_count": 4,
   "metadata": {
    "collapsed": true
   },
   "outputs": [],
   "source": [
    "# This function will be very handy:\n",
    "def get_next_month(dt):\n",
    "    \"\"\"\n",
    "    Given a yyyymm string, returns the yyyymm string\n",
    "    for the next month.\n",
    "    \"\"\"\n",
    "    current_month = datetime.strptime(dt, \"%Y%m\")\n",
    "    return (datetime(current_month.year, current_month.month, 28) + timedelta(days=4)).strftime(\"%Y%m\")"
   ]
  },
  {
   "cell_type": "markdown",
   "metadata": {},
   "source": [
    "Here we just use plain Python to compute a couple of dates derived from the one that we manually written. \n",
    "\n",
    "These dates (or rather, yyyymm strings) will be used as predicate for getting data from different Hive tables.\n",
    "\n",
    "They are basically business rules."
   ]
  },
  {
   "cell_type": "code",
   "execution_count": 5,
   "metadata": {
    "collapsed": false
   },
   "outputs": [
    {
     "name": "stdout",
     "output_type": "stream",
     "text": [
      "('201702', '201704', '201707')\n"
     ]
    }
   ],
   "source": [
    "# For the next 4 months\n",
    "time_delta = (datetime.strptime(month_for_verifying_in_pospago, \"%Y%m\")\n",
    "                                  - timedelta(5*365/12))\n",
    "\n",
    "if time_delta.day > 16:\n",
    "    if time_delta.month > 11:\n",
    "        date_prepaid = datetime(time_delta.year + 1, 1, 1)\n",
    "    else:\n",
    "        date_prepaid = datetime(time_delta.year, time_delta.month + 1, 1)\n",
    "else:\n",
    "    date_prepaid = time_delta\n",
    "    \n",
    "month_for_getting_prepaid_data = date_prepaid.strftime(\"%Y%m\")\n",
    "\n",
    "# Do they migrate next month? (Well, really next 2 months due to delays in lists):\n",
    "month_for_appearance_in_pospago = get_next_month(get_next_month(month_for_getting_prepaid_data))\n",
    "\n",
    "\n",
    "print(month_for_getting_prepaid_data, month_for_appearance_in_pospago, month_for_verifying_in_pospago)"
   ]
  },
  {
   "cell_type": "markdown",
   "metadata": {},
   "source": [
    "Now, we will start to read tables. The first one is `raw_es.vf_pre_ac_final`, which contains information about *which VF clients were prepaid for a given month*, and very basic info about them (age, nationality, number of prepaid/postpaid services...)\n",
    "\n",
    "The following cell includes reading the table and some transformations (that might can be easily translated to RedAgent):"
   ]
  },
  {
   "cell_type": "code",
   "execution_count": 6,
   "metadata": {
    "collapsed": true
   },
   "outputs": [],
   "source": [
    "# I know, it is atrocious, but the most straightforward/simple/robust\n",
    "# way to select columns is with a simple, hardcoded Python list:\n",
    "\n",
    "useful_columns_from_acFinalPrepago = [\"FECHA_EJECUCION\",\n",
    "                                      \"MSISDN\",\n",
    "                                      \"NUM_DOCUMENTO_CLIENTE\",\n",
    "                                      \"NACIONALIDAD\",\n",
    "                                      \"NUM_PREPAGO\",\n",
    "                                      \"NUM_POSPAGO\",\n",
    "                                      #\"Tipo_Documento_Cliente\", Very uninformed\n",
    "                                      \"Tipo_Documento_Comprador\",\n",
    "                                      \"X_FECHA_NACIMIENTO\"]\n",
    "\n",
    "# Lots of tables in Hive have empty string instead\n",
    "# of null for missing values in StringType columns:\n",
    "def empty_str_to_null(string_value):\n",
    "    \"\"\"\n",
    "    Turns empty strings to None, that are\n",
    "    handled as nulls by Spark DataFrames:\n",
    "    \"\"\"\n",
    "    if string_value == \"\":\n",
    "        result = None\n",
    "    elif string_value == u\"\":\n",
    "        result = None\n",
    "    else:\n",
    "        result = string_value\n",
    "    return result\n",
    "\n",
    "# We register previous function as a udf:\n",
    "empty_string_to_null = udf(empty_str_to_null, StringType())\n",
    "\n",
    "# Function that returns customer age out of his/her birthdate:\n",
    "def get_customer_age_raw(birthdate, month_for_getting_prepaid_data):\n",
    "        if birthdate is None:\n",
    "            return np_nan\n",
    "        parsed_date = datetime.strptime(str(int(birthdate)), \"%Y%m%d\")\n",
    "        timedelta = datetime.strptime(month_for_getting_prepaid_data, \"%Y%m\") - parsed_date\n",
    "        return timedelta.days / 365.25\n",
    "\n",
    "# We register previous function as a udf:\n",
    "def get_customer_age_udf(birthdate, month):\n",
    "    return udf(partial(get_customer_age_raw, month_for_getting_prepaid_data=month), DoubleType())(birthdate)\n",
    "\n",
    "\n",
    "# Self-explanatory.\n",
    "def subsitute_crappy_characters(string_column):\n",
    "    \"\"\"\n",
    "    I really hate charset encoding.\n",
    "    \"\"\"\n",
    "    return (string_column\n",
    "            .replace(u\"\\ufffd\", u\"ñ\")\n",
    "            # add more here in the future if needed\n",
    "           )\n",
    "\n",
    "# We register previous function as a udf:\n",
    "substitute_crappy_characters_udf = udf(subsitute_crappy_characters, StringType())\n",
    "\n",
    "\n",
    "\n",
    "# And we finally read raw_es.vf_pre_ac_final,\n",
    "# filtering by date, and with new columns\n",
    "# that we create using our UDFs:\n",
    "acFinalPrepago = (spark.read.table(\"raw_es.vf_pre_ac_final\")\n",
    "                  .where((col(\"year\") == int(month_for_getting_prepaid_data[:4]))\n",
    "                         & (col(\"month\") == int(month_for_getting_prepaid_data[4:]))\n",
    "                        )\n",
    "                  #.select(*useful_columns_from_acFinalPrepago)\n",
    "                  .withColumn(\"X_FECHA_NACIMIENTO\", empty_string_to_null(col(\"X_FECHA_NACIMIENTO\")))\n",
    "                  .withColumn(\"NUM_DOCUMENTO_CLIENTE\", empty_string_to_null(col(\"NUM_DOCUMENTO_CLIENTE\")))\n",
    "                  .withColumn(\"NUM_DOCUMENTO_COMPRADOR\", empty_string_to_null(col(\"NUM_DOCUMENTO_COMPRADOR\")))\n",
    "                  .withColumn(\"age_in_years\", get_customer_age_udf(col(\"X_FECHA_NACIMIENTO\"),\n",
    "                                                                   month_for_getting_prepaid_data)\n",
    "                             )\n",
    "                  .withColumn(\"NACIONALIDAD\", substitute_crappy_characters_udf(col(\"NACIONALIDAD\")))\n",
    "                 )\n",
    "\n",
    "# For some reason, pretty much all tables in Hive are\n",
    "# REALLY underpartitioned (this is, with very few partitions\n",
    "# given their size in number of rows). So, even though\n",
    "# this is Spark's most common antipattern, I am going\n",
    "# to actually repartition the DF to achieve some level\n",
    "# of parallelism (and avoiding MemoryErrors in small executors):\n",
    "acFinalPrepago = acFinalPrepago.repartition(int(acFinalPrepago.count() / 500)+1)"
   ]
  },
  {
   "cell_type": "code",
   "execution_count": 7,
   "metadata": {
    "collapsed": true
   },
   "outputs": [],
   "source": [
    "# In this acFinalPrepago DF we have a column (nationality)\n",
    "# with lot's of different values (high cardinality), which\n",
    "# is terrible for ML models, so we will get the most frequent\n",
    "# countries, and replace all others with \"Other\":\n",
    "\n",
    "most_frequent_countries = [u\"España\",\n",
    "                           u\"Marruecos\",\n",
    "                           u\"Rumania\",\n",
    "                           u\"Colombia\",\n",
    "                           u\"Italia\",\n",
    "                           u\"Ecuador\",\n",
    "                           u\"Alemania\",\n",
    "                           u\"Estados Unidos\",\n",
    "                           u\"Francia\",\n",
    "                           u\"Brasil\",\n",
    "                           u\"Argentina\",\n",
    "                           u\"Afganistan\",\n",
    "                           u\"Bolivia\",\n",
    "                           u\"Gran Bretaña\",\n",
    "                           u\"Portugal\",\n",
    "                           u\"Paraguay\",\n",
    "                           u\"China\",\n",
    "                           u\"Gran Bretana\",\n",
    "                           u\"Venezuela\",\n",
    "                           u\"Honduras\",\n",
    "                           u\"Corea del Sur\"]\n",
    "\n",
    "\n",
    "acFinalPrepago = acFinalPrepago.withColumn(\"NACIONALIDAD\", when(col(\"NACIONALIDAD\").isin(most_frequent_countries),\n",
    "                                                                  col(\"NACIONALIDAD\")\n",
    "                                                                 ).otherwise(lit(\"Other\"))\n",
    "                                            )"
   ]
  },
  {
   "cell_type": "code",
   "execution_count": 8,
   "metadata": {
    "collapsed": true
   },
   "outputs": [],
   "source": [
    "# Now we read another table: raw_es.vf_pos_ac_final,\n",
    "# with some yyyymm predicate, and only two columns:\n",
    "acFinalPospago_nextMonth = (spark.read.table(\"raw_es.vf_pos_ac_final\")\n",
    "                               .where((col(\"year\") == int(month_for_appearance_in_pospago[:4]))\n",
    "                                      & (col(\"month\") == int(month_for_appearance_in_pospago[4:]))\n",
    "                                     )\n",
    "                               .select(\"x_id_red\",\"x_num_ident\")\n",
    "                               .na.drop()\n",
    "                               .withColumnRenamed(\"x_id_red\", \"x_id_red_NextMonth\")\n",
    "                               .withColumnRenamed(\"x_num_ident\", \"x_num_ident_NextMonth\")\n",
    "                              )\n",
    "\n",
    "# Good old repartition for underpartitioned tables:\n",
    "acFinalPospago_nextMonth = acFinalPospago_nextMonth.repartition(int(acFinalPospago_nextMonth.count() / 500)+1)"
   ]
  },
  {
   "cell_type": "code",
   "execution_count": 9,
   "metadata": {
    "collapsed": true
   },
   "outputs": [],
   "source": [
    "# And yet again, we read the same table, but with \n",
    "# different yyyymm predicate:\n",
    "acFinalPospago_4monthsLater = (spark.read.table(\"raw_es.vf_pos_ac_final\")\n",
    "                               .where((col(\"year\") == int(month_for_verifying_in_pospago[:4]))\n",
    "                                      & (col(\"month\") == int(month_for_verifying_in_pospago[4:]))\n",
    "                                     )\n",
    "                               .select(\"x_id_red\",\"x_num_ident\")\n",
    "                               .na.drop()\n",
    "                              )\n",
    "\n",
    "# Good old repartition for underpartitioned tables:\n",
    "acFinalPospago_4monthsLater = acFinalPospago_4monthsLater.repartition(int(acFinalPospago_4monthsLater.count() / 500)+1)"
   ]
  },
  {
   "cell_type": "code",
   "execution_count": 10,
   "metadata": {
    "collapsed": true
   },
   "outputs": [],
   "source": [
    "# And we perform one join:\n",
    "\n",
    "join_prepago_pospago_1 = (acFinalPrepago\n",
    "                         .join(acFinalPospago_nextMonth,\n",
    "                               how=\"left\",\n",
    "                               on=(acFinalPrepago[\"MSISDN\"]==acFinalPospago_nextMonth[\"x_id_red_NextMonth\"])\n",
    "                                & (acFinalPrepago[\"NUM_DOCUMENTO_COMPRADOR\"]==acFinalPospago_nextMonth[\"x_num_ident_NextMonth\"])\n",
    "                             )\n",
    "                       )"
   ]
  },
  {
   "cell_type": "code",
   "execution_count": 11,
   "metadata": {
    "collapsed": false
   },
   "outputs": [],
   "source": [
    "# And another:\n",
    "\n",
    "join_prepago_pospago_2 = (join_prepago_pospago_1\n",
    "                         .join(acFinalPospago_4monthsLater,\n",
    "                              on=(join_prepago_pospago_1[\"x_id_red_NextMonth\"]==acFinalPospago_4monthsLater[\"x_id_red\"])\n",
    "                                  & (join_prepago_pospago_1[\"x_num_ident_NextMonth\"]==acFinalPospago_4monthsLater[\"x_num_ident\"]),\n",
    "                              how=\"left\"\n",
    "                             )\n",
    "                        #.withColumn(\"migrated_to_postpaid\", (~col(\"x_id_red\").isNull()).cast(IntegerType()))\n",
    "                       )"
   ]
  },
  {
   "cell_type": "markdown",
   "metadata": {},
   "source": [
    "Up to this point, we have read 3 tables (well, tbh they were only 2, but one of them two times with different predicates), with some transformations, and we have joined them."
   ]
  },
  {
   "cell_type": "markdown",
   "metadata": {},
   "source": [
    "## 4. Contacts and responses table"
   ]
  },
  {
   "cell_type": "markdown",
   "metadata": {},
   "source": [
    "We still need to join more information sources.\n",
    "\n",
    "Next ones will be Telesales' contacts and responses, which also need some yyyymm predicates:"
   ]
  },
  {
   "cell_type": "code",
   "execution_count": 12,
   "metadata": {
    "collapsed": false
   },
   "outputs": [
    {
     "data": {
      "text/plain": [
       "('201702',\n",
       " '201704',\n",
       " datetime.datetime(2017, 3, 1, 0, 0),\n",
       " datetime.datetime(2017, 4, 7, 0, 0))"
      ]
     },
     "execution_count": 12,
     "metadata": {},
     "output_type": "execute_result"
    }
   ],
   "source": [
    "# Beautiful datetime manipulations:\n",
    "datetime_for_appearance_in_pospago = datetime.strptime(month_for_appearance_in_pospago, \"%Y%m\")\n",
    "\n",
    "datetime_min_contact = datetime((datetime_for_appearance_in_pospago - timedelta(days=8)).year,\n",
    "                                (datetime_for_appearance_in_pospago - timedelta(days=8)).month,\n",
    "                                1)\n",
    "\n",
    "datetime_max_contact = datetime((datetime_for_appearance_in_pospago + timedelta(days=8)).year,\n",
    "                                (datetime_for_appearance_in_pospago + timedelta(days=8)).month,\n",
    "                                7)\n",
    "\n",
    "month_for_getting_prepaid_data, month_for_appearance_in_pospago, datetime_min_contact, datetime_max_contact"
   ]
  },
  {
   "cell_type": "code",
   "execution_count": 13,
   "metadata": {
    "collapsed": true
   },
   "outputs": [],
   "source": [
    "# Now, we read raw_es.campaign_msisdncontacthist\n",
    "# with yyyymm predicates and other stupid business filters\n",
    "# that I do not fully understand:\n",
    "contacts = (spark.read.table(\"raw_es.campaign_msisdncontacthist\")\n",
    "            .where(col(\"contactdatetime\") >= datetime_min_contact.strftime(\"%Y-%m-%d %H:%M:%S\"))\n",
    "            .where(col(\"contactdatetime\") < datetime_max_contact.strftime(\"%Y-%m-%d %H:%M:%S\"))\n",
    "            #.where(col(\"contactdatetime\") >= \"2016-09-01 00:00:00\")\n",
    "            #.where(col(\"contactdatetime\") < \"2017-05-05 00:00:00\")\n",
    "            .where(col(\"CampaignCode\").isin(['AUTOMMES_PXXXP_MIG_PROPENSOS']))\n",
    "            .where(~(col(\"Canal\").like(\"PO%\")))\n",
    "            .where(~(col(\"Canal\").like(\"NBA%\")))\n",
    "            .where(col(\"Canal\")==\"TEL\")\n",
    "            .where(col(\"Flag_Borrado\") == 0)\n",
    "            )\n",
    "\n",
    "# We read raw_es.campaign_msisdnresponsehist:\n",
    "responses = (spark.read.table(\"raw_es.campaign_msisdnresponsehist\")\n",
    "            )\n",
    "\n",
    "# We are going to join contacts DF with responses DF, and they\n",
    "# happen to have columns with same names (but not same data),\n",
    "# so we rename all columns in responses DF, adding responses_\n",
    "# at the beggining:\n",
    "responses_columns = [(column,\"responses_\"+column) for column in responses.columns]\n",
    "\n",
    "for existing, new in responses_columns:\n",
    "    responses = responses.withColumnRenamed(existing, new)\n",
    "\n",
    "# Beautiful join. I do not expect you to understand\n",
    "# it, because neither do I. I just translated some\n",
    "# Teradata Query that VF Spain's CVM department uses\n",
    "# to Spark DF syntax. It runs quite fast...\n",
    "contacts_and_responses = (contacts.join(responses,\n",
    "                                       how=\"left_outer\",\n",
    "                                       on=(contacts[\"TREATMENTCODE\"]==responses[\"responses_TREATMENTCODE\"])\n",
    "                                          & (contacts[\"MSISDN\"]==responses[\"responses_MSISDN\"])\n",
    "                                          & (contacts[\"CampaignCode\"]==responses[\"responses_CampaignCode\"])\n",
    "                                       )\n",
    "                                  .groupBy(\"MSISDN\",\n",
    "                                           \"CAMPAIGNCODE\",\n",
    "                                           \"CREATIVIDAD\",\n",
    "                                           \"CELLCODE\",\n",
    "                                           \"CANAL\",\n",
    "                                           \"contactdatetime\",\n",
    "                                           \"responses_responsedatetime\")\n",
    "                                  .agg(sql_max(\"responses_responsedatetime\"))\n",
    "                                  .select(col(\"MSISDN\"), \n",
    "                                          col(\"CAMPAIGNCODE\"), \n",
    "                                          col(\"CREATIVIDAD\"), \n",
    "                                          col(\"CELLCODE\"), \n",
    "                                          col(\"CANAL\"), \n",
    "                                          col(\"contactdatetime\").alias(\"DATEID\"),\n",
    "                                          when(isnull(col(\"max(responses_responsedatetime)\")), \"0\")\n",
    "                                              .otherwise(\"1\").alias(\"EsRespondedor\")\n",
    "                                               \n",
    "                                         )\n",
    "                         ).withColumnRenamed(\"msisdn\",\"msisdn_contact\")"
   ]
  },
  {
   "cell_type": "markdown",
   "metadata": {},
   "source": [
    "Cool. We have now only 2 DFs: one with *customer data* (the result of joining the first 3 tables), and this last one with contacts and responses.\n",
    "\n",
    "We just have to join there two, and we will have our dataset almost prepared for ML..."
   ]
  },
  {
   "cell_type": "markdown",
   "metadata": {},
   "source": [
    "## 4. Join of prepaid & postpaid with contacts and responses"
   ]
  },
  {
   "cell_type": "markdown",
   "metadata": {},
   "source": [
    "But there is an issue. We have to join these 2 DFs on MSISDN, but it turns out that they have been anoymised differently, so we have to use an auxiliary lookup table inbetween..."
   ]
  },
  {
   "cell_type": "code",
   "execution_count": 14,
   "metadata": {
    "collapsed": true
   },
   "outputs": [],
   "source": [
    "# Here is the lookup table\n",
    "lookup_msisdn = spark.read.table(\"raw_es.anonymisation_lookup_msisdn\")"
   ]
  },
  {
   "cell_type": "code",
   "execution_count": 15,
   "metadata": {
    "collapsed": true
   },
   "outputs": [],
   "source": [
    "# Join between customer data and lookup table:\n",
    "join_prepago_pospago_3 = join_prepago_pospago_2.join(lookup_msisdn,\n",
    "                                                     how=\"left\",\n",
    "                                                     on=join_prepago_pospago_2[\"x_id_red\"]==lookup_msisdn[\"cvm_value\"]\n",
    "                                                    )"
   ]
  },
  {
   "cell_type": "code",
   "execution_count": 16,
   "metadata": {
    "collapsed": true
   },
   "outputs": [],
   "source": [
    "# Another join, where we\n",
    "# also create the target column for our \n",
    "# machine learning model:\n",
    "join_prepago_pospago_4 = (join_prepago_pospago_3.join(contacts_and_responses,\n",
    "                                                      how=\"left\",\n",
    "                                                      on=join_prepago_pospago_3[\"correct_value\"]==contacts_and_responses[\"msisdn_contact\"]\n",
    "                                                     )\n",
    "                                                .withColumn(\"migrated_to_postpaid\", ((~col(\"msisdn_contact\").isNull())\n",
    "                                                                                     #&(~col(\"EsRespondedor\").isNull())\n",
    "                                                                                     ).cast(IntegerType()))\n",
    "                        )"
   ]
  },
  {
   "cell_type": "code",
   "execution_count": 17,
   "metadata": {
    "collapsed": true
   },
   "outputs": [],
   "source": [
    "join_prepago_pospago_5 = (join_prepago_pospago_2\n",
    "                          .where(col(\"x_id_red\").isNull())\n",
    "                          .join(lookup_msisdn,\n",
    "                                how=\"left\",\n",
    "                                on=join_prepago_pospago_2[\"MSISDN\"]==lookup_msisdn[\"cvm_value\"]\n",
    "                               )\n",
    "                          )\n",
    "\n",
    "join_prepago_pospago_6 = (join_prepago_pospago_5.join(contacts_and_responses,\n",
    "                                                     how=\"left\",\n",
    "                                                     on=join_prepago_pospago_3[\"correct_value\"]==contacts_and_responses[\"msisdn_contact\"]\n",
    "                                                     )\n",
    "                          .withColumn(\"migrated_to_postpaid\", lit(\"0\").cast(IntegerType()))\n",
    "                          .where(~(col(\"EsRespondedor\").isNull()))\n",
    "                          )    "
   ]
  },
  {
   "cell_type": "code",
   "execution_count": 18,
   "metadata": {
    "collapsed": true
   },
   "outputs": [],
   "source": [
    "join_prepago_pospago = (join_prepago_pospago_4\n",
    "                        .where(col(\"migrated_to_postpaid\")==1)\n",
    "                        .union(join_prepago_pospago_6)\n",
    "                        )"
   ]
  },
  {
   "cell_type": "code",
   "execution_count": 19,
   "metadata": {
    "collapsed": false
   },
   "outputs": [
    {
     "name": "stdout",
     "output_type": "stream",
     "text": [
      "+--------------------+-----+\n",
      "|migrated_to_postpaid|count|\n",
      "+--------------------+-----+\n",
      "|                   1|  875|\n",
      "|                   0|93899|\n",
      "+--------------------+-----+\n",
      "\n"
     ]
    }
   ],
   "source": [
    "# Quick check that everything went fine.\n",
    "# There should be lots of zeroes, and a \n",
    "# couple of ones (between 100 and 2000, depending\n",
    "# on the month):\n",
    "join_prepago_pospago.groupBy(\"migrated_to_postpaid\").count().show()"
   ]
  },
  {
   "cell_type": "markdown",
   "metadata": {},
   "source": [
    "Finally. We have done pretty much all ETL needed. Everything so far is in `join_prepago_pospago`, which contains our dataset.\n",
    "\n",
    "There is only one data source remaining, which is the one with pretty much all customer consumption patterns (MOU, MB, number of monthly calls...). We just have to read it, and join it with `join_prepago_pospago`:"
   ]
  },
  {
   "cell_type": "code",
   "execution_count": 20,
   "metadata": {
    "collapsed": true
   },
   "outputs": [],
   "source": [
    "# We will read raw_es.vf_pre_info_tarif.\n",
    "# The columns that we care about are the following:\n",
    "\n",
    "useful_columns_from_tarificadorPre = ['MSISDN',\n",
    "                                      'MOU',\n",
    "                                      'TOTAL_LLAMADAS',\n",
    "                                      'TOTAL_SMS',\n",
    "                                      'MOU_Week',\n",
    "                                      'LLAM_Week',\n",
    "                                      'SMS_Week',\n",
    "                                      'MOU_Weekend',\n",
    "                                      'LLAM_Weekend',\n",
    "                                      'SMS_Weekend',\n",
    "                                      'MOU_VF',\n",
    "                                      'LLAM_VF',\n",
    "                                      'SMS_VF',\n",
    "                                      'MOU_Fijo',\n",
    "                                      'LLAM_Fijo',\n",
    "                                      'SMS_Fijo',\n",
    "                                      'MOU_OOM',\n",
    "                                      'LLAM_OOM',\n",
    "                                      'SMS_OOM',\n",
    "                                      'MOU_Internacional',\n",
    "                                      'LLAM_Internacional',\n",
    "                                      'SMS_Internacional',\n",
    "                                      'ActualVolume',\n",
    "                                      'Num_accesos',\n",
    "                                      'Plan',\n",
    "                                      'Num_Cambio_Planes',\n",
    "                                      #'TOP_Internacional', # No idea of what is\n",
    "                                      'LLAM_COMUNIDAD_SMART',\n",
    "                                      'MOU_COMUNIDAD_SMART',\n",
    "                                      'LLAM_SMS_COMUNIDAD_SMART',\n",
    "                                      'Flag_Uso_Etnica',\n",
    "                                      'cuota_SMART8',\n",
    "                                      'cuota_SMART12',\n",
    "                                      'cuota_SMART16']\n",
    "\n",
    "\n",
    "# Read raw_es.vf_pre_info_tarif + yyyymm predicates + \n",
    "# column selection:\n",
    "tarificadorPre = (spark.read.table(\"raw_es.vf_pre_info_tarif\")\n",
    "                  .where((col(\"year\") == int(month_for_getting_prepaid_data[:4]))\n",
    "                         & (col(\"month\") == int(month_for_getting_prepaid_data[4:]))\n",
    "                        )\n",
    "                  .select(*useful_columns_from_tarificadorPre)\n",
    "                 )\n",
    "\n",
    "# Good old repartition for underpartitioned tables:\n",
    "tarificadorPre = tarificadorPre.repartition(int(tarificadorPre.count() / 500)+1)\n",
    "\n",
    "\n",
    "# Just as it happend with Nationlity column,\n",
    "# Plan is a column with very high cardenality.\n",
    "# We will replace any category not included\n",
    "# in the following list with \"Other\":\n",
    "plan_categories = ['PPIB7',\n",
    "                   'PPFCL',\n",
    "                   'PPIB4',\n",
    "                   'PPXS8',\n",
    "                   'PPIB8',\n",
    "                   'PPIB9',\n",
    "                   'PPTIN',\n",
    "                   'PPIB1',\n",
    "                   'PPVIS',\n",
    "                   'PPREX',\n",
    "                   'PPIB5',\n",
    "                   'PPREU',\n",
    "                   'PPRET',\n",
    "                   'PPFCS',\n",
    "                   'PPIB6',\n",
    "                   'PPREY',\n",
    "                   'PPVSP',\n",
    "                   'PPIB2',\n",
    "                   'PPIB3',\n",
    "                   'PPRE2',\n",
    "                   'PPRE5',\n",
    "                   'PPVE2',\n",
    "                   'PPVE1',\n",
    "                   'PPRES',\n",
    "                   'PPJ24',\n",
    "                   'PPVE3',\n",
    "                   'PPJAT',\n",
    "                   'PPJMI']\n",
    "\n",
    "tarificadorPre_2 = tarificadorPre.withColumn(\"Plan\",\n",
    "                                             when(col(\"Plan\").isin(plan_categories),\n",
    "                                                  col(\"Plan\")\n",
    "                                                 ).otherwise(lit(\"Other\"))\n",
    "                                            )"
   ]
  },
  {
   "cell_type": "code",
   "execution_count": 21,
   "metadata": {
    "collapsed": true
   },
   "outputs": [],
   "source": [
    "# Only one step left:\n",
    "prepaid_dataset_1 = join_prepago_pospago.join(tarificadorPre_2,\n",
    "                                               how=\"inner\",\n",
    "                                               on=\"MSISDN\").persist(StorageLevel.DISK_ONLY_2)"
   ]
  },
  {
   "cell_type": "markdown",
   "metadata": {},
   "source": [
    "`prepaid_dataset_1` is the DF that we will use for our model."
   ]
  },
  {
   "cell_type": "markdown",
   "metadata": {},
   "source": [
    "## 5. Feature engineering"
   ]
  },
  {
   "cell_type": "markdown",
   "metadata": {},
   "source": [
    "Up until now, we have only integrated different sources, done some data cleansing, validation and preparation according to business rules. Now, we have to perform further preprocessing before feeding data to our machine learning model trained in notebook #1.\n",
    "\n",
    "Let's start by removing some columns that, after a lot of local testing, we decided that are pretty much useless.\n",
    "\n",
    "Also, we will separate numeric columns (IntegerType, DoubleType) from categorical columns (StringType), since it is a requirement to treat them differently before feeding them to any machine learning model:"
   ]
  },
  {
   "cell_type": "code",
   "execution_count": 22,
   "metadata": {
    "collapsed": true
   },
   "outputs": [],
   "source": [
    "numeric_columns = ['NUM_PREPAGO',\n",
    "                   'NUM_POSPAGO',\n",
    "                   'age_in_years',\n",
    "                   #'documenttype_Other',\n",
    "                   #'documenttype_cif',\n",
    "                   #'documenttype_nif',\n",
    "                   #'documenttype_pasaporte',\n",
    "                   #'documenttype_tarj_residente',\n",
    "                   #'nationality_Afganistan',\n",
    "                   #'nationality_Alemania',\n",
    "                   #'nationality_Argentina',\n",
    "                   #'nationality_Bolivia',\n",
    "                   #'nationality_Brasil',\n",
    "                   #'nationality_China',\n",
    "                   #'nationality_Colombia',\n",
    "                   #'nationality_Corea_del_Sur',\n",
    "                   #'nationality_Ecuador',\n",
    "                   #'nationality_España',\n",
    "                   #'nationality_Estados_Unidos',\n",
    "                   #'nationality_Francia',\n",
    "                   #'nationality_Gran_Bretana',\n",
    "                   #'nationality_Gran_Bretaña',\n",
    "                   #'nationality_Honduras',\n",
    "                   #'nationality_Italia',\n",
    "                   #'nationality_Marruecos',\n",
    "                   #'nationality_Other',\n",
    "                   #'nationality_Paraguay',\n",
    "                   #'nationality_Portugal',\n",
    "                   #'nationality_Rumania',\n",
    "                   #'nationality_Venezuela',\n",
    "                   #'migrated_to_postpaid',\n",
    "                   'MOU',\n",
    "                   'TOTAL_LLAMADAS',\n",
    "                   'TOTAL_SMS',\n",
    "                   'MOU_Week',\n",
    "                   'LLAM_Week',\n",
    "                   'SMS_Week',\n",
    "                   'MOU_Weekend',\n",
    "                   'LLAM_Weekend',\n",
    "                   'SMS_Weekend',\n",
    "                   'MOU_VF',\n",
    "                   'LLAM_VF',\n",
    "                   'SMS_VF',\n",
    "                   'MOU_Fijo',\n",
    "                   'LLAM_Fijo',\n",
    "                   'SMS_Fijo',\n",
    "                   'MOU_OOM',\n",
    "                   'LLAM_OOM',\n",
    "                   'SMS_OOM',\n",
    "                   'MOU_Internacional',\n",
    "                   'LLAM_Internacional',\n",
    "                   'SMS_Internacional',\n",
    "                   'ActualVolume',\n",
    "                   'Num_accesos',\n",
    "                   'Num_Cambio_Planes',\n",
    "                   'LLAM_COMUNIDAD_SMART',\n",
    "                   'MOU_COMUNIDAD_SMART',\n",
    "                   'LLAM_SMS_COMUNIDAD_SMART',\n",
    "                   #'Flag_Uso_Etnica',\n",
    "                   'cuota_SMART8',\n",
    "                   #'cuota_SMART12',\n",
    "                   #'cuota_SMART16',\n",
    "                   #'plan_PPFCL',\n",
    "                   #'plan_PPFCS',\n",
    "                   #'plan_PPIB1',\n",
    "                   #'plan_PPIB2',\n",
    "                   #'plan_PPIB3',\n",
    "                   #'plan_PPIB4',\n",
    "                   #'plan_PPIB5',\n",
    "                   #'plan_PPIB6',\n",
    "                   #'plan_PPIB7',\n",
    "                   #'plan_PPIB8',\n",
    "                   #'plan_PPIB9',\n",
    "                   #'plan_PPJ24',\n",
    "                   #'plan_PPJAT',\n",
    "                   #'plan_PPJMI',\n",
    "                   #'plan_PPRE2',\n",
    "                   #'plan_PPRE5',\n",
    "                   #'plan_PPRES',\n",
    "                   #'plan_PPRET',\n",
    "                   #'plan_PPREU',\n",
    "                   #'plan_PPREX',\n",
    "                   #'plan_PPREY',\n",
    "                   #'plan_PPTIN',\n",
    "                   #'plan_PPVE1',\n",
    "                   #'plan_PPVE2',\n",
    "                   #'plan_PPVE3',\n",
    "                   #'plan_PPVIS',\n",
    "                   #'plan_PPVSP',\n",
    "                   #'plan_PPXS8'\n",
    "                  ]\n",
    "\n",
    "categorical_columns = [\"tipo_documento_comprador\", \"NACIONALIDAD\", \"Plan\"]\n",
    "\n",
    "# We just rename our big DF...\n",
    "prepaid_dataset_2 = prepaid_dataset_1\n",
    "\n",
    "# In order to perform an easy, recursive\n",
    "# typecasting:\n",
    "for column in numeric_columns:\n",
    "    prepaid_dataset_2 = prepaid_dataset_2.withColumn(column, col(column).cast(DoubleType()))\n",
    "    \n",
    "\n",
    "# Good old repartition for underpartitioned tables + \n",
    "# disk persistence:\n",
    "prepaid_dataset_2 = (prepaid_dataset_2\n",
    "                     .repartition(int(prepaid_dataset_2.count() / 50000)+1)\n",
    "                     .persist(StorageLevel.DISK_ONLY_2)\n",
    "                     )"
   ]
  },
  {
   "cell_type": "markdown",
   "metadata": {},
   "source": [
    "## 6. Load machine learning model from HDFS"
   ]
  },
  {
   "cell_type": "markdown",
   "metadata": {},
   "source": [
    "Now, we have to load our already trained (in notebook #1) model.\n",
    "\n",
    "Machine model versioning is not easy. Just as any other software, it is a good practice to make snapshots of ML models.\n",
    "\n",
    "Here, we will get the most recent model, basically reading from `\"hdfs:///user/jsotovi2/pre2post/\"`, listing all files, and getting the one with the latest `yyyymmmdd_hhmmss` in its name.\n",
    "\n",
    "And given that hdfs3 (Python's API for reading from HDFS) is not installed and Snakebite is just a broken piece of software, we will just use this dirty hack to get the latest model name:"
   ]
  },
  {
   "cell_type": "code",
   "execution_count": 23,
   "metadata": {
    "collapsed": false
   },
   "outputs": [],
   "source": [
    "# Life sucks\n",
    "import subprocess\n",
    "\n",
    "directory_list = subprocess.check_output([\"hadoop\", \"fs\", \"-ls\", \"/user/jsotovi2/pre2post_v2\"]).split(\"\\n\")\n",
    "files_list = [item.split(\" \")[-1].split(\"/\")[-1] for item in directory_list if \".\" in item.split(\" \")[-1].split(\"/\")[-1]]\n",
    "history_list = [\"_\".join(theFile.replace(\".txt\",\"\").split(\"_\")[-2:]) \n",
    "                for theFile in files_list \n",
    "                if \"model_pre2post_results\" in theFile]\n",
    "\n",
    "most_recent_model_date = list(reversed(sorted([datetime.strptime(a_date, \"%Y%m%d_%H%M%S\") for a_date in history_list])))[0]\n",
    "most_recent_model_date_str = most_recent_model_date.strftime(\"%Y%m%d_%H%M%S\")"
   ]
  },
  {
   "cell_type": "code",
   "execution_count": 24,
   "metadata": {
    "collapsed": false
   },
   "outputs": [
    {
     "data": {
      "text/plain": [
       "'20170810_130214'"
      ]
     },
     "execution_count": 24,
     "metadata": {},
     "output_type": "execute_result"
    }
   ],
   "source": [
    "# But at least we have the yyyymmdd_hhmmss string \n",
    "# of the latest model that exists on HDFS:\n",
    "most_recent_model_date_str"
   ]
  },
  {
   "cell_type": "markdown",
   "metadata": {},
   "source": [
    "We have our model filename. We can just load it now:"
   ]
  },
  {
   "cell_type": "code",
   "execution_count": 25,
   "metadata": {
    "collapsed": false
   },
   "outputs": [],
   "source": [
    "from pyspark.ml import PipelineModel\n",
    "\n",
    "most_recent_model = PipelineModel.load(\"hdfs:///user/jsotovi2/pre2post_v2/best_model_pre2post_\"\n",
    "                                       + most_recent_model_date_str + \".sparkModel\")"
   ]
  },
  {
   "cell_type": "markdown",
   "metadata": {},
   "source": [
    "## 7. Final data preparations"
   ]
  },
  {
   "cell_type": "markdown",
   "metadata": {},
   "source": [
    "One column in our `prepaid_dataset_2` has a very uninformed column (with lots of missing values). We will fill it with the median computed in notebook #1, which happens to be saved as a TextFile in HDFS. Quite hacky, but it works:"
   ]
  },
  {
   "cell_type": "code",
   "execution_count": 46,
   "metadata": {
    "collapsed": false
   },
   "outputs": [],
   "source": [
    "# Get the median value for age:\n",
    "training_results_file = sc.textFile(\"hdfs:///user/jsotovi2/pre2post_v2/best_model_pre2post_results_\"\n",
    "                               + most_recent_model_date_str + \".txt\")"
   ]
  },
  {
   "cell_type": "code",
   "execution_count": 47,
   "metadata": {
    "collapsed": false
   },
   "outputs": [],
   "source": [
    "# We just read a textFile, which is a RDD of strings, formatted\n",
    "# as Python objects. So if we use ast's literal_eval, everything\n",
    "# will be fine:\n",
    "training_results = dict([literal_eval(row) for row in training_results_file.collect()])"
   ]
  },
  {
   "cell_type": "code",
   "execution_count": 48,
   "metadata": {
    "collapsed": false
   },
   "outputs": [],
   "source": [
    "# And now we just have to fill the missing values with this median:\n",
    "prepaid_dataset_2_filled = (prepaid_dataset_2\n",
    "                            .na.fill(float(training_results[\"age_median_value\"]), subset=[\"age_in_years\"])\n",
    "                            )"
   ]
  },
  {
   "cell_type": "markdown",
   "metadata": {},
   "source": [
    "## 8. Model evaluation"
   ]
  },
  {
   "cell_type": "markdown",
   "metadata": {},
   "source": [
    "Finally, our dataset is 100% prepared. Now we can feed it to the model:"
   ]
  },
  {
   "cell_type": "code",
   "execution_count": 49,
   "metadata": {
    "collapsed": true
   },
   "outputs": [],
   "source": [
    "predictions = most_recent_model.transform(prepaid_dataset_2_filled).cache()"
   ]
  },
  {
   "cell_type": "markdown",
   "metadata": {},
   "source": [
    "Evaluate Area Under the ROC Curve in separate test month (Anything over 0.75 is fine):"
   ]
  },
  {
   "cell_type": "code",
   "execution_count": 50,
   "metadata": {
    "collapsed": true
   },
   "outputs": [],
   "source": [
    "from pyspark.ml.evaluation import BinaryClassificationEvaluator\n",
    "\n",
    "evaluator = BinaryClassificationEvaluator(rawPredictionCol=\"probability\", \n",
    "                                          labelCol=\"label\", \n",
    "                                          metricName=\"areaUnderROC\")\n",
    "\n",
    "auc_test = evaluator.evaluate(predictions)"
   ]
  },
  {
   "cell_type": "code",
   "execution_count": 51,
   "metadata": {
    "collapsed": false
   },
   "outputs": [
    {
     "name": "stdout",
     "output_type": "stream",
     "text": [
      "0.6564364994\n"
     ]
    }
   ],
   "source": [
    "print(auc_test)"
   ]
  },
  {
   "cell_type": "markdown",
   "metadata": {},
   "source": [
    "## 9. Computing metrics"
   ]
  },
  {
   "cell_type": "markdown",
   "metadata": {},
   "source": [
    "Some metrics cannot be computed with Spark (literally; due to some open bugs in sorting ordering), so we will export two columns of our dataset to Pandas DataFrame. In practice this is only ~6M rows x 2 columns, so it is not huge by any means and should not fill Spark Driver's memory:"
   ]
  },
  {
   "cell_type": "code",
   "execution_count": 59,
   "metadata": {
    "collapsed": false
   },
   "outputs": [],
   "source": [
    "results = predictions.select(udf(lambda x: x.tolist()[1], DoubleType())(col(\"probability\")).alias(\"probability\"),\n",
    "                             col(\"prediction\"),\n",
    "                             col(\"label\")).toPandas()"
   ]
  },
  {
   "cell_type": "markdown",
   "metadata": {},
   "source": [
    "We're done with Spark. From this point to the end of this Notebook everything is pandas, scikit-learn and Bokeh. Feel free to skip this part."
   ]
  },
  {
   "cell_type": "code",
   "execution_count": 60,
   "metadata": {
    "collapsed": false
   },
   "outputs": [],
   "source": [
    "import numpy as np\n",
    "import pandas as pd\n",
    "\n",
    "from bokeh.charts import Line, output_notebook, show\n",
    "from bokeh.plotting import figure, ColumnDataSource\n",
    "from bokeh.models import HoverTool"
   ]
  },
  {
   "cell_type": "code",
   "execution_count": 61,
   "metadata": {
    "collapsed": false
   },
   "outputs": [],
   "source": [
    "from sklearn.metrics import classification_report, confusion_matrix\n",
    "\n",
    "classif_report = classification_report(results[\"label\"], results[\"prediction\"])"
   ]
  },
  {
   "cell_type": "code",
   "execution_count": 62,
   "metadata": {
    "collapsed": false
   },
   "outputs": [],
   "source": [
    "conf_matrix = pd.DataFrame(confusion_matrix(results[\"label\"], results[\"prediction\"]))\n",
    "\n",
    "conf_matrix.index.name = \"Real\"\n",
    "conf_matrix.columns.name = \"Predicted\""
   ]
  },
  {
   "cell_type": "code",
   "execution_count": 63,
   "metadata": {
    "collapsed": true
   },
   "outputs": [],
   "source": [
    "def lift_curve(y_true, y_score, interval=\"decile\", pos_label=None):\n",
    "    \"\"\"\n",
    "    Compute the lift curve.\n",
    "\n",
    "    Arguments:\n",
    "        y_true: array, shape = [n_samples]\n",
    "                True binary labels. If labels are not binary (0,1), \n",
    "                pos_label should be explicitly given\n",
    "\n",
    "        y_score: array, shape = [n_samples, n_classes] or [n_samples]\n",
    "                 Scores, can either be probability estimates (as created by\n",
    "                 predict_proba()), confidence values, or non-thresholded measure \n",
    "                 of decisions (as returned by “decision_function” on some classifiers)\n",
    "                 \n",
    "                 If a (n_samples, n_classes) matrix is provided, pos_label\n",
    "                 must be specified\n",
    "\n",
    "        interval: since the lift curve is computed by some interval,\n",
    "                  this allows the curve to be more or less granular.\n",
    "                  Available options are \"quartile\" (4 points), \"decile\" (10 points)\n",
    "                  and \"percentile\" (100 points)\n",
    "\n",
    "        positiveClass:  an integer which indicates both the value of the\n",
    "                        positive class in y_true, and the column position\n",
    "                        in the matrix y_score which holds the probability for \n",
    "                        that positive class (None by default, but if y_score\n",
    "                        has shape [n_samples, n_classes] you probably want\n",
    "                        to set it to 1.0, since most binary classification \n",
    "                        problems assign the label 0 to negative class and 1 to \n",
    "                        positive class)\n",
    "\n",
    "    Returns:\n",
    "        A Python tuple with three arrays of shape (4,), (10,) or (100,) \n",
    "        (depending on interval argument). The first list are the percentiles, \n",
    "        the second one the lift values and the third one the score cutoffs \n",
    "        for each percentile\n",
    "    \"\"\"\n",
    "    if interval == \"decile\":\n",
    "        n_points = 10\n",
    "    elif interval == \"quartile\":\n",
    "        n_points = 4\n",
    "    elif interval == \"percentile\":\n",
    "        n_points = 100\n",
    "    else:\n",
    "        raise NotImplementedError('Available intervals are \"percentile\",\"decile\" and \"quartile\".')\n",
    "    \n",
    "    if not isinstance(y_score, np.ndarray):\n",
    "        y_score = np.array(y_score)\n",
    "        \n",
    "    # A (n_samples, n_classes) array is provided:\n",
    "    if len(y_score.shape) > 1:\n",
    "        if pos_label is None:\n",
    "            raise ValueError(\"Since y_score is a matrix, you must provide pos_label.\")\n",
    "        pos_label = int(pos_label)\n",
    "        sorting_index = np.argsort(-y_score[:,pos_label])\n",
    "        sorted_probas = y_score[:,pos_label][sorting_index]\n",
    "    else:\n",
    "        sorting_index = np.argsort(-y_score)\n",
    "        sorted_probas = y_score[sorting_index]\n",
    "    \n",
    "    sorted_y_true = y_true[sorting_index]\n",
    "    \n",
    "    classes_and_counts = list(enumerate(np.bincount(sorted_y_true.astype(np.int))))\n",
    "    num_observations = float(len(sorted_y_true))\n",
    "    \n",
    "    percentage_positive_class = ([count for class_, count in classes_and_counts if class_==pos_label][0]\n",
    "                                 / num_observations\n",
    "                                )\n",
    "        \n",
    "    observations_per_point = int(num_observations / float(n_points)) + 1\n",
    "    \n",
    "    lift_points = []\n",
    "    percentile_scores = []\n",
    "    \n",
    "    for point in range(1, n_points+1):\n",
    "        \n",
    "        chosen_interval = sorted_y_true[:observations_per_point * point]\n",
    "        interval_classes_and_counts = list(enumerate(np.bincount(chosen_interval.astype(np.int))))\n",
    "        \n",
    "        try:\n",
    "            percentage_positive_class_in_interval = ([count for class_, count in interval_classes_and_counts if class_==pos_label][0]\n",
    "                                                     / float(len(chosen_interval))\n",
    "                                                    )\n",
    "            \n",
    "        except IndexError: # If no positive observation in this interval...\n",
    "            percentage_positive_class_in_interval = 0.0\n",
    "            \n",
    "        lift_in_interval = percentage_positive_class_in_interval / float(percentage_positive_class)\n",
    "        lift_points.append(lift_in_interval)\n",
    "        percentile_scores.append(sorted_probas[:observations_per_point * point][-1])\n",
    "\n",
    "    lift_coordinates = list(zip([num / float(len(range(1, n_points+1))) for num in range(1, n_points+1)], \n",
    "                                lift_points, \n",
    "                                percentile_scores)\n",
    "                           )\n",
    "    \n",
    "    return (np.array([i[0] for i in lift_coordinates]), \n",
    "            np.array([i[1] for i in lift_coordinates]),\n",
    "            np.array([i[2] for i in lift_coordinates])\n",
    "           )"
   ]
  },
  {
   "cell_type": "code",
   "execution_count": 64,
   "metadata": {
    "collapsed": false
   },
   "outputs": [],
   "source": [
    "percentiles, lifts, scores = lift_curve(y_true=results[\"label\"],\n",
    "                                        y_score=results[\"probability\"],\n",
    "                                        interval=\"percentile\",\n",
    "                                        pos_label=1.0)\n",
    "\n",
    "lift_df = pd.DataFrame({\"percentile_number\":percentiles,\n",
    "                        \"lift\":lifts,\n",
    "                        \"score\":scores})\n",
    "\n",
    "lift_df[\"percentile\"] = np_round(lift_df[\"percentile_number\"], 4).astype(str)\n",
    "lift_df[\"cutoff_score\"] = np_round(lift_df[\"score\"], 6).astype(str)"
   ]
  },
  {
   "cell_type": "code",
   "execution_count": 65,
   "metadata": {
    "collapsed": false
   },
   "outputs": [
    {
     "data": {
      "text/html": [
       "<div style=\"display: table;\"><div style=\"display: table-row;\"><div style=\"display: table-cell;\"><b title=\"bokeh.models.renderers.GlyphRenderer\">GlyphRenderer</b>(</div><div style=\"display: table-cell;\">id&nbsp;=&nbsp;'058df438-a6b6-4546-810c-010402d02575', <span id=\"e657ee67-7a13-4e77-8670-fe5abfe51e19\" style=\"cursor: pointer;\">&hellip;)</span></div></div><div class=\"7d65f537-2b1a-443b-b823-d83a7d191bd5\" style=\"display: none;\"><div style=\"display: table-cell;\"></div><div style=\"display: table-cell;\">data_source&nbsp;=&nbsp;ColumnDataSource(id='398f7159-3d75-4e80-84e8-acdb3b865d9f', ...),</div></div><div class=\"7d65f537-2b1a-443b-b823-d83a7d191bd5\" style=\"display: none;\"><div style=\"display: table-cell;\"></div><div style=\"display: table-cell;\">glyph&nbsp;=&nbsp;Patch(id='d586deb1-b7ba-4831-aa0e-62be026e2358', ...),</div></div><div class=\"7d65f537-2b1a-443b-b823-d83a7d191bd5\" style=\"display: none;\"><div style=\"display: table-cell;\"></div><div style=\"display: table-cell;\">hover_glyph&nbsp;=&nbsp;None,</div></div><div class=\"7d65f537-2b1a-443b-b823-d83a7d191bd5\" style=\"display: none;\"><div style=\"display: table-cell;\"></div><div style=\"display: table-cell;\">js_event_callbacks&nbsp;=&nbsp;{},</div></div><div class=\"7d65f537-2b1a-443b-b823-d83a7d191bd5\" style=\"display: none;\"><div style=\"display: table-cell;\"></div><div style=\"display: table-cell;\">js_property_callbacks&nbsp;=&nbsp;{},</div></div><div class=\"7d65f537-2b1a-443b-b823-d83a7d191bd5\" style=\"display: none;\"><div style=\"display: table-cell;\"></div><div style=\"display: table-cell;\">level&nbsp;=&nbsp;'glyph',</div></div><div class=\"7d65f537-2b1a-443b-b823-d83a7d191bd5\" style=\"display: none;\"><div style=\"display: table-cell;\"></div><div style=\"display: table-cell;\">muted&nbsp;=&nbsp;False,</div></div><div class=\"7d65f537-2b1a-443b-b823-d83a7d191bd5\" style=\"display: none;\"><div style=\"display: table-cell;\"></div><div style=\"display: table-cell;\">muted_glyph&nbsp;=&nbsp;None,</div></div><div class=\"7d65f537-2b1a-443b-b823-d83a7d191bd5\" style=\"display: none;\"><div style=\"display: table-cell;\"></div><div style=\"display: table-cell;\">name&nbsp;=&nbsp;None,</div></div><div class=\"7d65f537-2b1a-443b-b823-d83a7d191bd5\" style=\"display: none;\"><div style=\"display: table-cell;\"></div><div style=\"display: table-cell;\">nonselection_glyph&nbsp;=&nbsp;Patch(id='4840af8f-e984-4d16-b0a6-c44c88386329', ...),</div></div><div class=\"7d65f537-2b1a-443b-b823-d83a7d191bd5\" style=\"display: none;\"><div style=\"display: table-cell;\"></div><div style=\"display: table-cell;\">selection_glyph&nbsp;=&nbsp;None,</div></div><div class=\"7d65f537-2b1a-443b-b823-d83a7d191bd5\" style=\"display: none;\"><div style=\"display: table-cell;\"></div><div style=\"display: table-cell;\">subscribed_events&nbsp;=&nbsp;[],</div></div><div class=\"7d65f537-2b1a-443b-b823-d83a7d191bd5\" style=\"display: none;\"><div style=\"display: table-cell;\"></div><div style=\"display: table-cell;\">tags&nbsp;=&nbsp;[],</div></div><div class=\"7d65f537-2b1a-443b-b823-d83a7d191bd5\" style=\"display: none;\"><div style=\"display: table-cell;\"></div><div style=\"display: table-cell;\">visible&nbsp;=&nbsp;True,</div></div><div class=\"7d65f537-2b1a-443b-b823-d83a7d191bd5\" style=\"display: none;\"><div style=\"display: table-cell;\"></div><div style=\"display: table-cell;\">x_range_name&nbsp;=&nbsp;'default',</div></div><div class=\"7d65f537-2b1a-443b-b823-d83a7d191bd5\" style=\"display: none;\"><div style=\"display: table-cell;\"></div><div style=\"display: table-cell;\">y_range_name&nbsp;=&nbsp;'default')</div></div></div>\n",
       "<script>\n",
       "(function() {\n",
       "  var expanded = false;\n",
       "  var ellipsis = document.getElementById(\"e657ee67-7a13-4e77-8670-fe5abfe51e19\");\n",
       "  ellipsis.addEventListener(\"click\", function() {\n",
       "    var rows = document.getElementsByClassName(\"7d65f537-2b1a-443b-b823-d83a7d191bd5\");\n",
       "    for (var i = 0; i < rows.length; i++) {\n",
       "      var el = rows[i];\n",
       "      el.style.display = expanded ? \"none\" : \"table-row\";\n",
       "    }\n",
       "    ellipsis.innerHTML = expanded ? \"&hellip;)\" : \"&lsaquo;&lsaquo;&lsaquo;\";\n",
       "    expanded = !expanded;\n",
       "  });\n",
       "})();\n",
       "</script>\n"
      ],
      "text/plain": [
       "GlyphRenderer(id='058df438-a6b6-4546-810c-010402d02575', ...)"
      ]
     },
     "execution_count": 65,
     "metadata": {},
     "output_type": "execute_result"
    }
   ],
   "source": [
    "lift_source = ColumnDataSource(data=lift_df)\n",
    "\n",
    "hover = HoverTool(tooltips=[(\"Cutoff score\", \"@cutoff_score\"),\n",
    "                            (\"Percentile\", \"@percentile\"),\n",
    "                            (\"Lift value\", \"@lift\")]\n",
    "                 )\n",
    "\n",
    "lift_plot = figure(plot_width=700, plot_height=480, tools=[\"pan\",\n",
    "                                                           \"box_zoom\",\n",
    "                                                           \"wheel_zoom\",\n",
    "                                                           hover,\n",
    "                                                           \"save\",\n",
    "                                                           \"reset\"],\n",
    "                   x_axis_label=\"Percentile\",\n",
    "                   y_axis_label=\"Lift\",\n",
    "                   x_range=(lift_df[\"percentile_number\"].min(), lift_df[\"percentile_number\"].max()), \n",
    "                   y_range=(lift_df[\"lift\"].min(), lift_df[\"lift\"].max()),\n",
    "                   title=\"Lift Curve\")\n",
    "\n",
    "# Lift Curve\n",
    "lift_plot.line(\"percentile_number\", \n",
    "               \"lift\", \n",
    "               line_width=3, \n",
    "               color=\"#ff0000\",\n",
    "               source=lift_source)\n",
    "\n",
    "# Color in Area Under Lift\n",
    "lift_plot.patch(lift_df[\"percentile\"].tolist() + [lift_df[\"percentile_number\"].min()],\n",
    "                lift_df[\"lift\"].tolist() + [lift_df[\"lift\"].min()],\n",
    "                fill_alpha=0.1,\n",
    "                fill_color=\"#ff6666\",\n",
    "                line_alpha=0.0\n",
    "               )"
   ]
  },
  {
   "cell_type": "code",
   "execution_count": 66,
   "metadata": {
    "collapsed": false
   },
   "outputs": [],
   "source": [
    "# ROC calculation\n",
    "from sklearn.metrics import roc_curve, roc_auc_score\n",
    "\n",
    "\n",
    "fpr, tpr, scores = roc_curve(y_true=results[\"label\"],\n",
    "                             y_score=results[\"probability\"],\n",
    "                             pos_label=1.0\n",
    "                            )\n",
    "df_roc_test = pd.DataFrame({\"fpr\":fpr, \n",
    "                            \"tpr\":tpr,\n",
    "                            \"score\": scores})\n",
    "\n",
    "df_roc_test[\"fpr_nice\"] = np_round(df_roc_test[\"fpr\"], 6).astype(str)\n",
    "df_roc_test[\"tpr_nice\"] = np_round(df_roc_test[\"tpr\"], 6).astype(str)\n",
    "df_roc_test[\"cutoff_score\"] = np_round(df_roc_test[\"score\"], 6).astype(str)\n",
    "\n",
    "auc_test = roc_auc_score(results[\"label\"],\n",
    "                         results[\"probability\"],\n",
    "                         average=None)"
   ]
  },
  {
   "cell_type": "code",
   "execution_count": 67,
   "metadata": {
    "collapsed": true
   },
   "outputs": [],
   "source": [
    "# ROC plotting\n",
    "roc_source = ColumnDataSource(data=df_roc_test)\n",
    "\n",
    "hover_roc = HoverTool(names=[\"roc\"],\n",
    "                      tooltips=[(\"Cutoff score\", \"@cutoff_score\"),\n",
    "                                (\"True Positive Rate\", \"@tpr_nice\"),\n",
    "                                (\"False Positive Rate\", \"@fpr_nice\"),]\n",
    "                     )\n",
    "\n",
    "roc_plot = figure(plot_width=700, plot_height=480, tools=[\"pan\",\n",
    "                                                          \"box_zoom\",\n",
    "                                                          \"wheel_zoom\",\n",
    "                                                          hover_roc,\n",
    "                                                          \"save\",\n",
    "                                                          \"reset\"],\n",
    "                  x_axis_label=\"False Positive Rate\",\n",
    "                  y_axis_label=\"True Positive Rate\",\n",
    "                  title=\"ROC Curve\")\n",
    "\n",
    "# ROC curve\n",
    "roc_plot.line(\"fpr\", \n",
    "              \"tpr\", \n",
    "              line_width=3, \n",
    "              color=\"#ff0000\",\n",
    "              name=\"roc\",\n",
    "              source=roc_source)\n",
    "\n",
    "# Random guess\n",
    "roc_plot.line([0.0, 1.0],\n",
    "              [0.0, 1.0],\n",
    "              line_width=2,\n",
    "              color=\"#FA58AC\",\n",
    "              line_dash='dashed',\n",
    "              name=\"random_guess\")\n",
    "\n",
    "# Color Area under ROC\n",
    "roc_plot.patch(df_roc_test[\"fpr\"].tolist() + [1.0],\n",
    "               df_roc_test[\"tpr\"].tolist() + [0.0],\n",
    "               fill_alpha=0.1,\n",
    "               fill_color=\"#ff6666\",\n",
    "               line_alpha=0.0,\n",
    "               legend=\"AUC: %.4f\" % auc_test\n",
    "              )\n",
    "\n",
    "roc_plot.legend.location = \"bottom_right\""
   ]
  },
  {
   "cell_type": "markdown",
   "metadata": {},
   "source": [
    "## 10. Results"
   ]
  },
  {
   "cell_type": "code",
   "execution_count": 68,
   "metadata": {
    "collapsed": false
   },
   "outputs": [
    {
     "data": {
      "text/html": [
       "\n",
       "    <div class=\"bk-root\">\n",
       "        <a href=\"http://bokeh.pydata.org\" target=\"_blank\" class=\"bk-logo bk-logo-small bk-logo-notebook\"></a>\n",
       "        <span id=\"345fd935-f0d5-4403-b093-12a5071b5770\">Loading BokehJS ...</span>\n",
       "    </div>"
      ]
     },
     "metadata": {},
     "output_type": "display_data"
    },
    {
     "data": {
      "application/javascript": [
       "\n",
       "(function(global) {\n",
       "  function now() {\n",
       "    return new Date();\n",
       "  }\n",
       "\n",
       "  var force = true;\n",
       "\n",
       "  if (typeof (window._bokeh_onload_callbacks) === \"undefined\" || force === true) {\n",
       "    window._bokeh_onload_callbacks = [];\n",
       "    window._bokeh_is_loading = undefined;\n",
       "  }\n",
       "\n",
       "\n",
       "  \n",
       "  if (typeof (window._bokeh_timeout) === \"undefined\" || force === true) {\n",
       "    window._bokeh_timeout = Date.now() + 5000;\n",
       "    window._bokeh_failed_load = false;\n",
       "  }\n",
       "\n",
       "  var NB_LOAD_WARNING = {'data': {'text/html':\n",
       "     \"<div style='background-color: #fdd'>\\n\"+\n",
       "     \"<p>\\n\"+\n",
       "     \"BokehJS does not appear to have successfully loaded. If loading BokehJS from CDN, this \\n\"+\n",
       "     \"may be due to a slow or bad network connection. Possible fixes:\\n\"+\n",
       "     \"</p>\\n\"+\n",
       "     \"<ul>\\n\"+\n",
       "     \"<li>re-rerun `output_notebook()` to attempt to load from CDN again, or</li>\\n\"+\n",
       "     \"<li>use INLINE resources instead, as so:</li>\\n\"+\n",
       "     \"</ul>\\n\"+\n",
       "     \"<code>\\n\"+\n",
       "     \"from bokeh.resources import INLINE\\n\"+\n",
       "     \"output_notebook(resources=INLINE)\\n\"+\n",
       "     \"</code>\\n\"+\n",
       "     \"</div>\"}};\n",
       "\n",
       "  function display_loaded() {\n",
       "    if (window.Bokeh !== undefined) {\n",
       "      var el = document.getElementById(\"345fd935-f0d5-4403-b093-12a5071b5770\");\n",
       "      el.textContent = \"BokehJS \" + Bokeh.version + \" successfully loaded.\";\n",
       "    } else if (Date.now() < window._bokeh_timeout) {\n",
       "      setTimeout(display_loaded, 100)\n",
       "    }\n",
       "  }\n",
       "\n",
       "  function run_callbacks() {\n",
       "    window._bokeh_onload_callbacks.forEach(function(callback) { callback() });\n",
       "    delete window._bokeh_onload_callbacks\n",
       "    console.info(\"Bokeh: all callbacks have finished\");\n",
       "  }\n",
       "\n",
       "  function load_libs(js_urls, callback) {\n",
       "    window._bokeh_onload_callbacks.push(callback);\n",
       "    if (window._bokeh_is_loading > 0) {\n",
       "      console.log(\"Bokeh: BokehJS is being loaded, scheduling callback at\", now());\n",
       "      return null;\n",
       "    }\n",
       "    if (js_urls == null || js_urls.length === 0) {\n",
       "      run_callbacks();\n",
       "      return null;\n",
       "    }\n",
       "    console.log(\"Bokeh: BokehJS not loaded, scheduling load and callback at\", now());\n",
       "    window._bokeh_is_loading = js_urls.length;\n",
       "    for (var i = 0; i < js_urls.length; i++) {\n",
       "      var url = js_urls[i];\n",
       "      var s = document.createElement('script');\n",
       "      s.src = url;\n",
       "      s.async = false;\n",
       "      s.onreadystatechange = s.onload = function() {\n",
       "        window._bokeh_is_loading--;\n",
       "        if (window._bokeh_is_loading === 0) {\n",
       "          console.log(\"Bokeh: all BokehJS libraries loaded\");\n",
       "          run_callbacks()\n",
       "        }\n",
       "      };\n",
       "      s.onerror = function() {\n",
       "        console.warn(\"failed to load library \" + url);\n",
       "      };\n",
       "      console.log(\"Bokeh: injecting script tag for BokehJS library: \", url);\n",
       "      document.getElementsByTagName(\"head\")[0].appendChild(s);\n",
       "    }\n",
       "  };var element = document.getElementById(\"345fd935-f0d5-4403-b093-12a5071b5770\");\n",
       "  if (element == null) {\n",
       "    console.log(\"Bokeh: ERROR: autoload.js configured with elementid '345fd935-f0d5-4403-b093-12a5071b5770' but no matching script tag was found. \")\n",
       "    return false;\n",
       "  }\n",
       "\n",
       "  var js_urls = [\"https://cdn.pydata.org/bokeh/release/bokeh-0.12.5.min.js\", \"https://cdn.pydata.org/bokeh/release/bokeh-widgets-0.12.5.min.js\"];\n",
       "\n",
       "  var inline_js = [\n",
       "    function(Bokeh) {\n",
       "      Bokeh.set_log_level(\"info\");\n",
       "    },\n",
       "    \n",
       "    function(Bokeh) {\n",
       "      \n",
       "    },\n",
       "    \n",
       "    function(Bokeh) {\n",
       "      \n",
       "      document.getElementById(\"345fd935-f0d5-4403-b093-12a5071b5770\").textContent = \"BokehJS is loading...\";\n",
       "    },\n",
       "    function(Bokeh) {\n",
       "      console.log(\"Bokeh: injecting CSS: https://cdn.pydata.org/bokeh/release/bokeh-0.12.5.min.css\");\n",
       "      Bokeh.embed.inject_css(\"https://cdn.pydata.org/bokeh/release/bokeh-0.12.5.min.css\");\n",
       "      console.log(\"Bokeh: injecting CSS: https://cdn.pydata.org/bokeh/release/bokeh-widgets-0.12.5.min.css\");\n",
       "      Bokeh.embed.inject_css(\"https://cdn.pydata.org/bokeh/release/bokeh-widgets-0.12.5.min.css\");\n",
       "    }\n",
       "  ];\n",
       "\n",
       "  function run_inline_js() {\n",
       "    \n",
       "    if ((window.Bokeh !== undefined) || (force === true)) {\n",
       "      for (var i = 0; i < inline_js.length; i++) {\n",
       "        inline_js[i](window.Bokeh);\n",
       "      }if (force === true) {\n",
       "        display_loaded();\n",
       "      }} else if (Date.now() < window._bokeh_timeout) {\n",
       "      setTimeout(run_inline_js, 100);\n",
       "    } else if (!window._bokeh_failed_load) {\n",
       "      console.log(\"Bokeh: BokehJS failed to load within specified timeout.\");\n",
       "      window._bokeh_failed_load = true;\n",
       "    } else if (force !== true) {\n",
       "      var cell = $(document.getElementById(\"345fd935-f0d5-4403-b093-12a5071b5770\")).parents('.cell').data().cell;\n",
       "      cell.output_area.append_execute_result(NB_LOAD_WARNING)\n",
       "    }\n",
       "\n",
       "  }\n",
       "\n",
       "  if (window._bokeh_is_loading === 0) {\n",
       "    console.log(\"Bokeh: BokehJS loaded, going straight to plotting\");\n",
       "    run_inline_js();\n",
       "  } else {\n",
       "    load_libs(js_urls, function() {\n",
       "      console.log(\"Bokeh: BokehJS plotting callback run at\", now());\n",
       "      run_inline_js();\n",
       "    });\n",
       "  }\n",
       "}(this));"
      ]
     },
     "metadata": {},
     "output_type": "display_data"
    }
   ],
   "source": [
    "output_notebook()"
   ]
  },
  {
   "cell_type": "code",
   "execution_count": 69,
   "metadata": {
    "collapsed": false
   },
   "outputs": [
    {
     "name": "stdout",
     "output_type": "stream",
     "text": [
      "             precision    recall  f1-score   support\n",
      "\n",
      "        0.0       0.99      1.00      1.00     93899\n",
      "        1.0       0.00      0.00      0.00       875\n",
      "\n",
      "avg / total       0.98      0.99      0.99     94774\n",
      "\n"
     ]
    }
   ],
   "source": [
    "print(classif_report)"
   ]
  },
  {
   "cell_type": "code",
   "execution_count": 70,
   "metadata": {
    "collapsed": false
   },
   "outputs": [
    {
     "data": {
      "text/html": [
       "<div>\n",
       "<table border=\"1\" class=\"dataframe\">\n",
       "  <thead>\n",
       "    <tr style=\"text-align: right;\">\n",
       "      <th>Predicted</th>\n",
       "      <th>0</th>\n",
       "      <th>1</th>\n",
       "    </tr>\n",
       "    <tr>\n",
       "      <th>Real</th>\n",
       "      <th></th>\n",
       "      <th></th>\n",
       "    </tr>\n",
       "  </thead>\n",
       "  <tbody>\n",
       "    <tr>\n",
       "      <th>0</th>\n",
       "      <td>93899</td>\n",
       "      <td>0</td>\n",
       "    </tr>\n",
       "    <tr>\n",
       "      <th>1</th>\n",
       "      <td>875</td>\n",
       "      <td>0</td>\n",
       "    </tr>\n",
       "  </tbody>\n",
       "</table>\n",
       "</div>"
      ],
      "text/plain": [
       "Predicted      0  1\n",
       "Real               \n",
       "0          93899  0\n",
       "1            875  0"
      ]
     },
     "execution_count": 70,
     "metadata": {},
     "output_type": "execute_result"
    }
   ],
   "source": [
    "conf_matrix"
   ]
  },
  {
   "cell_type": "code",
   "execution_count": 71,
   "metadata": {
    "collapsed": false
   },
   "outputs": [
    {
     "data": {
      "text/html": [
       "\n",
       "\n",
       "    <div class=\"bk-root\">\n",
       "        <div class=\"bk-plotdiv\" id=\"e9ca1d6b-9dc5-4e5a-aaec-0677499eb42b\"></div>\n",
       "    </div>\n",
       "<script type=\"text/javascript\">\n",
       "  \n",
       "  (function(global) {\n",
       "    function now() {\n",
       "      return new Date();\n",
       "    }\n",
       "  \n",
       "    var force = false;\n",
       "  \n",
       "    if (typeof (window._bokeh_onload_callbacks) === \"undefined\" || force === true) {\n",
       "      window._bokeh_onload_callbacks = [];\n",
       "      window._bokeh_is_loading = undefined;\n",
       "    }\n",
       "  \n",
       "  \n",
       "    \n",
       "    if (typeof (window._bokeh_timeout) === \"undefined\" || force === true) {\n",
       "      window._bokeh_timeout = Date.now() + 0;\n",
       "      window._bokeh_failed_load = false;\n",
       "    }\n",
       "  \n",
       "    var NB_LOAD_WARNING = {'data': {'text/html':\n",
       "       \"<div style='background-color: #fdd'>\\n\"+\n",
       "       \"<p>\\n\"+\n",
       "       \"BokehJS does not appear to have successfully loaded. If loading BokehJS from CDN, this \\n\"+\n",
       "       \"may be due to a slow or bad network connection. Possible fixes:\\n\"+\n",
       "       \"</p>\\n\"+\n",
       "       \"<ul>\\n\"+\n",
       "       \"<li>re-rerun `output_notebook()` to attempt to load from CDN again, or</li>\\n\"+\n",
       "       \"<li>use INLINE resources instead, as so:</li>\\n\"+\n",
       "       \"</ul>\\n\"+\n",
       "       \"<code>\\n\"+\n",
       "       \"from bokeh.resources import INLINE\\n\"+\n",
       "       \"output_notebook(resources=INLINE)\\n\"+\n",
       "       \"</code>\\n\"+\n",
       "       \"</div>\"}};\n",
       "  \n",
       "    function display_loaded() {\n",
       "      if (window.Bokeh !== undefined) {\n",
       "        var el = document.getElementById(\"e9ca1d6b-9dc5-4e5a-aaec-0677499eb42b\");\n",
       "        el.textContent = \"BokehJS \" + Bokeh.version + \" successfully loaded.\";\n",
       "      } else if (Date.now() < window._bokeh_timeout) {\n",
       "        setTimeout(display_loaded, 100)\n",
       "      }\n",
       "    }\n",
       "  \n",
       "    function run_callbacks() {\n",
       "      window._bokeh_onload_callbacks.forEach(function(callback) { callback() });\n",
       "      delete window._bokeh_onload_callbacks\n",
       "      console.info(\"Bokeh: all callbacks have finished\");\n",
       "    }\n",
       "  \n",
       "    function load_libs(js_urls, callback) {\n",
       "      window._bokeh_onload_callbacks.push(callback);\n",
       "      if (window._bokeh_is_loading > 0) {\n",
       "        console.log(\"Bokeh: BokehJS is being loaded, scheduling callback at\", now());\n",
       "        return null;\n",
       "      }\n",
       "      if (js_urls == null || js_urls.length === 0) {\n",
       "        run_callbacks();\n",
       "        return null;\n",
       "      }\n",
       "      console.log(\"Bokeh: BokehJS not loaded, scheduling load and callback at\", now());\n",
       "      window._bokeh_is_loading = js_urls.length;\n",
       "      for (var i = 0; i < js_urls.length; i++) {\n",
       "        var url = js_urls[i];\n",
       "        var s = document.createElement('script');\n",
       "        s.src = url;\n",
       "        s.async = false;\n",
       "        s.onreadystatechange = s.onload = function() {\n",
       "          window._bokeh_is_loading--;\n",
       "          if (window._bokeh_is_loading === 0) {\n",
       "            console.log(\"Bokeh: all BokehJS libraries loaded\");\n",
       "            run_callbacks()\n",
       "          }\n",
       "        };\n",
       "        s.onerror = function() {\n",
       "          console.warn(\"failed to load library \" + url);\n",
       "        };\n",
       "        console.log(\"Bokeh: injecting script tag for BokehJS library: \", url);\n",
       "        document.getElementsByTagName(\"head\")[0].appendChild(s);\n",
       "      }\n",
       "    };var element = document.getElementById(\"e9ca1d6b-9dc5-4e5a-aaec-0677499eb42b\");\n",
       "    if (element == null) {\n",
       "      console.log(\"Bokeh: ERROR: autoload.js configured with elementid 'e9ca1d6b-9dc5-4e5a-aaec-0677499eb42b' but no matching script tag was found. \")\n",
       "      return false;\n",
       "    }\n",
       "  \n",
       "    var js_urls = [];\n",
       "  \n",
       "    var inline_js = [\n",
       "      function(Bokeh) {\n",
       "        (function() {\n",
       "          var fn = function() {\n",
       "            var docs_json = {\"16103859-8208-4358-b059-73a4ca21e877\":{\"roots\":{\"references\":[{\"attributes\":{\"plot\":null,\"text\":\"Lift Curve\"},\"id\":\"b7d57a6b-9a63-4c06-b7ec-efbd35ba199e\",\"type\":\"Title\"},{\"attributes\":{\"callback\":null,\"column_names\":[\"index\",\"score\",\"percentile_number\",\"lift\",\"percentile\",\"cutoff_score\"],\"data\":{\"cutoff_score\":[\"0.034133\",\"0.030022\",\"0.027846\",\"0.02627\",\"0.025049\",\"0.023956\",\"0.023072\",\"0.022214\",\"0.021465\",\"0.020789\",\"0.020123\",\"0.019519\",\"0.018906\",\"0.018285\",\"0.0177\",\"0.017106\",\"0.016573\",\"0.016075\",\"0.015609\",\"0.015191\",\"0.014819\",\"0.01445\",\"0.014132\",\"0.013813\",\"0.013508\",\"0.013217\",\"0.012958\",\"0.012708\",\"0.012473\",\"0.012252\",\"0.012046\",\"0.011855\",\"0.011674\",\"0.011496\",\"0.011328\",\"0.011165\",\"0.010991\",\"0.010838\",\"0.010689\",\"0.010547\",\"0.010401\",\"0.010267\",\"0.01013\",\"0.009989\",\"0.00984\",\"0.009686\",\"0.009532\",\"0.009357\",\"0.009191\",\"0.009025\",\"0.008852\",\"0.008698\",\"0.008548\",\"0.008401\",\"0.008265\",\"0.008138\",\"0.008027\",\"0.007918\",\"0.007828\",\"0.007739\",\"0.007658\",\"0.007588\",\"0.007518\",\"0.007455\",\"0.007398\",\"0.007341\",\"0.007283\",\"0.007225\",\"0.007168\",\"0.007114\",\"0.007056\",\"0.006998\",\"0.006943\",\"0.006879\",\"0.006812\",\"0.006749\",\"0.00668\",\"0.006603\",\"0.006526\",\"0.006441\",\"0.00636\",\"0.006272\",\"0.00618\",\"0.006081\",\"0.005983\",\"0.005882\",\"0.005787\",\"0.005684\",\"0.005596\",\"0.005487\",\"0.005374\",\"0.005258\",\"0.005169\",\"0.005053\",\"0.004917\",\"0.004734\",\"0.004501\",\"0.004194\",\"0.00366\",\"0.00178\"],\"index\":[0,1,2,3,4,5,6,7,8,9,10,11,12,13,14,15,16,17,18,19,20,21,22,23,24,25,26,27,28,29,30,31,32,33,34,35,36,37,38,39,40,41,42,43,44,45,46,47,48,49,50,51,52,53,54,55,56,57,58,59,60,61,62,63,64,65,66,67,68,69,70,71,72,73,74,75,76,77,78,79,80,81,82,83,84,85,86,87,88,89,90,91,92,93,94,95,96,97,98,99],\"lift\":{\"__ndarray__\":\"u8tKfdYFBUAtvE5k15AEQAZsTRfXtwRAu8tKfdYFBUB/jVoZ2jEDQOlMVeXYzQNABl941mr6A0DWpNS+WOEDQKIirrLZZQNA/CMo4XMaA0AdFNaOIV0CQGBuYufbRwJA8CShvNzbAUANdtdvlG4BQIccCN8R4QBAlkOtYh4GAUC5LyPI/OEAQG/QdB3gJQBAVnydGC3A/z8WyL2DW3H/Pyg0F5RUQP8/35nKDtt+/j/9eF6oolz+P1zz/1fFtP0/zeMDP8Y//T+k9eF+x538P0GPtdnHb/w/GXcxmFo0/D9nAUF1tk38P/tkDqfIB/w/h2k71BOZ+z+RpRPbyWv7Pxt956zhJPs/4OWO5zMZ+z8I1PUdOaP6P0/xxw/MTfo/MjjoEqMJ+j/SQ+y0v7z5P8s6qwDN0/k/VGcjd82X+T9vwFxKj3X5Pwi6S5xgKPk/SMFqFqvp+D9XdXFxLKP4P0ZkUI1pVfg/xrYPvNsA+D+TbqAL3Ln3P2LJNa3Rdfc/YPlXSXQh9z8uKzAOi+z2PzEqW7EtnvY/xUzvktN/9j+4H75deDb2PzvHXuIpAfY/YJ9bYEnF9T98leqt55P1P3ArSOPVU/U/khWrRAse9T8Vlnad8Pn0P4rVf089z/Q/YfMWbEi19D+DFjY6EY30P8XE1oxFV/Q/czKx9LdH9D+drFJL2Bv0P2a791QH3PM/vfJwahKz8z8oXSrhUYvzPwVipRZqjfM/rCgPA7V08z+CKw1+SWPzP2zl2fJZRfM/FzBF1Xc78z+WGjI1OxLzP0OZAHxV8PI/RGbkfnzV8j8bAUs5Lq/yP5QrrjXbofI/Um0fhwWJ8j9EcqGtG2XyP+skWdYUQvI/CHQ4pH4U8j9mpVtcj/7xP+Hn98Yl6fE/nPsOLD3U8T8X3cDSfa/xP2co0uu5m/E///TdXCNz8T+4x3imPFvxP7CEwOjdQ/E/wRTol7ki8T8eY6VGIfjwP5grRVaU4vA/Aqc+PI2+8D/LAH6AIqXwPxWykWZ/gvA/uVvhUTlq8D8ZOscR5UjwP9niDzA9KPA/AAAAAAAA8D8=\",\"dtype\":\"float64\",\"shape\":[100]},\"percentile\":[\"0.01\",\"0.02\",\"0.03\",\"0.04\",\"0.05\",\"0.06\",\"0.07\",\"0.08\",\"0.09\",\"0.1\",\"0.11\",\"0.12\",\"0.13\",\"0.14\",\"0.15\",\"0.16\",\"0.17\",\"0.18\",\"0.19\",\"0.2\",\"0.21\",\"0.22\",\"0.23\",\"0.24\",\"0.25\",\"0.26\",\"0.27\",\"0.28\",\"0.29\",\"0.3\",\"0.31\",\"0.32\",\"0.33\",\"0.34\",\"0.35\",\"0.36\",\"0.37\",\"0.38\",\"0.39\",\"0.4\",\"0.41\",\"0.42\",\"0.43\",\"0.44\",\"0.45\",\"0.46\",\"0.47\",\"0.48\",\"0.49\",\"0.5\",\"0.51\",\"0.52\",\"0.53\",\"0.54\",\"0.55\",\"0.56\",\"0.57\",\"0.58\",\"0.59\",\"0.6\",\"0.61\",\"0.62\",\"0.63\",\"0.64\",\"0.65\",\"0.66\",\"0.67\",\"0.68\",\"0.69\",\"0.7\",\"0.71\",\"0.72\",\"0.73\",\"0.74\",\"0.75\",\"0.76\",\"0.77\",\"0.78\",\"0.79\",\"0.8\",\"0.81\",\"0.82\",\"0.83\",\"0.84\",\"0.85\",\"0.86\",\"0.87\",\"0.88\",\"0.89\",\"0.9\",\"0.91\",\"0.92\",\"0.93\",\"0.94\",\"0.95\",\"0.96\",\"0.97\",\"0.98\",\"0.99\",\"1.0\"],\"percentile_number\":{\"__ndarray__\":\"exSuR+F6hD97FK5H4XqUP7gehetRuJ4/exSuR+F6pD+amZmZmZmpP7gehetRuK4/7FG4HoXrsT97FK5H4Xq0PwrXo3A9Crc/mpmZmZmZuT8pXI/C9Si8P7gehetRuL4/pHA9CtejwD/sUbgehevBPzMzMzMzM8M/exSuR+F6xD/D9Shcj8LFPwrXo3A9Csc/UrgehetRyD+amZmZmZnJP+F6FK5H4co/KVyPwvUozD9xPQrXo3DNP7gehetRuM4/AAAAAAAA0D+kcD0K16PQP0jhehSuR9E/7FG4HoXr0T+PwvUoXI/SPzMzMzMzM9M/16NwPQrX0z97FK5H4XrUPx+F61G4HtU/w/UoXI/C1T9mZmZmZmbWPwrXo3A9Ctc/rkfhehSu1z9SuB6F61HYP/YoXI/C9dg/mpmZmZmZ2T89CtejcD3aP+F6FK5H4do/hetRuB6F2z8pXI/C9SjcP83MzMzMzNw/cT0K16Nw3T8UrkfhehTeP7gehetRuN4/XI/C9Shc3z8AAAAAAADgP1K4HoXrUeA/pHA9Ctej4D/2KFyPwvXgP0jhehSuR+E/mpmZmZmZ4T/sUbgehevhPz0K16NwPeI/j8L1KFyP4j/hehSuR+HiPzMzMzMzM+M/hetRuB6F4z/Xo3A9CtfjPylcj8L1KOQ/exSuR+F65D/NzMzMzMzkPx+F61G4HuU/cT0K16Nw5T/D9Shcj8LlPxSuR+F6FOY/ZmZmZmZm5j+4HoXrUbjmPwrXo3A9Cuc/XI/C9Shc5z+uR+F6FK7nPwAAAAAAAOg/UrgehetR6D+kcD0K16PoP/YoXI/C9eg/SOF6FK5H6T+amZmZmZnpP+xRuB6F6+k/PQrXo3A96j+PwvUoXI/qP+F6FK5H4eo/MzMzMzMz6z+F61G4HoXrP9ejcD0K1+s/KVyPwvUo7D97FK5H4XrsP83MzMzMzOw/H4XrUbge7T9xPQrXo3DtP8P1KFyPwu0/FK5H4XoU7j9mZmZmZmbuP7gehetRuO4/CtejcD0K7z9cj8L1KFzvP65H4XoUru8/AAAAAAAA8D8=\",\"dtype\":\"float64\",\"shape\":[100]},\"score\":{\"__ndarray__\":\"RNtIxtF5oT9ntWnSK76ePxlMZjivg5w/u/Vg+I7mmj+5OanRdKaZP8tX5MLPh5g/8AXedxmglz9zOsWpNL+WP8afYwDy+pU/Y6OKRaRJlT8plunFGJuUP2hqxS6r/JM/JTpPwjFckz/FcYx2PbmSPz853ToNIJI/9u3Z5VGEkT9CfqDPZ/iQP7wkq27rdZA/af7LKpf3jz80WTMbZRyPP7EKDktYWY4/WvjN5S6YjT/EbodNcvGMP/kGueD4SYw/2fHIX1Wqiz+RK/cPWxGLPzrPMDyciYo/ouz3paoGij94zhP9XIuJP7VE9/2vF4k/s/AU9W+riD+Rjysre0eIP7owocuS6Ic/Zlj973SLhz9af7J5SDOHPzyLcw7m3YY/rFSefE+Chj8DuUC5RDKGP4rWE6cN5IU/AbD3eqqZhT/+8ifzC02FP1CQJUbWBoU/IqEt+B2/hD8C0LTSKHWEP9HD9fPnJoQ/UwgIgw/Wgz9gwCyHfoWDP01mfwuSKYM/efVmEN/Sgj/ugJM8xXuCP49X4oknIYI/KgGMEITQgT/EhC1VkoGBPx9C7uS1NIE/LUDB9F7tgD+lI6K70aqAPwZ8VUo2cIA/jCXAPD83gD+gj7hIBAiAP6LRQHVDs38/7NRWUaxdfz90h4UdrxR/P6wm4Y4Wy34/gJys1WuJfj+ZTyCyCE1+P5ZnI6x0EX4/+z+coUfUfT+kZ1GvKJh9P93lPqZeXH0/PauefQ0jfT98lHPGZOZ8P0P0wNEYqnw/9WXBw2JwfD92iHxxqy18P5vwzthR53s/bg5M0Falez/9lha4xFx7Pxv3/dNkC3s/aIuI0C27ej/V2tpC0GF6PxkNKjIkDXo/IPWriTSweT9rHkJmEFB5P7rqD2wt6Hg/Zpw3vPqBeD/E6NxiRBd4PzPwwmigs3c/U9TwXZZIdz+Xq+4fvOt2P2Lf/R5jeXY/lJDcMDwDdj/J8IyMMYl1Pz2c8GV0LHU/LeQtux6ydD8mVwyfcyN0P+2rHF1kZHM/19FHSiJwcj9lDnlyUi1xP8n3D+c1/G0/hTRT0IgoXT8=\",\"dtype\":\"float64\",\"shape\":[100]}}},\"id\":\"d793bc18-c39d-4b0f-9e64-e6ce0c61102d\",\"type\":\"ColumnDataSource\"},{\"attributes\":{\"callback\":null,\"start\":0.01},\"id\":\"adfb982f-2d3e-46fc-9519-f10786a54a4d\",\"type\":\"Range1d\"},{\"attributes\":{\"plot\":{\"id\":\"17f54f72-ceec-4360-8143-93780b9acc1e\",\"subtype\":\"Figure\",\"type\":\"Plot\"}},\"id\":\"82f978ba-b7b8-4ccd-9d4d-240927543859\",\"type\":\"WheelZoomTool\"},{\"attributes\":{\"overlay\":{\"id\":\"f479520b-6776-44fd-a5c5-4407c15d7cdb\",\"type\":\"BoxAnnotation\"},\"plot\":{\"id\":\"17f54f72-ceec-4360-8143-93780b9acc1e\",\"subtype\":\"Figure\",\"type\":\"Plot\"}},\"id\":\"55c03c06-d12e-4934-9257-a861966f4d2e\",\"type\":\"BoxZoomTool\"},{\"attributes\":{\"plot\":{\"id\":\"17f54f72-ceec-4360-8143-93780b9acc1e\",\"subtype\":\"Figure\",\"type\":\"Plot\"}},\"id\":\"6e264e82-9660-468b-82ac-7ba54cedb18d\",\"type\":\"SaveTool\"},{\"attributes\":{},\"id\":\"50516217-0d55-480d-8c8b-f57d7bd439d2\",\"type\":\"ToolEvents\"},{\"attributes\":{\"plot\":{\"id\":\"17f54f72-ceec-4360-8143-93780b9acc1e\",\"subtype\":\"Figure\",\"type\":\"Plot\"}},\"id\":\"17ed44b0-db7e-45f6-8703-378970cd6fa8\",\"type\":\"ResetTool\"},{\"attributes\":{\"data_source\":{\"id\":\"398f7159-3d75-4e80-84e8-acdb3b865d9f\",\"type\":\"ColumnDataSource\"},\"glyph\":{\"id\":\"d586deb1-b7ba-4831-aa0e-62be026e2358\",\"type\":\"Patch\"},\"hover_glyph\":null,\"muted_glyph\":null,\"nonselection_glyph\":{\"id\":\"4840af8f-e984-4d16-b0a6-c44c88386329\",\"type\":\"Patch\"},\"selection_glyph\":null},\"id\":\"058df438-a6b6-4546-810c-010402d02575\",\"type\":\"GlyphRenderer\"},{\"attributes\":{},\"id\":\"03abd4ec-8235-46fe-bb6f-793a6db56c51\",\"type\":\"BasicTicker\"},{\"attributes\":{\"data_source\":{\"id\":\"d793bc18-c39d-4b0f-9e64-e6ce0c61102d\",\"type\":\"ColumnDataSource\"},\"glyph\":{\"id\":\"f8751913-4a55-45b0-bff5-cbbd83e24183\",\"type\":\"Line\"},\"hover_glyph\":null,\"muted_glyph\":null,\"nonselection_glyph\":{\"id\":\"d4a65c10-d81d-4516-95fc-f272aeebedf0\",\"type\":\"Line\"},\"selection_glyph\":null},\"id\":\"466356f8-ba19-410c-af41-7356dfdc8433\",\"type\":\"GlyphRenderer\"},{\"attributes\":{},\"id\":\"8c5fe7b4-1a26-4dbe-8349-4a0d7e2b76eb\",\"type\":\"BasicTicker\"},{\"attributes\":{\"axis_label\":\"Percentile\",\"formatter\":{\"id\":\"24248de8-ce39-4b2f-818d-74450758635c\",\"type\":\"BasicTickFormatter\"},\"plot\":{\"id\":\"17f54f72-ceec-4360-8143-93780b9acc1e\",\"subtype\":\"Figure\",\"type\":\"Plot\"},\"ticker\":{\"id\":\"03abd4ec-8235-46fe-bb6f-793a6db56c51\",\"type\":\"BasicTicker\"}},\"id\":\"5d302e54-acf2-4a7a-9c76-ecfc3097b225\",\"type\":\"LinearAxis\"},{\"attributes\":{\"dimension\":1,\"plot\":{\"id\":\"17f54f72-ceec-4360-8143-93780b9acc1e\",\"subtype\":\"Figure\",\"type\":\"Plot\"},\"ticker\":{\"id\":\"8c5fe7b4-1a26-4dbe-8349-4a0d7e2b76eb\",\"type\":\"BasicTicker\"}},\"id\":\"aa056e88-ed70-424a-821f-d42394003d1f\",\"type\":\"Grid\"},{\"attributes\":{\"below\":[{\"id\":\"5d302e54-acf2-4a7a-9c76-ecfc3097b225\",\"type\":\"LinearAxis\"}],\"left\":[{\"id\":\"d525da6e-a923-44bf-8731-44d99a01d67a\",\"type\":\"LinearAxis\"}],\"plot_height\":480,\"plot_width\":700,\"renderers\":[{\"id\":\"5d302e54-acf2-4a7a-9c76-ecfc3097b225\",\"type\":\"LinearAxis\"},{\"id\":\"94d21e1d-aae0-48ed-af40-8b7b8982be85\",\"type\":\"Grid\"},{\"id\":\"d525da6e-a923-44bf-8731-44d99a01d67a\",\"type\":\"LinearAxis\"},{\"id\":\"aa056e88-ed70-424a-821f-d42394003d1f\",\"type\":\"Grid\"},{\"id\":\"f479520b-6776-44fd-a5c5-4407c15d7cdb\",\"type\":\"BoxAnnotation\"},{\"id\":\"466356f8-ba19-410c-af41-7356dfdc8433\",\"type\":\"GlyphRenderer\"},{\"id\":\"058df438-a6b6-4546-810c-010402d02575\",\"type\":\"GlyphRenderer\"}],\"title\":{\"id\":\"b7d57a6b-9a63-4c06-b7ec-efbd35ba199e\",\"type\":\"Title\"},\"tool_events\":{\"id\":\"50516217-0d55-480d-8c8b-f57d7bd439d2\",\"type\":\"ToolEvents\"},\"toolbar\":{\"id\":\"36ed92b5-cfe2-4d8a-a912-98486e05cfb4\",\"type\":\"Toolbar\"},\"x_range\":{\"id\":\"adfb982f-2d3e-46fc-9519-f10786a54a4d\",\"type\":\"Range1d\"},\"y_range\":{\"id\":\"7e553bb2-2726-4b1e-94e7-fe4b6221f212\",\"type\":\"Range1d\"}},\"id\":\"17f54f72-ceec-4360-8143-93780b9acc1e\",\"subtype\":\"Figure\",\"type\":\"Plot\"},{\"attributes\":{\"line_alpha\":{\"value\":0.1},\"line_color\":{\"value\":\"#1f77b4\"},\"line_width\":{\"value\":3},\"x\":{\"field\":\"percentile_number\"},\"y\":{\"field\":\"lift\"}},\"id\":\"d4a65c10-d81d-4516-95fc-f272aeebedf0\",\"type\":\"Line\"},{\"attributes\":{\"bottom_units\":\"screen\",\"fill_alpha\":{\"value\":0.5},\"fill_color\":{\"value\":\"lightgrey\"},\"left_units\":\"screen\",\"level\":\"overlay\",\"line_alpha\":{\"value\":1.0},\"line_color\":{\"value\":\"black\"},\"line_dash\":[4,4],\"line_width\":{\"value\":2},\"plot\":null,\"render_mode\":\"css\",\"right_units\":\"screen\",\"top_units\":\"screen\"},\"id\":\"f479520b-6776-44fd-a5c5-4407c15d7cdb\",\"type\":\"BoxAnnotation\"},{\"attributes\":{\"active_drag\":\"auto\",\"active_scroll\":\"auto\",\"active_tap\":\"auto\",\"tools\":[{\"id\":\"6fda8f6a-37fa-417b-ae08-df4f31322906\",\"type\":\"HoverTool\"},{\"id\":\"342cfb9f-8ba9-48ce-85d4-d0fb10d7a94c\",\"type\":\"PanTool\"},{\"id\":\"55c03c06-d12e-4934-9257-a861966f4d2e\",\"type\":\"BoxZoomTool\"},{\"id\":\"82f978ba-b7b8-4ccd-9d4d-240927543859\",\"type\":\"WheelZoomTool\"},{\"id\":\"6e264e82-9660-468b-82ac-7ba54cedb18d\",\"type\":\"SaveTool\"},{\"id\":\"17ed44b0-db7e-45f6-8703-378970cd6fa8\",\"type\":\"ResetTool\"}]},\"id\":\"36ed92b5-cfe2-4d8a-a912-98486e05cfb4\",\"type\":\"Toolbar\"},{\"attributes\":{\"callback\":null,\"column_names\":[\"y\",\"x\"],\"data\":{\"x\":[\"0.01\",\"0.02\",\"0.03\",\"0.04\",\"0.05\",\"0.06\",\"0.07\",\"0.08\",\"0.09\",\"0.1\",\"0.11\",\"0.12\",\"0.13\",\"0.14\",\"0.15\",\"0.16\",\"0.17\",\"0.18\",\"0.19\",\"0.2\",\"0.21\",\"0.22\",\"0.23\",\"0.24\",\"0.25\",\"0.26\",\"0.27\",\"0.28\",\"0.29\",\"0.3\",\"0.31\",\"0.32\",\"0.33\",\"0.34\",\"0.35\",\"0.36\",\"0.37\",\"0.38\",\"0.39\",\"0.4\",\"0.41\",\"0.42\",\"0.43\",\"0.44\",\"0.45\",\"0.46\",\"0.47\",\"0.48\",\"0.49\",\"0.5\",\"0.51\",\"0.52\",\"0.53\",\"0.54\",\"0.55\",\"0.56\",\"0.57\",\"0.58\",\"0.59\",\"0.6\",\"0.61\",\"0.62\",\"0.63\",\"0.64\",\"0.65\",\"0.66\",\"0.67\",\"0.68\",\"0.69\",\"0.7\",\"0.71\",\"0.72\",\"0.73\",\"0.74\",\"0.75\",\"0.76\",\"0.77\",\"0.78\",\"0.79\",\"0.8\",\"0.81\",\"0.82\",\"0.83\",\"0.84\",\"0.85\",\"0.86\",\"0.87\",\"0.88\",\"0.89\",\"0.9\",\"0.91\",\"0.92\",\"0.93\",\"0.94\",\"0.95\",\"0.96\",\"0.97\",\"0.98\",\"0.99\",\"1.0\",0.01],\"y\":[2.6278505123568414,2.5707233273056063,2.589765722322684,2.6278505123568414,2.399341772151899,2.4755113522202135,2.4972740893825884,2.4850325497287526,2.4247316321746704,2.387916335141652,2.295474162967834,2.2850874020494274,2.232354615848287,2.178994058382847,2.1098973678923048,2.127987643158529,2.1103454242456476,2.018493871810328,1.9844180070429238,1.9651751657625076,1.953205660323201,1.9059706285275906,1.8976160599627854,1.8566335141651598,1.828069921639542,1.7885203319886864,1.7772902015939993,1.7627817101524157,1.768972833655505,1.751900341571228,1.7248724260631165,1.7138155515370708,1.6965042833397266,1.6936530156366345,1.6648493929217256,1.6439934364744493,1.6273527849730383,1.6085812632847944,1.6142091776015828,1.5995611814345994,1.591201105573443,1.5723577599816299,1.5570479274429818,1.539837306153762,1.5208526153640078,1.5002095552585373,1.4828758672873945,1.4662644163150493,1.4456675400720869,1.432749801084991,1.4136177947972437,1.4062076320304169,1.3882983838866334,1.375284084566785,1.36066568031125,1.3486096185309568,1.3329676511954993,1.3198349649768244,1.3110204840571715,1.3005955796664659,1.29425852034111,1.2844402574422993,1.2713065625687687,1.2675094183242919,1.2567980711271851,1.2412179297495753,1.2312187345370795,1.2215136333014218,1.2220250019655634,1.215992938947731,1.2117400096783233,1.2044314848302191,1.2020185786123017,1.1919509962041608,1.1836752742616035,1.1771206814504618,1.1677686918265582,1.1645156952751892,1.1584525373680958,1.1496845991561182,1.141133153245671,1.130003587232979,1.1246484382375797,1.11942079278969,1.114316150764103,1.1053446037820487,1.100519105124954,1.0906098964326814,1.0847746374897564,1.0790690509677852,1.0709777768945943,1.0605786094294625,1.055317246430354,1.0465214112577432,1.0403161067225024,1.0318597799879445,1.025933570713944,1.0177965826475257,1.0098239781784086,1.0,1.0]}},\"id\":\"398f7159-3d75-4e80-84e8-acdb3b865d9f\",\"type\":\"ColumnDataSource\"},{\"attributes\":{\"plot\":{\"id\":\"17f54f72-ceec-4360-8143-93780b9acc1e\",\"subtype\":\"Figure\",\"type\":\"Plot\"},\"ticker\":{\"id\":\"03abd4ec-8235-46fe-bb6f-793a6db56c51\",\"type\":\"BasicTicker\"}},\"id\":\"94d21e1d-aae0-48ed-af40-8b7b8982be85\",\"type\":\"Grid\"},{\"attributes\":{\"fill_alpha\":{\"value\":0.1},\"fill_color\":{\"value\":\"#1f77b4\"},\"line_alpha\":{\"value\":0.1},\"line_color\":{\"value\":\"#1f77b4\"},\"x\":{\"field\":\"x\"},\"y\":{\"field\":\"y\"}},\"id\":\"4840af8f-e984-4d16-b0a6-c44c88386329\",\"type\":\"Patch\"},{\"attributes\":{},\"id\":\"24248de8-ce39-4b2f-818d-74450758635c\",\"type\":\"BasicTickFormatter\"},{\"attributes\":{},\"id\":\"4b33ca0b-b6b2-4c05-933c-df40a4b9f3c6\",\"type\":\"BasicTickFormatter\"},{\"attributes\":{\"plot\":{\"id\":\"17f54f72-ceec-4360-8143-93780b9acc1e\",\"subtype\":\"Figure\",\"type\":\"Plot\"}},\"id\":\"342cfb9f-8ba9-48ce-85d4-d0fb10d7a94c\",\"type\":\"PanTool\"},{\"attributes\":{\"callback\":null,\"end\":2.6278505123568414,\"start\":1.0},\"id\":\"7e553bb2-2726-4b1e-94e7-fe4b6221f212\",\"type\":\"Range1d\"},{\"attributes\":{\"line_color\":{\"value\":\"#ff0000\"},\"line_width\":{\"value\":3},\"x\":{\"field\":\"percentile_number\"},\"y\":{\"field\":\"lift\"}},\"id\":\"f8751913-4a55-45b0-bff5-cbbd83e24183\",\"type\":\"Line\"},{\"attributes\":{\"axis_label\":\"Lift\",\"formatter\":{\"id\":\"4b33ca0b-b6b2-4c05-933c-df40a4b9f3c6\",\"type\":\"BasicTickFormatter\"},\"plot\":{\"id\":\"17f54f72-ceec-4360-8143-93780b9acc1e\",\"subtype\":\"Figure\",\"type\":\"Plot\"},\"ticker\":{\"id\":\"8c5fe7b4-1a26-4dbe-8349-4a0d7e2b76eb\",\"type\":\"BasicTicker\"}},\"id\":\"d525da6e-a923-44bf-8731-44d99a01d67a\",\"type\":\"LinearAxis\"},{\"attributes\":{\"callback\":null,\"plot\":{\"id\":\"17f54f72-ceec-4360-8143-93780b9acc1e\",\"subtype\":\"Figure\",\"type\":\"Plot\"},\"tooltips\":[[\"Cutoff score\",\"@cutoff_score\"],[\"Percentile\",\"@percentile\"],[\"Lift value\",\"@lift\"]]},\"id\":\"6fda8f6a-37fa-417b-ae08-df4f31322906\",\"type\":\"HoverTool\"},{\"attributes\":{\"fill_alpha\":{\"value\":0.1},\"fill_color\":{\"value\":\"#ff6666\"},\"line_alpha\":{\"value\":0.0},\"line_color\":{\"value\":\"#1f77b4\"},\"x\":{\"field\":\"x\"},\"y\":{\"field\":\"y\"}},\"id\":\"d586deb1-b7ba-4831-aa0e-62be026e2358\",\"type\":\"Patch\"}],\"root_ids\":[\"17f54f72-ceec-4360-8143-93780b9acc1e\"]},\"title\":\"Bokeh Application\",\"version\":\"0.12.5\"}};\n",
       "            var render_items = [{\"docid\":\"16103859-8208-4358-b059-73a4ca21e877\",\"elementid\":\"e9ca1d6b-9dc5-4e5a-aaec-0677499eb42b\",\"modelid\":\"17f54f72-ceec-4360-8143-93780b9acc1e\"}];\n",
       "            \n",
       "            Bokeh.embed.embed_items(docs_json, render_items);\n",
       "          };\n",
       "          if (document.readyState != \"loading\") fn();\n",
       "          else document.addEventListener(\"DOMContentLoaded\", fn);\n",
       "        })();\n",
       "      },\n",
       "      function(Bokeh) {\n",
       "      }\n",
       "    ];\n",
       "  \n",
       "    function run_inline_js() {\n",
       "      \n",
       "      if ((window.Bokeh !== undefined) || (force === true)) {\n",
       "        for (var i = 0; i < inline_js.length; i++) {\n",
       "          inline_js[i](window.Bokeh);\n",
       "        }if (force === true) {\n",
       "          display_loaded();\n",
       "        }} else if (Date.now() < window._bokeh_timeout) {\n",
       "        setTimeout(run_inline_js, 100);\n",
       "      } else if (!window._bokeh_failed_load) {\n",
       "        console.log(\"Bokeh: BokehJS failed to load within specified timeout.\");\n",
       "        window._bokeh_failed_load = true;\n",
       "      } else if (force !== true) {\n",
       "        var cell = $(document.getElementById(\"e9ca1d6b-9dc5-4e5a-aaec-0677499eb42b\")).parents('.cell').data().cell;\n",
       "        cell.output_area.append_execute_result(NB_LOAD_WARNING)\n",
       "      }\n",
       "  \n",
       "    }\n",
       "  \n",
       "    if (window._bokeh_is_loading === 0) {\n",
       "      console.log(\"Bokeh: BokehJS loaded, going straight to plotting\");\n",
       "      run_inline_js();\n",
       "    } else {\n",
       "      load_libs(js_urls, function() {\n",
       "        console.log(\"Bokeh: BokehJS plotting callback run at\", now());\n",
       "        run_inline_js();\n",
       "      });\n",
       "    }\n",
       "  }(this));\n",
       "</script>"
      ]
     },
     "metadata": {},
     "output_type": "display_data"
    }
   ],
   "source": [
    "show(lift_plot)"
   ]
  },
  {
   "cell_type": "code",
   "execution_count": 72,
   "metadata": {
    "collapsed": false
   },
   "outputs": [
    {
     "data": {
      "text/html": [
       "\n",
       "\n",
       "    <div class=\"bk-root\">\n",
       "        <div class=\"bk-plotdiv\" id=\"53a113a0-3806-4d88-87b1-a68d0365e20f\"></div>\n",
       "    </div>\n",
       "<script type=\"text/javascript\">\n",
       "  \n",
       "  (function(global) {\n",
       "    function now() {\n",
       "      return new Date();\n",
       "    }\n",
       "  \n",
       "    var force = false;\n",
       "  \n",
       "    if (typeof (window._bokeh_onload_callbacks) === \"undefined\" || force === true) {\n",
       "      window._bokeh_onload_callbacks = [];\n",
       "      window._bokeh_is_loading = undefined;\n",
       "    }\n",
       "  \n",
       "  \n",
       "    \n",
       "    if (typeof (window._bokeh_timeout) === \"undefined\" || force === true) {\n",
       "      window._bokeh_timeout = Date.now() + 0;\n",
       "      window._bokeh_failed_load = false;\n",
       "    }\n",
       "  \n",
       "    var NB_LOAD_WARNING = {'data': {'text/html':\n",
       "       \"<div style='background-color: #fdd'>\\n\"+\n",
       "       \"<p>\\n\"+\n",
       "       \"BokehJS does not appear to have successfully loaded. If loading BokehJS from CDN, this \\n\"+\n",
       "       \"may be due to a slow or bad network connection. Possible fixes:\\n\"+\n",
       "       \"</p>\\n\"+\n",
       "       \"<ul>\\n\"+\n",
       "       \"<li>re-rerun `output_notebook()` to attempt to load from CDN again, or</li>\\n\"+\n",
       "       \"<li>use INLINE resources instead, as so:</li>\\n\"+\n",
       "       \"</ul>\\n\"+\n",
       "       \"<code>\\n\"+\n",
       "       \"from bokeh.resources import INLINE\\n\"+\n",
       "       \"output_notebook(resources=INLINE)\\n\"+\n",
       "       \"</code>\\n\"+\n",
       "       \"</div>\"}};\n",
       "  \n",
       "    function display_loaded() {\n",
       "      if (window.Bokeh !== undefined) {\n",
       "        var el = document.getElementById(\"53a113a0-3806-4d88-87b1-a68d0365e20f\");\n",
       "        el.textContent = \"BokehJS \" + Bokeh.version + \" successfully loaded.\";\n",
       "      } else if (Date.now() < window._bokeh_timeout) {\n",
       "        setTimeout(display_loaded, 100)\n",
       "      }\n",
       "    }\n",
       "  \n",
       "    function run_callbacks() {\n",
       "      window._bokeh_onload_callbacks.forEach(function(callback) { callback() });\n",
       "      delete window._bokeh_onload_callbacks\n",
       "      console.info(\"Bokeh: all callbacks have finished\");\n",
       "    }\n",
       "  \n",
       "    function load_libs(js_urls, callback) {\n",
       "      window._bokeh_onload_callbacks.push(callback);\n",
       "      if (window._bokeh_is_loading > 0) {\n",
       "        console.log(\"Bokeh: BokehJS is being loaded, scheduling callback at\", now());\n",
       "        return null;\n",
       "      }\n",
       "      if (js_urls == null || js_urls.length === 0) {\n",
       "        run_callbacks();\n",
       "        return null;\n",
       "      }\n",
       "      console.log(\"Bokeh: BokehJS not loaded, scheduling load and callback at\", now());\n",
       "      window._bokeh_is_loading = js_urls.length;\n",
       "      for (var i = 0; i < js_urls.length; i++) {\n",
       "        var url = js_urls[i];\n",
       "        var s = document.createElement('script');\n",
       "        s.src = url;\n",
       "        s.async = false;\n",
       "        s.onreadystatechange = s.onload = function() {\n",
       "          window._bokeh_is_loading--;\n",
       "          if (window._bokeh_is_loading === 0) {\n",
       "            console.log(\"Bokeh: all BokehJS libraries loaded\");\n",
       "            run_callbacks()\n",
       "          }\n",
       "        };\n",
       "        s.onerror = function() {\n",
       "          console.warn(\"failed to load library \" + url);\n",
       "        };\n",
       "        console.log(\"Bokeh: injecting script tag for BokehJS library: \", url);\n",
       "        document.getElementsByTagName(\"head\")[0].appendChild(s);\n",
       "      }\n",
       "    };var element = document.getElementById(\"53a113a0-3806-4d88-87b1-a68d0365e20f\");\n",
       "    if (element == null) {\n",
       "      console.log(\"Bokeh: ERROR: autoload.js configured with elementid '53a113a0-3806-4d88-87b1-a68d0365e20f' but no matching script tag was found. \")\n",
       "      return false;\n",
       "    }\n",
       "  \n",
       "    var js_urls = [];\n",
       "  \n",
       "    var inline_js = [\n",
       "      function(Bokeh) {\n",
       "        (function() {\n",
       "          var fn = function() {\n",
       "            var docs_json = {\"9b36a4c5-4f14-43c2-9c1a-041a1e53c22f\":{\"roots\":{\"references\":[{\"attributes\":{\"plot\":{\"id\":\"3c0698f9-e03b-4637-8589-4b9ab2632aeb\",\"subtype\":\"Figure\",\"type\":\"Plot\"}},\"id\":\"39c2ec23-124a-4b86-8e5e-9d57cc277340\",\"type\":\"SaveTool\"},{\"attributes\":{},\"id\":\"49ed537b-4526-461a-bc5c-bb14fb82fdb3\",\"type\":\"BasicTickFormatter\"},{\"attributes\":{\"fill_alpha\":{\"value\":0.1},\"fill_color\":{\"value\":\"#ff6666\"},\"line_alpha\":{\"value\":0.0},\"line_color\":{\"value\":\"#1f77b4\"},\"x\":{\"field\":\"x\"},\"y\":{\"field\":\"y\"}},\"id\":\"32c39483-2196-4fd3-b9da-4151639f7bdb\",\"type\":\"Patch\"},{\"attributes\":{\"callback\":null},\"id\":\"27d9f363-e441-4bce-a387-9b86f412b9f3\",\"type\":\"DataRange1d\"},{\"attributes\":{\"callback\":null,\"column_names\":[\"y\",\"x\"],\"data\":{\"x\":[0.0,1.0],\"y\":[0.0,1.0]}},\"id\":\"64ffc397-7376-4ffd-b108-b37141e494b3\",\"type\":\"ColumnDataSource\"},{\"attributes\":{},\"id\":\"f3994262-23eb-4ea4-ba5a-4831cc004bf2\",\"type\":\"BasicTickFormatter\"},{\"attributes\":{\"active_drag\":\"auto\",\"active_scroll\":\"auto\",\"active_tap\":\"auto\",\"tools\":[{\"id\":\"59a8973e-ed63-49b4-ba2b-1f38bf8c95b3\",\"type\":\"HoverTool\"},{\"id\":\"86b2c11b-abe8-4491-950b-302ae935cd5e\",\"type\":\"PanTool\"},{\"id\":\"5f684169-2d85-458d-ae7d-1c4cfb005885\",\"type\":\"BoxZoomTool\"},{\"id\":\"079b0ff1-a9ad-481f-a079-008eb49f4d9e\",\"type\":\"WheelZoomTool\"},{\"id\":\"39c2ec23-124a-4b86-8e5e-9d57cc277340\",\"type\":\"SaveTool\"},{\"id\":\"be72b777-cb42-4f86-bf66-b619791c374a\",\"type\":\"ResetTool\"}]},\"id\":\"ab0a36d1-2adb-4ecc-ac74-e92ad3c6a500\",\"type\":\"Toolbar\"},{\"attributes\":{\"dimension\":1,\"plot\":{\"id\":\"3c0698f9-e03b-4637-8589-4b9ab2632aeb\",\"subtype\":\"Figure\",\"type\":\"Plot\"},\"ticker\":{\"id\":\"49d40125-4e85-4a6e-a249-0654bf4b7818\",\"type\":\"BasicTicker\"}},\"id\":\"124acc13-d25c-459f-8e68-f96c87055c3c\",\"type\":\"Grid\"},{\"attributes\":{\"callback\":null},\"id\":\"c9e7cfe5-29c8-4d4e-8d63-2bf94518bc3e\",\"type\":\"DataRange1d\"},{\"attributes\":{},\"id\":\"49d40125-4e85-4a6e-a249-0654bf4b7818\",\"type\":\"BasicTicker\"},{\"attributes\":{\"line_alpha\":{\"value\":0.1},\"line_color\":{\"value\":\"#1f77b4\"},\"line_dash\":[6],\"line_width\":{\"value\":2},\"x\":{\"field\":\"x\"},\"y\":{\"field\":\"y\"}},\"id\":\"9647c32d-63e4-4839-bcd2-12c0368f1b0f\",\"type\":\"Line\"},{\"attributes\":{\"overlay\":{\"id\":\"7a91d4c7-6524-4b92-a1ec-89097c05145c\",\"type\":\"BoxAnnotation\"},\"plot\":{\"id\":\"3c0698f9-e03b-4637-8589-4b9ab2632aeb\",\"subtype\":\"Figure\",\"type\":\"Plot\"}},\"id\":\"5f684169-2d85-458d-ae7d-1c4cfb005885\",\"type\":\"BoxZoomTool\"},{\"attributes\":{\"plot\":{\"id\":\"3c0698f9-e03b-4637-8589-4b9ab2632aeb\",\"subtype\":\"Figure\",\"type\":\"Plot\"},\"ticker\":{\"id\":\"0901c174-7fdf-4d07-8772-68a27ba2a65a\",\"type\":\"BasicTicker\"}},\"id\":\"a136840b-9fb3-4bcf-bd86-004b3a9bd54b\",\"type\":\"Grid\"},{\"attributes\":{\"items\":[{\"id\":\"11fdb3fc-4eee-4b54-bfb7-5385c64c4ba3\",\"type\":\"LegendItem\"}],\"location\":\"bottom_right\",\"plot\":{\"id\":\"3c0698f9-e03b-4637-8589-4b9ab2632aeb\",\"subtype\":\"Figure\",\"type\":\"Plot\"}},\"id\":\"cf419fce-07d8-4888-b54e-75d5a272761b\",\"type\":\"Legend\"},{\"attributes\":{\"line_color\":{\"value\":\"#FA58AC\"},\"line_dash\":[6],\"line_width\":{\"value\":2},\"x\":{\"field\":\"x\"},\"y\":{\"field\":\"y\"}},\"id\":\"c33bce5d-b8df-4da6-8b34-1fd51aff9d8a\",\"type\":\"Line\"},{\"attributes\":{\"callback\":null,\"column_names\":[\"index\",\"tpr_nice\",\"fpr_nice\",\"score\",\"tpr\",\"fpr\",\"cutoff_score\"],\"data\":{\"cutoff_score\":[\"1.084974\",\"0.084974\",\"0.079803\",\"0.073523\",\"0.056318\",\"0.055989\",\"0.048552\",\"0.048549\",\"0.048459\",\"0.048394\",\"0.046939\",\"0.046917\",\"0.046275\",\"0.046265\",\"0.044213\",\"0.044206\",\"0.0421\",\"0.042081\",\"0.041188\",\"0.041177\",\"0.040392\",\"0.040389\",\"0.039186\",\"0.039156\",\"0.038784\",\"0.038784\",\"0.038206\",\"0.038169\",\"0.037306\",\"0.037296\",\"0.036741\",\"0.036731\",\"0.036496\",\"0.036494\",\"0.035919\",\"0.035902\",\"0.035828\",\"0.035821\",\"0.035674\",\"0.035672\",\"0.034556\",\"0.034532\",\"0.034483\",\"0.034477\",\"0.034234\",\"0.034221\",\"0.033982\",\"0.033981\",\"0.033562\",\"0.033555\",\"0.033457\",\"0.033451\",\"0.033364\",\"0.033354\",\"0.033308\",\"0.033305\",\"0.033233\",\"0.033211\",\"0.033035\",\"0.033032\",\"0.032914\",\"0.032913\",\"0.032256\",\"0.032255\",\"0.032193\",\"0.032184\",\"0.031722\",\"0.031713\",\"0.031241\",\"0.031238\",\"0.03111\",\"0.03111\",\"0.030981\",\"0.030981\",\"0.030805\",\"0.030802\",\"0.030686\",\"0.030682\",\"0.030394\",\"0.03039\",\"0.030302\",\"0.030294\",\"0.03005\",\"0.030048\",\"0.030022\",\"0.030021\",\"0.029929\",\"0.029929\",\"0.029744\",\"0.029737\",\"0.029556\",\"0.029553\",\"0.029517\",\"0.029514\",\"0.029299\",\"0.029298\",\"0.029208\",\"0.029206\",\"0.029186\",\"0.029185\",\"0.029126\",\"0.029122\",\"0.029022\",\"0.029021\",\"0.028943\",\"0.02894\",\"0.028871\",\"0.028869\",\"0.028544\",\"0.028544\",\"0.028469\",\"0.028467\",\"0.028427\",\"0.028425\",\"0.028368\",\"0.028366\",\"0.028321\",\"0.028317\",\"0.028148\",\"0.028144\",\"0.028017\",\"0.028014\",\"0.027934\",\"0.027934\",\"0.027896\",\"0.027896\",\"0.02786\",\"0.027858\",\"0.027858\",\"0.027857\",\"0.027711\",\"0.027709\",\"0.027645\",\"0.027643\",\"0.027584\",\"0.027584\",\"0.027462\",\"0.027461\",\"0.027448\",\"0.027448\",\"0.027438\",\"0.027435\",\"0.027386\",\"0.027384\",\"0.027374\",\"0.027374\",\"0.027345\",\"0.027344\",\"0.027344\",\"0.027342\",\"0.027276\",\"0.027274\",\"0.027245\",\"0.027245\",\"0.027184\",\"0.027183\",\"0.027139\",\"0.027137\",\"0.027053\",\"0.027053\",\"0.026913\",\"0.026911\",\"0.026878\",\"0.026878\",\"0.026826\",\"0.026819\",\"0.026801\",\"0.026797\",\"0.026536\",\"0.026535\",\"0.026522\",\"0.026522\",\"0.026471\",\"0.026469\",\"0.026353\",\"0.026352\",\"0.026252\",\"0.026251\",\"0.026108\",\"0.026106\",\"0.026041\",\"0.026039\",\"0.026025\",\"0.026023\",\"0.02582\",\"0.025819\",\"0.025813\",\"0.025813\",\"0.025496\",\"0.025495\",\"0.025472\",\"0.025471\",\"0.025402\",\"0.025401\",\"0.025379\",\"0.025378\",\"0.025248\",\"0.025247\",\"0.025203\",\"0.025203\",\"0.02517\",\"0.02517\",\"0.024827\",\"0.024827\",\"0.024814\",\"0.024813\",\"0.024811\",\"0.024811\",\"0.02474\",\"0.024739\",\"0.024725\",\"0.024725\",\"0.024721\",\"0.024719\",\"0.024715\",\"0.024714\",\"0.0247\",\"0.024697\",\"0.024685\",\"0.024683\",\"0.024664\",\"0.024663\",\"0.024626\",\"0.024626\",\"0.024614\",\"0.024613\",\"0.024599\",\"0.024598\",\"0.024535\",\"0.024535\",\"0.024529\",\"0.024528\",\"0.024527\",\"0.024526\",\"0.024521\",\"0.02452\",\"0.024487\",\"0.024487\",\"0.024465\",\"0.024465\",\"0.024381\",\"0.02438\",\"0.024311\",\"0.02431\",\"0.024205\",\"0.024204\",\"0.024128\",\"0.024127\",\"0.024106\",\"0.024102\",\"0.023977\",\"0.023974\",\"0.023892\",\"0.023891\",\"0.02389\",\"0.023889\",\"0.023854\",\"0.023852\",\"0.023802\",\"0.0238\",\"0.023693\",\"0.023691\",\"0.023656\",\"0.023655\",\"0.023623\",\"0.023622\",\"0.023542\",\"0.023541\",\"0.023541\",\"0.023541\",\"0.023484\",\"0.023484\",\"0.023441\",\"0.02344\",\"0.023434\",\"0.023434\",\"0.023427\",\"0.023427\",\"0.023423\",\"0.023422\",\"0.023364\",\"0.023363\",\"0.023362\",\"0.023361\",\"0.023349\",\"0.023347\",\"0.023323\",\"0.023322\",\"0.023316\",\"0.023316\",\"0.023303\",\"0.023303\",\"0.023242\",\"0.023242\",\"0.023164\",\"0.023164\",\"0.023013\",\"0.023013\",\"0.022977\",\"0.022976\",\"0.022927\",\"0.022924\",\"0.022878\",\"0.022878\",\"0.022856\",\"0.022856\",\"0.022829\",\"0.022829\",\"0.022775\",\"0.022775\",\"0.022754\",\"0.022753\",\"0.022696\",\"0.022695\",\"0.022621\",\"0.022619\",\"0.022592\",\"0.02259\",\"0.022588\",\"0.022586\",\"0.022576\",\"0.022575\",\"0.022562\",\"0.022562\",\"0.022557\",\"0.022557\",\"0.022536\",\"0.022535\",\"0.022505\",\"0.022504\",\"0.022476\",\"0.022475\",\"0.022436\",\"0.022436\",\"0.022296\",\"0.022296\",\"0.022207\",\"0.022206\",\"0.022181\",\"0.02218\",\"0.022064\",\"0.022064\",\"0.021982\",\"0.021982\",\"0.021956\",\"0.021955\",\"0.021923\",\"0.021922\",\"0.021837\",\"0.021837\",\"0.021773\",\"0.021772\",\"0.021756\",\"0.021755\",\"0.0217\",\"0.021699\",\"0.021696\",\"0.021694\",\"0.021669\",\"0.021668\",\"0.021641\",\"0.02164\",\"0.021557\",\"0.021556\",\"0.021545\",\"0.021543\",\"0.02151\",\"0.02151\",\"0.021486\",\"0.021486\",\"0.021484\",\"0.021484\",\"0.02135\",\"0.021349\",\"0.021323\",\"0.021323\",\"0.021234\",\"0.021233\",\"0.02123\",\"0.021229\",\"0.021199\",\"0.021198\",\"0.021178\",\"0.021177\",\"0.02115\",\"0.02115\",\"0.021128\",\"0.021127\",\"0.021096\",\"0.021096\",\"0.021021\",\"0.021021\",\"0.021015\",\"0.021014\",\"0.020998\",\"0.020997\",\"0.020979\",\"0.020979\",\"0.020956\",\"0.020955\",\"0.020901\",\"0.020899\",\"0.020844\",\"0.020844\",\"0.020839\",\"0.020838\",\"0.020724\",\"0.020724\",\"0.020619\",\"0.020618\",\"0.020601\",\"0.020601\",\"0.02059\",\"0.02059\",\"0.020544\",\"0.020544\",\"0.020532\",\"0.020532\",\"0.020512\",\"0.02051\",\"0.020423\",\"0.020423\",\"0.02037\",\"0.02037\",\"0.020319\",\"0.020318\",\"0.020179\",\"0.020179\",\"0.020124\",\"0.020124\",\"0.020053\",\"0.020052\",\"0.020041\",\"0.02004\",\"0.020035\",\"0.020035\",\"0.019993\",\"0.019992\",\"0.019895\",\"0.019894\",\"0.01989\",\"0.019889\",\"0.019869\",\"0.019869\",\"0.019854\",\"0.019853\",\"0.019813\",\"0.019812\",\"0.019759\",\"0.019759\",\"0.019715\",\"0.019715\",\"0.019681\",\"0.019681\",\"0.019676\",\"0.019676\",\"0.01967\",\"0.019669\",\"0.019669\",\"0.019669\",\"0.019648\",\"0.019648\",\"0.01964\",\"0.019639\",\"0.019608\",\"0.019608\",\"0.019597\",\"0.019595\",\"0.019469\",\"0.019469\",\"0.019431\",\"0.019431\",\"0.019413\",\"0.019413\",\"0.019377\",\"0.019377\",\"0.019307\",\"0.019306\",\"0.019295\",\"0.019294\",\"0.01929\",\"0.01929\",\"0.019254\",\"0.019252\",\"0.019204\",\"0.019204\",\"0.019153\",\"0.019152\",\"0.019141\",\"0.01914\",\"0.019125\",\"0.019124\",\"0.019095\",\"0.019095\",\"0.019008\",\"0.019008\",\"0.01888\",\"0.018879\",\"0.018841\",\"0.01884\",\"0.018838\",\"0.018838\",\"0.018703\",\"0.018703\",\"0.018693\",\"0.018693\",\"0.018647\",\"0.018647\",\"0.01864\",\"0.01864\",\"0.018625\",\"0.018625\",\"0.01861\",\"0.018608\",\"0.018575\",\"0.018573\",\"0.018541\",\"0.01854\",\"0.018321\",\"0.018321\",\"0.018277\",\"0.018277\",\"0.018276\",\"0.018275\",\"0.018216\",\"0.018216\",\"0.018208\",\"0.018207\",\"0.018201\",\"0.018198\",\"0.018125\",\"0.018125\",\"0.018096\",\"0.018096\",\"0.018067\",\"0.018066\",\"0.017773\",\"0.017772\",\"0.017738\",\"0.017735\",\"0.017682\",\"0.017681\",\"0.017662\",\"0.017662\",\"0.017599\",\"0.017599\",\"0.017595\",\"0.017593\",\"0.01759\",\"0.01759\",\"0.01757\",\"0.017569\",\"0.017515\",\"0.017514\",\"0.017396\",\"0.017396\",\"0.017363\",\"0.017363\",\"0.01735\",\"0.01735\",\"0.017319\",\"0.017318\",\"0.017309\",\"0.017308\",\"0.017303\",\"0.017303\",\"0.017272\",\"0.017269\",\"0.01724\",\"0.01724\",\"0.017229\",\"0.017229\",\"0.017224\",\"0.017223\",\"0.017188\",\"0.017187\",\"0.017172\",\"0.017171\",\"0.017081\",\"0.01708\",\"0.017054\",\"0.017054\",\"0.017042\",\"0.01704\",\"0.016961\",\"0.01696\",\"0.016916\",\"0.016916\",\"0.016888\",\"0.016887\",\"0.016818\",\"0.016817\",\"0.01681\",\"0.01681\",\"0.016805\",\"0.016805\",\"0.016788\",\"0.016787\",\"0.016783\",\"0.016783\",\"0.016739\",\"0.016737\",\"0.016719\",\"0.016719\",\"0.016694\",\"0.016694\",\"0.016611\",\"0.016611\",\"0.016586\",\"0.016584\",\"0.016439\",\"0.016439\",\"0.016312\",\"0.016312\",\"0.016252\",\"0.016252\",\"0.016239\",\"0.016239\",\"0.016009\",\"0.016008\",\"0.016006\",\"0.016006\",\"0.016002\",\"0.016002\",\"0.015981\",\"0.01598\",\"0.015937\",\"0.015937\",\"0.015915\",\"0.015915\",\"0.01591\",\"0.01591\",\"0.015888\",\"0.015888\",\"0.015801\",\"0.015799\",\"0.015777\",\"0.015776\",\"0.015748\",\"0.015748\",\"0.015665\",\"0.015665\",\"0.015596\",\"0.015595\",\"0.015536\",\"0.015535\",\"0.015487\",\"0.015486\",\"0.015484\",\"0.015484\",\"0.015467\",\"0.015467\",\"0.015447\",\"0.015446\",\"0.015433\",\"0.015433\",\"0.015427\",\"0.015427\",\"0.015394\",\"0.015394\",\"0.015392\",\"0.015392\",\"0.015367\",\"0.015366\",\"0.015362\",\"0.01536\",\"0.015358\",\"0.015358\",\"0.015324\",\"0.015324\",\"0.015135\",\"0.015135\",\"0.015122\",\"0.015122\",\"0.015119\",\"0.015119\",\"0.015093\",\"0.015092\",\"0.015052\",\"0.015052\",\"0.015018\",\"0.015018\",\"0.01496\",\"0.01496\",\"0.014934\",\"0.014933\",\"0.014932\",\"0.014932\",\"0.014924\",\"0.014923\",\"0.014878\",\"0.014877\",\"0.014874\",\"0.014874\",\"0.014845\",\"0.014844\",\"0.014825\",\"0.014824\",\"0.014823\",\"0.014822\",\"0.014806\",\"0.014806\",\"0.01478\",\"0.01478\",\"0.014766\",\"0.014766\",\"0.014732\",\"0.014732\",\"0.014702\",\"0.014702\",\"0.014617\",\"0.014617\",\"0.014507\",\"0.014507\",\"0.014505\",\"0.014505\",\"0.014441\",\"0.014441\",\"0.014413\",\"0.014413\",\"0.014397\",\"0.014397\",\"0.014369\",\"0.014368\",\"0.014345\",\"0.014345\",\"0.014339\",\"0.014337\",\"0.014337\",\"0.014337\",\"0.014333\",\"0.014333\",\"0.014253\",\"0.014253\",\"0.014244\",\"0.014244\",\"0.014229\",\"0.014228\",\"0.014208\",\"0.014207\",\"0.014202\",\"0.0142\",\"0.014137\",\"0.014136\",\"0.014119\",\"0.014119\",\"0.014054\",\"0.014054\",\"0.014027\",\"0.014027\",\"0.013974\",\"0.013973\",\"0.013949\",\"0.013949\",\"0.013945\",\"0.013944\",\"0.013906\",\"0.013906\",\"0.013898\",\"0.013897\",\"0.013808\",\"0.013807\",\"0.013806\",\"0.013806\",\"0.013801\",\"0.013801\",\"0.013786\",\"0.013786\",\"0.013746\",\"0.013745\",\"0.01369\",\"0.01369\",\"0.013609\",\"0.013609\",\"0.013594\",\"0.013593\",\"0.013533\",\"0.013532\",\"0.01353\",\"0.01353\",\"0.0134\",\"0.0134\",\"0.013354\",\"0.013354\",\"0.013324\",\"0.013323\",\"0.01331\",\"0.013309\",\"0.013235\",\"0.013234\",\"0.01323\",\"0.01323\",\"0.01322\",\"0.013219\",\"0.013156\",\"0.013156\",\"0.013125\",\"0.013125\",\"0.013113\",\"0.013113\",\"0.013107\",\"0.013107\",\"0.013104\",\"0.013104\",\"0.013103\",\"0.013103\",\"0.013098\",\"0.013098\",\"0.013097\",\"0.013097\",\"0.013072\",\"0.013072\",\"0.012997\",\"0.012997\",\"0.012995\",\"0.012995\",\"0.012991\",\"0.01299\",\"0.012887\",\"0.012887\",\"0.012873\",\"0.012873\",\"0.012852\",\"0.012852\",\"0.012838\",\"0.012838\",\"0.012831\",\"0.01283\",\"0.012826\",\"0.012826\",\"0.012816\",\"0.012816\",\"0.012811\",\"0.012811\",\"0.012739\",\"0.012739\",\"0.012735\",\"0.012735\",\"0.012727\",\"0.012727\",\"0.012712\",\"0.012711\",\"0.012702\",\"0.012701\",\"0.012697\",\"0.012696\",\"0.012663\",\"0.012663\",\"0.012659\",\"0.012659\",\"0.012651\",\"0.01265\",\"0.012623\",\"0.012623\",\"0.01261\",\"0.01261\",\"0.012574\",\"0.012574\",\"0.012574\",\"0.012573\",\"0.012565\",\"0.012564\",\"0.012558\",\"0.012558\",\"0.012554\",\"0.012553\",\"0.012541\",\"0.01254\",\"0.01253\",\"0.01253\",\"0.012499\",\"0.012499\",\"0.012479\",\"0.012479\",\"0.012475\",\"0.012475\",\"0.01247\",\"0.01247\",\"0.012461\",\"0.012461\",\"0.012435\",\"0.012435\",\"0.012427\",\"0.012427\",\"0.012409\",\"0.012409\",\"0.012407\",\"0.012407\",\"0.012378\",\"0.012378\",\"0.012359\",\"0.012358\",\"0.01234\",\"0.01234\",\"0.012306\",\"0.012306\",\"0.012276\",\"0.012276\",\"0.012258\",\"0.012258\",\"0.012202\",\"0.012202\",\"0.012182\",\"0.012182\",\"0.012134\",\"0.012134\",\"0.012121\",\"0.012121\",\"0.012102\",\"0.012102\",\"0.012085\",\"0.012085\",\"0.012052\",\"0.012052\",\"0.012034\",\"0.012034\",\"0.012022\",\"0.012022\",\"0.012009\",\"0.012009\",\"0.012003\",\"0.012003\",\"0.012\",\"0.011999\",\"0.011977\",\"0.011977\",\"0.011934\",\"0.011934\",\"0.011922\",\"0.011922\",\"0.011914\",\"0.011913\",\"0.011893\",\"0.011893\",\"0.011872\",\"0.011872\",\"0.01185\",\"0.01185\",\"0.011828\",\"0.011828\",\"0.01179\",\"0.011789\",\"0.011788\",\"0.011788\",\"0.011788\",\"0.011757\",\"0.011756\",\"0.011685\",\"0.011685\",\"0.011685\",\"0.011685\",\"0.011682\",\"0.011682\",\"0.011679\",\"0.011679\",\"0.011677\",\"0.011677\",\"0.011661\",\"0.01166\",\"0.011655\",\"0.011654\",\"0.011648\",\"0.011648\",\"0.011641\",\"0.011641\",\"0.011616\",\"0.011616\",\"0.011606\",\"0.011605\",\"0.0116\",\"0.0116\",\"0.011599\",\"0.011599\",\"0.011595\",\"0.011595\",\"0.011592\",\"0.011591\",\"0.011575\",\"0.011575\",\"0.011513\",\"0.011512\",\"0.011511\",\"0.011511\",\"0.011489\",\"0.011489\",\"0.011416\",\"0.011416\",\"0.011413\",\"0.011413\",\"0.011385\",\"0.011385\",\"0.011375\",\"0.011375\",\"0.011366\",\"0.011366\",\"0.011357\",\"0.011356\",\"0.011351\",\"0.011351\",\"0.011279\",\"0.011278\",\"0.011265\",\"0.011265\",\"0.011258\",\"0.011257\",\"0.011221\",\"0.01122\",\"0.011217\",\"0.011216\",\"0.011216\",\"0.011216\",\"0.011209\",\"0.011209\",\"0.011195\",\"0.011194\",\"0.011167\",\"0.011167\",\"0.01114\",\"0.01114\",\"0.011115\",\"0.011115\",\"0.011108\",\"0.011108\",\"0.011104\",\"0.011104\",\"0.011099\",\"0.011099\",\"0.011092\",\"0.011092\",\"0.011076\",\"0.011076\",\"0.011061\",\"0.011061\",\"0.011058\",\"0.011058\",\"0.011044\",\"0.011044\",\"0.011011\",\"0.011011\",\"0.011002\",\"0.011002\",\"0.010956\",\"0.010956\",\"0.010945\",\"0.010945\",\"0.010938\",\"0.010938\",\"0.010898\",\"0.010898\",\"0.010894\",\"0.010894\",\"0.010888\",\"0.010888\",\"0.010855\",\"0.010854\",\"0.010839\",\"0.010839\",\"0.010818\",\"0.010818\",\"0.010804\",\"0.010804\",\"0.010793\",\"0.010793\",\"0.010787\",\"0.010787\",\"0.010786\",\"0.010786\",\"0.010785\",\"0.010785\",\"0.010783\",\"0.010783\",\"0.010777\",\"0.010777\",\"0.010765\",\"0.010765\",\"0.010762\",\"0.010762\",\"0.010761\",\"0.010761\",\"0.010759\",\"0.010759\",\"0.010757\",\"0.010757\",\"0.010756\",\"0.010756\",\"0.010751\",\"0.010751\",\"0.010746\",\"0.010745\",\"0.010742\",\"0.010742\",\"0.010725\",\"0.010725\",\"0.010692\",\"0.010692\",\"0.010673\",\"0.010673\",\"0.010647\",\"0.010646\",\"0.010624\",\"0.010624\",\"0.010612\",\"0.010612\",\"0.010596\",\"0.010596\",\"0.010578\",\"0.010578\",\"0.01056\",\"0.01056\",\"0.010552\",\"0.010552\",\"0.010551\",\"0.010551\",\"0.010544\",\"0.010544\",\"0.010527\",\"0.010527\",\"0.010526\",\"0.010526\",\"0.010523\",\"0.010523\",\"0.010517\",\"0.010516\",\"0.010496\",\"0.010496\",\"0.010495\",\"0.010495\",\"0.010489\",\"0.010489\",\"0.010437\",\"0.010437\",\"0.010412\",\"0.010412\",\"0.010405\",\"0.010405\",\"0.010375\",\"0.010375\",\"0.010362\",\"0.010362\",\"0.010358\",\"0.010358\",\"0.010325\",\"0.010325\",\"0.010323\",\"0.010323\",\"0.010288\",\"0.010288\",\"0.010278\",\"0.010278\",\"0.010253\",\"0.010253\",\"0.010238\",\"0.010238\",\"0.010225\",\"0.010224\",\"0.010222\",\"0.010222\",\"0.010211\",\"0.010211\",\"0.010185\",\"0.010185\",\"0.010172\",\"0.010172\",\"0.010166\",\"0.010166\",\"0.010163\",\"0.010163\",\"0.010136\",\"0.010136\",\"0.010124\",\"0.010124\",\"0.010124\",\"0.010123\",\"0.010108\",\"0.010107\",\"0.010105\",\"0.010105\",\"0.010098\",\"0.010098\",\"0.010071\",\"0.010071\",\"0.010048\",\"0.010048\",\"0.010024\",\"0.010024\",\"0.01001\",\"0.01001\",\"0.009978\",\"0.009978\",\"0.009937\",\"0.009937\",\"0.009926\",\"0.009926\",\"0.009914\",\"0.009914\",\"0.009894\",\"0.009894\",\"0.009885\",\"0.009884\",\"0.009826\",\"0.009826\",\"0.009804\",\"0.009803\",\"0.009789\",\"0.009789\",\"0.009751\",\"0.009751\",\"0.009688\",\"0.009688\",\"0.00964\",\"0.00964\",\"0.009637\",\"0.009637\",\"0.009594\",\"0.009593\",\"0.009579\",\"0.009579\",\"0.009575\",\"0.009574\",\"0.009571\",\"0.00957\",\"0.009563\",\"0.009563\",\"0.009545\",\"0.009545\",\"0.009542\",\"0.009542\",\"0.009533\",\"0.009533\",\"0.009523\",\"0.009522\",\"0.009512\",\"0.009512\",\"0.009505\",\"0.009505\",\"0.009503\",\"0.009503\",\"0.009487\",\"0.009487\",\"0.009465\",\"0.009465\",\"0.009418\",\"0.009417\",\"0.00934\",\"0.00934\",\"0.009305\",\"0.009305\",\"0.009283\",\"0.009283\",\"0.009264\",\"0.009264\",\"0.009255\",\"0.009255\",\"0.009192\",\"0.009192\",\"0.009189\",\"0.009189\",\"0.009137\",\"0.009136\",\"0.009122\",\"0.009122\",\"0.009088\",\"0.009088\",\"0.009085\",\"0.009084\",\"0.009058\",\"0.009058\",\"0.009057\",\"0.009057\",\"0.009052\",\"0.009052\",\"0.009038\",\"0.009038\",\"0.008965\",\"0.008965\",\"0.008934\",\"0.008934\",\"0.008914\",\"0.008914\",\"0.0089\",\"0.008899\",\"0.008896\",\"0.008896\",\"0.008852\",\"0.008852\",\"0.008838\",\"0.008838\",\"0.008834\",\"0.008834\",\"0.00883\",\"0.00883\",\"0.008824\",\"0.008824\",\"0.008799\",\"0.008799\",\"0.008787\",\"0.008787\",\"0.008772\",\"0.008771\",\"0.008769\",\"0.008769\",\"0.008735\",\"0.008735\",\"0.008712\",\"0.008712\",\"0.008697\",\"0.008697\",\"0.008691\",\"0.008691\",\"0.008682\",\"0.008682\",\"0.00862\",\"0.00862\",\"0.008619\",\"0.008619\",\"0.008615\",\"0.008615\",\"0.008601\",\"0.008601\",\"0.008585\",\"0.008584\",\"0.008573\",\"0.008573\",\"0.008539\",\"0.008539\",\"0.008527\",\"0.008527\",\"0.008513\",\"0.008513\",\"0.008512\",\"0.008512\",\"0.008474\",\"0.008473\",\"0.008429\",\"0.008429\",\"0.008367\",\"0.008366\",\"0.008318\",\"0.008318\",\"0.008316\",\"0.008316\",\"0.008311\",\"0.008311\",\"0.008287\",\"0.008287\",\"0.00824\",\"0.00824\",\"0.008238\",\"0.008238\",\"0.008232\",\"0.008231\",\"0.008231\",\"0.008231\",\"0.008224\",\"0.008224\",\"0.008195\",\"0.008195\",\"0.008156\",\"0.008156\",\"0.008138\",\"0.008138\",\"0.008135\",\"0.008135\",\"0.008132\",\"0.008132\",\"0.008117\",\"0.008117\",\"0.008057\",\"0.008057\",\"0.008025\",\"0.008025\",\"0.008024\",\"0.008024\",\"0.008021\",\"0.008021\",\"0.008011\",\"0.008011\",\"0.007994\",\"0.007994\",\"0.007983\",\"0.007983\",\"0.007912\",\"0.007912\",\"0.00791\",\"0.00791\",\"0.007889\",\"0.007889\",\"0.007882\",\"0.007882\",\"0.007879\",\"0.007878\",\"0.007871\",\"0.00787\",\"0.007854\",\"0.007854\",\"0.00783\",\"0.00783\",\"0.00782\",\"0.00782\",\"0.007784\",\"0.007784\",\"0.007774\",\"0.007773\",\"0.00777\",\"0.007769\",\"0.007767\",\"0.007767\",\"0.007761\",\"0.007761\",\"0.007745\",\"0.007745\",\"0.007736\",\"0.007736\",\"0.007728\",\"0.007728\",\"0.007726\",\"0.007726\",\"0.00772\",\"0.00772\",\"0.007703\",\"0.007703\",\"0.007702\",\"0.007702\",\"0.00769\",\"0.00769\",\"0.007668\",\"0.007668\",\"0.007662\",\"0.007662\",\"0.00766\",\"0.00766\",\"0.007651\",\"0.007651\",\"0.007651\",\"0.007651\",\"0.007645\",\"0.007645\",\"0.007644\",\"0.007644\",\"0.007641\",\"0.00764\",\"0.007624\",\"0.007624\",\"0.007614\",\"0.007613\",\"0.0076\",\"0.0076\",\"0.007585\",\"0.007585\",\"0.007582\",\"0.007582\",\"0.007569\",\"0.007569\",\"0.007556\",\"0.007556\",\"0.007552\",\"0.007552\",\"0.007538\",\"0.007538\",\"0.007529\",\"0.007529\",\"0.00752\",\"0.00752\",\"0.007517\",\"0.007517\",\"0.007509\",\"0.007509\",\"0.007503\",\"0.007503\",\"0.0075\",\"0.0075\",\"0.007498\",\"0.007498\",\"0.007496\",\"0.007496\",\"0.00748\",\"0.00748\",\"0.007473\",\"0.007473\",\"0.007465\",\"0.007465\",\"0.007456\",\"0.007456\",\"0.007447\",\"0.007447\",\"0.007435\",\"0.007435\",\"0.007417\",\"0.007417\",\"0.007416\",\"0.007416\",\"0.007415\",\"0.007415\",\"0.007405\",\"0.007405\",\"0.007373\",\"0.007372\",\"0.007369\",\"0.007369\",\"0.007347\",\"0.007347\",\"0.007343\",\"0.007343\",\"0.007319\",\"0.007319\",\"0.007305\",\"0.007305\",\"0.007302\",\"0.007302\",\"0.0073\",\"0.0073\",\"0.00729\",\"0.00729\",\"0.007257\",\"0.007257\",\"0.007256\",\"0.007256\",\"0.007247\",\"0.007247\",\"0.007244\",\"0.007244\",\"0.007244\",\"0.007244\",\"0.007222\",\"0.007222\",\"0.007211\",\"0.007211\",\"0.007201\",\"0.007201\",\"0.007196\",\"0.007196\",\"0.007194\",\"0.007194\",\"0.00719\",\"0.00719\",\"0.007184\",\"0.007183\",\"0.007183\",\"0.007183\",\"0.007179\",\"0.007179\",\"0.007176\",\"0.007176\",\"0.00717\",\"0.00717\",\"0.00715\",\"0.00715\",\"0.007146\",\"0.007146\",\"0.007144\",\"0.007144\",\"0.007143\",\"0.007143\",\"0.007139\",\"0.007139\",\"0.007137\",\"0.007137\",\"0.007128\",\"0.007128\",\"0.00712\",\"0.00712\",\"0.007114\",\"0.007114\",\"0.007112\",\"0.007111\",\"0.007092\",\"0.007092\",\"0.007086\",\"0.007086\",\"0.007086\",\"0.007086\",\"0.007084\",\"0.007084\",\"0.007078\",\"0.007078\",\"0.007075\",\"0.007075\",\"0.00707\",\"0.00707\",\"0.007054\",\"0.007054\",\"0.007054\",\"0.007054\",\"0.007042\",\"0.007042\",\"0.007037\",\"0.007037\",\"0.007032\",\"0.007032\",\"0.007006\",\"0.007006\",\"0.006999\",\"0.006999\",\"0.006998\",\"0.006998\",\"0.006996\",\"0.006996\",\"0.006994\",\"0.006994\",\"0.006992\",\"0.006992\",\"0.00699\",\"0.00699\",\"0.006983\",\"0.006983\",\"0.006978\",\"0.006978\",\"0.006954\",\"0.006954\",\"0.006953\",\"0.006953\",\"0.00695\",\"0.00695\",\"0.006929\",\"0.006929\",\"0.006929\",\"0.006929\",\"0.006924\",\"0.006924\",\"0.00691\",\"0.00691\",\"0.006894\",\"0.006894\",\"0.006886\",\"0.006886\",\"0.006884\",\"0.006884\",\"0.006874\",\"0.006874\",\"0.00687\",\"0.00687\",\"0.006843\",\"0.006842\",\"0.006829\",\"0.006829\",\"0.006821\",\"0.006821\",\"0.006809\",\"0.006809\",\"0.006803\",\"0.006803\",\"0.006801\",\"0.006801\",\"0.006799\",\"0.006799\",\"0.006787\",\"0.006787\",\"0.006786\",\"0.006786\",\"0.00677\",\"0.00677\",\"0.006766\",\"0.006766\",\"0.006763\",\"0.006763\",\"0.006758\",\"0.006758\",\"0.006757\",\"0.006757\",\"0.006757\",\"0.006757\",\"0.006755\",\"0.006755\",\"0.006753\",\"0.006753\",\"0.006747\",\"0.006747\",\"0.006743\",\"0.006743\",\"0.00674\",\"0.00674\",\"0.006734\",\"0.006734\",\"0.006727\",\"0.006727\",\"0.006706\",\"0.006706\",\"0.006704\",\"0.006704\",\"0.006692\",\"0.006692\",\"0.006692\",\"0.006692\",\"0.006675\",\"0.006674\",\"0.006671\",\"0.006671\",\"0.006652\",\"0.006652\",\"0.006642\",\"0.006642\",\"0.006636\",\"0.006636\",\"0.006634\",\"0.006634\",\"0.006618\",\"0.006618\",\"0.006615\",\"0.006615\",\"0.006614\",\"0.006614\",\"0.006607\",\"0.006607\",\"0.006604\",\"0.006604\",\"0.006597\",\"0.006597\",\"0.006595\",\"0.006595\",\"0.006593\",\"0.006593\",\"0.006589\",\"0.006589\",\"0.006583\",\"0.006583\",\"0.006572\",\"0.006572\",\"0.006547\",\"0.006547\",\"0.006544\",\"0.006543\",\"0.006543\",\"0.006543\",\"0.00654\",\"0.00654\",\"0.006535\",\"0.006535\",\"0.006534\",\"0.006534\",\"0.006512\",\"0.006511\",\"0.006504\",\"0.006504\",\"0.006504\",\"0.006489\",\"0.006489\",\"0.006468\",\"0.006468\",\"0.006453\",\"0.006453\",\"0.006441\",\"0.006441\",\"0.006441\",\"0.006441\",\"0.006426\",\"0.006426\",\"0.006425\",\"0.006425\",\"0.006421\",\"0.006421\",\"0.006411\",\"0.006411\",\"0.00641\",\"0.00641\",\"0.006394\",\"0.006394\",\"0.006363\",\"0.006363\",\"0.006348\",\"0.006347\",\"0.006334\",\"0.006334\",\"0.006312\",\"0.006312\",\"0.006296\",\"0.006296\",\"0.006295\",\"0.006295\",\"0.006292\",\"0.006291\",\"0.006289\",\"0.006289\",\"0.006288\",\"0.006288\",\"0.00628\",\"0.00628\",\"0.006267\",\"0.006267\",\"0.006265\",\"0.006265\",\"0.006253\",\"0.006253\",\"0.006248\",\"0.006248\",\"0.006237\",\"0.006237\",\"0.006235\",\"0.006235\",\"0.006212\",\"0.006212\",\"0.006208\",\"0.006208\",\"0.00619\",\"0.00619\",\"0.006187\",\"0.006187\",\"0.006186\",\"0.006186\",\"0.006185\",\"0.006185\",\"0.006184\",\"0.006184\",\"0.006182\",\"0.006181\",\"0.006175\",\"0.006175\",\"0.006175\",\"0.006174\",\"0.006149\",\"0.006149\",\"0.006136\",\"0.006136\",\"0.006125\",\"0.006125\",\"0.006125\",\"0.006118\",\"0.006118\",\"0.006114\",\"0.006114\",\"0.006112\",\"0.006112\",\"0.006096\",\"0.006096\",\"0.006096\",\"0.006095\",\"0.006091\",\"0.00609\",\"0.006078\",\"0.006078\",\"0.006078\",\"0.006076\",\"0.006076\",\"0.006071\",\"0.006071\",\"0.006069\",\"0.006069\",\"0.006052\",\"0.006052\",\"0.006046\",\"0.006046\",\"0.006041\",\"0.006041\",\"0.006032\",\"0.006032\",\"0.006029\",\"0.006029\",\"0.006015\",\"0.006014\",\"0.006004\",\"0.006004\",\"0.005992\",\"0.005992\",\"0.005986\",\"0.005986\",\"0.005976\",\"0.005976\",\"0.005967\",\"0.005967\",\"0.00596\",\"0.00596\",\"0.005954\",\"0.005954\",\"0.005947\",\"0.005947\",\"0.005943\",\"0.005943\",\"0.005933\",\"0.005933\",\"0.005926\",\"0.005926\",\"0.00592\",\"0.00592\",\"0.00591\",\"0.005909\",\"0.005906\",\"0.005906\",\"0.005899\",\"0.005899\",\"0.005884\",\"0.005884\",\"0.00588\",\"0.00588\",\"0.005874\",\"0.005874\",\"0.00586\",\"0.00586\",\"0.005858\",\"0.005858\",\"0.005857\",\"0.005857\",\"0.005854\",\"0.005854\",\"0.005838\",\"0.005838\",\"0.005817\",\"0.005817\",\"0.005799\",\"0.005798\",\"0.005795\",\"0.005795\",\"0.005787\",\"0.005787\",\"0.005781\",\"0.005781\",\"0.00578\",\"0.00578\",\"0.005774\",\"0.005773\",\"0.005746\",\"0.005746\",\"0.005733\",\"0.005733\",\"0.00573\",\"0.00573\",\"0.005704\",\"0.005704\",\"0.005704\",\"0.005704\",\"0.005699\",\"0.005699\",\"0.005687\",\"0.005687\",\"0.005685\",\"0.005684\",\"0.005683\",\"0.005682\",\"0.005682\",\"0.005682\",\"0.005676\",\"0.005676\",\"0.005673\",\"0.005673\",\"0.005669\",\"0.005669\",\"0.005658\",\"0.005658\",\"0.005653\",\"0.005653\",\"0.005651\",\"0.005651\",\"0.005645\",\"0.005645\",\"0.005632\",\"0.005632\",\"0.005629\",\"0.005629\",\"0.005619\",\"0.005618\",\"0.005618\",\"0.005614\",\"0.005614\",\"0.005614\",\"0.005613\",\"0.005608\",\"0.005608\",\"0.005587\",\"0.005586\",\"0.005581\",\"0.005581\",\"0.00558\",\"0.00558\",\"0.005579\",\"0.005579\",\"0.005567\",\"0.005567\",\"0.005567\",\"0.005566\",\"0.005566\",\"0.005563\",\"0.005563\",\"0.005554\",\"0.005554\",\"0.005539\",\"0.005539\",\"0.005509\",\"0.005509\",\"0.005507\",\"0.005507\",\"0.005502\",\"0.005502\",\"0.005478\",\"0.005478\",\"0.005469\",\"0.005469\",\"0.005451\",\"0.00545\",\"0.00545\",\"0.00545\",\"0.005445\",\"0.005445\",\"0.005435\",\"0.005435\",\"0.005435\",\"0.005435\",\"0.005426\",\"0.005426\",\"0.005413\",\"0.005413\",\"0.005397\",\"0.005397\",\"0.005395\",\"0.005395\",\"0.005365\",\"0.005364\",\"0.005333\",\"0.005333\",\"0.005327\",\"0.005326\",\"0.005315\",\"0.005315\",\"0.005303\",\"0.005303\",\"0.005302\",\"0.005302\",\"0.005293\",\"0.005292\",\"0.005292\",\"0.005292\",\"0.005291\",\"0.005291\",\"0.00529\",\"0.00529\",\"0.005288\",\"0.005288\",\"0.005282\",\"0.005281\",\"0.005267\",\"0.005267\",\"0.005256\",\"0.005256\",\"0.005251\",\"0.005251\",\"0.005248\",\"0.005248\",\"0.005246\",\"0.005246\",\"0.005229\",\"0.005229\",\"0.005224\",\"0.005224\",\"0.005205\",\"0.005205\",\"0.005205\",\"0.005205\",\"0.005203\",\"0.005203\",\"0.005198\",\"0.005198\",\"0.005191\",\"0.005191\",\"0.00519\",\"0.00519\",\"0.005189\",\"0.005189\",\"0.005185\",\"0.005185\",\"0.00518\",\"0.00518\",\"0.005176\",\"0.005176\",\"0.005169\",\"0.005169\",\"0.005169\",\"0.005169\",\"0.005168\",\"0.005168\",\"0.005167\",\"0.005167\",\"0.005162\",\"0.005162\",\"0.005146\",\"0.005146\",\"0.005145\",\"0.005145\",\"0.005144\",\"0.005144\",\"0.005139\",\"0.005139\",\"0.005124\",\"0.005124\",\"0.005118\",\"0.005118\",\"0.005115\",\"0.005114\",\"0.005114\",\"0.005114\",\"0.005113\",\"0.005113\",\"0.005104\",\"0.005103\",\"0.005087\",\"0.005087\",\"0.005083\",\"0.005083\",\"0.005083\",\"0.005083\",\"0.005071\",\"0.005071\",\"0.005071\",\"0.005071\",\"0.005053\",\"0.005053\",\"0.005047\",\"0.005047\",\"0.005023\",\"0.005022\",\"0.005021\",\"0.005021\",\"0.005021\",\"0.005021\",\"0.005014\",\"0.005014\",\"0.005013\",\"0.005013\",\"0.004989\",\"0.004989\",\"0.004973\",\"0.004973\",\"0.004969\",\"0.004969\",\"0.004961\",\"0.00496\",\"0.004958\",\"0.004958\",\"0.004956\",\"0.004956\",\"0.004948\",\"0.004948\",\"0.004939\",\"0.004938\",\"0.004922\",\"0.004921\",\"0.004908\",\"0.004908\",\"0.004904\",\"0.004904\",\"0.004898\",\"0.004897\",\"0.004887\",\"0.004887\",\"0.004808\",\"0.004808\",\"0.004767\",\"0.004767\",\"0.004743\",\"0.004743\",\"0.004701\",\"0.004701\",\"0.00462\",\"0.00462\",\"0.00461\",\"0.00461\",\"0.004578\",\"0.004578\",\"0.004542\",\"0.004542\",\"0.004517\",\"0.004517\",\"0.004516\",\"0.004516\",\"0.004506\",\"0.004506\",\"0.004478\",\"0.004478\",\"0.004478\",\"0.004472\",\"0.004472\",\"0.004471\",\"0.00447\",\"0.004458\",\"0.004458\",\"0.004455\",\"0.004454\",\"0.00444\",\"0.004439\",\"0.004426\",\"0.004425\",\"0.004415\",\"0.004415\",\"0.004383\",\"0.004383\",\"0.004361\",\"0.004361\",\"0.004353\",\"0.004352\",\"0.004334\",\"0.004333\",\"0.004322\",\"0.004322\",\"0.004309\",\"0.004309\",\"0.004271\",\"0.004271\",\"0.004183\",\"0.004183\",\"0.004183\",\"0.004183\",\"0.00416\",\"0.004159\",\"0.004153\",\"0.004152\",\"0.004144\",\"0.004144\",\"0.004139\",\"0.004138\",\"0.004126\",\"0.004126\",\"0.004122\",\"0.00412\",\"0.004118\",\"0.004118\",\"0.004113\",\"0.004113\",\"0.004106\",\"0.004105\",\"0.004105\",\"0.004105\",\"0.004098\",\"0.004098\",\"0.004079\",\"0.004079\",\"0.004066\",\"0.004066\",\"0.004057\",\"0.004057\",\"0.004032\",\"0.004032\",\"0.004025\",\"0.004023\",\"0.004\",\"0.004\",\"0.003975\",\"0.003975\",\"0.0039\",\"0.003899\",\"0.00388\",\"0.00388\",\"0.003876\",\"0.003874\",\"0.003857\",\"0.003857\",\"0.003827\",\"0.003827\",\"0.003811\",\"0.003807\",\"0.003805\",\"0.003803\",\"0.003788\",\"0.003787\",\"0.00377\",\"0.003769\",\"0.003689\",\"0.003688\",\"0.003659\",\"0.003659\",\"0.003497\",\"0.003495\",\"0.003479\",\"0.003479\",\"0.003476\",\"0.003475\",\"0.003424\",\"0.003424\",\"0.00342\",\"0.003419\",\"0.003137\",\"0.003134\",\"0.003125\",\"0.003125\",\"0.003049\",\"0.003047\",\"0.003033\",\"0.003032\",\"0.002878\",\"0.002873\",\"0.00178\"],\"fpr\":{\"__ndarray__\":\"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\",\"dtype\":\"float64\",\"shape\":[2276]},\"fpr_nice\":[\"0.0\",\"1.1e-05\",\"6.4e-05\",\"6.4e-05\",\"0.000298\",\"0.000298\",\"0.001001\",\"0.001001\",\"0.001022\",\"0.001022\",\"0.001246\",\"0.001246\",\"0.001395\",\"0.001395\",\"0.002119\",\"0.002119\",\"0.002939\",\"0.002939\",\"0.003269\",\"0.003269\",\"0.003695\",\"0.003695\",\"0.004484\",\"0.004484\",\"0.004771\",\"0.004771\",\"0.005293\",\"0.005293\",\"0.006081\",\"0.006081\",\"0.006571\",\"0.006571\",\"0.006901\",\"0.006901\",\"0.007487\",\"0.007487\",\"0.007593\",\"0.007593\",\"0.007849\",\"0.007849\",\"0.00934\",\"0.00934\",\"0.009404\",\"0.009404\",\"0.009755\",\"0.009755\",\"0.010107\",\"0.010107\",\"0.010799\",\"0.010799\",\"0.010959\",\"0.010959\",\"0.011182\",\"0.011182\",\"0.011321\",\"0.011321\",\"0.01148\",\"0.01148\",\"0.011843\",\"0.011843\",\"0.012056\",\"0.012056\",\"0.013589\",\"0.013589\",\"0.013759\",\"0.013759\",\"0.014878\",\"0.014878\",\"0.016039\",\"0.016039\",\"0.016347\",\"0.016347\",\"0.016667\",\"0.016667\",\"0.017125\",\"0.017125\",\"0.017402\",\"0.017402\",\"0.018424\",\"0.018424\",\"0.018786\",\"0.018786\",\"0.019659\",\"0.019659\",\"0.019723\",\"0.019723\",\"0.020096\",\"0.020096\",\"0.020778\",\"0.020778\",\"0.021353\",\"0.021353\",\"0.021502\",\"0.021502\",\"0.022396\",\"0.022396\",\"0.022876\",\"0.022876\",\"0.022961\",\"0.022961\",\"0.023227\",\"0.023227\",\"0.023664\",\"0.023664\",\"0.024026\",\"0.024026\",\"0.02442\",\"0.02442\",\"0.026145\",\"0.026145\",\"0.026422\",\"0.026422\",\"0.026603\",\"0.026603\",\"0.026859\",\"0.026859\",\"0.027018\",\"0.027018\",\"0.028019\",\"0.028019\",\"0.028701\",\"0.028701\",\"0.029063\",\"0.029063\",\"0.029234\",\"0.029234\",\"0.029478\",\"0.029478\",\"0.029489\",\"0.029489\",\"0.030267\",\"0.030267\",\"0.030501\",\"0.030501\",\"0.030916\",\"0.030916\",\"0.031608\",\"0.031608\",\"0.031694\",\"0.031694\",\"0.031726\",\"0.031726\",\"0.031971\",\"0.031971\",\"0.032002\",\"0.032002\",\"0.032184\",\"0.032184\",\"0.032194\",\"0.032194\",\"0.032641\",\"0.032641\",\"0.032823\",\"0.032823\",\"0.033291\",\"0.033291\",\"0.033579\",\"0.033579\",\"0.034079\",\"0.034079\",\"0.03508\",\"0.03508\",\"0.035336\",\"0.035336\",\"0.035666\",\"0.035666\",\"0.035794\",\"0.035794\",\"0.037487\",\"0.037487\",\"0.037551\",\"0.037551\",\"0.037892\",\"0.037892\",\"0.038754\",\"0.038754\",\"0.039553\",\"0.039553\",\"0.040597\",\"0.040597\",\"0.041076\",\"0.041076\",\"0.041193\",\"0.041193\",\"0.04278\",\"0.04278\",\"0.042823\",\"0.042823\",\"0.045379\",\"0.045379\",\"0.045634\",\"0.045634\",\"0.046188\",\"0.046188\",\"0.046401\",\"0.046401\",\"0.047583\",\"0.047583\",\"0.047934\",\"0.047934\",\"0.048169\",\"0.048169\",\"0.051247\",\"0.051247\",\"0.05131\",\"0.05131\",\"0.051342\",\"0.051342\",\"0.051939\",\"0.051939\",\"0.052077\",\"0.052077\",\"0.052099\",\"0.052099\",\"0.05213\",\"0.05213\",\"0.052248\",\"0.052248\",\"0.052333\",\"0.052333\",\"0.052525\",\"0.052525\",\"0.052887\",\"0.052887\",\"0.052972\",\"0.052972\",\"0.053132\",\"0.053132\",\"0.05376\",\"0.05376\",\"0.053813\",\"0.053813\",\"0.053824\",\"0.053824\",\"0.053834\",\"0.053834\",\"0.054218\",\"0.054218\",\"0.054537\",\"0.054537\",\"0.055347\",\"0.055347\",\"0.055869\",\"0.055869\",\"0.056774\",\"0.056774\",\"0.057647\",\"0.057647\",\"0.057871\",\"0.057871\",\"0.059021\",\"0.059021\",\"0.059766\",\"0.059766\",\"0.059777\",\"0.059777\",\"0.060224\",\"0.060224\",\"0.060704\",\"0.060704\",\"0.062067\",\"0.062067\",\"0.062461\",\"0.062461\",\"0.062887\",\"0.062887\",\"0.063675\",\"0.063675\",\"0.063696\",\"0.063696\",\"0.064431\",\"0.064431\",\"0.064985\",\"0.064985\",\"0.065049\",\"0.065049\",\"0.065102\",\"0.065102\",\"0.065187\",\"0.065187\",\"0.065805\",\"0.065805\",\"0.065815\",\"0.065815\",\"0.065901\",\"0.065901\",\"0.066209\",\"0.066209\",\"0.066252\",\"0.066252\",\"0.066401\",\"0.066401\",\"0.067136\",\"0.067136\",\"0.068094\",\"0.068094\",\"0.06966\",\"0.06966\",\"0.070097\",\"0.070097\",\"0.07065\",\"0.07065\",\"0.071268\",\"0.071268\",\"0.071566\",\"0.071566\",\"0.071854\",\"0.071854\",\"0.072503\",\"0.072503\",\"0.072684\",\"0.072684\",\"0.073292\",\"0.073292\",\"0.074133\",\"0.074133\",\"0.074474\",\"0.074474\",\"0.074506\",\"0.074506\",\"0.074591\",\"0.074591\",\"0.074761\",\"0.074761\",\"0.074793\",\"0.074793\",\"0.07507\",\"0.07507\",\"0.07539\",\"0.07539\",\"0.07572\",\"0.07572\",\"0.076231\",\"0.076231\",\"0.077977\",\"0.077977\",\"0.078989\",\"0.078989\",\"0.07933\",\"0.07933\",\"0.080725\",\"0.080725\",\"0.081833\",\"0.081833\",\"0.08228\",\"0.08228\",\"0.08277\",\"0.08277\",\"0.083856\",\"0.083856\",\"0.084644\",\"0.084644\",\"0.084878\",\"0.084878\",\"0.085528\",\"0.085528\",\"0.085592\",\"0.085613\",\"0.086156\",\"0.086156\",\"0.086518\",\"0.086518\",\"0.087445\",\"0.087445\",\"0.087552\",\"0.087552\",\"0.088073\",\"0.088073\",\"0.088435\",\"0.088435\",\"0.088467\",\"0.088467\",\"0.090352\",\"0.090352\",\"0.090608\",\"0.090608\",\"0.092131\",\"0.092131\",\"0.092184\",\"0.092184\",\"0.092568\",\"0.092568\",\"0.092844\",\"0.092844\",\"0.093249\",\"0.093249\",\"0.093633\",\"0.093633\",\"0.094016\",\"0.094016\",\"0.094953\",\"0.094953\",\"0.095049\",\"0.095049\",\"0.095209\",\"0.095209\",\"0.095571\",\"0.095571\",\"0.095933\",\"0.095933\",\"0.096817\",\"0.096817\",\"0.097775\",\"0.097775\",\"0.097892\",\"0.097892\",\"0.099799\",\"0.099799\",\"0.101311\",\"0.101311\",\"0.101545\",\"0.101545\",\"0.101737\",\"0.101737\",\"0.102589\",\"0.102589\",\"0.102802\",\"0.102802\",\"0.103089\",\"0.103089\",\"0.10458\",\"0.10458\",\"0.105187\",\"0.105187\",\"0.105965\",\"0.105965\",\"0.107839\",\"0.107839\",\"0.108681\",\"0.108681\",\"0.109959\",\"0.109959\",\"0.110204\",\"0.110204\",\"0.110278\",\"0.110278\",\"0.111087\",\"0.111087\",\"0.112546\",\"0.112546\",\"0.112589\",\"0.112589\",\"0.112887\",\"0.112887\",\"0.113143\",\"0.113143\",\"0.113782\",\"0.113782\",\"0.114762\",\"0.114762\",\"0.115433\",\"0.115433\",\"0.11589\",\"0.11589\",\"0.116029\",\"0.116029\",\"0.116189\",\"0.116189\",\"0.116199\",\"0.116199\",\"0.116529\",\"0.116529\",\"0.1167\",\"0.1167\",\"0.117168\",\"0.117168\",\"0.117403\",\"0.117403\",\"0.119341\",\"0.119341\",\"0.120001\",\"0.120001\",\"0.12031\",\"0.12031\",\"0.120992\",\"0.120992\",\"0.12195\",\"0.12195\",\"0.122078\",\"0.122078\",\"0.122184\",\"0.122184\",\"0.122941\",\"0.122941\",\"0.12375\",\"0.12375\",\"0.124432\",\"0.124432\",\"0.124666\",\"0.124666\",\"0.124879\",\"0.124879\",\"0.125337\",\"0.125337\",\"0.126817\",\"0.126817\",\"0.128947\",\"0.128947\",\"0.12948\",\"0.12948\",\"0.129511\",\"0.129511\",\"0.131609\",\"0.131609\",\"0.131833\",\"0.131833\",\"0.132643\",\"0.132643\",\"0.132706\",\"0.132706\",\"0.132898\",\"0.132898\",\"0.133164\",\"0.133164\",\"0.133665\",\"0.133665\",\"0.134187\",\"0.134187\",\"0.137914\",\"0.137914\",\"0.138649\",\"0.138649\",\"0.13866\",\"0.13866\",\"0.139714\",\"0.139714\",\"0.13982\",\"0.13982\",\"0.139938\",\"0.139938\",\"0.141152\",\"0.141152\",\"0.141855\",\"0.141855\",\"0.142483\",\"0.142483\",\"0.147424\",\"0.147424\",\"0.14801\",\"0.14801\",\"0.148851\",\"0.148851\",\"0.149086\",\"0.149086\",\"0.15014\",\"0.15014\",\"0.150193\",\"0.150193\",\"0.150236\",\"0.150236\",\"0.150577\",\"0.150577\",\"0.151482\",\"0.151482\",\"0.153708\",\"0.153708\",\"0.154304\",\"0.154304\",\"0.154464\",\"0.154464\",\"0.154932\",\"0.154932\",\"0.155135\",\"0.155135\",\"0.155273\",\"0.155273\",\"0.155625\",\"0.155625\",\"0.156072\",\"0.156072\",\"0.156338\",\"0.156338\",\"0.156391\",\"0.156391\",\"0.157009\",\"0.157009\",\"0.157254\",\"0.157254\",\"0.158873\",\"0.158873\",\"0.159352\",\"0.159352\",\"0.159522\",\"0.159522\",\"0.161088\",\"0.161088\",\"0.161972\",\"0.161972\",\"0.162451\",\"0.162451\",\"0.163814\",\"0.163814\",\"0.163921\",\"0.163921\",\"0.164017\",\"0.164017\",\"0.164432\",\"0.164432\",\"0.164475\",\"0.164475\",\"0.165156\",\"0.165156\",\"0.165497\",\"0.165497\",\"0.165987\",\"0.165987\",\"0.167606\",\"0.167606\",\"0.168106\",\"0.168106\",\"0.170673\",\"0.170673\",\"0.173399\",\"0.173399\",\"0.174475\",\"0.174475\",\"0.174709\",\"0.174709\",\"0.179597\",\"0.179597\",\"0.179682\",\"0.179682\",\"0.179757\",\"0.179757\",\"0.180172\",\"0.180172\",\"0.181205\",\"0.181205\",\"0.181834\",\"0.181834\",\"0.181908\",\"0.181908\",\"0.182451\",\"0.182451\",\"0.184091\",\"0.184091\",\"0.184528\",\"0.184528\",\"0.185071\",\"0.185071\",\"0.18685\",\"0.18685\",\"0.188692\",\"0.188692\",\"0.190215\",\"0.190215\",\"0.191333\",\"0.191333\",\"0.191397\",\"0.191397\",\"0.191791\",\"0.191791\",\"0.192249\",\"0.192249\",\"0.19259\",\"0.19259\",\"0.192728\",\"0.192728\",\"0.19358\",\"0.19358\",\"0.193612\",\"0.193612\",\"0.194187\",\"0.194187\",\"0.194251\",\"0.194273\",\"0.194315\",\"0.194315\",\"0.195135\",\"0.195135\",\"0.199715\",\"0.199715\",\"0.200055\",\"0.200055\",\"0.200194\",\"0.200194\",\"0.200918\",\"0.200918\",\"0.20193\",\"0.20193\",\"0.202824\",\"0.202824\",\"0.204624\",\"0.204624\",\"0.205284\",\"0.205284\",\"0.20537\",\"0.20537\",\"0.205508\",\"0.205508\",\"0.206711\",\"0.206711\",\"0.206797\",\"0.206797\",\"0.207638\",\"0.207638\",\"0.208085\",\"0.208085\",\"0.208107\",\"0.208107\",\"0.208533\",\"0.208533\",\"0.20914\",\"0.20914\",\"0.209417\",\"0.209417\",\"0.210354\",\"0.210354\",\"0.211131\",\"0.211131\",\"0.213421\",\"0.213421\",\"0.216701\",\"0.216701\",\"0.216754\",\"0.216754\",\"0.218565\",\"0.218565\",\"0.219512\",\"0.219512\",\"0.21997\",\"0.21997\",\"0.22094\",\"0.22094\",\"0.221664\",\"0.221664\",\"0.221834\",\"0.221834\",\"0.221845\",\"0.221845\",\"0.22193\",\"0.22193\",\"0.224518\",\"0.224518\",\"0.224741\",\"0.224741\",\"0.225136\",\"0.225136\",\"0.225806\",\"0.225806\",\"0.225934\",\"0.225934\",\"0.228022\",\"0.228022\",\"0.228618\",\"0.228618\",\"0.230588\",\"0.230588\",\"0.231408\",\"0.231408\",\"0.232846\",\"0.232846\",\"0.23373\",\"0.23373\",\"0.233836\",\"0.233836\",\"0.235072\",\"0.235072\",\"0.235327\",\"0.235327\",\"0.238352\",\"0.238352\",\"0.238362\",\"0.238362\",\"0.238607\",\"0.238607\",\"0.23914\",\"0.23914\",\"0.240588\",\"0.240588\",\"0.24226\",\"0.24226\",\"0.244827\",\"0.244827\",\"0.24537\",\"0.24537\",\"0.24733\",\"0.24733\",\"0.247415\",\"0.247415\",\"0.251749\",\"0.251749\",\"0.253517\",\"0.253517\",\"0.254412\",\"0.254412\",\"0.254933\",\"0.254933\",\"0.257585\",\"0.257585\",\"0.25767\",\"0.25767\",\"0.258043\",\"0.258043\",\"0.260471\",\"0.260471\",\"0.261685\",\"0.261685\",\"0.262186\",\"0.262186\",\"0.262367\",\"0.262367\",\"0.262474\",\"0.262474\",\"0.262516\",\"0.262516\",\"0.262687\",\"0.262687\",\"0.262708\",\"0.262708\",\"0.263645\",\"0.263645\",\"0.266414\",\"0.266414\",\"0.266457\",\"0.266457\",\"0.266723\",\"0.266723\",\"0.270738\",\"0.270738\",\"0.271451\",\"0.271451\",\"0.272346\",\"0.272346\",\"0.272932\",\"0.272932\",\"0.273219\",\"0.273219\",\"0.273432\",\"0.273432\",\"0.273869\",\"0.273869\",\"0.274018\",\"0.274018\",\"0.276797\",\"0.276797\",\"0.276957\",\"0.276957\",\"0.277319\",\"0.277319\",\"0.277926\",\"0.277926\",\"0.278416\",\"0.278416\",\"0.278597\",\"0.278597\",\"0.279939\",\"0.279939\",\"0.280131\",\"0.280131\",\"0.280461\",\"0.280461\",\"0.281622\",\"0.281622\",\"0.282218\",\"0.282218\",\"0.283666\",\"0.283666\",\"0.283688\",\"0.283688\",\"0.284114\",\"0.284114\",\"0.284476\",\"0.284476\",\"0.284636\",\"0.284636\",\"0.285189\",\"0.285189\",\"0.285605\",\"0.285605\",\"0.286861\",\"0.286861\",\"0.287777\",\"0.287777\",\"0.287916\",\"0.287916\",\"0.288097\",\"0.288097\",\"0.288406\",\"0.288406\",\"0.28962\",\"0.28962\",\"0.289907\",\"0.289907\",\"0.290738\",\"0.290738\",\"0.290812\",\"0.290812\",\"0.292058\",\"0.29208\",\"0.292953\",\"0.292953\",\"0.293784\",\"0.293784\",\"0.295381\",\"0.295381\",\"0.296947\",\"0.296947\",\"0.297831\",\"0.297831\",\"0.300333\",\"0.300333\",\"0.301313\",\"0.301313\",\"0.303645\",\"0.303645\",\"0.304157\",\"0.304157\",\"0.305147\",\"0.305147\",\"0.305967\",\"0.305967\",\"0.307607\",\"0.307607\",\"0.308544\",\"0.308544\",\"0.30913\",\"0.30913\",\"0.309737\",\"0.309737\",\"0.310046\",\"0.310046\",\"0.310163\",\"0.310163\",\"0.31142\",\"0.31142\",\"0.313752\",\"0.313752\",\"0.314274\",\"0.314274\",\"0.314732\",\"0.314732\",\"0.315914\",\"0.315914\",\"0.316947\",\"0.316947\",\"0.318193\",\"0.318193\",\"0.319492\",\"0.319492\",\"0.321462\",\"0.321462\",\"0.321654\",\"0.321686\",\"0.321686\",\"0.323294\",\"0.323294\",\"0.327426\",\"0.327426\",\"0.327437\",\"0.327437\",\"0.327586\",\"0.327586\",\"0.327671\",\"0.327671\",\"0.327852\",\"0.327852\",\"0.3288\",\"0.3288\",\"0.329109\",\"0.329109\",\"0.329428\",\"0.329428\",\"0.329769\",\"0.329769\",\"0.331047\",\"0.331047\",\"0.331686\",\"0.331686\",\"0.331942\",\"0.331942\",\"0.332016\",\"0.332016\",\"0.332229\",\"0.332229\",\"0.332442\",\"0.332442\",\"0.333465\",\"0.333465\",\"0.337075\",\"0.337075\",\"0.337149\",\"0.337149\",\"0.338204\",\"0.338204\",\"0.34273\",\"0.34273\",\"0.342868\",\"0.342868\",\"0.344466\",\"0.344466\",\"0.344903\",\"0.344903\",\"0.345637\",\"0.345659\",\"0.346202\",\"0.346202\",\"0.346543\",\"0.346575\",\"0.350984\",\"0.350984\",\"0.351835\",\"0.351835\",\"0.352272\",\"0.352272\",\"0.354551\",\"0.354551\",\"0.354807\",\"0.354828\",\"0.354849\",\"0.354849\",\"0.355307\",\"0.355307\",\"0.356298\",\"0.356298\",\"0.357863\",\"0.357863\",\"0.35929\",\"0.35929\",\"0.36076\",\"0.36076\",\"0.361165\",\"0.361165\",\"0.361399\",\"0.361399\",\"0.361665\",\"0.361665\",\"0.362144\",\"0.362166\",\"0.363007\",\"0.363007\",\"0.363934\",\"0.363934\",\"0.364051\",\"0.364051\",\"0.364999\",\"0.364999\",\"0.36683\",\"0.366852\",\"0.367395\",\"0.367427\",\"0.370153\",\"0.370153\",\"0.370792\",\"0.370792\",\"0.371335\",\"0.371335\",\"0.373636\",\"0.373636\",\"0.37388\",\"0.37388\",\"0.374338\",\"0.374338\",\"0.376735\",\"0.376735\",\"0.377917\",\"0.377917\",\"0.379418\",\"0.379418\",\"0.380355\",\"0.380377\",\"0.380952\",\"0.380952\",\"0.381389\",\"0.381389\",\"0.38142\",\"0.38142\",\"0.381527\",\"0.381527\",\"0.381697\",\"0.381697\",\"0.382038\",\"0.382038\",\"0.382848\",\"0.382869\",\"0.383071\",\"0.383071\",\"0.38321\",\"0.38321\",\"0.383337\",\"0.383337\",\"0.383433\",\"0.383433\",\"0.383508\",\"0.383508\",\"0.383753\",\"0.383795\",\"0.384104\",\"0.384104\",\"0.384285\",\"0.384285\",\"0.385297\",\"0.385297\",\"0.387629\",\"0.387629\",\"0.389056\",\"0.389056\",\"0.390867\",\"0.390888\",\"0.39256\",\"0.39256\",\"0.393433\",\"0.393433\",\"0.394488\",\"0.394488\",\"0.39583\",\"0.39583\",\"0.39699\",\"0.39699\",\"0.397502\",\"0.397502\",\"0.397597\",\"0.397597\",\"0.398098\",\"0.398098\",\"0.399206\",\"0.399206\",\"0.399376\",\"0.399376\",\"0.399589\",\"0.399589\",\"0.400111\",\"0.400111\",\"0.401495\",\"0.401495\",\"0.401517\",\"0.401517\",\"0.401985\",\"0.401985\",\"0.405553\",\"0.405553\",\"0.40714\",\"0.40714\",\"0.407672\",\"0.407672\",\"0.409791\",\"0.409791\",\"0.410739\",\"0.410739\",\"0.411016\",\"0.411016\",\"0.413412\",\"0.413412\",\"0.413593\",\"0.413593\",\"0.416171\",\"0.416171\",\"0.416873\",\"0.416873\",\"0.418833\",\"0.418833\",\"0.419834\",\"0.419834\",\"0.420995\",\"0.420995\",\"0.421112\",\"0.421155\",\"0.422188\",\"0.422188\",\"0.424094\",\"0.424094\",\"0.424925\",\"0.424925\",\"0.425276\",\"0.425276\",\"0.425564\",\"0.425564\",\"0.427438\",\"0.427459\",\"0.428354\",\"0.428354\",\"0.428375\",\"0.428375\",\"0.429483\",\"0.429515\",\"0.429611\",\"0.429611\",\"0.430111\",\"0.430111\",\"0.432262\",\"0.432262\",\"0.433657\",\"0.433657\",\"0.435372\",\"0.435393\",\"0.436416\",\"0.436416\",\"0.43862\",\"0.43862\",\"0.441368\",\"0.441368\",\"0.442071\",\"0.442071\",\"0.442891\",\"0.442891\",\"0.444392\",\"0.444392\",\"0.444967\",\"0.444967\",\"0.448993\",\"0.448993\",\"0.450463\",\"0.450463\",\"0.451432\",\"0.451432\",\"0.45369\",\"0.45369\",\"0.457854\",\"0.457854\",\"0.460697\",\"0.460697\",\"0.460878\",\"0.460878\",\"0.463881\",\"0.463881\",\"0.464957\",\"0.464957\",\"0.465319\",\"0.465351\",\"0.465607\",\"0.465639\",\"0.466107\",\"0.466107\",\"0.467225\",\"0.467247\",\"0.467428\",\"0.467449\",\"0.467971\",\"0.467971\",\"0.468631\",\"0.468631\",\"0.469206\",\"0.469206\",\"0.469643\",\"0.469643\",\"0.46976\",\"0.46976\",\"0.470644\",\"0.470644\",\"0.471858\",\"0.471858\",\"0.474627\",\"0.47467\",\"0.479068\",\"0.479111\",\"0.481358\",\"0.481379\",\"0.482614\",\"0.482614\",\"0.483796\",\"0.483796\",\"0.484308\",\"0.484308\",\"0.488024\",\"0.488024\",\"0.488195\",\"0.488195\",\"0.49123\",\"0.491251\",\"0.491997\",\"0.491997\",\"0.494159\",\"0.494159\",\"0.494436\",\"0.494436\",\"0.496076\",\"0.496118\",\"0.496161\",\"0.496161\",\"0.49648\",\"0.49648\",\"0.497375\",\"0.497375\",\"0.501475\",\"0.501475\",\"0.503488\",\"0.503488\",\"0.504776\",\"0.504776\",\"0.505618\",\"0.505618\",\"0.505799\",\"0.50582\",\"0.508184\",\"0.508184\",\"0.509068\",\"0.509068\",\"0.509249\",\"0.509281\",\"0.509579\",\"0.509579\",\"0.509931\",\"0.509931\",\"0.511645\",\"0.511645\",\"0.512391\",\"0.512391\",\"0.513413\",\"0.513413\",\"0.513584\",\"0.513605\",\"0.515852\",\"0.515852\",\"0.517311\",\"0.517311\",\"0.518248\",\"0.518248\",\"0.518674\",\"0.518674\",\"0.519228\",\"0.519249\",\"0.523403\",\"0.523403\",\"0.523467\",\"0.523488\",\"0.523839\",\"0.523839\",\"0.524766\",\"0.524787\",\"0.525852\",\"0.525874\",\"0.526736\",\"0.526779\",\"0.528962\",\"0.528962\",\"0.529686\",\"0.529686\",\"0.530496\",\"0.530496\",\"0.530549\",\"0.530549\",\"0.533062\",\"0.533062\",\"0.53614\",\"0.53614\",\"0.540847\",\"0.540847\",\"0.544436\",\"0.544436\",\"0.544564\",\"0.544564\",\"0.545086\",\"0.545086\",\"0.546726\",\"0.546726\",\"0.550304\",\"0.550304\",\"0.550421\",\"0.550421\",\"0.551039\",\"0.551039\",\"0.551092\",\"0.551092\",\"0.551678\",\"0.551731\",\"0.553861\",\"0.553861\",\"0.557088\",\"0.557088\",\"0.558366\",\"0.558366\",\"0.558579\",\"0.558579\",\"0.558749\",\"0.558952\",\"0.560336\",\"0.560336\",\"0.565799\",\"0.565799\",\"0.568483\",\"0.568483\",\"0.568568\",\"0.568568\",\"0.568824\",\"0.568824\",\"0.569708\",\"0.569729\",\"0.571316\",\"0.571316\",\"0.572424\",\"0.572424\",\"0.578952\",\"0.578973\",\"0.579165\",\"0.579165\",\"0.581359\",\"0.581359\",\"0.582019\",\"0.582019\",\"0.582488\",\"0.582488\",\"0.58351\",\"0.58351\",\"0.585193\",\"0.585193\",\"0.588206\",\"0.588206\",\"0.589293\",\"0.589293\",\"0.593127\",\"0.593169\",\"0.594341\",\"0.594341\",\"0.594863\",\"0.594863\",\"0.595139\",\"0.595139\",\"0.595938\",\"0.595938\",\"0.597823\",\"0.597823\",\"0.598941\",\"0.598941\",\"0.599974\",\"0.599974\",\"0.600305\",\"0.600305\",\"0.60105\",\"0.60105\",\"0.603116\",\"0.603137\",\"0.603223\",\"0.603223\",\"0.604703\",\"0.604703\",\"0.607195\",\"0.607195\",\"0.607877\",\"0.607877\",\"0.608058\",\"0.608079\",\"0.609229\",\"0.609229\",\"0.609357\",\"0.60941\",\"0.610326\",\"0.610326\",\"0.610422\",\"0.610422\",\"0.610944\",\"0.610965\",\"0.613393\",\"0.613393\",\"0.614799\",\"0.614799\",\"0.616716\",\"0.616716\",\"0.618867\",\"0.618888\",\"0.619336\",\"0.619357\",\"0.621093\",\"0.621093\",\"0.622978\",\"0.622978\",\"0.623628\",\"0.623628\",\"0.625672\",\"0.625694\",\"0.627025\",\"0.627025\",\"0.62826\",\"0.628292\",\"0.628825\",\"0.628825\",\"0.630028\",\"0.630028\",\"0.631093\",\"0.631125\",\"0.631551\",\"0.631551\",\"0.631807\",\"0.631807\",\"0.632126\",\"0.632126\",\"0.634842\",\"0.634842\",\"0.635683\",\"0.635683\",\"0.637131\",\"0.637131\",\"0.638473\",\"0.638473\",\"0.639986\",\"0.639986\",\"0.641913\",\"0.641913\",\"0.644927\",\"0.644927\",\"0.645151\",\"0.645172\",\"0.64531\",\"0.64531\",\"0.647036\",\"0.647036\",\"0.653074\",\"0.653074\",\"0.653862\",\"0.653894\",\"0.657707\",\"0.657739\",\"0.658282\",\"0.658282\",\"0.662286\",\"0.662286\",\"0.664874\",\"0.664874\",\"0.665385\",\"0.665385\",\"0.665726\",\"0.665726\",\"0.667441\",\"0.667441\",\"0.673287\",\"0.673287\",\"0.673468\",\"0.673468\",\"0.675044\",\"0.675044\",\"0.675651\",\"0.675651\",\"0.675662\",\"0.675662\",\"0.679336\",\"0.679336\",\"0.681221\",\"0.681221\",\"0.683149\",\"0.683149\",\"0.684012\",\"0.684012\",\"0.684246\",\"0.684246\",\"0.685002\",\"0.685002\",\"0.686141\",\"0.686141\",\"0.686205\",\"0.686205\",\"0.686951\",\"0.686951\",\"0.687398\",\"0.687398\",\"0.688484\",\"0.688484\",\"0.692105\",\"0.69218\",\"0.693085\",\"0.693085\",\"0.693266\",\"0.693266\",\"0.69349\",\"0.69349\",\"0.694118\",\"0.694118\",\"0.694555\",\"0.694555\",\"0.696174\",\"0.696174\",\"0.697696\",\"0.697739\",\"0.698655\",\"0.698655\",\"0.699198\",\"0.699198\",\"0.702542\",\"0.702542\",\"0.703746\",\"0.703746\",\"0.703788\",\"0.703788\",\"0.704172\",\"0.704172\",\"0.705279\",\"0.705279\",\"0.705705\",\"0.705705\",\"0.706376\",\"0.706376\",\"0.709081\",\"0.709081\",\"0.709113\",\"0.709113\",\"0.71136\",\"0.71136\",\"0.712329\",\"0.712329\",\"0.713234\",\"0.713234\",\"0.717377\",\"0.71743\",\"0.718645\",\"0.718687\",\"0.718804\",\"0.718804\",\"0.719188\",\"0.719188\",\"0.719486\",\"0.719486\",\"0.720061\",\"0.720061\",\"0.72038\",\"0.72038\",\"0.721637\",\"0.721637\",\"0.722585\",\"0.722585\",\"0.7271\",\"0.7271\",\"0.727175\",\"0.727175\",\"0.727697\",\"0.727697\",\"0.730988\",\"0.730988\",\"0.73103\",\"0.73103\",\"0.731765\",\"0.731797\",\"0.733948\",\"0.733948\",\"0.736547\",\"0.736568\",\"0.737612\",\"0.737633\",\"0.738112\",\"0.738112\",\"0.739774\",\"0.739774\",\"0.740327\",\"0.740327\",\"0.744236\",\"0.744236\",\"0.746366\",\"0.74644\",\"0.747633\",\"0.747633\",\"0.749529\",\"0.74955\",\"0.750445\",\"0.750466\",\"0.750732\",\"0.750753\",\"0.751179\",\"0.751179\",\"0.753096\",\"0.753096\",\"0.753267\",\"0.753288\",\"0.75578\",\"0.755833\",\"0.756579\",\"0.756611\",\"0.756941\",\"0.756941\",\"0.757591\",\"0.757612\",\"0.757793\",\"0.757825\",\"0.757846\",\"0.757846\",\"0.758219\",\"0.758219\",\"0.758475\",\"0.758475\",\"0.759327\",\"0.759358\",\"0.759976\",\"0.760019\",\"0.760434\",\"0.760434\",\"0.761435\",\"0.761435\",\"0.762415\",\"0.762447\",\"0.765503\",\"0.765525\",\"0.765887\",\"0.765887\",\"0.767282\",\"0.767303\",\"0.767388\",\"0.767388\",\"0.769827\",\"0.769848\",\"0.770509\",\"0.770509\",\"0.772979\",\"0.772979\",\"0.774204\",\"0.774225\",\"0.775109\",\"0.775131\",\"0.775386\",\"0.775386\",\"0.777197\",\"0.777197\",\"0.777751\",\"0.777751\",\"0.777857\",\"0.777857\",\"0.778571\",\"0.778571\",\"0.778869\",\"0.778869\",\"0.779572\",\"0.779625\",\"0.779944\",\"0.779966\",\"0.780157\",\"0.780179\",\"0.780626\",\"0.780626\",\"0.781329\",\"0.781329\",\"0.78283\",\"0.78283\",\"0.78627\",\"0.78627\",\"0.786611\",\"0.786611\",\"0.786739\",\"0.78676\",\"0.787261\",\"0.787261\",\"0.787964\",\"0.787985\",\"0.788049\",\"0.78807\",\"0.790807\",\"0.790807\",\"0.791542\",\"0.791563\",\"0.791563\",\"0.79348\",\"0.79348\",\"0.795919\",\"0.79594\",\"0.797623\",\"0.797644\",\"0.799018\",\"0.799018\",\"0.799029\",\"0.799157\",\"0.800722\",\"0.800722\",\"0.800892\",\"0.800914\",\"0.801425\",\"0.801425\",\"0.802437\",\"0.802458\",\"0.802596\",\"0.803544\",\"0.805376\",\"0.805376\",\"0.808837\",\"0.808837\",\"0.810669\",\"0.81069\",\"0.812266\",\"0.812298\",\"0.814663\",\"0.814663\",\"0.816611\",\"0.816633\",\"0.816707\",\"0.816729\",\"0.817123\",\"0.817123\",\"0.817453\",\"0.817495\",\"0.817549\",\"0.81757\",\"0.818454\",\"0.818507\",\"0.819689\",\"0.819721\",\"0.820041\",\"0.820041\",\"0.821202\",\"0.821244\",\"0.821979\",\"0.822\",\"0.823214\",\"0.823246\",\"0.823438\",\"0.823481\",\"0.825834\",\"0.825834\",\"0.826324\",\"0.826324\",\"0.82822\",\"0.828305\",\"0.828571\",\"0.828592\",\"0.828678\",\"0.828678\",\"0.828763\",\"0.828763\",\"0.828837\",\"0.828837\",\"0.829136\",\"0.829157\",\"0.829593\",\"0.829615\",\"0.829679\",\"0.8297\",\"0.832309\",\"0.832309\",\"0.833683\",\"0.833683\",\"0.834705\",\"0.83478\",\"0.83478\",\"0.835483\",\"0.835504\",\"0.835856\",\"0.835856\",\"0.836026\",\"0.836026\",\"0.837719\",\"0.837741\",\"0.837783\",\"0.837804\",\"0.838294\",\"0.838294\",\"0.839626\",\"0.839626\",\"0.839647\",\"0.839796\",\"0.839817\",\"0.840286\",\"0.840307\",\"0.840531\",\"0.840531\",\"0.842032\",\"0.842064\",\"0.842767\",\"0.842767\",\"0.843246\",\"0.843246\",\"0.844045\",\"0.844088\",\"0.844386\",\"0.844418\",\"0.845952\",\"0.845952\",\"0.846985\",\"0.847006\",\"0.848273\",\"0.848294\",\"0.848997\",\"0.848997\",\"0.850062\",\"0.850105\",\"0.850904\",\"0.850968\",\"0.851628\",\"0.851628\",\"0.852086\",\"0.852107\",\"0.852863\",\"0.852895\",\"0.853385\",\"0.853406\",\"0.854237\",\"0.854258\",\"0.855036\",\"0.855057\",\"0.855621\",\"0.855621\",\"0.856686\",\"0.856708\",\"0.857006\",\"0.857049\",\"0.857688\",\"0.857741\",\"0.859168\",\"0.859168\",\"0.859477\",\"0.859498\",\"0.860105\",\"0.860105\",\"0.861479\",\"0.861479\",\"0.861649\",\"0.861649\",\"0.861692\",\"0.861766\",\"0.862065\",\"0.862065\",\"0.863971\",\"0.863992\",\"0.866069\",\"0.866069\",\"0.867613\",\"0.867688\",\"0.868124\",\"0.868124\",\"0.86888\",\"0.86985\",\"0.87035\",\"0.870371\",\"0.870425\",\"0.870446\",\"0.871181\",\"0.871223\",\"0.873353\",\"0.873375\",\"0.874855\",\"0.874887\",\"0.875142\",\"0.875174\",\"0.877571\",\"0.877571\",\"0.877634\",\"0.877656\",\"0.878092\",\"0.878114\",\"0.879211\",\"0.879211\",\"0.879477\",\"0.879509\",\"0.87969\",\"0.879775\",\"0.879818\",\"0.879818\",\"0.880627\",\"0.880648\",\"0.880915\",\"0.880936\",\"0.881202\",\"0.881223\",\"0.882374\",\"0.882395\",\"0.882981\",\"0.883002\",\"0.88314\",\"0.883172\",\"0.883811\",\"0.883833\",\"0.885057\",\"0.885057\",\"0.885387\",\"0.885387\",\"0.886463\",\"0.886836\",\"0.88723\",\"0.887752\",\"0.887752\",\"0.887773\",\"0.887794\",\"0.888401\",\"0.888423\",\"0.890499\",\"0.890499\",\"0.891032\",\"0.891064\",\"0.891234\",\"0.891266\",\"0.891309\",\"0.89133\",\"0.892416\",\"0.892438\",\"0.892438\",\"0.892512\",\"0.892555\",\"0.892789\",\"0.892789\",\"0.89362\",\"0.893652\",\"0.895004\",\"0.895036\",\"0.897699\",\"0.897699\",\"0.897826\",\"0.897848\",\"0.898252\",\"0.898252\",\"0.900276\",\"0.900297\",\"0.901053\",\"0.901085\",\"0.902502\",\"0.902566\",\"0.902608\",\"0.902715\",\"0.903119\",\"0.903119\",\"0.903971\",\"0.904046\",\"0.904067\",\"0.904099\",\"0.90494\",\"0.904962\",\"0.906101\",\"0.906101\",\"0.907518\",\"0.907539\",\"0.907763\",\"0.907763\",\"0.910404\",\"0.910468\",\"0.91313\",\"0.91313\",\"0.913599\",\"0.913673\",\"0.914578\",\"0.91461\",\"0.915622\",\"0.915643\",\"0.915686\",\"0.915718\",\"0.916421\",\"0.916975\",\"0.917039\",\"0.91706\",\"0.917188\",\"0.917209\",\"0.917358\",\"0.917422\",\"0.917571\",\"0.917603\",\"0.918008\",\"0.918029\",\"0.919073\",\"0.919094\",\"0.919946\",\"0.919967\",\"0.920351\",\"0.920351\",\"0.920649\",\"0.92067\",\"0.920766\",\"0.920787\",\"0.922044\",\"0.922076\",\"0.922438\",\"0.922459\",\"0.923918\",\"0.92394\",\"0.924003\",\"0.924025\",\"0.924131\",\"0.924131\",\"0.924451\",\"0.924451\",\"0.925058\",\"0.92509\",\"0.925143\",\"0.925175\",\"0.925271\",\"0.925292\",\"0.925644\",\"0.925644\",\"0.926027\",\"0.926698\",\"0.92706\",\"0.927134\",\"0.927529\",\"0.930628\",\"0.93067\",\"0.930766\",\"0.930819\",\"0.930841\",\"0.930936\",\"0.930968\",\"0.931362\",\"0.931384\",\"0.932427\",\"0.932502\",\"0.932576\",\"0.932619\",\"0.932672\",\"0.932704\",\"0.933141\",\"0.933173\",\"0.93427\",\"0.934291\",\"0.934728\",\"0.934749\",\"0.934919\",\"0.934941\",\"0.934973\",\"0.935037\",\"0.935164\",\"0.935207\",\"0.935899\",\"0.935899\",\"0.93706\",\"0.937081\",\"0.937273\",\"0.937401\",\"0.937411\",\"0.937433\",\"0.938359\",\"0.938381\",\"0.938391\",\"0.938455\",\"0.939818\",\"0.939872\",\"0.940191\",\"0.941\",\"0.942768\",\"0.942768\",\"0.942875\",\"0.942949\",\"0.942992\",\"0.942992\",\"0.943322\",\"0.943354\",\"0.943397\",\"0.943397\",\"0.945101\",\"0.945154\",\"0.946272\",\"0.946304\",\"0.946655\",\"0.946655\",\"0.947092\",\"0.947113\",\"0.947294\",\"0.947326\",\"0.947422\",\"0.947454\",\"0.947901\",\"0.947923\",\"0.948455\",\"0.948498\",\"0.949595\",\"0.949627\",\"0.950468\",\"0.950532\",\"0.95067\",\"0.95067\",\"0.951075\",\"0.951075\",\"0.951661\",\"0.951693\",\"0.955974\",\"0.955995\",\"0.958189\",\"0.95821\",\"0.959467\",\"0.959616\",\"0.96164\",\"0.961661\",\"0.965069\",\"0.965175\",\"0.965559\",\"0.965559\",\"0.966954\",\"0.966975\",\"0.968285\",\"0.968285\",\"0.969393\",\"0.969393\",\"0.969403\",\"0.969403\",\"0.969861\",\"0.969883\",\"0.970958\",\"0.971022\",\"0.971065\",\"0.971288\",\"0.97131\",\"0.971352\",\"0.971373\",\"0.971863\",\"0.971863\",\"0.971981\",\"0.972002\",\"0.972705\",\"0.972705\",\"0.973237\",\"0.973259\",\"0.973493\",\"0.973514\",\"0.974462\",\"0.974505\",\"0.975144\",\"0.975186\",\"0.975442\",\"0.975665\",\"0.976315\",\"0.976336\",\"0.976698\",\"0.97672\",\"0.977167\",\"0.977199\",\"0.978349\",\"0.978381\",\"0.980298\",\"0.980319\",\"0.98033\",\"0.980362\",\"0.980894\",\"0.980916\",\"0.981043\",\"0.981075\",\"0.981203\",\"0.981225\",\"0.98132\",\"0.981352\",\"0.981544\",\"0.98164\",\"0.981736\",\"0.9818\",\"0.981842\",\"0.981906\",\"0.982045\",\"0.98214\",\"0.982289\",\"0.982321\",\"0.982332\",\"0.982353\",\"0.982471\",\"0.982534\",\"0.982939\",\"0.982982\",\"0.983312\",\"0.983312\",\"0.98344\",\"0.983461\",\"0.983908\",\"0.983961\",\"0.9841\",\"0.984153\",\"0.984707\",\"0.984952\",\"0.985218\",\"0.985239\",\"0.986539\",\"0.986581\",\"0.986922\",\"0.986965\",\"0.987029\",\"0.987029\",\"0.987284\",\"0.987306\",\"0.987806\",\"0.987838\",\"0.988083\",\"0.988115\",\"0.988147\",\"0.988211\",\"0.988434\",\"0.988477\",\"0.988669\",\"0.988711\",\"0.989787\",\"0.98984\",\"0.990224\",\"0.990245\",\"0.99213\",\"0.992151\",\"0.992279\",\"0.992311\",\"0.992332\",\"0.992375\",\"0.993024\",\"0.993056\",\"0.993088\",\"0.99312\",\"0.995953\",\"0.995974\",\"0.99606\",\"0.996081\",\"0.996773\",\"0.996816\",\"0.996965\",\"0.996997\",\"0.997945\",\"0.997966\",\"1.0\"],\"index\":[0,1,2,3,4,5,6,7,8,9,10,11,12,13,14,15,16,17,18,19,20,21,22,23,24,25,26,27,28,29,30,31,32,33,34,35,36,37,38,39,40,41,42,43,44,45,46,47,48,49,50,51,52,53,54,55,56,57,58,59,60,61,62,63,64,65,66,67,68,69,70,71,72,73,74,75,76,77,78,79,80,81,82,83,84,85,86,87,88,89,90,91,92,93,94,95,96,97,98,99,100,101,102,103,104,105,106,107,108,109,110,111,112,113,114,115,116,117,118,119,120,121,122,123,124,125,126,127,128,129,130,131,132,133,134,135,136,137,138,139,140,141,142,143,144,145,146,147,148,149,150,151,152,153,154,155,156,157,158,159,160,161,162,163,164,165,166,167,168,169,170,171,172,173,174,175,176,177,178,179,180,181,182,183,184,185,186,187,188,189,190,191,192,193,194,195,196,197,198,199,200,201,202,203,204,205,206,207,208,209,210,211,212,213,214,215,216,217,218,219,220,221,222,223,224,225,226,227,228,229,230,231,232,233,234,235,236,237,238,239,240,241,242,243,244,245,246,247,248,249,250,251,252,253,254,255,256,257,258,259,260,261,262,263,264,265,266,267,268,269,270,271,272,273,274,275,276,277,278,279,280,281,282,283,284,285,286,287,288,289,290,291,292,293,294,295,296,297,298,299,300,301,302,303,304,305,306,307,308,309,310,311,312,313,314,315,316,317,318,319,320,321,322,323,324,325,326,327,328,329,330,331,332,333,334,335,336,337,338,339,340,341,342,343,344,345,346,347,348,349,350,351,352,353,354,355,356,357,358,359,360,361,362,363,364,365,366,367,368,369,370,371,372,373,374,375,376,377,378,379,380,381,382,383,384,385,386,387,388,389,390,391,392,393,394,395,396,397,398,399,400,401,402,403,404,405,406,407,408,409,410,411,412,413,414,415,416,417,418,419,420,421,422,423,424,425,426,427,428,429,430,431,432,433,434,435,436,437,438,439,440,441,442,443,444,445,446,447,448,449,450,451,452,453,454,455,456,457,458,459,460,461,462,463,464,465,466,467,468,469,470,471,472,473,474,475,476,477,478,479,480,481,482,483,484,485,486,487,488,489,490,491,492,493,494,495,496,497,498,499,500,501,502,503,504,505,506,507,508,509,510,511,512,513,514,515,516,517,518,519,520,521,522,523,524,525,526,527,528,529,530,531,532,533,534,535,536,537,538,539,540,541,542,543,544,545,546,547,548,549,550,551,552,553,554,555,556,557,558,559,560,561,562,563,564,565,566,567,568,569,570,571,572,573,574,575,576,577,578,579,580,581,582,583,584,585,586,587,588,589,590,591,592,593,594,595,596,597,598,599,600,601,602,603,604,605,606,607,608,609,610,611,612,613,614,615,616,617,618,619,620,621,622,623,624,625,626,627,628,629,630,631,632,633,634,635,636,637,638,639,640,641,642,643,644,645,646,647,648,649,650,651,652,653,654,655,656,657,658,659,660,661,662,663,664,665,666,667,668,669,670,671,672,673,674,675,676,677,678,679,680,681,682,683,684,685,686,687,688,689,690,691,692,693,694,695,696,697,698,699,700,701,702,703,704,705,706,707,708,709,710,711,712,713,714,715,716,717,718,719,720,721,722,723,724,725,726,727,728,729,730,731,732,733,734,735,736,737,738,739,740,741,742,743,744,745,746,747,748,749,750,751,752,753,754,755,756,757,758,759,760,761,762,763,764,765,766,767,768,769,770,771,772,773,774,775,776,777,778,779,780,781,782,783,784,785,786,787,788,789,790,791,792,793,794,795,796,797,798,799,800,801,802,803,804,805,806,807,808,809,810,811,812,813,814,815,816,817,818,819,820,821,822,823,824,825,826,827,828,829,830,831,832,833,834,835,836,837,838,839,840,841,842,843,844,845,846,847,848,849,850,851,852,853,854,855,856,857,858,859,860,861,862,863,864,865,866,867,868,869,870,871,872,873,874,875,876,877,878,879,880,881,882,883,884,885,886,887,888,889,890,891,892,893,894,895,896,897,898,899,900,901,902,903,904,905,906,907,908,909,910,911,912,913,914,915,916,917,918,919,920,921,922,923,924,925,926,927,928,929,930,931,932,933,934,935,936,937,938,939,940,941,942,943,944,945,946,947,948,949,950,951,952,953,954,955,956,957,958,959,960,961,962,963,964,965,966,967,968,969,970,971,972,973,974,975,976,977,978,979,980,981,982,983,984,985,986,987,988,989,990,991,992,993,994,995,996,997,998,999,1000,1001,1002,1003,1004,1005,1006,1007,1008,1009,1010,1011,1012,1013,1014,1015,1016,1017,1018,1019,1020,1021,1022,1023,1024,1025,1026,1027,1028,1029,1030,1031,1032,1033,1034,1035,1036,1037,1038,1039,1040,1041,1042,1043,1044,1045,1046,1047,1048,1049,1050,1051,1052,1053,1054,1055,1056,1057,1058,1059,1060,1061,1062,1063,1064,1065,1066,1067,1068,1069,1070,1071,1072,1073,1074,1075,1076,1077,1078,1079,1080,1081,1082,1083,1084,1085,1086,1087,1088,1089,1090,1091,1092,1093,1094,1095,1096,1097,1098,1099,1100,1101,1102,1103,1104,1105,1106,1107,1108,1109,1110,1111,1112,1113,1114,1115,1116,1117,1118,1119,1120,1121,1122,1123,1124,1125,1126,1127,1128,1129,1130,1131,1132,1133,1134,1135,1136,1137,1138,1139,1140,1141,1142,1143,1144,1145,1146,1147,1148,1149,1150,1151,1152,1153,1154,1155,1156,1157,1158,1159,1160,1161,1162,1163,1164,1165,1166,1167,1168,1169,1170,1171,1172,1173,1174,1175,1176,1177,1178,1179,1180,1181,1182,1183,1184,1185,1186,1187,1188,1189,1190,1191,1192,1193,1194,1195,1196,1197,1198,1199,1200,1201,1202,1203,1204,1205,1206,1207,1208,1209,1210,1211,1212,1213,1214,1215,1216,1217,1218,1219,1220,1221,1222,1223,1224,1225,1226,1227,1228,1229,1230,1231,1232,1233,1234,1235,1236,1237,1238,1239,1240,1241,1242,1243,1244,1245,1246,1247,1248,1249,1250,1251,1252,1253,1254,1255,1256,1257,1258,1259,1260,1261,1262,1263,1264,1265,1266,1267,1268,1269,1270,1271,1272,1273,1274,1275,1276,1277,1278,1279,1280,1281,1282,1283,1284,1285,1286,1287,1288,1289,1290,1291,1292,1293,1294,1295,1296,1297,1298,1299,1300,1301,1302,1303,1304,1305,1306,1307,1308,1309,1310,1311,1312,1313,1314,1315,1316,1317,1318,1319,1320,1321,1322,1323,1324,1325,1326,1327,1328,1329,1330,1331,1332,1333,1334,1335,1336,1337,1338,1339,1340,1341,1342,1343,1344,1345,1346,1347,1348,1349,1350,1351,1352,1353,1354,1355,1356,1357,1358,1359,1360,1361,1362,1363,1364,1365,1366,1367,1368,1369,1370,1371,1372,1373,1374,1375,1376,1377,1378,1379,1380,1381,1382,1383,1384,1385,1386,1387,1388,1389,1390,1391,1392,1393,1394,1395,1396,1397,1398,1399,1400,1401,1402,1403,1404,1405,1406,1407,1408,1409,1410,1411,1412,1413,1414,1415,1416,1417,1418,1419,1420,1421,1422,1423,1424,1425,1426,1427,1428,1429,1430,1431,1432,1433,1434,1435,1436,1437,1438,1439,1440,1441,1442,1443,1444,1445,1446,1447,1448,1449,1450,1451,1452,1453,1454,1455,1456,1457,1458,1459,1460,1461,1462,1463,1464,1465,1466,1467,1468,1469,1470,1471,1472,1473,1474,1475,1476,1477,1478,1479,1480,1481,1482,1483,1484,1485,1486,1487,1488,1489,1490,1491,1492,1493,1494,1495,1496,1497,1498,1499,1500,1501,1502,1503,1504,1505,1506,1507,1508,1509,1510,1511,1512,1513,1514,1515,1516,1517,1518,1519,1520,1521,1522,1523,1524,1525,1526,1527,1528,1529,1530,1531,1532,1533,1534,1535,1536,1537,1538,1539,1540,1541,1542,1543,1544,1545,1546,1547,1548,1549,1550,1551,1552,1553,1554,1555,1556,1557,1558,1559,1560,1561,1562,1563,1564,1565,1566,1567,1568,1569,1570,1571,1572,1573,1574,1575,1576,1577,1578,1579,1580,1581,1582,1583,1584,1585,1586,1587,1588,1589,1590,1591,1592,1593,1594,1595,1596,1597,1598,1599,1600,1601,1602,1603,1604,1605,1606,1607,1608,1609,1610,1611,1612,1613,1614,1615,1616,1617,1618,1619,1620,1621,1622,1623,1624,1625,1626,1627,1628,1629,1630,1631,1632,1633,1634,1635,1636,1637,1638,1639,1640,1641,1642,1643,1644,1645,1646,1647,1648,1649,1650,1651,1652,1653,1654,1655,1656,1657,1658,1659,1660,1661,1662,1663,1664,1665,1666,1667,1668,1669,1670,1671,1672,1673,1674,1675,1676,1677,1678,1679,1680,1681,1682,1683,1684,1685,1686,1687,1688,1689,1690,1691,1692,1693,1694,1695,1696,1697,1698,1699,1700,1701,1702,1703,1704,1705,1706,1707,1708,1709,1710,1711,1712,1713,1714,1715,1716,1717,1718,1719,1720,1721,1722,1723,1724,1725,1726,1727,1728,1729,1730,1731,1732,1733,1734,1735,1736,1737,1738,1739,1740,1741,1742,1743,1744,1745,1746,1747,1748,1749,1750,1751,1752,1753,1754,1755,1756,1757,1758,1759,1760,1761,1762,1763,1764,1765,1766,1767,1768,1769,1770,1771,1772,1773,1774,1775,1776,1777,1778,1779,1780,1781,1782,1783,1784,1785,1786,1787,1788,1789,1790,1791,1792,1793,1794,1795,1796,1797,1798,1799,1800,1801,1802,1803,1804,1805,1806,1807,1808,1809,1810,1811,1812,1813,1814,1815,1816,1817,1818,1819,1820,1821,1822,1823,1824,1825,1826,1827,1828,1829,1830,1831,1832,1833,1834,1835,1836,1837,1838,1839,1840,1841,1842,1843,1844,1845,1846,1847,1848,1849,1850,1851,1852,1853,1854,1855,1856,1857,1858,1859,1860,1861,1862,1863,1864,1865,1866,1867,1868,1869,1870,1871,1872,1873,1874,1875,1876,1877,1878,1879,1880,1881,1882,1883,1884,1885,1886,1887,1888,1889,1890,1891,1892,1893,1894,1895,1896,1897,1898,1899,1900,1901,1902,1903,1904,1905,1906,1907,1908,1909,1910,1911,1912,1913,1914,1915,1916,1917,1918,1919,1920,1921,1922,1923,1924,1925,1926,1927,1928,1929,1930,1931,1932,1933,1934,1935,1936,1937,1938,1939,1940,1941,1942,1943,1944,1945,1946,1947,1948,1949,1950,1951,1952,1953,1954,1955,1956,1957,1958,1959,1960,1961,1962,1963,1964,1965,1966,1967,1968,1969,1970,1971,1972,1973,1974,1975,1976,1977,1978,1979,1980,1981,1982,1983,1984,1985,1986,1987,1988,1989,1990,1991,1992,1993,1994,1995,1996,1997,1998,1999,2000,2001,2002,2003,2004,2005,2006,2007,2008,2009,2010,2011,2012,2013,2014,2015,2016,2017,2018,2019,2020,2021,2022,2023,2024,2025,2026,2027,2028,2029,2030,2031,2032,2033,2034,2035,2036,2037,2038,2039,2040,2041,2042,2043,2044,2045,2046,2047,2048,2049,2050,2051,2052,2053,2054,2055,2056,2057,2058,2059,2060,2061,2062,2063,2064,2065,2066,2067,2068,2069,2070,2071,2072,2073,2074,2075,2076,2077,2078,2079,2080,2081,2082,2083,2084,2085,2086,2087,2088,2089,2090,2091,2092,2093,2094,2095,2096,2097,2098,2099,2100,2101,2102,2103,2104,2105,2106,2107,2108,2109,2110,2111,2112,2113,2114,2115,2116,2117,2118,2119,2120,2121,2122,2123,2124,2125,2126,2127,2128,2129,2130,2131,2132,2133,2134,2135,2136,2137,2138,2139,2140,2141,2142,2143,2144,2145,2146,2147,2148,2149,2150,2151,2152,2153,2154,2155,2156,2157,2158,2159,2160,2161,2162,2163,2164,2165,2166,2167,2168,2169,2170,2171,2172,2173,2174,2175,2176,2177,2178,2179,2180,2181,2182,2183,2184,2185,2186,2187,2188,2189,2190,2191,2192,2193,2194,2195,2196,2197,2198,2199,2200,2201,2202,2203,2204,2205,2206,2207,2208,2209,2210,2211,2212,2213,2214,2215,2216,2217,2218,2219,2220,2221,2222,2223,2224,2225,2226,2227,2228,2229,2230,2231,2232,2233,2234,2235,2236,2237,2238,2239,2240,2241,2242,2243,2244,2245,2246,2247,2248,2249,2250,2251,2252,2253,2254,2255,2256,2257,2258,2259,2260,2261,2262,2263,2264,2265,2266,2267,2268,2269,2270,2271,2272,2273,2274,2275],\"score\":{\"__ndarray__\":\"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\",\"dtype\":\"float64\",\"shape\":[2276]},\"tpr\":{\"__ndarray__\":\"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\",\"dtype\":\"float64\",\"shape\":[2276]},\"tpr_nice\":[\"0.0\",\"0.0\",\"0.0\",\"0.001143\",\"0.001143\",\"0.002286\",\"0.002286\",\"0.003429\",\"0.003429\",\"0.004571\",\"0.004571\",\"0.005714\",\"0.005714\",\"0.006857\",\"0.006857\",\"0.008\",\"0.008\",\"0.009143\",\"0.009143\",\"0.010286\",\"0.010286\",\"0.011429\",\"0.011429\",\"0.012571\",\"0.012571\",\"0.013714\",\"0.013714\",\"0.014857\",\"0.014857\",\"0.016\",\"0.016\",\"0.017143\",\"0.017143\",\"0.018286\",\"0.018286\",\"0.020571\",\"0.020571\",\"0.021714\",\"0.021714\",\"0.022857\",\"0.022857\",\"0.024\",\"0.024\",\"0.025143\",\"0.025143\",\"0.026286\",\"0.026286\",\"0.027429\",\"0.027429\",\"0.028571\",\"0.028571\",\"0.030857\",\"0.030857\",\"0.033143\",\"0.033143\",\"0.034286\",\"0.034286\",\"0.035429\",\"0.035429\",\"0.036571\",\"0.036571\",\"0.037714\",\"0.037714\",\"0.038857\",\"0.038857\",\"0.04\",\"0.04\",\"0.041143\",\"0.041143\",\"0.042286\",\"0.042286\",\"0.043429\",\"0.043429\",\"0.044571\",\"0.044571\",\"0.045714\",\"0.045714\",\"0.046857\",\"0.046857\",\"0.048\",\"0.048\",\"0.049143\",\"0.049143\",\"0.051429\",\"0.051429\",\"0.052571\",\"0.052571\",\"0.053714\",\"0.053714\",\"0.054857\",\"0.054857\",\"0.056\",\"0.056\",\"0.057143\",\"0.057143\",\"0.058286\",\"0.058286\",\"0.059429\",\"0.059429\",\"0.060571\",\"0.060571\",\"0.061714\",\"0.061714\",\"0.062857\",\"0.062857\",\"0.064\",\"0.064\",\"0.065143\",\"0.065143\",\"0.066286\",\"0.066286\",\"0.067429\",\"0.067429\",\"0.068571\",\"0.068571\",\"0.069714\",\"0.069714\",\"0.070857\",\"0.070857\",\"0.072\",\"0.072\",\"0.073143\",\"0.073143\",\"0.074286\",\"0.074286\",\"0.075429\",\"0.075429\",\"0.076571\",\"0.076571\",\"0.077714\",\"0.077714\",\"0.078857\",\"0.078857\",\"0.08\",\"0.08\",\"0.081143\",\"0.081143\",\"0.082286\",\"0.082286\",\"0.083429\",\"0.083429\",\"0.085714\",\"0.085714\",\"0.086857\",\"0.086857\",\"0.088\",\"0.088\",\"0.089143\",\"0.089143\",\"0.090286\",\"0.090286\",\"0.091429\",\"0.091429\",\"0.092571\",\"0.092571\",\"0.093714\",\"0.093714\",\"0.094857\",\"0.094857\",\"0.096\",\"0.096\",\"0.097143\",\"0.097143\",\"0.098286\",\"0.098286\",\"0.099429\",\"0.099429\",\"0.100571\",\"0.100571\",\"0.101714\",\"0.101714\",\"0.102857\",\"0.102857\",\"0.104\",\"0.104\",\"0.105143\",\"0.105143\",\"0.106286\",\"0.106286\",\"0.107429\",\"0.107429\",\"0.108571\",\"0.108571\",\"0.109714\",\"0.109714\",\"0.110857\",\"0.110857\",\"0.112\",\"0.112\",\"0.113143\",\"0.113143\",\"0.114286\",\"0.114286\",\"0.115429\",\"0.115429\",\"0.116571\",\"0.116571\",\"0.117714\",\"0.117714\",\"0.118857\",\"0.118857\",\"0.12\",\"0.12\",\"0.121143\",\"0.121143\",\"0.122286\",\"0.122286\",\"0.123429\",\"0.123429\",\"0.124571\",\"0.124571\",\"0.125714\",\"0.125714\",\"0.126857\",\"0.126857\",\"0.128\",\"0.128\",\"0.129143\",\"0.129143\",\"0.130286\",\"0.130286\",\"0.131429\",\"0.131429\",\"0.132571\",\"0.132571\",\"0.133714\",\"0.133714\",\"0.134857\",\"0.134857\",\"0.136\",\"0.136\",\"0.137143\",\"0.137143\",\"0.138286\",\"0.138286\",\"0.139429\",\"0.139429\",\"0.140571\",\"0.140571\",\"0.141714\",\"0.141714\",\"0.142857\",\"0.142857\",\"0.144\",\"0.144\",\"0.145143\",\"0.145143\",\"0.146286\",\"0.146286\",\"0.147429\",\"0.147429\",\"0.148571\",\"0.148571\",\"0.149714\",\"0.149714\",\"0.150857\",\"0.150857\",\"0.152\",\"0.152\",\"0.153143\",\"0.153143\",\"0.154286\",\"0.154286\",\"0.155429\",\"0.155429\",\"0.156571\",\"0.156571\",\"0.158857\",\"0.158857\",\"0.16\",\"0.16\",\"0.161143\",\"0.161143\",\"0.162286\",\"0.162286\",\"0.163429\",\"0.163429\",\"0.164571\",\"0.164571\",\"0.165714\",\"0.165714\",\"0.166857\",\"0.166857\",\"0.168\",\"0.168\",\"0.169143\",\"0.169143\",\"0.170286\",\"0.170286\",\"0.171429\",\"0.171429\",\"0.172571\",\"0.172571\",\"0.173714\",\"0.173714\",\"0.174857\",\"0.174857\",\"0.176\",\"0.176\",\"0.177143\",\"0.177143\",\"0.178286\",\"0.178286\",\"0.179429\",\"0.179429\",\"0.180571\",\"0.180571\",\"0.181714\",\"0.181714\",\"0.182857\",\"0.182857\",\"0.184\",\"0.184\",\"0.185143\",\"0.185143\",\"0.187429\",\"0.187429\",\"0.188571\",\"0.188571\",\"0.189714\",\"0.189714\",\"0.190857\",\"0.190857\",\"0.192\",\"0.192\",\"0.193143\",\"0.193143\",\"0.194286\",\"0.194286\",\"0.195429\",\"0.195429\",\"0.196571\",\"0.196571\",\"0.197714\",\"0.197714\",\"0.198857\",\"0.198857\",\"0.2\",\"0.2\",\"0.201143\",\"0.201143\",\"0.202286\",\"0.202286\",\"0.203429\",\"0.203429\",\"0.204571\",\"0.204571\",\"0.205714\",\"0.205714\",\"0.206857\",\"0.206857\",\"0.208\",\"0.208\",\"0.209143\",\"0.209143\",\"0.210286\",\"0.210286\",\"0.210286\",\"0.210286\",\"0.211429\",\"0.211429\",\"0.212571\",\"0.212571\",\"0.213714\",\"0.213714\",\"0.214857\",\"0.214857\",\"0.216\",\"0.216\",\"0.217143\",\"0.217143\",\"0.218286\",\"0.218286\",\"0.219429\",\"0.219429\",\"0.220571\",\"0.220571\",\"0.221714\",\"0.221714\",\"0.222857\",\"0.222857\",\"0.224\",\"0.224\",\"0.225143\",\"0.225143\",\"0.226286\",\"0.226286\",\"0.227429\",\"0.227429\",\"0.228571\",\"0.228571\",\"0.229714\",\"0.229714\",\"0.230857\",\"0.230857\",\"0.232\",\"0.232\",\"0.233143\",\"0.233143\",\"0.234286\",\"0.234286\",\"0.235429\",\"0.235429\",\"0.236571\",\"0.236571\",\"0.238857\",\"0.238857\",\"0.24\",\"0.24\",\"0.241143\",\"0.241143\",\"0.242286\",\"0.242286\",\"0.243429\",\"0.243429\",\"0.244571\",\"0.244571\",\"0.245714\",\"0.245714\",\"0.246857\",\"0.246857\",\"0.248\",\"0.248\",\"0.249143\",\"0.249143\",\"0.250286\",\"0.250286\",\"0.251429\",\"0.251429\",\"0.252571\",\"0.252571\",\"0.253714\",\"0.253714\",\"0.254857\",\"0.254857\",\"0.256\",\"0.256\",\"0.257143\",\"0.257143\",\"0.258286\",\"0.258286\",\"0.259429\",\"0.259429\",\"0.260571\",\"0.260571\",\"0.261714\",\"0.261714\",\"0.262857\",\"0.262857\",\"0.264\",\"0.264\",\"0.265143\",\"0.265143\",\"0.266286\",\"0.266286\",\"0.267429\",\"0.267429\",\"0.268571\",\"0.268571\",\"0.269714\",\"0.269714\",\"0.270857\",\"0.270857\",\"0.272\",\"0.272\",\"0.273143\",\"0.273143\",\"0.274286\",\"0.274286\",\"0.275429\",\"0.275429\",\"0.276571\",\"0.276571\",\"0.277714\",\"0.277714\",\"0.278857\",\"0.278857\",\"0.28\",\"0.28\",\"0.281143\",\"0.281143\",\"0.282286\",\"0.282286\",\"0.283429\",\"0.283429\",\"0.284571\",\"0.284571\",\"0.285714\",\"0.285714\",\"0.286857\",\"0.286857\",\"0.288\",\"0.288\",\"0.289143\",\"0.289143\",\"0.290286\",\"0.290286\",\"0.291429\",\"0.291429\",\"0.292571\",\"0.292571\",\"0.293714\",\"0.293714\",\"0.294857\",\"0.294857\",\"0.296\",\"0.296\",\"0.297143\",\"0.297143\",\"0.298286\",\"0.298286\",\"0.299429\",\"0.299429\",\"0.300571\",\"0.300571\",\"0.301714\",\"0.301714\",\"0.304\",\"0.304\",\"0.305143\",\"0.305143\",\"0.306286\",\"0.306286\",\"0.307429\",\"0.307429\",\"0.308571\",\"0.308571\",\"0.309714\",\"0.309714\",\"0.310857\",\"0.310857\",\"0.312\",\"0.312\",\"0.313143\",\"0.313143\",\"0.314286\",\"0.314286\",\"0.315429\",\"0.315429\",\"0.316571\",\"0.316571\",\"0.317714\",\"0.317714\",\"0.32\",\"0.32\",\"0.321143\",\"0.321143\",\"0.322286\",\"0.322286\",\"0.323429\",\"0.323429\",\"0.324571\",\"0.324571\",\"0.326857\",\"0.326857\",\"0.328\",\"0.328\",\"0.329143\",\"0.329143\",\"0.330286\",\"0.330286\",\"0.331429\",\"0.331429\",\"0.332571\",\"0.332571\",\"0.333714\",\"0.333714\",\"0.334857\",\"0.334857\",\"0.336\",\"0.336\",\"0.337143\",\"0.337143\",\"0.338286\",\"0.338286\",\"0.339429\",\"0.339429\",\"0.340571\",\"0.340571\",\"0.341714\",\"0.341714\",\"0.342857\",\"0.342857\",\"0.344\",\"0.344\",\"0.345143\",\"0.345143\",\"0.346286\",\"0.346286\",\"0.347429\",\"0.347429\",\"0.348571\",\"0.348571\",\"0.349714\",\"0.349714\",\"0.350857\",\"0.350857\",\"0.352\",\"0.352\",\"0.353143\",\"0.353143\",\"0.354286\",\"0.354286\",\"0.355429\",\"0.355429\",\"0.356571\",\"0.356571\",\"0.357714\",\"0.357714\",\"0.358857\",\"0.358857\",\"0.36\",\"0.36\",\"0.361143\",\"0.361143\",\"0.362286\",\"0.362286\",\"0.363429\",\"0.363429\",\"0.364571\",\"0.364571\",\"0.365714\",\"0.365714\",\"0.366857\",\"0.366857\",\"0.368\",\"0.368\",\"0.369143\",\"0.369143\",\"0.370286\",\"0.370286\",\"0.371429\",\"0.371429\",\"0.372571\",\"0.372571\",\"0.373714\",\"0.373714\",\"0.374857\",\"0.374857\",\"0.376\",\"0.376\",\"0.377143\",\"0.377143\",\"0.378286\",\"0.378286\",\"0.380571\",\"0.380571\",\"0.381714\",\"0.381714\",\"0.382857\",\"0.382857\",\"0.384\",\"0.384\",\"0.385143\",\"0.385143\",\"0.386286\",\"0.386286\",\"0.387429\",\"0.387429\",\"0.388571\",\"0.388571\",\"0.389714\",\"0.389714\",\"0.390857\",\"0.390857\",\"0.390857\",\"0.390857\",\"0.392\",\"0.392\",\"0.393143\",\"0.393143\",\"0.394286\",\"0.394286\",\"0.395429\",\"0.395429\",\"0.396571\",\"0.396571\",\"0.397714\",\"0.397714\",\"0.398857\",\"0.398857\",\"0.4\",\"0.4\",\"0.401143\",\"0.401143\",\"0.402286\",\"0.402286\",\"0.403429\",\"0.403429\",\"0.404571\",\"0.404571\",\"0.405714\",\"0.405714\",\"0.406857\",\"0.406857\",\"0.408\",\"0.408\",\"0.409143\",\"0.409143\",\"0.410286\",\"0.410286\",\"0.411429\",\"0.411429\",\"0.412571\",\"0.412571\",\"0.413714\",\"0.413714\",\"0.414857\",\"0.414857\",\"0.416\",\"0.416\",\"0.417143\",\"0.417143\",\"0.418286\",\"0.418286\",\"0.419429\",\"0.419429\",\"0.420571\",\"0.420571\",\"0.421714\",\"0.421714\",\"0.422857\",\"0.422857\",\"0.424\",\"0.424\",\"0.425143\",\"0.425143\",\"0.426286\",\"0.426286\",\"0.427429\",\"0.427429\",\"0.428571\",\"0.428571\",\"0.429714\",\"0.429714\",\"0.430857\",\"0.430857\",\"0.432\",\"0.432\",\"0.433143\",\"0.433143\",\"0.434286\",\"0.434286\",\"0.436571\",\"0.436571\",\"0.437714\",\"0.437714\",\"0.438857\",\"0.438857\",\"0.44\",\"0.44\",\"0.441143\",\"0.441143\",\"0.442286\",\"0.442286\",\"0.443429\",\"0.443429\",\"0.444571\",\"0.444571\",\"0.445714\",\"0.445714\",\"0.446857\",\"0.446857\",\"0.448\",\"0.448\",\"0.449143\",\"0.449143\",\"0.450286\",\"0.450286\",\"0.451429\",\"0.451429\",\"0.452571\",\"0.452571\",\"0.453714\",\"0.453714\",\"0.454857\",\"0.454857\",\"0.456\",\"0.456\",\"0.457143\",\"0.457143\",\"0.458286\",\"0.458286\",\"0.459429\",\"0.459429\",\"0.460571\",\"0.460571\",\"0.461714\",\"0.461714\",\"0.462857\",\"0.462857\",\"0.464\",\"0.464\",\"0.465143\",\"0.465143\",\"0.466286\",\"0.466286\",\"0.467429\",\"0.467429\",\"0.468571\",\"0.468571\",\"0.469714\",\"0.469714\",\"0.470857\",\"0.470857\",\"0.472\",\"0.472\",\"0.473143\",\"0.473143\",\"0.474286\",\"0.474286\",\"0.475429\",\"0.475429\",\"0.477714\",\"0.477714\",\"0.478857\",\"0.478857\",\"0.48\",\"0.48\",\"0.481143\",\"0.481143\",\"0.482286\",\"0.482286\",\"0.483429\",\"0.483429\",\"0.484571\",\"0.484571\",\"0.485714\",\"0.485714\",\"0.486857\",\"0.486857\",\"0.488\",\"0.488\",\"0.489143\",\"0.489143\",\"0.490286\",\"0.490286\",\"0.491429\",\"0.491429\",\"0.492571\",\"0.492571\",\"0.493714\",\"0.493714\",\"0.494857\",\"0.494857\",\"0.496\",\"0.496\",\"0.497143\",\"0.497143\",\"0.498286\",\"0.498286\",\"0.499429\",\"0.499429\",\"0.500571\",\"0.500571\",\"0.501714\",\"0.501714\",\"0.502857\",\"0.502857\",\"0.504\",\"0.504\",\"0.505143\",\"0.505143\",\"0.506286\",\"0.506286\",\"0.507429\",\"0.507429\",\"0.508571\",\"0.508571\",\"0.509714\",\"0.509714\",\"0.510857\",\"0.510857\",\"0.512\",\"0.512\",\"0.513143\",\"0.513143\",\"0.514286\",\"0.514286\",\"0.515429\",\"0.515429\",\"0.516571\",\"0.516571\",\"0.517714\",\"0.517714\",\"0.518857\",\"0.518857\",\"0.52\",\"0.52\",\"0.52\",\"0.52\",\"0.521143\",\"0.521143\",\"0.522286\",\"0.522286\",\"0.523429\",\"0.523429\",\"0.524571\",\"0.524571\",\"0.525714\",\"0.525714\",\"0.526857\",\"0.526857\",\"0.528\",\"0.528\",\"0.529143\",\"0.529143\",\"0.531429\",\"0.531429\",\"0.532571\",\"0.532571\",\"0.533714\",\"0.533714\",\"0.534857\",\"0.534857\",\"0.536\",\"0.536\",\"0.538286\",\"0.538286\",\"0.539429\",\"0.539429\",\"0.540571\",\"0.540571\",\"0.541714\",\"0.541714\",\"0.542857\",\"0.542857\",\"0.544\",\"0.544\",\"0.545143\",\"0.545143\",\"0.546286\",\"0.546286\",\"0.547429\",\"0.547429\",\"0.548571\",\"0.548571\",\"0.549714\",\"0.549714\",\"0.550857\",\"0.550857\",\"0.552\",\"0.552\",\"0.552\",\"0.553143\",\"0.553143\",\"0.554286\",\"0.554286\",\"0.555429\",\"0.555429\",\"0.556571\",\"0.556571\",\"0.557714\",\"0.557714\",\"0.558857\",\"0.558857\",\"0.56\",\"0.56\",\"0.561143\",\"0.561143\",\"0.562286\",\"0.562286\",\"0.563429\",\"0.563429\",\"0.564571\",\"0.564571\",\"0.565714\",\"0.565714\",\"0.566857\",\"0.566857\",\"0.568\",\"0.568\",\"0.569143\",\"0.569143\",\"0.570286\",\"0.570286\",\"0.571429\",\"0.571429\",\"0.572571\",\"0.572571\",\"0.574857\",\"0.574857\",\"0.576\",\"0.576\",\"0.577143\",\"0.577143\",\"0.578286\",\"0.578286\",\"0.579429\",\"0.579429\",\"0.580571\",\"0.580571\",\"0.581714\",\"0.581714\",\"0.581714\",\"0.581714\",\"0.582857\",\"0.582857\",\"0.582857\",\"0.582857\",\"0.584\",\"0.584\",\"0.585143\",\"0.585143\",\"0.586286\",\"0.586286\",\"0.587429\",\"0.587429\",\"0.587429\",\"0.587429\",\"0.588571\",\"0.588571\",\"0.589714\",\"0.589714\",\"0.590857\",\"0.590857\",\"0.592\",\"0.592\",\"0.593143\",\"0.593143\",\"0.594286\",\"0.594286\",\"0.595429\",\"0.595429\",\"0.596571\",\"0.596571\",\"0.597714\",\"0.597714\",\"0.597714\",\"0.597714\",\"0.598857\",\"0.598857\",\"0.6\",\"0.6\",\"0.601143\",\"0.601143\",\"0.602286\",\"0.602286\",\"0.602286\",\"0.602286\",\"0.602286\",\"0.602286\",\"0.603429\",\"0.603429\",\"0.604571\",\"0.604571\",\"0.605714\",\"0.605714\",\"0.606857\",\"0.606857\",\"0.608\",\"0.608\",\"0.609143\",\"0.609143\",\"0.610286\",\"0.610286\",\"0.611429\",\"0.611429\",\"0.612571\",\"0.612571\",\"0.612571\",\"0.612571\",\"0.613714\",\"0.613714\",\"0.614857\",\"0.614857\",\"0.616\",\"0.616\",\"0.617143\",\"0.617143\",\"0.618286\",\"0.618286\",\"0.619429\",\"0.619429\",\"0.619429\",\"0.619429\",\"0.620571\",\"0.620571\",\"0.621714\",\"0.621714\",\"0.622857\",\"0.622857\",\"0.624\",\"0.624\",\"0.625143\",\"0.625143\",\"0.625143\",\"0.625143\",\"0.626286\",\"0.626286\",\"0.627429\",\"0.627429\",\"0.628571\",\"0.628571\",\"0.629714\",\"0.629714\",\"0.630857\",\"0.630857\",\"0.630857\",\"0.630857\",\"0.632\",\"0.632\",\"0.633143\",\"0.633143\",\"0.634286\",\"0.634286\",\"0.635429\",\"0.635429\",\"0.636571\",\"0.636571\",\"0.638857\",\"0.638857\",\"0.64\",\"0.64\",\"0.641143\",\"0.641143\",\"0.642286\",\"0.642286\",\"0.643429\",\"0.643429\",\"0.644571\",\"0.644571\",\"0.645714\",\"0.645714\",\"0.646857\",\"0.646857\",\"0.648\",\"0.648\",\"0.649143\",\"0.649143\",\"0.650286\",\"0.650286\",\"0.651429\",\"0.651429\",\"0.652571\",\"0.652571\",\"0.653714\",\"0.653714\",\"0.654857\",\"0.654857\",\"0.656\",\"0.656\",\"0.657143\",\"0.657143\",\"0.658286\",\"0.658286\",\"0.659429\",\"0.659429\",\"0.660571\",\"0.660571\",\"0.661714\",\"0.661714\",\"0.662857\",\"0.662857\",\"0.664\",\"0.664\",\"0.664\",\"0.664\",\"0.665143\",\"0.665143\",\"0.666286\",\"0.666286\",\"0.667429\",\"0.667429\",\"0.668571\",\"0.668571\",\"0.669714\",\"0.669714\",\"0.669714\",\"0.669714\",\"0.670857\",\"0.670857\",\"0.672\",\"0.672\",\"0.672\",\"0.672\",\"0.673143\",\"0.673143\",\"0.674286\",\"0.674286\",\"0.675429\",\"0.675429\",\"0.676571\",\"0.676571\",\"0.676571\",\"0.676571\",\"0.677714\",\"0.677714\",\"0.678857\",\"0.678857\",\"0.68\",\"0.68\",\"0.681143\",\"0.681143\",\"0.682286\",\"0.682286\",\"0.683429\",\"0.683429\",\"0.684571\",\"0.684571\",\"0.685714\",\"0.685714\",\"0.686857\",\"0.686857\",\"0.688\",\"0.688\",\"0.689143\",\"0.689143\",\"0.690286\",\"0.690286\",\"0.691429\",\"0.691429\",\"0.692571\",\"0.692571\",\"0.693714\",\"0.693714\",\"0.694857\",\"0.694857\",\"0.694857\",\"0.694857\",\"0.694857\",\"0.694857\",\"0.696\",\"0.696\",\"0.696\",\"0.696\",\"0.696\",\"0.696\",\"0.697143\",\"0.697143\",\"0.698286\",\"0.698286\",\"0.699429\",\"0.699429\",\"0.700571\",\"0.700571\",\"0.701714\",\"0.701714\",\"0.702857\",\"0.702857\",\"0.704\",\"0.704\",\"0.704\",\"0.704\",\"0.704\",\"0.704\",\"0.704\",\"0.704\",\"0.705143\",\"0.705143\",\"0.706286\",\"0.706286\",\"0.707429\",\"0.707429\",\"0.708571\",\"0.708571\",\"0.709714\",\"0.709714\",\"0.709714\",\"0.709714\",\"0.710857\",\"0.710857\",\"0.712\",\"0.712\",\"0.713143\",\"0.713143\",\"0.713143\",\"0.713143\",\"0.714286\",\"0.714286\",\"0.715429\",\"0.715429\",\"0.716571\",\"0.716571\",\"0.717714\",\"0.717714\",\"0.718857\",\"0.718857\",\"0.72\",\"0.72\",\"0.721143\",\"0.721143\",\"0.721143\",\"0.721143\",\"0.722286\",\"0.722286\",\"0.723429\",\"0.723429\",\"0.723429\",\"0.723429\",\"0.724571\",\"0.724571\",\"0.725714\",\"0.725714\",\"0.726857\",\"0.726857\",\"0.728\",\"0.728\",\"0.729143\",\"0.729143\",\"0.729143\",\"0.729143\",\"0.730286\",\"0.730286\",\"0.731429\",\"0.731429\",\"0.732571\",\"0.732571\",\"0.733714\",\"0.733714\",\"0.733714\",\"0.733714\",\"0.734857\",\"0.734857\",\"0.734857\",\"0.734857\",\"0.736\",\"0.736\",\"0.736\",\"0.736\",\"0.736\",\"0.736\",\"0.736\",\"0.736\",\"0.737143\",\"0.737143\",\"0.738286\",\"0.738286\",\"0.739429\",\"0.739429\",\"0.740571\",\"0.740571\",\"0.741714\",\"0.741714\",\"0.742857\",\"0.742857\",\"0.744\",\"0.744\",\"0.745143\",\"0.745143\",\"0.746286\",\"0.746286\",\"0.747429\",\"0.747429\",\"0.748571\",\"0.748571\",\"0.749714\",\"0.749714\",\"0.750857\",\"0.750857\",\"0.752\",\"0.752\",\"0.753143\",\"0.753143\",\"0.753143\",\"0.753143\",\"0.754286\",\"0.754286\",\"0.755429\",\"0.755429\",\"0.756571\",\"0.756571\",\"0.757714\",\"0.757714\",\"0.757714\",\"0.757714\",\"0.758857\",\"0.758857\",\"0.76\",\"0.76\",\"0.761143\",\"0.761143\",\"0.762286\",\"0.762286\",\"0.763429\",\"0.763429\",\"0.763429\",\"0.763429\",\"0.764571\",\"0.764571\",\"0.765714\",\"0.765714\",\"0.765714\",\"0.765714\",\"0.766857\",\"0.766857\",\"0.768\",\"0.768\",\"0.769143\",\"0.769143\",\"0.770286\",\"0.770286\",\"0.771429\",\"0.771429\",\"0.772571\",\"0.772571\",\"0.773714\",\"0.773714\",\"0.774857\",\"0.774857\",\"0.774857\",\"0.774857\",\"0.776\",\"0.776\",\"0.777143\",\"0.777143\",\"0.778286\",\"0.778286\",\"0.779429\",\"0.779429\",\"0.780571\",\"0.780571\",\"0.781714\",\"0.781714\",\"0.782857\",\"0.782857\",\"0.784\",\"0.784\",\"0.785143\",\"0.785143\",\"0.785143\",\"0.785143\",\"0.786286\",\"0.786286\",\"0.787429\",\"0.787429\",\"0.788571\",\"0.788571\",\"0.789714\",\"0.789714\",\"0.789714\",\"0.789714\",\"0.790857\",\"0.790857\",\"0.790857\",\"0.790857\",\"0.792\",\"0.792\",\"0.793143\",\"0.793143\",\"0.793143\",\"0.793143\",\"0.794286\",\"0.794286\",\"0.795429\",\"0.795429\",\"0.796571\",\"0.796571\",\"0.796571\",\"0.796571\",\"0.796571\",\"0.796571\",\"0.797714\",\"0.797714\",\"0.798857\",\"0.798857\",\"0.8\",\"0.8\",\"0.8\",\"0.8\",\"0.801143\",\"0.801143\",\"0.801143\",\"0.801143\",\"0.802286\",\"0.802286\",\"0.803429\",\"0.803429\",\"0.803429\",\"0.803429\",\"0.804571\",\"0.804571\",\"0.805714\",\"0.805714\",\"0.806857\",\"0.806857\",\"0.808\",\"0.808\",\"0.809143\",\"0.809143\",\"0.810286\",\"0.810286\",\"0.811429\",\"0.811429\",\"0.812571\",\"0.812571\",\"0.813714\",\"0.813714\",\"0.814857\",\"0.814857\",\"0.814857\",\"0.814857\",\"0.816\",\"0.816\",\"0.817143\",\"0.817143\",\"0.818286\",\"0.818286\",\"0.818286\",\"0.818286\",\"0.818286\",\"0.818286\",\"0.819429\",\"0.819429\",\"0.820571\",\"0.820571\",\"0.821714\",\"0.821714\",\"0.822857\",\"0.822857\",\"0.824\",\"0.824\",\"0.825143\",\"0.825143\",\"0.826286\",\"0.826286\",\"0.827429\",\"0.827429\",\"0.828571\",\"0.828571\",\"0.829714\",\"0.829714\",\"0.830857\",\"0.830857\",\"0.832\",\"0.832\",\"0.833143\",\"0.833143\",\"0.834286\",\"0.834286\",\"0.835429\",\"0.835429\",\"0.836571\",\"0.836571\",\"0.837714\",\"0.837714\",\"0.838857\",\"0.838857\",\"0.84\",\"0.84\",\"0.841143\",\"0.841143\",\"0.842286\",\"0.842286\",\"0.843429\",\"0.843429\",\"0.843429\",\"0.843429\",\"0.844571\",\"0.844571\",\"0.845714\",\"0.845714\",\"0.846857\",\"0.846857\",\"0.848\",\"0.848\",\"0.849143\",\"0.849143\",\"0.850286\",\"0.850286\",\"0.850286\",\"0.850286\",\"0.851429\",\"0.851429\",\"0.852571\",\"0.852571\",\"0.853714\",\"0.853714\",\"0.854857\",\"0.854857\",\"0.856\",\"0.856\",\"0.857143\",\"0.857143\",\"0.858286\",\"0.858286\",\"0.859429\",\"0.859429\",\"0.860571\",\"0.860571\",\"0.861714\",\"0.861714\",\"0.862857\",\"0.862857\",\"0.864\",\"0.864\",\"0.865143\",\"0.865143\",\"0.866286\",\"0.866286\",\"0.866286\",\"0.866286\",\"0.866286\",\"0.866286\",\"0.867429\",\"0.867429\",\"0.868571\",\"0.868571\",\"0.869714\",\"0.869714\",\"0.870857\",\"0.870857\",\"0.872\",\"0.872\",\"0.873143\",\"0.873143\",\"0.874286\",\"0.874286\",\"0.875429\",\"0.875429\",\"0.876571\",\"0.876571\",\"0.877714\",\"0.877714\",\"0.878857\",\"0.878857\",\"0.88\",\"0.88\",\"0.88\",\"0.88\",\"0.881143\",\"0.881143\",\"0.881143\",\"0.881143\",\"0.881143\",\"0.881143\",\"0.882286\",\"0.882286\",\"0.883429\",\"0.883429\",\"0.884571\",\"0.884571\",\"0.885714\",\"0.885714\",\"0.886857\",\"0.886857\",\"0.888\",\"0.888\",\"0.888\",\"0.888\",\"0.888\",\"0.888\",\"0.888\",\"0.888\",\"0.889143\",\"0.889143\",\"0.890286\",\"0.890286\",\"0.890286\",\"0.890286\",\"0.890286\",\"0.890286\",\"0.890286\",\"0.890286\",\"0.891429\",\"0.891429\",\"0.891429\",\"0.891429\",\"0.891429\",\"0.891429\",\"0.892571\",\"0.892571\",\"0.893714\",\"0.893714\",\"0.894857\",\"0.894857\",\"0.894857\",\"0.894857\",\"0.894857\",\"0.894857\",\"0.896\",\"0.896\",\"0.897143\",\"0.897143\",\"0.897143\",\"0.897143\",\"0.897143\",\"0.897143\",\"0.898286\",\"0.898286\",\"0.898286\",\"0.898286\",\"0.899429\",\"0.899429\",\"0.899429\",\"0.899429\",\"0.900571\",\"0.900571\",\"0.901714\",\"0.901714\",\"0.901714\",\"0.901714\",\"0.901714\",\"0.901714\",\"0.902857\",\"0.902857\",\"0.904\",\"0.904\",\"0.905143\",\"0.905143\",\"0.906286\",\"0.906286\",\"0.907429\",\"0.907429\",\"0.908571\",\"0.908571\",\"0.908571\",\"0.908571\",\"0.908571\",\"0.908571\",\"0.908571\",\"0.908571\",\"0.909714\",\"0.909714\",\"0.910857\",\"0.910857\",\"0.912\",\"0.912\",\"0.913143\",\"0.913143\",\"0.914286\",\"0.914286\",\"0.914286\",\"0.914286\",\"0.915429\",\"0.915429\",\"0.915429\",\"0.915429\",\"0.915429\",\"0.915429\",\"0.916571\",\"0.916571\",\"0.916571\",\"0.917714\",\"0.917714\",\"0.918857\",\"0.918857\",\"0.918857\",\"0.918857\",\"0.918857\",\"0.918857\",\"0.92\",\"0.92\",\"0.92\",\"0.92\",\"0.921143\",\"0.921143\",\"0.921143\",\"0.921143\",\"0.922286\",\"0.922286\",\"0.922286\",\"0.922286\",\"0.922286\",\"0.922286\",\"0.923429\",\"0.923429\",\"0.924571\",\"0.924571\",\"0.924571\",\"0.924571\",\"0.924571\",\"0.924571\",\"0.925714\",\"0.925714\",\"0.925714\",\"0.925714\",\"0.925714\",\"0.925714\",\"0.926857\",\"0.926857\",\"0.926857\",\"0.926857\",\"0.926857\",\"0.926857\",\"0.926857\",\"0.926857\",\"0.926857\",\"0.926857\",\"0.928\",\"0.928\",\"0.928\",\"0.928\",\"0.928\",\"0.928\",\"0.928\",\"0.928\",\"0.928\",\"0.928\",\"0.929143\",\"0.929143\",\"0.930286\",\"0.930286\",\"0.930286\",\"0.930286\",\"0.930286\",\"0.930286\",\"0.931429\",\"0.931429\",\"0.932571\",\"0.932571\",\"0.933714\",\"0.933714\",\"0.933714\",\"0.933714\",\"0.933714\",\"0.933714\",\"0.933714\",\"0.933714\",\"0.934857\",\"0.934857\",\"0.936\",\"0.936\",\"0.936\",\"0.937143\",\"0.937143\",\"0.937143\",\"0.937143\",\"0.938286\",\"0.938286\",\"0.939429\",\"0.939429\",\"0.939429\",\"0.939429\",\"0.939429\",\"0.939429\",\"0.940571\",\"0.940571\",\"0.941714\",\"0.941714\",\"0.941714\",\"0.941714\",\"0.941714\",\"0.941714\",\"0.941714\",\"0.942857\",\"0.942857\",\"0.942857\",\"0.942857\",\"0.944\",\"0.944\",\"0.945143\",\"0.945143\",\"0.945143\",\"0.945143\",\"0.945143\",\"0.945143\",\"0.946286\",\"0.946286\",\"0.946286\",\"0.946286\",\"0.946286\",\"0.946286\",\"0.947429\",\"0.947429\",\"0.947429\",\"0.947429\",\"0.947429\",\"0.947429\",\"0.948571\",\"0.948571\",\"0.948571\",\"0.948571\",\"0.948571\",\"0.948571\",\"0.948571\",\"0.948571\",\"0.948571\",\"0.948571\",\"0.948571\",\"0.948571\",\"0.949714\",\"0.949714\",\"0.949714\",\"0.949714\",\"0.949714\",\"0.949714\",\"0.949714\",\"0.949714\",\"0.950857\",\"0.950857\",\"0.950857\",\"0.950857\",\"0.952\",\"0.952\",\"0.953143\",\"0.953143\",\"0.954286\",\"0.954286\",\"0.954286\",\"0.954286\",\"0.955429\",\"0.955429\",\"0.955429\",\"0.955429\",\"0.956571\",\"0.956571\",\"0.956571\",\"0.956571\",\"0.957714\",\"0.957714\",\"0.957714\",\"0.957714\",\"0.957714\",\"0.957714\",\"0.957714\",\"0.957714\",\"0.957714\",\"0.957714\",\"0.957714\",\"0.957714\",\"0.957714\",\"0.957714\",\"0.957714\",\"0.957714\",\"0.958857\",\"0.958857\",\"0.958857\",\"0.958857\",\"0.958857\",\"0.958857\",\"0.96\",\"0.96\",\"0.96\",\"0.96\",\"0.96\",\"0.96\",\"0.961143\",\"0.961143\",\"0.961143\",\"0.961143\",\"0.961143\",\"0.961143\",\"0.961143\",\"0.961143\",\"0.961143\",\"0.961143\",\"0.961143\",\"0.961143\",\"0.961143\",\"0.961143\",\"0.961143\",\"0.961143\",\"0.962286\",\"0.962286\",\"0.963429\",\"0.963429\",\"0.964571\",\"0.964571\",\"0.964571\",\"0.965714\",\"0.965714\",\"0.965714\",\"0.965714\",\"0.965714\",\"0.965714\",\"0.966857\",\"0.966857\",\"0.966857\",\"0.966857\",\"0.966857\",\"0.966857\",\"0.966857\",\"0.966857\",\"0.966857\",\"0.968\",\"0.968\",\"0.968\",\"0.968\",\"0.969143\",\"0.969143\",\"0.969143\",\"0.969143\",\"0.969143\",\"0.969143\",\"0.970286\",\"0.970286\",\"0.970286\",\"0.970286\",\"0.971429\",\"0.971429\",\"0.971429\",\"0.971429\",\"0.971429\",\"0.971429\",\"0.971429\",\"0.971429\",\"0.971429\",\"0.971429\",\"0.972571\",\"0.972571\",\"0.972571\",\"0.972571\",\"0.972571\",\"0.972571\",\"0.972571\",\"0.972571\",\"0.973714\",\"0.973714\",\"0.973714\",\"0.973714\",\"0.974857\",\"0.974857\",\"0.974857\",\"0.974857\",\"0.976\",\"0.976\",\"0.976\",\"0.976\",\"0.976\",\"0.976\",\"0.976\",\"0.976\",\"0.976\",\"0.976\",\"0.976\",\"0.976\",\"0.976\",\"0.976\",\"0.976\",\"0.976\",\"0.976\",\"0.976\",\"0.976\",\"0.976\",\"0.976\",\"0.976\",\"0.976\",\"0.976\",\"0.976\",\"0.976\",\"0.977143\",\"0.977143\",\"0.977143\",\"0.977143\",\"0.977143\",\"0.977143\",\"0.977143\",\"0.977143\",\"0.977143\",\"0.977143\",\"0.977143\",\"0.977143\",\"0.977143\",\"0.977143\",\"0.978286\",\"0.978286\",\"0.980571\",\"0.980571\",\"0.980571\",\"0.980571\",\"0.980571\",\"0.980571\",\"0.980571\",\"0.980571\",\"0.981714\",\"0.981714\",\"0.981714\",\"0.981714\",\"0.981714\",\"0.981714\",\"0.981714\",\"0.981714\",\"0.981714\",\"0.981714\",\"0.981714\",\"0.981714\",\"0.981714\",\"0.981714\",\"0.981714\",\"0.981714\",\"0.981714\",\"0.981714\",\"0.981714\",\"0.981714\",\"0.981714\",\"0.981714\",\"0.981714\",\"0.981714\",\"0.981714\",\"0.981714\",\"0.981714\",\"0.981714\",\"0.981714\",\"0.981714\",\"0.981714\",\"0.981714\",\"0.981714\",\"0.981714\",\"0.982857\",\"0.982857\",\"0.982857\",\"0.982857\",\"0.982857\",\"0.982857\",\"0.982857\",\"0.982857\",\"0.982857\",\"0.982857\",\"0.982857\",\"0.982857\",\"0.984\",\"0.984\",\"0.984\",\"0.984\",\"0.985143\",\"0.985143\",\"0.985143\",\"0.985143\",\"0.986286\",\"0.986286\",\"0.986286\",\"0.986286\",\"0.987429\",\"0.987429\",\"0.987429\",\"0.987429\",\"0.987429\",\"0.987429\",\"0.988571\",\"0.988571\",\"0.988571\",\"0.988571\",\"0.988571\",\"0.988571\",\"0.988571\",\"0.988571\",\"0.988571\",\"0.988571\",\"0.988571\",\"0.988571\",\"0.988571\",\"0.988571\",\"0.988571\",\"0.988571\",\"0.989714\",\"0.989714\",\"0.990857\",\"0.990857\",\"0.990857\",\"0.990857\",\"0.990857\",\"0.990857\",\"0.990857\",\"0.990857\",\"0.990857\",\"0.990857\",\"0.990857\",\"0.990857\",\"0.990857\",\"0.990857\",\"0.992\",\"0.992\",\"0.992\",\"0.992\",\"0.993143\",\"0.993143\",\"0.994286\",\"0.994286\",\"0.995429\",\"0.995429\",\"0.995429\",\"0.995429\",\"0.995429\",\"0.995429\",\"0.995429\",\"0.995429\",\"0.995429\",\"0.995429\",\"0.995429\",\"0.996571\",\"0.996571\",\"0.996571\",\"0.996571\",\"0.997714\",\"0.997714\",\"0.997714\",\"0.997714\",\"0.997714\",\"0.997714\",\"0.997714\",\"0.997714\",\"0.997714\",\"0.997714\",\"0.997714\",\"0.997714\",\"0.997714\",\"0.997714\",\"0.997714\",\"0.997714\",\"0.997714\",\"0.997714\",\"0.997714\",\"0.997714\",\"0.997714\",\"0.997714\",\"0.997714\",\"0.997714\",\"0.997714\",\"0.997714\",\"0.997714\",\"0.997714\",\"0.997714\",\"0.997714\",\"0.997714\",\"0.997714\",\"0.997714\",\"0.997714\",\"0.997714\",\"0.997714\",\"0.997714\",\"0.997714\",\"0.997714\",\"0.997714\",\"0.997714\",\"0.997714\",\"0.997714\",\"0.997714\",\"0.997714\",\"0.997714\",\"0.997714\",\"0.997714\",\"0.998857\",\"0.998857\",\"0.998857\",\"0.998857\",\"0.998857\",\"0.998857\",\"0.998857\",\"0.998857\",\"0.998857\",\"0.998857\",\"0.998857\",\"0.998857\",\"0.998857\",\"0.998857\",\"0.998857\",\"0.998857\",\"1.0\",\"1.0\",\"1.0\",\"1.0\",\"1.0\",\"1.0\",\"1.0\",\"1.0\",\"1.0\",\"1.0\",\"1.0\",\"1.0\",\"1.0\",\"1.0\",\"1.0\",\"1.0\",\"1.0\",\"1.0\",\"1.0\",\"1.0\",\"1.0\",\"1.0\",\"1.0\",\"1.0\",\"1.0\",\"1.0\",\"1.0\",\"1.0\",\"1.0\",\"1.0\",\"1.0\",\"1.0\",\"1.0\",\"1.0\",\"1.0\",\"1.0\",\"1.0\",\"1.0\"]}},\"id\":\"019aab45-f3e7-401f-9459-de1ede8c6853\",\"type\":\"ColumnDataSource\"},{\"attributes\":{\"plot\":{\"id\":\"3c0698f9-e03b-4637-8589-4b9ab2632aeb\",\"subtype\":\"Figure\",\"type\":\"Plot\"}},\"id\":\"be72b777-cb42-4f86-bf66-b619791c374a\",\"type\":\"ResetTool\"},{\"attributes\":{\"fill_alpha\":{\"value\":0.1},\"fill_color\":{\"value\":\"#1f77b4\"},\"line_alpha\":{\"value\":0.1},\"line_color\":{\"value\":\"#1f77b4\"},\"x\":{\"field\":\"x\"},\"y\":{\"field\":\"y\"}},\"id\":\"e3b66345-4b71-49ae-83cf-180143188b60\",\"type\":\"Patch\"},{\"attributes\":{\"data_source\":{\"id\":\"64ffc397-7376-4ffd-b108-b37141e494b3\",\"type\":\"ColumnDataSource\"},\"glyph\":{\"id\":\"c33bce5d-b8df-4da6-8b34-1fd51aff9d8a\",\"type\":\"Line\"},\"hover_glyph\":null,\"muted_glyph\":null,\"name\":\"random_guess\",\"nonselection_glyph\":{\"id\":\"9647c32d-63e4-4839-bcd2-12c0368f1b0f\",\"type\":\"Line\"},\"selection_glyph\":null},\"id\":\"7b81f846-df4b-442a-bd8f-7c7d23e2b0d1\",\"type\":\"GlyphRenderer\"},{\"attributes\":{\"line_alpha\":{\"value\":0.1},\"line_color\":{\"value\":\"#1f77b4\"},\"line_width\":{\"value\":3},\"x\":{\"field\":\"fpr\"},\"y\":{\"field\":\"tpr\"}},\"id\":\"6376613c-bc49-465c-abaf-8f457cb13f60\",\"type\":\"Line\"},{\"attributes\":{\"axis_label\":\"False Positive Rate\",\"formatter\":{\"id\":\"49ed537b-4526-461a-bc5c-bb14fb82fdb3\",\"type\":\"BasicTickFormatter\"},\"plot\":{\"id\":\"3c0698f9-e03b-4637-8589-4b9ab2632aeb\",\"subtype\":\"Figure\",\"type\":\"Plot\"},\"ticker\":{\"id\":\"0901c174-7fdf-4d07-8772-68a27ba2a65a\",\"type\":\"BasicTicker\"}},\"id\":\"ae796efe-6a48-4b00-b43c-6fa1fa230168\",\"type\":\"LinearAxis\"},{\"attributes\":{\"plot\":null,\"text\":\"ROC Curve\"},\"id\":\"b9ddcd55-dc68-408f-b615-ba2b3d4d3e62\",\"type\":\"Title\"},{\"attributes\":{\"bottom_units\":\"screen\",\"fill_alpha\":{\"value\":0.5},\"fill_color\":{\"value\":\"lightgrey\"},\"left_units\":\"screen\",\"level\":\"overlay\",\"line_alpha\":{\"value\":1.0},\"line_color\":{\"value\":\"black\"},\"line_dash\":[4,4],\"line_width\":{\"value\":2},\"plot\":null,\"render_mode\":\"css\",\"right_units\":\"screen\",\"top_units\":\"screen\"},\"id\":\"7a91d4c7-6524-4b92-a1ec-89097c05145c\",\"type\":\"BoxAnnotation\"},{\"attributes\":{\"axis_label\":\"True Positive Rate\",\"formatter\":{\"id\":\"f3994262-23eb-4ea4-ba5a-4831cc004bf2\",\"type\":\"BasicTickFormatter\"},\"plot\":{\"id\":\"3c0698f9-e03b-4637-8589-4b9ab2632aeb\",\"subtype\":\"Figure\",\"type\":\"Plot\"},\"ticker\":{\"id\":\"49d40125-4e85-4a6e-a249-0654bf4b7818\",\"type\":\"BasicTicker\"}},\"id\":\"a085f524-fe1a-49ab-8ad0-d5dd89fc9767\",\"type\":\"LinearAxis\"},{\"attributes\":{\"label\":{\"value\":\"AUC: 0.6564\"},\"renderers\":[{\"id\":\"4fb3fc3a-0aed-4aa9-932a-728102345354\",\"type\":\"GlyphRenderer\"}]},\"id\":\"11fdb3fc-4eee-4b54-bfb7-5385c64c4ba3\",\"type\":\"LegendItem\"},{\"attributes\":{\"plot\":{\"id\":\"3c0698f9-e03b-4637-8589-4b9ab2632aeb\",\"subtype\":\"Figure\",\"type\":\"Plot\"}},\"id\":\"86b2c11b-abe8-4491-950b-302ae935cd5e\",\"type\":\"PanTool\"},{\"attributes\":{\"plot\":{\"id\":\"3c0698f9-e03b-4637-8589-4b9ab2632aeb\",\"subtype\":\"Figure\",\"type\":\"Plot\"}},\"id\":\"079b0ff1-a9ad-481f-a079-008eb49f4d9e\",\"type\":\"WheelZoomTool\"},{\"attributes\":{\"callback\":null,\"column_names\":[\"y\",\"x\"],\"data\":{\"x\":[0.0,1.064974067881447e-05,6.389844407288682e-05,6.389844407288682e-05,0.0002981927390068052,0.0002981927390068052,0.0010010756238085603,0.0010010756238085603,0.0010223751051661892,0.0010223751051661892,0.001246019659421293,0.001246019659421293,0.0013951160289246956,0.0013951160289246956,0.0021192983950840795,0.0021192983950840795,0.002939328427352794,0.002939328427352794,0.0032694703883960428,0.0032694703883960428,0.0036954600155486212,0.0036954600155486212,0.004483540825780892,0.004483540825780892,0.004771083824108883,0.004771083824108883,0.005292921117370792,0.005292921117370792,0.006081001927603063,0.006081001927603063,0.0065708899988285285,0.0065708899988285285,0.006901031959871777,0.006901031959871777,0.007486767697206573,0.007486767697206573,0.0075932651039947174,0.0075932651039947174,0.007848858880286264,0.007848858880286264,0.00933982257532029,0.00933982257532029,0.009403721019393178,0.009403721019393178,0.009755162461794056,0.009755162461794056,0.010106603904194933,0.010106603904194933,0.010798837048317873,0.010798837048317873,0.01095858315850009,0.01095858315850009,0.011182227712755195,0.011182227712755195,0.011320674341579783,0.011320674341579783,0.011480420451762,0.011480420451762,0.011842511634841691,0.011842511634841691,0.01205550644841798,0.01205550644841798,0.013589069106167265,0.013589069106167265,0.013759464957028296,0.013759464957028296,0.014877687728303815,0.014877687728303815,0.016038509462294594,0.016038509462294594,0.016347351941980212,0.016347351941980212,0.016666844162344648,0.016666844162344648,0.017124783011533667,0.017124783011533667,0.017401676269182844,0.017401676269182844,0.018424051374349035,0.018424051374349035,0.018786142557428727,0.018786142557428727,0.019659421293091513,0.019659421293091513,0.0197233197371644,0.0197233197371644,0.020096060660922906,0.020096060660922906,0.020777644064367034,0.020777644064367034,0.021352730061023013,0.021352730061023013,0.021501826430526418,0.021501826430526418,0.022396404647546834,0.022396404647546834,0.022875642978093483,0.022875642978093483,0.022960840903524,0.022960840903524,0.02322708442049436,0.02322708442049436,0.023663723788325753,0.023663723788325753,0.024025814971405445,0.024025814971405445,0.024419855376521582,0.024419855376521582,0.026145113366489527,0.026145113366489527,0.026422006624138704,0.026422006624138704,0.026603052215678546,0.026603052215678546,0.026858645991970097,0.026858645991970097,0.027018392102152313,0.027018392102152313,0.028019467725960874,0.028019467725960874,0.028701051129405,0.028701051129405,0.02906314231248469,0.02906314231248469,0.029233538163345722,0.029233538163345722,0.029478482198958454,0.029478482198958454,0.02948913193963727,0.02948913193963727,0.030266563009190728,0.030266563009190728,0.030500857304124645,0.030500857304124645,0.030916197190598408,0.030916197190598408,0.03160843033472135,0.03160843033472135,0.03169362826015187,0.03169362826015187,0.03172557748218831,0.03172557748218831,0.03197052151780104,0.03197052151780104,0.03200247073983749,0.03200247073983749,0.03218351633137733,0.03218351633137733,0.03219416607205614,0.03219416607205614,0.03264145518056635,0.03264145518056635,0.032822500772106196,0.032822500772106196,0.03329108936197404,0.03329108936197404,0.03357863236030203,0.03357863236030203,0.034079170172206304,0.034079170172206304,0.03508024579601487,0.03508024579601487,0.03533583957230641,0.03533583957230641,0.03566598153334966,0.03566598153334966,0.035793778421495434,0.035793778421495434,0.037487087189426935,0.037487087189426935,0.037550985633499824,0.037550985633499824,0.037891777335221886,0.037891777335221886,0.03875440633020586,0.03875440633020586,0.039553136881116946,0.039553136881116946,0.04059681146764076,0.04059681146764076,0.041076049798187415,0.041076049798187415,0.041193196945654376,0.041193196945654376,0.04278000830679773,0.04278000830679773,0.04282260726951299,0.04282260726951299,0.04537854503242846,0.04537854503242846,0.045634138808720005,0.045634138808720005,0.04618792532401836,0.04618792532401836,0.04640092013759465,0.04640092013759465,0.047583041352943056,0.047583041352943056,0.04793448279534393,0.04793448279534393,0.04816877709027785,0.04816877709027785,0.05124655214645523,0.05124655214645523,0.05131045059052812,0.05131045059052812,0.05134239981256456,0.05134239981256456,0.051938785290578174,0.051938785290578174,0.052077231919402764,0.052077231919402764,0.052098531400760394,0.052098531400760394,0.052130480622796835,0.052130480622796835,0.052247627770263795,0.052247627770263795,0.05233282569569431,0.05233282569569431,0.05252452102791297,0.05252452102791297,0.05288661221099266,0.05288661221099266,0.05297181013642318,0.05297181013642318,0.05313155624660539,0.05313155624660539,0.053759890946655446,0.053759890946655446,0.053813139650049524,0.053813139650049524,0.053823789390728335,0.053823789390728335,0.05383443913140715,0.05383443913140715,0.05421782979584447,0.05421782979584447,0.05453732201620891,0.05453732201620891,0.055346702307798805,0.055346702307798805,0.05586853960106072,0.05586853960106072,0.056773767558759944,0.056773767558759944,0.05764704629442273,0.05764704629442273,0.05787069084867783,0.05787069084867783,0.0590208628419898,0.0590208628419898,0.05976634468950681,0.05976634468950681,0.05977699443018562,0.05977699443018562,0.060224283538695834,0.060224283538695834,0.06070352186924249,0.06070352186924249,0.06206668867613074,0.06206668867613074,0.06246072908124687,0.06246072908124687,0.06288671870839944,0.06288671870839944,0.06367479951863173,0.06367479951863173,0.06369609899998935,0.06369609899998935,0.06443093110682754,0.06443093110682754,0.0649847176221259,0.0649847176221259,0.06504861606619879,0.06504861606619879,0.06510186476959286,0.06510186476959286,0.06518706269502338,0.06518706269502338,0.06580474765439462,0.06580474765439462,0.06581539739507343,0.06581539739507343,0.06590059532050395,0.06590059532050395,0.06620943780018956,0.06620943780018956,0.06625203676290482,0.06625203676290482,0.06640113313240822,0.06640113313240822,0.06713596523924642,0.06713596523924642,0.06809444190033972,0.06809444190033972,0.06965995378012545,0.06965995378012545,0.07009659314795685,0.07009659314795685,0.0706503796632552,0.0706503796632552,0.07126806462262644,0.07126806462262644,0.07156625736163325,0.07156625736163325,0.07185380035996124,0.07185380035996124,0.07250343454136891,0.07250343454136891,0.07268448013290876,0.07268448013290876,0.0732915153516012,0.0732915153516012,0.07413284486522753,0.07413284486522753,0.0744736365669496,0.0744736365669496,0.07450558578898604,0.07450558578898604,0.07459078371441655,0.07459078371441655,0.07476117956527759,0.07476117956527759,0.07479312878731403,0.07479312878731403,0.0750700220449632,0.0750700220449632,0.07538951426532764,0.07538951426532764,0.07571965622637089,0.07571965622637089,0.07623084377895398,0.07623084377895398,0.07797740125027955,0.07797740125027955,0.07898912661476692,0.07898912661476692,0.07932991831648899,0.07932991831648899,0.08072503434541368,0.08072503434541368,0.08183260737601039,0.08183260737601039,0.0822798964845206,0.0822798964845206,0.08276978455574607,0.08276978455574607,0.08385605810498514,0.08385605810498514,0.08464413891521741,0.08464413891521741,0.08487843321015133,0.08487843321015133,0.08552806739155902,0.08552806739155902,0.0855919658356319,0.08561326531698953,0.08615640209160907,0.08615640209160907,0.08651849327468876,0.08651849327468876,0.08744502071374562,0.08744502071374562,0.08755151812053376,0.08755151812053376,0.08807335541379567,0.08807335541379567,0.08843544659687537,0.08843544659687537,0.0884673958189118,0.0884673958189118,0.09035239991906197,0.09035239991906197,0.09060799369535352,0.09060799369535352,0.09213090661242399,0.09213090661242399,0.09218415531581806,0.09218415531581806,0.09256754598025538,0.09256754598025538,0.09284443923790456,0.09284443923790456,0.0932491293836995,0.0932491293836995,0.09363252004813682,0.09363252004813682,0.09401591071257415,0.09401591071257415,0.09495308789230983,0.09495308789230983,0.09504893555841916,0.09504893555841916,0.09520868166860137,0.09520868166860137,0.09557077285168106,0.09557077285168106,0.09593286403476076,0.09593286403476076,0.09681679251110235,0.09681679251110235,0.09777526917219566,0.09777526917219566,0.09789241631966261,0.09789241631966261,0.09979871990117041,0.09979871990117041,0.10131098307756206,0.10131098307756206,0.10154527737249598,0.10154527737249598,0.10173697270471464,0.10173697270471464,0.10258895195901979,0.10258895195901979,0.10280194677259609,0.10280194677259609,0.10308948977092408,0.10308948977092408,0.10458045346595811,0.10458045346595811,0.10518748868465053,0.10518748868465053,0.10596491975420398,0.10596491975420398,0.10783927411367533,0.10783927411367533,0.10868060362730167,0.10868060362730167,0.10995857250875941,0.10995857250875941,0.11020351654437215,0.11020351654437215,0.11027806472912384,0.11027806472912384,0.11108744502071374,0.11108744502071374,0.11254645949371132,0.11254645949371132,0.11258905845642658,0.11258905845642658,0.11288725119543339,0.11288725119543339,0.11314284497172494,0.11314284497172494,0.11378182941245381,0.11378182941245381,0.11476160555490474,0.11476160555490474,0.11543253921767005,0.11543253921767005,0.11589047806685907,0.11589047806685907,0.11602892469568366,0.11602892469568366,0.11618867080586588,0.11618867080586588,0.1161993205465447,0.1161993205465447,0.11652946250758794,0.11652946250758794,0.11669985835844897,0.11669985835844897,0.11716844694831681,0.11716844694831681,0.11740274124325073,0.11740274124325073,0.11934099404679496,0.11934099404679496,0.12000127796888146,0.12000127796888146,0.12031012044856708,0.12031012044856708,0.1209917038520112,0.1209917038520112,0.12195018051310451,0.12195018051310451,0.12207797740125027,0.12207797740125027,0.12218447480803843,0.12218447480803843,0.12294060639623425,0.12294060639623425,0.12374998668782415,0.12374998668782415,0.12443157009126828,0.12443157009126828,0.1246658643862022,0.1246658643862022,0.12487885919977848,0.12487885919977848,0.1253367980489675,0.1253367980489675,0.1268171120033227,0.1268171120033227,0.1289470601390856,0.1289470601390856,0.12947954717302634,0.12947954717302634,0.1295114963950628,0.1295114963950628,0.13160949530878924,0.13160949530878924,0.13183313986304435,0.13183313986304435,0.13264252015463424,0.13264252015463424,0.13270641859870713,0.13270641859870713,0.1328981139309258,0.1328981139309258,0.13316435744789615,0.13316435744789615,0.13366489525980044,0.13366489525980044,0.13418673255306232,0.13418673255306232,0.1379141417906474,0.1379141417906474,0.1386489738974856,0.1386489738974856,0.13865962363816442,0.13865962363816442,0.13971394796536704,0.13971394796536704,0.13982044537215518,0.13982044537215518,0.13993759251962215,0.13993759251962215,0.14115166295700698,0.14115166295700698,0.14185454584180876,0.14185454584180876,0.14248288054185881,0.14248288054185881,0.14742436021682873,0.14742436021682873,0.1480100959541635,0.1480100959541635,0.14885142546778987,0.14885142546778987,0.14908571976272378,0.14908571976272378,0.1501400440899264,0.1501400440899264,0.15019329279332047,0.15019329279332047,0.15023589175603574,0.15023589175603574,0.1505766834577578,0.1505766834577578,0.15148191141545703,0.15148191141545703,0.15370770721732926,0.15370770721732926,0.15430409269534287,0.15430409269534287,0.15446383880552508,0.15446383880552508,0.15493242739539292,0.15493242739539292,0.1551347724682904,0.1551347724682904,0.15527321909711497,0.15527321909711497,0.15562466053951587,0.15562466053951587,0.15607194964802606,0.15607194964802606,0.15633819316499642,0.15633819316499642,0.15639144186839052,0.15639144186839052,0.15700912682776175,0.15700912682776175,0.15725407086337448,0.15725407086337448,0.15887283144655429,0.15887283144655429,0.15935206977710092,0.15935206977710092,0.15952246562796196,0.15952246562796196,0.1610879775077477,0.1610879775077477,0.16197190598408928,0.16197190598408928,0.16245114431463595,0.16245114431463595,0.1638143111215242,0.1638143111215242,0.16392080852831234,0.16392080852831234,0.16401665619442166,0.16401665619442166,0.16443199608089543,0.16443199608089543,0.1644745950436107,0.1644745950436107,0.16515617844705482,0.16515617844705482,0.16549697014877687,0.16549697014877687,0.16598685822000234,0.16598685822000234,0.16760561880318214,0.16760561880318214,0.16810615661508643,0.16810615661508643,0.17067274411868072,0.17067274411868072,0.17339907773245722,0.17339907773245722,0.17447470154101746,0.17447470154101746,0.1747089958359514,0.1747089958359514,0.17959722680752724,0.17959722680752724,0.17968242473295776,0.17968242473295776,0.17975697291770945,0.17975697291770945,0.18017231280418322,0.18017231280418322,0.18120533765002822,0.18120533765002822,0.18183367235007827,0.18183367235007827,0.18190822053482997,0.18190822053482997,0.1824513573094495,0.1824513573094495,0.18409141737398693,0.18409141737398693,0.18452805674181832,0.18452805674181832,0.1850711935164379,0.1850711935164379,0.18684970020979988,0.18684970020979988,0.1886921053472348,0.1886921053472348,0.19021501826430526,0.19021501826430526,0.19133324103558078,0.19133324103558078,0.19139713947965367,0.19139713947965367,0.19179117988476982,0.19179117988476982,0.19224911873395883,0.19224911873395883,0.19258991043568088,0.19258991043568088,0.19272835706450547,0.19272835706450547,0.19358033631881064,0.19358033631881064,0.19361228554084708,0.19361228554084708,0.19418737153750307,0.19418737153750307,0.19425126998157594,0.1942725694629336,0.19431516842564883,0.19431516842564883,0.19513519845791755,0.19513519845791755,0.19971458694980776,0.19971458694980776,0.20005537865152984,0.20005537865152984,0.20019382528035443,0.20019382528035443,0.2009180076465138,0.2009180076465138,0.20192973301100117,0.20192973301100117,0.2028243112280216,0.2028243112280216,0.20462411740274125,0.20462411740274125,0.20528440132482775,0.20528440132482775,0.20536959925025824,0.20536959925025824,0.20550804587908283,0.20550804587908283,0.20671146657578887,0.20671146657578887,0.2067966645012194,0.2067966645012194,0.20763799401484573,0.20763799401484573,0.20808528312335595,0.20808528312335595,0.20810658260471357,0.20810658260471357,0.20853257223186616,0.20853257223186616,0.20913960745055857,0.20913960745055857,0.20941650070820775,0.20941650070820775,0.21035367788794343,0.21035367788794343,0.21113110895749687,0.21113110895749687,0.213420803203442,0.213420803203442,0.21670092333251686,0.21670092333251686,0.21675417203591094,0.21675417203591094,0.21856462795130938,0.21856462795130938,0.21951245487172388,0.21951245487172388,0.2199703937209129,0.2199703937209129,0.220939520122685,0.220939520122685,0.2216637024888444,0.2216637024888444,0.22183409833970544,0.22183409833970544,0.22184474808038424,0.22184474808038424,0.22192994600581475,0.22192994600581475,0.22451783299076666,0.22451783299076666,0.22474147754502177,0.22474147754502177,0.22513551795013792,0.22513551795013792,0.22580645161290322,0.22580645161290322,0.225934248501049,0.225934248501049,0.22802159767409663,0.22802159767409663,0.22861798315211024,0.22861798315211024,0.23058818517769092,0.23058818517769092,0.23140821520995963,0.23140821520995963,0.2328459302015996,0.2328459302015996,0.2337298586779412,0.2337298586779412,0.23383635608472933,0.23383635608472933,0.23507172600347181,0.23507172600347181,0.23532731977976337,0.23532731977976337,0.23835184613254667,0.23835184613254667,0.2383624958732255,0.2383624958732255,0.23860743990883823,0.23860743990883823,0.23913992694277894,0.23913992694277894,0.2405882916750977,0.2405882916750977,0.2422603009616716,0.2422603009616716,0.24482688846526587,0.24482688846526587,0.2453700252398854,0.2453700252398854,0.24732957752478726,0.24732957752478726,0.24741477545021778,0.24741477545021778,0.2517492199064953,0.2517492199064953,0.25351707685917846,0.25351707685917846,0.2544116550761989,0.2544116550761989,0.2549334923694608,0.2549334923694608,0.2575852777984856,0.2575852777984856,0.2576704757239161,0.2576704757239161,0.25804321664767466,0.25804321664767466,0.2604713575224443,0.2604713575224443,0.2616854279598292,0.2616854279598292,0.2621859657717335,0.2621859657717335,0.2623670113632733,0.2623670113632733,0.2624735087700614,0.2624735087700614,0.2625161077327767,0.2625161077327767,0.26268650358363776,0.26268650358363776,0.26270780306499536,0.26270780306499536,0.26364498024473104,0.26364498024473104,0.2664139128212228,0.2664139128212228,0.2664565117839381,0.2664565117839381,0.26672275530090844,0.26672275530090844,0.27073770753682147,0.27073770753682147,0.27145124016230204,0.27145124016230204,0.2723458183793225,0.2723458183793225,0.27293155411665726,0.27293155411665726,0.27321909711498527,0.27321909711498527,0.27343209192856155,0.27343209192856155,0.27386873129639294,0.27386873129639294,0.27401782766589633,0.27401782766589633,0.2767974099830669,0.2767974099830669,0.2769571560932491,0.2769571560932491,0.27731924727632884,0.27731924727632884,0.27792628249502127,0.27792628249502127,0.27841617056624673,0.27841617056624673,0.27859721615778654,0.27859721615778654,0.2799390834833172,0.2799390834833172,0.28013077881553583,0.28013077881553583,0.2804609207765791,0.2804609207765791,0.2816217425105699,0.2816217425105699,0.2822181279885835,0.2822181279885835,0.2836664927209022,0.2836664927209022,0.28368779220225987,0.28368779220225987,0.28411378182941244,0.28411378182941244,0.28447587301249216,0.28447587301249216,0.2846356191226744,0.2846356191226744,0.28518940563797274,0.28518940563797274,0.2856047455244465,0.2856047455244465,0.2868614149245466,0.2868614149245466,0.2877772926229246,0.2877772926229246,0.28791573925174924,0.28791573925174924,0.28809678484328904,0.28809678484328904,0.2884056273229747,0.2884056273229747,0.28961969776035956,0.28961969776035956,0.2899072407586875,0.2899072407586875,0.29073792053163505,0.29073792053163505,0.2908124687163868,0.2908124687163868,0.29205848837580806,0.29207978785716565,0.29295306659282844,0.29295306659282844,0.293783746365776,0.293783746365776,0.29538120746759816,0.29538120746759816,0.29694671934738387,0.29694671934738387,0.2978306478237255,0.2978306478237255,0.30033333688324687,0.30033333688324687,0.3013131130256978,0.3013131130256978,0.3036454062343582,0.3036454062343582,0.30415659378694127,0.30415659378694127,0.305147019670071,0.305147019670071,0.30596704970233973,0.30596704970233973,0.30760710976687716,0.30760710976687716,0.30854428694661284,0.30854428694661284,0.3091300226839476,0.3091300226839476,0.30973705790264006,0.30973705790264006,0.3100459003823257,0.3100459003823257,0.3101630475297926,0.3101630475297926,0.31141971692989273,0.31141971692989273,0.31375201013855314,0.31375201013855314,0.314273847431815,0.314273847431815,0.31473178628100407,0.31473178628100407,0.31591390749635245,0.31591390749635245,0.31694693234219745,0.31694693234219745,0.31819295200161873,0.31819295200161873,0.31949222036443414,0.31949222036443414,0.3214624223900148,0.3214624223900148,0.32165411772223346,0.32168606694426993,0.32168606694426993,0.3232941777867709,0.3232941777867709,0.3274262771701509,0.3274262771701509,0.3274369269108297,0.3274369269108297,0.32758602328033315,0.32758602328033315,0.32767122120576364,0.32767122120576364,0.3278522667973035,0.3278522667973035,0.32880009371771796,0.32880009371771796,0.3291089361974036,0.3291089361974036,0.32942842841776804,0.32942842841776804,0.3297692201194901,0.3297692201194901,0.3310471890009478,0.3310471890009478,0.33168617344167667,0.33168617344167667,0.33194176721796825,0.33194176721796825,0.3320163154027199,0.3320163154027199,0.33222931021629626,0.33222931021629626,0.33244230502987254,0.33244230502987254,0.3334646801350387,0.3334646801350387,0.3370749422251568,0.3370749422251568,0.3371494904099085,0.3371494904099085,0.33820381473711114,0.33820381473711114,0.3427299545256073,0.3427299545256073,0.3428684011544319,0.3428684011544319,0.3444658622562541,0.3444658622562541,0.3449025016240855,0.3449025016240855,0.34563733373092365,0.3456586332122813,0.34620176998690083,0.34620176998690083,0.3465425616886229,0.34657451091065933,0.3509835035516885,0.3509835035516885,0.3518354828059937,0.3518354828059937,0.3522721221738251,0.3522721221738251,0.35455116667909137,0.35455116667909137,0.3548067604553829,0.35482805993674055,0.35484935941809814,0.35484935941809814,0.3553072982672872,0.3553072982672872,0.35629772415041694,0.35629772415041694,0.35786323603020265,0.35786323603020265,0.3592903012811638,0.3592903012811638,0.3607599654948402,0.3607599654948402,0.36116465564063516,0.36116465564063516,0.3613989499355691,0.3613989499355691,0.36166519345253945,0.36166519345253945,0.3621444317830861,0.36216573126444374,0.36300706077807005,0.36300706077807005,0.3639335882171269,0.3639335882171269,0.36405073536459387,0.36405073536459387,0.3649985622850084,0.3649985622850084,0.36683031768176444,0.3668516171631221,0.3673947539377416,0.36742670315977805,0.37015303677355454,0.37015303677355454,0.37079202121428345,0.37079202121428345,0.371335157988903,0.371335157988903,0.3736355019755269,0.3736355019755269,0.3738804460111396,0.3738804460111396,0.37433838486032867,0.37433838486032867,0.3767345765130619,0.3767345765130619,0.3779166977284103,0.3779166977284103,0.37941831116412317,0.37941831116412317,0.38035548834385885,0.38037678782521644,0.38095187382187246,0.38095187382187246,0.38138851318970385,0.38138851318970385,0.38142046241174027,0.38142046241174027,0.3815269598185284,0.3815269598185284,0.38169735566938945,0.38169735566938945,0.3820381473711115,0.3820381473711115,0.3828475276627014,0.38286882714405907,0.3830711722169565,0.3830711722169565,0.3832096188457811,0.3832096188457811,0.3833374157339269,0.3833374157339269,0.3834332634000362,0.3834332634000362,0.3835078115847879,0.3835078115847879,0.3837527556204006,0.3837953545831159,0.3841041970628015,0.3841041970628015,0.3842852426543414,0.3842852426543414,0.38529696801882873,0.38529696801882873,0.3876292612274891,0.3876292612274891,0.38905632647845023,0.38905632647845023,0.3908667823938487,0.39088808187520635,0.3925600911617802,0.3925600911617802,0.393433369897443,0.393433369897443,0.39448769422464564,0.39448769422464564,0.39582956155017623,0.39582956155017623,0.396990383284167,0.396990383284167,0.39750157083675014,0.39750157083675014,0.39759741850285946,0.39759741850285946,0.39809795631476375,0.39809795631476375,0.39920552934536047,0.39920552934536047,0.39937592519622145,0.39937592519622145,0.3995889200097978,0.3995889200097978,0.40011075730305967,0.40011075730305967,0.4014952235913056,0.4014952235913056,0.40151652307266317,0.40151652307266317,0.40198511166253104,0.40198511166253104,0.40555277478993385,0.40555277478993385,0.4071395861510772,0.4071395861510772,0.40767207318501797,0.40767207318501797,0.40979137158010204,0.40979137158010204,0.4107391985005165,0.4107391985005165,0.41101609175816567,0.41101609175816567,0.4134122834108989,0.4134122834108989,0.4135933290024388,0.4135933290024388,0.4161705662467119,0.4161705662467119,0.41687344913151364,0.41687344913151364,0.4188330014164155,0.4188330014164155,0.4198340770402241,0.4198340770402241,0.42099489877421487,0.42099489877421487,0.42111204592168183,0.4211546448843971,0.4221876697302421,0.4221876697302421,0.42409397331174986,0.42409397331174986,0.4249246530846974,0.4249246530846974,0.42527609452709825,0.42527609452709825,0.42556363752542625,0.42556363752542625,0.4274379918848976,0.4274592913662552,0.42835386958327565,0.42835386958327565,0.4283751690646333,0.4283751690646333,0.42948274209522996,0.42951469131726644,0.42961053898337576,0.42961053898337576,0.43011107679528005,0.43011107679528005,0.43226232441240053,0.43226232441240053,0.43365744044132526,0.43365744044132526,0.4353720486906144,0.435393348171972,0.4364157232771382,0.4364157232771382,0.4386202195976528,0.4386202195976528,0.44136785269278694,0.44136785269278694,0.4420707355775887,0.4420707355775887,0.4428907656098574,0.4428907656098574,0.4443923790455702,0.4443923790455702,0.44496746504222623,0.44496746504222623,0.4489930670188181,0.4489930670188181,0.4504627312324945,0.4504627312324945,0.45143185763426663,0.45143185763426663,0.45368960265817526,0.45368960265817526,0.45785365126359173,0.45785365126359173,0.4606971320248352,0.4606971320248352,0.46087817761637506,0.46087817761637506,0.46388140448780074,0.46388140448780074,0.464957028296361,0.464957028296361,0.46531911947944066,0.46535106870147713,0.46560666247776866,0.4656386116998051,0.46610720028967295,0.46610720028967295,0.46722542306094844,0.4672467225423061,0.46742776813384596,0.46744906761520355,0.4679709049084655,0.4679709049084655,0.468631188830552,0.468631188830552,0.46920627482720795,0.46920627482720795,0.46964291419503934,0.46964291419503934,0.4697600613425063,0.4697600613425063,0.4706439898188479,0.4706439898188479,0.4718580602562328,0.4718580602562328,0.4746269928327245,0.47466959179543977,0.4790679346957902,0.4791105336585054,0.4813576289417353,0.4813789284230929,0.4826142983418354,0.4826142983418354,0.4837964195571838,0.4837964195571838,0.4843076071097669,0.4843076071097669,0.48802436660667314,0.48802436660667314,0.4881947624575342,0.4881947624575342,0.4912299385509963,0.49125123803235393,0.4919967198798709,0.4919967198798709,0.49415861723767024,0.49415861723767024,0.4944355104953194,0.4944355104953194,0.49607557055985685,0.49611816952257215,0.4961607684852874,0.4961607684852874,0.4964802607056518,0.4964802607056518,0.49737483892267226,0.49737483892267226,0.5014749890840158,0.5014749890840158,0.5034877900723117,0.5034877900723117,0.5047764086944483,0.5047764086944483,0.5056177382080747,0.5056177382080747,0.5057987837996145,0.505820083280972,0.5081843257116689,0.5081843257116689,0.5090682541880105,0.5090682541880105,0.5092492997795504,0.5092812490015868,0.5095794417405937,0.5095794417405937,0.5099308831829945,0.5099308831829945,0.5116454914322837,0.5116454914322837,0.5123909732798007,0.5123909732798007,0.5134133483849668,0.5134133483849668,0.5135837442358279,0.5136050437171855,0.5158521390004154,0.5158521390004154,0.5173111534734129,0.5173111534734129,0.5182483306531486,0.5182483306531486,0.5186743202803011,0.5186743202803011,0.5192281067955995,0.5192494062769571,0.5234028051416948,0.5234028051416948,0.5234667035857676,0.5234880030671253,0.5238394445095262,0.5238394445095262,0.5247659719485831,0.5247872714299406,0.5258522454978222,0.5258735449791797,0.5267361739741637,0.526778772936879,0.5289619697760359,0.5289619697760359,0.5296861521421954,0.5296861521421954,0.5304955324337852,0.5304955324337852,0.5305487811371793,0.5305487811371793,0.5330621199373795,0.5330621199373795,0.5361398949935569,0.5361398949935569,0.5408470803735929,0.5408470803735929,0.5444360429823534,0.5444360429823534,0.5445638398704992,0.5445638398704992,0.5450856771637611,0.5450856771637611,0.5467257372282985,0.5467257372282985,0.5503040500963802,0.5503040500963802,0.5504211972438471,0.5504211972438471,0.5510388822032184,0.5510388822032184,0.5510921309066125,0.5510921309066125,0.5516778666439472,0.5517311153473413,0.5538610634831042,0.5538610634831042,0.5570879349087849,0.5570879349087849,0.5583659037902428,0.5583659037902428,0.558578898603819,0.558578898603819,0.55874929445468,0.5589516395275775,0.5603361058158234,0.5603361058158234,0.5657994227840553,0.5657994227840553,0.5684831574351165,0.5684831574351165,0.568568355360547,0.568568355360547,0.5688239491368385,0.5688239491368385,0.5697078776131801,0.5697291770945377,0.5713159884556811,0.5713159884556811,0.5724235614862778,0.5724235614862778,0.5789518525223911,0.5789731520037487,0.5791648473359674,0.5791648473359674,0.5813586939158032,0.5813586939158032,0.5820189778378897,0.5820189778378897,0.5824875664277575,0.5824875664277575,0.5835099415329237,0.5835099415329237,0.5851926005601764,0.5851926005601764,0.5882064771722808,0.5882064771722808,0.5892927507215199,0.5892927507215199,0.5931266573658931,0.5931692563286084,0.594340727803278,0.594340727803278,0.5948625650965399,0.5948625650965399,0.595139458354189,0.595139458354189,0.5959381889051002,0.5959381889051002,0.5978231930052503,0.5978231930052503,0.5989414157765258,0.5989414157765258,0.5999744406223708,0.5999744406223708,0.6003045825834141,0.6003045825834141,0.6010500644309311,0.6010500644309311,0.6031161141226211,0.6031374136039788,0.6032226115294093,0.6032226115294093,0.6047029254837645,0.6047029254837645,0.607194964802607,0.607194964802607,0.6078765482060512,0.6078765482060512,0.6080575937975911,0.6080788932789487,0.6092290652722606,0.6092290652722606,0.6093568621604064,0.6094101108638005,0.6103259885621785,0.6103259885621785,0.6104218362282878,0.6104218362282878,0.6109436735215498,0.6109649730029074,0.613393113877677,0.613393113877677,0.6147988796472806,0.6147988796472806,0.6167158329694672,0.6167158329694672,0.6188670805865877,0.6188883800679453,0.6193356691764555,0.6193569686578132,0.6210928763884599,0.6210928763884599,0.6229778804886101,0.6229778804886101,0.6236275146700178,0.6236275146700178,0.6256722648803502,0.6256935643617078,0.6270247819465596,0.6270247819465596,0.628260151865302,0.6282921010873386,0.6288245881212793,0.6288245881212793,0.6300280088179853,0.6300280088179853,0.6310929828858667,0.6311249321079032,0.6315509217350558,0.6315509217350558,0.6318065155113473,0.6318065155113473,0.6321260077317117,0.6321260077317117,0.6348416916048094,0.6348416916048094,0.6356830211184358,0.6356830211184358,0.6371313858507546,0.6371313858507546,0.6384732531762851,0.6384732531762851,0.6399855163526769,0.6399855163526769,0.6419131194155422,0.6419131194155422,0.6449269960276467,0.6449269960276467,0.6451506405819019,0.6451719400632595,0.6453103866920841,0.6453103866920841,0.647035644682052,0.647035644682052,0.6530740476469398,0.6530740476469398,0.6538621284571721,0.6538940776792085,0.657706684842224,0.6577386340642606,0.6582817708388801,0.6582817708388801,0.6622860733341143,0.6622860733341143,0.6648739603190662,0.6648739603190662,0.6653851478716494,0.6653851478716494,0.6657259395733713,0.6657259395733713,0.6674405478226605,0.6674405478226605,0.6732872554553296,0.6732872554553296,0.6734683010468695,0.6734683010468695,0.6750444626673341,0.6750444626673341,0.6756514978860265,0.6756514978860265,0.6756621476267053,0.6756621476267053,0.6793363081608963,0.6793363081608963,0.6812213122610464,0.6812213122610464,0.6831489153239119,0.6831489153239119,0.6840115443188959,0.6840115443188959,0.6842458386138297,0.6842458386138297,0.6850019702020256,0.6850019702020256,0.6861414924546587,0.6861414924546587,0.6862053908987317,0.6862053908987317,0.6869508727462487,0.6869508727462487,0.6873981618547589,0.6873981618547589,0.688484435403998,0.688484435403998,0.6921053472347949,0.6921798954195465,0.6930851233772458,0.6930851233772458,0.6932661689687856,0.6932661689687856,0.6934898135230407,0.6934898135230407,0.6941181482230908,0.6941181482230908,0.6945547875909222,0.6945547875909222,0.6961735481741019,0.6961735481741019,0.6976964610911724,0.6977390600538876,0.6986549377522657,0.6986549377522657,0.6991980745268853,0.6991980745268853,0.702542093100033,0.702542093100033,0.703745513796739,0.703745513796739,0.7037881127594543,0.7037881127594543,0.7041715034238917,0.7041715034238917,0.7052790764544883,0.7052790764544883,0.705705066081641,0.705705066081641,0.7063759997444062,0.7063759997444062,0.7090810338768251,0.7090810338768251,0.7091129830988615,0.7091129830988615,0.7113600783820914,0.7113600783820914,0.7123292047838635,0.7123292047838635,0.7132344327415627,0.7132344327415627,0.7173771818656216,0.7174304305690157,0.7186445010064005,0.7186870999691157,0.7188042471165828,0.7188042471165828,0.71918763778102,0.71918763778102,0.7194858305200268,0.7194858305200268,0.7200609165166828,0.7200609165166828,0.7203804087370472,0.7203804087370472,0.7216370781371474,0.7216370781371474,0.7225849050575619,0.7225849050575619,0.7271003951053792,0.7271003951053792,0.7271749432901309,0.7271749432901309,0.7276967805833928,0.7276967805833928,0.7309875504531465,0.7309875504531465,0.7310301494158618,0.7310301494158618,0.7317649815227,0.7317969307447364,0.7339481783618569,0.7339481783618569,0.7365467150874876,0.7365680145688452,0.7376116891553691,0.7376329886367267,0.7381122269672733,0.7381122269672733,0.7397735865131684,0.7397735865131684,0.7403273730284667,0.7403273730284667,0.7442358278575917,0.7442358278575917,0.7463657759933545,0.7464403241781062,0.7476330951341335,0.7476330951341335,0.7495287489749625,0.7495500484563201,0.7504446266733406,0.7504659261546981,0.7507321696716684,0.7507534691530261,0.7511794587801787,0.7511794587801787,0.7530964121023653,0.7530964121023653,0.7532668079532263,0.753288107434584,0.7557801467534265,0.7558333954568206,0.7565788773043376,0.7566108265263741,0.7569409684874173,0.7569409684874173,0.757590602668825,0.7576119021501826,0.7577929477417225,0.757824896963759,0.7578461964451165,0.7578461964451165,0.758218937368875,0.758218937368875,0.7584745311451666,0.7584745311451666,0.7593265103994717,0.7593584596215082,0.7599761445808795,0.7600187435435947,0.7604340834300685,0.7604340834300685,0.761435159053877,0.761435159053877,0.762414935196328,0.7624468844183644,0.7655033599931842,0.7655246594745418,0.7658867506576215,0.7658867506576215,0.7672818666865462,0.7673031661679038,0.7673883640933343,0.7673883640933343,0.7698271547087828,0.7698484541901405,0.770508738112227,0.770508738112227,0.7729794779497119,0.7729794779497119,0.7742041981277756,0.7742254976091332,0.7751094260854748,0.7751307255668325,0.775386319343124,0.775386319343124,0.7771967752585225,0.7771967752585225,0.7777505617738208,0.7777505617738208,0.777857059180609,0.777857059180609,0.7785705918060896,0.7785705918060896,0.7788687845450963,0.7788687845450963,0.779571667429898,0.7796249161332921,0.7799444083536566,0.7799657078350142,0.7801574031672329,0.7801787026485905,0.7806259917571007,0.7806259917571007,0.7813288746419025,0.7813288746419025,0.7828304880776153,0.7828304880776153,0.7862703543168724,0.7862703543168724,0.7866111460185945,0.7866111460185945,0.7867389429067402,0.7867602423880978,0.7872607802000021,0.7872607802000021,0.7879636630848039,0.7879849625661615,0.7880488610102344,0.7880701604915921,0.7908071438460473,0.7908071438460473,0.7915419759528856,0.7915632754342432,0.7915632754342432,0.7934802287564298,0.7934802287564298,0.7959190193718783,0.7959403188532359,0.7976229778804886,0.7976442773618463,0.7990180939094133,0.7990180939094133,0.7990287436500921,0.7991565405382379,0.8007220524180236,0.8007220524180236,0.8008924482688846,0.8009137477502423,0.8014249353028253,0.8014249353028253,0.8024366606673128,0.8024579601486704,0.802596406777495,0.8035442336979095,0.8053759890946656,0.8053759890946656,0.8088371548152803,0.8088371548152803,0.8106689102120364,0.810690209693394,0.8122663713138585,0.8122983205358949,0.8146625629665918,0.8146625629665918,0.8166114655108148,0.8166327649921724,0.8167073131769241,0.8167286126582818,0.8171226530633979,0.8171226530633979,0.8174527950244411,0.8174953939871564,0.8175486426905505,0.8175699421719081,0.8184538706482497,0.8185071193516438,0.8196892405669922,0.8197211897890286,0.8200406820093931,0.8200406820093931,0.8212015037433839,0.8212441027060992,0.8219789348129373,0.8220002342942949,0.8232143047316798,0.8232462539537162,0.8234379492859348,0.8234805482486501,0.8258341409386681,0.8258341409386681,0.8263240290098937,0.8263240290098937,0.8282196828507226,0.828304880776153,0.8285711242931235,0.8285924237744811,0.8286776216999117,0.8286776216999117,0.8287628196253422,0.8287628196253422,0.8288373678100939,0.8288373678100939,0.8291355605491006,0.8291568600304583,0.8295934993982896,0.8296147988796473,0.8296786973237201,0.8296999968050778,0.8323091832713874,0.8323091832713874,0.8336829998189544,0.8336829998189544,0.8347053749241206,0.8347799231088723,0.8347799231088723,0.8354828059936741,0.8355041054750317,0.8358555469174326,0.8358555469174326,0.8360259427682936,0.8360259427682936,0.8377192515362251,0.8377405510175827,0.837783149980298,0.8378044494616556,0.8382943375328811,0.8382943375328811,0.8396255551177328,0.8396255551177328,0.8396468545990905,0.8397959509685939,0.8398172504499516,0.8402858390398193,0.840307138521177,0.8405307830754322,0.8405307830754322,0.8420323965111449,0.8420643457331815,0.8427672286179831,0.8427672286179831,0.8432464669485298,0.8432464669485298,0.8440451974994408,0.8440877964621561,0.8443859892011629,0.8444179384231993,0.8459515010809486,0.8459515010809486,0.8469845259267936,0.8470058254081513,0.8482731445489302,0.8482944440302879,0.8489973269150897,0.8489973269150897,0.8500623009829711,0.8501048999456863,0.8509036304965975,0.8509675289406703,0.8516278128627568,0.8516278128627568,0.8520857517119458,0.8521070511933034,0.8528631827814993,0.8528951320035357,0.8533850200747611,0.8534063195561188,0.8542369993290664,0.8542582988104239,0.8550357298799774,0.8550570293613351,0.8556214656173122,0.8556214656173122,0.8566864396851936,0.8567077391665513,0.8570059319055581,0.8570485308682734,0.8576875153090022,0.8577407640123963,0.8591678292633574,0.8591678292633574,0.8594766717430431,0.8594979712244006,0.8601050064430931,0.8601050064430931,0.8614788229906601,0.8614788229906601,0.8616492188415212,0.8616492188415212,0.8616918178042364,0.8617663659889881,0.8620645587279949,0.8620645587279949,0.8639708623095028,0.8639921617908604,0.8660688612232292,0.8660688612232292,0.8676130736216573,0.867687621806409,0.8681242611742404,0.8681242611742404,0.8688803927624362,0.8698495191642084,0.8703500569761127,0.8703713564574702,0.8704246051608643,0.8704459046422219,0.8711807367490602,0.8712233357117755,0.8733532838475383,0.873374583328896,0.8748548972832512,0.8748868465052876,0.8751424402815792,0.8751743895036156,0.8775705811563489,0.8775705811563489,0.8776344796004217,0.8776557790817794,0.8780924184496107,0.8781137179309684,0.8792106412208863,0.8792106412208863,0.8794768847378567,0.8795088339598931,0.879689879551433,0.8797750774768635,0.8798176764395786,0.8798176764395786,0.8806270567311686,0.8806483562125262,0.8809145997294966,0.8809358992108542,0.8812021427278246,0.8812234422091823,0.8823736142024942,0.8823949136838518,0.8829806494211866,0.8830019489025442,0.8831403955313688,0.8831723447534052,0.8838113291941341,0.8838326286754917,0.8850573488535555,0.8850573488535555,0.8853874908145987,0.8853874908145987,0.886463114623159,0.8868358555469175,0.8872298959520336,0.8877517332452954,0.8877517332452954,0.8877730327266531,0.8877943322080107,0.8884013674267032,0.8884226669080608,0.8904993663404296,0.8904993663404296,0.8910318533743703,0.8910638025964068,0.8912341984472678,0.8912661476693042,0.8913087466320195,0.8913300461133772,0.8924163196626163,0.8924376191439738,0.8924376191439738,0.8925121673287255,0.8925547662914408,0.8927890605863747,0.8927890605863747,0.8936197403593222,0.8936516895813587,0.8950042066475681,0.8950361558696046,0.8976985910393082,0.8976985910393082,0.897826387927454,0.8978476874088116,0.8982523775546065,0.8982523775546065,0.9002758282835813,0.900297127764939,0.9010532593531347,0.9010852085751712,0.9025016240854535,0.9025655225295264,0.9026081214922417,0.9027146188990298,0.9031193090448247,0.9031193090448247,0.9039712882991299,0.9040458364838816,0.9040671359652392,0.9040990851872757,0.904940414700902,0.9049617141822597,0.9061012364348928,0.9061012364348928,0.9075176519451751,0.9075389514265327,0.9077625959807879,0.9077625959807879,0.9104037316691339,0.9104676301132067,0.9131300652829104,0.9131300652829104,0.9135986538727782,0.9136732020575299,0.9145784300152291,0.9146103792372656,0.915622104601753,0.9156434040831106,0.9156860030458258,0.9157179522678622,0.916420835152664,0.9169746216679624,0.9170385201120352,0.9170598195933929,0.9171876164815387,0.9172089159628963,0.9173580123323997,0.9174219107764726,0.917571007145976,0.9176029563680125,0.9180076465138074,0.918028945995165,0.9190726205816888,0.9190939200630465,0.9199458993173516,0.9199671987987093,0.9203505894631465,0.9203505894631465,0.9206487822021534,0.920670081683511,0.9207659293496203,0.920787228830978,0.922043898231078,0.9220758474531145,0.9224379386361942,0.9224592381175518,0.9239182525905494,0.923939552071907,0.92400345051598,0.9240247499973375,0.9241312474041257,0.9241312474041257,0.9244507396244901,0.9244507396244901,0.9250577748431825,0.925089724065219,0.9251429727686131,0.9251749219906495,0.9252707696567588,0.9252920691381165,0.9256435105805174,0.9256435105805174,0.9260269012449547,0.92669783490772,0.9270599260907997,0.9271344742755514,0.9275285146806675,0.9306275892182025,0.9306701881809178,0.9307660358470271,0.9308192845504212,0.9308405840317788,0.9309364316978882,0.9309683809199246,0.9313624213250408,0.9313837208063984,0.9324273953929222,0.9325019435776739,0.9325764917624256,0.9326190907251408,0.9326723394285349,0.9327042886505713,0.9331409280184028,0.9331728772404392,0.9342698005303571,0.9342911000117147,0.9347277393795461,0.9347490388609038,0.9349194347117648,0.9349407341931224,0.9349726834151588,0.9350365818592318,0.9351643787473775,0.9352069777100928,0.9358992108542157,0.9358992108542157,0.9370600325882065,0.9370813320695641,0.9372730274017828,0.9374008242899285,0.9374114740306073,0.937432773511965,0.9383593009510218,0.9383806004323795,0.9383912501730582,0.9384551486171312,0.9398183154240194,0.9398715641274135,0.9401910563477779,0.9410004366393678,0.942768293592051,0.942768293592051,0.9428747909988392,0.9429493391835909,0.9429919381463061,0.9429919381463061,0.9433220801073494,0.9433540293293858,0.9433966282921011,0.9433966282921011,0.9451005868007114,0.9451538355041055,0.946272058275381,0.9463040074974174,0.9466554489398183,0.9466554489398183,0.9470920883076497,0.9471133877890073,0.9472944333805472,0.9473263826025836,0.947422230268693,0.9474541794907294,0.9479014685992396,0.9479227680805973,0.948455255114538,0.9484978540772532,0.9495947773671711,0.9496267265892075,0.9504680561028339,0.9505319545469068,0.9506704011757313,0.9506704011757313,0.9510750913215263,0.9510750913215263,0.9516608270588611,0.9516927762808975,0.955973972033781,0.9559952715151386,0.9581891180949744,0.958210417576332,0.9594670869764321,0.9596161833459356,0.9616396340749103,0.9616609335562679,0.9650688505734886,0.9651753479802767,0.965558738644714,0.965558738644714,0.9669538546736387,0.9669751541549964,0.9682850722584905,0.9682850722584905,0.9693926452890872,0.9693926452890872,0.9694032950297661,0.9694032950297661,0.9698612338789551,0.9698825333603127,0.9709581571688729,0.9710220556129459,0.971064654575661,0.9712882991299162,0.9713095986112739,0.971352197573989,0.9713734970553467,0.9718633851265722,0.9718633851265722,0.9719805322740391,0.9720018317553968,0.9727047146401985,0.9727047146401985,0.9732372016741392,0.9732585011554968,0.9734927954504308,0.9735140949317884,0.9744619218522029,0.9745045208149181,0.975143505255647,0.9751861042183623,0.9754416979946539,0.9756653425489089,0.9763149767303166,0.9763362762116743,0.9766983673947539,0.9767196668761116,0.9771669559846218,0.9771989052066582,0.9783490771999702,0.9783810264220066,0.9802979797441932,0.9803192792255508,0.9803299289662297,0.9803618781882661,0.9808943652222069,0.9809156647035645,0.9810434615917102,0.9810754108137467,0.9812032077018925,0.98122450718325,0.9813203548493594,0.9813523040713958,0.9815439994036145,0.9816398470697238,0.9817356947358332,0.9817995931799061,0.9818421921426214,0.9819060905866942,0.9820445372155188,0.9821403848816281,0.9822894812511316,0.982321430473168,0.9823320802138468,0.9823533796952044,0.9824705268426713,0.9825344252867443,0.9829391154325392,0.9829817143952545,0.9833118563562977,0.9833118563562977,0.9834396532444435,0.9834609527258011,0.9839082418343114,0.9839614905377054,0.98409993716653,0.9841531858699241,0.9847069723852224,0.9849519164208351,0.9852181599378055,0.9852394594191631,0.9865387277819785,0.9865813267446938,0.9869221184464159,0.986964717409131,0.987028615853204,0.987028615853204,0.9872842096294955,0.9873055091108531,0.9878060469227574,0.9878379961447938,0.9880829401804067,0.9881148894024431,0.9881468386244795,0.9882107370685523,0.9884343816228075,0.9884769805855227,0.9886686759177414,0.9887112748804566,0.9897868986890169,0.989840147392411,0.9902235380568483,0.9902448375382059,0.9921298416383562,0.9921511411197137,0.9922789380078595,0.9923108872298959,0.9923321867112536,0.9923747856739689,0.9930244198553765,0.993056369077413,0.9930883182994494,0.9931202675214859,0.9959530985420505,0.9959743980234081,0.9960595959488386,0.9960808954301963,0.9967731285743192,0.9968157275370345,0.9969648239065378,0.9969967731285743,0.9979446000489888,0.9979658995303464,1.0,1.0],\"y\":[0.0,0.0,0.0,0.001142857142857143,0.001142857142857143,0.002285714285714286,0.002285714285714286,0.0034285714285714284,0.0034285714285714284,0.004571428571428572,0.004571428571428572,0.005714285714285714,0.005714285714285714,0.006857142857142857,0.006857142857142857,0.008,0.008,0.009142857142857144,0.009142857142857144,0.010285714285714285,0.010285714285714285,0.011428571428571429,0.011428571428571429,0.012571428571428572,0.012571428571428572,0.013714285714285714,0.013714285714285714,0.014857142857142857,0.014857142857142857,0.016,0.016,0.017142857142857144,0.017142857142857144,0.018285714285714287,0.018285714285714287,0.02057142857142857,0.02057142857142857,0.021714285714285714,0.021714285714285714,0.022857142857142857,0.022857142857142857,0.024,0.024,0.025142857142857144,0.025142857142857144,0.026285714285714287,0.026285714285714287,0.027428571428571427,0.027428571428571427,0.02857142857142857,0.02857142857142857,0.030857142857142857,0.030857142857142857,0.03314285714285714,0.03314285714285714,0.03428571428571429,0.03428571428571429,0.03542857142857143,0.03542857142857143,0.036571428571428574,0.036571428571428574,0.037714285714285714,0.037714285714285714,0.038857142857142854,0.038857142857142854,0.04,0.04,0.04114285714285714,0.04114285714285714,0.04228571428571429,0.04228571428571429,0.04342857142857143,0.04342857142857143,0.044571428571428574,0.044571428571428574,0.045714285714285714,0.045714285714285714,0.046857142857142854,0.046857142857142854,0.048,0.048,0.04914285714285714,0.04914285714285714,0.05142857142857143,0.05142857142857143,0.052571428571428575,0.052571428571428575,0.053714285714285714,0.053714285714285714,0.054857142857142854,0.054857142857142854,0.056,0.056,0.05714285714285714,0.05714285714285714,0.05828571428571429,0.05828571428571429,0.05942857142857143,0.05942857142857143,0.060571428571428575,0.060571428571428575,0.061714285714285715,0.061714285714285715,0.06285714285714286,0.06285714285714286,0.064,0.064,0.06514285714285714,0.06514285714285714,0.06628571428571428,0.06628571428571428,0.06742857142857143,0.06742857142857143,0.06857142857142857,0.06857142857142857,0.06971428571428571,0.06971428571428571,0.07085714285714285,0.07085714285714285,0.072,0.072,0.07314285714285715,0.07314285714285715,0.07428571428571429,0.07428571428571429,0.07542857142857143,0.07542857142857143,0.07657142857142857,0.07657142857142857,0.07771428571428571,0.07771428571428571,0.07885714285714286,0.07885714285714286,0.08,0.08,0.08114285714285714,0.08114285714285714,0.08228571428571428,0.08228571428571428,0.08342857142857144,0.08342857142857144,0.08571428571428572,0.08571428571428572,0.08685714285714285,0.08685714285714285,0.088,0.088,0.08914285714285715,0.08914285714285715,0.09028571428571429,0.09028571428571429,0.09142857142857143,0.09142857142857143,0.09257142857142857,0.09257142857142857,0.09371428571428571,0.09371428571428571,0.09485714285714286,0.09485714285714286,0.096,0.096,0.09714285714285714,0.09714285714285714,0.09828571428571428,0.09828571428571428,0.09942857142857142,0.09942857142857142,0.10057142857142858,0.10057142857142858,0.10171428571428572,0.10171428571428572,0.10285714285714286,0.10285714285714286,0.104,0.104,0.10514285714285715,0.10514285714285715,0.10628571428571429,0.10628571428571429,0.10742857142857143,0.10742857142857143,0.10857142857142857,0.10857142857142857,0.10971428571428571,0.10971428571428571,0.11085714285714286,0.11085714285714286,0.112,0.112,0.11314285714285714,0.11314285714285714,0.11428571428571428,0.11428571428571428,0.11542857142857142,0.11542857142857142,0.11657142857142858,0.11657142857142858,0.11771428571428572,0.11771428571428572,0.11885714285714286,0.11885714285714286,0.12,0.12,0.12114285714285715,0.12114285714285715,0.12228571428571429,0.12228571428571429,0.12342857142857143,0.12342857142857143,0.12457142857142857,0.12457142857142857,0.12571428571428572,0.12571428571428572,0.12685714285714286,0.12685714285714286,0.128,0.128,0.12914285714285714,0.12914285714285714,0.13028571428571428,0.13028571428571428,0.13142857142857142,0.13142857142857142,0.13257142857142856,0.13257142857142856,0.1337142857142857,0.1337142857142857,0.13485714285714287,0.13485714285714287,0.136,0.136,0.13714285714285715,0.13714285714285715,0.1382857142857143,0.1382857142857143,0.13942857142857143,0.13942857142857143,0.14057142857142857,0.14057142857142857,0.1417142857142857,0.1417142857142857,0.14285714285714285,0.14285714285714285,0.144,0.144,0.14514285714285713,0.14514285714285713,0.1462857142857143,0.1462857142857143,0.14742857142857144,0.14742857142857144,0.14857142857142858,0.14857142857142858,0.14971428571428572,0.14971428571428572,0.15085714285714286,0.15085714285714286,0.152,0.152,0.15314285714285714,0.15314285714285714,0.15428571428571428,0.15428571428571428,0.15542857142857142,0.15542857142857142,0.15657142857142858,0.15657142857142858,0.15885714285714286,0.15885714285714286,0.16,0.16,0.16114285714285714,0.16114285714285714,0.16228571428571428,0.16228571428571428,0.16342857142857142,0.16342857142857142,0.16457142857142856,0.16457142857142856,0.1657142857142857,0.1657142857142857,0.16685714285714287,0.16685714285714287,0.168,0.168,0.16914285714285715,0.16914285714285715,0.1702857142857143,0.1702857142857143,0.17142857142857143,0.17142857142857143,0.17257142857142857,0.17257142857142857,0.1737142857142857,0.1737142857142857,0.17485714285714285,0.17485714285714285,0.176,0.176,0.17714285714285713,0.17714285714285713,0.1782857142857143,0.1782857142857143,0.17942857142857144,0.17942857142857144,0.18057142857142858,0.18057142857142858,0.18171428571428572,0.18171428571428572,0.18285714285714286,0.18285714285714286,0.184,0.184,0.18514285714285714,0.18514285714285714,0.18742857142857142,0.18742857142857142,0.18857142857142858,0.18857142857142858,0.18971428571428572,0.18971428571428572,0.19085714285714286,0.19085714285714286,0.192,0.192,0.19314285714285714,0.19314285714285714,0.19428571428571428,0.19428571428571428,0.19542857142857142,0.19542857142857142,0.19657142857142856,0.19657142857142856,0.1977142857142857,0.1977142857142857,0.19885714285714284,0.19885714285714284,0.2,0.2,0.20114285714285715,0.20114285714285715,0.2022857142857143,0.2022857142857143,0.20342857142857143,0.20342857142857143,0.20457142857142857,0.20457142857142857,0.2057142857142857,0.2057142857142857,0.20685714285714285,0.20685714285714285,0.208,0.208,0.20914285714285713,0.20914285714285713,0.2102857142857143,0.2102857142857143,0.2102857142857143,0.2102857142857143,0.21142857142857144,0.21142857142857144,0.21257142857142858,0.21257142857142858,0.21371428571428572,0.21371428571428572,0.21485714285714286,0.21485714285714286,0.216,0.216,0.21714285714285714,0.21714285714285714,0.21828571428571428,0.21828571428571428,0.21942857142857142,0.21942857142857142,0.22057142857142858,0.22057142857142858,0.22171428571428572,0.22171428571428572,0.22285714285714286,0.22285714285714286,0.224,0.224,0.22514285714285714,0.22514285714285714,0.22628571428571428,0.22628571428571428,0.22742857142857142,0.22742857142857142,0.22857142857142856,0.22857142857142856,0.2297142857142857,0.2297142857142857,0.23085714285714284,0.23085714285714284,0.232,0.232,0.23314285714285715,0.23314285714285715,0.2342857142857143,0.2342857142857143,0.23542857142857143,0.23542857142857143,0.23657142857142857,0.23657142857142857,0.23885714285714285,0.23885714285714285,0.24,0.24,0.24114285714285713,0.24114285714285713,0.2422857142857143,0.2422857142857143,0.24342857142857144,0.24342857142857144,0.24457142857142858,0.24457142857142858,0.24571428571428572,0.24571428571428572,0.24685714285714286,0.24685714285714286,0.248,0.248,0.24914285714285714,0.24914285714285714,0.2502857142857143,0.2502857142857143,0.25142857142857145,0.25142857142857145,0.25257142857142856,0.25257142857142856,0.2537142857142857,0.2537142857142857,0.25485714285714284,0.25485714285714284,0.256,0.256,0.2571428571428571,0.2571428571428571,0.2582857142857143,0.2582857142857143,0.25942857142857145,0.25942857142857145,0.26057142857142856,0.26057142857142856,0.26171428571428573,0.26171428571428573,0.26285714285714284,0.26285714285714284,0.264,0.264,0.2651428571428571,0.2651428571428571,0.2662857142857143,0.2662857142857143,0.2674285714285714,0.2674285714285714,0.26857142857142857,0.26857142857142857,0.26971428571428574,0.26971428571428574,0.27085714285714285,0.27085714285714285,0.272,0.272,0.27314285714285713,0.27314285714285713,0.2742857142857143,0.2742857142857143,0.2754285714285714,0.2754285714285714,0.2765714285714286,0.2765714285714286,0.2777142857142857,0.2777142857142857,0.27885714285714286,0.27885714285714286,0.28,0.28,0.28114285714285714,0.28114285714285714,0.2822857142857143,0.2822857142857143,0.2834285714285714,0.2834285714285714,0.2845714285714286,0.2845714285714286,0.2857142857142857,0.2857142857142857,0.28685714285714287,0.28685714285714287,0.288,0.288,0.28914285714285715,0.28914285714285715,0.29028571428571426,0.29028571428571426,0.2914285714285714,0.2914285714285714,0.2925714285714286,0.2925714285714286,0.2937142857142857,0.2937142857142857,0.2948571428571429,0.2948571428571429,0.296,0.296,0.29714285714285715,0.29714285714285715,0.29828571428571427,0.29828571428571427,0.29942857142857143,0.29942857142857143,0.30057142857142854,0.30057142857142854,0.3017142857142857,0.3017142857142857,0.304,0.304,0.30514285714285716,0.30514285714285716,0.3062857142857143,0.3062857142857143,0.30742857142857144,0.30742857142857144,0.30857142857142855,0.30857142857142855,0.3097142857142857,0.3097142857142857,0.31085714285714283,0.31085714285714283,0.312,0.312,0.31314285714285717,0.31314285714285717,0.3142857142857143,0.3142857142857143,0.31542857142857145,0.31542857142857145,0.31657142857142856,0.31657142857142856,0.3177142857142857,0.3177142857142857,0.32,0.32,0.3211428571428571,0.3211428571428571,0.3222857142857143,0.3222857142857143,0.32342857142857145,0.32342857142857145,0.32457142857142857,0.32457142857142857,0.32685714285714285,0.32685714285714285,0.328,0.328,0.3291428571428571,0.3291428571428571,0.3302857142857143,0.3302857142857143,0.3314285714285714,0.3314285714285714,0.3325714285714286,0.3325714285714286,0.33371428571428574,0.33371428571428574,0.33485714285714285,0.33485714285714285,0.336,0.336,0.33714285714285713,0.33714285714285713,0.3382857142857143,0.3382857142857143,0.3394285714285714,0.3394285714285714,0.3405714285714286,0.3405714285714286,0.3417142857142857,0.3417142857142857,0.34285714285714286,0.34285714285714286,0.344,0.344,0.34514285714285714,0.34514285714285714,0.3462857142857143,0.3462857142857143,0.3474285714285714,0.3474285714285714,0.3485714285714286,0.3485714285714286,0.3497142857142857,0.3497142857142857,0.35085714285714287,0.35085714285714287,0.352,0.352,0.35314285714285715,0.35314285714285715,0.35428571428571426,0.35428571428571426,0.3554285714285714,0.3554285714285714,0.3565714285714286,0.3565714285714286,0.3577142857142857,0.3577142857142857,0.3588571428571429,0.3588571428571429,0.36,0.36,0.36114285714285715,0.36114285714285715,0.36228571428571427,0.36228571428571427,0.36342857142857143,0.36342857142857143,0.36457142857142855,0.36457142857142855,0.3657142857142857,0.3657142857142857,0.3668571428571429,0.3668571428571429,0.368,0.368,0.36914285714285716,0.36914285714285716,0.3702857142857143,0.3702857142857143,0.37142857142857144,0.37142857142857144,0.37257142857142855,0.37257142857142855,0.3737142857142857,0.3737142857142857,0.37485714285714283,0.37485714285714283,0.376,0.376,0.37714285714285717,0.37714285714285717,0.3782857142857143,0.3782857142857143,0.38057142857142856,0.38057142857142856,0.38171428571428573,0.38171428571428573,0.38285714285714284,0.38285714285714284,0.384,0.384,0.3851428571428571,0.3851428571428571,0.3862857142857143,0.3862857142857143,0.38742857142857146,0.38742857142857146,0.38857142857142857,0.38857142857142857,0.38971428571428574,0.38971428571428574,0.39085714285714285,0.39085714285714285,0.39085714285714285,0.39085714285714285,0.392,0.392,0.3931428571428571,0.3931428571428571,0.3942857142857143,0.3942857142857143,0.3954285714285714,0.3954285714285714,0.3965714285714286,0.3965714285714286,0.3977142857142857,0.3977142857142857,0.39885714285714285,0.39885714285714285,0.4,0.4,0.40114285714285713,0.40114285714285713,0.4022857142857143,0.4022857142857143,0.4034285714285714,0.4034285714285714,0.4045714285714286,0.4045714285714286,0.4057142857142857,0.4057142857142857,0.40685714285714286,0.40685714285714286,0.408,0.408,0.40914285714285714,0.40914285714285714,0.4102857142857143,0.4102857142857143,0.4114285714285714,0.4114285714285714,0.4125714285714286,0.4125714285714286,0.4137142857142857,0.4137142857142857,0.41485714285714287,0.41485714285714287,0.416,0.416,0.41714285714285715,0.41714285714285715,0.41828571428571426,0.41828571428571426,0.41942857142857143,0.41942857142857143,0.4205714285714286,0.4205714285714286,0.4217142857142857,0.4217142857142857,0.4228571428571429,0.4228571428571429,0.424,0.424,0.42514285714285716,0.42514285714285716,0.42628571428571427,0.42628571428571427,0.42742857142857144,0.42742857142857144,0.42857142857142855,0.42857142857142855,0.4297142857142857,0.4297142857142857,0.4308571428571429,0.4308571428571429,0.432,0.432,0.43314285714285716,0.43314285714285716,0.4342857142857143,0.4342857142857143,0.43657142857142855,0.43657142857142855,0.4377142857142857,0.4377142857142857,0.43885714285714283,0.43885714285714283,0.44,0.44,0.44114285714285717,0.44114285714285717,0.4422857142857143,0.4422857142857143,0.44342857142857145,0.44342857142857145,0.44457142857142856,0.44457142857142856,0.44571428571428573,0.44571428571428573,0.44685714285714284,0.44685714285714284,0.448,0.448,0.4491428571428571,0.4491428571428571,0.4502857142857143,0.4502857142857143,0.4514285714285714,0.4514285714285714,0.45257142857142857,0.45257142857142857,0.45371428571428574,0.45371428571428574,0.45485714285714285,0.45485714285714285,0.456,0.456,0.45714285714285713,0.45714285714285713,0.4582857142857143,0.4582857142857143,0.4594285714285714,0.4594285714285714,0.4605714285714286,0.4605714285714286,0.4617142857142857,0.4617142857142857,0.46285714285714286,0.46285714285714286,0.464,0.464,0.46514285714285714,0.46514285714285714,0.4662857142857143,0.4662857142857143,0.4674285714285714,0.4674285714285714,0.4685714285714286,0.4685714285714286,0.4697142857142857,0.4697142857142857,0.47085714285714286,0.47085714285714286,0.472,0.472,0.47314285714285714,0.47314285714285714,0.4742857142857143,0.4742857142857143,0.4754285714285714,0.4754285714285714,0.4777142857142857,0.4777142857142857,0.47885714285714287,0.47885714285714287,0.48,0.48,0.48114285714285715,0.48114285714285715,0.48228571428571426,0.48228571428571426,0.48342857142857143,0.48342857142857143,0.4845714285714286,0.4845714285714286,0.4857142857142857,0.4857142857142857,0.4868571428571429,0.4868571428571429,0.488,0.488,0.48914285714285716,0.48914285714285716,0.49028571428571427,0.49028571428571427,0.49142857142857144,0.49142857142857144,0.49257142857142855,0.49257142857142855,0.4937142857142857,0.4937142857142857,0.4948571428571429,0.4948571428571429,0.496,0.496,0.49714285714285716,0.49714285714285716,0.4982857142857143,0.4982857142857143,0.49942857142857144,0.49942857142857144,0.5005714285714286,0.5005714285714286,0.5017142857142857,0.5017142857142857,0.5028571428571429,0.5028571428571429,0.504,0.504,0.5051428571428571,0.5051428571428571,0.5062857142857143,0.5062857142857143,0.5074285714285715,0.5074285714285715,0.5085714285714286,0.5085714285714286,0.5097142857142857,0.5097142857142857,0.5108571428571429,0.5108571428571429,0.512,0.512,0.5131428571428571,0.5131428571428571,0.5142857142857142,0.5142857142857142,0.5154285714285715,0.5154285714285715,0.5165714285714286,0.5165714285714286,0.5177142857142857,0.5177142857142857,0.5188571428571429,0.5188571428571429,0.52,0.52,0.52,0.52,0.5211428571428571,0.5211428571428571,0.5222857142857142,0.5222857142857142,0.5234285714285715,0.5234285714285715,0.5245714285714286,0.5245714285714286,0.5257142857142857,0.5257142857142857,0.5268571428571428,0.5268571428571428,0.528,0.528,0.5291428571428571,0.5291428571428571,0.5314285714285715,0.5314285714285715,0.5325714285714286,0.5325714285714286,0.5337142857142857,0.5337142857142857,0.5348571428571428,0.5348571428571428,0.536,0.536,0.5382857142857143,0.5382857142857143,0.5394285714285715,0.5394285714285715,0.5405714285714286,0.5405714285714286,0.5417142857142857,0.5417142857142857,0.5428571428571428,0.5428571428571428,0.544,0.544,0.5451428571428572,0.5451428571428572,0.5462857142857143,0.5462857142857143,0.5474285714285714,0.5474285714285714,0.5485714285714286,0.5485714285714286,0.5497142857142857,0.5497142857142857,0.5508571428571428,0.5508571428571428,0.552,0.552,0.552,0.5531428571428572,0.5531428571428572,0.5542857142857143,0.5542857142857143,0.5554285714285714,0.5554285714285714,0.5565714285714286,0.5565714285714286,0.5577142857142857,0.5577142857142857,0.5588571428571428,0.5588571428571428,0.56,0.56,0.5611428571428572,0.5611428571428572,0.5622857142857143,0.5622857142857143,0.5634285714285714,0.5634285714285714,0.5645714285714286,0.5645714285714286,0.5657142857142857,0.5657142857142857,0.5668571428571428,0.5668571428571428,0.568,0.568,0.5691428571428572,0.5691428571428572,0.5702857142857143,0.5702857142857143,0.5714285714285714,0.5714285714285714,0.5725714285714286,0.5725714285714286,0.5748571428571428,0.5748571428571428,0.576,0.576,0.5771428571428572,0.5771428571428572,0.5782857142857143,0.5782857142857143,0.5794285714285714,0.5794285714285714,0.5805714285714285,0.5805714285714285,0.5817142857142857,0.5817142857142857,0.5817142857142857,0.5817142857142857,0.5828571428571429,0.5828571428571429,0.5828571428571429,0.5828571428571429,0.584,0.584,0.5851428571428572,0.5851428571428572,0.5862857142857143,0.5862857142857143,0.5874285714285714,0.5874285714285714,0.5874285714285714,0.5874285714285714,0.5885714285714285,0.5885714285714285,0.5897142857142857,0.5897142857142857,0.5908571428571429,0.5908571428571429,0.592,0.592,0.5931428571428572,0.5931428571428572,0.5942857142857143,0.5942857142857143,0.5954285714285714,0.5954285714285714,0.5965714285714285,0.5965714285714285,0.5977142857142858,0.5977142857142858,0.5977142857142858,0.5977142857142858,0.5988571428571429,0.5988571428571429,0.6,0.6,0.6011428571428571,0.6011428571428571,0.6022857142857143,0.6022857142857143,0.6022857142857143,0.6022857142857143,0.6022857142857143,0.6022857142857143,0.6034285714285714,0.6034285714285714,0.6045714285714285,0.6045714285714285,0.6057142857142858,0.6057142857142858,0.6068571428571429,0.6068571428571429,0.608,0.608,0.6091428571428571,0.6091428571428571,0.6102857142857143,0.6102857142857143,0.6114285714285714,0.6114285714285714,0.6125714285714285,0.6125714285714285,0.6125714285714285,0.6125714285714285,0.6137142857142858,0.6137142857142858,0.6148571428571429,0.6148571428571429,0.616,0.616,0.6171428571428571,0.6171428571428571,0.6182857142857143,0.6182857142857143,0.6194285714285714,0.6194285714285714,0.6194285714285714,0.6194285714285714,0.6205714285714286,0.6205714285714286,0.6217142857142857,0.6217142857142857,0.6228571428571429,0.6228571428571429,0.624,0.624,0.6251428571428571,0.6251428571428571,0.6251428571428571,0.6251428571428571,0.6262857142857143,0.6262857142857143,0.6274285714285714,0.6274285714285714,0.6285714285714286,0.6285714285714286,0.6297142857142857,0.6297142857142857,0.6308571428571429,0.6308571428571429,0.6308571428571429,0.6308571428571429,0.632,0.632,0.6331428571428571,0.6331428571428571,0.6342857142857142,0.6342857142857142,0.6354285714285715,0.6354285714285715,0.6365714285714286,0.6365714285714286,0.6388571428571429,0.6388571428571429,0.64,0.64,0.6411428571428571,0.6411428571428571,0.6422857142857142,0.6422857142857142,0.6434285714285715,0.6434285714285715,0.6445714285714286,0.6445714285714286,0.6457142857142857,0.6457142857142857,0.6468571428571429,0.6468571428571429,0.648,0.648,0.6491428571428571,0.6491428571428571,0.6502857142857142,0.6502857142857142,0.6514285714285715,0.6514285714285715,0.6525714285714286,0.6525714285714286,0.6537142857142857,0.6537142857142857,0.6548571428571428,0.6548571428571428,0.656,0.656,0.6571428571428571,0.6571428571428571,0.6582857142857143,0.6582857142857143,0.6594285714285715,0.6594285714285715,0.6605714285714286,0.6605714285714286,0.6617142857142857,0.6617142857142857,0.6628571428571428,0.6628571428571428,0.664,0.664,0.664,0.664,0.6651428571428571,0.6651428571428571,0.6662857142857143,0.6662857142857143,0.6674285714285715,0.6674285714285715,0.6685714285714286,0.6685714285714286,0.6697142857142857,0.6697142857142857,0.6697142857142857,0.6697142857142857,0.6708571428571428,0.6708571428571428,0.672,0.672,0.672,0.672,0.6731428571428572,0.6731428571428572,0.6742857142857143,0.6742857142857143,0.6754285714285714,0.6754285714285714,0.6765714285714286,0.6765714285714286,0.6765714285714286,0.6765714285714286,0.6777142857142857,0.6777142857142857,0.6788571428571428,0.6788571428571428,0.68,0.68,0.6811428571428572,0.6811428571428572,0.6822857142857143,0.6822857142857143,0.6834285714285714,0.6834285714285714,0.6845714285714286,0.6845714285714286,0.6857142857142857,0.6857142857142857,0.6868571428571428,0.6868571428571428,0.688,0.688,0.6891428571428572,0.6891428571428572,0.6902857142857143,0.6902857142857143,0.6914285714285714,0.6914285714285714,0.6925714285714286,0.6925714285714286,0.6937142857142857,0.6937142857142857,0.6948571428571428,0.6948571428571428,0.6948571428571428,0.6948571428571428,0.6948571428571428,0.6948571428571428,0.696,0.696,0.696,0.696,0.696,0.696,0.6971428571428572,0.6971428571428572,0.6982857142857143,0.6982857142857143,0.6994285714285714,0.6994285714285714,0.7005714285714286,0.7005714285714286,0.7017142857142857,0.7017142857142857,0.7028571428571428,0.7028571428571428,0.704,0.704,0.704,0.704,0.704,0.704,0.704,0.704,0.7051428571428572,0.7051428571428572,0.7062857142857143,0.7062857142857143,0.7074285714285714,0.7074285714285714,0.7085714285714285,0.7085714285714285,0.7097142857142857,0.7097142857142857,0.7097142857142857,0.7097142857142857,0.7108571428571429,0.7108571428571429,0.712,0.712,0.7131428571428572,0.7131428571428572,0.7131428571428572,0.7131428571428572,0.7142857142857143,0.7142857142857143,0.7154285714285714,0.7154285714285714,0.7165714285714285,0.7165714285714285,0.7177142857142857,0.7177142857142857,0.7188571428571429,0.7188571428571429,0.72,0.72,0.7211428571428572,0.7211428571428572,0.7211428571428572,0.7211428571428572,0.7222857142857143,0.7222857142857143,0.7234285714285714,0.7234285714285714,0.7234285714285714,0.7234285714285714,0.7245714285714285,0.7245714285714285,0.7257142857142858,0.7257142857142858,0.7268571428571429,0.7268571428571429,0.728,0.728,0.7291428571428571,0.7291428571428571,0.7291428571428571,0.7291428571428571,0.7302857142857143,0.7302857142857143,0.7314285714285714,0.7314285714285714,0.7325714285714285,0.7325714285714285,0.7337142857142858,0.7337142857142858,0.7337142857142858,0.7337142857142858,0.7348571428571429,0.7348571428571429,0.7348571428571429,0.7348571428571429,0.736,0.736,0.736,0.736,0.736,0.736,0.736,0.736,0.7371428571428571,0.7371428571428571,0.7382857142857143,0.7382857142857143,0.7394285714285714,0.7394285714285714,0.7405714285714285,0.7405714285714285,0.7417142857142857,0.7417142857142857,0.7428571428571429,0.7428571428571429,0.744,0.744,0.7451428571428571,0.7451428571428571,0.7462857142857143,0.7462857142857143,0.7474285714285714,0.7474285714285714,0.7485714285714286,0.7485714285714286,0.7497142857142857,0.7497142857142857,0.7508571428571429,0.7508571428571429,0.752,0.752,0.7531428571428571,0.7531428571428571,0.7531428571428571,0.7531428571428571,0.7542857142857143,0.7542857142857143,0.7554285714285714,0.7554285714285714,0.7565714285714286,0.7565714285714286,0.7577142857142857,0.7577142857142857,0.7577142857142857,0.7577142857142857,0.7588571428571429,0.7588571428571429,0.76,0.76,0.7611428571428571,0.7611428571428571,0.7622857142857142,0.7622857142857142,0.7634285714285715,0.7634285714285715,0.7634285714285715,0.7634285714285715,0.7645714285714286,0.7645714285714286,0.7657142857142857,0.7657142857142857,0.7657142857142857,0.7657142857142857,0.7668571428571429,0.7668571428571429,0.768,0.768,0.7691428571428571,0.7691428571428571,0.7702857142857142,0.7702857142857142,0.7714285714285715,0.7714285714285715,0.7725714285714286,0.7725714285714286,0.7737142857142857,0.7737142857142857,0.7748571428571429,0.7748571428571429,0.7748571428571429,0.7748571428571429,0.776,0.776,0.7771428571428571,0.7771428571428571,0.7782857142857142,0.7782857142857142,0.7794285714285715,0.7794285714285715,0.7805714285714286,0.7805714285714286,0.7817142857142857,0.7817142857142857,0.7828571428571428,0.7828571428571428,0.784,0.784,0.7851428571428571,0.7851428571428571,0.7851428571428571,0.7851428571428571,0.7862857142857143,0.7862857142857143,0.7874285714285715,0.7874285714285715,0.7885714285714286,0.7885714285714286,0.7897142857142857,0.7897142857142857,0.7897142857142857,0.7897142857142857,0.7908571428571428,0.7908571428571428,0.7908571428571428,0.7908571428571428,0.792,0.792,0.7931428571428571,0.7931428571428571,0.7931428571428571,0.7931428571428571,0.7942857142857143,0.7942857142857143,0.7954285714285714,0.7954285714285714,0.7965714285714286,0.7965714285714286,0.7965714285714286,0.7965714285714286,0.7965714285714286,0.7965714285714286,0.7977142857142857,0.7977142857142857,0.7988571428571428,0.7988571428571428,0.8,0.8,0.8,0.8,0.8011428571428572,0.8011428571428572,0.8011428571428572,0.8011428571428572,0.8022857142857143,0.8022857142857143,0.8034285714285714,0.8034285714285714,0.8034285714285714,0.8034285714285714,0.8045714285714286,0.8045714285714286,0.8057142857142857,0.8057142857142857,0.8068571428571428,0.8068571428571428,0.808,0.808,0.8091428571428572,0.8091428571428572,0.8102857142857143,0.8102857142857143,0.8114285714285714,0.8114285714285714,0.8125714285714286,0.8125714285714286,0.8137142857142857,0.8137142857142857,0.8148571428571428,0.8148571428571428,0.8148571428571428,0.8148571428571428,0.816,0.816,0.8171428571428572,0.8171428571428572,0.8182857142857143,0.8182857142857143,0.8182857142857143,0.8182857142857143,0.8182857142857143,0.8182857142857143,0.8194285714285714,0.8194285714285714,0.8205714285714286,0.8205714285714286,0.8217142857142857,0.8217142857142857,0.8228571428571428,0.8228571428571428,0.824,0.824,0.8251428571428572,0.8251428571428572,0.8262857142857143,0.8262857142857143,0.8274285714285714,0.8274285714285714,0.8285714285714286,0.8285714285714286,0.8297142857142857,0.8297142857142857,0.8308571428571428,0.8308571428571428,0.832,0.832,0.8331428571428572,0.8331428571428572,0.8342857142857143,0.8342857142857143,0.8354285714285714,0.8354285714285714,0.8365714285714285,0.8365714285714285,0.8377142857142857,0.8377142857142857,0.8388571428571429,0.8388571428571429,0.84,0.84,0.8411428571428572,0.8411428571428572,0.8422857142857143,0.8422857142857143,0.8434285714285714,0.8434285714285714,0.8434285714285714,0.8434285714285714,0.8445714285714285,0.8445714285714285,0.8457142857142858,0.8457142857142858,0.8468571428571429,0.8468571428571429,0.848,0.848,0.8491428571428571,0.8491428571428571,0.8502857142857143,0.8502857142857143,0.8502857142857143,0.8502857142857143,0.8514285714285714,0.8514285714285714,0.8525714285714285,0.8525714285714285,0.8537142857142858,0.8537142857142858,0.8548571428571429,0.8548571428571429,0.856,0.856,0.8571428571428571,0.8571428571428571,0.8582857142857143,0.8582857142857143,0.8594285714285714,0.8594285714285714,0.8605714285714285,0.8605714285714285,0.8617142857142858,0.8617142857142858,0.8628571428571429,0.8628571428571429,0.864,0.864,0.8651428571428571,0.8651428571428571,0.8662857142857143,0.8662857142857143,0.8662857142857143,0.8662857142857143,0.8662857142857143,0.8662857142857143,0.8674285714285714,0.8674285714285714,0.8685714285714285,0.8685714285714285,0.8697142857142857,0.8697142857142857,0.8708571428571429,0.8708571428571429,0.872,0.872,0.8731428571428571,0.8731428571428571,0.8742857142857143,0.8742857142857143,0.8754285714285714,0.8754285714285714,0.8765714285714286,0.8765714285714286,0.8777142857142857,0.8777142857142857,0.8788571428571429,0.8788571428571429,0.88,0.88,0.88,0.88,0.8811428571428571,0.8811428571428571,0.8811428571428571,0.8811428571428571,0.8811428571428571,0.8811428571428571,0.8822857142857143,0.8822857142857143,0.8834285714285715,0.8834285714285715,0.8845714285714286,0.8845714285714286,0.8857142857142857,0.8857142857142857,0.8868571428571429,0.8868571428571429,0.888,0.888,0.888,0.888,0.888,0.888,0.888,0.888,0.8891428571428571,0.8891428571428571,0.8902857142857142,0.8902857142857142,0.8902857142857142,0.8902857142857142,0.8902857142857142,0.8902857142857142,0.8902857142857142,0.8902857142857142,0.8914285714285715,0.8914285714285715,0.8914285714285715,0.8914285714285715,0.8914285714285715,0.8914285714285715,0.8925714285714286,0.8925714285714286,0.8937142857142857,0.8937142857142857,0.8948571428571429,0.8948571428571429,0.8948571428571429,0.8948571428571429,0.8948571428571429,0.8948571428571429,0.896,0.896,0.8971428571428571,0.8971428571428571,0.8971428571428571,0.8971428571428571,0.8971428571428571,0.8971428571428571,0.8982857142857142,0.8982857142857142,0.8982857142857142,0.8982857142857142,0.8994285714285715,0.8994285714285715,0.8994285714285715,0.8994285714285715,0.9005714285714286,0.9005714285714286,0.9017142857142857,0.9017142857142857,0.9017142857142857,0.9017142857142857,0.9017142857142857,0.9017142857142857,0.9028571428571428,0.9028571428571428,0.904,0.904,0.9051428571428571,0.9051428571428571,0.9062857142857143,0.9062857142857143,0.9074285714285715,0.9074285714285715,0.9085714285714286,0.9085714285714286,0.9085714285714286,0.9085714285714286,0.9085714285714286,0.9085714285714286,0.9085714285714286,0.9085714285714286,0.9097142857142857,0.9097142857142857,0.9108571428571428,0.9108571428571428,0.912,0.912,0.9131428571428571,0.9131428571428571,0.9142857142857143,0.9142857142857143,0.9142857142857143,0.9142857142857143,0.9154285714285715,0.9154285714285715,0.9154285714285715,0.9154285714285715,0.9154285714285715,0.9154285714285715,0.9165714285714286,0.9165714285714286,0.9165714285714286,0.9177142857142857,0.9177142857142857,0.9188571428571428,0.9188571428571428,0.9188571428571428,0.9188571428571428,0.9188571428571428,0.9188571428571428,0.92,0.92,0.92,0.92,0.9211428571428572,0.9211428571428572,0.9211428571428572,0.9211428571428572,0.9222857142857143,0.9222857142857143,0.9222857142857143,0.9222857142857143,0.9222857142857143,0.9222857142857143,0.9234285714285714,0.9234285714285714,0.9245714285714286,0.9245714285714286,0.9245714285714286,0.9245714285714286,0.9245714285714286,0.9245714285714286,0.9257142857142857,0.9257142857142857,0.9257142857142857,0.9257142857142857,0.9257142857142857,0.9257142857142857,0.9268571428571428,0.9268571428571428,0.9268571428571428,0.9268571428571428,0.9268571428571428,0.9268571428571428,0.9268571428571428,0.9268571428571428,0.9268571428571428,0.9268571428571428,0.928,0.928,0.928,0.928,0.928,0.928,0.928,0.928,0.928,0.928,0.9291428571428572,0.9291428571428572,0.9302857142857143,0.9302857142857143,0.9302857142857143,0.9302857142857143,0.9302857142857143,0.9302857142857143,0.9314285714285714,0.9314285714285714,0.9325714285714286,0.9325714285714286,0.9337142857142857,0.9337142857142857,0.9337142857142857,0.9337142857142857,0.9337142857142857,0.9337142857142857,0.9337142857142857,0.9337142857142857,0.9348571428571428,0.9348571428571428,0.936,0.936,0.936,0.9371428571428572,0.9371428571428572,0.9371428571428572,0.9371428571428572,0.9382857142857143,0.9382857142857143,0.9394285714285714,0.9394285714285714,0.9394285714285714,0.9394285714285714,0.9394285714285714,0.9394285714285714,0.9405714285714286,0.9405714285714286,0.9417142857142857,0.9417142857142857,0.9417142857142857,0.9417142857142857,0.9417142857142857,0.9417142857142857,0.9417142857142857,0.9428571428571428,0.9428571428571428,0.9428571428571428,0.9428571428571428,0.944,0.944,0.9451428571428572,0.9451428571428572,0.9451428571428572,0.9451428571428572,0.9451428571428572,0.9451428571428572,0.9462857142857143,0.9462857142857143,0.9462857142857143,0.9462857142857143,0.9462857142857143,0.9462857142857143,0.9474285714285714,0.9474285714285714,0.9474285714285714,0.9474285714285714,0.9474285714285714,0.9474285714285714,0.9485714285714286,0.9485714285714286,0.9485714285714286,0.9485714285714286,0.9485714285714286,0.9485714285714286,0.9485714285714286,0.9485714285714286,0.9485714285714286,0.9485714285714286,0.9485714285714286,0.9485714285714286,0.9497142857142857,0.9497142857142857,0.9497142857142857,0.9497142857142857,0.9497142857142857,0.9497142857142857,0.9497142857142857,0.9497142857142857,0.9508571428571428,0.9508571428571428,0.9508571428571428,0.9508571428571428,0.952,0.952,0.9531428571428572,0.9531428571428572,0.9542857142857143,0.9542857142857143,0.9542857142857143,0.9542857142857143,0.9554285714285714,0.9554285714285714,0.9554285714285714,0.9554285714285714,0.9565714285714285,0.9565714285714285,0.9565714285714285,0.9565714285714285,0.9577142857142857,0.9577142857142857,0.9577142857142857,0.9577142857142857,0.9577142857142857,0.9577142857142857,0.9577142857142857,0.9577142857142857,0.9577142857142857,0.9577142857142857,0.9577142857142857,0.9577142857142857,0.9577142857142857,0.9577142857142857,0.9577142857142857,0.9577142857142857,0.9588571428571429,0.9588571428571429,0.9588571428571429,0.9588571428571429,0.9588571428571429,0.9588571428571429,0.96,0.96,0.96,0.96,0.96,0.96,0.9611428571428572,0.9611428571428572,0.9611428571428572,0.9611428571428572,0.9611428571428572,0.9611428571428572,0.9611428571428572,0.9611428571428572,0.9611428571428572,0.9611428571428572,0.9611428571428572,0.9611428571428572,0.9611428571428572,0.9611428571428572,0.9611428571428572,0.9611428571428572,0.9622857142857143,0.9622857142857143,0.9634285714285714,0.9634285714285714,0.9645714285714285,0.9645714285714285,0.9645714285714285,0.9657142857142857,0.9657142857142857,0.9657142857142857,0.9657142857142857,0.9657142857142857,0.9657142857142857,0.9668571428571429,0.9668571428571429,0.9668571428571429,0.9668571428571429,0.9668571428571429,0.9668571428571429,0.9668571428571429,0.9668571428571429,0.9668571428571429,0.968,0.968,0.968,0.968,0.9691428571428572,0.9691428571428572,0.9691428571428572,0.9691428571428572,0.9691428571428572,0.9691428571428572,0.9702857142857143,0.9702857142857143,0.9702857142857143,0.9702857142857143,0.9714285714285714,0.9714285714285714,0.9714285714285714,0.9714285714285714,0.9714285714285714,0.9714285714285714,0.9714285714285714,0.9714285714285714,0.9714285714285714,0.9714285714285714,0.9725714285714285,0.9725714285714285,0.9725714285714285,0.9725714285714285,0.9725714285714285,0.9725714285714285,0.9725714285714285,0.9725714285714285,0.9737142857142858,0.9737142857142858,0.9737142857142858,0.9737142857142858,0.9748571428571429,0.9748571428571429,0.9748571428571429,0.9748571428571429,0.976,0.976,0.976,0.976,0.976,0.976,0.976,0.976,0.976,0.976,0.976,0.976,0.976,0.976,0.976,0.976,0.976,0.976,0.976,0.976,0.976,0.976,0.976,0.976,0.976,0.976,0.9771428571428571,0.9771428571428571,0.9771428571428571,0.9771428571428571,0.9771428571428571,0.9771428571428571,0.9771428571428571,0.9771428571428571,0.9771428571428571,0.9771428571428571,0.9771428571428571,0.9771428571428571,0.9771428571428571,0.9771428571428571,0.9782857142857143,0.9782857142857143,0.9805714285714285,0.9805714285714285,0.9805714285714285,0.9805714285714285,0.9805714285714285,0.9805714285714285,0.9805714285714285,0.9805714285714285,0.9817142857142858,0.9817142857142858,0.9817142857142858,0.9817142857142858,0.9817142857142858,0.9817142857142858,0.9817142857142858,0.9817142857142858,0.9817142857142858,0.9817142857142858,0.9817142857142858,0.9817142857142858,0.9817142857142858,0.9817142857142858,0.9817142857142858,0.9817142857142858,0.9817142857142858,0.9817142857142858,0.9817142857142858,0.9817142857142858,0.9817142857142858,0.9817142857142858,0.9817142857142858,0.9817142857142858,0.9817142857142858,0.9817142857142858,0.9817142857142858,0.9817142857142858,0.9817142857142858,0.9817142857142858,0.9817142857142858,0.9817142857142858,0.9817142857142858,0.9817142857142858,0.9828571428571429,0.9828571428571429,0.9828571428571429,0.9828571428571429,0.9828571428571429,0.9828571428571429,0.9828571428571429,0.9828571428571429,0.9828571428571429,0.9828571428571429,0.9828571428571429,0.9828571428571429,0.984,0.984,0.984,0.984,0.9851428571428571,0.9851428571428571,0.9851428571428571,0.9851428571428571,0.9862857142857143,0.9862857142857143,0.9862857142857143,0.9862857142857143,0.9874285714285714,0.9874285714285714,0.9874285714285714,0.9874285714285714,0.9874285714285714,0.9874285714285714,0.9885714285714285,0.9885714285714285,0.9885714285714285,0.9885714285714285,0.9885714285714285,0.9885714285714285,0.9885714285714285,0.9885714285714285,0.9885714285714285,0.9885714285714285,0.9885714285714285,0.9885714285714285,0.9885714285714285,0.9885714285714285,0.9885714285714285,0.9885714285714285,0.9897142857142858,0.9897142857142858,0.9908571428571429,0.9908571428571429,0.9908571428571429,0.9908571428571429,0.9908571428571429,0.9908571428571429,0.9908571428571429,0.9908571428571429,0.9908571428571429,0.9908571428571429,0.9908571428571429,0.9908571428571429,0.9908571428571429,0.9908571428571429,0.992,0.992,0.992,0.992,0.9931428571428571,0.9931428571428571,0.9942857142857143,0.9942857142857143,0.9954285714285714,0.9954285714285714,0.9954285714285714,0.9954285714285714,0.9954285714285714,0.9954285714285714,0.9954285714285714,0.9954285714285714,0.9954285714285714,0.9954285714285714,0.9954285714285714,0.9965714285714286,0.9965714285714286,0.9965714285714286,0.9965714285714286,0.9977142857142857,0.9977142857142857,0.9977142857142857,0.9977142857142857,0.9977142857142857,0.9977142857142857,0.9977142857142857,0.9977142857142857,0.9977142857142857,0.9977142857142857,0.9977142857142857,0.9977142857142857,0.9977142857142857,0.9977142857142857,0.9977142857142857,0.9977142857142857,0.9977142857142857,0.9977142857142857,0.9977142857142857,0.9977142857142857,0.9977142857142857,0.9977142857142857,0.9977142857142857,0.9977142857142857,0.9977142857142857,0.9977142857142857,0.9977142857142857,0.9977142857142857,0.9977142857142857,0.9977142857142857,0.9977142857142857,0.9977142857142857,0.9977142857142857,0.9977142857142857,0.9977142857142857,0.9977142857142857,0.9977142857142857,0.9977142857142857,0.9977142857142857,0.9977142857142857,0.9977142857142857,0.9977142857142857,0.9977142857142857,0.9977142857142857,0.9977142857142857,0.9977142857142857,0.9977142857142857,0.9977142857142857,0.9988571428571429,0.9988571428571429,0.9988571428571429,0.9988571428571429,0.9988571428571429,0.9988571428571429,0.9988571428571429,0.9988571428571429,0.9988571428571429,0.9988571428571429,0.9988571428571429,0.9988571428571429,0.9988571428571429,0.9988571428571429,0.9988571428571429,0.9988571428571429,1.0,1.0,1.0,1.0,1.0,1.0,1.0,1.0,1.0,1.0,1.0,1.0,1.0,1.0,1.0,1.0,1.0,1.0,1.0,1.0,1.0,1.0,1.0,1.0,1.0,1.0,1.0,1.0,1.0,1.0,1.0,1.0,1.0,1.0,1.0,1.0,1.0,1.0,0.0]}},\"id\":\"40d15767-682b-4820-9a44-9d775834b53d\",\"type\":\"ColumnDataSource\"},{\"attributes\":{\"data_source\":{\"id\":\"40d15767-682b-4820-9a44-9d775834b53d\",\"type\":\"ColumnDataSource\"},\"glyph\":{\"id\":\"32c39483-2196-4fd3-b9da-4151639f7bdb\",\"type\":\"Patch\"},\"hover_glyph\":null,\"muted_glyph\":null,\"nonselection_glyph\":{\"id\":\"e3b66345-4b71-49ae-83cf-180143188b60\",\"type\":\"Patch\"},\"selection_glyph\":null},\"id\":\"4fb3fc3a-0aed-4aa9-932a-728102345354\",\"type\":\"GlyphRenderer\"},{\"attributes\":{},\"id\":\"b312ab1f-3f7e-4934-9db5-3b2bb1d8579f\",\"type\":\"ToolEvents\"},{\"attributes\":{\"line_color\":{\"value\":\"#ff0000\"},\"line_width\":{\"value\":3},\"x\":{\"field\":\"fpr\"},\"y\":{\"field\":\"tpr\"}},\"id\":\"7bc225bd-610d-4647-81f1-7f658c888afb\",\"type\":\"Line\"},{\"attributes\":{\"below\":[{\"id\":\"ae796efe-6a48-4b00-b43c-6fa1fa230168\",\"type\":\"LinearAxis\"}],\"left\":[{\"id\":\"a085f524-fe1a-49ab-8ad0-d5dd89fc9767\",\"type\":\"LinearAxis\"}],\"plot_height\":480,\"plot_width\":700,\"renderers\":[{\"id\":\"ae796efe-6a48-4b00-b43c-6fa1fa230168\",\"type\":\"LinearAxis\"},{\"id\":\"a136840b-9fb3-4bcf-bd86-004b3a9bd54b\",\"type\":\"Grid\"},{\"id\":\"a085f524-fe1a-49ab-8ad0-d5dd89fc9767\",\"type\":\"LinearAxis\"},{\"id\":\"124acc13-d25c-459f-8e68-f96c87055c3c\",\"type\":\"Grid\"},{\"id\":\"7a91d4c7-6524-4b92-a1ec-89097c05145c\",\"type\":\"BoxAnnotation\"},{\"id\":\"ebdd5b15-fdfc-440d-a6e1-05222fa4be9f\",\"type\":\"GlyphRenderer\"},{\"id\":\"7b81f846-df4b-442a-bd8f-7c7d23e2b0d1\",\"type\":\"GlyphRenderer\"},{\"id\":\"cf419fce-07d8-4888-b54e-75d5a272761b\",\"type\":\"Legend\"},{\"id\":\"4fb3fc3a-0aed-4aa9-932a-728102345354\",\"type\":\"GlyphRenderer\"}],\"title\":{\"id\":\"b9ddcd55-dc68-408f-b615-ba2b3d4d3e62\",\"type\":\"Title\"},\"tool_events\":{\"id\":\"b312ab1f-3f7e-4934-9db5-3b2bb1d8579f\",\"type\":\"ToolEvents\"},\"toolbar\":{\"id\":\"ab0a36d1-2adb-4ecc-ac74-e92ad3c6a500\",\"type\":\"Toolbar\"},\"x_range\":{\"id\":\"c9e7cfe5-29c8-4d4e-8d63-2bf94518bc3e\",\"type\":\"DataRange1d\"},\"y_range\":{\"id\":\"27d9f363-e441-4bce-a387-9b86f412b9f3\",\"type\":\"DataRange1d\"}},\"id\":\"3c0698f9-e03b-4637-8589-4b9ab2632aeb\",\"subtype\":\"Figure\",\"type\":\"Plot\"},{\"attributes\":{\"data_source\":{\"id\":\"019aab45-f3e7-401f-9459-de1ede8c6853\",\"type\":\"ColumnDataSource\"},\"glyph\":{\"id\":\"7bc225bd-610d-4647-81f1-7f658c888afb\",\"type\":\"Line\"},\"hover_glyph\":null,\"muted_glyph\":null,\"name\":\"roc\",\"nonselection_glyph\":{\"id\":\"6376613c-bc49-465c-abaf-8f457cb13f60\",\"type\":\"Line\"},\"selection_glyph\":null},\"id\":\"ebdd5b15-fdfc-440d-a6e1-05222fa4be9f\",\"type\":\"GlyphRenderer\"},{\"attributes\":{},\"id\":\"0901c174-7fdf-4d07-8772-68a27ba2a65a\",\"type\":\"BasicTicker\"},{\"attributes\":{\"callback\":null,\"names\":[\"roc\"],\"plot\":{\"id\":\"3c0698f9-e03b-4637-8589-4b9ab2632aeb\",\"subtype\":\"Figure\",\"type\":\"Plot\"},\"tooltips\":[[\"Cutoff score\",\"@cutoff_score\"],[\"True Positive Rate\",\"@tpr_nice\"],[\"False Positive Rate\",\"@fpr_nice\"]]},\"id\":\"59a8973e-ed63-49b4-ba2b-1f38bf8c95b3\",\"type\":\"HoverTool\"}],\"root_ids\":[\"3c0698f9-e03b-4637-8589-4b9ab2632aeb\"]},\"title\":\"Bokeh Application\",\"version\":\"0.12.5\"}};\n",
       "            var render_items = [{\"docid\":\"9b36a4c5-4f14-43c2-9c1a-041a1e53c22f\",\"elementid\":\"53a113a0-3806-4d88-87b1-a68d0365e20f\",\"modelid\":\"3c0698f9-e03b-4637-8589-4b9ab2632aeb\"}];\n",
       "            \n",
       "            Bokeh.embed.embed_items(docs_json, render_items);\n",
       "          };\n",
       "          if (document.readyState != \"loading\") fn();\n",
       "          else document.addEventListener(\"DOMContentLoaded\", fn);\n",
       "        })();\n",
       "      },\n",
       "      function(Bokeh) {\n",
       "      }\n",
       "    ];\n",
       "  \n",
       "    function run_inline_js() {\n",
       "      \n",
       "      if ((window.Bokeh !== undefined) || (force === true)) {\n",
       "        for (var i = 0; i < inline_js.length; i++) {\n",
       "          inline_js[i](window.Bokeh);\n",
       "        }if (force === true) {\n",
       "          display_loaded();\n",
       "        }} else if (Date.now() < window._bokeh_timeout) {\n",
       "        setTimeout(run_inline_js, 100);\n",
       "      } else if (!window._bokeh_failed_load) {\n",
       "        console.log(\"Bokeh: BokehJS failed to load within specified timeout.\");\n",
       "        window._bokeh_failed_load = true;\n",
       "      } else if (force !== true) {\n",
       "        var cell = $(document.getElementById(\"53a113a0-3806-4d88-87b1-a68d0365e20f\")).parents('.cell').data().cell;\n",
       "        cell.output_area.append_execute_result(NB_LOAD_WARNING)\n",
       "      }\n",
       "  \n",
       "    }\n",
       "  \n",
       "    if (window._bokeh_is_loading === 0) {\n",
       "      console.log(\"Bokeh: BokehJS loaded, going straight to plotting\");\n",
       "      run_inline_js();\n",
       "    } else {\n",
       "      load_libs(js_urls, function() {\n",
       "        console.log(\"Bokeh: BokehJS plotting callback run at\", now());\n",
       "        run_inline_js();\n",
       "      });\n",
       "    }\n",
       "  }(this));\n",
       "</script>"
      ]
     },
     "metadata": {},
     "output_type": "display_data"
    }
   ],
   "source": [
    "show(roc_plot)"
   ]
  },
  {
   "cell_type": "markdown",
   "metadata": {
    "collapsed": true
   },
   "source": [
    "# TODO:\n",
    "\n",
    "+ Figure out a way to export these charts and results to... HDFS? "
   ]
  },
  {
   "cell_type": "code",
   "execution_count": null,
   "metadata": {
    "collapsed": true
   },
   "outputs": [],
   "source": []
  }
 ],
 "metadata": {
  "kernelspec": {
   "display_name": "Python 2",
   "language": "python",
   "name": "python2"
  },
  "language_info": {
   "codemirror_mode": {
    "name": "ipython",
    "version": 2
   },
   "file_extension": ".py",
   "mimetype": "text/x-python",
   "name": "python",
   "nbconvert_exporter": "python",
   "pygments_lexer": "ipython2",
   "version": "2.7.11"
  }
 },
 "nbformat": 4,
 "nbformat_minor": 2
}
