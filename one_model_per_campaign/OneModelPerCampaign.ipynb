{
 "cells": [
  {
   "cell_type": "code",
   "execution_count": 1,
   "metadata": {
    "collapsed": false
   },
   "outputs": [
    {
     "name": "stdout",
     "output_type": "stream",
     "text": [
      "2\n"
     ]
    }
   ],
   "source": [
    "%matplotlib inline\n",
    "import numpy as np\n",
    "import pandas as pd\n",
    "pd.set_option('display.max_rows', 500)\n",
    "pd.set_option('display.max_columns', 200)\n",
    "pd.set_option('display.max_colwidth', 300)\n",
    "\n",
    "import matplotlib.pyplot as plt\n",
    "\n",
    "from red_agent.common.utils.hdfs_generic import *\n",
    "import os\n",
    "\n",
    "MAX_N_EXECUTORS=4\n",
    "MIN_N_EXECUTORS=1\n",
    "N_CORES_EXECUTOR=4\n",
    "EXECUTOR_IDLE_MAX_TIME=120\n",
    "EXECUTOR_MEMORY='16g'\n",
    "DRIVER_MEMORY='8g'\n",
    "N_CORES_DRIVER=1\n",
    "MEMORY_OVERHEAD=N_CORES_EXECUTOR*2048\n",
    "QUEUE=\"root.datascience.normal\"\n",
    "MAX_PORT_RETRY=100\n",
    "\n",
    "\n",
    "SPARK_COMMON_OPTS=os.environ.get('SPARK_COMMON_OPTS', '')\n",
    "SPARK_COMMON_OPTS+=\" --executor-memory %s --driver-memory %s\" % (EXECUTOR_MEMORY, DRIVER_MEMORY)\n",
    "SPARK_COMMON_OPTS+=\" --conf spark.shuffle.manager=tungsten-sort\"\n",
    "SPARK_COMMON_OPTS+=\"  --queue %s\" % QUEUE\n",
    "SPARK_COMMON_OPTS+=\" --conf spark.port.maxRetries=%s\" % (MAX_PORT_RETRY)\n",
    "\n",
    "# Dynamic allocation configuration\n",
    "SPARK_COMMON_OPTS+=\" --conf spark.dynamicAllocation.enabled=true\"\n",
    "SPARK_COMMON_OPTS+=\" --conf spark.shuffle.service.enabled=true\"\n",
    "SPARK_COMMON_OPTS+=\" --conf spark.dynamicAllocation.maxExecutors=%s\" % (MAX_N_EXECUTORS)\n",
    "SPARK_COMMON_OPTS+=\" --conf spark.dynamicAllocation.minExecutors=%s\" % (MIN_N_EXECUTORS)\n",
    "SPARK_COMMON_OPTS+=\" --conf spark.dynamicAllocation.executorIdleTimeout=%s\" % (EXECUTOR_IDLE_MAX_TIME)\n",
    "\n",
    "\n",
    "\n",
    "BDA_ENV = os.environ.get('BDA_USER_HOME', '')\n",
    "\n",
    "# Attach bda-core-ra codebase\n",
    "SPARK_COMMON_OPTS+=\" --files \\\n",
    "{}/scripts/properties/red_agent/nodes.yaml,\\\n",
    "{}/scripts/properties/red_agent/nodes-de.yaml,\\\n",
    "{}/scripts/properties/red_agent/nodes-es.yaml,\\\n",
    "{}/scripts/properties/red_agent/nodes-ie.yaml,\\\n",
    "{}/scripts/properties/red_agent/nodes-it.yaml,\\\n",
    "{}/scripts/properties/red_agent/nodes-pt.yaml,\\\n",
    "{}/scripts/properties/red_agent/nodes-uk.yaml\".format(*[BDA_ENV]*7)\n",
    "\n",
    "os.environ[\"SPARK_COMMON_OPTS\"] = SPARK_COMMON_OPTS\n",
    "os.environ[\"PYSPARK_SUBMIT_ARGS\"] = \"%s pyspark-shell \" % SPARK_COMMON_OPTS\n",
    "\n",
    "#print os.environ.get('SPARK_COMMON_OPTS', '')\n",
    "#print os.environ.get('PYSPARK_SUBMIT_ARGS', '')\n",
    "\n",
    "sc, sparkSession, sqlContext = run_sc()\n",
    "print sc.defaultParallelism"
   ]
  },
  {
   "cell_type": "code",
   "execution_count": 3,
   "metadata": {
    "collapsed": false
   },
   "outputs": [],
   "source": [
    "# This literal_eval is needed since \n",
    "# we have to read from a textfile\n",
    "# which is formatted as python objects.\n",
    "# It is totally safe.\n",
    "from ast import literal_eval\n",
    "\n",
    "# Standard Library stuff:\n",
    "from functools import partial\n",
    "from datetime import date, timedelta, datetime\n",
    "\n",
    "# Numpy stuff\n",
    "from numpy import (nan as np_nan, round as np_round, int64 as np_int64)\n",
    "import numpy as np\n",
    "\n",
    "\n",
    "# Spark stuff\n",
    "from pyspark.sql import SparkSession\n",
    "from pyspark import StorageLevel\n",
    "from pyspark.sql.functions import (udf, col, decode, when, lit, lower, concat,\n",
    "                                   translate, count, sum as sql_sum, max as sql_max, min as sql_min,\n",
    "                                   round, \n",
    "                                   mean, stddev, datediff,\n",
    "                                   length,\n",
    "                                   countDistinct,\n",
    "                                   hour, date_format, collect_set, collect_list,\n",
    "                                   year, month, dayofmonth,\n",
    "                                   rank, expr, lag, coalesce, row_number,\n",
    "                                   isnull, isnan,\n",
    "                                   unix_timestamp,\n",
    "                                   split\n",
    "                                  )\n",
    "from pyspark.sql.types import DoubleType, StringType, IntegerType, ArrayType, FloatType\n",
    "\n",
    "from pyspark.sql import DataFrameStatFunctions as statFunc\n",
    "\n",
    "from pyspark.sql.window import Window\n",
    "\n",
    "import json\n",
    "from collections import OrderedDict\n",
    "\n",
    "from subprocess import Popen, PIPE\n",
    "import datetime, calendar\n",
    "\n",
    "# Import my own libraries\n",
    "# from notebooks_utils import deliverTable"
   ]
  },
  {
   "cell_type": "code",
   "execution_count": 4,
   "metadata": {
    "collapsed": true
   },
   "outputs": [],
   "source": [
    "spark = (SparkSession.builder\n",
    "         .appName(\"One Model Per Campaign\")\n",
    "         .master(\"yarn\")\n",
    "         .config(\"spark.submit.deployMode\", \"client\")\n",
    "         .config(\"spark.ui.showConsoleProgress\", \"true\")\n",
    "         .enableHiveSupport()\n",
    "         .getOrCreate()\n",
    "         )\n",
    "\n",
    "# sc = spark.sparkContext"
   ]
  },
  {
   "cell_type": "markdown",
   "metadata": {},
   "source": [
    "## Preprocessing"
   ]
  },
  {
   "cell_type": "code",
   "execution_count": 5,
   "metadata": {
    "collapsed": true
   },
   "outputs": [],
   "source": [
    "# Calculate the current month and year so that campaigns from two months can be read\n",
    "currentMonth = datetime.datetime.now().month\n",
    "currentYear = datetime.datetime.now().year"
   ]
  },
  {
   "cell_type": "code",
   "execution_count": 7,
   "metadata": {},
   "outputs": [
    {
     "data": {
      "text/plain": [
       "6"
      ]
     },
     "execution_count": 7,
     "metadata": {},
     "output_type": "execute_result"
    }
   ],
   "source": [
    "currentMonth"
   ]
  },
  {
   "cell_type": "code",
   "execution_count": 8,
   "metadata": {
    "collapsed": true
   },
   "outputs": [],
   "source": [
    "# Functions\n",
    "def reduceLabelSet(label_set):\n",
    "    # First, prioritize positive responses\n",
    "    if 'Target_Positive' in label_set:\n",
    "        return 'Target_Positive'\n",
    "    elif 'Control_Positive' in label_set:\n",
    "        return 'Control_Positive'\n",
    "    # Then, negative responses\n",
    "    elif 'Target_Negative' in label_set:\n",
    "        return 'Target_Negative'\n",
    "    elif 'Control_Negative' in label_set:\n",
    "        return 'Control_Negative'\n",
    "    else: return 'Ignore'\n",
    "\n",
    "# UDFs\n",
    "reduceCampaignCode = udf(lambda CampaignCodeArray: '_'.join(CampaignCodeArray.split('_')[2:]), StringType())\n",
    "reduceLabelSet = udf(reduceLabelSet, StringType())"
   ]
  },
  {
   "cell_type": "markdown",
   "metadata": {},
   "source": [
    "## Read table Contact Hist"
   ]
  },
  {
   "cell_type": "code",
   "execution_count": 10,
   "metadata": {
    "collapsed": true
   },
   "outputs": [],
   "source": [
    "NifContactHist = (spark.read.load(\"/data/raw/vf_es/campaign/NifContactHist/1.0/parquet/\"))"
   ]
  },
  {
   "cell_type": "code",
   "execution_count": 12,
   "metadata": {
    "collapsed": false
   },
   "outputs": [],
   "source": [
    "NIF_Contact_hist = \\\n",
    "(NifContactHist\n",
    " .where(col('campaigncode').like('%PXXX%'))\n",
    " .where(~col('canal').like('%NBA%'))\n",
    " .where(~col('canal').like('%PO%'))\n",
    " .where(~col('canal').like('%PER%'))\n",
    " .where(~col('canal').like('%PMG%'))\n",
    " .where(~col('canal').like('%PROMPTOS%'))\n",
    " .where(~col('canal').like('%Tienda%'))\n",
    " .where(col('flag_borrado')==0)\n",
    " # If CampaignCode is AUTOMMES_PXXXC_BTS_XSELL_FUT\n",
    " # with this function, only the string BTS_XSELL_FUT is kept\n",
    " .withColumn('CampaignType',\n",
    "             (reduceCampaignCode(col('CampaignCode')))\n",
    "            )\n",
    " .withColumn('Grupo',\n",
    "             when(col('cellcode').startswith('CU'), 'Universal')\n",
    "             .when(col('cellcode').startswith('CC'), 'Control')\n",
    "             .otherwise('Target'))\n",
    " .select(col('year'),col('month'),col('day'),col('cif_nif'),\n",
    "         col('CampaignCode'),col('CampaignType'),col('Grupo'),\n",
    "         col('creatividad'),col('treatmentcode'),col('canal'),\n",
    "         col('contactdatetime')\n",
    "        )\n",
    ")"
   ]
  },
  {
   "cell_type": "code",
   "execution_count": 14,
   "metadata": {},
   "outputs": [
    {
     "data": {
      "text/plain": [
       "Row(year=2017, month=10, day=25, cif_nif=u'32444203Y', CampaignCode=u'20161001_PXXXT_REM__FUNC_ECARE', CampaignType=u'REM__FUNC_ECARE', Grupo=u'Target', creatividad=u'SMS_REM__FUNC_ECARE', treatmentcode=u'148435407', canal=u'SMS', contactdatetime=datetime.datetime(2017, 10, 25, 11, 15, 50))"
      ]
     },
     "execution_count": 14,
     "metadata": {},
     "output_type": "execute_result"
    }
   ],
   "source": [
    "NIF_Contact_hist.head()"
   ]
  },
  {
   "cell_type": "markdown",
   "metadata": {},
   "source": [
    "### Take the most common campaigns from two months away"
   ]
  },
  {
   "cell_type": "code",
   "execution_count": 8,
   "metadata": {
    "collapsed": false
   },
   "outputs": [],
   "source": [
    "orderedContactCampaignCodes = \\\n",
    "(NIF_Contact_hist\n",
    " .where(col('year') == currentYear)\n",
    " .where(col('month') == (currentMonth-2))\n",
    " .groupBy(col('CampaignCode'))\n",
    " .count()\n",
    " .orderBy(col('count').desc())\n",
    " .select(col('CampaignCode'))\n",
    " .collect()\n",
    ")"
   ]
  },
  {
   "cell_type": "code",
   "execution_count": 9,
   "metadata": {
    "collapsed": true
   },
   "outputs": [],
   "source": [
    "firstCampaignCode = orderedContactCampaignCodes[0].CampaignCode"
   ]
  },
  {
   "cell_type": "code",
   "execution_count": 10,
   "metadata": {
    "collapsed": false
   },
   "outputs": [
    {
     "data": {
      "text/plain": [
       "u'20180319_PXXXT_PORT_TRANS_VFTV'"
      ]
     },
     "execution_count": 10,
     "metadata": {},
     "output_type": "execute_result"
    }
   ],
   "source": [
    "firstCampaignCode"
   ]
  },
  {
   "cell_type": "markdown",
   "metadata": {},
   "source": [
    "## Read table Response Hist"
   ]
  },
  {
   "cell_type": "code",
   "execution_count": 11,
   "metadata": {
    "collapsed": true
   },
   "outputs": [],
   "source": [
    "NifResponseHist = (spark.read.load(\"/data/raw/vf_es/campaign/NifResponseHist/1.0/parquet/\"))"
   ]
  },
  {
   "cell_type": "code",
   "execution_count": 12,
   "metadata": {
    "collapsed": true
   },
   "outputs": [],
   "source": [
    "NIF_Response_hist = \\\n",
    "(NifResponseHist\n",
    " .where(col('campaigncode').like('%PXXX%'))\n",
    " .where(col('flag_borrado')==0)\n",
    " # If CampaignCode is AUTOMMES_PXXXC_BTS_XSELL_FUT\n",
    " # with this function, only the string BTS_XSELL_FUT is kept\n",
    " .withColumn('CampaignType',\n",
    "             (reduceCampaignCode(col('CampaignCode')))\n",
    "            )\n",
    " .withColumn('Grupo',\n",
    "             when(col('cellcode').startswith('CU'), 'Universal')\n",
    "             .when(col('cellcode').startswith('CC'), 'Control')\n",
    "             .otherwise('Target'))\n",
    " .select(col('year'),col('month'),col('day'),col('cif_nif'),\n",
    "         col('CampaignCode'),col('CampaignType'),col('Grupo'),\n",
    "         col('creatividad'),col('treatmentcode'),col('canal'),\n",
    "         col('responsedatetime')\n",
    "        )\n",
    ")"
   ]
  },
  {
   "cell_type": "code",
   "execution_count": 13,
   "metadata": {
    "collapsed": true
   },
   "outputs": [],
   "source": [
    "orderedResponseCampaignCodes = \\\n",
    "(NIF_Response_hist\n",
    " .where(col('year') == currentYear)\n",
    " .where(col('month') == (currentMonth-1))\n",
    " .groupBy(col('CampaignCode'))\n",
    " .count()\n",
    " .orderBy(col('count').desc())\n",
    " .select(col('CampaignCode'))\n",
    " .collect()\n",
    ")"
   ]
  },
  {
   "cell_type": "code",
   "execution_count": 14,
   "metadata": {
    "collapsed": false
   },
   "outputs": [],
   "source": [
    "firstResponseCampaignCode = orderedResponseCampaignCodes[0].CampaignCode"
   ]
  },
  {
   "cell_type": "code",
   "execution_count": 15,
   "metadata": {
    "collapsed": false
   },
   "outputs": [],
   "source": [
    "sample_NIF_Response_hist = (spark.createDataFrame(NIF_Response_hist\n",
    "                                                  .where(col('CampaignCode')==str(firstResponseCampaignCode))\n",
    "                                                  .take(200000)))\n",
    "sample_NIF_Contact_hist = (spark.createDataFrame(NIF_Contact_hist\n",
    "                                                 .where(col('CampaignCode')==str(firstResponseCampaignCode))\n",
    "                                                 .take(200000)))"
   ]
  },
  {
   "cell_type": "code",
   "execution_count": 16,
   "metadata": {
    "collapsed": false
   },
   "outputs": [
    {
     "data": {
      "text/plain": [
       "Row(year=2018, month=6, day=4, cif_nif=u'29467236W', CampaignCode=u'AUTOMMES_PXXXC_CH_N2', CampaignType=u'CH_N2', Grupo=u'Target', creatividad=u'CONV_FIBRA_NO_HR', treatmentcode=u'148613732', canal=u'SAT', contactdatetime=datetime.datetime(2018, 6, 4, 18, 49, 39))"
      ]
     },
     "execution_count": 16,
     "metadata": {},
     "output_type": "execute_result"
    }
   ],
   "source": [
    "sample_NIF_Contact_hist.head()"
   ]
  },
  {
   "cell_type": "code",
   "execution_count": 17,
   "metadata": {
    "collapsed": false
   },
   "outputs": [
    {
     "data": {
      "text/plain": [
       "Row(year=2018, month=6, day=7, cif_nif=u'66463538H', CampaignCode=u'AUTOMMES_PXXXC_CH_N2', CampaignType=u'CH_N2', Grupo=u'Target', creatividad=u'SOLO_MOVIL_HUELLA_MM', treatmentcode=u'148601394', canal=u'SAT', responsedatetime=datetime.datetime(2018, 6, 7, 0, 0))"
      ]
     },
     "execution_count": 17,
     "metadata": {},
     "output_type": "execute_result"
    }
   ],
   "source": [
    "sample_NIF_Response_hist.head()"
   ]
  },
  {
   "cell_type": "code",
   "execution_count": 18,
   "metadata": {
    "collapsed": false
   },
   "outputs": [],
   "source": [
    "nif_with_labels = \\\n",
    "(sample_NIF_Contact_hist\n",
    " .join(sample_NIF_Response_hist\n",
    "       .drop(col('year'))\n",
    "       .drop(col('month'))\n",
    "       .drop(col('Grupo'))\n",
    "       .drop(col('canal'))\n",
    "       .drop(col('day'))\n",
    "       .drop(col('CampaignType'))\n",
    "       .drop(col('creatividad'))\n",
    "       .drop_duplicates()\n",
    "       ,\n",
    "       ['cif_nif','CampaignCode','treatmentcode'],\n",
    "       how='left_outer'\n",
    "      )\n",
    " .withColumn('EsRespondedor',\n",
    "             when(col('responsedatetime').isNotNull(),1)\n",
    "             .otherwise(0))\n",
    " .withColumn('Label',\n",
    "             when((col('Grupo')=='Control') & (col('EsRespondedor')==0), 'Control_Negative')\n",
    "             .when((col('Grupo')=='Control') & (col('EsRespondedor')==1), 'Control_Positive')\n",
    "             .when((col('Grupo')=='Target') & (col('EsRespondedor')==0), 'Target_Negative')\n",
    "             .when((col('Grupo')=='Target') & (col('EsRespondedor')==1), 'Target_Positive')\n",
    "             .otherwise('Ignore')\n",
    "            )\n",
    " .select(col('year'),col('month'), col('day'),col('cif_nif'),col('CampaignCode'),col('CampaignType'),col('Grupo'),\n",
    "         col('creatividad'),col('canal'), col('contactdatetime'), col('Label')\n",
    "        )\n",
    " .orderBy(col('year'),col('month'), col('day'),col('cif_nif'))\n",
    ")"
   ]
  },
  {
   "cell_type": "code",
   "execution_count": 19,
   "metadata": {
    "collapsed": false,
    "scrolled": true
   },
   "outputs": [],
   "source": [
    "labeled_datamart_nif_level = \\\n",
    "(nif_with_labels\n",
    " .groupBy(col('year'),col('month'), col('day'),col('cif_nif'))\n",
    " # Collect all possible responses in label_set\n",
    " # Sometimes, under a same CampaignCode, there can be some contradictory responses\n",
    " .agg(collect_list('Label').alias('label_set'))\n",
    " .withColumn('CampaignCode',lit(str(firstResponseCampaignCode)))\n",
    " .withColumn('Label',reduceLabelSet(col('label_set')))\n",
    " .drop(col('label_set'))\n",
    " .cache()\n",
    ")"
   ]
  },
  {
   "cell_type": "code",
   "execution_count": 28,
   "metadata": {
    "collapsed": false
   },
   "outputs": [
    {
     "data": {
      "text/plain": [
       "Row(year=2018, month=5, day=3, cif_nif=u'00002490X', CampaignCode=u'AUTOMMES_PXXXC_CH_N2', Label=u'Target_Positive')"
      ]
     },
     "execution_count": 28,
     "metadata": {},
     "output_type": "execute_result"
    }
   ],
   "source": [
    "labeled_datamart_nif_level.head()"
   ]
  },
  {
   "cell_type": "markdown",
   "metadata": {},
   "source": [
    "## Read attributes from customer base"
   ]
  },
  {
   "cell_type": "code",
   "execution_count": 20,
   "metadata": {
    "collapsed": false
   },
   "outputs": [],
   "source": [
    "customerAttributes = (spark.read.table('tests_es.rbl_ids_srv_20180331'))"
   ]
  },
  {
   "cell_type": "code",
   "execution_count": 21,
   "metadata": {
    "collapsed": true
   },
   "outputs": [],
   "source": [
    "colsGNV_CustomerAttributes = [(column) for column in customerAttributes.columns if column.startswith('GNV')]\n",
    "collectList_colsGNV_CustomerAttributes = [collect_list(col(column)) for column in customerAttributes.columns if column.startswith('GNV')]"
   ]
  },
  {
   "cell_type": "code",
   "execution_count": 22,
   "metadata": {
    "collapsed": true
   },
   "outputs": [],
   "source": [
    "def clean_GNV_attributes(column_GNV_values):\n",
    "    if len(column_GNV_values) == 0:\n",
    "        return np.float(-1)\n",
    "    else:\n",
    "        return np.mean(column_GNV_values).tolist()\n",
    "    \n",
    "clean_GNV_attributes_UDF = udf(clean_GNV_attributes,(FloatType()))"
   ]
  },
  {
   "cell_type": "code",
   "execution_count": 23,
   "metadata": {
    "collapsed": false
   },
   "outputs": [],
   "source": [
    "customerAggregatedAttributes = \\\n",
    "(customerAttributes\n",
    " .select(['NIF_CLIENTE']+\n",
    "         colsGNV_CustomerAttributes\n",
    "        )\n",
    " .groupBy(col('NIF_CLIENTE'))\n",
    " .agg(*(collectList_colsGNV_CustomerAttributes))\n",
    " .join(labeled_datamart_nif_level,\n",
    "       labeled_datamart_nif_level.cif_nif == customerAttributes.NIF_CLIENTE,\n",
    "       how='inner'\n",
    "      )\n",
    " .orderBy(col('NIF_CLIENTE'))\n",
    ")"
   ]
  },
  {
   "cell_type": "code",
   "execution_count": 24,
   "metadata": {
    "collapsed": false
   },
   "outputs": [],
   "source": [
    "colsGNV_CustomerAggregatedAttributes = [(column) for column in customerAggregatedAttributes.columns if 'GNV' in column]"
   ]
  },
  {
   "cell_type": "code",
   "execution_count": 25,
   "metadata": {
    "collapsed": false
   },
   "outputs": [],
   "source": [
    "for column in colsGNV_CustomerAggregatedAttributes:\n",
    "    customerAggregatedAttributes = \\\n",
    "    (customerAggregatedAttributes\n",
    "     .withColumn(column\n",
    "                 # collect_list(GNV_hour_0_W_MOU)  -> GNV_hour_0_W_MOU\n",
    "                 .split('(')[1][:-1],\n",
    "                 clean_GNV_attributes_UDF(column))\n",
    "     .drop(column)\n",
    "    )"
   ]
  },
  {
   "cell_type": "markdown",
   "metadata": {},
   "source": [
    "## Join attributes with labeled data"
   ]
  },
  {
   "cell_type": "code",
   "execution_count": 29,
   "metadata": {
    "collapsed": true
   },
   "outputs": [],
   "source": [
    "customerAggregatedAttributesLabeled = \\\n",
    "(customerAggregatedAttributes\n",
    " .join(labeled_datamart_nif_level,\n",
    "       customerAggregatedAttributes.NIF_CLIENTE == labeled_datamart_nif_level.cif_nif,\n",
    "       how='inner'\n",
    "      )\n",
    ")"
   ]
  },
  {
   "cell_type": "markdown",
   "metadata": {},
   "source": [
    "## H2O"
   ]
  },
  {
   "cell_type": "code",
   "execution_count": 32,
   "metadata": {
    "collapsed": true
   },
   "outputs": [],
   "source": [
    "import h2o\n",
    "from h2o.automl import H2OAutoML"
   ]
  },
  {
   "cell_type": "code",
   "execution_count": 31,
   "metadata": {
    "collapsed": false
   },
   "outputs": [
    {
     "name": "stdout",
     "output_type": "stream",
     "text": [
      "Checking whether there is an H2O instance running at http://localhost:54321..... not found.\n",
      "Attempting to start a local H2O server...\n",
      "  Java Version: java version \"1.7.0_79\"; Java(TM) SE Runtime Environment (build 1.7.0_79-b15); Java HotSpot(TM) 64-Bit Server VM (build 24.79-b02, mixed mode)\n",
      "  Starting server from /opt/cloudera/parcels/Anaconda-2.5.0/lib/python2.7/site-packages/h2o/backend/bin/h2o.jar\n",
      "  Ice root: /tmp/tmppcac4C\n",
      "  JVM stdout: /tmp/tmppcac4C/h2o_adesant3_started_from_python.out\n",
      "  JVM stderr: /tmp/tmppcac4C/h2o_adesant3_started_from_python.err\n",
      "  Server is running at http://127.0.0.1:54321\n",
      "Connecting to H2O server at http://127.0.0.1:54321... successful.\n",
      "Warning: Your H2O cluster version is too old (5 months and 2 days)! Please download and install the latest version from http://h2o.ai/download/\n"
     ]
    },
    {
     "data": {
      "text/html": [
       "<div style=\"overflow:auto\"><table style=\"width:50%\"><tr><td>H2O cluster uptime:</td>\n",
       "<td>03 secs</td></tr>\n",
       "<tr><td>H2O cluster version:</td>\n",
       "<td>3.16.0.4</td></tr>\n",
       "<tr><td>H2O cluster version age:</td>\n",
       "<td>5 months and 2 days !!!</td></tr>\n",
       "<tr><td>H2O cluster name:</td>\n",
       "<td>H2O_from_python_adesant3_jse8b1</td></tr>\n",
       "<tr><td>H2O cluster total nodes:</td>\n",
       "<td>1</td></tr>\n",
       "<tr><td>H2O cluster free memory:</td>\n",
       "<td>26.60 Gb</td></tr>\n",
       "<tr><td>H2O cluster total cores:</td>\n",
       "<td>56</td></tr>\n",
       "<tr><td>H2O cluster allowed cores:</td>\n",
       "<td>56</td></tr>\n",
       "<tr><td>H2O cluster status:</td>\n",
       "<td>accepting new members, healthy</td></tr>\n",
       "<tr><td>H2O connection url:</td>\n",
       "<td>http://127.0.0.1:54321</td></tr>\n",
       "<tr><td>H2O connection proxy:</td>\n",
       "<td>None</td></tr>\n",
       "<tr><td>H2O internal security:</td>\n",
       "<td>False</td></tr>\n",
       "<tr><td>H2O API Extensions:</td>\n",
       "<td>AutoML, Algos, Core V3, Core V4</td></tr>\n",
       "<tr><td>Python version:</td>\n",
       "<td>2.7.11 final</td></tr></table></div>"
      ],
      "text/plain": [
       "--------------------------  -------------------------------\n",
       "H2O cluster uptime:         03 secs\n",
       "H2O cluster version:        3.16.0.4\n",
       "H2O cluster version age:    5 months and 2 days !!!\n",
       "H2O cluster name:           H2O_from_python_adesant3_jse8b1\n",
       "H2O cluster total nodes:    1\n",
       "H2O cluster free memory:    26.60 Gb\n",
       "H2O cluster total cores:    56\n",
       "H2O cluster allowed cores:  56\n",
       "H2O cluster status:         accepting new members, healthy\n",
       "H2O connection url:         http://127.0.0.1:54321\n",
       "H2O connection proxy:\n",
       "H2O internal security:      False\n",
       "H2O API Extensions:         AutoML, Algos, Core V3, Core V4\n",
       "Python version:             2.7.11 final\n",
       "--------------------------  -------------------------------"
      ]
     },
     "metadata": {},
     "output_type": "execute_result"
    }
   ],
   "source": [
    "h2o.init()"
   ]
  },
  {
   "cell_type": "code",
   "execution_count": null,
   "metadata": {
    "collapsed": true
   },
   "outputs": [],
   "source": []
  },
  {
   "cell_type": "code",
   "execution_count": 115,
   "metadata": {
    "collapsed": true
   },
   "outputs": [],
   "source": [
    "ccc_msisdn = (spark.read.load(\"/tmp/bbergua/ccc/msisdn/\"))\n"
   ]
  },
  {
   "cell_type": "code",
   "execution_count": 122,
   "metadata": {
    "collapsed": false
   },
   "outputs": [
    {
     "name": "stdout",
     "output_type": "stream",
     "text": [
      "+--------------------------+------------------------------------------------------+----------------------+-----+\n",
      "|Incidencia_Provision_Movil|Voice_and_mobile_data_incidences_and_support_Referrals|Consulta_Tecnica_Movil|count|\n",
      "+--------------------------+------------------------------------------------------+----------------------+-----+\n",
      "|                        52|                                                     0|                     1|    1|\n",
      "|                        13|                                                     0|                    19|    1|\n",
      "|                        14|                                                     0|                    23|    1|\n",
      "|                        51|                                                     0|                    23|    1|\n",
      "|                       129|                                                    82|                  3548|    1|\n",
      "|                        33|                                                     0|                   205|    1|\n",
      "+--------------------------+------------------------------------------------------+----------------------+-----+\n",
      "\n"
     ]
    }
   ],
   "source": [
    "(ccc_msisdn\n",
    " .where(col('Incidencia_Provision_Movil')>0)\n",
    " .where(col('Consulta_Tecnica_Movil')>0)\n",
    " .groupBy(col('Incidencia_Provision_Movil'),\n",
    "          col('Voice_and_mobile_data_incidences_and_support_Referrals'),\n",
    "          col('Consulta_Tecnica_Movil')\n",
    "         )\n",
    " .count()\n",
    " .show()\n",
    ")"
   ]
  },
  {
   "cell_type": "code",
   "execution_count": 119,
   "metadata": {
    "collapsed": true
   },
   "outputs": [
    {
     "name": "stdout",
     "output_type": "stream",
     "text": [
      "root\n",
      " |-- msisdn: string (nullable = true)\n",
      " |-- Pagar_menos: long (nullable = true)\n",
      " |-- Incidencia_Provision_Neba: long (nullable = true)\n",
      " |-- Incidencia_Provision_Fibra: long (nullable = true)\n",
      " |-- Incidencia_Provision_DSL: long (nullable = true)\n",
      " |-- Incidencia_Tecnica: long (nullable = true)\n",
      " |-- Incidencia_SGI: long (nullable = true)\n",
      " |-- Incidencia_Resto: long (nullable = true)\n",
      " |-- Incidencia_Provision_Movil: long (nullable = true)\n",
      " |-- Resultado_No_Aplica: long (nullable = true)\n",
      " |-- Resultado_Informacion: long (nullable = true)\n",
      " |-- Resultado_Solucionado: long (nullable = true)\n",
      " |-- Resultado_Retenido: long (nullable = true)\n",
      " |-- Resultado_No_Retenido: long (nullable = true)\n",
      " |-- Resultado_Escalo: long (nullable = true)\n",
      " |-- Resultado_Envio_tecnico: long (nullable = true)\n",
      " |-- Resultado_Transferencia: long (nullable = true)\n",
      " |-- Resultado_Abono: long (nullable = true)\n",
      " |-- Resultado_Bajas: long (nullable = true)\n",
      " |-- Resultado_Reclamacion: long (nullable = true)\n",
      " |-- Device_upgrade_Simlock: long (nullable = true)\n",
      " |-- Quick_ClosinSeg__Promesa_A_Especificar: long (nullable = true)\n",
      " |-- Mod_Serv_No_Procede_Other_customer_information_management: long (nullable = true)\n",
      " |-- Other_customer_information_management_Customer_service_process: long (nullable = true)\n",
      " |-- Bucket_Sub_Bucket: long (nullable = true)\n",
      " |-- Quick_Closing_TV: long (nullable = true)\n",
      " |-- Device_upgrade_SIM: long (nullable = true)\n",
      " |-- ProducProductos_Servicios_Mi_vodafone: long (nullable = true)\n",
      " |-- Prepaid_balance_Billing_errors: long (nullable = true)\n",
      " |-- Device_upgrade_Device_upgrade: long (nullable = true)\n",
      " |-- DSL_FIBER_incidences_and_support_Network: long (nullable = true)\n",
      " |-- Product_and_Service_management_TV: long (nullable = true)\n",
      " |-- Other_customer_information_management_Data: long (nullable = true)\n",
      " |-- Voice_and_mobile_data_incidences_and_support_Modem_Router_support: long (nullable = true)\n",
      " |-- Tariff_management_Data: long (nullable = true)\n",
      " |-- Billing___Postpaid_Collections_process: long (nullable = true)\n",
      " |-- Billing___Postpaid_Other_billing_issues: long (nullable = true)\n",
      " |-- Product_and_Service_management_Referrals: long (nullable = true)\n",
      " |-- Churn_Cancellations_Network: long (nullable = true)\n",
      " |-- Voice_and_mobile_data_incidences_and_support_Referrals: long (nullable = true)\n",
      " |-- Tariff_management_Network: long (nullable = true)\n",
      " |-- Billing___Postpaid_TV: long (nullable = true)\n",
      " |-- Device_upgrade_Referrals: long (nullable = true)\n",
      " |-- Product_and_Service_management_Prepaid_initial_balance: long (nullable = true)\n",
      " |-- Churn_Cancellations_Other_churn_issues: long (nullable = true)\n",
      " |-- Device_delivery_repair_SIM: long (nullable = true)\n",
      " |-- Voice_and_mobile_data_incidences_and_support_Mobile_Data_support: long (nullable = true)\n",
      " |-- Device_upgrade_Device_upgrade_order: long (nullable = true)\n",
      " |-- Product_and_Service_management_Transfers: long (nullable = true)\n",
      " |-- Voice_and_mobile_data_incidences_and_support_TV: long (nullable = true)\n",
      " |-- Churn_Cancellations_Referrals: long (nullable = true)\n",
      " |-- NA_NA: long (nullable = true)\n",
      " |-- Prepaid_balance_Standard_products: long (nullable = true)\n",
      " |-- Voice_and_mobile_data_incidences_and_support_Voice: long (nullable = true)\n",
      " |-- Collections_Collections_process: long (nullable = true)\n",
      " |-- Prepaid_balance_Top_up_process: long (nullable = true)\n",
      " |-- Device_delivery_repair_New_Adds: long (nullable = true)\n",
      " |-- Product_and_Service_management_Device_upgrade: long (nullable = true)\n",
      " |-- Billing___Postpaid_ITV: long (nullable = true)\n",
      " |-- DSL_FIBER_incidences_and_support_FIBRA_support: long (nullable = true)\n",
      " |-- Device_delivery_repair_Device_upgrade_order: long (nullable = true)\n",
      " |-- Tariff_management_TV: long (nullable = true)\n",
      " |-- Device_delivery_repair_Device_delivery_repair: long (nullable = true)\n",
      " |-- VF_NA: long (nullable = true)\n",
      " |-- Billing___Postpaid_Transfers: long (nullable = true)\n",
      " |-- Collections_TV: long (nullable = true)\n",
      " |-- Billing___Postpaid_Billing___Postpaid: long (nullable = true)\n",
      " |-- Voice_and_mobile_data_incidences_and_support_Modem_Router_incidences: long (nullable = true)\n",
      " |-- Tariff_management_Transfers: long (nullable = true)\n",
      " |-- Collections_Debt_recovery: long (nullable = true)\n",
      " |-- Product_and_Service_management_Standard_products: long (nullable = true)\n",
      " |-- Other_customer_information_management_Transfers: long (nullable = true)\n",
      " |-- Product_and_Service_management_Data_tariff: long (nullable = true)\n",
      " |-- Other_customer_information_management_Referrals: long (nullable = true)\n",
      " |-- Device_delivery_repair_Device_information: long (nullable = true)\n",
      " |-- Real_mail_Informar: long (nullable = true)\n",
      " |-- New_adds_process_TV: long (nullable = true)\n",
      " |-- DSL_FIBER_incidences_and_support_DSL_support: long (nullable = true)\n",
      " |-- Billing___Postpaid_Invoice_clarification: long (nullable = true)\n",
      " |-- DSL_FIBER_incidences_and_support_FIBRA_incidences: long (nullable = true)\n",
      " |-- Collections_Transfers: long (nullable = true)\n",
      " |-- New_adds_process_Referrals: long (nullable = true)\n",
      " |-- Billing___Postpaid_Billing_errors: long (nullable = true)\n",
      " |-- Churn_Cancellations_Churn_cancellations_process: long (nullable = true)\n",
      " |-- Tariff_management_Voice_tariff: long (nullable = true)\n",
      " |-- Device_upgrade_Transfers: long (nullable = true)\n",
      " |-- Churn_Cancellations_Negotiation: long (nullable = true)\n",
      " |-- New_adds_process_Simlock: long (nullable = true)\n",
      " |-- Device_delivery_repair_Transfers: long (nullable = true)\n",
      " |-- Churn_Cancellations_Collections_process: long (nullable = true)\n",
      " |-- DSL_FIBER_incidences_and_support_DSL_incidences: long (nullable = true)\n",
      " |-- DSL_FIBER_incidences_and_support_Modem_Router_support: long (nullable = true)\n",
      " |-- Churn_Cancellations_TV: long (nullable = true)\n",
      " |-- Other_customer_information_management_Prepaid_initial_balance: long (nullable = true)\n",
      " |-- Other_customer_information_management_Customer_data: long (nullable = true)\n",
      " |-- Product_and_Service_management_Voice_tariff: long (nullable = true)\n",
      " |-- Other_customer_information_management_Device_repair: long (nullable = true)\n",
      " |-- Churn_Cancellations_Transfers: long (nullable = true)\n",
      " |-- Device_delivery_repair_Device_upgrade: long (nullable = true)\n",
      " |-- New_adds_process_Voice: long (nullable = true)\n",
      " |-- Other_customer_information_management_Simlock: long (nullable = true)\n",
      " |-- Other_customer_information_management_PIN_PUK: long (nullable = true)\n",
      " |-- DSL_FIBER_incidences_and_support_Modem_Router_incidences: long (nullable = true)\n",
      " |-- Product_and_Service_management_Contracted_products_DSL: long (nullable = true)\n",
      " |-- Device_delivery_repair_Device_repair: long (nullable = true)\n",
      " |-- Product_and_Service_management_Network: long (nullable = true)\n",
      " |-- Vodafone_TV_Inteligente_Informacion: long (nullable = true)\n",
      " |-- DSL_FIBER_incidences_and_support_TV: long (nullable = true)\n",
      " |-- New_adds_process_Voice_line: long (nullable = true)\n",
      " |-- Device_upgrade_Device_delivery_repair: long (nullable = true)\n",
      " |-- Prepaid_balance_Transfers: long (nullable = true)\n",
      " |-- New_adds_process_Fix_line: long (nullable = true)\n",
      " |-- Product_and_Service_management_Contracted_products: long (nullable = true)\n",
      " |-- Product_and_Service_management_Billing_errors: long (nullable = true)\n",
      " |-- DSL_FIBER_incidences_and_support_Referrals: long (nullable = true)\n",
      " |-- Other_customer_information_management_Contracted_products_DSL: long (nullable = true)\n",
      " |-- Churn_Cancellations_Debt_recovery: long (nullable = true)\n",
      " |-- New_adds_process_Prepaid_initial_balance: long (nullable = true)\n",
      " |-- Product_and_Service_management_Simlock: long (nullable = true)\n",
      " |-- Collections_Referrals: long (nullable = true)\n",
      " |-- Tariff_management_Voice: long (nullable = true)\n",
      " |-- DSL_FIBER_incidences_and_support_Transfers: long (nullable = true)\n",
      " |-- Voice_and_mobile_data_incidences_and_support_Network: long (nullable = true)\n",
      " |-- New_adds_process_Transfers: long (nullable = true)\n",
      " |-- Tariff_management_Referrals: long (nullable = true)\n",
      " |-- Device_upgrade_TV: long (nullable = true)\n",
      " |-- Tariff_management_Contracted_products: long (nullable = true)\n",
      " |-- Device_upgrade_Device_information: long (nullable = true)\n",
      " |-- Tariff_management_Data_tariff: long (nullable = true)\n",
      " |-- Device_delivery_repair_Referrals: long (nullable = true)\n",
      " |-- Collections_Negotiation: long (nullable = true)\n",
      " |-- Quick_Closing_Quick_Closing: long (nullable = true)\n",
      " |-- Other_customer_information_management_TV: long (nullable = true)\n",
      " |-- Voice_and_mobile_data_incidences_and_support_Voice_and_mobile_data_incidences_and_support: long (nullable = true)\n",
      " |-- Voice_and_mobile_data_incidences_and_support_Mobile_Data_incidences: long (nullable = true)\n",
      " |-- Voice_and_mobile_data_incidences_and_support_Transfers: long (nullable = true)\n",
      " |-- Desactivacion_BA_Movil_TV: long (nullable = true)\n",
      " |-- Desactivacion_TV: long (nullable = true)\n",
      " |-- Desactivacion_Movil: long (nullable = true)\n",
      " |-- Desactivacion_Total: long (nullable = true)\n",
      " |-- Desactivacion_NET: long (nullable = true)\n",
      " |-- Desactivacion_Fijo: long (nullable = true)\n",
      " |-- Desactivacion_USB: long (nullable = true)\n",
      " |-- Desactivacion_Resto: long (nullable = true)\n",
      " |-- Ofrecimiento: long (nullable = true)\n",
      " |-- Transferencia: long (nullable = true)\n",
      " |-- Cobro: long (nullable = true)\n",
      " |-- Precios: long (nullable = true)\n",
      " |-- Portabilidad_Inversa: long (nullable = true)\n",
      " |-- Portabilidad: long (nullable = true)\n",
      " |-- Informacion: long (nullable = true)\n",
      " |-- Cierre: long (nullable = true)\n",
      " |-- Alta: long (nullable = true)\n",
      " |-- Factura: long (nullable = true)\n",
      " |-- Averia_DSL: long (nullable = true)\n",
      " |-- Averia_Fibra: long (nullable = true)\n",
      " |-- Averia_TV: long (nullable = true)\n",
      " |-- Averia_Resto: long (nullable = true)\n",
      " |-- Averia_Neba: long (nullable = true)\n",
      " |-- Averia_Modem_Router: long (nullable = true)\n",
      " |-- Real_mail: long (nullable = true)\n",
      " |-- Device_delivery_repair: long (nullable = true)\n",
      " |-- New_adds_process: long (nullable = true)\n",
      " |-- Quick_ClosinSeg__Promesa: long (nullable = true)\n",
      " |-- NA: long (nullable = true)\n",
      " |-- Product_and_Service_management: long (nullable = true)\n",
      " |-- Device_upgrade: long (nullable = true)\n",
      " |-- Quick_Closing: long (nullable = true)\n",
      " |-- Churn_Cancellations: long (nullable = true)\n",
      " |-- Vodafone_TV_Inteligente: long (nullable = true)\n",
      " |-- ProducProductos_Servicios: long (nullable = true)\n",
      " |-- Voice_and_mobile_data_incidences_and_support: long (nullable = true)\n",
      " |-- Prepaid_balance: long (nullable = true)\n",
      " |-- Billing___Postpaid: long (nullable = true)\n",
      " |-- Other_customer_information_management: long (nullable = true)\n",
      " |-- DSL_FIBER_incidences_and_support: long (nullable = true)\n",
      " |-- Bucket: long (nullable = true)\n",
      " |-- Collections: long (nullable = true)\n",
      " |-- Mod_Serv_No_Procede: long (nullable = true)\n",
      " |-- VF: long (nullable = true)\n",
      " |-- Tariff_management: long (nullable = true)\n",
      " |-- Baja: long (nullable = true)\n",
      " |-- Consulta_Tecnica_TV: long (nullable = true)\n",
      " |-- Consulta_Tecnica_Fibra: long (nullable = true)\n",
      " |-- Consulta_Tecnica_Neba: long (nullable = true)\n",
      " |-- Consulta_Tecnica_DSL: long (nullable = true)\n",
      " |-- Consulta_Tecnica_Movil: long (nullable = true)\n",
      " |-- Consulta_Tecnica_Modem_Router: long (nullable = true)\n",
      " |-- Consulta_Tecnica_Resto: long (nullable = true)\n",
      " |-- Consulta_Ficha: long (nullable = true)\n",
      " |-- Consulta_Resto: long (nullable = true)\n",
      " |-- Productos_Voz: long (nullable = true)\n",
      " |-- Productos_Datos: long (nullable = true)\n",
      " |-- Productos_Resto: long (nullable = true)\n",
      " |-- Provision_Neba: long (nullable = true)\n",
      " |-- Provision_Fibra: long (nullable = true)\n",
      " |-- Provision_DSL: long (nullable = true)\n",
      " |-- Provision_Resto: long (nullable = true)\n",
      " |-- Provision_Movil: long (nullable = true)\n",
      " |-- partitioned_month: integer (nullable = true)\n",
      " |-- year: integer (nullable = true)\n",
      " |-- month: integer (nullable = true)\n",
      " |-- day: integer (nullable = true)\n",
      "\n"
     ]
    }
   ],
   "source": [
    "ccc_msisdn.printSchema()"
   ]
  },
  {
   "cell_type": "code",
   "execution_count": null,
   "metadata": {
    "collapsed": true
   },
   "outputs": [],
   "source": []
  },
  {
   "cell_type": "code",
   "execution_count": null,
   "metadata": {
    "collapsed": true
   },
   "outputs": [],
   "source": []
  }
 ],
 "metadata": {
  "kernelspec": {
   "display_name": "Python 2",
   "language": "python",
   "name": "python2"
  },
  "language_info": {
   "codemirror_mode": {
    "name": "ipython",
    "version": 2
   },
   "file_extension": ".py",
   "mimetype": "text/x-python",
   "name": "python",
   "nbconvert_exporter": "python",
   "pygments_lexer": "ipython2",
   "version": "2.7.11"
  }
 },
 "nbformat": 4,
 "nbformat_minor": 2
}
