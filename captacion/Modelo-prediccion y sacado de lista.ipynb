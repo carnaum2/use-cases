{
 "cells": [
  {
   "cell_type": "code",
   "execution_count": 1,
   "metadata": {
    "collapsed": true
   },
   "outputs": [],
   "source": [
    "import numpy as np\n",
    "import pandas as pd\n",
    "from pyspark.sql.functions import col, udf\n",
    "from pyspark.sql.types import DoubleType"
   ]
  },
  {
   "cell_type": "code",
   "execution_count": 2,
   "metadata": {
    "collapsed": true
   },
   "outputs": [],
   "source": [
    "# This is the only thing we should have to change\n",
    "# to get lists. For example: to create list for campaign starting\n",
    "# in december 2017, we get features from october 2017:\n",
    "year_for_graph_features = 2018\n",
    "month_for_graph_features = 1"
   ]
  },
  {
   "cell_type": "code",
   "execution_count": 4,
   "metadata": {
    "collapsed": false
   },
   "outputs": [],
   "source": [
    "graph_table = (spark.read.table(\"tests_es.cdr_graph_features_no_communities_ads\")\n",
    "               .where(col(\"year\")==year_for_graph_features)\n",
    "               .where(col(\"month\")==month_for_graph_features)\n",
    "               .where(col(\"for_training\")==False)\n",
    "               )"
   ]
  },
  {
   "cell_type": "code",
   "execution_count": 5,
   "metadata": {
    "collapsed": true
   },
   "outputs": [],
   "source": [
    "spark.conf.set(\"spark.sql.shuffle.partitions\", 256)"
   ]
  },
  {
   "cell_type": "code",
   "execution_count": 6,
   "metadata": {
    "collapsed": false
   },
   "outputs": [],
   "source": [
    "from pyspark.ml import PipelineModel\n",
    "\n",
    "most_recent_model = PipelineModel.load(\"hdfs:///user/jsotovi2/captacion/2017_12_21__modelo_captacion.sparkmodel\")"
   ]
  },
  {
   "cell_type": "code",
   "execution_count": 7,
   "metadata": {
    "collapsed": false
   },
   "outputs": [
    {
     "data": {
      "text/plain": [
       "PipelineModel_4c5092da55818b13742f"
      ]
     },
     "execution_count": 7,
     "metadata": {},
     "output_type": "execute_result"
    }
   ],
   "source": [
    "most_recent_model"
   ]
  },
  {
   "cell_type": "code",
   "execution_count": 8,
   "metadata": {
    "collapsed": false
   },
   "outputs": [],
   "source": [
    "get_score_udf = udf(lambda x: x.tolist()[1], DoubleType())\n",
    "\n",
    "predictions = (most_recent_model.transform(graph_table)\n",
    "               .where(col(\"es_vodafone\")==\"no\")\n",
    "               .withColumn(\"raw_score\", get_score_udf(col(\"probability\")))\n",
    "               .withColumnRenamed(\"id\", \"phone\")\n",
    "               .orderBy(\"raw_score\", ascending=False)\n",
    "              )"
   ]
  },
  {
   "cell_type": "code",
   "execution_count": 9,
   "metadata": {
    "collapsed": false
   },
   "outputs": [
    {
     "name": "stdout",
     "output_type": "stream",
     "text": [
      "+------------+--------------------+\n",
      "|       phone|           raw_score|\n",
      "+------------+--------------------+\n",
      "|   973653474| 0.13950156433937558|\n",
      "|   650761778|  0.0984621485909407|\n",
      "| 35014195292| 0.08240872926947557|\n",
      "|   673357489| 0.07597975865275887|\n",
      "|   619850788| 0.06711827672474706|\n",
      "| 35025123536| 0.06530321864550215|\n",
      "|   682098409| 0.06105028209674771|\n",
      "|   664115217|0.057608033632736165|\n",
      "|   684268201|    0.05645249045128|\n",
      "|   682151466|0.056178628412901395|\n",
      "|   644637978|0.055715358415587245|\n",
      "|   657132163|0.054779662122408763|\n",
      "|   685260904|  0.0535736884682613|\n",
      "|   647494026| 0.04907705452746219|\n",
      "|   628875380| 0.04715951911512765|\n",
      "|   627315998| 0.04711017090023518|\n",
      "|   611756138|  0.0452279378103566|\n",
      "|212795760386|0.045066851093954564|\n",
      "|   921771816| 0.04322195986108093|\n",
      "|   685559228| 0.04297645730518429|\n",
      "+------------+--------------------+\n",
      "only showing top 20 rows\n",
      "\n"
     ]
    }
   ],
   "source": [
    "(predictions\n",
    " .select(\"phone\", \"raw_score\")\n",
    " ).show()"
   ]
  },
  {
   "cell_type": "code",
   "execution_count": 10,
   "metadata": {
    "collapsed": false
   },
   "outputs": [],
   "source": [
    "(predictions\n",
    " .select(\"phone\", \"raw_score\")\n",
    " .write\n",
    " .format(\"parquet\")\n",
    " .saveAsTable(\"tests_es.predictions_captation_201803_notprepared\") # Remember to change the name of the table \n",
    "                                                                   # with the predictions! Also, we need to \n",
    "                                                                   # deanonimize this.\n",
    " )"
   ]
  }
 ],
 "metadata": {
  "kernelspec": {
   "display_name": "Python 2",
   "language": "python",
   "name": "python2"
  },
  "language_info": {
   "codemirror_mode": {
    "name": "ipython",
    "version": 2
   },
   "file_extension": ".py",
   "mimetype": "text/x-python",
   "name": "python",
   "nbconvert_exporter": "python",
   "pygments_lexer": "ipython2",
   "version": "2.7.11"
  }
 },
 "nbformat": 4,
 "nbformat_minor": 2
}
