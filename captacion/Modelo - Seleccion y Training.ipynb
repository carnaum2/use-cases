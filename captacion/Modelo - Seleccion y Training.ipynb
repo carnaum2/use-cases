{
 "cells": [
  {
   "cell_type": "code",
   "execution_count": 1,
   "metadata": {
    "collapsed": true
   },
   "outputs": [],
   "source": [
    "%matplotlib inline"
   ]
  },
  {
   "cell_type": "code",
   "execution_count": 2,
   "metadata": {
    "collapsed": true
   },
   "outputs": [],
   "source": [
    "import numpy as np\n",
    "import pandas as pd\n",
    "from pyspark.sql.functions import col, when, isnull"
   ]
  },
  {
   "cell_type": "code",
   "execution_count": 3,
   "metadata": {
    "collapsed": true
   },
   "outputs": [],
   "source": [
    "year = 2017\n",
    "month = 11 # Month of CDR data +2\n",
    "\n",
    "year_previous_month = 2017\n",
    "previous_month = 10 # Month of CDR data +1\n",
    "\n",
    "year_cdr_features = 2017\n",
    "month_cdr_features = 9"
   ]
  },
  {
   "cell_type": "code",
   "execution_count": 4,
   "metadata": {
    "collapsed": false
   },
   "outputs": [],
   "source": [
    "pospago_month = (spark.read.table(\"raw_es.vf_pos_ac_final\")\n",
    "                   .where(col(\"year\") == year)\n",
    "                   .where(col(\"month\") == month)\n",
    "                  )\n",
    "\n",
    "pospago_previous = (spark.read.table(\"raw_es.vf_pos_ac_final\")\n",
    "                    .where(col(\"year\") == year_previous_month)\n",
    "                    .where(col(\"month\") == previous_month)\n",
    "                    )\n",
    "\n",
    "graph_table = (spark.read.table(\"tests_es.cdr_graph_features_no_communities\")\n",
    "               .where(col(\"year\")==year_cdr_features)\n",
    "               .where(col(\"month\")==month_cdr_features)\n",
    "               .where(col(\"for_training\")==True)\n",
    "               )"
   ]
  },
  {
   "cell_type": "code",
   "execution_count": 5,
   "metadata": {
    "collapsed": true
   },
   "outputs": [],
   "source": [
    "all_new_msisdns_pospago = (pospago_month.select(col(\"x_id_red\"))\n",
    "                           .dropDuplicates(subset=[\"x_id_red\"])\n",
    "                           .withColumnRenamed(\"x_id_red\", \"x_id_red_new\")\n",
    "                          )"
   ]
  },
  {
   "cell_type": "code",
   "execution_count": 6,
   "metadata": {
    "collapsed": true
   },
   "outputs": [],
   "source": [
    "dataset_pospago = (all_new_msisdns_pospago.join(pospago_previous,\n",
    "                                               how=\"left\",\n",
    "                                               on=all_new_msisdns_pospago[\"x_id_red_new\"] \n",
    "                                                   == pospago_previous[\"x_id_red\"]\n",
    "                                              )\n",
    "                   .withColumn(\"new_customer\", when(isnull(col(\"x_id_red\")), 1).otherwise(0))\n",
    "                   .select(\"x_id_red_new\",\"new_customer\")\n",
    "                   )"
   ]
  },
  {
   "cell_type": "code",
   "execution_count": 7,
   "metadata": {
    "collapsed": false
   },
   "outputs": [
    {
     "name": "stdout",
     "output_type": "stream",
     "text": [
      "+------------+-------+\n",
      "|new_customer|  count|\n",
      "+------------+-------+\n",
      "|           1| 264500|\n",
      "|           0|7343284|\n",
      "+------------+-------+\n",
      "\n"
     ]
    }
   ],
   "source": [
    "dataset_pospago.groupBy(\"new_customer\").count().show()"
   ]
  },
  {
   "cell_type": "code",
   "execution_count": 8,
   "metadata": {
    "collapsed": false
   },
   "outputs": [],
   "source": [
    "feature_columns = [column for column in graph_table.columns\n",
    "                   if (column != \"id\") \n",
    "                   and (\"community_id\" not in column)\n",
    "                   and (\"es_vodafone\" not in column)]\n",
    "\n",
    "ml_dataset = graph_table.select(*([\"id\"]+feature_columns))"
   ]
  },
  {
   "cell_type": "code",
   "execution_count": 9,
   "metadata": {
    "collapsed": false
   },
   "outputs": [],
   "source": [
    "dataset_pospago_full = (ml_dataset\n",
    "                        .join(dataset_pospago,\n",
    "                              how=\"left\",\n",
    "                              on=ml_dataset[\"id\"] == dataset_pospago[\"x_id_red_new\"])\n",
    "                        .withColumn(\"new_customer\", when(col(\"new_customer\") == 1, 1)\n",
    "                                                   .when(col(\"new_customer\") == 0, 0)\n",
    "                                                   .otherwise(2)\n",
    "                                   )\n",
    "                        .where(col(\"new_customer\").isin([1,2]))\n",
    "                        .withColumn(\"new_customer\", when(col(\"new_customer\")==1, 1)\n",
    "                                                    .otherwise(0)\n",
    "                                   )\n",
    "                        )"
   ]
  },
  {
   "cell_type": "code",
   "execution_count": 10,
   "metadata": {
    "collapsed": false
   },
   "outputs": [
    {
     "name": "stdout",
     "output_type": "stream",
     "text": [
      "+------------+--------+\n",
      "|new_customer|   count|\n",
      "+------------+--------+\n",
      "|           1|   71644|\n",
      "|           0|56548880|\n",
      "+------------+--------+\n",
      "\n"
     ]
    }
   ],
   "source": [
    "dataset_pospago_full.groupBy(\"new_customer\").count().show()"
   ]
  },
  {
   "cell_type": "code",
   "execution_count": 11,
   "metadata": {
    "collapsed": false
   },
   "outputs": [],
   "source": [
    "splitted_dataset = dataset_pospago_full.randomSplit([0.8, 0.2])\n",
    "\n",
    "train = splitted_dataset[0]\n",
    "test = splitted_dataset[1]"
   ]
  },
  {
   "cell_type": "code",
   "execution_count": 12,
   "metadata": {
    "collapsed": true
   },
   "outputs": [],
   "source": [
    "spark.sparkContext.setCheckpointDir(\"hdfs:///user/jsotovi2/spark_checkpoints\")\n",
    "spark.conf.set(\"spark.sql.shuffle.partitions\", 256)"
   ]
  },
  {
   "cell_type": "code",
   "execution_count": 13,
   "metadata": {
    "collapsed": false
   },
   "outputs": [],
   "source": [
    "from pyspark.ml.feature import VectorAssembler\n",
    "from pyspark.ml.classification import RandomForestClassifier\n",
    "from pyspark.ml.pipeline import Pipeline\n",
    "from pyspark.ml.tuning import ParamGridBuilder, TrainValidationSplit\n",
    "from pyspark.ml.evaluation import BinaryClassificationEvaluator\n",
    "\n",
    "assembler = VectorAssembler(inputCols=feature_columns, outputCol=\"features\")\n",
    "\n",
    "rf = RandomForestClassifier(featuresCol=\"features\",\n",
    "                            labelCol=\"new_customer\")\n",
    "\n",
    "rf_pipeline = Pipeline(stages=[assembler, rf])\n",
    "\n",
    "hyperparam_grid = (ParamGridBuilder()\n",
    "                   .baseOn([rf.numTrees, 128])\n",
    "                   .baseOn([rf.maxBins, 256])\n",
    "                   .baseOn([rf.maxMemoryInMB, 3072])\n",
    "                   .baseOn([rf.cacheNodeIds, False])\n",
    "                   .baseOn([rf.checkpointInterval, 1])\n",
    "                   \n",
    "                   .addGrid(rf.maxDepth, [6])\n",
    "                   .addGrid(rf.subsamplingRate, [0.6])\n",
    "                   .addGrid(rf.featureSubsetStrategy, [\"onethird\"])\n",
    "                   ).build()\n",
    "\n",
    "roc_evaluator = BinaryClassificationEvaluator(rawPredictionCol=\"probability\", \n",
    "                                              labelCol=\"new_customer\", \n",
    "                                              metricName=\"areaUnderROC\")\n",
    "\n",
    "validation_process = TrainValidationSplit(estimator=rf_pipeline, \n",
    "                                          estimatorParamMaps=hyperparam_grid, \n",
    "                                          evaluator=roc_evaluator, \n",
    "                                          trainRatio=0.75)"
   ]
  },
  {
   "cell_type": "code",
   "execution_count": 14,
   "metadata": {
    "collapsed": false
   },
   "outputs": [],
   "source": [
    "validation_process_model = validation_process.fit(train)"
   ]
  },
  {
   "cell_type": "code",
   "execution_count": 15,
   "metadata": {
    "collapsed": false
   },
   "outputs": [],
   "source": [
    "validation_lists = []\n",
    "\n",
    "for hyperparam_combination in hyperparam_grid:\n",
    "    validation_lists.append(dict([(hyperparam[0].name, hyperparam[1]) \n",
    "                                    for hyperparam in hyperparam_combination.items()])\n",
    "                             )\n",
    "    \n",
    "validation_results = pd.DataFrame(validation_lists)\n",
    "validation_results[\"valScore\"] = validation_process_model.validationMetrics"
   ]
  },
  {
   "cell_type": "code",
   "execution_count": 16,
   "metadata": {
    "collapsed": false
   },
   "outputs": [
    {
     "data": {
      "text/html": [
       "<div>\n",
       "<table border=\"1\" class=\"dataframe\">\n",
       "  <thead>\n",
       "    <tr style=\"text-align: right;\">\n",
       "      <th></th>\n",
       "      <th>cacheNodeIds</th>\n",
       "      <th>checkpointInterval</th>\n",
       "      <th>featureSubsetStrategy</th>\n",
       "      <th>maxBins</th>\n",
       "      <th>maxDepth</th>\n",
       "      <th>maxMemoryInMB</th>\n",
       "      <th>numTrees</th>\n",
       "      <th>subsamplingRate</th>\n",
       "      <th>valScore</th>\n",
       "    </tr>\n",
       "  </thead>\n",
       "  <tbody>\n",
       "    <tr>\n",
       "      <th>0</th>\n",
       "      <td>False</td>\n",
       "      <td>1</td>\n",
       "      <td>onethird</td>\n",
       "      <td>256</td>\n",
       "      <td>6</td>\n",
       "      <td>3072</td>\n",
       "      <td>128</td>\n",
       "      <td>0.6</td>\n",
       "      <td>0.705604</td>\n",
       "    </tr>\n",
       "  </tbody>\n",
       "</table>\n",
       "</div>"
      ],
      "text/plain": [
       "  cacheNodeIds  checkpointInterval featureSubsetStrategy  maxBins  maxDepth  \\\n",
       "0        False                   1              onethird      256         6   \n",
       "\n",
       "   maxMemoryInMB  numTrees  subsamplingRate  valScore  \n",
       "0           3072       128              0.6  0.705604  "
      ]
     },
     "execution_count": 16,
     "metadata": {},
     "output_type": "execute_result"
    }
   ],
   "source": [
    "validation_results.sort_values(by=\"valScore\", ascending=False)"
   ]
  },
  {
   "cell_type": "code",
   "execution_count": 23,
   "metadata": {
    "collapsed": false
   },
   "outputs": [
    {
     "data": {
      "text/html": [
       "<div>\n",
       "<table border=\"1\" class=\"dataframe\">\n",
       "  <thead>\n",
       "    <tr style=\"text-align: right;\">\n",
       "      <th></th>\n",
       "      <th>cacheNodeIds</th>\n",
       "      <th>checkpointInterval</th>\n",
       "      <th>featureSubsetStrategy</th>\n",
       "      <th>maxBins</th>\n",
       "      <th>maxDepth</th>\n",
       "      <th>maxMemoryInMB</th>\n",
       "      <th>numTrees</th>\n",
       "      <th>subsamplingRate</th>\n",
       "      <th>valScore</th>\n",
       "    </tr>\n",
       "  </thead>\n",
       "  <tbody>\n",
       "    <tr>\n",
       "      <th>1</th>\n",
       "      <td>False</td>\n",
       "      <td>1</td>\n",
       "      <td>onethird</td>\n",
       "      <td>256</td>\n",
       "      <td>15</td>\n",
       "      <td>3072</td>\n",
       "      <td>256</td>\n",
       "      <td>0.6</td>\n",
       "      <td>0.718416</td>\n",
       "    </tr>\n",
       "    <tr>\n",
       "      <th>3</th>\n",
       "      <td>False</td>\n",
       "      <td>1</td>\n",
       "      <td>sqrt</td>\n",
       "      <td>256</td>\n",
       "      <td>15</td>\n",
       "      <td>3072</td>\n",
       "      <td>256</td>\n",
       "      <td>0.6</td>\n",
       "      <td>0.717762</td>\n",
       "    </tr>\n",
       "    <tr>\n",
       "      <th>0</th>\n",
       "      <td>False</td>\n",
       "      <td>1</td>\n",
       "      <td>onethird</td>\n",
       "      <td>256</td>\n",
       "      <td>10</td>\n",
       "      <td>3072</td>\n",
       "      <td>256</td>\n",
       "      <td>0.6</td>\n",
       "      <td>0.717584</td>\n",
       "    </tr>\n",
       "    <tr>\n",
       "      <th>2</th>\n",
       "      <td>False</td>\n",
       "      <td>1</td>\n",
       "      <td>sqrt</td>\n",
       "      <td>256</td>\n",
       "      <td>10</td>\n",
       "      <td>3072</td>\n",
       "      <td>256</td>\n",
       "      <td>0.6</td>\n",
       "      <td>0.715643</td>\n",
       "    </tr>\n",
       "  </tbody>\n",
       "</table>\n",
       "</div>"
      ],
      "text/plain": [
       "  cacheNodeIds  checkpointInterval featureSubsetStrategy  maxBins  maxDepth  \\\n",
       "1        False                   1              onethird      256        15   \n",
       "3        False                   1                  sqrt      256        15   \n",
       "0        False                   1              onethird      256        10   \n",
       "2        False                   1                  sqrt      256        10   \n",
       "\n",
       "   maxMemoryInMB  numTrees  subsamplingRate  valScore  \n",
       "1           3072       256              0.6  0.718416  \n",
       "3           3072       256              0.6  0.717762  \n",
       "0           3072       256              0.6  0.717584  \n",
       "2           3072       256              0.6  0.715643  "
      ]
     },
     "execution_count": 23,
     "metadata": {},
     "output_type": "execute_result"
    }
   ],
   "source": [
    "validation_results.sort_values(by=\"valScore\", ascending=False)"
   ]
  },
  {
   "cell_type": "code",
   "execution_count": 17,
   "metadata": {
    "collapsed": false
   },
   "outputs": [
    {
     "name": "stdout",
     "output_type": "stream",
     "text": [
      "{\n",
      "\tRandomForestClassifier_451a804358600abddc4b-cacheNodeIds: false,\n",
      "\tRandomForestClassifier_451a804358600abddc4b-checkpointInterval: 1,\n",
      "\tRandomForestClassifier_451a804358600abddc4b-featureSubsetStrategy: onethird,\n",
      "\tRandomForestClassifier_451a804358600abddc4b-featuresCol: features,\n",
      "\tRandomForestClassifier_451a804358600abddc4b-impurity: gini,\n",
      "\tRandomForestClassifier_451a804358600abddc4b-labelCol: new_customer,\n",
      "\tRandomForestClassifier_451a804358600abddc4b-maxBins: 256,\n",
      "\tRandomForestClassifier_451a804358600abddc4b-maxDepth: 6,\n",
      "\tRandomForestClassifier_451a804358600abddc4b-maxMemoryInMB: 3072,\n",
      "\tRandomForestClassifier_451a804358600abddc4b-minInfoGain: 0.0,\n",
      "\tRandomForestClassifier_451a804358600abddc4b-minInstancesPerNode: 1,\n",
      "\tRandomForestClassifier_451a804358600abddc4b-numTrees: 128,\n",
      "\tRandomForestClassifier_451a804358600abddc4b-predictionCol: prediction,\n",
      "\tRandomForestClassifier_451a804358600abddc4b-probabilityCol: probability,\n",
      "\tRandomForestClassifier_451a804358600abddc4b-rawPredictionCol: rawPrediction,\n",
      "\tRandomForestClassifier_451a804358600abddc4b-seed: -4140900678877021401,\n",
      "\tRandomForestClassifier_451a804358600abddc4b-subsamplingRate: 0.6\n",
      "}\n"
     ]
    }
   ],
   "source": [
    "best_model = validation_process_model.bestModel\n",
    "\n",
    "print(best_model.stages[-1]._call_java(\"parent\").extractParamMap().toString())"
   ]
  },
  {
   "cell_type": "code",
   "execution_count": 18,
   "metadata": {
    "collapsed": false
   },
   "outputs": [],
   "source": [
    "best_model.save(\"hdfs:///user/jsotovi2/captacion/2017_12_21__modelo_captacion.sparkmodel\")"
   ]
  },
  {
   "cell_type": "code",
   "execution_count": 19,
   "metadata": {
    "collapsed": false
   },
   "outputs": [
    {
     "data": {
      "text/plain": [
       "0.7054538677626285"
      ]
     },
     "execution_count": 19,
     "metadata": {},
     "output_type": "execute_result"
    }
   ],
   "source": [
    "predictions_test = best_model.transform(test)\n",
    "\n",
    "roc_evaluator.evaluate(predictions_test)"
   ]
  },
  {
   "cell_type": "code",
   "execution_count": 20,
   "metadata": {
    "collapsed": false
   },
   "outputs": [
    {
     "data": {
      "text/html": [
       "<div>\n",
       "<table border=\"1\" class=\"dataframe\">\n",
       "  <thead>\n",
       "    <tr style=\"text-align: right;\">\n",
       "      <th></th>\n",
       "      <th>feature</th>\n",
       "      <th>importance</th>\n",
       "    </tr>\n",
       "  </thead>\n",
       "  <tbody>\n",
       "    <tr>\n",
       "      <th>43</th>\n",
       "      <td>received_vf_calls_pospago_19PM_1AM</td>\n",
       "      <td>0.220091</td>\n",
       "    </tr>\n",
       "    <tr>\n",
       "      <th>53</th>\n",
       "      <td>n_mins_received_vf_pospago_19PM_1AM</td>\n",
       "      <td>0.111178</td>\n",
       "    </tr>\n",
       "    <tr>\n",
       "      <th>40</th>\n",
       "      <td>received_calls_19PM_1AM</td>\n",
       "      <td>0.059352</td>\n",
       "    </tr>\n",
       "    <tr>\n",
       "      <th>44</th>\n",
       "      <td>received_vf_calls_ratio_pospago_19PM_1AM</td>\n",
       "      <td>0.055582</td>\n",
       "    </tr>\n",
       "    <tr>\n",
       "      <th>45</th>\n",
       "      <td>emited_calls_19PM_1AM</td>\n",
       "      <td>0.054328</td>\n",
       "    </tr>\n",
       "    <tr>\n",
       "      <th>54</th>\n",
       "      <td>ratio_mins_received_vf_pospago_19PM_1AM</td>\n",
       "      <td>0.054043</td>\n",
       "    </tr>\n",
       "    <tr>\n",
       "      <th>23</th>\n",
       "      <td>received_vf_calls_pospago_15PM_18PM</td>\n",
       "      <td>0.032471</td>\n",
       "    </tr>\n",
       "    <tr>\n",
       "      <th>4</th>\n",
       "      <td>received_vf_calls_ratio_pospago_6AM_14PM</td>\n",
       "      <td>0.032153</td>\n",
       "    </tr>\n",
       "    <tr>\n",
       "      <th>0</th>\n",
       "      <td>received_calls_6AM_14PM</td>\n",
       "      <td>0.025503</td>\n",
       "    </tr>\n",
       "    <tr>\n",
       "      <th>25</th>\n",
       "      <td>emited_calls_15PM_18PM</td>\n",
       "      <td>0.020840</td>\n",
       "    </tr>\n",
       "    <tr>\n",
       "      <th>55</th>\n",
       "      <td>n_mins_called_19PM_1AM</td>\n",
       "      <td>0.020515</td>\n",
       "    </tr>\n",
       "    <tr>\n",
       "      <th>3</th>\n",
       "      <td>received_vf_calls_pospago_6AM_14PM</td>\n",
       "      <td>0.019392</td>\n",
       "    </tr>\n",
       "    <tr>\n",
       "      <th>20</th>\n",
       "      <td>received_calls_15PM_18PM</td>\n",
       "      <td>0.018546</td>\n",
       "    </tr>\n",
       "    <tr>\n",
       "      <th>33</th>\n",
       "      <td>n_mins_received_vf_pospago_15PM_18PM</td>\n",
       "      <td>0.018067</td>\n",
       "    </tr>\n",
       "    <tr>\n",
       "      <th>14</th>\n",
       "      <td>ratio_mins_received_vf_pospago_6AM_14PM</td>\n",
       "      <td>0.017272</td>\n",
       "    </tr>\n",
       "    <tr>\n",
       "      <th>24</th>\n",
       "      <td>received_vf_calls_ratio_pospago_15PM_18PM</td>\n",
       "      <td>0.017032</td>\n",
       "    </tr>\n",
       "    <tr>\n",
       "      <th>65</th>\n",
       "      <td>emited_calls_2AM_5AM</td>\n",
       "      <td>0.016851</td>\n",
       "    </tr>\n",
       "    <tr>\n",
       "      <th>5</th>\n",
       "      <td>emited_calls_6AM_14PM</td>\n",
       "      <td>0.015500</td>\n",
       "    </tr>\n",
       "    <tr>\n",
       "      <th>50</th>\n",
       "      <td>n_mins_received_19PM_1AM</td>\n",
       "      <td>0.015351</td>\n",
       "    </tr>\n",
       "    <tr>\n",
       "      <th>75</th>\n",
       "      <td>n_mins_called_2AM_5AM</td>\n",
       "      <td>0.012938</td>\n",
       "    </tr>\n",
       "    <tr>\n",
       "      <th>35</th>\n",
       "      <td>n_mins_called_15PM_18PM</td>\n",
       "      <td>0.012051</td>\n",
       "    </tr>\n",
       "    <tr>\n",
       "      <th>15</th>\n",
       "      <td>n_mins_called_6AM_14PM</td>\n",
       "      <td>0.011161</td>\n",
       "    </tr>\n",
       "    <tr>\n",
       "      <th>34</th>\n",
       "      <td>ratio_mins_received_vf_pospago_15PM_18PM</td>\n",
       "      <td>0.010028</td>\n",
       "    </tr>\n",
       "    <tr>\n",
       "      <th>30</th>\n",
       "      <td>n_mins_received_15PM_18PM</td>\n",
       "      <td>0.008814</td>\n",
       "    </tr>\n",
       "    <tr>\n",
       "      <th>13</th>\n",
       "      <td>n_mins_received_vf_pospago_6AM_14PM</td>\n",
       "      <td>0.008724</td>\n",
       "    </tr>\n",
       "    <tr>\n",
       "      <th>10</th>\n",
       "      <td>n_mins_received_6AM_14PM</td>\n",
       "      <td>0.007318</td>\n",
       "    </tr>\n",
       "    <tr>\n",
       "      <th>1</th>\n",
       "      <td>received_vf_calls_prepago_6AM_14PM</td>\n",
       "      <td>0.006150</td>\n",
       "    </tr>\n",
       "    <tr>\n",
       "      <th>2</th>\n",
       "      <td>received_vf_calls_ratio_prepago_6AM_14PM</td>\n",
       "      <td>0.004846</td>\n",
       "    </tr>\n",
       "    <tr>\n",
       "      <th>41</th>\n",
       "      <td>received_vf_calls_prepago_19PM_1AM</td>\n",
       "      <td>0.004737</td>\n",
       "    </tr>\n",
       "    <tr>\n",
       "      <th>60</th>\n",
       "      <td>received_calls_2AM_5AM</td>\n",
       "      <td>0.004520</td>\n",
       "    </tr>\n",
       "    <tr>\n",
       "      <th>...</th>\n",
       "      <td>...</td>\n",
       "      <td>...</td>\n",
       "    </tr>\n",
       "    <tr>\n",
       "      <th>76</th>\n",
       "      <td>n_mins_called_vf_prepago_2AM_5AM</td>\n",
       "      <td>0.001793</td>\n",
       "    </tr>\n",
       "    <tr>\n",
       "      <th>32</th>\n",
       "      <td>ratio_mins_received_vf_prepago_15PM_18PM</td>\n",
       "      <td>0.001700</td>\n",
       "    </tr>\n",
       "    <tr>\n",
       "      <th>31</th>\n",
       "      <td>n_mins_received_vf_prepago_15PM_18PM</td>\n",
       "      <td>0.001658</td>\n",
       "    </tr>\n",
       "    <tr>\n",
       "      <th>73</th>\n",
       "      <td>n_mins_received_vf_pospago_2AM_5AM</td>\n",
       "      <td>0.001633</td>\n",
       "    </tr>\n",
       "    <tr>\n",
       "      <th>17</th>\n",
       "      <td>ratio_mins_called_vf_prepago_6AM_14PM</td>\n",
       "      <td>0.001607</td>\n",
       "    </tr>\n",
       "    <tr>\n",
       "      <th>39</th>\n",
       "      <td>ratio_mins_called_vf_pospago_15PM_18PM</td>\n",
       "      <td>0.001559</td>\n",
       "    </tr>\n",
       "    <tr>\n",
       "      <th>59</th>\n",
       "      <td>ratio_mins_called_vf_pospago_19PM_1AM</td>\n",
       "      <td>0.001507</td>\n",
       "    </tr>\n",
       "    <tr>\n",
       "      <th>9</th>\n",
       "      <td>emited_vf_calls_ratio_pospago_6AM_14PM</td>\n",
       "      <td>0.001430</td>\n",
       "    </tr>\n",
       "    <tr>\n",
       "      <th>67</th>\n",
       "      <td>emited_vf_calls_ratio_prepago_2AM_5AM</td>\n",
       "      <td>0.001366</td>\n",
       "    </tr>\n",
       "    <tr>\n",
       "      <th>56</th>\n",
       "      <td>n_mins_called_vf_prepago_19PM_1AM</td>\n",
       "      <td>0.001211</td>\n",
       "    </tr>\n",
       "    <tr>\n",
       "      <th>62</th>\n",
       "      <td>received_vf_calls_ratio_prepago_2AM_5AM</td>\n",
       "      <td>0.001174</td>\n",
       "    </tr>\n",
       "    <tr>\n",
       "      <th>69</th>\n",
       "      <td>emited_vf_calls_ratio_pospago_2AM_5AM</td>\n",
       "      <td>0.001079</td>\n",
       "    </tr>\n",
       "    <tr>\n",
       "      <th>79</th>\n",
       "      <td>ratio_mins_called_vf_pospago_2AM_5AM</td>\n",
       "      <td>0.001073</td>\n",
       "    </tr>\n",
       "    <tr>\n",
       "      <th>46</th>\n",
       "      <td>emited_vf_calls_prepago_19PM_1AM</td>\n",
       "      <td>0.001064</td>\n",
       "    </tr>\n",
       "    <tr>\n",
       "      <th>68</th>\n",
       "      <td>emited_vf_calls_pospago_2AM_5AM</td>\n",
       "      <td>0.001022</td>\n",
       "    </tr>\n",
       "    <tr>\n",
       "      <th>36</th>\n",
       "      <td>n_mins_called_vf_prepago_15PM_18PM</td>\n",
       "      <td>0.000985</td>\n",
       "    </tr>\n",
       "    <tr>\n",
       "      <th>7</th>\n",
       "      <td>emited_vf_calls_ratio_prepago_6AM_14PM</td>\n",
       "      <td>0.000826</td>\n",
       "    </tr>\n",
       "    <tr>\n",
       "      <th>66</th>\n",
       "      <td>emited_vf_calls_prepago_2AM_5AM</td>\n",
       "      <td>0.000529</td>\n",
       "    </tr>\n",
       "    <tr>\n",
       "      <th>22</th>\n",
       "      <td>received_vf_calls_ratio_prepago_15PM_18PM</td>\n",
       "      <td>0.000494</td>\n",
       "    </tr>\n",
       "    <tr>\n",
       "      <th>58</th>\n",
       "      <td>n_mins_called_vf_pospago_19PM_1AM</td>\n",
       "      <td>0.000470</td>\n",
       "    </tr>\n",
       "    <tr>\n",
       "      <th>18</th>\n",
       "      <td>n_mins_called_vf_pospago_6AM_14PM</td>\n",
       "      <td>0.000466</td>\n",
       "    </tr>\n",
       "    <tr>\n",
       "      <th>27</th>\n",
       "      <td>emited_vf_calls_ratio_prepago_15PM_18PM</td>\n",
       "      <td>0.000439</td>\n",
       "    </tr>\n",
       "    <tr>\n",
       "      <th>72</th>\n",
       "      <td>ratio_mins_received_vf_prepago_2AM_5AM</td>\n",
       "      <td>0.000366</td>\n",
       "    </tr>\n",
       "    <tr>\n",
       "      <th>6</th>\n",
       "      <td>emited_vf_calls_prepago_6AM_14PM</td>\n",
       "      <td>0.000349</td>\n",
       "    </tr>\n",
       "    <tr>\n",
       "      <th>47</th>\n",
       "      <td>emited_vf_calls_ratio_prepago_19PM_1AM</td>\n",
       "      <td>0.000330</td>\n",
       "    </tr>\n",
       "    <tr>\n",
       "      <th>37</th>\n",
       "      <td>ratio_mins_called_vf_prepago_15PM_18PM</td>\n",
       "      <td>0.000202</td>\n",
       "    </tr>\n",
       "    <tr>\n",
       "      <th>26</th>\n",
       "      <td>emited_vf_calls_prepago_15PM_18PM</td>\n",
       "      <td>0.000194</td>\n",
       "    </tr>\n",
       "    <tr>\n",
       "      <th>19</th>\n",
       "      <td>ratio_mins_called_vf_pospago_6AM_14PM</td>\n",
       "      <td>0.000107</td>\n",
       "    </tr>\n",
       "    <tr>\n",
       "      <th>57</th>\n",
       "      <td>ratio_mins_called_vf_prepago_19PM_1AM</td>\n",
       "      <td>0.000106</td>\n",
       "    </tr>\n",
       "    <tr>\n",
       "      <th>77</th>\n",
       "      <td>ratio_mins_called_vf_prepago_2AM_5AM</td>\n",
       "      <td>0.000019</td>\n",
       "    </tr>\n",
       "  </tbody>\n",
       "</table>\n",
       "<p>80 rows × 2 columns</p>\n",
       "</div>"
      ],
      "text/plain": [
       "                                      feature  importance\n",
       "43         received_vf_calls_pospago_19PM_1AM    0.220091\n",
       "53        n_mins_received_vf_pospago_19PM_1AM    0.111178\n",
       "40                    received_calls_19PM_1AM    0.059352\n",
       "44   received_vf_calls_ratio_pospago_19PM_1AM    0.055582\n",
       "45                      emited_calls_19PM_1AM    0.054328\n",
       "54    ratio_mins_received_vf_pospago_19PM_1AM    0.054043\n",
       "23        received_vf_calls_pospago_15PM_18PM    0.032471\n",
       "4    received_vf_calls_ratio_pospago_6AM_14PM    0.032153\n",
       "0                     received_calls_6AM_14PM    0.025503\n",
       "25                     emited_calls_15PM_18PM    0.020840\n",
       "55                     n_mins_called_19PM_1AM    0.020515\n",
       "3          received_vf_calls_pospago_6AM_14PM    0.019392\n",
       "20                   received_calls_15PM_18PM    0.018546\n",
       "33       n_mins_received_vf_pospago_15PM_18PM    0.018067\n",
       "14    ratio_mins_received_vf_pospago_6AM_14PM    0.017272\n",
       "24  received_vf_calls_ratio_pospago_15PM_18PM    0.017032\n",
       "65                       emited_calls_2AM_5AM    0.016851\n",
       "5                       emited_calls_6AM_14PM    0.015500\n",
       "50                   n_mins_received_19PM_1AM    0.015351\n",
       "75                      n_mins_called_2AM_5AM    0.012938\n",
       "35                    n_mins_called_15PM_18PM    0.012051\n",
       "15                     n_mins_called_6AM_14PM    0.011161\n",
       "34   ratio_mins_received_vf_pospago_15PM_18PM    0.010028\n",
       "30                  n_mins_received_15PM_18PM    0.008814\n",
       "13        n_mins_received_vf_pospago_6AM_14PM    0.008724\n",
       "10                   n_mins_received_6AM_14PM    0.007318\n",
       "1          received_vf_calls_prepago_6AM_14PM    0.006150\n",
       "2    received_vf_calls_ratio_prepago_6AM_14PM    0.004846\n",
       "41         received_vf_calls_prepago_19PM_1AM    0.004737\n",
       "60                     received_calls_2AM_5AM    0.004520\n",
       "..                                        ...         ...\n",
       "76           n_mins_called_vf_prepago_2AM_5AM    0.001793\n",
       "32   ratio_mins_received_vf_prepago_15PM_18PM    0.001700\n",
       "31       n_mins_received_vf_prepago_15PM_18PM    0.001658\n",
       "73         n_mins_received_vf_pospago_2AM_5AM    0.001633\n",
       "17      ratio_mins_called_vf_prepago_6AM_14PM    0.001607\n",
       "39     ratio_mins_called_vf_pospago_15PM_18PM    0.001559\n",
       "59      ratio_mins_called_vf_pospago_19PM_1AM    0.001507\n",
       "9      emited_vf_calls_ratio_pospago_6AM_14PM    0.001430\n",
       "67      emited_vf_calls_ratio_prepago_2AM_5AM    0.001366\n",
       "56          n_mins_called_vf_prepago_19PM_1AM    0.001211\n",
       "62    received_vf_calls_ratio_prepago_2AM_5AM    0.001174\n",
       "69      emited_vf_calls_ratio_pospago_2AM_5AM    0.001079\n",
       "79       ratio_mins_called_vf_pospago_2AM_5AM    0.001073\n",
       "46           emited_vf_calls_prepago_19PM_1AM    0.001064\n",
       "68            emited_vf_calls_pospago_2AM_5AM    0.001022\n",
       "36         n_mins_called_vf_prepago_15PM_18PM    0.000985\n",
       "7      emited_vf_calls_ratio_prepago_6AM_14PM    0.000826\n",
       "66            emited_vf_calls_prepago_2AM_5AM    0.000529\n",
       "22  received_vf_calls_ratio_prepago_15PM_18PM    0.000494\n",
       "58          n_mins_called_vf_pospago_19PM_1AM    0.000470\n",
       "18          n_mins_called_vf_pospago_6AM_14PM    0.000466\n",
       "27    emited_vf_calls_ratio_prepago_15PM_18PM    0.000439\n",
       "72     ratio_mins_received_vf_prepago_2AM_5AM    0.000366\n",
       "6            emited_vf_calls_prepago_6AM_14PM    0.000349\n",
       "47     emited_vf_calls_ratio_prepago_19PM_1AM    0.000330\n",
       "37     ratio_mins_called_vf_prepago_15PM_18PM    0.000202\n",
       "26          emited_vf_calls_prepago_15PM_18PM    0.000194\n",
       "19      ratio_mins_called_vf_pospago_6AM_14PM    0.000107\n",
       "57      ratio_mins_called_vf_prepago_19PM_1AM    0.000106\n",
       "77       ratio_mins_called_vf_prepago_2AM_5AM    0.000019\n",
       "\n",
       "[80 rows x 2 columns]"
      ]
     },
     "execution_count": 20,
     "metadata": {},
     "output_type": "execute_result"
    }
   ],
   "source": [
    "feature_importance = pd.DataFrame({\"feature\": feature_columns,\n",
    "                                   \"importance\": best_model.stages[-1].featureImportances}\n",
    "                                 ).sort_values(by=\"importance\", ascending=False)\n",
    "\n",
    "feature_importance"
   ]
  },
  {
   "cell_type": "code",
   "execution_count": 21,
   "metadata": {
    "collapsed": false
   },
   "outputs": [
    {
     "data": {
      "text/plain": [
       "<matplotlib.axes._subplots.AxesSubplot at 0x7fbbcf2ba9d0>"
      ]
     },
     "execution_count": 21,
     "metadata": {},
     "output_type": "execute_result"
    },
    {
     "data": {
      "image/png": "[encoded data removed]",
      "text/plain": [
       "<matplotlib.figure.Figure at 0x7fbbd0d29750>"
      ]
     },
     "metadata": {},
     "output_type": "display_data"
    }
   ],
   "source": [
    "(feature_importance[:20]\n",
    " .sort_values(by=\"importance\", ascending=True)\n",
    " .plot(kind=\"barh\", x=\"feature\", y=\"importance\", figsize=(12,32))\n",
    " )"
   ]
  },
  {
   "cell_type": "code",
   "execution_count": null,
   "metadata": {
    "collapsed": true
   },
   "outputs": [],
   "source": []
  }
 ],
 "metadata": {
  "kernelspec": {
   "display_name": "Python 2",
   "language": "python",
   "name": "python2"
  },
  "language_info": {
   "codemirror_mode": {
    "name": "ipython",
    "version": 2
   },
   "file_extension": ".py",
   "mimetype": "text/x-python",
   "name": "python",
   "nbconvert_exporter": "python",
   "pygments_lexer": "ipython2",
   "version": "2.7.11"
  }
 },
 "nbformat": 4,
 "nbformat_minor": 2
}
