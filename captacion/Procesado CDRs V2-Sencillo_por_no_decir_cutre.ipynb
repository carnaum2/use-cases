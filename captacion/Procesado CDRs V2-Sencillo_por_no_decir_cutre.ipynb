{
 "cells": [
  {
   "cell_type": "code",
   "execution_count": 1,
   "metadata": {
    "collapsed": true
   },
   "outputs": [],
   "source": [
    "import pandas as pd\n",
    "pd.set_option(\"display.max_columns\", 512)"
   ]
  },
  {
   "cell_type": "code",
   "execution_count": 2,
   "metadata": {
    "collapsed": true
   },
   "outputs": [],
   "source": [
    "from pyspark import StorageLevel\n",
    "from pyspark.sql.functions import col, when, concat, year, month, lpad, lit, udf, hour, concat_ws, unix_timestamp\n",
    "from pyspark.sql.types import LongType, StringType, DoubleType, TimestampType, BooleanType"
   ]
  },
  {
   "cell_type": "code",
   "execution_count": 3,
   "metadata": {
    "collapsed": true
   },
   "outputs": [],
   "source": [
    "import graphframes"
   ]
  },
  {
   "cell_type": "code",
   "execution_count": 4,
   "metadata": {
    "collapsed": false
   },
   "outputs": [],
   "source": [
    "spark.sparkContext.setCheckpointDir(\"hdfs:///user/rbuendi1/spark_checkpoints\")"
   ]
  },
  {
   "cell_type": "code",
   "execution_count": 6,
   "metadata": {
    "collapsed": true
   },
   "outputs": [],
   "source": [
    "# Just for CDR Data. YOU HAVE TO CHANGE THIS TO GET FEATURES FOR PREDICTION (with the prediction notebook) afterwards.\n",
    "# For example: to create list for launching campaign in december 2017, you need to\n",
    "# put here october 2017:\n",
    "year = 2018\n",
    "month = 1\n",
    "\n",
    "# It turns out that these notebook is used both for preparing data for training and prediction.\n",
    "# but due to possible deanonimization issues, we will transform the phone number when used\n",
    "# for training. So, I create here a variable called dataset_for_training, and should be\n",
    "# switched to True if you are going to prepare a dataset for training. Otherwise, False \n",
    "dataset_for_training = False"
   ]
  },
  {
   "cell_type": "markdown",
   "metadata": {},
   "source": [
    "## Listados de teléfonos que ya son clientes de vodafone (tanto prepago como pospago)"
   ]
  },
  {
   "cell_type": "code",
   "execution_count": 7,
   "metadata": {
    "collapsed": true
   },
   "outputs": [],
   "source": [
    "acFinalPrepago = (spark.read.table(\"raw_es.vf_pre_ac_final\")\n",
    "                  .where(col(\"year\") == year)\n",
    "                  .where(col(\"month\") == month)\n",
    "                  )"
   ]
  },
  {
   "cell_type": "code",
   "execution_count": 8,
   "metadata": {
    "collapsed": true
   },
   "outputs": [],
   "source": [
    "acFinalPospago = (spark.read.table(\"raw_es.vf_pos_ac_final\")\n",
    "                  .where(col(\"year\") == year)\n",
    "                  .where(col(\"month\") == month)\n",
    "                 )"
   ]
  },
  {
   "cell_type": "code",
   "execution_count": 9,
   "metadata": {
    "collapsed": true
   },
   "outputs": [],
   "source": [
    "assert acFinalPrepago.count() > 1000 # Si falla, es que la Prepago no está cargada aún para ese mes\n",
    "assert acFinalPospago.count() > 1000 # Si falla, es que la Pospago no está cargada aún para ese mes"
   ]
  },
  {
   "cell_type": "code",
   "execution_count": 10,
   "metadata": {
    "collapsed": true
   },
   "outputs": [],
   "source": [
    "lookup_cliente = (acFinalPrepago\n",
    "                  .dropDuplicates(subset=[\"msisdn\"])\n",
    "                  .withColumn(\"es_vodafone\", lit(\"prepago\"))\n",
    "                  .select(\"msisdn\", \"es_vodafone\")\n",
    "                  .union(acFinalPospago\n",
    "                         .dropDuplicates(subset=[\"x_id_red\"])\n",
    "                         .withColumn(\"es_vodafone\", lit(\"pospago\"))\n",
    "                         .select(col(\"x_id_red\").alias(\"msisdn\"), col(\"es_vodafone\"))\n",
    "                        )\n",
    "                 )"
   ]
  },
  {
   "cell_type": "markdown",
   "metadata": {},
   "source": [
    "# CDRs"
   ]
  },
  {
   "cell_type": "code",
   "execution_count": 11,
   "metadata": {
    "collapsed": true
   },
   "outputs": [],
   "source": [
    "def remove_trailing_zeros_and_34(number):\n",
    "    if number.startswith(\"0\"):\n",
    "        return remove_trailing_zeros_and_34(number[1:])\n",
    "    elif number.startswith(\"33\"): # Indeed, 33. I think that it is due to deanonimization. We take out the 33 here.\n",
    "        return remove_trailing_zeros_and_34(number[2:])\n",
    "    else:\n",
    "        return number\n",
    "    \n",
    "clean_number_udf = udf(remove_trailing_zeros_and_34, StringType())"
   ]
  },
  {
   "cell_type": "code",
   "execution_count": 12,
   "metadata": {
    "collapsed": false
   },
   "outputs": [],
   "source": [
    "cdrs_raw = (spark.read.table(\"raw_es.mediated_cdr_navajo\")\n",
    "            .where(col(\"year\") == year)\n",
    "            .where(col(\"month\") == month)\n",
    "            .na.drop(subset=[\"nrprima\", \"nrsecun\"])\n",
    "            )\n",
    "\n",
    "if dataset_for_training:\n",
    "    cdrs_full = (spark.read.table(\"raw_es.mediated_cdr_navajo\")\n",
    "                .where(col(\"year\") == year)\n",
    "                .where(col(\"month\") == month)\n",
    "                .na.drop(subset=[\"nrprima\", \"nrsecun\"])\n",
    "                .withColumn(\"numeroorigen\", clean_number_udf(col(\"nrprima\")))\n",
    "                .withColumn(\"numerodestino\", clean_number_udf(col(\"nrsecun\")))\n",
    "                .withColumn(\"dateofcall\", unix_timestamp(concat_ws(\" \", col(\"dtinilla\"), col(\"hrinilla\")),\n",
    "                                                         format=\"yyyyMMdd HHmmss\").cast(TimestampType()))\n",
    "                .withColumnRenamed(\"tmdurlla\", \"airduration\")\n",
    "                .select(\"numeroorigen\", \n",
    "                         \"numerodestino\", \n",
    "                         \"dateofcall\", \n",
    "                         \"airduration\"\n",
    "                        )\n",
    "                .repartition(cdrs_raw.count() // 3000000)\n",
    "                .dropDuplicates(subset=[\"numeroorigen\", \"numerodestino\", \"dateofcall\"])\n",
    "                #.limit(50000) # Remove!\n",
    "                ).checkpoint(eager=False)\n",
    "    \n",
    "else:\n",
    "    cdrs_full = (spark.read.table(\"raw_es.mediated_cdr_navajo\")\n",
    "                .where(col(\"year\") == year)\n",
    "                .where(col(\"month\") == month)\n",
    "                .na.drop(subset=[\"nrprima\", \"nrsecun\"])\n",
    "                .withColumn(\"numeroorigen\", col(\"nrprima\"))\n",
    "                .withColumn(\"numerodestino\", col(\"nrsecun\"))\n",
    "                .withColumn(\"dateofcall\", unix_timestamp(concat_ws(\" \", col(\"dtinilla\"), col(\"hrinilla\")),\n",
    "                                                         format=\"yyyyMMdd HHmmss\").cast(TimestampType()))\n",
    "                .withColumnRenamed(\"tmdurlla\", \"airduration\")\n",
    "                .select(\"numeroorigen\", \n",
    "                         \"numerodestino\", \n",
    "                         \"dateofcall\", \n",
    "                         \"airduration\"\n",
    "                        )\n",
    "                .repartition(cdrs_raw.count() // 3000000)\n",
    "                .dropDuplicates(subset=[\"numeroorigen\", \"numerodestino\", \"dateofcall\"])\n",
    "                #.limit(50000) # Remove!\n",
    "                ).checkpoint(eager=False)"
   ]
  },
  {
   "cell_type": "code",
   "execution_count": 13,
   "metadata": {
    "collapsed": false
   },
   "outputs": [
    {
     "name": "stdout",
     "output_type": "stream",
     "text": [
      "root\n",
      " |-- NETWORKTYPE: string (nullable = true)\n",
      " |-- TPCDR: string (nullable = true)\n",
      " |-- TPITINERANCIA: string (nullable = true)\n",
      " |-- PORTPRIMA: string (nullable = true)\n",
      " |-- OPERPRIMA: string (nullable = true)\n",
      " |-- NRPRIMA: string (nullable = true)\n",
      " |-- DTINILLA: string (nullable = true)\n",
      " |-- HRINILLA: string (nullable = true)\n",
      " |-- NRIMSI: string (nullable = true)\n",
      " |-- PORTSECUN: string (nullable = true)\n",
      " |-- OPERSECUN: string (nullable = true)\n",
      " |-- NRSECUN: string (nullable = true)\n",
      " |-- NRVOLUM: long (nullable = true)\n",
      " |-- CDTEXTO: string (nullable = true)\n",
      " |-- CDIMAGEN: string (nullable = true)\n",
      " |-- CDAUDIO: string (nullable = true)\n",
      " |-- CDVIDEO: string (nullable = true)\n",
      " |-- CDTGROUP: string (nullable = true)\n",
      " |-- CDSENLLA: string (nullable = true)\n",
      " |-- CDCNTRAL: string (nullable = true)\n",
      " |-- TMDURLLA: long (nullable = true)\n",
      " |-- ROAM_SERVICE_CODE: string (nullable = true)\n",
      " |-- TPROAMSERV: string (nullable = true)\n",
      " |-- FILLER: string (nullable = true)\n",
      " |-- CDAPLICA: string (nullable = true)\n",
      " |-- RUTA: string (nullable = true)\n",
      " |-- CHARGEINT: string (nullable = true)\n",
      " |-- CHARGEDEC: string (nullable = true)\n",
      " |-- CURRENCYCODE: string (nullable = true)\n",
      " |-- UTC: string (nullable = true)\n",
      " |-- NRVOLUMUP: long (nullable = true)\n",
      " |-- NRVOLUMDOWN: long (nullable = true)\n",
      " |-- INTERNALCAUSE: integer (nullable = true)\n",
      " |-- IMEI: string (nullable = true)\n",
      " |-- CellID: string (nullable = true)\n",
      " |-- NRNPRIMARIO: string (nullable = true)\n",
      " |-- NRNSECUNDARIO: string (nullable = true)\n",
      " |-- service_processed_at: timestamp (nullable = true)\n",
      " |-- service_file_id: string (nullable = true)\n",
      " |-- year: integer (nullable = true)\n",
      " |-- month: integer (nullable = true)\n",
      " |-- day: integer (nullable = true)\n",
      "\n"
     ]
    }
   ],
   "source": [
    "cdrs_raw.printSchema()"
   ]
  },
  {
   "cell_type": "code",
   "execution_count": 14,
   "metadata": {
    "collapsed": true
   },
   "outputs": [],
   "source": [
    "too_many_numeroorigen_calls = (cdrs_full.groupBy(\"numeroorigen\")\n",
    "                               .count()\n",
    "                               .where(col(\"count\") <= 10000)\n",
    "                              )\n",
    "\n",
    "too_many_numerodestino_calls = (cdrs_full.groupBy(\"numerodestino\")\n",
    "                                .count()\n",
    "                                .where(col(\"count\") <= 10000)\n",
    "                                )\n",
    "\n",
    "cdrs = (cdrs_full\n",
    "        .join(too_many_numeroorigen_calls.select(\"numeroorigen\"),\n",
    "              how=\"inner\",\n",
    "              on=\"numeroorigen\")\n",
    "        .join(too_many_numerodestino_calls.select(\"numerodestino\"),\n",
    "              how=\"inner\",\n",
    "              on=\"numerodestino\")\n",
    "       )"
   ]
  },
  {
   "cell_type": "code",
   "execution_count": 15,
   "metadata": {
    "collapsed": true
   },
   "outputs": [],
   "source": [
    "origenes = (cdrs\n",
    "            .select(\"numeroorigen\")\n",
    "           )\n",
    "destinos = (cdrs\n",
    "            .select(col(\"numerodestino\"), \n",
    "                    #col(\"tolocation\"), \n",
    "                    #col(\"destino\")\n",
    "                   )\n",
    "           )\n",
    "origenes_mas_completos = (origenes\n",
    "                          .dropDuplicates(subset=[\"numeroorigen\"])\n",
    "                          #.join(destinos.dropDuplicates(subset=[\"numerodestino\"]),\n",
    "                          #      how=\"left\",\n",
    "                          #      on=origenes[\"numeroorigen\"]==destinos[\"numerodestino\"]\n",
    "                          #     )\n",
    "                          #.select(\"numeroorigen\", \"tolocation\", \"destino\")\n",
    "                         )\n",
    "\n",
    "\n",
    "vertices = (origenes_mas_completos\n",
    "            .dropDuplicates(subset=[\"numeroorigen\"])\n",
    "            .withColumnRenamed(\"numeroorigen\",\"id\")\n",
    "            .union(destinos\n",
    "                   .dropDuplicates(subset=[\"numerodestino\"])\n",
    "                   .withColumnRenamed(\"numerodestino\", \"id\")\n",
    "                  )\n",
    "            .dropDuplicates(subset=[\"id\"])\n",
    "            .na.drop(subset=[\"id\"])\n",
    "           )\n",
    "\n",
    "vertices_info_vf = (vertices.join(lookup_cliente,\n",
    "                                 how=\"left\",\n",
    "                                 on=vertices[\"id\"]==lookup_cliente[\"msisdn\"])\n",
    "                    .withColumn(\"es_vodafone\", when(~(col(\"es_vodafone\").isNull()), \n",
    "                                                    col(\"es_vodafone\"))\n",
    "                                               .otherwise(\"no\")\n",
    "                               )\n",
    "                    .select(\"id\", \n",
    "                            #\"tolocation\", \n",
    "                            #\"destino\", \n",
    "                            \"es_vodafone\")\n",
    "                   ).repartition(300).checkpoint(eager=False)\n",
    "\n",
    "edges = (cdrs\n",
    "         .select(\"numeroorigen\", \n",
    "                 \"numerodestino\", \n",
    "                 \"dateofcall\", \n",
    "                 \"airduration\"\n",
    "                )\n",
    "         .withColumnRenamed(\"numeroorigen\", \"src\")\n",
    "         .withColumnRenamed(\"numerodestino\", \"dst\")\n",
    "        ).repartition(300).checkpoint(eager=False)"
   ]
  },
  {
   "cell_type": "code",
   "execution_count": 16,
   "metadata": {
    "collapsed": false
   },
   "outputs": [
    {
     "name": "stdout",
     "output_type": "stream",
     "text": [
      "+------------+-------------+--------------------+-----------+\n",
      "|         src|          dst|          dateofcall|airduration|\n",
      "+------------+-------------+--------------------+-----------+\n",
      "|   602182818|0033642744114|2018-01-07 20:16:...|        270|\n",
      "|   628483961|  12864079273|2018-01-16 21:30:...|         40|\n",
      "|   685096485|  14607419135|2018-01-14 22:43:...|       2541|\n",
      "|   665791507|  17812277871|2018-01-10 20:49:...|          6|\n",
      "|   677570362|  18898386852|2018-01-17 22:20:...|         69|\n",
      "|201105713200| 201108858877|2018-01-27 10:02:...|         60|\n",
      "|201105024366| 201108858877|2018-01-25 16:00:...|         60|\n",
      "|212652793987| 212604388854|2018-01-25 12:17:...|         60|\n",
      "|   926303772| 212615979336|2018-01-19 09:48:...|          1|\n",
      "|   671993780| 212633688688|2018-01-06 22:58:...|         83|\n",
      "|   602744751| 212643515024|2018-01-06 20:07:...|        339|\n",
      "|   656134400| 212659622348|2018-01-14 20:55:...|        212|\n",
      "|   616587370| 212671080023|2018-01-03 13:00:...|        118|\n",
      "|   633395404| 212678664120|2018-01-23 17:34:...|        194|\n",
      "|   642306578| 212697307011|2018-01-11 16:53:...|        115|\n",
      "|   657386670| 213647111879|2018-01-31 11:33:...|         36|\n",
      "|   611012841| 213786380482|2018-01-20 15:14:...|          1|\n",
      "|   697647544|  22322870165|2018-01-28 21:56:...|          3|\n",
      "|   614434276|2347057846892|2018-01-04 10:38:...|         17|\n",
      "|306920140438| 306989616556|2018-01-07 13:43:...|          1|\n",
      "+------------+-------------+--------------------+-----------+\n",
      "only showing top 20 rows\n",
      "\n"
     ]
    }
   ],
   "source": [
    "edges.show()"
   ]
  },
  {
   "cell_type": "code",
   "execution_count": 17,
   "metadata": {
    "collapsed": false
   },
   "outputs": [],
   "source": [
    "grafo_completo = (graphframes.GraphFrame(vertices_info_vf,\n",
    "                                         edges\n",
    "                                        )\n",
    "                 )"
   ]
  },
  {
   "cell_type": "code",
   "execution_count": 18,
   "metadata": {
    "collapsed": true
   },
   "outputs": [],
   "source": [
    "hours = [(\"6AM_14PM\", (6,14)),\n",
    "         (\"15PM_18PM\",(15,18)),\n",
    "         (\"19PM_1AM\", [(19,23),(0,1)]),\n",
    "         (\"2AM_5AM\",  (2,5))]\n",
    "\n",
    "\n",
    "in_out_dfs = []\n",
    "\n",
    "for literal, time_slot in hours:\n",
    "    try:\n",
    "        edges_filtered_by_hour = (grafo_completo\n",
    "                                  .edges\n",
    "                                  .filter((hour(col(\"dateofcall\")).between(time_slot[0][0], \n",
    "                                                                           time_slot[0][1]))\n",
    "                                         | (hour(col(\"dateofcall\")).between(time_slot[1][0], \n",
    "                                                                            time_slot[1][1]))\n",
    "                                         )\n",
    "                                  )\n",
    "    except TypeError:\n",
    "        edges_filtered_by_hour = (grafo_completo\n",
    "                                  .edges\n",
    "                                  .filter(hour(col(\"dateofcall\")).between(time_slot[0], \n",
    "                                                                          time_slot[1]))\n",
    "                                  )\n",
    "        \n",
    "    grafo_completo_filtered_by_hour = (graphframes.GraphFrame(grafo_completo.vertices,\n",
    "                                                              edges_filtered_by_hour)\n",
    "                                       .persist(StorageLevel.DISK_ONLY)\n",
    "                                      )\n",
    "    \n",
    "    ##\n",
    "    ## General graph statistics\n",
    "    ##\n",
    "    full_indegrees = (grafo_completo_filtered_by_hour\n",
    "                     .inDegrees\n",
    "                     .withColumnRenamed(\"inDegree\",\"received_calls_\"+literal)\n",
    "                     .persist(StorageLevel.DISK_ONLY)\n",
    "                     )\n",
    "    \n",
    "    full_outdegrees = (grafo_completo_filtered_by_hour\n",
    "                       .outDegrees\n",
    "                       .withColumnRenamed(\"outDegree\",\"emited_calls_\"+literal)\n",
    "                       .persist(StorageLevel.DISK_ONLY)\n",
    "                      )\n",
    "    \n",
    "    number_mins_rcv_calls = (grafo_completo_filtered_by_hour\n",
    "                             .edges\n",
    "                             .groupBy(\"dst\").sum(\"airduration\")\n",
    "                             .withColumnRenamed(\"sum(airduration)\", \"n_mins_received_\"+literal)\n",
    "                             .withColumn(\"n_mins_received_\"+literal, \n",
    "                                         col(\"n_mins_received_\"+literal).cast(DoubleType()))\n",
    "                            )\n",
    "    \n",
    "    number_mins_src_calls = (grafo_completo_filtered_by_hour\n",
    "                             .edges\n",
    "                             .groupBy(\"src\").sum(\"airduration\")\n",
    "                             .withColumnRenamed(\"sum(airduration)\", \"n_mins_called_\"+literal)\n",
    "                             .withColumn(\"n_mins_called_\"+literal, \n",
    "                                         col(\"n_mins_called_\"+literal).cast(DoubleType())\n",
    "                                        )\n",
    "                            )\n",
    "    \n",
    "    ##\n",
    "    ## VF-specific statistics\n",
    "    ##   \n",
    "    vodafone_types = [\"prepago\", \"pospago\"]\n",
    "    \n",
    "    vodafone_types_dfs = {\"vf_received_call_ratio\": [],\n",
    "                          \"vf_emited_call_ratio\": [],\n",
    "                          \"ratio_mins_rcv_calls_vf\": [],\n",
    "                          \"ratio_mins_src_calls_vf\": []}\n",
    "    \n",
    "    for vf_type in vodafone_types:\n",
    "        filtered_edges_entrada = (grafo_completo_filtered_by_hour\n",
    "                                  .find(\"(a)-[e]->(b)\")\n",
    "                                  .filter(\"a.es_vodafone == '\" + vf_type + \"'\")\n",
    "                                  .select(\"e.src\", \"e.dst\", \"e.dateofcall\", \"e.airduration\")\n",
    "                                 )\n",
    "\n",
    "        calls_from_vodafone = (graphframes.GraphFrame(grafo_completo.vertices, \n",
    "                                                      filtered_edges_entrada)\n",
    "                              )\n",
    "    \n",
    "    \n",
    "        vf_indegrees = (calls_from_vodafone\n",
    "                        .inDegrees\n",
    "                        .withColumnRenamed(\"inDegree\", \"received_vf_calls_\"+vf_type+\"_\"+literal)\n",
    "                       )\n",
    "\n",
    "        vf_received_call_ratio = (full_indegrees.join(vf_indegrees,\n",
    "                                                      how=\"left\",\n",
    "                                                      on=\"id\")\n",
    "                                 .withColumn(\"received_calls_\"+literal, col(\"received_calls_\"+literal).cast(DoubleType()))\n",
    "                                 .withColumn(\"received_vf_calls_\"+vf_type+\"_\"+literal, col(\"received_vf_calls_\"+vf_type+\"_\"+literal).cast(DoubleType()))\n",
    "                                 .withColumn(\"received_vf_calls_ratio_\"+vf_type+\"_\"+literal, \n",
    "                                             col(\"received_vf_calls_\"+vf_type+\"_\"+literal)\n",
    "                                             / col(\"received_calls_\"+literal)\n",
    "                                            )\n",
    "                                 .drop(\"received_calls_\"+literal)\n",
    "                                 .na.fill(0.0)\n",
    "                                 )\n",
    "    \n",
    "    ##\n",
    "        filtered_edges_salida = (grafo_completo_filtered_by_hour\n",
    "                                 .find(\"(a)-[e]->(b)\")\n",
    "                                 .filter(\"b.es_vodafone == '\" + vf_type + \"'\")\n",
    "                                 .select(\"e.src\", \"e.dst\", \"e.dateofcall\", \"e.airduration\")\n",
    "                                )\n",
    "    \n",
    "        calls_to_vodafone = graphframes.GraphFrame(grafo_completo.vertices, \n",
    "                                                   filtered_edges_salida)\n",
    "    \n",
    "    \n",
    "        vf_outdegrees = (calls_to_vodafone\n",
    "                         .outDegrees\n",
    "                         .withColumnRenamed(\"outDegree\", \"emited_vf_calls_\"+vf_type+\"_\"+literal)\n",
    "                        )\n",
    "    \n",
    "        vf_emited_call_ratio  = (full_outdegrees.join(vf_outdegrees,\n",
    "                                                       how=\"left\",\n",
    "                                                       on=\"id\")\n",
    "                                 .withColumn(\"emited_calls_\"+literal, col(\"emited_calls_\"+literal).cast(DoubleType()))\n",
    "                                 .withColumn(\"emited_vf_calls_\"+vf_type+\"_\"+literal, col(\"emited_vf_calls_\"+vf_type+\"_\"+literal).cast(DoubleType()))\n",
    "                                 .withColumn(\"emited_vf_calls_ratio_\"+vf_type+\"_\"+literal, \n",
    "                                             col(\"emited_vf_calls_\"+vf_type+\"_\"+literal)\n",
    "                                             / col(\"emited_calls_\"+literal)\n",
    "                                            )\n",
    "                                 .drop(\"emited_calls_\"+literal)\n",
    "                                 .na.fill(0.0)\n",
    "                                 )\n",
    "    \n",
    "    ##\n",
    "    \n",
    "        number_mins_rcv_calls_vf = (filtered_edges_entrada\n",
    "                                    .groupBy(\"dst\")\n",
    "                                    .sum(\"airduration\")\n",
    "                                    .withColumnRenamed(\"sum(airduration)\", \"n_mins_received_vf_\"+vf_type+\"_\"+literal)\n",
    "                                    .withColumn(\"n_mins_received_vf_\"+vf_type+\"_\"+literal,\n",
    "                                                col(\"n_mins_received_vf_\"+vf_type+\"_\"+literal).cast(DoubleType()))\n",
    "                                   )\n",
    "\n",
    "        ratio_mins_rcv_calls_vf = (number_mins_rcv_calls\n",
    "                                   .join(number_mins_rcv_calls_vf,\n",
    "                                         how=\"left\",\n",
    "                                         on=\"dst\")\n",
    "                                   .withColumn(\"ratio_mins_received_vf_\"+vf_type+\"_\"+literal, \n",
    "                                               col(\"n_mins_received_vf_\"+vf_type+\"_\"+literal)\n",
    "                                               / col(\"n_mins_received_\"+literal)\n",
    "                                              )\n",
    "                                   .drop(\"n_mins_received_\"+literal)\n",
    "                                   .na.fill(0.0)\n",
    "                                  )\n",
    "    \n",
    "    ##\n",
    "    \n",
    "        number_mins_src_calls_vf = (filtered_edges_salida\n",
    "                                    .groupBy(\"src\")\n",
    "                                    .sum(\"airduration\")\n",
    "                                    .withColumnRenamed(\"sum(airduration)\", \"n_mins_called_vf_\"+vf_type+\"_\"+literal)\n",
    "                                    .withColumn(\"n_mins_called_vf_\"+vf_type+\"_\"+literal,\n",
    "                                                col(\"n_mins_called_vf_\"+vf_type+\"_\"+literal).cast(DoubleType())\n",
    "                                               )\n",
    "                                   )\n",
    "\n",
    "        ratio_mins_src_calls_vf = (number_mins_src_calls\n",
    "                                   .join(number_mins_src_calls_vf,\n",
    "                                         how=\"left\",\n",
    "                                         on=\"src\")\n",
    "                                   .withColumn(\"ratio_mins_called_vf_\"+vf_type+\"_\"+literal, \n",
    "                                               col(\"n_mins_called_vf_\"+vf_type+\"_\"+literal)\n",
    "                                               / col(\"n_mins_called_\"+literal)\n",
    "                                              )\n",
    "                                   .drop(\"n_mins_called_\"+literal)\n",
    "                                   .na.fill(0.0)\n",
    "                                  )\n",
    "        \n",
    "        # Final appends\n",
    "        vodafone_types_dfs[\"vf_received_call_ratio\"].append(vf_received_call_ratio)\n",
    "        vodafone_types_dfs[\"vf_emited_call_ratio\"].append(vf_emited_call_ratio)\n",
    "        vodafone_types_dfs[\"ratio_mins_rcv_calls_vf\"].append(ratio_mins_rcv_calls_vf)\n",
    "        vodafone_types_dfs[\"ratio_mins_src_calls_vf\"].append(ratio_mins_src_calls_vf)\n",
    "    \n",
    "    \n",
    "    # JOINS\n",
    "    full_vf_received_call_ratio = full_indegrees.join(vodafone_types_dfs[\"vf_received_call_ratio\"][0],\n",
    "                                                      how=\"left\",\n",
    "                                                      on=\"id\")\n",
    "    \n",
    "    for df in vodafone_types_dfs[\"vf_received_call_ratio\"][1:]:\n",
    "        full_vf_received_call_ratio = (full_vf_received_call_ratio\n",
    "                                       .join(df,\n",
    "                                             how=\"left\",\n",
    "                                             on=\"id\")\n",
    "                                      )\n",
    "    #    \n",
    "    full_vf_emited_call_ratio = full_outdegrees.join(vodafone_types_dfs[\"vf_emited_call_ratio\"][0],\n",
    "                                                    how=\"left\",\n",
    "                                                    on=\"id\")\n",
    "    \n",
    "    for df in vodafone_types_dfs[\"vf_emited_call_ratio\"][1:]:\n",
    "        full_vf_emited_call_ratio = (full_vf_emited_call_ratio\n",
    "                                       .join(df,\n",
    "                                             how=\"left\",\n",
    "                                             on=\"id\")\n",
    "                                      )\n",
    "    #   \n",
    "    full_ratio_mins_rcv_calls_vf = number_mins_rcv_calls.join(vodafone_types_dfs[\"ratio_mins_rcv_calls_vf\"][0],\n",
    "                                                              how=\"left\",\n",
    "                                                              on=\"dst\")\n",
    "    for df in vodafone_types_dfs[\"ratio_mins_rcv_calls_vf\"][1:]:\n",
    "        full_ratio_mins_rcv_calls_vf = (full_ratio_mins_rcv_calls_vf\n",
    "                                       .join(df,\n",
    "                                             how=\"left\",\n",
    "                                             on=\"dst\")\n",
    "                                      )\n",
    "        \n",
    "    full_ratio_mins_rcv_calls_vf = full_ratio_mins_rcv_calls_vf.withColumnRenamed(\"dst\",\"id\")\n",
    "    \n",
    "    #\n",
    "    full_ratio_mins_src_calls_vf = number_mins_src_calls.join(vodafone_types_dfs[\"ratio_mins_src_calls_vf\"][0],\n",
    "                                                              how=\"left\",\n",
    "                                                              on=\"src\")\n",
    "    for df in vodafone_types_dfs[\"ratio_mins_src_calls_vf\"][1:]:\n",
    "        full_ratio_mins_src_calls_vf = (full_ratio_mins_src_calls_vf\n",
    "                                       .join(df,\n",
    "                                             how=\"left\",\n",
    "                                             on=\"src\")\n",
    "                                      )\n",
    "        \n",
    "    full_ratio_mins_src_calls_vf = full_ratio_mins_src_calls_vf.withColumnRenamed(\"src\",\"id\")\n",
    "        \n",
    "    \n",
    "    ## JOINS\n",
    "    in_out_features = (grafo_completo\n",
    "                       .vertices\n",
    "                       .select(\"id\")\n",
    "                       .join(full_vf_received_call_ratio,\n",
    "                             how=\"left\",\n",
    "                             on=\"id\")\n",
    "                       .join(full_vf_emited_call_ratio,\n",
    "                             how=\"left\",\n",
    "                             on=\"id\")\n",
    "                       .join(full_ratio_mins_rcv_calls_vf,\n",
    "                             how=\"left\",\n",
    "                             on=\"id\")\n",
    "                       .join(full_ratio_mins_src_calls_vf,\n",
    "                             how=\"left\",\n",
    "                             on=\"id\")\n",
    "                      )\n",
    "    \n",
    "    in_out_dfs.append((literal, in_out_features))"
   ]
  },
  {
   "cell_type": "code",
   "execution_count": 19,
   "metadata": {
    "collapsed": true
   },
   "outputs": [],
   "source": [
    "in_out_df = in_out_dfs[0][1]\n",
    "\n",
    "for literal, df in in_out_dfs[1:]:\n",
    "    in_out_df = (in_out_df\n",
    "                 .join(df,\n",
    "                       how=\"outer\",\n",
    "                       on=\"id\")\n",
    "                 .na.fill(0.0)\n",
    "                )\n",
    "    \n",
    "in_out_df_cached = in_out_df.checkpoint(eager=False)"
   ]
  },
  {
   "cell_type": "code",
   "execution_count": 20,
   "metadata": {
    "collapsed": false
   },
   "outputs": [
    {
     "data": {
      "text/plain": [
       "57076236"
      ]
     },
     "execution_count": 20,
     "metadata": {},
     "output_type": "execute_result"
    }
   ],
   "source": [
    "in_out_df_cached.count()"
   ]
  },
  {
   "cell_type": "code",
   "execution_count": 21,
   "metadata": {
    "collapsed": false
   },
   "outputs": [],
   "source": [
    "spark.conf.set(\"spark.sql.shuffle.partitions\", 4100)"
   ]
  },
  {
   "cell_type": "code",
   "execution_count": 22,
   "metadata": {
    "collapsed": true
   },
   "outputs": [],
   "source": [
    "training_flag_udf = udf(lambda x: True, BooleanType())\n",
    "not_training_flag_udf = udf(lambda x: False, BooleanType())\n",
    "\n",
    "if dataset_for_training:\n",
    "    feature_set = (grafo_completo\n",
    "                   .vertices\n",
    "                   .join(in_out_df_cached,\n",
    "                         how=\"left\",\n",
    "                         on=\"id\")\n",
    "                   .withColumn(\"year\", lit(str(year)).cast(LongType()))\n",
    "                   .withColumn(\"month\", lit(str(month)).cast(LongType()))\n",
    "                   .withColumn(\"for_training\", training_flag_udf(col(\"year\")))\n",
    "                  )\n",
    "else:\n",
    "    feature_set = (grafo_completo\n",
    "                   .vertices\n",
    "                   .join(in_out_df_cached,\n",
    "                         how=\"left\",\n",
    "                         on=\"id\")\n",
    "                   .withColumn(\"year\", lit(str(year)).cast(LongType()))\n",
    "                   .withColumn(\"month\", lit(str(month)).cast(LongType()))\n",
    "                   .withColumn(\"for_training\", not_training_flag_udf(col(\"year\")))\n",
    "                  )"
   ]
  },
  {
   "cell_type": "code",
   "execution_count": 23,
   "metadata": {
    "collapsed": true
   },
   "outputs": [],
   "source": [
    "(feature_set\n",
    " .write\n",
    " .format(\"parquet\")\n",
    " .mode(\"append\")\n",
    " .partitionBy(\"year\",\"month\")  \n",
    " .saveAsTable(\"tests_es.cdr_graph_features_no_communities_ads\")\n",
    " )"
   ]
  },
  {
   "cell_type": "code",
   "execution_count": 24,
   "metadata": {
    "collapsed": false
   },
   "outputs": [
    {
     "name": "stdout",
     "output_type": "stream",
     "text": [
      "Finished!\n"
     ]
    }
   ],
   "source": [
    "print(\"Finished!\")"
   ]
  },
  {
   "cell_type": "code",
   "execution_count": 26,
   "metadata": {
    "collapsed": false
   },
   "outputs": [
    {
     "data": {
      "text/plain": [
       "1"
      ]
     },
     "execution_count": 26,
     "metadata": {},
     "output_type": "execute_result"
    }
   ],
   "source": [
    "month"
   ]
  }
 ],
 "metadata": {
  "kernelspec": {
   "display_name": "Python 2",
   "language": "python",
   "name": "python2"
  },
  "language_info": {
   "codemirror_mode": {
    "name": "ipython",
    "version": 2
   },
   "file_extension": ".py",
   "mimetype": "text/x-python",
   "name": "python",
   "nbconvert_exporter": "python",
   "pygments_lexer": "ipython2",
   "version": "2.7.11"
  }
 },
 "nbformat": 4,
 "nbformat_minor": 2
}
