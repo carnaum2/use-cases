{
 "cells": [
  {
   "cell_type": "code",
   "execution_count": 1,
   "metadata": {
    "collapsed": true
   },
   "outputs": [],
   "source": [
    "import os\n",
    "import numpy as np\n",
    "import pandas as pd"
   ]
  },
  {
   "cell_type": "code",
   "execution_count": 2,
   "metadata": {
    "collapsed": true
   },
   "outputs": [],
   "source": [
    "pd.set_option(\"display.max_columns\", 300)\n",
    "PROJECT_DIR = os.path.abspath(os.path.join(\"..\",os.path.curdir))\n",
    "PROJECT_DATA_DIR = os.path.join(PROJECT_DIR,\"data\")"
   ]
  },
  {
   "cell_type": "code",
   "execution_count": 3,
   "metadata": {
    "collapsed": true
   },
   "outputs": [],
   "source": [
    "# Month of CVM input data, to predict for month + 2.\n",
    "# For example: in order to create a list for december,\n",
    "# we use CVM data from month october.\n",
    "month=\"201710\""
   ]
  },
  {
   "cell_type": "code",
   "execution_count": 4,
   "metadata": {},
   "outputs": [
    {
     "name": "stderr",
     "output_type": "stream",
     "text": [
      "/Users/jsotovi2/anaconda3/lib/python3.6/site-packages/IPython/core/interactiveshell.py:2698: DtypeWarning: Columns (23) have mixed types. Specify dtype option on import or set low_memory=False.\n",
      "  interactivity=interactivity, compiler=compiler, result=result)\n"
     ]
    }
   ],
   "source": [
    "tarificador_pre = pd.read_csv(os.path.join(PROJECT_DATA_DIR,\"input\",\"EXTR_INFO_TARIF_PRE_\" + month + \".TXT\"),\n",
    "                                   sep=\"|\",\n",
    "                                   encoding=\"ISO-8859-1\")\n",
    "\n",
    "ac_final_prepago = pd.read_csv(os.path.join(PROJECT_DATA_DIR,\"input\",\"AC_FINAL_PREPAGO_\" + month + \".TXT\"),\n",
    "                                   sep=\"|\",\n",
    "                                   encoding=\"ISO-8859-1\")"
   ]
  },
  {
   "cell_type": "code",
   "execution_count": 5,
   "metadata": {
    "collapsed": true
   },
   "outputs": [],
   "source": [
    "tarificador_pre[\"ActualVolume_MB\"] = tarificador_pre[\"ActualVolume\"] / float(1024**2)"
   ]
  },
  {
   "cell_type": "code",
   "execution_count": 6,
   "metadata": {
    "collapsed": true
   },
   "outputs": [],
   "source": [
    "join_ac_tarificador = ac_final_prepago.merge(tarificador_pre,\n",
    "                                             how=\"inner\",\n",
    "                                             on=\"MSISDN\",\n",
    "                                             suffixes=[\"_ac\",\"_tarificador\"])"
   ]
  },
  {
   "cell_type": "code",
   "execution_count": 7,
   "metadata": {
    "collapsed": true
   },
   "outputs": [],
   "source": [
    "feature_numeric_columns = [\"NUM_PREPAGO\",\n",
    "                           \"NUM_POSPAGO\",\n",
    "                           \"MIN_LLAM_ULTMES\",\n",
    "                           \"ULT3MESES_TOTAL\",\n",
    "                           \"DIASDESDEULTRECARGA\",\n",
    "                           \"NUMRECARGASULT3MESES_TOTAL\",\n",
    "                           \"COBERTURA_4G\",\n",
    "                           \"LORTAD\",\n",
    "                           \"MOU\",\n",
    "                           \"TOTAL_LLAMADAS\",\n",
    "                           \"TOTAL_SMS\",\n",
    "                           'MOU_Week',\n",
    "                           'LLAM_Week',\n",
    "                           'SMS_Week',\n",
    "                           'MOU_Weekend',\n",
    "                           'LLAM_Weekend',\n",
    "                           'SMS_Weekend',\n",
    "                           'MOU_VF',\n",
    "                           'LLAM_VF',\n",
    "                           'SMS_VF',\n",
    "                           'MOU_Fijo',\n",
    "                           'LLAM_Fijo',\n",
    "                           'SMS_Fijo',\n",
    "                           'MOU_OOM',\n",
    "                           'LLAM_OOM',\n",
    "                           'SMS_OOM',\n",
    "                           'MOU_Internacional',\n",
    "                           'LLAM_Internacional',\n",
    "                           'SMS_Internacional',\n",
    "                           #'ActualVolume',\n",
    "                           'Num_accesos',  \n",
    "                           'Num_Cambio_Planes',\n",
    "                           'LLAM_COMUNIDAD_SMART',\n",
    "                           'MOU_COMUNIDAD_SMART',\n",
    "                           'LLAM_SMS_COMUNIDAD_SMART',\n",
    "                           #'Flag_Uso_Etnica',\n",
    "                           'cuota_SMART8',\n",
    "                           'cuota_SMART12',\n",
    "                           'cuota_SMART16',\n",
    "                           'ActualVolume_MB']\n",
    "\n",
    "feature_categorical_columns = [\"Tipo_Documento_Comprador\", # Categorica\n",
    "                               'Codigo_Plan_Precios' # Categorica\n",
    "                              ]"
   ]
  },
  {
   "cell_type": "code",
   "execution_count": 8,
   "metadata": {
    "collapsed": true
   },
   "outputs": [],
   "source": [
    "ml_dataset = join_ac_tarificador[feature_numeric_columns \n",
    "                            + feature_categorical_columns\n",
    "                            ].copy()"
   ]
  },
  {
   "cell_type": "code",
   "execution_count": 9,
   "metadata": {
    "collapsed": true
   },
   "outputs": [],
   "source": [
    "for feature in feature_categorical_columns:\n",
    "    categorical_column = feature + \"_\" + ml_dataset[feature].fillna(\"MISSING\").str.lower()\n",
    "    categorical_column = pd.get_dummies(categorical_column)\n",
    "    ml_dataset[categorical_column.columns] = categorical_column\n",
    "    del ml_dataset[feature]\n",
    "    \n",
    "for feature in feature_numeric_columns:\n",
    "    ml_dataset[feature] = ml_dataset[feature].fillna(0.0).astype(np.float64)"
   ]
  },
  {
   "cell_type": "code",
   "execution_count": 10,
   "metadata": {
    "collapsed": true
   },
   "outputs": [],
   "source": [
    "# This is a patch\n",
    "ml_dataset['Codigo_Plan_Precios_ppjmi'] = 0.0"
   ]
  },
  {
   "cell_type": "code",
   "execution_count": 11,
   "metadata": {
    "collapsed": true
   },
   "outputs": [],
   "source": [
    "feature_columns = [feature for feature in ml_dataset.columns]"
   ]
  },
  {
   "cell_type": "code",
   "execution_count": 12,
   "metadata": {},
   "outputs": [
    {
     "name": "stderr",
     "output_type": "stream",
     "text": [
      "/Users/jsotovi2/anaconda3/lib/python3.6/site-packages/sklearn/base.py:312: UserWarning: Trying to unpickle estimator DecisionTreeClassifier from version 0.18.1 when using version 0.19.0. This might lead to breaking code or invalid results. Use at your own risk.\n",
      "  UserWarning)\n",
      "/Users/jsotovi2/anaconda3/lib/python3.6/site-packages/sklearn/base.py:312: UserWarning: Trying to unpickle estimator RandomForestClassifier from version 0.18.1 when using version 0.19.0. This might lead to breaking code or invalid results. Use at your own risk.\n",
      "  UserWarning)\n"
     ]
    }
   ],
   "source": [
    "import pickle\n",
    "with open(os.path.join(PROJECT_DIR, \"models\", \"model_identificator_upsellers_v01.pkl\"), \"rb\") as file_:\n",
    "    model = pickle.load(file_)"
   ]
  },
  {
   "cell_type": "code",
   "execution_count": 13,
   "metadata": {},
   "outputs": [
    {
     "data": {
      "text/plain": [
       "RandomForestClassifier(bootstrap=True, class_weight='balanced',\n",
       "            criterion='gini', max_depth=5, max_features=0.6,\n",
       "            max_leaf_nodes=None, min_impurity_decrease=None,\n",
       "            min_impurity_split=1e-07, min_samples_leaf=1,\n",
       "            min_samples_split=2, min_weight_fraction_leaf=0.0,\n",
       "            n_estimators=300, n_jobs=-1, oob_score=False,\n",
       "            random_state=None, verbose=0, warm_start=False)"
      ]
     },
     "execution_count": 13,
     "metadata": {},
     "output_type": "execute_result"
    }
   ],
   "source": [
    "model"
   ]
  },
  {
   "cell_type": "code",
   "execution_count": 15,
   "metadata": {
    "collapsed": true
   },
   "outputs": [],
   "source": [
    "join_ac_tarificador[\"prob_upsell_prepago\"] = model.predict_proba(ml_dataset[feature_columns])[:,1]"
   ]
  },
  {
   "cell_type": "code",
   "execution_count": null,
   "metadata": {
    "collapsed": true
   },
   "outputs": [],
   "source": [
    "join_ac_tarificador_sorted = (join_ac_tarificador[[\"MSISDN\",\"prob_upsell_prepago\"]]\n",
    "                              .sort_values(by=\"prob_upsell_prepago\", ascending=False)\n",
    "                             )"
   ]
  },
  {
   "cell_type": "code",
   "execution_count": 18,
   "metadata": {
    "collapsed": true
   },
   "outputs": [],
   "source": [
    "# I don't think we will need to change the threshold\n",
    "cutoff_score = 0.6\n",
    "\n",
    "join_ac_tarificador_sorted_filtered = join_ac_tarificador_sorted[join_ac_tarificador_sorted[\"prob_upsell_prepago\"] > cutoff_score].copy()"
   ]
  },
  {
   "cell_type": "code",
   "execution_count": 19,
   "metadata": {},
   "outputs": [
    {
     "data": {
      "text/plain": [
       "MSISDN                 683268\n",
       "prob_upsell_prepago    683268\n",
       "dtype: int64"
      ]
     },
     "execution_count": 19,
     "metadata": {},
     "output_type": "execute_result"
    }
   ],
   "source": [
    "join_ac_tarificador_sorted_filtered.count()"
   ]
  },
  {
   "cell_type": "code",
   "execution_count": 20,
   "metadata": {
    "collapsed": true
   },
   "outputs": [],
   "source": [
    "join_ac_tarificador_sorted_filtered['decil'] = 0.0\n",
    "\n",
    "for q in [0.0, 0.1, 0.2, 0.3, 0.4, 0.5, 0.6, 0.7, 0.8, 0.9]:\n",
    "    join_ac_tarificador_sorted_filtered.loc[join_ac_tarificador_sorted_filtered['prob_upsell_prepago'] >= join_ac_tarificador_sorted_filtered['prob_upsell_prepago'].quantile(q), 'decil'] = np.round(q, decimals=1)\n",
    "    \n",
    "join_ac_tarificador_sorted_filtered[\"decil\"] = np.round((join_ac_tarificador_sorted_filtered[\"decil\"] + 0.1) * 10.0, decimals=0).astype(np.int64)"
   ]
  },
  {
   "cell_type": "code",
   "execution_count": 21,
   "metadata": {},
   "outputs": [
    {
     "name": "stdout",
     "output_type": "stream",
     "text": [
      "Preview of the list\n"
     ]
    },
    {
     "data": {
      "text/html": [
       "<div>\n",
       "<style>\n",
       "    .dataframe thead tr:only-child th {\n",
       "        text-align: right;\n",
       "    }\n",
       "\n",
       "    .dataframe thead th {\n",
       "        text-align: left;\n",
       "    }\n",
       "\n",
       "    .dataframe tbody tr th {\n",
       "        vertical-align: top;\n",
       "    }\n",
       "</style>\n",
       "<table border=\"1\" class=\"dataframe\">\n",
       "  <thead>\n",
       "    <tr style=\"text-align: right;\">\n",
       "      <th></th>\n",
       "      <th>MSISDN</th>\n",
       "      <th>prob_upsell_prepago</th>\n",
       "      <th>decil</th>\n",
       "    </tr>\n",
       "  </thead>\n",
       "  <tbody>\n",
       "    <tr>\n",
       "      <th>2654039</th>\n",
       "      <td>697739146</td>\n",
       "      <td>0.825025</td>\n",
       "      <td>10</td>\n",
       "    </tr>\n",
       "    <tr>\n",
       "      <th>233531</th>\n",
       "      <td>667387557</td>\n",
       "      <td>0.825025</td>\n",
       "      <td>10</td>\n",
       "    </tr>\n",
       "    <tr>\n",
       "      <th>92243</th>\n",
       "      <td>677367309</td>\n",
       "      <td>0.825025</td>\n",
       "      <td>10</td>\n",
       "    </tr>\n",
       "    <tr>\n",
       "      <th>1377039</th>\n",
       "      <td>678148527</td>\n",
       "      <td>0.825025</td>\n",
       "      <td>10</td>\n",
       "    </tr>\n",
       "    <tr>\n",
       "      <th>527382</th>\n",
       "      <td>666081955</td>\n",
       "      <td>0.825025</td>\n",
       "      <td>10</td>\n",
       "    </tr>\n",
       "    <tr>\n",
       "      <th>691485</th>\n",
       "      <td>667087150</td>\n",
       "      <td>0.825025</td>\n",
       "      <td>10</td>\n",
       "    </tr>\n",
       "    <tr>\n",
       "      <th>788331</th>\n",
       "      <td>634204057</td>\n",
       "      <td>0.825025</td>\n",
       "      <td>10</td>\n",
       "    </tr>\n",
       "    <tr>\n",
       "      <th>1927750</th>\n",
       "      <td>603763804</td>\n",
       "      <td>0.825025</td>\n",
       "      <td>10</td>\n",
       "    </tr>\n",
       "    <tr>\n",
       "      <th>1041940</th>\n",
       "      <td>687103720</td>\n",
       "      <td>0.825025</td>\n",
       "      <td>10</td>\n",
       "    </tr>\n",
       "    <tr>\n",
       "      <th>346614</th>\n",
       "      <td>666075567</td>\n",
       "      <td>0.825025</td>\n",
       "      <td>10</td>\n",
       "    </tr>\n",
       "  </tbody>\n",
       "</table>\n",
       "</div>"
      ],
      "text/plain": [
       "            MSISDN  prob_upsell_prepago  decil\n",
       "2654039  697739146             0.825025     10\n",
       "233531   667387557             0.825025     10\n",
       "92243    677367309             0.825025     10\n",
       "1377039  678148527             0.825025     10\n",
       "527382   666081955             0.825025     10\n",
       "691485   667087150             0.825025     10\n",
       "788331   634204057             0.825025     10\n",
       "1927750  603763804             0.825025     10\n",
       "1041940  687103720             0.825025     10\n",
       "346614   666075567             0.825025     10"
      ]
     },
     "execution_count": 21,
     "metadata": {},
     "output_type": "execute_result"
    }
   ],
   "source": [
    "print(\"Preview of the list\")\n",
    "join_ac_tarificador_sorted_filtered[:10]"
   ]
  },
  {
   "cell_type": "code",
   "execution_count": 22,
   "metadata": {},
   "outputs": [
    {
     "name": "stdout",
     "output_type": "stream",
     "text": [
      "Written prediction list to /Users/jsotovi2/Downloads/upsell_prepago/data/output/lista_trade_up_prepago_201712.csv\n"
     ]
    }
   ],
   "source": [
    "join_ac_tarificador_sorted_filtered.to_csv(os.path.join(PROJECT_DIR,\"data\",\"output\",\"lista_trade_up_prepago_\"+str(int(month)+2)+\".csv\"),\n",
    "                                           sep=\";\",\n",
    "                                           index=False)\n",
    "\n",
    "print(\"Written prediction list to %s\" % os.path.join(PROJECT_DIR,\"data\",\"output\",\"lista_trade_up_prepago_\"+str(int(month)+2)+\".csv\"))"
   ]
  },
  {
   "cell_type": "code",
   "execution_count": null,
   "metadata": {
    "collapsed": true
   },
   "outputs": [],
   "source": []
  }
 ],
 "metadata": {
  "anaconda-cloud": {},
  "kernelspec": {
   "display_name": "Python 3",
   "language": "python",
   "name": "python3"
  },
  "language_info": {
   "codemirror_mode": {
    "name": "ipython",
    "version": 3
   },
   "file_extension": ".py",
   "mimetype": "text/x-python",
   "name": "python",
   "nbconvert_exporter": "python",
   "pygments_lexer": "ipython3",
   "version": "3.6.2"
  }
 },
 "nbformat": 4,
 "nbformat_minor": 2
}
