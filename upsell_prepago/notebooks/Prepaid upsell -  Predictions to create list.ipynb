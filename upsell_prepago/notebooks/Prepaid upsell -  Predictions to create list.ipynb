{
 "cells": [
  {
   "cell_type": "code",
   "execution_count": 1,
   "metadata": {},
   "outputs": [],
   "source": [
    "import os\n",
    "import numpy as np\n",
    "import pandas as pd"
   ]
  },
  {
   "cell_type": "code",
   "execution_count": 2,
   "metadata": {},
   "outputs": [],
   "source": [
    "pd.set_option(\"display.max_columns\", 300)\n",
    "PROJECT_DIR = os.path.abspath(os.path.join(\"..\",os.path.curdir))\n",
    "PROJECT_DATA_DIR = os.path.join(PROJECT_DIR,\"data\")"
   ]
  },
  {
   "cell_type": "code",
   "execution_count": 3,
   "metadata": {},
   "outputs": [],
   "source": [
    "# Month of CVM input data, to predict for month + 2.\n",
    "# For example: in order to create a list for december,\n",
    "# we use CVM data from month october.\n",
    "month=\"201804\""
   ]
  },
  {
   "cell_type": "code",
   "execution_count": 4,
   "metadata": {},
   "outputs": [
    {
     "name": "stderr",
     "output_type": "stream",
     "text": [
      "/usr/local/lib/python3.6/site-packages/IPython/core/interactiveshell.py:2785: DtypeWarning: Columns (23) have mixed types. Specify dtype option on import or set low_memory=False.\n",
      "  interactivity=interactivity, compiler=compiler, result=result)\n"
     ]
    }
   ],
   "source": [
    "tarificador_pre = pd.read_csv(os.path.join(PROJECT_DATA_DIR,\"input\",\"EXTR_INFO_TARIF_PRE_\" + month + \".TXT\"),\n",
    "                                   sep=\"|\",\n",
    "                                   encoding=\"ISO-8859-1\")\n",
    "\n",
    "ac_final_prepago = pd.read_csv(os.path.join(PROJECT_DATA_DIR,\"input\",\"AC_FINAL_PREPAGO_\" + month + \".TXT\"),\n",
    "                                   sep=\"|\",\n",
    "                                   encoding=\"ISO-8859-1\")"
   ]
  },
  {
   "cell_type": "code",
   "execution_count": 5,
   "metadata": {},
   "outputs": [],
   "source": [
    "tarificador_pre[\"ActualVolume_MB\"] = tarificador_pre[\"ActualVolume\"] / float(1024**2)"
   ]
  },
  {
   "cell_type": "code",
   "execution_count": 6,
   "metadata": {},
   "outputs": [],
   "source": [
    "join_ac_tarificador = ac_final_prepago.merge(tarificador_pre,\n",
    "                                             how=\"inner\",\n",
    "                                             on=\"MSISDN\",\n",
    "                                             suffixes=[\"_ac\",\"_tarificador\"])"
   ]
  },
  {
   "cell_type": "code",
   "execution_count": 7,
   "metadata": {},
   "outputs": [],
   "source": [
    "feature_numeric_columns = [\"NUM_PREPAGO\",\n",
    "                           \"NUM_POSPAGO\",\n",
    "                           \"MIN_LLAM_ULTMES\",\n",
    "                           \"ULT3MESES_TOTAL\",\n",
    "                           \"DIASDESDEULTRECARGA\",\n",
    "                           \"NUMRECARGASULT3MESES_TOTAL\",\n",
    "                           \"COBERTURA_4G\",\n",
    "                           \"LORTAD\",\n",
    "                           \"MOU\",\n",
    "                           \"TOTAL_LLAMADAS\",\n",
    "                           \"TOTAL_SMS\",\n",
    "                           'MOU_Week',\n",
    "                           'LLAM_Week',\n",
    "                           'SMS_Week',\n",
    "                           'MOU_Weekend',\n",
    "                           'LLAM_Weekend',\n",
    "                           'SMS_Weekend',\n",
    "                           'MOU_VF',\n",
    "                           'LLAM_VF',\n",
    "                           'SMS_VF',\n",
    "                           'MOU_Fijo',\n",
    "                           'LLAM_Fijo',\n",
    "                           'SMS_Fijo',\n",
    "                           'MOU_OOM',\n",
    "                           'LLAM_OOM',\n",
    "                           'SMS_OOM',\n",
    "                           'MOU_Internacional',\n",
    "                           'LLAM_Internacional',\n",
    "                           'SMS_Internacional',\n",
    "                           #'ActualVolume',\n",
    "                           'Num_accesos',  \n",
    "                           'Num_Cambio_Planes',\n",
    "                           'LLAM_COMUNIDAD_SMART',\n",
    "                           'MOU_COMUNIDAD_SMART',\n",
    "                           'LLAM_SMS_COMUNIDAD_SMART',\n",
    "                           #'Flag_Uso_Etnica',\n",
    "                           'cuota_SMART8',\n",
    "                           'cuota_SMART12',\n",
    "                           'cuota_SMART16',\n",
    "                           'ActualVolume_MB']\n",
    "\n",
    "feature_categorical_columns = [\"Tipo_Documento_Comprador\", # Categorica\n",
    "                               'Codigo_Plan_Precios' # Categorica\n",
    "                              ]"
   ]
  },
  {
   "cell_type": "code",
   "execution_count": 8,
   "metadata": {},
   "outputs": [],
   "source": [
    "ml_dataset = join_ac_tarificador[feature_numeric_columns \n",
    "                            + feature_categorical_columns\n",
    "                            ].copy()"
   ]
  },
  {
   "cell_type": "code",
   "execution_count": 9,
   "metadata": {},
   "outputs": [],
   "source": [
    "for feature in feature_categorical_columns:\n",
    "    categorical_column = feature + \"_\" + ml_dataset[feature].fillna(\"MISSING\").str.lower()\n",
    "    categorical_column = pd.get_dummies(categorical_column)\n",
    "    ml_dataset[categorical_column.columns] = categorical_column\n",
    "    del ml_dataset[feature]\n",
    "    \n",
    "for feature in feature_numeric_columns:\n",
    "    ml_dataset[feature] = ml_dataset[feature].fillna(0.0).astype(np.float64)"
   ]
  },
  {
   "cell_type": "code",
   "execution_count": 10,
   "metadata": {},
   "outputs": [],
   "source": [
    "# This is a patch\n",
    "ml_dataset['Codigo_Plan_Precios_ppjmi'] = 0.0"
   ]
  },
  {
   "cell_type": "code",
   "execution_count": 11,
   "metadata": {},
   "outputs": [],
   "source": [
    "feature_columns = [feature for feature in ml_dataset.columns]"
   ]
  },
  {
   "cell_type": "code",
   "execution_count": 13,
   "metadata": {},
   "outputs": [
    {
     "name": "stderr",
     "output_type": "stream",
     "text": [
      "/usr/local/lib/python3.6/site-packages/sklearn/base.py:311: UserWarning: Trying to unpickle estimator DecisionTreeClassifier from version 0.18.1 when using version 0.19.1. This might lead to breaking code or invalid results. Use at your own risk.\n",
      "  UserWarning)\n",
      "/usr/local/lib/python3.6/site-packages/sklearn/base.py:311: UserWarning: Trying to unpickle estimator RandomForestClassifier from version 0.18.1 when using version 0.19.1. This might lead to breaking code or invalid results. Use at your own risk.\n",
      "  UserWarning)\n"
     ]
    }
   ],
   "source": [
    "import pickle\n",
    "with open(os.path.join(PROJECT_DIR, \"models\", \"model_identificator_upsellers_v01.pkl\"), \"rb\") as file_:\n",
    "    model = pickle.load(file_)"
   ]
  },
  {
   "cell_type": "code",
   "execution_count": 20,
   "metadata": {},
   "outputs": [],
   "source": [
    "join_ac_tarificador[\"prob_upsell_prepago\"] = model.predict_proba(ml_dataset[feature_columns[:72]])[:,1]"
   ]
  },
  {
   "cell_type": "code",
   "execution_count": 21,
   "metadata": {},
   "outputs": [],
   "source": [
    "join_ac_tarificador_sorted = (join_ac_tarificador[[\"MSISDN\",\"prob_upsell_prepago\"]]\n",
    "                              .sort_values(by=\"prob_upsell_prepago\", ascending=False)\n",
    "                             )"
   ]
  },
  {
   "cell_type": "code",
   "execution_count": 22,
   "metadata": {},
   "outputs": [],
   "source": [
    "# I don't think we will need to change the threshold\n",
    "cutoff_score = 0.6\n",
    "\n",
    "join_ac_tarificador_sorted_filtered = join_ac_tarificador_sorted[join_ac_tarificador_sorted[\"prob_upsell_prepago\"] > cutoff_score].copy()"
   ]
  },
  {
   "cell_type": "code",
   "execution_count": 23,
   "metadata": {},
   "outputs": [
    {
     "data": {
      "text/plain": [
       "MSISDN                 647316\n",
       "prob_upsell_prepago    647316\n",
       "dtype: int64"
      ]
     },
     "execution_count": 23,
     "metadata": {},
     "output_type": "execute_result"
    }
   ],
   "source": [
    "join_ac_tarificador_sorted_filtered.count()"
   ]
  },
  {
   "cell_type": "code",
   "execution_count": 24,
   "metadata": {},
   "outputs": [],
   "source": [
    "join_ac_tarificador_sorted_filtered['decil'] = 0.0\n",
    "\n",
    "for q in [0.0, 0.1, 0.2, 0.3, 0.4, 0.5, 0.6, 0.7, 0.8, 0.9]:\n",
    "    join_ac_tarificador_sorted_filtered.loc[join_ac_tarificador_sorted_filtered['prob_upsell_prepago'] >= join_ac_tarificador_sorted_filtered['prob_upsell_prepago'].quantile(q), 'decil'] = np.round(q, decimals=1)\n",
    "    \n",
    "join_ac_tarificador_sorted_filtered[\"decil\"] = np.round((join_ac_tarificador_sorted_filtered[\"decil\"] + 0.1) * 10.0, decimals=0).astype(np.int64)"
   ]
  },
  {
   "cell_type": "code",
   "execution_count": 25,
   "metadata": {},
   "outputs": [
    {
     "name": "stdout",
     "output_type": "stream",
     "text": [
      "Preview of the list\n"
     ]
    },
    {
     "data": {
      "text/html": [
       "<div>\n",
       "<style scoped>\n",
       "    .dataframe tbody tr th:only-of-type {\n",
       "        vertical-align: middle;\n",
       "    }\n",
       "\n",
       "    .dataframe tbody tr th {\n",
       "        vertical-align: top;\n",
       "    }\n",
       "\n",
       "    .dataframe thead th {\n",
       "        text-align: right;\n",
       "    }\n",
       "</style>\n",
       "<table border=\"1\" class=\"dataframe\">\n",
       "  <thead>\n",
       "    <tr style=\"text-align: right;\">\n",
       "      <th></th>\n",
       "      <th>MSISDN</th>\n",
       "      <th>prob_upsell_prepago</th>\n",
       "      <th>decil</th>\n",
       "    </tr>\n",
       "  </thead>\n",
       "  <tbody>\n",
       "    <tr>\n",
       "      <th>1064209</th>\n",
       "      <td>617712307</td>\n",
       "      <td>0.823648</td>\n",
       "      <td>10</td>\n",
       "    </tr>\n",
       "    <tr>\n",
       "      <th>492736</th>\n",
       "      <td>637107020</td>\n",
       "      <td>0.823193</td>\n",
       "      <td>10</td>\n",
       "    </tr>\n",
       "    <tr>\n",
       "      <th>154612</th>\n",
       "      <td>634927978</td>\n",
       "      <td>0.822290</td>\n",
       "      <td>10</td>\n",
       "    </tr>\n",
       "    <tr>\n",
       "      <th>1834173</th>\n",
       "      <td>678233592</td>\n",
       "      <td>0.821811</td>\n",
       "      <td>10</td>\n",
       "    </tr>\n",
       "    <tr>\n",
       "      <th>465543</th>\n",
       "      <td>671628099</td>\n",
       "      <td>0.821811</td>\n",
       "      <td>10</td>\n",
       "    </tr>\n",
       "    <tr>\n",
       "      <th>1286887</th>\n",
       "      <td>711763129</td>\n",
       "      <td>0.821560</td>\n",
       "      <td>10</td>\n",
       "    </tr>\n",
       "    <tr>\n",
       "      <th>1351004</th>\n",
       "      <td>603769253</td>\n",
       "      <td>0.821208</td>\n",
       "      <td>10</td>\n",
       "    </tr>\n",
       "    <tr>\n",
       "      <th>641501</th>\n",
       "      <td>678116590</td>\n",
       "      <td>0.821077</td>\n",
       "      <td>10</td>\n",
       "    </tr>\n",
       "    <tr>\n",
       "      <th>1894626</th>\n",
       "      <td>600067843</td>\n",
       "      <td>0.821039</td>\n",
       "      <td>10</td>\n",
       "    </tr>\n",
       "    <tr>\n",
       "      <th>1826352</th>\n",
       "      <td>667354528</td>\n",
       "      <td>0.820886</td>\n",
       "      <td>10</td>\n",
       "    </tr>\n",
       "  </tbody>\n",
       "</table>\n",
       "</div>"
      ],
      "text/plain": [
       "            MSISDN  prob_upsell_prepago  decil\n",
       "1064209  617712307             0.823648     10\n",
       "492736   637107020             0.823193     10\n",
       "154612   634927978             0.822290     10\n",
       "1834173  678233592             0.821811     10\n",
       "465543   671628099             0.821811     10\n",
       "1286887  711763129             0.821560     10\n",
       "1351004  603769253             0.821208     10\n",
       "641501   678116590             0.821077     10\n",
       "1894626  600067843             0.821039     10\n",
       "1826352  667354528             0.820886     10"
      ]
     },
     "execution_count": 25,
     "metadata": {},
     "output_type": "execute_result"
    }
   ],
   "source": [
    "print(\"Preview of the list\")\n",
    "join_ac_tarificador_sorted_filtered[:10]"
   ]
  },
  {
   "cell_type": "code",
   "execution_count": 27,
   "metadata": {},
   "outputs": [
    {
     "name": "stdout",
     "output_type": "stream",
     "text": [
      "Written prediction list to /Users/adesant3/Documents/Development/src/upsell_prepago/data/output/lista_trade_up_prepago_201806.csv\n"
     ]
    }
   ],
   "source": [
    "join_ac_tarificador_sorted_filtered.to_csv(os.path.join(PROJECT_DIR,\"data\",\"output\",\"lista_trade_up_prepago_\"+str(int(month)+2)+\".csv\"),\n",
    "                                           sep=\";\",\n",
    "                                           index=False)\n",
    "\n",
    "print(\"Written prediction list to %s\" % os.path.join(PROJECT_DIR,\"data\",\"output\",\"lista_trade_up_prepago_\"+str(int(month)+2)+\".csv\"))"
   ]
  },
  {
   "cell_type": "code",
   "execution_count": null,
   "metadata": {},
   "outputs": [],
   "source": []
  }
 ],
 "metadata": {
  "anaconda-cloud": {},
  "kernelspec": {
   "display_name": "Python 3",
   "language": "python",
   "name": "python3"
  },
  "language_info": {
   "codemirror_mode": {
    "name": "ipython",
    "version": 3
   },
   "file_extension": ".py",
   "mimetype": "text/x-python",
   "name": "python",
   "nbconvert_exporter": "python",
   "pygments_lexer": "ipython3",
   "version": "3.6.5"
  }
 },
 "nbformat": 4,
 "nbformat_minor": 2
}
