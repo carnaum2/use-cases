{
 "cells": [
  {
   "cell_type": "code",
   "execution_count": 1,
   "metadata": {
    "collapsed": true
   },
   "outputs": [],
   "source": [
    "%matplotlib inline"
   ]
  },
  {
   "cell_type": "code",
   "execution_count": 2,
   "metadata": {
    "collapsed": true
   },
   "outputs": [],
   "source": [
    "import os\n",
    "import numpy as np\n",
    "import pandas as pd\n",
    "import matplotlib.pyplot as plt\n",
    "import seaborn as sns"
   ]
  },
  {
   "cell_type": "code",
   "execution_count": 3,
   "metadata": {
    "collapsed": true
   },
   "outputs": [],
   "source": [
    "plt.style.use(\"ggplot\")\n",
    "pd.set_option(\"display.max_columns\", 300)\n",
    "PROJECT_DIR = os.path.abspath(os.path.join(\"..\",os.path.curdir))\n",
    "PROJECT_DATA_DIR = os.path.join(PROJECT_DIR,\"data\")"
   ]
  },
  {
   "cell_type": "markdown",
   "metadata": {},
   "source": [
    "# Create dataset (with target variable)"
   ]
  },
  {
   "cell_type": "code",
   "execution_count": 4,
   "metadata": {
    "collapsed": true
   },
   "outputs": [],
   "source": [
    "# We just have to change which months\n",
    "# we will use to train the model.\n",
    "# Just get the two most recent months\n",
    "# for which we have available data,\n",
    "# and we are good to go.\n",
    "\n",
    "# For example: month = \"201710\"\n",
    "#          and month_next = \"201711\"\n",
    "month=\"201710\"\n",
    "month_next=\"201711\""
   ]
  },
  {
   "cell_type": "code",
   "execution_count": 5,
   "metadata": {},
   "outputs": [
    {
     "name": "stderr",
     "output_type": "stream",
     "text": [
      "/Users/jsotovi2/anaconda3/lib/python3.6/site-packages/IPython/core/interactiveshell.py:2698: DtypeWarning: Columns (23) have mixed types. Specify dtype option on import or set low_memory=False.\n",
      "  interactivity=interactivity, compiler=compiler, result=result)\n"
     ]
    }
   ],
   "source": [
    "tarificador_pre = pd.read_csv(os.path.join(PROJECT_DATA_DIR,\"input\",\"EXTR_INFO_TARIF_PRE_\" + month + \".TXT\"),\n",
    "                                   sep=\"|\",\n",
    "                                   encoding=\"ISO-8859-1\")\n",
    "\n",
    "ac_final_prepago = pd.read_csv(os.path.join(PROJECT_DATA_DIR,\"input\",\"AC_FINAL_PREPAGO_\" + month + \".TXT\"),\n",
    "                                   sep=\"|\",\n",
    "                                   encoding=\"ISO-8859-1\")"
   ]
  },
  {
   "cell_type": "code",
   "execution_count": 6,
   "metadata": {
    "collapsed": true
   },
   "outputs": [],
   "source": [
    "tarificador_pre[\"ActualVolume_MB\"] = tarificador_pre[\"ActualVolume\"] / float(1024**2)"
   ]
  },
  {
   "cell_type": "code",
   "execution_count": 7,
   "metadata": {
    "collapsed": true
   },
   "outputs": [],
   "source": [
    "join_ac_tarificador = ac_final_prepago.merge(tarificador_pre,\n",
    "                                             how=\"inner\",\n",
    "                                             on=\"MSISDN\",\n",
    "                                             suffixes=[\"_ac\",\"_tarificador\"])"
   ]
  },
  {
   "cell_type": "code",
   "execution_count": 8,
   "metadata": {},
   "outputs": [
    {
     "name": "stderr",
     "output_type": "stream",
     "text": [
      "/Users/jsotovi2/anaconda3/lib/python3.6/site-packages/IPython/core/interactiveshell.py:2698: DtypeWarning: Columns (23) have mixed types. Specify dtype option on import or set low_memory=False.\n",
      "  interactivity=interactivity, compiler=compiler, result=result)\n"
     ]
    }
   ],
   "source": [
    "ac_prepago_next = pd.read_csv(os.path.join(PROJECT_DATA_DIR,\"input\",\"AC_FINAL_PREPAGO_\" + month_next + \".TXT\"),\n",
    "                              sep=\"|\",\n",
    "                              encoding=\"ISO-8859-1\")"
   ]
  },
  {
   "cell_type": "code",
   "execution_count": 9,
   "metadata": {
    "collapsed": true
   },
   "outputs": [],
   "source": [
    "prepago_target = join_ac_tarificador.merge(ac_prepago_next[[\"MSISDN\", \n",
    "                                                           \"NUM_DOCUMENTO_COMPRADOR\", \n",
    "                                                           \"Codigo_Plan_Precios\"]],\n",
    "                                           how=\"inner\",\n",
    "                                           on=[\"MSISDN\", \"NUM_DOCUMENTO_COMPRADOR\"],\n",
    "                                           suffixes=[\"\",\"_nextMonth\"])"
   ]
  },
  {
   "cell_type": "code",
   "execution_count": 10,
   "metadata": {
    "collapsed": true
   },
   "outputs": [],
   "source": [
    "map_tariffs_quotas = {\"PPFCL\": 0.0,\n",
    "                      \"PPFCS\": 5.0,\n",
    "                      \"PPTIN\": 15.0,\n",
    "                      \"PPVIS\": 15.0,\n",
    "                      \"PPVSP\": 15.0,\n",
    "                      \"PPIB7\": 10.0,\n",
    "                      \"PPIB8\": 15.0,\n",
    "                      \"PPIB9\": 20.0,\n",
    "                      \"PPIB4\": 10.0,\n",
    "                      \"PPIB5\": 15.0,\n",
    "                      \"PPIB6\": 20.0,\n",
    "                      \"PPIB1\": 10.0,\n",
    "                      \"PPIB2\": 15.0,\n",
    "                      \"PPIB3\": 20.0,\n",
    "                      \"PPXS8\": 5.0,\n",
    "                      \"PPVE1\": 15.0,\n",
    "                      \"PPVE2\": 15.0,\n",
    "                      \"PPREU\": 5.0,\n",
    "                      \"PPREY\": 5.0,\n",
    "                      \"PPREX\": 5.0,\n",
    "                      \"PPRET\": 5.0,\n",
    "                      \"PPRE5\": 0.0,\n",
    "                      \"PPRE2\": 0.0,\n",
    "                      \"PPRES\": 0.0,\n",
    "                      \"PPJ24\": 0.0, # Asumo que es de 0...\n",
    "                      \"PPJAT\": 0.0, # Asumo que es de 0...\n",
    "                      \"PPJMI\": 0.0, # Asumo que es de 0...\n",
    "                      \"PPVE3\": 0.0, # Asumo que es de 0...\n",
    "                     }\n",
    "\n",
    "prepago_target[\"Quota\"] = prepago_target[\"Codigo_Plan_Precios\"].map(map_tariffs_quotas)\n",
    "prepago_target[\"Quota_nextMonth\"] = prepago_target[\"Codigo_Plan_Precios_nextMonth\"].map(map_tariffs_quotas)"
   ]
  },
  {
   "cell_type": "code",
   "execution_count": 11,
   "metadata": {
    "collapsed": true
   },
   "outputs": [],
   "source": [
    "# Creation of target (upsell):\n",
    "prepago_target[\"Upsell\"] = (prepago_target\n",
    "                            .apply(lambda row: 1 if row[\"Quota_nextMonth\"] > row[\"Quota\"]\n",
    "                                   else 0, axis=1)\n",
    "                           )"
   ]
  },
  {
   "cell_type": "code",
   "execution_count": 12,
   "metadata": {
    "collapsed": true
   },
   "outputs": [],
   "source": [
    "feature_numeric_columns = [\"NUM_PREPAGO\",\n",
    "                           \"NUM_POSPAGO\",\n",
    "                           \"MIN_LLAM_ULTMES\",\n",
    "                           \"ULT3MESES_TOTAL\",\n",
    "                           \"DIASDESDEULTRECARGA\",\n",
    "                           \"NUMRECARGASULT3MESES_TOTAL\",\n",
    "                           \"COBERTURA_4G\",\n",
    "                           \"LORTAD\",\n",
    "                           \"MOU\",\n",
    "                           \"TOTAL_LLAMADAS\",\n",
    "                           \"TOTAL_SMS\",\n",
    "                           'MOU_Week',\n",
    "                           'LLAM_Week',\n",
    "                           'SMS_Week',\n",
    "                           'MOU_Weekend',\n",
    "                           'LLAM_Weekend',\n",
    "                           'SMS_Weekend',\n",
    "                           'MOU_VF',\n",
    "                           'LLAM_VF',\n",
    "                           'SMS_VF',\n",
    "                           'MOU_Fijo',\n",
    "                           'LLAM_Fijo',\n",
    "                           'SMS_Fijo',\n",
    "                           'MOU_OOM',\n",
    "                           'LLAM_OOM',\n",
    "                           'SMS_OOM',\n",
    "                           'MOU_Internacional',\n",
    "                           'LLAM_Internacional',\n",
    "                           'SMS_Internacional',\n",
    "                           #'ActualVolume',\n",
    "                           'Num_accesos',  \n",
    "                           'Num_Cambio_Planes',\n",
    "                           'LLAM_COMUNIDAD_SMART',\n",
    "                           'MOU_COMUNIDAD_SMART',\n",
    "                           'LLAM_SMS_COMUNIDAD_SMART',\n",
    "                           #'Flag_Uso_Etnica',\n",
    "                           'cuota_SMART8',\n",
    "                           'cuota_SMART12',\n",
    "                           'cuota_SMART16',\n",
    "                           'ActualVolume_MB']\n",
    "\n",
    "feature_categorical_columns = [\"Tipo_Documento_Comprador\", # Categorica\n",
    "                               'Codigo_Plan_Precios' # Categorica\n",
    "                              ]\n",
    "\n",
    "target_column = \"Upsell\""
   ]
  },
  {
   "cell_type": "code",
   "execution_count": 13,
   "metadata": {
    "collapsed": true
   },
   "outputs": [],
   "source": [
    "ml_dataset = prepago_target[feature_numeric_columns \n",
    "                            + feature_categorical_columns\n",
    "                            + [target_column]].copy()"
   ]
  },
  {
   "cell_type": "code",
   "execution_count": 14,
   "metadata": {
    "collapsed": true
   },
   "outputs": [],
   "source": [
    "for feature in feature_categorical_columns:\n",
    "    categorical_column = feature + \"_\" + ml_dataset[feature].fillna(\"MISSING\").str.lower()\n",
    "    categorical_column = pd.get_dummies(categorical_column)\n",
    "    ml_dataset[categorical_column.columns] = categorical_column\n",
    "    del ml_dataset[feature]\n",
    "    \n",
    "for feature in feature_numeric_columns:\n",
    "    ml_dataset[feature] = ml_dataset[feature].fillna(0.0).astype(np.float64)"
   ]
  },
  {
   "cell_type": "code",
   "execution_count": 15,
   "metadata": {
    "collapsed": true
   },
   "outputs": [],
   "source": [
    "feature_columns = [feature for feature in ml_dataset.columns if feature != target_column]"
   ]
  },
  {
   "cell_type": "markdown",
   "metadata": {},
   "source": [
    "# Modelling"
   ]
  },
  {
   "cell_type": "code",
   "execution_count": 16,
   "metadata": {
    "collapsed": true
   },
   "outputs": [],
   "source": [
    "from sklearn.model_selection import train_test_split\n",
    "\n",
    "train, test = train_test_split(ml_dataset, \n",
    "                               train_size=0.8, \n",
    "                               test_size=0.2)"
   ]
  },
  {
   "cell_type": "code",
   "execution_count": 19,
   "metadata": {
    "collapsed": true
   },
   "outputs": [],
   "source": [
    "from sklearn.ensemble import RandomForestClassifier\n",
    "from sklearn.model_selection import GridSearchCV\n",
    "\n",
    "rf = RandomForestClassifier()\n",
    "\n",
    "param_grid = {\"n_estimators\":[300],\n",
    "              \"max_features\":[\"sqrt\", 0.3, 0.6],\n",
    "              \"max_depth\": [5, 9, 15, 30],\n",
    "              \"n_jobs\":[-1],\n",
    "              \"class_weight\":[\"balanced\"]\n",
    "             }\n",
    "\n",
    "gs_rf = GridSearchCV(estimator=rf,\n",
    "                     param_grid=param_grid,\n",
    "                     scoring=\"roc_auc\",\n",
    "                     cv=5,\n",
    "                     verbose=3)"
   ]
  },
  {
   "cell_type": "code",
   "execution_count": null,
   "metadata": {
    "scrolled": true
   },
   "outputs": [
    {
     "name": "stdout",
     "output_type": "stream",
     "text": [
      "Fitting 5 folds for each of 12 candidates, totalling 60 fits\n",
      "[CV] class_weight=balanced, max_depth=5, max_features=sqrt, n_estimators=300, n_jobs=-1 \n",
      "[CV]  class_weight=balanced, max_depth=5, max_features=sqrt, n_estimators=300, n_jobs=-1, score=0.7984860415028946, total= 6.3min\n",
      "[CV] class_weight=balanced, max_depth=5, max_features=sqrt, n_estimators=300, n_jobs=-1 \n"
     ]
    },
    {
     "name": "stderr",
     "output_type": "stream",
     "text": [
      "[Parallel(n_jobs=1)]: Done   1 out of   1 | elapsed:  6.5min remaining:    0.0s\n"
     ]
    },
    {
     "name": "stdout",
     "output_type": "stream",
     "text": [
      "[CV]  class_weight=balanced, max_depth=5, max_features=sqrt, n_estimators=300, n_jobs=-1, score=0.7885900005973775, total= 6.1min\n",
      "[CV] class_weight=balanced, max_depth=5, max_features=sqrt, n_estimators=300, n_jobs=-1 \n"
     ]
    },
    {
     "name": "stderr",
     "output_type": "stream",
     "text": [
      "[Parallel(n_jobs=1)]: Done   2 out of   2 | elapsed: 12.9min remaining:    0.0s\n"
     ]
    },
    {
     "name": "stdout",
     "output_type": "stream",
     "text": [
      "[CV]  class_weight=balanced, max_depth=5, max_features=sqrt, n_estimators=300, n_jobs=-1, score=0.7835945008879207, total= 6.0min\n",
      "[CV] class_weight=balanced, max_depth=5, max_features=sqrt, n_estimators=300, n_jobs=-1 \n",
      "[CV]  class_weight=balanced, max_depth=5, max_features=sqrt, n_estimators=300, n_jobs=-1, score=0.7939902265350394, total= 6.1min\n",
      "[CV] class_weight=balanced, max_depth=5, max_features=sqrt, n_estimators=300, n_jobs=-1 \n",
      "[CV]  class_weight=balanced, max_depth=5, max_features=sqrt, n_estimators=300, n_jobs=-1, score=0.7987876505309517, total= 6.1min\n",
      "[CV] class_weight=balanced, max_depth=5, max_features=0.3, n_estimators=300, n_jobs=-1 \n",
      "[CV]  class_weight=balanced, max_depth=5, max_features=0.3, n_estimators=300, n_jobs=-1, score=0.8119401315116378, total=13.2min\n",
      "[CV] class_weight=balanced, max_depth=5, max_features=0.3, n_estimators=300, n_jobs=-1 \n",
      "[CV]  class_weight=balanced, max_depth=5, max_features=0.3, n_estimators=300, n_jobs=-1, score=0.8017495408727551, total=15.3min\n",
      "[CV] class_weight=balanced, max_depth=5, max_features=0.3, n_estimators=300, n_jobs=-1 \n",
      "[CV]  class_weight=balanced, max_depth=5, max_features=0.3, n_estimators=300, n_jobs=-1, score=0.7970969580783873, total=14.6min\n",
      "[CV] class_weight=balanced, max_depth=5, max_features=0.3, n_estimators=300, n_jobs=-1 \n",
      "[CV]  class_weight=balanced, max_depth=5, max_features=0.3, n_estimators=300, n_jobs=-1, score=0.8056094398028678, total=15.0min\n",
      "[CV] class_weight=balanced, max_depth=5, max_features=0.3, n_estimators=300, n_jobs=-1 \n",
      "[CV]  class_weight=balanced, max_depth=5, max_features=0.3, n_estimators=300, n_jobs=-1, score=0.8108180221464765, total=13.5min\n",
      "[CV] class_weight=balanced, max_depth=5, max_features=0.6, n_estimators=300, n_jobs=-1 \n",
      "[CV]  class_weight=balanced, max_depth=5, max_features=0.6, n_estimators=300, n_jobs=-1, score=0.8146567998895355, total=24.5min\n",
      "[CV] class_weight=balanced, max_depth=5, max_features=0.6, n_estimators=300, n_jobs=-1 \n",
      "[CV]  class_weight=balanced, max_depth=5, max_features=0.6, n_estimators=300, n_jobs=-1, score=0.80480841258216, total=32.1min\n",
      "[CV] class_weight=balanced, max_depth=5, max_features=0.6, n_estimators=300, n_jobs=-1 \n"
     ]
    }
   ],
   "source": [
    "gs_rf.fit(train[feature_columns],\n",
    "          train[target_column])"
   ]
  },
  {
   "cell_type": "code",
   "execution_count": null,
   "metadata": {},
   "outputs": [],
   "source": [
    "print(\"Summary for all models launched (best one first):\")\n",
    "\n",
    "pd.DataFrame(gs_rf.cv_results_).sort_values(by=\"mean_test_score\", ascending=False)"
   ]
  },
  {
   "cell_type": "code",
   "execution_count": null,
   "metadata": {
    "collapsed": true
   },
   "outputs": [],
   "source": [
    "best_model = gs_rf.best_estimator_"
   ]
  },
  {
   "cell_type": "code",
   "execution_count": null,
   "metadata": {},
   "outputs": [],
   "source": [
    "best_model"
   ]
  },
  {
   "cell_type": "markdown",
   "metadata": {},
   "source": [
    "# AUC for best model"
   ]
  },
  {
   "cell_type": "code",
   "execution_count": null,
   "metadata": {},
   "outputs": [],
   "source": [
    "from sklearn.metrics import roc_curve, roc_auc_score\n",
    "\n",
    "\n",
    "fpr, tpr, _ = roc_curve(y_true=test[target_column],\n",
    "                        y_score=best_model.predict_proba(test[feature_columns])[:,1],\n",
    "                        pos_label=1.0\n",
    "                       )\n",
    "df_roc_test = pd.DataFrame({\"fpr\":fpr, \n",
    "                            \"tpr\":tpr})\n",
    "\n",
    "auc_test = roc_auc_score(test[target_column], \n",
    "                         best_model.predict_proba(test[feature_columns])[:,1],\n",
    "                         average=\"micro\")\n",
    "\n",
    "# ROC plotting\n",
    "plt.figure(figsize=(12,9))\n",
    "\n",
    "# ROC curves:\n",
    "plt.plot(df_roc_test[\"fpr\"], df_roc_test[\"tpr\"], \"yellow\", label=\"Test  (AUC: %.4f)\" % auc_test)\n",
    "\n",
    "# Random guess:\n",
    "plt.plot([0,1],[0,1], \"b--\")\n",
    "\n",
    "# Colour\n",
    "plt.fill_between(x=df_roc_test[\"fpr\"], y1=df_roc_test[\"tpr\"], alpha=0.2, color=\"yellow\")\n",
    "\n",
    "plt.xlabel(\"False Positive Rate\")\n",
    "plt.ylabel(\"True Positive Rate\")\n",
    "plt.title(\"ROC curves\")\n",
    "plt.legend(loc=4, fontsize=10)\n",
    "pass"
   ]
  },
  {
   "cell_type": "markdown",
   "metadata": {},
   "source": [
    "# Model saving"
   ]
  },
  {
   "cell_type": "code",
   "execution_count": null,
   "metadata": {
    "collapsed": true
   },
   "outputs": [],
   "source": [
    "import pickle\n",
    "\n",
    "save_model_path = os.path.join(PROJECT_DIR, \"models\", \"model_identificator_upsellers_v02.pkl\")\n",
    "with open(save_model_path, \"wb\") as file_:\n",
    "    pickle.dump(best_model, file_)\n",
    "    \n",
    "print(\"The trained model has been saved to %s\" % (save_model_path))\n",
    "print(\"Everything done in this notebook! You can use this model to predict any month that you want\")"
   ]
  },
  {
   "cell_type": "code",
   "execution_count": null,
   "metadata": {
    "collapsed": true
   },
   "outputs": [],
   "source": []
  }
 ],
 "metadata": {
  "anaconda-cloud": {},
  "kernelspec": {
   "display_name": "Python 3",
   "language": "python",
   "name": "python3"
  },
  "language_info": {
   "codemirror_mode": {
    "name": "ipython",
    "version": 3
   },
   "file_extension": ".py",
   "mimetype": "text/x-python",
   "name": "python",
   "nbconvert_exporter": "python",
   "pygments_lexer": "ipython3",
   "version": "3.6.2"
  }
 },
 "nbformat": 4,
 "nbformat_minor": 2
}
