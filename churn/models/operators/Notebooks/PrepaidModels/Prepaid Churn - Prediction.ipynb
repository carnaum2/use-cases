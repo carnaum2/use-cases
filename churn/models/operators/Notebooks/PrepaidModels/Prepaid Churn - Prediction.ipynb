{
 "cells": [
  {
   "cell_type": "markdown",
   "metadata": {},
   "source": [
    "# PREPAID CHURN - Prediction"
   ]
  },
  {
   "cell_type": "markdown",
   "metadata": {},
   "source": [
    "## Initialization of Spark session"
   ]
  },
  {
   "cell_type": "code",
   "execution_count": 1,
   "metadata": {},
   "outputs": [
    {
     "data": {
      "text/html": [
       "<style>.container { width:100% !important; }</style>"
      ],
      "text/plain": [
       "<IPython.core.display.HTML object>"
      ]
     },
     "metadata": {},
     "output_type": "display_data"
    }
   ],
   "source": [
    "from IPython.core.display import display, HTML\n",
    "display(HTML(\"<style>.container { width:100% !important; }</style>\"))"
   ]
  },
  {
   "cell_type": "code",
   "execution_count": 2,
   "metadata": {},
   "outputs": [],
   "source": [
    "%load_ext autoreload\n",
    "%autoreload 2\n",
    "%matplotlib inline "
   ]
  },
  {
   "cell_type": "code",
   "execution_count": 3,
   "metadata": {},
   "outputs": [
    {
     "data": {
      "text/plain": [
       "['',\n",
       " '/var/SP/data/home/carnaum2/artifacts/graphframes.zip',\n",
       " '/opt/cloudera/parcels/SPARK2/lib/spark2/python',\n",
       " '/opt/cloudera/parcels/SPARK2/lib/spark2/python/lib/py4j-0.10.4-src.zip',\n",
       " '/var/SP/data/home/carnaum2/artifacts/bda-core-ra-complete-assembly-2.0.0.jar',\n",
       " '/var/SP/data/home/carnaum2',\n",
       " '/var/SP/data/home/carnaum2/repositorios/use-cases/churn/models/operators/Notebooks/PrepaidModels',\n",
       " '/opt/cloudera/parcels/Anaconda-2.5.0/lib/python27.zip',\n",
       " '/opt/cloudera/parcels/Anaconda-2.5.0/lib/python2.7',\n",
       " '/opt/cloudera/parcels/Anaconda-2.5.0/lib/python2.7/plat-linux2',\n",
       " '/opt/cloudera/parcels/Anaconda-2.5.0/lib/python2.7/lib-tk',\n",
       " '/opt/cloudera/parcels/Anaconda-2.5.0/lib/python2.7/lib-old',\n",
       " '/opt/cloudera/parcels/Anaconda-2.5.0/lib/python2.7/lib-dynload',\n",
       " '/opt/cloudera/parcels/Anaconda-2.5.0/lib/python2.7/site-packages',\n",
       " '/opt/cloudera/parcels/Anaconda-2.5.0/lib/python2.7/site-packages/Sphinx-1.3.5-py2.7.egg',\n",
       " '/opt/cloudera/parcels/Anaconda-2.5.0/lib/python2.7/site-packages/IPython/extensions',\n",
       " '/var/SP/data/home/carnaum2/.ipython']"
      ]
     },
     "execution_count": 3,
     "metadata": {},
     "output_type": "execute_result"
    }
   ],
   "source": [
    "import sys, os\n",
    "sys.path"
   ]
  },
  {
   "cell_type": "code",
   "execution_count": 4,
   "metadata": {},
   "outputs": [],
   "source": [
    "USECASES_SRC = os.path.join(os.environ.get('BDA_USER_HOME', ''), \"repositorios\", \"use-cases\")\n",
    "if USECASES_SRC not in sys.path: \n",
    "    sys.path.append(USECASES_SRC)"
   ]
  },
  {
   "cell_type": "code",
   "execution_count": 2,
   "metadata": {},
   "outputs": [
    {
     "name": "stdout",
     "output_type": "stream",
     "text": [
      "2\n"
     ]
    }
   ],
   "source": [
    "from common.src.main.python.utils.hdfs_generic import *\n",
    "import os\n",
    "\n",
    "MAX_N_EXECUTORS=15\n",
    "MIN_N_EXECUTORS=1\n",
    "N_CORES_EXECUTOR=4\n",
    "EXECUTOR_IDLE_MAX_TIME=120\n",
    "EXECUTOR_MEMORY='32g'\n",
    "DRIVER_MEMORY='16g'\n",
    "N_CORES_DRIVER=1\n",
    "MEMORY_OVERHEAD=N_CORES_EXECUTOR*2048\n",
    "#QUEUE=\"root.datascience.normal\"\n",
    "QUEUE=\"root.BDPtenants.es.medium\"\n",
    "\n",
    "BDA_CORE_VERSION=\"1.0.0\"\n",
    "\n",
    "SPARK_COMMON_OPTS=os.environ.get('SPARK_COMMON_OPTS', '')\n",
    "SPARK_COMMON_OPTS+=\" --executor-memory %s --driver-memory %s\" % (EXECUTOR_MEMORY, DRIVER_MEMORY)\n",
    "SPARK_COMMON_OPTS+=\" --conf spark.shuffle.manager=tungsten-sort\"\n",
    "SPARK_COMMON_OPTS+=\"  --queue %s\" % QUEUE\n",
    "APP_NAME='PrepaidChurnPrediction'\n",
    "\n",
    "# Dynamic allocation configuration\n",
    "SPARK_COMMON_OPTS+=\" --conf spark.driver.allowMultipleContexts=true\"\n",
    "SPARK_COMMON_OPTS+=\" --conf spark.dynamicAllocation.enabled=true\"\n",
    "SPARK_COMMON_OPTS+=\" --conf spark.shuffle.service.enabled=true\"\n",
    "SPARK_COMMON_OPTS+=\" --conf spark.dynamicAllocation.maxExecutors=%s\" % (MAX_N_EXECUTORS)\n",
    "SPARK_COMMON_OPTS+=\" --conf spark.dynamicAllocation.minExecutors=%s\" % (MIN_N_EXECUTORS)\n",
    "SPARK_COMMON_OPTS+=\" --conf spark.dynamicAllocation.executorIdleTimeout=%s\" % (EXECUTOR_IDLE_MAX_TIME)\n",
    "SPARK_COMMON_OPTS+=\" --conf spark.ui.port=58201\"\n",
    "SPARK_COMMON_OPTS+=\" --conf spark.port.maxRetries=200\"\n",
    "SPARK_COMMON_OPTS+=\" --executor-cores=%s\" % (N_CORES_EXECUTOR)\n",
    "SPARK_COMMON_OPTS+=\" --conf spark.app.name=%s\" % (APP_NAME)\n",
    "\n",
    "BDA_ENV = os.environ.get('BDA_USER_HOME', '')\n",
    "\n",
    "# Attach bda-core-ra codebase\n",
    "SPARK_COMMON_OPTS+=\" --files \\\n",
    "{}/scripts/properties/red_agent/nodes.properties,\\\n",
    "{}/scripts/properties/red_agent/nodes-de.properties,\\\n",
    "{}/scripts/properties/red_agent/nodes-es.properties,\\\n",
    "{}/scripts/properties/red_agent/nodes-ie.properties,\\\n",
    "{}/scripts/properties/red_agent/nodes-it.properties,\\\n",
    "{}/scripts/properties/red_agent/nodes-pt.properties,\\\n",
    "{}/scripts/properties/red_agent/nodes-uk.properties\".format(*[BDA_ENV]*7)\n",
    "\n",
    "os.environ[\"SPARK_COMMON_OPTS\"] = SPARK_COMMON_OPTS\n",
    "os.environ[\"PYSPARK_SUBMIT_ARGS\"] = \"%s pyspark-shell \" % SPARK_COMMON_OPTS\n",
    "\n",
    "#print os.environ.get('SPARK_COMMON_OPTS', '')\n",
    "#print os.environ.get('PYSPARK_SUBMIT_ARGS', '')\n",
    "\n",
    "sc, sparkSession, sqlContext = run_sc()\n",
    "print sc.defaultParallelism"
   ]
  },
  {
   "cell_type": "code",
   "execution_count": 3,
   "metadata": {},
   "outputs": [],
   "source": [
    "# This literal_eval is needed since \n",
    "# we have to read from a textfile\n",
    "# which is formatted as python objects.\n",
    "# It is totally safe.\n",
    "from ast import literal_eval\n",
    "\n",
    "# Standard Library stuff:\n",
    "from functools import partial\n",
    "from datetime import date, timedelta, datetime\n",
    "\n",
    "# Numpy stuff\n",
    "from numpy import (nan as np_nan, round as np_round, int64 as np_int64)\n",
    "import numpy as np\n",
    "\n",
    "\n",
    "# Spark stuff\n",
    "from pyspark.sql import SparkSession\n",
    "from pyspark import StorageLevel\n",
    "from pyspark.sql.functions import (udf, col, decode, when, lit, lower, upper, concat,\n",
    "                                   translate, count, sum as sql_sum, max as sql_max, min as sql_min,\n",
    "                                   round, \n",
    "                                   mean, stddev, datediff,\n",
    "                                   length,\n",
    "                                   countDistinct,\n",
    "                                   hour, date_format, collect_set, collect_list,\n",
    "                                   year, month, dayofmonth,\n",
    "                                   rank, expr, lag, coalesce, row_number,\n",
    "                                   isnull, isnan,\n",
    "                                   unix_timestamp,\n",
    "                                   regexp_replace\n",
    "                                  )\n",
    "from pyspark.sql.types import DoubleType, StringType, IntegerType, ArrayType, FloatType\n",
    "\n",
    "from pyspark.ml import Pipeline\n",
    "\n",
    "from pyspark.sql import DataFrameStatFunctions as statFunc\n",
    "\n",
    "from pyspark.sql.window import Window\n",
    "\n",
    "import json\n",
    "from collections import OrderedDict\n",
    "\n",
    "from subprocess import Popen, PIPE\n",
    "import datetime, calendar\n",
    "from pyspark.sql import functions as F\n",
    "\n",
    "from pyspark.ml.feature import StandardScaler\n"
   ]
  },
  {
   "cell_type": "code",
   "execution_count": 4,
   "metadata": {},
   "outputs": [],
   "source": [
    "spark = (SparkSession.builder\n",
    "         .master(\"yarn\")\n",
    "         .config(\"spark.submit.deployMode\", \"client\")\n",
    "         .config(\"spark.ui.showConsoleProgress\", \"true\")\n",
    "         .enableHiveSupport()\n",
    "         .getOrCreate()\n",
    "         )\n"
   ]
  },
  {
   "cell_type": "code",
   "execution_count": 5,
   "metadata": {},
   "outputs": [],
   "source": [
    "from datetime import datetime\n",
    "start_time = datetime.now()     "
   ]
  },
  {
   "cell_type": "markdown",
   "metadata": {},
   "source": [
    "## Lectura de las tablas que contiene la información agregada de clientes de prepago"
   ]
  },
  {
   "cell_type": "code",
   "execution_count": null,
   "metadata": {},
   "outputs": [],
   "source": [
    "prepaid = spark.read.table('tests_es.carnaum2_churn_prepago_ids')"
   ]
  },
  {
   "cell_type": "markdown",
   "metadata": {},
   "source": [
    "---------------"
   ]
  },
  {
   "cell_type": "code",
   "execution_count": null,
   "metadata": {},
   "outputs": [],
   "source": [
    "prepaid.groupBy('Churned').count().show()"
   ]
  },
  {
   "cell_type": "code",
   "execution_count": null,
   "metadata": {},
   "outputs": [],
   "source": [
    "prepaid_final = (prepaid\n",
    "           .filter( (col('TOTAL_LLAMADAS_previo_M_2') >= 4) )\n",
    "           .filter( (col('TOTAL_LLAMADAS_previo_M_3') >= 4) )\n",
    "           .filter( (col('TOTAL_LLAMADAS_previo_M_4') >= 4) )\n",
    "           .filter(col('data_mb_M-2') > 60)\n",
    "           .filter(col('data_mb_M-3') > 60)\n",
    "           .filter(col('data_mb_M-4') > 60)\n",
    "                    \n",
    "           .withColumn(\"diff_saldo\", col(\"diff_saldo_M-4\") - col(\"diff_saldo_M-2\"))\n",
    "           .withColumn(\"diff_saldo_M-1\", col(\"diff_saldo_M-2\") - col(\"diff_saldo_M-1\"))\n",
    "           .withColumn(\"diff_saldo_M-2\", col(\"diff_saldo_M-3\") - col(\"diff_saldo_M-2\"))\n",
    "           .withColumn(\"diff_saldo_M-3\", col(\"diff_saldo_M-4\") - col(\"diff_saldo_M-3\"))\n",
    "           \n",
    "           .withColumn(\"diff_abal\", col(\"abal_payment_M-4\") - col(\"abal_payment_M-2\"))\n",
    "           .withColumn(\"diff_abal_num\", col(\"abal_payment_num_M-4\") - col(\"abal_payment_num_M-1\"))\n",
    "           .withColumn(\"diff_abal_payment_num_M-1\", col(\"abal_payment_num_M-2\") - col(\"abal_payment_num_M-1\"))\n",
    "           .withColumn(\"diff_abal_payment_num_M-2\", col(\"abal_payment_num_M-3\") - col(\"abal_payment_num_M-2\"))\n",
    "           .withColumn(\"diff_abal_payment_num_M-3\", col(\"abal_payment_num_M-4\") - col(\"abal_payment_num_M-3\"))\n",
    "\n",
    "           \n",
    "           .withColumn(\"diff_data_mb\", col(\"data_mb_M-4\") - col(\"data_mb_M-2\"))\n",
    "           .withColumn(\"diff_data_M-1\", col(\"data_mb_M-2\") - col(\"data_mb_M-1\"))\n",
    "           .withColumn(\"diff_data_M-2\", col(\"data_mb_M-3\") - col(\"data_mb_M-2\"))\n",
    "           .withColumn(\"diff_data_M-3\", col(\"data_mb_M-4\") - col(\"data_mb_M-3\"))\n",
    "           \n",
    "           .withColumn('diff_tu_amount', col(\"tu_amount_M-4\") - col(\"tu_amount_M-2\"))\n",
    "           .withColumn('diff_tu_amount_M-1', col(\"tu_amount_M-2\") - col(\"tu_amount_M-1\"))\n",
    "           .withColumn('diff_tu_amount_M-2', col(\"tu_amount_M-3\") - col(\"tu_amount_M-2\"))\n",
    "           .withColumn('diff_tu_amount_M-3', col(\"tu_amount_M-4\") - col(\"tu_amount_M-3\"))\n",
    "           \n",
    "           .withColumn('diff_tu_num', col(\"tu_num_M-4\") - col(\"tu_num_M-2\"))\n",
    "           .withColumn('diff_tu_num_M-1', col(\"tu_num_M-2\") - col(\"tu_num_M-1\"))\n",
    "           .withColumn('diff_tu_num_M-2', col(\"tu_num_M-3\") - col(\"tu_num_M-2\"))\n",
    "           .withColumn('diff_tu_num_M-3', col(\"tu_num_M-4\") - col(\"tu_num_M-3\"))\n",
    "                    \n",
    "           .withColumn(\"dff_voice_num\", col(\"voice_num_M-4\") - col(\"voice_num_M-2\"))\n",
    "           .withColumn(\"dff_voice_num_M-1\", col(\"voice_num_M-2\") - col(\"voice_num_M-1\"))\n",
    "           .withColumn(\"dff_voice_num_M-2\", col(\"voice_num_M-3\") - col(\"voice_num_M-2\"))\n",
    "           .withColumn(\"dff_voice_num_M-3\", col(\"voice_num_M-4\") - col(\"voice_num_M-3\"))\n",
    "           \n",
    "           .withColumn(\"diff_MOU\", col(\"MOU_previo_M_4\") - col(\"MOU_previo_M_2\"))\n",
    "           #.withColumn(\"diff_MOU_M-1\", col(\"MOU_previo_M_2\") - col(\"MOU_previo_M_1\"))\n",
    "           .withColumn(\"diff_MOU_M-2\", col(\"MOU_previo_M_3\") - col(\"MOU_previo_M_2\"))\n",
    "           .withColumn(\"diff_MOU_M-3\", col(\"MOU_previo_M_4\") - col(\"MOU_previo_M_3\"))\n",
    "           \n",
    "           .withColumn(\"diff_LLAMADAS\", col(\"TOTAL_LLAMADAS_previo_M_4\") - col(\"TOTAL_LLAMADAS_previo_M_2\"))\n",
    "           #.withColumn(\"diff_LLAMADAS_M-1\", col(\"TOTAL_LLAMADAS_previo_M_2\") - col(\"TOTAL_LLAMADAS_previo_M_1\"))\n",
    "           .withColumn(\"diff_LLAMADAS_M-2\", col(\"TOTAL_LLAMADAS_previo_M_3\") - col(\"TOTAL_LLAMADAS_previo_M_2\"))\n",
    "           .withColumn(\"diff_LLAMADAS_M-3\", col(\"TOTAL_LLAMADAS_previo_M_4\") - col(\"TOTAL_LLAMADAS_previo_M_3\"))\n",
    "           \n",
    "           .withColumn(\"diff_num_conexiones\", col(\"num_conexions_M-4\") - col(\"num_conexions_M-2\"))\n",
    "           .withColumn(\"diff_num_conexiones_M-1\", col(\"num_conexions_M-2\") - col(\"num_conexions_M-1\"))\n",
    "           .withColumn(\"diff_num_conexiones_M-2\", col(\"num_conexions_M-3\") - col(\"num_conexions_M-2\"))\n",
    "           .withColumn(\"diff_num_conexiones_M-3\", col(\"num_conexions_M-4\") - col(\"num_conexions_M-3\"))\n",
    "           \n",
    "           .withColumn(\"diff_llam_OOM\", col(\"LLAM_OOM_previo_M_4\") - col(\"LLAM_OOM_previo_M_2\"))\n",
    "           #.withColumn(\"diff_llam_OOM_M-1\", col(\"LLAM_OOM_previo_M_2\") - col(\"LLAM_OOM_previo_M_1\"))\n",
    "           .withColumn(\"diff_llam_OOM_M-2\", col(\"LLAM_OOM_previo_M_3\") - col(\"LLAM_OOM_previo_M_2\"))\n",
    "           .withColumn(\"diff_llam_OOM_M-3\", col(\"LLAM_OOM_previo_M_4\") - col(\"LLAM_OOM_previo_M_3\"))\n",
    "           \n",
    "           .withColumn(\"diff_llam_MOU_OOM\", col(\"MOU_OOM_previo_M_4\") - col(\"MOU_OOM_previo_M_2\"))\n",
    "           #.withColumn(\"diff_llam_MOU_OOM_M-1\", col(\"MOU_OOM_previo_M_2\") - col(\"MOU_OOM_previo_M_1\"))\n",
    "           .withColumn(\"diff_llam_MOU_OOM_M-2\", col(\"MOU_OOM_previo_M_3\") - col(\"MOU_OOM_previo_M_2\"))\n",
    "           .withColumn(\"diff_llam_MOU_OOM_M-3\", col(\"MOU_OOM_previo_M_4\") - col(\"MOU_OOM_previo_M_3\"))\n",
    "           \n",
    "           .withColumn(\"diff_SMS_OOM\", col(\"SMS_OOM_previo_M_4\") - col(\"SMS_OOM_previo_M_2\"))\n",
    "           #.withColumn(\"diff_SMS_OOM_M-1\", col(\"SMS_OOM_previo_M_2\") - col(\"SMS_OOM_previo_M_1\"))\n",
    "           .withColumn(\"diff_SMS_OOM_M-2\", col(\"SMS_OOM_previo_M_3\") - col(\"SMS_OOM_previo_M_2\"))\n",
    "           .withColumn(\"diff_SMS_OOM_M-3\", col(\"SMS_OOM_previo_M_4\") - col(\"SMS_OOM_previo_M_3\"))\n",
    "           \n",
    "           .withColumn(\"diff_data_amount\", col(\"data_amount_M-4\") - col(\"data_amount_M-2\"))\n",
    "           .withColumn(\"diff_data_amount_M-1\", col(\"data_amount_M-2\") - col(\"data_amount_M-1\"))\n",
    "           .withColumn(\"diff_data_amount_M-2\", col(\"data_amount_M-3\") - col(\"data_amount_M-2\"))\n",
    "           .withColumn(\"diff_data_amount_M-3\", col(\"data_amount_M-4\") - col(\"data_amount_M-3\"))\n",
    "           \n",
    "           .withColumn(\"diff_SMS\", col(\"TOTAL_SMS_previo_M_4\") - col(\"TOTAL_SMS_previo_M_2\"))\n",
    "                             \n",
    "           .withColumn(\"num_pospago\", col(\"num_pospago\").cast(\"double\"))\n",
    "           .withColumn(\"num_prepago\", col(\"num_prepago\").cast(\"double\"))\n",
    "           )"
   ]
  },
  {
   "cell_type": "code",
   "execution_count": null,
   "metadata": {},
   "outputs": [],
   "source": [
    "prepaid_final.groupBy('Churned').count().show()"
   ]
  },
  {
   "cell_type": "code",
   "execution_count": null,
   "metadata": {},
   "outputs": [],
   "source": [
    "prepaid_final.groupBy('month_of_analysis').count().show()"
   ]
  },
  {
   "cell_type": "markdown",
   "metadata": {},
   "source": [
    "# Tratamiento de nulos."
   ]
  },
  {
   "cell_type": "code",
   "execution_count": null,
   "metadata": {},
   "outputs": [],
   "source": [
    "categoricalColumns = [item[0] for item in prepaid_final.dtypes if item[1].startswith('string')]\n",
    "timestampColumns = [item[0] for item in prepaid_final.dtypes if item[1].startswith('timestamp')]"
   ]
  },
  {
   "cell_type": "code",
   "execution_count": null,
   "metadata": {},
   "outputs": [],
   "source": [
    "numericFeats = [item for item in prepaid_final.columns if item not in categoricalColumns]"
   ]
  },
  {
   "cell_type": "code",
   "execution_count": null,
   "metadata": {},
   "outputs": [],
   "source": [
    "numericFeatsFinal = [item for item in numericFeats if item not in timestampColumns]"
   ]
  },
  {
   "cell_type": "code",
   "execution_count": null,
   "metadata": {},
   "outputs": [],
   "source": [
    "numericFeatsFinal.remove('Churned')"
   ]
  },
  {
   "cell_type": "code",
   "execution_count": null,
   "metadata": {},
   "outputs": [],
   "source": [
    "categoricalColumns.remove('msisdn')\n",
    "categoricalColumns.remove('NUM_CLIENTE')\n",
    "categoricalColumns.remove('nacionalidad_final')\n",
    "categoricalColumns.remove('codigo_plan_precios')\n",
    "categoricalColumns.remove('TIPO_DOCUMENTO')\n",
    "categoricalColumns.remove('group_M-2')\n",
    "categoricalColumns.remove('group_M-3')\n",
    "categoricalColumns.remove('month_of_analysis')\n",
    "categoricalColumns.remove('fx_prepaid_fx_first_nif')\n",
    "categoricalColumns.remove('fx_prepaid_fx_first_nc')\n",
    "categoricalColumns.remove('load_date_M-2')\n",
    "categoricalColumns.remove('load_date_M-3')"
   ]
  },
  {
   "cell_type": "code",
   "execution_count": null,
   "metadata": {},
   "outputs": [],
   "source": [
    "categorical_included = [item[0] for item in prepaid_final.dtypes if item[1].startswith('string')]"
   ]
  },
  {
   "cell_type": "code",
   "execution_count": null,
   "metadata": {},
   "outputs": [],
   "source": [
    "prepaid_final = prepaid_final.drop(*categoricalColumns+['month_prepaid','year_prepaid'])"
   ]
  },
  {
   "cell_type": "code",
   "execution_count": null,
   "metadata": {},
   "outputs": [],
   "source": [
    "prepaid_final = prepaid_final.fillna('NO IDENT', subset=categorical_included)\n",
    "prepaid_final = prepaid_final.fillna(0, subset = numericFeatsFinal)"
   ]
  },
  {
   "cell_type": "code",
   "execution_count": null,
   "metadata": {},
   "outputs": [],
   "source": [
    "prepaid_final = spark.read.load('/data/udf/vf_es/churn/portabPropension_model/prepaid_final')\n",
    "\n",
    "'''\n",
    "prepaid_final.repartition(300).write.save('/data/udf/vf_es/churn/portabPropension_model/prepaid_final', format='parquet', mode='overwrite')\n",
    "\n",
    "'''"
   ]
  },
  {
   "cell_type": "markdown",
   "metadata": {},
   "source": [
    "# Probamos  `GeneralModelTrainer` "
   ]
  },
  {
   "cell_type": "code",
   "execution_count": null,
   "metadata": {
    "scrolled": false
   },
   "outputs": [],
   "source": [
    "%load_ext autoreload\n",
    "%autoreload 2\n",
    "import sys\n",
    "\n",
    "\n",
    "sys.path.append('/var/SP/data/home/carnaum2/New_general_model_trainer') \n",
    "\n",
    "from new_general_model_trainer import GeneralModelTrainer\n",
    "from model_outputs import ModelParameters\n",
    "\n",
    "\n",
    "modeler=GeneralModelTrainer(df=prepaid_final,label_col='Churned', ignore_cols = [] )\n",
    "modeler.relevelCategoricalVars() #se crea un diccionario que se puede cargar en ejecuciones posteriores"
   ]
  },
  {
   "cell_type": "code",
   "execution_count": null,
   "metadata": {},
   "outputs": [],
   "source": [
    "modeler.generateFeaturesVector()"
   ]
  },
  {
   "cell_type": "code",
   "execution_count": null,
   "metadata": {
    "scrolled": false
   },
   "outputs": [],
   "source": [
    "modeler.minMaxScale()"
   ]
  },
  {
   "cell_type": "code",
   "execution_count": null,
   "metadata": {},
   "outputs": [],
   "source": [
    "modeler.split_train_test()"
   ]
  },
  {
   "cell_type": "code",
   "execution_count": null,
   "metadata": {},
   "outputs": [],
   "source": [
    "# Nos permite ir re-entrenando modelos sobre el mismo dataset.\n",
    "\n",
    "# modeler.reset_stages()"
   ]
  },
  {
   "cell_type": "code",
   "execution_count": null,
   "metadata": {},
   "outputs": [],
   "source": [
    "# Vamos a probar con GBTs \n",
    "\n",
    "from pyspark.ml.classification import RandomForestClassifier, GBTClassifier, DecisionTreeClassifier, LogisticRegression, LinearSVC\n",
    "\n",
    "gbt = GBTClassifier(maxIter=25, maxDepth=3, labelCol=modeler.label_col)                                  \n",
    "\n",
    "rfc = RandomForestClassifier(numTrees=3000, maxDepth=5, labelCol = modeler.label_col)\n",
    "\n",
    "lr = LogisticRegression(maxIter=20, regParam=0.3, elasticNetParam=0.8, labelCol = modeler.label_col)\n",
    "\n",
    "lsvc = LinearSVC(maxIter=10, regParam=0.1, labelCol = modeler.label_col)\n",
    "\n",
    "modeler.train(ml_alg = rfc)"
   ]
  },
  {
   "cell_type": "code",
   "execution_count": null,
   "metadata": {
    "scrolled": true
   },
   "outputs": [],
   "source": [
    "modeler.evaluate()"
   ]
  },
  {
   "cell_type": "code",
   "execution_count": null,
   "metadata": {},
   "outputs": [],
   "source": [
    "modeler.varimp_plot(show=60)"
   ]
  },
  {
   "cell_type": "code",
   "execution_count": null,
   "metadata": {},
   "outputs": [],
   "source": [
    "modeler.roc_plot(modeler.metrics_balanced_test,figsize=(9,6)) #he añadido el primer parámetro"
   ]
  },
  {
   "cell_type": "code",
   "execution_count": null,
   "metadata": {},
   "outputs": [],
   "source": [
    "modeler.predict()"
   ]
  },
  {
   "cell_type": "code",
   "execution_count": null,
   "metadata": {},
   "outputs": [],
   "source": [
    "df = modeler.predictions"
   ]
  },
  {
   "cell_type": "code",
   "execution_count": null,
   "metadata": {},
   "outputs": [],
   "source": [
    "df_classified = (df.withColumn('acierto', when((col('prediction') == col('Churned_without_nulls') ), 1).otherwise(0))\n",
    "                 .select('msisdn', 'score', 'acierto', 'Churned_without_nulls', 'month_of_analysis'))"
   ]
  },
  {
   "cell_type": "code",
   "execution_count": null,
   "metadata": {},
   "outputs": [],
   "source": [
    "prepaid_final_good = (df_classified.withColumn('Churned_new', when((col('acierto') == 1) & (col('month_of_analysis') == 'Month of training = M-1'),\n",
    "                                                                   col('Churned_without_nulls')).otherwise(None))\n",
    "                      .withColumnRenamed('msisdn', 'msisdn_good')\n",
    "                      .withColumnRenamed('month_of_analysis', 'MoA_good')\n",
    "                      .drop(*['acierto', 'prediction', 'Churned_without_nulls', 'score']))"
   ]
  },
  {
   "cell_type": "code",
   "execution_count": null,
   "metadata": {},
   "outputs": [],
   "source": [
    "prepaid_final_bad = (df_classified.withColumn('Churned_new', when((col('acierto') == 0) & (col('month_of_analysis') == 'Month of training = M-1'),\n",
    "                                                                  col('Churned_without_nulls')).otherwise(None))\n",
    "                     .withColumnRenamed('msisdn', 'msisdn_bad')\n",
    "                     .withColumnRenamed('month_of_analysis', 'MoA_bad')\n",
    "                     .drop(*['acierto', 'prediction', 'Churned_without_nulls', 'score']))"
   ]
  },
  {
   "cell_type": "code",
   "execution_count": null,
   "metadata": {},
   "outputs": [],
   "source": [
    "prepaid_final_good.groupBy('Churned_new').count().show()"
   ]
  },
  {
   "cell_type": "code",
   "execution_count": null,
   "metadata": {},
   "outputs": [],
   "source": [
    "prepaid_final_bad.groupBy('Churned_new').count().show()"
   ]
  },
  {
   "cell_type": "markdown",
   "metadata": {},
   "source": [
    "Puesto que se hará join entre la cartera inicial y la nueva a partir de 'msisdn', es imprescindible eliminar duplicados."
   ]
  },
  {
   "cell_type": "code",
   "execution_count": null,
   "metadata": {},
   "outputs": [],
   "source": [
    "prepaid_good_feats = prepaid_final_good.join(prepaid_final,\n",
    "                                             on = ((prepaid0_final_good['msisdn_good'] == prepaid_final['msisdn']) & (prepaid_final_good['MoA_good'] == prepaid_final['month_of_analysis'])),\n",
    "                                                   how = 'inner').drop('Churned')"
   ]
  },
  {
   "cell_type": "code",
   "execution_count": null,
   "metadata": {},
   "outputs": [],
   "source": [
    "prepaid_bad_feats = prepaid_final_bad.join(prepaid_final,\n",
    "                                           on = (prepaid_final_bad['msisdn_bad'] == prepaid_final['msisdn']) & (prepaid_final_bad['MoA_bad'] == prepaid_final['month_of_analysis']),\n",
    "                                           how = 'inner').drop('Churned')"
   ]
  },
  {
   "cell_type": "code",
   "execution_count": null,
   "metadata": {},
   "outputs": [],
   "source": [
    "prepaid_good_feats = prepaid_good_feats.drop('msisdn_good', 'MoA_good')\n",
    "prepaid_bad_feats = prepaid_bad_feats.drop('msisdn_bad', 'MoA_bad')"
   ]
  },
  {
   "cell_type": "code",
   "execution_count": null,
   "metadata": {},
   "outputs": [],
   "source": [
    "\n",
    "\n",
    "prepaid_good_feats = spark.read.load('/data/udf/vf_es/churn/portabPropension_model/prepaid_good_feats')\n",
    "prepaid_bad_feats = spark.read.load('/data/udf/vf_es/churn/portabPropension_model/prepaid_bad_feats')\n",
    "\n",
    "'''\n",
    "prepaid_good_feats.repartition(300).write.save('/data/udf/vf_es/churn/portabPropension_model/prepaid_good_feats', format='parquet', mode='overwrite')\n",
    "prepaid_bad_feats.repartition(300).write.save('/data/udf/vf_es/churn/portabPropension_model/prepaid_bad_feats', format='parquet', mode='overwrite')\n",
    "'''"
   ]
  },
  {
   "cell_type": "markdown",
   "metadata": {},
   "source": [
    "# M1: Entrenamos sólo aquellas muestras que han sido predichas erróneamente en nuestro anterior modelo."
   ]
  },
  {
   "cell_type": "code",
   "execution_count": null,
   "metadata": {},
   "outputs": [],
   "source": [
    "%load_ext autoreload\n",
    "%autoreload 2\n",
    "import sys\n",
    "\n",
    "sys.path.append('/var/SP/data/home/carnaum2/New_general_model_trainer') \n",
    "\n",
    "from new_general_model_trainer import GeneralModelTrainer\n",
    "from model_outputs import ModelParameters\n",
    "\n",
    "modeler1=GeneralModelTrainer(df=prepaid_bad_feats,label_col='Churned_new',ignore_cols=[])\n",
    "modeler1.relevelCategoricalVars() #se crea un diccionario que se puede cargar en ejecuciones posteriores"
   ]
  },
  {
   "cell_type": "code",
   "execution_count": null,
   "metadata": {},
   "outputs": [],
   "source": [
    "modeler1.generateFeaturesVector()"
   ]
  },
  {
   "cell_type": "code",
   "execution_count": null,
   "metadata": {},
   "outputs": [],
   "source": [
    "modeler1.minMaxScale()"
   ]
  },
  {
   "cell_type": "code",
   "execution_count": null,
   "metadata": {},
   "outputs": [],
   "source": [
    "modeler1.split_train_test()"
   ]
  },
  {
   "cell_type": "code",
   "execution_count": null,
   "metadata": {},
   "outputs": [],
   "source": [
    "# Vamos a probar con GBTs \n",
    "\n",
    "from pyspark.ml.classification import RandomForestClassifier, GBTClassifier, DecisionTreeClassifier, LogisticRegression\n",
    "\n",
    "rfc = RandomForestClassifier(numTrees=1500, maxDepth=4, labelCol = modeler1.label_col )\n",
    "\n",
    "#modeler1.train()\n",
    "\n",
    "modeler1.train(ml_alg=rfc)"
   ]
  },
  {
   "cell_type": "code",
   "execution_count": null,
   "metadata": {},
   "outputs": [],
   "source": [
    "modeler1.evaluate()"
   ]
  },
  {
   "cell_type": "code",
   "execution_count": null,
   "metadata": {},
   "outputs": [],
   "source": [
    "modeler1.varimp_plot(show=50)"
   ]
  },
  {
   "cell_type": "markdown",
   "metadata": {},
   "source": [
    "# M2: Entrenamos un modelo con las muestras bien predichas en el modelo inicial."
   ]
  },
  {
   "cell_type": "code",
   "execution_count": null,
   "metadata": {},
   "outputs": [],
   "source": [
    "%load_ext autoreload\n",
    "%autoreload 2\n",
    "import sys\n",
    "\n",
    "sys.path.append('/var/SP/data/home/carnaum2/New_general_model_trainer') \n",
    "\n",
    "from new_general_model_trainer import GeneralModelTrainer\n",
    "from model_outputs import ModelParameters\n",
    "\n",
    "modeler2=GeneralModelTrainer(df=prepaid_good_feats,label_col='Churned_new',ignore_cols=[])\n",
    "modeler2.relevelCategoricalVars() #se crea un diccionario que se puede cargar en ejecuciones posteriores"
   ]
  },
  {
   "cell_type": "code",
   "execution_count": null,
   "metadata": {},
   "outputs": [],
   "source": [
    "modeler2.generateFeaturesVector()"
   ]
  },
  {
   "cell_type": "code",
   "execution_count": null,
   "metadata": {},
   "outputs": [],
   "source": [
    "modeler2.minMaxScale()"
   ]
  },
  {
   "cell_type": "code",
   "execution_count": null,
   "metadata": {
    "scrolled": true
   },
   "outputs": [],
   "source": [
    "modeler2.split_train_test()"
   ]
  },
  {
   "cell_type": "code",
   "execution_count": null,
   "metadata": {},
   "outputs": [],
   "source": [
    "# Vamos a probar con GBTs \n",
    "\n",
    "from pyspark.ml.classification import RandomForestClassifier, GBTClassifier, DecisionTreeClassifier, LogisticRegression\n",
    "\n",
    "rfc = RandomForestClassifier(numTrees=2500, maxDepth=4, labelCol = modeler2.label_col )\n",
    "\n",
    "modeler2.train(ml_alg=rfc )"
   ]
  },
  {
   "cell_type": "code",
   "execution_count": null,
   "metadata": {},
   "outputs": [],
   "source": [
    "modeler2.evaluate()"
   ]
  },
  {
   "cell_type": "code",
   "execution_count": null,
   "metadata": {},
   "outputs": [],
   "source": [
    "modeler2.varimp_plot(show=50)"
   ]
  },
  {
   "cell_type": "code",
   "execution_count": null,
   "metadata": {},
   "outputs": [],
   "source": [
    "modeler2.predict()"
   ]
  },
  {
   "cell_type": "code",
   "execution_count": null,
   "metadata": {},
   "outputs": [],
   "source": [
    "modeler1.predict()"
   ]
  },
  {
   "cell_type": "code",
   "execution_count": null,
   "metadata": {},
   "outputs": [],
   "source": [
    "m1_predicted = modeler1.predictions"
   ]
  },
  {
   "cell_type": "code",
   "execution_count": null,
   "metadata": {},
   "outputs": [],
   "source": [
    "df = (df_classified.select('month_of_analysis', 'score', 'msisdn')\n",
    "      .withColumnRenamed('msisdn', 'msisdn_df')\n",
    "      .withColumnRenamed('month_of_analysis', 'month_of_analysis_df')\n",
    "      .withColumnRenamed('score', 'score_df')\n",
    "     ).drop_duplicates(['msisdn_df', 'month_of_analysis_df'])"
   ]
  },
  {
   "cell_type": "code",
   "execution_count": null,
   "metadata": {},
   "outputs": [],
   "source": [
    "m1_predicted = (m1_predicted.select('msisdn', 'month_of_analysis', 'score')\n",
    "                .withColumnRenamed('msisdn', 'msisdn_m1')\n",
    "                .withColumnRenamed('score', 'score_m1')\n",
    "                .withColumnRenamed('month_of_analysis', 'month_of_analysis_m1')\n",
    "               ).drop_duplicates(['msisdn_m1', 'month_of_analysis_m1'])"
   ]
  },
  {
   "cell_type": "code",
   "execution_count": null,
   "metadata": {},
   "outputs": [],
   "source": [
    "m2_predicted = (modeler2.predictions.select('msisdn', 'month_of_analysis', 'score')\n",
    "                .withColumnRenamed('msisdn', 'msisdn_m2')\n",
    "                .withColumnRenamed('score', 'score_m2')\n",
    "                .withColumnRenamed('month_of_analysis', 'month_of_analysis_m2')\n",
    "               ).drop_duplicates(['msisdn_m2', 'month_of_analysis_m2'])"
   ]
  },
  {
   "cell_type": "code",
   "execution_count": null,
   "metadata": {},
   "outputs": [],
   "source": [
    "m1_join = m1_predicted.join(df, \n",
    "                  on = ((m1_predicted['msisdn_m1']==df['msisdn_df'])\n",
    "                        &(m1_predicted['month_of_analysis_m1']==df['month_of_analysis_df'])),\n",
    "                  how = 'inner')"
   ]
  },
  {
   "cell_type": "code",
   "execution_count": null,
   "metadata": {},
   "outputs": [],
   "source": [
    "df_final = m2_predicted.join(m1_join, \n",
    "                  on = ((m2_predicted['msisdn_m2']==m1_join['msisdn_df'])\n",
    "                        &(m2_predicted['month_of_analysis_m2']==m1_join['month_of_analysis_df'])),\n",
    "                  how = 'inner')"
   ]
  },
  {
   "cell_type": "code",
   "execution_count": null,
   "metadata": {},
   "outputs": [],
   "source": [
    "df_final = df_final.drop(*['msisdn_m2', 'msisdn_m1', 'month_of_analysis_m1', 'month_of_analysis_m2'])"
   ]
  },
  {
   "cell_type": "code",
   "execution_count": null,
   "metadata": {},
   "outputs": [],
   "source": [
    "df_final = df_final.drop_duplicates(['msisdn_df', 'month_of_analysis_df'])"
   ]
  },
  {
   "cell_type": "code",
   "execution_count": null,
   "metadata": {},
   "outputs": [],
   "source": [
    "df_prepared = df_final.join(prepaid_final, \n",
    "                            on = ((df_final['msisdn_df']==prepaid_final['msisdn'])\n",
    "                                  &(df_final['month_of_analysis_df']==prepaid_final['month_of_analysis'])),\n",
    "                            how = 'inner'\n",
    "                           )"
   ]
  },
  {
   "cell_type": "code",
   "execution_count": null,
   "metadata": {},
   "outputs": [],
   "source": [
    "df_prepared = df_prepared.select('Churned', 'msisdn', 'NUM_CLIENTE', 'score_m1', 'score_m2', 'score_df', 'month_of_analysis')"
   ]
  },
  {
   "cell_type": "code",
   "execution_count": null,
   "metadata": {},
   "outputs": [],
   "source": [
    "df_prepared.groupBy('Churned').count().show()"
   ]
  },
  {
   "cell_type": "code",
   "execution_count": null,
   "metadata": {},
   "outputs": [],
   "source": [
    "df_prepared.groupBy('month_of_analysis').count().show()"
   ]
  },
  {
   "cell_type": "code",
   "execution_count": 6,
   "metadata": {},
   "outputs": [
    {
     "data": {
      "text/plain": [
       "\"\\ndf_prepared.repartition(300).write.save('/data/udf/vf_es/churn/portabPropension_model/df_prepared', format='parquet', mode='overwrite')\\n\""
      ]
     },
     "execution_count": 6,
     "metadata": {},
     "output_type": "execute_result"
    }
   ],
   "source": [
    "\n",
    "df_prepared= spark.read.load('/data/udf/vf_es/churn/portabPropension_model/df_prepared')\n",
    "\n",
    "\n",
    "'''\n",
    "df_prepared.repartition(300).write.save('/data/udf/vf_es/churn/portabPropension_model/df_prepared', format='parquet', mode='overwrite')\n",
    "'''"
   ]
  },
  {
   "cell_type": "markdown",
   "metadata": {},
   "source": [
    "# Predecimos con los resultados de los modelos `m1` y `m2`."
   ]
  },
  {
   "cell_type": "code",
   "execution_count": 7,
   "metadata": {},
   "outputs": [
    {
     "name": "stdout",
     "output_type": "stream",
     "text": [
      "label_col is Churned of type int\n",
      "[Tue Nov 19 10:05:06 2019] Label Churned is numeric, so no need of converting or indexing it\n",
      "\n",
      "\n",
      "Using default list of 56 identifer columns and columns to ignore of IDS\n",
      "There are 7 columns in given DataFrame\n",
      "There are 1 int columns\n",
      "There are 3 float columns\n",
      "There are 3 string columns\n",
      "\n",
      "\n",
      "There are 0 categorical columns\n",
      "There are 3 numeric columns\n",
      "[Tue Nov 19 10:05:06 2019] Counting number of distinct values in categorical variables ...\n"
     ]
    },
    {
     "name": "stderr",
     "output_type": "stream",
     "text": [
      "\r",
      "0variable [00:00, ?variable/s]"
     ]
    },
    {
     "name": "stdout",
     "output_type": "stream",
     "text": [
      "[Tue Nov 19 10:05:06 2019] Counting number of distinct values in categorical variables ... done\n",
      "[Tue Nov 19 10:05:06 2019] Detected 0 constant columns: []\n",
      "[Tue Nov 19 10:05:06 2019] Writing cols_to_relevel to disk cols_to_relevel-20191119100506.txt\n",
      "[Tue Nov 19 10:05:06 2019] Releveling 0 categorical variables with more than 32 levels, and dropping constant columns: []\n",
      "[Tue Nov 19 10:05:06 2019] Releveled  0 categorical variables with more than 32 levels, and dropped constant columns\n"
     ]
    },
    {
     "name": "stderr",
     "output_type": "stream",
     "text": [
      "\n"
     ]
    },
    {
     "data": {
      "text/plain": [
       "<new_general_model_trainer.GeneralModelTrainer instance at 0x7efc0c3ec4d0>"
      ]
     },
     "execution_count": 7,
     "metadata": {},
     "output_type": "execute_result"
    }
   ],
   "source": [
    "%load_ext autoreload\n",
    "%autoreload 2\n",
    "import sys\n",
    "\n",
    "sys.path.append('/var/SP/data/home/carnaum2/New_general_model_trainer') \n",
    "\n",
    "from new_general_model_trainer import GeneralModelTrainer\n",
    "from model_outputs import ModelParameters\n",
    "\n",
    "modeler_final = GeneralModelTrainer(df=df_prepared, label_col='Churned')\n",
    "modeler_final.relevelCategoricalVars() #se crea un diccionario que se puede cargar en ejecuciones posteriores"
   ]
  },
  {
   "cell_type": "code",
   "execution_count": 8,
   "metadata": {},
   "outputs": [
    {
     "name": "stdout",
     "output_type": "stream",
     "text": [
      "[Tue Nov 19 10:05:08 2019] Counting NULLs in label Churned ...\n",
      "[Tue Nov 19 10:05:15 2019] Counting NULLs in label Churned ... 401425\n",
      "[Tue Nov 19 10:05:15 2019] Using column 'pred' to separate NULLs ...\n",
      "[Tue Nov 19 10:05:15 2019] Using column 'pred' to separate NULLs ... done\n",
      "[Tue Nov 19 10:05:15 2019] Skipped indexing categorical features ... already done\n",
      "[Tue Nov 19 10:05:15 2019] Assembling 3 features ...\n",
      "[Tue Nov 19 10:05:16 2019] Assembling 3 features ... done\n"
     ]
    },
    {
     "data": {
      "text/plain": [
       "<new_general_model_trainer.GeneralModelTrainer instance at 0x7efc0c3ec4d0>"
      ]
     },
     "execution_count": 8,
     "metadata": {},
     "output_type": "execute_result"
    }
   ],
   "source": [
    "modeler_final.generateFeaturesVector()"
   ]
  },
  {
   "cell_type": "code",
   "execution_count": 9,
   "metadata": {},
   "outputs": [
    {
     "name": "stdout",
     "output_type": "stream",
     "text": [
      "[Tue Nov 19 10:05:16 2019] Applying minMaxScaler to range [0.000000, 1.000000] ...\n",
      "[Tue Nov 19 10:05:24 2019] Applying minMaxScaler to range [0.000000, 1.000000] ... done\n"
     ]
    },
    {
     "data": {
      "text/plain": [
       "<new_general_model_trainer.GeneralModelTrainer instance at 0x7efc0c3ec4d0>"
      ]
     },
     "execution_count": 9,
     "metadata": {},
     "output_type": "execute_result"
    }
   ],
   "source": [
    "modeler_final.minMaxScale()"
   ]
  },
  {
   "cell_type": "code",
   "execution_count": 10,
   "metadata": {},
   "outputs": [
    {
     "name": "stdout",
     "output_type": "stream",
     "text": [
      "[Tue Nov 19 10:05:24 2019] Found column \"pred\". Removing prediction rows for training\n",
      "[Tue Nov 19 10:05:24 2019] Splitting data set into train(70%)/test(30%) ...\n",
      "[Tue Nov 19 10:05:24 2019] Splitting data set into train(70%)/test(30%) ... done\n"
     ]
    },
    {
     "data": {
      "text/plain": [
       "<new_general_model_trainer.GeneralModelTrainer instance at 0x7efc0c3ec4d0>"
      ]
     },
     "execution_count": 10,
     "metadata": {},
     "output_type": "execute_result"
    }
   ],
   "source": [
    "modeler_final.split_train_test()"
   ]
  },
  {
   "cell_type": "code",
   "execution_count": 11,
   "metadata": {},
   "outputs": [],
   "source": [
    "# Nos permite ir re-entrenando modelos sobre el mismo dataset.\n",
    "\n",
    "#modeler_final.reset_stages()"
   ]
  },
  {
   "cell_type": "code",
   "execution_count": 17,
   "metadata": {},
   "outputs": [
    {
     "name": "stdout",
     "output_type": "stream",
     "text": [
      "[Tue Nov 19 10:06:24 2019] Not found column \"pred\". Removing null rows for training\n",
      "[Tue Nov 19 10:06:24 2019] Balancing train data ...\n",
      "[Tue Nov 19 10:06:28 2019] Sampling DataFrame by column Churned_without_nulls with fractions: {0: 0.009559686155015436, 1: 1.0} ...\n",
      "[Tue Nov 19 10:06:28 2019] Sampling DataFrame by column Churned_without_nulls with fractions: {0: 0.009559686155015436, 1: 1.0} ... done\n",
      "[Tue Nov 19 10:06:28 2019] Caching train data ...\n",
      "[Tue Nov 19 10:06:28 2019] Caching train data ... done\n",
      "[Tue Nov 19 10:06:28 2019] Balancing test data ...\n",
      "[Tue Nov 19 10:06:31 2019] Sampling DataFrame by column Churned_without_nulls with fractions: {0: 0.00913792892631373, 1: 1.0} ...\n",
      "[Tue Nov 19 10:06:31 2019] Sampling DataFrame by column Churned_without_nulls with fractions: {0: 0.00913792892631373, 1: 1.0} ... done\n",
      "[Tue Nov 19 10:06:31 2019] Caching test data ...\n",
      "[Tue Nov 19 10:06:31 2019] Caching test data ... done\n",
      "[Tue Nov 19 10:06:31 2019] Added new stage: RandomForestClassifier_4871a65c489fda48dca5\n",
      "[Tue Nov 19 10:06:31 2019] Training RandomForestClassifier model ...\n",
      "[Tue Nov 19 10:07:03 2019] Training RandomForestClassifier model ... done\n",
      "[Tue Nov 19 10:07:03 2019] Trained  RandomForestClassificationModel (uid=RandomForestClassifier_4871a65c489fda48dca5) with 2500 trees\n"
     ]
    },
    {
     "data": {
      "text/plain": [
       "<new_general_model_trainer.GeneralModelTrainer instance at 0x7efc0c3ec4d0>"
      ]
     },
     "execution_count": 17,
     "metadata": {},
     "output_type": "execute_result"
    }
   ],
   "source": [
    "from pyspark.ml.classification import RandomForestClassifier, GBTClassifier\n",
    "\n",
    "GBT = GBTClassifier(maxDepth=3, labelCol=modeler_final.label_col)\n",
    "\n",
    "rfc = RandomForestClassifier(numTrees=2500, maxDepth=4, labelCol = modeler_final.label_col)\n",
    "\n",
    "modeler_final.train(ml_alg=rfc)\n",
    "#modeler_final.train()"
   ]
  },
  {
   "cell_type": "code",
   "execution_count": 18,
   "metadata": {},
   "outputs": [
    {
     "name": "stdout",
     "output_type": "stream",
     "text": [
      "Model Performance Metrics using (balanced) train data\n",
      "=====================================================\n",
      "[Tue Nov 19 10:07:03 2019] Predicting data ...\n",
      "[Tue Nov 19 10:07:03 2019] Using element -1 as positive class\n",
      "[Tue Nov 19 10:07:03 2019] Predicting data ... done\n",
      "[Tue Nov 19 10:07:03 2019] Converting evaluation_predictions to Pandas ...\n",
      "[Tue Nov 19 10:07:35 2019] Converting evaluation_predictions to Pandas ... done\n",
      "matthews_corrcoef: 0.33866519932639394\n",
      "f2_score: 0.7033234357671807\n",
      "jaccard_similarity_score: 0.6685198687568356\n",
      "precision_score: 0.6534818015622403\n",
      "classification_report:\n",
      "              precision    recall  f1-score   support\n",
      "\n",
      "           0       0.69      0.62      0.65      5488\n",
      "           1       0.65      0.72      0.68      5484\n",
      "\n",
      "   micro avg       0.67      0.67      0.67     10972\n",
      "   macro avg       0.67      0.67      0.67     10972\n",
      "weighted avg       0.67      0.67      0.67     10972\n",
      "\n",
      "average_precision_score: 0.7164955001557555\n",
      "confusion_matrix:\n",
      "[[3403, 2085], [1552, 3932]]\n",
      "hinge_loss: 0.9278927427987156\n",
      "f1_score: 0.6837666289887836\n",
      "roc_auc_score: 0.7335607441632483\n",
      "log_loss: 0.6039066337572032\n",
      "lift: [1.632653, 1.399417, 1.320445, 1.22743, 1.094291, 1.008572, 0.846252, 0.700346, 0.543498, 0.226154]\n",
      "f0point5_score: 0.6652680021656742\n",
      "zero_one_loss: 0.33148013124316444\n",
      "cohen_kappa_score: 0.33706313046856295\n",
      "accuracy_score: 0.6685198687568356\n",
      "recall_score: 0.7169948942377826\n",
      "brier_score_loss: 0.20880632640141417\n",
      "hamming_loss: 0.33148013124316444\n",
      "gains_lift_table:\n",
      "Gains/Lift Table: Avg response rate: 49.98 %\n",
      "    group  cumulative_data_fraction  lower_threshold      lift  \\\n",
      "1     1.0                  0.100073         0.699118  1.632653   \n",
      "2     2.0                  0.200146         0.676763  1.399417   \n",
      "3     3.0                  0.300128         0.625047  1.320445   \n",
      "4     4.0                  0.400109         0.563782  1.227430   \n",
      "5     5.0                  0.500091         0.527358  1.094291   \n",
      "6     6.0                  0.600073         0.467069  1.008572   \n",
      "7     7.0                  0.700055         0.401112  0.846252   \n",
      "8     8.0                  0.800036         0.332679  0.700346   \n",
      "9     9.0                  0.900018         0.245562  0.543498   \n",
      "10   10.0                  1.000000         0.078006  0.226154   \n",
      "\n",
      "    cumulative_lift  response_rate  cumulative_response_rate  capture_rate  \\\n",
      "1          1.632653       0.816029                  0.816029      0.163384   \n",
      "2          1.516035       0.699454                  0.757741      0.140044   \n",
      "3          1.450878       0.659982                  0.725175      0.132020   \n",
      "4          1.395042       0.613491                  0.697267      0.122721   \n",
      "5          1.334913       0.546946                  0.667213      0.109409   \n",
      "6          1.280540       0.504102                  0.640036      0.100839   \n",
      "7          1.218515       0.422972                  0.609035      0.084610   \n",
      "8          1.153759       0.350046                  0.576669      0.070022   \n",
      "9          1.085966       0.271650                  0.542785      0.054340   \n",
      "10         1.000000       0.113036                  0.499818      0.022611   \n",
      "\n",
      "    cumulative_capture_rate       gain  cumulative_gain  \n",
      "1                  0.163384  63.265350        63.265350  \n",
      "2                  0.303428  39.941728        51.603539  \n",
      "3                  0.435448  32.044492        45.087816  \n",
      "4                  0.558169  22.743016        39.504161  \n",
      "5                  0.667578   9.429137        33.491349  \n",
      "6                  0.768417   0.857188        28.053974  \n",
      "7                  0.853027 -15.374800        21.851479  \n",
      "8                  0.923049 -29.965352        15.375851  \n",
      "9                  0.977389 -45.650195         8.596552  \n",
      "10                 1.000000 -77.384645         0.000000  \n",
      "Model Performance Metrics using balanced test data\n",
      "==================================================\n",
      "[Tue Nov 19 10:07:35 2019] Predicting data ...\n",
      "[Tue Nov 19 10:07:35 2019] Using element -1 as positive class\n",
      "[Tue Nov 19 10:07:35 2019] Predicting data ... done\n",
      "[Tue Nov 19 10:07:35 2019] Converting evaluation_predictions to Pandas ...\n",
      "[Tue Nov 19 10:07:56 2019] Converting evaluation_predictions to Pandas ... done\n",
      "matthews_corrcoef: 0.3217328809194571\n",
      "f2_score: 0.6993555129768333\n",
      "jaccard_similarity_score: 0.6593115622241836\n",
      "precision_score: 0.6388225934765315\n",
      "classification_report:\n",
      "              precision    recall  f1-score   support\n",
      "\n",
      "           0       0.68      0.60      0.64      2290\n",
      "           1       0.64      0.72      0.68      2242\n",
      "\n",
      "   micro avg       0.66      0.66      0.66      4532\n",
      "   macro avg       0.66      0.66      0.66      4532\n",
      "weighted avg       0.66      0.66      0.66      4532\n",
      "\n",
      "average_precision_score: 0.6978481234273324\n",
      "confusion_matrix:\n",
      "[[1382, 908], [636, 1606]]\n",
      "hinge_loss: 0.9365027108330802\n",
      "f1_score: 0.6753574432296047\n",
      "roc_auc_score: 0.7238094496102592\n",
      "log_loss: 0.6109870543705853\n",
      "lift: [1.589522, 1.42033, 1.387767, 1.160191, 1.044172, 1.004011, 0.879068, 0.691652, 0.580095, 0.240963]\n",
      "f0point5_score: 0.6529516994633274\n",
      "zero_one_loss: 0.34068843777581637\n",
      "cohen_kappa_score: 0.3194120342956651\n",
      "accuracy_score: 0.6593115622241836\n",
      "recall_score: 0.7163247100802854\n",
      "brier_score_loss: 0.21183824073201896\n",
      "hamming_loss: 0.3406884377758164\n",
      "gains_lift_table:\n",
      "Gains/Lift Table: Avg response rate: 49.47 %\n",
      "    group  cumulative_data_fraction  lower_threshold      lift  \\\n",
      "1     1.0                  0.100177         0.700463  1.589522   \n",
      "2     2.0                  0.200353         0.677178  1.420330   \n",
      "3     3.0                  0.300309         0.625462  1.387767   \n",
      "4     4.0                  0.400265         0.563457  1.160191   \n",
      "5     5.0                  0.500221         0.527598  1.044172   \n",
      "6     6.0                  0.600177         0.471806  1.004011   \n",
      "7     7.0                  0.700132         0.403607  0.879068   \n",
      "8     8.0                  0.800088         0.338055  0.691652   \n",
      "9     9.0                  0.900044         0.249077  0.580095   \n",
      "10   10.0                  1.000000         0.081744  0.240963   \n",
      "\n",
      "    cumulative_lift  response_rate  cumulative_response_rate  capture_rate  \\\n",
      "1          1.589522       0.786344                  0.786344      0.159233   \n",
      "2          1.504926       0.702643                  0.744493      0.142284   \n",
      "3          1.465930       0.686534                  0.725202      0.138715   \n",
      "4          1.389580       0.573951                  0.687431      0.115968   \n",
      "5          1.320559       0.516556                  0.653286      0.104371   \n",
      "6          1.267840       0.496689                  0.627206      0.100357   \n",
      "7          1.212336       0.434879                  0.599748      0.087868   \n",
      "8          1.147286       0.342163                  0.567568      0.069135   \n",
      "9          1.084296       0.286976                  0.536406      0.057984   \n",
      "10         1.000000       0.119205                  0.494704      0.024086   \n",
      "\n",
      "    cumulative_capture_rate       gain  cumulative_gain  \n",
      "1                  0.159233  58.952241        58.952241  \n",
      "2                  0.301517  42.032955        50.492598  \n",
      "3                  0.440232  38.776676        46.593030  \n",
      "4                  0.556200  16.019086        38.957971  \n",
      "5                  0.660571   4.417177        32.055907  \n",
      "6                  0.760928   0.401132        26.783990  \n",
      "7                  0.848796 -12.093231        21.233602  \n",
      "8                  0.917931 -30.834776        14.728645  \n",
      "9                  0.975915 -41.990457         8.429612  \n",
      "10                 1.000000 -75.903728         0.000000  \n",
      "Model Performance Metrics using unbalanced test data\n",
      "====================================================\n",
      "[Tue Nov 19 10:07:56 2019] Predicting data ...\n",
      "[Tue Nov 19 10:07:56 2019] Using element -1 as positive class\n",
      "[Tue Nov 19 10:07:56 2019] Predicting data ... done\n",
      "[Tue Nov 19 10:07:56 2019] Converting evaluation_predictions to Pandas ...\n",
      "[Tue Nov 19 10:10:22 2019] Converting evaluation_predictions to Pandas ... done\n",
      "matthews_corrcoef: 0.06545503535499911\n",
      "f2_score: 0.07728957120169401\n",
      "jaccard_similarity_score: 0.6205183506803504\n",
      "precision_score: 0.016918263507748058\n",
      "classification_report:\n",
      "              precision    recall  f1-score   support\n",
      "\n",
      "           0       1.00      0.62      0.76    245351\n",
      "           1       0.02      0.72      0.03      2242\n",
      "\n",
      "   micro avg       0.62      0.62      0.62    247593\n",
      "   macro avg       0.51      0.67      0.40    247593\n",
      "weighted avg       0.99      0.62      0.76    247593\n",
      "\n",
      "average_precision_score: 0.028610796920186622\n",
      "confusion_matrix:\n",
      "[[152030, 93321], [636, 1606]]\n",
      "hinge_loss: 1.420480593383107\n",
      "f1_score: 0.03305580998054935\n",
      "roc_auc_score: 0.730229733934203\n",
      "log_loss: 0.612762270752576\n",
      "lift: [3.068602, 1.833133, 1.333593, 1.074946, 0.816245, 0.682435, 0.526322, 0.361289, 0.209637, 0.093668]\n",
      "f0point5_score: 0.021023694200811623\n",
      "zero_one_loss: 0.37948164931964956\n",
      "cohen_kappa_score: 0.015640018591757343\n",
      "accuracy_score: 0.6205183506803504\n",
      "recall_score: 0.7163247100802854\n",
      "brier_score_loss: 0.2149442946811961\n",
      "hamming_loss: 0.37948164931964956\n",
      "gains_lift_table:\n",
      "Gains/Lift Table: Avg response rate: 0.91 %\n",
      "    group  cumulative_data_fraction  lower_threshold      lift  \\\n",
      "1     1.0                  0.100003         0.676056  3.068602   \n",
      "2     2.0                  0.200006         0.597120  1.833133   \n",
      "3     3.0                  0.300008         0.537169  1.333593   \n",
      "4     4.0                  0.400007         0.494152  1.074946   \n",
      "5     5.0                  0.500006         0.437898  0.816245   \n",
      "6     6.0                  0.600005         0.371693  0.682435   \n",
      "7     7.0                  0.700004         0.326829  0.526322   \n",
      "8     8.0                  0.800002         0.278149  0.361289   \n",
      "9     9.0                  0.900001         0.190820  0.209637   \n",
      "10   10.0                  1.000000         0.073456  0.093668   \n",
      "\n",
      "    cumulative_lift  response_rate  cumulative_response_rate  capture_rate  \\\n",
      "1          3.068602       0.027787                  0.027787      0.306869   \n",
      "2          2.450867       0.016599                  0.022193      0.183318   \n",
      "3          2.078443       0.012076                  0.018821      0.133363   \n",
      "4          1.827576       0.009734                  0.016549      0.107493   \n",
      "5          1.625315       0.007391                  0.014718      0.081624   \n",
      "6          1.468171       0.006180                  0.013295      0.068243   \n",
      "7          1.333624       0.004766                  0.012076      0.052632   \n",
      "8          1.212084       0.003272                  0.010976      0.036128   \n",
      "9          1.100702       0.001898                  0.009967      0.020963   \n",
      "10         1.000000       0.000848                  0.009055      0.009367   \n",
      "\n",
      "    cumulative_capture_rate        gain  cumulative_gain  \n",
      "1                  0.306869  206.860191       206.860191  \n",
      "2                  0.490187   83.313283       145.086737  \n",
      "3                  0.623550   33.359298       107.844258  \n",
      "4                  0.731043    7.494612        82.757606  \n",
      "5                  0.812667  -18.375461        62.531483  \n",
      "6                  0.880910  -31.756533        46.817131  \n",
      "7                  0.933542  -47.367783        33.362376  \n",
      "8                  0.969670  -63.871106        21.208375  \n",
      "9                  0.990633  -79.036320        10.070225  \n",
      "10                 1.000000  -90.633250         0.000000  \n"
     ]
    },
    {
     "data": {
      "text/plain": [
       "<new_general_model_trainer.GeneralModelTrainer instance at 0x7efc0c3ec4d0>"
      ]
     },
     "execution_count": 18,
     "metadata": {},
     "output_type": "execute_result"
    }
   ],
   "source": [
    "modeler_final.evaluate()"
   ]
  },
  {
   "cell_type": "code",
   "execution_count": 19,
   "metadata": {},
   "outputs": [
    {
     "data": {
      "image/png": "[encoded data removed]",
      "text/plain": [
       "<Figure size 648x432 with 1 Axes>"
      ]
     },
     "metadata": {},
     "output_type": "display_data"
    }
   ],
   "source": [
    "modeler_final.roc_plot(modeler_final.metrics_unbalanced_test ,figsize=(9,6))"
   ]
  },
  {
   "cell_type": "code",
   "execution_count": 20,
   "metadata": {},
   "outputs": [
    {
     "data": {
      "text/plain": [
       "<Figure size 648x432 with 0 Axes>"
      ]
     },
     "metadata": {},
     "output_type": "display_data"
    },
    {
     "data": {
      "image/png": "[encoded data removed]",
      "text/plain": [
       "<Figure size 648x432 with 1 Axes>"
      ]
     },
     "metadata": {},
     "output_type": "display_data"
    }
   ],
   "source": [
    "modeler_final.plot_scores_histograms(modeler_final.metrics_unbalanced_test, figsize=(9,6))"
   ]
  },
  {
   "cell_type": "code",
   "execution_count": 21,
   "metadata": {},
   "outputs": [],
   "source": [
    "evaluation_metrics_balanced_test = modeler_final.metrics_balanced_test"
   ]
  },
  {
   "cell_type": "code",
   "execution_count": 22,
   "metadata": {},
   "outputs": [],
   "source": [
    "evaluation_metrics_unbalanced_test = modeler_final.metrics_unbalanced_test"
   ]
  },
  {
   "cell_type": "code",
   "execution_count": 23,
   "metadata": {},
   "outputs": [],
   "source": [
    "evaluation_metrics_train = modeler_final.metrics_train"
   ]
  },
  {
   "cell_type": "code",
   "execution_count": 24,
   "metadata": {},
   "outputs": [
    {
     "name": "stdout",
     "output_type": "stream",
     "text": [
      "[Tue Nov 19 10:10:24 2019] Selecting rows to predict\n",
      "[Tue Nov 19 10:10:24 2019] Found column \"pred\". Selecting prediction rows\n",
      "[Tue Nov 19 10:10:24 2019] Predicting data ...\n",
      "[Tue Nov 19 10:10:24 2019] Using last element as positive class\n",
      "[Tue Nov 19 10:10:24 2019] Predicting data ... done\n"
     ]
    },
    {
     "data": {
      "text/plain": [
       "<new_general_model_trainer.GeneralModelTrainer instance at 0x7efc0c3ec4d0>"
      ]
     },
     "execution_count": 24,
     "metadata": {},
     "output_type": "execute_result"
    }
   ],
   "source": [
    "modeler_final.predict()"
   ]
  },
  {
   "cell_type": "code",
   "execution_count": 25,
   "metadata": {},
   "outputs": [],
   "source": [
    "modeler_final_to_predict = modeler_final.predictions.filter(col('month_of_analysis') == 'Month of prediction = M')"
   ]
  },
  {
   "cell_type": "code",
   "execution_count": 26,
   "metadata": {},
   "outputs": [],
   "source": [
    "modeler_final_to_train = modeler_final.predictions.filter(col('month_of_analysis') == 'Month of training = M-1')"
   ]
  },
  {
   "cell_type": "code",
   "execution_count": 27,
   "metadata": {},
   "outputs": [
    {
     "name": "stdout",
     "output_type": "stream",
     "text": [
      "+----------+------+\n",
      "|prediction| count|\n",
      "+----------+------+\n",
      "|       0.0|267597|\n",
      "|       1.0|133828|\n",
      "+----------+------+\n",
      "\n"
     ]
    }
   ],
   "source": [
    "modeler_final_to_predict.groupBy('prediction').count().show()"
   ]
  },
  {
   "cell_type": "code",
   "execution_count": 28,
   "metadata": {},
   "outputs": [
    {
     "name": "stdout",
     "output_type": "stream",
     "text": [
      "+--------------------+------+\n",
      "|   month_of_analysis| count|\n",
      "+--------------------+------+\n",
      "|Month of predicti...|401425|\n",
      "+--------------------+------+\n",
      "\n"
     ]
    }
   ],
   "source": [
    "modeler_final_to_predict.groupBy('month_of_analysis').count().show()"
   ]
  },
  {
   "cell_type": "markdown",
   "metadata": {},
   "source": [
    "# Generamos los deciles para añadir a la entrega."
   ]
  },
  {
   "cell_type": "code",
   "execution_count": 29,
   "metadata": {},
   "outputs": [],
   "source": [
    "from pyspark.sql.functions import monotonically_increasing_id\n",
    "import numpy as np\n",
    "\n",
    "## Generación de deciles sobre el Dataframe, únicamente considerando clientes propensos.\n",
    "\n",
    "def get_deciles(df):\n",
    "    \n",
    "    i = 0\n",
    "    j = 0\n",
    "    \n",
    "    lista_msisdn = df.select('msisdn').toPandas()['msisdn'].tolist()\n",
    "    lista_deciles = []\n",
    "    \n",
    "    lista_msisdn\n",
    "    \n",
    "    num_propensos = df.filter(col('prediction') == 1).count()\n",
    "    len_df = df.count()\n",
    "    decil_amount = np.round(float(num_propensos)/10)\n",
    "    \n",
    "    df = df.orderBy('score', ascending=False)\n",
    "    \n",
    "    while i < 10:\n",
    "        \n",
    "        count = 0 \n",
    "        \n",
    "        while count < decil_amount:\n",
    "            lista_deciles.append('decil='+str(10-i))\n",
    "            count += 1\n",
    "        \n",
    "        i += 1\n",
    "    \n",
    "    while j < (len_df - (decil_amount)*10):\n",
    "        lista_deciles.append('NA')\n",
    "        j += 1\n",
    "            \n",
    "    b = spark.createDataFrame(zip(lista_deciles,lista_msisdn)).withColumnRenamed('_1', 'decil').withColumnRenamed('_2', 'msisdn')\n",
    "    b = b.withColumn('msisdn', col('msisdn').cast(StringType()))\n",
    "    \n",
    "    # Join both dataframes to get the final result\n",
    "    final_df = df.join(b, on = 'msisdn', how = 'inner')\n",
    "    \n",
    "    return final_df"
   ]
  },
  {
   "cell_type": "code",
   "execution_count": 30,
   "metadata": {},
   "outputs": [],
   "source": [
    "modeler_final_to_predict = get_deciles(modeler_final_to_predict)"
   ]
  },
  {
   "cell_type": "markdown",
   "metadata": {},
   "source": [
    "# Preparamos datos para exportar en formato `Model Params` y `Model Outputs`."
   ]
  },
  {
   "cell_type": "code",
   "execution_count": 31,
   "metadata": {},
   "outputs": [],
   "source": [
    "import time, datetime\n",
    "\n",
    "## OJO! Esto hay que cambiarlo en función de la entrega a realizar.\n",
    "closing_day = '20190930'\n",
    "current_timestamp = datetime.now() \n",
    "executed_at = current_timestamp.strftime('%Y-%m-%d %H:%M:%S')\n",
    "analysis_month_M = datetime.datetime.strptime(closing_day, \"%Y%m%d\")\n"
   ]
  },
  {
   "cell_type": "code",
   "execution_count": 32,
   "metadata": {},
   "outputs": [],
   "source": [
    "level = 'msisdn'\n",
    "\n",
    "model_name = 'prepaid_churn_Service'\n",
    "\n",
    "path_model_detail = 'model_name=' + model_name \\\n",
    "                            + '/year=' + str(current_timestamp.year) \\\n",
    "                            + '/month=' + str(current_timestamp.month) \\\n",
    "                            + '/day=0'# + str(current_timestamp.day) #siempre se pone 0 (pongo -1 para las pruebas)\n"
   ]
  },
  {
   "cell_type": "code",
   "execution_count": 34,
   "metadata": {},
   "outputs": [],
   "source": [
    "model_params = {\n",
    "    'algorithm': modeler_final.model.stages[0].getParam,\n",
    "    'maxdepth': modeler_final.model.stages[0]._java_obj.getMaxDepth(),\n",
    "    'maxbins': modeler_final.model.stages[0]._java_obj.getMaxBins(),\n",
    "    'minInstancesPerNode': modeler_final.model.stages[0]._java_obj.getMinInstancesPerNode(),\n",
    "    'numTrees': modeler_final.model.stages[0]._java_obj.getNumTrees(),\n",
    "    'subsamplingRate': modeler_final.model.stages[0]._java_obj.getSubsamplingRate(),\n",
    "    'seed': modeler_final.model.stages[0]._java_obj.getSeed()\n",
    "}"
   ]
  },
  {
   "cell_type": "code",
   "execution_count": 35,
   "metadata": {},
   "outputs": [],
   "source": [
    "path_model_outputs_base = '/data/attributes/vf_es/model_outputs/'\n",
    "path_model_outputs_scores = path_model_outputs_base + 'model_scores/' + path_model_detail\n",
    "path_model_outputs_params = path_model_outputs_base + 'model_parameters/' + path_model_detail"
   ]
  },
  {
   "cell_type": "code",
   "execution_count": 36,
   "metadata": {},
   "outputs": [],
   "source": [
    "path_model_works_base = '/user/carnaum2/models_prod/'\n",
    "path_model_works_model = path_model_works_base + 'model_definition/' + path_model_detail\n",
    "path_model_works_metrics = path_model_works_base + 'model_metrics/' + path_model_detail"
   ]
  },
  {
   "cell_type": "markdown",
   "metadata": {},
   "source": [
    "- Saving `Model Params`:"
   ]
  },
  {
   "cell_type": "code",
   "execution_count": 38,
   "metadata": {},
   "outputs": [],
   "source": [
    "target = \"Portabilities out from the prepaid customer base.;\"\n",
    "model_path = path_model_works_model.replace(',', ';')\n",
    "metrics_path = path_model_works_metrics.replace(',', ';')\n",
    "metrics_train = str(evaluation_metrics_train).replace(',', ';')\n",
    "metrics_test = str(evaluation_metrics_unbalanced_test).replace(',', ';')\n",
    "varimp = ';'.join(str(v) for v in modeler_final.varimp[['feature', 'relative_importance']].values.tolist()).replace(',', ';')\n",
    "algorithm = str(model_params).replace(',', ';')\n",
    "author_login = 'carnaum2'\n",
    "scores_extra_info_headers = None\n",
    "time = int(current_timestamp.strftime('%H%M%S'))"
   ]
  },
  {
   "cell_type": "code",
   "execution_count": 39,
   "metadata": {},
   "outputs": [],
   "source": [
    "description = 'Prediction of prepaid customers prone to make a portability (churn) to other company. The periodicity of executions is monthly.'"
   ]
  },
  {
   "cell_type": "code",
   "execution_count": 45,
   "metadata": {
    "collapsed": true
   },
   "outputs": [
    {
     "ename": "ValueError",
     "evalue": "invalid literal for int() with base 10: '2019-11-19 10:31:48.393769'",
     "output_type": "error",
     "traceback": [
      "\u001b[0;31m\u001b[0m",
      "\u001b[0;31mValueError\u001b[0mTraceback (most recent call last)",
      "\u001b[0;32m<ipython-input-45-78cf2f37838d>\u001b[0m in \u001b[0;36m<module>\u001b[0;34m()\u001b[0m\n\u001b[1;32m      2\u001b[0m \u001b[0;34m\u001b[0m\u001b[0m\n\u001b[1;32m      3\u001b[0m \u001b[0mend_time\u001b[0m \u001b[0;34m=\u001b[0m \u001b[0mdt\u001b[0m\u001b[0;34m.\u001b[0m\u001b[0mdatetime\u001b[0m\u001b[0;34m.\u001b[0m\u001b[0mnow\u001b[0m\u001b[0;34m(\u001b[0m\u001b[0;34m)\u001b[0m\u001b[0;34m\u001b[0m\u001b[0m\n\u001b[0;32m----> 4\u001b[0;31m \u001b[0mtime_of_execution\u001b[0m \u001b[0;34m=\u001b[0m \u001b[0mstr\u001b[0m\u001b[0;34m(\u001b[0m\u001b[0mint\u001b[0m\u001b[0;34m(\u001b[0m\u001b[0mstr\u001b[0m\u001b[0;34m(\u001b[0m\u001b[0mend_time\u001b[0m\u001b[0;34m)\u001b[0m\u001b[0;34m)\u001b[0m \u001b[0;34m-\u001b[0m \u001b[0mint\u001b[0m\u001b[0;34m(\u001b[0m\u001b[0mstr\u001b[0m\u001b[0;34m(\u001b[0m\u001b[0mstart_time\u001b[0m\u001b[0;34m)\u001b[0m\u001b[0;34m)\u001b[0m\u001b[0;34m)\u001b[0m\u001b[0;34m\u001b[0m\u001b[0m\n\u001b[0m\u001b[1;32m      5\u001b[0m \u001b[0mtime_of_execution\u001b[0m\u001b[0;34m=\u001b[0m\u001b[0mtime_of_execution\u001b[0m\u001b[0;34m.\u001b[0m\u001b[0mtotal_seconds\u001b[0m\u001b[0;34m(\u001b[0m\u001b[0;34m)\u001b[0m\u001b[0;34m\u001b[0m\u001b[0m\n",
      "\u001b[0;31mValueError\u001b[0m: invalid literal for int() with base 10: '2019-11-19 10:31:48.393769'"
     ]
    }
   ],
   "source": [
    "\n",
    "end_time = datetime.now()         \n",
    "\n",
    "time_of_execution=end_time-start_time\n",
    "time_of_execution=str(time_of_execution.total_seconds())\n"
   ]
  },
  {
   "cell_type": "code",
   "execution_count": 49,
   "metadata": {},
   "outputs": [],
   "source": [
    "extra_info = '{description:'+description+'; processing_time:'+time_of_execution+'}'"
   ]
  },
  {
   "cell_type": "code",
   "execution_count": 50,
   "metadata": {},
   "outputs": [],
   "source": [
    "from pyspark.sql.types import *\n",
    "\n",
    "fields = [StructField(\"executed_at\", StringType(), True),\n",
    "                  StructField(\"model_level\", StringType(), True),\n",
    "                  StructField(\"training_closing_date\", StringType(), True),\n",
    "                  StructField(\"target\", StringType(), True),\n",
    "                  StructField(\"model_path\", StringType(), True),\n",
    "                  StructField(\"metrics_path\", StringType(), True),\n",
    "                  StructField(\"metrics_train\", StringType(), True),\n",
    "                  StructField(\"metrics_test\", StringType(), True),\n",
    "                  StructField(\"varimp\", StringType(), True),\n",
    "                  StructField(\"algorithm\", StringType(), True),\n",
    "                  StructField(\"author_login\", StringType(), True),\n",
    "                  StructField(\"extra_info\", StringType(), True),\n",
    "                  StructField(\"scores_extra_info_headers\", StringType(), True),\n",
    "                  StructField(\"time\", IntegerType(), True)\n",
    "                  ]"
   ]
  },
  {
   "cell_type": "code",
   "execution_count": 51,
   "metadata": {},
   "outputs": [],
   "source": [
    "schema = StructType(fields)"
   ]
  },
  {
   "cell_type": "code",
   "execution_count": 52,
   "metadata": {},
   "outputs": [],
   "source": [
    "data = [[executed_at, level, closing_day, target, model_path, metrics_path, metrics_train,\n",
    "                 metrics_test, varimp, algorithm, author_login, extra_info, scores_extra_info_headers, time]]"
   ]
  },
  {
   "cell_type": "code",
   "execution_count": 53,
   "metadata": {},
   "outputs": [],
   "source": [
    "df_save_params = spark.createDataFrame(data, schema)"
   ]
  },
  {
   "cell_type": "code",
   "execution_count": 54,
   "metadata": {},
   "outputs": [],
   "source": [
    "def saveDF(path, df, partitions):\n",
    "    print('Saving started in: %s', path)\n",
    "    spark.conf.set(\"spark.sql.sources.partitionOverwriteMode\",\"dynamic\")\n",
    "    df.repartition(partitions).write.mode('append').format('parquet').save(path)\n",
    "    print('Saving finished!')"
   ]
  },
  {
   "cell_type": "code",
   "execution_count": 55,
   "metadata": {},
   "outputs": [
    {
     "name": "stdout",
     "output_type": "stream",
     "text": [
      "('Saving started in: %s', '/data/attributes/vf_es/model_outputs/model_parameters/model_name=prepaid_churn_Service/year=2019/month=11/day=0')\n",
      "Saving finished!\n"
     ]
    }
   ],
   "source": [
    "saveDF(path_model_outputs_params, df_save_params, 1)"
   ]
  },
  {
   "cell_type": "markdown",
   "metadata": {},
   "source": [
    "- Saving `Model Outputs`:"
   ]
  },
  {
   "cell_type": "code",
   "execution_count": 56,
   "metadata": {},
   "outputs": [],
   "source": [
    "path_model_outputs_base = '/data/attributes/vf_es/model_outputs/'\n",
    "path_model_outputs_scores = path_model_outputs_base + 'model_scores/' + path_model_detail\n",
    "path_model_outputs_sample = '/data/attributes/vf_es/carnaum2/samples/'"
   ]
  },
  {
   "cell_type": "code",
   "execution_count": 57,
   "metadata": {},
   "outputs": [],
   "source": [
    "df_save_scores = (modeler_final_to_predict\n",
    "                        # .withColumn('model_name',lit(model_name)) included in path\n",
    "                        .withColumn('executed_at', lit(executed_at).cast(StringType()))\n",
    "                        .withColumn('model_executed_at', lit(executed_at).cast(StringType()))\n",
    "                        .withColumn('predict_closing_date', lit(closing_day).cast(StringType()))\n",
    "                        .withColumn('msisdn', col('msisdn').cast(StringType()))\n",
    "                        .withColumn('client_id', col('NUM_CLIENTE').cast(StringType()))\n",
    "                        .withColumn('nif', lit(None).cast(StringType()))\n",
    "                        .withColumn('model_output', lit(None).cast(StringType()))\n",
    "                        .withColumn('scoring', col('score').cast(FloatType()))\n",
    "                        .withColumn('prediction', col('prediction').cast(StringType()))\n",
    "                        .withColumn('extra_info', col('decil').cast(StringType()))\n",
    "                        .withColumn('time', lit(time).cast(IntegerType()))\n",
    "                        .withColumn('model_name', lit(model_name).cast(StringType()))\n",
    "                        .select('executed_at', 'model_executed_at', 'predict_closing_date', 'msisdn'\n",
    "                                       , 'client_id', 'nif', 'model_output', 'scoring', 'prediction'\n",
    "                                       , 'extra_info', 'time')\n",
    "                            )"
   ]
  },
  {
   "cell_type": "code",
   "execution_count": 58,
   "metadata": {},
   "outputs": [
    {
     "name": "stdout",
     "output_type": "stream",
     "text": [
      "('Saving started in: %s', '/data/attributes/vf_es/model_outputs/model_scores/model_name=prepaid_churn_Service/year=2019/month=11/day=0')\n",
      "Saving finished!\n"
     ]
    }
   ],
   "source": [
    "saveDF(path_model_outputs_scores, df_save_scores, 1)"
   ]
  },
  {
   "cell_type": "markdown",
   "metadata": {},
   "source": [
    "---"
   ]
  },
  {
   "cell_type": "code",
   "execution_count": 59,
   "metadata": {},
   "outputs": [],
   "source": [
    "spark.stop()"
   ]
  },
  {
   "cell_type": "code",
   "execution_count": 60,
   "metadata": {},
   "outputs": [],
   "source": [
    "from datetime import datetime\n",
    "then = datetime.now()         \n",
    "now  = datetime.now()                        \n",
    "duration = now - then                         \n",
    "duration_in_s = duration.total_seconds() "
   ]
  },
  {
   "cell_type": "code",
   "execution_count": 61,
   "metadata": {},
   "outputs": [
    {
     "data": {
      "text/plain": [
       "5.5e-05"
      ]
     },
     "execution_count": 61,
     "metadata": {},
     "output_type": "execute_result"
    }
   ],
   "source": [
    "duration_in_s"
   ]
  },
  {
   "cell_type": "code",
   "execution_count": null,
   "metadata": {},
   "outputs": [],
   "source": [
    "predsOrangeTest= spark.read.load('/data/udf/vf_es/churn/portabPropension_model/predsOrangeTest')"
   ]
  }
 ],
 "metadata": {
  "kernelspec": {
   "display_name": "Python 2",
   "language": "python",
   "name": "python2"
  },
  "language_info": {
   "codemirror_mode": {
    "name": "ipython",
    "version": 2
   },
   "file_extension": ".py",
   "mimetype": "text/x-python",
   "name": "python",
   "nbconvert_exporter": "python",
   "pygments_lexer": "ipython2",
   "version": "2.7.11"
  }
 },
 "nbformat": 4,
 "nbformat_minor": 2
}
