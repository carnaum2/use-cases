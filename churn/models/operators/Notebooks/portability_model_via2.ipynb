{
 "cells": [
  {
   "cell_type": "markdown",
   "metadata": {},
   "source": [
    "# MODELO DE PORTABILIDAD A OPERADORES"
   ]
  },
  {
   "cell_type": "markdown",
   "metadata": {},
   "source": [
    "Modelo para ver a qué operador de la competencia es más probable que un cliente realice portabilidad. Pruebo 2 modelos:\n",
    "\n",
    "- Individual para cada modelo (one versus all)\n",
    "- Junto las predicciones y clasifico al cliente por majority vote: escojo el que tenga mayor score"
   ]
  },
  {
   "cell_type": "code",
   "execution_count": 1,
   "metadata": {},
   "outputs": [
    {
     "data": {
      "text/html": [
       "<style>.container { width:100% !important; }</style>"
      ],
      "text/plain": [
       "<IPython.core.display.HTML object>"
      ]
     },
     "metadata": {},
     "output_type": "display_data"
    }
   ],
   "source": [
    "from IPython.core.display import display, HTML\n",
    "display(HTML(\"<style>.container { width:100% !important; }</style>\"))"
   ]
  },
  {
   "cell_type": "code",
   "execution_count": 2,
   "metadata": {},
   "outputs": [
    {
     "name": "stdout",
     "output_type": "stream",
     "text": [
      "2\n"
     ]
    }
   ],
   "source": [
    "from common.src.main.python.utils.hdfs_generic import *\n",
    "import os\n",
    "\n",
    "MAX_N_EXECUTORS=15\n",
    "MIN_N_EXECUTORS=1\n",
    "N_CORES_EXECUTOR=4\n",
    "EXECUTOR_IDLE_MAX_TIME=120\n",
    "EXECUTOR_MEMORY='32g'\n",
    "DRIVER_MEMORY='16g'\n",
    "N_CORES_DRIVER=1\n",
    "MEMORY_OVERHEAD=N_CORES_EXECUTOR*2048\n",
    "#QUEUE=\"root.datascience.normal\"\n",
    "QUEUE=\"root.BDPtenants.es.medium\"\n",
    "\n",
    "BDA_CORE_VERSION=\"1.0.0\"\n",
    "\n",
    "SPARK_COMMON_OPTS=os.environ.get('SPARK_COMMON_OPTS', '')\n",
    "SPARK_COMMON_OPTS+=\" --executor-memory %s --driver-memory %s\" % (EXECUTOR_MEMORY, DRIVER_MEMORY)\n",
    "SPARK_COMMON_OPTS+=\" --conf spark.shuffle.manager=tungsten-sort\"\n",
    "SPARK_COMMON_OPTS+=\"  --queue %s\" % QUEUE\n",
    "APP_NAME='Portability'\n",
    "\n",
    "# Dynamic allocation configuration\n",
    "SPARK_COMMON_OPTS+=\" --conf spark.driver.allowMultipleContexts=true\"\n",
    "SPARK_COMMON_OPTS+=\" --conf spark.dynamicAllocation.enabled=true\"\n",
    "SPARK_COMMON_OPTS+=\" --conf spark.shuffle.service.enabled=true\"\n",
    "SPARK_COMMON_OPTS+=\" --conf spark.dynamicAllocation.maxExecutors=%s\" % (MAX_N_EXECUTORS)\n",
    "SPARK_COMMON_OPTS+=\" --conf spark.dynamicAllocation.minExecutors=%s\" % (MIN_N_EXECUTORS)\n",
    "SPARK_COMMON_OPTS+=\" --conf spark.dynamicAllocation.executorIdleTimeout=%s\" % (EXECUTOR_IDLE_MAX_TIME)\n",
    "SPARK_COMMON_OPTS+=\" --conf spark.ui.port=58201\"\n",
    "SPARK_COMMON_OPTS+=\" --conf spark.port.maxRetries=200\"\n",
    "SPARK_COMMON_OPTS+=\" --executor-cores=%s\" % (N_CORES_EXECUTOR)\n",
    "SPARK_COMMON_OPTS+=\" --conf spark.app.name=%s\" % (APP_NAME)\n",
    "\n",
    "BDA_ENV = os.environ.get('BDA_USER_HOME', '')\n",
    "\n",
    "# Attach bda-core-ra codebase\n",
    "SPARK_COMMON_OPTS+=\" --files \\\n",
    "{}/scripts/properties/red_agent/nodes.properties,\\\n",
    "{}/scripts/properties/red_agent/nodes-de.properties,\\\n",
    "{}/scripts/properties/red_agent/nodes-es.properties,\\\n",
    "{}/scripts/properties/red_agent/nodes-ie.properties,\\\n",
    "{}/scripts/properties/red_agent/nodes-it.properties,\\\n",
    "{}/scripts/properties/red_agent/nodes-pt.properties,\\\n",
    "{}/scripts/properties/red_agent/nodes-uk.properties\".format(*[BDA_ENV]*7)\n",
    "\n",
    "os.environ[\"SPARK_COMMON_OPTS\"] = SPARK_COMMON_OPTS\n",
    "os.environ[\"PYSPARK_SUBMIT_ARGS\"] = \"%s pyspark-shell \" % SPARK_COMMON_OPTS\n",
    "\n",
    "#print os.environ.get('SPARK_COMMON_OPTS', '')\n",
    "#print os.environ.get('PYSPARK_SUBMIT_ARGS', '')\n",
    "\n",
    "sc, sparkSession, sqlContext = run_sc()\n",
    "print sc.defaultParallelism"
   ]
  },
  {
   "cell_type": "code",
   "execution_count": 3,
   "metadata": {},
   "outputs": [],
   "source": [
    "# This literal_eval is needed since \n",
    "# we have to read from a textfile\n",
    "# which is formatted as python objects.\n",
    "# It is totally safe.\n",
    "from ast import literal_eval\n",
    "\n",
    "# Standard Library stuff:\n",
    "from functools import partial\n",
    "from datetime import date, timedelta, datetime\n",
    "\n",
    "# Numpy stuff\n",
    "from numpy import (nan as np_nan, round as np_round, int64 as np_int64)\n",
    "import numpy as np\n",
    "\n",
    "\n",
    "# Spark stuff\n",
    "from pyspark.sql import SparkSession\n",
    "from pyspark import StorageLevel\n",
    "from pyspark.sql.functions import (udf, col, decode, when, lit, lower, upper, concat,\n",
    "                                   translate, count, sum as sql_sum, max as sql_max, min as sql_min,\n",
    "                                   round, \n",
    "                                   mean, stddev, datediff,\n",
    "                                   length,\n",
    "                                   countDistinct,\n",
    "                                   hour, date_format, collect_set, collect_list,\n",
    "                                   year, month, dayofmonth,\n",
    "                                   rank, expr, lag, coalesce, row_number,\n",
    "                                   isnull, isnan,\n",
    "                                   unix_timestamp,\n",
    "                                   regexp_replace\n",
    "                                  )\n",
    "from pyspark.sql.types import DoubleType, StringType, IntegerType, ArrayType, FloatType\n",
    "\n",
    "from pyspark.ml import Pipeline\n",
    "\n",
    "from pyspark.sql import DataFrameStatFunctions as statFunc\n",
    "\n",
    "from pyspark.sql.window import Window\n",
    "\n",
    "import json\n",
    "from collections import OrderedDict\n",
    "\n",
    "from subprocess import Popen, PIPE\n",
    "import datetime, calendar\n",
    "from pyspark.sql import functions as F\n",
    "\n",
    "from pyspark.ml.feature import StandardScaler"
   ]
  },
  {
   "cell_type": "code",
   "execution_count": 4,
   "metadata": {},
   "outputs": [],
   "source": [
    "spark = (SparkSession.builder\n",
    "         .master(\"yarn\")\n",
    "         .config(\"spark.submit.deployMode\", \"client\")\n",
    "         .config(\"spark.ui.showConsoleProgress\", \"true\")\n",
    "         .enableHiveSupport()\n",
    "         .getOrCreate()\n",
    "         )\n",
    "\n",
    "# sc = spark.sparkContext"
   ]
  },
  {
   "cell_type": "code",
   "execution_count": 5,
   "metadata": {},
   "outputs": [],
   "source": [
    "%load_ext autoreload\n",
    "%autoreload 2\n",
    "\n",
    "#import re\n",
    "import subprocess\n",
    "#import sys\n",
    "import time\n",
    "\n",
    "from IPython.display import HTML, display\n",
    "import tabulate\n",
    "\n",
    "def printHTML(df, sample=7):\n",
    "    display(HTML(tabulate.tabulate([df.columns]+df.take(sample), tablefmt='html', headers='firstrow')))\n",
    "    \n",
    "# Spark utils\n",
    "from pyspark.sql.functions import (array_contains, bround, col, collect_set, concat, count, decode, desc, \n",
    "                                   isnull, length, lit, lower, lpad, max as sql_max, \n",
    "                                   size, struct, substring, sum as sql_sum, \n",
    "                                   translate, trim, udf, upper, when\n",
    "                                  )\n",
    "from pyspark.sql.types import DoubleType, IntegerType, StringType, StructField, StructType\n",
    "\n",
    "import matplotlib.pyplot as plt\n",
    "%matplotlib inline"
   ]
  },
  {
   "cell_type": "markdown",
   "metadata": {},
   "source": [
    "# Escojo las variables numéricas  "
   ]
  },
  {
   "cell_type": "code",
   "execution_count": 7,
   "metadata": {},
   "outputs": [],
   "source": [
    "import sys"
   ]
  },
  {
   "cell_type": "code",
   "execution_count": 8,
   "metadata": {},
   "outputs": [],
   "source": [
    "sys.path.append(\"/var/SP/data/home/carnaum2/ids/amdocs_inf_dataset\")"
   ]
  },
  {
   "cell_type": "code",
   "execution_count": 9,
   "metadata": {},
   "outputs": [],
   "source": [
    "from src.main.python.configuration.constants import ENVIRONMENT\n",
    "from src.main.python.utils.spark_creator import SparkCreator\n",
    "from src.main.python.pipelines.billing import Billing\n",
    "from src.main.python.pipelines.breakdowns import Breakdowns\n",
    "from src.main.python.pipelines.call_centre_calls import CallCentreCalls\n",
    "from src.main.python.pipelines.campaigns import Campaigns\n",
    "from src.main.python.pipelines.claims import Claims\n",
    "from src.main.python.pipelines.competitors_web import CompWeb\n",
    "from src.main.python.pipelines.customer import Customer\n",
    "from src.main.python.pipelines.customer_aggregations import Customer_Aggregations\n",
    "from src.main.python.pipelines.penalties import PenaltiesCustomer, PenaltiesServices\n",
    "from src.main.python.pipelines.device_catalogue import Device_Catalogue\n",
    "from src.main.python.pipelines.geneva_traffic import GenevaVoiceTypeUsage\n",
    "from src.main.python.pipelines.geneva_traffic import GenevaVoiceUsage\n",
    "from src.main.python.pipelines.geneva_traffic import GenevaRoamVoiceUsage\n",
    "from src.main.python.pipelines.geneva_traffic import GenevaDataUsage\n",
    "from src.main.python.pipelines.geneva_traffic import GenevaRoamDataUsage\n",
    "from src.main.python.pipelines.mobile_spinners_extractor import Mobile_spinners_extractor\n",
    "from src.main.python.pipelines.netscout import Netscout\n",
    "from src.main.python.pipelines.orders import Orders\n",
    "from src.main.python.pipelines.orders_aggregations import OrdersAgg\n",
    "from src.main.python.pipelines.permsandprefs import Perms_and_prefs\n",
    "from src.main.python.pipelines.services import Services\n",
    "from src.main.python.pipelines.services_problems import ServiceProblems\n",
    "from src.main.python.pipelines.tech_suprt import TechSupport\n",
    "from src.main.python.pipelines.tgs import Tgs\n",
    "from src.main.python.pipelines.tnps import Tnps\n",
    "from src.main.python.pipelines.orders_sla import Orders_sla\n",
    "from src.main.python.pipelines.tickets import Tickets\n",
    "from src.main.python.pipelines.refund import Refund\n",
    "sc = SparkCreator()\n",
    "date = \"20191014\"\n",
    "module_constructors = (Customer(sc, date, ENVIRONMENT),\n",
    "                       Services(sc, date, ENVIRONMENT),\n",
    "                       Customer_Aggregations(sc, date, ENVIRONMENT),\n",
    "                       Billing(sc, date, ENVIRONMENT),\n",
    "                       Campaigns(sc, date, date, ENVIRONMENT),\n",
    "                       GenevaVoiceTypeUsage(sc, date, date, ENVIRONMENT),\n",
    "                       GenevaVoiceUsage(sc, date, date, ENVIRONMENT),\n",
    "                       GenevaDataUsage(sc, date, date, ENVIRONMENT),\n",
    "                       #GenevaRoamVoiceUsage(sc, date, date, ENVIRONMENT),\n",
    "                       #GenevaRoamDataUsage(sc, date, date, ENVIRONMENT),\n",
    "                       Orders(sc, date, date, ENVIRONMENT),\n",
    "                       OrdersAgg(sc, date, date, ENVIRONMENT),\n",
    "                       PenaltiesCustomer(sc, date, ENVIRONMENT),\n",
    "                       PenaltiesServices(sc, date, ENVIRONMENT),\n",
    "                       Device_Catalogue(sc, date, date, ENVIRONMENT),\n",
    "                       Perms_and_prefs(sc, date, ENVIRONMENT),\n",
    "                       CallCentreCalls(sc, date, date, ENVIRONMENT),\n",
    "                       Tnps(sc, date, date, ENVIRONMENT),\n",
    "                       Tgs(sc, date, ENVIRONMENT),\n",
    "                       Claims(sc, date, ENVIRONMENT),\n",
    "                       Breakdowns(sc, date, ENVIRONMENT),\n",
    "                       TechSupport(sc, date, ENVIRONMENT),\n",
    "                       Netscout(sc, date, date, ENVIRONMENT),\n",
    "                       CompWeb(sc, date, date, ENVIRONMENT),\n",
    "                       ServiceProblems(sc, date, ENVIRONMENT),\n",
    "                       Mobile_spinners_extractor(sc, date, ENVIRONMENT),\n",
    "                       Orders_sla(sc, date, ENVIRONMENT),\n",
    "                       Refund(sc, date, ENVIRONMENT),\n",
    "                       #Tickets(sc, date, ENVIRONMENT)\n",
    "                       )\n",
    "na_map = {}\n",
    "for module in module_constructors:\n",
    "    metadata = module.set_module_metadata()\n",
    "    na_map.update(metadata)\n",
    "final_map = {colmn: na_map[colmn][0] for colmn in na_map.keys()\n",
    "             if colmn in na_map.keys() and na_map[colmn][1] != \"id\"}\n",
    "categ_map = {colmn: na_map[colmn][0] for colmn in na_map.keys()\n",
    "             if colmn in na_map.keys() and na_map[colmn][1] == \"categorical\"}\n",
    "numeric_map = {colmn: na_map[colmn][0] for colmn in na_map.keys()\n",
    "               if colmn in na_map.keys() and na_map[colmn][1] == \"numerical\"}\n",
    "date_map = {colmn: na_map[colmn][0] for colmn in na_map.keys()\n",
    "            if colmn in na_map.keys() and na_map[colmn][1] == \"date\"}"
   ]
  },
  {
   "cell_type": "code",
   "execution_count": 10,
   "metadata": {},
   "outputs": [],
   "source": [
    "numeric_variables=numeric_map.keys()"
   ]
  },
  {
   "cell_type": "code",
   "execution_count": 11,
   "metadata": {},
   "outputs": [],
   "source": [
    "numeric_variables.append('msisdn') #añado el msisdn para hacer el join después"
   ]
  },
  {
   "cell_type": "markdown",
   "metadata": {},
   "source": [
    "### Extraigo el ids con las variables numéricas seleccionadas  "
   ]
  },
  {
   "cell_type": "code",
   "execution_count": 12,
   "metadata": {},
   "outputs": [],
   "source": [
    "def ids_numeric_selection(year_, month_, day_):\n",
    "\n",
    "\n",
    "    ids_completo = (spark.read.load(\n",
    "            '/data/udf/vf_es/amdocs_inf_dataset/amdocs_ids_service_level/year=' + year_ + '/month=' + month_ + '/day=' + day_))\n",
    "\n",
    "    ids_numeric=ids_completo.select(numeric_variables) #aqui cojo las variables que se han seleccionado\n",
    "\n",
    "    return ids_numeric\n",
    "\n",
    "#Guardo este ids para train y test y luego hago inner join on msisdn con las columnas de target que habiamos creado"
   ]
  },
  {
   "cell_type": "code",
   "execution_count": 13,
   "metadata": {},
   "outputs": [],
   "source": [
    "ids_julio_numeric=ids_numeric_selection('2019','7','31')\n",
    "ids_sept_numeric=ids_numeric_selection('2019','9','30') "
   ]
  },
  {
   "cell_type": "code",
   "execution_count": 14,
   "metadata": {},
   "outputs": [],
   "source": [
    "categoricas=[item[0] for item in ids_julio_numeric.dtypes if item[1].startswith('string')] #MIRAR SI HAY elimino estas variables que no son numericas: no deberian aparecer (carlos lo va a corregir)"
   ]
  },
  {
   "cell_type": "code",
   "execution_count": 18,
   "metadata": {},
   "outputs": [],
   "source": [
    "ids_julio_numeric=ids_julio_numeric.drop('tgs_ind_riesgo_o2',\n",
    " 'tgs_ind_riesgo_mm',\n",
    " 'tgs_ind_riesgo_mv',\n",
    " 'tgs_meses_fin_dto_ok',\n",
    " 'CCC_L2_bucket_1st_interaction',\n",
    " 'CCC_L2_bucket_latest_interaction',\n",
    " 'CCC_L2_first_interaction',\n",
    " 'Cust_Agg_flag_prepaid_nc',\n",
    " 'tgs_ind_riesgo_max',\n",
    " 'tgs_sol_24m',\n",
    " 'CCC_L2_latest_interaction',\n",
    " 'tgs_tg_marta',\n",
    " 'tgs_blinda_bi_pos_n12')\n",
    "\n",
    "ids_sept_numeric=ids_sept_numeric.drop('tgs_ind_riesgo_o2',\n",
    " 'tgs_ind_riesgo_mm',\n",
    " 'tgs_ind_riesgo_mv',\n",
    " 'tgs_meses_fin_dto_ok',\n",
    " 'CCC_L2_bucket_1st_interaction',\n",
    " 'CCC_L2_bucket_latest_interaction',\n",
    " 'CCC_L2_first_interaction',\n",
    " 'Cust_Agg_flag_prepaid_nc',\n",
    " 'tgs_ind_riesgo_max',\n",
    " 'tgs_sol_24m',\n",
    " 'CCC_L2_latest_interaction',\n",
    " 'tgs_tg_marta',\n",
    " 'tgs_blinda_bi_pos_n12')"
   ]
  },
  {
   "cell_type": "markdown",
   "metadata": {},
   "source": [
    "### Etiqueto los tablones haciendo inner join del tablón básico guardado"
   ]
  },
  {
   "cell_type": "code",
   "execution_count": 19,
   "metadata": {},
   "outputs": [],
   "source": [
    "train_basic= spark.read.load('/data/udf/vf_es/churn/portabPropension_model/train_final_via2')\n",
    "test_basic= spark.read.load('/data/udf/vf_es/churn/portabPropension_model/test_final_via2')\n",
    "\n",
    "msisdn_target_train=train_basic.select('msisdn','Operador_target','masmovil','movistar','orange','otros')\n",
    "msisdn_target_test=test_basic.select('msisdn','Operador_target','masmovil','movistar','orange','otros')"
   ]
  },
  {
   "cell_type": "code",
   "execution_count": 20,
   "metadata": {},
   "outputs": [],
   "source": [
    "train_numeric_final2=ids_julio_numeric.join(msisdn_target_train,on='msisdn',how='inner')\n",
    "test_numeric_final2=ids_sept_numeric.join(msisdn_target_test,on='msisdn',how='inner')"
   ]
  },
  {
   "cell_type": "code",
   "execution_count": 21,
   "metadata": {},
   "outputs": [],
   "source": [
    "train_numeric_final2=train_numeric_final2.cache()"
   ]
  },
  {
   "cell_type": "code",
   "execution_count": 22,
   "metadata": {},
   "outputs": [],
   "source": [
    "test_numeric_final2=test_numeric_final2.cache()"
   ]
  },
  {
   "cell_type": "code",
   "execution_count": 23,
   "metadata": {},
   "outputs": [
    {
     "name": "stdout",
     "output_type": "stream",
     "text": [
      "+---------------+-------+\n",
      "|Operador_target|  count|\n",
      "+---------------+-------+\n",
      "|              1|  37039|\n",
      "|              3|  41050|\n",
      "|              4|  33022|\n",
      "|              2|  58318|\n",
      "|              0|5775144|\n",
      "+---------------+-------+\n",
      "\n"
     ]
    }
   ],
   "source": [
    "train_numeric_final2.groupby('Operador_target').count().show()"
   ]
  },
  {
   "cell_type": "code",
   "execution_count": 24,
   "metadata": {},
   "outputs": [
    {
     "name": "stdout",
     "output_type": "stream",
     "text": [
      "+---------------+-------+\n",
      "|Operador_target|  count|\n",
      "+---------------+-------+\n",
      "|              1|  36835|\n",
      "|              3|  39660|\n",
      "|              4|  37253|\n",
      "|              2|  48145|\n",
      "|              0|5717624|\n",
      "+---------------+-------+\n",
      "\n"
     ]
    }
   ],
   "source": [
    "test_numeric_final2.groupby('Operador_target').count().show()"
   ]
  },
  {
   "cell_type": "markdown",
   "metadata": {},
   "source": [
    "# Procesamiento de los datos"
   ]
  },
  {
   "cell_type": "code",
   "execution_count": 25,
   "metadata": {},
   "outputs": [],
   "source": [
    "variables_elim=['msisdn','Operador_target','masmovil','movistar','orange','otros']"
   ]
  },
  {
   "cell_type": "code",
   "execution_count": 27,
   "metadata": {},
   "outputs": [],
   "source": [
    "variables = [i for i in train_numeric_final2.columns if i not in variables_elim] #cojo solo las variables predictoras para el assemble"
   ]
  },
  {
   "cell_type": "code",
   "execution_count": null,
   "metadata": {},
   "outputs": [],
   "source": [
    "len(variables)"
   ]
  },
  {
   "cell_type": "code",
   "execution_count": null,
   "metadata": {},
   "outputs": [],
   "source": [
    "def indexer_assembler(df_no_transformed): \n",
    "    \n",
    "    assembler = VectorAssembler(inputCols=variables, outputCol=\"features\")\n",
    "\n",
    "    stages = [assembler]\n",
    "\n",
    "    pipeline = Pipeline(stages = stages)\n",
    "    \n",
    "    pipeline_fit = pipeline.fit(df_no_transformed)\n",
    "    \n",
    "    df_transformed=pipeline_fit.transform(df_no_transformed)\n",
    "    \n",
    "    return df_transformed"
   ]
  },
  {
   "cell_type": "code",
   "execution_count": null,
   "metadata": {},
   "outputs": [],
   "source": [
    "train_via2=indexer_assembler(train_numeric_final2)\n",
    "test_via2=indexer_assembler(test_numeric_final2)"
   ]
  },
  {
   "cell_type": "markdown",
   "metadata": {},
   "source": [
    "## Aplico transformaciones sobre el dataframe de train y test para posteriormente aplicar modelos"
   ]
  },
  {
   "cell_type": "markdown",
   "metadata": {},
   "source": [
    "## Funciones para aplicar modelos y evaluarlos"
   ]
  },
  {
   "cell_type": "code",
   "execution_count": 21,
   "metadata": {},
   "outputs": [],
   "source": [
    "from pyspark.ml.classification import RandomForestClassifier\n",
    "\n",
    "model = RandomForestClassifier(featuresCol = 'features', labelCol = 'target', maxDepth=8, numTrees=3000)"
   ]
  },
  {
   "cell_type": "code",
   "execution_count": 22,
   "metadata": {},
   "outputs": [],
   "source": [
    "#AUC\n",
    "\n",
    "from pyspark.ml.evaluation import BinaryClassificationEvaluator\n",
    "import pyspark.sql.functions as F\n",
    "\n",
    "evaluator = BinaryClassificationEvaluator(labelCol= 'target' , metricName='areaUnderROC') #auc\n",
    "\n",
    "\n",
    "#LIFT\n",
    "\n",
    "import utils_model\n",
    "from utils_model import get_lift\n",
    "getScore = udf(lambda prob: float(prob[1]), DoubleType())\n",
    "\n",
    "#FEATURE IMPORTANCE\n",
    "\n",
    "def ExtractFeatureImp(featureImp, dataset, featuresCol):\n",
    "   list_extract = []\n",
    "   for i in dataset.schema[featuresCol].metadata[\"ml_attr\"][\"attrs\"]:\n",
    "       list_extract = list_extract + dataset.schema[featuresCol].metadata[\"ml_attr\"][\"attrs\"][i]\n",
    "   varlist = pd.DataFrame(list_extract)\n",
    "   varlist['score'] = varlist['idx'].apply(lambda x: featureImp[x])\n",
    "   return(varlist.sort_values('score', ascending = False))\n",
    "\n",
    "import matplotlib.pyplot as plt"
   ]
  },
  {
   "cell_type": "markdown",
   "metadata": {},
   "source": [
    "## MODELO DE PORTABILIDAD A MÁSMÓVIL"
   ]
  },
  {
   "cell_type": "markdown",
   "metadata": {},
   "source": [
    "### Escojo datos de entrenamiento y asigno target"
   ]
  },
  {
   "cell_type": "markdown",
   "metadata": {},
   "source": [
    "Del tablón de entrenamiento completo transformado con el pipeline (training_df_trans), escojo:\n",
    "\n",
    "- Clientes que solicitan portabilidad a MásMóvil (Operador_target=1)\n",
    "- Mismo número de clientes que no solicitan portabilidad a ninguna compañía (Operador_target=0). Estos se eligen aleatoriamente del tablón training_df_noPortab_trans creado antes.\n",
    "\n",
    "Creo variable masmovil_target:\n",
    "\n",
    "- 1: el cliente solicita portabilidad a MásMóvil\n",
    "- 0: resto de clientes "
   ]
  },
  {
   "cell_type": "code",
   "execution_count": 23,
   "metadata": {},
   "outputs": [],
   "source": [
    "n=float(37439)/float(5999083) #proporcion que hay que coger de los que no solicitan porta (misma que los que sí: nº clientes que van a masmovil)\n",
    "\n",
    "train_masmovil=training_df_transf.filter(training_df_transf['Operador_target']==1).union(training_df_noPortab_trans.sample(False, n,5))\n",
    "train_masmovil=train_masmovil.withColumnRenamed('Operador_target','target')\n",
    "\n",
    "prediction_df_masmovil=prediction_df_transf.withColumn('target',when(prediction_df_transf['Operador_target']==1,1).otherwise(0))"
   ]
  },
  {
   "cell_type": "code",
   "execution_count": 24,
   "metadata": {},
   "outputs": [
    {
     "data": {
      "text/plain": [
       "74720"
      ]
     },
     "execution_count": 24,
     "metadata": {},
     "output_type": "execute_result"
    }
   ],
   "source": [
    "train_masmovil=train_masmovil.cache()\n",
    "train_masmovil.count()"
   ]
  },
  {
   "cell_type": "code",
   "execution_count": 25,
   "metadata": {},
   "outputs": [
    {
     "data": {
      "text/plain": [
       "6226600"
      ]
     },
     "execution_count": 25,
     "metadata": {},
     "output_type": "execute_result"
    }
   ],
   "source": [
    "prediction_df_masmovil=prediction_df_masmovil.cache()\n",
    "prediction_df_masmovil.count()"
   ]
  },
  {
   "cell_type": "markdown",
   "metadata": {},
   "source": [
    "### Aplico modelo y saco tablón de predicciones"
   ]
  },
  {
   "cell_type": "code",
   "execution_count": null,
   "metadata": {},
   "outputs": [],
   "source": [
    "modelMasMovil = model.fit(train_masmovil)"
   ]
  },
  {
   "cell_type": "code",
   "execution_count": null,
   "metadata": {},
   "outputs": [],
   "source": [
    "predsMasMovilTest=modelMasMovil.transform(prediction_df_masmovil)"
   ]
  },
  {
   "cell_type": "code",
   "execution_count": 31,
   "metadata": {},
   "outputs": [
    {
     "data": {
      "text/plain": [
       "DataFrame[msisdn: string, score: double, target: int, prediction: double]"
      ]
     },
     "execution_count": 31,
     "metadata": {},
     "output_type": "execute_result"
    }
   ],
   "source": [
    "predsMasMovilTest"
   ]
  },
  {
   "cell_type": "code",
   "execution_count": null,
   "metadata": {},
   "outputs": [],
   "source": [
    "aucTrainMasMovil = evaluator.evaluate(predsMasMovilTrain)\n",
    "aucTestMasMovil = evaluator.evaluate(predsMasMovilTest)"
   ]
  },
  {
   "cell_type": "code",
   "execution_count": null,
   "metadata": {},
   "outputs": [],
   "source": [
    "aucTrainMasMovil"
   ]
  },
  {
   "cell_type": "code",
   "execution_count": null,
   "metadata": {},
   "outputs": [],
   "source": [
    "aucTestMasMovil"
   ]
  },
  {
   "cell_type": "code",
   "execution_count": null,
   "metadata": {},
   "outputs": [],
   "source": [
    "feat_impMasMovil = ExtractFeatureImp(modelMasMovil.featureImportances ,predsMasMovilTest, \"features\")[0:30]\n",
    "feat_impMasMovil = feat_impMasMovil.sort_values(by = ['score'], ascending = True)"
   ]
  },
  {
   "cell_type": "code",
   "execution_count": null,
   "metadata": {},
   "outputs": [],
   "source": [
    "feat_impMasMovil"
   ]
  },
  {
   "cell_type": "code",
   "execution_count": 32,
   "metadata": {
    "collapsed": true
   },
   "outputs": [
    {
     "ename": "AnalysisException",
     "evalue": "u\"cannot resolve '`probability`' given input columns: [msisdn, score, target, prediction];;\\n'Project [msisdn#42097, cast(<lambda>('probability) as double) AS score#367903, target#289757, prediction#357272]\\n+- Sort [score#359927 DESC NULLS LAST], true\\n   +- Project [msisdn#42097, score#359927, target#289757, prediction#357272]\\n      +- Project [msisdn#42097, metodo_pago#42098, factura_electronica#42099, superoferta#42100, tipo_documento#42101, nacionalidad#42102, x_datos_navegacion#42103, x_datos_trafico#42104, x_cesion_datos#42105, x_user_facebook#42106, x_user_twitter#42107, marriage2hgbst_elm#42108, gender2hgbst_elm#42109, flg_robinson#42110, x_formato_factura#42111, x_idioma_factura#42112, bam_services#42113L, bam-movil_services#42114L, fbb_services#42115L, fixed_services#42116L, movil_services#42117L, prepaid_services#42118L, tv_services#42119L, tipo_sim#42120, ... 1304 more fields]\\n         +- Project [msisdn#42097, metodo_pago#42098, factura_electronica#42099, superoferta#42100, tipo_documento#42101, nacionalidad#42102, x_datos_navegacion#42103, x_datos_trafico#42104, x_cesion_datos#42105, x_user_facebook#42106, x_user_twitter#42107, marriage2hgbst_elm#42108, gender2hgbst_elm#42109, flg_robinson#42110, x_formato_factura#42111, x_idioma_factura#42112, bam_services#42113L, bam-movil_services#42114L, fbb_services#42115L, fixed_services#42116L, movil_services#42117L, prepaid_services#42118L, tv_services#42119L, tipo_sim#42120, ... 1303 more fields]\\n            +- Project [msisdn#42097, metodo_pago#42098, factura_electronica#42099, superoferta#42100, tipo_documento#42101, nacionalidad#42102, x_datos_navegacion#42103, x_datos_trafico#42104, x_cesion_datos#42105, x_user_facebook#42106, x_user_twitter#42107, marriage2hgbst_elm#42108, gender2hgbst_elm#42109, flg_robinson#42110, x_formato_factura#42111, x_idioma_factura#42112, bam_services#42113L, bam-movil_services#42114L, fbb_services#42115L, fixed_services#42116L, movil_services#42117L, prepaid_services#42118L, tv_services#42119L, tipo_sim#42120, ... 1302 more fields]\\n               +- Project [msisdn#42097, metodo_pago#42098, factura_electronica#42099, superoferta#42100, tipo_documento#42101, nacionalidad#42102, x_datos_navegacion#42103, x_datos_trafico#42104, x_cesion_datos#42105, x_user_facebook#42106, x_user_twitter#42107, marriage2hgbst_elm#42108, gender2hgbst_elm#42109, flg_robinson#42110, x_formato_factura#42111, x_idioma_factura#42112, bam_services#42113L, bam-movil_services#42114L, fbb_services#42115L, fixed_services#42116L, movil_services#42117L, prepaid_services#42118L, tv_services#42119L, tipo_sim#42120, ... 1301 more fields]\\n                  +- Project [msisdn#42097, metodo_pago#42098, factura_electronica#42099, superoferta#42100, tipo_documento#42101, nacionalidad#42102, x_datos_navegacion#42103, x_datos_trafico#42104, x_cesion_datos#42105, x_user_facebook#42106, x_user_twitter#42107, marriage2hgbst_elm#42108, gender2hgbst_elm#42109, flg_robinson#42110, x_formato_factura#42111, x_idioma_factura#42112, bam_services#42113L, bam-movil_services#42114L, fbb_services#42115L, fixed_services#42116L, movil_services#42117L, prepaid_services#42118L, tv_services#42119L, tipo_sim#42120, ... 1300 more fields]\\n                     +- Project [msisdn#42097, metodo_pago#42098, factura_electronica#42099, superoferta#42100, tipo_documento#42101, nacionalidad#42102, x_datos_navegacion#42103, x_datos_trafico#42104, x_cesion_datos#42105, x_user_facebook#42106, x_user_twitter#42107, marriage2hgbst_elm#42108, gender2hgbst_elm#42109, flg_robinson#42110, x_formato_factura#42111, x_idioma_factura#42112, bam_services#42113L, bam-movil_services#42114L, fbb_services#42115L, fixed_services#42116L, movil_services#42117L, prepaid_services#42118L, tv_services#42119L, tipo_sim#42120, ... 1299 more fields]\\n                        +- Project [msisdn#42097, metodo_pago#42098, factura_electronica#42099, superoferta#42100, tipo_documento#42101, nacionalidad#42102, x_datos_navegacion#42103, x_datos_trafico#42104, x_cesion_datos#42105, x_user_facebook#42106, x_user_twitter#42107, marriage2hgbst_elm#42108, gender2hgbst_elm#42109, flg_robinson#42110, x_formato_factura#42111, x_idioma_factura#42112, bam_services#42113L, bam-movil_services#42114L, fbb_services#42115L, fixed_services#42116L, movil_services#42117L, prepaid_services#42118L, tv_services#42119L, tipo_sim#42120, ... 1298 more fields]\\n                           +- Project [msisdn#42097, metodo_pago#42098, factura_electronica#42099, superoferta#42100, tipo_documento#42101, nacionalidad#42102, x_datos_navegacion#42103, x_datos_trafico#42104, x_cesion_datos#42105, x_user_facebook#42106, x_user_twitter#42107, marriage2hgbst_elm#42108, gender2hgbst_elm#42109, flg_robinson#42110, x_formato_factura#42111, x_idioma_factura#42112, bam_services#42113L, bam-movil_services#42114L, fbb_services#42115L, fixed_services#42116L, movil_services#42117L, prepaid_services#42118L, tv_services#42119L, tipo_sim#42120, ... 1297 more fields]\\n                              +- Project [msisdn#42097, metodo_pago#42098, factura_electronica#42099, superoferta#42100, tipo_documento#42101, nacionalidad#42102, x_datos_navegacion#42103, x_datos_trafico#42104, x_cesion_datos#42105, x_user_facebook#42106, x_user_twitter#42107, marriage2hgbst_elm#42108, gender2hgbst_elm#42109, flg_robinson#42110, x_formato_factura#42111, x_idioma_factura#42112, bam_services#42113L, bam-movil_services#42114L, fbb_services#42115L, fixed_services#42116L, movil_services#42117L, prepaid_services#42118L, tv_services#42119L, tipo_sim#42120, ... 1296 more fields]\\n                                 +- Project [msisdn#42097, metodo_pago#42098, factura_electronica#42099, superoferta#42100, tipo_documento#42101, nacionalidad#42102, x_datos_navegacion#42103, x_datos_trafico#42104, x_cesion_datos#42105, x_user_facebook#42106, x_user_twitter#42107, marriage2hgbst_elm#42108, gender2hgbst_elm#42109, flg_robinson#42110, x_formato_factura#42111, x_idioma_factura#42112, bam_services#42113L, bam-movil_services#42114L, fbb_services#42115L, fixed_services#42116L, movil_services#42117L, prepaid_services#42118L, tv_services#42119L, tipo_sim#42120, ... 1295 more fields]\\n                                    +- Project [msisdn#42097, metodo_pago#42098, factura_electronica#42099, superoferta#42100, tipo_documento#42101, nacionalidad#42102, x_datos_navegacion#42103, x_datos_trafico#42104, x_cesion_datos#42105, x_user_facebook#42106, x_user_twitter#42107, marriage2hgbst_elm#42108, gender2hgbst_elm#42109, flg_robinson#42110, x_formato_factura#42111, x_idioma_factura#42112, bam_services#42113L, bam-movil_services#42114L, fbb_services#42115L, fixed_services#42116L, movil_services#42117L, prepaid_services#42118L, tv_services#42119L, tipo_sim#42120, ... 1294 more fields]\\n                                       +- Project [msisdn#42097, metodo_pago#42098, factura_electronica#42099, superoferta#42100, tipo_documento#42101, nacionalidad#42102, x_datos_navegacion#42103, x_datos_trafico#42104, x_cesion_datos#42105, x_user_facebook#42106, x_user_twitter#42107, marriage2hgbst_elm#42108, gender2hgbst_elm#42109, flg_robinson#42110, x_formato_factura#42111, x_idioma_factura#42112, bam_services#42113L, bam-movil_services#42114L, fbb_services#42115L, fixed_services#42116L, movil_services#42117L, prepaid_services#42118L, tv_services#42119L, tipo_sim#42120, ... 1293 more fields]\\n                                          +- Project [msisdn#42097, metodo_pago#42098, factura_electronica#42099, superoferta#42100, tipo_documento#42101, nacionalidad#42102, x_datos_navegacion#42103, x_datos_trafico#42104, x_cesion_datos#42105, x_user_facebook#42106, x_user_twitter#42107, marriage2hgbst_elm#42108, gender2hgbst_elm#42109, flg_robinson#42110, x_formato_factura#42111, x_idioma_factura#42112, bam_services#42113L, bam-movil_services#42114L, fbb_services#42115L, fixed_services#42116L, movil_services#42117L, prepaid_services#42118L, tv_services#42119L, tipo_sim#42120, ... 1292 more fields]\\n                                             +- Project [msisdn#42097, metodo_pago#42098, factura_electronica#42099, superoferta#42100, tipo_documento#42101, nacionalidad#42102, x_datos_navegacion#42103, x_datos_trafico#42104, x_cesion_datos#42105, x_user_facebook#42106, x_user_twitter#42107, marriage2hgbst_elm#42108, gender2hgbst_elm#42109, flg_robinson#42110, x_formato_factura#42111, x_idioma_factura#42112, bam_services#42113L, bam-movil_services#42114L, fbb_services#42115L, fixed_services#42116L, movil_services#42117L, prepaid_services#42118L, tv_services#42119L, tipo_sim#42120, ... 1291 more fields]\\n                                                +- Project [msisdn#42097, metodo_pago#42098, factura_electronica#42099, superoferta#42100, tipo_documento#42101, nacionalidad#42102, x_datos_navegacion#42103, x_datos_trafico#42104, x_cesion_datos#42105, x_user_facebook#42106, x_user_twitter#42107, marriage2hgbst_elm#42108, gender2hgbst_elm#42109, flg_robinson#42110, x_formato_factura#42111, x_idioma_factura#42112, bam_services#42113L, bam-movil_services#42114L, fbb_services#42115L, fixed_services#42116L, movil_services#42117L, prepaid_services#42118L, tv_services#42119L, tipo_sim#42120, ... 1290 more fields]\\n                                                   +- Project [msisdn#42097, metodo_pago#42098, factura_electronica#42099, superoferta#42100, tipo_documento#42101, nacionalidad#42102, x_datos_navegacion#42103, x_datos_trafico#42104, x_cesion_datos#42105, x_user_facebook#42106, x_user_twitter#42107, marriage2hgbst_elm#42108, gender2hgbst_elm#42109, flg_robinson#42110, x_formato_factura#42111, x_idioma_factura#42112, bam_services#42113L, bam-movil_services#42114L, fbb_services#42115L, fixed_services#42116L, movil_services#42117L, prepaid_services#42118L, tv_services#42119L, tipo_sim#42120, ... 1289 more fields]\\n                                                      +- Project [msisdn#42097, metodo_pago#42098, factura_electronica#42099, superoferta#42100, tipo_documento#42101, nacionalidad#42102, x_datos_navegacion#42103, x_datos_trafico#42104, x_cesion_datos#42105, x_user_facebook#42106, x_user_twitter#42107, marriage2hgbst_elm#42108, gender2hgbst_elm#42109, flg_robinson#42110, x_formato_factura#42111, x_idioma_factura#42112, bam_services#42113L, bam-movil_services#42114L, fbb_services#42115L, fixed_services#42116L, movil_services#42117L, prepaid_services#42118L, tv_services#42119L, tipo_sim#42120, ... 1288 more fields]\\n                                                         +- Project [msisdn#42097, metodo_pago#42098, factura_electronica#42099, superoferta#42100, tipo_documento#42101, nacionalidad#42102, x_datos_navegacion#42103, x_datos_trafico#42104, x_cesion_datos#42105, x_user_facebook#42106, x_user_twitter#42107, marriage2hgbst_elm#42108, gender2hgbst_elm#42109, flg_robinson#42110, x_formato_factura#42111, x_idioma_factura#42112, bam_services#42113L, bam-movil_services#42114L, fbb_services#42115L, fixed_services#42116L, movil_services#42117L, prepaid_services#42118L, tv_services#42119L, tipo_sim#42120, ... 1287 more fields]\\n                                                            +- Project [msisdn#42097, metodo_pago#42098, factura_electronica#42099, superoferta#42100, tipo_documento#42101, nacionalidad#42102, x_datos_navegacion#42103, x_datos_trafico#42104, x_cesion_datos#42105, x_user_facebook#42106, x_user_twitter#42107, marriage2hgbst_elm#42108, gender2hgbst_elm#42109, flg_robinson#42110, x_formato_factura#42111, x_idioma_factura#42112, bam_services#42113L, bam-movil_services#42114L, fbb_services#42115L, fixed_services#42116L, movil_services#42117L, prepaid_services#42118L, tv_services#42119L, tipo_sim#42120, ... 1286 more fields]\\n                                                               +- Project [msisdn#42097, metodo_pago#42098, factura_electronica#42099, superoferta#42100, tipo_documento#42101, nacionalidad#42102, x_datos_navegacion#42103, x_datos_trafico#42104, x_cesion_datos#42105, x_user_facebook#42106, x_user_twitter#42107, marriage2hgbst_elm#42108, gender2hgbst_elm#42109, flg_robinson#42110, x_formato_factura#42111, x_idioma_factura#42112, bam_services#42113L, bam-movil_services#42114L, fbb_services#42115L, fixed_services#42116L, movil_services#42117L, prepaid_services#42118L, tv_services#42119L, tipo_sim#42120, ... 1285 more fields]\\n                                                                  +- Project [msisdn#42097, metodo_pago#42098, factura_electronica#42099, superoferta#42100, tipo_documento#42101, nacionalidad#42102, x_datos_navegacion#42103, x_datos_trafico#42104, x_cesion_datos#42105, x_user_facebook#42106, x_user_twitter#42107, marriage2hgbst_elm#42108, gender2hgbst_elm#42109, flg_robinson#42110, x_formato_factura#42111, x_idioma_factura#42112, bam_services#42113L, bam-movil_services#42114L, fbb_services#42115L, fixed_services#42116L, movil_services#42117L, prepaid_services#42118L, tv_services#42119L, tipo_sim#42120, ... 1284 more fields]\\n                                                                     +- Project [msisdn#42097, metodo_pago#42098, factura_electronica#42099, superoferta#42100, tipo_documento#42101, nacionalidad#42102, x_datos_navegacion#42103, x_datos_trafico#42104, x_cesion_datos#42105, x_user_facebook#42106, x_user_twitter#42107, marriage2hgbst_elm#42108, gender2hgbst_elm#42109, flg_robinson#42110, x_formato_factura#42111, x_idioma_factura#42112, bam_services#42113L, bam-movil_services#42114L, fbb_services#42115L, fixed_services#42116L, movil_services#42117L, prepaid_services#42118L, tv_services#42119L, tipo_sim#42120, ... 1283 more fields]\\n                                                                        +- Project [msisdn#42097, metodo_pago#42098, factura_electronica#42099, superoferta#42100, tipo_documento#42101, nacionalidad#42102, x_datos_navegacion#42103, x_datos_trafico#42104, x_cesion_datos#42105, x_user_facebook#42106, x_user_twitter#42107, marriage2hgbst_elm#42108, gender2hgbst_elm#42109, flg_robinson#42110, x_formato_factura#42111, x_idioma_factura#42112, bam_services#42113L, bam-movil_services#42114L, fbb_services#42115L, fixed_services#42116L, movil_services#42117L, prepaid_services#42118L, tv_services#42119L, tipo_sim#42120, ... 1282 more fields]\\n                                                                           +- Project [msisdn#42097, metodo_pago#42098, factura_electronica#42099, superoferta#42100, tipo_documento#42101, nacionalidad#42102, x_datos_navegacion#42103, x_datos_trafico#42104, x_cesion_datos#42105, x_user_facebook#42106, x_user_twitter#42107, marriage2hgbst_elm#42108, gender2hgbst_elm#42109, flg_robinson#42110, x_formato_factura#42111, x_idioma_factura#42112, bam_services#42113L, bam-movil_services#42114L, fbb_services#42115L, fixed_services#42116L, movil_services#42117L, prepaid_services#42118L, tv_services#42119L, tipo_sim#42120, ... 1281 more fields]\\n                                                                              +- Project [msisdn#42097, metodo_pago#42098, factura_electronica#42099, superoferta#42100, tipo_documento#42101, nacionalidad#42102, x_datos_navegacion#42103, x_datos_trafico#42104, x_cesion_datos#42105, x_user_facebook#42106, x_user_twitter#42107, marriage2hgbst_elm#42108, gender2hgbst_elm#42109, flg_robinson#42110, x_formato_factura#42111, x_idioma_factura#42112, bam_services#42113L, bam-movil_services#42114L, fbb_services#42115L, fixed_services#42116L, movil_services#42117L, prepaid_services#42118L, tv_services#42119L, tipo_sim#42120, ... 1280 more fields]\\n                                                                                 +- Project [msisdn#42097, metodo_pago#42098, factura_electronica#42099, superoferta#42100, tipo_documento#42101, nacionalidad#42102, x_datos_navegacion#42103, x_datos_trafico#42104, x_cesion_datos#42105, x_user_facebook#42106, x_user_twitter#42107, marriage2hgbst_elm#42108, gender2hgbst_elm#42109, flg_robinson#42110, x_formato_factura#42111, x_idioma_factura#42112, bam_services#42113L, bam-movil_services#42114L, fbb_services#42115L, fixed_services#42116L, movil_services#42117L, prepaid_services#42118L, tv_services#42119L, tipo_sim#42120, ... 1279 more fields]\\n                                                                                    +- Project [msisdn#42097, metodo_pago#42098, factura_electronica#42099, superoferta#42100, tipo_documento#42101, nacionalidad#42102, x_datos_navegacion#42103, x_datos_trafico#42104, x_cesion_datos#42105, x_user_facebook#42106, x_user_twitter#42107, marriage2hgbst_elm#42108, gender2hgbst_elm#42109, flg_robinson#42110, x_formato_factura#42111, x_idioma_factura#42112, bam_services#42113L, bam-movil_services#42114L, fbb_services#42115L, fixed_services#42116L, movil_services#42117L, prepaid_services#42118L, tv_services#42119L, tipo_sim#42120, ... 1278 more fields]\\n                                                                                       +- Project [msisdn#42097, metodo_pago#42098, factura_electronica#42099, superoferta#42100, tipo_documento#42101, nacionalidad#42102, x_datos_navegacion#42103, x_datos_trafico#42104, x_cesion_datos#42105, x_user_facebook#42106, x_user_twitter#42107, marriage2hgbst_elm#42108, gender2hgbst_elm#42109, flg_robinson#42110, x_formato_factura#42111, x_idioma_factura#42112, bam_services#42113L, bam-movil_services#42114L, fbb_services#42115L, fixed_services#42116L, movil_services#42117L, prepaid_services#42118L, tv_services#42119L, tipo_sim#42120, ... 1277 more fields]\\n                                                                                          +- Project [msisdn#42097, metodo_pago#42098, factura_electronica#42099, superoferta#42100, tipo_documento#42101, nacionalidad#42102, x_datos_navegacion#42103, x_datos_trafico#42104, x_cesion_datos#42105, x_user_facebook#42106, x_user_twitter#42107, marriage2hgbst_elm#42108, gender2hgbst_elm#42109, flg_robinson#42110, x_formato_factura#42111, x_idioma_factura#42112, bam_services#42113L, bam-movil_services#42114L, fbb_services#42115L, fixed_services#42116L, movil_services#42117L, prepaid_services#42118L, tv_services#42119L, tipo_sim#42120, ... 1276 more fields]\\n                                                                                             +- Project [msisdn#42097, metodo_pago#42098, factura_electronica#42099, superoferta#42100, tipo_documento#42101, nacionalidad#42102, x_datos_navegacion#42103, x_datos_trafico#42104, x_cesion_datos#42105, x_user_facebook#42106, x_user_twitter#42107, marriage2hgbst_elm#42108, gender2hgbst_elm#42109, flg_robinson#42110, x_formato_factura#42111, x_idioma_factura#42112, bam_services#42113L, bam-movil_services#42114L, fbb_services#42115L, fixed_services#42116L, movil_services#42117L, prepaid_services#42118L, tv_services#42119L, tipo_sim#42120, ... 1275 more fields]\\n                                                                                                +- Project [msisdn#42097, metodo_pago#42098, factura_electronica#42099, superoferta#42100, tipo_documento#42101, nacionalidad#42102, x_datos_navegacion#42103, x_datos_trafico#42104, x_cesion_datos#42105, x_user_facebook#42106, x_user_twitter#42107, marriage2hgbst_elm#42108, gender2hgbst_elm#42109, flg_robinson#42110, x_formato_factura#42111, x_idioma_factura#42112, bam_services#42113L, bam-movil_services#42114L, fbb_services#42115L, fixed_services#42116L, movil_services#42117L, prepaid_services#42118L, tv_services#42119L, tipo_sim#42120, ... 1274 more fields]\\n                                                                                                   +- Project [msisdn#42097, metodo_pago#42098, factura_electronica#42099, superoferta#42100, tipo_documento#42101, nacionalidad#42102, x_datos_navegacion#42103, x_datos_trafico#42104, x_cesion_datos#42105, x_user_facebook#42106, x_user_twitter#42107, marriage2hgbst_elm#42108, gender2hgbst_elm#42109, flg_robinson#42110, x_formato_factura#42111, x_idioma_factura#42112, bam_services#42113L, bam-movil_services#42114L, fbb_services#42115L, fixed_services#42116L, movil_services#42117L, prepaid_services#42118L, tv_services#42119L, tipo_sim#42120, ... 1273 more fields]\\n                                                                                                      +- Project [msisdn#42097, metodo_pago#42098, factura_electronica#42099, superoferta#42100, tipo_documento#42101, nacionalidad#42102, x_datos_navegacion#42103, x_datos_trafico#42104, x_cesion_datos#42105, x_user_facebook#42106, x_user_twitter#42107, marriage2hgbst_elm#42108, gender2hgbst_elm#42109, flg_robinson#42110, x_formato_factura#42111, x_idioma_factura#42112, bam_services#42113L, bam-movil_services#42114L, fbb_services#42115L, fixed_services#42116L, movil_services#42117L, prepaid_services#42118L, tv_services#42119L, tipo_sim#42120, ... 1272 more fields]\\n                                                                                                         +- Relation[msisdn#42097,metodo_pago#42098,factura_electronica#42099,superoferta#42100,tipo_documento#42101,nacionalidad#42102,x_datos_navegacion#42103,x_datos_trafico#42104,x_cesion_datos#42105,x_user_facebook#42106,x_user_twitter#42107,marriage2hgbst_elm#42108,gender2hgbst_elm#42109,flg_robinson#42110,x_formato_factura#42111,x_idioma_factura#42112,bam_services#42113L,bam-movil_services#42114L,fbb_services#42115L,fixed_services#42116L,movil_services#42117L,prepaid_services#42118L,tv_services#42119L,tipo_sim#42120,... 1271 more fields] parquet\\n\"",
     "output_type": "error",
     "traceback": [
      "\u001b[0;31m\u001b[0m",
      "\u001b[0;31mAnalysisException\u001b[0mTraceback (most recent call last)",
      "\u001b[0;32m<ipython-input-32-65adef2667ce>\u001b[0m in \u001b[0;36m<module>\u001b[0;34m()\u001b[0m\n\u001b[0;32m----> 1\u001b[0;31m \u001b[0mpredsMasMovilTest\u001b[0m\u001b[0;34m=\u001b[0m\u001b[0mpredsMasMovilTest\u001b[0m\u001b[0;34m.\u001b[0m\u001b[0mwithColumn\u001b[0m\u001b[0;34m(\u001b[0m\u001b[0;34m\"score\"\u001b[0m\u001b[0;34m,\u001b[0m \u001b[0mgetScore\u001b[0m\u001b[0;34m(\u001b[0m\u001b[0mcol\u001b[0m\u001b[0;34m(\u001b[0m\u001b[0;34m\"probability\"\u001b[0m\u001b[0;34m)\u001b[0m\u001b[0;34m)\u001b[0m\u001b[0;34m.\u001b[0m\u001b[0mcast\u001b[0m\u001b[0;34m(\u001b[0m\u001b[0mDoubleType\u001b[0m\u001b[0;34m(\u001b[0m\u001b[0;34m)\u001b[0m\u001b[0;34m)\u001b[0m\u001b[0;34m)\u001b[0m\u001b[0;34m\u001b[0m\u001b[0m\n\u001b[0m\u001b[1;32m      2\u001b[0m \u001b[0mpredsMasMovilTest\u001b[0m\u001b[0;34m=\u001b[0m\u001b[0mpredsMasMovilTest\u001b[0m\u001b[0;34m.\u001b[0m\u001b[0mselect\u001b[0m\u001b[0;34m(\u001b[0m\u001b[0;34m'msisdn'\u001b[0m\u001b[0;34m,\u001b[0m\u001b[0;34m'score'\u001b[0m\u001b[0;34m,\u001b[0m\u001b[0;34m'target'\u001b[0m\u001b[0;34m,\u001b[0m\u001b[0;34m'prediction'\u001b[0m\u001b[0;34m)\u001b[0m \u001b[0;31m#guardo para dibujar luego matrices de confusion etc\u001b[0m\u001b[0;34m\u001b[0m\u001b[0m\n",
      "\u001b[0;32m/opt/cloudera/parcels/SPARK2/lib/spark2/python/pyspark/sql/dataframe.py\u001b[0m in \u001b[0;36mwithColumn\u001b[0;34m(self, colName, col)\u001b[0m\n\u001b[1;32m   1847\u001b[0m         \"\"\"\n\u001b[1;32m   1848\u001b[0m         \u001b[0;32massert\u001b[0m \u001b[0misinstance\u001b[0m\u001b[0;34m(\u001b[0m\u001b[0mcol\u001b[0m\u001b[0;34m,\u001b[0m \u001b[0mColumn\u001b[0m\u001b[0;34m)\u001b[0m\u001b[0;34m,\u001b[0m \u001b[0;34m\"col should be Column\"\u001b[0m\u001b[0;34m\u001b[0m\u001b[0m\n\u001b[0;32m-> 1849\u001b[0;31m         \u001b[0;32mreturn\u001b[0m \u001b[0mDataFrame\u001b[0m\u001b[0;34m(\u001b[0m\u001b[0mself\u001b[0m\u001b[0;34m.\u001b[0m\u001b[0m_jdf\u001b[0m\u001b[0;34m.\u001b[0m\u001b[0mwithColumn\u001b[0m\u001b[0;34m(\u001b[0m\u001b[0mcolName\u001b[0m\u001b[0;34m,\u001b[0m \u001b[0mcol\u001b[0m\u001b[0;34m.\u001b[0m\u001b[0m_jc\u001b[0m\u001b[0;34m)\u001b[0m\u001b[0;34m,\u001b[0m \u001b[0mself\u001b[0m\u001b[0;34m.\u001b[0m\u001b[0msql_ctx\u001b[0m\u001b[0;34m)\u001b[0m\u001b[0;34m\u001b[0m\u001b[0m\n\u001b[0m\u001b[1;32m   1850\u001b[0m \u001b[0;34m\u001b[0m\u001b[0m\n\u001b[1;32m   1851\u001b[0m     \u001b[0;34m@\u001b[0m\u001b[0mignore_unicode_prefix\u001b[0m\u001b[0;34m\u001b[0m\u001b[0m\n",
      "\u001b[0;32m/opt/cloudera/parcels/Anaconda-2.5.0/lib/python2.7/site-packages/py4j/java_gateway.pyc\u001b[0m in \u001b[0;36m__call__\u001b[0;34m(self, *args)\u001b[0m\n\u001b[1;32m   1255\u001b[0m         \u001b[0manswer\u001b[0m \u001b[0;34m=\u001b[0m \u001b[0mself\u001b[0m\u001b[0;34m.\u001b[0m\u001b[0mgateway_client\u001b[0m\u001b[0;34m.\u001b[0m\u001b[0msend_command\u001b[0m\u001b[0;34m(\u001b[0m\u001b[0mcommand\u001b[0m\u001b[0;34m)\u001b[0m\u001b[0;34m\u001b[0m\u001b[0m\n\u001b[1;32m   1256\u001b[0m         return_value = get_return_value(\n\u001b[0;32m-> 1257\u001b[0;31m             answer, self.gateway_client, self.target_id, self.name)\n\u001b[0m\u001b[1;32m   1258\u001b[0m \u001b[0;34m\u001b[0m\u001b[0m\n\u001b[1;32m   1259\u001b[0m         \u001b[0;32mfor\u001b[0m \u001b[0mtemp_arg\u001b[0m \u001b[0;32min\u001b[0m \u001b[0mtemp_args\u001b[0m\u001b[0;34m:\u001b[0m\u001b[0;34m\u001b[0m\u001b[0m\n",
      "\u001b[0;32m/opt/cloudera/parcels/SPARK2/lib/spark2/python/pyspark/sql/utils.py\u001b[0m in \u001b[0;36mdeco\u001b[0;34m(*a, **kw)\u001b[0m\n\u001b[1;32m     67\u001b[0m                                              e.java_exception.getStackTrace()))\n\u001b[1;32m     68\u001b[0m             \u001b[0;32mif\u001b[0m \u001b[0ms\u001b[0m\u001b[0;34m.\u001b[0m\u001b[0mstartswith\u001b[0m\u001b[0;34m(\u001b[0m\u001b[0;34m'org.apache.spark.sql.AnalysisException: '\u001b[0m\u001b[0;34m)\u001b[0m\u001b[0;34m:\u001b[0m\u001b[0;34m\u001b[0m\u001b[0m\n\u001b[0;32m---> 69\u001b[0;31m                 \u001b[0;32mraise\u001b[0m \u001b[0mAnalysisException\u001b[0m\u001b[0;34m(\u001b[0m\u001b[0ms\u001b[0m\u001b[0;34m.\u001b[0m\u001b[0msplit\u001b[0m\u001b[0;34m(\u001b[0m\u001b[0;34m': '\u001b[0m\u001b[0;34m,\u001b[0m \u001b[0;36m1\u001b[0m\u001b[0;34m)\u001b[0m\u001b[0;34m[\u001b[0m\u001b[0;36m1\u001b[0m\u001b[0;34m]\u001b[0m\u001b[0;34m,\u001b[0m \u001b[0mstackTrace\u001b[0m\u001b[0;34m)\u001b[0m\u001b[0;34m\u001b[0m\u001b[0m\n\u001b[0m\u001b[1;32m     70\u001b[0m             \u001b[0;32mif\u001b[0m \u001b[0ms\u001b[0m\u001b[0;34m.\u001b[0m\u001b[0mstartswith\u001b[0m\u001b[0;34m(\u001b[0m\u001b[0;34m'org.apache.spark.sql.catalyst.analysis'\u001b[0m\u001b[0;34m)\u001b[0m\u001b[0;34m:\u001b[0m\u001b[0;34m\u001b[0m\u001b[0m\n\u001b[1;32m     71\u001b[0m                 \u001b[0;32mraise\u001b[0m \u001b[0mAnalysisException\u001b[0m\u001b[0;34m(\u001b[0m\u001b[0ms\u001b[0m\u001b[0;34m.\u001b[0m\u001b[0msplit\u001b[0m\u001b[0;34m(\u001b[0m\u001b[0;34m': '\u001b[0m\u001b[0;34m,\u001b[0m \u001b[0;36m1\u001b[0m\u001b[0;34m)\u001b[0m\u001b[0;34m[\u001b[0m\u001b[0;36m1\u001b[0m\u001b[0;34m]\u001b[0m\u001b[0;34m,\u001b[0m \u001b[0mstackTrace\u001b[0m\u001b[0;34m)\u001b[0m\u001b[0;34m\u001b[0m\u001b[0m\n",
      "\u001b[0;31mAnalysisException\u001b[0m: u\"cannot resolve '`probability`' given input columns: [msisdn, score, target, prediction];;\\n'Project [msisdn#42097, cast(<lambda>('probability) as double) AS score#367903, target#289757, prediction#357272]\\n+- Sort [score#359927 DESC NULLS LAST], true\\n   +- Project [msisdn#42097, score#359927, target#289757, prediction#357272]\\n      +- Project [msisdn#42097, metodo_pago#42098, factura_electronica#42099, superoferta#42100, tipo_documento#42101, nacionalidad#42102, x_datos_navegacion#42103, x_datos_trafico#42104, x_cesion_datos#42105, x_user_facebook#42106, x_user_twitter#42107, marriage2hgbst_elm#42108, gender2hgbst_elm#42109, flg_robinson#42110, x_formato_factura#42111, x_idioma_factura#42112, bam_services#42113L, bam-movil_services#42114L, fbb_services#42115L, fixed_services#42116L, movil_services#42117L, prepaid_services#42118L, tv_services#42119L, tipo_sim#42120, ... 1304 more fields]\\n         +- Project [msisdn#42097, metodo_pago#42098, factura_electronica#42099, superoferta#42100, tipo_documento#42101, nacionalidad#42102, x_datos_navegacion#42103, x_datos_trafico#42104, x_cesion_datos#42105, x_user_facebook#42106, x_user_twitter#42107, marriage2hgbst_elm#42108, gender2hgbst_elm#42109, flg_robinson#42110, x_formato_factura#42111, x_idioma_factura#42112, bam_services#42113L, bam-movil_services#42114L, fbb_services#42115L, fixed_services#42116L, movil_services#42117L, prepaid_services#42118L, tv_services#42119L, tipo_sim#42120, ... 1303 more fields]\\n            +- Project [msisdn#42097, metodo_pago#42098, factura_electronica#42099, superoferta#42100, tipo_documento#42101, nacionalidad#42102, x_datos_navegacion#42103, x_datos_trafico#42104, x_cesion_datos#42105, x_user_facebook#42106, x_user_twitter#42107, marriage2hgbst_elm#42108, gender2hgbst_elm#42109, flg_robinson#42110, x_formato_factura#42111, x_idioma_factura#42112, bam_services#42113L, bam-movil_services#42114L, fbb_services#42115L, fixed_services#42116L, movil_services#42117L, prepaid_services#42118L, tv_services#42119L, tipo_sim#42120, ... 1302 more fields]\\n               +- Project [msisdn#42097, metodo_pago#42098, factura_electronica#42099, superoferta#42100, tipo_documento#42101, nacionalidad#42102, x_datos_navegacion#42103, x_datos_trafico#42104, x_cesion_datos#42105, x_user_facebook#42106, x_user_twitter#42107, marriage2hgbst_elm#42108, gender2hgbst_elm#42109, flg_robinson#42110, x_formato_factura#42111, x_idioma_factura#42112, bam_services#42113L, bam-movil_services#42114L, fbb_services#42115L, fixed_services#42116L, movil_services#42117L, prepaid_services#42118L, tv_services#42119L, tipo_sim#42120, ... 1301 more fields]\\n                  +- Project [msisdn#42097, metodo_pago#42098, factura_electronica#42099, superoferta#42100, tipo_documento#42101, nacionalidad#42102, x_datos_navegacion#42103, x_datos_trafico#42104, x_cesion_datos#42105, x_user_facebook#42106, x_user_twitter#42107, marriage2hgbst_elm#42108, gender2hgbst_elm#42109, flg_robinson#42110, x_formato_factura#42111, x_idioma_factura#42112, bam_services#42113L, bam-movil_services#42114L, fbb_services#42115L, fixed_services#42116L, movil_services#42117L, prepaid_services#42118L, tv_services#42119L, tipo_sim#42120, ... 1300 more fields]\\n                     +- Project [msisdn#42097, metodo_pago#42098, factura_electronica#42099, superoferta#42100, tipo_documento#42101, nacionalidad#42102, x_datos_navegacion#42103, x_datos_trafico#42104, x_cesion_datos#42105, x_user_facebook#42106, x_user_twitter#42107, marriage2hgbst_elm#42108, gender2hgbst_elm#42109, flg_robinson#42110, x_formato_factura#42111, x_idioma_factura#42112, bam_services#42113L, bam-movil_services#42114L, fbb_services#42115L, fixed_services#42116L, movil_services#42117L, prepaid_services#42118L, tv_services#42119L, tipo_sim#42120, ... 1299 more fields]\\n                        +- Project [msisdn#42097, metodo_pago#42098, factura_electronica#42099, superoferta#42100, tipo_documento#42101, nacionalidad#42102, x_datos_navegacion#42103, x_datos_trafico#42104, x_cesion_datos#42105, x_user_facebook#42106, x_user_twitter#42107, marriage2hgbst_elm#42108, gender2hgbst_elm#42109, flg_robinson#42110, x_formato_factura#42111, x_idioma_factura#42112, bam_services#42113L, bam-movil_services#42114L, fbb_services#42115L, fixed_services#42116L, movil_services#42117L, prepaid_services#42118L, tv_services#42119L, tipo_sim#42120, ... 1298 more fields]\\n                           +- Project [msisdn#42097, metodo_pago#42098, factura_electronica#42099, superoferta#42100, tipo_documento#42101, nacionalidad#42102, x_datos_navegacion#42103, x_datos_trafico#42104, x_cesion_datos#42105, x_user_facebook#42106, x_user_twitter#42107, marriage2hgbst_elm#42108, gender2hgbst_elm#42109, flg_robinson#42110, x_formato_factura#42111, x_idioma_factura#42112, bam_services#42113L, bam-movil_services#42114L, fbb_services#42115L, fixed_services#42116L, movil_services#42117L, prepaid_services#42118L, tv_services#42119L, tipo_sim#42120, ... 1297 more fields]\\n                              +- Project [msisdn#42097, metodo_pago#42098, factura_electronica#42099, superoferta#42100, tipo_documento#42101, nacionalidad#42102, x_datos_navegacion#42103, x_datos_trafico#42104, x_cesion_datos#42105, x_user_facebook#42106, x_user_twitter#42107, marriage2hgbst_elm#42108, gender2hgbst_elm#42109, flg_robinson#42110, x_formato_factura#42111, x_idioma_factura#42112, bam_services#42113L, bam-movil_services#42114L, fbb_services#42115L, fixed_services#42116L, movil_services#42117L, prepaid_services#42118L, tv_services#42119L, tipo_sim#42120, ... 1296 more fields]\\n                                 +- Project [msisdn#42097, metodo_pago#42098, factura_electronica#42099, superoferta#42100, tipo_documento#42101, nacionalidad#42102, x_datos_navegacion#42103, x_datos_trafico#42104, x_cesion_datos#42105, x_user_facebook#42106, x_user_twitter#42107, marriage2hgbst_elm#42108, gender2hgbst_elm#42109, flg_robinson#42110, x_formato_factura#42111, x_idioma_factura#42112, bam_services#42113L, bam-movil_services#42114L, fbb_services#42115L, fixed_services#42116L, movil_services#42117L, prepaid_services#42118L, tv_services#42119L, tipo_sim#42120, ... 1295 more fields]\\n                                    +- Project [msisdn#42097, metodo_pago#42098, factura_electronica#42099, superoferta#42100, tipo_documento#42101, nacionalidad#42102, x_datos_navegacion#42103, x_datos_trafico#42104, x_cesion_datos#42105, x_user_facebook#42106, x_user_twitter#42107, marriage2hgbst_elm#42108, gender2hgbst_elm#42109, flg_robinson#42110, x_formato_factura#42111, x_idioma_factura#42112, bam_services#42113L, bam-movil_services#42114L, fbb_services#42115L, fixed_services#42116L, movil_services#42117L, prepaid_services#42118L, tv_services#42119L, tipo_sim#42120, ... 1294 more fields]\\n                                       +- Project [msisdn#42097, metodo_pago#42098, factura_electronica#42099, superoferta#42100, tipo_documento#42101, nacionalidad#42102, x_datos_navegacion#42103, x_datos_trafico#42104, x_cesion_datos#42105, x_user_facebook#42106, x_user_twitter#42107, marriage2hgbst_elm#42108, gender2hgbst_elm#42109, flg_robinson#42110, x_formato_factura#42111, x_idioma_factura#42112, bam_services#42113L, bam-movil_services#42114L, fbb_services#42115L, fixed_services#42116L, movil_services#42117L, prepaid_services#42118L, tv_services#42119L, tipo_sim#42120, ... 1293 more fields]\\n                                          +- Project [msisdn#42097, metodo_pago#42098, factura_electronica#42099, superoferta#42100, tipo_documento#42101, nacionalidad#42102, x_datos_navegacion#42103, x_datos_trafico#42104, x_cesion_datos#42105, x_user_facebook#42106, x_user_twitter#42107, marriage2hgbst_elm#42108, gender2hgbst_elm#42109, flg_robinson#42110, x_formato_factura#42111, x_idioma_factura#42112, bam_services#42113L, bam-movil_services#42114L, fbb_services#42115L, fixed_services#42116L, movil_services#42117L, prepaid_services#42118L, tv_services#42119L, tipo_sim#42120, ... 1292 more fields]\\n                                             +- Project [msisdn#42097, metodo_pago#42098, factura_electronica#42099, superoferta#42100, tipo_documento#42101, nacionalidad#42102, x_datos_navegacion#42103, x_datos_trafico#42104, x_cesion_datos#42105, x_user_facebook#42106, x_user_twitter#42107, marriage2hgbst_elm#42108, gender2hgbst_elm#42109, flg_robinson#42110, x_formato_factura#42111, x_idioma_factura#42112, bam_services#42113L, bam-movil_services#42114L, fbb_services#42115L, fixed_services#42116L, movil_services#42117L, prepaid_services#42118L, tv_services#42119L, tipo_sim#42120, ... 1291 more fields]\\n                                                +- Project [msisdn#42097, metodo_pago#42098, factura_electronica#42099, superoferta#42100, tipo_documento#42101, nacionalidad#42102, x_datos_navegacion#42103, x_datos_trafico#42104, x_cesion_datos#42105, x_user_facebook#42106, x_user_twitter#42107, marriage2hgbst_elm#42108, gender2hgbst_elm#42109, flg_robinson#42110, x_formato_factura#42111, x_idioma_factura#42112, bam_services#42113L, bam-movil_services#42114L, fbb_services#42115L, fixed_services#42116L, movil_services#42117L, prepaid_services#42118L, tv_services#42119L, tipo_sim#42120, ... 1290 more fields]\\n                                                   +- Project [msisdn#42097, metodo_pago#42098, factura_electronica#42099, superoferta#42100, tipo_documento#42101, nacionalidad#42102, x_datos_navegacion#42103, x_datos_trafico#42104, x_cesion_datos#42105, x_user_facebook#42106, x_user_twitter#42107, marriage2hgbst_elm#42108, gender2hgbst_elm#42109, flg_robinson#42110, x_formato_factura#42111, x_idioma_factura#42112, bam_services#42113L, bam-movil_services#42114L, fbb_services#42115L, fixed_services#42116L, movil_services#42117L, prepaid_services#42118L, tv_services#42119L, tipo_sim#42120, ... 1289 more fields]\\n                                                      +- Project [msisdn#42097, metodo_pago#42098, factura_electronica#42099, superoferta#42100, tipo_documento#42101, nacionalidad#42102, x_datos_navegacion#42103, x_datos_trafico#42104, x_cesion_datos#42105, x_user_facebook#42106, x_user_twitter#42107, marriage2hgbst_elm#42108, gender2hgbst_elm#42109, flg_robinson#42110, x_formato_factura#42111, x_idioma_factura#42112, bam_services#42113L, bam-movil_services#42114L, fbb_services#42115L, fixed_services#42116L, movil_services#42117L, prepaid_services#42118L, tv_services#42119L, tipo_sim#42120, ... 1288 more fields]\\n                                                         +- Project [msisdn#42097, metodo_pago#42098, factura_electronica#42099, superoferta#42100, tipo_documento#42101, nacionalidad#42102, x_datos_navegacion#42103, x_datos_trafico#42104, x_cesion_datos#42105, x_user_facebook#42106, x_user_twitter#42107, marriage2hgbst_elm#42108, gender2hgbst_elm#42109, flg_robinson#42110, x_formato_factura#42111, x_idioma_factura#42112, bam_services#42113L, bam-movil_services#42114L, fbb_services#42115L, fixed_services#42116L, movil_services#42117L, prepaid_services#42118L, tv_services#42119L, tipo_sim#42120, ... 1287 more fields]\\n                                                            +- Project [msisdn#42097, metodo_pago#42098, factura_electronica#42099, superoferta#42100, tipo_documento#42101, nacionalidad#42102, x_datos_navegacion#42103, x_datos_trafico#42104, x_cesion_datos#42105, x_user_facebook#42106, x_user_twitter#42107, marriage2hgbst_elm#42108, gender2hgbst_elm#42109, flg_robinson#42110, x_formato_factura#42111, x_idioma_factura#42112, bam_services#42113L, bam-movil_services#42114L, fbb_services#42115L, fixed_services#42116L, movil_services#42117L, prepaid_services#42118L, tv_services#42119L, tipo_sim#42120, ... 1286 more fields]\\n                                                               +- Project [msisdn#42097, metodo_pago#42098, factura_electronica#42099, superoferta#42100, tipo_documento#42101, nacionalidad#42102, x_datos_navegacion#42103, x_datos_trafico#42104, x_cesion_datos#42105, x_user_facebook#42106, x_user_twitter#42107, marriage2hgbst_elm#42108, gender2hgbst_elm#42109, flg_robinson#42110, x_formato_factura#42111, x_idioma_factura#42112, bam_services#42113L, bam-movil_services#42114L, fbb_services#42115L, fixed_services#42116L, movil_services#42117L, prepaid_services#42118L, tv_services#42119L, tipo_sim#42120, ... 1285 more fields]\\n                                                                  +- Project [msisdn#42097, metodo_pago#42098, factura_electronica#42099, superoferta#42100, tipo_documento#42101, nacionalidad#42102, x_datos_navegacion#42103, x_datos_trafico#42104, x_cesion_datos#42105, x_user_facebook#42106, x_user_twitter#42107, marriage2hgbst_elm#42108, gender2hgbst_elm#42109, flg_robinson#42110, x_formato_factura#42111, x_idioma_factura#42112, bam_services#42113L, bam-movil_services#42114L, fbb_services#42115L, fixed_services#42116L, movil_services#42117L, prepaid_services#42118L, tv_services#42119L, tipo_sim#42120, ... 1284 more fields]\\n                                                                     +- Project [msisdn#42097, metodo_pago#42098, factura_electronica#42099, superoferta#42100, tipo_documento#42101, nacionalidad#42102, x_datos_navegacion#42103, x_datos_trafico#42104, x_cesion_datos#42105, x_user_facebook#42106, x_user_twitter#42107, marriage2hgbst_elm#42108, gender2hgbst_elm#42109, flg_robinson#42110, x_formato_factura#42111, x_idioma_factura#42112, bam_services#42113L, bam-movil_services#42114L, fbb_services#42115L, fixed_services#42116L, movil_services#42117L, prepaid_services#42118L, tv_services#42119L, tipo_sim#42120, ... 1283 more fields]\\n                                                                        +- Project [msisdn#42097, metodo_pago#42098, factura_electronica#42099, superoferta#42100, tipo_documento#42101, nacionalidad#42102, x_datos_navegacion#42103, x_datos_trafico#42104, x_cesion_datos#42105, x_user_facebook#42106, x_user_twitter#42107, marriage2hgbst_elm#42108, gender2hgbst_elm#42109, flg_robinson#42110, x_formato_factura#42111, x_idioma_factura#42112, bam_services#42113L, bam-movil_services#42114L, fbb_services#42115L, fixed_services#42116L, movil_services#42117L, prepaid_services#42118L, tv_services#42119L, tipo_sim#42120, ... 1282 more fields]\\n                                                                           +- Project [msisdn#42097, metodo_pago#42098, factura_electronica#42099, superoferta#42100, tipo_documento#42101, nacionalidad#42102, x_datos_navegacion#42103, x_datos_trafico#42104, x_cesion_datos#42105, x_user_facebook#42106, x_user_twitter#42107, marriage2hgbst_elm#42108, gender2hgbst_elm#42109, flg_robinson#42110, x_formato_factura#42111, x_idioma_factura#42112, bam_services#42113L, bam-movil_services#42114L, fbb_services#42115L, fixed_services#42116L, movil_services#42117L, prepaid_services#42118L, tv_services#42119L, tipo_sim#42120, ... 1281 more fields]\\n                                                                              +- Project [msisdn#42097, metodo_pago#42098, factura_electronica#42099, superoferta#42100, tipo_documento#42101, nacionalidad#42102, x_datos_navegacion#42103, x_datos_trafico#42104, x_cesion_datos#42105, x_user_facebook#42106, x_user_twitter#42107, marriage2hgbst_elm#42108, gender2hgbst_elm#42109, flg_robinson#42110, x_formato_factura#42111, x_idioma_factura#42112, bam_services#42113L, bam-movil_services#42114L, fbb_services#42115L, fixed_services#42116L, movil_services#42117L, prepaid_services#42118L, tv_services#42119L, tipo_sim#42120, ... 1280 more fields]\\n                                                                                 +- Project [msisdn#42097, metodo_pago#42098, factura_electronica#42099, superoferta#42100, tipo_documento#42101, nacionalidad#42102, x_datos_navegacion#42103, x_datos_trafico#42104, x_cesion_datos#42105, x_user_facebook#42106, x_user_twitter#42107, marriage2hgbst_elm#42108, gender2hgbst_elm#42109, flg_robinson#42110, x_formato_factura#42111, x_idioma_factura#42112, bam_services#42113L, bam-movil_services#42114L, fbb_services#42115L, fixed_services#42116L, movil_services#42117L, prepaid_services#42118L, tv_services#42119L, tipo_sim#42120, ... 1279 more fields]\\n                                                                                    +- Project [msisdn#42097, metodo_pago#42098, factura_electronica#42099, superoferta#42100, tipo_documento#42101, nacionalidad#42102, x_datos_navegacion#42103, x_datos_trafico#42104, x_cesion_datos#42105, x_user_facebook#42106, x_user_twitter#42107, marriage2hgbst_elm#42108, gender2hgbst_elm#42109, flg_robinson#42110, x_formato_factura#42111, x_idioma_factura#42112, bam_services#42113L, bam-movil_services#42114L, fbb_services#42115L, fixed_services#42116L, movil_services#42117L, prepaid_services#42118L, tv_services#42119L, tipo_sim#42120, ... 1278 more fields]\\n                                                                                       +- Project [msisdn#42097, metodo_pago#42098, factura_electronica#42099, superoferta#42100, tipo_documento#42101, nacionalidad#42102, x_datos_navegacion#42103, x_datos_trafico#42104, x_cesion_datos#42105, x_user_facebook#42106, x_user_twitter#42107, marriage2hgbst_elm#42108, gender2hgbst_elm#42109, flg_robinson#42110, x_formato_factura#42111, x_idioma_factura#42112, bam_services#42113L, bam-movil_services#42114L, fbb_services#42115L, fixed_services#42116L, movil_services#42117L, prepaid_services#42118L, tv_services#42119L, tipo_sim#42120, ... 1277 more fields]\\n                                                                                          +- Project [msisdn#42097, metodo_pago#42098, factura_electronica#42099, superoferta#42100, tipo_documento#42101, nacionalidad#42102, x_datos_navegacion#42103, x_datos_trafico#42104, x_cesion_datos#42105, x_user_facebook#42106, x_user_twitter#42107, marriage2hgbst_elm#42108, gender2hgbst_elm#42109, flg_robinson#42110, x_formato_factura#42111, x_idioma_factura#42112, bam_services#42113L, bam-movil_services#42114L, fbb_services#42115L, fixed_services#42116L, movil_services#42117L, prepaid_services#42118L, tv_services#42119L, tipo_sim#42120, ... 1276 more fields]\\n                                                                                             +- Project [msisdn#42097, metodo_pago#42098, factura_electronica#42099, superoferta#42100, tipo_documento#42101, nacionalidad#42102, x_datos_navegacion#42103, x_datos_trafico#42104, x_cesion_datos#42105, x_user_facebook#42106, x_user_twitter#42107, marriage2hgbst_elm#42108, gender2hgbst_elm#42109, flg_robinson#42110, x_formato_factura#42111, x_idioma_factura#42112, bam_services#42113L, bam-movil_services#42114L, fbb_services#42115L, fixed_services#42116L, movil_services#42117L, prepaid_services#42118L, tv_services#42119L, tipo_sim#42120, ... 1275 more fields]\\n                                                                                                +- Project [msisdn#42097, metodo_pago#42098, factura_electronica#42099, superoferta#42100, tipo_documento#42101, nacionalidad#42102, x_datos_navegacion#42103, x_datos_trafico#42104, x_cesion_datos#42105, x_user_facebook#42106, x_user_twitter#42107, marriage2hgbst_elm#42108, gender2hgbst_elm#42109, flg_robinson#42110, x_formato_factura#42111, x_idioma_factura#42112, bam_services#42113L, bam-movil_services#42114L, fbb_services#42115L, fixed_services#42116L, movil_services#42117L, prepaid_services#42118L, tv_services#42119L, tipo_sim#42120, ... 1274 more fields]\\n                                                                                                   +- Project [msisdn#42097, metodo_pago#42098, factura_electronica#42099, superoferta#42100, tipo_documento#42101, nacionalidad#42102, x_datos_navegacion#42103, x_datos_trafico#42104, x_cesion_datos#42105, x_user_facebook#42106, x_user_twitter#42107, marriage2hgbst_elm#42108, gender2hgbst_elm#42109, flg_robinson#42110, x_formato_factura#42111, x_idioma_factura#42112, bam_services#42113L, bam-movil_services#42114L, fbb_services#42115L, fixed_services#42116L, movil_services#42117L, prepaid_services#42118L, tv_services#42119L, tipo_sim#42120, ... 1273 more fields]\\n                                                                                                      +- Project [msisdn#42097, metodo_pago#42098, factura_electronica#42099, superoferta#42100, tipo_documento#42101, nacionalidad#42102, x_datos_navegacion#42103, x_datos_trafico#42104, x_cesion_datos#42105, x_user_facebook#42106, x_user_twitter#42107, marriage2hgbst_elm#42108, gender2hgbst_elm#42109, flg_robinson#42110, x_formato_factura#42111, x_idioma_factura#42112, bam_services#42113L, bam-movil_services#42114L, fbb_services#42115L, fixed_services#42116L, movil_services#42117L, prepaid_services#42118L, tv_services#42119L, tipo_sim#42120, ... 1272 more fields]\\n                                                                                                         +- Relation[msisdn#42097,metodo_pago#42098,factura_electronica#42099,superoferta#42100,tipo_documento#42101,nacionalidad#42102,x_datos_navegacion#42103,x_datos_trafico#42104,x_cesion_datos#42105,x_user_facebook#42106,x_user_twitter#42107,marriage2hgbst_elm#42108,gender2hgbst_elm#42109,flg_robinson#42110,x_formato_factura#42111,x_idioma_factura#42112,bam_services#42113L,bam-movil_services#42114L,fbb_services#42115L,fixed_services#42116L,movil_services#42117L,prepaid_services#42118L,tv_services#42119L,tipo_sim#42120,... 1271 more fields] parquet\\n\""
     ]
    }
   ],
   "source": [
    "predsMasMovilTest=predsMasMovilTest.withColumn(\"score\", getScore(col(\"probability\")).cast(DoubleType()))\n",
    "predsMasMovilTest=predsMasMovilTest.select('msisdn','score','target','prediction') #guardo para dibujar luego matrices de confusion etc"
   ]
  },
  {
   "cell_type": "code",
   "execution_count": 33,
   "metadata": {},
   "outputs": [
    {
     "name": "stdout",
     "output_type": "stream",
     "text": [
      "+------+----------+-------+\n",
      "|target|prediction|  count|\n",
      "+------+----------+-------+\n",
      "|     1|       0.0|   9803|\n",
      "|     0|       0.0|3343513|\n",
      "|     1|       1.0|  32220|\n",
      "|     0|       1.0|2841064|\n",
      "+------+----------+-------+\n",
      "\n"
     ]
    }
   ],
   "source": [
    "predsMasMovilTest.groupby('target','prediction').count().show()"
   ]
  },
  {
   "cell_type": "code",
   "execution_count": 34,
   "metadata": {},
   "outputs": [],
   "source": [
    "predsMasMovilTest=predsMasMovilTest.orderBy('score',ascending=False)"
   ]
  },
  {
   "cell_type": "code",
   "execution_count": null,
   "metadata": {},
   "outputs": [],
   "source": [
    "printHTML(predsMasMovilTest)"
   ]
  },
  {
   "cell_type": "code",
   "execution_count": null,
   "metadata": {},
   "outputs": [],
   "source": [
    "predsMasMovilTest.limit(50000).show()"
   ]
  },
  {
   "cell_type": "code",
   "execution_count": null,
   "metadata": {},
   "outputs": [],
   "source": []
  },
  {
   "cell_type": "code",
   "execution_count": null,
   "metadata": {},
   "outputs": [],
   "source": []
  },
  {
   "cell_type": "code",
   "execution_count": null,
   "metadata": {},
   "outputs": [],
   "source": []
  },
  {
   "cell_type": "code",
   "execution_count": null,
   "metadata": {},
   "outputs": [],
   "source": [
    "predsMasMovilTest= spark.read.load('/data/udf/vf_es/churn/portabPropension_model/predsMasMovilTest')"
   ]
  },
  {
   "cell_type": "code",
   "execution_count": null,
   "metadata": {},
   "outputs": [],
   "source": []
  },
  {
   "cell_type": "code",
   "execution_count": null,
   "metadata": {},
   "outputs": [],
   "source": []
  },
  {
   "cell_type": "code",
   "execution_count": null,
   "metadata": {},
   "outputs": [],
   "source": [
    "predsMasMovilTest=predsMasMovilTest.cache()\n",
    "predsMasMovilTest.groupby('target').count().show()"
   ]
  },
  {
   "cell_type": "code",
   "execution_count": null,
   "metadata": {},
   "outputs": [],
   "source": [
    "predsMasMovilTest.repartition(300).write.save('/data/udf/vf_es/churn/portabPropension_model/predsMasMovilTest', format='parquet', mode='overwrite')"
   ]
  },
  {
   "cell_type": "code",
   "execution_count": null,
   "metadata": {},
   "outputs": [],
   "source": [
    "#Tablon de predicciones de test con los campos necesarios para luego unir con el resto de predicciones\n",
    "prediccionesMasMovil=predsMasMovilTest.select('msisdn','score').withColumnRenamed('score','MasMovil').withColumnRenamed('msisdn','msisdn_MasMovil')"
   ]
  },
  {
   "cell_type": "code",
   "execution_count": null,
   "metadata": {},
   "outputs": [],
   "source": [
    "prediccionesMasMovil=prediccionesMasMovil.cache()"
   ]
  },
  {
   "cell_type": "code",
   "execution_count": null,
   "metadata": {},
   "outputs": [],
   "source": [
    "prediccionesMasMovil.repartition(300).write.save('/data/udf/vf_es/churn/portabPropension_model/prediccionesMasMovil', format='parquet', mode='overwrite')"
   ]
  },
  {
   "cell_type": "code",
   "execution_count": null,
   "metadata": {},
   "outputs": [],
   "source": [
    "prediccionesMasMovil"
   ]
  },
  {
   "cell_type": "markdown",
   "metadata": {},
   "source": [
    "### Evalúo modelo (lift, confusion)"
   ]
  },
  {
   "cell_type": "code",
   "execution_count": null,
   "metadata": {},
   "outputs": [],
   "source": [
    "#roc curve:   https://stackoverflow.com/questions/52847408/pyspark-extract-roc-curve"
   ]
  },
  {
   "cell_type": "code",
   "execution_count": null,
   "metadata": {},
   "outputs": [],
   "source": [
    "lift = get_lift(predsMasMovilTest, 'score', 'target', 10)\n",
    "\n",
    "for d ,l in lift:\n",
    "   print str(d) + \": \" + str(l)"
   ]
  },
  {
   "cell_type": "code",
   "execution_count": null,
   "metadata": {},
   "outputs": [],
   "source": [
    "feat_imp=feat_impMasMovil\n",
    "\n",
    "features = feat_imp['name']\n",
    "importances = feat_imp['score']\n",
    "indices = feat_imp['idx']\n",
    "plt.figure(figsize=(15, 10))\n",
    "plt.title('Feature Importances')\n",
    "plt.barh(range(len(indices)), importances[indices], color='b', align='center')\n",
    "plt.yticks(range(len(indices)), [features[i] for i in indices])\n",
    "plt.xlabel('Relative Importance')\n",
    "plt.show()"
   ]
  },
  {
   "cell_type": "code",
   "execution_count": null,
   "metadata": {},
   "outputs": [],
   "source": [
    "from sklearn.metrics import confusion_matrix\n",
    "y_true = predsMasMovilTest.select(\"target\")\n",
    "y_true = y_true.toPandas()\n",
    "\n",
    "y_pred = predsMasMovilTest.select(\"prediction\")\n",
    "y_pred = y_pred.toPandas()\n",
    "\n",
    "cnf_matrix = confusion_matrix(y_true, y_pred,labels=['0','1'])\n",
    "cnf_matrix"
   ]
  },
  {
   "cell_type": "code",
   "execution_count": null,
   "metadata": {},
   "outputs": [],
   "source": [
    "plt.figure()\n",
    "plot_confusion_matrix(cnf_matrix, classes=['0','1'],\n",
    "                      title='Confusion matrix, without normalization')\n",
    "plt.show()"
   ]
  },
  {
   "cell_type": "markdown",
   "metadata": {},
   "source": [
    "## MODELO DE PORTABILIDAD A MOVISTAR"
   ]
  },
  {
   "cell_type": "code",
   "execution_count": null,
   "metadata": {},
   "outputs": [],
   "source": [
    "n=float(58755)/float(5999083)\n",
    "\n",
    "train_movistar=training_df_transf.filter(training_df_transf['Operador_target']==2).union(training_df_noPortab_trans.sample(False, n,5))\n",
    "train_movistar=train_movistar.withColumn('target',when(train_movistar['Operador_target']==2,1).otherwise(0))\n",
    "train_movistar=train_movistar.drop('Operador_target')\n",
    "\n",
    "prediction_df_movistar=prediction_df_transf.withColumn('target',when(prediction_df_transf['Operador_target']==2,1).otherwise(0))"
   ]
  },
  {
   "cell_type": "code",
   "execution_count": null,
   "metadata": {},
   "outputs": [],
   "source": [
    "train_movistar=train_movistar.cache()\n",
    "train_movistar.count()"
   ]
  },
  {
   "cell_type": "markdown",
   "metadata": {},
   "source": [
    "### Aplico modelo y saco tablón de predicciones"
   ]
  },
  {
   "cell_type": "code",
   "execution_count": null,
   "metadata": {},
   "outputs": [],
   "source": [
    "modelMovistar = model.fit(train_movistar)"
   ]
  },
  {
   "cell_type": "code",
   "execution_count": null,
   "metadata": {},
   "outputs": [],
   "source": [
    "predsMovistarTrain=modelMovistar.transform(train_movistar)\n",
    "predsMovistarTest=modelMovistar.transform(prediction_df_movistar)"
   ]
  },
  {
   "cell_type": "code",
   "execution_count": null,
   "metadata": {},
   "outputs": [],
   "source": [
    "aucTrainMovistar = evaluator.evaluate(predsMovistarTrain)\n",
    "aucTestMovistar = evaluator.evaluate(predsMovistarTest)"
   ]
  },
  {
   "cell_type": "code",
   "execution_count": null,
   "metadata": {},
   "outputs": [],
   "source": [
    "aucTrainMovistar"
   ]
  },
  {
   "cell_type": "code",
   "execution_count": null,
   "metadata": {},
   "outputs": [],
   "source": [
    "aucTestMovistar "
   ]
  },
  {
   "cell_type": "code",
   "execution_count": null,
   "metadata": {},
   "outputs": [],
   "source": [
    "feat_impMovistar = ExtractFeatureImp(modelMovistar.featureImportances ,predsMovistarTest, \"features\")[0:30]\n",
    "feat_impMovistar = feat_impMovistar.sort_values(by = ['score'], ascending = True)"
   ]
  },
  {
   "cell_type": "code",
   "execution_count": null,
   "metadata": {},
   "outputs": [],
   "source": [
    "predsMovistarTrain=predsMovistarTrain.withColumn(\"score\", getScore(col(\"probability\")).cast(DoubleType()))\n",
    "predsMovistarTrain=predsMovistarTrain.select('msisdn','score','target','prediction') #guardo para dibujar luego matrices de confuisioon etc"
   ]
  },
  {
   "cell_type": "code",
   "execution_count": null,
   "metadata": {},
   "outputs": [],
   "source": [
    "predsMovistarTrain.repartition(300).write.save('/data/udf/vf_es/churn/portabPropension_model/predsMovistarTrain', format='parquet', mode='overwrite')"
   ]
  },
  {
   "cell_type": "code",
   "execution_count": null,
   "metadata": {},
   "outputs": [],
   "source": [
    "predsMovistarTest=predsMovistarTest.withColumn(\"score\", getScore(col(\"probability\")).cast(DoubleType()))\n",
    "predsMovistarTest=predsMovistarTest.select('msisdn','score','target','prediction') #guardo para dibujar luego matrices de confuisioon etc"
   ]
  },
  {
   "cell_type": "code",
   "execution_count": null,
   "metadata": {},
   "outputs": [],
   "source": [
    "predsMovistarTest.repartition(300).write.save('/data/udf/vf_es/churn/portabPropension_model/predsMovistarTest', format='parquet', mode='overwrite')"
   ]
  },
  {
   "cell_type": "code",
   "execution_count": null,
   "metadata": {},
   "outputs": [],
   "source": [
    "#Tablon de predicciones preparado para luego unir con el resto \n",
    "\n",
    "prediccionesMovistar=predsMovistarTest.select('msisdn','score').withColumnRenamed('score','Movistar').withColumnRenamed('msisdn','msisdn_Movistar')"
   ]
  },
  {
   "cell_type": "code",
   "execution_count": null,
   "metadata": {},
   "outputs": [],
   "source": [
    "\n",
    "prediccionesMovistar.repartition(300).write.save('/data/udf/vf_es/churn/portabPropension_model/prediccionesMovistar', format='parquet', mode='overwrite')\n",
    "\n"
   ]
  },
  {
   "cell_type": "code",
   "execution_count": null,
   "metadata": {},
   "outputs": [],
   "source": [
    "prediccionesMovistar"
   ]
  },
  {
   "cell_type": "markdown",
   "metadata": {},
   "source": [
    "### Evalúo modelo"
   ]
  },
  {
   "cell_type": "code",
   "execution_count": null,
   "metadata": {
    "scrolled": true
   },
   "outputs": [],
   "source": [
    "lift = get_lift(predsMovistarTest, 'score', 'target', 10)\n",
    "\n",
    "for d ,l in lift:\n",
    "   print str(d) + \": \" + str(l)"
   ]
  },
  {
   "cell_type": "code",
   "execution_count": null,
   "metadata": {},
   "outputs": [],
   "source": [
    "for d ,l in lift:\n",
    "   print str(d) + \": \" + str(l)"
   ]
  },
  {
   "cell_type": "code",
   "execution_count": null,
   "metadata": {},
   "outputs": [],
   "source": [
    "feat_imp=feat_impMovistar\n",
    "\n",
    "features = feat_imp['name']\n",
    "importances = feat_imp['score']\n",
    "indices = feat_imp['idx']\n",
    "plt.figure(figsize=(15, 10))\n",
    "plt.title('Feature Importances')\n",
    "plt.barh(range(len(indices)), importances[indices], color='b', align='center')\n",
    "plt.yticks(range(len(indices)), [features[i] for i in indices])\n",
    "plt.xlabel('Relative Importance')\n",
    "plt.show()"
   ]
  },
  {
   "cell_type": "code",
   "execution_count": null,
   "metadata": {},
   "outputs": [],
   "source": [
    "feat_impMovistar"
   ]
  },
  {
   "cell_type": "markdown",
   "metadata": {},
   "source": [
    "## MODELO DE PORTABILIDAD A ORANGE"
   ]
  },
  {
   "cell_type": "code",
   "execution_count": null,
   "metadata": {},
   "outputs": [],
   "source": [
    "n=float(41554)/float(5999083)\n",
    "\n",
    "train_orange=training_df_transf.filter(training_df_transf['Operador_target']==3).union(training_df_noPortab_trans.sample(False, n,5))\n",
    "train_orange=train_orange.withColumn('target',when(train_orange['Operador_target']==3,1).otherwise(0))\n",
    "train_orange=train_orange.drop('Operador_target')\n",
    "\n",
    "\n",
    "prediction_df_orange=prediction_df_transf.withColumn('target',when(prediction_df_transf['Operador_target']==3,1).otherwise(0))"
   ]
  },
  {
   "cell_type": "code",
   "execution_count": null,
   "metadata": {},
   "outputs": [],
   "source": [
    "train_orange=train_orange.cache()\n",
    "train_orange.count()"
   ]
  },
  {
   "cell_type": "code",
   "execution_count": null,
   "metadata": {},
   "outputs": [],
   "source": [
    "train_orange.filter(train_orange['target']==1).count()"
   ]
  },
  {
   "cell_type": "code",
   "execution_count": null,
   "metadata": {},
   "outputs": [],
   "source": [
    "train_orange.filter(train_orange['target']==0).count()"
   ]
  },
  {
   "cell_type": "markdown",
   "metadata": {},
   "source": [
    "### Aplico modelo y saco tablón de predicciones"
   ]
  },
  {
   "cell_type": "code",
   "execution_count": null,
   "metadata": {},
   "outputs": [],
   "source": [
    "modelOrange = model.fit(train_orange)"
   ]
  },
  {
   "cell_type": "code",
   "execution_count": null,
   "metadata": {},
   "outputs": [],
   "source": [
    "predsOrangeTrain=modelOrange.transform(train_orange)\n",
    "predsOrangeTest=modelOrange.transform(prediction_df_orange)"
   ]
  },
  {
   "cell_type": "code",
   "execution_count": null,
   "metadata": {},
   "outputs": [],
   "source": [
    "aucTrainOrange = evaluator.evaluate(predsOrangeTrain)\n",
    "aucTestOrange = evaluator.evaluate(predsOrangeTest)"
   ]
  },
  {
   "cell_type": "code",
   "execution_count": null,
   "metadata": {},
   "outputs": [],
   "source": [
    "aucTrainOrange"
   ]
  },
  {
   "cell_type": "code",
   "execution_count": null,
   "metadata": {},
   "outputs": [],
   "source": [
    "aucTestOrange"
   ]
  },
  {
   "cell_type": "code",
   "execution_count": null,
   "metadata": {},
   "outputs": [],
   "source": [
    "feat_impOrange = ExtractFeatureImp(modelOrange.featureImportances ,predsOrangeTest, \"features\")[0:30]\n",
    "feat_impOrange = feat_impOrange.sort_values(by = ['score'], ascending = True)"
   ]
  },
  {
   "cell_type": "code",
   "execution_count": null,
   "metadata": {},
   "outputs": [],
   "source": [
    "predsOrangeTrain=predsOrangeTrain.withColumn(\"score\", getScore(col(\"probability\")).cast(DoubleType()))\n",
    "predsOrangeTrain=predsOrangeTrain.select('msisdn','score','target','prediction') #guardo para dibujar luego matrices de confuisioon etc"
   ]
  },
  {
   "cell_type": "code",
   "execution_count": null,
   "metadata": {},
   "outputs": [],
   "source": [
    "\n",
    "predsOrangeTrain.repartition(300).write.save('/data/udf/vf_es/churn/portabPropension_model/predsOrangeTrain', format='parquet', mode='overwrite')\n",
    "\n",
    "'''\n",
    "'''"
   ]
  },
  {
   "cell_type": "code",
   "execution_count": null,
   "metadata": {},
   "outputs": [],
   "source": [
    "predsOrangeTest=predsOrangeTest.withColumn(\"score\", getScore(col(\"probability\")).cast(DoubleType()))\n",
    "predsOrangeTest=predsOrangeTest.select('msisdn','score','target','prediction') #guardo para dibujar luego matrices de confuisioon etc"
   ]
  },
  {
   "cell_type": "code",
   "execution_count": null,
   "metadata": {},
   "outputs": [],
   "source": [
    "'''\n",
    "predsOrangeTest.repartition(300).write.save('/data/udf/vf_es/churn/portabPropension_model/predsOrangeTest', format='parquet', mode='overwrite')\n",
    "\n",
    "\n",
    "'''"
   ]
  },
  {
   "cell_type": "code",
   "execution_count": null,
   "metadata": {},
   "outputs": [],
   "source": [
    "#Tablon de predicciones preparado para luego unir con el resto \n",
    "\n",
    "prediccionesOrange=predsOrangeTest.select('msisdn','score').withColumnRenamed('score','Orange').withColumnRenamed('msisdn','msisdn_Orange')"
   ]
  },
  {
   "cell_type": "code",
   "execution_count": null,
   "metadata": {},
   "outputs": [],
   "source": [
    "prediccionesOrange.repartition(300).write.save('/data/udf/vf_es/churn/portabPropension_model/prediccionesOrange', format='parquet', mode='overwrite')\n"
   ]
  },
  {
   "cell_type": "markdown",
   "metadata": {},
   "source": [
    "### Evalúo modelo"
   ]
  },
  {
   "cell_type": "code",
   "execution_count": null,
   "metadata": {},
   "outputs": [],
   "source": [
    "lift = get_lift(predsOrangeTest, 'score', 'target', 10)\n",
    "\n",
    "for d ,l in lift:\n",
    "   print str(d) + \": \" + str(l)"
   ]
  },
  {
   "cell_type": "code",
   "execution_count": null,
   "metadata": {},
   "outputs": [],
   "source": [
    "feat_imp=feat_impOrange\n",
    "\n",
    "features = feat_imp['name']\n",
    "importances = feat_imp['score']\n",
    "indices = feat_imp['idx']\n",
    "plt.figure(figsize=(15, 10))\n",
    "plt.title('Feature Importances')\n",
    "plt.barh(range(len(indices)), importances[indices], color='b', align='center')\n",
    "plt.yticks(range(len(indices)), [features[i] for i in indices])\n",
    "plt.xlabel('Relative Importance')\n",
    "plt.show()"
   ]
  },
  {
   "cell_type": "markdown",
   "metadata": {},
   "source": [
    "## MODELO DE PORTABILIDAD A OTROS OPERADORES"
   ]
  },
  {
   "cell_type": "code",
   "execution_count": null,
   "metadata": {},
   "outputs": [],
   "source": [
    "n=float(20951)/float(5999083)\n",
    "\n",
    "train_otros=training_df_transf.filter(training_df_transf['Operador_target']==4).union(training_df_noPortab_trans.sample(False, n,5))\n",
    "train_otros=train_otros.withColumn('target',when(train_otros['Operador_target']==4,1).otherwise(0))\n",
    "train_otros=train_otros.drop('Operador_target')\n",
    "\n",
    "prediction_df_otros=prediction_df_transf.withColumn('target',when(prediction_df_transf['Operador_target']==4,1).otherwise(0))"
   ]
  },
  {
   "cell_type": "markdown",
   "metadata": {},
   "source": [
    "### Aplico modelo y saco tablón de predicciones"
   ]
  },
  {
   "cell_type": "code",
   "execution_count": null,
   "metadata": {},
   "outputs": [],
   "source": [
    "modelOtros = model.fit(train_otros)"
   ]
  },
  {
   "cell_type": "code",
   "execution_count": null,
   "metadata": {},
   "outputs": [],
   "source": [
    "predsOtrosTrain=modelOtros.transform(train_otros)\n",
    "predsOtrosTest=modelOtros.transform(prediction_df_otros)"
   ]
  },
  {
   "cell_type": "code",
   "execution_count": null,
   "metadata": {},
   "outputs": [],
   "source": [
    "aucTrainOtros = evaluator.evaluate(predsOtrosTrain)\n",
    "aucTestOtros = evaluator.evaluate(predsOtrosTest)"
   ]
  },
  {
   "cell_type": "code",
   "execution_count": null,
   "metadata": {},
   "outputs": [],
   "source": [
    "aucTrainOtros"
   ]
  },
  {
   "cell_type": "code",
   "execution_count": null,
   "metadata": {},
   "outputs": [],
   "source": [
    "aucTestOtros"
   ]
  },
  {
   "cell_type": "code",
   "execution_count": null,
   "metadata": {},
   "outputs": [],
   "source": [
    "feat_impOtros = ExtractFeatureImp(modelOtros.featureImportances ,predsOtrosTest, \"features\")[0:30]\n",
    "feat_impOtros = feat_impOtros.sort_values(by = ['score'], ascending = True)"
   ]
  },
  {
   "cell_type": "code",
   "execution_count": null,
   "metadata": {},
   "outputs": [],
   "source": [
    "predsOtrosTrain=predsOtrosTrain.withColumn(\"score\", getScore(col(\"probability\")).cast(DoubleType()))\n",
    "predsOtrosTrain=predsOtrosTrain.select('msisdn','score','target','prediction') #guardo para dibujar luego matrices de confuisioon etc"
   ]
  },
  {
   "cell_type": "code",
   "execution_count": null,
   "metadata": {},
   "outputs": [],
   "source": [
    "\n",
    "predsOtrosTrain.repartition(300).write.save('/data/udf/vf_es/churn/portabPropension_model/predsOtrosTrain', format='parquet', mode='overwrite')\n",
    "\n"
   ]
  },
  {
   "cell_type": "code",
   "execution_count": null,
   "metadata": {},
   "outputs": [],
   "source": [
    "predsOtrosTest=predsOtrosTest.withColumn(\"score\", getScore(col(\"probability\")).cast(DoubleType()))\n",
    "predsOtrosTest=predsOtrosTest.select('msisdn','score','target','prediction') #guardo para dibujar luego matrices de confuisioon etc"
   ]
  },
  {
   "cell_type": "code",
   "execution_count": null,
   "metadata": {},
   "outputs": [],
   "source": [
    "\n",
    "predsOtrosTest.repartition(300).write.save('/data/udf/vf_es/churn/portabPropension_model/predsOtrosTest', format='parquet', mode='overwrite')\n",
    "\n"
   ]
  },
  {
   "cell_type": "code",
   "execution_count": null,
   "metadata": {},
   "outputs": [],
   "source": [
    "#Tablon de predicciones preparado para luego unir con el resto \n",
    "\n",
    "prediccionesOtros=predsOtrosTest.select('msisdn','score').withColumnRenamed('score','Otros').withColumnRenamed('msisdn','msisdn_Otros')"
   ]
  },
  {
   "cell_type": "code",
   "execution_count": null,
   "metadata": {},
   "outputs": [],
   "source": [
    "\n",
    "prediccionesOtros.repartition(300).write.save('/data/udf/vf_es/churn/portabPropension_model/prediccionesOtros', format='parquet', mode='overwrite')\n",
    "\n",
    "\n"
   ]
  },
  {
   "cell_type": "code",
   "execution_count": null,
   "metadata": {},
   "outputs": [],
   "source": [
    "spark.stop()"
   ]
  },
  {
   "cell_type": "markdown",
   "metadata": {},
   "source": [
    "### Evalúo modelo"
   ]
  },
  {
   "cell_type": "code",
   "execution_count": null,
   "metadata": {},
   "outputs": [],
   "source": [
    "lift = get_lift(predsOtrosTest, 'score', 'target', 10)\n",
    "\n",
    "for d ,l in lift:\n",
    "   print str(d) + \": \" + str(l)"
   ]
  },
  {
   "cell_type": "code",
   "execution_count": null,
   "metadata": {},
   "outputs": [],
   "source": [
    "feat_imp=feat_impOtros\n",
    "\n",
    "features = feat_imp['name']\n",
    "importances = feat_imp['score']\n",
    "indices = feat_imp['idx']\n",
    "plt.figure(figsize=(15, 10))\n",
    "plt.title('Feature Importances')\n",
    "plt.barh(range(len(indices)), importances[indices], color='b', align='center')\n",
    "plt.yticks(range(len(indices)), [features[i] for i in indices])\n",
    "plt.xlabel('Relative Importance')\n",
    "plt.show()"
   ]
  },
  {
   "cell_type": "markdown",
   "metadata": {},
   "source": [
    "## Tablón de predicciones final: scores de cada modelo y majority vote"
   ]
  },
  {
   "cell_type": "markdown",
   "metadata": {},
   "source": [
    "Con los scores obtenidos por cada modelo para los datos de predicción, creamos un tablón que nos diga el operador con mayor score para cada cliente"
   ]
  },
  {
   "cell_type": "markdown",
   "metadata": {},
   "source": [
    "### Junto los tablones de predicciones "
   ]
  },
  {
   "cell_type": "code",
   "execution_count": 15,
   "metadata": {
    "scrolled": true
   },
   "outputs": [
    {
     "ename": "AnalysisException",
     "evalue": "u'Path does not exist: hdfs://nameservice1/data/udf/vf_es/churn/portabPropension_model/prediccionesMasMovilTest;'",
     "output_type": "error",
     "traceback": [
      "\u001b[0;31m\u001b[0m",
      "\u001b[0;31mAnalysisException\u001b[0mTraceback (most recent call last)",
      "\u001b[0;32m<ipython-input-15-73a81e591fc3>\u001b[0m in \u001b[0;36m<module>\u001b[0;34m()\u001b[0m\n\u001b[0;32m----> 1\u001b[0;31m \u001b[0mprediccionesMasMovil\u001b[0m\u001b[0;34m=\u001b[0m \u001b[0mspark\u001b[0m\u001b[0;34m.\u001b[0m\u001b[0mread\u001b[0m\u001b[0;34m.\u001b[0m\u001b[0mload\u001b[0m\u001b[0;34m(\u001b[0m\u001b[0;34m'/data/udf/vf_es/churn/portabPropension_model/prediccionesMasMovilTest'\u001b[0m\u001b[0;34m)\u001b[0m\u001b[0;34m\u001b[0m\u001b[0m\n\u001b[0m\u001b[1;32m      2\u001b[0m \u001b[0mprediccionesMovistar\u001b[0m \u001b[0;34m=\u001b[0m \u001b[0mspark\u001b[0m\u001b[0;34m.\u001b[0m\u001b[0mread\u001b[0m\u001b[0;34m.\u001b[0m\u001b[0mload\u001b[0m\u001b[0;34m(\u001b[0m\u001b[0;34m'/data/udf/vf_es/churn/portabPropension_model/prediccionesMovistarTest'\u001b[0m\u001b[0;34m)\u001b[0m\u001b[0;34m\u001b[0m\u001b[0m\n\u001b[1;32m      3\u001b[0m \u001b[0mprediccionesOrange\u001b[0m \u001b[0;34m=\u001b[0m \u001b[0mspark\u001b[0m\u001b[0;34m.\u001b[0m\u001b[0mread\u001b[0m\u001b[0;34m.\u001b[0m\u001b[0mload\u001b[0m\u001b[0;34m(\u001b[0m\u001b[0;34m'/data/udf/vf_es/churn/portabPropension_model/prediccionesOrangeTest'\u001b[0m\u001b[0;34m)\u001b[0m\u001b[0;34m\u001b[0m\u001b[0m\n\u001b[1;32m      4\u001b[0m \u001b[0mprediccionesOtros\u001b[0m \u001b[0;34m=\u001b[0m \u001b[0mspark\u001b[0m\u001b[0;34m.\u001b[0m\u001b[0mread\u001b[0m\u001b[0;34m.\u001b[0m\u001b[0mload\u001b[0m\u001b[0;34m(\u001b[0m\u001b[0;34m'/data/udf/vf_es/churn/portabPropension_model/prediccionesOtrosTest'\u001b[0m\u001b[0;34m)\u001b[0m\u001b[0;34m\u001b[0m\u001b[0m\n",
      "\u001b[0;32m/opt/cloudera/parcels/SPARK2/lib/spark2/python/pyspark/sql/readwriter.py\u001b[0m in \u001b[0;36mload\u001b[0;34m(self, path, format, schema, **options)\u001b[0m\n\u001b[1;32m    164\u001b[0m         \u001b[0mself\u001b[0m\u001b[0;34m.\u001b[0m\u001b[0moptions\u001b[0m\u001b[0;34m(\u001b[0m\u001b[0;34m**\u001b[0m\u001b[0moptions\u001b[0m\u001b[0;34m)\u001b[0m\u001b[0;34m\u001b[0m\u001b[0m\n\u001b[1;32m    165\u001b[0m         \u001b[0;32mif\u001b[0m \u001b[0misinstance\u001b[0m\u001b[0;34m(\u001b[0m\u001b[0mpath\u001b[0m\u001b[0;34m,\u001b[0m \u001b[0mbasestring\u001b[0m\u001b[0;34m)\u001b[0m\u001b[0;34m:\u001b[0m\u001b[0;34m\u001b[0m\u001b[0m\n\u001b[0;32m--> 166\u001b[0;31m             \u001b[0;32mreturn\u001b[0m \u001b[0mself\u001b[0m\u001b[0;34m.\u001b[0m\u001b[0m_df\u001b[0m\u001b[0;34m(\u001b[0m\u001b[0mself\u001b[0m\u001b[0;34m.\u001b[0m\u001b[0m_jreader\u001b[0m\u001b[0;34m.\u001b[0m\u001b[0mload\u001b[0m\u001b[0;34m(\u001b[0m\u001b[0mpath\u001b[0m\u001b[0;34m)\u001b[0m\u001b[0;34m)\u001b[0m\u001b[0;34m\u001b[0m\u001b[0m\n\u001b[0m\u001b[1;32m    167\u001b[0m         \u001b[0;32melif\u001b[0m \u001b[0mpath\u001b[0m \u001b[0;32mis\u001b[0m \u001b[0;32mnot\u001b[0m \u001b[0mNone\u001b[0m\u001b[0;34m:\u001b[0m\u001b[0;34m\u001b[0m\u001b[0m\n\u001b[1;32m    168\u001b[0m             \u001b[0;32mif\u001b[0m \u001b[0mtype\u001b[0m\u001b[0;34m(\u001b[0m\u001b[0mpath\u001b[0m\u001b[0;34m)\u001b[0m \u001b[0;34m!=\u001b[0m \u001b[0mlist\u001b[0m\u001b[0;34m:\u001b[0m\u001b[0;34m\u001b[0m\u001b[0m\n",
      "\u001b[0;32m/opt/cloudera/parcels/Anaconda-2.5.0/lib/python2.7/site-packages/py4j/java_gateway.pyc\u001b[0m in \u001b[0;36m__call__\u001b[0;34m(self, *args)\u001b[0m\n\u001b[1;32m   1255\u001b[0m         \u001b[0manswer\u001b[0m \u001b[0;34m=\u001b[0m \u001b[0mself\u001b[0m\u001b[0;34m.\u001b[0m\u001b[0mgateway_client\u001b[0m\u001b[0;34m.\u001b[0m\u001b[0msend_command\u001b[0m\u001b[0;34m(\u001b[0m\u001b[0mcommand\u001b[0m\u001b[0;34m)\u001b[0m\u001b[0;34m\u001b[0m\u001b[0m\n\u001b[1;32m   1256\u001b[0m         return_value = get_return_value(\n\u001b[0;32m-> 1257\u001b[0;31m             answer, self.gateway_client, self.target_id, self.name)\n\u001b[0m\u001b[1;32m   1258\u001b[0m \u001b[0;34m\u001b[0m\u001b[0m\n\u001b[1;32m   1259\u001b[0m         \u001b[0;32mfor\u001b[0m \u001b[0mtemp_arg\u001b[0m \u001b[0;32min\u001b[0m \u001b[0mtemp_args\u001b[0m\u001b[0;34m:\u001b[0m\u001b[0;34m\u001b[0m\u001b[0m\n",
      "\u001b[0;32m/opt/cloudera/parcels/SPARK2/lib/spark2/python/pyspark/sql/utils.py\u001b[0m in \u001b[0;36mdeco\u001b[0;34m(*a, **kw)\u001b[0m\n\u001b[1;32m     67\u001b[0m                                              e.java_exception.getStackTrace()))\n\u001b[1;32m     68\u001b[0m             \u001b[0;32mif\u001b[0m \u001b[0ms\u001b[0m\u001b[0;34m.\u001b[0m\u001b[0mstartswith\u001b[0m\u001b[0;34m(\u001b[0m\u001b[0;34m'org.apache.spark.sql.AnalysisException: '\u001b[0m\u001b[0;34m)\u001b[0m\u001b[0;34m:\u001b[0m\u001b[0;34m\u001b[0m\u001b[0m\n\u001b[0;32m---> 69\u001b[0;31m                 \u001b[0;32mraise\u001b[0m \u001b[0mAnalysisException\u001b[0m\u001b[0;34m(\u001b[0m\u001b[0ms\u001b[0m\u001b[0;34m.\u001b[0m\u001b[0msplit\u001b[0m\u001b[0;34m(\u001b[0m\u001b[0;34m': '\u001b[0m\u001b[0;34m,\u001b[0m \u001b[0;36m1\u001b[0m\u001b[0;34m)\u001b[0m\u001b[0;34m[\u001b[0m\u001b[0;36m1\u001b[0m\u001b[0;34m]\u001b[0m\u001b[0;34m,\u001b[0m \u001b[0mstackTrace\u001b[0m\u001b[0;34m)\u001b[0m\u001b[0;34m\u001b[0m\u001b[0m\n\u001b[0m\u001b[1;32m     70\u001b[0m             \u001b[0;32mif\u001b[0m \u001b[0ms\u001b[0m\u001b[0;34m.\u001b[0m\u001b[0mstartswith\u001b[0m\u001b[0;34m(\u001b[0m\u001b[0;34m'org.apache.spark.sql.catalyst.analysis'\u001b[0m\u001b[0;34m)\u001b[0m\u001b[0;34m:\u001b[0m\u001b[0;34m\u001b[0m\u001b[0m\n\u001b[1;32m     71\u001b[0m                 \u001b[0;32mraise\u001b[0m \u001b[0mAnalysisException\u001b[0m\u001b[0;34m(\u001b[0m\u001b[0ms\u001b[0m\u001b[0;34m.\u001b[0m\u001b[0msplit\u001b[0m\u001b[0;34m(\u001b[0m\u001b[0;34m': '\u001b[0m\u001b[0;34m,\u001b[0m \u001b[0;36m1\u001b[0m\u001b[0;34m)\u001b[0m\u001b[0;34m[\u001b[0m\u001b[0;36m1\u001b[0m\u001b[0;34m]\u001b[0m\u001b[0;34m,\u001b[0m \u001b[0mstackTrace\u001b[0m\u001b[0;34m)\u001b[0m\u001b[0;34m\u001b[0m\u001b[0m\n",
      "\u001b[0;31mAnalysisException\u001b[0m: u'Path does not exist: hdfs://nameservice1/data/udf/vf_es/churn/portabPropension_model/prediccionesMasMovilTest;'"
     ]
    }
   ],
   "source": [
    "prediccionesMasMovil= spark.read.load('/data/udf/vf_es/churn/portabPropension_model/prediccionesMasMovil)\n",
    "prediccionesMovistar = spark.read.load('/data/udf/vf_es/churn/portabPropension_model/prediccionesMovistar')\n",
    "prediccionesOrange = spark.read.load('/data/udf/vf_es/churn/portabPropension_model/prediccionesOrange')\n",
    "prediccionesOtros = spark.read.load('/data/udf/vf_es/churn/portabPropension_model/prediccionesOtros')"
   ]
  },
  {
   "cell_type": "code",
   "execution_count": 46,
   "metadata": {},
   "outputs": [],
   "source": [
    "msisdn_target=prediccionesFinal.select('msisdn','Operador_target')"
   ]
  },
  {
   "cell_type": "code",
   "execution_count": 47,
   "metadata": {
    "scrolled": true
   },
   "outputs": [
    {
     "name": "stdout",
     "output_type": "stream",
     "text": [
      "+---------------+-------+\n",
      "|Operador_target|  count|\n",
      "+---------------+-------+\n",
      "|              1|  42023|\n",
      "|              3|  39764|\n",
      "|              4|  23970|\n",
      "|              2|  50124|\n",
      "|              0|6070719|\n",
      "+---------------+-------+\n",
      "\n"
     ]
    }
   ],
   "source": [
    "msisdn_target.groupby('Operador_target').count().show()"
   ]
  },
  {
   "cell_type": "code",
   "execution_count": 51,
   "metadata": {},
   "outputs": [],
   "source": [
    "prediccionesOtros = spark.read.load('/data/udf/vf_es/churn/portabPropension_model/prediccionesOtros')\n",
    "\n",
    "prediccionesOtros=prediccionesOtros.join(msisdn_target,\n",
    "                                            on=(prediccionesOtros['msisdn_Otros']==msisdn_target['msisdn'])\n",
    "                                                ,how='inner')"
   ]
  },
  {
   "cell_type": "code",
   "execution_count": 52,
   "metadata": {},
   "outputs": [
    {
     "name": "stdout",
     "output_type": "stream",
     "text": [
      "+---------------+-------+\n",
      "|Operador_target|  count|\n",
      "+---------------+-------+\n",
      "|              1|  42023|\n",
      "|              3|  39764|\n",
      "|              4|  23970|\n",
      "|              2|  50124|\n",
      "|              0|6070719|\n",
      "+---------------+-------+\n",
      "\n"
     ]
    }
   ],
   "source": [
    "prediccionesOtros.groupby('Operador_target').count().show()"
   ]
  },
  {
   "cell_type": "code",
   "execution_count": 57,
   "metadata": {},
   "outputs": [],
   "source": [
    "prediccionesOtros=prediccionesOtros.withColumn('prediction',when(prediccionesOtros['Otros']>0.6,1).otherwise(0))"
   ]
  },
  {
   "cell_type": "code",
   "execution_count": 54,
   "metadata": {},
   "outputs": [],
   "source": [
    "prediccionesOtros=prediccionesOtros.withColumn('Operador_target',when(prediccionesOtros['Operador_target']==4,1).otherwise(0))"
   ]
  },
  {
   "cell_type": "code",
   "execution_count": 58,
   "metadata": {},
   "outputs": [
    {
     "name": "stdout",
     "output_type": "stream",
     "text": [
      "+---------------+----------+-------+\n",
      "|Operador_target|prediction|  count|\n",
      "+---------------+----------+-------+\n",
      "|              1|         0|  17640|\n",
      "|              1|         1|   6330|\n",
      "|              0|         0|5585276|\n",
      "|              0|         1| 617354|\n",
      "+---------------+----------+-------+\n",
      "\n"
     ]
    }
   ],
   "source": [
    "prediccionesOtros.groupby('Operador_target','prediction').count().show()"
   ]
  },
  {
   "cell_type": "code",
   "execution_count": null,
   "metadata": {},
   "outputs": [],
   "source": [
    "#Creamos un tablon con los scores de cada modelo:\n",
    "\n",
    "prediccionesUnion=prediccionesMasMovil.join(prediccionesMovistar,\n",
    "                                            on=(prediccionesMasMovil['msisdn_MasMovil']==prediccionesMovistar['msisdn_Movistar'])\n",
    "                                                ,how='inner')"
   ]
  },
  {
   "cell_type": "code",
   "execution_count": null,
   "metadata": {},
   "outputs": [],
   "source": [
    "prediccionesUnion=prediccionesUnion.join(prediccionesOrange,\n",
    "                                            on=(prediccionesUnion['msisdn_MasMovil']==prediccionesOrange['msisdn_Orange'])\n",
    "                                                ,how='inner')"
   ]
  },
  {
   "cell_type": "code",
   "execution_count": null,
   "metadata": {},
   "outputs": [],
   "source": [
    "prediccionesUnion=prediccionesUnion.join(prediccionesOtros,\n",
    "                                            on=(prediccionesUnion['msisdn_MasMovil']==prediccionesOtros['msisdn_Otros'])\n",
    "                                                ,how='inner')"
   ]
  },
  {
   "cell_type": "code",
   "execution_count": null,
   "metadata": {},
   "outputs": [],
   "source": [
    "prediccionesUnion=prediccionesUnion.select('msisdn_MasMovil','MasMovil','Movistar','Orange','Otros')\n",
    "\n",
    "prediccionesUnion=prediccionesUnion.withColumnRenamed('msisdn_MasMovil','msisdn')"
   ]
  },
  {
   "cell_type": "code",
   "execution_count": null,
   "metadata": {},
   "outputs": [],
   "source": [
    "prediccionesUnion.show() "
   ]
  },
  {
   "cell_type": "code",
   "execution_count": null,
   "metadata": {},
   "outputs": [],
   "source": [
    "prediccionesUnion.cache()\n",
    "prediccionesUnion.count()"
   ]
  },
  {
   "cell_type": "markdown",
   "metadata": {},
   "source": [
    "### Majority vote: operador predicho para cada cliente"
   ]
  },
  {
   "cell_type": "markdown",
   "metadata": {},
   "source": [
    "- Columna que, para cada registro, nos diga el mayor score: *Score_max*\n",
    "- Columna que, para cada registro, nos diga el operador al que corresponde el mayor score: *Operador_predicho*\n",
    "- Anterior columna pero poniendo los operadores predichos en número (para luego comparar con el valor real del target): *Operador_predicho_num*"
   ]
  },
  {
   "cell_type": "code",
   "execution_count": null,
   "metadata": {},
   "outputs": [],
   "source": [
    "cond = \"psf.when\" + \".when\".join([\"(psf.col('\" + c + \"') == psf.col('Score_max'), psf.lit('\" + c + \"'))\" for c in prediccionesUnion.columns[1:5]])\n",
    "import pyspark.sql.functions as psf\n",
    "prediccionesFinal=prediccionesUnion.withColumn(\"Score_max\", psf.greatest(*prediccionesUnion.columns[1:5])).withColumn(\"Operador_predicho\", eval(cond))"
   ]
  },
  {
   "cell_type": "code",
   "execution_count": null,
   "metadata": {},
   "outputs": [],
   "source": [
    "#Añadimos columna con la prediccion en numeros, para despues comparar con el target real\n",
    "\n",
    "prediccionesFinal = prediccionesFinal.withColumn(\"Operador_predicho_num\",\n",
    "                when(prediccionesFinal[\"Operador_predicho\"]=='MasMovil',1).otherwise(\n",
    "                    when(prediccionesFinal[\"Operador_predicho\"]=='Movistar',2).otherwise(\n",
    "                        when(prediccionesFinal[\"Operador_predicho\"]=='Orange',3).otherwise(\n",
    "                            when(prediccionesFinal[\"Operador_predicho\"]=='Otros',4)))))                    "
   ]
  },
  {
   "cell_type": "code",
   "execution_count": null,
   "metadata": {},
   "outputs": [],
   "source": [
    "prediccionesFinal=prediccionesFinal.cache()\n",
    "prediccionesFinal.show()"
   ]
  },
  {
   "cell_type": "code",
   "execution_count": null,
   "metadata": {},
   "outputs": [],
   "source": [
    "prediccionesFinal.groupby('Operador_predicho').count().show()"
   ]
  },
  {
   "cell_type": "code",
   "execution_count": null,
   "metadata": {},
   "outputs": [],
   "source": [
    "#añadimos la columna de target real del tablón de predicciones"
   ]
  },
  {
   "cell_type": "code",
   "execution_count": null,
   "metadata": {},
   "outputs": [],
   "source": [
    "msisdn_target_pred=prediction_df.select('msisdn','Operador_target')"
   ]
  },
  {
   "cell_type": "code",
   "execution_count": null,
   "metadata": {},
   "outputs": [],
   "source": [
    "prediccionesFinal=prediccionesFinal.join(msisdn_target_pred,on='msisdn',how='inner')\n",
    "\n",
    "prediccionesFinal=prediccionesFinal.orderBy('Score_max',ascending=False)"
   ]
  },
  {
   "cell_type": "code",
   "execution_count": null,
   "metadata": {},
   "outputs": [],
   "source": [
    "prediccionesFinal.groupby('Operador_target').count().show()"
   ]
  },
  {
   "cell_type": "code",
   "execution_count": null,
   "metadata": {},
   "outputs": [],
   "source": [
    "prediccionesFinal.repartition(300).write.save('/data/udf/vf_es/churn/portabPropension_model/prediccionesFinal', format='parquet', mode='overwrite')"
   ]
  },
  {
   "cell_type": "code",
   "execution_count": 7,
   "metadata": {},
   "outputs": [],
   "source": [
    "prediccionesFinal= spark.read.load('/data/udf/vf_es/churn/portabPropension_model/prediccionesFinal')"
   ]
  },
  {
   "cell_type": "markdown",
   "metadata": {},
   "source": [
    "**Evaluamos predicciones finales**"
   ]
  },
  {
   "cell_type": "code",
   "execution_count": null,
   "metadata": {},
   "outputs": [],
   "source": [
    "#Nos quedamos con los 150000 con mayor score, ya que es la tasa que suele hacer porta"
   ]
  },
  {
   "cell_type": "code",
   "execution_count": 8,
   "metadata": {},
   "outputs": [],
   "source": [
    "prediccionesFinal_limit=prediccionesFinal.limit(500000)"
   ]
  },
  {
   "cell_type": "code",
   "execution_count": 10,
   "metadata": {},
   "outputs": [
    {
     "name": "stdout",
     "output_type": "stream",
     "text": [
      "+---------------+---------------------+------+\n",
      "|Operador_target|Operador_predicho_num| count|\n",
      "+---------------+---------------------+------+\n",
      "|              0|                    1| 87644|\n",
      "|              2|                    1|   611|\n",
      "|              1|                    1|   961|\n",
      "|              3|                    1|   532|\n",
      "|              0|                    2|131917|\n",
      "|              4|                    1|   296|\n",
      "|              2|                    2|  1659|\n",
      "|              1|                    2|   870|\n",
      "|              0|                    4|163727|\n",
      "|              0|                    3|103780|\n",
      "|              3|                    2|   884|\n",
      "|              4|                    2|   521|\n",
      "|              2|                    4|  1185|\n",
      "|              4|                    4|   894|\n",
      "|              2|                    3|   651|\n",
      "|              3|                    4|  1092|\n",
      "|              1|                    4|  1021|\n",
      "|              3|                    3|   825|\n",
      "|              1|                    3|   620|\n",
      "|              4|                    3|   310|\n",
      "+---------------+---------------------+------+\n",
      "\n"
     ]
    }
   ],
   "source": [
    "prediccionesFinal_limit.groupby('Operador_target','Operador_predicho_num').count().show()"
   ]
  },
  {
   "cell_type": "code",
   "execution_count": null,
   "metadata": {},
   "outputs": [],
   "source": []
  },
  {
   "cell_type": "code",
   "execution_count": null,
   "metadata": {},
   "outputs": [],
   "source": []
  },
  {
   "cell_type": "code",
   "execution_count": null,
   "metadata": {},
   "outputs": [],
   "source": []
  },
  {
   "cell_type": "code",
   "execution_count": null,
   "metadata": {},
   "outputs": [],
   "source": []
  },
  {
   "cell_type": "code",
   "execution_count": null,
   "metadata": {},
   "outputs": [],
   "source": []
  },
  {
   "cell_type": "code",
   "execution_count": null,
   "metadata": {},
   "outputs": [],
   "source": []
  },
  {
   "cell_type": "code",
   "execution_count": null,
   "metadata": {},
   "outputs": [],
   "source": []
  },
  {
   "cell_type": "code",
   "execution_count": null,
   "metadata": {},
   "outputs": [],
   "source": []
  },
  {
   "cell_type": "code",
   "execution_count": null,
   "metadata": {},
   "outputs": [],
   "source": []
  },
  {
   "cell_type": "code",
   "execution_count": null,
   "metadata": {},
   "outputs": [],
   "source": [
    "predsMulticlaseTest=predsMulticlaseTest.select('msisdn','probability','prediction','Operador_target')\n",
    "\n",
    "import utils_model\n",
    "from utils_model import get_lift\n",
    "\n",
    "getScore = udf(lambda prob: float(prob[0]), DoubleType())\n",
    "predsMulticlaseTest=predsMulticlaseTest.withColumn(\"Ninguno\", getScore(col(\"probability\")).cast(DoubleType()))\n",
    "\n",
    "getScore = udf(lambda prob: float(prob[1]), DoubleType())\n",
    "predsMulticlaseTest=predsMulticlaseTest.withColumn(\"MasMovil\", getScore(col(\"probability\")).cast(DoubleType()))\n",
    "\n",
    "getScore = udf(lambda prob: float(prob[2]), DoubleType())\n",
    "predsMulticlaseTest=predsMulticlaseTest.withColumn(\"Movistar\", getScore(col(\"probability\")).cast(DoubleType()))\n",
    "\n",
    "getScore = udf(lambda prob: float(prob[3]), DoubleType())\n",
    "predsMulticlaseTest=predsMulticlaseTest.withColumn(\"Orange\", getScore(col(\"probability\")).cast(DoubleType()))\n",
    "\n",
    "getScore = udf(lambda prob: float(prob[4]), DoubleType())\n",
    "predsMulticlaseTest=predsMulticlaseTest.withColumn(\"Otros\", getScore(col(\"probability\")).cast(DoubleType()))"
   ]
  },
  {
   "cell_type": "code",
   "execution_count": null,
   "metadata": {},
   "outputs": [],
   "source": [
    "predsMulticlaseTest=predsMulticlaseTest.select('msisdn','Ninguno',\"MasMovil\",\"Movistar\",\"Orange\",\"Otros\",'prediction','Operador_target')"
   ]
  },
  {
   "cell_type": "code",
   "execution_count": null,
   "metadata": {},
   "outputs": [],
   "source": [
    "predsMulticlaseTest.groupby('Operador_target','prediction').count().show()"
   ]
  },
  {
   "cell_type": "code",
   "execution_count": null,
   "metadata": {},
   "outputs": [],
   "source": [
    "printHTML(predsMulticlaseTest)"
   ]
  },
  {
   "cell_type": "code",
   "execution_count": null,
   "metadata": {},
   "outputs": [],
   "source": []
  },
  {
   "cell_type": "code",
   "execution_count": null,
   "metadata": {},
   "outputs": [],
   "source": [
    "predsMulticlaseTest.repartition(300).write.save('/data/udf/vf_es/churn/portabPropension_model/predsMulticlaseTest', format='parquet', mode='overwrite')"
   ]
  },
  {
   "cell_type": "code",
   "execution_count": null,
   "metadata": {},
   "outputs": [],
   "source": []
  },
  {
   "cell_type": "code",
   "execution_count": null,
   "metadata": {},
   "outputs": [],
   "source": []
  }
 ],
 "metadata": {
  "kernelspec": {
   "display_name": "Python 2",
   "language": "python",
   "name": "python2"
  },
  "language_info": {
   "codemirror_mode": {
    "name": "ipython",
    "version": 2
   },
   "file_extension": ".py",
   "mimetype": "text/x-python",
   "name": "python",
   "nbconvert_exporter": "python",
   "pygments_lexer": "ipython2",
   "version": "2.7.11"
  }
 },
 "nbformat": 4,
 "nbformat_minor": 2
}
