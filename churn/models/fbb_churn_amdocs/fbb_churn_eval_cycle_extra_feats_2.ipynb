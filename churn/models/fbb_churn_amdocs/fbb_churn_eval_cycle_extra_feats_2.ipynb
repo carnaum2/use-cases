{
 "cells": [
  {
   "cell_type": "code",
   "execution_count": 18,
   "metadata": {},
   "outputs": [],
   "source": [
    "def set_paths():\n",
    "    '''\n",
    "    Deployment should be something like \"dirs/dir1/use-cases\"\n",
    "    This function adds to the path \"dirs/dir1/use-cases\" and \"dirs/dir1/\"\n",
    "    :return:\n",
    "    '''\n",
    "    import imp\n",
    "    from os.path import dirname\n",
    "    import os\n",
    "    import sys\n",
    "\n",
    "    USE_CASES = \"/var/SP/data/home/asaezco/src/devel2/use-cases\"#dirname(os.path.abspath(imp.find_module('churn')[1]))\n",
    "    sys.path.append(\"/var/SP/data/home/asaezco/src/devel2/pykhaos\")\n",
    "    if USE_CASES not in sys.path:\n",
    "        sys.path.append(USE_CASES)\n",
    "        print(\"Added '{}' to path\".format(USE_CASES))\n",
    "\n",
    "    # if deployment is correct, this path should be the one that contains \"use-cases\", \"pykhaos\", ...\n",
    "    # FIXME another way of doing it more general?\n",
    "    DEVEL_SRC = os.path.dirname(USE_CASES)  # dir before use-cases dir\n",
    "    if DEVEL_SRC not in sys.path:\n",
    "        sys.path.append(DEVEL_SRC)\n",
    "        print(\"Added '{}' to path\".format(DEVEL_SRC))\n",
    "set_paths()"
   ]
  },
  {
   "cell_type": "code",
   "execution_count": 19,
   "metadata": {},
   "outputs": [],
   "source": [
    "# coding=utf-8\n",
    "\n",
    "import sys\n",
    "\n",
    "from common.src.main.python.utils.hdfs_generic import *\n",
    "import argparse\n",
    "import os\n",
    "import sys\n",
    "import time\n",
    "from pyspark.sql.functions import (udf,\n",
    "                                    col,\n",
    "                                    decode,\n",
    "                                    when,\n",
    "                                    lit,\n",
    "                                    lower,\n",
    "                                    concat,\n",
    "                                    translate,\n",
    "                                    count,\n",
    "                                    sum as sql_sum,\n",
    "                                    max as sql_max,\n",
    "                                    min as sql_min,\n",
    "                                    avg as sql_avg,\n",
    "                                    greatest,\n",
    "                                    least,\n",
    "                                    isnull,\n",
    "                                    isnan,\n",
    "                                    struct, \n",
    "                                    substring,\n",
    "                                    size,\n",
    "                                    length,\n",
    "                                    year,\n",
    "                                    month,\n",
    "                                    dayofmonth,\n",
    "                                    unix_timestamp,\n",
    "                                    date_format,\n",
    "                                    from_unixtime,\n",
    "                                    datediff,\n",
    "                                    to_date, \n",
    "                                    desc,\n",
    "                                    asc,\n",
    "                                    countDistinct,\n",
    "                                    row_number,\n",
    "                                    skewness,\n",
    "                                    kurtosis,\n",
    "                                    concat_ws)\n",
    "\n",
    "from pyspark.sql import Row, DataFrame, Column, Window\n",
    "from pyspark.sql.types import DoubleType, StringType, IntegerType, DateType, ArrayType\n",
    "from pyspark.ml import Pipeline\n",
    "from pyspark.ml.classification import RandomForestClassifier\n",
    "from pyspark.ml.feature import StringIndexer, VectorIndexer, VectorAssembler, SQLTransformer, OneHotEncoder\n",
    "from pyspark.ml.evaluation import MulticlassClassificationEvaluator, BinaryClassificationEvaluator\n",
    "from pyspark.mllib.evaluation import BinaryClassificationMetrics\n",
    "from pyspark.ml.tuning import CrossValidator, ParamGridBuilder\n",
    "from datetime import datetime\n",
    "from itertools import chain\n",
    "import numpy as np\n",
    "from functools import reduce\n",
    "from utils_general import *\n",
    "from pykhaos.utils.date_functions import convert_to_date\n",
    "from utils_model import *\n",
    "from utils_fbb_churn import *\n",
    "from metadata_fbb_churn import *\n",
    "from feature_selection_utils import *\n",
    "import subprocess\n"
   ]
  },
  {
   "cell_type": "code",
   "execution_count": 20,
   "metadata": {},
   "outputs": [
    {
     "name": "stdout",
     "output_type": "stream",
     "text": [
      "The autoreload extension is already loaded. To reload it, use:\n",
      "  %reload_ext autoreload\n"
     ]
    }
   ],
   "source": [
    "# Para que no haga falta recargar el notebook si hacemos un cambio en alguna de las funciones que estamos importando\n",
    "%load_ext autoreload\n",
    "%autoreload 2"
   ]
  },
  {
   "cell_type": "code",
   "execution_count": 21,
   "metadata": {},
   "outputs": [],
   "source": [
    "# set BDP parameters\n",
    "def setting_bdp(min_n_executors = 3, max_n_executors = 15, n_cores = 8, executor_memory = \"12g\", driver_memory=\"8g\",\n",
    "                   app_name = \"Python app\", driver_overhead=\"1g\", executor_overhead='3g'):\n",
    "\n",
    "    MAX_N_EXECUTORS = max_n_executors\n",
    "    MIN_N_EXECUTORS = min_n_executors\n",
    "    N_CORES_EXECUTOR = n_cores\n",
    "    EXECUTOR_IDLE_MAX_TIME = 120\n",
    "    EXECUTOR_MEMORY = executor_memory\n",
    "    DRIVER_MEMORY = driver_memory\n",
    "    N_CORES_DRIVER = 1\n",
    "    MEMORY_OVERHEAD = N_CORES_EXECUTOR * 2048\n",
    "    QUEUE = \"root.BDPtenants.es.medium\"\n",
    "    BDA_CORE_VERSION = \"1.0.0\"\n",
    "\n",
    "    SPARK_COMMON_OPTS = os.environ.get('SPARK_COMMON_OPTS', '')\n",
    "    SPARK_COMMON_OPTS += \" --executor-memory %s --driver-memory %s\" % (EXECUTOR_MEMORY, DRIVER_MEMORY)\n",
    "    SPARK_COMMON_OPTS += \" --conf spark.shuffle.manager=tungsten-sort\"\n",
    "    SPARK_COMMON_OPTS += \"  --queue %s\" % QUEUE\n",
    "\n",
    "    # Dynamic allocation configuration\n",
    "    SPARK_COMMON_OPTS += \" --conf spark.dynamicAllocation.enabled=true\"\n",
    "    SPARK_COMMON_OPTS += \" --conf spark.shuffle.service.enabled=true\"\n",
    "    SPARK_COMMON_OPTS += \" --conf spark.dynamicAllocation.maxExecutors=%s\" % (MAX_N_EXECUTORS)\n",
    "    SPARK_COMMON_OPTS += \" --conf spark.dynamicAllocation.minExecutors=%s\" % (MIN_N_EXECUTORS)\n",
    "    SPARK_COMMON_OPTS += \" --conf spark.executor.cores=%s\" % (N_CORES_EXECUTOR)\n",
    "    SPARK_COMMON_OPTS += \" --conf spark.dynamicAllocation.executorIdleTimeout=%s\" % (EXECUTOR_IDLE_MAX_TIME)\n",
    "    # SPARK_COMMON_OPTS += \" --conf spark.ui.port=58235\"\n",
    "    SPARK_COMMON_OPTS += \" --conf spark.port.maxRetries=100\"\n",
    "    SPARK_COMMON_OPTS += \" --conf spark.app.name='%s'\" % (app_name)\n",
    "    SPARK_COMMON_OPTS += \" --conf spark.submit.deployMode=client\"\n",
    "    SPARK_COMMON_OPTS += \" --conf spark.ui.showConsoleProgress=true\"\n",
    "    SPARK_COMMON_OPTS += \" --conf spark.sql.broadcastTimeout=1200\"\n",
    "    SPARK_COMMON_OPTS += \" --conf spark.yarn.executor.memoryOverhead={}\".format(executor_overhead)\n",
    "    SPARK_COMMON_OPTS += \" --conf spark.yarn.executor.driverOverhead={}\".format(driver_overhead)\n",
    "\n",
    "    BDA_ENV = os.environ.get('BDA_USER_HOME', '')\n",
    "\n",
    "    # Attach bda-core-ra codebase\n",
    "    SPARK_COMMON_OPTS+=\" --files {}/scripts/properties/red_agent/nodes.properties,{}/scripts/properties/red_agent/nodes-de.properties,{}/scripts/properties/red_agent/nodes-es.properties,{}/scripts/properties/red_agent/nodes-ie.properties,{}/scripts/properties/red_agent/nodes-it.properties,{}/scripts/properties/red_agent/nodes-pt.properties,{}/scripts/properties/red_agent/nodes-uk.properties\".format(*[BDA_ENV]*7)\n",
    "\n",
    "    os.environ[\"SPARK_COMMON_OPTS\"] = SPARK_COMMON_OPTS\n",
    "    os.environ[\"PYSPARK_SUBMIT_ARGS\"] = \"%s pyspark-shell \" % SPARK_COMMON_OPTS"
   ]
  },
  {
   "cell_type": "code",
   "execution_count": 22,
   "metadata": {},
   "outputs": [],
   "source": [
    "def get_spark_session(app_name=\"default name\", log_level='INFO', min_n_executors = 3, max_n_executors = 15, n_cores = 4, executor_memory = \"12g\", driver_memory=\"8g\"):\n",
    "    HOME_SRC = os.path.join(os.environ.get('BDA_USER_HOME', ''), \"src\")\n",
    "    if HOME_SRC not in sys.path:\n",
    "        sys.path.append(HOME_SRC)\n",
    "\n",
    "\n",
    "    setting_bdp(app_name=app_name, min_n_executors = min_n_executors, max_n_executors = max_n_executors, n_cores = n_cores, executor_memory = executor_memory, driver_memory=driver_memory)\n",
    "    from common.src.main.python.utils.hdfs_generic import run_sc\n",
    "    sc, spark, sql_context = run_sc(log_level=log_level)\n",
    "\n",
    "\n",
    "    return sc, spark, sql_context"
   ]
  },
  {
   "cell_type": "code",
   "execution_count": 23,
   "metadata": {},
   "outputs": [],
   "source": [
    "def initialize(app_name, min_n_executors = 3, max_n_executors = 15, n_cores = 4, executor_memory = \"12g\", driver_memory=\"8g\"):\n",
    "    import time\n",
    "    start_time = time.time()\n",
    "\n",
    "    print(\"_initialize spark\")\n",
    "    #import pykhaos.utils.pyspark_configuration as pyspark_config\n",
    "    sc, spark, sql_context = get_spark_session(app_name=app_name, log_level=\"OFF\", min_n_executors = min_n_executors, max_n_executors = max_n_executors, n_cores = n_cores,\n",
    "                             executor_memory = executor_memory, driver_memory=driver_memory)\n",
    "    print(\"Ended spark session: {} secs | default parallelism={}\".format(time.time() - start_time,\n",
    "                                                                         sc.defaultParallelism))\n",
    "    return spark"
   ]
  },
  {
   "cell_type": "code",
   "execution_count": 24,
   "metadata": {},
   "outputs": [
    {
     "name": "stdout",
     "output_type": "stream",
     "text": [
      "_initialize spark\n",
      "Ended spark session: 190.99148798 secs | default parallelism=2\n"
     ]
    }
   ],
   "source": [
    "spark = initialize(\"FBB Improvement \",executor_memory = \"32g\",min_n_executors = 6,max_n_executors = 15)\n"
   ]
  },
  {
   "cell_type": "code",
   "execution_count": 25,
   "metadata": {},
   "outputs": [],
   "source": [
    "selcols = getIdFeats() + getCrmFeats() + getBillingFeats() + getMobSopoFeats() + getOrdersFeats()\n",
    "now = datetime.now()\n"
   ]
  },
  {
   "cell_type": "code",
   "execution_count": 26,
   "metadata": {},
   "outputs": [],
   "source": [
    "date_name = str('20190328')#str(now.year) + str(now.month).rjust(2, '0') + str(now.day).rjust(2, '0')\n",
    "origin = '/user/hive/warehouse/tests_es.db/jvmm_amdocs_ids_'"
   ]
  },
  {
   "cell_type": "code",
   "execution_count": 27,
   "metadata": {},
   "outputs": [],
   "source": [
    "# Fecha inicial va a ser un ciclo\n",
    "# Fecha final es la fecha inicial+4 ciclos\n",
    "trcycle_ini = '20181231'  #Training data\n",
    "horizon = 4 #En ciclos\n",
    "ttcycle_ini= '20190131' #Test data\n",
    "tr_ttdates = trcycle_ini + '_' + ttcycle_ini"
   ]
  },
  {
   "cell_type": "code",
   "execution_count": 28,
   "metadata": {},
   "outputs": [],
   "source": [
    "# 1. TRAINING DATA\n",
    "# 1.1. Loading training data"
   ]
  },
  {
   "cell_type": "code",
   "execution_count": 29,
   "metadata": {},
   "outputs": [
    {
     "name": "stdout",
     "output_type": "stream",
     "text": [
      "[Info getCarNumClienteDf] Mon Jun  3 10:45:40 2019 Size of the original df for 20181231: 13683905\n",
      "[Info FbbChurn] Mon Jun  3 10:53:39 2019 Saving origindf_tmp to HDFS\n",
      "[Info getCarNumClienteDf] Mon Jun  3 10:53:39 2019 Size of the origindf after load from HDFS: 13683905\n",
      "[Info getCarNumClienteDf] Mon Jun  3 10:55:01 2019 Size of the numclidf for 20181231 - Num rows: 2050838 - Num columns: 101\n",
      "[Info FbbChurn] Mon Jun  3 10:58:33 2019 Saving numclidf_tmp to HDFS\n",
      "[Info get_billing_df] Mon Jun  3 10:58:34 2019 Starting the preparation of billing feats\n",
      "[Info get_billing_df] Mon Jun  3 10:59:20 2019 Size of the df with billing feats: 5825804\n",
      "[Info getCarNumClienteDf] Mon Jun  3 10:59:45 2019 Size of the tmpdf for 20181231 - Num rows: 2050838 - Num columns: 134\n",
      "[Info get_mobile_spinners_df] Mon Jun  3 11:00:25 2019 Port-out data loaded for 20181231 with a total of 27844643 rows and 11499038 distinct NIFs\n",
      "[Info get_mobile_spinners_df] Mon Jun  3 11:00:49 2019 Timing feats computed for a total of 11499038 distinct NIFs\n",
      "[Info get_mobile_spinners_df] Mon Jun  3 11:00:55 2019 Destinatination and state feats computed for a total of 11499038 distinct NIFs\n",
      "[Info getCarNumClienteDf] Mon Jun  3 11:01:15 2019 Size of the featdf for 20181231 - Num rows: 2050838 - Num columns: 236\n",
      "[Info get_orders_df] Mon Jun  3 11:02:21 2019 Orders feats up to 20181130 computed - Number of rows is 8725478 for a total of 8725478 distinct num_cliente\n",
      "[Info getCarNumClienteDf] Mon Jun  3 11:02:35 2019 Size of the featdf for 20181231 - Num rows: 2050838 - Num columns: 238\n",
      "[Info getFbbChurnLabeledCar] Mon Jun  3 11:03:28 2019 Samples for month 20181231: 2050838\n",
      "20181231\n",
      "20190131\n",
      "[Info getFixPortRequestsForMonth] Mon Jun  3 11:05:15 2019 Port-out requests for fixed services during period 20181231-20190131: 57686\n",
      "[Info getFbbDxsForMonth] Mon Jun  3 11:05:28 2019 DXs for FBB services during the period: 20181231-20190131: 71798\n",
      "[Info getFbbChurnLabeledCar] Mon Jun  3 11:06:04 2019 Labeled samples for month 201812: 2050838\n"
     ]
    }
   ],
   "source": [
    "inittrdf_ini = getFbbChurnLabeledCarCycles(spark, origin,trcycle_ini ,selcols, horizon)"
   ]
  },
  {
   "cell_type": "code",
   "execution_count": 30,
   "metadata": {
    "scrolled": true
   },
   "outputs": [
    {
     "name": "stdout",
     "output_type": "stream",
     "text": [
      "root\n",
      " |-- rgu: string (nullable = true)\n",
      " |-- campo1: string (nullable = true)\n",
      " |-- msisdn: string (nullable = true)\n",
      " |-- num_cliente: string (nullable = true)\n",
      " |-- msisdn_d: string (nullable = true)\n",
      " |-- nif_cliente: string (nullable = true)\n",
      " |-- mean_dias_desde_fx_srv_basic: double (nullable = false)\n",
      " |-- movil_services: long (nullable = true)\n",
      " |-- tv_services: long (nullable = true)\n",
      " |-- total_penal_cust_pending_n3_penal_amount: double (nullable = false)\n",
      " |-- x_formato_factura: string (nullable = true)\n",
      " |-- x_user_twitter: string (nullable = true)\n",
      " |-- total_penal_cust_pending_n4_penal_amount: double (nullable = false)\n",
      " |-- dias_desde_bam-movil_fx_first: double (nullable = false)\n",
      " |-- max_dias_desde_fx_trybuy_autom_tv: double (nullable = false)\n",
      " |-- total_price_tariff: double (nullable = false)\n",
      " |-- flg_robinson: string (nullable = true)\n",
      " |-- pvr_services: double (nullable = false)\n",
      " |-- num_tariff_redl: double (nullable = false)\n",
      " |-- dias_desde_fx_fbb_upgrade: double (nullable = false)\n",
      " |-- max_dias_desde_fx_srv_basic: double (nullable = false)\n",
      " |-- total_price_trybuy: double (nullable = false)\n",
      " |-- total_penal_srv_pending_n4_penal_amount: double (nullable = false)\n",
      " |-- max_dias_desde_fx_pvr_tv: double (nullable = false)\n",
      " |-- max_dias_desde_fx_football_tv: double (nullable = false)\n",
      " |-- total_max_dias_hasta_penal_cust_pending_end_date: double (nullable = false)\n",
      " |-- trybuy_services: double (nullable = false)\n",
      " |-- min_price_srv_basic: double (nullable = false)\n",
      " |-- total_penal_cust_pending_n2_penal_amount: double (nullable = false)\n",
      " |-- x_datos_trafico: string (nullable = true)\n",
      " |-- total_min_dias_hasta_penal_srv_pending_end_date: double (nullable = false)\n",
      " |-- cta_correo: string (nullable = true)\n",
      " |-- gender2hgbst_elm: string (nullable = true)\n",
      " |-- dias_desde_fixed_fx_first: double (nullable = false)\n",
      " |-- max_price_srv_basic: double (nullable = false)\n",
      " |-- total_penal_srv_pending_n5_penal_amount: double (nullable = false)\n",
      " |-- prepaid_services: long (nullable = true)\n",
      " |-- hz_services: double (nullable = false)\n",
      " |-- dias_desde_tv_fx_first: double (nullable = false)\n",
      " |-- dias_desde_movil_fx_first: double (nullable = false)\n",
      " |-- total_penal_srv_pending_n1_penal_amount: double (nullable = false)\n",
      " |-- total_max_dias_hasta_penal_srv_pending_end_date: double (nullable = false)\n",
      " |-- num_tariff_xs: double (nullable = false)\n",
      " |-- total_price_motor: double (nullable = false)\n",
      " |-- x_user_facebook: string (nullable = true)\n",
      " |-- fixed_services: long (nullable = true)\n",
      " |-- fbb_upgrade: string (nullable = true)\n",
      " |-- max_dias_desde_fx_zapper_tv: double (nullable = false)\n",
      " |-- total_penal_srv_pending_n2_penal_amount: double (nullable = false)\n",
      " |-- factura_electronica: string (nullable = true)\n",
      " |-- num_tariff_plana200min: double (nullable = false)\n",
      " |-- max_dias_desde_fx_trybuy_tv: double (nullable = false)\n",
      " |-- min_price_tariff: double (nullable = false)\n",
      " |-- bam-movil_services: long (nullable = true)\n",
      " |-- total_penal_srv_pending_n3_penal_amount: double (nullable = false)\n",
      " |-- num_tariff_unknown: double (nullable = false)\n",
      " |-- total_min_dias_hasta_penal_cust_pending_end_date: double (nullable = false)\n",
      " |-- x_cesion_datos: string (nullable = true)\n",
      " |-- football_services: double (nullable = false)\n",
      " |-- trybuy_autom_services: double (nullable = false)\n",
      " |-- total_price_zapper: double (nullable = false)\n",
      " |-- marriage2hgbst_elm: string (nullable = true)\n",
      " |-- total_price_pvr: double (nullable = false)\n",
      " |-- num_2lins: double (nullable = false)\n",
      " |-- fbb_services: long (nullable = true)\n",
      " |-- num_tariff_smart: double (nullable = false)\n",
      " |-- x_publicidad_email: string (nullable = true)\n",
      " |-- cliente_migrado: string (nullable = true)\n",
      " |-- x_idioma_factura: string (nullable = true)\n",
      " |-- num_tariff_otros: double (nullable = false)\n",
      " |-- metodo_pago: string (nullable = true)\n",
      " |-- max_price_tariff: double (nullable = false)\n",
      " |-- bam_services: long (nullable = true)\n",
      " |-- total_price_dto_lev2: double (nullable = false)\n",
      " |-- superoferta: string (nullable = true)\n",
      " |-- total_price_dto_lev1: double (nullable = false)\n",
      " |-- total_penal_cust_pending_n5_penal_amount: double (nullable = false)\n",
      " |-- total_price_football: double (nullable = false)\n",
      " |-- x_antiguedad_cuenta: string (nullable = true)\n",
      " |-- dias_desde_prepaid_fx_first: double (nullable = false)\n",
      " |-- total_tv_total_charges: double (nullable = false)\n",
      " |-- num_tariff_minim: double (nullable = false)\n",
      " |-- dias_desde_fbb_fx_first: double (nullable = false)\n",
      " |-- mean_price_srv_basic: double (nullable = false)\n",
      " |-- dias_desde_bam_fx_first: double (nullable = false)\n",
      " |-- zapper_services: double (nullable = false)\n",
      " |-- motor_services: double (nullable = false)\n",
      " |-- num_tariff_maslineasmini: double (nullable = false)\n",
      " |-- num_tariff_redm: double (nullable = false)\n",
      " |-- total_price_srv_basic: double (nullable = false)\n",
      " |-- nacionalidad: string (nullable = true)\n",
      " |-- total_price_trybuy_autom: double (nullable = false)\n",
      " |-- max_dias_desde_fx_motor_tv: double (nullable = false)\n",
      " |-- min_dias_desde_fx_dto_lev1: double (nullable = false)\n",
      " |-- min_dias_desde_fx_dto_lev2: double (nullable = false)\n",
      " |-- num_tariff_planaminilim: double (nullable = false)\n",
      " |-- total_penal_cust_pending_n1_penal_amount: double (nullable = false)\n",
      " |-- tipo_documento: string (nullable = true)\n",
      " |-- x_datos_navegacion: string (nullable = true)\n",
      " |-- min_dias_desde_fx_srv_basic: double (nullable = false)\n",
      " |-- num_tariff_megayuser: double (nullable = false)\n",
      " |-- inc_bill_n1_n3_net: double (nullable = false)\n",
      " |-- inc_bill_n1_n4_net: double (nullable = false)\n",
      " |-- bill_n3_net: double (nullable = false)\n",
      " |-- bill_n1_net: double (nullable = false)\n",
      " |-- bill_n4_net: double (nullable = false)\n",
      " |-- inc_Bill_N1_N3_Amount_To_Pay: double (nullable = false)\n",
      " |-- bill_n2_net: double (nullable = false)\n",
      " |-- bill_n5_net: double (nullable = false)\n",
      " |-- inc_Bill_N1_N4_Amount_To_Pay: double (nullable = false)\n",
      " |-- inc_bill_n1_n2_net: double (nullable = false)\n",
      " |-- inc_bill_n1_n5_net: double (nullable = false)\n",
      " |-- inc_Bill_N1_N2_Amount_To_Pay: double (nullable = false)\n",
      " |-- inc_Bill_N1_N5_Amount_To_Pay: double (nullable = false)\n",
      " |-- Bill_N3_InvoiceCharges: double (nullable = false)\n",
      " |-- Bill_N1_InvoiceCharges: double (nullable = false)\n",
      " |-- Bill_N3_Debt_Amount: double (nullable = false)\n",
      " |-- Bill_N5_Debt_Amount: double (nullable = false)\n",
      " |-- Bill_N2_Amount_To_Pay: double (nullable = false)\n",
      " |-- Bill_N4_Debt_Amount: double (nullable = false)\n",
      " |-- Bill_N4_Tax_Amount: double (nullable = false)\n",
      " |-- Bill_N3_Amount_To_Pay: double (nullable = false)\n",
      " |-- Bill_N1_Amount_To_Pay: double (nullable = false)\n",
      " |-- Bill_N5_InvoiceCharges: double (nullable = false)\n",
      " |-- Bill_N2_InvoiceCharges: double (nullable = false)\n",
      " |-- Bill_N1_Debt_Amount: double (nullable = false)\n",
      " |-- Bill_N3_Tax_Amount: double (nullable = false)\n",
      " |-- Bill_N4_Amount_To_Pay: double (nullable = false)\n",
      " |-- Bill_N5_Tax_Amount: double (nullable = false)\n",
      " |-- Bill_N2_Tax_Amount: double (nullable = false)\n",
      " |-- Bill_N2_Debt_Amount: double (nullable = false)\n",
      " |-- Bill_N1_Tax_Amount: double (nullable = false)\n",
      " |-- Bill_N5_Amount_To_Pay: double (nullable = false)\n",
      " |-- Bill_N4_InvoiceCharges: double (nullable = false)\n",
      " |-- otros_ASOL: long (nullable = true)\n",
      " |-- total_orange: long (nullable = true)\n",
      " |-- otros_AENV: long (nullable = true)\n",
      " |-- unknown_ACON: long (nullable = true)\n",
      " |-- movistar_ASOL: long (nullable = true)\n",
      " |-- masmovil_APOR: long (nullable = true)\n",
      " |-- total_apor: long (nullable = true)\n",
      " |-- movistar_AENV: long (nullable = true)\n",
      " |-- reuskal_PCAN: long (nullable = true)\n",
      " |-- total_movistar: long (nullable = true)\n",
      " |-- simyo_ASOL: long (nullable = true)\n",
      " |-- orange_ASOL: long (nullable = true)\n",
      " |-- masmovil_ASOL: long (nullable = true)\n",
      " |-- simyo_ACAN: long (nullable = true)\n",
      " |-- simyo_AREC: long (nullable = true)\n",
      " |-- movistar_PCAN: long (nullable = true)\n",
      " |-- orange_AACE: long (nullable = true)\n",
      " |-- pepephone_ACON: long (nullable = true)\n",
      " |-- orange_PCAN: long (nullable = true)\n",
      " |-- jazztel_ACON: long (nullable = true)\n",
      " |-- simyo_AENV: long (nullable = true)\n",
      " |-- otros_AREC: long (nullable = true)\n",
      " |-- yoigo_AACE: long (nullable = true)\n",
      " |-- jazztel_AENV: long (nullable = true)\n",
      " |-- simyo_PCAN: long (nullable = true)\n",
      " |-- pepephone_APOR: long (nullable = true)\n",
      " |-- unknown_AENV: long (nullable = true)\n",
      " |-- yoigo_ACAN: long (nullable = true)\n",
      " |-- masmovil_AACE: long (nullable = true)\n",
      " |-- otros_ACAN: long (nullable = true)\n",
      " |-- total_unknown: long (nullable = true)\n",
      " |-- yoigo_AENV: long (nullable = true)\n",
      " |-- total_simyo: long (nullable = true)\n",
      " |-- total_pepephone: long (nullable = true)\n",
      " |-- pepephone_AACE: long (nullable = true)\n",
      " |-- total_otros: long (nullable = true)\n",
      " |-- orange_ACON: long (nullable = true)\n",
      " |-- jazztel_AREC: long (nullable = true)\n",
      " |-- movistar_ACON: long (nullable = true)\n",
      " |-- orange_ACAN: long (nullable = true)\n",
      " |-- reuskal_AACE: long (nullable = true)\n",
      " |-- simyo_AACE: long (nullable = true)\n",
      " |-- pepephone_PCAN: long (nullable = true)\n",
      " |-- otros_APOR: long (nullable = true)\n",
      " |-- nif_var_days_since_port: double (nullable = false)\n",
      " |-- total_reuskal: long (nullable = true)\n",
      " |-- total_jazztel: long (nullable = true)\n",
      " |-- pepephone_ACAN: long (nullable = true)\n",
      " |-- pepephone_ASOL: long (nullable = true)\n",
      " |-- yoigo_AREC: long (nullable = true)\n",
      " |-- unknown_PCAN: long (nullable = true)\n",
      " |-- reuskal_AENV: long (nullable = true)\n",
      " |-- movistar_AACE: long (nullable = true)\n",
      " |-- unknown_ASOL: long (nullable = true)\n",
      " |-- movistar_AREC: long (nullable = true)\n",
      " |-- otros_ACON: long (nullable = true)\n",
      " |-- reuskal_ASOL: long (nullable = true)\n",
      " |-- total_acan: long (nullable = true)\n",
      " |-- orange_AENV: long (nullable = true)\n",
      " |-- reuskal_AREC: long (nullable = true)\n",
      " |-- reuskal_ACON: long (nullable = true)\n",
      " |-- unknown_AREC: long (nullable = true)\n",
      " |-- nif_port_freq_per_day: double (nullable = false)\n",
      " |-- jazztel_APOR: long (nullable = true)\n",
      " |-- unknown_APOR: long (nullable = true)\n",
      " |-- total_arec: long (nullable = true)\n",
      " |-- yoigo_PCAN: long (nullable = true)\n",
      " |-- nif_port_number: long (nullable = true)\n",
      " |-- pepephone_AENV: long (nullable = true)\n",
      " |-- masmovil_AREC: long (nullable = true)\n",
      " |-- jazztel_AACE: long (nullable = true)\n",
      " |-- masmovil_ACAN: long (nullable = true)\n",
      " |-- yoigo_ACON: long (nullable = true)\n",
      " |-- orange_AREC: long (nullable = true)\n",
      " |-- pepephone_AREC: long (nullable = true)\n",
      " |-- yoigo_ASOL: long (nullable = true)\n",
      " |-- jazztel_PCAN: long (nullable = true)\n",
      " |-- total_yoigo: long (nullable = true)\n",
      " |-- nif_min_days_since_port: double (nullable = false)\n",
      " |-- masmovil_AENV: long (nullable = true)\n",
      " |-- otros_PCAN: long (nullable = true)\n",
      " |-- masmovil_PCAN: long (nullable = true)\n",
      " |-- yoigo_APOR: long (nullable = true)\n",
      " |-- movistar_ACAN: long (nullable = true)\n",
      " |-- reuskal_ACAN: long (nullable = true)\n",
      " |-- unknown_ACAN: long (nullable = true)\n",
      " |-- masmovil_ACON: long (nullable = true)\n",
      " |-- nif_max_days_since_port: double (nullable = false)\n",
      " |-- simyo_APOR: long (nullable = true)\n",
      " |-- jazztel_ACAN: long (nullable = true)\n",
      " |-- orange_APOR: long (nullable = true)\n",
      " |-- unknown_AACE: long (nullable = true)\n",
      " |-- jazztel_ASOL: long (nullable = true)\n",
      " |-- nif_port_freq_per_msisdn: double (nullable = false)\n",
      " |-- num_distinct_operators: double (nullable = false)\n",
      " |-- nif_avg_days_since_port: double (nullable = false)\n",
      " |-- nif_distinct_msisdn: long (nullable = true)\n",
      " |-- total_masmovil: long (nullable = true)\n",
      " |-- otros_AACE: long (nullable = true)\n",
      " |-- reuskal_APOR: long (nullable = true)\n",
      " |-- simyo_ACON: long (nullable = true)\n",
      " |-- movistar_APOR: long (nullable = true)\n",
      " |-- days_since_last_order: integer (nullable = false)\n",
      " |-- days_since_first_order: integer (nullable = false)\n",
      " |-- label: double (nullable = true)\n",
      "\n"
     ]
    }
   ],
   "source": [
    "inittrdf_ini.printSchema()"
   ]
  },
  {
   "cell_type": "code",
   "execution_count": 31,
   "metadata": {},
   "outputs": [],
   "source": [
    "##Añadimos extra features"
   ]
  },
  {
   "cell_type": "code",
   "execution_count": 32,
   "metadata": {},
   "outputs": [],
   "source": [
    "## Añadimos las extra features (lo hacemos aquí fuera porque ya están filtradas por rgu)\n",
    "dfExtraFeat = spark.read.parquet('/data/udf/vf_es/churn/extra_feats_mod/extra_feats/year={}/month={}/day={}'\n",
    "                                            .format(int(trcycle_ini[0:4]), int(trcycle_ini[4:6]), int(trcycle_ini[6:8])))\n"
   ]
  },
  {
   "cell_type": "code",
   "execution_count": 33,
   "metadata": {},
   "outputs": [],
   "source": [
    "dfExtraFeatfbb = dfExtraFeat.join(inittrdf_ini, [\"num_cliente\"], \"leftsemi\")\n"
   ]
  },
  {
   "cell_type": "code",
   "execution_count": 34,
   "metadata": {},
   "outputs": [
    {
     "data": {
      "text/plain": [
       "1352"
      ]
     },
     "execution_count": 34,
     "metadata": {},
     "output_type": "execute_result"
    }
   ],
   "source": [
    "len(dfExtraFeatfbb.columns)"
   ]
  },
  {
   "cell_type": "code",
   "execution_count": 35,
   "metadata": {},
   "outputs": [],
   "source": [
    "allFeats = dfExtraFeatfbb.columns \n",
    "catCols=[item[0] for item in dfExtraFeatfbb.dtypes if item[1].startswith('string')]\n",
    "numerical_feats = list(set(allFeats) - set(list(set().union(getIdFeats(),getIdFeats_tr(), getNoInputFeats(), catCols, [c + \"_enc\" for c in getCatFeatsCrm()], [\"label\"]))))\n"
   ]
  },
  {
   "cell_type": "code",
   "execution_count": 36,
   "metadata": {},
   "outputs": [
    {
     "data": {
      "text/plain": [
       "1331"
      ]
     },
     "execution_count": 36,
     "metadata": {},
     "output_type": "execute_result"
    }
   ],
   "source": [
    "len(numerical_feats)"
   ]
  },
  {
   "cell_type": "code",
   "execution_count": 37,
   "metadata": {},
   "outputs": [
    {
     "data": {
      "text/plain": [
       "['netapps_ns_apps_web_yomvi_http_total_effective_ul_mb',\n",
       " 'netapps_ns_apps_food_total_effective_ul_mb',\n",
       " 'incremental_rel_delta_bill_n3_tax_amount',\n",
       " 'netapps_ns_apps_web_pepephone_data_mb',\n",
       " 'ccc_bucket_sub_bucket_device_delivery_repair_transfers',\n",
       " 'netapps_ns_apps_facebook_timestamps',\n",
       " 'incremental_abs_delta_data_per_connection',\n",
       " 'ccc_bucket_sub_bucket_other_customer_information_management_customer_data',\n",
       " 'navigation_masmovil_other_max_days_since_navigation',\n",
       " 'incremental_rel_delta_total_connections_we',\n",
       " 'netapps_ns_apps_adult_total_effective_dl_mb',\n",
       " 'additional_num_tariff_redm',\n",
       " 'additional_num_tariff_redl',\n",
       " 'ccc_bucket_sub_bucket_churn_cancellations_transfers',\n",
       " 'navigation_w4_max_count_comps',\n",
       " 'netapps_ns_apps_taobao_data_mb',\n",
       " 'ccc_raw_ofrecimiento',\n",
       " 'ccc_bucket_sub_bucket_new_adds_process_voice_line',\n",
       " 'navigation_pepephone_w1_sum_count',\n",
       " 'netapps_ns_apps_tumblr_days',\n",
       " 'netapps_ns_apps_dropbox_timestamps',\n",
       " 'netapps_ns_apps_pets_days',\n",
       " 'netapps_ns_apps_alcohol_data_mb',\n",
       " 'netapps_ns_apps_steam_data_mb',\n",
       " 'navigation_movistar_w4_sum_count',\n",
       " 'navigation_w4_sum_distinct_days_with_navigation_vdf',\n",
       " 'netapps_ns_apps_wikipedia_data_mb',\n",
       " 'netapps_ns_apps_webgames_total_effective_dl_mb',\n",
       " 'additional_inc_bill_n1_n4_amount_to_pay',\n",
       " 'netapps_ns_apps_sports_days',\n",
       " 'netapps_ns_apps_baidu_data_mb',\n",
       " 'netapps_ns_apps_samsung_timestamps',\n",
       " 'netapps_ns_apps_web_movistar_https_total_effective_ul_mb',\n",
       " 'incremental_abs_delta_bill_n3_amount_to_pay',\n",
       " 'navigation_last4w_num_distinct_comps',\n",
       " 'ccc_raw_resultado_no_retenido',\n",
       " 'navigation_w2_sum_distinct_days_with_navigation_comps',\n",
       " 'navigation_pepephone_w8_distinct_days_with_navigation',\n",
       " 'netapps_ns_apps_web_jazztel_https_timestamps',\n",
       " 'netapps_ns_apps_video_days',\n",
       " 'netapps_ns_apps_facebook_video_data_mb',\n",
       " 'ccc_num_tipis_perm_dctos',\n",
       " 'ccc_bucket_sub_bucket_churn_cancellations_other_churn_issues',\n",
       " 'netapps_ns_apps_apple_total_effective_dl_mb',\n",
       " 'ccc_bucket_sub_bucket_bucket_sub_bucket',\n",
       " 'incremental_abs_delta_total_futbol_price',\n",
       " 'incremental_abs_delta_total_penal_cust_pending_n4_penal_amount',\n",
       " 'ccc_bucket_sub_bucket_device_upgrade_tv',\n",
       " 'incremental_abs_delta_total_max_dias_hasta_penal_srv_pending_end_date',\n",
       " 'netapps_ns_apps_video_timestamps',\n",
       " 'ccc_raw_resultado_bajas',\n",
       " 'ccc_raw_consulta_tecnica_fibra',\n",
       " 'incremental_rel_delta_real_price',\n",
       " 'navigation_lowi_w4_sum_count',\n",
       " 'netapps_ns_apps_netflixvideo_total_effective_dl_mb',\n",
       " 'campaigns_total_camps_sms',\n",
       " 'navigation_pepephone_w2_distinct_days_with_navigation',\n",
       " 'netapps_ns_apps_web_yoigo_http_data_mb',\n",
       " 'netapps_ns_apps_qq_days',\n",
       " 'netapps_ns_apps_booking_timestamps',\n",
       " 'ccc_bucket_sub_bucket_device_upgrade_device_upgrade_order',\n",
       " 'ccc_bucket_sub_bucket_other_customer_information_management_churn_cancellations_process',\n",
       " 'navigation_o2_w4_max_count',\n",
       " 'ccc_bucket_sub_bucket_device_upgrade_device_delivery_repair',\n",
       " 'netapps_ns_apps_web_orange_total_effective_ul_mb',\n",
       " 'netapps_ns_apps_facebook_days',\n",
       " 'incremental_rel_delta_num_bam',\n",
       " 'netapps_ns_apps_gambling_total_effective_ul_mb',\n",
       " 'netapps_ns_apps_booking_data_mb',\n",
       " 'netapps_ns_apps_facebook_total_effective_dl_mb',\n",
       " 'incremental_rel_delta_bill_n2_debt_amount',\n",
       " 'additional_num_tariff_maslineasmini',\n",
       " 'netapps_ns_apps_line_timestamps',\n",
       " 'ccc_ind_tipif_perm_dctos',\n",
       " 'navigation_w8_sum_count_vdf',\n",
       " 'netapps_ns_apps_groupon_days',\n",
       " 'incremental_rel_delta_bill_n3_invoicecharges',\n",
       " 'campaigns_total_redem_retention_voice',\n",
       " 'navigation_w8_num_distinct_comps',\n",
       " 'incremental_abs_delta_total_data_volume_w',\n",
       " 'campaigns_total_redem_sms',\n",
       " 'navigation_jazztel_other_sum_count',\n",
       " 'ccc_bucket_sub_bucket_other_customer_information_management_referrals',\n",
       " 'navigation_w4_sum_count_vdf',\n",
       " 'ccc_bucket_sub_bucket_voice_and_mobile_data_incidences_and_support_mobile_data_support',\n",
       " 'navigation_pepephone_w4_distinct_days_with_navigation',\n",
       " 'netapps_ns_apps_books_total_effective_dl_mb',\n",
       " 'ccc_raw_desactivacion_tv',\n",
       " 'ccc_raw_desactivacion_fijo',\n",
       " 'ccc_bucket_sub_bucket_other_customer_information_management_transfers',\n",
       " 'campaigns_total_redem_tel',\n",
       " 'navigation_pepephone_w1_max_count',\n",
       " 'incremental_abs_delta_bill_n5_amount_to_pay',\n",
       " 'netapps_ns_apps_science_total_effective_dl_mb',\n",
       " 'netapps_ns_apps_music_data_mb',\n",
       " 'netapps_ns_apps_web_movistar_https_timestamps',\n",
       " 'ccc_num_tipis_info_comp',\n",
       " 'campaigns_pcg_redem_mms',\n",
       " 'netapps_ns_apps_facebook_data_mb',\n",
       " 'campaigns_pcg_redem_ema',\n",
       " 'netapps_ns_apps_web_pepephone_timestamps',\n",
       " 'netapps_ns_apps_itunes_data_mb',\n",
       " 'netapps_ns_apps_dropbox_days',\n",
       " 'netapps_ns_apps_hacking_data_mb',\n",
       " 'campaigns_total_redem_control',\n",
       " 'netapps_ns_apps_web_jazztel_http_days',\n",
       " 'ccc_bucket_sub_bucket_tariff_management_transfers',\n",
       " 'netapps_ns_apps_web_jazztel_http_data_mb',\n",
       " 'navigation_w4_sum_distinct_days_with_navigation_comps',\n",
       " 'netapps_ns_apps_youtube_days',\n",
       " 'netapps_ns_apps_technology_timestamps',\n",
       " 'additional_inc_bill_n1_n4_net',\n",
       " 'netapps_ns_apps_adultweb_days',\n",
       " 'netapps_ns_apps_twitter_total_effective_ul_mb',\n",
       " 'navigation_vodafone_w1_max_days_since_navigation',\n",
       " 'navigation_pepephone_other_sum_count',\n",
       " 'navigation_last4w_min_days_since_navigation_comps',\n",
       " 'netapps_ns_apps_hacking_total_effective_ul_mb',\n",
       " 'incremental_rel_delta_total_penal_cust_pending_n1_penal_amount',\n",
       " 'navigation_vodafone_other_min_days_since_navigation',\n",
       " 'ccc_bucket_sub_bucket_tariff_management_referrals',\n",
       " 'navigation_yoigo_w1_min_days_since_navigation',\n",
       " 'netapps_ns_apps_skype_total_effective_ul_mb',\n",
       " 'campaigns_total_camps_control',\n",
       " 'ccc_bucket_sub_bucket_device_upgrade_device_repair',\n",
       " 'netapps_ns_apps_finance_total_effective_dl_mb',\n",
       " 'campaigns_total_redem_mms',\n",
       " 'additional_max_dias_desde_fx_trybuy_tv',\n",
       " 'netapps_ns_apps_gambling_timestamps',\n",
       " 'incremental_rel_delta_bill_n2_invoicecharges',\n",
       " 'navigation_lowi_w2_distinct_days_with_navigation',\n",
       " 'netapps_ns_apps_violence_timestamps',\n",
       " 'campaigns_total_redem_ema',\n",
       " 'netapps_ns_apps_badoo_total_effective_dl_mb',\n",
       " 'netapps_ns_apps_web_lowi_days',\n",
       " 'netapps_ns_apps_astrology_total_effective_dl_mb',\n",
       " 'ccc_most_common_bucket_interactions',\n",
       " 'navigation_vodafone_w1_max_count',\n",
       " 'netapps_ns_apps_adult_data_mb',\n",
       " 'netapps_ns_apps_adultweb_total_effective_ul_mb',\n",
       " 'ccc_raw_incidencia_provision_neba',\n",
       " 'campaigns_total_camps_sat',\n",
       " 'incremental_abs_delta_total_connections_we',\n",
       " 'navigation_lowi_w1_distinct_days_with_navigation',\n",
       " 'navigation_other_max_count_comps',\n",
       " 'ccc_bucket_sub_bucket_device_delivery_repair_network',\n",
       " 'netapps_ns_apps_sports_total_effective_ul_mb',\n",
       " 'netapps_ns_apps_gambling_data_mb',\n",
       " 'netapps_ns_apps_socialnetwork_timestamps',\n",
       " 'navigation_last4w_sum_count_comps',\n",
       " 'incremental_rel_delta_total_data_volume',\n",
       " 'ccc_bucket_sub_bucket_new_adds_process_fix_line',\n",
       " 'netapps_ns_apps_audio_timestamps',\n",
       " 'navigation_pepephone_w8_sum_count',\n",
       " 'ccc_ind_tipif_info_nocomp',\n",
       " 'ccc_bucket_sub_bucket_product_and_service_management_transfers',\n",
       " 'netapps_ns_apps_food_data_mb',\n",
       " 'navigation_masmovil_other_sum_count',\n",
       " 'ccc_bucket_quick_closing',\n",
       " 'ccc_raw_provision_movil',\n",
       " 'incremental_rel_delta_bill_n4_debt_amount',\n",
       " 'ccc_bucket_sub_bucket_product_and_service_management_network',\n",
       " 'netapps_ns_apps_steam_days',\n",
       " 'netapps_ns_apps_taobao_timestamps',\n",
       " 'navigation_vodafone_w2_min_days_since_navigation',\n",
       " 'ccc_raw_productos_voz',\n",
       " 'ccc_bucket_sub_bucket_dsl_fiber_incidences_and_support_network',\n",
       " 'navigation_yoigo_w4_sum_count',\n",
       " 'netapps_ns_apps_twitter_data_mb',\n",
       " 'netapps_ns_apps_accuweather_total_effective_ul_mb',\n",
       " 'ccc_days_since_latest_interaction',\n",
       " 'navigation_masmovil_w2_max_count',\n",
       " 'netapps_ns_apps_web_movistar_http_total_effective_ul_mb',\n",
       " 'netapps_ns_apps_booking_days',\n",
       " 'incremental_abs_delta_total_num_services',\n",
       " 'ccc_bucket_sub_bucket_device_delivery_repair_device_upgrade',\n",
       " 'ccc_bucket_sub_bucket_voice_and_mobile_data_incidences_and_support_network',\n",
       " 'netapps_ns_apps_web_o2_http_days',\n",
       " 'ccc_raw_portabilidad_inversa',\n",
       " 'netapps_ns_apps_travel_total_effective_ul_mb',\n",
       " 'campaigns_total_camps_ema',\n",
       " 'incremental_rel_delta_max_data_per_connection_w',\n",
       " 'ccc_raw_baja',\n",
       " 'netapps_ns_apps_web_movistar_http_timestamps',\n",
       " 'ccc_raw_incidencia_provision_fibra',\n",
       " 'ccc_bucket_sub_bucket_collections_debt_recovery',\n",
       " 'netapps_ns_apps_socialnetwork_total_effective_ul_mb',\n",
       " 'netapps_ns_apps_home_timestamps',\n",
       " 'incremental_rel_delta_bill_n3_debt_amount',\n",
       " 'incremental_abs_delta_total_mou_w',\n",
       " 'netapps_ns_apps_dating_data_mb',\n",
       " 'navigation_last4w_max_count_comps',\n",
       " 'netapps_ns_apps_ebay_data_mb',\n",
       " 'netapps_ns_apps_line_days',\n",
       " 'navigation_masmovil_w1_sum_count',\n",
       " 'incremental_rel_delta_data_per_connection_w',\n",
       " 'ccc_bucket_product_and_service_management',\n",
       " 'netapps_ns_apps_web_lowi_total_effective_ul_mb',\n",
       " 'netapps_ns_apps_googledrive_days',\n",
       " 'netapps_ns_apps_shopping_timestamps',\n",
       " 'incremental_rel_delta_max_connections_w',\n",
       " 'navigation_o2_other_max_days_since_navigation',\n",
       " 'navigation_vodafone_w2_distinct_days_with_navigation',\n",
       " 'netapps_ns_apps_web_yoigo_https_total_effective_dl_mb',\n",
       " 'navigation_o2_w1_max_count',\n",
       " 'netapps_ns_apps_classified_total_effective_ul_mb',\n",
       " 'navigation_masmovil_w4_max_days_since_navigation',\n",
       " 'ccc_bucket_sub_bucket_device_upgrade_device_information',\n",
       " 'netapps_ns_apps_audio_days',\n",
       " 'device_num_devices',\n",
       " 'navigation_jazztel_w4_distinct_days_with_navigation',\n",
       " 'ccc_bucket_tariff_management',\n",
       " 'navigation_orange_w1_max_days_since_navigation',\n",
       " 'navigation_jazztel_w4_max_count',\n",
       " 'netapps_ns_apps_googlemaps_total_effective_ul_mb',\n",
       " 'navigation_orange_w2_min_days_since_navigation',\n",
       " 'navigation_other_sum_count_vdf',\n",
       " 'netapps_ns_apps_jobs_total_effective_ul_mb',\n",
       " 'navigation_jazztel_w8_max_days_since_navigation',\n",
       " 'netapps_ns_apps_web_marcacom_http_timestamps',\n",
       " 'navigation_w1_sum_distinct_days_with_navigation_comps',\n",
       " 'navigation_yoigo_w8_sum_count',\n",
       " 'navigation_yoigo_w4_distinct_days_with_navigation',\n",
       " 'ccc_bucket_sub_bucket_collections_transfers',\n",
       " 'ccc_num_tipis_info',\n",
       " 'navigation_jazztel_w1_max_days_since_navigation',\n",
       " 'netapps_ns_apps_netflixvideo_total_effective_ul_mb',\n",
       " 'ccc_bucket_sub_bucket_device_upgrade_transfers',\n",
       " 'netapps_ns_apps_web_jazztel_https_total_effective_ul_mb',\n",
       " 'navigation_lowi_other_distinct_days_with_navigation',\n",
       " 'netapps_ns_apps_youtube_total_effective_dl_mb',\n",
       " 'netapps_ns_apps_chats_total_effective_ul_mb',\n",
       " 'netapps_ns_apps_alipay_total_effective_ul_mb',\n",
       " 'netapps_ns_apps_web_lowi_http_data_mb',\n",
       " 'ccc_bucket_sub_bucket_product_and_service_management_simlock',\n",
       " 'netapps_ns_apps_googleearth_total_effective_ul_mb',\n",
       " 'navigation_movistar_w2_min_days_since_navigation',\n",
       " 'incremental_abs_delta_max_mou_we',\n",
       " 'navigation_pepephone_w4_max_days_since_navigation',\n",
       " 'netapps_ns_apps_bbc_timestamps',\n",
       " 'netapps_ns_apps_web_orange_https_days',\n",
       " 'navigation_orange_other_max_count',\n",
       " 'navigation_pepephone_other_distinct_days_with_navigation',\n",
       " 'netapps_ns_apps_web_jazztel_data_mb',\n",
       " 'incremental_rel_delta_fbb_services',\n",
       " 'ccc_raw_alta',\n",
       " 'netapps_ns_apps_education_days',\n",
       " 'incremental_abs_delta_max_data_per_connection_w',\n",
       " 'incremental_abs_delta_tv_services',\n",
       " 'campaigns_total_camps_retention_voice',\n",
       " 'netapps_ns_apps_googlemaps_data_mb',\n",
       " 'netapps_ns_apps_steam_timestamps',\n",
       " 'netapps_ns_apps_web_marcacom_http_days',\n",
       " 'netapps_ns_apps_arts_data_mb',\n",
       " 'netapps_ns_apps_videostreaming_data_mb',\n",
       " 'netapps_ns_apps_wechat_data_mb',\n",
       " 'netapps_ns_apps_taobao_days',\n",
       " 'ccc_bucket_sub_bucket_churn_cancellations_tv',\n",
       " 'navigation_lowi_w4_distinct_days_with_navigation',\n",
       " 'navigation_yoigo_other_max_count',\n",
       " 'campaigns_total_redem_sat',\n",
       " 'netapps_ns_apps_web_yoigo_data_mb',\n",
       " 'incremental_abs_delta_bill_n2_invoicecharges',\n",
       " 'netapps_ns_apps_googleearth_data_mb',\n",
       " 'netapps_ns_apps_web_marcacom_http_total_effective_ul_mb',\n",
       " 'netapps_ns_apps_web_yomvi_https_data_mb',\n",
       " 'incremental_rel_delta_tv_services',\n",
       " 'navigation_jazztel_other_distinct_days_with_navigation',\n",
       " 'netapps_ns_apps_web_pepephone_https_data_mb',\n",
       " 'netapps_ns_apps_googleplay_timestamps',\n",
       " 'navigation_orange_w1_min_days_since_navigation',\n",
       " 'netapps_ns_apps_audio_data_mb',\n",
       " 'netapps_ns_apps_adultweb_data_mb',\n",
       " 'navigation_jazztel_other_min_days_since_navigation',\n",
       " 'campaigns_total_redem_up_cross_sell',\n",
       " 'ccc_raw_consulta_ficha',\n",
       " 'netapps_ns_apps_netflix_days',\n",
       " 'netapps_ns_apps_web_movistar_http_data_mb',\n",
       " 'navigation_movistar_w2_max_count',\n",
       " 'navigation_orange_w2_distinct_days_with_navigation',\n",
       " 'netapps_ns_apps_web_o2_http_data_mb',\n",
       " 'navigation_yoigo_w4_max_count',\n",
       " 'campaigns_total_camps_mms',\n",
       " 'ccc_raw_averia_tv',\n",
       " 'netapps_ns_apps_webgames_timestamps',\n",
       " 'incremental_rel_delta_bill_n5_invoicecharges',\n",
       " 'netapps_ns_apps_googleplay_total_effective_ul_mb',\n",
       " 'netapps_ns_apps_web_o2_timestamps',\n",
       " 'pbms_srv_ind_averias',\n",
       " 'netapps_ns_apps_gambling_days',\n",
       " 'netapps_ns_apps_youtube_data_mb',\n",
       " 'ccc_raw_productos_datos',\n",
       " 'pbms_srv_num_reclamaciones',\n",
       " 'navigation_lowi_w2_max_count',\n",
       " 'netapps_ns_apps_politics_days',\n",
       " 'navigation_yoigo_w8_min_days_since_navigation',\n",
       " 'netapps_ns_apps_googledrive_data_mb',\n",
       " 'netapps_ns_apps_web_jazztel_https_data_mb',\n",
       " 'navigation_lowi_w2_max_days_since_navigation',\n",
       " 'netapps_ns_apps_accuweather_days',\n",
       " 'netapps_ns_apps_web_masmovil_http_data_mb',\n",
       " 'navigation_yoigo_w8_max_days_since_navigation',\n",
       " 'incremental_abs_delta_bill_n1_tax_amount',\n",
       " 'navigation_masmovil_w2_sum_count',\n",
       " 'netapps_ns_apps_whatsapp_voice_calling_data_mb',\n",
       " 'netapps_ns_apps_pets_timestamps',\n",
       " 'netapps_ns_apps_auto_data_mb',\n",
       " 'additional_inc_bill_n1_n5_net',\n",
       " 'navigation_w4_min_days_since_navigation_comps',\n",
       " 'netapps_ns_apps_jobs_data_mb',\n",
       " 'netapps_ns_apps_business_total_effective_dl_mb',\n",
       " 'ccc_bucket_prepaid_balance',\n",
       " 'ccc_bucket_sub_bucket_other_customer_information_management_tv',\n",
       " 'device_month_device_changes',\n",
       " 'navigation_o2_w2_sum_count',\n",
       " 'ccc_bucket_sub_bucket_device_delivery_repair_device_delivery_repair',\n",
       " 'netapps_ns_apps_taobao_total_effective_ul_mb',\n",
       " 'netapps_ns_apps_paypal_data_mb',\n",
       " 'netapps_ns_apps_books_days',\n",
       " 'netapps_ns_apps_spotify_days',\n",
       " 'ccc_bucket_sub_bucket_billing___postpaid_transfers',\n",
       " 'netapps_ns_apps_fashion_data_mb',\n",
       " 'netapps_ns_apps_googleearth_timestamps',\n",
       " 'netapps_ns_apps_steam_total_effective_ul_mb',\n",
       " 'navigation_masmovil_w1_max_count',\n",
       " 'incremental_abs_delta_bill_n2_tax_amount',\n",
       " 'netapps_ns_apps_web_masmovil_timestamps',\n",
       " 'incremental_rel_delta_num_prepaid',\n",
       " 'additional_max_dias_desde_fx_football_tv',\n",
       " 'netapps_ns_apps_web_pepephone_total_effective_dl_mb',\n",
       " 'navigation_o2_w1_distinct_days_with_navigation',\n",
       " 'device_days_since_device_n4_change_date',\n",
       " 'ccc_bucket_sub_bucket_product_and_service_management_prepaid_initial_balance',\n",
       " 'incremental_rel_delta_num_tv',\n",
       " 'ccc_bucket_sub_bucket_new_adds_process_prepaid_initial_balance',\n",
       " 'ccc_bucket_sub_bucket_device_delivery_repair_device_repair',\n",
       " 'netapps_ns_apps_business_data_mb',\n",
       " 'netapps_ns_apps_web_lowi_https_timestamps',\n",
       " 'incremental_abs_delta_max_connections_w',\n",
       " 'navigation_jazztel_w1_min_days_since_navigation',\n",
       " 'netapps_ns_apps_web_yomvi_https_total_effective_ul_mb',\n",
       " 'netapps_ns_apps_bbc_total_effective_dl_mb',\n",
       " 'navigation_yoigo_w2_distinct_days_with_navigation',\n",
       " 'pbms_srv_ind_reclamaciones',\n",
       " 'navigation_w1_num_distinct_comps',\n",
       " 'netapps_ns_apps_pets_data_mb',\n",
       " 'incremental_rel_delta_bam_services',\n",
       " 'ccc_bucket_sub_bucket_other_customer_information_management_customer_service_process',\n",
       " 'netapps_ns_apps_jobs_days',\n",
       " 'incremental_abs_delta_bill_n3_invoicecharges',\n",
       " 'navigation_last2w_sum_count_comps',\n",
       " 'additional_num_tariff_unknown',\n",
       " 'navigation_jazztel_w4_sum_count',\n",
       " 'incremental_rel_delta_data_per_connection_we',\n",
       " 'navigation_o2_other_distinct_days_with_navigation',\n",
       " 'netapps_ns_apps_twitter_total_effective_dl_mb',\n",
       " 'ccc_bucket_sub_bucket_new_adds_process_device_upgrade_order',\n",
       " 'navigation_orange_w4_max_days_since_navigation',\n",
       " 'ccc_raw_portabilidad',\n",
       " 'navigation_orange_w2_sum_count',\n",
       " 'netapps_ns_apps_video_total_effective_ul_mb',\n",
       " 'netapps_ns_apps_web_vodafone_http_timestamps',\n",
       " 'incremental_abs_delta_bill_n1_amount_to_pay',\n",
       " 'ccc_raw_provision_resto',\n",
       " 'navigation_pepephone_other_max_count',\n",
       " 'navigation_masmovil_w8_max_days_since_navigation',\n",
       " 'netapps_ns_apps_hacking_days',\n",
       " 'additional_num_2lins',\n",
       " 'ccc_bucket_sub_bucket_billing___postpaid_other_billing_issues',\n",
       " 'navigation_movistar_w4_distinct_days_with_navigation',\n",
       " 'netapps_ns_apps_wechat_timestamps',\n",
       " 'incremental_abs_delta_total_penal_srv_pending_n3_penal_amount',\n",
       " 'netapps_ns_apps_amazon_days',\n",
       " 'incremental_abs_delta_data_per_connection_w',\n",
       " 'additional_num_tariff_otros',\n",
       " 'ccc_raw_consulta_tecnica_resto',\n",
       " 'netapps_ns_apps_zynga_data_mb',\n",
       " 'netapps_ns_apps_medical_timestamps',\n",
       " 'campaigns_total_camps_tel',\n",
       " 'ccc_bucket_sub_bucket_dsl_fiber_incidences_and_support_referrals',\n",
       " 'navigation_movistar_other_min_days_since_navigation',\n",
       " 'navigation_jazztel_other_max_count',\n",
       " 'ccc_bucket_sub_bucket_dsl_fiber_incidences_and_support_modem_router_incidences',\n",
       " 'navigation_lowi_w1_max_days_since_navigation',\n",
       " 'netapps_ns_apps_web_movistar_https_data_mb',\n",
       " 'ccc_raw_desactivacion_usb',\n",
       " 'navigation_other_sum_distinct_days_with_navigation_vdf',\n",
       " 'ccc_bucket_device_upgrade',\n",
       " 'ccc_raw_resultado_informacion',\n",
       " 'navigation_orange_w1_max_count',\n",
       " 'incremental_rel_delta_fixed_services',\n",
       " 'navigation_yoigo_w2_max_days_since_navigation',\n",
       " 'netapps_ns_apps_snapchat_total_effective_dl_mb',\n",
       " 'netapps_ns_apps_kids_days',\n",
       " 'navigation_vodafone_w2_max_days_since_navigation',\n",
       " 'incremental_abs_delta_price_dto_lev2',\n",
       " 'incremental_abs_delta_price_dto_lev1',\n",
       " 'incremental_abs_delta_fixed_services',\n",
       " 'navigation_yoigo_w2_max_count',\n",
       " 'additional_trybuy_services',\n",
       " 'ccc_ind_tipif_info',\n",
       " 'netapps_ns_apps_itunes_total_effective_dl_mb',\n",
       " 'netapps_ns_apps_wikipedia_total_effective_dl_mb',\n",
       " 'device_days_since_device_n3_change_date',\n",
       " 'navigation_pepephone_w2_max_days_since_navigation',\n",
       " 'netapps_ns_apps_web_o2_days',\n",
       " 'netapps_ns_apps_kids_timestamps',\n",
       " 'netapps_ns_apps_web_masmovil_http_days',\n",
       " 'incremental_abs_delta_total_penal_cust_pending_n3_penal_amount',\n",
       " 'navigation_w8_min_days_since_navigation_comps',\n",
       " 'netapps_ns_apps_badoo_timestamps',\n",
       " 'navigation_jazztel_w8_sum_count',\n",
       " 'ccc_bucket_sub_bucket_voice_and_mobile_data_incidences_and_support_tv',\n",
       " 'netapps_ns_apps_pregnancy_days',\n",
       " 'navigation_orange_w4_min_days_since_navigation',\n",
       " 'netapps_ns_apps_whatsapp_media_message_total_effective_dl_mb',\n",
       " 'netapps_ns_apps_whatsapp_voice_calling_days',\n",
       " 'netapps_ns_apps_politics_timestamps',\n",
       " 'netapps_ns_apps_badoo_total_effective_ul_mb',\n",
       " 'navigation_o2_w1_max_days_since_navigation',\n",
       " 'netapps_ns_apps_netflix_total_effective_ul_mb',\n",
       " 'ccc_bucket_sub_bucket_product_and_service_management_voice_tariff',\n",
       " 'incremental_abs_delta_bill_n5_debt_amount',\n",
       " 'incremental_abs_delta_real_price',\n",
       " 'netapps_ns_apps_web_lowi_https_data_mb',\n",
       " 'additional_trybuy_autom_services',\n",
       " 'incremental_abs_delta_total_penal_cust_pending_n1_penal_amount',\n",
       " 'incremental_rel_delta_max_mou_w',\n",
       " 'netapps_ns_apps_web_vodafone_http_total_effective_dl_mb',\n",
       " 'ccc_raw_provision_dsl',\n",
       " 'navigation_masmovil_other_distinct_days_with_navigation',\n",
       " 'netapps_ns_apps_pregnancy_total_effective_ul_mb',\n",
       " 'ccc_bucket_sub_bucket_new_adds_process_new_adds',\n",
       " 'ccc_raw_transferencia',\n",
       " 'netapps_ns_apps_socialnetwork_total_effective_dl_mb',\n",
       " 'incremental_abs_delta_num_bam',\n",
       " 'netapps_ns_apps_alcohol_days',\n",
       " 'netapps_ns_apps_whatsapp_media_message_days',\n",
       " 'netapps_ns_apps_web_pepephone_http_total_effective_ul_mb',\n",
       " 'navigation_masmovil_w4_sum_count',\n",
       " 'netapps_ns_apps_web_o2_total_effective_dl_mb',\n",
       " 'netapps_ns_apps_web_marcacom_http_data_mb',\n",
       " 'navigation_pepephone_other_max_days_since_navigation',\n",
       " 'ccc_raw_resultado_envio_tecnico',\n",
       " 'incremental_abs_delta_max_num_calls_w',\n",
       " 'device_days_since_device_n2_change_date',\n",
       " 'ccc_raw_resultado_abono',\n",
       " 'incremental_rel_delta_total_data_volume_w',\n",
       " 'navigation_lowi_w2_min_days_since_navigation',\n",
       " 'netapps_ns_apps_web_o2_https_days',\n",
       " 'netapps_ns_apps_webmobile_total_effective_ul_mb',\n",
       " 'ccc_bucket_sub_bucket_prepaid_balance_transfers',\n",
       " 'navigation_jazztel_w2_min_days_since_navigation',\n",
       " 'incremental_abs_delta_bill_n4_tax_amount',\n",
       " 'netapps_ns_apps_pets_total_effective_dl_mb',\n",
       " 'netapps_ns_apps_ebay_days',\n",
       " 'navigation_pepephone_w8_min_days_since_navigation',\n",
       " 'netapps_ns_apps_qq_timestamps',\n",
       " 'ccc_bucket_sub_bucket_tariff_management_voice_line',\n",
       " 'additional_football_services',\n",
       " 'netapps_ns_apps_foursquare_total_effective_ul_mb',\n",
       " 'netapps_ns_apps_samsung_days',\n",
       " 'additional_max_dias_desde_fx_pvr_tv',\n",
       " 'netapps_ns_apps_auto_total_effective_dl_mb',\n",
       " 'netapps_ns_apps_hacking_total_effective_dl_mb',\n",
       " 'ccc_bucket_sub_bucket_billing___postpaid_invoice_clarification',\n",
       " 'ccc_bucket_sub_bucket_tariff_management_voice_tariff',\n",
       " 'navigation_movistar_w1_min_days_since_navigation',\n",
       " 'netapps_ns_apps_accuweather_data_mb',\n",
       " 'ccc_raw_resultado_no_aplica',\n",
       " 'netapps_ns_apps_science_total_effective_ul_mb',\n",
       " 'ccc_num_interactions',\n",
       " 'netapps_ns_apps_web_o2_https_timestamps',\n",
       " 'netapps_ns_apps_web_vodafone_http_days',\n",
       " 'netapps_ns_apps_baidu_timestamps',\n",
       " 'netapps_ns_apps_spotify_data_mb',\n",
       " 'navigation_masmovil_w4_min_days_since_navigation',\n",
       " 'navigation_movistar_other_sum_count',\n",
       " 'navigation_movistar_w8_distinct_days_with_navigation',\n",
       " 'netapps_ns_apps_foursquare_total_effective_dl_mb',\n",
       " 'ccc_bucket_sub_bucket_new_adds_process_tv',\n",
       " 'incremental_abs_delta_data_per_connection_we',\n",
       " 'additional_inc_bill_n1_n2_net',\n",
       " 'netapps_ns_apps_finance_total_effective_ul_mb',\n",
       " 'navigation_vodafone_other_sum_count',\n",
       " 'netapps_ns_apps_family_timestamps',\n",
       " 'incremental_rel_delta_total_penal_srv_pending_n1_penal_amount',\n",
       " 'netapps_ns_apps_chats_days',\n",
       " 'ccc_bucket_latest_interaction',\n",
       " 'navigation_vodafone_other_max_days_since_navigation',\n",
       " 'netapps_ns_apps_webgames_total_effective_ul_mb',\n",
       " 'navigation_w8_sum_distinct_days_with_navigation_comps',\n",
       " 'tgs_days_since_f_inicio_bi_exp',\n",
       " 'incremental_rel_delta_bill_n2_amount_to_pay',\n",
       " 'incremental_abs_delta_total_penal_srv_pending_n5_penal_amount',\n",
       " 'ccc_bucket_sub_bucket_voice_and_mobile_data_incidences_and_support_transfers',\n",
       " 'netapps_ns_apps_web_orange_https_data_mb',\n",
       " 'netapps_ns_apps_web_masmovil_https_total_effective_ul_mb',\n",
       " 'ccc_num_tipis_factura',\n",
       " 'netapps_ns_apps_education_total_effective_ul_mb',\n",
       " 'navigation_jazztel_w1_distinct_days_with_navigation',\n",
       " 'navigation_w4_sum_count_comps',\n",
       " 'navigation_o2_w4_max_days_since_navigation',\n",
       " 'additional_inc_bill_n1_n2_amount_to_pay',\n",
       " 'netapps_ns_apps_alibaba_days',\n",
       " 'netapps_ns_apps_skype_total_effective_dl_mb',\n",
       " 'navigation_last2w_sum_distinct_days_with_navigation_comps',\n",
       " 'ccc_raw_consulta_tecnica_movil',\n",
       " 'netapps_ns_apps_alibaba_timestamps',\n",
       " 'ccc_raw_desactivacion_ba_movil_tv',\n",
       " 'ccc_bucket_sub_bucket_new_adds_process_voice',\n",
       " 'incremental_abs_delta_bam-movil_services',\n",
       " 'navigation_movistar_w4_max_count',\n",
       " 'navigation_masmovil_w8_max_count',\n",
       " 'netapps_ns_apps_web_marcacom_http_total_effective_dl_mb',\n",
       " 'incremental_rel_delta_bill_n4_tax_amount',\n",
       " 'netapps_ns_apps_web_o2_total_effective_ul_mb',\n",
       " 'navigation_last4w_sum_distinct_days_with_navigation_comps',\n",
       " 'netapps_ns_apps_github_days',\n",
       " 'navigation_masmovil_w4_distinct_days_with_navigation',\n",
       " 'netapps_ns_apps_travel_data_mb',\n",
       " 'ccc_bucket_sub_bucket_device_upgrade_referrals',\n",
       " 'netapps_ns_apps_web_orange_http_total_effective_dl_mb',\n",
       " 'netapps_ns_apps_dropbox_data_mb',\n",
       " 'netapps_ns_apps_groupon_total_effective_dl_mb',\n",
       " 'navigation_o2_w4_distinct_days_with_navigation',\n",
       " 'incremental_abs_delta_total_max_dias_hasta_penal_cust_pending_end_date',\n",
       " 'ccc_bucket_sub_bucket_dsl_fiber_incidences_and_support_fibra_incidences',\n",
       " 'ccc_bucket_sub_bucket_dsl_fiber_incidences_and_support_modem_router_support',\n",
       " 'ccc_num_ivr_interactions',\n",
       " 'netapps_ns_apps_instagram_timestamps',\n",
       " 'ccc_bucket_sub_bucket_device_delivery_repair_new_adds',\n",
       " 'netapps_ns_apps_netflixvideo_days',\n",
       " 'ccc_bucket_sub_bucket_product_and_service_management_tv',\n",
       " 'campaigns_pcg_redem_control',\n",
       " 'navigation_vodafone_w2_max_count',\n",
       " 'additional_max_dias_desde_fx_zapper_tv',\n",
       " 'netapps_ns_apps_travel_days',\n",
       " 'incremental_abs_delta_bill_n1_invoicecharges',\n",
       " 'incremental_abs_delta_bill_n4_invoicecharges',\n",
       " 'incremental_abs_delta_price_tariff',\n",
       " 'netapps_ns_apps_web_vodafone_https_total_effective_dl_mb',\n",
       " 'netapps_ns_apps_food_timestamps',\n",
       " 'netapps_ns_apps_groupon_data_mb',\n",
       " 'incremental_abs_delta_num_movil',\n",
       " 'ccc_raw_desactivacion_resto',\n",
       " 'netapps_ns_apps_jobs_total_effective_dl_mb',\n",
       " 'netapps_ns_apps_web_jazztel_https_total_effective_dl_mb',\n",
       " 'navigation_orange_other_max_days_since_navigation',\n",
       " 'netapps_ns_apps_legal_data_mb',\n",
       " 'incremental_rel_delta_total_penal_srv_pending_n5_penal_amount',\n",
       " 'netapps_ns_apps_googledrive_total_effective_dl_mb',\n",
       " 'netapps_ns_apps_science_data_mb',\n",
       " 'ccc_bucket_sub_bucket_other_customer_information_management_prepaid_initial_balance',\n",
       " 'netapps_ns_apps_arts_total_effective_dl_mb',\n",
       " 'incremental_abs_delta_total_data_volume_we',\n",
       " 'navigation_movistar_w1_sum_count',\n",
       " 'netapps_ns_apps_booking_total_effective_ul_mb',\n",
       " 'netapps_ns_apps_wikipedia_total_effective_ul_mb',\n",
       " 'navigation_jazztel_w2_max_count',\n",
       " 'netapps_ns_apps_whatsapp_voice_calling_timestamps',\n",
       " 'netapps_ns_apps_sports_total_effective_dl_mb',\n",
       " 'netapps_ns_apps_web_masmovil_http_timestamps',\n",
       " 'incremental_abs_delta_bill_n2_debt_amount',\n",
       " 'incremental_rel_delta_max_data_volume_w',\n",
       " 'navigation_o2_w2_max_count',\n",
       " 'incremental_abs_delta_bill_n4_debt_amount',\n",
       " 'netapps_ns_apps_pregnancy_timestamps',\n",
       " 'netapps_ns_apps_web_o2_http_total_effective_ul_mb',\n",
       " 'tgs_has_discount',\n",
       " 'navigation_yoigo_other_min_days_since_navigation',\n",
       " 'navigation_o2_w8_max_count',\n",
       " 'ccc_bucket_billing___postpaid',\n",
       " 'ccc_num_tipis_info_nocomp',\n",
       " 'navigation_masmovil_w1_distinct_days_with_navigation',\n",
       " 'navigation_lowi_w8_min_days_since_navigation',\n",
       " 'ccc_bucket_sub_bucket_other_customer_information_management_pin_puk',\n",
       " 'netapps_ns_apps_hacking_timestamps',\n",
       " 'navigation_jazztel_w4_max_days_since_navigation',\n",
       " 'ccc_raw_averia_movil',\n",
       " 'netapps_ns_apps_travel_timestamps',\n",
       " 'additional_num_tariff_xs',\n",
       " 'ccc_raw_desactivacion_net',\n",
       " 'navigation_orange_w8_sum_count',\n",
       " 'netapps_ns_apps_gmail_data_mb',\n",
       " 'netapps_ns_apps_zynga_total_effective_ul_mb',\n",
       " 'additional_num_tariff_minim',\n",
       " 'netapps_ns_apps_facebook_video_timestamps',\n",
       " 'ccc_bucket_sub_bucket_dsl_fiber_incidences_and_support_transfers',\n",
       " 'netapps_ns_apps_news_data_mb',\n",
       " 'navigation_w2_sum_count_vdf',\n",
       " 'netapps_ns_apps_googleearth_days',\n",
       " 'netapps_ns_apps_itunes_days',\n",
       " 'netapps_ns_apps_vimeo_data_mb',\n",
       " 'netapps_ns_apps_pets_total_effective_ul_mb',\n",
       " 'netapps_ns_apps_news_total_effective_dl_mb',\n",
       " 'netapps_ns_apps_adultweb_timestamps',\n",
       " 'tgs_days_until_f_fin_bi_exp',\n",
       " 'netapps_ns_apps_web_orange_http_timestamps',\n",
       " 'netapps_ns_apps_itunes_timestamps',\n",
       " 'ccc_bucket_sub_bucket_billing___postpaid_tv',\n",
       " 'netapps_ns_apps_snapchat_data_mb',\n",
       " 'navigation_yoigo_w1_sum_count',\n",
       " 'netapps_ns_apps_instagram_days',\n",
       " 'additional_total_price_trybuy_autom',\n",
       " 'netapps_ns_apps_netflixvideo_data_mb',\n",
       " 'incremental_abs_delta_num_prepaid',\n",
       " 'netapps_ns_apps_sports_timestamps',\n",
       " 'navigation_orange_w2_max_count',\n",
       " 'netapps_ns_apps_web_jazztel_https_days',\n",
       " 'netapps_ns_apps_web_yoigo_http_days',\n",
       " 'ccc_bucket_sub_bucket_voice_and_mobile_data_incidences_and_support_modem_router_support',\n",
       " 'incremental_rel_delta_max_data_volume_we',\n",
       " 'navigation_vodafone_w2_sum_count',\n",
       " 'netapps_ns_apps_news_timestamps',\n",
       " 'navigation_pepephone_w1_distinct_days_with_navigation',\n",
       " 'incremental_rel_delta_bill_n1_invoicecharges',\n",
       " 'ccc_ind_tipif_abonos',\n",
       " 'netapps_ns_apps_web_pepephone_http_data_mb',\n",
       " 'netapps_ns_apps_web_yoigo_total_effective_ul_mb',\n",
       " 'incremental_abs_delta_bill_n3_tax_amount',\n",
       " 'navigation_lowi_w8_max_count',\n",
       " 'additional_total_price_football',\n",
       " 'netapps_ns_apps_web_o2_http_timestamps',\n",
       " 'ccc_raw_consulta_resto',\n",
       " 'ccc_bucket_sub_bucket_product_and_service_management_referrals',\n",
       " 'navigation_yoigo_w1_max_days_since_navigation',\n",
       " 'incremental_rel_delta_bill_n3_amount_to_pay',\n",
       " 'netapps_ns_apps_books_total_effective_ul_mb',\n",
       " 'netapps_ns_apps_gmail_total_effective_ul_mb',\n",
       " 'netapps_ns_apps_web_lowi_http_days',\n",
       " 'ccc_bucket_sub_bucket_voice_and_mobile_data_incidences_and_support_mobile_data_incidences',\n",
       " 'incremental_rel_delta_max_num_calls_we',\n",
       " 'netapps_ns_apps_dropbox_total_effective_ul_mb',\n",
       " 'netapps_ns_apps_webmobile_timestamps',\n",
       " 'netapps_ns_apps_web_jazztel_days',\n",
       " 'navigation_movistar_other_max_days_since_navigation',\n",
       " 'navigation_orange_other_sum_count',\n",
       " 'navigation_jazztel_w2_max_days_since_navigation',\n",
       " 'netapps_ns_apps_alcohol_timestamps',\n",
       " 'navigation_vodafone_other_max_count',\n",
       " 'netapps_ns_apps_books_timestamps',\n",
       " 'netapps_ns_apps_classified_days',\n",
       " 'netapps_ns_apps_alibaba_data_mb',\n",
       " 'navigation_lowi_w2_sum_count',\n",
       " 'netapps_ns_apps_web_jazztel_http_total_effective_dl_mb',\n",
       " 'incremental_rel_delta_total_connections',\n",
       " 'navigation_orange_w1_distinct_days_with_navigation',\n",
       " 'netapps_ns_apps_whatsapp_days',\n",
       " 'incremental_abs_delta_bill_n2_amount_to_pay',\n",
       " 'netapps_ns_apps_medical_total_effective_dl_mb',\n",
       " 'navigation_other_sum_count_comps',\n",
       " 'incremental_rel_delta_total_penal_cust_pending_n3_penal_amount',\n",
       " 'netapps_ns_apps_audio_total_effective_dl_mb',\n",
       " 'netapps_ns_apps_fashion_total_effective_ul_mb',\n",
       " 'netapps_ns_apps_videostreaming_timestamps',\n",
       " 'netapps_ns_apps_medical_total_effective_ul_mb',\n",
       " 'navigation_movistar_w8_max_count',\n",
       " 'netapps_ns_apps_web_movistar_days',\n",
       " 'netapps_ns_apps_github_total_effective_dl_mb',\n",
       " 'navigation_vodafone_w1_sum_count',\n",
       " 'incremental_rel_delta_total_penal_cust_pending_n5_penal_amount',\n",
       " 'netapps_ns_apps_violence_total_effective_ul_mb',\n",
       " 'netapps_ns_apps_ebay_total_effective_dl_mb',\n",
       " 'incremental_rel_delta_num_fixed',\n",
       " 'incremental_abs_delta_bill_n3_debt_amount',\n",
       " 'navigation_w2_min_days_since_navigation_comps',\n",
       " 'navigation_yoigo_w4_max_days_since_navigation',\n",
       " 'netapps_ns_apps_shopping_total_effective_dl_mb',\n",
       " 'netapps_ns_apps_web_yomvi_http_days',\n",
       " 'incremental_rel_delta_bill_n2_tax_amount',\n",
       " 'netapps_ns_apps_zynga_timestamps',\n",
       " 'pbms_srv_ind_soporte',\n",
       " 'netapps_ns_apps_whatsapp_media_message_timestamps',\n",
       " 'netapps_ns_apps_line_total_effective_dl_mb',\n",
       " 'navigation_w1_max_count_comps',\n",
       " 'campaigns_total_redem_universal',\n",
       " 'campaigns_pcg_redem_sms',\n",
       " 'navigation_lowi_w8_distinct_days_with_navigation',\n",
       " 'campaigns_total_camps_universal',\n",
       " 'incremental_rel_delta_total_connections_w',\n",
       " 'ccc_bucket_sub_bucket_tariff_management_network',\n",
       " 'incremental_abs_delta_max_mou_w',\n",
       " 'netapps_ns_apps_paypal_total_effective_ul_mb',\n",
       " 'ccc_raw_incidencia_tecnica',\n",
       " 'ccc_bucket_sub_bucket_dsl_fiber_incidences_and_support_fibra_support',\n",
       " 'netapps_ns_apps_apple_total_effective_ul_mb',\n",
       " 'ccc_bucket_sub_bucket_device_delivery_repair_device_upgrade_order',\n",
       " 'netapps_ns_apps_web_vodafone_days',\n",
       " 'navigation_jazztel_w8_max_count',\n",
       " 'ccc_bucket_sub_bucket_new_adds_process_transfers',\n",
       " 'ccc_bucket_sub_bucket_tariff_management_voice',\n",
       " 'navigation_pepephone_w2_max_count',\n",
       " 'netapps_ns_apps_yandex_timestamps',\n",
       " 'netapps_ns_apps_shopping_days',\n",
       " 'netapps_ns_apps_adult_timestamps',\n",
       " 'netapps_ns_apps_dating_total_effective_dl_mb',\n",
       " 'incremental_abs_delta_max_mou_per_call_w',\n",
       " 'netapps_ns_apps_accuweather_total_effective_dl_mb',\n",
       " 'netapps_ns_apps_web_yoigo_https_days',\n",
       " 'netapps_ns_apps_googleplay_data_mb',\n",
       " 'navigation_masmovil_w1_min_days_since_navigation',\n",
       " 'netapps_ns_apps_foursquare_data_mb',\n",
       " 'netapps_ns_apps_qq_data_mb',\n",
       " 'ccc_num_incidencias',\n",
       " 'netapps_ns_apps_education_timestamps',\n",
       " 'netapps_ns_apps_news_days',\n",
       " 'netapps_ns_apps_tumblr_total_effective_dl_mb',\n",
       " 'incremental_abs_delta_max_mou_per_call_we',\n",
       " 'additional_total_price_pvr',\n",
       " 'netapps_ns_apps_legal_total_effective_ul_mb',\n",
       " 'netapps_ns_apps_web_vodafone_http_data_mb',\n",
       " 'navigation_w2_max_count_comps',\n",
       " 'netapps_ns_apps_web_yomvi_http_data_mb',\n",
       " 'device_tenure_days_n2',\n",
       " 'navigation_movistar_w1_max_days_since_navigation',\n",
       " 'netapps_ns_apps_webgames_data_mb',\n",
       " 'netapps_ns_apps_jobs_timestamps',\n",
       " 'navigation_lowi_w8_sum_count',\n",
       " 'netapps_ns_apps_line_total_effective_ul_mb',\n",
       " 'orders_days_since_first_order',\n",
       " 'navigation_other_min_days_since_navigation_comps',\n",
       " 'netapps_ns_apps_qq_total_effective_ul_mb',\n",
       " 'netapps_ns_apps_dating_timestamps',\n",
       " 'netapps_ns_apps_youtube_timestamps',\n",
       " 'netapps_ns_apps_web_pepephone_days',\n",
       " 'ccc_bucket_sub_bucket_tariff_management_tv',\n",
       " 'navigation_o2_w2_distinct_days_with_navigation',\n",
       " 'navigation_orange_w1_sum_count',\n",
       " 'navigation_yoigo_w4_min_days_since_navigation',\n",
       " 'netapps_ns_apps_home_total_effective_dl_mb',\n",
       " 'ccc_bucket_sub_bucket_device_delivery_repair_referrals',\n",
       " 'incremental_rel_delta_total_max_dias_hasta_penal_srv_pending_end_date',\n",
       " 'netapps_ns_apps_twitch_days',\n",
       " 'tgs_days_since_f_inicio_bi',\n",
       " 'device_tenure_days_n3',\n",
       " 'netapps_ns_apps_bbc_days',\n",
       " 'ccc_num_abonos_tipis',\n",
       " 'ccc_raw_pagar_menos',\n",
       " 'netapps_ns_apps_twitch_data_mb',\n",
       " 'netapps_ns_apps_twitch_total_effective_dl_mb',\n",
       " 'incremental_rel_delta_bill_n4_invoicecharges',\n",
       " 'netapps_ns_apps_bbc_data_mb',\n",
       " 'netapps_ns_apps_web_masmovil_data_mb',\n",
       " 'netapps_ns_apps_books_data_mb',\n",
       " 'netapps_ns_apps_legal_days',\n",
       " 'incremental_rel_delta_bam-movil_services',\n",
       " 'incremental_abs_delta_max_data_volume_w',\n",
       " 'ccc_raw_resultado_solucionado',\n",
       " 'navigation_masmovil_w1_max_days_since_navigation',\n",
       " 'campaigns_total_camps_up_cross_sell',\n",
       " 'netapps_ns_apps_dating_days',\n",
       " 'netapps_ns_apps_web_lowi_http_total_effective_dl_mb',\n",
       " 'netapps_ns_apps_alipay_days',\n",
       " 'netapps_ns_apps_web_jazztel_total_effective_dl_mb',\n",
       " 'netapps_ns_apps_web_lowi_total_effective_dl_mb',\n",
       " 'navigation_w8_max_count_comps',\n",
       " 'incremental_abs_delta_max_data_volume_we',\n",
       " 'netapps_ns_apps_facebook_video_total_effective_dl_mb',\n",
       " 'navigation_w8_sum_distinct_days_with_navigation_vdf',\n",
       " 'incremental_abs_delta_bill_n1_debt_amount',\n",
       " 'netapps_ns_apps_reddit_days',\n",
       " 'ccc_raw_desactivacion_total',\n",
       " 'netapps_ns_apps_web_orange_https_total_effective_ul_mb',\n",
       " 'netapps_ns_apps_alipay_timestamps',\n",
       " 'tgs_days_until_fecha_fin_dto',\n",
       " 'netapps_ns_apps_tumblr_data_mb',\n",
       " 'incremental_rel_delta_total_max_dias_hasta_penal_cust_pending_end_date',\n",
       " 'incremental_rel_delta_bill_n1_amount_to_pay',\n",
       " 'netapps_ns_apps_badoo_data_mb',\n",
       " 'netapps_ns_apps_twitter_timestamps',\n",
       " 'ccc_bucket_sub_bucket_churn_cancellations_churn_cancellations_process',\n",
       " 'netapps_ns_apps_ebay_timestamps',\n",
       " 'netapps_ns_apps_googledrive_total_effective_ul_mb',\n",
       " 'netapps_ns_apps_gmail_days',\n",
       " 'ccc_bucket_bucket',\n",
       " 'additional_num_tariff_megayuser',\n",
       " 'navigation_o2_other_sum_count',\n",
       " 'netapps_ns_apps_web_pepephone_total_effective_ul_mb',\n",
       " 'netapps_ns_apps_web_yoigo_https_total_effective_ul_mb',\n",
       " 'navigation_movistar_other_max_count',\n",
       " 'netapps_ns_apps_tumblr_total_effective_ul_mb',\n",
       " 'netapps_ns_apps_web_pepephone_http_total_effective_dl_mb',\n",
       " 'navigation_vodafone_w4_distinct_days_with_navigation',\n",
       " 'netapps_ns_apps_paypal_timestamps',\n",
       " 'incremental_rel_delta_total_penal_srv_pending_n4_penal_amount',\n",
       " 'navigation_jazztel_w8_distinct_days_with_navigation',\n",
       " 'navigation_movistar_w2_sum_count',\n",
       " 'others_ind_pbma_srv',\n",
       " 'campaigns_pcg_redem_tel',\n",
       " 'navigation_orange_w2_max_days_since_navigation',\n",
       " 'netapps_ns_apps_alcohol_total_effective_dl_mb',\n",
       " 'navigation_yoigo_w2_min_days_since_navigation',\n",
       " 'netapps_ns_apps_kids_total_effective_dl_mb',\n",
       " 'tgs_sum_ind_under_use',\n",
       " 'navigation_lowi_other_sum_count',\n",
       " 'navigation_pepephone_w2_min_days_since_navigation',\n",
       " 'netapps_ns_apps_amazon_total_effective_dl_mb',\n",
       " 'navigation_pepephone_w4_min_days_since_navigation',\n",
       " 'netapps_ns_apps_education_data_mb',\n",
       " 'navigation_masmovil_w8_distinct_days_with_navigation',\n",
       " 'navigation_vodafone_w1_min_days_since_navigation',\n",
       " 'netapps_ns_apps_technology_data_mb',\n",
       " 'incremental_abs_delta_total_penal_srv_pending_n2_penal_amount',\n",
       " 'ccc_num_pbma_srv',\n",
       " 'netapps_ns_apps_web_jazztel_http_total_effective_ul_mb',\n",
       " 'netapps_ns_apps_web_movistar_http_total_effective_dl_mb',\n",
       " 'navigation_pepephone_w4_sum_count',\n",
       " 'ccc_bucket_sub_bucket_billing___postpaid_',\n",
       " 'netapps_ns_apps_facebook_total_effective_ul_mb',\n",
       " 'device_month_imei_changes',\n",
       " 'navigation_movistar_w8_max_days_since_navigation',\n",
       " 'additional_zapper_services',\n",
       " 'navigation_orange_other_distinct_days_with_navigation',\n",
       " 'netapps_ns_apps_foursquare_timestamps',\n",
       " 'ccc_bucket_',\n",
       " 'additional_pvr_services',\n",
       " 'incremental_rel_delta_total_data_volume_we',\n",
       " 'navigation_o2_w1_min_days_since_navigation',\n",
       " 'ccc_raw_averia_modem_router',\n",
       " 'ccc_bucket_1st_interaction',\n",
       " 'ccc_raw_averia_dsl',\n",
       " 'incremental_rel_delta_total_mou_we',\n",
       " 'ccc_bucket_sub_bucket_quick_closing_quick_closing',\n",
       " 'ccc_bucket_sub_bucket_product_and_service_management_standard_products',\n",
       " 'navigation_vodafone_w4_max_days_since_navigation',\n",
       " 'netapps_ns_apps_violence_days',\n",
       " 'netapps_ns_apps_reddit_timestamps',\n",
       " 'navigation_movistar_w1_max_count',\n",
       " 'incremental_rel_delta_movil_services',\n",
       " 'navigation_vodafone_w8_sum_count',\n",
       " 'netapps_ns_apps_fashion_days',\n",
       " 'incremental_abs_delta_max_connections_we',\n",
       " 'netapps_ns_apps_web_vodafone_timestamps',\n",
       " 'navigation_pepephone_w4_max_count',\n",
       " 'device_tenure_days_n4',\n",
       " 'navigation_vodafone_w4_min_days_since_navigation',\n",
       " 'netapps_ns_apps_auto_total_effective_ul_mb',\n",
       " 'ccc_raw_averia_fibra',\n",
       " 'incremental_abs_delta_max_data_per_connection_we',\n",
       " 'ccc_raw_cobro',\n",
       " 'netapps_ns_apps_family_total_effective_dl_mb',\n",
       " 'netapps_ns_apps_web_orange_http_data_mb',\n",
       " 'navigation_lowi_w4_max_count',\n",
       " 'incremental_abs_delta_total_connections',\n",
       " 'netapps_ns_apps_github_total_effective_ul_mb',\n",
       " 'orders_days_since_last_order',\n",
       " 'ccc_bucket_churn_cancellations',\n",
       " 'ccc_bucket_sub_bucket_churn_cancellations_referrals',\n",
       " 'incremental_rel_delta_max_data_per_connection_we',\n",
       " 'navigation_jazztel_w1_sum_count',\n",
       " 'navigation_pepephone_w1_min_days_since_navigation',\n",
       " 'ccc_bucket_sub_bucket_collections_referrals',\n",
       " 'campaigns_pcg_redem_sat',\n",
       " 'navigation_o2_w1_sum_count',\n",
       " 'incremental_rel_delta_num_futbol',\n",
       " 'navigation_w1_sum_count_vdf',\n",
       " 'netapps_ns_apps_web_marcacom_https_days',\n",
       " 'netapps_ns_apps_wikipedia_days',\n",
       " 'ccc_bucket_sub_bucket_dsl_fiber_incidences_and_support_dsl_incidences',\n",
       " 'netapps_ns_apps_qq_total_effective_dl_mb',\n",
       " 'navigation_masmovil_w2_max_days_since_navigation',\n",
       " 'netapps_ns_apps_astrology_data_mb',\n",
       " 'netapps_ns_apps_web_yoigo_https_data_mb',\n",
       " 'navigation_orange_w8_max_days_since_navigation',\n",
       " 'incremental_rel_delta_bill_n1_debt_amount',\n",
       " 'netapps_ns_apps_web_masmovil_http_total_effective_dl_mb',\n",
       " 'netapps_ns_apps_vimeo_timestamps',\n",
       " 'netapps_ns_apps_dropbox_total_effective_dl_mb',\n",
       " 'netapps_ns_apps_linkedin_data_mb',\n",
       " 'navigation_vodafone_w1_distinct_days_with_navigation',\n",
       " 'ccc_raw_consulta_tecnica_tv',\n",
       " 'netapps_ns_apps_whatsapp_voice_calling_total_effective_dl_mb',\n",
       " 'navigation_last2w_min_days_since_navigation_comps',\n",
       " 'navigation_o2_w2_max_days_since_navigation',\n",
       " 'netapps_ns_apps_googlemaps_timestamps',\n",
       " 'incremental_abs_delta_num_fixed',\n",
       " 'netapps_ns_apps_facebookmessages_data_mb',\n",
       " 'navigation_yoigo_w1_max_count',\n",
       " 'netapps_ns_apps_legal_total_effective_dl_mb',\n",
       " 'tgs_sum_ind_over_use',\n",
       " 'netapps_ns_apps_youtube_total_effective_ul_mb',\n",
       " 'netapps_ns_apps_zynga_total_effective_dl_mb',\n",
       " 'netapps_ns_apps_music_total_effective_ul_mb',\n",
       " 'netapps_ns_apps_googlemaps_total_effective_dl_mb',\n",
       " 'incremental_abs_delta_fbb_services',\n",
       " 'netapps_ns_apps_taobao_total_effective_dl_mb',\n",
       " 'ccc_ind_tipif_factura',\n",
       " 'ccc_ind_tipif_uci',\n",
       " 'incremental_rel_delta_total_mou_w',\n",
       " 'netapps_ns_apps_whatsapp_voice_calling_total_effective_ul_mb',\n",
       " 'navigation_w2_sum_distinct_days_with_navigation_vdf',\n",
       " 'navigation_lowi_w4_min_days_since_navigation',\n",
       " 'netapps_ns_apps_arts_days',\n",
       " 'ccc_bucket_new_adds_process',\n",
       " 'campaigns_pcg_redem_universal',\n",
       " 'netapps_ns_apps_medical_days',\n",
       " 'netapps_ns_apps_web_masmovil_http_total_effective_ul_mb',\n",
       " 'netapps_ns_apps_web_yomvi_https_timestamps',\n",
       " 'netapps_ns_apps_groupon_total_effective_ul_mb',\n",
       " 'netapps_ns_apps_wechat_total_effective_dl_mb',\n",
       " 'netapps_ns_apps_chats_total_effective_dl_mb',\n",
       " 'netapps_ns_apps_alipay_total_effective_dl_mb',\n",
       " 'netapps_ns_apps_wikipedia_timestamps',\n",
       " 'netapps_ns_apps_auto_days',\n",
       " 'netapps_ns_apps_web_orange_data_mb',\n",
       " 'navigation_last2w_num_distinct_comps',\n",
       " 'navigation_masmovil_other_max_count',\n",
       " 'netapps_ns_apps_web_orange_http_total_effective_ul_mb',\n",
       " 'additional_num_tariff_smart',\n",
       " 'incremental_abs_delta_max_num_calls_we',\n",
       " 'netapps_ns_apps_business_total_effective_ul_mb',\n",
       " 'netapps_ns_apps_bbc_total_effective_ul_mb',\n",
       " 'navigation_yoigo_other_distinct_days_with_navigation',\n",
       " 'netapps_ns_apps_linkedin_timestamps',\n",
       " 'ccc_bucket_sub_bucket_voice_and_mobile_data_incidences_and_support_modem_router_incidences',\n",
       " 'ccc_raw_informacion',\n",
       " 'incremental_abs_delta_total_penal_cust_pending_n5_penal_amount',\n",
       " 'netapps_ns_apps_web_vodafone_total_effective_dl_mb',\n",
       " 'ccc_raw_incidencia_sgi',\n",
       " 'netapps_ns_apps_yandex_total_effective_ul_mb',\n",
       " 'netapps_ns_apps_web_yomvi_https_total_effective_dl_mb',\n",
       " 'netapps_ns_apps_gmail_total_effective_dl_mb',\n",
       " 'orders_num_orders',\n",
       " 'netapps_ns_apps_web_yoigo_http_timestamps',\n",
       " 'netapps_ns_apps_web_masmovil_https_timestamps',\n",
       " 'netapps_ns_apps_web_o2_data_mb',\n",
       " 'netapps_ns_apps_news_total_effective_ul_mb',\n",
       " 'incremental_abs_delta_total_data_volume',\n",
       " 'navigation_vodafone_w4_sum_count',\n",
       " 'incremental_rel_delta_total_penal_srv_pending_n3_penal_amount',\n",
       " 'navigation_orange_other_min_days_since_navigation',\n",
       " 'netapps_ns_apps_web_pepephone_https_days',\n",
       " 'navigation_masmovil_w8_sum_count',\n",
       " 'netapps_ns_apps_googlemaps_days',\n",
       " 'navigation_masmovil_w8_min_days_since_navigation',\n",
       " 'netapps_ns_apps_googledrive_timestamps',\n",
       " 'netapps_ns_apps_googleplay_days',\n",
       " 'netapps_ns_apps_video_data_mb',\n",
       " 'netapps_ns_apps_technology_total_effective_dl_mb',\n",
       " 'netapps_ns_apps_web_movistar_timestamps',\n",
       " 'netapps_ns_apps_gmail_timestamps',\n",
       " 'netapps_ns_apps_facebookmessages_total_effective_dl_mb',\n",
       " 'netapps_ns_apps_whatsapp_timestamps',\n",
       " 'ccc_bucket_sub_bucket_tariff_management_data',\n",
       " 'netapps_ns_apps_food_total_effective_dl_mb',\n",
       " 'ccc_raw_consulta_tecnica_neba',\n",
       " 'netapps_ns_apps_music_total_effective_dl_mb',\n",
       " 'ccc_raw_averia_resto',\n",
       " 'orders_avg_days_per_order',\n",
       " 'netapps_ns_apps_web_yoigo_http_total_effective_ul_mb',\n",
       " 'netapps_ns_apps_violence_total_effective_dl_mb',\n",
       " 'navigation_w2_sum_count_comps',\n",
       " 'navigation_lowi_other_max_days_since_navigation',\n",
       " 'netapps_ns_apps_business_days',\n",
       " 'netapps_ns_apps_web_pepephone_http_timestamps',\n",
       " 'navigation_o2_w8_distinct_days_with_navigation',\n",
       " 'navigation_o2_w8_sum_count',\n",
       " 'netapps_ns_apps_instagram_data_mb',\n",
       " 'ccc_bucket_sub_bucket_tariff_management_data_tariff',\n",
       " 'ccc_bucket_sub_bucket_collections_collections_process',\n",
       " 'navigation_w2_num_distinct_comps',\n",
       " 'netapps_ns_apps_science_days',\n",
       " 'netapps_ns_apps_web_yomvi_http_timestamps',\n",
       " 'netapps_ns_apps_badoo_days',\n",
       " 'navigation_masmovil_w2_min_days_since_navigation',\n",
       " 'netapps_ns_apps_auto_timestamps',\n",
       " 'ccc_raw_consulta_tecnica_modem_router',\n",
       " 'netapps_ns_apps_adult_days',\n",
       " 'netapps_ns_apps_pinterest_total_effective_ul_mb',\n",
       " 'netapps_ns_apps_classified_total_effective_dl_mb',\n",
       " 'netapps_ns_apps_web_orange_http_days',\n",
       " 'navigation_masmovil_w4_max_count',\n",
       " 'incremental_rel_delta_bill_n5_amount_to_pay',\n",
       " 'netapps_ns_apps_whatsapp_media_message_total_effective_ul_mb',\n",
       " 'netapps_ns_apps_web_lowi_https_total_effective_ul_mb',\n",
       " 'navigation_w4_num_distinct_comps',\n",
       " 'netapps_ns_apps_web_orange_total_effective_dl_mb',\n",
       " 'navigation_pepephone_other_min_days_since_navigation',\n",
       " 'incremental_abs_delta_total_connections_w',\n",
       " 'netapps_ns_apps_web_masmovil_days',\n",
       " 'netapps_ns_apps_skype_days',\n",
       " 'navigation_o2_w2_min_days_since_navigation',\n",
       " 'netapps_ns_apps_steam_total_effective_dl_mb',\n",
       " 'navigation_jazztel_w4_min_days_since_navigation',\n",
       " 'netapps_ns_apps_web_movistar_data_mb',\n",
       " 'netapps_ns_apps_groupon_timestamps',\n",
       " 'navigation_vodafone_w4_max_count',\n",
       " 'navigation_orange_w4_sum_count',\n",
       " 'netapps_ns_apps_whatsapp_data_mb',\n",
       " 'netapps_ns_apps_home_data_mb',\n",
       " 'ccc_ind_tipif_info_comp',\n",
       " 'netapps_ns_apps_alipay_data_mb',\n",
       " 'incremental_rel_delta_total_futbol_price',\n",
       " 'incremental_rel_delta_bill_n4_amount_to_pay',\n",
       " 'netapps_ns_apps_web_pepephone_https_total_effective_ul_mb',\n",
       " 'netapps_ns_apps_finance_days',\n",
       " 'netapps_ns_apps_reddit_total_effective_ul_mb',\n",
       " 'navigation_movistar_w8_min_days_since_navigation',\n",
       " 'netapps_ns_apps_finance_data_mb',\n",
       " ...]"
      ]
     },
     "execution_count": 37,
     "metadata": {},
     "output_type": "execute_result"
    }
   ],
   "source": [
    "numerical_feats"
   ]
  },
  {
   "cell_type": "code",
   "execution_count": 74,
   "metadata": {},
   "outputs": [],
   "source": [
    "apps = [name_ for name_ in numerical_feats if name_.startswith('netapps')]\n",
    "tgs = [name_ for name_ in numerical_feats if name_.startswith('tgs')]\n",
    "order = [name_ for name_ in numerical_feats if name_.startswith('orders')]\n",
    "pbms = [name_ for name_ in numerical_feats if name_.startswith('pbms')] + ['others_ind_pbma_srv']\n",
    "device = [name_ for name_ in numerical_feats if name_.startswith('device')]\n",
    "ccc = [name_ for name_ in numerical_feats if name_.startswith('ccc')]\n",
    "campaigns = [name_ for name_ in numerical_feats if name_.startswith('campaigns')]\n",
    "\n",
    "incremental_bill = [name_ for name_ in numerical_feats if name_.startswith('incremental') and ('bill' in name_ or 'price' in name_ or 'tariff' in name_)]\n",
    "incremental_penal = [name_ for name_ in numerical_feats if name_.startswith('incremental') and 'penal' in name_]\n",
    "incremental_data = [name_ for name_ in numerical_feats if name_.startswith('incremental') and ('total_data' in name_ or 'max_mou' in name_ or 'max_connections' in name_ or 'data_per' in name_ or 'total_connections' in name_ or 'max_data' in name_ or 'max_num' in name_ or 'total_mou' in name_)]\n",
    "incremental_services = [name_ for name_ in numerical_feats if name_.startswith('incremental') and ('services' in name_ or 'delta_num_' in name_)]\n",
    "\n",
    "additional_bill = [name_ for name_ in numerical_feats if name_.startswith('additional') and ('bill' in name_ or 'price' in name_)] + ['additional_total_tv_total_charges']\n",
    "additional_tariff = [name_ for name_ in numerical_feats if name_.startswith('additional') and ('num_tariff' in name_ )]\n",
    "additional_days_since = [name_ for name_ in numerical_feats if name_.startswith('additional') and ('dias_desde' in name_ )]\n",
    "additional_services = [name_ for name_ in numerical_feats if name_.startswith('additional') and ('services' in name_ )] + ['additional_num_2lins']\n",
    "\n",
    "navigation = [name_ for name_ in numerical_feats if name_.startswith('navigation')]"
   ]
  },
  {
   "cell_type": "code",
   "execution_count": 172,
   "metadata": {},
   "outputs": [],
   "source": [
    "penal_var = tgs + incremental_penal\n",
    "inter_var = order + campaigns + ccc + pbms\n",
    "use_var = apps + incremental_data \n",
    "bill_var = incremental_bill + additional_bill\n",
    "serv_var = incremental_services + additional_services + additional_tariff\n",
    "spin_var = navigation + additional_days_since"
   ]
  },
  {
   "cell_type": "code",
   "execution_count": 171,
   "metadata": {
    "scrolled": true
   },
   "outputs": [
    {
     "data": {
      "text/plain": [
       "['pbms_srv_ind_averias',\n",
       " 'pbms_srv_num_reclamaciones',\n",
       " 'pbms_srv_ind_reclamaciones',\n",
       " 'pbms_srv_ind_soporte',\n",
       " 'pbms_srv_num_soporte_tecnico',\n",
       " 'pbms_srv_ind_degrad_adsl',\n",
       " 'pbms_srv_num_averias',\n",
       " 'others_ind_pbma_srv']"
      ]
     },
     "execution_count": 171,
     "metadata": {},
     "output_type": "execute_result"
    }
   ],
   "source": [
    "pbms"
   ]
  },
  {
   "cell_type": "code",
   "execution_count": 173,
   "metadata": {},
   "outputs": [],
   "source": [
    "aa = [penal_var, inter_var, use_var]"
   ]
  },
  {
   "cell_type": "code",
   "execution_count": 175,
   "metadata": {},
   "outputs": [
    {
     "name": "stdout",
     "output_type": "stream",
     "text": [
      "['tgs_days_since_f_inicio_bi_exp', 'tgs_has_discount', 'tgs_days_until_f_fin_bi_exp', 'tgs_days_since_f_inicio_bi', 'tgs_days_until_fecha_fin_dto', 'tgs_sum_ind_under_use', 'tgs_sum_ind_over_use', 'tgs_days_until_f_fin_bi', 'incremental_abs_delta_total_penal_cust_pending_n4_penal_amount', 'incremental_abs_delta_total_max_dias_hasta_penal_srv_pending_end_date', 'incremental_rel_delta_total_penal_cust_pending_n1_penal_amount', 'incremental_abs_delta_total_penal_srv_pending_n3_penal_amount', 'incremental_abs_delta_total_penal_cust_pending_n3_penal_amount', 'incremental_abs_delta_total_penal_cust_pending_n1_penal_amount', 'incremental_rel_delta_total_penal_srv_pending_n1_penal_amount', 'incremental_abs_delta_total_penal_srv_pending_n5_penal_amount', 'incremental_abs_delta_total_max_dias_hasta_penal_cust_pending_end_date', 'incremental_rel_delta_total_penal_srv_pending_n5_penal_amount', 'incremental_rel_delta_total_penal_cust_pending_n3_penal_amount', 'incremental_rel_delta_total_penal_cust_pending_n5_penal_amount', 'incremental_rel_delta_total_max_dias_hasta_penal_srv_pending_end_date', 'incremental_rel_delta_total_max_dias_hasta_penal_cust_pending_end_date', 'incremental_rel_delta_total_penal_srv_pending_n4_penal_amount', 'incremental_abs_delta_total_penal_srv_pending_n2_penal_amount', 'incremental_abs_delta_total_penal_cust_pending_n5_penal_amount', 'incremental_rel_delta_total_penal_srv_pending_n3_penal_amount', 'incremental_abs_delta_total_penal_cust_pending_n2_penal_amount', 'incremental_rel_delta_total_penal_cust_pending_n2_penal_amount', 'incremental_rel_delta_total_penal_cust_pending_n4_penal_amount', 'incremental_abs_delta_total_penal_srv_pending_n4_penal_amount', 'incremental_abs_delta_total_penal_srv_pending_n1_penal_amount', 'incremental_rel_delta_total_penal_srv_pending_n2_penal_amount']\n",
      "Holaaa\n",
      "['orders_days_since_first_order', 'orders_days_since_last_order', 'orders_num_orders', 'orders_avg_days_per_order', 'campaigns_total_camps_sms', 'campaigns_total_redem_retention_voice', 'campaigns_total_redem_sms', 'campaigns_total_redem_tel', 'campaigns_pcg_redem_mms', 'campaigns_pcg_redem_ema', 'campaigns_total_redem_control', 'campaigns_total_camps_control', 'campaigns_total_redem_mms', 'campaigns_total_redem_ema', 'campaigns_total_camps_sat', 'campaigns_total_camps_ema', 'campaigns_total_camps_retention_voice', 'campaigns_total_redem_sat', 'campaigns_total_redem_up_cross_sell', 'campaigns_total_camps_mms', 'campaigns_total_camps_tel', 'campaigns_pcg_redem_control', 'campaigns_total_redem_universal', 'campaigns_pcg_redem_sms', 'campaigns_total_camps_universal', 'campaigns_total_camps_up_cross_sell', 'campaigns_pcg_redem_tel', 'campaigns_pcg_redem_sat', 'campaigns_pcg_redem_universal', 'campaigns_pcg_redem_up_cross_sell', 'campaigns_total_redem_target', 'campaigns_pcg_redem_target', 'campaigns_total_camps_target', 'campaigns_pcg_redem_retention_voice', 'ccc_bucket_sub_bucket_device_delivery_repair_transfers', 'ccc_bucket_sub_bucket_other_customer_information_management_customer_data', 'ccc_bucket_sub_bucket_churn_cancellations_transfers', 'ccc_raw_ofrecimiento', 'ccc_bucket_sub_bucket_new_adds_process_voice_line', 'ccc_raw_resultado_no_retenido', 'ccc_num_tipis_perm_dctos', 'ccc_bucket_sub_bucket_churn_cancellations_other_churn_issues', 'ccc_bucket_sub_bucket_bucket_sub_bucket', 'ccc_bucket_sub_bucket_device_upgrade_tv', 'ccc_raw_resultado_bajas', 'ccc_raw_consulta_tecnica_fibra', 'ccc_bucket_sub_bucket_device_upgrade_device_upgrade_order', 'ccc_bucket_sub_bucket_other_customer_information_management_churn_cancellations_process', 'ccc_bucket_sub_bucket_device_upgrade_device_delivery_repair', 'ccc_ind_tipif_perm_dctos', 'ccc_bucket_sub_bucket_other_customer_information_management_referrals', 'ccc_bucket_sub_bucket_voice_and_mobile_data_incidences_and_support_mobile_data_support', 'ccc_raw_desactivacion_tv', 'ccc_raw_desactivacion_fijo', 'ccc_bucket_sub_bucket_other_customer_information_management_transfers', 'ccc_num_tipis_info_comp', 'ccc_bucket_sub_bucket_tariff_management_transfers', 'ccc_bucket_sub_bucket_tariff_management_referrals', 'ccc_bucket_sub_bucket_device_upgrade_device_repair', 'ccc_most_common_bucket_interactions', 'ccc_raw_incidencia_provision_neba', 'ccc_bucket_sub_bucket_device_delivery_repair_network', 'ccc_bucket_sub_bucket_new_adds_process_fix_line', 'ccc_ind_tipif_info_nocomp', 'ccc_bucket_sub_bucket_product_and_service_management_transfers', 'ccc_bucket_quick_closing', 'ccc_raw_provision_movil', 'ccc_bucket_sub_bucket_product_and_service_management_network', 'ccc_raw_productos_voz', 'ccc_bucket_sub_bucket_dsl_fiber_incidences_and_support_network', 'ccc_days_since_latest_interaction', 'ccc_bucket_sub_bucket_device_delivery_repair_device_upgrade', 'ccc_bucket_sub_bucket_voice_and_mobile_data_incidences_and_support_network', 'ccc_raw_portabilidad_inversa', 'ccc_raw_baja', 'ccc_raw_incidencia_provision_fibra', 'ccc_bucket_sub_bucket_collections_debt_recovery', 'ccc_bucket_product_and_service_management', 'ccc_bucket_sub_bucket_device_upgrade_device_information', 'ccc_bucket_tariff_management', 'ccc_bucket_sub_bucket_collections_transfers', 'ccc_num_tipis_info', 'ccc_bucket_sub_bucket_device_upgrade_transfers', 'ccc_bucket_sub_bucket_product_and_service_management_simlock', 'ccc_raw_alta', 'ccc_bucket_sub_bucket_churn_cancellations_tv', 'ccc_raw_consulta_ficha', 'ccc_raw_averia_tv', 'ccc_raw_productos_datos', 'ccc_bucket_prepaid_balance', 'ccc_bucket_sub_bucket_other_customer_information_management_tv', 'ccc_bucket_sub_bucket_device_delivery_repair_device_delivery_repair', 'ccc_bucket_sub_bucket_billing___postpaid_transfers', 'ccc_bucket_sub_bucket_product_and_service_management_prepaid_initial_balance', 'ccc_bucket_sub_bucket_new_adds_process_prepaid_initial_balance', 'ccc_bucket_sub_bucket_device_delivery_repair_device_repair', 'ccc_bucket_sub_bucket_other_customer_information_management_customer_service_process', 'ccc_bucket_sub_bucket_new_adds_process_device_upgrade_order', 'ccc_raw_portabilidad', 'ccc_raw_provision_resto', 'ccc_bucket_sub_bucket_billing___postpaid_other_billing_issues', 'ccc_raw_consulta_tecnica_resto', 'ccc_bucket_sub_bucket_dsl_fiber_incidences_and_support_referrals', 'ccc_bucket_sub_bucket_dsl_fiber_incidences_and_support_modem_router_incidences', 'ccc_raw_desactivacion_usb', 'ccc_bucket_device_upgrade', 'ccc_raw_resultado_informacion', 'ccc_ind_tipif_info', 'ccc_bucket_sub_bucket_voice_and_mobile_data_incidences_and_support_tv', 'ccc_bucket_sub_bucket_product_and_service_management_voice_tariff', 'ccc_raw_provision_dsl', 'ccc_bucket_sub_bucket_new_adds_process_new_adds', 'ccc_raw_transferencia', 'ccc_raw_resultado_envio_tecnico', 'ccc_raw_resultado_abono', 'ccc_bucket_sub_bucket_prepaid_balance_transfers', 'ccc_bucket_sub_bucket_tariff_management_voice_line', 'ccc_bucket_sub_bucket_billing___postpaid_invoice_clarification', 'ccc_bucket_sub_bucket_tariff_management_voice_tariff', 'ccc_raw_resultado_no_aplica', 'ccc_num_interactions', 'ccc_bucket_sub_bucket_new_adds_process_tv', 'ccc_bucket_latest_interaction', 'ccc_bucket_sub_bucket_voice_and_mobile_data_incidences_and_support_transfers', 'ccc_num_tipis_factura', 'ccc_raw_consulta_tecnica_movil', 'ccc_raw_desactivacion_ba_movil_tv', 'ccc_bucket_sub_bucket_new_adds_process_voice', 'ccc_bucket_sub_bucket_device_upgrade_referrals', 'ccc_bucket_sub_bucket_dsl_fiber_incidences_and_support_fibra_incidences', 'ccc_bucket_sub_bucket_dsl_fiber_incidences_and_support_modem_router_support', 'ccc_num_ivr_interactions', 'ccc_bucket_sub_bucket_device_delivery_repair_new_adds', 'ccc_bucket_sub_bucket_product_and_service_management_tv', 'ccc_raw_desactivacion_resto', 'ccc_bucket_sub_bucket_other_customer_information_management_prepaid_initial_balance', 'ccc_bucket_billing___postpaid', 'ccc_num_tipis_info_nocomp', 'ccc_bucket_sub_bucket_other_customer_information_management_pin_puk', 'ccc_raw_averia_movil', 'ccc_raw_desactivacion_net', 'ccc_bucket_sub_bucket_dsl_fiber_incidences_and_support_transfers', 'ccc_bucket_sub_bucket_billing___postpaid_tv', 'ccc_bucket_sub_bucket_voice_and_mobile_data_incidences_and_support_modem_router_support', 'ccc_ind_tipif_abonos', 'ccc_raw_consulta_resto', 'ccc_bucket_sub_bucket_product_and_service_management_referrals', 'ccc_bucket_sub_bucket_voice_and_mobile_data_incidences_and_support_mobile_data_incidences', 'ccc_bucket_sub_bucket_tariff_management_network', 'ccc_raw_incidencia_tecnica', 'ccc_bucket_sub_bucket_dsl_fiber_incidences_and_support_fibra_support', 'ccc_bucket_sub_bucket_device_delivery_repair_device_upgrade_order', 'ccc_bucket_sub_bucket_new_adds_process_transfers', 'ccc_bucket_sub_bucket_tariff_management_voice', 'ccc_num_incidencias', 'ccc_bucket_sub_bucket_tariff_management_tv', 'ccc_bucket_sub_bucket_device_delivery_repair_referrals', 'ccc_num_abonos_tipis', 'ccc_raw_pagar_menos', 'ccc_raw_resultado_solucionado', 'ccc_raw_desactivacion_total', 'ccc_bucket_sub_bucket_churn_cancellations_churn_cancellations_process', 'ccc_bucket_bucket', 'ccc_num_pbma_srv', 'ccc_bucket_sub_bucket_billing___postpaid_', 'ccc_bucket_', 'ccc_raw_averia_modem_router', 'ccc_bucket_1st_interaction', 'ccc_raw_averia_dsl', 'ccc_bucket_sub_bucket_quick_closing_quick_closing', 'ccc_bucket_sub_bucket_product_and_service_management_standard_products', 'ccc_raw_averia_fibra', 'ccc_raw_cobro', 'ccc_bucket_churn_cancellations', 'ccc_bucket_sub_bucket_churn_cancellations_referrals', 'ccc_bucket_sub_bucket_collections_referrals', 'ccc_bucket_sub_bucket_dsl_fiber_incidences_and_support_dsl_incidences', 'ccc_raw_consulta_tecnica_tv', 'ccc_ind_tipif_factura', 'ccc_ind_tipif_uci', 'ccc_bucket_new_adds_process', 'ccc_bucket_sub_bucket_voice_and_mobile_data_incidences_and_support_modem_router_incidences', 'ccc_raw_informacion', 'ccc_raw_incidencia_sgi', 'ccc_bucket_sub_bucket_tariff_management_data', 'ccc_raw_consulta_tecnica_neba', 'ccc_raw_averia_resto', 'ccc_bucket_sub_bucket_tariff_management_data_tariff', 'ccc_bucket_sub_bucket_collections_collections_process', 'ccc_raw_consulta_tecnica_modem_router', 'ccc_ind_tipif_info_comp', 'ccc_bucket_dsl_fiber_incidences_and_support', 'ccc_bucket_device_delivery_repair', 'ccc_raw_incidencia_provision_dsl', 'ccc_bucket_sub_bucket_prepaid_balance_top_up_process', 'ccc_num_diff_buckets', 'ccc_bucket_sub_bucket_other_customer_information_management_simlock', 'ccc_bucket_sub_bucket_voice_and_mobile_data_incidences_and_support_sim', 'ccc_bucket_sub_bucket_device_upgrade_device_upgrade', 'ccc_bucket_sub_bucket_product_and_service_management_contracted_products_dsl', 'ccc_raw_resultado_retenido', 'ccc_raw_factura', 'ccc_bucket_sub_bucket_collections_tv', 'ccc_bucket_sub_bucket_device_delivery_repair_device_information', 'ccc_raw_provision_neba', 'ccc_raw_desactivacion_movil', 'ccc_raw_incidencia_resto', 'ccc_raw_averia_neba', 'ccc_raw_cierre', 'ccc_bucket_other_customer_information_management', 'ccc_raw_consulta_tecnica_dsl', 'ccc_bucket_sub_bucket_collections_negotiation', 'ccc_bucket_voice_and_mobile_data_incidences_and_support', 'ccc_bucket_sub_bucket_churn_cancellations_negotiation', 'ccc_bucket_sub_bucket_dsl_fiber_incidences_and_support_tv', 'ccc_raw_productos_resto', 'ccc_bucket_sub_bucket__', 'ccc_num_na_buckets', 'ccc_bucket_collections', 'ccc_bucket_sub_bucket_dsl_fiber_incidences_and_support_dsl_support', 'ccc_num_averias', 'ccc_raw_averia_fijo', 'ccc_bucket_sub_bucket_dsl_fiber_incidences_and_support_mobile_data_incidences', 'ccc_days_since_first_interaction', 'ccc_raw_resultado_transferencia', 'ccc_raw_resultado_escalo', 'ccc_bucket_sub_bucket_voice_and_mobile_data_incidences_and_support_referrals', 'ccc_raw_provision_fibra', 'ccc_bucket_sub_bucket_churn_cancellations_network', 'ccc_bucket_sub_bucket_new_adds_process_referrals', 'ccc_bucket_sub_bucket_billing___postpaid_billing_errors', 'ccc_bucket_sub_bucket_device_delivery_repair_sim', 'ccc_raw_incidencia_provision_movil', 'ccc_bucket_sub_bucket_product_and_service_management_contracted_products', 'ccc_raw_resultado_reclamacion', 'ccc_raw_precios', 'pbms_srv_ind_averias', 'pbms_srv_num_reclamaciones', 'pbms_srv_ind_reclamaciones', 'pbms_srv_ind_soporte', 'pbms_srv_num_soporte_tecnico', 'pbms_srv_ind_degrad_adsl', 'pbms_srv_num_averias', 'others_ind_pbma_srv']\n",
      "Holaaa\n",
      "['netapps_ns_apps_web_yomvi_http_total_effective_ul_mb', 'netapps_ns_apps_food_total_effective_ul_mb', 'netapps_ns_apps_web_pepephone_data_mb', 'netapps_ns_apps_facebook_timestamps', 'netapps_ns_apps_adult_total_effective_dl_mb', 'netapps_ns_apps_taobao_data_mb', 'netapps_ns_apps_tumblr_days', 'netapps_ns_apps_dropbox_timestamps', 'netapps_ns_apps_pets_days', 'netapps_ns_apps_alcohol_data_mb', 'netapps_ns_apps_steam_data_mb', 'netapps_ns_apps_wikipedia_data_mb', 'netapps_ns_apps_webgames_total_effective_dl_mb', 'netapps_ns_apps_sports_days', 'netapps_ns_apps_baidu_data_mb', 'netapps_ns_apps_samsung_timestamps', 'netapps_ns_apps_web_movistar_https_total_effective_ul_mb', 'netapps_ns_apps_web_jazztel_https_timestamps', 'netapps_ns_apps_video_days', 'netapps_ns_apps_facebook_video_data_mb', 'netapps_ns_apps_apple_total_effective_dl_mb', 'netapps_ns_apps_video_timestamps', 'netapps_ns_apps_netflixvideo_total_effective_dl_mb', 'netapps_ns_apps_web_yoigo_http_data_mb', 'netapps_ns_apps_qq_days', 'netapps_ns_apps_booking_timestamps', 'netapps_ns_apps_web_orange_total_effective_ul_mb', 'netapps_ns_apps_facebook_days', 'netapps_ns_apps_gambling_total_effective_ul_mb', 'netapps_ns_apps_booking_data_mb', 'netapps_ns_apps_facebook_total_effective_dl_mb', 'netapps_ns_apps_line_timestamps', 'netapps_ns_apps_groupon_days', 'netapps_ns_apps_books_total_effective_dl_mb', 'netapps_ns_apps_science_total_effective_dl_mb', 'netapps_ns_apps_music_data_mb', 'netapps_ns_apps_web_movistar_https_timestamps', 'netapps_ns_apps_facebook_data_mb', 'netapps_ns_apps_web_pepephone_timestamps', 'netapps_ns_apps_itunes_data_mb', 'netapps_ns_apps_dropbox_days', 'netapps_ns_apps_hacking_data_mb', 'netapps_ns_apps_web_jazztel_http_days', 'netapps_ns_apps_web_jazztel_http_data_mb', 'netapps_ns_apps_youtube_days', 'netapps_ns_apps_technology_timestamps', 'netapps_ns_apps_adultweb_days', 'netapps_ns_apps_twitter_total_effective_ul_mb', 'netapps_ns_apps_hacking_total_effective_ul_mb', 'netapps_ns_apps_skype_total_effective_ul_mb', 'netapps_ns_apps_finance_total_effective_dl_mb', 'netapps_ns_apps_gambling_timestamps', 'netapps_ns_apps_violence_timestamps', 'netapps_ns_apps_badoo_total_effective_dl_mb', 'netapps_ns_apps_web_lowi_days', 'netapps_ns_apps_astrology_total_effective_dl_mb', 'netapps_ns_apps_adult_data_mb', 'netapps_ns_apps_adultweb_total_effective_ul_mb', 'netapps_ns_apps_sports_total_effective_ul_mb', 'netapps_ns_apps_gambling_data_mb', 'netapps_ns_apps_socialnetwork_timestamps', 'netapps_ns_apps_audio_timestamps', 'netapps_ns_apps_food_data_mb', 'netapps_ns_apps_steam_days', 'netapps_ns_apps_taobao_timestamps', 'netapps_ns_apps_twitter_data_mb', 'netapps_ns_apps_accuweather_total_effective_ul_mb', 'netapps_ns_apps_web_movistar_http_total_effective_ul_mb', 'netapps_ns_apps_booking_days', 'netapps_ns_apps_web_o2_http_days', 'netapps_ns_apps_travel_total_effective_ul_mb', 'netapps_ns_apps_web_movistar_http_timestamps', 'netapps_ns_apps_socialnetwork_total_effective_ul_mb', 'netapps_ns_apps_home_timestamps', 'netapps_ns_apps_dating_data_mb', 'netapps_ns_apps_ebay_data_mb', 'netapps_ns_apps_line_days', 'netapps_ns_apps_web_lowi_total_effective_ul_mb', 'netapps_ns_apps_googledrive_days', 'netapps_ns_apps_shopping_timestamps', 'netapps_ns_apps_web_yoigo_https_total_effective_dl_mb', 'netapps_ns_apps_classified_total_effective_ul_mb', 'netapps_ns_apps_audio_days', 'netapps_ns_apps_googlemaps_total_effective_ul_mb', 'netapps_ns_apps_jobs_total_effective_ul_mb', 'netapps_ns_apps_web_marcacom_http_timestamps', 'netapps_ns_apps_netflixvideo_total_effective_ul_mb', 'netapps_ns_apps_web_jazztel_https_total_effective_ul_mb', 'netapps_ns_apps_youtube_total_effective_dl_mb', 'netapps_ns_apps_chats_total_effective_ul_mb', 'netapps_ns_apps_alipay_total_effective_ul_mb', 'netapps_ns_apps_web_lowi_http_data_mb', 'netapps_ns_apps_googleearth_total_effective_ul_mb', 'netapps_ns_apps_bbc_timestamps', 'netapps_ns_apps_web_orange_https_days', 'netapps_ns_apps_web_jazztel_data_mb', 'netapps_ns_apps_education_days', 'netapps_ns_apps_googlemaps_data_mb', 'netapps_ns_apps_steam_timestamps', 'netapps_ns_apps_web_marcacom_http_days', 'netapps_ns_apps_arts_data_mb', 'netapps_ns_apps_videostreaming_data_mb', 'netapps_ns_apps_wechat_data_mb', 'netapps_ns_apps_taobao_days', 'netapps_ns_apps_web_yoigo_data_mb', 'netapps_ns_apps_googleearth_data_mb', 'netapps_ns_apps_web_marcacom_http_total_effective_ul_mb', 'netapps_ns_apps_web_yomvi_https_data_mb', 'netapps_ns_apps_web_pepephone_https_data_mb', 'netapps_ns_apps_googleplay_timestamps', 'netapps_ns_apps_audio_data_mb', 'netapps_ns_apps_adultweb_data_mb', 'netapps_ns_apps_netflix_days', 'netapps_ns_apps_web_movistar_http_data_mb', 'netapps_ns_apps_web_o2_http_data_mb', 'netapps_ns_apps_webgames_timestamps', 'netapps_ns_apps_googleplay_total_effective_ul_mb', 'netapps_ns_apps_web_o2_timestamps', 'netapps_ns_apps_gambling_days', 'netapps_ns_apps_youtube_data_mb', 'netapps_ns_apps_politics_days', 'netapps_ns_apps_googledrive_data_mb', 'netapps_ns_apps_web_jazztel_https_data_mb', 'netapps_ns_apps_accuweather_days', 'netapps_ns_apps_web_masmovil_http_data_mb', 'netapps_ns_apps_whatsapp_voice_calling_data_mb', 'netapps_ns_apps_pets_timestamps', 'netapps_ns_apps_auto_data_mb', 'netapps_ns_apps_jobs_data_mb', 'netapps_ns_apps_business_total_effective_dl_mb', 'netapps_ns_apps_taobao_total_effective_ul_mb', 'netapps_ns_apps_paypal_data_mb', 'netapps_ns_apps_books_days', 'netapps_ns_apps_spotify_days', 'netapps_ns_apps_fashion_data_mb', 'netapps_ns_apps_googleearth_timestamps', 'netapps_ns_apps_steam_total_effective_ul_mb', 'netapps_ns_apps_web_masmovil_timestamps', 'netapps_ns_apps_web_pepephone_total_effective_dl_mb', 'netapps_ns_apps_business_data_mb', 'netapps_ns_apps_web_lowi_https_timestamps', 'netapps_ns_apps_web_yomvi_https_total_effective_ul_mb', 'netapps_ns_apps_bbc_total_effective_dl_mb', 'netapps_ns_apps_pets_data_mb', 'netapps_ns_apps_jobs_days', 'netapps_ns_apps_twitter_total_effective_dl_mb', 'netapps_ns_apps_video_total_effective_ul_mb', 'netapps_ns_apps_web_vodafone_http_timestamps', 'netapps_ns_apps_hacking_days', 'netapps_ns_apps_wechat_timestamps', 'netapps_ns_apps_amazon_days', 'netapps_ns_apps_zynga_data_mb', 'netapps_ns_apps_medical_timestamps', 'netapps_ns_apps_web_movistar_https_data_mb', 'netapps_ns_apps_snapchat_total_effective_dl_mb', 'netapps_ns_apps_kids_days', 'netapps_ns_apps_itunes_total_effective_dl_mb', 'netapps_ns_apps_wikipedia_total_effective_dl_mb', 'netapps_ns_apps_web_o2_days', 'netapps_ns_apps_kids_timestamps', 'netapps_ns_apps_web_masmovil_http_days', 'netapps_ns_apps_badoo_timestamps', 'netapps_ns_apps_pregnancy_days', 'netapps_ns_apps_whatsapp_media_message_total_effective_dl_mb', 'netapps_ns_apps_whatsapp_voice_calling_days', 'netapps_ns_apps_politics_timestamps', 'netapps_ns_apps_badoo_total_effective_ul_mb', 'netapps_ns_apps_netflix_total_effective_ul_mb', 'netapps_ns_apps_web_lowi_https_data_mb', 'netapps_ns_apps_web_vodafone_http_total_effective_dl_mb', 'netapps_ns_apps_pregnancy_total_effective_ul_mb', 'netapps_ns_apps_socialnetwork_total_effective_dl_mb', 'netapps_ns_apps_alcohol_days', 'netapps_ns_apps_whatsapp_media_message_days', 'netapps_ns_apps_web_pepephone_http_total_effective_ul_mb', 'netapps_ns_apps_web_o2_total_effective_dl_mb', 'netapps_ns_apps_web_marcacom_http_data_mb', 'netapps_ns_apps_web_o2_https_days', 'netapps_ns_apps_webmobile_total_effective_ul_mb', 'netapps_ns_apps_pets_total_effective_dl_mb', 'netapps_ns_apps_ebay_days', 'netapps_ns_apps_qq_timestamps', 'netapps_ns_apps_foursquare_total_effective_ul_mb', 'netapps_ns_apps_samsung_days', 'netapps_ns_apps_auto_total_effective_dl_mb', 'netapps_ns_apps_hacking_total_effective_dl_mb', 'netapps_ns_apps_accuweather_data_mb', 'netapps_ns_apps_science_total_effective_ul_mb', 'netapps_ns_apps_web_o2_https_timestamps', 'netapps_ns_apps_web_vodafone_http_days', 'netapps_ns_apps_baidu_timestamps', 'netapps_ns_apps_spotify_data_mb', 'netapps_ns_apps_foursquare_total_effective_dl_mb', 'netapps_ns_apps_finance_total_effective_ul_mb', 'netapps_ns_apps_family_timestamps', 'netapps_ns_apps_chats_days', 'netapps_ns_apps_webgames_total_effective_ul_mb', 'netapps_ns_apps_web_orange_https_data_mb', 'netapps_ns_apps_web_masmovil_https_total_effective_ul_mb', 'netapps_ns_apps_education_total_effective_ul_mb', 'netapps_ns_apps_alibaba_days', 'netapps_ns_apps_skype_total_effective_dl_mb', 'netapps_ns_apps_alibaba_timestamps', 'netapps_ns_apps_web_marcacom_http_total_effective_dl_mb', 'netapps_ns_apps_web_o2_total_effective_ul_mb', 'netapps_ns_apps_github_days', 'netapps_ns_apps_travel_data_mb', 'netapps_ns_apps_web_orange_http_total_effective_dl_mb', 'netapps_ns_apps_dropbox_data_mb', 'netapps_ns_apps_groupon_total_effective_dl_mb', 'netapps_ns_apps_instagram_timestamps', 'netapps_ns_apps_netflixvideo_days', 'netapps_ns_apps_travel_days', 'netapps_ns_apps_web_vodafone_https_total_effective_dl_mb', 'netapps_ns_apps_food_timestamps', 'netapps_ns_apps_groupon_data_mb', 'netapps_ns_apps_jobs_total_effective_dl_mb', 'netapps_ns_apps_web_jazztel_https_total_effective_dl_mb', 'netapps_ns_apps_legal_data_mb', 'netapps_ns_apps_googledrive_total_effective_dl_mb', 'netapps_ns_apps_science_data_mb', 'netapps_ns_apps_arts_total_effective_dl_mb', 'netapps_ns_apps_booking_total_effective_ul_mb', 'netapps_ns_apps_wikipedia_total_effective_ul_mb', 'netapps_ns_apps_whatsapp_voice_calling_timestamps', 'netapps_ns_apps_sports_total_effective_dl_mb', 'netapps_ns_apps_web_masmovil_http_timestamps', 'netapps_ns_apps_pregnancy_timestamps', 'netapps_ns_apps_web_o2_http_total_effective_ul_mb', 'netapps_ns_apps_hacking_timestamps', 'netapps_ns_apps_travel_timestamps', 'netapps_ns_apps_gmail_data_mb', 'netapps_ns_apps_zynga_total_effective_ul_mb', 'netapps_ns_apps_facebook_video_timestamps', 'netapps_ns_apps_news_data_mb', 'netapps_ns_apps_googleearth_days', 'netapps_ns_apps_itunes_days', 'netapps_ns_apps_vimeo_data_mb', 'netapps_ns_apps_pets_total_effective_ul_mb', 'netapps_ns_apps_news_total_effective_dl_mb', 'netapps_ns_apps_adultweb_timestamps', 'netapps_ns_apps_web_orange_http_timestamps', 'netapps_ns_apps_itunes_timestamps', 'netapps_ns_apps_snapchat_data_mb', 'netapps_ns_apps_instagram_days', 'netapps_ns_apps_netflixvideo_data_mb', 'netapps_ns_apps_sports_timestamps', 'netapps_ns_apps_web_jazztel_https_days', 'netapps_ns_apps_web_yoigo_http_days', 'netapps_ns_apps_news_timestamps', 'netapps_ns_apps_web_pepephone_http_data_mb', 'netapps_ns_apps_web_yoigo_total_effective_ul_mb', 'netapps_ns_apps_web_o2_http_timestamps', 'netapps_ns_apps_books_total_effective_ul_mb', 'netapps_ns_apps_gmail_total_effective_ul_mb', 'netapps_ns_apps_web_lowi_http_days', 'netapps_ns_apps_dropbox_total_effective_ul_mb', 'netapps_ns_apps_webmobile_timestamps', 'netapps_ns_apps_web_jazztel_days', 'netapps_ns_apps_alcohol_timestamps', 'netapps_ns_apps_books_timestamps', 'netapps_ns_apps_classified_days', 'netapps_ns_apps_alibaba_data_mb', 'netapps_ns_apps_web_jazztel_http_total_effective_dl_mb', 'netapps_ns_apps_whatsapp_days', 'netapps_ns_apps_medical_total_effective_dl_mb', 'netapps_ns_apps_audio_total_effective_dl_mb', 'netapps_ns_apps_fashion_total_effective_ul_mb', 'netapps_ns_apps_videostreaming_timestamps', 'netapps_ns_apps_medical_total_effective_ul_mb', 'netapps_ns_apps_web_movistar_days', 'netapps_ns_apps_github_total_effective_dl_mb', 'netapps_ns_apps_violence_total_effective_ul_mb', 'netapps_ns_apps_ebay_total_effective_dl_mb', 'netapps_ns_apps_shopping_total_effective_dl_mb', 'netapps_ns_apps_web_yomvi_http_days', 'netapps_ns_apps_zynga_timestamps', 'netapps_ns_apps_whatsapp_media_message_timestamps', 'netapps_ns_apps_line_total_effective_dl_mb', 'netapps_ns_apps_paypal_total_effective_ul_mb', 'netapps_ns_apps_apple_total_effective_ul_mb', 'netapps_ns_apps_web_vodafone_days', 'netapps_ns_apps_yandex_timestamps', 'netapps_ns_apps_shopping_days', 'netapps_ns_apps_adult_timestamps', 'netapps_ns_apps_dating_total_effective_dl_mb', 'netapps_ns_apps_accuweather_total_effective_dl_mb', 'netapps_ns_apps_web_yoigo_https_days', 'netapps_ns_apps_googleplay_data_mb', 'netapps_ns_apps_foursquare_data_mb', 'netapps_ns_apps_qq_data_mb', 'netapps_ns_apps_education_timestamps', 'netapps_ns_apps_news_days', 'netapps_ns_apps_tumblr_total_effective_dl_mb', 'netapps_ns_apps_legal_total_effective_ul_mb', 'netapps_ns_apps_web_vodafone_http_data_mb', 'netapps_ns_apps_web_yomvi_http_data_mb', 'netapps_ns_apps_webgames_data_mb', 'netapps_ns_apps_jobs_timestamps', 'netapps_ns_apps_line_total_effective_ul_mb', 'netapps_ns_apps_qq_total_effective_ul_mb', 'netapps_ns_apps_dating_timestamps', 'netapps_ns_apps_youtube_timestamps', 'netapps_ns_apps_web_pepephone_days', 'netapps_ns_apps_home_total_effective_dl_mb', 'netapps_ns_apps_twitch_days', 'netapps_ns_apps_bbc_days', 'netapps_ns_apps_twitch_data_mb', 'netapps_ns_apps_twitch_total_effective_dl_mb', 'netapps_ns_apps_bbc_data_mb', 'netapps_ns_apps_web_masmovil_data_mb', 'netapps_ns_apps_books_data_mb', 'netapps_ns_apps_legal_days', 'netapps_ns_apps_dating_days', 'netapps_ns_apps_web_lowi_http_total_effective_dl_mb', 'netapps_ns_apps_alipay_days', 'netapps_ns_apps_web_jazztel_total_effective_dl_mb', 'netapps_ns_apps_web_lowi_total_effective_dl_mb', 'netapps_ns_apps_facebook_video_total_effective_dl_mb', 'netapps_ns_apps_reddit_days', 'netapps_ns_apps_web_orange_https_total_effective_ul_mb', 'netapps_ns_apps_alipay_timestamps', 'netapps_ns_apps_tumblr_data_mb', 'netapps_ns_apps_badoo_data_mb', 'netapps_ns_apps_twitter_timestamps', 'netapps_ns_apps_ebay_timestamps', 'netapps_ns_apps_googledrive_total_effective_ul_mb', 'netapps_ns_apps_gmail_days', 'netapps_ns_apps_web_pepephone_total_effective_ul_mb', 'netapps_ns_apps_web_yoigo_https_total_effective_ul_mb', 'netapps_ns_apps_tumblr_total_effective_ul_mb', 'netapps_ns_apps_web_pepephone_http_total_effective_dl_mb', 'netapps_ns_apps_paypal_timestamps', 'netapps_ns_apps_alcohol_total_effective_dl_mb', 'netapps_ns_apps_kids_total_effective_dl_mb', 'netapps_ns_apps_amazon_total_effective_dl_mb', 'netapps_ns_apps_education_data_mb', 'netapps_ns_apps_technology_data_mb', 'netapps_ns_apps_web_jazztel_http_total_effective_ul_mb', 'netapps_ns_apps_web_movistar_http_total_effective_dl_mb', 'netapps_ns_apps_facebook_total_effective_ul_mb', 'netapps_ns_apps_foursquare_timestamps', 'netapps_ns_apps_violence_days', 'netapps_ns_apps_reddit_timestamps', 'netapps_ns_apps_fashion_days', 'netapps_ns_apps_web_vodafone_timestamps', 'netapps_ns_apps_auto_total_effective_ul_mb', 'netapps_ns_apps_family_total_effective_dl_mb', 'netapps_ns_apps_web_orange_http_data_mb', 'netapps_ns_apps_github_total_effective_ul_mb', 'netapps_ns_apps_web_marcacom_https_days', 'netapps_ns_apps_wikipedia_days', 'netapps_ns_apps_qq_total_effective_dl_mb', 'netapps_ns_apps_astrology_data_mb', 'netapps_ns_apps_web_yoigo_https_data_mb', 'netapps_ns_apps_web_masmovil_http_total_effective_dl_mb', 'netapps_ns_apps_vimeo_timestamps', 'netapps_ns_apps_dropbox_total_effective_dl_mb', 'netapps_ns_apps_linkedin_data_mb', 'netapps_ns_apps_whatsapp_voice_calling_total_effective_dl_mb', 'netapps_ns_apps_googlemaps_timestamps', 'netapps_ns_apps_facebookmessages_data_mb', 'netapps_ns_apps_legal_total_effective_dl_mb', 'netapps_ns_apps_youtube_total_effective_ul_mb', 'netapps_ns_apps_zynga_total_effective_dl_mb', 'netapps_ns_apps_music_total_effective_ul_mb', 'netapps_ns_apps_googlemaps_total_effective_dl_mb', 'netapps_ns_apps_taobao_total_effective_dl_mb', 'netapps_ns_apps_whatsapp_voice_calling_total_effective_ul_mb', 'netapps_ns_apps_arts_days', 'netapps_ns_apps_medical_days', 'netapps_ns_apps_web_masmovil_http_total_effective_ul_mb', 'netapps_ns_apps_web_yomvi_https_timestamps', 'netapps_ns_apps_groupon_total_effective_ul_mb', 'netapps_ns_apps_wechat_total_effective_dl_mb', 'netapps_ns_apps_chats_total_effective_dl_mb', 'netapps_ns_apps_alipay_total_effective_dl_mb', 'netapps_ns_apps_wikipedia_timestamps', 'netapps_ns_apps_auto_days', 'netapps_ns_apps_web_orange_data_mb', 'netapps_ns_apps_web_orange_http_total_effective_ul_mb', 'netapps_ns_apps_business_total_effective_ul_mb', 'netapps_ns_apps_bbc_total_effective_ul_mb', 'netapps_ns_apps_linkedin_timestamps', 'netapps_ns_apps_web_vodafone_total_effective_dl_mb', 'netapps_ns_apps_yandex_total_effective_ul_mb', 'netapps_ns_apps_web_yomvi_https_total_effective_dl_mb', 'netapps_ns_apps_gmail_total_effective_dl_mb', 'netapps_ns_apps_web_yoigo_http_timestamps', 'netapps_ns_apps_web_masmovil_https_timestamps', 'netapps_ns_apps_web_o2_data_mb', 'netapps_ns_apps_news_total_effective_ul_mb', 'netapps_ns_apps_web_pepephone_https_days', 'netapps_ns_apps_googlemaps_days', 'netapps_ns_apps_googledrive_timestamps', 'netapps_ns_apps_googleplay_days', 'netapps_ns_apps_video_data_mb', 'netapps_ns_apps_technology_total_effective_dl_mb', 'netapps_ns_apps_web_movistar_timestamps', 'netapps_ns_apps_gmail_timestamps', 'netapps_ns_apps_facebookmessages_total_effective_dl_mb', 'netapps_ns_apps_whatsapp_timestamps', 'netapps_ns_apps_food_total_effective_dl_mb', 'netapps_ns_apps_music_total_effective_dl_mb', 'netapps_ns_apps_web_yoigo_http_total_effective_ul_mb', 'netapps_ns_apps_violence_total_effective_dl_mb', 'netapps_ns_apps_business_days', 'netapps_ns_apps_web_pepephone_http_timestamps', 'netapps_ns_apps_instagram_data_mb', 'netapps_ns_apps_science_days', 'netapps_ns_apps_web_yomvi_http_timestamps', 'netapps_ns_apps_badoo_days', 'netapps_ns_apps_auto_timestamps', 'netapps_ns_apps_adult_days', 'netapps_ns_apps_pinterest_total_effective_ul_mb', 'netapps_ns_apps_classified_total_effective_dl_mb', 'netapps_ns_apps_web_orange_http_days', 'netapps_ns_apps_whatsapp_media_message_total_effective_ul_mb', 'netapps_ns_apps_web_lowi_https_total_effective_ul_mb', 'netapps_ns_apps_web_orange_total_effective_dl_mb', 'netapps_ns_apps_web_masmovil_days', 'netapps_ns_apps_skype_days', 'netapps_ns_apps_steam_total_effective_dl_mb', 'netapps_ns_apps_web_movistar_data_mb', 'netapps_ns_apps_groupon_timestamps', 'netapps_ns_apps_whatsapp_data_mb', 'netapps_ns_apps_home_data_mb', 'netapps_ns_apps_alipay_data_mb', 'netapps_ns_apps_web_pepephone_https_total_effective_ul_mb', 'netapps_ns_apps_finance_days', 'netapps_ns_apps_reddit_total_effective_ul_mb', 'netapps_ns_apps_finance_data_mb', 'netapps_ns_apps_alibaba_total_effective_ul_mb', 'netapps_ns_apps_video_total_effective_dl_mb', 'netapps_ns_apps_family_days', 'netapps_ns_apps_zynga_days', 'netapps_ns_apps_alcohol_total_effective_ul_mb', 'netapps_ns_apps_alibaba_total_effective_dl_mb', 'netapps_ns_apps_web_yoigo_days', 'netapps_ns_apps_medical_data_mb', 'netapps_ns_apps_web_masmovil_https_data_mb', 'netapps_ns_apps_socialnetwork_data_mb', 'netapps_ns_apps_fashion_total_effective_dl_mb', 'netapps_ns_apps_facebook_video_days', 'netapps_ns_apps_spotify_total_effective_ul_mb', 'netapps_ns_apps_skype_timestamps', 'netapps_ns_apps_webmobile_total_effective_dl_mb', 'netapps_ns_apps_yandex_days', 'netapps_ns_apps_web_marcacom_https_data_mb', 'netapps_ns_apps_family_total_effective_ul_mb', 'netapps_ns_apps_web_vodafone_https_timestamps', 'netapps_ns_apps_github_data_mb', 'netapps_ns_apps_adultweb_total_effective_dl_mb', 'netapps_ns_apps_socialnetwork_days', 'netapps_ns_apps_adult_total_effective_ul_mb', 'netapps_ns_apps_web_movistar_https_days', 'netapps_ns_apps_web_movistar_http_days', 'netapps_ns_apps_web_lowi_data_mb', 'netapps_ns_apps_vimeo_days', 'netapps_ns_apps_reddit_data_mb', 'netapps_ns_apps_web_orange_https_timestamps', 'netapps_ns_apps_chats_data_mb', 'netapps_ns_apps_videostreaming_total_effective_ul_mb', 'netapps_ns_apps_web_o2_https_total_effective_dl_mb', 'netapps_ns_apps_facebookmessages_total_effective_ul_mb', 'netapps_ns_apps_tumblr_timestamps', 'netapps_ns_apps_web_masmovil_https_days', 'netapps_ns_apps_itunes_total_effective_ul_mb', 'netapps_ns_apps_paypal_total_effective_dl_mb', 'netapps_ns_apps_web_jazztel_http_timestamps', 'netapps_ns_apps_web_marcacom_https_total_effective_ul_mb', 'netapps_ns_apps_web_vodafone_https_days', 'netapps_ns_apps_snapchat_total_effective_ul_mb', 'netapps_ns_apps_webmobile_days', 'netapps_ns_apps_spotify_total_effective_dl_mb', 'netapps_ns_apps_technology_days', 'netapps_ns_apps_web_yomvi_http_total_effective_dl_mb', 'netapps_ns_apps_twitter_days', 'netapps_ns_apps_wechat_days', 'netapps_ns_apps_baidu_total_effective_ul_mb', 'netapps_ns_apps_linkedin_total_effective_dl_mb', 'netapps_ns_apps_web_pepephone_http_days', 'netapps_ns_apps_web_yoigo_https_timestamps', 'netapps_ns_apps_instagram_total_effective_dl_mb', 'netapps_ns_apps_web_movistar_total_effective_dl_mb', 'netapps_ns_apps_whatsapp_media_message_data_mb', 'netapps_ns_apps_googleearth_total_effective_dl_mb', 'netapps_ns_apps_classified_timestamps', 'netapps_ns_apps_amazon_timestamps', 'netapps_ns_apps_whatsapp_total_effective_dl_mb', 'netapps_ns_apps_technology_total_effective_ul_mb', 'netapps_ns_apps_web_vodafone_https_data_mb', 'netapps_ns_apps_vimeo_total_effective_dl_mb', 'netapps_ns_apps_netflix_timestamps', 'netapps_ns_apps_pregnancy_total_effective_dl_mb', 'netapps_ns_apps_web_vodafone_https_total_effective_ul_mb', 'netapps_ns_apps_baidu_total_effective_dl_mb', 'netapps_ns_apps_gambling_total_effective_dl_mb', 'netapps_ns_apps_web_lowi_https_days', 'netapps_ns_apps_facebook_video_total_effective_ul_mb', 'netapps_ns_apps_pregnancy_data_mb', 'netapps_ns_apps_web_orange_timestamps', 'netapps_ns_apps_netflix_data_mb', 'netapps_ns_apps_web_masmovil_total_effective_ul_mb', 'netapps_ns_apps_yandex_data_mb', 'netapps_ns_apps_web_movistar_https_total_effective_dl_mb', 'netapps_ns_apps_kids_total_effective_ul_mb', 'netapps_ns_apps_line_data_mb', 'netapps_ns_apps_kids_data_mb', 'netapps_ns_apps_samsung_total_effective_dl_mb', 'netapps_ns_apps_twitch_total_effective_ul_mb', 'netapps_ns_apps_web_movistar_total_effective_ul_mb', 'netapps_ns_apps_science_timestamps', 'netapps_ns_apps_videostreaming_days', 'netapps_ns_apps_snapchat_timestamps', 'netapps_ns_apps_web_vodafone_data_mb', 'netapps_ns_apps_shopping_data_mb', 'netapps_ns_apps_accuweather_timestamps', 'netapps_ns_apps_web_lowi_http_total_effective_ul_mb', 'netapps_ns_apps_web_jazztel_total_effective_ul_mb', 'netapps_ns_apps_skype_data_mb', 'netapps_ns_apps_business_timestamps', 'netapps_ns_apps_pinterest_data_mb', 'netapps_ns_apps_apple_data_mb', 'netapps_ns_apps_astrology_days', 'netapps_ns_apps_facebookmessages_timestamps', 'netapps_ns_apps_apple_days', 'netapps_ns_apps_web_lowi_http_timestamps', 'netapps_ns_apps_audio_total_effective_ul_mb', 'netapps_ns_apps_food_days', 'netapps_ns_apps_classified_data_mb', 'netapps_ns_apps_web_jazztel_timestamps', 'netapps_ns_apps_fashion_timestamps', 'netapps_ns_apps_home_days', 'netapps_ns_apps_github_timestamps', 'netapps_ns_apps_snapchat_days', 'netapps_ns_apps_web_yoigo_http_total_effective_dl_mb', 'netapps_ns_apps_arts_timestamps', 'netapps_ns_apps_netflixvideo_timestamps', 'netapps_ns_apps_politics_total_effective_ul_mb', 'netapps_ns_apps_web_marcacom_https_timestamps', 'netapps_ns_apps_yandex_total_effective_dl_mb', 'netapps_ns_apps_webmobile_data_mb', 'netapps_ns_apps_web_lowi_https_total_effective_dl_mb', 'netapps_ns_apps_chats_timestamps', 'netapps_ns_apps_home_total_effective_ul_mb', 'netapps_ns_apps_pinterest_days', 'netapps_ns_apps_pinterest_total_effective_dl_mb', 'netapps_ns_apps_videostreaming_total_effective_dl_mb', 'netapps_ns_apps_shopping_total_effective_ul_mb', 'netapps_ns_apps_music_timestamps', 'netapps_ns_apps_travel_total_effective_dl_mb', 'netapps_ns_apps_foursquare_days', 'netapps_ns_apps_music_days', 'netapps_ns_apps_web_marcacom_https_total_effective_dl_mb', 'netapps_ns_apps_pinterest_timestamps', 'netapps_ns_apps_web_masmovil_https_total_effective_dl_mb', 'netapps_ns_apps_astrology_total_effective_ul_mb', 'netapps_ns_apps_web_vodafone_http_total_effective_ul_mb', 'netapps_ns_apps_dating_total_effective_ul_mb', 'netapps_ns_apps_web_o2_https_data_mb', 'netapps_ns_apps_web_o2_http_total_effective_dl_mb', 'netapps_ns_apps_booking_total_effective_dl_mb', 'netapps_ns_apps_arts_total_effective_ul_mb', 'netapps_ns_apps_facebookmessages_days', 'netapps_ns_apps_netflix_total_effective_dl_mb', 'netapps_ns_apps_linkedin_total_effective_ul_mb', 'netapps_ns_apps_web_yomvi_https_days', 'netapps_ns_apps_amazon_data_mb', 'netapps_ns_apps_twitch_timestamps', 'netapps_ns_apps_astrology_timestamps', 'netapps_ns_apps_web_orange_days', 'netapps_ns_apps_violence_data_mb', 'netapps_ns_apps_education_total_effective_dl_mb', 'netapps_ns_apps_politics_data_mb', 'netapps_ns_apps_web_yoigo_total_effective_dl_mb', 'netapps_ns_apps_web_yoigo_timestamps', 'netapps_ns_apps_web_lowi_timestamps', 'netapps_ns_apps_web_orange_https_total_effective_dl_mb', 'netapps_ns_apps_paypal_days', 'netapps_ns_apps_web_o2_https_total_effective_ul_mb', 'netapps_ns_apps_spotify_timestamps', 'netapps_ns_apps_amazon_total_effective_ul_mb', 'netapps_ns_apps_whatsapp_total_effective_ul_mb', 'netapps_ns_apps_family_data_mb', 'netapps_ns_apps_sports_data_mb', 'netapps_ns_apps_wechat_total_effective_ul_mb', 'netapps_ns_apps_web_vodafone_total_effective_ul_mb', 'netapps_ns_apps_instagram_total_effective_ul_mb', 'netapps_ns_apps_webgames_days', 'netapps_ns_apps_baidu_days', 'netapps_ns_apps_web_pepephone_https_timestamps', 'netapps_ns_apps_apple_timestamps', 'netapps_ns_apps_legal_timestamps', 'netapps_ns_apps_googleplay_total_effective_dl_mb', 'netapps_ns_apps_web_masmovil_total_effective_dl_mb', 'netapps_ns_apps_samsung_data_mb', 'netapps_ns_apps_reddit_total_effective_dl_mb', 'netapps_ns_apps_ebay_total_effective_ul_mb', 'netapps_ns_apps_finance_timestamps', 'netapps_ns_apps_web_pepephone_https_total_effective_dl_mb', 'netapps_ns_apps_vimeo_total_effective_ul_mb', 'netapps_ns_apps_linkedin_days', 'netapps_ns_apps_samsung_total_effective_ul_mb', 'netapps_ns_apps_politics_total_effective_dl_mb', 'incremental_abs_delta_data_per_connection', 'incremental_rel_delta_total_connections_we', 'incremental_abs_delta_total_data_volume_w', 'incremental_abs_delta_total_connections_we', 'incremental_rel_delta_total_data_volume', 'incremental_rel_delta_max_data_per_connection_w', 'incremental_abs_delta_total_mou_w', 'incremental_rel_delta_data_per_connection_w', 'incremental_rel_delta_max_connections_w', 'incremental_abs_delta_max_mou_we', 'incremental_abs_delta_max_data_per_connection_w', 'incremental_abs_delta_max_connections_w', 'incremental_rel_delta_data_per_connection_we', 'incremental_abs_delta_data_per_connection_w', 'incremental_rel_delta_max_mou_w', 'incremental_abs_delta_max_num_calls_w', 'incremental_rel_delta_total_data_volume_w', 'incremental_abs_delta_data_per_connection_we', 'incremental_abs_delta_total_data_volume_we', 'incremental_rel_delta_max_data_volume_w', 'incremental_rel_delta_max_data_volume_we', 'incremental_rel_delta_max_num_calls_we', 'incremental_rel_delta_total_connections', 'incremental_rel_delta_total_connections_w', 'incremental_abs_delta_max_mou_w', 'incremental_abs_delta_max_mou_per_call_w', 'incremental_abs_delta_max_mou_per_call_we', 'incremental_abs_delta_max_data_volume_w', 'incremental_abs_delta_max_data_volume_we', 'incremental_rel_delta_total_data_volume_we', 'incremental_rel_delta_total_mou_we', 'incremental_abs_delta_max_connections_we', 'incremental_abs_delta_max_data_per_connection_we', 'incremental_abs_delta_total_connections', 'incremental_rel_delta_max_data_per_connection_we', 'incremental_rel_delta_total_mou_w', 'incremental_abs_delta_max_num_calls_we', 'incremental_abs_delta_total_data_volume', 'incremental_abs_delta_total_connections_w', 'incremental_rel_delta_max_num_calls_w', 'incremental_rel_delta_data_per_connection', 'incremental_rel_delta_max_connections_we', 'incremental_abs_delta_total_mou_we', 'incremental_rel_delta_max_mou_per_call_we', 'incremental_rel_delta_max_mou_we', 'incremental_rel_delta_max_mou_per_call_w']\n",
      "Holaaa\n"
     ]
    }
   ],
   "source": []
  },
  {
   "cell_type": "code",
   "execution_count": 138,
   "metadata": {},
   "outputs": [],
   "source": [
    "res_inc = [name_ for name_ in incremental if name_ not in incremental_penal + incremental_bill + incremental_data + incremental_services]"
   ]
  },
  {
   "cell_type": "code",
   "execution_count": 162,
   "metadata": {},
   "outputs": [],
   "source": []
  },
  {
   "cell_type": "code",
   "execution_count": 163,
   "metadata": {},
   "outputs": [
    {
     "data": {
      "text/plain": [
       "(7, 6, 11, 39, 15)"
      ]
     },
     "execution_count": 163,
     "metadata": {},
     "output_type": "execute_result"
    }
   ],
   "source": [
    "len(additional_services), len(additional_days_since),len(additional_tariff), len(additional), len(additional_bill)"
   ]
  },
  {
   "cell_type": "code",
   "execution_count": 164,
   "metadata": {},
   "outputs": [],
   "source": [
    "res_add = [name_ for name_ in additional if name_ not in additional_bill + additional_tariff + additional_days_since + additional_services]"
   ]
  },
  {
   "cell_type": "code",
   "execution_count": 165,
   "metadata": {
    "scrolled": true
   },
   "outputs": [
    {
     "data": {
      "text/plain": [
       "['additional_num_tariff_redm',\n",
       " 'additional_num_tariff_redl',\n",
       " 'additional_inc_bill_n1_n4_amount_to_pay',\n",
       " 'additional_num_tariff_maslineasmini',\n",
       " 'additional_inc_bill_n1_n4_net',\n",
       " 'additional_max_dias_desde_fx_trybuy_tv',\n",
       " 'additional_inc_bill_n1_n5_net',\n",
       " 'additional_max_dias_desde_fx_football_tv',\n",
       " 'additional_num_tariff_unknown',\n",
       " 'additional_num_2lins',\n",
       " 'additional_num_tariff_otros',\n",
       " 'additional_trybuy_services',\n",
       " 'additional_trybuy_autom_services',\n",
       " 'additional_football_services',\n",
       " 'additional_max_dias_desde_fx_pvr_tv',\n",
       " 'additional_inc_bill_n1_n2_net',\n",
       " 'additional_inc_bill_n1_n2_amount_to_pay',\n",
       " 'additional_max_dias_desde_fx_zapper_tv',\n",
       " 'additional_num_tariff_xs',\n",
       " 'additional_num_tariff_minim',\n",
       " 'additional_total_price_trybuy_autom',\n",
       " 'additional_total_price_football',\n",
       " 'additional_total_price_pvr',\n",
       " 'additional_num_tariff_megayuser',\n",
       " 'additional_zapper_services',\n",
       " 'additional_pvr_services',\n",
       " 'additional_num_tariff_smart',\n",
       " 'additional_inc_bill_n1_n3_net',\n",
       " 'additional_max_dias_desde_fx_trybuy_autom_tv',\n",
       " 'additional_total_price_zapper',\n",
       " 'additional_max_dias_desde_fx_motor_tv',\n",
       " 'additional_num_tariff_plana200min',\n",
       " 'additional_motor_services',\n",
       " 'additional_total_price_trybuy',\n",
       " 'additional_inc_bill_n1_n5_amount_to_pay',\n",
       " 'additional_total_tv_total_charges',\n",
       " 'additional_num_tariff_planaminilim',\n",
       " 'additional_total_price_motor',\n",
       " 'additional_inc_bill_n1_n3_amount_to_pay']"
      ]
     },
     "execution_count": 165,
     "metadata": {},
     "output_type": "execute_result"
    }
   ],
   "source": [
    "additional"
   ]
  },
  {
   "cell_type": "code",
   "execution_count": 166,
   "metadata": {},
   "outputs": [
    {
     "data": {
      "text/plain": [
       "[]"
      ]
     },
     "execution_count": 166,
     "metadata": {},
     "output_type": "execute_result"
    }
   ],
   "source": [
    "res_add"
   ]
  },
  {
   "cell_type": "code",
   "execution_count": null,
   "metadata": {},
   "outputs": [],
   "source": []
  },
  {
   "cell_type": "code",
   "execution_count": 40,
   "metadata": {},
   "outputs": [
    {
     "name": "stdout",
     "output_type": "stream",
     "text": [
      "('[Info FbbChurn] Fri May 31 10:28:42 2019 The module for the Extra Feats has been run. Count for the table', 2050838)\n"
     ]
    }
   ],
   "source": [
    "dfExtraFeatSel,selColumnas=addExtraFeats(dfExtraFeatfbb)"
   ]
  },
  {
   "cell_type": "code",
   "execution_count": 41,
   "metadata": {},
   "outputs": [],
   "source": [
    "dfillNa = fillNa(spark)\n",
    "for kkey in dfillNa.keys():\n",
    "    if kkey not in dfExtraFeatSel.columns:\n",
    "        dfillNa.pop(kkey, None)"
   ]
  },
  {
   "cell_type": "code",
   "execution_count": 42,
   "metadata": {},
   "outputs": [],
   "source": [
    "inittrdf = inittrdf_ini.join(dfExtraFeatSel, [\"msisdn\",\"num_cliente\",'rgu'], how=\"left\").na.fill(dfillNa)"
   ]
  },
  {
   "cell_type": "code",
   "execution_count": 26,
   "metadata": {},
   "outputs": [
    {
     "data": {
      "text/plain": [
       "1978186"
      ]
     },
     "execution_count": 26,
     "metadata": {},
     "output_type": "execute_result"
    }
   ],
   "source": [
    "inittrdf.count()"
   ]
  },
  {
   "cell_type": "code",
   "execution_count": 46,
   "metadata": {},
   "outputs": [
    {
     "data": {
      "text/plain": [
       "(92, 239, 328)"
      ]
     },
     "execution_count": 46,
     "metadata": {},
     "output_type": "execute_result"
    }
   ],
   "source": [
    "len(dfExtraFeatSel.columns),len(inittrdf_ini.columns),len(inittrdf.columns)"
   ]
  },
  {
   "cell_type": "code",
   "execution_count": 28,
   "metadata": {},
   "outputs": [
    {
     "data": {
      "text/plain": [
       "(1978186, 1978186, 1978186)"
      ]
     },
     "execution_count": 28,
     "metadata": {},
     "output_type": "execute_result"
    }
   ],
   "source": [
    "dfExtraFeatSel.count(),inittrdf_ini.count(),inittrdf.count()"
   ]
  },
  {
   "cell_type": "code",
   "execution_count": 47,
   "metadata": {},
   "outputs": [],
   "source": [
    "[unbaltrdf, valdf] = inittrdf.randomSplit([0.7, 0.3], 1234)"
   ]
  },
  {
   "cell_type": "code",
   "execution_count": null,
   "metadata": {},
   "outputs": [],
   "source": [
    "# 1.2. Balanced df for training"
   ]
  },
  {
   "cell_type": "code",
   "execution_count": 48,
   "metadata": {},
   "outputs": [
    {
     "name": "stdout",
     "output_type": "stream",
     "text": [
      "+-----+--------+\n",
      "|label|count(1)|\n",
      "+-----+--------+\n",
      "|  0.0| 1386523|\n",
      "|  1.0|   50294|\n",
      "+-----+--------+\n",
      "\n"
     ]
    }
   ],
   "source": [
    "unbaltrdf.groupBy('label').agg(count('*')).show()"
   ]
  },
  {
   "cell_type": "code",
   "execution_count": 31,
   "metadata": {},
   "outputs": [
    {
     "name": "stdout",
     "output_type": "stream",
     "text": [
      "[Info balance_df2] Dataframe has been balanced - Total number of rows is 88403\n"
     ]
    }
   ],
   "source": [
    "trdf = balance_df2(unbaltrdf, 'label')"
   ]
  },
  {
   "cell_type": "code",
   "execution_count": 32,
   "metadata": {},
   "outputs": [
    {
     "name": "stdout",
     "output_type": "stream",
     "text": [
      "+-----+--------+\n",
      "|label|count(1)|\n",
      "+-----+--------+\n",
      "|  0.0|   44124|\n",
      "|  1.0|   44279|\n",
      "+-----+--------+\n",
      "\n"
     ]
    }
   ],
   "source": [
    "trdf.groupBy('label').agg(count('*')).show()"
   ]
  },
  {
   "cell_type": "code",
   "execution_count": 49,
   "metadata": {},
   "outputs": [],
   "source": [
    "[tr_df, tr_df_final] = unbaltrdf.randomSplit([0.8, 0.2], 1234)"
   ]
  },
  {
   "cell_type": "code",
   "execution_count": 77,
   "metadata": {},
   "outputs": [
    {
     "data": {
      "text/plain": [
       "[0, 1, 2, 3, 4, 5, 6, 7, 8, 9]"
      ]
     },
     "execution_count": 77,
     "metadata": {},
     "output_type": "execute_result"
    }
   ],
   "source": [
    "range(0,10)"
   ]
  },
  {
   "cell_type": "code",
   "execution_count": 50,
   "metadata": {},
   "outputs": [],
   "source": [
    "tr_1s = tr_df.where(col('label') == 1)\n",
    "tr_0s = tr_df.where(col('label') == 0)"
   ]
  },
  {
   "cell_type": "code",
   "execution_count": 51,
   "metadata": {},
   "outputs": [],
   "source": [
    "num_tr_dfs = 3"
   ]
  },
  {
   "cell_type": "code",
   "execution_count": 159,
   "metadata": {},
   "outputs": [],
   "source": [
    "from pyspark.sql.functions import monotonically_increasing_id\n",
    "\n",
    "# This will return a new DF with all the columns + id\n",
    "tr_0s_idx = tr_0s.withColumn(\"idx\", monotonically_increasing_id())"
   ]
  },
  {
   "cell_type": "code",
   "execution_count": 173,
   "metadata": {},
   "outputs": [],
   "source": [
    "ratio = num_1s / tr_0s_idx.count()"
   ]
  },
  {
   "cell_type": "code",
   "execution_count": 174,
   "metadata": {},
   "outputs": [
    {
     "data": {
      "text/plain": [
       "0.033004818156339634"
      ]
     },
     "execution_count": 174,
     "metadata": {},
     "output_type": "execute_result"
    }
   ],
   "source": [
    "ratio"
   ]
  },
  {
   "cell_type": "code",
   "execution_count": 163,
   "metadata": {},
   "outputs": [
    {
     "data": {
      "text/plain": [
       "6707"
      ]
     },
     "execution_count": 163,
     "metadata": {},
     "output_type": "execute_result"
    }
   ],
   "source": [
    "i = 0\n",
    "tr_0s_idx.where(((col('idx') >= i*num_1s) & (col('idx') < (i+1)*num_1s))).count()"
   ]
  },
  {
   "cell_type": "code",
   "execution_count": 167,
   "metadata": {},
   "outputs": [
    {
     "data": {
      "text/plain": [
       "1341592"
      ]
     },
     "execution_count": 167,
     "metadata": {},
     "output_type": "execute_result"
    }
   ],
   "source": [
    "tr_0s_idx.where((col('idx') >= i*num_1s)).count()"
   ]
  },
  {
   "cell_type": "code",
   "execution_count": 168,
   "metadata": {},
   "outputs": [
    {
     "data": {
      "text/plain": [
       "6707"
      ]
     },
     "execution_count": 168,
     "metadata": {},
     "output_type": "execute_result"
    }
   ],
   "source": [
    "tr_0s_idx.where((col('idx') < (i+1)*num_1s)).count()"
   ]
  },
  {
   "cell_type": "code",
   "execution_count": null,
   "metadata": {},
   "outputs": [],
   "source": [
    "tr_0s_idx.where((col('idx') >= i*num_1s)).where((col('idx') < (i+1)*num_1s)).count()"
   ]
  },
  {
   "cell_type": "code",
   "execution_count": 170,
   "metadata": {},
   "outputs": [
    {
     "data": {
      "text/plain": [
       "44279"
      ]
     },
     "execution_count": 170,
     "metadata": {},
     "output_type": "execute_result"
    }
   ],
   "source": [
    "(i+1)*num_1s"
   ]
  },
  {
   "cell_type": "code",
   "execution_count": 182,
   "metadata": {},
   "outputs": [],
   "source": [
    "aa = np.full((1, num_tr_dfs), ratio)"
   ]
  },
  {
   "cell_type": "code",
   "execution_count": 185,
   "metadata": {},
   "outputs": [],
   "source": [
    "bb = np.append(aa, 1-ratio)"
   ]
  },
  {
   "cell_type": "code",
   "execution_count": 186,
   "metadata": {},
   "outputs": [
    {
     "data": {
      "text/plain": [
       "array([0.03300482, 0.03300482, 0.03300482, 0.03300482, 0.03300482,\n",
       "       0.96699518])"
      ]
     },
     "execution_count": 186,
     "metadata": {},
     "output_type": "execute_result"
    }
   ],
   "source": [
    "bb"
   ]
  },
  {
   "cell_type": "code",
   "execution_count": 187,
   "metadata": {},
   "outputs": [],
   "source": [
    "selected_0s = tr_0s.randomSplit(bb)"
   ]
  },
  {
   "cell_type": "code",
   "execution_count": 188,
   "metadata": {
    "scrolled": false
   },
   "outputs": [
    {
     "data": {
      "text/plain": [
       "6"
      ]
     },
     "execution_count": 188,
     "metadata": {},
     "output_type": "execute_result"
    }
   ],
   "source": [
    "len(selected_0s)"
   ]
  },
  {
   "cell_type": "code",
   "execution_count": 189,
   "metadata": {},
   "outputs": [
    {
     "data": {
      "text/plain": [
       "38791"
      ]
     },
     "execution_count": 189,
     "metadata": {},
     "output_type": "execute_result"
    }
   ],
   "source": [
    "selected_0s[0].count()"
   ]
  },
  {
   "cell_type": "code",
   "execution_count": 190,
   "metadata": {},
   "outputs": [
    {
     "data": {
      "text/plain": [
       "39080"
      ]
     },
     "execution_count": 190,
     "metadata": {},
     "output_type": "execute_result"
    }
   ],
   "source": [
    "selected_0s[1].count()"
   ]
  },
  {
   "cell_type": "code",
   "execution_count": 195,
   "metadata": {},
   "outputs": [
    {
     "data": {
      "text/plain": [
       "pyspark.sql.dataframe.DataFrame"
      ]
     },
     "execution_count": 195,
     "metadata": {},
     "output_type": "execute_result"
    }
   ],
   "source": [
    "type(tr_1s.orderBy(rand()).limit(12))"
   ]
  },
  {
   "cell_type": "code",
   "execution_count": null,
   "metadata": {},
   "outputs": [],
   "source": [
    "i = 1\n",
    "tr_0s_idx.where(((col('idx') >= i*num_1s) & (col('idx') < (i+1)*num_1s))).count()"
   ]
  },
  {
   "cell_type": "code",
   "execution_count": 248,
   "metadata": {},
   "outputs": [],
   "source": [
    "num_1s = 44279#tr_1s.count()\n",
    "ratio = num_1s / 1341592.0#tr_0s_idx.count()\n",
    "arr = np.ones(num_tr_dfs + 1)\n",
    "vec_selected_0s = tr_0s.randomSplit(arr)"
   ]
  },
  {
   "cell_type": "code",
   "execution_count": 198,
   "metadata": {
    "scrolled": true
   },
   "outputs": [
    {
     "name": "stdout",
     "output_type": "stream",
     "text": [
      "44279\n",
      "39367\n",
      "39125\n",
      "38848\n",
      "39046\n",
      "39374\n"
     ]
    }
   ],
   "source": [
    "num_1s = 44279#tr_1s.count()\n",
    "ratio = num_1s / 1341592.0#tr_0s_idx.count()\n",
    "arr = np.full((1, num_tr_dfs), ratio)\n",
    "arr = np.append(arr, 1 - ratio*num_tr_dfs)\n",
    "vec_selected_0s = tr_0s.randomSplit(arr)\n",
    "\n",
    "vector_train = []\n",
    "print(num_1s)\n",
    "for i in range(0,num_tr_dfs):\n",
    "    value = vec_selected_0s[i].count()\n",
    "    tr = tr_1s.orderBy(rand()).limit(value).union(vec_selected_0s[i])\n",
    "    print(value)\n",
    "    vector_train.append(tr) "
   ]
  },
  {
   "cell_type": "code",
   "execution_count": null,
   "metadata": {},
   "outputs": [],
   "source": [
    "len(vector_train)"
   ]
  },
  {
   "cell_type": "code",
   "execution_count": 52,
   "metadata": {},
   "outputs": [
    {
     "name": "stdout",
     "output_type": "stream",
     "text": [
      "40221\n"
     ]
    }
   ],
   "source": [
    "num_1s = tr_1s.count()\n",
    "ratio = num_1s / tr_0s.count()\n",
    "arr = np.ones(num_tr_dfs + 1)\n",
    "vec_selected_0s = tr_0s.randomSplit(arr)\n",
    "\n",
    "vector_train = []\n",
    "print(num_1s)\n",
    "for i in range(0,num_tr_dfs):\n",
    "    tr = tr_1s.union(vec_selected_0s[i].limit(num_1s))\n",
    "    vector_train.append(tr) "
   ]
  },
  {
   "cell_type": "code",
   "execution_count": 53,
   "metadata": {},
   "outputs": [
    {
     "data": {
      "text/plain": [
       "3"
      ]
     },
     "execution_count": 53,
     "metadata": {},
     "output_type": "execute_result"
    }
   ],
   "source": [
    "len(vector_train)"
   ]
  },
  {
   "cell_type": "code",
   "execution_count": null,
   "metadata": {},
   "outputs": [],
   "source": [
    "# ***************************************************************************************\n",
    "# ***************************************************************************************\n",
    "# path = \"/data/udf/vf_es/churn/fbb_tmp/trdf_\" + tr_ttdates\n",
    "# trdf = spark.read.parquet(path)\n",
    "# ***************************************************************************************\n",
    "# ***************************************************************************************"
   ]
  },
  {
   "cell_type": "code",
   "execution_count": null,
   "metadata": {},
   "outputs": [],
   "source": [
    "# 1.3. Feature selection"
   ]
  },
  {
   "cell_type": "code",
   "execution_count": 55,
   "metadata": {},
   "outputs": [],
   "source": [
    "train_feats = []\n",
    "for el in vector_train:\n",
    "    train_feats.append(el.columns)"
   ]
  },
  {
   "cell_type": "code",
   "execution_count": 56,
   "metadata": {},
   "outputs": [],
   "source": [
    "allFeats = vector_train[0].columns #Revisar allFeats !!!!\n",
    "catCols=[item[0] for item in vector_train[0].dtypes if item[1].startswith('string')]\n",
    "numerical_feats = list(set(allFeats) - set(list(set().union(getIdFeats(),getIdFeats_tr(), getNoInputFeats(), catCols, [c + \"_enc\" for c in getCatFeatsCrm()], [\"label\"]))))\n"
   ]
  },
  {
   "cell_type": "code",
   "execution_count": 207,
   "metadata": {},
   "outputs": [],
   "source": [
    "vector_train = vector_train2"
   ]
  },
  {
   "cell_type": "code",
   "execution_count": 57,
   "metadata": {
    "scrolled": false
   },
   "outputs": [
    {
     "name": "stdout",
     "output_type": "stream",
     "text": [
      "[Info FbbChurn] 1/2 Selecting the features that add information to the model\n",
      "[Info FbbChurn] 2/2 Selecting the features that add information to the model\n",
      "[Info FbbChurn] 1/2 Selecting the features that add information to the model\n",
      "[Info FbbChurn] 2/2 Selecting the features that add information to the model\n",
      "[Info FbbChurn] 1/2 Selecting the features that add information to the model\n",
      "[Info FbbChurn] 2/2 Selecting the features that add information to the model\n"
     ]
    }
   ],
   "source": [
    "noninf_feats_vec = []\n",
    "for el in vector_train:\n",
    "    noninf_feats = getNonInfFeats(el, numerical_feats)\n",
    "    noninf_feats_vec.append(noninf_feats)"
   ]
  },
  {
   "cell_type": "code",
   "execution_count": null,
   "metadata": {},
   "outputs": [],
   "source": [
    "# 2. TEST DATA"
   ]
  },
  {
   "cell_type": "code",
   "execution_count": 58,
   "metadata": {},
   "outputs": [
    {
     "name": "stdout",
     "output_type": "stream",
     "text": [
      "[Info getCarNumClienteDf] Fri May 31 11:55:57 2019 Size of the original df for 20190131: 13706789\n",
      "[Info FbbChurn] Fri May 31 12:00:18 2019 Saving origindf_tmp to HDFS\n",
      "[Info getCarNumClienteDf] Fri May 31 12:00:19 2019 Size of the origindf after load from HDFS: 13706789\n",
      "[Info getCarNumClienteDf] Fri May 31 12:01:40 2019 Size of the numclidf for 20190131 - Num rows: 2054979 - Num columns: 101\n",
      "[Info FbbChurn] Fri May 31 12:05:09 2019 Saving numclidf_tmp to HDFS\n",
      "[Info get_billing_df] Fri May 31 12:05:09 2019 Starting the preparation of billing feats\n",
      "[Info get_billing_df] Fri May 31 12:05:33 2019 Size of the df with billing feats: 5820445\n",
      "[Info getCarNumClienteDf] Fri May 31 12:05:45 2019 Size of the tmpdf for 20190131 - Num rows: 2054979 - Num columns: 134\n",
      "[Info get_mobile_spinners_df] Fri May 31 12:05:58 2019 Port-out data loaded for 20190131 with a total of 28304454 rows and 11561987 distinct NIFs\n",
      "[Info get_mobile_spinners_df] Fri May 31 12:06:16 2019 Timing feats computed for a total of 11561987 distinct NIFs\n",
      "[Info get_mobile_spinners_df] Fri May 31 12:06:23 2019 Destinatination and state feats computed for a total of 11561987 distinct NIFs\n",
      "[Info getCarNumClienteDf] Fri May 31 12:06:31 2019 Size of the featdf for 20190131 - Num rows: 2054979 - Num columns: 236\n",
      "[Info get_orders_df] Fri May 31 12:10:26 2019 Orders feats up to 20181231 computed - Number of rows is 9105974 for a total of 9105974 distinct num_cliente\n",
      "[Info getCarNumClienteDf] Fri May 31 12:10:42 2019 Size of the featdf for 20190131 - Num rows: 2054979 - Num columns: 238\n",
      "[Info getFbbChurnLabeledCar] Fri May 31 12:11:54 2019 Samples for month 20190131: 2054979\n",
      "20190131\n",
      "20190228\n",
      "[Info getFixPortRequestsForMonth] Fri May 31 12:12:56 2019 Port-out requests for fixed services during period 20190131-20190228: 39854\n",
      "[Info getFbbDxsForMonth] Fri May 31 12:13:08 2019 DXs for FBB services during the period: 20190131-20190228: 63700\n",
      "[Info getFbbChurnLabeledCar] Fri May 31 12:14:01 2019 Labeled samples for month 201901: 2054979\n"
     ]
    }
   ],
   "source": [
    "ttdf_ini = getFbbChurnLabeledCarCycles(spark, origin,ttcycle_ini,selcols, horizon)"
   ]
  },
  {
   "cell_type": "code",
   "execution_count": null,
   "metadata": {},
   "outputs": [],
   "source": [
    "##Añadimos extra features"
   ]
  },
  {
   "cell_type": "code",
   "execution_count": 64,
   "metadata": {},
   "outputs": [],
   "source": [
    "dfExtraFeat_tt = spark.read.parquet('/data/udf/vf_es/churn/extra_feats_mod/extra_feats/year={}/month={}/day={}'\n",
    "                                            .format(int(ttcycle_ini[0:4]), int(ttcycle_ini[4:6]), int(ttcycle_ini[6:8])))\n"
   ]
  },
  {
   "cell_type": "code",
   "execution_count": 65,
   "metadata": {},
   "outputs": [
    {
     "name": "stdout",
     "output_type": "stream",
     "text": [
      "(2054902, 2054902)\n"
     ]
    }
   ],
   "source": [
    "dfExtraFeatfbb_tt=dfExtraFeat_tt.join(ttdf_ini.select('num_cliente'),on='num_cliente',how='right')\n",
    "print(dfExtraFeatfbb_tt.select('num_cliente').distinct().count(),ttdf_ini.select('num_cliente').distinct().count()) \n"
   ]
  },
  {
   "cell_type": "code",
   "execution_count": 66,
   "metadata": {},
   "outputs": [
    {
     "name": "stdout",
     "output_type": "stream",
     "text": [
      "('[Info FbbChurn] Fri May 31 12:26:24 2019 The module for the Extra Feats has been run. Count for the table', 2055133)\n"
     ]
    }
   ],
   "source": [
    "dfExtraFeat_ttSel, selColumnas = addExtraFeats(dfExtraFeatfbb_tt)"
   ]
  },
  {
   "cell_type": "code",
   "execution_count": 67,
   "metadata": {},
   "outputs": [],
   "source": [
    "dfillNa = fillNa(spark)\n",
    "for kkey in dfillNa.keys():\n",
    "    if kkey not in dfExtraFeat_ttSel.columns:\n",
    "        dfillNa.pop(kkey, None)"
   ]
  },
  {
   "cell_type": "code",
   "execution_count": 68,
   "metadata": {},
   "outputs": [],
   "source": [
    "ttdf = ttdf_ini.join(dfExtraFeat_ttSel, [\"msisdn\", \"num_cliente\", 'rgu'], how=\"left\").na.fill(dfillNa)"
   ]
  },
  {
   "cell_type": "code",
   "execution_count": null,
   "metadata": {},
   "outputs": [],
   "source": [
    "# ***************************************************************************************\n",
    "# ***************************************************************************************\n",
    "#path = \"/data/udf/vf_es/churn/fbb_tmp/ttdf_\" + tr_ttdates\n",
    "#ttdf = spark.read.parquet(path)\n",
    "# ***************************************************************************************\n",
    "# ***************************************************************************************"
   ]
  },
  {
   "cell_type": "code",
   "execution_count": null,
   "metadata": {},
   "outputs": [],
   "source": [
    "# 3. MODELLING"
   ]
  },
  {
   "cell_type": "code",
   "execution_count": 70,
   "metadata": {},
   "outputs": [],
   "source": [
    "vector_feats = []\n",
    "for i in range(0,num_tr_dfs):\n",
    "    featCols = list(set(numerical_feats) - set(noninf_feats_vec[i]))\n",
    "    vector_feats.append(featCols)"
   ]
  },
  {
   "cell_type": "code",
   "execution_count": 71,
   "metadata": {},
   "outputs": [],
   "source": [
    "assembler_vec = []\n",
    "for i in range(0,num_tr_dfs):\n",
    "    assembler = VectorAssembler(inputCols = vector_feats[i], outputCol = \"features\")\n",
    "    assembler_vec.append(assembler)"
   ]
  },
  {
   "cell_type": "code",
   "execution_count": 72,
   "metadata": {},
   "outputs": [],
   "source": [
    "classifier = RandomForestClassifier(featuresCol=\"features\",\\\n",
    "        labelCol=\"label\",\\\n",
    "        maxDepth=12,\\\n",
    "        maxBins=32,\\\n",
    "        minInstancesPerNode=200,\\\n",
    "        impurity=\"gini\",\\\n",
    "        featureSubsetStrategy=\"sqrt\",\\\n",
    "        subsamplingRate=0.7,\\\n",
    "        numTrees=800,\\\n",
    "        seed = 1234,)"
   ]
  },
  {
   "cell_type": "code",
   "execution_count": 73,
   "metadata": {},
   "outputs": [],
   "source": [
    "pipeline_vec = []\n",
    "for i in range(0,num_tr_dfs):\n",
    "    pipeline = Pipeline(stages= [assembler_vec[i], classifier])\n",
    "    pipeline_vec.append(pipeline)"
   ]
  },
  {
   "cell_type": "code",
   "execution_count": 75,
   "metadata": {},
   "outputs": [
    {
     "ename": "Py4JJavaError",
     "evalue": "An error occurred while calling o13201.fit.\n: org.apache.spark.SparkException: Job aborted due to stage failure: Task 15 in stage 1995.0 failed 4 times, most recent failure: Lost task 15.3 in stage 1995.0 (TID 313495, vgddp450hr.dc.sedc.internal.vodafone.com, executor 29): java.io.FileNotFoundException: File does not exist: hdfs://nameservice1/data/udf/vf_es/churn/fbb_tmp/numclidf_tmp_20181231/part-00085-776d3a54-b207-42b7-af0c-a7a0b1376094-c000.snappy.parquet\nIt is possible the underlying files have been updated. You can explicitly invalidate the cache in Spark by running 'REFRESH TABLE tableName' command in SQL or by recreating the Dataset/DataFrame involved.\n\tat org.apache.spark.sql.execution.datasources.FileScanRDD$$anon$1.org$apache$spark$sql$execution$datasources$FileScanRDD$$anon$$readCurrentFile(FileScanRDD.scala:131)\n\tat org.apache.spark.sql.execution.datasources.FileScanRDD$$anon$1.nextIterator(FileScanRDD.scala:182)\n\tat org.apache.spark.sql.execution.datasources.FileScanRDD$$anon$1.hasNext(FileScanRDD.scala:109)\n\tat org.apache.spark.sql.catalyst.expressions.GeneratedClass$GeneratedIteratorForCodegenStage29.scan_nextBatch_0$(Unknown Source)\n\tat org.apache.spark.sql.catalyst.expressions.GeneratedClass$GeneratedIteratorForCodegenStage29.processNext(Unknown Source)\n\tat org.apache.spark.sql.execution.BufferedRowIterator.hasNext(BufferedRowIterator.java:43)\n\tat org.apache.spark.sql.execution.WholeStageCodegenExec$$anonfun$10$$anon$1.hasNext(WholeStageCodegenExec.scala:614)\n\tat scala.collection.Iterator$$anon$11.hasNext(Iterator.scala:408)\n\tat org.apache.spark.shuffle.sort.BypassMergeSortShuffleWriter.write(BypassMergeSortShuffleWriter.java:125)\n\tat org.apache.spark.scheduler.ShuffleMapTask.runTask(ShuffleMapTask.scala:96)\n\tat org.apache.spark.scheduler.ShuffleMapTask.runTask(ShuffleMapTask.scala:53)\n\tat org.apache.spark.scheduler.Task.run(Task.scala:109)\n\tat org.apache.spark.executor.Executor$TaskRunner.run(Executor.scala:381)\n\tat java.util.concurrent.ThreadPoolExecutor.runWorker(ThreadPoolExecutor.java:1149)\n\tat java.util.concurrent.ThreadPoolExecutor$Worker.run(ThreadPoolExecutor.java:624)\n\tat java.lang.Thread.run(Thread.java:748)\n\nDriver stacktrace:\n\tat org.apache.spark.scheduler.DAGScheduler.org$apache$spark$scheduler$DAGScheduler$$failJobAndIndependentStages(DAGScheduler.scala:1651)\n\tat org.apache.spark.scheduler.DAGScheduler$$anonfun$abortStage$1.apply(DAGScheduler.scala:1639)\n\tat org.apache.spark.scheduler.DAGScheduler$$anonfun$abortStage$1.apply(DAGScheduler.scala:1638)\n\tat scala.collection.mutable.ResizableArray$class.foreach(ResizableArray.scala:59)\n\tat scala.collection.mutable.ArrayBuffer.foreach(ArrayBuffer.scala:48)\n\tat org.apache.spark.scheduler.DAGScheduler.abortStage(DAGScheduler.scala:1638)\n\tat org.apache.spark.scheduler.DAGScheduler$$anonfun$handleTaskSetFailed$1.apply(DAGScheduler.scala:831)\n\tat org.apache.spark.scheduler.DAGScheduler$$anonfun$handleTaskSetFailed$1.apply(DAGScheduler.scala:831)\n\tat scala.Option.foreach(Option.scala:257)\n\tat org.apache.spark.scheduler.DAGScheduler.handleTaskSetFailed(DAGScheduler.scala:831)\n\tat org.apache.spark.scheduler.DAGSchedulerEventProcessLoop.doOnReceive(DAGScheduler.scala:1872)\n\tat org.apache.spark.scheduler.DAGSchedulerEventProcessLoop.onReceive(DAGScheduler.scala:1821)\n\tat org.apache.spark.scheduler.DAGSchedulerEventProcessLoop.onReceive(DAGScheduler.scala:1810)\n\tat org.apache.spark.util.EventLoop$$anon$1.run(EventLoop.scala:48)\n\tat org.apache.spark.scheduler.DAGScheduler.runJob(DAGScheduler.scala:642)\n\tat org.apache.spark.SparkContext.runJob(SparkContext.scala:2034)\n\tat org.apache.spark.SparkContext.runJob(SparkContext.scala:2055)\n\tat org.apache.spark.SparkContext.runJob(SparkContext.scala:2074)\n\tat org.apache.spark.sql.execution.SparkPlan.executeTake(SparkPlan.scala:363)\n\tat org.apache.spark.sql.execution.CollectLimitExec.executeCollect(limit.scala:38)\n\tat org.apache.spark.sql.Dataset.org$apache$spark$sql$Dataset$$collectFromPlan(Dataset.scala:3278)\n\tat org.apache.spark.sql.Dataset$$anonfun$head$1.apply(Dataset.scala:2489)\n\tat org.apache.spark.sql.Dataset$$anonfun$head$1.apply(Dataset.scala:2489)\n\tat org.apache.spark.sql.Dataset$$anonfun$52.apply(Dataset.scala:3259)\n\tat org.apache.spark.sql.execution.SQLExecution$.withNewExecutionId(SQLExecution.scala:77)\n\tat org.apache.spark.sql.Dataset.withAction(Dataset.scala:3258)\n\tat org.apache.spark.sql.Dataset.head(Dataset.scala:2489)\n\tat org.apache.spark.sql.Dataset.take(Dataset.scala:2703)\n\tat org.apache.spark.ml.classification.Classifier.getNumClasses(Classifier.scala:111)\n\tat org.apache.spark.ml.classification.RandomForestClassifier.train(RandomForestClassifier.scala:121)\n\tat org.apache.spark.ml.classification.RandomForestClassifier.train(RandomForestClassifier.scala:45)\n\tat org.apache.spark.ml.Predictor.fit(Predictor.scala:118)\n\tat org.apache.spark.ml.Predictor.fit(Predictor.scala:82)\n\tat sun.reflect.NativeMethodAccessorImpl.invoke0(Native Method)\n\tat sun.reflect.NativeMethodAccessorImpl.invoke(NativeMethodAccessorImpl.java:62)\n\tat sun.reflect.DelegatingMethodAccessorImpl.invoke(DelegatingMethodAccessorImpl.java:43)\n\tat java.lang.reflect.Method.invoke(Method.java:498)\n\tat py4j.reflection.MethodInvoker.invoke(MethodInvoker.java:244)\n\tat py4j.reflection.ReflectionEngine.invoke(ReflectionEngine.java:357)\n\tat py4j.Gateway.invoke(Gateway.java:282)\n\tat py4j.commands.AbstractCommand.invokeMethod(AbstractCommand.java:132)\n\tat py4j.commands.CallCommand.execute(CallCommand.java:79)\n\tat py4j.GatewayConnection.run(GatewayConnection.java:238)\n\tat java.lang.Thread.run(Thread.java:748)\nCaused by: java.io.FileNotFoundException: File does not exist: hdfs://nameservice1/data/udf/vf_es/churn/fbb_tmp/numclidf_tmp_20181231/part-00085-776d3a54-b207-42b7-af0c-a7a0b1376094-c000.snappy.parquet\nIt is possible the underlying files have been updated. You can explicitly invalidate the cache in Spark by running 'REFRESH TABLE tableName' command in SQL or by recreating the Dataset/DataFrame involved.\n\tat org.apache.spark.sql.execution.datasources.FileScanRDD$$anon$1.org$apache$spark$sql$execution$datasources$FileScanRDD$$anon$$readCurrentFile(FileScanRDD.scala:131)\n\tat org.apache.spark.sql.execution.datasources.FileScanRDD$$anon$1.nextIterator(FileScanRDD.scala:182)\n\tat org.apache.spark.sql.execution.datasources.FileScanRDD$$anon$1.hasNext(FileScanRDD.scala:109)\n\tat org.apache.spark.sql.catalyst.expressions.GeneratedClass$GeneratedIteratorForCodegenStage29.scan_nextBatch_0$(Unknown Source)\n\tat org.apache.spark.sql.catalyst.expressions.GeneratedClass$GeneratedIteratorForCodegenStage29.processNext(Unknown Source)\n\tat org.apache.spark.sql.execution.BufferedRowIterator.hasNext(BufferedRowIterator.java:43)\n\tat org.apache.spark.sql.execution.WholeStageCodegenExec$$anonfun$10$$anon$1.hasNext(WholeStageCodegenExec.scala:614)\n\tat scala.collection.Iterator$$anon$11.hasNext(Iterator.scala:408)\n\tat org.apache.spark.shuffle.sort.BypassMergeSortShuffleWriter.write(BypassMergeSortShuffleWriter.java:125)\n\tat org.apache.spark.scheduler.ShuffleMapTask.runTask(ShuffleMapTask.scala:96)\n\tat org.apache.spark.scheduler.ShuffleMapTask.runTask(ShuffleMapTask.scala:53)\n\tat org.apache.spark.scheduler.Task.run(Task.scala:109)\n\tat org.apache.spark.executor.Executor$TaskRunner.run(Executor.scala:381)\n\tat java.util.concurrent.ThreadPoolExecutor.runWorker(ThreadPoolExecutor.java:1149)\n\tat java.util.concurrent.ThreadPoolExecutor$Worker.run(ThreadPoolExecutor.java:624)\n\t... 1 more\n",
     "output_type": "error",
     "traceback": [
      "\u001b[0;31m\u001b[0m",
      "\u001b[0;31mPy4JJavaError\u001b[0mTraceback (most recent call last)",
      "\u001b[0;32m<ipython-input-75-3f3b93ca3273>\u001b[0m in \u001b[0;36m<module>\u001b[0;34m()\u001b[0m\n\u001b[1;32m      1\u001b[0m \u001b[0mmodels_vec\u001b[0m \u001b[0;34m=\u001b[0m \u001b[0;34m[\u001b[0m\u001b[0;34m]\u001b[0m\u001b[0;34m\u001b[0m\u001b[0m\n\u001b[1;32m      2\u001b[0m \u001b[0;32mfor\u001b[0m \u001b[0mi\u001b[0m \u001b[0;32min\u001b[0m \u001b[0mrange\u001b[0m\u001b[0;34m(\u001b[0m\u001b[0;36m0\u001b[0m\u001b[0;34m,\u001b[0m\u001b[0mnum_tr_dfs\u001b[0m\u001b[0;34m)\u001b[0m\u001b[0;34m:\u001b[0m\u001b[0;34m\u001b[0m\u001b[0m\n\u001b[0;32m----> 3\u001b[0;31m     \u001b[0mmodel\u001b[0m \u001b[0;34m=\u001b[0m \u001b[0mpipeline_vec\u001b[0m\u001b[0;34m[\u001b[0m\u001b[0mi\u001b[0m\u001b[0;34m]\u001b[0m\u001b[0;34m.\u001b[0m\u001b[0mfit\u001b[0m\u001b[0;34m(\u001b[0m\u001b[0mvector_train\u001b[0m\u001b[0;34m[\u001b[0m\u001b[0mi\u001b[0m\u001b[0;34m]\u001b[0m\u001b[0;34m)\u001b[0m\u001b[0;34m\u001b[0m\u001b[0m\n\u001b[0m\u001b[1;32m      4\u001b[0m     \u001b[0mmodels_vec\u001b[0m\u001b[0;34m.\u001b[0m\u001b[0mappend\u001b[0m\u001b[0;34m(\u001b[0m\u001b[0mmodel\u001b[0m\u001b[0;34m)\u001b[0m\u001b[0;34m\u001b[0m\u001b[0m\n\u001b[1;32m      5\u001b[0m     \u001b[0;32mprint\u001b[0m\u001b[0;34m(\u001b[0m\u001b[0mi\u001b[0m\u001b[0;34m)\u001b[0m\u001b[0;34m\u001b[0m\u001b[0m\n",
      "\u001b[0;32m/opt/cloudera/parcels/SPARK2/lib/spark2/python/pyspark/ml/base.py\u001b[0m in \u001b[0;36mfit\u001b[0;34m(self, dataset, params)\u001b[0m\n\u001b[1;32m    130\u001b[0m                 \u001b[0;32mreturn\u001b[0m \u001b[0mself\u001b[0m\u001b[0;34m.\u001b[0m\u001b[0mcopy\u001b[0m\u001b[0;34m(\u001b[0m\u001b[0mparams\u001b[0m\u001b[0;34m)\u001b[0m\u001b[0;34m.\u001b[0m\u001b[0m_fit\u001b[0m\u001b[0;34m(\u001b[0m\u001b[0mdataset\u001b[0m\u001b[0;34m)\u001b[0m\u001b[0;34m\u001b[0m\u001b[0m\n\u001b[1;32m    131\u001b[0m             \u001b[0;32melse\u001b[0m\u001b[0;34m:\u001b[0m\u001b[0;34m\u001b[0m\u001b[0m\n\u001b[0;32m--> 132\u001b[0;31m                 \u001b[0;32mreturn\u001b[0m \u001b[0mself\u001b[0m\u001b[0;34m.\u001b[0m\u001b[0m_fit\u001b[0m\u001b[0;34m(\u001b[0m\u001b[0mdataset\u001b[0m\u001b[0;34m)\u001b[0m\u001b[0;34m\u001b[0m\u001b[0m\n\u001b[0m\u001b[1;32m    133\u001b[0m         \u001b[0;32melse\u001b[0m\u001b[0;34m:\u001b[0m\u001b[0;34m\u001b[0m\u001b[0m\n\u001b[1;32m    134\u001b[0m             raise ValueError(\"Params must be either a param map or a list/tuple of param maps, \"\n",
      "\u001b[0;32m/opt/cloudera/parcels/SPARK2/lib/spark2/python/pyspark/ml/pipeline.py\u001b[0m in \u001b[0;36m_fit\u001b[0;34m(self, dataset)\u001b[0m\n\u001b[1;32m    107\u001b[0m                     \u001b[0mdataset\u001b[0m \u001b[0;34m=\u001b[0m \u001b[0mstage\u001b[0m\u001b[0;34m.\u001b[0m\u001b[0mtransform\u001b[0m\u001b[0;34m(\u001b[0m\u001b[0mdataset\u001b[0m\u001b[0;34m)\u001b[0m\u001b[0;34m\u001b[0m\u001b[0m\n\u001b[1;32m    108\u001b[0m                 \u001b[0;32melse\u001b[0m\u001b[0;34m:\u001b[0m  \u001b[0;31m# must be an Estimator\u001b[0m\u001b[0;34m\u001b[0m\u001b[0m\n\u001b[0;32m--> 109\u001b[0;31m                     \u001b[0mmodel\u001b[0m \u001b[0;34m=\u001b[0m \u001b[0mstage\u001b[0m\u001b[0;34m.\u001b[0m\u001b[0mfit\u001b[0m\u001b[0;34m(\u001b[0m\u001b[0mdataset\u001b[0m\u001b[0;34m)\u001b[0m\u001b[0;34m\u001b[0m\u001b[0m\n\u001b[0m\u001b[1;32m    110\u001b[0m                     \u001b[0mtransformers\u001b[0m\u001b[0;34m.\u001b[0m\u001b[0mappend\u001b[0m\u001b[0;34m(\u001b[0m\u001b[0mmodel\u001b[0m\u001b[0;34m)\u001b[0m\u001b[0;34m\u001b[0m\u001b[0m\n\u001b[1;32m    111\u001b[0m                     \u001b[0;32mif\u001b[0m \u001b[0mi\u001b[0m \u001b[0;34m<\u001b[0m \u001b[0mindexOfLastEstimator\u001b[0m\u001b[0;34m:\u001b[0m\u001b[0;34m\u001b[0m\u001b[0m\n",
      "\u001b[0;32m/opt/cloudera/parcels/SPARK2/lib/spark2/python/pyspark/ml/base.py\u001b[0m in \u001b[0;36mfit\u001b[0;34m(self, dataset, params)\u001b[0m\n\u001b[1;32m    130\u001b[0m                 \u001b[0;32mreturn\u001b[0m \u001b[0mself\u001b[0m\u001b[0;34m.\u001b[0m\u001b[0mcopy\u001b[0m\u001b[0;34m(\u001b[0m\u001b[0mparams\u001b[0m\u001b[0;34m)\u001b[0m\u001b[0;34m.\u001b[0m\u001b[0m_fit\u001b[0m\u001b[0;34m(\u001b[0m\u001b[0mdataset\u001b[0m\u001b[0;34m)\u001b[0m\u001b[0;34m\u001b[0m\u001b[0m\n\u001b[1;32m    131\u001b[0m             \u001b[0;32melse\u001b[0m\u001b[0;34m:\u001b[0m\u001b[0;34m\u001b[0m\u001b[0m\n\u001b[0;32m--> 132\u001b[0;31m                 \u001b[0;32mreturn\u001b[0m \u001b[0mself\u001b[0m\u001b[0;34m.\u001b[0m\u001b[0m_fit\u001b[0m\u001b[0;34m(\u001b[0m\u001b[0mdataset\u001b[0m\u001b[0;34m)\u001b[0m\u001b[0;34m\u001b[0m\u001b[0m\n\u001b[0m\u001b[1;32m    133\u001b[0m         \u001b[0;32melse\u001b[0m\u001b[0;34m:\u001b[0m\u001b[0;34m\u001b[0m\u001b[0m\n\u001b[1;32m    134\u001b[0m             raise ValueError(\"Params must be either a param map or a list/tuple of param maps, \"\n",
      "\u001b[0;32m/opt/cloudera/parcels/SPARK2/lib/spark2/python/pyspark/ml/wrapper.py\u001b[0m in \u001b[0;36m_fit\u001b[0;34m(self, dataset)\u001b[0m\n\u001b[1;32m    286\u001b[0m \u001b[0;34m\u001b[0m\u001b[0m\n\u001b[1;32m    287\u001b[0m     \u001b[0;32mdef\u001b[0m \u001b[0m_fit\u001b[0m\u001b[0;34m(\u001b[0m\u001b[0mself\u001b[0m\u001b[0;34m,\u001b[0m \u001b[0mdataset\u001b[0m\u001b[0;34m)\u001b[0m\u001b[0;34m:\u001b[0m\u001b[0;34m\u001b[0m\u001b[0m\n\u001b[0;32m--> 288\u001b[0;31m         \u001b[0mjava_model\u001b[0m \u001b[0;34m=\u001b[0m \u001b[0mself\u001b[0m\u001b[0;34m.\u001b[0m\u001b[0m_fit_java\u001b[0m\u001b[0;34m(\u001b[0m\u001b[0mdataset\u001b[0m\u001b[0;34m)\u001b[0m\u001b[0;34m\u001b[0m\u001b[0m\n\u001b[0m\u001b[1;32m    289\u001b[0m         \u001b[0mmodel\u001b[0m \u001b[0;34m=\u001b[0m \u001b[0mself\u001b[0m\u001b[0;34m.\u001b[0m\u001b[0m_create_model\u001b[0m\u001b[0;34m(\u001b[0m\u001b[0mjava_model\u001b[0m\u001b[0;34m)\u001b[0m\u001b[0;34m\u001b[0m\u001b[0m\n\u001b[1;32m    290\u001b[0m         \u001b[0;32mreturn\u001b[0m \u001b[0mself\u001b[0m\u001b[0;34m.\u001b[0m\u001b[0m_copyValues\u001b[0m\u001b[0;34m(\u001b[0m\u001b[0mmodel\u001b[0m\u001b[0;34m)\u001b[0m\u001b[0;34m\u001b[0m\u001b[0m\n",
      "\u001b[0;32m/opt/cloudera/parcels/SPARK2/lib/spark2/python/pyspark/ml/wrapper.py\u001b[0m in \u001b[0;36m_fit_java\u001b[0;34m(self, dataset)\u001b[0m\n\u001b[1;32m    283\u001b[0m         \"\"\"\n\u001b[1;32m    284\u001b[0m         \u001b[0mself\u001b[0m\u001b[0;34m.\u001b[0m\u001b[0m_transfer_params_to_java\u001b[0m\u001b[0;34m(\u001b[0m\u001b[0;34m)\u001b[0m\u001b[0;34m\u001b[0m\u001b[0m\n\u001b[0;32m--> 285\u001b[0;31m         \u001b[0;32mreturn\u001b[0m \u001b[0mself\u001b[0m\u001b[0;34m.\u001b[0m\u001b[0m_java_obj\u001b[0m\u001b[0;34m.\u001b[0m\u001b[0mfit\u001b[0m\u001b[0;34m(\u001b[0m\u001b[0mdataset\u001b[0m\u001b[0;34m.\u001b[0m\u001b[0m_jdf\u001b[0m\u001b[0;34m)\u001b[0m\u001b[0;34m\u001b[0m\u001b[0m\n\u001b[0m\u001b[1;32m    286\u001b[0m \u001b[0;34m\u001b[0m\u001b[0m\n\u001b[1;32m    287\u001b[0m     \u001b[0;32mdef\u001b[0m \u001b[0m_fit\u001b[0m\u001b[0;34m(\u001b[0m\u001b[0mself\u001b[0m\u001b[0;34m,\u001b[0m \u001b[0mdataset\u001b[0m\u001b[0;34m)\u001b[0m\u001b[0;34m:\u001b[0m\u001b[0;34m\u001b[0m\u001b[0m\n",
      "\u001b[0;32m/opt/cloudera/parcels/Anaconda-2.5.0/lib/python2.7/site-packages/py4j/java_gateway.pyc\u001b[0m in \u001b[0;36m__call__\u001b[0;34m(self, *args)\u001b[0m\n\u001b[1;32m   1255\u001b[0m         \u001b[0manswer\u001b[0m \u001b[0;34m=\u001b[0m \u001b[0mself\u001b[0m\u001b[0;34m.\u001b[0m\u001b[0mgateway_client\u001b[0m\u001b[0;34m.\u001b[0m\u001b[0msend_command\u001b[0m\u001b[0;34m(\u001b[0m\u001b[0mcommand\u001b[0m\u001b[0;34m)\u001b[0m\u001b[0;34m\u001b[0m\u001b[0m\n\u001b[1;32m   1256\u001b[0m         return_value = get_return_value(\n\u001b[0;32m-> 1257\u001b[0;31m             answer, self.gateway_client, self.target_id, self.name)\n\u001b[0m\u001b[1;32m   1258\u001b[0m \u001b[0;34m\u001b[0m\u001b[0m\n\u001b[1;32m   1259\u001b[0m         \u001b[0;32mfor\u001b[0m \u001b[0mtemp_arg\u001b[0m \u001b[0;32min\u001b[0m \u001b[0mtemp_args\u001b[0m\u001b[0;34m:\u001b[0m\u001b[0;34m\u001b[0m\u001b[0m\n",
      "\u001b[0;32m/opt/cloudera/parcels/SPARK2/lib/spark2/python/pyspark/sql/utils.py\u001b[0m in \u001b[0;36mdeco\u001b[0;34m(*a, **kw)\u001b[0m\n\u001b[1;32m     61\u001b[0m     \u001b[0;32mdef\u001b[0m \u001b[0mdeco\u001b[0m\u001b[0;34m(\u001b[0m\u001b[0;34m*\u001b[0m\u001b[0ma\u001b[0m\u001b[0;34m,\u001b[0m \u001b[0;34m**\u001b[0m\u001b[0mkw\u001b[0m\u001b[0;34m)\u001b[0m\u001b[0;34m:\u001b[0m\u001b[0;34m\u001b[0m\u001b[0m\n\u001b[1;32m     62\u001b[0m         \u001b[0;32mtry\u001b[0m\u001b[0;34m:\u001b[0m\u001b[0;34m\u001b[0m\u001b[0m\n\u001b[0;32m---> 63\u001b[0;31m             \u001b[0;32mreturn\u001b[0m \u001b[0mf\u001b[0m\u001b[0;34m(\u001b[0m\u001b[0;34m*\u001b[0m\u001b[0ma\u001b[0m\u001b[0;34m,\u001b[0m \u001b[0;34m**\u001b[0m\u001b[0mkw\u001b[0m\u001b[0;34m)\u001b[0m\u001b[0;34m\u001b[0m\u001b[0m\n\u001b[0m\u001b[1;32m     64\u001b[0m         \u001b[0;32mexcept\u001b[0m \u001b[0mpy4j\u001b[0m\u001b[0;34m.\u001b[0m\u001b[0mprotocol\u001b[0m\u001b[0;34m.\u001b[0m\u001b[0mPy4JJavaError\u001b[0m \u001b[0;32mas\u001b[0m \u001b[0me\u001b[0m\u001b[0;34m:\u001b[0m\u001b[0;34m\u001b[0m\u001b[0m\n\u001b[1;32m     65\u001b[0m             \u001b[0ms\u001b[0m \u001b[0;34m=\u001b[0m \u001b[0me\u001b[0m\u001b[0;34m.\u001b[0m\u001b[0mjava_exception\u001b[0m\u001b[0;34m.\u001b[0m\u001b[0mtoString\u001b[0m\u001b[0;34m(\u001b[0m\u001b[0;34m)\u001b[0m\u001b[0;34m\u001b[0m\u001b[0m\n",
      "\u001b[0;32m/opt/cloudera/parcels/Anaconda-2.5.0/lib/python2.7/site-packages/py4j/protocol.pyc\u001b[0m in \u001b[0;36mget_return_value\u001b[0;34m(answer, gateway_client, target_id, name)\u001b[0m\n\u001b[1;32m    326\u001b[0m                 raise Py4JJavaError(\n\u001b[1;32m    327\u001b[0m                     \u001b[0;34m\"An error occurred while calling {0}{1}{2}.\\n\"\u001b[0m\u001b[0;34m.\u001b[0m\u001b[0;34m\u001b[0m\u001b[0m\n\u001b[0;32m--> 328\u001b[0;31m                     format(target_id, \".\", name), value)\n\u001b[0m\u001b[1;32m    329\u001b[0m             \u001b[0;32melse\u001b[0m\u001b[0;34m:\u001b[0m\u001b[0;34m\u001b[0m\u001b[0m\n\u001b[1;32m    330\u001b[0m                 raise Py4JError(\n",
      "\u001b[0;31mPy4JJavaError\u001b[0m: An error occurred while calling o13201.fit.\n: org.apache.spark.SparkException: Job aborted due to stage failure: Task 15 in stage 1995.0 failed 4 times, most recent failure: Lost task 15.3 in stage 1995.0 (TID 313495, vgddp450hr.dc.sedc.internal.vodafone.com, executor 29): java.io.FileNotFoundException: File does not exist: hdfs://nameservice1/data/udf/vf_es/churn/fbb_tmp/numclidf_tmp_20181231/part-00085-776d3a54-b207-42b7-af0c-a7a0b1376094-c000.snappy.parquet\nIt is possible the underlying files have been updated. You can explicitly invalidate the cache in Spark by running 'REFRESH TABLE tableName' command in SQL or by recreating the Dataset/DataFrame involved.\n\tat org.apache.spark.sql.execution.datasources.FileScanRDD$$anon$1.org$apache$spark$sql$execution$datasources$FileScanRDD$$anon$$readCurrentFile(FileScanRDD.scala:131)\n\tat org.apache.spark.sql.execution.datasources.FileScanRDD$$anon$1.nextIterator(FileScanRDD.scala:182)\n\tat org.apache.spark.sql.execution.datasources.FileScanRDD$$anon$1.hasNext(FileScanRDD.scala:109)\n\tat org.apache.spark.sql.catalyst.expressions.GeneratedClass$GeneratedIteratorForCodegenStage29.scan_nextBatch_0$(Unknown Source)\n\tat org.apache.spark.sql.catalyst.expressions.GeneratedClass$GeneratedIteratorForCodegenStage29.processNext(Unknown Source)\n\tat org.apache.spark.sql.execution.BufferedRowIterator.hasNext(BufferedRowIterator.java:43)\n\tat org.apache.spark.sql.execution.WholeStageCodegenExec$$anonfun$10$$anon$1.hasNext(WholeStageCodegenExec.scala:614)\n\tat scala.collection.Iterator$$anon$11.hasNext(Iterator.scala:408)\n\tat org.apache.spark.shuffle.sort.BypassMergeSortShuffleWriter.write(BypassMergeSortShuffleWriter.java:125)\n\tat org.apache.spark.scheduler.ShuffleMapTask.runTask(ShuffleMapTask.scala:96)\n\tat org.apache.spark.scheduler.ShuffleMapTask.runTask(ShuffleMapTask.scala:53)\n\tat org.apache.spark.scheduler.Task.run(Task.scala:109)\n\tat org.apache.spark.executor.Executor$TaskRunner.run(Executor.scala:381)\n\tat java.util.concurrent.ThreadPoolExecutor.runWorker(ThreadPoolExecutor.java:1149)\n\tat java.util.concurrent.ThreadPoolExecutor$Worker.run(ThreadPoolExecutor.java:624)\n\tat java.lang.Thread.run(Thread.java:748)\n\nDriver stacktrace:\n\tat org.apache.spark.scheduler.DAGScheduler.org$apache$spark$scheduler$DAGScheduler$$failJobAndIndependentStages(DAGScheduler.scala:1651)\n\tat org.apache.spark.scheduler.DAGScheduler$$anonfun$abortStage$1.apply(DAGScheduler.scala:1639)\n\tat org.apache.spark.scheduler.DAGScheduler$$anonfun$abortStage$1.apply(DAGScheduler.scala:1638)\n\tat scala.collection.mutable.ResizableArray$class.foreach(ResizableArray.scala:59)\n\tat scala.collection.mutable.ArrayBuffer.foreach(ArrayBuffer.scala:48)\n\tat org.apache.spark.scheduler.DAGScheduler.abortStage(DAGScheduler.scala:1638)\n\tat org.apache.spark.scheduler.DAGScheduler$$anonfun$handleTaskSetFailed$1.apply(DAGScheduler.scala:831)\n\tat org.apache.spark.scheduler.DAGScheduler$$anonfun$handleTaskSetFailed$1.apply(DAGScheduler.scala:831)\n\tat scala.Option.foreach(Option.scala:257)\n\tat org.apache.spark.scheduler.DAGScheduler.handleTaskSetFailed(DAGScheduler.scala:831)\n\tat org.apache.spark.scheduler.DAGSchedulerEventProcessLoop.doOnReceive(DAGScheduler.scala:1872)\n\tat org.apache.spark.scheduler.DAGSchedulerEventProcessLoop.onReceive(DAGScheduler.scala:1821)\n\tat org.apache.spark.scheduler.DAGSchedulerEventProcessLoop.onReceive(DAGScheduler.scala:1810)\n\tat org.apache.spark.util.EventLoop$$anon$1.run(EventLoop.scala:48)\n\tat org.apache.spark.scheduler.DAGScheduler.runJob(DAGScheduler.scala:642)\n\tat org.apache.spark.SparkContext.runJob(SparkContext.scala:2034)\n\tat org.apache.spark.SparkContext.runJob(SparkContext.scala:2055)\n\tat org.apache.spark.SparkContext.runJob(SparkContext.scala:2074)\n\tat org.apache.spark.sql.execution.SparkPlan.executeTake(SparkPlan.scala:363)\n\tat org.apache.spark.sql.execution.CollectLimitExec.executeCollect(limit.scala:38)\n\tat org.apache.spark.sql.Dataset.org$apache$spark$sql$Dataset$$collectFromPlan(Dataset.scala:3278)\n\tat org.apache.spark.sql.Dataset$$anonfun$head$1.apply(Dataset.scala:2489)\n\tat org.apache.spark.sql.Dataset$$anonfun$head$1.apply(Dataset.scala:2489)\n\tat org.apache.spark.sql.Dataset$$anonfun$52.apply(Dataset.scala:3259)\n\tat org.apache.spark.sql.execution.SQLExecution$.withNewExecutionId(SQLExecution.scala:77)\n\tat org.apache.spark.sql.Dataset.withAction(Dataset.scala:3258)\n\tat org.apache.spark.sql.Dataset.head(Dataset.scala:2489)\n\tat org.apache.spark.sql.Dataset.take(Dataset.scala:2703)\n\tat org.apache.spark.ml.classification.Classifier.getNumClasses(Classifier.scala:111)\n\tat org.apache.spark.ml.classification.RandomForestClassifier.train(RandomForestClassifier.scala:121)\n\tat org.apache.spark.ml.classification.RandomForestClassifier.train(RandomForestClassifier.scala:45)\n\tat org.apache.spark.ml.Predictor.fit(Predictor.scala:118)\n\tat org.apache.spark.ml.Predictor.fit(Predictor.scala:82)\n\tat sun.reflect.NativeMethodAccessorImpl.invoke0(Native Method)\n\tat sun.reflect.NativeMethodAccessorImpl.invoke(NativeMethodAccessorImpl.java:62)\n\tat sun.reflect.DelegatingMethodAccessorImpl.invoke(DelegatingMethodAccessorImpl.java:43)\n\tat java.lang.reflect.Method.invoke(Method.java:498)\n\tat py4j.reflection.MethodInvoker.invoke(MethodInvoker.java:244)\n\tat py4j.reflection.ReflectionEngine.invoke(ReflectionEngine.java:357)\n\tat py4j.Gateway.invoke(Gateway.java:282)\n\tat py4j.commands.AbstractCommand.invokeMethod(AbstractCommand.java:132)\n\tat py4j.commands.CallCommand.execute(CallCommand.java:79)\n\tat py4j.GatewayConnection.run(GatewayConnection.java:238)\n\tat java.lang.Thread.run(Thread.java:748)\nCaused by: java.io.FileNotFoundException: File does not exist: hdfs://nameservice1/data/udf/vf_es/churn/fbb_tmp/numclidf_tmp_20181231/part-00085-776d3a54-b207-42b7-af0c-a7a0b1376094-c000.snappy.parquet\nIt is possible the underlying files have been updated. You can explicitly invalidate the cache in Spark by running 'REFRESH TABLE tableName' command in SQL or by recreating the Dataset/DataFrame involved.\n\tat org.apache.spark.sql.execution.datasources.FileScanRDD$$anon$1.org$apache$spark$sql$execution$datasources$FileScanRDD$$anon$$readCurrentFile(FileScanRDD.scala:131)\n\tat org.apache.spark.sql.execution.datasources.FileScanRDD$$anon$1.nextIterator(FileScanRDD.scala:182)\n\tat org.apache.spark.sql.execution.datasources.FileScanRDD$$anon$1.hasNext(FileScanRDD.scala:109)\n\tat org.apache.spark.sql.catalyst.expressions.GeneratedClass$GeneratedIteratorForCodegenStage29.scan_nextBatch_0$(Unknown Source)\n\tat org.apache.spark.sql.catalyst.expressions.GeneratedClass$GeneratedIteratorForCodegenStage29.processNext(Unknown Source)\n\tat org.apache.spark.sql.execution.BufferedRowIterator.hasNext(BufferedRowIterator.java:43)\n\tat org.apache.spark.sql.execution.WholeStageCodegenExec$$anonfun$10$$anon$1.hasNext(WholeStageCodegenExec.scala:614)\n\tat scala.collection.Iterator$$anon$11.hasNext(Iterator.scala:408)\n\tat org.apache.spark.shuffle.sort.BypassMergeSortShuffleWriter.write(BypassMergeSortShuffleWriter.java:125)\n\tat org.apache.spark.scheduler.ShuffleMapTask.runTask(ShuffleMapTask.scala:96)\n\tat org.apache.spark.scheduler.ShuffleMapTask.runTask(ShuffleMapTask.scala:53)\n\tat org.apache.spark.scheduler.Task.run(Task.scala:109)\n\tat org.apache.spark.executor.Executor$TaskRunner.run(Executor.scala:381)\n\tat java.util.concurrent.ThreadPoolExecutor.runWorker(ThreadPoolExecutor.java:1149)\n\tat java.util.concurrent.ThreadPoolExecutor$Worker.run(ThreadPoolExecutor.java:624)\n\t... 1 more\n"
     ]
    }
   ],
   "source": [
    "models_vec = []\n",
    "for i in range(0,num_tr_dfs):\n",
    "    model = pipeline_vec[i].fit(vector_train[i])\n",
    "    models_vec.append(model)\n",
    "    print(i)"
   ]
  },
  {
   "cell_type": "code",
   "execution_count": null,
   "metadata": {},
   "outputs": [],
   "source": [
    "def get_calibration_function_vec(spark, model, valdf, labelcol, numpoints = 10, num = 0):\n",
    "    import numpy as np\n",
    "    score_name = \"model_score_\" + str(num)\n",
    "    score_calib_name ='calib_model_score_' + str(num)\n",
    "    getScore = udf(lambda prob: float(prob[1]), DoubleType())\n",
    "    valpredsdf = model.transform(valdf).withColumn(score_name, getScore(col(\"probability\")).cast(DoubleType())).select([score_name, labelcol])\n",
    "    minprob = valpredsdf.select(sql_min(score_name).alias('min')).rdd.collect()[0]['min']\n",
    "    maxprob = valpredsdf.select(sql_max(score_name).alias('max')).rdd.collect()[0]['max']\n",
    "    numlabels = float(valpredsdf.filter(col(labelcol) == 1.0).count())\n",
    "    print \"[Info Calibration] Training - Num samples in the target class \" + str(numlabels)\n",
    "    delta = float(maxprob - minprob)/float(numpoints)\n",
    "    ths = list([(minprob + i*delta) for i in list(np.arange(1,numpoints,step=1))])\n",
    "    samplepoints = [(float(i), float(valpredsdf.filter((col(score_name) <= i) & (col(labelcol) == 1.0)).count())/numlabels) for i in ths]\n",
    "    # samplepoints = [(float(i), valpredsdf.filter(col('model_score') <= i &).select(sql_avg(labelcol).alias('rate')).rdd.collect()[0]['rate']) for i in ths]\n",
    "    for pair in samplepoints:\n",
    "        print \"[Info Calibration] Training \" + str(pair[0]) + \", \" + str(pair[1])\n",
    "    sampledf = spark.createDataFrame(samplepoints, [score_name, 'target_prob'])\n",
    "    sampledf.show()\n",
    "    print \"[Info Calibration] Samples to implement the calibration model showed above\"\n",
    "    ir = IsotonicRegression(featuresCol=score_name, labelCol='target_prob', predictionCol=score_calib_name)\n",
    "    irmodel = ir.fit(sampledf)\n",
    "    return (irmodel, samplepoints)"
   ]
  },
  {
   "cell_type": "code",
   "execution_count": null,
   "metadata": {},
   "outputs": [],
   "source": [
    "# ***************************************************************************************\n",
    "# ***************************************************************************************\n",
    "# path2 = '/data/udf/vf_es/churn/fbb_tmp/valdf_' + tr_ttdates\n",
    "# valdf = spark.read.parquet(path2)\n",
    "# ***************************************************************************************\n",
    "# ***************************************************************************************"
   ]
  },
  {
   "cell_type": "code",
   "execution_count": null,
   "metadata": {
    "scrolled": true
   },
   "outputs": [],
   "source": [
    "# EVALUATION\n",
    "# Calibration\n",
    "calibration_vec = []\n",
    "for i in range(0,num_tr_dfs):\n",
    "    calibmodel = get_calibration_function_vec(spark, models_vec[i], valdf, 'label', 10, i)\n",
    "    calibration_vec.append(calibmodel)\n",
    "    print(i)"
   ]
  },
  {
   "cell_type": "code",
   "execution_count": 218,
   "metadata": {},
   "outputs": [],
   "source": [
    "getScore = udf(lambda prob: float(prob[1]), DoubleType())"
   ]
  },
  {
   "cell_type": "code",
   "execution_count": 220,
   "metadata": {
    "scrolled": true
   },
   "outputs": [
    {
     "name": "stdout",
     "output_type": "stream",
     "text": [
      "0\n",
      "1\n",
      "2\n",
      "3\n",
      "4\n"
     ]
    }
   ],
   "source": [
    "# Train\n",
    "tr_calib_vec = []\n",
    "for i in range(0, num_tr_dfs):\n",
    "    tr_preds_df = models_vec[i].transform(vector_train[i]).withColumn(\"model_score_\" + str(i), getScore(col(\"probability\")).cast(DoubleType()))\n",
    "    tr_calib_preds_df = calibration_vec[i][0].transform(tr_preds_df)\n",
    "    tr_calib_vec.append(tr_calib_preds_df)\n",
    "    print(i)"
   ]
  },
  {
   "cell_type": "code",
   "execution_count": 221,
   "metadata": {
    "scrolled": false
   },
   "outputs": [
    {
     "name": "stdout",
     "output_type": "stream",
     "text": [
      "0.754406933206\n",
      "0\n",
      "0.755106476011\n",
      "1\n",
      "0.753097394074\n",
      "2\n",
      "0.755560008586\n",
      "3\n",
      "0.755012309843\n",
      "4\n"
     ]
    }
   ],
   "source": [
    "tr_metrics_vec = []\n",
    "# Train evaluation\n",
    "#tr_calib_vec = []\n",
    "for i in range(0, num_tr_dfs):#'calib_model_score_' + str(num)\n",
    "    trPredictionAndLabels = tr_calib_vec[i].select(['calib_model_score_' + str(i), 'label']).rdd.map(lambda r: (r['calib_model_score_' + str(i)], r['label']))\n",
    "    trmetrics = BinaryClassificationMetrics(trPredictionAndLabels)\n",
    "    print(trmetrics.areaUnderROC)\n",
    "    tr_metrics_vec.append(trmetrics)\n",
    "    print(i)"
   ]
  },
  {
   "cell_type": "code",
   "execution_count": 222,
   "metadata": {},
   "outputs": [
    {
     "name": "stdout",
     "output_type": "stream",
     "text": [
      "0\n",
      "1\n",
      "2\n",
      "3\n",
      "4\n"
     ]
    }
   ],
   "source": [
    "# Test eval\n",
    "df_aux = ttdf\n",
    "for i in range(0, num_tr_dfs):\n",
    "    df_aux = models_vec[i].transform(df_aux).withColumn(\"model_score_\" + str(i), getScore(col(\"probability\")).cast(DoubleType())).drop(col('probability'))\n",
    "    # tt_preds_df\n",
    "    df_aux = calibration_vec[i][0].transform(df_aux.drop(col('features')).drop(col('prediction')).drop(col('rawPrediction')))\n",
    "    print(i)\n",
    "    \n",
    "save_dir = 'tests_es.asaezco_fbb_improved_' + str(20190131)\n",
    "df_aux.write.format('parquet').mode('overwrite').saveAsTable(save_dir)"
   ]
  },
  {
   "cell_type": "code",
   "execution_count": 223,
   "metadata": {},
   "outputs": [
    {
     "name": "stdout",
     "output_type": "stream",
     "text": [
      "root\n",
      " |-- msisdn: string (nullable = true)\n",
      " |-- num_cliente: string (nullable = true)\n",
      " |-- rgu: string (nullable = true)\n",
      " |-- campo1: string (nullable = true)\n",
      " |-- msisdn_d: string (nullable = true)\n",
      " |-- nif_cliente: string (nullable = true)\n",
      " |-- mean_dias_desde_fx_srv_basic: double (nullable = false)\n",
      " |-- movil_services: long (nullable = true)\n",
      " |-- tv_services: long (nullable = true)\n",
      " |-- total_penal_cust_pending_n3_penal_amount: double (nullable = false)\n",
      " |-- x_formato_factura: string (nullable = true)\n",
      " |-- x_user_twitter: string (nullable = true)\n",
      " |-- total_penal_cust_pending_n4_penal_amount: double (nullable = false)\n",
      " |-- dias_desde_bam-movil_fx_first: double (nullable = false)\n",
      " |-- max_dias_desde_fx_trybuy_autom_tv: double (nullable = false)\n",
      " |-- total_price_tariff: double (nullable = false)\n",
      " |-- flg_robinson: string (nullable = true)\n",
      " |-- pvr_services: double (nullable = false)\n",
      " |-- num_tariff_redl: double (nullable = false)\n",
      " |-- dias_desde_fx_fbb_upgrade: double (nullable = false)\n",
      " |-- max_dias_desde_fx_srv_basic: double (nullable = false)\n",
      " |-- total_price_trybuy: double (nullable = false)\n",
      " |-- total_penal_srv_pending_n4_penal_amount: double (nullable = false)\n",
      " |-- max_dias_desde_fx_pvr_tv: double (nullable = false)\n",
      " |-- max_dias_desde_fx_football_tv: double (nullable = false)\n",
      " |-- total_max_dias_hasta_penal_cust_pending_end_date: double (nullable = false)\n",
      " |-- trybuy_services: double (nullable = false)\n",
      " |-- min_price_srv_basic: double (nullable = false)\n",
      " |-- total_penal_cust_pending_n2_penal_amount: double (nullable = false)\n",
      " |-- x_datos_trafico: string (nullable = true)\n",
      " |-- total_min_dias_hasta_penal_srv_pending_end_date: double (nullable = false)\n",
      " |-- cta_correo: string (nullable = true)\n",
      " |-- gender2hgbst_elm: string (nullable = true)\n",
      " |-- dias_desde_fixed_fx_first: double (nullable = false)\n",
      " |-- max_price_srv_basic: double (nullable = false)\n",
      " |-- total_penal_srv_pending_n5_penal_amount: double (nullable = false)\n",
      " |-- prepaid_services: long (nullable = true)\n",
      " |-- hz_services: double (nullable = false)\n",
      " |-- dias_desde_tv_fx_first: double (nullable = false)\n",
      " |-- dias_desde_movil_fx_first: double (nullable = false)\n",
      " |-- total_penal_srv_pending_n1_penal_amount: double (nullable = false)\n",
      " |-- total_max_dias_hasta_penal_srv_pending_end_date: double (nullable = false)\n",
      " |-- num_tariff_xs: double (nullable = false)\n",
      " |-- total_price_motor: double (nullable = false)\n",
      " |-- x_user_facebook: string (nullable = true)\n",
      " |-- fixed_services: long (nullable = true)\n",
      " |-- fbb_upgrade: string (nullable = true)\n",
      " |-- max_dias_desde_fx_zapper_tv: double (nullable = false)\n",
      " |-- total_penal_srv_pending_n2_penal_amount: double (nullable = false)\n",
      " |-- factura_electronica: string (nullable = true)\n",
      " |-- num_tariff_plana200min: double (nullable = false)\n",
      " |-- max_dias_desde_fx_trybuy_tv: double (nullable = false)\n",
      " |-- min_price_tariff: double (nullable = false)\n",
      " |-- bam-movil_services: long (nullable = true)\n",
      " |-- total_penal_srv_pending_n3_penal_amount: double (nullable = false)\n",
      " |-- num_tariff_unknown: double (nullable = false)\n",
      " |-- total_min_dias_hasta_penal_cust_pending_end_date: double (nullable = false)\n",
      " |-- x_cesion_datos: string (nullable = true)\n",
      " |-- football_services: double (nullable = false)\n",
      " |-- trybuy_autom_services: double (nullable = false)\n",
      " |-- total_price_zapper: double (nullable = false)\n",
      " |-- marriage2hgbst_elm: string (nullable = true)\n",
      " |-- total_price_pvr: double (nullable = false)\n",
      " |-- num_2lins: double (nullable = false)\n",
      " |-- fbb_services: long (nullable = true)\n",
      " |-- num_tariff_smart: double (nullable = false)\n",
      " |-- x_publicidad_email: string (nullable = true)\n",
      " |-- cliente_migrado: string (nullable = true)\n",
      " |-- x_idioma_factura: string (nullable = true)\n",
      " |-- num_tariff_otros: double (nullable = false)\n",
      " |-- metodo_pago: string (nullable = true)\n",
      " |-- max_price_tariff: double (nullable = false)\n",
      " |-- bam_services: long (nullable = true)\n",
      " |-- total_price_dto_lev2: double (nullable = false)\n",
      " |-- superoferta: string (nullable = true)\n",
      " |-- total_price_dto_lev1: double (nullable = false)\n",
      " |-- total_penal_cust_pending_n5_penal_amount: double (nullable = false)\n",
      " |-- total_price_football: double (nullable = false)\n",
      " |-- x_antiguedad_cuenta: string (nullable = true)\n",
      " |-- dias_desde_prepaid_fx_first: double (nullable = false)\n",
      " |-- total_tv_total_charges: double (nullable = false)\n",
      " |-- num_tariff_minim: double (nullable = false)\n",
      " |-- dias_desde_fbb_fx_first: double (nullable = false)\n",
      " |-- mean_price_srv_basic: double (nullable = false)\n",
      " |-- dias_desde_bam_fx_first: double (nullable = false)\n",
      " |-- zapper_services: double (nullable = false)\n",
      " |-- motor_services: double (nullable = false)\n",
      " |-- num_tariff_maslineasmini: double (nullable = false)\n",
      " |-- num_tariff_redm: double (nullable = false)\n",
      " |-- total_price_srv_basic: double (nullable = false)\n",
      " |-- nacionalidad: string (nullable = true)\n",
      " |-- total_price_trybuy_autom: double (nullable = false)\n",
      " |-- max_dias_desde_fx_motor_tv: double (nullable = false)\n",
      " |-- min_dias_desde_fx_dto_lev1: double (nullable = false)\n",
      " |-- min_dias_desde_fx_dto_lev2: double (nullable = false)\n",
      " |-- num_tariff_planaminilim: double (nullable = false)\n",
      " |-- total_penal_cust_pending_n1_penal_amount: double (nullable = false)\n",
      " |-- tipo_documento: string (nullable = true)\n",
      " |-- x_datos_navegacion: string (nullable = true)\n",
      " |-- min_dias_desde_fx_srv_basic: double (nullable = false)\n",
      " |-- num_tariff_megayuser: double (nullable = false)\n",
      " |-- inc_bill_n1_n3_net: double (nullable = false)\n",
      " |-- inc_bill_n1_n4_net: double (nullable = false)\n",
      " |-- bill_n3_net: double (nullable = false)\n",
      " |-- bill_n1_net: double (nullable = false)\n",
      " |-- bill_n4_net: double (nullable = false)\n",
      " |-- inc_Bill_N1_N3_Amount_To_Pay: double (nullable = false)\n",
      " |-- bill_n2_net: double (nullable = false)\n",
      " |-- bill_n5_net: double (nullable = false)\n",
      " |-- inc_Bill_N1_N4_Amount_To_Pay: double (nullable = false)\n",
      " |-- inc_bill_n1_n2_net: double (nullable = false)\n",
      " |-- inc_bill_n1_n5_net: double (nullable = false)\n",
      " |-- inc_Bill_N1_N2_Amount_To_Pay: double (nullable = false)\n",
      " |-- inc_Bill_N1_N5_Amount_To_Pay: double (nullable = false)\n",
      " |-- Bill_N3_InvoiceCharges: double (nullable = false)\n",
      " |-- Bill_N1_InvoiceCharges: double (nullable = false)\n",
      " |-- Bill_N3_Debt_Amount: double (nullable = false)\n",
      " |-- Bill_N5_Debt_Amount: double (nullable = false)\n",
      " |-- Bill_N2_Amount_To_Pay: double (nullable = false)\n",
      " |-- Bill_N4_Debt_Amount: double (nullable = false)\n",
      " |-- Bill_N4_Tax_Amount: double (nullable = false)\n",
      " |-- Bill_N3_Amount_To_Pay: double (nullable = false)\n",
      " |-- Bill_N1_Amount_To_Pay: double (nullable = false)\n",
      " |-- Bill_N5_InvoiceCharges: double (nullable = false)\n",
      " |-- Bill_N2_InvoiceCharges: double (nullable = false)\n",
      " |-- Bill_N1_Debt_Amount: double (nullable = false)\n",
      " |-- Bill_N3_Tax_Amount: double (nullable = false)\n",
      " |-- Bill_N4_Amount_To_Pay: double (nullable = false)\n",
      " |-- Bill_N5_Tax_Amount: double (nullable = false)\n",
      " |-- Bill_N2_Tax_Amount: double (nullable = false)\n",
      " |-- Bill_N2_Debt_Amount: double (nullable = false)\n",
      " |-- Bill_N1_Tax_Amount: double (nullable = false)\n",
      " |-- Bill_N5_Amount_To_Pay: double (nullable = false)\n",
      " |-- Bill_N4_InvoiceCharges: double (nullable = false)\n",
      " |-- otros_ASOL: long (nullable = true)\n",
      " |-- total_orange: long (nullable = true)\n",
      " |-- otros_AENV: long (nullable = true)\n",
      " |-- unknown_ACON: long (nullable = true)\n",
      " |-- movistar_ASOL: long (nullable = true)\n",
      " |-- masmovil_APOR: long (nullable = true)\n",
      " |-- total_apor: long (nullable = true)\n",
      " |-- movistar_AENV: long (nullable = true)\n",
      " |-- reuskal_PCAN: long (nullable = true)\n",
      " |-- total_movistar: long (nullable = true)\n",
      " |-- simyo_ASOL: long (nullable = true)\n",
      " |-- orange_ASOL: long (nullable = true)\n",
      " |-- masmovil_ASOL: long (nullable = true)\n",
      " |-- simyo_ACAN: long (nullable = true)\n",
      " |-- simyo_AREC: long (nullable = true)\n",
      " |-- movistar_PCAN: long (nullable = true)\n",
      " |-- orange_AACE: long (nullable = true)\n",
      " |-- pepephone_ACON: long (nullable = true)\n",
      " |-- orange_PCAN: long (nullable = true)\n",
      " |-- jazztel_ACON: long (nullable = true)\n",
      " |-- simyo_AENV: long (nullable = true)\n",
      " |-- otros_AREC: long (nullable = true)\n",
      " |-- yoigo_AACE: long (nullable = true)\n",
      " |-- jazztel_AENV: long (nullable = true)\n",
      " |-- simyo_PCAN: long (nullable = true)\n",
      " |-- pepephone_APOR: long (nullable = true)\n",
      " |-- unknown_AENV: long (nullable = true)\n",
      " |-- yoigo_ACAN: long (nullable = true)\n",
      " |-- masmovil_AACE: long (nullable = true)\n",
      " |-- otros_ACAN: long (nullable = true)\n",
      " |-- total_unknown: long (nullable = true)\n",
      " |-- yoigo_AENV: long (nullable = true)\n",
      " |-- total_simyo: long (nullable = true)\n",
      " |-- total_pepephone: long (nullable = true)\n",
      " |-- pepephone_AACE: long (nullable = true)\n",
      " |-- total_otros: long (nullable = true)\n",
      " |-- orange_ACON: long (nullable = true)\n",
      " |-- jazztel_AREC: long (nullable = true)\n",
      " |-- movistar_ACON: long (nullable = true)\n",
      " |-- orange_ACAN: long (nullable = true)\n",
      " |-- reuskal_AACE: long (nullable = true)\n",
      " |-- simyo_AACE: long (nullable = true)\n",
      " |-- pepephone_PCAN: long (nullable = true)\n",
      " |-- otros_APOR: long (nullable = true)\n",
      " |-- nif_var_days_since_port: double (nullable = false)\n",
      " |-- total_reuskal: long (nullable = true)\n",
      " |-- total_jazztel: long (nullable = true)\n",
      " |-- pepephone_ACAN: long (nullable = true)\n",
      " |-- pepephone_ASOL: long (nullable = true)\n",
      " |-- yoigo_AREC: long (nullable = true)\n",
      " |-- unknown_PCAN: long (nullable = true)\n",
      " |-- reuskal_AENV: long (nullable = true)\n",
      " |-- movistar_AACE: long (nullable = true)\n",
      " |-- unknown_ASOL: long (nullable = true)\n",
      " |-- movistar_AREC: long (nullable = true)\n",
      " |-- otros_ACON: long (nullable = true)\n",
      " |-- reuskal_ASOL: long (nullable = true)\n",
      " |-- total_acan: long (nullable = true)\n",
      " |-- orange_AENV: long (nullable = true)\n",
      " |-- reuskal_AREC: long (nullable = true)\n",
      " |-- reuskal_ACON: long (nullable = true)\n",
      " |-- unknown_AREC: long (nullable = true)\n",
      " |-- nif_port_freq_per_day: double (nullable = false)\n",
      " |-- jazztel_APOR: long (nullable = true)\n",
      " |-- unknown_APOR: long (nullable = true)\n",
      " |-- total_arec: long (nullable = true)\n",
      " |-- yoigo_PCAN: long (nullable = true)\n",
      " |-- nif_port_number: long (nullable = true)\n",
      " |-- pepephone_AENV: long (nullable = true)\n",
      " |-- masmovil_AREC: long (nullable = true)\n",
      " |-- jazztel_AACE: long (nullable = true)\n",
      " |-- masmovil_ACAN: long (nullable = true)\n",
      " |-- yoigo_ACON: long (nullable = true)\n",
      " |-- orange_AREC: long (nullable = true)\n",
      " |-- pepephone_AREC: long (nullable = true)\n",
      " |-- yoigo_ASOL: long (nullable = true)\n",
      " |-- jazztel_PCAN: long (nullable = true)\n",
      " |-- total_yoigo: long (nullable = true)\n",
      " |-- nif_min_days_since_port: double (nullable = false)\n",
      " |-- masmovil_AENV: long (nullable = true)\n",
      " |-- otros_PCAN: long (nullable = true)\n",
      " |-- masmovil_PCAN: long (nullable = true)\n",
      " |-- yoigo_APOR: long (nullable = true)\n",
      " |-- movistar_ACAN: long (nullable = true)\n",
      " |-- reuskal_ACAN: long (nullable = true)\n",
      " |-- unknown_ACAN: long (nullable = true)\n",
      " |-- masmovil_ACON: long (nullable = true)\n",
      " |-- nif_max_days_since_port: double (nullable = false)\n",
      " |-- simyo_APOR: long (nullable = true)\n",
      " |-- jazztel_ACAN: long (nullable = true)\n",
      " |-- orange_APOR: long (nullable = true)\n",
      " |-- unknown_AACE: long (nullable = true)\n",
      " |-- jazztel_ASOL: long (nullable = true)\n",
      " |-- nif_port_freq_per_msisdn: double (nullable = false)\n",
      " |-- num_distinct_operators: double (nullable = false)\n",
      " |-- nif_avg_days_since_port: double (nullable = false)\n",
      " |-- nif_distinct_msisdn: long (nullable = true)\n",
      " |-- total_masmovil: long (nullable = true)\n",
      " |-- otros_AACE: long (nullable = true)\n",
      " |-- reuskal_APOR: long (nullable = true)\n",
      " |-- simyo_ACON: long (nullable = true)\n",
      " |-- movistar_APOR: long (nullable = true)\n",
      " |-- days_since_last_order: integer (nullable = false)\n",
      " |-- days_since_first_order: integer (nullable = false)\n",
      " |-- label: double (nullable = true)\n",
      " |-- ccc_num_pbma_srv_total: long (nullable = false)\n",
      " |-- ccc_num_abonos_tipis_total: long (nullable = false)\n",
      " |-- ccc_num_tipis_factura_total: long (nullable = false)\n",
      " |-- ccc_num_tipis_perm_dctos_total: long (nullable = false)\n",
      " |-- ccc_num_tipis_info_total: long (nullable = false)\n",
      " |-- ccc_num_tipis_info_nocomp_total: long (nullable = false)\n",
      " |-- ccc_num_tipis_info_comp_total: long (nullable = false)\n",
      " |-- ccc_num_averias_total: long (nullable = false)\n",
      " |-- ccc_num_incidencias_total: long (nullable = false)\n",
      " |-- ccc_num_interactions_total: long (nullable = false)\n",
      " |-- ccc_num_na_buckets_total: long (nullable = false)\n",
      " |-- ccc_num_ivr_interactions_total: long (nullable = false)\n",
      " |-- ccc_num_diff_buckets_total: long (nullable = false)\n",
      " |-- netapps_ns_apps_facebook_data_mb_total: double (nullable = true)\n",
      " |-- netapps_ns_apps_facebook_total_effective_dl_mb_total: double (nullable = true)\n",
      " |-- netapps_ns_apps_facebook_total_effective_ul_mb_total: double (nullable = true)\n",
      " |-- netapps_ns_apps_facebook_days_total: long (nullable = true)\n",
      " |-- netapps_ns_apps_facebook_timestamps_total: long (nullable = true)\n",
      " |-- netapps_ns_apps_facebookmessages_data_mb_total: double (nullable = true)\n",
      " |-- netapps_ns_apps_facebookmessages_total_effective_dl_mb_total: double (nullable = true)\n",
      " |-- netapps_ns_apps_facebookmessages_total_effective_ul_mb_total: double (nullable = true)\n",
      " |-- netapps_ns_apps_facebookmessages_days_total: long (nullable = true)\n",
      " |-- netapps_ns_apps_facebookmessages_timestamps_total: long (nullable = true)\n",
      " |-- netapps_ns_apps_facebook_video_data_mb_total: double (nullable = true)\n",
      " |-- netapps_ns_apps_facebook_video_total_effective_dl_mb_total: double (nullable = true)\n",
      " |-- netapps_ns_apps_facebook_video_total_effective_ul_mb_total: double (nullable = true)\n",
      " |-- netapps_ns_apps_facebook_video_days_total: long (nullable = true)\n",
      " |-- netapps_ns_apps_facebook_video_timestamps_total: long (nullable = true)\n",
      " |-- netapps_ns_apps_googleplay_data_mb_total: double (nullable = true)\n",
      " |-- netapps_ns_apps_googleplay_total_effective_dl_mb_total: double (nullable = true)\n",
      " |-- netapps_ns_apps_googleplay_total_effective_ul_mb_total: double (nullable = true)\n",
      " |-- netapps_ns_apps_googleplay_days_total: long (nullable = true)\n",
      " |-- netapps_ns_apps_googleplay_timestamps_total: long (nullable = true)\n",
      " |-- netapps_ns_apps_instagram_data_mb_total: double (nullable = true)\n",
      " |-- netapps_ns_apps_instagram_total_effective_dl_mb_total: double (nullable = true)\n",
      " |-- netapps_ns_apps_instagram_total_effective_ul_mb_total: double (nullable = true)\n",
      " |-- netapps_ns_apps_instagram_days_total: long (nullable = true)\n",
      " |-- netapps_ns_apps_instagram_timestamps_total: long (nullable = true)\n",
      " |-- netapps_ns_apps_whatsapp_data_mb_total: double (nullable = true)\n",
      " |-- netapps_ns_apps_whatsapp_total_effective_dl_mb_total: double (nullable = true)\n",
      " |-- netapps_ns_apps_whatsapp_total_effective_ul_mb_total: double (nullable = true)\n",
      " |-- netapps_ns_apps_whatsapp_days_total: long (nullable = true)\n",
      " |-- netapps_ns_apps_whatsapp_timestamps_total: long (nullable = true)\n",
      " |-- netapps_ns_apps_whatsapp_media_message_data_mb_total: double (nullable = true)\n",
      " |-- netapps_ns_apps_whatsapp_media_message_total_effective_dl_mb_total: double (nullable = true)\n",
      " |-- netapps_ns_apps_whatsapp_media_message_total_effective_ul_mb_total: double (nullable = true)\n",
      " |-- netapps_ns_apps_whatsapp_media_message_days_total: long (nullable = true)\n",
      " |-- netapps_ns_apps_whatsapp_media_message_timestamps_total: long (nullable = true)\n",
      " |-- netapps_ns_apps_whatsapp_voice_calling_data_mb_total: double (nullable = true)\n",
      " |-- netapps_ns_apps_whatsapp_voice_calling_total_effective_dl_mb_total: double (nullable = true)\n",
      " |-- netapps_ns_apps_whatsapp_voice_calling_total_effective_ul_mb_total: double (nullable = true)\n",
      " |-- netapps_ns_apps_whatsapp_voice_calling_days_total: long (nullable = true)\n",
      " |-- netapps_ns_apps_whatsapp_voice_calling_timestamps_total: long (nullable = true)\n",
      " |-- ccc_num_pbma_srv: integer (nullable = true)\n",
      " |-- ccc_num_abonos_tipis: integer (nullable = true)\n",
      " |-- ccc_num_tipis_factura: integer (nullable = true)\n",
      " |-- ccc_num_tipis_perm_dctos: integer (nullable = true)\n",
      " |-- ccc_num_tipis_info: integer (nullable = true)\n",
      " |-- ccc_num_tipis_info_nocomp: integer (nullable = true)\n",
      " |-- ccc_num_tipis_info_comp: integer (nullable = true)\n",
      " |-- ccc_num_averias: integer (nullable = true)\n",
      " |-- ccc_num_incidencias: integer (nullable = true)\n",
      " |-- ccc_num_interactions: integer (nullable = true)\n",
      " |-- ccc_num_na_buckets: integer (nullable = true)\n",
      " |-- ccc_num_ivr_interactions: integer (nullable = true)\n",
      " |-- ccc_num_diff_buckets: integer (nullable = true)\n",
      " |-- tgs_stack: string (nullable = false)\n",
      " |-- tgs_decil: string (nullable = false)\n",
      " |-- tgs_descuento: string (nullable = false)\n",
      " |-- tgs_sum_ind_under_use: integer (nullable = true)\n",
      " |-- tgs_sum_ind_over_use: integer (nullable = true)\n",
      " |-- tgs_clasificacion_uso: string (nullable = false)\n",
      " |-- tgs_blindaje_bi: string (nullable = false)\n",
      " |-- tgs_blinda_bi_n2: string (nullable = false)\n",
      " |-- tgs_blinda_bi_n4: string (nullable = false)\n",
      " |-- tgs_blindaje_bi_expirado: string (nullable = false)\n",
      " |-- tgs_target_accionamiento: string (nullable = false)\n",
      " |-- tgs_days_since_f_inicio_bi: double (nullable = false)\n",
      " |-- tgs_days_since_f_inicio_bi_exp: double (nullable = false)\n",
      " |-- tgs_days_until_f_fin_bi: double (nullable = false)\n",
      " |-- tgs_days_until_f_fin_bi_exp: double (nullable = false)\n",
      " |-- tgs_days_until_fecha_fin_dto: double (nullable = false)\n",
      " |-- tgs_has_discount: integer (nullable = true)\n",
      " |-- tgs_discount_proc: string (nullable = false)\n",
      " |-- orders_days_since_last_order: integer (nullable = true)\n",
      " |-- orders_days_since_first_order: integer (nullable = true)\n",
      " |-- orders_order_n1_class: string (nullable = false)\n",
      " |-- orders_num_orders: integer (nullable = true)\n",
      " |-- orders_avg_days_per_order: double (nullable = false)\n",
      " |-- model_score_0: double (nullable = true)\n",
      " |-- calib_model_score_0: double (nullable = true)\n",
      " |-- model_score_1: double (nullable = true)\n",
      " |-- calib_model_score_1: double (nullable = true)\n",
      " |-- model_score_2: double (nullable = true)\n",
      " |-- calib_model_score_2: double (nullable = true)\n",
      " |-- model_score_3: double (nullable = true)\n",
      " |-- calib_model_score_3: double (nullable = true)\n",
      " |-- model_score_4: double (nullable = true)\n",
      " |-- calib_model_score_4: double (nullable = true)\n",
      "\n"
     ]
    }
   ],
   "source": [
    "df_aux.printSchema()"
   ]
  },
  {
   "cell_type": "code",
   "execution_count": 65,
   "metadata": {},
   "outputs": [],
   "source": [
    "# Evaluation\n",
    "ttPredictionAndLabels = tt_calib_preds_df.select(['calib_model_score', 'label']).rdd.map(lambda r: (r['calib_model_score'], r['label']))\n",
    "ttmetrics = BinaryClassificationMetrics(ttPredictionAndLabels)"
   ]
  },
  {
   "cell_type": "code",
   "execution_count": 66,
   "metadata": {},
   "outputs": [
    {
     "name": "stdout",
     "output_type": "stream",
     "text": [
      "[Info FbbChurn] Wed May 29 11:42:15 2019 Area under ROC(tr) = 0.760427050776 - Area under ROC(tt) = 0.714090517079\n"
     ]
    }
   ],
   "source": [
    "print(\"[Info FbbChurn] \" + time.ctime() + \" Area under ROC(tr) = \" + str(trmetrics.areaUnderROC) + \" - Area under ROC(tt) = \" + str(ttmetrics.areaUnderROC))\n"
   ]
  },
  {
   "cell_type": "code",
   "execution_count": 224,
   "metadata": {
    "scrolled": true
   },
   "outputs": [
    {
     "name": "stdout",
     "output_type": "stream",
     "text": [
      "0\n",
      "Model 0: Area under ROC(tr) = 0.754406933206\n",
      "Model 0: Area under ROC(tt) = 0.713514753724\n",
      "1\n",
      "Model 1: Area under ROC(tr) = 0.755106476011\n",
      "Model 1: Area under ROC(tt) = 0.713128028314\n",
      "2\n",
      "Model 2: Area under ROC(tr) = 0.753097394074\n",
      "Model 2: Area under ROC(tt) = 0.712410491476\n",
      "3\n",
      "Model 3: Area under ROC(tr) = 0.755560008586\n",
      "Model 3: Area under ROC(tt) = 0.712465860634\n",
      "4\n",
      "Model 4: Area under ROC(tr) = 0.755012309843\n",
      "Model 4: Area under ROC(tt) = 0.713019849073\n"
     ]
    }
   ],
   "source": [
    "for i in range(0, num_tr_dfs):\n",
    "    ttPredictionAndLabels = df_aux.select(['calib_model_score_' + str(i), 'label']).rdd.map(lambda r: (r['calib_model_score_' + str(i)], r['label']))\n",
    "    ttmetrics = BinaryClassificationMetrics(ttPredictionAndLabels)\n",
    "    #print(ttmetrics.areaUnderROC)\n",
    "    print(i)\n",
    "    print \"Model {}: Area under ROC(tr) = {}\".format(i, str(tr_metrics_vec[i].areaUnderROC))\n",
    "    print \"Model {}: Area under ROC(tt) = {}\".format(i, str(ttmetrics.areaUnderROC))"
   ]
  },
  {
   "cell_type": "code",
   "execution_count": 234,
   "metadata": {
    "scrolled": true
   },
   "outputs": [
    {
     "data": {
      "text/plain": [
       "['calib_model_score_0',\n",
       " 'calib_model_score_1',\n",
       " 'calib_model_score_2',\n",
       " 'calib_model_score_3',\n",
       " 'calib_model_score_4']"
      ]
     },
     "execution_count": 234,
     "metadata": {},
     "output_type": "execute_result"
    }
   ],
   "source": [
    "cols_scores"
   ]
  },
  {
   "cell_type": "code",
   "execution_count": 235,
   "metadata": {
    "scrolled": true
   },
   "outputs": [],
   "source": [
    "cols_scores = [name_ for name_ in df_aux.columns if name_.startswith('calib_model_')]\n",
    "\n",
    "from pyspark.sql.functions import greatest, least, mean, sum\n",
    "\n",
    "df_aux2 = df_aux.withColumn('maximo', greatest(*cols_scores)).withColumn('minimo', least(*cols_scores))\\\n",
    ".withColumn('medio', (df_aux['calib_model_score_0'] + df_aux['calib_model_score_1'] + df_aux['calib_model_score_2'] + df_aux['calib_model_score_3'] + df_aux['calib_model_score_4'])/5)#.withColumn('minimo', least(*cols_scores))"
   ]
  },
  {
   "cell_type": "code",
   "execution_count": 229,
   "metadata": {},
   "outputs": [
    {
     "name": "stdout",
     "output_type": "stream",
     "text": [
      "Model 4: Area under ROC(tt) = 0.712157131246\n",
      "Model 4: Area under ROC(tt) = 0.713841078181\n"
     ]
    }
   ],
   "source": [
    "for name in ['maximo','minimo']:\n",
    "    tt_ensemble = df_aux2.select([name, 'label']).rdd.map(lambda r: (r[name], r['label']))\n",
    "    ttmetrics = BinaryClassificationMetrics(tt_ensemble)\n",
    "    print \"Model {}: Area under ROC(tt) = {}\".format(i, str(ttmetrics.areaUnderROC))"
   ]
  },
  {
   "cell_type": "code",
   "execution_count": 156,
   "metadata": {},
   "outputs": [
    {
     "name": "stdout",
     "output_type": "stream",
     "text": [
      "0.767949194081\n",
      "1.0\n"
     ]
    }
   ],
   "source": [
    "for i in range(0,2):\n",
    "    print(tr_metrics_vec[i].areaUnderROC)"
   ]
  },
  {
   "cell_type": "code",
   "execution_count": 236,
   "metadata": {},
   "outputs": [
    {
     "name": "stdout",
     "output_type": "stream",
     "text": [
      "Model 4: Area under ROC(tt) = 0.713220048003\n"
     ]
    }
   ],
   "source": [
    "for name in ['medio']:\n",
    "    tt_ensemble = df_aux2.select([name, 'label']).rdd.map(lambda r: (r[name], r['label']))\n",
    "    ttmetrics = BinaryClassificationMetrics(tt_ensemble)\n",
    "    print \"Model {}: Area under ROC(tt) = {}\".format(i, str(ttmetrics.areaUnderROC))"
   ]
  },
  {
   "cell_type": "code",
   "execution_count": 249,
   "metadata": {},
   "outputs": [],
   "source": [
    "tr = tr_1s.union(vec_selected_0s[num_tr_dfs].limit(num_1s))"
   ]
  },
  {
   "cell_type": "code",
   "execution_count": 250,
   "metadata": {},
   "outputs": [
    {
     "ename": "Py4JJavaError",
     "evalue": "An error occurred while calling o32030.count.\n: org.apache.spark.SparkException: Job aborted due to stage failure: Task 37 in stage 29996.0 failed 4 times, most recent failure: Lost task 37.3 in stage 29996.0 (TID 4397224, vgddp601hr.dc.sedc.internal.vodafone.com, executor 364): java.io.FileNotFoundException: File does not exist: hdfs://nameservice1/data/udf/vf_es/churn/fbb_tmp/numclidf_tmp_20181130/part-00115-96c44731-02fb-4b41-bb45-ac2d0396c457-c000.snappy.parquet\nIt is possible the underlying files have been updated. You can explicitly invalidate the cache in Spark by running 'REFRESH TABLE tableName' command in SQL or by recreating the Dataset/DataFrame involved.\n\tat org.apache.spark.sql.execution.datasources.FileScanRDD$$anon$1.org$apache$spark$sql$execution$datasources$FileScanRDD$$anon$$readCurrentFile(FileScanRDD.scala:131)\n\tat org.apache.spark.sql.execution.datasources.FileScanRDD$$anon$1.nextIterator(FileScanRDD.scala:182)\n\tat org.apache.spark.sql.execution.datasources.FileScanRDD$$anon$1.hasNext(FileScanRDD.scala:109)\n\tat org.apache.spark.sql.catalyst.expressions.GeneratedClass$GeneratedIteratorForCodegenStage29.scan_nextBatch_0$(Unknown Source)\n\tat org.apache.spark.sql.catalyst.expressions.GeneratedClass$GeneratedIteratorForCodegenStage29.processNext(Unknown Source)\n\tat org.apache.spark.sql.execution.BufferedRowIterator.hasNext(BufferedRowIterator.java:43)\n\tat org.apache.spark.sql.execution.WholeStageCodegenExec$$anonfun$10$$anon$1.hasNext(WholeStageCodegenExec.scala:614)\n\tat scala.collection.Iterator$$anon$11.hasNext(Iterator.scala:408)\n\tat org.apache.spark.shuffle.sort.BypassMergeSortShuffleWriter.write(BypassMergeSortShuffleWriter.java:125)\n\tat org.apache.spark.scheduler.ShuffleMapTask.runTask(ShuffleMapTask.scala:96)\n\tat org.apache.spark.scheduler.ShuffleMapTask.runTask(ShuffleMapTask.scala:53)\n\tat org.apache.spark.scheduler.Task.run(Task.scala:109)\n\tat org.apache.spark.executor.Executor$TaskRunner.run(Executor.scala:381)\n\tat java.util.concurrent.ThreadPoolExecutor.runWorker(ThreadPoolExecutor.java:1149)\n\tat java.util.concurrent.ThreadPoolExecutor$Worker.run(ThreadPoolExecutor.java:624)\n\tat java.lang.Thread.run(Thread.java:748)\n\nDriver stacktrace:\n\tat org.apache.spark.scheduler.DAGScheduler.org$apache$spark$scheduler$DAGScheduler$$failJobAndIndependentStages(DAGScheduler.scala:1651)\n\tat org.apache.spark.scheduler.DAGScheduler$$anonfun$abortStage$1.apply(DAGScheduler.scala:1639)\n\tat org.apache.spark.scheduler.DAGScheduler$$anonfun$abortStage$1.apply(DAGScheduler.scala:1638)\n\tat scala.collection.mutable.ResizableArray$class.foreach(ResizableArray.scala:59)\n\tat scala.collection.mutable.ArrayBuffer.foreach(ArrayBuffer.scala:48)\n\tat org.apache.spark.scheduler.DAGScheduler.abortStage(DAGScheduler.scala:1638)\n\tat org.apache.spark.scheduler.DAGScheduler$$anonfun$handleTaskSetFailed$1.apply(DAGScheduler.scala:831)\n\tat org.apache.spark.scheduler.DAGScheduler$$anonfun$handleTaskSetFailed$1.apply(DAGScheduler.scala:831)\n\tat scala.Option.foreach(Option.scala:257)\n\tat org.apache.spark.scheduler.DAGScheduler.handleTaskSetFailed(DAGScheduler.scala:831)\n\tat org.apache.spark.scheduler.DAGSchedulerEventProcessLoop.doOnReceive(DAGScheduler.scala:1872)\n\tat org.apache.spark.scheduler.DAGSchedulerEventProcessLoop.onReceive(DAGScheduler.scala:1821)\n\tat org.apache.spark.scheduler.DAGSchedulerEventProcessLoop.onReceive(DAGScheduler.scala:1810)\n\tat org.apache.spark.util.EventLoop$$anon$1.run(EventLoop.scala:48)\n\tat org.apache.spark.scheduler.DAGScheduler.runJob(DAGScheduler.scala:642)\n\tat org.apache.spark.SparkContext.runJob(SparkContext.scala:2034)\n\tat org.apache.spark.SparkContext.runJob(SparkContext.scala:2055)\n\tat org.apache.spark.SparkContext.runJob(SparkContext.scala:2074)\n\tat org.apache.spark.SparkContext.runJob(SparkContext.scala:2099)\n\tat org.apache.spark.rdd.RDD$$anonfun$collect$1.apply(RDD.scala:945)\n\tat org.apache.spark.rdd.RDDOperationScope$.withScope(RDDOperationScope.scala:151)\n\tat org.apache.spark.rdd.RDDOperationScope$.withScope(RDDOperationScope.scala:112)\n\tat org.apache.spark.rdd.RDD.withScope(RDD.scala:363)\n\tat org.apache.spark.rdd.RDD.collect(RDD.scala:944)\n\tat org.apache.spark.sql.execution.SparkPlan.executeCollect(SparkPlan.scala:297)\n\tat org.apache.spark.sql.Dataset$$anonfun$count$1.apply(Dataset.scala:2775)\n\tat org.apache.spark.sql.Dataset$$anonfun$count$1.apply(Dataset.scala:2774)\n\tat org.apache.spark.sql.Dataset$$anonfun$52.apply(Dataset.scala:3259)\n\tat org.apache.spark.sql.execution.SQLExecution$.withNewExecutionId(SQLExecution.scala:77)\n\tat org.apache.spark.sql.Dataset.withAction(Dataset.scala:3258)\n\tat org.apache.spark.sql.Dataset.count(Dataset.scala:2774)\n\tat sun.reflect.NativeMethodAccessorImpl.invoke0(Native Method)\n\tat sun.reflect.NativeMethodAccessorImpl.invoke(NativeMethodAccessorImpl.java:62)\n\tat sun.reflect.DelegatingMethodAccessorImpl.invoke(DelegatingMethodAccessorImpl.java:43)\n\tat java.lang.reflect.Method.invoke(Method.java:498)\n\tat py4j.reflection.MethodInvoker.invoke(MethodInvoker.java:244)\n\tat py4j.reflection.ReflectionEngine.invoke(ReflectionEngine.java:357)\n\tat py4j.Gateway.invoke(Gateway.java:282)\n\tat py4j.commands.AbstractCommand.invokeMethod(AbstractCommand.java:132)\n\tat py4j.commands.CallCommand.execute(CallCommand.java:79)\n\tat py4j.GatewayConnection.run(GatewayConnection.java:238)\n\tat java.lang.Thread.run(Thread.java:748)\nCaused by: java.io.FileNotFoundException: File does not exist: hdfs://nameservice1/data/udf/vf_es/churn/fbb_tmp/numclidf_tmp_20181130/part-00115-96c44731-02fb-4b41-bb45-ac2d0396c457-c000.snappy.parquet\nIt is possible the underlying files have been updated. You can explicitly invalidate the cache in Spark by running 'REFRESH TABLE tableName' command in SQL or by recreating the Dataset/DataFrame involved.\n\tat org.apache.spark.sql.execution.datasources.FileScanRDD$$anon$1.org$apache$spark$sql$execution$datasources$FileScanRDD$$anon$$readCurrentFile(FileScanRDD.scala:131)\n\tat org.apache.spark.sql.execution.datasources.FileScanRDD$$anon$1.nextIterator(FileScanRDD.scala:182)\n\tat org.apache.spark.sql.execution.datasources.FileScanRDD$$anon$1.hasNext(FileScanRDD.scala:109)\n\tat org.apache.spark.sql.catalyst.expressions.GeneratedClass$GeneratedIteratorForCodegenStage29.scan_nextBatch_0$(Unknown Source)\n\tat org.apache.spark.sql.catalyst.expressions.GeneratedClass$GeneratedIteratorForCodegenStage29.processNext(Unknown Source)\n\tat org.apache.spark.sql.execution.BufferedRowIterator.hasNext(BufferedRowIterator.java:43)\n\tat org.apache.spark.sql.execution.WholeStageCodegenExec$$anonfun$10$$anon$1.hasNext(WholeStageCodegenExec.scala:614)\n\tat scala.collection.Iterator$$anon$11.hasNext(Iterator.scala:408)\n\tat org.apache.spark.shuffle.sort.BypassMergeSortShuffleWriter.write(BypassMergeSortShuffleWriter.java:125)\n\tat org.apache.spark.scheduler.ShuffleMapTask.runTask(ShuffleMapTask.scala:96)\n\tat org.apache.spark.scheduler.ShuffleMapTask.runTask(ShuffleMapTask.scala:53)\n\tat org.apache.spark.scheduler.Task.run(Task.scala:109)\n\tat org.apache.spark.executor.Executor$TaskRunner.run(Executor.scala:381)\n\tat java.util.concurrent.ThreadPoolExecutor.runWorker(ThreadPoolExecutor.java:1149)\n\tat java.util.concurrent.ThreadPoolExecutor$Worker.run(ThreadPoolExecutor.java:624)\n\t... 1 more\n",
     "output_type": "error",
     "traceback": [
      "\u001b[0;31m\u001b[0m",
      "\u001b[0;31mPy4JJavaError\u001b[0mTraceback (most recent call last)",
      "\u001b[0;32m<ipython-input-250-6906561333f2>\u001b[0m in \u001b[0;36m<module>\u001b[0;34m()\u001b[0m\n\u001b[0;32m----> 1\u001b[0;31m \u001b[0mtr\u001b[0m\u001b[0;34m.\u001b[0m\u001b[0mcount\u001b[0m\u001b[0;34m(\u001b[0m\u001b[0;34m)\u001b[0m\u001b[0;34m\u001b[0m\u001b[0m\n\u001b[0m",
      "\u001b[0;32m/opt/cloudera/parcels/SPARK2/lib/spark2/python/pyspark/sql/dataframe.py\u001b[0m in \u001b[0;36mcount\u001b[0;34m(self)\u001b[0m\n\u001b[1;32m    453\u001b[0m         \u001b[0;36m2\u001b[0m\u001b[0;34m\u001b[0m\u001b[0m\n\u001b[1;32m    454\u001b[0m         \"\"\"\n\u001b[0;32m--> 455\u001b[0;31m         \u001b[0;32mreturn\u001b[0m \u001b[0mint\u001b[0m\u001b[0;34m(\u001b[0m\u001b[0mself\u001b[0m\u001b[0;34m.\u001b[0m\u001b[0m_jdf\u001b[0m\u001b[0;34m.\u001b[0m\u001b[0mcount\u001b[0m\u001b[0;34m(\u001b[0m\u001b[0;34m)\u001b[0m\u001b[0;34m)\u001b[0m\u001b[0;34m\u001b[0m\u001b[0m\n\u001b[0m\u001b[1;32m    456\u001b[0m \u001b[0;34m\u001b[0m\u001b[0m\n\u001b[1;32m    457\u001b[0m     \u001b[0;34m@\u001b[0m\u001b[0mignore_unicode_prefix\u001b[0m\u001b[0;34m\u001b[0m\u001b[0m\n",
      "\u001b[0;32m/opt/cloudera/parcels/Anaconda-2.5.0/lib/python2.7/site-packages/py4j/java_gateway.pyc\u001b[0m in \u001b[0;36m__call__\u001b[0;34m(self, *args)\u001b[0m\n\u001b[1;32m   1255\u001b[0m         \u001b[0manswer\u001b[0m \u001b[0;34m=\u001b[0m \u001b[0mself\u001b[0m\u001b[0;34m.\u001b[0m\u001b[0mgateway_client\u001b[0m\u001b[0;34m.\u001b[0m\u001b[0msend_command\u001b[0m\u001b[0;34m(\u001b[0m\u001b[0mcommand\u001b[0m\u001b[0;34m)\u001b[0m\u001b[0;34m\u001b[0m\u001b[0m\n\u001b[1;32m   1256\u001b[0m         return_value = get_return_value(\n\u001b[0;32m-> 1257\u001b[0;31m             answer, self.gateway_client, self.target_id, self.name)\n\u001b[0m\u001b[1;32m   1258\u001b[0m \u001b[0;34m\u001b[0m\u001b[0m\n\u001b[1;32m   1259\u001b[0m         \u001b[0;32mfor\u001b[0m \u001b[0mtemp_arg\u001b[0m \u001b[0;32min\u001b[0m \u001b[0mtemp_args\u001b[0m\u001b[0;34m:\u001b[0m\u001b[0;34m\u001b[0m\u001b[0m\n",
      "\u001b[0;32m/opt/cloudera/parcels/SPARK2/lib/spark2/python/pyspark/sql/utils.py\u001b[0m in \u001b[0;36mdeco\u001b[0;34m(*a, **kw)\u001b[0m\n\u001b[1;32m     61\u001b[0m     \u001b[0;32mdef\u001b[0m \u001b[0mdeco\u001b[0m\u001b[0;34m(\u001b[0m\u001b[0;34m*\u001b[0m\u001b[0ma\u001b[0m\u001b[0;34m,\u001b[0m \u001b[0;34m**\u001b[0m\u001b[0mkw\u001b[0m\u001b[0;34m)\u001b[0m\u001b[0;34m:\u001b[0m\u001b[0;34m\u001b[0m\u001b[0m\n\u001b[1;32m     62\u001b[0m         \u001b[0;32mtry\u001b[0m\u001b[0;34m:\u001b[0m\u001b[0;34m\u001b[0m\u001b[0m\n\u001b[0;32m---> 63\u001b[0;31m             \u001b[0;32mreturn\u001b[0m \u001b[0mf\u001b[0m\u001b[0;34m(\u001b[0m\u001b[0;34m*\u001b[0m\u001b[0ma\u001b[0m\u001b[0;34m,\u001b[0m \u001b[0;34m**\u001b[0m\u001b[0mkw\u001b[0m\u001b[0;34m)\u001b[0m\u001b[0;34m\u001b[0m\u001b[0m\n\u001b[0m\u001b[1;32m     64\u001b[0m         \u001b[0;32mexcept\u001b[0m \u001b[0mpy4j\u001b[0m\u001b[0;34m.\u001b[0m\u001b[0mprotocol\u001b[0m\u001b[0;34m.\u001b[0m\u001b[0mPy4JJavaError\u001b[0m \u001b[0;32mas\u001b[0m \u001b[0me\u001b[0m\u001b[0;34m:\u001b[0m\u001b[0;34m\u001b[0m\u001b[0m\n\u001b[1;32m     65\u001b[0m             \u001b[0ms\u001b[0m \u001b[0;34m=\u001b[0m \u001b[0me\u001b[0m\u001b[0;34m.\u001b[0m\u001b[0mjava_exception\u001b[0m\u001b[0;34m.\u001b[0m\u001b[0mtoString\u001b[0m\u001b[0;34m(\u001b[0m\u001b[0;34m)\u001b[0m\u001b[0;34m\u001b[0m\u001b[0m\n",
      "\u001b[0;32m/opt/cloudera/parcels/Anaconda-2.5.0/lib/python2.7/site-packages/py4j/protocol.pyc\u001b[0m in \u001b[0;36mget_return_value\u001b[0;34m(answer, gateway_client, target_id, name)\u001b[0m\n\u001b[1;32m    326\u001b[0m                 raise Py4JJavaError(\n\u001b[1;32m    327\u001b[0m                     \u001b[0;34m\"An error occurred while calling {0}{1}{2}.\\n\"\u001b[0m\u001b[0;34m.\u001b[0m\u001b[0;34m\u001b[0m\u001b[0m\n\u001b[0;32m--> 328\u001b[0;31m                     format(target_id, \".\", name), value)\n\u001b[0m\u001b[1;32m    329\u001b[0m             \u001b[0;32melse\u001b[0m\u001b[0;34m:\u001b[0m\u001b[0;34m\u001b[0m\u001b[0m\n\u001b[1;32m    330\u001b[0m                 raise Py4JError(\n",
      "\u001b[0;31mPy4JJavaError\u001b[0m: An error occurred while calling o32030.count.\n: org.apache.spark.SparkException: Job aborted due to stage failure: Task 37 in stage 29996.0 failed 4 times, most recent failure: Lost task 37.3 in stage 29996.0 (TID 4397224, vgddp601hr.dc.sedc.internal.vodafone.com, executor 364): java.io.FileNotFoundException: File does not exist: hdfs://nameservice1/data/udf/vf_es/churn/fbb_tmp/numclidf_tmp_20181130/part-00115-96c44731-02fb-4b41-bb45-ac2d0396c457-c000.snappy.parquet\nIt is possible the underlying files have been updated. You can explicitly invalidate the cache in Spark by running 'REFRESH TABLE tableName' command in SQL or by recreating the Dataset/DataFrame involved.\n\tat org.apache.spark.sql.execution.datasources.FileScanRDD$$anon$1.org$apache$spark$sql$execution$datasources$FileScanRDD$$anon$$readCurrentFile(FileScanRDD.scala:131)\n\tat org.apache.spark.sql.execution.datasources.FileScanRDD$$anon$1.nextIterator(FileScanRDD.scala:182)\n\tat org.apache.spark.sql.execution.datasources.FileScanRDD$$anon$1.hasNext(FileScanRDD.scala:109)\n\tat org.apache.spark.sql.catalyst.expressions.GeneratedClass$GeneratedIteratorForCodegenStage29.scan_nextBatch_0$(Unknown Source)\n\tat org.apache.spark.sql.catalyst.expressions.GeneratedClass$GeneratedIteratorForCodegenStage29.processNext(Unknown Source)\n\tat org.apache.spark.sql.execution.BufferedRowIterator.hasNext(BufferedRowIterator.java:43)\n\tat org.apache.spark.sql.execution.WholeStageCodegenExec$$anonfun$10$$anon$1.hasNext(WholeStageCodegenExec.scala:614)\n\tat scala.collection.Iterator$$anon$11.hasNext(Iterator.scala:408)\n\tat org.apache.spark.shuffle.sort.BypassMergeSortShuffleWriter.write(BypassMergeSortShuffleWriter.java:125)\n\tat org.apache.spark.scheduler.ShuffleMapTask.runTask(ShuffleMapTask.scala:96)\n\tat org.apache.spark.scheduler.ShuffleMapTask.runTask(ShuffleMapTask.scala:53)\n\tat org.apache.spark.scheduler.Task.run(Task.scala:109)\n\tat org.apache.spark.executor.Executor$TaskRunner.run(Executor.scala:381)\n\tat java.util.concurrent.ThreadPoolExecutor.runWorker(ThreadPoolExecutor.java:1149)\n\tat java.util.concurrent.ThreadPoolExecutor$Worker.run(ThreadPoolExecutor.java:624)\n\tat java.lang.Thread.run(Thread.java:748)\n\nDriver stacktrace:\n\tat org.apache.spark.scheduler.DAGScheduler.org$apache$spark$scheduler$DAGScheduler$$failJobAndIndependentStages(DAGScheduler.scala:1651)\n\tat org.apache.spark.scheduler.DAGScheduler$$anonfun$abortStage$1.apply(DAGScheduler.scala:1639)\n\tat org.apache.spark.scheduler.DAGScheduler$$anonfun$abortStage$1.apply(DAGScheduler.scala:1638)\n\tat scala.collection.mutable.ResizableArray$class.foreach(ResizableArray.scala:59)\n\tat scala.collection.mutable.ArrayBuffer.foreach(ArrayBuffer.scala:48)\n\tat org.apache.spark.scheduler.DAGScheduler.abortStage(DAGScheduler.scala:1638)\n\tat org.apache.spark.scheduler.DAGScheduler$$anonfun$handleTaskSetFailed$1.apply(DAGScheduler.scala:831)\n\tat org.apache.spark.scheduler.DAGScheduler$$anonfun$handleTaskSetFailed$1.apply(DAGScheduler.scala:831)\n\tat scala.Option.foreach(Option.scala:257)\n\tat org.apache.spark.scheduler.DAGScheduler.handleTaskSetFailed(DAGScheduler.scala:831)\n\tat org.apache.spark.scheduler.DAGSchedulerEventProcessLoop.doOnReceive(DAGScheduler.scala:1872)\n\tat org.apache.spark.scheduler.DAGSchedulerEventProcessLoop.onReceive(DAGScheduler.scala:1821)\n\tat org.apache.spark.scheduler.DAGSchedulerEventProcessLoop.onReceive(DAGScheduler.scala:1810)\n\tat org.apache.spark.util.EventLoop$$anon$1.run(EventLoop.scala:48)\n\tat org.apache.spark.scheduler.DAGScheduler.runJob(DAGScheduler.scala:642)\n\tat org.apache.spark.SparkContext.runJob(SparkContext.scala:2034)\n\tat org.apache.spark.SparkContext.runJob(SparkContext.scala:2055)\n\tat org.apache.spark.SparkContext.runJob(SparkContext.scala:2074)\n\tat org.apache.spark.SparkContext.runJob(SparkContext.scala:2099)\n\tat org.apache.spark.rdd.RDD$$anonfun$collect$1.apply(RDD.scala:945)\n\tat org.apache.spark.rdd.RDDOperationScope$.withScope(RDDOperationScope.scala:151)\n\tat org.apache.spark.rdd.RDDOperationScope$.withScope(RDDOperationScope.scala:112)\n\tat org.apache.spark.rdd.RDD.withScope(RDD.scala:363)\n\tat org.apache.spark.rdd.RDD.collect(RDD.scala:944)\n\tat org.apache.spark.sql.execution.SparkPlan.executeCollect(SparkPlan.scala:297)\n\tat org.apache.spark.sql.Dataset$$anonfun$count$1.apply(Dataset.scala:2775)\n\tat org.apache.spark.sql.Dataset$$anonfun$count$1.apply(Dataset.scala:2774)\n\tat org.apache.spark.sql.Dataset$$anonfun$52.apply(Dataset.scala:3259)\n\tat org.apache.spark.sql.execution.SQLExecution$.withNewExecutionId(SQLExecution.scala:77)\n\tat org.apache.spark.sql.Dataset.withAction(Dataset.scala:3258)\n\tat org.apache.spark.sql.Dataset.count(Dataset.scala:2774)\n\tat sun.reflect.NativeMethodAccessorImpl.invoke0(Native Method)\n\tat sun.reflect.NativeMethodAccessorImpl.invoke(NativeMethodAccessorImpl.java:62)\n\tat sun.reflect.DelegatingMethodAccessorImpl.invoke(DelegatingMethodAccessorImpl.java:43)\n\tat java.lang.reflect.Method.invoke(Method.java:498)\n\tat py4j.reflection.MethodInvoker.invoke(MethodInvoker.java:244)\n\tat py4j.reflection.ReflectionEngine.invoke(ReflectionEngine.java:357)\n\tat py4j.Gateway.invoke(Gateway.java:282)\n\tat py4j.commands.AbstractCommand.invokeMethod(AbstractCommand.java:132)\n\tat py4j.commands.CallCommand.execute(CallCommand.java:79)\n\tat py4j.GatewayConnection.run(GatewayConnection.java:238)\n\tat java.lang.Thread.run(Thread.java:748)\nCaused by: java.io.FileNotFoundException: File does not exist: hdfs://nameservice1/data/udf/vf_es/churn/fbb_tmp/numclidf_tmp_20181130/part-00115-96c44731-02fb-4b41-bb45-ac2d0396c457-c000.snappy.parquet\nIt is possible the underlying files have been updated. You can explicitly invalidate the cache in Spark by running 'REFRESH TABLE tableName' command in SQL or by recreating the Dataset/DataFrame involved.\n\tat org.apache.spark.sql.execution.datasources.FileScanRDD$$anon$1.org$apache$spark$sql$execution$datasources$FileScanRDD$$anon$$readCurrentFile(FileScanRDD.scala:131)\n\tat org.apache.spark.sql.execution.datasources.FileScanRDD$$anon$1.nextIterator(FileScanRDD.scala:182)\n\tat org.apache.spark.sql.execution.datasources.FileScanRDD$$anon$1.hasNext(FileScanRDD.scala:109)\n\tat org.apache.spark.sql.catalyst.expressions.GeneratedClass$GeneratedIteratorForCodegenStage29.scan_nextBatch_0$(Unknown Source)\n\tat org.apache.spark.sql.catalyst.expressions.GeneratedClass$GeneratedIteratorForCodegenStage29.processNext(Unknown Source)\n\tat org.apache.spark.sql.execution.BufferedRowIterator.hasNext(BufferedRowIterator.java:43)\n\tat org.apache.spark.sql.execution.WholeStageCodegenExec$$anonfun$10$$anon$1.hasNext(WholeStageCodegenExec.scala:614)\n\tat scala.collection.Iterator$$anon$11.hasNext(Iterator.scala:408)\n\tat org.apache.spark.shuffle.sort.BypassMergeSortShuffleWriter.write(BypassMergeSortShuffleWriter.java:125)\n\tat org.apache.spark.scheduler.ShuffleMapTask.runTask(ShuffleMapTask.scala:96)\n\tat org.apache.spark.scheduler.ShuffleMapTask.runTask(ShuffleMapTask.scala:53)\n\tat org.apache.spark.scheduler.Task.run(Task.scala:109)\n\tat org.apache.spark.executor.Executor$TaskRunner.run(Executor.scala:381)\n\tat java.util.concurrent.ThreadPoolExecutor.runWorker(ThreadPoolExecutor.java:1149)\n\tat java.util.concurrent.ThreadPoolExecutor$Worker.run(ThreadPoolExecutor.java:624)\n\t... 1 more\n"
     ]
    }
   ],
   "source": [
    "tr.count()"
   ]
  },
  {
   "cell_type": "code",
   "execution_count": 238,
   "metadata": {},
   "outputs": [
    {
     "name": "stdout",
     "output_type": "stream",
     "text": [
      "0\n",
      "1\n",
      "2\n",
      "3\n",
      "4\n"
     ]
    }
   ],
   "source": [
    "df_aux_tr = tr\n",
    "for i in range(0, num_tr_dfs):\n",
    "    df_aux_tr = models_vec[i].transform(df_aux_tr).withColumn(\"model_score_\" + str(i), getScore(col(\"probability\")).cast(DoubleType())).drop(col('probability'))\n",
    "    # tt_preds_df\n",
    "    df_aux_tr = calibration_vec[i][0].transform(df_aux_tr.drop(col('features')).drop(col('prediction')).drop(col('rawPrediction')))\n",
    "    print(i)"
   ]
  },
  {
   "cell_type": "code",
   "execution_count": 239,
   "metadata": {},
   "outputs": [],
   "source": [
    "features_ = cols_scores\n",
    "assembler = VectorAssembler(inputCols = features_, outputCol = \"features\")\n",
    "\n",
    "classifier = RandomForestClassifier(featuresCol=\"features\",\\\n",
    "        labelCol=\"label\",\\\n",
    "        maxDepth=10,\\\n",
    "        maxBins=32,\\\n",
    "        minInstancesPerNode=200,\\\n",
    "        impurity=\"gini\",\\\n",
    "        featureSubsetStrategy=\"sqrt\",\\\n",
    "        subsamplingRate=0.7,\\\n",
    "        numTrees=800,\\\n",
    "        seed = 1234,)\n",
    "\n",
    "pipeline = Pipeline(stages= [assembler, classifier])"
   ]
  },
  {
   "cell_type": "code",
   "execution_count": 243,
   "metadata": {},
   "outputs": [
    {
     "ename": "Py4JJavaError",
     "evalue": "An error occurred while calling o31302.count.\n: org.apache.spark.SparkException: Job aborted due to stage failure: Task 8 in stage 29896.0 failed 4 times, most recent failure: Lost task 8.3 in stage 29896.0 (TID 4397001, vgddp426hr.dc.sedc.internal.vodafone.com, executor 361): java.io.FileNotFoundException: File does not exist: hdfs://nameservice1/data/udf/vf_es/churn/fbb_tmp/numclidf_tmp_20181130/part-00175-96c44731-02fb-4b41-bb45-ac2d0396c457-c000.snappy.parquet\nIt is possible the underlying files have been updated. You can explicitly invalidate the cache in Spark by running 'REFRESH TABLE tableName' command in SQL or by recreating the Dataset/DataFrame involved.\n\tat org.apache.spark.sql.execution.datasources.FileScanRDD$$anon$1.org$apache$spark$sql$execution$datasources$FileScanRDD$$anon$$readCurrentFile(FileScanRDD.scala:131)\n\tat org.apache.spark.sql.execution.datasources.FileScanRDD$$anon$1.nextIterator(FileScanRDD.scala:182)\n\tat org.apache.spark.sql.execution.datasources.FileScanRDD$$anon$1.hasNext(FileScanRDD.scala:109)\n\tat scala.collection.Iterator$$anon$11.hasNext(Iterator.scala:408)\n\tat scala.collection.Iterator$$anon$11.hasNext(Iterator.scala:408)\n\tat scala.collection.Iterator$$anon$11.hasNext(Iterator.scala:408)\n\tat org.apache.spark.shuffle.sort.BypassMergeSortShuffleWriter.write(BypassMergeSortShuffleWriter.java:125)\n\tat org.apache.spark.scheduler.ShuffleMapTask.runTask(ShuffleMapTask.scala:96)\n\tat org.apache.spark.scheduler.ShuffleMapTask.runTask(ShuffleMapTask.scala:53)\n\tat org.apache.spark.scheduler.Task.run(Task.scala:109)\n\tat org.apache.spark.executor.Executor$TaskRunner.run(Executor.scala:381)\n\tat java.util.concurrent.ThreadPoolExecutor.runWorker(ThreadPoolExecutor.java:1149)\n\tat java.util.concurrent.ThreadPoolExecutor$Worker.run(ThreadPoolExecutor.java:624)\n\tat java.lang.Thread.run(Thread.java:748)\n\nDriver stacktrace:\n\tat org.apache.spark.scheduler.DAGScheduler.org$apache$spark$scheduler$DAGScheduler$$failJobAndIndependentStages(DAGScheduler.scala:1651)\n\tat org.apache.spark.scheduler.DAGScheduler$$anonfun$abortStage$1.apply(DAGScheduler.scala:1639)\n\tat org.apache.spark.scheduler.DAGScheduler$$anonfun$abortStage$1.apply(DAGScheduler.scala:1638)\n\tat scala.collection.mutable.ResizableArray$class.foreach(ResizableArray.scala:59)\n\tat scala.collection.mutable.ArrayBuffer.foreach(ArrayBuffer.scala:48)\n\tat org.apache.spark.scheduler.DAGScheduler.abortStage(DAGScheduler.scala:1638)\n\tat org.apache.spark.scheduler.DAGScheduler$$anonfun$handleTaskSetFailed$1.apply(DAGScheduler.scala:831)\n\tat org.apache.spark.scheduler.DAGScheduler$$anonfun$handleTaskSetFailed$1.apply(DAGScheduler.scala:831)\n\tat scala.Option.foreach(Option.scala:257)\n\tat org.apache.spark.scheduler.DAGScheduler.handleTaskSetFailed(DAGScheduler.scala:831)\n\tat org.apache.spark.scheduler.DAGSchedulerEventProcessLoop.doOnReceive(DAGScheduler.scala:1872)\n\tat org.apache.spark.scheduler.DAGSchedulerEventProcessLoop.onReceive(DAGScheduler.scala:1821)\n\tat org.apache.spark.scheduler.DAGSchedulerEventProcessLoop.onReceive(DAGScheduler.scala:1810)\n\tat org.apache.spark.util.EventLoop$$anon$1.run(EventLoop.scala:48)\n\tat org.apache.spark.scheduler.DAGScheduler.runJob(DAGScheduler.scala:642)\n\tat org.apache.spark.SparkContext.runJob(SparkContext.scala:2034)\n\tat org.apache.spark.SparkContext.runJob(SparkContext.scala:2055)\n\tat org.apache.spark.SparkContext.runJob(SparkContext.scala:2074)\n\tat org.apache.spark.SparkContext.runJob(SparkContext.scala:2099)\n\tat org.apache.spark.rdd.RDD$$anonfun$collect$1.apply(RDD.scala:945)\n\tat org.apache.spark.rdd.RDDOperationScope$.withScope(RDDOperationScope.scala:151)\n\tat org.apache.spark.rdd.RDDOperationScope$.withScope(RDDOperationScope.scala:112)\n\tat org.apache.spark.rdd.RDD.withScope(RDD.scala:363)\n\tat org.apache.spark.rdd.RDD.collect(RDD.scala:944)\n\tat org.apache.spark.sql.execution.SparkPlan.executeCollect(SparkPlan.scala:297)\n\tat org.apache.spark.sql.Dataset$$anonfun$count$1.apply(Dataset.scala:2775)\n\tat org.apache.spark.sql.Dataset$$anonfun$count$1.apply(Dataset.scala:2774)\n\tat org.apache.spark.sql.Dataset$$anonfun$52.apply(Dataset.scala:3259)\n\tat org.apache.spark.sql.execution.SQLExecution$.withNewExecutionId(SQLExecution.scala:77)\n\tat org.apache.spark.sql.Dataset.withAction(Dataset.scala:3258)\n\tat org.apache.spark.sql.Dataset.count(Dataset.scala:2774)\n\tat sun.reflect.NativeMethodAccessorImpl.invoke0(Native Method)\n\tat sun.reflect.NativeMethodAccessorImpl.invoke(NativeMethodAccessorImpl.java:62)\n\tat sun.reflect.DelegatingMethodAccessorImpl.invoke(DelegatingMethodAccessorImpl.java:43)\n\tat java.lang.reflect.Method.invoke(Method.java:498)\n\tat py4j.reflection.MethodInvoker.invoke(MethodInvoker.java:244)\n\tat py4j.reflection.ReflectionEngine.invoke(ReflectionEngine.java:357)\n\tat py4j.Gateway.invoke(Gateway.java:282)\n\tat py4j.commands.AbstractCommand.invokeMethod(AbstractCommand.java:132)\n\tat py4j.commands.CallCommand.execute(CallCommand.java:79)\n\tat py4j.GatewayConnection.run(GatewayConnection.java:238)\n\tat java.lang.Thread.run(Thread.java:748)\nCaused by: java.io.FileNotFoundException: File does not exist: hdfs://nameservice1/data/udf/vf_es/churn/fbb_tmp/numclidf_tmp_20181130/part-00175-96c44731-02fb-4b41-bb45-ac2d0396c457-c000.snappy.parquet\nIt is possible the underlying files have been updated. You can explicitly invalidate the cache in Spark by running 'REFRESH TABLE tableName' command in SQL or by recreating the Dataset/DataFrame involved.\n\tat org.apache.spark.sql.execution.datasources.FileScanRDD$$anon$1.org$apache$spark$sql$execution$datasources$FileScanRDD$$anon$$readCurrentFile(FileScanRDD.scala:131)\n\tat org.apache.spark.sql.execution.datasources.FileScanRDD$$anon$1.nextIterator(FileScanRDD.scala:182)\n\tat org.apache.spark.sql.execution.datasources.FileScanRDD$$anon$1.hasNext(FileScanRDD.scala:109)\n\tat scala.collection.Iterator$$anon$11.hasNext(Iterator.scala:408)\n\tat scala.collection.Iterator$$anon$11.hasNext(Iterator.scala:408)\n\tat scala.collection.Iterator$$anon$11.hasNext(Iterator.scala:408)\n\tat org.apache.spark.shuffle.sort.BypassMergeSortShuffleWriter.write(BypassMergeSortShuffleWriter.java:125)\n\tat org.apache.spark.scheduler.ShuffleMapTask.runTask(ShuffleMapTask.scala:96)\n\tat org.apache.spark.scheduler.ShuffleMapTask.runTask(ShuffleMapTask.scala:53)\n\tat org.apache.spark.scheduler.Task.run(Task.scala:109)\n\tat org.apache.spark.executor.Executor$TaskRunner.run(Executor.scala:381)\n\tat java.util.concurrent.ThreadPoolExecutor.runWorker(ThreadPoolExecutor.java:1149)\n\tat java.util.concurrent.ThreadPoolExecutor$Worker.run(ThreadPoolExecutor.java:624)\n\t... 1 more\n",
     "output_type": "error",
     "traceback": [
      "\u001b[0;31m\u001b[0m",
      "\u001b[0;31mPy4JJavaError\u001b[0mTraceback (most recent call last)",
      "\u001b[0;32m<ipython-input-243-6906561333f2>\u001b[0m in \u001b[0;36m<module>\u001b[0;34m()\u001b[0m\n\u001b[0;32m----> 1\u001b[0;31m \u001b[0mtr\u001b[0m\u001b[0;34m.\u001b[0m\u001b[0mcount\u001b[0m\u001b[0;34m(\u001b[0m\u001b[0;34m)\u001b[0m\u001b[0;34m\u001b[0m\u001b[0m\n\u001b[0m",
      "\u001b[0;32m/opt/cloudera/parcels/SPARK2/lib/spark2/python/pyspark/sql/dataframe.py\u001b[0m in \u001b[0;36mcount\u001b[0;34m(self)\u001b[0m\n\u001b[1;32m    453\u001b[0m         \u001b[0;36m2\u001b[0m\u001b[0;34m\u001b[0m\u001b[0m\n\u001b[1;32m    454\u001b[0m         \"\"\"\n\u001b[0;32m--> 455\u001b[0;31m         \u001b[0;32mreturn\u001b[0m \u001b[0mint\u001b[0m\u001b[0;34m(\u001b[0m\u001b[0mself\u001b[0m\u001b[0;34m.\u001b[0m\u001b[0m_jdf\u001b[0m\u001b[0;34m.\u001b[0m\u001b[0mcount\u001b[0m\u001b[0;34m(\u001b[0m\u001b[0;34m)\u001b[0m\u001b[0;34m)\u001b[0m\u001b[0;34m\u001b[0m\u001b[0m\n\u001b[0m\u001b[1;32m    456\u001b[0m \u001b[0;34m\u001b[0m\u001b[0m\n\u001b[1;32m    457\u001b[0m     \u001b[0;34m@\u001b[0m\u001b[0mignore_unicode_prefix\u001b[0m\u001b[0;34m\u001b[0m\u001b[0m\n",
      "\u001b[0;32m/opt/cloudera/parcels/Anaconda-2.5.0/lib/python2.7/site-packages/py4j/java_gateway.pyc\u001b[0m in \u001b[0;36m__call__\u001b[0;34m(self, *args)\u001b[0m\n\u001b[1;32m   1255\u001b[0m         \u001b[0manswer\u001b[0m \u001b[0;34m=\u001b[0m \u001b[0mself\u001b[0m\u001b[0;34m.\u001b[0m\u001b[0mgateway_client\u001b[0m\u001b[0;34m.\u001b[0m\u001b[0msend_command\u001b[0m\u001b[0;34m(\u001b[0m\u001b[0mcommand\u001b[0m\u001b[0;34m)\u001b[0m\u001b[0;34m\u001b[0m\u001b[0m\n\u001b[1;32m   1256\u001b[0m         return_value = get_return_value(\n\u001b[0;32m-> 1257\u001b[0;31m             answer, self.gateway_client, self.target_id, self.name)\n\u001b[0m\u001b[1;32m   1258\u001b[0m \u001b[0;34m\u001b[0m\u001b[0m\n\u001b[1;32m   1259\u001b[0m         \u001b[0;32mfor\u001b[0m \u001b[0mtemp_arg\u001b[0m \u001b[0;32min\u001b[0m \u001b[0mtemp_args\u001b[0m\u001b[0;34m:\u001b[0m\u001b[0;34m\u001b[0m\u001b[0m\n",
      "\u001b[0;32m/opt/cloudera/parcels/SPARK2/lib/spark2/python/pyspark/sql/utils.py\u001b[0m in \u001b[0;36mdeco\u001b[0;34m(*a, **kw)\u001b[0m\n\u001b[1;32m     61\u001b[0m     \u001b[0;32mdef\u001b[0m \u001b[0mdeco\u001b[0m\u001b[0;34m(\u001b[0m\u001b[0;34m*\u001b[0m\u001b[0ma\u001b[0m\u001b[0;34m,\u001b[0m \u001b[0;34m**\u001b[0m\u001b[0mkw\u001b[0m\u001b[0;34m)\u001b[0m\u001b[0;34m:\u001b[0m\u001b[0;34m\u001b[0m\u001b[0m\n\u001b[1;32m     62\u001b[0m         \u001b[0;32mtry\u001b[0m\u001b[0;34m:\u001b[0m\u001b[0;34m\u001b[0m\u001b[0m\n\u001b[0;32m---> 63\u001b[0;31m             \u001b[0;32mreturn\u001b[0m \u001b[0mf\u001b[0m\u001b[0;34m(\u001b[0m\u001b[0;34m*\u001b[0m\u001b[0ma\u001b[0m\u001b[0;34m,\u001b[0m \u001b[0;34m**\u001b[0m\u001b[0mkw\u001b[0m\u001b[0;34m)\u001b[0m\u001b[0;34m\u001b[0m\u001b[0m\n\u001b[0m\u001b[1;32m     64\u001b[0m         \u001b[0;32mexcept\u001b[0m \u001b[0mpy4j\u001b[0m\u001b[0;34m.\u001b[0m\u001b[0mprotocol\u001b[0m\u001b[0;34m.\u001b[0m\u001b[0mPy4JJavaError\u001b[0m \u001b[0;32mas\u001b[0m \u001b[0me\u001b[0m\u001b[0;34m:\u001b[0m\u001b[0;34m\u001b[0m\u001b[0m\n\u001b[1;32m     65\u001b[0m             \u001b[0ms\u001b[0m \u001b[0;34m=\u001b[0m \u001b[0me\u001b[0m\u001b[0;34m.\u001b[0m\u001b[0mjava_exception\u001b[0m\u001b[0;34m.\u001b[0m\u001b[0mtoString\u001b[0m\u001b[0;34m(\u001b[0m\u001b[0;34m)\u001b[0m\u001b[0;34m\u001b[0m\u001b[0m\n",
      "\u001b[0;32m/opt/cloudera/parcels/Anaconda-2.5.0/lib/python2.7/site-packages/py4j/protocol.pyc\u001b[0m in \u001b[0;36mget_return_value\u001b[0;34m(answer, gateway_client, target_id, name)\u001b[0m\n\u001b[1;32m    326\u001b[0m                 raise Py4JJavaError(\n\u001b[1;32m    327\u001b[0m                     \u001b[0;34m\"An error occurred while calling {0}{1}{2}.\\n\"\u001b[0m\u001b[0;34m.\u001b[0m\u001b[0;34m\u001b[0m\u001b[0m\n\u001b[0;32m--> 328\u001b[0;31m                     format(target_id, \".\", name), value)\n\u001b[0m\u001b[1;32m    329\u001b[0m             \u001b[0;32melse\u001b[0m\u001b[0;34m:\u001b[0m\u001b[0;34m\u001b[0m\u001b[0m\n\u001b[1;32m    330\u001b[0m                 raise Py4JError(\n",
      "\u001b[0;31mPy4JJavaError\u001b[0m: An error occurred while calling o31302.count.\n: org.apache.spark.SparkException: Job aborted due to stage failure: Task 8 in stage 29896.0 failed 4 times, most recent failure: Lost task 8.3 in stage 29896.0 (TID 4397001, vgddp426hr.dc.sedc.internal.vodafone.com, executor 361): java.io.FileNotFoundException: File does not exist: hdfs://nameservice1/data/udf/vf_es/churn/fbb_tmp/numclidf_tmp_20181130/part-00175-96c44731-02fb-4b41-bb45-ac2d0396c457-c000.snappy.parquet\nIt is possible the underlying files have been updated. You can explicitly invalidate the cache in Spark by running 'REFRESH TABLE tableName' command in SQL or by recreating the Dataset/DataFrame involved.\n\tat org.apache.spark.sql.execution.datasources.FileScanRDD$$anon$1.org$apache$spark$sql$execution$datasources$FileScanRDD$$anon$$readCurrentFile(FileScanRDD.scala:131)\n\tat org.apache.spark.sql.execution.datasources.FileScanRDD$$anon$1.nextIterator(FileScanRDD.scala:182)\n\tat org.apache.spark.sql.execution.datasources.FileScanRDD$$anon$1.hasNext(FileScanRDD.scala:109)\n\tat scala.collection.Iterator$$anon$11.hasNext(Iterator.scala:408)\n\tat scala.collection.Iterator$$anon$11.hasNext(Iterator.scala:408)\n\tat scala.collection.Iterator$$anon$11.hasNext(Iterator.scala:408)\n\tat org.apache.spark.shuffle.sort.BypassMergeSortShuffleWriter.write(BypassMergeSortShuffleWriter.java:125)\n\tat org.apache.spark.scheduler.ShuffleMapTask.runTask(ShuffleMapTask.scala:96)\n\tat org.apache.spark.scheduler.ShuffleMapTask.runTask(ShuffleMapTask.scala:53)\n\tat org.apache.spark.scheduler.Task.run(Task.scala:109)\n\tat org.apache.spark.executor.Executor$TaskRunner.run(Executor.scala:381)\n\tat java.util.concurrent.ThreadPoolExecutor.runWorker(ThreadPoolExecutor.java:1149)\n\tat java.util.concurrent.ThreadPoolExecutor$Worker.run(ThreadPoolExecutor.java:624)\n\tat java.lang.Thread.run(Thread.java:748)\n\nDriver stacktrace:\n\tat org.apache.spark.scheduler.DAGScheduler.org$apache$spark$scheduler$DAGScheduler$$failJobAndIndependentStages(DAGScheduler.scala:1651)\n\tat org.apache.spark.scheduler.DAGScheduler$$anonfun$abortStage$1.apply(DAGScheduler.scala:1639)\n\tat org.apache.spark.scheduler.DAGScheduler$$anonfun$abortStage$1.apply(DAGScheduler.scala:1638)\n\tat scala.collection.mutable.ResizableArray$class.foreach(ResizableArray.scala:59)\n\tat scala.collection.mutable.ArrayBuffer.foreach(ArrayBuffer.scala:48)\n\tat org.apache.spark.scheduler.DAGScheduler.abortStage(DAGScheduler.scala:1638)\n\tat org.apache.spark.scheduler.DAGScheduler$$anonfun$handleTaskSetFailed$1.apply(DAGScheduler.scala:831)\n\tat org.apache.spark.scheduler.DAGScheduler$$anonfun$handleTaskSetFailed$1.apply(DAGScheduler.scala:831)\n\tat scala.Option.foreach(Option.scala:257)\n\tat org.apache.spark.scheduler.DAGScheduler.handleTaskSetFailed(DAGScheduler.scala:831)\n\tat org.apache.spark.scheduler.DAGSchedulerEventProcessLoop.doOnReceive(DAGScheduler.scala:1872)\n\tat org.apache.spark.scheduler.DAGSchedulerEventProcessLoop.onReceive(DAGScheduler.scala:1821)\n\tat org.apache.spark.scheduler.DAGSchedulerEventProcessLoop.onReceive(DAGScheduler.scala:1810)\n\tat org.apache.spark.util.EventLoop$$anon$1.run(EventLoop.scala:48)\n\tat org.apache.spark.scheduler.DAGScheduler.runJob(DAGScheduler.scala:642)\n\tat org.apache.spark.SparkContext.runJob(SparkContext.scala:2034)\n\tat org.apache.spark.SparkContext.runJob(SparkContext.scala:2055)\n\tat org.apache.spark.SparkContext.runJob(SparkContext.scala:2074)\n\tat org.apache.spark.SparkContext.runJob(SparkContext.scala:2099)\n\tat org.apache.spark.rdd.RDD$$anonfun$collect$1.apply(RDD.scala:945)\n\tat org.apache.spark.rdd.RDDOperationScope$.withScope(RDDOperationScope.scala:151)\n\tat org.apache.spark.rdd.RDDOperationScope$.withScope(RDDOperationScope.scala:112)\n\tat org.apache.spark.rdd.RDD.withScope(RDD.scala:363)\n\tat org.apache.spark.rdd.RDD.collect(RDD.scala:944)\n\tat org.apache.spark.sql.execution.SparkPlan.executeCollect(SparkPlan.scala:297)\n\tat org.apache.spark.sql.Dataset$$anonfun$count$1.apply(Dataset.scala:2775)\n\tat org.apache.spark.sql.Dataset$$anonfun$count$1.apply(Dataset.scala:2774)\n\tat org.apache.spark.sql.Dataset$$anonfun$52.apply(Dataset.scala:3259)\n\tat org.apache.spark.sql.execution.SQLExecution$.withNewExecutionId(SQLExecution.scala:77)\n\tat org.apache.spark.sql.Dataset.withAction(Dataset.scala:3258)\n\tat org.apache.spark.sql.Dataset.count(Dataset.scala:2774)\n\tat sun.reflect.NativeMethodAccessorImpl.invoke0(Native Method)\n\tat sun.reflect.NativeMethodAccessorImpl.invoke(NativeMethodAccessorImpl.java:62)\n\tat sun.reflect.DelegatingMethodAccessorImpl.invoke(DelegatingMethodAccessorImpl.java:43)\n\tat java.lang.reflect.Method.invoke(Method.java:498)\n\tat py4j.reflection.MethodInvoker.invoke(MethodInvoker.java:244)\n\tat py4j.reflection.ReflectionEngine.invoke(ReflectionEngine.java:357)\n\tat py4j.Gateway.invoke(Gateway.java:282)\n\tat py4j.commands.AbstractCommand.invokeMethod(AbstractCommand.java:132)\n\tat py4j.commands.CallCommand.execute(CallCommand.java:79)\n\tat py4j.GatewayConnection.run(GatewayConnection.java:238)\n\tat java.lang.Thread.run(Thread.java:748)\nCaused by: java.io.FileNotFoundException: File does not exist: hdfs://nameservice1/data/udf/vf_es/churn/fbb_tmp/numclidf_tmp_20181130/part-00175-96c44731-02fb-4b41-bb45-ac2d0396c457-c000.snappy.parquet\nIt is possible the underlying files have been updated. You can explicitly invalidate the cache in Spark by running 'REFRESH TABLE tableName' command in SQL or by recreating the Dataset/DataFrame involved.\n\tat org.apache.spark.sql.execution.datasources.FileScanRDD$$anon$1.org$apache$spark$sql$execution$datasources$FileScanRDD$$anon$$readCurrentFile(FileScanRDD.scala:131)\n\tat org.apache.spark.sql.execution.datasources.FileScanRDD$$anon$1.nextIterator(FileScanRDD.scala:182)\n\tat org.apache.spark.sql.execution.datasources.FileScanRDD$$anon$1.hasNext(FileScanRDD.scala:109)\n\tat scala.collection.Iterator$$anon$11.hasNext(Iterator.scala:408)\n\tat scala.collection.Iterator$$anon$11.hasNext(Iterator.scala:408)\n\tat scala.collection.Iterator$$anon$11.hasNext(Iterator.scala:408)\n\tat org.apache.spark.shuffle.sort.BypassMergeSortShuffleWriter.write(BypassMergeSortShuffleWriter.java:125)\n\tat org.apache.spark.scheduler.ShuffleMapTask.runTask(ShuffleMapTask.scala:96)\n\tat org.apache.spark.scheduler.ShuffleMapTask.runTask(ShuffleMapTask.scala:53)\n\tat org.apache.spark.scheduler.Task.run(Task.scala:109)\n\tat org.apache.spark.executor.Executor$TaskRunner.run(Executor.scala:381)\n\tat java.util.concurrent.ThreadPoolExecutor.runWorker(ThreadPoolExecutor.java:1149)\n\tat java.util.concurrent.ThreadPoolExecutor$Worker.run(ThreadPoolExecutor.java:624)\n\t... 1 more\n"
     ]
    }
   ],
   "source": [
    "tr.count()"
   ]
  },
  {
   "cell_type": "code",
   "execution_count": 240,
   "metadata": {},
   "outputs": [
    {
     "ename": "Py4JJavaError",
     "evalue": "An error occurred while calling o31774.fit.\n: org.apache.spark.SparkException: Job aborted due to stage failure: Task 8 in stage 29790.0 failed 4 times, most recent failure: Lost task 8.3 in stage 29790.0 (TID 4396812, vgddp426hr.dc.sedc.internal.vodafone.com, executor 361): java.io.FileNotFoundException: File does not exist: hdfs://nameservice1/data/udf/vf_es/churn/fbb_tmp/numclidf_tmp_20181130/part-00175-96c44731-02fb-4b41-bb45-ac2d0396c457-c000.snappy.parquet\nIt is possible the underlying files have been updated. You can explicitly invalidate the cache in Spark by running 'REFRESH TABLE tableName' command in SQL or by recreating the Dataset/DataFrame involved.\n\tat org.apache.spark.sql.execution.datasources.FileScanRDD$$anon$1.org$apache$spark$sql$execution$datasources$FileScanRDD$$anon$$readCurrentFile(FileScanRDD.scala:131)\n\tat org.apache.spark.sql.execution.datasources.FileScanRDD$$anon$1.nextIterator(FileScanRDD.scala:182)\n\tat org.apache.spark.sql.execution.datasources.FileScanRDD$$anon$1.hasNext(FileScanRDD.scala:109)\n\tat scala.collection.Iterator$$anon$11.hasNext(Iterator.scala:408)\n\tat scala.collection.Iterator$$anon$11.hasNext(Iterator.scala:408)\n\tat scala.collection.Iterator$$anon$11.hasNext(Iterator.scala:408)\n\tat org.apache.spark.shuffle.sort.BypassMergeSortShuffleWriter.write(BypassMergeSortShuffleWriter.java:125)\n\tat org.apache.spark.scheduler.ShuffleMapTask.runTask(ShuffleMapTask.scala:96)\n\tat org.apache.spark.scheduler.ShuffleMapTask.runTask(ShuffleMapTask.scala:53)\n\tat org.apache.spark.scheduler.Task.run(Task.scala:109)\n\tat org.apache.spark.executor.Executor$TaskRunner.run(Executor.scala:381)\n\tat java.util.concurrent.ThreadPoolExecutor.runWorker(ThreadPoolExecutor.java:1149)\n\tat java.util.concurrent.ThreadPoolExecutor$Worker.run(ThreadPoolExecutor.java:624)\n\tat java.lang.Thread.run(Thread.java:748)\n\nDriver stacktrace:\n\tat org.apache.spark.scheduler.DAGScheduler.org$apache$spark$scheduler$DAGScheduler$$failJobAndIndependentStages(DAGScheduler.scala:1651)\n\tat org.apache.spark.scheduler.DAGScheduler$$anonfun$abortStage$1.apply(DAGScheduler.scala:1639)\n\tat org.apache.spark.scheduler.DAGScheduler$$anonfun$abortStage$1.apply(DAGScheduler.scala:1638)\n\tat scala.collection.mutable.ResizableArray$class.foreach(ResizableArray.scala:59)\n\tat scala.collection.mutable.ArrayBuffer.foreach(ArrayBuffer.scala:48)\n\tat org.apache.spark.scheduler.DAGScheduler.abortStage(DAGScheduler.scala:1638)\n\tat org.apache.spark.scheduler.DAGScheduler$$anonfun$handleTaskSetFailed$1.apply(DAGScheduler.scala:831)\n\tat org.apache.spark.scheduler.DAGScheduler$$anonfun$handleTaskSetFailed$1.apply(DAGScheduler.scala:831)\n\tat scala.Option.foreach(Option.scala:257)\n\tat org.apache.spark.scheduler.DAGScheduler.handleTaskSetFailed(DAGScheduler.scala:831)\n\tat org.apache.spark.scheduler.DAGSchedulerEventProcessLoop.doOnReceive(DAGScheduler.scala:1872)\n\tat org.apache.spark.scheduler.DAGSchedulerEventProcessLoop.onReceive(DAGScheduler.scala:1821)\n\tat org.apache.spark.scheduler.DAGSchedulerEventProcessLoop.onReceive(DAGScheduler.scala:1810)\n\tat org.apache.spark.util.EventLoop$$anon$1.run(EventLoop.scala:48)\n\tat org.apache.spark.scheduler.DAGScheduler.runJob(DAGScheduler.scala:642)\n\tat org.apache.spark.SparkContext.runJob(SparkContext.scala:2034)\n\tat org.apache.spark.SparkContext.runJob(SparkContext.scala:2055)\n\tat org.apache.spark.SparkContext.runJob(SparkContext.scala:2074)\n\tat org.apache.spark.sql.execution.SparkPlan.executeTake(SparkPlan.scala:363)\n\tat org.apache.spark.sql.execution.CollectLimitExec.executeCollect(limit.scala:38)\n\tat org.apache.spark.sql.Dataset.org$apache$spark$sql$Dataset$$collectFromPlan(Dataset.scala:3278)\n\tat org.apache.spark.sql.Dataset$$anonfun$head$1.apply(Dataset.scala:2489)\n\tat org.apache.spark.sql.Dataset$$anonfun$head$1.apply(Dataset.scala:2489)\n\tat org.apache.spark.sql.Dataset$$anonfun$52.apply(Dataset.scala:3259)\n\tat org.apache.spark.sql.execution.SQLExecution$.withNewExecutionId(SQLExecution.scala:77)\n\tat org.apache.spark.sql.Dataset.withAction(Dataset.scala:3258)\n\tat org.apache.spark.sql.Dataset.head(Dataset.scala:2489)\n\tat org.apache.spark.sql.Dataset.take(Dataset.scala:2703)\n\tat org.apache.spark.ml.classification.Classifier.getNumClasses(Classifier.scala:111)\n\tat org.apache.spark.ml.classification.RandomForestClassifier.train(RandomForestClassifier.scala:121)\n\tat org.apache.spark.ml.classification.RandomForestClassifier.train(RandomForestClassifier.scala:45)\n\tat org.apache.spark.ml.Predictor.fit(Predictor.scala:118)\n\tat sun.reflect.NativeMethodAccessorImpl.invoke0(Native Method)\n\tat sun.reflect.NativeMethodAccessorImpl.invoke(NativeMethodAccessorImpl.java:62)\n\tat sun.reflect.DelegatingMethodAccessorImpl.invoke(DelegatingMethodAccessorImpl.java:43)\n\tat java.lang.reflect.Method.invoke(Method.java:498)\n\tat py4j.reflection.MethodInvoker.invoke(MethodInvoker.java:244)\n\tat py4j.reflection.ReflectionEngine.invoke(ReflectionEngine.java:357)\n\tat py4j.Gateway.invoke(Gateway.java:282)\n\tat py4j.commands.AbstractCommand.invokeMethod(AbstractCommand.java:132)\n\tat py4j.commands.CallCommand.execute(CallCommand.java:79)\n\tat py4j.GatewayConnection.run(GatewayConnection.java:238)\n\tat java.lang.Thread.run(Thread.java:748)\nCaused by: java.io.FileNotFoundException: File does not exist: hdfs://nameservice1/data/udf/vf_es/churn/fbb_tmp/numclidf_tmp_20181130/part-00175-96c44731-02fb-4b41-bb45-ac2d0396c457-c000.snappy.parquet\nIt is possible the underlying files have been updated. You can explicitly invalidate the cache in Spark by running 'REFRESH TABLE tableName' command in SQL or by recreating the Dataset/DataFrame involved.\n\tat org.apache.spark.sql.execution.datasources.FileScanRDD$$anon$1.org$apache$spark$sql$execution$datasources$FileScanRDD$$anon$$readCurrentFile(FileScanRDD.scala:131)\n\tat org.apache.spark.sql.execution.datasources.FileScanRDD$$anon$1.nextIterator(FileScanRDD.scala:182)\n\tat org.apache.spark.sql.execution.datasources.FileScanRDD$$anon$1.hasNext(FileScanRDD.scala:109)\n\tat scala.collection.Iterator$$anon$11.hasNext(Iterator.scala:408)\n\tat scala.collection.Iterator$$anon$11.hasNext(Iterator.scala:408)\n\tat scala.collection.Iterator$$anon$11.hasNext(Iterator.scala:408)\n\tat org.apache.spark.shuffle.sort.BypassMergeSortShuffleWriter.write(BypassMergeSortShuffleWriter.java:125)\n\tat org.apache.spark.scheduler.ShuffleMapTask.runTask(ShuffleMapTask.scala:96)\n\tat org.apache.spark.scheduler.ShuffleMapTask.runTask(ShuffleMapTask.scala:53)\n\tat org.apache.spark.scheduler.Task.run(Task.scala:109)\n\tat org.apache.spark.executor.Executor$TaskRunner.run(Executor.scala:381)\n\tat java.util.concurrent.ThreadPoolExecutor.runWorker(ThreadPoolExecutor.java:1149)\n\tat java.util.concurrent.ThreadPoolExecutor$Worker.run(ThreadPoolExecutor.java:624)\n\t... 1 more\n",
     "output_type": "error",
     "traceback": [
      "\u001b[0;31m\u001b[0m",
      "\u001b[0;31mPy4JJavaError\u001b[0mTraceback (most recent call last)",
      "\u001b[0;32m<ipython-input-240-ef1561e5271b>\u001b[0m in \u001b[0;36m<module>\u001b[0;34m()\u001b[0m\n\u001b[0;32m----> 1\u001b[0;31m \u001b[0mmodel_final\u001b[0m \u001b[0;34m=\u001b[0m \u001b[0mpipeline\u001b[0m\u001b[0;34m.\u001b[0m\u001b[0mfit\u001b[0m\u001b[0;34m(\u001b[0m\u001b[0mdf_aux_tr\u001b[0m\u001b[0;34m)\u001b[0m\u001b[0;34m\u001b[0m\u001b[0m\n\u001b[0m",
      "\u001b[0;32m/opt/cloudera/parcels/SPARK2/lib/spark2/python/pyspark/ml/base.py\u001b[0m in \u001b[0;36mfit\u001b[0;34m(self, dataset, params)\u001b[0m\n\u001b[1;32m    130\u001b[0m                 \u001b[0;32mreturn\u001b[0m \u001b[0mself\u001b[0m\u001b[0;34m.\u001b[0m\u001b[0mcopy\u001b[0m\u001b[0;34m(\u001b[0m\u001b[0mparams\u001b[0m\u001b[0;34m)\u001b[0m\u001b[0;34m.\u001b[0m\u001b[0m_fit\u001b[0m\u001b[0;34m(\u001b[0m\u001b[0mdataset\u001b[0m\u001b[0;34m)\u001b[0m\u001b[0;34m\u001b[0m\u001b[0m\n\u001b[1;32m    131\u001b[0m             \u001b[0;32melse\u001b[0m\u001b[0;34m:\u001b[0m\u001b[0;34m\u001b[0m\u001b[0m\n\u001b[0;32m--> 132\u001b[0;31m                 \u001b[0;32mreturn\u001b[0m \u001b[0mself\u001b[0m\u001b[0;34m.\u001b[0m\u001b[0m_fit\u001b[0m\u001b[0;34m(\u001b[0m\u001b[0mdataset\u001b[0m\u001b[0;34m)\u001b[0m\u001b[0;34m\u001b[0m\u001b[0m\n\u001b[0m\u001b[1;32m    133\u001b[0m         \u001b[0;32melse\u001b[0m\u001b[0;34m:\u001b[0m\u001b[0;34m\u001b[0m\u001b[0m\n\u001b[1;32m    134\u001b[0m             raise ValueError(\"Params must be either a param map or a list/tuple of param maps, \"\n",
      "\u001b[0;32m/opt/cloudera/parcels/SPARK2/lib/spark2/python/pyspark/ml/pipeline.py\u001b[0m in \u001b[0;36m_fit\u001b[0;34m(self, dataset)\u001b[0m\n\u001b[1;32m    107\u001b[0m                     \u001b[0mdataset\u001b[0m \u001b[0;34m=\u001b[0m \u001b[0mstage\u001b[0m\u001b[0;34m.\u001b[0m\u001b[0mtransform\u001b[0m\u001b[0;34m(\u001b[0m\u001b[0mdataset\u001b[0m\u001b[0;34m)\u001b[0m\u001b[0;34m\u001b[0m\u001b[0m\n\u001b[1;32m    108\u001b[0m                 \u001b[0;32melse\u001b[0m\u001b[0;34m:\u001b[0m  \u001b[0;31m# must be an Estimator\u001b[0m\u001b[0;34m\u001b[0m\u001b[0m\n\u001b[0;32m--> 109\u001b[0;31m                     \u001b[0mmodel\u001b[0m \u001b[0;34m=\u001b[0m \u001b[0mstage\u001b[0m\u001b[0;34m.\u001b[0m\u001b[0mfit\u001b[0m\u001b[0;34m(\u001b[0m\u001b[0mdataset\u001b[0m\u001b[0;34m)\u001b[0m\u001b[0;34m\u001b[0m\u001b[0m\n\u001b[0m\u001b[1;32m    110\u001b[0m                     \u001b[0mtransformers\u001b[0m\u001b[0;34m.\u001b[0m\u001b[0mappend\u001b[0m\u001b[0;34m(\u001b[0m\u001b[0mmodel\u001b[0m\u001b[0;34m)\u001b[0m\u001b[0;34m\u001b[0m\u001b[0m\n\u001b[1;32m    111\u001b[0m                     \u001b[0;32mif\u001b[0m \u001b[0mi\u001b[0m \u001b[0;34m<\u001b[0m \u001b[0mindexOfLastEstimator\u001b[0m\u001b[0;34m:\u001b[0m\u001b[0;34m\u001b[0m\u001b[0m\n",
      "\u001b[0;32m/opt/cloudera/parcels/SPARK2/lib/spark2/python/pyspark/ml/base.py\u001b[0m in \u001b[0;36mfit\u001b[0;34m(self, dataset, params)\u001b[0m\n\u001b[1;32m    130\u001b[0m                 \u001b[0;32mreturn\u001b[0m \u001b[0mself\u001b[0m\u001b[0;34m.\u001b[0m\u001b[0mcopy\u001b[0m\u001b[0;34m(\u001b[0m\u001b[0mparams\u001b[0m\u001b[0;34m)\u001b[0m\u001b[0;34m.\u001b[0m\u001b[0m_fit\u001b[0m\u001b[0;34m(\u001b[0m\u001b[0mdataset\u001b[0m\u001b[0;34m)\u001b[0m\u001b[0;34m\u001b[0m\u001b[0m\n\u001b[1;32m    131\u001b[0m             \u001b[0;32melse\u001b[0m\u001b[0;34m:\u001b[0m\u001b[0;34m\u001b[0m\u001b[0m\n\u001b[0;32m--> 132\u001b[0;31m                 \u001b[0;32mreturn\u001b[0m \u001b[0mself\u001b[0m\u001b[0;34m.\u001b[0m\u001b[0m_fit\u001b[0m\u001b[0;34m(\u001b[0m\u001b[0mdataset\u001b[0m\u001b[0;34m)\u001b[0m\u001b[0;34m\u001b[0m\u001b[0m\n\u001b[0m\u001b[1;32m    133\u001b[0m         \u001b[0;32melse\u001b[0m\u001b[0;34m:\u001b[0m\u001b[0;34m\u001b[0m\u001b[0m\n\u001b[1;32m    134\u001b[0m             raise ValueError(\"Params must be either a param map or a list/tuple of param maps, \"\n",
      "\u001b[0;32m/opt/cloudera/parcels/SPARK2/lib/spark2/python/pyspark/ml/wrapper.py\u001b[0m in \u001b[0;36m_fit\u001b[0;34m(self, dataset)\u001b[0m\n\u001b[1;32m    286\u001b[0m \u001b[0;34m\u001b[0m\u001b[0m\n\u001b[1;32m    287\u001b[0m     \u001b[0;32mdef\u001b[0m \u001b[0m_fit\u001b[0m\u001b[0;34m(\u001b[0m\u001b[0mself\u001b[0m\u001b[0;34m,\u001b[0m \u001b[0mdataset\u001b[0m\u001b[0;34m)\u001b[0m\u001b[0;34m:\u001b[0m\u001b[0;34m\u001b[0m\u001b[0m\n\u001b[0;32m--> 288\u001b[0;31m         \u001b[0mjava_model\u001b[0m \u001b[0;34m=\u001b[0m \u001b[0mself\u001b[0m\u001b[0;34m.\u001b[0m\u001b[0m_fit_java\u001b[0m\u001b[0;34m(\u001b[0m\u001b[0mdataset\u001b[0m\u001b[0;34m)\u001b[0m\u001b[0;34m\u001b[0m\u001b[0m\n\u001b[0m\u001b[1;32m    289\u001b[0m         \u001b[0mmodel\u001b[0m \u001b[0;34m=\u001b[0m \u001b[0mself\u001b[0m\u001b[0;34m.\u001b[0m\u001b[0m_create_model\u001b[0m\u001b[0;34m(\u001b[0m\u001b[0mjava_model\u001b[0m\u001b[0;34m)\u001b[0m\u001b[0;34m\u001b[0m\u001b[0m\n\u001b[1;32m    290\u001b[0m         \u001b[0;32mreturn\u001b[0m \u001b[0mself\u001b[0m\u001b[0;34m.\u001b[0m\u001b[0m_copyValues\u001b[0m\u001b[0;34m(\u001b[0m\u001b[0mmodel\u001b[0m\u001b[0;34m)\u001b[0m\u001b[0;34m\u001b[0m\u001b[0m\n",
      "\u001b[0;32m/opt/cloudera/parcels/SPARK2/lib/spark2/python/pyspark/ml/wrapper.py\u001b[0m in \u001b[0;36m_fit_java\u001b[0;34m(self, dataset)\u001b[0m\n\u001b[1;32m    283\u001b[0m         \"\"\"\n\u001b[1;32m    284\u001b[0m         \u001b[0mself\u001b[0m\u001b[0;34m.\u001b[0m\u001b[0m_transfer_params_to_java\u001b[0m\u001b[0;34m(\u001b[0m\u001b[0;34m)\u001b[0m\u001b[0;34m\u001b[0m\u001b[0m\n\u001b[0;32m--> 285\u001b[0;31m         \u001b[0;32mreturn\u001b[0m \u001b[0mself\u001b[0m\u001b[0;34m.\u001b[0m\u001b[0m_java_obj\u001b[0m\u001b[0;34m.\u001b[0m\u001b[0mfit\u001b[0m\u001b[0;34m(\u001b[0m\u001b[0mdataset\u001b[0m\u001b[0;34m.\u001b[0m\u001b[0m_jdf\u001b[0m\u001b[0;34m)\u001b[0m\u001b[0;34m\u001b[0m\u001b[0m\n\u001b[0m\u001b[1;32m    286\u001b[0m \u001b[0;34m\u001b[0m\u001b[0m\n\u001b[1;32m    287\u001b[0m     \u001b[0;32mdef\u001b[0m \u001b[0m_fit\u001b[0m\u001b[0;34m(\u001b[0m\u001b[0mself\u001b[0m\u001b[0;34m,\u001b[0m \u001b[0mdataset\u001b[0m\u001b[0;34m)\u001b[0m\u001b[0;34m:\u001b[0m\u001b[0;34m\u001b[0m\u001b[0m\n",
      "\u001b[0;32m/opt/cloudera/parcels/Anaconda-2.5.0/lib/python2.7/site-packages/py4j/java_gateway.pyc\u001b[0m in \u001b[0;36m__call__\u001b[0;34m(self, *args)\u001b[0m\n\u001b[1;32m   1255\u001b[0m         \u001b[0manswer\u001b[0m \u001b[0;34m=\u001b[0m \u001b[0mself\u001b[0m\u001b[0;34m.\u001b[0m\u001b[0mgateway_client\u001b[0m\u001b[0;34m.\u001b[0m\u001b[0msend_command\u001b[0m\u001b[0;34m(\u001b[0m\u001b[0mcommand\u001b[0m\u001b[0;34m)\u001b[0m\u001b[0;34m\u001b[0m\u001b[0m\n\u001b[1;32m   1256\u001b[0m         return_value = get_return_value(\n\u001b[0;32m-> 1257\u001b[0;31m             answer, self.gateway_client, self.target_id, self.name)\n\u001b[0m\u001b[1;32m   1258\u001b[0m \u001b[0;34m\u001b[0m\u001b[0m\n\u001b[1;32m   1259\u001b[0m         \u001b[0;32mfor\u001b[0m \u001b[0mtemp_arg\u001b[0m \u001b[0;32min\u001b[0m \u001b[0mtemp_args\u001b[0m\u001b[0;34m:\u001b[0m\u001b[0;34m\u001b[0m\u001b[0m\n",
      "\u001b[0;32m/opt/cloudera/parcels/SPARK2/lib/spark2/python/pyspark/sql/utils.py\u001b[0m in \u001b[0;36mdeco\u001b[0;34m(*a, **kw)\u001b[0m\n\u001b[1;32m     61\u001b[0m     \u001b[0;32mdef\u001b[0m \u001b[0mdeco\u001b[0m\u001b[0;34m(\u001b[0m\u001b[0;34m*\u001b[0m\u001b[0ma\u001b[0m\u001b[0;34m,\u001b[0m \u001b[0;34m**\u001b[0m\u001b[0mkw\u001b[0m\u001b[0;34m)\u001b[0m\u001b[0;34m:\u001b[0m\u001b[0;34m\u001b[0m\u001b[0m\n\u001b[1;32m     62\u001b[0m         \u001b[0;32mtry\u001b[0m\u001b[0;34m:\u001b[0m\u001b[0;34m\u001b[0m\u001b[0m\n\u001b[0;32m---> 63\u001b[0;31m             \u001b[0;32mreturn\u001b[0m \u001b[0mf\u001b[0m\u001b[0;34m(\u001b[0m\u001b[0;34m*\u001b[0m\u001b[0ma\u001b[0m\u001b[0;34m,\u001b[0m \u001b[0;34m**\u001b[0m\u001b[0mkw\u001b[0m\u001b[0;34m)\u001b[0m\u001b[0;34m\u001b[0m\u001b[0m\n\u001b[0m\u001b[1;32m     64\u001b[0m         \u001b[0;32mexcept\u001b[0m \u001b[0mpy4j\u001b[0m\u001b[0;34m.\u001b[0m\u001b[0mprotocol\u001b[0m\u001b[0;34m.\u001b[0m\u001b[0mPy4JJavaError\u001b[0m \u001b[0;32mas\u001b[0m \u001b[0me\u001b[0m\u001b[0;34m:\u001b[0m\u001b[0;34m\u001b[0m\u001b[0m\n\u001b[1;32m     65\u001b[0m             \u001b[0ms\u001b[0m \u001b[0;34m=\u001b[0m \u001b[0me\u001b[0m\u001b[0;34m.\u001b[0m\u001b[0mjava_exception\u001b[0m\u001b[0;34m.\u001b[0m\u001b[0mtoString\u001b[0m\u001b[0;34m(\u001b[0m\u001b[0;34m)\u001b[0m\u001b[0;34m\u001b[0m\u001b[0m\n",
      "\u001b[0;32m/opt/cloudera/parcels/Anaconda-2.5.0/lib/python2.7/site-packages/py4j/protocol.pyc\u001b[0m in \u001b[0;36mget_return_value\u001b[0;34m(answer, gateway_client, target_id, name)\u001b[0m\n\u001b[1;32m    326\u001b[0m                 raise Py4JJavaError(\n\u001b[1;32m    327\u001b[0m                     \u001b[0;34m\"An error occurred while calling {0}{1}{2}.\\n\"\u001b[0m\u001b[0;34m.\u001b[0m\u001b[0;34m\u001b[0m\u001b[0m\n\u001b[0;32m--> 328\u001b[0;31m                     format(target_id, \".\", name), value)\n\u001b[0m\u001b[1;32m    329\u001b[0m             \u001b[0;32melse\u001b[0m\u001b[0;34m:\u001b[0m\u001b[0;34m\u001b[0m\u001b[0m\n\u001b[1;32m    330\u001b[0m                 raise Py4JError(\n",
      "\u001b[0;31mPy4JJavaError\u001b[0m: An error occurred while calling o31774.fit.\n: org.apache.spark.SparkException: Job aborted due to stage failure: Task 8 in stage 29790.0 failed 4 times, most recent failure: Lost task 8.3 in stage 29790.0 (TID 4396812, vgddp426hr.dc.sedc.internal.vodafone.com, executor 361): java.io.FileNotFoundException: File does not exist: hdfs://nameservice1/data/udf/vf_es/churn/fbb_tmp/numclidf_tmp_20181130/part-00175-96c44731-02fb-4b41-bb45-ac2d0396c457-c000.snappy.parquet\nIt is possible the underlying files have been updated. You can explicitly invalidate the cache in Spark by running 'REFRESH TABLE tableName' command in SQL or by recreating the Dataset/DataFrame involved.\n\tat org.apache.spark.sql.execution.datasources.FileScanRDD$$anon$1.org$apache$spark$sql$execution$datasources$FileScanRDD$$anon$$readCurrentFile(FileScanRDD.scala:131)\n\tat org.apache.spark.sql.execution.datasources.FileScanRDD$$anon$1.nextIterator(FileScanRDD.scala:182)\n\tat org.apache.spark.sql.execution.datasources.FileScanRDD$$anon$1.hasNext(FileScanRDD.scala:109)\n\tat scala.collection.Iterator$$anon$11.hasNext(Iterator.scala:408)\n\tat scala.collection.Iterator$$anon$11.hasNext(Iterator.scala:408)\n\tat scala.collection.Iterator$$anon$11.hasNext(Iterator.scala:408)\n\tat org.apache.spark.shuffle.sort.BypassMergeSortShuffleWriter.write(BypassMergeSortShuffleWriter.java:125)\n\tat org.apache.spark.scheduler.ShuffleMapTask.runTask(ShuffleMapTask.scala:96)\n\tat org.apache.spark.scheduler.ShuffleMapTask.runTask(ShuffleMapTask.scala:53)\n\tat org.apache.spark.scheduler.Task.run(Task.scala:109)\n\tat org.apache.spark.executor.Executor$TaskRunner.run(Executor.scala:381)\n\tat java.util.concurrent.ThreadPoolExecutor.runWorker(ThreadPoolExecutor.java:1149)\n\tat java.util.concurrent.ThreadPoolExecutor$Worker.run(ThreadPoolExecutor.java:624)\n\tat java.lang.Thread.run(Thread.java:748)\n\nDriver stacktrace:\n\tat org.apache.spark.scheduler.DAGScheduler.org$apache$spark$scheduler$DAGScheduler$$failJobAndIndependentStages(DAGScheduler.scala:1651)\n\tat org.apache.spark.scheduler.DAGScheduler$$anonfun$abortStage$1.apply(DAGScheduler.scala:1639)\n\tat org.apache.spark.scheduler.DAGScheduler$$anonfun$abortStage$1.apply(DAGScheduler.scala:1638)\n\tat scala.collection.mutable.ResizableArray$class.foreach(ResizableArray.scala:59)\n\tat scala.collection.mutable.ArrayBuffer.foreach(ArrayBuffer.scala:48)\n\tat org.apache.spark.scheduler.DAGScheduler.abortStage(DAGScheduler.scala:1638)\n\tat org.apache.spark.scheduler.DAGScheduler$$anonfun$handleTaskSetFailed$1.apply(DAGScheduler.scala:831)\n\tat org.apache.spark.scheduler.DAGScheduler$$anonfun$handleTaskSetFailed$1.apply(DAGScheduler.scala:831)\n\tat scala.Option.foreach(Option.scala:257)\n\tat org.apache.spark.scheduler.DAGScheduler.handleTaskSetFailed(DAGScheduler.scala:831)\n\tat org.apache.spark.scheduler.DAGSchedulerEventProcessLoop.doOnReceive(DAGScheduler.scala:1872)\n\tat org.apache.spark.scheduler.DAGSchedulerEventProcessLoop.onReceive(DAGScheduler.scala:1821)\n\tat org.apache.spark.scheduler.DAGSchedulerEventProcessLoop.onReceive(DAGScheduler.scala:1810)\n\tat org.apache.spark.util.EventLoop$$anon$1.run(EventLoop.scala:48)\n\tat org.apache.spark.scheduler.DAGScheduler.runJob(DAGScheduler.scala:642)\n\tat org.apache.spark.SparkContext.runJob(SparkContext.scala:2034)\n\tat org.apache.spark.SparkContext.runJob(SparkContext.scala:2055)\n\tat org.apache.spark.SparkContext.runJob(SparkContext.scala:2074)\n\tat org.apache.spark.sql.execution.SparkPlan.executeTake(SparkPlan.scala:363)\n\tat org.apache.spark.sql.execution.CollectLimitExec.executeCollect(limit.scala:38)\n\tat org.apache.spark.sql.Dataset.org$apache$spark$sql$Dataset$$collectFromPlan(Dataset.scala:3278)\n\tat org.apache.spark.sql.Dataset$$anonfun$head$1.apply(Dataset.scala:2489)\n\tat org.apache.spark.sql.Dataset$$anonfun$head$1.apply(Dataset.scala:2489)\n\tat org.apache.spark.sql.Dataset$$anonfun$52.apply(Dataset.scala:3259)\n\tat org.apache.spark.sql.execution.SQLExecution$.withNewExecutionId(SQLExecution.scala:77)\n\tat org.apache.spark.sql.Dataset.withAction(Dataset.scala:3258)\n\tat org.apache.spark.sql.Dataset.head(Dataset.scala:2489)\n\tat org.apache.spark.sql.Dataset.take(Dataset.scala:2703)\n\tat org.apache.spark.ml.classification.Classifier.getNumClasses(Classifier.scala:111)\n\tat org.apache.spark.ml.classification.RandomForestClassifier.train(RandomForestClassifier.scala:121)\n\tat org.apache.spark.ml.classification.RandomForestClassifier.train(RandomForestClassifier.scala:45)\n\tat org.apache.spark.ml.Predictor.fit(Predictor.scala:118)\n\tat sun.reflect.NativeMethodAccessorImpl.invoke0(Native Method)\n\tat sun.reflect.NativeMethodAccessorImpl.invoke(NativeMethodAccessorImpl.java:62)\n\tat sun.reflect.DelegatingMethodAccessorImpl.invoke(DelegatingMethodAccessorImpl.java:43)\n\tat java.lang.reflect.Method.invoke(Method.java:498)\n\tat py4j.reflection.MethodInvoker.invoke(MethodInvoker.java:244)\n\tat py4j.reflection.ReflectionEngine.invoke(ReflectionEngine.java:357)\n\tat py4j.Gateway.invoke(Gateway.java:282)\n\tat py4j.commands.AbstractCommand.invokeMethod(AbstractCommand.java:132)\n\tat py4j.commands.CallCommand.execute(CallCommand.java:79)\n\tat py4j.GatewayConnection.run(GatewayConnection.java:238)\n\tat java.lang.Thread.run(Thread.java:748)\nCaused by: java.io.FileNotFoundException: File does not exist: hdfs://nameservice1/data/udf/vf_es/churn/fbb_tmp/numclidf_tmp_20181130/part-00175-96c44731-02fb-4b41-bb45-ac2d0396c457-c000.snappy.parquet\nIt is possible the underlying files have been updated. You can explicitly invalidate the cache in Spark by running 'REFRESH TABLE tableName' command in SQL or by recreating the Dataset/DataFrame involved.\n\tat org.apache.spark.sql.execution.datasources.FileScanRDD$$anon$1.org$apache$spark$sql$execution$datasources$FileScanRDD$$anon$$readCurrentFile(FileScanRDD.scala:131)\n\tat org.apache.spark.sql.execution.datasources.FileScanRDD$$anon$1.nextIterator(FileScanRDD.scala:182)\n\tat org.apache.spark.sql.execution.datasources.FileScanRDD$$anon$1.hasNext(FileScanRDD.scala:109)\n\tat scala.collection.Iterator$$anon$11.hasNext(Iterator.scala:408)\n\tat scala.collection.Iterator$$anon$11.hasNext(Iterator.scala:408)\n\tat scala.collection.Iterator$$anon$11.hasNext(Iterator.scala:408)\n\tat org.apache.spark.shuffle.sort.BypassMergeSortShuffleWriter.write(BypassMergeSortShuffleWriter.java:125)\n\tat org.apache.spark.scheduler.ShuffleMapTask.runTask(ShuffleMapTask.scala:96)\n\tat org.apache.spark.scheduler.ShuffleMapTask.runTask(ShuffleMapTask.scala:53)\n\tat org.apache.spark.scheduler.Task.run(Task.scala:109)\n\tat org.apache.spark.executor.Executor$TaskRunner.run(Executor.scala:381)\n\tat java.util.concurrent.ThreadPoolExecutor.runWorker(ThreadPoolExecutor.java:1149)\n\tat java.util.concurrent.ThreadPoolExecutor$Worker.run(ThreadPoolExecutor.java:624)\n\t... 1 more\n"
     ]
    }
   ],
   "source": [
    "model_final = pipeline.fit(df_aux_tr)"
   ]
  },
  {
   "cell_type": "code",
   "execution_count": null,
   "metadata": {},
   "outputs": [],
   "source": [
    ".transform(tr).withColumn(\"model_score\", getScore(col(\"probability\")).cast(DoubleType()))"
   ]
  }
 ],
 "metadata": {
  "kernelspec": {
   "display_name": "Python 2",
   "language": "python",
   "name": "python2"
  },
  "language_info": {
   "codemirror_mode": {
    "name": "ipython",
    "version": 2
   },
   "file_extension": ".py",
   "mimetype": "text/x-python",
   "name": "python",
   "nbconvert_exporter": "python",
   "pygments_lexer": "ipython2",
   "version": "2.7.11"
  }
 },
 "nbformat": 4,
 "nbformat_minor": 2
}
