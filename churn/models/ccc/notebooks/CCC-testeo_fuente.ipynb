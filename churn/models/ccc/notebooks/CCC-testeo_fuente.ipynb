{
 "cells": [
  {
   "cell_type": "code",
   "execution_count": 1,
   "metadata": {
    "collapsed": false
   },
   "outputs": [
    {
     "ename": "NameError",
     "evalue": "name 'spark' is not defined",
     "output_type": "error",
     "traceback": [
      "\u001b[0;31m---------------------------------------------------------------------------\u001b[0m",
      "\u001b[0;31mNameError\u001b[0m                                 Traceback (most recent call last)",
      "\u001b[0;32m<ipython-input-1-0c0301af3e30>\u001b[0m in \u001b[0;36m<module>\u001b[0;34m()\u001b[0m\n\u001b[0;32m----> 1\u001b[0;31m \u001b[0mspark\u001b[0m\u001b[0;34m.\u001b[0m\u001b[0mstop\u001b[0m\u001b[0;34m(\u001b[0m\u001b[0;34m)\u001b[0m\u001b[0;34m\u001b[0m\u001b[0m\n\u001b[0m",
      "\u001b[0;31mNameError\u001b[0m: name 'spark' is not defined"
     ]
    }
   ],
   "source": [
    "spark.stop()"
   ]
  },
  {
   "cell_type": "code",
   "execution_count": 2,
   "metadata": {
    "collapsed": false
   },
   "outputs": [
    {
     "name": "stderr",
     "output_type": "stream",
     "text": [
      "20181127-174211 [INFO ] Logging to file /var/SP/data/home/csanc109/logging/out_20181127_174211.log\n"
     ]
    },
    {
     "name": "stdout",
     "output_type": "stream",
     "text": [
      "_initialize spark\n",
      "Ended spark session: 41.0953130722 secs | default parallelism=2\n"
     ]
    }
   ],
   "source": [
    "import os, sys\n",
    "import datetime as dt\n",
    "DEVEL_SRC = os.path.join(os.environ.get('BDA_USER_HOME', ''), \"src\", \"devel\")\n",
    "if DEVEL_SRC not in sys.path:\n",
    "    sys.path.append(DEVEL_SRC)\n",
    "\n",
    "USECASES_SRC = os.path.join(DEVEL_SRC, \"use-cases\") # TODO when - is removed, remove also this line and adapt imports\n",
    "if USECASES_SRC not in sys.path: \n",
    "    sys.path.append(USECASES_SRC)\n",
    "    \n",
    "if AMDOCS_SRC not in sys.path: \n",
    "    sys.path.append(AMDOCS_SRC)\n",
    "    \n",
    "import pykhaos.utils.custom_logger as clogger\n",
    "logging_file = os.path.join(os.environ.get('BDA_USER_HOME', ''), \"logging\",\n",
    "                                    \"out_\" + dt.datetime.now().strftime(\"%Y%m%d_%H%M%S\") + \".log\")\n",
    "logger = clogger.configure_logger(log_filename=logging_file, std_channel=sys.stderr, logger_name=\"\")\n",
    "logger.info(\"Logging to file {}\".format(logging_file))    \n",
    "    \n",
    "    \n",
    "from project.project_generic import Project\n",
    "\n",
    "\n",
    "import pykhaos.utils.notebooks as nb\n",
    "\n",
    "project_obj = Project(\"CCC test fuente\", \"CCC test fuente\")   \n",
    "\n",
    "RUNNING_FROM_NOTEBOOK = nb.isnotebook()\n",
    "import matplotlib.pyplot as plt\n",
    "if RUNNING_FROM_NOTEBOOK:\n",
    "    %load_ext autoreload\n",
    "    %autoreload 2\n",
    "    %matplotlib inline  \n",
    "    \n",
    "#logger = my_project.logger\n",
    "\n",
    "if not RUNNING_FROM_NOTEBOOK:\n",
    "    args = my_project.arg_parser()"
   ]
  },
  {
   "cell_type": "code",
   "execution_count": 3,
   "metadata": {
    "collapsed": false
   },
   "outputs": [
    {
     "data": {
      "text/html": [
       "<style>.container { width:100% !important; }</style>"
      ],
      "text/plain": [
       "<IPython.core.display.HTML object>"
      ]
     },
     "metadata": {},
     "output_type": "display_data"
    }
   ],
   "source": [
    "spark=project_obj.spark\n",
    "\n",
    "from IPython.core.display import display, HTML\n",
    "display(HTML(\"<style>.container { width:100% !important; }</style>\"))"
   ]
  },
  {
   "cell_type": "code",
   "execution_count": 4,
   "metadata": {
    "collapsed": true
   },
   "outputs": [],
   "source": [
    "from amdocs_informational_dataset.engine.call_centre_calls import CallCentreCalls\n",
    "from pyspark.sql.functions import collect_set, concat, size, coalesce, col, lpad, struct, count as sql_count, lit, min as sql_min, max as sql_max, asc, collect_list, udf, when, countDistinct\n",
    "from pyspark.sql.types import StringType, ArrayType, MapType, StructType, StructField, IntegerType\n",
    "from pyspark.sql.functions import array, regexp_extract"
   ]
  },
  {
   "cell_type": "code",
   "execution_count": 23,
   "metadata": {
    "collapsed": false
   },
   "outputs": [
    {
     "name": "stdout",
     "output_type": "stream",
     "text": [
      "The autoreload extension is already loaded. To reload it, use:\n",
      "  %reload_ext autoreload\n"
     ]
    }
   ],
   "source": [
    "%load_ext autoreload\n",
    "%autoreload 2\n",
    "%matplotlib inline \n",
    "from churn.datapreparation.data_loader import get_port_requests_table\n",
    "from churn.datapreparation.config import Config\n",
    "\n",
    "DEBUG=True\n",
    "\n",
    "ccc_start_model = \"20180801\"\n",
    "ccc_end_model = \"20181031\"\n"
   ]
  },
  {
   "cell_type": "code",
   "execution_count": 24,
   "metadata": {
    "collapsed": false
   },
   "outputs": [],
   "source": [
    "   \n",
    "from amdocs_informational_dataset.engine.call_centre_calls import CallCentreCalls\n",
    "ccc= CallCentreCalls(spark)\n",
    "ccc.prepareFeatures(ccc_end_model,ccc_start_model)\n",
    "df_all = ccc.all_interactions\n",
    "\n"
   ]
  },
  {
   "cell_type": "code",
   "execution_count": 27,
   "metadata": {
    "collapsed": false
   },
   "outputs": [
    {
     "name": "stdout",
     "output_type": "stream",
     "text": [
      "+--------+-----------+---------+\n",
      "|date    |dist_msisdn|num_calls|\n",
      "+--------+-----------+---------+\n",
      "|20180801|223900     |559082   |\n",
      "|20180802|195926     |496493   |\n",
      "|20180803|190055     |464577   |\n",
      "|20180804|75881      |199055   |\n",
      "|20180805|48550      |122822   |\n",
      "|20180806|206271     |522784   |\n",
      "|20180807|197177     |498793   |\n",
      "|20180808|214915     |511697   |\n",
      "|20180809|201275     |496768   |\n",
      "|20180810|193682     |462958   |\n",
      "|20180811|76115      |191353   |\n",
      "|20180812|48392      |118500   |\n",
      "|20180813|215937     |529494   |\n",
      "|20180814|204985     |516982   |\n",
      "|20180815|103735     |246091   |\n",
      "|20180816|209125     |517926   |\n",
      "|20180817|206237     |498177   |\n",
      "|20180818|93353      |233773   |\n",
      "|20180819|57656      |133582   |\n",
      "|20180820|229438     |565740   |\n",
      "|20180821|58757      |121761   |\n",
      "|20180822|217725     |524974   |\n",
      "|20180823|199433     |474310   |\n",
      "|20180824|199726     |469601   |\n",
      "|20180825|87363      |214536   |\n",
      "|20180826|54997      |145434   |\n",
      "|20180827|245259     |584457   |\n",
      "|20180828|210062     |505673   |\n",
      "|20180829|234566     |560073   |\n",
      "|20180830|204165     |496445   |\n",
      "|20180831|211959     |510600   |\n",
      "|20180901|92380      |220000   |\n",
      "|20180902|60392      |135415   |\n",
      "|20180903|250777     |594042   |\n",
      "|20180904|223355     |549359   |\n",
      "|20180905|220259     |536740   |\n",
      "|20180906|211924     |498212   |\n",
      "|20180907|202925     |475791   |\n",
      "|20180908|83132      |191010   |\n",
      "|20180909|60585      |131958   |\n",
      "|20180910|251108     |585185   |\n",
      "|20180911|220703     |534413   |\n",
      "|20180912|224753     |537654   |\n",
      "|20180913|224262     |533121   |\n",
      "|20180914|224660     |530726   |\n",
      "|20180915|97629      |240103   |\n",
      "|20180916|58596      |125989   |\n",
      "|20180917|236701     |577238   |\n",
      "|20180918|235082     |595239   |\n",
      "|20180919|241797     |598598   |\n",
      "|20180920|240081     |577672   |\n",
      "|20180921|231059     |544795   |\n",
      "|20180922|93787      |228838   |\n",
      "|20180923|62642      |136262   |\n",
      "|20180924|252230     |599938   |\n",
      "|20180925|243744     |601663   |\n",
      "|20180926|248820     |612828   |\n",
      "|20180927|233958     |564238   |\n",
      "|20180928|225724     |545823   |\n",
      "|20180929|70206      |181691   |\n",
      "|20180930|57288      |131751   |\n",
      "|20181001|252553     |617181   |\n",
      "|20181002|237293     |575461   |\n",
      "|20181003|226863     |551040   |\n",
      "|20181004|210257     |511363   |\n",
      "|20181005|202251     |487149   |\n",
      "|20181006|71356      |176962   |\n",
      "|20181007|44638      |105766   |\n",
      "|20181008|188647     |422178   |\n",
      "|20181009|222314     |535494   |\n",
      "|20181010|70805      |152365   |\n",
      "|20181011|218760     |518941   |\n",
      "|20181012|86094      |183681   |\n",
      "|20181013|76082      |184777   |\n",
      "|20181014|54811      |124301   |\n",
      "|20181015|221920     |555789   |\n",
      "|20181016|225053     |560812   |\n",
      "|20181017|220705     |544495   |\n",
      "|20181018|208718     |499947   |\n",
      "|20181019|213220     |512445   |\n",
      "|20181020|87929      |214267   |\n",
      "|20181021|58011      |130331   |\n",
      "|20181022|230217     |559365   |\n",
      "|20181023|211598     |524448   |\n",
      "|20181024|213556     |522170   |\n",
      "|20181025|194452     |506788   |\n",
      "|20181026|215661     |541568   |\n",
      "|20181027|71950      |195926   |\n",
      "|20181028|67133      |170696   |\n",
      "|20181029|220648     |571373   |\n",
      "|20181030|212336     |557809   |\n",
      "|20181031|197113     |524332   |\n",
      "+--------+-----------+---------+\n",
      "\n"
     ]
    }
   ],
   "source": [
    "\n",
    "df_all = df_all.withColumn(\"date\", concat(\"partitioned_month\", lpad(col('day'),2, '0')))\n",
    "df_agg = df_all.groupBy(\"date\").agg(countDistinct(\"msisdn\").alias(\"dist_msisdn\"),sql_count(\"*\").alias(\"num_calls\")).sort(asc(\"date\")).show(150, False)"
   ]
  }
 ],
 "metadata": {
  "kernelspec": {
   "display_name": "Python 2",
   "language": "python",
   "name": "python2"
  },
  "language_info": {
   "codemirror_mode": {
    "name": "ipython",
    "version": 2
   },
   "file_extension": ".py",
   "mimetype": "text/x-python",
   "name": "python",
   "nbconvert_exporter": "python",
   "pygments_lexer": "ipython2",
   "version": "2.7.11"
  }
 },
 "nbformat": 4,
 "nbformat_minor": 2
}
