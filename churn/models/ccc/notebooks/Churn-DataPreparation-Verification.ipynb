{
 "cells": [
  {
   "cell_type": "code",
   "execution_count": 1,
   "metadata": {
    "collapsed": false
   },
   "outputs": [
    {
     "name": "stdout",
     "output_type": "stream",
     "text": [
      "Ended spark session: 2909.75469017 secs | default parallelism=2\n"
     ]
    }
   ],
   "source": [
    "#spark.stop()\n",
    "import sys, os\n",
    "DEVEL_SRC = os.path.join(os.environ.get('BDA_USER_HOME', ''), \"src\", \"devel\")\n",
    "if DEVEL_SRC not in sys.path:\n",
    "    sys.path.append(DEVEL_SRC)\n",
    "import pykhaos.utils.pyspark_configuration as pyspark_config\n",
    "import time\n",
    "start_time = time.time()\n",
    "sc, spark, sql_context = pyspark_config.get_spark_session(app_name=\"Amdocs Car Test Merge\", log_level=\"OFF\")\n",
    "print(\"Ended spark session: {} secs | default parallelism={}\".format(time.time()-start_time, sc.defaultParallelism))    \n",
    "    \n",
    "%load_ext autoreload\n",
    "%autoreload 2\n",
    "%matplotlib inline     "
   ]
  },
  {
   "cell_type": "code",
   "execution_count": 2,
   "metadata": {
    "collapsed": false
   },
   "outputs": [
    {
     "data": {
      "text/html": [
       "<style>.container { width:100% !important; }</style>"
      ],
      "text/plain": [
       "<IPython.core.display.HTML object>"
      ]
     },
     "metadata": {},
     "output_type": "display_data"
    },
    {
     "name": "stdout",
     "output_type": "stream",
     "text": [
      "The autoreload extension is already loaded. To reload it, use:\n",
      "  %reload_ext autoreload\n",
      "/var/SP/data/home/csanc109/src/devel/use-cases/churn/notebooks\n"
     ]
    },
    {
     "ename": "ImportError",
     "evalue": "cannot import name add_l2_num_client_columns",
     "output_type": "error",
     "traceback": [
      "\u001b[0;31m---------------------------------------------------------------------------\u001b[0m",
      "\u001b[0;31mImportError\u001b[0m                               Traceback (most recent call last)",
      "\u001b[0;32m<ipython-input-2-c67469fd1fbb>\u001b[0m in \u001b[0;36m<module>\u001b[0;34m()\u001b[0m\n\u001b[1;32m     75\u001b[0m \u001b[0;32mfrom\u001b[0m \u001b[0mengine\u001b[0m\u001b[0;34m.\u001b[0m\u001b[0mgeneva_traffic\u001b[0m \u001b[0;32mimport\u001b[0m \u001b[0mget_data_usage_geneva_df\u001b[0m\u001b[0;34m,\u001b[0m \u001b[0mget_voice_usage_geneva_df\u001b[0m\u001b[0;34m,\u001b[0m      \u001b[0madd_l2_geneva_voice_variables\u001b[0m\u001b[0;34m,\u001b[0m \u001b[0madd_l2_geneva_data_variables\u001b[0m\u001b[0;34m,\u001b[0m      \u001b[0mget_roaming_data_usage_geneva_df\u001b[0m\u001b[0;34m,\u001b[0m \u001b[0mget_roaming_voice_usage_geneva_df\u001b[0m\u001b[0;34m\u001b[0m\u001b[0m\n\u001b[1;32m     76\u001b[0m \u001b[0;31m#from engine.orders import get_orders_customer_level, get_orders_customer_level_agg\u001b[0m\u001b[0;34m\u001b[0m\u001b[0;34m\u001b[0m\u001b[0m\n\u001b[0;32m---> 77\u001b[0;31m \u001b[0;32mfrom\u001b[0m \u001b[0mengine\u001b[0m\u001b[0;34m.\u001b[0m\u001b[0mservices\u001b[0m \u001b[0;32mimport\u001b[0m \u001b[0mget_services_df\u001b[0m\u001b[0;34m,\u001b[0m \u001b[0madd_l2_services_variables\u001b[0m\u001b[0;34m,\u001b[0m \u001b[0madd_l2_num_client_columns\u001b[0m\u001b[0;34m\u001b[0m\u001b[0m\n\u001b[0m\u001b[1;32m     78\u001b[0m \u001b[0;31m# from engine.tnps import Tnps\u001b[0m\u001b[0;34m\u001b[0m\u001b[0;34m\u001b[0m\u001b[0m\n\u001b[1;32m     79\u001b[0m \u001b[0;31m# from engine.netscout import *\u001b[0m\u001b[0;34m\u001b[0m\u001b[0;34m\u001b[0m\u001b[0m\n",
      "\u001b[0;31mImportError\u001b[0m: cannot import name add_l2_num_client_columns"
     ]
    }
   ],
   "source": [
    "from IPython.core.display import display, HTML\n",
    "display(HTML(\"<style>.container { width:100% !important; }</style>\"))\n",
    "\n",
    "%load_ext autoreload\n",
    "%autoreload 2\n",
    "%matplotlib inline     \n",
    "\n",
    "from common.src.main.python.utils.hdfs_generic import *\n",
    "import argparse\n",
    "import sys\n",
    "from pyspark.sql.functions import  (sum as sql_sum, countDistinct, trim\n",
    "                                    ,max , split,desc, col, current_date\n",
    "                                    , datediff, lit, translate, udf\n",
    "                                    , when, concat_ws, concat, decode, length\n",
    "                                    , substring, to_date, regexp_replace, lpad\n",
    "                                    , hour, date_format, count as sql_count\n",
    "                                    , expr, coalesce, udf)\n",
    "\n",
    "import sys\n",
    "DEVEL_SRC = os.path.join(os.environ.get('BDA_USER_HOME', ''), \"src\", \"devel\")\n",
    "if DEVEL_SRC not in sys.path:\n",
    "    sys.path.append(DEVEL_SRC)\n",
    "    \n",
    "import sys\n",
    "AMDOCS_SRC = os.path.join(DEVEL_SRC, \"amdocs_informational_dataset\")\n",
    "if AMDOCS_SRC not in sys.path:\n",
    "    sys.path.append(AMDOCS_SRC)\n",
    "    \n",
    "from common.src.main.python.utils.hdfs_generic import *\n",
    "import argparse\n",
    "import sys\n",
    "import time\n",
    "import os\n",
    "import argparse\n",
    "import datetime\n",
    "\n"
   ]
  },
  {
   "cell_type": "code",
   "execution_count": null,
   "metadata": {
    "collapsed": false
   },
   "outputs": [],
   "source": [
    "StartingDay=\"20180801\"\n",
    "ClosingDay=\"20180831\"\n",
    "\n",
    "ts = time.time()\n",
    "st = datetime.datetime.fromtimestamp(ts).strftime('%Y-%m-%d %H:%M:%S')\n",
    "\n",
    "ClosingDay_date = datetime.date(int(ClosingDay[:4]), int(ClosingDay[4:6]), int(ClosingDay[6:8]))\n",
    "StartingDay_date = datetime.date(int(StartingDay[:4]), int(StartingDay[4:6]), int(StartingDay[6:8]))\n",
    "hdfs_partition_path = 'year=' + str(int(ClosingDay[:4])) + '/month=' + str(int(ClosingDay[4:6])) + '/day=' + str(int(ClosingDay[6:8]))\n"
   ]
  },
  {
   "cell_type": "markdown",
   "metadata": {},
   "source": [
    "# EVALUATION"
   ]
  },
  {
   "cell_type": "code",
   "execution_count": null,
   "metadata": {
    "collapsed": false
   },
   "outputs": [],
   "source": [
    "df=spark.read.load(\"/user/csanc109/projects/churn/port/mobileandfbb/df_port_mobileandfbb_service_20180614_c8_d4\")"
   ]
  },
  {
   "cell_type": "code",
   "execution_count": null,
   "metadata": {
    "collapsed": false
   },
   "outputs": [],
   "source": [
    "df.select(\"desc_tariff\").distinct().show()"
   ]
  },
  {
   "cell_type": "code",
   "execution_count": 10,
   "metadata": {
    "collapsed": false
   },
   "outputs": [
    {
     "data": {
      "text/plain": [
       "19470.0"
      ]
     },
     "execution_count": 10,
     "metadata": {},
     "output_type": "execute_result"
    }
   ],
   "source": [
    "df.select(\"label\").rdd.map(lambda x: (1, x[0])).reduceByKey(lambda x, y: x + y).collect()[0][1]"
   ]
  },
  {
   "cell_type": "code",
   "execution_count": null,
   "metadata": {
    "collapsed": true
   },
   "outputs": [],
   "source": []
  }
 ],
 "metadata": {
  "kernelspec": {
   "display_name": "Python 2",
   "language": "python",
   "name": "python2"
  },
  "language_info": {
   "codemirror_mode": {
    "name": "ipython",
    "version": 2
   },
   "file_extension": ".py",
   "mimetype": "text/x-python",
   "name": "python",
   "nbconvert_exporter": "python",
   "pygments_lexer": "ipython2",
   "version": "2.7.11"
  }
 },
 "nbformat": 4,
 "nbformat_minor": 2
}
