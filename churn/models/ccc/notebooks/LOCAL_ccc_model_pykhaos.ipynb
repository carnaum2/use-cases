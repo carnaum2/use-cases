{
 "cells": [
  {
   "cell_type": "code",
   "execution_count": null,
   "metadata": {
    "collapsed": true
   },
   "outputs": [],
   "source": []
  },
  {
   "cell_type": "code",
   "execution_count": 1,
   "metadata": {
    "collapsed": false
   },
   "outputs": [
    {
     "name": "stderr",
     "output_type": "stream",
     "text": [
      "20181223-111851 [INFO ] Logging to file /Users/csanc109/devel/logging/out_20181223_111851.log\n"
     ]
    },
    {
     "data": {
      "application/javascript": [
       "if (!(\"Notification\" in window)) {\n",
       "    alert(\"This browser does not support desktop notifications, so the %%notify magic will not work.\");\n",
       "} else if (Notification.permission !== 'granted' && Notification.permission !== 'denied') {\n",
       "    Notification.requestPermission(function (permission) {\n",
       "        if(!('permission' in Notification)) {\n",
       "            Notification.permission = permission;\n",
       "        }\n",
       "    })\n",
       "}\n"
      ],
      "text/plain": [
       "<IPython.core.display.Javascript object>"
      ]
     },
     "metadata": {},
     "output_type": "display_data"
    },
    {
     "data": {
      "text/html": [
       "<style>.container { width:100% !important; }</style>"
      ],
      "text/plain": [
       "<IPython.core.display.HTML object>"
      ]
     },
     "metadata": {},
     "output_type": "display_data"
    }
   ],
   "source": [
    "import os, sys\n",
    "os.environ['BDA_USER_HOME'] = \"/Users/csanc109/\"\n",
    "\n",
    "\n",
    "PYTHON = \"/Users/csanc109/anaconda/lib/python2.7/site-packages\"\n",
    "if PYTHON not in sys.path:\n",
    "    sys.path.append(PYTHON)\n",
    "\n",
    "import datetime as dt\n",
    "DEVEL_SRC = os.path.join(os.environ.get('BDA_USER_HOME', ''), \"devel\")\n",
    "if DEVEL_SRC not in sys.path:\n",
    "    sys.path.append(DEVEL_SRC)\n",
    "\n",
    "USECASES_SRC = os.path.join(DEVEL_SRC, \"use-cases\") # TODO when - is removed, remove also this line and adapt imports\n",
    "if USECASES_SRC not in sys.path: \n",
    "    sys.path.append(USECASES_SRC)\n",
    "    \n",
    "AMDOCS_SRC = os.path.join(DEVEL_SRC, \"amdocs_informational_dataset\") # TODO when - is removed, remove also this line and adapt imports\n",
    "if AMDOCS_SRC not in sys.path: \n",
    "    sys.path.append(AMDOCS_SRC)\n",
    "    \n",
    "import pykhaos.utils.custom_logger as clogger\n",
    "logging_file = os.path.join(os.environ.get('BDA_USER_HOME', ''), \"devel\", \"logging\",\n",
    "                                    \"out_\" + dt.datetime.now().strftime(\"%Y%m%d_%H%M%S\") + \".log\")\n",
    "logger = clogger.configure_logger(log_filename=logging_file, std_channel=sys.stderr, logger_name=\"\")\n",
    "logger.info(\"Logging to file {}\".format(logging_file))    \n",
    "    \n",
    "    \n",
    "from project.project_generic import Project\n",
    "import pykhaos.utils.notebooks as nb\n",
    "#project_obj = Project(\"CCC_model_nb\", \"CCC_model_pykhaos_nb\")   \n",
    "import time\n",
    "start_time = time.time()\n",
    "app_name = \"CCC_model_nb\"\n",
    "\n",
    "# import pykhaos.utils.pyspark_configuration as pyspark_config\n",
    "# sc, spark, sql_context = pyspark_config.get_spark_session(app_name=app_name, log_level=\"OFF\", min_n_executors = 1, max_n_executors = 10, n_cores = 4,\n",
    "#                          executor_memory = \"16g\", driver_memory=\"16g\")\n",
    "# print(\"Ended spark session: {} secs | default parallelism={}\".format(time.time() - start_time,\n",
    "#                                                                      sc.defaultParallelism))\n",
    "\n",
    "from pyspark.sql import SparkSession\n",
    "\n",
    "RUNNING_FROM_NOTEBOOK = nb.isnotebook()\n",
    "import matplotlib.pyplot as plt\n",
    "if RUNNING_FROM_NOTEBOOK:\n",
    "    %load_ext autoreload\n",
    "    %autoreload 2\n",
    "    %matplotlib inline  \n",
    "    EXTERNAL_LIB = os.path.join(os.environ.get('BDA_USER_HOME', ''), \"lib\", \"external_libs\")\n",
    "    if EXTERNAL_LIB not in sys.path:\n",
    "        sys.path.append(EXTERNAL_LIB)\n",
    "    %load_ext jupyternotify\n",
    "    \n",
    "from IPython.core.display import display, HTML\n",
    "display(HTML(\"<style>.container { width:100% !important; }</style>\"))"
   ]
  },
  {
   "cell_type": "code",
   "execution_count": 2,
   "metadata": {
    "collapsed": true
   },
   "outputs": [],
   "source": [
    "#sys.path.append(os.path.join(os.environ.get('BDA_USER_HOME', ''), \"src\", \"devel\", \"pykhaos\", \"external_lib\"))\n",
    "os.environ[\"http_proxy\"] = \"\""
   ]
  },
  {
   "cell_type": "code",
   "execution_count": 3,
   "metadata": {
    "collapsed": true
   },
   "outputs": [],
   "source": [
    "import pykhaos.utils.notebooks as nb\n",
    "\n",
    "\n",
    "# In[2]:\n",
    "\n",
    "import json\n",
    "RUNNING_FROM_NOTEBOOK = nb.isnotebook()\n",
    "\n",
    "CCC_TRAIN_TEST_YAML = os.path.join(USECASES_SRC, \"churn\", \"models\", \"ccc\", \"input\", \"ccc_train_test.yaml\")\n",
    "\n",
    "import yaml\n",
    "input_data = yaml.load(open(CCC_TRAIN_TEST_YAML))\n",
    "\n",
    "UNIVARIATE_ANALYSIS = 'univariate'\n",
    "TRAIN_MODEL = 'train'\n",
    "SCORE_NEW_DATA = 'score'\n",
    "MAJOR_VERSION = '0'\n",
    "MINOR_VERSION = '003'\n",
    "phase =  TRAIN_MODEL #  UNIVARIATE_ANALYSIS # this parameters must be read as a program argument.\n",
    "phase = phase.lower()     \n",
    "\n",
    "# from pykhaos.modeling.model_info import ModelInfo\n",
    "# from pykhaos.reporting.reporter import Reporter\n",
    "# from pykhaos.reporting.type.univariate import Univariate\n",
    "# from pykhaos.reporting.writter.pdf_writter import PDFWritter\n",
    "# from pykhaos.reporting.utils.measures import completness\n"
   ]
  },
  {
   "cell_type": "code",
   "execution_count": 4,
   "metadata": {
    "collapsed": false
   },
   "outputs": [
    {
     "name": "stdout",
     "output_type": "stream",
     "text": [
      "Using h2o version 3.22.0.2\n",
      "('HOLAAAAA', <logging.RootLogger object at 0x100fe1410>)\n",
      "Using h2o version 3.22.0.2\n",
      "Shutdown 3.22.0.2\n",
      "init 3.22.0.2\n"
     ]
    },
    {
     "name": "stderr",
     "output_type": "stream",
     "text": [
      "/Users/csanc109/.local/lib/python2.7/site-packages/h2o/backend/connection.py:317: UserWarning: Proxy is defined in the environment: http_proxy. This may interfere with your H2O Connection.\n",
      "  \"This may interfere with your H2O Connection.\" % name)\n"
     ]
    },
    {
     "name": "stdout",
     "output_type": "stream",
     "text": [
      "Checking whether there is an H2O instance running at http://localhost:54127. connected.\n"
     ]
    },
    {
     "data": {
      "text/html": [
       "<div style=\"overflow:auto\"><table style=\"width:50%\"><tr><td>H2O cluster uptime:</td>\n",
       "<td>1 day 3 hours 23 mins</td></tr>\n",
       "<tr><td>H2O cluster timezone:</td>\n",
       "<td>Europe/Madrid</td></tr>\n",
       "<tr><td>H2O data parsing timezone:</td>\n",
       "<td>UTC</td></tr>\n",
       "<tr><td>H2O cluster version:</td>\n",
       "<td>3.22.0.2</td></tr>\n",
       "<tr><td>H2O cluster version age:</td>\n",
       "<td>1 month and 1 day </td></tr>\n",
       "<tr><td>H2O cluster name:</td>\n",
       "<td>H2O_from_python_csanc109_0bxwqp</td></tr>\n",
       "<tr><td>H2O cluster total nodes:</td>\n",
       "<td>1</td></tr>\n",
       "<tr><td>H2O cluster free memory:</td>\n",
       "<td>11.86 Gb</td></tr>\n",
       "<tr><td>H2O cluster total cores:</td>\n",
       "<td>8</td></tr>\n",
       "<tr><td>H2O cluster allowed cores:</td>\n",
       "<td>8</td></tr>\n",
       "<tr><td>H2O cluster status:</td>\n",
       "<td>locked, healthy</td></tr>\n",
       "<tr><td>H2O connection url:</td>\n",
       "<td>http://localhost:54127</td></tr>\n",
       "<tr><td>H2O connection proxy:</td>\n",
       "<td>None</td></tr>\n",
       "<tr><td>H2O internal security:</td>\n",
       "<td>False</td></tr>\n",
       "<tr><td>H2O API Extensions:</td>\n",
       "<td>XGBoost, Algos, AutoML, Core V3, Core V4</td></tr>\n",
       "<tr><td>Python version:</td>\n",
       "<td>2.7.13 final</td></tr></table></div>"
      ],
      "text/plain": [
       "--------------------------  ----------------------------------------\n",
       "H2O cluster uptime:         1 day 3 hours 23 mins\n",
       "H2O cluster timezone:       Europe/Madrid\n",
       "H2O data parsing timezone:  UTC\n",
       "H2O cluster version:        3.22.0.2\n",
       "H2O cluster version age:    1 month and 1 day\n",
       "H2O cluster name:           H2O_from_python_csanc109_0bxwqp\n",
       "H2O cluster total nodes:    1\n",
       "H2O cluster free memory:    11.86 Gb\n",
       "H2O cluster total cores:    8\n",
       "H2O cluster allowed cores:  8\n",
       "H2O cluster status:         locked, healthy\n",
       "H2O connection url:         http://localhost:54127\n",
       "H2O connection proxy:\n",
       "H2O internal security:      False\n",
       "H2O API Extensions:         XGBoost, Algos, AutoML, Core V3, Core V4\n",
       "Python version:             2.7.13 final\n",
       "--------------------------  ----------------------------------------"
      ]
     },
     "metadata": {},
     "output_type": "display_data"
    },
    {
     "name": "stdout",
     "output_type": "stream",
     "text": [
      "Done!\n",
      "locked=True healthy=True\n",
      "Shutdown 3.22.0.2\n",
      "H2O session _sid_a446 closed.\n",
      "init 3.22.0.2\n",
      "Checking whether there is an H2O instance running at http://localhost:54127. connected.\n"
     ]
    },
    {
     "data": {
      "text/html": [
       "<div style=\"overflow:auto\"><table style=\"width:50%\"><tr><td>H2O cluster uptime:</td>\n",
       "<td>1 day 3 hours 24 mins</td></tr>\n",
       "<tr><td>H2O cluster timezone:</td>\n",
       "<td>Europe/Madrid</td></tr>\n",
       "<tr><td>H2O data parsing timezone:</td>\n",
       "<td>UTC</td></tr>\n",
       "<tr><td>H2O cluster version:</td>\n",
       "<td>3.22.0.2</td></tr>\n",
       "<tr><td>H2O cluster version age:</td>\n",
       "<td>1 month and 1 day </td></tr>\n",
       "<tr><td>H2O cluster name:</td>\n",
       "<td>H2O_from_python_csanc109_0bxwqp</td></tr>\n",
       "<tr><td>H2O cluster total nodes:</td>\n",
       "<td>1</td></tr>\n",
       "<tr><td>H2O cluster free memory:</td>\n",
       "<td>11.86 Gb</td></tr>\n",
       "<tr><td>H2O cluster total cores:</td>\n",
       "<td>8</td></tr>\n",
       "<tr><td>H2O cluster allowed cores:</td>\n",
       "<td>8</td></tr>\n",
       "<tr><td>H2O cluster status:</td>\n",
       "<td>locked, healthy</td></tr>\n",
       "<tr><td>H2O connection url:</td>\n",
       "<td>http://localhost:54127</td></tr>\n",
       "<tr><td>H2O connection proxy:</td>\n",
       "<td>None</td></tr>\n",
       "<tr><td>H2O internal security:</td>\n",
       "<td>False</td></tr>\n",
       "<tr><td>H2O API Extensions:</td>\n",
       "<td>XGBoost, Algos, AutoML, Core V3, Core V4</td></tr>\n",
       "<tr><td>Python version:</td>\n",
       "<td>2.7.13 final</td></tr></table></div>"
      ],
      "text/plain": [
       "--------------------------  ----------------------------------------\n",
       "H2O cluster uptime:         1 day 3 hours 24 mins\n",
       "H2O cluster timezone:       Europe/Madrid\n",
       "H2O data parsing timezone:  UTC\n",
       "H2O cluster version:        3.22.0.2\n",
       "H2O cluster version age:    1 month and 1 day\n",
       "H2O cluster name:           H2O_from_python_csanc109_0bxwqp\n",
       "H2O cluster total nodes:    1\n",
       "H2O cluster free memory:    11.86 Gb\n",
       "H2O cluster total cores:    8\n",
       "H2O cluster allowed cores:  8\n",
       "H2O cluster status:         locked, healthy\n",
       "H2O connection url:         http://localhost:54127\n",
       "H2O connection proxy:\n",
       "H2O internal security:      False\n",
       "H2O API Extensions:         XGBoost, Algos, AutoML, Core V3, Core V4\n",
       "Python version:             2.7.13 final\n",
       "--------------------------  ----------------------------------------"
      ]
     },
     "metadata": {},
     "output_type": "display_data"
    },
    {
     "name": "stdout",
     "output_type": "stream",
     "text": [
      "Done!\n",
      "locked=True healthy=True\n",
      "Shutdown 3.22.0.2\n",
      "init 3.22.0.2\n",
      "Checking whether there is an H2O instance running at http://localhost:54127..... not found.\n",
      "Attempting to start a local H2O server...\n",
      "  Java Version: java version \"1.8.0_172\"; Java(TM) SE Runtime Environment (build 1.8.0_172-b11); Java HotSpot(TM) 64-Bit Server VM (build 25.172-b11, mixed mode)\n",
      "  Starting server from /Users/csanc109/.local/lib/python2.7/site-packages/h2o/backend/bin/h2o.jar\n",
      "  Ice root: /var/folders/13/tsck2zgx0qb1r_r_nr36b6wr4gb5k8/T/tmpGksvGN\n",
      "  JVM stdout: /var/folders/13/tsck2zgx0qb1r_r_nr36b6wr4gb5k8/T/tmpGksvGN/h2o_csanc109_started_from_python.out\n",
      "  JVM stderr: /var/folders/13/tsck2zgx0qb1r_r_nr36b6wr4gb5k8/T/tmpGksvGN/h2o_csanc109_started_from_python.err\n",
      "  Server is running at http://127.0.0.1:54127\n",
      "Connecting to H2O server at http://127.0.0.1:54127... successful.\n"
     ]
    },
    {
     "data": {
      "text/html": [
       "<div style=\"overflow:auto\"><table style=\"width:50%\"><tr><td>H2O cluster uptime:</td>\n",
       "<td>02 secs</td></tr>\n",
       "<tr><td>H2O cluster timezone:</td>\n",
       "<td>Europe/Madrid</td></tr>\n",
       "<tr><td>H2O data parsing timezone:</td>\n",
       "<td>UTC</td></tr>\n",
       "<tr><td>H2O cluster version:</td>\n",
       "<td>3.22.0.2</td></tr>\n",
       "<tr><td>H2O cluster version age:</td>\n",
       "<td>1 month and 1 day </td></tr>\n",
       "<tr><td>H2O cluster name:</td>\n",
       "<td>H2O_from_python_csanc109_6al3x7</td></tr>\n",
       "<tr><td>H2O cluster total nodes:</td>\n",
       "<td>1</td></tr>\n",
       "<tr><td>H2O cluster free memory:</td>\n",
       "<td>12.44 Gb</td></tr>\n",
       "<tr><td>H2O cluster total cores:</td>\n",
       "<td>8</td></tr>\n",
       "<tr><td>H2O cluster allowed cores:</td>\n",
       "<td>8</td></tr>\n",
       "<tr><td>H2O cluster status:</td>\n",
       "<td>accepting new members, healthy</td></tr>\n",
       "<tr><td>H2O connection url:</td>\n",
       "<td>http://127.0.0.1:54127</td></tr>\n",
       "<tr><td>H2O connection proxy:</td>\n",
       "<td>None</td></tr>\n",
       "<tr><td>H2O internal security:</td>\n",
       "<td>False</td></tr>\n",
       "<tr><td>H2O API Extensions:</td>\n",
       "<td>XGBoost, Algos, AutoML, Core V3, Core V4</td></tr>\n",
       "<tr><td>Python version:</td>\n",
       "<td>2.7.13 final</td></tr></table></div>"
      ],
      "text/plain": [
       "--------------------------  ----------------------------------------\n",
       "H2O cluster uptime:         02 secs\n",
       "H2O cluster timezone:       Europe/Madrid\n",
       "H2O data parsing timezone:  UTC\n",
       "H2O cluster version:        3.22.0.2\n",
       "H2O cluster version age:    1 month and 1 day\n",
       "H2O cluster name:           H2O_from_python_csanc109_6al3x7\n",
       "H2O cluster total nodes:    1\n",
       "H2O cluster free memory:    12.44 Gb\n",
       "H2O cluster total cores:    8\n",
       "H2O cluster allowed cores:  8\n",
       "H2O cluster status:         accepting new members, healthy\n",
       "H2O connection url:         http://127.0.0.1:54127\n",
       "H2O connection proxy:\n",
       "H2O internal security:      False\n",
       "H2O API Extensions:         XGBoost, Algos, AutoML, Core V3, Core V4\n",
       "Python version:             2.7.13 final\n",
       "--------------------------  ----------------------------------------"
      ]
     },
     "metadata": {},
     "output_type": "display_data"
    },
    {
     "name": "stdout",
     "output_type": "stream",
     "text": [
      "Done!\n",
      "locked=False healthy=True\n",
      "out of while\n"
     ]
    }
   ],
   "source": [
    "# Launch from console \n",
    "#/usr/bin/java -ea -verbose:gc -XX:+PrintGCDetails -XX:+PrintGCTimeStamps -cp /var/SP/data/home/csanc109/lib/external_libs/h2o/backend/bin/h2o.jar water.H2OApp -ip 127.0.0.1 -baseport 54323 -ice_root /tmp/tmpMKtqxt -name H2O_from_python_csanc109_5suywz -log_level INFO\n",
    "\n",
    "# from lib.external_libs import h2o\n",
    "# h2o.__version__\n",
    "# h2o.init(ip=\"127.0.0.1\", port=54323, strict_version_check=False)\n",
    "\n",
    "#######################################\n",
    "# H2O\n",
    "#######################################\n",
    "\n",
    "MODEL_NAME = \"ccc_pykhaos\"\n",
    "from pykhaos.modeling.model import Model\n",
    "\n",
    "from pykhaos.modeling.h2o.h2o_functions import restart_cluster_loop\n",
    "restart_cluster_loop(port=54127)\n"
   ]
  },
  {
   "cell_type": "code",
   "execution_count": 5,
   "metadata": {
    "collapsed": false
   },
   "outputs": [],
   "source": [
    "# v1 df = h2o.import_file(\"hdfs://vgddp350hr.dc.sedc.internal.vodafone.com/data/udf/vf_es/churn/ccc_model/comercial/df_20180501_20180531_c20180430_n60_comercial_msisdn/1544614716.csv\")\n",
    "# v2 df = h2o.import_file(\"hdfs://vgddp350hr.dc.sedc.internal.vodafone.com/data/udf/vf_es/churn/ccc_model/comercial/df_20180501_20180531_c20180430_n60_comercial_msisdn/1544755879.csv\")\n",
    "# v3\n",
    "#import h2o\n",
    "#df_h2o = h2o.import_file(\"/Users/csanc109/Documents/Projects/Churn/CCC_model/data/df_20180501_20180531_c20180430_n60_comercial_msisdn_OLD/\", pattern=\".*\\.csv\")\n"
   ]
  },
  {
   "cell_type": "code",
   "execution_count": 6,
   "metadata": {
    "collapsed": false
   },
   "outputs": [],
   "source": [
    "#df_tar = spark.read.option(\"delimiter\", \"|\").option(\"header\", True).csv('/data/udf/vf_es/churn/ccc_model/comercial/df_20180501_20180531_c20180430_n60_comercial_msisdn_OLD')\n",
    "# df_tar.select(\"PRICE_DATA\").distinct().show()"
   ]
  },
  {
   "cell_type": "code",
   "execution_count": 7,
   "metadata": {
    "collapsed": false
   },
   "outputs": [
    {
     "name": "stdout",
     "output_type": "stream",
     "text": [
      "Starting CCC categories data\n"
     ]
    },
    {
     "name": "stderr",
     "output_type": "stream",
     "text": [
      "/Users/csanc109/devel/pykhaos/reporting/utils/plots.py:13: UserWarning: \n",
      "This call to matplotlib.use() has no effect because the backend has already\n",
      "been chosen; matplotlib.use() must be called *before* pylab, matplotlib.pyplot,\n",
      "or matplotlib.backends is imported for the first time.\n",
      "\n",
      "The backend was *originally* set to 'module://ipykernel.pylab.backend_inline' by the following code:\n",
      "  File \"/Users/csanc109/anaconda/lib/python2.7/runpy.py\", line 174, in _run_module_as_main\n",
      "    \"__main__\", fname, loader, pkg_name)\n",
      "  File \"/Users/csanc109/anaconda/lib/python2.7/runpy.py\", line 72, in _run_code\n",
      "    exec code in run_globals\n",
      "  File \"/Users/csanc109/anaconda/lib/python2.7/site-packages/ipykernel/__main__.py\", line 3, in <module>\n",
      "    app.launch_new_instance()\n",
      "  File \"/Users/csanc109/anaconda/lib/python2.7/site-packages/traitlets/config/application.py\", line 658, in launch_instance\n",
      "    app.start()\n",
      "  File \"/Users/csanc109/anaconda/lib/python2.7/site-packages/ipykernel/kernelapp.py\", line 405, in start\n",
      "    ioloop.IOLoop.instance().start()\n",
      "  File \"/Users/csanc109/anaconda/lib/python2.7/site-packages/zmq/eventloop/ioloop.py\", line 162, in start\n",
      "    super(ZMQIOLoop, self).start()\n",
      "  File \"/Users/csanc109/anaconda/lib/python2.7/site-packages/tornado/ioloop.py\", line 883, in start\n",
      "    handler_func(fd_obj, events)\n",
      "  File \"/Users/csanc109/anaconda/lib/python2.7/site-packages/tornado/stack_context.py\", line 275, in null_wrapper\n",
      "    return fn(*args, **kwargs)\n",
      "  File \"/Users/csanc109/anaconda/lib/python2.7/site-packages/zmq/eventloop/zmqstream.py\", line 440, in _handle_events\n",
      "    self._handle_recv()\n",
      "  File \"/Users/csanc109/anaconda/lib/python2.7/site-packages/zmq/eventloop/zmqstream.py\", line 472, in _handle_recv\n",
      "    self._run_callback(callback, msg)\n",
      "  File \"/Users/csanc109/anaconda/lib/python2.7/site-packages/zmq/eventloop/zmqstream.py\", line 414, in _run_callback\n",
      "    callback(*args, **kwargs)\n",
      "  File \"/Users/csanc109/anaconda/lib/python2.7/site-packages/tornado/stack_context.py\", line 275, in null_wrapper\n",
      "    return fn(*args, **kwargs)\n",
      "  File \"/Users/csanc109/anaconda/lib/python2.7/site-packages/ipykernel/kernelbase.py\", line 260, in dispatcher\n",
      "    return self.dispatch_shell(stream, msg)\n",
      "  File \"/Users/csanc109/anaconda/lib/python2.7/site-packages/ipykernel/kernelbase.py\", line 212, in dispatch_shell\n",
      "    handler(stream, idents, msg)\n",
      "  File \"/Users/csanc109/anaconda/lib/python2.7/site-packages/ipykernel/kernelbase.py\", line 370, in execute_request\n",
      "    user_expressions, allow_stdin)\n",
      "  File \"/Users/csanc109/anaconda/lib/python2.7/site-packages/ipykernel/ipkernel.py\", line 175, in do_execute\n",
      "    shell.run_cell(code, store_history=store_history, silent=silent)\n",
      "  File \"/Users/csanc109/anaconda/lib/python2.7/site-packages/IPython/core/interactiveshell.py\", line 2902, in run_cell\n",
      "    interactivity=interactivity, compiler=compiler, result=result)\n",
      "  File \"/Users/csanc109/anaconda/lib/python2.7/site-packages/IPython/core/interactiveshell.py\", line 3006, in run_ast_nodes\n",
      "    if self.run_code(code, result):\n",
      "  File \"/Users/csanc109/anaconda/lib/python2.7/site-packages/IPython/core/interactiveshell.py\", line 3066, in run_code\n",
      "    exec(code_obj, self.user_global_ns, self.user_ns)\n",
      "  File \"<ipython-input-1-b3123fb11693>\", line 49, in <module>\n",
      "    get_ipython().magic(u'matplotlib inline')\n",
      "  File \"/Users/csanc109/anaconda/lib/python2.7/site-packages/IPython/core/interactiveshell.py\", line 2336, in magic\n",
      "    return self.run_line_magic(magic_name, magic_arg_s)\n",
      "  File \"/Users/csanc109/anaconda/lib/python2.7/site-packages/IPython/core/interactiveshell.py\", line 2257, in run_line_magic\n",
      "    result = fn(*args,**kwargs)\n",
      "  File \"<decorator-gen-106>\", line 2, in matplotlib\n",
      "  File \"/Users/csanc109/anaconda/lib/python2.7/site-packages/IPython/core/magic.py\", line 193, in <lambda>\n",
      "    call = lambda f, *a, **k: f(*a, **k)\n",
      "  File \"/Users/csanc109/anaconda/lib/python2.7/site-packages/IPython/core/magics/pylab.py\", line 100, in matplotlib\n",
      "    gui, backend = self.shell.enable_matplotlib(args.gui)\n",
      "  File \"/Users/csanc109/anaconda/lib/python2.7/site-packages/IPython/core/interactiveshell.py\", line 3132, in enable_matplotlib\n",
      "    pt.activate_matplotlib(backend)\n",
      "  File \"/Users/csanc109/anaconda/lib/python2.7/site-packages/IPython/core/pylabtools.py\", line 275, in activate_matplotlib\n",
      "    matplotlib.pyplot.switch_backend(backend)\n",
      "  File \"/Users/csanc109/anaconda/lib/python2.7/site-packages/matplotlib/pyplot.py\", line 232, in switch_backend\n",
      "    matplotlib.use(newbackend, warn=False, force=True)\n",
      "  File \"/Users/csanc109/anaconda/lib/python2.7/site-packages/matplotlib/__init__.py\", line 1305, in use\n",
      "    reload(sys.modules['matplotlib.backends'])\n",
      "  File \"/Users/csanc109/anaconda/lib/python2.7/site-packages/matplotlib/backends/__init__.py\", line 14, in <module>\n",
      "    line for line in traceback.format_stack()\n",
      "\n",
      "\n",
      "  matplotlib.use('Agg') # Must be before importing matplotlib.pyplot or pylab!\n"
     ]
    },
    {
     "name": "stdout",
     "output_type": "stream",
     "text": [
      "!!!!!!! HARD CODED !!!!!!!!!!\n",
      "Found /Users/csanc109/Documents/Projects/Churn/CCC_model/data/df_20180501_20180531_c20180430_n60_comercial_msisdn_OLD/. Loading...\n",
      "set_h2o_training_data - filename /Users/csanc109/Documents/Projects/Churn/CCC_model/data/df_20180501_20180531_c20180430_n60_comercial_msisdn_OLD/\n"
     ]
    },
    {
     "name": "stderr",
     "output_type": "stream",
     "text": [
      "20181223-112059 [INFO ] ***** locked=False healthy=True\n",
      "20181223-112059 [INFO ] Trying to import '/Users/csanc109/Documents/Projects/Churn/CCC_model/data/df_20180501_20180531_c20180430_n60_comercial_msisdn_OLD/' hdfs=False parquet=False\n"
     ]
    },
    {
     "name": "stdout",
     "output_type": "stream",
     "text": [
      "Parse progress: |█████████████████████████████████████████████████████████| 100%\n",
      "Preparing __prepare_ccc_data_for_h2o\n",
      "Not possible to delete portout_date. Col does not exist\n",
      "Imputing -1 ... \n",
      "Imputing 0 ... \n",
      "Imputing unknown ... \n",
      "col COMERCIAL does not exist\n",
      "col NO_COMERCIAL does not exist\n",
      "col PRECIO does not exist\n",
      "col TERMINAL does not exist\n",
      "col CONTENIDOS does not exist\n",
      "col SERVICIO/ATENCION does not exist\n",
      "col TECNICO does not exist\n",
      "col BILLING does not exist\n",
      "col FRAUD does not exist\n",
      "col NO_PROB does not exist\n",
      "col TOTAL_COMERCIAL does not exist\n",
      "col TOTAL_NO_COMERCIAL does not exist\n",
      "col fx_tv_fx_first_nif does not exist\n",
      "col mobile_fx_first_nif does not exist\n",
      "col tv_fx_first_nif does not exist\n",
      "col prepaid_fx_first_nif does not exist\n",
      "col bam_mobile_fx_first_nif does not exist\n",
      "col fixed_fx_first_nif does not exist\n",
      "col bam_fx_first_nif does not exist\n",
      "col fbb_fx_first_nif does not exist\n"
     ]
    },
    {
     "name": "stderr",
     "output_type": "stream",
     "text": [
      "20181223-112442 [INFO ] df_h2o ready to be used!\n"
     ]
    },
    {
     "name": "stdout",
     "output_type": "stream",
     "text": [
      "Ended CCC_Data\n"
     ]
    },
    {
     "data": {
      "application/javascript": [
       "$(document).ready(\n",
       "    function() {\n",
       "        function appendUniqueDiv(){\n",
       "            // append a div with our uuid so we can check that it's already\n",
       "            // been sent and avoid duplicates on page reload\n",
       "            var notifiedDiv = document.createElement(\"div\")\n",
       "            notifiedDiv.id = \"3260b261-da7c-42e6-83ab-bf4aa0d84d07\"\n",
       "            element.append(notifiedDiv)\n",
       "        }\n",
       "\n",
       "        // only send notifications if the pageload is complete; this will\n",
       "        // help stop extra notifications when a saved notebook is loaded,\n",
       "        // which during testing gives us state \"interactive\", not \"complete\"\n",
       "        if (document.readyState === 'complete') {\n",
       "            // check for the div that signifies that the notification\n",
       "            // was already sent\n",
       "            if (document.getElementById(\"3260b261-da7c-42e6-83ab-bf4aa0d84d07\") === null) {\n",
       "                var notificationPayload = {\"body\": \"CCC_model_pykahos: ended CCCdata \", \"requireInteraction\": false, \"icon\": \"/static/base/images/favicon.ico\"};\n",
       "                if (Notification.permission !== 'denied') {\n",
       "                    if (Notification.permission !== 'granted') { \n",
       "                        Notification.requestPermission(function (permission) {\n",
       "                            if(!('permission' in Notification)) {\n",
       "                                Notification.permission = permission\n",
       "                            }\n",
       "                        })\n",
       "                    }\n",
       "                    if (Notification.permission === 'granted') {\n",
       "                    var notification = new Notification(\"Jupyter Notebook\", notificationPayload)\n",
       "                    appendUniqueDiv()\n",
       "                    notification.onclick = function () {\n",
       "                        window.focus();\n",
       "                        this.close();\n",
       "                        };\n",
       "                    } \n",
       "                }     \n",
       "            }\n",
       "        }\n",
       "    }\n",
       ")\n"
      ],
      "text/plain": [
       "<IPython.core.display.Javascript object>"
      ]
     },
     "metadata": {},
     "output_type": "display_data"
    }
   ],
   "source": [
    "%%notify -m \"CCC_model_pykahos: ended CCCdata \"\n",
    "#from churn.config_manager.ccc_model_config_mgr import  CCCmodelConfig\n",
    "#config_obj = CCCmodelConfig('/var/SP/data/home/csanc109/src/devel/use-cases/churn/input/dp_ccc_model.yaml')\n",
    "print(\"Starting CCC categories data\")\n",
    "from churn.models.ccc.data.ccc_data import CCC_Data\n",
    "data_abs_data_obj = CCC_Data(input_data=None, filename=\"/Users/csanc109/Documents/Projects/Churn/CCC_model/data/df_20180501_20180531_c20180430_n60_comercial_msisdn_OLD/\", pkey_cols=[\"msisdn\"])\n",
    "print(\"Ended CCC_Data\")"
   ]
  },
  {
   "cell_type": "code",
   "execution_count": 8,
   "metadata": {
    "collapsed": true
   },
   "outputs": [
    {
     "name": "stdout",
     "output_type": "stream",
     "text": [
      "loaded '/Users/csanc109/devel/use-cases/churn/models/ccc/input/h2o_automl.yaml'\n",
      "splitting ... \n",
      "<class 'h2o.frame.H2OFrame'>\n",
      "<class 'h2o.frame.H2OFrame'>\n",
      "H2O Engine :)\n",
      "Using h2o version 3.22.0.2\n",
      "Detected these gridparams:\n",
      "{'max_after_balance_size': [0.85, 1.7, 0.5]}\n",
      "**** FIT *****\n",
      "***** GRIDSEARCH ********\n",
      "drf Grid Build progress: |████████████████████████████████████████████████| 100%\n",
      "drf prediction progress: |████████████████████████████████████████████████| 100%\n",
      "drf prediction progress: |████████████████████████████████████████████████| 100%\n",
      "Could not find exact threshold 0.3; using closest threshold found 0.301577180032.\n",
      "Could not find exact threshold 0.5; using closest threshold found 0.500888538291.\n",
      "Could not find exact threshold 0.7; using closest threshold found 0.699768230242.\n",
      "Could not find exact threshold 0.3; using closest threshold found 0.301577180032.\n",
      "Could not find exact threshold 0.5; using closest threshold found 0.500888538291.\n",
      "Could not find exact threshold 0.7; using closest threshold found 0.699768230242.\n",
      "Could not find exact threshold 0.3; using closest threshold found 0.301577180032.\n",
      "Could not find exact threshold 0.5; using closest threshold found 0.500888538291.\n",
      "Could not find exact threshold 0.7; using closest threshold found 0.699768230242.\n",
      "Could not find exact threshold 0.3; using closest threshold found 0.301577180032.\n",
      "Could not find exact threshold 0.5; using closest threshold found 0.500888538291.\n",
      "Could not find exact threshold 0.7; using closest threshold found 0.699768230242.\n",
      "Could not find exact threshold 0.3; using closest threshold found 0.301577180032.\n",
      "Could not find exact threshold 0.5; using closest threshold found 0.500888538291.\n",
      "Could not find exact threshold 0.7; using closest threshold found 0.699768230242.\n",
      "Could not find exact threshold 0.3; using closest threshold found 0.301577180032.\n",
      "Could not find exact threshold 0.5; using closest threshold found 0.500888538291.\n",
      "Could not find exact threshold 0.7; using closest threshold found 0.699768230242.\n",
      "Could not find exact threshold 0.3; using closest threshold found 0.301577180032.\n",
      "Could not find exact threshold 0.5; using closest threshold found 0.500888538291.\n",
      "Could not find exact threshold 0.7; using closest threshold found 0.699768230242.\n",
      "Could not find exact threshold 0.3; using closest threshold found 0.301577180032.\n",
      "Could not find exact threshold 0.5; using closest threshold found 0.500888538291.\n",
      "Could not find exact threshold 0.7; using closest threshold found 0.699768230242.\n",
      "Could not find exact threshold 0.3; using closest threshold found 0.301577180032.\n",
      "Could not find exact threshold 0.5; using closest threshold found 0.500888538291.\n",
      "Could not find exact threshold 0.7; using closest threshold found 0.699768230242.\n",
      "key_vars=key\n",
      "hola1\n",
      "hola2\n",
      "hola3\n",
      "        key     SCORE  label  mean_freq     cs\n",
      "1759   lift  0.979637    1.0   0.095731      1\n",
      "16646  lift  0.979637    1.0   0.095731      2\n",
      "81     lift  0.972452    1.0   0.095731      3\n",
      "14968  lift  0.972452    1.0   0.095731      4\n",
      "4104   lift  0.959527    1.0   0.095731      5\n",
      "18984  lift  0.959527    1.0   0.095731      6\n",
      "10154  lift  0.958026    1.0   0.095731      7\n",
      "25079  lift  0.958026    1.0   0.095731      8\n",
      "12192  lift  0.956238    1.0   0.095731      9\n",
      "23716  lift  0.952855    1.0   0.095731     10\n",
      "9653   lift  0.952554    1.0   0.095731     11\n",
      "9420   lift  0.952356    1.0   0.095731     12\n",
      "24342  lift  0.952356    1.0   0.095731     13\n",
      "4783   lift  0.950825    1.0   0.095731     14\n",
      "4312   lift  0.950533    1.0   0.095731     15\n",
      "19203  lift  0.950533    1.0   0.095731     16\n",
      "24939  lift  0.949520    1.0   0.095731     17\n",
      "14352  lift  0.949214    1.0   0.095731     18\n",
      "29298  lift  0.949214    1.0   0.095731     19\n",
      "9976   lift  0.949002    1.0   0.095731     20\n",
      "24902  lift  0.949002    1.0   0.095731     21\n",
      "24381  lift  0.948274    1.0   0.095731     22\n",
      "405    lift  0.947576    1.0   0.095731     23\n",
      "4416   lift  0.947422    1.0   0.095731     24\n",
      "19314  lift  0.947422    1.0   0.095731     25\n",
      "12516  lift  0.947039    1.0   0.095731     26\n",
      "27463  lift  0.947039    1.0   0.095731     27\n",
      "9303   lift  0.946736    1.0   0.095731     28\n",
      "24229  lift  0.946736    1.0   0.095731     29\n",
      "9397   lift  0.946118    1.0   0.095731     30\n",
      "...     ...       ...    ...        ...    ...\n",
      "26749  lift  0.004204    0.0   0.095731  29815\n",
      "5714   lift  0.004092    0.0   0.095731  29816\n",
      "20598  lift  0.004092    0.0   0.095731  29817\n",
      "2183   lift  0.004091    0.0   0.095731  29818\n",
      "17065  lift  0.004091    0.0   0.095731  29819\n",
      "10070  lift  0.004089    0.0   0.095731  29820\n",
      "7796   lift  0.003501    0.0   0.095731  29821\n",
      "8477   lift  0.003501    0.0   0.095731  29822\n",
      "12282  lift  0.003501    0.0   0.095731  29823\n",
      "22696  lift  0.003501    0.0   0.095731  29824\n",
      "23393  lift  0.003501    0.0   0.095731  29825\n",
      "27225  lift  0.003501    0.0   0.095731  29826\n",
      "10033  lift  0.003017    0.0   0.095731  29827\n",
      "12142  lift  0.002960    0.0   0.095731  29828\n",
      "27082  lift  0.002960    0.0   0.095731  29829\n",
      "7622   lift  0.002155    0.0   0.095731  29830\n",
      "9094   lift  0.002155    0.0   0.095731  29831\n",
      "10077  lift  0.002155    0.0   0.095731  29832\n",
      "14880  lift  0.002155    0.0   0.095731  29833\n",
      "22518  lift  0.002155    0.0   0.095731  29834\n",
      "24018  lift  0.002155    0.0   0.095731  29835\n",
      "24997  lift  0.002155    0.0   0.095731  29836\n",
      "29836  lift  0.002155    0.0   0.095731  29837\n",
      "12299  lift  0.001298    0.0   0.095731  29838\n",
      "12460  lift  0.001298    0.0   0.095731  29839\n",
      "27247  lift  0.001298    0.0   0.095731  29840\n",
      "27414  lift  0.001298    0.0   0.095731  29841\n",
      "8967   lift  0.000000    0.0   0.095731  29842\n",
      "12128  lift  0.000000    0.0   0.095731  29843\n",
      "23899  lift  0.000000    0.0   0.095731  29844\n",
      "\n",
      "[29844 rows x 5 columns]\n",
      "hola4\n",
      "hola41\n",
      "hola42\n",
      "hola43\n",
      "hola44\n",
      "hola5\n",
      "Could not find exact threshold 0.3; using closest threshold found 0.301747370133.\n",
      "Could not find exact threshold 0.5; using closest threshold found 0.490640004375.\n",
      "Could not find exact threshold 0.7; using closest threshold found 0.699768230242.\n",
      "Could not find exact threshold 0.3; using closest threshold found 0.301747370133.\n",
      "Could not find exact threshold 0.5; using closest threshold found 0.490640004375.\n",
      "Could not find exact threshold 0.7; using closest threshold found 0.699768230242.\n",
      "Could not find exact threshold 0.3; using closest threshold found 0.301747370133.\n",
      "Could not find exact threshold 0.5; using closest threshold found 0.490640004375.\n",
      "Could not find exact threshold 0.7; using closest threshold found 0.699768230242.\n",
      "Could not find exact threshold 0.3; using closest threshold found 0.301747370133.\n",
      "Could not find exact threshold 0.5; using closest threshold found 0.490640004375.\n",
      "Could not find exact threshold 0.7; using closest threshold found 0.699768230242.\n",
      "Could not find exact threshold 0.3; using closest threshold found 0.301747370133.\n",
      "Could not find exact threshold 0.5; using closest threshold found 0.490640004375.\n",
      "Could not find exact threshold 0.7; using closest threshold found 0.699768230242.\n",
      "Could not find exact threshold 0.3; using closest threshold found 0.301747370133.\n",
      "Could not find exact threshold 0.5; using closest threshold found 0.490640004375.\n",
      "Could not find exact threshold 0.7; using closest threshold found 0.699768230242.\n",
      "Could not find exact threshold 0.3; using closest threshold found 0.301747370133.\n",
      "Could not find exact threshold 0.5; using closest threshold found 0.490640004375.\n",
      "Could not find exact threshold 0.7; using closest threshold found 0.699768230242.\n",
      "Could not find exact threshold 0.3; using closest threshold found 0.301747370133.\n",
      "Could not find exact threshold 0.5; using closest threshold found 0.490640004375.\n",
      "Could not find exact threshold 0.7; using closest threshold found 0.699768230242.\n",
      "Could not find exact threshold 0.3; using closest threshold found 0.301747370133.\n",
      "Could not find exact threshold 0.5; using closest threshold found 0.490640004375.\n",
      "Could not find exact threshold 0.7; using closest threshold found 0.699768230242.\n",
      "key_vars=key\n",
      "hola1\n",
      "hola2\n",
      "hola3\n",
      "       key     SCORE  label  mean_freq    cs\n",
      "9040  lift  0.956238    1.0   0.096661     1\n",
      "2940  lift  0.952855    1.0   0.096661     2\n",
      "8189  lift  0.952554    1.0   0.096661     3\n",
      "6585  lift  0.950825    1.0   0.096661     4\n",
      "3352  lift  0.949520    1.0   0.096661     5\n",
      "3162  lift  0.948274    1.0   0.096661     6\n",
      "5141  lift  0.947576    1.0   0.096661     7\n",
      "3231  lift  0.945447    1.0   0.096661     8\n",
      "7841  lift  0.945040    1.0   0.096661     9\n",
      "2139  lift  0.944637    1.0   0.096661    10\n",
      "3666  lift  0.943570    1.0   0.096661    11\n",
      "6287  lift  0.941872    1.0   0.096661    12\n",
      "1609  lift  0.941458    1.0   0.096661    13\n",
      "4309  lift  0.941421    1.0   0.096661    14\n",
      "8801  lift  0.941083    1.0   0.096661    15\n",
      "5218  lift  0.940186    1.0   0.096661    16\n",
      "4680  lift  0.939331    1.0   0.096661    17\n",
      "6525  lift  0.939068    1.0   0.096661    18\n",
      "9556  lift  0.938871    1.0   0.096661    19\n",
      "7133  lift  0.938457    1.0   0.096661    20\n",
      "5869  lift  0.937165    1.0   0.096661    21\n",
      "8938  lift  0.936209    1.0   0.096661    22\n",
      "7143  lift  0.935142    1.0   0.096661    23\n",
      "9246  lift  0.934798    1.0   0.096661    24\n",
      "5253  lift  0.934061    1.0   0.096661    25\n",
      "8113  lift  0.933325    1.0   0.096661    26\n",
      "6807  lift  0.932886    1.0   0.096661    27\n",
      "6175  lift  0.932350    1.0   0.096661    28\n",
      "4617  lift  0.932219    1.0   0.096661    29\n",
      "3025  lift  0.931582    1.0   0.096661    30\n",
      "...    ...       ...    ...        ...   ...\n",
      "370   lift  0.006241    0.0   0.096661  9913\n",
      "635   lift  0.006241    0.0   0.096661  9914\n",
      "644   lift  0.006241    0.0   0.096661  9915\n",
      "3204  lift  0.006241    0.0   0.096661  9916\n",
      "5291  lift  0.006241    0.0   0.096661  9917\n",
      "5383  lift  0.006241    0.0   0.096661  9918\n",
      "5660  lift  0.006241    0.0   0.096661  9919\n",
      "8544  lift  0.006241    0.0   0.096661  9920\n",
      "9002  lift  0.006241    0.0   0.096661  9921\n",
      "9072  lift  0.006124    0.0   0.096661  9922\n",
      "2885  lift  0.005757    0.0   0.096661  9923\n",
      "2405  lift  0.005624    0.0   0.096661  9924\n",
      "7403  lift  0.005624    0.0   0.096661  9925\n",
      "1120  lift  0.005597    0.0   0.096661  9926\n",
      "1765  lift  0.005597    0.0   0.096661  9927\n",
      "6753  lift  0.005597    0.0   0.096661  9928\n",
      "3363  lift  0.005493    0.0   0.096661  9929\n",
      "2546  lift  0.005425    0.0   0.096661  9930\n",
      "4642  lift  0.005156    0.0   0.096661  9931\n",
      "9589  lift  0.005156    0.0   0.096661  9932\n",
      "7773  lift  0.005122    0.0   0.096661  9933\n",
      "4733  lift  0.005018    0.0   0.096661  9934\n",
      "457   lift  0.004390    0.0   0.096661  9935\n",
      "8111  lift  0.004390    0.0   0.096661  9936\n",
      "3588  lift  0.004349    0.0   0.096661  9937\n",
      "3262  lift  0.004204    0.0   0.096661  9938\n",
      "7554  lift  0.004204    0.0   0.096661  9939\n",
      "8344  lift  0.004089    0.0   0.096661  9940\n",
      "8325  lift  0.003017    0.0   0.096661  9941\n",
      "9015  lift  0.000000    0.0   0.096661  9942\n",
      "\n",
      "[9942 rows x 5 columns]\n",
      "hola4\n",
      "hola41\n",
      "hola42\n",
      "hola43\n",
      "hola44\n",
      "hola5\n"
     ]
    },
    {
     "data": {
      "application/javascript": [
       "$(document).ready(\n",
       "    function() {\n",
       "        function appendUniqueDiv(){\n",
       "            // append a div with our uuid so we can check that it's already\n",
       "            // been sent and avoid duplicates on page reload\n",
       "            var notifiedDiv = document.createElement(\"div\")\n",
       "            notifiedDiv.id = \"9b6f5dd5-e3fe-43b7-846f-a91fcbe501d8\"\n",
       "            element.append(notifiedDiv)\n",
       "        }\n",
       "\n",
       "        // only send notifications if the pageload is complete; this will\n",
       "        // help stop extra notifications when a saved notebook is loaded,\n",
       "        // which during testing gives us state \"interactive\", not \"complete\"\n",
       "        if (document.readyState === 'complete') {\n",
       "            // check for the div that signifies that the notification\n",
       "            // was already sent\n",
       "            if (document.getElementById(\"9b6f5dd5-e3fe-43b7-846f-a91fcbe501d8\") === null) {\n",
       "                var notificationPayload = {\"body\": \"CCC_model_pykahos: ended fit \", \"requireInteraction\": false, \"icon\": \"/static/base/images/favicon.ico\"};\n",
       "                if (Notification.permission !== 'denied') {\n",
       "                    if (Notification.permission !== 'granted') { \n",
       "                        Notification.requestPermission(function (permission) {\n",
       "                            if(!('permission' in Notification)) {\n",
       "                                Notification.permission = permission\n",
       "                            }\n",
       "                        })\n",
       "                    }\n",
       "                    if (Notification.permission === 'granted') {\n",
       "                    var notification = new Notification(\"Jupyter Notebook\", notificationPayload)\n",
       "                    appendUniqueDiv()\n",
       "                    notification.onclick = function () {\n",
       "                        window.focus();\n",
       "                        this.close();\n",
       "                        };\n",
       "                    } \n",
       "                }     \n",
       "            }\n",
       "        }\n",
       "    }\n",
       ")\n"
      ],
      "text/plain": [
       "<IPython.core.display.Javascript object>"
      ]
     },
     "metadata": {},
     "output_type": "display_data"
    }
   ],
   "source": [
    "%%notify -m \"CCC_model_pykahos: ended fit \"\n",
    "xlsx_report_template_path = os.path.join(USECASES_SRC, \"churn\", \"models\", \"ccc\", 'input', 'xlsx_report_template.yaml')\n",
    "model_yaml_path = os.path.join(USECASES_SRC, \"churn\", \"models\", 'ccc', 'input', 'h2o_automl.yaml')\n",
    "model_name = MODEL_NAME+'_model'\n",
    "\n",
    "modeler = Model(model_name, model_yaml_path)\n",
    "modeler.fit(data_abs_data_obj)"
   ]
  },
  {
   "cell_type": "markdown",
   "metadata": {},
   "source": [
    "# SAVE model"
   ]
  },
  {
   "cell_type": "code",
   "execution_count": 9,
   "metadata": {
    "collapsed": false,
    "scrolled": true
   },
   "outputs": [
    {
     "name": "stdout",
     "output_type": "stream",
     "text": [
      "************** model.py save\n",
      "['model_fit_params', 'numero_variables', 'target_freq', 'model train metrics', 'model test metrics', 'test_partition_size', 'train_partition_size']\n",
      "Starting save of model at '/Users/csanc109/Documents/Projects/Churn/CCC_model/results/ccc_pykhaos/20180430/20181223_112543/model/ccc_pykhaos_model.pkl'\n",
      "Creating directory /Users/csanc109/Documents/Projects/Churn/CCC_model/results/ccc_pykhaos/20180430/20181223_112543/model\n",
      "save h2o_factory /Users/csanc109/Documents/Projects/Churn/CCC_model/results/ccc_pykhaos/20180430/20181223_112543/model\n",
      "save h2o_factory_saving_path /Users/csanc109/Documents/Projects/Churn/CCC_model/results/ccc_pykhaos/20180430/20181223_112543/model/h2o_factory\n",
      "Saved h2o model in path /Users/csanc109/Documents/Projects/Churn/CCC_model/results/ccc_pykhaos/20180430/20181223_112543/model/h2o_factory/Grid_DRF_py_49_sid_87a8_model_python_1545560455137_1_model_2\n",
      "Saving object at /Users/csanc109/Documents/Projects/Churn/CCC_model/results/ccc_pykhaos/20180430/20181223_112543/model/ccc_pykhaos_model.pkl\n",
      "Calling to __getstate model\n",
      "saving_model_info\n",
      "['model_fit_params', 'numero_variables', 'target_freq', 'model train metrics', 'model test metrics', 'test_partition_size', 'train_partition_size']\n",
      " *********** model.py save REMOVEEEEEEEEEE !!!!!!!!\n",
      "Calling to __getstate H2O Factory\n",
      "['params', 'modeler_save_path', 'config', 'feature_importance', 'gridsearch', 'modeler']\n",
      "['params', 'modeler_save_path', 'config', 'feature_importance']\n",
      "---\n",
      "Model object saved succesfully in file '/Users/csanc109/Documents/Projects/Churn/CCC_model/results/ccc_pykhaos/20180430/20181223_112543/model/ccc_pykhaos_model.pkl'\n"
     ]
    },
    {
     "data": {
      "application/javascript": [
       "$(document).ready(\n",
       "    function() {\n",
       "        function appendUniqueDiv(){\n",
       "            // append a div with our uuid so we can check that it's already\n",
       "            // been sent and avoid duplicates on page reload\n",
       "            var notifiedDiv = document.createElement(\"div\")\n",
       "            notifiedDiv.id = \"b3704b80-4d14-4a46-926a-58a2c0db95f9\"\n",
       "            element.append(notifiedDiv)\n",
       "        }\n",
       "\n",
       "        // only send notifications if the pageload is complete; this will\n",
       "        // help stop extra notifications when a saved notebook is loaded,\n",
       "        // which during testing gives us state \"interactive\", not \"complete\"\n",
       "        if (document.readyState === 'complete') {\n",
       "            // check for the div that signifies that the notification\n",
       "            // was already sent\n",
       "            if (document.getElementById(\"b3704b80-4d14-4a46-926a-58a2c0db95f9\") === null) {\n",
       "                var notificationPayload = {\"body\": \"CCC_model_pykahos: model saved \", \"requireInteraction\": false, \"icon\": \"/static/base/images/favicon.ico\"};\n",
       "                if (Notification.permission !== 'denied') {\n",
       "                    if (Notification.permission !== 'granted') { \n",
       "                        Notification.requestPermission(function (permission) {\n",
       "                            if(!('permission' in Notification)) {\n",
       "                                Notification.permission = permission\n",
       "                            }\n",
       "                        })\n",
       "                    }\n",
       "                    if (Notification.permission === 'granted') {\n",
       "                    var notification = new Notification(\"Jupyter Notebook\", notificationPayload)\n",
       "                    appendUniqueDiv()\n",
       "                    notification.onclick = function () {\n",
       "                        window.focus();\n",
       "                        this.close();\n",
       "                        };\n",
       "                    } \n",
       "                }     \n",
       "            }\n",
       "        }\n",
       "    }\n",
       ")\n"
      ],
      "text/plain": [
       "<IPython.core.display.Javascript object>"
      ]
     },
     "metadata": {},
     "output_type": "display_data"
    }
   ],
   "source": [
    "%%notify -m \"CCC_model_pykahos: model saved \"\n",
    "\n",
    "import datetime as dt\n",
    "unique_dirname = dt.datetime.now().strftime(\"%Y%m%d_%H%M%S\")\n",
    "\n",
    "from churn.utils.constants import YAML_DATA_PREPARATION, YAML_CLOSING_DAY\n",
    "from churn.models.ccc.utils.constants import SAVING_PATH\n",
    "\n",
    "save_model_path = os.path.join(SAVING_PATH, \"results\", MODEL_NAME, str(input_data[YAML_DATA_PREPARATION][YAML_CLOSING_DAY]), unique_dirname, \"model\")\n",
    "modeler.save(save_model_path)\n"
   ]
  },
  {
   "cell_type": "markdown",
   "metadata": {},
   "source": [
    "# Reporter"
   ]
  },
  {
   "cell_type": "code",
   "execution_count": 10,
   "metadata": {
    "collapsed": false
   },
   "outputs": [
    {
     "name": "stdout",
     "output_type": "stream",
     "text": [
      "/Users/csanc109/Documents/Projects/Churn/CCC_model\n",
      "Reporter __init__ model_id=ccc_pykhaos_model model_dir=/Users/csanc109/Documents/Projects/Churn/CCC_model/results/ccc_pykhaos/20180430/20181223_112543/model template_yaml_path=/Users/csanc109/devel/use-cases/churn/models/ccc/input/xlsx_report_template.yaml\n",
      "Loading model /Users/csanc109/Documents/Projects/Churn/CCC_model/results/ccc_pykhaos/20180430/20181223_112543/model/ccc_pykhaos_model.pkl\n",
      "Loading object from /Users/csanc109/Documents/Projects/Churn/CCC_model/results/ccc_pykhaos/20180430/20181223_112543/model/ccc_pykhaos_model.pkl\n",
      "Calling to __setstate H2O Factory\n",
      "['config', 'params', 'modeler_save_path', 'feature_importance']\n",
      "<type 'NoneType'>\n",
      "Calling to __setstate in model\n",
      "['model_id', 'model_info', 'yaml_filename', 'cols', 'cat_encoding', 'model']\n",
      "Loaded modeler from path /Users/csanc109/Documents/Projects/Churn/CCC_model/results/ccc_pykhaos/20180430/20181223_112543/model/h2o_factory/Grid_DRF_py_49_sid_87a8_model_python_1545560455137_1_model_2\n",
      "Creating directory /Users/csanc109/Documents/Projects/Churn/CCC_model/results/ccc_pykhaos/20180430/20181223_112543/reporter\n",
      "Loading report template from '/Users/csanc109/devel/use-cases/churn/models/ccc/input/xlsx_report_template.yaml'\n",
      "Saved in '/Users/csanc109/Documents/Projects/Churn/CCC_model/results/ccc_pykhaos/20180430/20181223_112543/reporter/ccc_pykhaos_model_20181223_112545.xlsx'\n",
      "Informe generado! /Users/csanc109/Documents/Projects/Churn/CCC_model/results/ccc_pykhaos/20180430/20181223_112543/reporter\n"
     ]
    },
    {
     "data": {
      "application/javascript": [
       "$(document).ready(\n",
       "    function() {\n",
       "        function appendUniqueDiv(){\n",
       "            // append a div with our uuid so we can check that it's already\n",
       "            // been sent and avoid duplicates on page reload\n",
       "            var notifiedDiv = document.createElement(\"div\")\n",
       "            notifiedDiv.id = \"88c1f68d-641a-451f-bb17-32ccaa4e6a4d\"\n",
       "            element.append(notifiedDiv)\n",
       "        }\n",
       "\n",
       "        // only send notifications if the pageload is complete; this will\n",
       "        // help stop extra notifications when a saved notebook is loaded,\n",
       "        // which during testing gives us state \"interactive\", not \"complete\"\n",
       "        if (document.readyState === 'complete') {\n",
       "            // check for the div that signifies that the notification\n",
       "            // was already sent\n",
       "            if (document.getElementById(\"88c1f68d-641a-451f-bb17-32ccaa4e6a4d\") === null) {\n",
       "                var notificationPayload = {\"body\": \"CCC_model_pykahos: reporter finished \", \"requireInteraction\": false, \"icon\": \"/static/base/images/favicon.ico\"};\n",
       "                if (Notification.permission !== 'denied') {\n",
       "                    if (Notification.permission !== 'granted') { \n",
       "                        Notification.requestPermission(function (permission) {\n",
       "                            if(!('permission' in Notification)) {\n",
       "                                Notification.permission = permission\n",
       "                            }\n",
       "                        })\n",
       "                    }\n",
       "                    if (Notification.permission === 'granted') {\n",
       "                    var notification = new Notification(\"Jupyter Notebook\", notificationPayload)\n",
       "                    appendUniqueDiv()\n",
       "                    notification.onclick = function () {\n",
       "                        window.focus();\n",
       "                        this.close();\n",
       "                        };\n",
       "                    } \n",
       "                }     \n",
       "            }\n",
       "        }\n",
       "    }\n",
       ")\n"
      ],
      "text/plain": [
       "<IPython.core.display.Javascript object>"
      ]
     },
     "metadata": {},
     "output_type": "display_data"
    }
   ],
   "source": [
    "%%notify -m \"CCC_model_pykahos: reporter finished \"\n",
    "\n",
    "from pykhaos.reporting.reporter import Reporter\n",
    "from churn.models.ccc.utils.constants import SAVING_PATH\n",
    "print(SAVING_PATH)\n",
    "\n",
    "save_reporter_path = os.path.join(SAVING_PATH, \"results\", MODEL_NAME, str(input_data[YAML_DATA_PREPARATION][YAML_CLOSING_DAY]), unique_dirname, \"reporter\")\n",
    "\n",
    "reporter = (Reporter(model_name, save_model_path, xlsx_report_template_path)\n",
    "     .set_saving_path(save_reporter_path)\n",
    "     .set_extra_info(CCC_TRAIN_TEST_YAML)\n",
    "           )\n",
    "reporter.create()\n",
    "\n",
    "print 'Informe generado! {}'.format(save_reporter_path)"
   ]
  },
  {
   "cell_type": "code",
   "execution_count": 19,
   "metadata": {
    "collapsed": false
   },
   "outputs": [
    {
     "name": "stdout",
     "output_type": "stream",
     "text": [
      "Export File progress: |███████████████████████████████████████████████████| 100%\n"
     ]
    }
   ],
   "source": [
    "type(modeler.get_sets())\n",
    "\n",
    "import h2o\n",
    "h2o.export_file(modeler.get_sets(), os.path.join(save_model_path, \"sets.csv\"), force=True)\n",
    "#h2o.export_file(frame, path, force=False)[source]"
   ]
  },
  {
   "cell_type": "markdown",
   "metadata": {
    "collapsed": false
   },
   "source": [
    "# PREDICTION"
   ]
  },
  {
   "cell_type": "code",
   "execution_count": 32,
   "metadata": {
    "collapsed": false
   },
   "outputs": [
    {
     "name": "stdout",
     "output_type": "stream",
     "text": [
      "Loading model /Users/csanc109/Documents/Projects/Churn/CCC_model/results/ccc_pykhaos/20180430/20181223_112543/model/ccc_pykhaos_model.pkl\n",
      "Loading object from /Users/csanc109/Documents/Projects/Churn/CCC_model/results/ccc_pykhaos/20180430/20181223_112543/model/ccc_pykhaos_model.pkl\n",
      "Calling to __setstate H2O Factory\n",
      "['config', 'params', 'modeler_save_path', 'feature_importance']\n",
      "<type 'NoneType'>\n",
      "Calling to __setstate in model\n",
      "['model_id', 'model_info', 'yaml_filename', 'cols', 'cat_encoding', 'model']\n",
      "Loaded modeler from path /Users/csanc109/Documents/Projects/Churn/CCC_model/results/ccc_pykhaos/20180430/20181223_112543/model/h2o_factory/Grid_DRF_py_49_sid_87a8_model_python_1545560455137_1_model_2\n",
      "!!!!!!! HARD CODED !!!!!!!!!!\n",
      "Found /Users/csanc109/Documents/Projects/Churn/CCC_model/data/unlabeled/df_c20181207_n60_comercial_msisdn. Loading...\n",
      "set_h2o_training_data - filename /Users/csanc109/Documents/Projects/Churn/CCC_model/data/unlabeled/df_c20181207_n60_comercial_msisdn\n"
     ]
    },
    {
     "name": "stderr",
     "output_type": "stream",
     "text": [
      "20181223-130429 [INFO ] ***** locked=False healthy=True\n",
      "20181223-130429 [INFO ] Trying to import '/Users/csanc109/Documents/Projects/Churn/CCC_model/data/unlabeled/df_c20181207_n60_comercial_msisdn' hdfs=False parquet=False\n"
     ]
    },
    {
     "name": "stdout",
     "output_type": "stream",
     "text": [
      "Parse progress: |█████████████████████████████████████████████████████ (failed)  93%\n"
     ]
    },
    {
     "ename": "EnvironmentError",
     "evalue": "Job with key $03017f00000170d3ffffffff$_89fa32476a57ae1d91e95968def44b5c failed with an exception: DistributedException from /127.0.0.1:54127: 'GC overhead limit exceeded', caused by java.lang.OutOfMemoryError: GC overhead limit exceeded\nstacktrace: \nDistributedException from /127.0.0.1:54127: 'GC overhead limit exceeded', caused by java.lang.OutOfMemoryError: GC overhead limit exceeded\n\tat water.MRTask.getResult(MRTask.java:478)\n\tat water.MRTask.getResult(MRTask.java:486)\n\tat water.MRTask.doAll(MRTask.java:402)\n\tat water.parser.ParseDataset.parseAllKeys(ParseDataset.java:257)\n\tat water.parser.ParseDataset.access$000(ParseDataset.java:29)\n\tat water.parser.ParseDataset$ParserFJTask.compute2(ParseDataset.java:206)\n\tat water.H2O$H2OCountedCompleter.compute(H2O.java:1310)\n\tat jsr166y.CountedCompleter.exec(CountedCompleter.java:468)\n\tat jsr166y.ForkJoinTask.doExec(ForkJoinTask.java:263)\n\tat jsr166y.ForkJoinPool$WorkQueue.runTask(ForkJoinPool.java:974)\n\tat jsr166y.ForkJoinPool.runWorker(ForkJoinPool.java:1477)\n\tat jsr166y.ForkJoinWorkerThread.run(ForkJoinWorkerThread.java:104)\nCaused by: java.lang.OutOfMemoryError: GC overhead limit exceeded\n",
     "output_type": "error",
     "traceback": [
      "\u001b[0;31m---------------------------------------------------------------------------\u001b[0m",
      "\u001b[0;31mEnvironmentError\u001b[0m                          Traceback (most recent call last)",
      "\u001b[0;32m<ipython-input-32-5e8c963979f2>\u001b[0m in \u001b[0;36m<module>\u001b[0;34m()\u001b[0m\n\u001b[1;32m     10\u001b[0m     \u001b[0;32massert\u001b[0m\u001b[0;34m(\u001b[0m\u001b[0;36m1\u001b[0m\u001b[0;34m==\u001b[0m\u001b[0;36m2\u001b[0m\u001b[0;34m)\u001b[0m\u001b[0;34m\u001b[0m\u001b[0m\n\u001b[1;32m     11\u001b[0m \u001b[0;32mfrom\u001b[0m \u001b[0mchurn\u001b[0m\u001b[0;34m.\u001b[0m\u001b[0mmodels\u001b[0m\u001b[0;34m.\u001b[0m\u001b[0mccc\u001b[0m\u001b[0;34m.\u001b[0m\u001b[0mdata\u001b[0m\u001b[0;34m.\u001b[0m\u001b[0mccc_data\u001b[0m \u001b[0;32mimport\u001b[0m  \u001b[0mCCC_Data\u001b[0m\u001b[0;34m\u001b[0m\u001b[0m\n\u001b[0;32m---> 12\u001b[0;31m \u001b[0mpredict_ccc_data_obj\u001b[0m \u001b[0;34m=\u001b[0m \u001b[0mCCC_Data\u001b[0m\u001b[0;34m(\u001b[0m\u001b[0mfilename\u001b[0m\u001b[0;34m=\u001b[0m\u001b[0mfile_for_predict\u001b[0m\u001b[0;34m,\u001b[0m \u001b[0mpkey_cols\u001b[0m\u001b[0;34m=\u001b[0m\u001b[0;34m[\u001b[0m\u001b[0;34m\"msisdn\"\u001b[0m\u001b[0;34m]\u001b[0m\u001b[0;34m,\u001b[0m \u001b[0minput_data\u001b[0m\u001b[0;34m=\u001b[0m\u001b[0mNone\u001b[0m\u001b[0;34m)\u001b[0m\u001b[0;34m\u001b[0m\u001b[0m\n\u001b[0m\u001b[1;32m     13\u001b[0m \u001b[0;32mprint\u001b[0m\u001b[0;34m(\u001b[0m\u001b[0;34m\"Ended CCC_Data\"\u001b[0m\u001b[0;34m)\u001b[0m\u001b[0;34m\u001b[0m\u001b[0m\n\u001b[1;32m     14\u001b[0m \u001b[0;32mprint\u001b[0m\u001b[0;34m(\u001b[0m\u001b[0;34m\"User wants to make predictions\"\u001b[0m\u001b[0;34m)\u001b[0m\u001b[0;34m\u001b[0m\u001b[0m\n",
      "\u001b[0;32m/Users/csanc109/devel/use-cases/churn/models/ccc/data/ccc_data.pyc\u001b[0m in \u001b[0;36m__init__\u001b[0;34m(self, input_data, data, vars, key, filename, pkey_cols)\u001b[0m\n\u001b[1;32m     36\u001b[0m         \u001b[0mAbstractData\u001b[0m\u001b[0;34m.\u001b[0m\u001b[0m__init__\u001b[0m\u001b[0;34m(\u001b[0m\u001b[0mself\u001b[0m\u001b[0;34m)\u001b[0m\u001b[0;34m\u001b[0m\u001b[0m\n\u001b[1;32m     37\u001b[0m         \u001b[0;32mif\u001b[0m \u001b[0mdata\u001b[0m \u001b[0;32mis\u001b[0m \u001b[0mNone\u001b[0m\u001b[0;34m:\u001b[0m\u001b[0;34m\u001b[0m\u001b[0m\n\u001b[0;32m---> 38\u001b[0;31m             \u001b[0mself\u001b[0m\u001b[0;34m.\u001b[0m\u001b[0m__data\u001b[0m \u001b[0;34m=\u001b[0m \u001b[0mself\u001b[0m\u001b[0;34m.\u001b[0m\u001b[0m__create_data\u001b[0m\u001b[0;34m(\u001b[0m\u001b[0minput_data\u001b[0m\u001b[0;34m,\u001b[0m \u001b[0mkey\u001b[0m\u001b[0;34m,\u001b[0m \u001b[0mfilename\u001b[0m\u001b[0;34m)\u001b[0m\u001b[0;34m\u001b[0m\u001b[0m\n\u001b[0m\u001b[1;32m     39\u001b[0m             \u001b[0mself\u001b[0m\u001b[0;34m.\u001b[0m\u001b[0m__pkey_cols\u001b[0m \u001b[0;34m=\u001b[0m \u001b[0mpkey_cols\u001b[0m \u001b[0;32mif\u001b[0m \u001b[0mpkey_cols\u001b[0m \u001b[0;32melse\u001b[0m \u001b[0;34m(\u001b[0m\u001b[0;34m[\u001b[0m\u001b[0minput_data\u001b[0m\u001b[0;34m[\u001b[0m\u001b[0mYAML_DATA_PREPARATION\u001b[0m\u001b[0;34m]\u001b[0m\u001b[0;34m[\u001b[0m\u001b[0mYAML_AGG_BY\u001b[0m\u001b[0;34m]\u001b[0m\u001b[0;34m]\u001b[0m \u001b[0;32mif\u001b[0m \u001b[0minput_data\u001b[0m \u001b[0;32melse\u001b[0m \u001b[0mNone\u001b[0m\u001b[0;34m)\u001b[0m\u001b[0;34m\u001b[0m\u001b[0m\n\u001b[1;32m     40\u001b[0m             \u001b[0;32mif\u001b[0m \u001b[0;32mnot\u001b[0m \u001b[0mself\u001b[0m\u001b[0;34m.\u001b[0m\u001b[0m__pkey_cols\u001b[0m\u001b[0;34m:\u001b[0m\u001b[0;34m\u001b[0m\u001b[0m\n",
      "\u001b[0;32m/Users/csanc109/devel/use-cases/churn/models/ccc/data/ccc_data.pyc\u001b[0m in \u001b[0;36m__create_data\u001b[0;34m(self, input_data, key, filename)\u001b[0m\n\u001b[1;32m     96\u001b[0m         \u001b[0;32mprint\u001b[0m\u001b[0;34m(\u001b[0m\u001b[0;34m\"Found {}. Loading...\"\u001b[0m\u001b[0;34m.\u001b[0m\u001b[0mformat\u001b[0m\u001b[0;34m(\u001b[0m\u001b[0mhdfs_dir\u001b[0m\u001b[0;34m)\u001b[0m\u001b[0;34m)\u001b[0m\u001b[0;34m\u001b[0m\u001b[0m\n\u001b[1;32m     97\u001b[0m \u001b[0;34m\u001b[0m\u001b[0m\n\u001b[0;32m---> 98\u001b[0;31m         \u001b[0mdf_h2o\u001b[0m \u001b[0;34m=\u001b[0m \u001b[0mset_h2o_training_data\u001b[0m\u001b[0;34m(\u001b[0m\u001b[0mhdfs_dir\u001b[0m\u001b[0;34m,\u001b[0m \u001b[0mhdfs\u001b[0m\u001b[0;34m=\u001b[0m\u001b[0mhdfs\u001b[0m\u001b[0;34m,\u001b[0m \u001b[0mparquet\u001b[0m\u001b[0;34m=\u001b[0m\u001b[0mFalse\u001b[0m\u001b[0;34m)\u001b[0m \u001b[0;31m# type <class 'h2o.frame.H2OFrame'>\u001b[0m\u001b[0;34m\u001b[0m\u001b[0m\n\u001b[0m\u001b[1;32m     99\u001b[0m         \u001b[0;32mreturn\u001b[0m \u001b[0mdf_h2o\u001b[0m\u001b[0;34m\u001b[0m\u001b[0m\n\u001b[1;32m    100\u001b[0m \u001b[0;34m\u001b[0m\u001b[0m\n",
      "\u001b[0;32m/Users/csanc109/devel/use-cases/churn/models/ccc/data/ccc_data.pyc\u001b[0m in \u001b[0;36mset_h2o_training_data\u001b[0;34m(filename, hdfs, parquet)\u001b[0m\n\u001b[1;32m    170\u001b[0m \u001b[0;34m\u001b[0m\u001b[0m\n\u001b[1;32m    171\u001b[0m     \u001b[0;32mfrom\u001b[0m \u001b[0mpykhaos\u001b[0m\u001b[0;34m.\u001b[0m\u001b[0mmodeling\u001b[0m\u001b[0;34m.\u001b[0m\u001b[0mh2o\u001b[0m\u001b[0;34m.\u001b[0m\u001b[0mh2o_functions\u001b[0m \u001b[0;32mimport\u001b[0m \u001b[0mimport_file_to_h2o_frame\u001b[0m\u001b[0;34m\u001b[0m\u001b[0m\n\u001b[0;32m--> 172\u001b[0;31m     \u001b[0mdf_h2o_imported\u001b[0m \u001b[0;34m=\u001b[0m \u001b[0mimport_file_to_h2o_frame\u001b[0m\u001b[0;34m(\u001b[0m\u001b[0mfilename\u001b[0m\u001b[0;34m,\u001b[0m \u001b[0mverbose\u001b[0m\u001b[0;34m=\u001b[0m\u001b[0mTrue\u001b[0m\u001b[0;34m,\u001b[0m  \u001b[0mhdfs\u001b[0m\u001b[0;34m=\u001b[0m\u001b[0mhdfs\u001b[0m\u001b[0;34m,\u001b[0m \u001b[0mparquet\u001b[0m\u001b[0;34m=\u001b[0m\u001b[0mparquet\u001b[0m\u001b[0;34m)\u001b[0m\u001b[0;34m\u001b[0m\u001b[0m\n\u001b[0m\u001b[1;32m    173\u001b[0m \u001b[0;34m\u001b[0m\u001b[0m\n\u001b[1;32m    174\u001b[0m     \u001b[0mdf_h2o_imported\u001b[0m \u001b[0;34m=\u001b[0m \u001b[0mdf_h2o_imported\u001b[0m\u001b[0;34m[\u001b[0m\u001b[0mdf_h2o_imported\u001b[0m\u001b[0;34m[\u001b[0m\u001b[0;34m\"label\"\u001b[0m\u001b[0;34m]\u001b[0m\u001b[0;34m!=\u001b[0m\u001b[0;34m-\u001b[0m\u001b[0;36m1\u001b[0m\u001b[0;34m]\u001b[0m\u001b[0;34m\u001b[0m\u001b[0m\n",
      "\u001b[0;32m/Users/csanc109/devel/pykhaos/modeling/h2o/h2o_functions.pyc\u001b[0m in \u001b[0;36mimport_file_to_h2o_frame\u001b[0;34m(path_to_filename_df, verbose, hdfs, parquet)\u001b[0m\n\u001b[1;32m    112\u001b[0m         \u001b[0;31m#print(\"Loading csv file local {}\".format(os.path.join(\"/var/SP/data/home/csanc109/tmp/\", path_to_filename_df.split(os.path.sep)[-1])))\u001b[0m\u001b[0;34m\u001b[0m\u001b[0;34m\u001b[0m\u001b[0m\n\u001b[1;32m    113\u001b[0m         \u001b[0;31m#df_h2o_imported = h2o.import_file(os.path.join(\"/var/SP/data/home/csanc109/tmp/\", path_to_filename_df.split(os.path.sep)[-1]), pattern=\".*\\.csv\")\u001b[0m\u001b[0;34m\u001b[0m\u001b[0;34m\u001b[0m\u001b[0m\n\u001b[0;32m--> 114\u001b[0;31m         \u001b[0mdf_h2o_imported\u001b[0m \u001b[0;34m=\u001b[0m \u001b[0mh2o\u001b[0m\u001b[0;34m.\u001b[0m\u001b[0mimport_file\u001b[0m\u001b[0;34m(\u001b[0m\u001b[0mpath_to_filename_df\u001b[0m\u001b[0;34m,\u001b[0m \u001b[0mpattern\u001b[0m\u001b[0;34m=\u001b[0m\u001b[0;34m\".*\\.csv\"\u001b[0m\u001b[0;34m)\u001b[0m\u001b[0;34m\u001b[0m\u001b[0m\n\u001b[0m\u001b[1;32m    115\u001b[0m \u001b[0;34m\u001b[0m\u001b[0m\n\u001b[1;32m    116\u001b[0m         \u001b[0;32mreturn\u001b[0m \u001b[0mdf_h2o_imported\u001b[0m\u001b[0;34m\u001b[0m\u001b[0m\n",
      "\u001b[0;32m/Users/csanc109/.local/lib/python2.7/site-packages/h2o/h2o.pyc\u001b[0m in \u001b[0;36mimport_file\u001b[0;34m(path, destination_frame, parse, header, sep, col_names, col_types, na_strings, pattern, skipped_columns)\u001b[0m\n\u001b[1;32m    431\u001b[0m         \u001b[0;32mreturn\u001b[0m \u001b[0mlazy_import\u001b[0m\u001b[0;34m(\u001b[0m\u001b[0mpath\u001b[0m\u001b[0;34m,\u001b[0m \u001b[0mpattern\u001b[0m\u001b[0;34m)\u001b[0m\u001b[0;34m\u001b[0m\u001b[0m\n\u001b[1;32m    432\u001b[0m     \u001b[0;32melse\u001b[0m\u001b[0;34m:\u001b[0m\u001b[0;34m\u001b[0m\u001b[0m\n\u001b[0;32m--> 433\u001b[0;31m         \u001b[0;32mreturn\u001b[0m \u001b[0mH2OFrame\u001b[0m\u001b[0;34m(\u001b[0m\u001b[0;34m)\u001b[0m\u001b[0;34m.\u001b[0m\u001b[0m_import_parse\u001b[0m\u001b[0;34m(\u001b[0m\u001b[0mpath\u001b[0m\u001b[0;34m,\u001b[0m \u001b[0mpattern\u001b[0m\u001b[0;34m,\u001b[0m \u001b[0mdestination_frame\u001b[0m\u001b[0;34m,\u001b[0m \u001b[0mheader\u001b[0m\u001b[0;34m,\u001b[0m \u001b[0msep\u001b[0m\u001b[0;34m,\u001b[0m \u001b[0mcol_names\u001b[0m\u001b[0;34m,\u001b[0m \u001b[0mcol_types\u001b[0m\u001b[0;34m,\u001b[0m \u001b[0mna_strings\u001b[0m\u001b[0;34m,\u001b[0m \u001b[0mskipped_columns\u001b[0m\u001b[0;34m)\u001b[0m\u001b[0;34m\u001b[0m\u001b[0m\n\u001b[0m\u001b[1;32m    434\u001b[0m \u001b[0;34m\u001b[0m\u001b[0m\n\u001b[1;32m    435\u001b[0m \u001b[0;34m\u001b[0m\u001b[0m\n",
      "\u001b[0;32m/Users/csanc109/.local/lib/python2.7/site-packages/h2o/frame.pyc\u001b[0m in \u001b[0;36m_import_parse\u001b[0;34m(self, path, pattern, destination_frame, header, separator, column_names, column_types, na_strings, skipped_columns)\u001b[0m\n\u001b[1;32m    314\u001b[0m             \u001b[0mpath\u001b[0m \u001b[0;34m=\u001b[0m \u001b[0mos\u001b[0m\u001b[0;34m.\u001b[0m\u001b[0mpath\u001b[0m\u001b[0;34m.\u001b[0m\u001b[0mabspath\u001b[0m\u001b[0;34m(\u001b[0m\u001b[0mpath\u001b[0m\u001b[0;34m)\u001b[0m\u001b[0;34m\u001b[0m\u001b[0m\n\u001b[1;32m    315\u001b[0m         \u001b[0mrawkey\u001b[0m \u001b[0;34m=\u001b[0m \u001b[0mh2o\u001b[0m\u001b[0;34m.\u001b[0m\u001b[0mlazy_import\u001b[0m\u001b[0;34m(\u001b[0m\u001b[0mpath\u001b[0m\u001b[0;34m,\u001b[0m \u001b[0mpattern\u001b[0m\u001b[0;34m)\u001b[0m\u001b[0;34m\u001b[0m\u001b[0m\n\u001b[0;32m--> 316\u001b[0;31m         \u001b[0mself\u001b[0m\u001b[0;34m.\u001b[0m\u001b[0m_parse\u001b[0m\u001b[0;34m(\u001b[0m\u001b[0mrawkey\u001b[0m\u001b[0;34m,\u001b[0m \u001b[0mdestination_frame\u001b[0m\u001b[0;34m,\u001b[0m \u001b[0mheader\u001b[0m\u001b[0;34m,\u001b[0m \u001b[0mseparator\u001b[0m\u001b[0;34m,\u001b[0m \u001b[0mcolumn_names\u001b[0m\u001b[0;34m,\u001b[0m \u001b[0mcolumn_types\u001b[0m\u001b[0;34m,\u001b[0m \u001b[0mna_strings\u001b[0m\u001b[0;34m,\u001b[0m \u001b[0mskipped_columns\u001b[0m\u001b[0;34m)\u001b[0m\u001b[0;34m\u001b[0m\u001b[0m\n\u001b[0m\u001b[1;32m    317\u001b[0m         \u001b[0;32mreturn\u001b[0m \u001b[0mself\u001b[0m\u001b[0;34m\u001b[0m\u001b[0m\n\u001b[1;32m    318\u001b[0m \u001b[0;34m\u001b[0m\u001b[0m\n",
      "\u001b[0;32m/Users/csanc109/.local/lib/python2.7/site-packages/h2o/frame.pyc\u001b[0m in \u001b[0;36m_parse\u001b[0;34m(self, rawkey, destination_frame, header, separator, column_names, column_types, na_strings, skipped_columns)\u001b[0m\n\u001b[1;32m    328\u001b[0m                na_strings=None, skipped_columns=None):\n\u001b[1;32m    329\u001b[0m         \u001b[0msetup\u001b[0m \u001b[0;34m=\u001b[0m \u001b[0mh2o\u001b[0m\u001b[0;34m.\u001b[0m\u001b[0mparse_setup\u001b[0m\u001b[0;34m(\u001b[0m\u001b[0mrawkey\u001b[0m\u001b[0;34m,\u001b[0m \u001b[0mdestination_frame\u001b[0m\u001b[0;34m,\u001b[0m \u001b[0mheader\u001b[0m\u001b[0;34m,\u001b[0m \u001b[0mseparator\u001b[0m\u001b[0;34m,\u001b[0m \u001b[0mcolumn_names\u001b[0m\u001b[0;34m,\u001b[0m \u001b[0mcolumn_types\u001b[0m\u001b[0;34m,\u001b[0m \u001b[0mna_strings\u001b[0m\u001b[0;34m,\u001b[0m \u001b[0mskipped_columns\u001b[0m\u001b[0;34m)\u001b[0m\u001b[0;34m\u001b[0m\u001b[0m\n\u001b[0;32m--> 330\u001b[0;31m         \u001b[0;32mreturn\u001b[0m \u001b[0mself\u001b[0m\u001b[0;34m.\u001b[0m\u001b[0m_parse_raw\u001b[0m\u001b[0;34m(\u001b[0m\u001b[0msetup\u001b[0m\u001b[0;34m)\u001b[0m\u001b[0;34m\u001b[0m\u001b[0m\n\u001b[0m\u001b[1;32m    331\u001b[0m \u001b[0;34m\u001b[0m\u001b[0m\n\u001b[1;32m    332\u001b[0m \u001b[0;34m\u001b[0m\u001b[0m\n",
      "\u001b[0;32m/Users/csanc109/.local/lib/python2.7/site-packages/h2o/frame.pyc\u001b[0m in \u001b[0;36m_parse_raw\u001b[0;34m(self, setup)\u001b[0m\n\u001b[1;32m    354\u001b[0m         \u001b[0mp\u001b[0m\u001b[0;34m[\u001b[0m\u001b[0;34m'source_frames'\u001b[0m\u001b[0;34m]\u001b[0m \u001b[0;34m=\u001b[0m \u001b[0;34m[\u001b[0m\u001b[0m_quoted\u001b[0m\u001b[0;34m(\u001b[0m\u001b[0msrc\u001b[0m\u001b[0;34m[\u001b[0m\u001b[0;34m'name'\u001b[0m\u001b[0;34m]\u001b[0m\u001b[0;34m)\u001b[0m \u001b[0;32mfor\u001b[0m \u001b[0msrc\u001b[0m \u001b[0;32min\u001b[0m \u001b[0msetup\u001b[0m\u001b[0;34m[\u001b[0m\u001b[0;34m'source_frames'\u001b[0m\u001b[0;34m]\u001b[0m\u001b[0;34m]\u001b[0m\u001b[0;34m\u001b[0m\u001b[0m\n\u001b[1;32m    355\u001b[0m \u001b[0;34m\u001b[0m\u001b[0m\n\u001b[0;32m--> 356\u001b[0;31m         \u001b[0mH2OJob\u001b[0m\u001b[0;34m(\u001b[0m\u001b[0mh2o\u001b[0m\u001b[0;34m.\u001b[0m\u001b[0mapi\u001b[0m\u001b[0;34m(\u001b[0m\u001b[0;34m\"POST /3/Parse\"\u001b[0m\u001b[0;34m,\u001b[0m \u001b[0mdata\u001b[0m\u001b[0;34m=\u001b[0m\u001b[0mp\u001b[0m\u001b[0;34m)\u001b[0m\u001b[0;34m,\u001b[0m \u001b[0;34m\"Parse\"\u001b[0m\u001b[0;34m)\u001b[0m\u001b[0;34m.\u001b[0m\u001b[0mpoll\u001b[0m\u001b[0;34m(\u001b[0m\u001b[0;34m)\u001b[0m\u001b[0;34m\u001b[0m\u001b[0m\n\u001b[0m\u001b[1;32m    357\u001b[0m         \u001b[0;31m# Need to return a Frame here for nearly all callers\u001b[0m\u001b[0;34m\u001b[0m\u001b[0;34m\u001b[0m\u001b[0m\n\u001b[1;32m    358\u001b[0m         \u001b[0;31m# ... but job stats returns only a dest_key, requiring another REST call to get nrow/ncol\u001b[0m\u001b[0;34m\u001b[0m\u001b[0;34m\u001b[0m\u001b[0m\n",
      "\u001b[0;32m/Users/csanc109/.local/lib/python2.7/site-packages/h2o/job.pyc\u001b[0m in \u001b[0;36mpoll\u001b[0;34m(self, verbose_model_scoring_history)\u001b[0m\n\u001b[1;32m     75\u001b[0m             \u001b[0;32mif\u001b[0m \u001b[0;34m(\u001b[0m\u001b[0misinstance\u001b[0m\u001b[0;34m(\u001b[0m\u001b[0mself\u001b[0m\u001b[0;34m.\u001b[0m\u001b[0mjob\u001b[0m\u001b[0;34m,\u001b[0m \u001b[0mdict\u001b[0m\u001b[0;34m)\u001b[0m\u001b[0;34m)\u001b[0m \u001b[0;32mand\u001b[0m \u001b[0;34m(\u001b[0m\u001b[0;34m\"stacktrace\"\u001b[0m \u001b[0;32min\u001b[0m \u001b[0mlist\u001b[0m\u001b[0;34m(\u001b[0m\u001b[0mself\u001b[0m\u001b[0;34m.\u001b[0m\u001b[0mjob\u001b[0m\u001b[0;34m)\u001b[0m\u001b[0;34m)\u001b[0m\u001b[0;34m:\u001b[0m\u001b[0;34m\u001b[0m\u001b[0m\n\u001b[1;32m     76\u001b[0m                 raise EnvironmentError(\"Job with key {} failed with an exception: {}\\nstacktrace: \"\n\u001b[0;32m---> 77\u001b[0;31m                                        \"\\n{}\".format(self.job_key, self.exception, self.job[\"stacktrace\"]))\n\u001b[0m\u001b[1;32m     78\u001b[0m             \u001b[0;32melse\u001b[0m\u001b[0;34m:\u001b[0m\u001b[0;34m\u001b[0m\u001b[0m\n\u001b[1;32m     79\u001b[0m                 \u001b[0;32mraise\u001b[0m \u001b[0mEnvironmentError\u001b[0m\u001b[0;34m(\u001b[0m\u001b[0;34m\"Job with key %s failed with an exception: %s\"\u001b[0m \u001b[0;34m%\u001b[0m \u001b[0;34m(\u001b[0m\u001b[0mself\u001b[0m\u001b[0;34m.\u001b[0m\u001b[0mjob_key\u001b[0m\u001b[0;34m,\u001b[0m \u001b[0mself\u001b[0m\u001b[0;34m.\u001b[0m\u001b[0mexception\u001b[0m\u001b[0;34m)\u001b[0m\u001b[0;34m)\u001b[0m\u001b[0;34m\u001b[0m\u001b[0m\n",
      "\u001b[0;31mEnvironmentError\u001b[0m: Job with key $03017f00000170d3ffffffff$_89fa32476a57ae1d91e95968def44b5c failed with an exception: DistributedException from /127.0.0.1:54127: 'GC overhead limit exceeded', caused by java.lang.OutOfMemoryError: GC overhead limit exceeded\nstacktrace: \nDistributedException from /127.0.0.1:54127: 'GC overhead limit exceeded', caused by java.lang.OutOfMemoryError: GC overhead limit exceeded\n\tat water.MRTask.getResult(MRTask.java:478)\n\tat water.MRTask.getResult(MRTask.java:486)\n\tat water.MRTask.doAll(MRTask.java:402)\n\tat water.parser.ParseDataset.parseAllKeys(ParseDataset.java:257)\n\tat water.parser.ParseDataset.access$000(ParseDataset.java:29)\n\tat water.parser.ParseDataset$ParserFJTask.compute2(ParseDataset.java:206)\n\tat water.H2O$H2OCountedCompleter.compute(H2O.java:1310)\n\tat jsr166y.CountedCompleter.exec(CountedCompleter.java:468)\n\tat jsr166y.ForkJoinTask.doExec(ForkJoinTask.java:263)\n\tat jsr166y.ForkJoinPool$WorkQueue.runTask(ForkJoinPool.java:974)\n\tat jsr166y.ForkJoinPool.runWorker(ForkJoinPool.java:1477)\n\tat jsr166y.ForkJoinWorkerThread.run(ForkJoinWorkerThread.java:104)\nCaused by: java.lang.OutOfMemoryError: GC overhead limit exceeded\n"
     ]
    }
   ],
   "source": [
    "from churn.utils.constants import *\n",
    "\n",
    "file_for_predict = '/Users/csanc109/Documents/Projects/Churn/CCC_model/data/unlabeled/df_c20181207_n60_comercial_msisdn'\n",
    "\n",
    "\n",
    "modeler_predict = Model.load(model_name, save_model_path)\n",
    "#print(modeler_predict.get_model().modeler)\n",
    "if not input_data[YAML_PREDICT][YAML_DO_PREDICT]:\n",
    "    print(\"User does not want to make predictions\")\n",
    "    assert(1==2)\n",
    "from churn.models.ccc.data.ccc_data import  CCC_Data\n",
    "predict_ccc_data_obj = CCC_Data(filename=file_for_predict, pkey_cols=[\"msisdn\"], input_data=None)\n",
    "print(\"Ended CCC_Data\")\n",
    "print(\"User wants to make predictions\")\n",
    "predi=modeler_predict.predict(predict_ccc_data_obj)    "
   ]
  },
  {
   "cell_type": "code",
   "execution_count": null,
   "metadata": {
    "collapsed": true
   },
   "outputs": [],
   "source": [
    "#df_pandas_predict = data_abs_data_obj.data().as_data_frame()\n",
    "\n",
    "df_pandas_predicciones = predict_ccc_data_obj.data().as_data_frame()\n",
    "#df_scored_hidden= df_pandas_predicciones.rename(columns={\"p1\": \"score\", PREPAID_TABLE_TAG + \"msisdn\": \"msisdn_hidden\"})\n",
    "\n",
    "df_h2o_predict = my_project.predict_model_obj.test_set.dataset\n",
    "df_preds = my_project.predict_model_obj.test_set.df_preds\n",
    "df_scored_hidden = df_h2o_predict[PREPAID_TABLE_TAG + \"msisdn\"].as_data_frame().join(df_preds[\"p1\"])\n",
    "\n",
    "\n",
    "local_dir_deliverables = '/Users/csanc109/Documents/Projects/Churn/CCC_model/Deliveries'\n",
    "from pykhaos.delivery.prepare_delivery import DeliveryManager\n",
    "campaign_date = input_data[JSON_CAMPAIGN][JSON_CAMPAIGN_DATE]\n",
    "\n",
    "\n",
    "dm = DeliveryManager(my_project.project_obj.spark, PROJECT_NAME, campaign_date, df_scored_hidden, local_dir_deliverables)\n",
    "dm.create_delivery()"
   ]
  },
  {
   "cell_type": "markdown",
   "metadata": {},
   "source": [
    "# POST PROCESS ANALYSIS"
   ]
  },
  {
   "cell_type": "code",
   "execution_count": null,
   "metadata": {
    "collapsed": false
   },
   "outputs": [],
   "source": [
    "data = data_abs_data_obj.data()\n",
    "df_data = data.as_data_frame()\n",
    "data.types\n",
    "\n",
    "train = modeler.get_model_info().get(\"model train metrics\")[\"scores\"]\n",
    "test = modeler.get_model_info().get(\"model test metrics\")[\"scores\"]"
   ]
  },
  {
   "cell_type": "code",
   "execution_count": null,
   "metadata": {
    "collapsed": false
   },
   "outputs": [],
   "source": [
    "import matplotlib.pyplot as plt\n",
    "%matplotlib inline  \n",
    "\n",
    "def show_hist(df):\n",
    "    _, bins, _ = plt.hist(train[train[\"label\"]==0][\"SCORE\"], bins=50, range=[0, train[\"SCORE\"].max()], normed=True, label=\"0\")\n",
    "    _ = plt.hist(train[train[\"label\"]==1][\"SCORE\"], bins=bins, alpha=0.5, normed=True, label=\"1\")\n",
    "    plt.legend()\n",
    "    plt.show()\n",
    "\n",
    "show_hist(train)\n",
    "show_hist(test)"
   ]
  },
  {
   "cell_type": "code",
   "execution_count": null,
   "metadata": {
    "collapsed": false
   },
   "outputs": [],
   "source": [
    "from pykhaos.reporting.utils.plots import univariate_analysis, univariate_hist\n",
    "df_uni = univariate_analysis(df_data, \"DIR_FACTURA4_MOLA\", target=\"label\", sort=None)\n",
    "univariate_hist(df_uni, \"DIR_FACTURA4_MOLA\", sort = None)"
   ]
  },
  {
   "cell_type": "code",
   "execution_count": null,
   "metadata": {
    "collapsed": true
   },
   "outputs": [],
   "source": [
    "import pandas as pd\n",
    "train[\"set\"] = \"train\"\n",
    "test[\"set\"] = \"test\"\n",
    "df = pd.concat([train, test])\n",
    "# import matplotlib.pyplot as plt\n",
    "# plt.switch_backend('agg')\n",
    "from pykhaos.reporting.utils.plots import violin_distributions\n",
    "_ = violin_distributions(df, x='set', y='SCORE', hue=\"label\")"
   ]
  },
  {
   "cell_type": "code",
   "execution_count": null,
   "metadata": {
    "collapsed": true
   },
   "outputs": [],
   "source": [
    "import numpy as np\n",
    "df_ = df_data.copy()\n",
    "df_.reset_index(inplace=True)\n",
    "df_.set_index(\"codigo_postal_city\", inplace=True)\n",
    "df_pivot_label = pd.pivot_table(df_[[\"label\"]], columns=\"label\", index=df.index, aggfunc=lambda x: len(x))\n",
    "df_pivot_label.columns=[\"0\", \"1\"]\n",
    "import matplotlib.pyplot as plt\n",
    "ax = df_pivot_label[['0','1']].plot(kind='bar', title =\"V comp\", figsize=(15, 10), legend=True, fontsize=8)\n",
    "ax.set_xlabel(\"Hour\", fontsize=12)\n",
    "ax.set_ylabel(\"V\", fontsize=12)\n",
    "plt.show()"
   ]
  },
  {
   "cell_type": "code",
   "execution_count": null,
   "metadata": {
    "collapsed": false
   },
   "outputs": [],
   "source": [
    "sorted(list(df_data[\"DIR_FACTURA4_MOLA\"].unique()))"
   ]
  },
  {
   "cell_type": "code",
   "execution_count": null,
   "metadata": {
    "collapsed": false
   },
   "outputs": [],
   "source": [
    "# #df_data[\"DIR_FACTURA4\"].unique()\n",
    "\n",
    "# repl_chars = {'A CORU<0xEFBFBD>A' : 'A CORUNA',\n",
    "#               \"ALICANTE/ALACANT\" : \"ALICANTE\",\n",
    "#               'A CORU?A' : 'A CORUNA',\n",
    "#               'A CORU\\xc3\\x91A' : 'A CORUNA',\n",
    "#               'A Coru<0xEFBFBD>a' : 'A CORUNA',\n",
    "#               'A Coru\\xc3\\xb1a' : 'A CORUNA',\n",
    "#               'CORUOA (LA)' : 'A CORUNA',\n",
    "#               \"S/C  TENERIFE\" : \"S.C. TENERIFE\",\n",
    "#               \"<0xEFBFBD>\" : \"a\", \n",
    "#               \"\\xc3\\x81\" : \"a\",\n",
    "#               \"<0xEFBFBD>\": \"N\", \n",
    "#               \"\\xc3\\x89\" : \"e\",\n",
    "#               \"\\xc3\\xb1\" : \"n\",\n",
    "#               \"<0xEFBFBD>\" : \"O\",\n",
    "#               \"\\xc3\\x91\" : \"n\",\n",
    "#               \"\\xc3\\x91\" : \"N\",\n",
    "#               \"\\xc3\\xb1\" : \"n\",\n",
    "#              \"\\xc3\\xa1\" : \"a\", \n",
    "#              \"\\xc3\\xa9\" : \"e\",\n",
    "#              \"\\xc3\\x8d\" : \"i\", \n",
    "#               \"\\xc3\\xad\" : \"i\",\n",
    "#              \"\\xc3\\xb3\" : \"o\", \n",
    "#              \"\\xc3\\x93\" : \"o\",\n",
    "#              \"\\xc3\\x9a\" : \"u\",\n",
    "#               \"\\xc3\\xba\" : \"u\",\n",
    "#               \"\\xc3\\x91\" : \"n\",\n",
    "#              \"...\": \"UNKNOWN\",\n",
    "#              \"ESPAOA\": \"ESPANA\",\n",
    "#              \"OVILA\" : \"AVILA\"}\n",
    "\n",
    "# # import unidecode\n",
    "# # unaccented_string = unidecode.unidecode('M<0xEFBFBD>laga')\n",
    "# # unaccented_string\n",
    "\n",
    "# def remove_weird_chars(str_):\n",
    "#     for k, v in repl_chars.items():\n",
    "#         if k in str_:\n",
    "#             str_ = str_.replace(k,v)\n",
    "#     return str_\n",
    "\n",
    "        \n",
    "# df_data[\"DIR_FACTURA4_MOLA\"] = df_data[\"DIR_FACTURA4\"].apply(lambda str_: remove_weird_chars(str_).upper() if str_==str_ else \"UNKNOWN\")\n",
    "\n",
    "# print(df_data[\"DIR_FACTURA4_MOLA\"].nunique(), df_data[\"DIR_FACTURA4\"].nunique())"
   ]
  },
  {
   "cell_type": "code",
   "execution_count": null,
   "metadata": {
    "collapsed": false
   },
   "outputs": [],
   "source": [
    "var = [\"codigo_postal_city\", \"days_since_first_interaction\"]\n",
    "target = \"label\"\n",
    "import numpy as np\n",
    "from sklearn.preprocessing import MinMaxScaler, Imputer\n",
    "\n",
    "from reportlab.lib.enums import TA_RIGHT\n",
    "from reportlab.lib.styles import getSampleStyleSheet\n",
    "from reportlab.lib.pagesizes import A4\n",
    "from reportlab.lib.units import inch\n",
    "from reportlab.lib import colors\n",
    "from reportlab.platypus import SimpleDocTemplate, Paragraph, Image, Spacer, PageBreak, Table\n",
    "\n",
    "from sklearn.tree import export_graphviz\n",
    "import pydotplus\n",
    "from sklearn.externals.six import StringIO\n",
    "import time\n",
    "from sklearn.tree import DecisionTreeClassifier\n",
    "imp = Imputer(missing_values='NaN', strategy='mean', axis=0)\n",
    "\n",
    "df_data = df_data[~df_data[target].isna()]\n",
    "\n",
    "X = np.array(df_data[var].copy())\n",
    "#X[var + \"_NAN\"] = X[var].isna().astype('int')\n",
    "#X_imp = imp.fit_transform(X)\n",
    "y = np.array(df_data[target])\n",
    "dtree = DecisionTreeClassifier(max_depth=15, min_samples_leaf=500)\n",
    "dtree.fit(X_imp, y)\n",
    "from pykhaos.reporting.utils.plots import prune\n",
    "\n",
    "#dtree_prune = prune(dtree)\n",
    "dtree_prune = dtree\n",
    "\n",
    "from sklearn.externals.six import StringIO\n",
    "from sklearn.tree import export_graphviz\n",
    "import pydotplus\n",
    "\n",
    "\n",
    "dot_data = StringIO()\n",
    "export_graphviz(dtree, out_file=dot_data,\n",
    "                filled=True, rounded=True, feature_names=var,\n",
    "                special_characters=True, rotate=True, class_names=[\"NO_COMERCIAL\", \"COMERCIAL\"],\n",
    "                impurity=False, proportion=True, label='root')\n",
    "\n",
    "graph = pydotplus.graph_from_dot_data(dot_data.getvalue())\n",
    "filename = '/Users/csanc109/Documents/Projects/Churn/ccc_model/results/images/graph_{}.png'.format(int(time.time()))\n",
    "graph.write_png(filename)\n",
    "\n",
    "# SHOW IMAGE FROM FILE\n",
    "from IPython.display import display\n",
    "from PIL import Image\n",
    "display(Image.open(filename))\n",
    "\n",
    "\n",
    "\n"
   ]
  },
  {
   "cell_type": "raw",
   "metadata": {},
   "source": []
  },
  {
   "cell_type": "markdown",
   "metadata": {},
   "source": [
    "# UNIVARIANT ANALYSIS"
   ]
  },
  {
   "cell_type": "code",
   "execution_count": null,
   "metadata": {
    "collapsed": true
   },
   "outputs": [],
   "source": [
    "import yaml\n",
    "from pykhaos.reporting.type.univariate import Univariate\n",
    "from churn.models.ccc.data.ccc_data import  CCC_Data\n",
    "\n",
    "pdf_report_template_path = os.path.join(USECASES_SRC, \"churn\", \"models\", \"ccc\", 'input', 'univariante_template.yaml')\n",
    "\n",
    "print 'univariant analysis: '\n",
    "#periods = [201805, 201806, 201807]\n",
    "default_filename = os.path.join(USECASES_SRC, \"churn\", \"models\", \"ccc\", \"input\", \"ccc_train_test.yaml\")\n",
    "input_data = yaml.load(open(default_filename))\n",
    "data_abs_data_obj = CCC_Data(input_data)\n",
    "univariate_info = Univariate(data_abs_data_obj, MODEL_NAME+'_univariate').analysis()\n",
    "univariate_info.save()\n",
    "print 'end of analysis: {}'.format(MODEL_NAME+'_univariate')\n",
    "\n",
    "print 'Generando informe: '\n",
    "reporter = Reporter() \\\n",
    "    .set_model_info(ModelInfo.load(MODEL_NAME+'_univariate')) \\\n",
    "    .set_template('model/univariante.yaml')\\\n",
    "    .set_saving_path(os.path.join(os.environ.get('BDA_USER_HOME', ''), \"data\", \"churn\", \"ccc\", \"results\"))\n",
    "reporter.create()\n",
    "print 'Informe generado!'\n"
   ]
  }
 ],
 "metadata": {
  "kernelspec": {
   "display_name": "Python 2",
   "language": "python",
   "name": "python2"
  },
  "language_info": {
   "codemirror_mode": {
    "name": "ipython",
    "version": 2
   },
   "file_extension": ".py",
   "mimetype": "text/x-python",
   "name": "python",
   "nbconvert_exporter": "python",
   "pygments_lexer": "ipython2",
   "version": "2.7.13"
  }
 },
 "nbformat": 4,
 "nbformat_minor": 2
}
