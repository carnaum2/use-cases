{
 "cells": [
  {
   "cell_type": "markdown",
   "metadata": {},
   "source": [
    "# Set Paths and logger"
   ]
  },
  {
   "cell_type": "code",
   "execution_count": 2,
   "metadata": {
    "collapsed": false
   },
   "outputs": [
    {
     "name": "stderr",
     "output_type": "stream",
     "text": [
      "20190130-151309 [INFO ] Logging to file /var/SP/data/home/csanc109/logging/out_20190130_151309.log\n"
     ]
    },
    {
     "data": {
      "application/javascript": [
       "if (!(\"Notification\" in window)) {\n",
       "    alert(\"This browser does not support desktop notifications, so the %%notify magic will not work.\");\n",
       "} else if (Notification.permission !== 'granted' && Notification.permission !== 'denied') {\n",
       "    Notification.requestPermission(function (permission) {\n",
       "        if(!('permission' in Notification)) {\n",
       "            Notification.permission = permission;\n",
       "        }\n",
       "    })\n",
       "}\n"
      ],
      "text/plain": [
       "<IPython.core.display.Javascript object>"
      ]
     },
     "metadata": {},
     "output_type": "display_data"
    },
    {
     "data": {
      "text/html": [
       "<style>.container { width:100% !important; }</style>"
      ],
      "text/plain": [
       "<IPython.core.display.HTML object>"
      ]
     },
     "metadata": {},
     "output_type": "display_data"
    }
   ],
   "source": [
    "import os, sys\n",
    "import datetime as dt\n",
    "DEVEL_SRC = os.path.join(os.environ.get('BDA_USER_HOME', ''), \"src\", \"devel\")\n",
    "if DEVEL_SRC not in sys.path:\n",
    "    sys.path.append(DEVEL_SRC)\n",
    "\n",
    "USECASES_SRC = os.path.join(DEVEL_SRC, \"use-cases\") # TODO when - is removed, remove also this line and adapt imports\n",
    "if USECASES_SRC not in sys.path: \n",
    "    sys.path.append(USECASES_SRC)\n",
    "    \n",
    "AMDOCS_SRC = os.path.join(DEVEL_SRC, \"amdocs_informational_dataset\") # TODO when - is removed, remove also this line and adapt imports\n",
    "if AMDOCS_SRC not in sys.path: \n",
    "    sys.path.append(AMDOCS_SRC)\n",
    "    \n",
    "import pykhaos.utils.custom_logger as clogger\n",
    "logging_file = os.path.join(os.environ.get('BDA_USER_HOME', ''), \"logging\",\n",
    "                                    \"out_\" + dt.datetime.now().strftime(\"%Y%m%d_%H%M%S\") + \".log\")\n",
    "logger = clogger.configure_logger(log_filename=logging_file, std_channel=sys.stderr, logger_name=\"\")\n",
    "logger.info(\"Logging to file {}\".format(logging_file))    \n",
    "        \n",
    "from project.project_generic import Project\n",
    "\n",
    "import pykhaos.utils.notebooks as nb\n",
    "\n",
    "import time\n",
    "start_time = time.time()\n",
    "\n",
    "RUNNING_FROM_NOTEBOOK = nb.isnotebook()\n",
    "import matplotlib\n",
    "matplotlib.use('Agg')\n",
    "import matplotlib.pyplot as plt\n",
    "if RUNNING_FROM_NOTEBOOK:\n",
    "    %load_ext autoreload\n",
    "    %autoreload 2\n",
    "    %matplotlib inline  \n",
    "    EXTERNAL_LIB = os.path.join(os.environ.get('BDA_USER_HOME', ''), \"lib\", \"external_libs\")\n",
    "    if EXTERNAL_LIB not in sys.path:\n",
    "        sys.path.append(EXTERNAL_LIB)\n",
    "    %load_ext jupyternotify\n",
    "    \n",
    "from IPython.core.display import display, HTML\n",
    "display(HTML(\"<style>.container { width:100% !important; }</style>\"))"
   ]
  },
  {
   "cell_type": "markdown",
   "metadata": {},
   "source": [
    "# INPUT PARAMS"
   ]
  },
  {
   "cell_type": "code",
   "execution_count": 3,
   "metadata": {
    "collapsed": false
   },
   "outputs": [],
   "source": [
    "CCC_TRAIN_TEST_YAML = os.path.join(USECASES_SRC, \"churn\", \"models\", \"ccc\", \"input\", \"ccc_train_test.yaml\")\n",
    "\n",
    "# This name is used when saving the model (Pickle object)\n",
    "MODEL_NAME = \"ccc_comercial_tests\" # Results will be stored in a directory named like this\n",
    "\n",
    "H2O_PORT = 54126 # Be sure no instance running on this port!\n",
    "\n",
    "# Input data - must be a list but sometime there are problems in the union of h2o dataframes\n",
    "DP_FILENAME = \"/data/udf/vf_es/churn/ccc_model/comercial/df_c20181007_c20181107_n60_comercial_msisdn/\"\n",
    "\n",
    "# Specify the primary key of the model - Usually, msisdn, num_cliente or nif\n",
    "P_KEY = [\"msisdn\"] \n",
    "\n",
    "# Configuration file for training the h2o model\n",
    "MODEL_YAML_PATH = os.path.join(USECASES_SRC, \"churn\", \"models\", 'ccc', 'input', 'h2o_model.yaml')\n",
    "\n",
    "# Yaml file of the template for building the excel file\n",
    "XLSX_REPORT_TEMPLATE_PATH = os.path.join(USECASES_SRC, \"churn\", \"models\", \"ccc\", 'input', 'xlsx_report_template.yaml')\n",
    "\n",
    "# Save the root path for savings\n",
    "SAVING_PATH = os.path.join(os.environ.get('BDA_USER_HOME', ''), \"data\", \"churn\", \"ccc\")\n",
    "\n",
    "# Guarantee directoy is unique\n",
    "UNIQUE_DIRNAME = dt.datetime.now().strftime(\"%Y%m%d_%H%M%S\")\n",
    "\n",
    "SAVING_PATH_UNIQUE = os.path.join(SAVING_PATH, \"results\", MODEL_NAME, UNIQUE_DIRNAME)\n"
   ]
  },
  {
   "cell_type": "markdown",
   "metadata": {},
   "source": [
    "# IMPORTS and INITIALIZATION"
   ]
  },
  {
   "cell_type": "code",
   "execution_count": 4,
   "metadata": {
    "collapsed": false
   },
   "outputs": [
    {
     "name": "stdout",
     "output_type": "stream",
     "text": [
      "Using h2o version 3.18.0.10\n"
     ]
    }
   ],
   "source": [
    "from amdocs_informational_dataset.engine.call_centre_calls import CallCentreCalls\n",
    "from pyspark.sql.functions import collect_set, concat, size, coalesce, col, lpad, struct, count as sql_count, lit, min as sql_min, max as sql_max, collect_list, udf, when\n",
    "from pyspark.sql.types import StringType, ArrayType, MapType, StructType, StructField, IntegerType\n",
    "from pyspark.sql.functions import array, regexp_extract\n",
    "sys.path.append(os.path.join(os.environ.get('BDA_USER_HOME', ''), \"src\", \"devel\", \"pykhaos\", \"external_lib\"))\n",
    "from pykhaos.modeling.model import Model\n",
    "import yaml\n",
    "input_data = yaml.load(open(CCC_TRAIN_TEST_YAML))"
   ]
  },
  {
   "cell_type": "markdown",
   "metadata": {},
   "source": [
    "# Start H2O"
   ]
  },
  {
   "cell_type": "code",
   "execution_count": 116,
   "metadata": {
    "collapsed": false
   },
   "outputs": [
    {
     "name": "stdout",
     "output_type": "stream",
     "text": [
      "Shutdown 3.18.0.10\n",
      "init 3.18.0.10\n",
      "Checking whether there is an H2O instance running at http://localhost:54126..... not found.\n",
      "Attempting to start a local H2O server...\n",
      "  Java Version: java version \"1.7.0_79\"; Java(TM) SE Runtime Environment (build 1.7.0_79-b15); Java HotSpot(TM) 64-Bit Server VM (build 24.79-b02, mixed mode)\n",
      "  Starting server from /opt/cloudera/parcels/Anaconda-2.5.0/lib/python2.7/site-packages/h2o/backend/bin/h2o.jar\n",
      "  Ice root: /tmp/tmpbAer2s\n",
      "  JVM stdout: /tmp/tmpbAer2s/h2o_csanc109_started_from_python.out\n",
      "  JVM stderr: /tmp/tmpbAer2s/h2o_csanc109_started_from_python.err\n",
      "  Server is running at http://127.0.0.1:54130\n",
      "Connecting to H2O server at http://127.0.0.1:54130... successful.\n",
      "Warning: Your H2O cluster version is too old (7 months and 30 days)! Please download and install the latest version from http://h2o.ai/download/\n"
     ]
    },
    {
     "data": {
      "text/html": [
       "<div style=\"overflow:auto\"><table style=\"width:50%\"><tr><td>H2O cluster uptime:</td>\n",
       "<td>01 secs</td></tr>\n",
       "<tr><td>H2O cluster timezone:</td>\n",
       "<td>Europe/Rome</td></tr>\n",
       "<tr><td>H2O data parsing timezone:</td>\n",
       "<td>UTC</td></tr>\n",
       "<tr><td>H2O cluster version:</td>\n",
       "<td>3.18.0.10</td></tr>\n",
       "<tr><td>H2O cluster version age:</td>\n",
       "<td>7 months and 30 days !!!</td></tr>\n",
       "<tr><td>H2O cluster name:</td>\n",
       "<td>H2O_from_python_csanc109_4cj4uu</td></tr>\n",
       "<tr><td>H2O cluster total nodes:</td>\n",
       "<td>1</td></tr>\n",
       "<tr><td>H2O cluster free memory:</td>\n",
       "<td>28.44 Gb</td></tr>\n",
       "<tr><td>H2O cluster total cores:</td>\n",
       "<td>56</td></tr>\n",
       "<tr><td>H2O cluster allowed cores:</td>\n",
       "<td>56</td></tr>\n",
       "<tr><td>H2O cluster status:</td>\n",
       "<td>accepting new members, healthy</td></tr>\n",
       "<tr><td>H2O connection url:</td>\n",
       "<td>http://127.0.0.1:54130</td></tr>\n",
       "<tr><td>H2O connection proxy:</td>\n",
       "<td>None</td></tr>\n",
       "<tr><td>H2O internal security:</td>\n",
       "<td>False</td></tr>\n",
       "<tr><td>H2O API Extensions:</td>\n",
       "<td>AutoML, XGBoost, Algos, Core V3, Core V4</td></tr>\n",
       "<tr><td>Python version:</td>\n",
       "<td>2.7.11 final</td></tr></table></div>"
      ],
      "text/plain": [
       "--------------------------  ----------------------------------------\n",
       "H2O cluster uptime:         01 secs\n",
       "H2O cluster timezone:       Europe/Rome\n",
       "H2O data parsing timezone:  UTC\n",
       "H2O cluster version:        3.18.0.10\n",
       "H2O cluster version age:    7 months and 30 days !!!\n",
       "H2O cluster name:           H2O_from_python_csanc109_4cj4uu\n",
       "H2O cluster total nodes:    1\n",
       "H2O cluster free memory:    28.44 Gb\n",
       "H2O cluster total cores:    56\n",
       "H2O cluster allowed cores:  56\n",
       "H2O cluster status:         accepting new members, healthy\n",
       "H2O connection url:         http://127.0.0.1:54130\n",
       "H2O connection proxy:\n",
       "H2O internal security:      False\n",
       "H2O API Extensions:         AutoML, XGBoost, Algos, Core V3, Core V4\n",
       "Python version:             2.7.11 final\n",
       "--------------------------  ----------------------------------------"
      ]
     },
     "metadata": {},
     "output_type": "display_data"
    },
    {
     "name": "stdout",
     "output_type": "stream",
     "text": [
      "Done!\n",
      "locked=False healthy=True\n",
      "out of while\n"
     ]
    }
   ],
   "source": [
    "from pykhaos.modeling.h2o.h2o_functions import restart_cluster_loop\n",
    "restart_cluster_loop(port=H2O_PORT, max_mem_size = \"32G\") # "
   ]
  },
  {
   "cell_type": "markdown",
   "metadata": {},
   "source": [
    "# Load Data"
   ]
  },
  {
   "cell_type": "code",
   "execution_count": 97,
   "metadata": {
    "collapsed": false
   },
   "outputs": [
    {
     "name": "stderr",
     "output_type": "stream",
     "text": [
      "20190118-111631 [INFO ] ***** locked=False healthy=True\n",
      "20190118-111631 [INFO ] Trying to import '/data/udf/vf_es/churn/ccc_model/comercial/df_c20181007_c20181107_n60_comercial_msisdn/' hdfs=True parquet=False\n",
      "20190118-111632 [INFO ] Trying to import hdfs://vgddp349hr.dc.sedc.internal.vodafone.com/data/udf/vf_es/churn/ccc_model/comercial/df_c20181007_c20181107_n60_comercial_msisdn/\n",
      "20190118-111633 [ERROR] file hdfs://vgddp349hr.dc.sedc.internal.vodafone.com/data/udf/vf_es/churn/ccc_model/comercial/df_c20181007_c20181107_n60_comercial_msisdn/ could not be found at node 0\n"
     ]
    },
    {
     "name": "stdout",
     "output_type": "stream",
     "text": [
      "HTTP 500 Server Error:\n",
      "Server error water.api.HDFSIOException:\n",
      "  Error: HDFS IO Failure: \n",
      " accessed URI : hdfs://vgddp349hr.dc.sedc.internal.vodafone.com/data/udf/vf_es/churn/ccc_model/comercial/df_c20181007_c20181107_n60_comercial_msisdn/\n",
      " configuration: Configuration: core-default.xml, core-site.xml, mapred-default.xml, mapred-site.xml, yarn-default.xml, yarn-site.xml, hdfs-default.xml, hdfs-site.xml, /opt/cloudera/parcels/SPARK2/lib/spark2/conf/yarn-conf/core-site.xml\n",
      " org.apache.hadoop.ipc.RemoteException(org.apache.hadoop.ipc.StandbyException): Operation category READ is not supported in state standby. Visit https://s.apache.org/sbnn-error\n",
      "\tat org.apache.hadoop.hdfs.server.namenode.ha.StandbyState.checkOperation(StandbyState.java:88)\n",
      "\tat org.apache.hadoop.hdfs.server.namenode.NameNode$NameNodeHAContext.checkOperation(NameNode.java:1835)\n",
      "\tat org.apache.hadoop.hdfs.server.namenode.FSNamesystem.checkOperation(FSNamesystem.java:1515)\n",
      "\tat org.apache.hadoop.hdfs.server.namenode.FSNamesystem.getFileInfo(FSNamesystem.java:4448)\n",
      "\tat org.apache.hadoop.hdfs.server.namenode.NameNodeRpcServer.getFileInfo(NameNodeRpcServer.java:912)\n",
      "\tat org.apache.hadoop.hdfs.server.namenode.AuthorizationProviderProxyClientProtocol.getFileInfo(AuthorizationProviderProxyClientProtocol.java:533)\n",
      "\tat org.apache.hadoop.hdfs.protocolPB.ClientNamenodeProtocolServerSideTranslatorPB.getFileInfo(ClientNamenodeProtocolServerSideTranslatorPB.java:862)\n",
      "\tat org.apache.hadoop.hdfs.protocol.proto.ClientNamenodeProtocolProtos$ClientNamenodeProtocol$2.callBlockingMethod(ClientNamenodeProtocolProtos.java)\n",
      "\tat org.apache.hadoop.ipc.ProtobufRpcEngine$Server$ProtoBufRpcInvoker.call(ProtobufRpcEngine.java:617)\n",
      "\tat org.apache.hadoop.ipc.RPC$Server.call(RPC.java:1073)\n",
      "\tat org.apache.hadoop.ipc.Server$Handler$1.run(Server.java:2281)\n",
      "\tat org.apache.hadoop.ipc.Server$Handler$1.run(Server.java:2277)\n",
      "\tat java.security.AccessController.doPrivileged(Native Method)\n",
      "\tat javax.security.auth.Subject.doAs(Subject.java:415)\n",
      "\tat org.apache.hadoop.security.UserGroupInformation.doAs(UserGroupInformation.java:1924)\n",
      "\tat org.apache.hadoop.ipc.Server$Handler.run(Server.java:2275)\n",
      "  Request: None\n",
      "\n"
     ]
    },
    {
     "name": "stderr",
     "output_type": "stream",
     "text": [
      "20190118-111633 [INFO ] Trying to import hdfs://vgddp350hr.dc.sedc.internal.vodafone.com/data/udf/vf_es/churn/ccc_model/comercial/df_c20181007_c20181107_n60_comercial_msisdn/\n"
     ]
    },
    {
     "name": "stdout",
     "output_type": "stream",
     "text": [
      "Parse progress: |█████████████████████████████████████████████████████████| 100%\n"
     ]
    },
    {
     "name": "stderr",
     "output_type": "stream",
     "text": [
      "20190118-111638 [INFO ] file hdfs://vgddp350hr.dc.sedc.internal.vodafone.com/data/udf/vf_es/churn/ccc_model/comercial/df_c20181007_c20181107_n60_comercial_msisdn/ found at node 1\n"
     ]
    },
    {
     "name": "stdout",
     "output_type": "stream",
     "text": [
      "file hdfs://vgddp350hr.dc.sedc.internal.vodafone.com/data/udf/vf_es/churn/ccc_model/comercial/df_c20181007_c20181107_n60_comercial_msisdn/ found at node 1\n",
      "**** Preparing __prepare_ccc_data_for_h2o - rows=168085 columns=354\n",
      "After rgu reduction 89011\n",
      "About to remove 3 columns\n",
      "**** Ended __prepare_ccc_data_for_h2o - rows=89011 columns=351\n"
     ]
    },
    {
     "name": "stderr",
     "output_type": "stream",
     "text": [
      "20190118-111641 [INFO ] df_h2o ready to be used!\n"
     ]
    },
    {
     "data": {
      "application/javascript": [
       "$(document).ready(\n",
       "    function() {\n",
       "        function appendUniqueDiv(){\n",
       "            // append a div with our uuid so we can check that it's already\n",
       "            // been sent and avoid duplicates on page reload\n",
       "            var notifiedDiv = document.createElement(\"div\")\n",
       "            notifiedDiv.id = \"51ff300d-6e09-4308-bb33-4e995b4d1348\"\n",
       "            element.append(notifiedDiv)\n",
       "        }\n",
       "\n",
       "        // only send notifications if the pageload is complete; this will\n",
       "        // help stop extra notifications when a saved notebook is loaded,\n",
       "        // which during testing gives us state \"interactive\", not \"complete\"\n",
       "        if (document.readyState === 'complete') {\n",
       "            // check for the div that signifies that the notification\n",
       "            // was already sent\n",
       "            if (document.getElementById(\"51ff300d-6e09-4308-bb33-4e995b4d1348\") === null) {\n",
       "                var notificationPayload = {\"body\": \"CCC_model_pykahos: ended CCCdata \", \"requireInteraction\": false, \"icon\": \"/static/base/images/favicon.ico\"};\n",
       "                if (Notification.permission !== 'denied') {\n",
       "                    if (Notification.permission !== 'granted') { \n",
       "                        Notification.requestPermission(function (permission) {\n",
       "                            if(!('permission' in Notification)) {\n",
       "                                Notification.permission = permission\n",
       "                            }\n",
       "                        })\n",
       "                    }\n",
       "                    if (Notification.permission === 'granted') {\n",
       "                    var notification = new Notification(\"Jupyter Notebook\", notificationPayload)\n",
       "                    appendUniqueDiv()\n",
       "                    notification.onclick = function () {\n",
       "                        window.focus();\n",
       "                        this.close();\n",
       "                        };\n",
       "                    } \n",
       "                }     \n",
       "            }\n",
       "        }\n",
       "    }\n",
       ")\n"
      ],
      "text/plain": [
       "<IPython.core.display.Javascript object>"
      ]
     },
     "metadata": {},
     "output_type": "display_data"
    }
   ],
   "source": [
    "%%notify -m \"CCC_model_pykahos: ended CCCdata \"\n",
    "\n",
    "from churn.models.ccc.data.ccc_data import  CCC_Data\n",
    "data_abs_data_obj = CCC_Data(input_data=None, filename=DP_FILENAME, pkey_cols=P_KEY)"
   ]
  },
  {
   "cell_type": "markdown",
   "metadata": {},
   "source": [
    "# FIT Model"
   ]
  },
  {
   "cell_type": "code",
   "execution_count": 98,
   "metadata": {
    "collapsed": false
   },
   "outputs": [
    {
     "name": "stdout",
     "output_type": "stream",
     "text": [
      "loaded '/var/SP/data/home/csanc109/src/devel/use-cases/churn/models/ccc/input/h2o_model.yaml'\n",
      "Using test_ratio_split=0.35\n",
      "(0, 60320)\n",
      "(1, 28691)\n",
      "H2O Engine :)\n",
      "Using h2o version 3.18.0.10\n",
      "Detected these gridparams:\n",
      "{'max_after_balance_size': [1.7, 2.5], 'ntrees': [30], 'max_depth': [5]}\n",
      "**** FIT *****\n",
      "***** GRIDSEARCH ********\n",
      "gbm Grid Build progress: |████████████████████████████████████████████████| 100%\n",
      "    max_after_balance_size max_depth ntrees  \\\n",
      "0                      2.5         5     27   \n",
      "1                      1.7         5     26   \n",
      "\n",
      "                                                       model_ids  \\\n",
      "0  Grid_GBM_py_292_sid_aa6f_model_python_1547806588081_1_model_1   \n",
      "1  Grid_GBM_py_292_sid_aa6f_model_python_1547806588081_1_model_0   \n",
      "\n",
      "              logloss  \n",
      "0  0.6063567337043875  \n",
      "1  0.6067500047783867  \n",
      "\n"
     ]
    },
    {
     "data": {
      "image/png": "[encoded data removed]",
      "text/plain": [
       "<matplotlib.figure.Figure at 0x7f1c1d27a350>"
      ]
     },
     "metadata": {},
     "output_type": "display_data"
    },
    {
     "data": {
      "image/png": "[encoded data removed]",
      "text/plain": [
       "<matplotlib.figure.Figure at 0x7f1c1fb66f50>"
      ]
     },
     "metadata": {},
     "output_type": "display_data"
    },
    {
     "name": "stdout",
     "output_type": "stream",
     "text": [
      "Time in fit method: 00:02:13\n",
      "gbm prediction progress: |████████████████████████████████████████████████| 100%\n",
      "gbm prediction progress: |████████████████████████████████████████████████| 100%\n",
      "* * * * * * * METRICS TRAIN * * * * * * * \n",
      "\n",
      "ModelMetricsBinomial: gbm\n",
      "** Reported on test data. **\n",
      "\n",
      "MSE: 0.20435607438\n",
      "RMSE: 0.452057600732\n",
      "LogLoss: 0.595357561658\n",
      "Mean Per-Class Error: 0.380711389715\n",
      "AUC: 0.674991891847\n",
      "Gini: 0.349983783695\n",
      "Confusion Matrix (Act/Pred) for max f1 @ threshold = 0.2952693552: \n"
     ]
    },
    {
     "data": {
      "text/html": [
       "<div style=\"overflow:auto\"><table style=\"width:50%\"><tr><td><b></b></td>\n",
       "<td><b>0</b></td>\n",
       "<td><b>1</b></td>\n",
       "<td><b>Error</b></td>\n",
       "<td><b>Rate</b></td></tr>\n",
       "<tr><td>0</td>\n",
       "<td>14814.0</td>\n",
       "<td>24394.0</td>\n",
       "<td>0.6222</td>\n",
       "<td> (24394.0/39208.0)</td></tr>\n",
       "<tr><td>1</td>\n",
       "<td>2908.0</td>\n",
       "<td>15741.0</td>\n",
       "<td>0.1559</td>\n",
       "<td> (2908.0/18649.0)</td></tr>\n",
       "<tr><td>Total</td>\n",
       "<td>17722.0</td>\n",
       "<td>40135.0</td>\n",
       "<td>0.4719</td>\n",
       "<td> (27302.0/57857.0)</td></tr></table></div>"
      ],
      "text/plain": [
       "       0      1      Error    Rate\n",
       "-----  -----  -----  -------  -----------------\n",
       "0      14814  24394  0.6222   (24394.0/39208.0)\n",
       "1      2908   15741  0.1559   (2908.0/18649.0)\n",
       "Total  17722  40135  0.4719   (27302.0/57857.0)"
      ]
     },
     "metadata": {},
     "output_type": "display_data"
    },
    {
     "name": "stdout",
     "output_type": "stream",
     "text": [
      "Maximum Metrics: Maximum metrics at their respective thresholds\n",
      "\n"
     ]
    },
    {
     "data": {
      "text/html": [
       "<div style=\"overflow:auto\"><table style=\"width:50%\"><tr><td><b>metric</b></td>\n",
       "<td><b>threshold</b></td>\n",
       "<td><b>value</b></td>\n",
       "<td><b>idx</b></td></tr>\n",
       "<tr><td>max f1</td>\n",
       "<td>0.2952694</td>\n",
       "<td>0.5355539</td>\n",
       "<td>242.0</td></tr>\n",
       "<tr><td>max f2</td>\n",
       "<td>0.2427358</td>\n",
       "<td>0.7182696</td>\n",
       "<td>302.0</td></tr>\n",
       "<tr><td>max f0point5</td>\n",
       "<td>0.3408366</td>\n",
       "<td>0.4687329</td>\n",
       "<td>175.0</td></tr>\n",
       "<tr><td>max accuracy</td>\n",
       "<td>0.3977460</td>\n",
       "<td>0.6969943</td>\n",
       "<td>104.0</td></tr>\n",
       "<tr><td>max precision</td>\n",
       "<td>0.7308487</td>\n",
       "<td>1.0</td>\n",
       "<td>0.0</td></tr>\n",
       "<tr><td>max recall</td>\n",
       "<td>0.1225088</td>\n",
       "<td>1.0</td>\n",
       "<td>385.0</td></tr>\n",
       "<tr><td>max specificity</td>\n",
       "<td>0.7308487</td>\n",
       "<td>1.0</td>\n",
       "<td>0.0</td></tr>\n",
       "<tr><td>max absolute_mcc</td>\n",
       "<td>0.3024530</td>\n",
       "<td>0.2266699</td>\n",
       "<td>233.0</td></tr>\n",
       "<tr><td>max min_per_class_accuracy</td>\n",
       "<td>0.3288503</td>\n",
       "<td>0.6175130</td>\n",
       "<td>194.0</td></tr>\n",
       "<tr><td>max mean_per_class_accuracy</td>\n",
       "<td>0.3198248</td>\n",
       "<td>0.6192886</td>\n",
       "<td>208.0</td></tr></table></div>"
      ],
      "text/plain": [
       "metric                       threshold    value     idx\n",
       "---------------------------  -----------  --------  -----\n",
       "max f1                       0.295269     0.535554  242\n",
       "max f2                       0.242736     0.71827   302\n",
       "max f0point5                 0.340837     0.468733  175\n",
       "max accuracy                 0.397746     0.696994  104\n",
       "max precision                0.730849     1         0\n",
       "max recall                   0.122509     1         385\n",
       "max specificity              0.730849     1         0\n",
       "max absolute_mcc             0.302453     0.22667   233\n",
       "max min_per_class_accuracy   0.32885      0.617513  194\n",
       "max mean_per_class_accuracy  0.319825     0.619289  208"
      ]
     },
     "metadata": {},
     "output_type": "display_data"
    },
    {
     "name": "stdout",
     "output_type": "stream",
     "text": [
      "Gains/Lift Table: Avg response rate: 32.23 %\n",
      "\n"
     ]
    },
    {
     "data": {
      "text/html": [
       "<div style=\"overflow:auto\"><table style=\"width:50%\"><tr><td><b></b></td>\n",
       "<td><b>group</b></td>\n",
       "<td><b>cumulative_data_fraction</b></td>\n",
       "<td><b>lower_threshold</b></td>\n",
       "<td><b>lift</b></td>\n",
       "<td><b>cumulative_lift</b></td>\n",
       "<td><b>response_rate</b></td>\n",
       "<td><b>cumulative_response_rate</b></td>\n",
       "<td><b>capture_rate</b></td>\n",
       "<td><b>cumulative_capture_rate</b></td>\n",
       "<td><b>gain</b></td>\n",
       "<td><b>cumulative_gain</b></td></tr>\n",
       "<tr><td></td>\n",
       "<td>1</td>\n",
       "<td>0.0100074</td>\n",
       "<td>0.5223599</td>\n",
       "<td>2.5558783</td>\n",
       "<td>2.5558783</td>\n",
       "<td>0.8238342</td>\n",
       "<td>0.8238342</td>\n",
       "<td>0.0255778</td>\n",
       "<td>0.0255778</td>\n",
       "<td>155.5878338</td>\n",
       "<td>155.5878338</td></tr>\n",
       "<tr><td></td>\n",
       "<td>2</td>\n",
       "<td>0.0201877</td>\n",
       "<td>0.4535566</td>\n",
       "<td>2.2912597</td>\n",
       "<td>2.4224363</td>\n",
       "<td>0.7385399</td>\n",
       "<td>0.7808219</td>\n",
       "<td>0.0233256</td>\n",
       "<td>0.0489034</td>\n",
       "<td>129.1259740</td>\n",
       "<td>142.2436254</td></tr>\n",
       "<tr><td></td>\n",
       "<td>3</td>\n",
       "<td>0.0300050</td>\n",
       "<td>0.4319860</td>\n",
       "<td>2.0209415</td>\n",
       "<td>2.2910716</td>\n",
       "<td>0.6514085</td>\n",
       "<td>0.7384793</td>\n",
       "<td>0.0198402</td>\n",
       "<td>0.0687436</td>\n",
       "<td>102.0941537</td>\n",
       "<td>129.1071623</td></tr>\n",
       "<tr><td></td>\n",
       "<td>4</td>\n",
       "<td>0.0400124</td>\n",
       "<td>0.4171002</td>\n",
       "<td>1.9021736</td>\n",
       "<td>2.1938051</td>\n",
       "<td>0.6131261</td>\n",
       "<td>0.7071274</td>\n",
       "<td>0.0190359</td>\n",
       "<td>0.0877795</td>\n",
       "<td>90.2173606</td>\n",
       "<td>119.3805121</td></tr>\n",
       "<tr><td></td>\n",
       "<td>5</td>\n",
       "<td>0.0500026</td>\n",
       "<td>0.4107919</td>\n",
       "<td>1.6639268</td>\n",
       "<td>2.0879394</td>\n",
       "<td>0.5363322</td>\n",
       "<td>0.6730038</td>\n",
       "<td>0.0166229</td>\n",
       "<td>0.1044024</td>\n",
       "<td>66.3926802</td>\n",
       "<td>108.7939353</td></tr>\n",
       "<tr><td></td>\n",
       "<td>6</td>\n",
       "<td>0.1000052</td>\n",
       "<td>0.3878443</td>\n",
       "<td>1.5613969</td>\n",
       "<td>1.8246681</td>\n",
       "<td>0.5032838</td>\n",
       "<td>0.5881438</td>\n",
       "<td>0.0780739</td>\n",
       "<td>0.1824763</td>\n",
       "<td>56.1396866</td>\n",
       "<td>82.4668109</td></tr>\n",
       "<tr><td></td>\n",
       "<td>7</td>\n",
       "<td>0.1500078</td>\n",
       "<td>0.3750443</td>\n",
       "<td>1.3876700</td>\n",
       "<td>1.6790021</td>\n",
       "<td>0.4472866</td>\n",
       "<td>0.5411914</td>\n",
       "<td>0.0693871</td>\n",
       "<td>0.2518634</td>\n",
       "<td>38.7670017</td>\n",
       "<td>67.9002078</td></tr>\n",
       "<tr><td></td>\n",
       "<td>8</td>\n",
       "<td>0.2000104</td>\n",
       "<td>0.3635537</td>\n",
       "<td>1.3265439</td>\n",
       "<td>1.5908875</td>\n",
       "<td>0.4275838</td>\n",
       "<td>0.5127895</td>\n",
       "<td>0.0663306</td>\n",
       "<td>0.3181940</td>\n",
       "<td>32.6543903</td>\n",
       "<td>59.0887535</td></tr>\n",
       "<tr><td></td>\n",
       "<td>9</td>\n",
       "<td>0.3000328</td>\n",
       "<td>0.3467886</td>\n",
       "<td>1.2174861</td>\n",
       "<td>1.4664061</td>\n",
       "<td>0.3924313</td>\n",
       "<td>0.4726655</td>\n",
       "<td>0.1217760</td>\n",
       "<td>0.4399700</td>\n",
       "<td>21.7486106</td>\n",
       "<td>46.6406051</td></tr>\n",
       "<tr><td></td>\n",
       "<td>10</td>\n",
       "<td>0.4002973</td>\n",
       "<td>0.3351637</td>\n",
       "<td>1.1648108</td>\n",
       "<td>1.3908640</td>\n",
       "<td>0.3754525</td>\n",
       "<td>0.4483161</td>\n",
       "<td>0.1167891</td>\n",
       "<td>0.5567591</td>\n",
       "<td>16.4810755</td>\n",
       "<td>39.0863982</td></tr>\n",
       "<tr><td></td>\n",
       "<td>11</td>\n",
       "<td>0.5000086</td>\n",
       "<td>0.3230407</td>\n",
       "<td>1.0389794</td>\n",
       "<td>1.3206914</td>\n",
       "<td>0.3348934</td>\n",
       "<td>0.4256974</td>\n",
       "<td>0.1035980</td>\n",
       "<td>0.6603571</td>\n",
       "<td>3.8979420</td>\n",
       "<td>32.0691421</td></tr>\n",
       "<tr><td></td>\n",
       "<td>12</td>\n",
       "<td>0.6000138</td>\n",
       "<td>0.3091180</td>\n",
       "<td>0.9941036</td>\n",
       "<td>1.2662586</td>\n",
       "<td>0.3204286</td>\n",
       "<td>0.4081521</td>\n",
       "<td>0.0994155</td>\n",
       "<td>0.7597726</td>\n",
       "<td>-0.5896364</td>\n",
       "<td>26.6258555</td></tr>\n",
       "<tr><td></td>\n",
       "<td>13</td>\n",
       "<td>0.7000190</td>\n",
       "<td>0.2940346</td>\n",
       "<td>0.8900820</td>\n",
       "<td>1.2125177</td>\n",
       "<td>0.2868994</td>\n",
       "<td>0.3908299</td>\n",
       "<td>0.0890128</td>\n",
       "<td>0.8487855</td>\n",
       "<td>-10.9917996</td>\n",
       "<td>21.2517721</td></tr>\n",
       "<tr><td></td>\n",
       "<td>14</td>\n",
       "<td>0.8000242</td>\n",
       "<td>0.2736920</td>\n",
       "<td>0.7163552</td>\n",
       "<td>1.1504961</td>\n",
       "<td>0.2309022</td>\n",
       "<td>0.3708385</td>\n",
       "<td>0.0716392</td>\n",
       "<td>0.9204247</td>\n",
       "<td>-28.3644845</td>\n",
       "<td>15.0496061</td></tr>\n",
       "<tr><td></td>\n",
       "<td>15</td>\n",
       "<td>0.9000121</td>\n",
       "<td>0.2337695</td>\n",
       "<td>0.5411132</td>\n",
       "<td>1.0827960</td>\n",
       "<td>0.1744166</td>\n",
       "<td>0.3490167</td>\n",
       "<td>0.0541048</td>\n",
       "<td>0.9745295</td>\n",
       "<td>-45.8886754</td>\n",
       "<td>8.2795961</td></tr>\n",
       "<tr><td></td>\n",
       "<td>16</td>\n",
       "<td>1.0</td>\n",
       "<td>0.0529207</td>\n",
       "<td>0.2547362</td>\n",
       "<td>1.0</td>\n",
       "<td>0.0821089</td>\n",
       "<td>0.3223292</td>\n",
       "<td>0.0254705</td>\n",
       "<td>1.0</td>\n",
       "<td>-74.5263834</td>\n",
       "<td>0.0</td></tr></table></div>"
      ],
      "text/plain": [
       "    group    cumulative_data_fraction    lower_threshold    lift      cumulative_lift    response_rate    cumulative_response_rate    capture_rate    cumulative_capture_rate    gain       cumulative_gain\n",
       "--  -------  --------------------------  -----------------  --------  -----------------  ---------------  --------------------------  --------------  -------------------------  ---------  -----------------\n",
       "    1        0.0100074                   0.52236            2.55588   2.55588            0.823834         0.823834                    0.0255778       0.0255778                  155.588    155.588\n",
       "    2        0.0201877                   0.453557           2.29126   2.42244            0.73854          0.780822                    0.0233256       0.0489034                  129.126    142.244\n",
       "    3        0.030005                    0.431986           2.02094   2.29107            0.651408         0.738479                    0.0198402       0.0687436                  102.094    129.107\n",
       "    4        0.0400124                   0.4171             1.90217   2.19381            0.613126         0.707127                    0.0190359       0.0877795                  90.2174    119.381\n",
       "    5        0.0500026                   0.410792           1.66393   2.08794            0.536332         0.673004                    0.0166229       0.104402                   66.3927    108.794\n",
       "    6        0.100005                    0.387844           1.5614    1.82467            0.503284         0.588144                    0.0780739       0.182476                   56.1397    82.4668\n",
       "    7        0.150008                    0.375044           1.38767   1.679              0.447287         0.541191                    0.0693871       0.251863                   38.767     67.9002\n",
       "    8        0.20001                     0.363554           1.32654   1.59089            0.427584         0.512789                    0.0663306       0.318194                   32.6544    59.0888\n",
       "    9        0.300033                    0.346789           1.21749   1.46641            0.392431         0.472665                    0.121776        0.43997                    21.7486    46.6406\n",
       "    10       0.400297                    0.335164           1.16481   1.39086            0.375453         0.448316                    0.116789        0.556759                   16.4811    39.0864\n",
       "    11       0.500009                    0.323041           1.03898   1.32069            0.334893         0.425697                    0.103598        0.660357                   3.89794    32.0691\n",
       "    12       0.600014                    0.309118           0.994104  1.26626            0.320429         0.408152                    0.0994155       0.759773                   -0.589636  26.6259\n",
       "    13       0.700019                    0.294035           0.890082  1.21252            0.286899         0.39083                     0.0890128       0.848785                   -10.9918   21.2518\n",
       "    14       0.800024                    0.273692           0.716355  1.1505             0.230902         0.370838                    0.0716392       0.920425                   -28.3645   15.0496\n",
       "    15       0.900012                    0.23377            0.541113  1.0828             0.174417         0.349017                    0.0541048       0.974529                   -45.8887   8.2796\n",
       "    16       1                           0.0529207          0.254736  1                  0.0821089        0.322329                    0.0254705       1                          -74.5264   0"
      ]
     },
     "metadata": {},
     "output_type": "display_data"
    },
    {
     "name": "stdout",
     "output_type": "stream",
     "text": [
      "\n",
      "\n",
      "Could not find exact threshold 0.291758573955; using closest threshold found 0.291968956631.\n",
      "Could not find exact threshold 0.26558032477; using closest threshold found 0.265708720139.\n",
      "Could not find exact threshold 0.291758573955; using closest threshold found 0.291968956631.\n",
      "Could not find exact threshold 0.26558032477; using closest threshold found 0.265708720139.\n",
      "Could not find exact threshold 0.291758573955; using closest threshold found 0.291968956631.\n",
      "Could not find exact threshold 0.26558032477; using closest threshold found 0.265708720139.\n",
      "Could not find exact threshold 0.291758573955; using closest threshold found 0.291968956631.\n",
      "Could not find exact threshold 0.26558032477; using closest threshold found 0.265708720139.\n",
      "Could not find exact threshold 0.291758573955; using closest threshold found 0.291968956631.\n",
      "Could not find exact threshold 0.26558032477; using closest threshold found 0.265708720139.\n",
      "Could not find exact threshold 0.291758573955; using closest threshold found 0.291968956631.\n",
      "Could not find exact threshold 0.26558032477; using closest threshold found 0.265708720139.\n",
      "Could not find exact threshold 0.291758573955; using closest threshold found 0.291968956631.\n",
      "Could not find exact threshold 0.26558032477; using closest threshold found 0.265708720139.\n",
      "Could not find exact threshold 0.291758573955; using closest threshold found 0.291968956631.\n",
      "Could not find exact threshold 0.26558032477; using closest threshold found 0.265708720139.\n",
      "Could not find exact threshold 0.291758573955; using closest threshold found 0.291968956631.\n",
      "Could not find exact threshold 0.26558032477; using closest threshold found 0.265708720139.\n",
      "Could not find exact threshold 0.291758573955; using closest threshold found 0.291968956631.\n",
      "Could not find exact threshold 0.26558032477; using closest threshold found 0.265708720139.\n",
      "Could not find exact threshold 0.291758573955; using closest threshold found 0.291968956631.\n",
      "Could not find exact threshold 0.26558032477; using closest threshold found 0.265708720139.\n",
      "Could not find exact threshold 0.291758573955; using closest threshold found 0.291968956631.\n",
      "Could not find exact threshold 0.26558032477; using closest threshold found 0.265708720139.\n",
      "Could not find exact threshold 0.291758573955; using closest threshold found 0.291968956631.\n",
      "Could not find exact threshold 0.26558032477; using closest threshold found 0.265708720139.\n",
      "Could not find exact threshold 0.291758573955; using closest threshold found 0.291968956631.\n",
      "Could not find exact threshold 0.26558032477; using closest threshold found 0.265708720139.\n",
      "* * * * * * * METRICS TEST * * * * * * * \n",
      "\n",
      "ModelMetricsBinomial: gbm\n",
      "** Reported on test data. **\n",
      "\n",
      "MSE: 0.20882809558\n",
      "RMSE: 0.45697712807\n",
      "LogLoss: 0.605900353029\n",
      "Mean Per-Class Error: 0.408067190177\n",
      "AUC: 0.634182023319\n",
      "Gini: 0.268364046639\n",
      "Confusion Matrix (Act/Pred) for max f1 @ threshold = 0.292641169483: \n"
     ]
    },
    {
     "data": {
      "text/html": [
       "<div style=\"overflow:auto\"><table style=\"width:50%\"><tr><td><b></b></td>\n",
       "<td><b>0</b></td>\n",
       "<td><b>1</b></td>\n",
       "<td><b>Error</b></td>\n",
       "<td><b>Rate</b></td></tr>\n",
       "<tr><td>0</td>\n",
       "<td>7255.0</td>\n",
       "<td>13857.0</td>\n",
       "<td>0.6564</td>\n",
       "<td> (13857.0/21112.0)</td></tr>\n",
       "<tr><td>1</td>\n",
       "<td>1772.0</td>\n",
       "<td>8270.0</td>\n",
       "<td>0.1765</td>\n",
       "<td> (1772.0/10042.0)</td></tr>\n",
       "<tr><td>Total</td>\n",
       "<td>9027.0</td>\n",
       "<td>22127.0</td>\n",
       "<td>0.5017</td>\n",
       "<td> (15629.0/31154.0)</td></tr></table></div>"
      ],
      "text/plain": [
       "       0     1      Error    Rate\n",
       "-----  ----  -----  -------  -----------------\n",
       "0      7255  13857  0.6564   (13857.0/21112.0)\n",
       "1      1772  8270   0.1765   (1772.0/10042.0)\n",
       "Total  9027  22127  0.5017   (15629.0/31154.0)"
      ]
     },
     "metadata": {},
     "output_type": "display_data"
    },
    {
     "name": "stdout",
     "output_type": "stream",
     "text": [
      "Maximum Metrics: Maximum metrics at their respective thresholds\n",
      "\n"
     ]
    },
    {
     "data": {
      "text/html": [
       "<div style=\"overflow:auto\"><table style=\"width:50%\"><tr><td><b>metric</b></td>\n",
       "<td><b>threshold</b></td>\n",
       "<td><b>value</b></td>\n",
       "<td><b>idx</b></td></tr>\n",
       "<tr><td>max f1</td>\n",
       "<td>0.2926412</td>\n",
       "<td>0.5141596</td>\n",
       "<td>243.0</td></tr>\n",
       "<tr><td>max f2</td>\n",
       "<td>0.2239282</td>\n",
       "<td>0.7102561</td>\n",
       "<td>320.0</td></tr>\n",
       "<tr><td>max f0point5</td>\n",
       "<td>0.3363102</td>\n",
       "<td>0.4379233</td>\n",
       "<td>177.0</td></tr>\n",
       "<tr><td>max accuracy</td>\n",
       "<td>0.4016337</td>\n",
       "<td>0.6844707</td>\n",
       "<td>94.0</td></tr>\n",
       "<tr><td>max precision</td>\n",
       "<td>0.6959795</td>\n",
       "<td>1.0</td>\n",
       "<td>0.0</td></tr>\n",
       "<tr><td>max recall</td>\n",
       "<td>0.1089298</td>\n",
       "<td>1.0</td>\n",
       "<td>391.0</td></tr>\n",
       "<tr><td>max specificity</td>\n",
       "<td>0.6959795</td>\n",
       "<td>1.0</td>\n",
       "<td>0.0</td></tr>\n",
       "<tr><td>max absolute_mcc</td>\n",
       "<td>0.3050803</td>\n",
       "<td>0.1765252</td>\n",
       "<td>226.0</td></tr>\n",
       "<tr><td>max min_per_class_accuracy</td>\n",
       "<td>0.3272872</td>\n",
       "<td>0.5912169</td>\n",
       "<td>191.0</td></tr>\n",
       "<tr><td>max mean_per_class_accuracy</td>\n",
       "<td>0.3272872</td>\n",
       "<td>0.5919328</td>\n",
       "<td>191.0</td></tr></table></div>"
      ],
      "text/plain": [
       "metric                       threshold    value     idx\n",
       "---------------------------  -----------  --------  -----\n",
       "max f1                       0.292641     0.51416   243\n",
       "max f2                       0.223928     0.710256  320\n",
       "max f0point5                 0.33631      0.437923  177\n",
       "max accuracy                 0.401634     0.684471  94\n",
       "max precision                0.69598      1         0\n",
       "max recall                   0.10893      1         391\n",
       "max specificity              0.69598      1         0\n",
       "max absolute_mcc             0.30508      0.176525  226\n",
       "max min_per_class_accuracy   0.327287     0.591217  191\n",
       "max mean_per_class_accuracy  0.327287     0.591933  191"
      ]
     },
     "metadata": {},
     "output_type": "display_data"
    },
    {
     "name": "stdout",
     "output_type": "stream",
     "text": [
      "Gains/Lift Table: Avg response rate: 32.23 %\n",
      "\n"
     ]
    },
    {
     "data": {
      "text/html": [
       "<div style=\"overflow:auto\"><table style=\"width:50%\"><tr><td><b></b></td>\n",
       "<td><b>group</b></td>\n",
       "<td><b>cumulative_data_fraction</b></td>\n",
       "<td><b>lower_threshold</b></td>\n",
       "<td><b>lift</b></td>\n",
       "<td><b>cumulative_lift</b></td>\n",
       "<td><b>response_rate</b></td>\n",
       "<td><b>cumulative_response_rate</b></td>\n",
       "<td><b>capture_rate</b></td>\n",
       "<td><b>cumulative_capture_rate</b></td>\n",
       "<td><b>gain</b></td>\n",
       "<td><b>cumulative_gain</b></td></tr>\n",
       "<tr><td></td>\n",
       "<td>1</td>\n",
       "<td>0.0100148</td>\n",
       "<td>0.5080313</td>\n",
       "<td>2.2671166</td>\n",
       "<td>2.2671166</td>\n",
       "<td>0.7307692</td>\n",
       "<td>0.7307692</td>\n",
       "<td>0.0227046</td>\n",
       "<td>0.0227046</td>\n",
       "<td>126.7116572</td>\n",
       "<td>126.7116572</td></tr>\n",
       "<tr><td></td>\n",
       "<td>2</td>\n",
       "<td>0.0200295</td>\n",
       "<td>0.4475764</td>\n",
       "<td>1.6903939</td>\n",
       "<td>1.9787553</td>\n",
       "<td>0.5448718</td>\n",
       "<td>0.6378205</td>\n",
       "<td>0.0169289</td>\n",
       "<td>0.0396335</td>\n",
       "<td>69.0393935</td>\n",
       "<td>97.8755254</td></tr>\n",
       "<tr><td></td>\n",
       "<td>3</td>\n",
       "<td>0.0300122</td>\n",
       "<td>0.4264360</td>\n",
       "<td>1.6260010</td>\n",
       "<td>1.8614220</td>\n",
       "<td>0.5241158</td>\n",
       "<td>0.6</td>\n",
       "<td>0.0162318</td>\n",
       "<td>0.0558654</td>\n",
       "<td>62.6001021</td>\n",
       "<td>86.1422027</td></tr>\n",
       "<tr><td></td>\n",
       "<td>4</td>\n",
       "<td>0.0401554</td>\n",
       "<td>0.4162171</td>\n",
       "<td>1.5708203</td>\n",
       "<td>1.7880166</td>\n",
       "<td>0.5063291</td>\n",
       "<td>0.5763389</td>\n",
       "<td>0.0159331</td>\n",
       "<td>0.0717984</td>\n",
       "<td>57.0820276</td>\n",
       "<td>78.8016629</td></tr>\n",
       "<tr><td></td>\n",
       "<td>5</td>\n",
       "<td>0.0500096</td>\n",
       "<td>0.4077326</td>\n",
       "<td>1.4147616</td>\n",
       "<td>1.7144677</td>\n",
       "<td>0.4560261</td>\n",
       "<td>0.5526316</td>\n",
       "<td>0.0139414</td>\n",
       "<td>0.0857399</td>\n",
       "<td>41.4761584</td>\n",
       "<td>71.4467657</td></tr>\n",
       "<tr><td></td>\n",
       "<td>6</td>\n",
       "<td>0.1000193</td>\n",
       "<td>0.3859287</td>\n",
       "<td>1.4775087</td>\n",
       "<td>1.5959882</td>\n",
       "<td>0.4762516</td>\n",
       "<td>0.5144416</td>\n",
       "<td>0.0738897</td>\n",
       "<td>0.1596296</td>\n",
       "<td>47.7508712</td>\n",
       "<td>59.5988185</td></tr>\n",
       "<tr><td></td>\n",
       "<td>7</td>\n",
       "<td>0.1500610</td>\n",
       "<td>0.3743655</td>\n",
       "<td>1.3332828</td>\n",
       "<td>1.5083823</td>\n",
       "<td>0.4297627</td>\n",
       "<td>0.4862032</td>\n",
       "<td>0.0667198</td>\n",
       "<td>0.2263493</td>\n",
       "<td>33.3282829</td>\n",
       "<td>50.8382270</td></tr>\n",
       "<tr><td></td>\n",
       "<td>8</td>\n",
       "<td>0.2000064</td>\n",
       "<td>0.3630064</td>\n",
       "<td>1.2242000</td>\n",
       "<td>1.4374165</td>\n",
       "<td>0.3946015</td>\n",
       "<td>0.4633285</td>\n",
       "<td>0.0611432</td>\n",
       "<td>0.2874925</td>\n",
       "<td>22.4200005</td>\n",
       "<td>43.7416518</td></tr>\n",
       "<tr><td></td>\n",
       "<td>9</td>\n",
       "<td>0.2999936</td>\n",
       "<td>0.3465059</td>\n",
       "<td>1.2200332</td>\n",
       "<td>1.3649632</td>\n",
       "<td>0.3932584</td>\n",
       "<td>0.4399743</td>\n",
       "<td>0.1219877</td>\n",
       "<td>0.4094802</td>\n",
       "<td>22.0033164</td>\n",
       "<td>36.4963153</td></tr>\n",
       "<tr><td></td>\n",
       "<td>10</td>\n",
       "<td>0.4001412</td>\n",
       "<td>0.3348779</td>\n",
       "<td>1.1166543</td>\n",
       "<td>1.3028162</td>\n",
       "<td>0.3599359</td>\n",
       "<td>0.4199422</td>\n",
       "<td>0.1118303</td>\n",
       "<td>0.5213105</td>\n",
       "<td>11.6654347</td>\n",
       "<td>30.2816235</td></tr>\n",
       "<tr><td></td>\n",
       "<td>11</td>\n",
       "<td>0.5001284</td>\n",
       "<td>0.3227265</td>\n",
       "<td>1.0178562</td>\n",
       "<td>1.2458462</td>\n",
       "<td>0.3280899</td>\n",
       "<td>0.4015788</td>\n",
       "<td>0.1017726</td>\n",
       "<td>0.6230831</td>\n",
       "<td>1.7856240</td>\n",
       "<td>24.5846183</td></tr>\n",
       "<tr><td></td>\n",
       "<td>12</td>\n",
       "<td>0.5999872</td>\n",
       "<td>0.3090735</td>\n",
       "<td>1.0002177</td>\n",
       "<td>1.2049650</td>\n",
       "<td>0.3224044</td>\n",
       "<td>0.3884015</td>\n",
       "<td>0.0998805</td>\n",
       "<td>0.7229636</td>\n",
       "<td>0.0217665</td>\n",
       "<td>20.4965040</td></tr>\n",
       "<tr><td></td>\n",
       "<td>13</td>\n",
       "<td>0.7000064</td>\n",
       "<td>0.2938556</td>\n",
       "<td>0.9179670</td>\n",
       "<td>1.1639578</td>\n",
       "<td>0.2958922</td>\n",
       "<td>0.3751834</td>\n",
       "<td>0.0918144</td>\n",
       "<td>0.8147779</td>\n",
       "<td>-8.2032997</td>\n",
       "<td>16.3957801</td></tr>\n",
       "<tr><td></td>\n",
       "<td>14</td>\n",
       "<td>0.7999936</td>\n",
       "<td>0.2738766</td>\n",
       "<td>0.7937685</td>\n",
       "<td>1.1176897</td>\n",
       "<td>0.2558587</td>\n",
       "<td>0.3602696</td>\n",
       "<td>0.0793667</td>\n",
       "<td>0.8941446</td>\n",
       "<td>-20.6231484</td>\n",
       "<td>11.7689710</td></tr>\n",
       "<tr><td></td>\n",
       "<td>15</td>\n",
       "<td>0.8999807</td>\n",
       "<td>0.2362627</td>\n",
       "<td>0.6782388</td>\n",
       "<td>1.0688671</td>\n",
       "<td>0.2186196</td>\n",
       "<td>0.3445324</td>\n",
       "<td>0.0678152</td>\n",
       "<td>0.9619598</td>\n",
       "<td>-32.1761155</td>\n",
       "<td>6.8867061</td></tr>\n",
       "<tr><td></td>\n",
       "<td>16</td>\n",
       "<td>1.0</td>\n",
       "<td>0.0653286</td>\n",
       "<td>0.3803291</td>\n",
       "<td>1.0</td>\n",
       "<td>0.1225931</td>\n",
       "<td>0.3223342</td>\n",
       "<td>0.0380402</td>\n",
       "<td>1.0</td>\n",
       "<td>-61.9670938</td>\n",
       "<td>0.0</td></tr></table></div>"
      ],
      "text/plain": [
       "    group    cumulative_data_fraction    lower_threshold    lift      cumulative_lift    response_rate    cumulative_response_rate    capture_rate    cumulative_capture_rate    gain       cumulative_gain\n",
       "--  -------  --------------------------  -----------------  --------  -----------------  ---------------  --------------------------  --------------  -------------------------  ---------  -----------------\n",
       "    1        0.0100148                   0.508031           2.26712   2.26712            0.730769         0.730769                    0.0227046       0.0227046                  126.712    126.712\n",
       "    2        0.0200295                   0.447576           1.69039   1.97876            0.544872         0.637821                    0.0169289       0.0396335                  69.0394    97.8755\n",
       "    3        0.0300122                   0.426436           1.626     1.86142            0.524116         0.6                         0.0162318       0.0558654                  62.6001    86.1422\n",
       "    4        0.0401554                   0.416217           1.57082   1.78802            0.506329         0.576339                    0.0159331       0.0717984                  57.082     78.8017\n",
       "    5        0.0500096                   0.407733           1.41476   1.71447            0.456026         0.552632                    0.0139414       0.0857399                  41.4762    71.4468\n",
       "    6        0.100019                    0.385929           1.47751   1.59599            0.476252         0.514442                    0.0738897       0.15963                    47.7509    59.5988\n",
       "    7        0.150061                    0.374365           1.33328   1.50838            0.429763         0.486203                    0.0667198       0.226349                   33.3283    50.8382\n",
       "    8        0.200006                    0.363006           1.2242    1.43742            0.394602         0.463329                    0.0611432       0.287493                   22.42      43.7417\n",
       "    9        0.299994                    0.346506           1.22003   1.36496            0.393258         0.439974                    0.121988        0.40948                    22.0033    36.4963\n",
       "    10       0.400141                    0.334878           1.11665   1.30282            0.359936         0.419942                    0.11183         0.52131                    11.6654    30.2816\n",
       "    11       0.500128                    0.322726           1.01786   1.24585            0.32809          0.401579                    0.101773        0.623083                   1.78562    24.5846\n",
       "    12       0.599987                    0.309074           1.00022   1.20497            0.322404         0.388401                    0.0998805       0.722964                   0.0217665  20.4965\n",
       "    13       0.700006                    0.293856           0.917967  1.16396            0.295892         0.375183                    0.0918144       0.814778                   -8.2033    16.3958\n",
       "    14       0.799994                    0.273877           0.793769  1.11769            0.255859         0.36027                     0.0793667       0.894145                   -20.6231   11.769\n",
       "    15       0.899981                    0.236263           0.678239  1.06887            0.21862          0.344532                    0.0678152       0.96196                    -32.1761   6.88671\n",
       "    16       1                           0.0653286          0.380329  1                  0.122593         0.322334                    0.0380402       1                          -61.9671   0"
      ]
     },
     "metadata": {},
     "output_type": "display_data"
    },
    {
     "name": "stdout",
     "output_type": "stream",
     "text": [
      "\n",
      "\n",
      "Could not find exact threshold 0.291758573955; using closest threshold found 0.292027509163.\n",
      "Could not find exact threshold 0.26558032477; using closest threshold found 0.265649385766.\n",
      "Could not find exact threshold 0.291758573955; using closest threshold found 0.292027509163.\n",
      "Could not find exact threshold 0.26558032477; using closest threshold found 0.265649385766.\n",
      "Could not find exact threshold 0.291758573955; using closest threshold found 0.292027509163.\n",
      "Could not find exact threshold 0.26558032477; using closest threshold found 0.265649385766.\n",
      "Could not find exact threshold 0.291758573955; using closest threshold found 0.292027509163.\n",
      "Could not find exact threshold 0.26558032477; using closest threshold found 0.265649385766.\n",
      "Could not find exact threshold 0.291758573955; using closest threshold found 0.292027509163.\n",
      "Could not find exact threshold 0.26558032477; using closest threshold found 0.265649385766.\n",
      "Could not find exact threshold 0.291758573955; using closest threshold found 0.292027509163.\n",
      "Could not find exact threshold 0.26558032477; using closest threshold found 0.265649385766.\n",
      "Could not find exact threshold 0.291758573955; using closest threshold found 0.292027509163.\n",
      "Could not find exact threshold 0.26558032477; using closest threshold found 0.265649385766.\n",
      "Could not find exact threshold 0.291758573955; using closest threshold found 0.292027509163.\n",
      "Could not find exact threshold 0.26558032477; using closest threshold found 0.265649385766.\n",
      "Could not find exact threshold 0.291758573955; using closest threshold found 0.292027509163.\n",
      "Could not find exact threshold 0.26558032477; using closest threshold found 0.265649385766.\n",
      "Could not find exact threshold 0.291758573955; using closest threshold found 0.292027509163.\n",
      "Could not find exact threshold 0.26558032477; using closest threshold found 0.265649385766.\n",
      "Could not find exact threshold 0.291758573955; using closest threshold found 0.292027509163.\n",
      "Could not find exact threshold 0.26558032477; using closest threshold found 0.265649385766.\n",
      "Could not find exact threshold 0.291758573955; using closest threshold found 0.292027509163.\n",
      "Could not find exact threshold 0.26558032477; using closest threshold found 0.265649385766.\n",
      "Could not find exact threshold 0.291758573955; using closest threshold found 0.292027509163.\n",
      "Could not find exact threshold 0.26558032477; using closest threshold found 0.265649385766.\n",
      "Could not find exact threshold 0.291758573955; using closest threshold found 0.292027509163.\n",
      "Could not find exact threshold 0.26558032477; using closest threshold found 0.265649385766.\n"
     ]
    },
    {
     "data": {
      "image/png": "[encoded data removed]",
      "text/plain": [
       "<matplotlib.figure.Figure at 0x7f1c1d10fdd0>"
      ]
     },
     "metadata": {},
     "output_type": "display_data"
    },
    {
     "data": {
      "image/png": "[encoded data removed]",
      "text/plain": [
       "<matplotlib.figure.Figure at 0x7f1c1d27a650>"
      ]
     },
     "metadata": {},
     "output_type": "display_data"
    },
    {
     "data": {
      "image/png": "[encoded data removed]",
      "text/plain": [
       "<matplotlib.figure.Figure at 0x7f1c50747190>"
      ]
     },
     "metadata": {},
     "output_type": "display_data"
    },
    {
     "data": {
      "image/png": "[encoded data removed]",
      "text/plain": [
       "<matplotlib.figure.Figure at 0x7f1c1d577e50>"
      ]
     },
     "metadata": {},
     "output_type": "display_data"
    },
    {
     "data": {
      "application/javascript": [
       "$(document).ready(\n",
       "    function() {\n",
       "        function appendUniqueDiv(){\n",
       "            // append a div with our uuid so we can check that it's already\n",
       "            // been sent and avoid duplicates on page reload\n",
       "            var notifiedDiv = document.createElement(\"div\")\n",
       "            notifiedDiv.id = \"fcd6e04c-63af-4f48-bedd-01ec440f4e6c\"\n",
       "            element.append(notifiedDiv)\n",
       "        }\n",
       "\n",
       "        // only send notifications if the pageload is complete; this will\n",
       "        // help stop extra notifications when a saved notebook is loaded,\n",
       "        // which during testing gives us state \"interactive\", not \"complete\"\n",
       "        if (document.readyState === 'complete') {\n",
       "            // check for the div that signifies that the notification\n",
       "            // was already sent\n",
       "            if (document.getElementById(\"fcd6e04c-63af-4f48-bedd-01ec440f4e6c\") === null) {\n",
       "                var notificationPayload = {\"body\": \"CCC_model_pykahos: ended fit \", \"requireInteraction\": false, \"icon\": \"/static/base/images/favicon.ico\"};\n",
       "                if (Notification.permission !== 'denied') {\n",
       "                    if (Notification.permission !== 'granted') { \n",
       "                        Notification.requestPermission(function (permission) {\n",
       "                            if(!('permission' in Notification)) {\n",
       "                                Notification.permission = permission\n",
       "                            }\n",
       "                        })\n",
       "                    }\n",
       "                    if (Notification.permission === 'granted') {\n",
       "                    var notification = new Notification(\"Jupyter Notebook\", notificationPayload)\n",
       "                    appendUniqueDiv()\n",
       "                    notification.onclick = function () {\n",
       "                        window.focus();\n",
       "                        this.close();\n",
       "                        };\n",
       "                    } \n",
       "                }     \n",
       "            }\n",
       "        }\n",
       "    }\n",
       ")\n"
      ],
      "text/plain": [
       "<IPython.core.display.Javascript object>"
      ]
     },
     "metadata": {},
     "output_type": "display_data"
    }
   ],
   "source": [
    "%%notify -m \"CCC_model_pykahos: ended fit \"\n",
    "modeler = Model(MODEL_NAME, MODEL_YAML_PATH, verbose=False)\n",
    "modeler.fit(data_abs_data_obj)"
   ]
  },
  {
   "cell_type": "markdown",
   "metadata": {},
   "source": [
    "# SAVE model"
   ]
  },
  {
   "cell_type": "code",
   "execution_count": 99,
   "metadata": {
    "collapsed": false
   },
   "outputs": [
    {
     "name": "stdout",
     "output_type": "stream",
     "text": [
      "************** model.py save\n",
      "['model_fit_config', 'model_fit_params', 'numero_variables', 'target_freq', 'model train metrics', 'target_freq_split', 'test_partition_size', 'model_fit_score_hist', 'model test metrics', 'train_partition_size']\n",
      "Starting save of model at '/var/SP/data/home/csanc109/data/churn/ccc/results/ccc_comercial_tests/20190118_111624/model/ccc_comercial_tests.pkl'\n",
      "Creating directory /var/SP/data/home/csanc109/data/churn/ccc/results/ccc_comercial_tests/20190118_111624/model\n",
      "save h2o_factory /var/SP/data/home/csanc109/data/churn/ccc/results/ccc_comercial_tests/20190118_111624/model\n",
      "save h2o_factory_saving_path /var/SP/data/home/csanc109/data/churn/ccc/results/ccc_comercial_tests/20190118_111624/model/h2o_factory\n",
      "Saved h2o model in path /var/SP/data/home/csanc109/data/churn/ccc/results/ccc_comercial_tests/20190118_111624/model/h2o_factory/Grid_GBM_py_292_sid_aa6f_model_python_1547806588081_1_model_1\n",
      "Saving object at /var/SP/data/home/csanc109/data/churn/ccc/results/ccc_comercial_tests/20190118_111624/model/ccc_comercial_tests.pkl\n",
      "Calling to __getstate model\n",
      "saving_model_info\n",
      "['model_fit_config', 'model_fit_params', 'numero_variables', 'target_freq', 'model train metrics', 'target_freq_split', 'test_partition_size', 'model_fit_score_hist', 'model test metrics', 'train_partition_size']\n"
     ]
    },
    {
     "ename": "PicklingError",
     "evalue": "Can't pickle <class pykhaos.modeling.factory.h2o_factory.H2OFactory at 0x7f1c5b1aec80>: it's not the same object as pykhaos.modeling.factory.h2o_factory.H2OFactory",
     "output_type": "error",
     "traceback": [
      "\u001b[0;31m---------------------------------------------------------------------------\u001b[0m",
      "\u001b[0;31mPicklingError\u001b[0m                             Traceback (most recent call last)",
      "\u001b[0;32m<ipython-input-99-fcaf59bae821>\u001b[0m in \u001b[0;36m<module>\u001b[0;34m()\u001b[0m\n\u001b[1;32m      5\u001b[0m \u001b[0;32mfrom\u001b[0m \u001b[0mchurn\u001b[0m\u001b[0;34m.\u001b[0m\u001b[0mutils\u001b[0m\u001b[0;34m.\u001b[0m\u001b[0mconstants\u001b[0m \u001b[0;32mimport\u001b[0m \u001b[0mYAML_DATA_PREPARATION\u001b[0m\u001b[0;34m,\u001b[0m \u001b[0mYAML_CLOSING_DAY\u001b[0m\u001b[0;34m\u001b[0m\u001b[0m\n\u001b[1;32m      6\u001b[0m \u001b[0msave_model_path\u001b[0m \u001b[0;34m=\u001b[0m  \u001b[0mos\u001b[0m\u001b[0;34m.\u001b[0m\u001b[0mpath\u001b[0m\u001b[0;34m.\u001b[0m\u001b[0mjoin\u001b[0m\u001b[0;34m(\u001b[0m\u001b[0mSAVING_PATH_UNIQUE\u001b[0m\u001b[0;34m,\u001b[0m \u001b[0;34m\"model\"\u001b[0m\u001b[0;34m)\u001b[0m\u001b[0;34m\u001b[0m\u001b[0m\n\u001b[0;32m----> 7\u001b[0;31m \u001b[0mmodeler\u001b[0m\u001b[0;34m.\u001b[0m\u001b[0msave\u001b[0m\u001b[0;34m(\u001b[0m\u001b[0msave_model_path\u001b[0m\u001b[0;34m)\u001b[0m\u001b[0;34m\u001b[0m\u001b[0m\n\u001b[0m\u001b[1;32m      8\u001b[0m \u001b[0mresult\u001b[0m\u001b[0;34m=\u001b[0m\u001b[0;34m\"OK\"\u001b[0m\u001b[0;34m\u001b[0m\u001b[0m\n\u001b[1;32m      9\u001b[0m \u001b[0;34m\"CCC_model_pykahos: [{}] model saved \"\u001b[0m\u001b[0;34m.\u001b[0m\u001b[0mformat\u001b[0m\u001b[0;34m(\u001b[0m\u001b[0mresult\u001b[0m\u001b[0;34m)\u001b[0m\u001b[0;34m\u001b[0m\u001b[0m\n",
      "\u001b[0;32m/var/SP/data/home/csanc109/src/devel/pykhaos/modeling/model.pyc\u001b[0m in \u001b[0;36msave\u001b[0;34m(self, dir_path)\u001b[0m\n\u001b[1;32m    100\u001b[0m             \u001b[0mos\u001b[0m\u001b[0;34m.\u001b[0m\u001b[0mmakedirs\u001b[0m\u001b[0;34m(\u001b[0m\u001b[0mdir_path\u001b[0m\u001b[0;34m)\u001b[0m\u001b[0;34m\u001b[0m\u001b[0m\n\u001b[1;32m    101\u001b[0m         \u001b[0mself\u001b[0m\u001b[0;34m.\u001b[0m\u001b[0m__model\u001b[0m\u001b[0;34m.\u001b[0m\u001b[0msave\u001b[0m\u001b[0;34m(\u001b[0m\u001b[0mdir_path\u001b[0m\u001b[0;34m)\u001b[0m\u001b[0;34m\u001b[0m\u001b[0m\n\u001b[0;32m--> 102\u001b[0;31m         \u001b[0msave_object\u001b[0m\u001b[0;34m(\u001b[0m\u001b[0mself\u001b[0m\u001b[0;34m,\u001b[0m \u001b[0mfilename\u001b[0m\u001b[0;34m)\u001b[0m\u001b[0;34m\u001b[0m\u001b[0m\n\u001b[0m\u001b[1;32m    103\u001b[0m         \u001b[0;32mprint\u001b[0m\u001b[0;34m(\u001b[0m\u001b[0;34m\"Model object saved succesfully in file '{}'\"\u001b[0m\u001b[0;34m.\u001b[0m\u001b[0mformat\u001b[0m\u001b[0;34m(\u001b[0m\u001b[0mfilename\u001b[0m\u001b[0;34m)\u001b[0m\u001b[0;34m)\u001b[0m\u001b[0;34m\u001b[0m\u001b[0m\n\u001b[1;32m    104\u001b[0m \u001b[0;34m\u001b[0m\u001b[0m\n",
      "\u001b[0;32m/var/SP/data/home/csanc109/src/devel/pykhaos/utils/io.pyc\u001b[0m in \u001b[0;36msave_object\u001b[0;34m(obj, filename)\u001b[0m\n\u001b[1;32m     21\u001b[0m     \u001b[0;32mprint\u001b[0m\u001b[0;34m(\u001b[0m\u001b[0;34m\"Saving object at {}\"\u001b[0m\u001b[0;34m.\u001b[0m\u001b[0mformat\u001b[0m\u001b[0;34m(\u001b[0m\u001b[0mfilename\u001b[0m\u001b[0;34m)\u001b[0m\u001b[0;34m)\u001b[0m\u001b[0;34m\u001b[0m\u001b[0m\n\u001b[1;32m     22\u001b[0m     \u001b[0;32mwith\u001b[0m \u001b[0mopen\u001b[0m\u001b[0;34m(\u001b[0m\u001b[0mfilename\u001b[0m\u001b[0;34m,\u001b[0m \u001b[0;34m'wb'\u001b[0m\u001b[0;34m)\u001b[0m \u001b[0;32mas\u001b[0m \u001b[0moutput\u001b[0m\u001b[0;34m:\u001b[0m  \u001b[0;31m# Overwrites any existing file.\u001b[0m\u001b[0;34m\u001b[0m\u001b[0m\n\u001b[0;32m---> 23\u001b[0;31m         \u001b[0mpickle\u001b[0m\u001b[0;34m.\u001b[0m\u001b[0mdump\u001b[0m\u001b[0;34m(\u001b[0m\u001b[0mobj\u001b[0m\u001b[0;34m,\u001b[0m \u001b[0moutput\u001b[0m\u001b[0;34m,\u001b[0m \u001b[0;34m-\u001b[0m\u001b[0;36m1\u001b[0m\u001b[0;34m)\u001b[0m\u001b[0;34m\u001b[0m\u001b[0m\n\u001b[0m\u001b[1;32m     24\u001b[0m \u001b[0;34m\u001b[0m\u001b[0m\n\u001b[1;32m     25\u001b[0m \u001b[0;32mdef\u001b[0m \u001b[0mload_object\u001b[0m\u001b[0;34m(\u001b[0m\u001b[0mfilename\u001b[0m\u001b[0;34m)\u001b[0m\u001b[0;34m:\u001b[0m\u001b[0;34m\u001b[0m\u001b[0m\n",
      "\u001b[0;32m/opt/cloudera/parcels/Anaconda/lib/python2.7/pickle.pyc\u001b[0m in \u001b[0;36mdump\u001b[0;34m(obj, file, protocol)\u001b[0m\n\u001b[1;32m   1374\u001b[0m \u001b[0;34m\u001b[0m\u001b[0m\n\u001b[1;32m   1375\u001b[0m \u001b[0;32mdef\u001b[0m \u001b[0mdump\u001b[0m\u001b[0;34m(\u001b[0m\u001b[0mobj\u001b[0m\u001b[0;34m,\u001b[0m \u001b[0mfile\u001b[0m\u001b[0;34m,\u001b[0m \u001b[0mprotocol\u001b[0m\u001b[0;34m=\u001b[0m\u001b[0mNone\u001b[0m\u001b[0;34m)\u001b[0m\u001b[0;34m:\u001b[0m\u001b[0;34m\u001b[0m\u001b[0m\n\u001b[0;32m-> 1376\u001b[0;31m     \u001b[0mPickler\u001b[0m\u001b[0;34m(\u001b[0m\u001b[0mfile\u001b[0m\u001b[0;34m,\u001b[0m \u001b[0mprotocol\u001b[0m\u001b[0;34m)\u001b[0m\u001b[0;34m.\u001b[0m\u001b[0mdump\u001b[0m\u001b[0;34m(\u001b[0m\u001b[0mobj\u001b[0m\u001b[0;34m)\u001b[0m\u001b[0;34m\u001b[0m\u001b[0m\n\u001b[0m\u001b[1;32m   1377\u001b[0m \u001b[0;34m\u001b[0m\u001b[0m\n\u001b[1;32m   1378\u001b[0m \u001b[0;32mdef\u001b[0m \u001b[0mdumps\u001b[0m\u001b[0;34m(\u001b[0m\u001b[0mobj\u001b[0m\u001b[0;34m,\u001b[0m \u001b[0mprotocol\u001b[0m\u001b[0;34m=\u001b[0m\u001b[0mNone\u001b[0m\u001b[0;34m)\u001b[0m\u001b[0;34m:\u001b[0m\u001b[0;34m\u001b[0m\u001b[0m\n",
      "\u001b[0;32m/opt/cloudera/parcels/Anaconda/lib/python2.7/pickle.pyc\u001b[0m in \u001b[0;36mdump\u001b[0;34m(self, obj)\u001b[0m\n\u001b[1;32m    222\u001b[0m         \u001b[0;32mif\u001b[0m \u001b[0mself\u001b[0m\u001b[0;34m.\u001b[0m\u001b[0mproto\u001b[0m \u001b[0;34m>=\u001b[0m \u001b[0;36m2\u001b[0m\u001b[0;34m:\u001b[0m\u001b[0;34m\u001b[0m\u001b[0m\n\u001b[1;32m    223\u001b[0m             \u001b[0mself\u001b[0m\u001b[0;34m.\u001b[0m\u001b[0mwrite\u001b[0m\u001b[0;34m(\u001b[0m\u001b[0mPROTO\u001b[0m \u001b[0;34m+\u001b[0m \u001b[0mchr\u001b[0m\u001b[0;34m(\u001b[0m\u001b[0mself\u001b[0m\u001b[0;34m.\u001b[0m\u001b[0mproto\u001b[0m\u001b[0;34m)\u001b[0m\u001b[0;34m)\u001b[0m\u001b[0;34m\u001b[0m\u001b[0m\n\u001b[0;32m--> 224\u001b[0;31m         \u001b[0mself\u001b[0m\u001b[0;34m.\u001b[0m\u001b[0msave\u001b[0m\u001b[0;34m(\u001b[0m\u001b[0mobj\u001b[0m\u001b[0;34m)\u001b[0m\u001b[0;34m\u001b[0m\u001b[0m\n\u001b[0m\u001b[1;32m    225\u001b[0m         \u001b[0mself\u001b[0m\u001b[0;34m.\u001b[0m\u001b[0mwrite\u001b[0m\u001b[0;34m(\u001b[0m\u001b[0mSTOP\u001b[0m\u001b[0;34m)\u001b[0m\u001b[0;34m\u001b[0m\u001b[0m\n\u001b[1;32m    226\u001b[0m \u001b[0;34m\u001b[0m\u001b[0m\n",
      "\u001b[0;32m/opt/cloudera/parcels/Anaconda/lib/python2.7/pickle.pyc\u001b[0m in \u001b[0;36msave\u001b[0;34m(self, obj)\u001b[0m\n\u001b[1;32m    284\u001b[0m         \u001b[0mf\u001b[0m \u001b[0;34m=\u001b[0m \u001b[0mself\u001b[0m\u001b[0;34m.\u001b[0m\u001b[0mdispatch\u001b[0m\u001b[0;34m.\u001b[0m\u001b[0mget\u001b[0m\u001b[0;34m(\u001b[0m\u001b[0mt\u001b[0m\u001b[0;34m)\u001b[0m\u001b[0;34m\u001b[0m\u001b[0m\n\u001b[1;32m    285\u001b[0m         \u001b[0;32mif\u001b[0m \u001b[0mf\u001b[0m\u001b[0;34m:\u001b[0m\u001b[0;34m\u001b[0m\u001b[0m\n\u001b[0;32m--> 286\u001b[0;31m             \u001b[0mf\u001b[0m\u001b[0;34m(\u001b[0m\u001b[0mself\u001b[0m\u001b[0;34m,\u001b[0m \u001b[0mobj\u001b[0m\u001b[0;34m)\u001b[0m \u001b[0;31m# Call unbound method with explicit self\u001b[0m\u001b[0;34m\u001b[0m\u001b[0m\n\u001b[0m\u001b[1;32m    287\u001b[0m             \u001b[0;32mreturn\u001b[0m\u001b[0;34m\u001b[0m\u001b[0m\n\u001b[1;32m    288\u001b[0m \u001b[0;34m\u001b[0m\u001b[0m\n",
      "\u001b[0;32m/opt/cloudera/parcels/Anaconda/lib/python2.7/pickle.pyc\u001b[0m in \u001b[0;36msave_inst\u001b[0;34m(self, obj)\u001b[0m\n\u001b[1;32m    729\u001b[0m             \u001b[0mstuff\u001b[0m \u001b[0;34m=\u001b[0m \u001b[0mgetstate\u001b[0m\u001b[0;34m(\u001b[0m\u001b[0;34m)\u001b[0m\u001b[0;34m\u001b[0m\u001b[0m\n\u001b[1;32m    730\u001b[0m             \u001b[0m_keep_alive\u001b[0m\u001b[0;34m(\u001b[0m\u001b[0mstuff\u001b[0m\u001b[0;34m,\u001b[0m \u001b[0mmemo\u001b[0m\u001b[0;34m)\u001b[0m\u001b[0;34m\u001b[0m\u001b[0m\n\u001b[0;32m--> 731\u001b[0;31m         \u001b[0msave\u001b[0m\u001b[0;34m(\u001b[0m\u001b[0mstuff\u001b[0m\u001b[0;34m)\u001b[0m\u001b[0;34m\u001b[0m\u001b[0m\n\u001b[0m\u001b[1;32m    732\u001b[0m         \u001b[0mwrite\u001b[0m\u001b[0;34m(\u001b[0m\u001b[0mBUILD\u001b[0m\u001b[0;34m)\u001b[0m\u001b[0;34m\u001b[0m\u001b[0m\n\u001b[1;32m    733\u001b[0m \u001b[0;34m\u001b[0m\u001b[0m\n",
      "\u001b[0;32m/opt/cloudera/parcels/Anaconda/lib/python2.7/pickle.pyc\u001b[0m in \u001b[0;36msave\u001b[0;34m(self, obj)\u001b[0m\n\u001b[1;32m    284\u001b[0m         \u001b[0mf\u001b[0m \u001b[0;34m=\u001b[0m \u001b[0mself\u001b[0m\u001b[0;34m.\u001b[0m\u001b[0mdispatch\u001b[0m\u001b[0;34m.\u001b[0m\u001b[0mget\u001b[0m\u001b[0;34m(\u001b[0m\u001b[0mt\u001b[0m\u001b[0;34m)\u001b[0m\u001b[0;34m\u001b[0m\u001b[0m\n\u001b[1;32m    285\u001b[0m         \u001b[0;32mif\u001b[0m \u001b[0mf\u001b[0m\u001b[0;34m:\u001b[0m\u001b[0;34m\u001b[0m\u001b[0m\n\u001b[0;32m--> 286\u001b[0;31m             \u001b[0mf\u001b[0m\u001b[0;34m(\u001b[0m\u001b[0mself\u001b[0m\u001b[0;34m,\u001b[0m \u001b[0mobj\u001b[0m\u001b[0;34m)\u001b[0m \u001b[0;31m# Call unbound method with explicit self\u001b[0m\u001b[0;34m\u001b[0m\u001b[0m\n\u001b[0m\u001b[1;32m    287\u001b[0m             \u001b[0;32mreturn\u001b[0m\u001b[0;34m\u001b[0m\u001b[0m\n\u001b[1;32m    288\u001b[0m \u001b[0;34m\u001b[0m\u001b[0m\n",
      "\u001b[0;32m/opt/cloudera/parcels/Anaconda/lib/python2.7/pickle.pyc\u001b[0m in \u001b[0;36msave_dict\u001b[0;34m(self, obj)\u001b[0m\n\u001b[1;32m    653\u001b[0m \u001b[0;34m\u001b[0m\u001b[0m\n\u001b[1;32m    654\u001b[0m         \u001b[0mself\u001b[0m\u001b[0;34m.\u001b[0m\u001b[0mmemoize\u001b[0m\u001b[0;34m(\u001b[0m\u001b[0mobj\u001b[0m\u001b[0;34m)\u001b[0m\u001b[0;34m\u001b[0m\u001b[0m\n\u001b[0;32m--> 655\u001b[0;31m         \u001b[0mself\u001b[0m\u001b[0;34m.\u001b[0m\u001b[0m_batch_setitems\u001b[0m\u001b[0;34m(\u001b[0m\u001b[0mobj\u001b[0m\u001b[0;34m.\u001b[0m\u001b[0miteritems\u001b[0m\u001b[0;34m(\u001b[0m\u001b[0;34m)\u001b[0m\u001b[0;34m)\u001b[0m\u001b[0;34m\u001b[0m\u001b[0m\n\u001b[0m\u001b[1;32m    656\u001b[0m \u001b[0;34m\u001b[0m\u001b[0m\n\u001b[1;32m    657\u001b[0m     \u001b[0mdispatch\u001b[0m\u001b[0;34m[\u001b[0m\u001b[0mDictionaryType\u001b[0m\u001b[0;34m]\u001b[0m \u001b[0;34m=\u001b[0m \u001b[0msave_dict\u001b[0m\u001b[0;34m\u001b[0m\u001b[0m\n",
      "\u001b[0;32m/opt/cloudera/parcels/Anaconda/lib/python2.7/pickle.pyc\u001b[0m in \u001b[0;36m_batch_setitems\u001b[0;34m(self, items)\u001b[0m\n\u001b[1;32m    685\u001b[0m                 \u001b[0;32mfor\u001b[0m \u001b[0mk\u001b[0m\u001b[0;34m,\u001b[0m \u001b[0mv\u001b[0m \u001b[0;32min\u001b[0m \u001b[0mtmp\u001b[0m\u001b[0;34m:\u001b[0m\u001b[0;34m\u001b[0m\u001b[0m\n\u001b[1;32m    686\u001b[0m                     \u001b[0msave\u001b[0m\u001b[0;34m(\u001b[0m\u001b[0mk\u001b[0m\u001b[0;34m)\u001b[0m\u001b[0;34m\u001b[0m\u001b[0m\n\u001b[0;32m--> 687\u001b[0;31m                     \u001b[0msave\u001b[0m\u001b[0;34m(\u001b[0m\u001b[0mv\u001b[0m\u001b[0;34m)\u001b[0m\u001b[0;34m\u001b[0m\u001b[0m\n\u001b[0m\u001b[1;32m    688\u001b[0m                 \u001b[0mwrite\u001b[0m\u001b[0;34m(\u001b[0m\u001b[0mSETITEMS\u001b[0m\u001b[0;34m)\u001b[0m\u001b[0;34m\u001b[0m\u001b[0m\n\u001b[1;32m    689\u001b[0m             \u001b[0;32melif\u001b[0m \u001b[0mn\u001b[0m\u001b[0;34m:\u001b[0m\u001b[0;34m\u001b[0m\u001b[0m\n",
      "\u001b[0;32m/opt/cloudera/parcels/Anaconda/lib/python2.7/pickle.pyc\u001b[0m in \u001b[0;36msave\u001b[0;34m(self, obj)\u001b[0m\n\u001b[1;32m    284\u001b[0m         \u001b[0mf\u001b[0m \u001b[0;34m=\u001b[0m \u001b[0mself\u001b[0m\u001b[0;34m.\u001b[0m\u001b[0mdispatch\u001b[0m\u001b[0;34m.\u001b[0m\u001b[0mget\u001b[0m\u001b[0;34m(\u001b[0m\u001b[0mt\u001b[0m\u001b[0;34m)\u001b[0m\u001b[0;34m\u001b[0m\u001b[0m\n\u001b[1;32m    285\u001b[0m         \u001b[0;32mif\u001b[0m \u001b[0mf\u001b[0m\u001b[0;34m:\u001b[0m\u001b[0;34m\u001b[0m\u001b[0m\n\u001b[0;32m--> 286\u001b[0;31m             \u001b[0mf\u001b[0m\u001b[0;34m(\u001b[0m\u001b[0mself\u001b[0m\u001b[0;34m,\u001b[0m \u001b[0mobj\u001b[0m\u001b[0;34m)\u001b[0m \u001b[0;31m# Call unbound method with explicit self\u001b[0m\u001b[0;34m\u001b[0m\u001b[0m\n\u001b[0m\u001b[1;32m    287\u001b[0m             \u001b[0;32mreturn\u001b[0m\u001b[0;34m\u001b[0m\u001b[0m\n\u001b[1;32m    288\u001b[0m \u001b[0;34m\u001b[0m\u001b[0m\n",
      "\u001b[0;32m/opt/cloudera/parcels/Anaconda/lib/python2.7/pickle.pyc\u001b[0m in \u001b[0;36msave_inst\u001b[0;34m(self, obj)\u001b[0m\n\u001b[1;32m    711\u001b[0m \u001b[0;34m\u001b[0m\u001b[0m\n\u001b[1;32m    712\u001b[0m         \u001b[0;32mif\u001b[0m \u001b[0mself\u001b[0m\u001b[0;34m.\u001b[0m\u001b[0mbin\u001b[0m\u001b[0;34m:\u001b[0m\u001b[0;34m\u001b[0m\u001b[0m\n\u001b[0;32m--> 713\u001b[0;31m             \u001b[0msave\u001b[0m\u001b[0;34m(\u001b[0m\u001b[0mcls\u001b[0m\u001b[0;34m)\u001b[0m\u001b[0;34m\u001b[0m\u001b[0m\n\u001b[0m\u001b[1;32m    714\u001b[0m             \u001b[0;32mfor\u001b[0m \u001b[0marg\u001b[0m \u001b[0;32min\u001b[0m \u001b[0margs\u001b[0m\u001b[0;34m:\u001b[0m\u001b[0;34m\u001b[0m\u001b[0m\n\u001b[1;32m    715\u001b[0m                 \u001b[0msave\u001b[0m\u001b[0;34m(\u001b[0m\u001b[0marg\u001b[0m\u001b[0;34m)\u001b[0m\u001b[0;34m\u001b[0m\u001b[0m\n",
      "\u001b[0;32m/opt/cloudera/parcels/Anaconda/lib/python2.7/pickle.pyc\u001b[0m in \u001b[0;36msave\u001b[0;34m(self, obj)\u001b[0m\n\u001b[1;32m    284\u001b[0m         \u001b[0mf\u001b[0m \u001b[0;34m=\u001b[0m \u001b[0mself\u001b[0m\u001b[0;34m.\u001b[0m\u001b[0mdispatch\u001b[0m\u001b[0;34m.\u001b[0m\u001b[0mget\u001b[0m\u001b[0;34m(\u001b[0m\u001b[0mt\u001b[0m\u001b[0;34m)\u001b[0m\u001b[0;34m\u001b[0m\u001b[0m\n\u001b[1;32m    285\u001b[0m         \u001b[0;32mif\u001b[0m \u001b[0mf\u001b[0m\u001b[0;34m:\u001b[0m\u001b[0;34m\u001b[0m\u001b[0m\n\u001b[0;32m--> 286\u001b[0;31m             \u001b[0mf\u001b[0m\u001b[0;34m(\u001b[0m\u001b[0mself\u001b[0m\u001b[0;34m,\u001b[0m \u001b[0mobj\u001b[0m\u001b[0;34m)\u001b[0m \u001b[0;31m# Call unbound method with explicit self\u001b[0m\u001b[0;34m\u001b[0m\u001b[0m\n\u001b[0m\u001b[1;32m    287\u001b[0m             \u001b[0;32mreturn\u001b[0m\u001b[0;34m\u001b[0m\u001b[0m\n\u001b[1;32m    288\u001b[0m \u001b[0;34m\u001b[0m\u001b[0m\n",
      "\u001b[0;32m/opt/cloudera/parcels/Anaconda/lib/python2.7/pickle.pyc\u001b[0m in \u001b[0;36msave_global\u001b[0;34m(self, obj, name, pack)\u001b[0m\n\u001b[1;32m    757\u001b[0m                 raise PicklingError(\n\u001b[1;32m    758\u001b[0m                     \u001b[0;34m\"Can't pickle %r: it's not the same object as %s.%s\"\u001b[0m \u001b[0;34m%\u001b[0m\u001b[0;34m\u001b[0m\u001b[0m\n\u001b[0;32m--> 759\u001b[0;31m                     (obj, module, name))\n\u001b[0m\u001b[1;32m    760\u001b[0m \u001b[0;34m\u001b[0m\u001b[0m\n\u001b[1;32m    761\u001b[0m         \u001b[0;32mif\u001b[0m \u001b[0mself\u001b[0m\u001b[0;34m.\u001b[0m\u001b[0mproto\u001b[0m \u001b[0;34m>=\u001b[0m \u001b[0;36m2\u001b[0m\u001b[0;34m:\u001b[0m\u001b[0;34m\u001b[0m\u001b[0m\n",
      "\u001b[0;31mPicklingError\u001b[0m: Can't pickle <class pykhaos.modeling.factory.h2o_factory.H2OFactory at 0x7f1c5b1aec80>: it's not the same object as pykhaos.modeling.factory.h2o_factory.H2OFactory"
     ]
    },
    {
     "data": {
      "application/javascript": [
       "$(document).ready(\n",
       "    function() {\n",
       "        function appendUniqueDiv(){\n",
       "            // append a div with our uuid so we can check that it's already\n",
       "            // been sent and avoid duplicates on page reload\n",
       "            var notifiedDiv = document.createElement(\"div\")\n",
       "            notifiedDiv.id = \"0db8aad9-001e-402b-954a-f667d02ef939\"\n",
       "            element.append(notifiedDiv)\n",
       "        }\n",
       "\n",
       "        // only send notifications if the pageload is complete; this will\n",
       "        // help stop extra notifications when a saved notebook is loaded,\n",
       "        // which during testing gives us state \"interactive\", not \"complete\"\n",
       "        if (document.readyState === 'complete') {\n",
       "            // check for the div that signifies that the notification\n",
       "            // was already sent\n",
       "            if (document.getElementById(\"0db8aad9-001e-402b-954a-f667d02ef939\") === null) {\n",
       "                var notificationPayload = {\"body\": \"Cell execution has finished!\", \"requireInteraction\": false, \"icon\": \"/static/base/images/favicon.ico\"};\n",
       "                if (Notification.permission !== 'denied') {\n",
       "                    if (Notification.permission !== 'granted') { \n",
       "                        Notification.requestPermission(function (permission) {\n",
       "                            if(!('permission' in Notification)) {\n",
       "                                Notification.permission = permission\n",
       "                            }\n",
       "                        })\n",
       "                    }\n",
       "                    if (Notification.permission === 'granted') {\n",
       "                    var notification = new Notification(\"Jupyter Notebook\", notificationPayload)\n",
       "                    appendUniqueDiv()\n",
       "                    notification.onclick = function () {\n",
       "                        window.focus();\n",
       "                        this.close();\n",
       "                        };\n",
       "                    } \n",
       "                }     \n",
       "            }\n",
       "        }\n",
       "    }\n",
       ")\n"
      ],
      "text/plain": [
       "<IPython.core.display.Javascript object>"
      ]
     },
     "metadata": {},
     "output_type": "display_data"
    }
   ],
   "source": [
    "%%notify -o\n",
    "\n",
    "result=\"FAILED\"\n",
    "\n",
    "import datetime as dt\n",
    "from churn.utils.constants import YAML_DATA_PREPARATION, YAML_CLOSING_DAY\n",
    "save_model_path =  os.path.join(SAVING_PATH_UNIQUE, \"model\")\n",
    "modeler.save(save_model_path)\n",
    "result=\"OK\"\n",
    "\"CCC_model_pykahos: [{}] model saved \".format(result)"
   ]
  },
  {
   "cell_type": "markdown",
   "metadata": {},
   "source": [
    "# Reporter"
   ]
  },
  {
   "cell_type": "code",
   "execution_count": 58,
   "metadata": {
    "collapsed": false
   },
   "outputs": [
    {
     "name": "stdout",
     "output_type": "stream",
     "text": [
      "Reporter __init__ model_id=ccc_comercial_tests model_dir=/var/SP/data/home/csanc109/data/churn/ccc/results/ccc_comercial_tests/20190109_091356/model template_yaml_path=/var/SP/data/home/csanc109/src/devel/use-cases/churn/models/ccc/input/xlsx_report_template.yaml\n",
      "Loading model /var/SP/data/home/csanc109/data/churn/ccc/results/ccc_comercial_tests/20190109_091356/model/ccc_comercial_tests.pkl\n",
      "Loading object from /var/SP/data/home/csanc109/data/churn/ccc/results/ccc_comercial_tests/20190109_091356/model/ccc_comercial_tests.pkl\n",
      "Calling to __setstate H2O Factory\n",
      "['config', 'params', 'modeler_save_path', 'feature_importance']\n",
      "<type 'NoneType'>\n",
      "Calling to __setstate in model\n",
      "['model_id', 'model_info', 'yaml_filename', 'cols', 'cat_encoding', 'model']\n",
      "Loaded modeler from path /var/SP/data/home/csanc109/data/churn/ccc/results/ccc_comercial_tests/20190109_091356/model/h2o_factory/Grid_GBM_py_1335_sid_9045_model_python_1547021638053_11556_model_0\n",
      "Loading report template from '/var/SP/data/home/csanc109/src/devel/use-cases/churn/models/ccc/input/xlsx_report_template.yaml'\n"
     ]
    },
    {
     "name": "stderr",
     "output_type": "stream",
     "text": [
      "/opt/cloudera/parcels/Anaconda/lib/python2.7/site-packages/matplotlib/pyplot.py:523: RuntimeWarning:\n",
      "\n",
      "More than 20 figures have been opened. Figures created through the pyplot interface (`matplotlib.pyplot.figure`) are retained until explicitly closed and may consume too much memory. (To control this warning, see the rcParam `figure.max_open_warning`).\n",
      "\n"
     ]
    },
    {
     "name": "stdout",
     "output_type": "stream",
     "text": [
      "Writting sheet 'Intro'\n",
      "Writting sheet 'Split'\n",
      "Writting sheet 'Model'\n",
      "Writting sheet 'Train metrics'\n",
      "Writting sheet 'Test metrics'\n",
      "Saved in '/var/SP/data/home/csanc109/data/churn/ccc/results/ccc_comercial_tests/20190109_091356/reporter/ccc_comercial_tests_20190114_121752.xlsx'\n",
      "Informe generado!\n"
     ]
    },
    {
     "data": {
      "text/plain": [
       "'CCC_model_pykahos: [OK] reporter finished'"
      ]
     },
     "execution_count": 58,
     "metadata": {},
     "output_type": "execute_result"
    },
    {
     "data": {
      "application/javascript": [
       "$(document).ready(\n",
       "    function() {\n",
       "        function appendUniqueDiv(){\n",
       "            // append a div with our uuid so we can check that it's already\n",
       "            // been sent and avoid duplicates on page reload\n",
       "            var notifiedDiv = document.createElement(\"div\")\n",
       "            notifiedDiv.id = \"af02e0bd-214a-4a44-873b-1bc7a5955c5e\"\n",
       "            element.append(notifiedDiv)\n",
       "        }\n",
       "\n",
       "        // only send notifications if the pageload is complete; this will\n",
       "        // help stop extra notifications when a saved notebook is loaded,\n",
       "        // which during testing gives us state \"interactive\", not \"complete\"\n",
       "        if (document.readyState === 'complete') {\n",
       "            // check for the div that signifies that the notification\n",
       "            // was already sent\n",
       "            if (document.getElementById(\"af02e0bd-214a-4a44-873b-1bc7a5955c5e\") === null) {\n",
       "                var notificationPayload = {\"body\": \"CCC_model_pykahos: [OK] reporter finished\", \"requireInteraction\": false, \"icon\": \"/static/base/images/favicon.ico\"};\n",
       "                if (Notification.permission !== 'denied') {\n",
       "                    if (Notification.permission !== 'granted') { \n",
       "                        Notification.requestPermission(function (permission) {\n",
       "                            if(!('permission' in Notification)) {\n",
       "                                Notification.permission = permission\n",
       "                            }\n",
       "                        })\n",
       "                    }\n",
       "                    if (Notification.permission === 'granted') {\n",
       "                    var notification = new Notification(\"Jupyter Notebook\", notificationPayload)\n",
       "                    appendUniqueDiv()\n",
       "                    notification.onclick = function () {\n",
       "                        window.focus();\n",
       "                        this.close();\n",
       "                        };\n",
       "                    } \n",
       "                }     \n",
       "            }\n",
       "        }\n",
       "    }\n",
       ")\n"
      ],
      "text/plain": [
       "<IPython.core.display.Javascript object>"
      ]
     },
     "metadata": {},
     "output_type": "display_data"
    }
   ],
   "source": [
    "%%notify -o\n",
    "result=\"FAILED\"\n",
    "\n",
    "from pykhaos.reporting.reporter import Reporter\n",
    "\n",
    "save_reporter_path = os.path.join(SAVING_PATH_UNIQUE, \"reporter\")\n",
    "\n",
    "reporter = Reporter(MODEL_NAME, save_model_path, XLSX_REPORT_TEMPLATE_PATH).set_saving_path(save_reporter_path).create()\n",
    "\n",
    "print 'Informe generado!'\n",
    "\n",
    "result=\"OK\"\n",
    "\"CCC_model_pykahos: [{}] reporter finished\".format(result)"
   ]
  },
  {
   "cell_type": "code",
   "execution_count": 59,
   "metadata": {
    "collapsed": false
   },
   "outputs": [
    {
     "data": {
      "text/plain": [
       "'\\nimport h2o\\nh2o.export_file(modeler.get_sets(), os.path.join(save_model_path, \"sets.csv\"), force=True)\\n'"
      ]
     },
     "execution_count": 59,
     "metadata": {},
     "output_type": "execute_result"
    }
   ],
   "source": [
    "# Uncomment celd if you want to save the sets data (not recommended...)\n",
    "'''\n",
    "import h2o\n",
    "h2o.export_file(modeler.get_sets(), os.path.join(save_model_path, \"sets.csv\"), force=True)\n",
    "'''"
   ]
  },
  {
   "cell_type": "markdown",
   "metadata": {},
   "source": [
    "# GENERATE PREDICTIONS"
   ]
  },
  {
   "cell_type": "code",
   "execution_count": 9,
   "metadata": {
    "collapsed": false
   },
   "outputs": [
    {
     "name": "stdout",
     "output_type": "stream",
     "text": [
      "Ended spark session: 325.956987858 secs | default parallelism=2\n"
     ]
    }
   ],
   "source": [
    "import time\n",
    "start_time = time.time()\n",
    "app_name = \"CCC_model_predictions_nb\"\n",
    "\n",
    "import pykhaos.utils.pyspark_configuration as pyspark_config\n",
    "sc, spark, sql_context = pyspark_config.get_spark_session(app_name=app_name, log_level=\"OFF\", min_n_executors = 1, max_n_executors = 10, n_cores = 4,\n",
    "                         executor_memory = \"16g\", driver_memory=\"16g\")\n",
    "print(\"Ended spark session: {} secs | default parallelism={}\".format(time.time() - start_time,\n",
    "                                                                     sc.defaultParallelism))"
   ]
  },
  {
   "cell_type": "code",
   "execution_count": 24,
   "metadata": {
    "collapsed": false
   },
   "outputs": [
    {
     "name": "stdout",
     "output_type": "stream",
     "text": [
      "Program will use the model stored at '/var/SP/data/home/csanc109/data/churn/ccc/results/ccc_comercial/20181229_203318/model'\n",
      "Using h2o version 3.18.0.10\n",
      "Shutdown 3.18.0.10\n",
      "init 3.18.0.10\n",
      "Checking whether there is an H2O instance running at http://localhost:54222..... not found.\n",
      "Attempting to start a local H2O server...\n",
      "  Java Version: java version \"1.7.0_79\"; Java(TM) SE Runtime Environment (build 1.7.0_79-b15); Java HotSpot(TM) 64-Bit Server VM (build 24.79-b02, mixed mode)\n",
      "  Starting server from /opt/cloudera/parcels/Anaconda-2.5.0/lib/python2.7/site-packages/h2o/backend/bin/h2o.jar\n",
      "  Ice root: /tmp/tmpb8DAk4\n",
      "  JVM stdout: /tmp/tmpb8DAk4/h2o_csanc109_started_from_python.out\n",
      "  JVM stderr: /tmp/tmpb8DAk4/h2o_csanc109_started_from_python.err\n",
      "  Server is running at http://127.0.0.1:54224\n",
      "Connecting to H2O server at http://127.0.0.1:54224... successful.\n",
      "Warning: Your H2O cluster version is too old (8 months and 6 days)! Please download and install the latest version from http://h2o.ai/download/\n"
     ]
    },
    {
     "data": {
      "text/html": [
       "<div style=\"overflow:auto\"><table style=\"width:50%\"><tr><td>H2O cluster uptime:</td>\n",
       "<td>02 secs</td></tr>\n",
       "<tr><td>H2O cluster timezone:</td>\n",
       "<td>Europe/Rome</td></tr>\n",
       "<tr><td>H2O data parsing timezone:</td>\n",
       "<td>UTC</td></tr>\n",
       "<tr><td>H2O cluster version:</td>\n",
       "<td>3.18.0.10</td></tr>\n",
       "<tr><td>H2O cluster version age:</td>\n",
       "<td>8 months and 6 days !!!</td></tr>\n",
       "<tr><td>H2O cluster name:</td>\n",
       "<td>H2O_from_python_csanc109_8gn2n0</td></tr>\n",
       "<tr><td>H2O cluster total nodes:</td>\n",
       "<td>1</td></tr>\n",
       "<tr><td>H2O cluster free memory:</td>\n",
       "<td>8.89 Gb</td></tr>\n",
       "<tr><td>H2O cluster total cores:</td>\n",
       "<td>56</td></tr>\n",
       "<tr><td>H2O cluster allowed cores:</td>\n",
       "<td>56</td></tr>\n",
       "<tr><td>H2O cluster status:</td>\n",
       "<td>accepting new members, healthy</td></tr>\n",
       "<tr><td>H2O connection url:</td>\n",
       "<td>http://127.0.0.1:54224</td></tr>\n",
       "<tr><td>H2O connection proxy:</td>\n",
       "<td>None</td></tr>\n",
       "<tr><td>H2O internal security:</td>\n",
       "<td>False</td></tr>\n",
       "<tr><td>H2O API Extensions:</td>\n",
       "<td>AutoML, XGBoost, Algos, Core V3, Core V4</td></tr>\n",
       "<tr><td>Python version:</td>\n",
       "<td>2.7.11 final</td></tr></table></div>"
      ],
      "text/plain": [
       "--------------------------  ----------------------------------------\n",
       "H2O cluster uptime:         02 secs\n",
       "H2O cluster timezone:       Europe/Rome\n",
       "H2O data parsing timezone:  UTC\n",
       "H2O cluster version:        3.18.0.10\n",
       "H2O cluster version age:    8 months and 6 days !!!\n",
       "H2O cluster name:           H2O_from_python_csanc109_8gn2n0\n",
       "H2O cluster total nodes:    1\n",
       "H2O cluster free memory:    8.89 Gb\n",
       "H2O cluster total cores:    56\n",
       "H2O cluster allowed cores:  56\n",
       "H2O cluster status:         accepting new members, healthy\n",
       "H2O connection url:         http://127.0.0.1:54224\n",
       "H2O connection proxy:\n",
       "H2O internal security:      False\n",
       "H2O API Extensions:         AutoML, XGBoost, Algos, Core V3, Core V4\n",
       "Python version:             2.7.11 final\n",
       "--------------------------  ----------------------------------------"
      ]
     },
     "metadata": {},
     "output_type": "display_data"
    },
    {
     "name": "stdout",
     "output_type": "stream",
     "text": [
      "Done!\n",
      "locked=False healthy=True\n",
      "out of while\n",
      "Loading model /var/SP/data/home/csanc109/data/churn/ccc/results/ccc_comercial/20181229_203318/model/ccc_comercial_model.pkl\n",
      "Loading object from /var/SP/data/home/csanc109/data/churn/ccc/results/ccc_comercial/20181229_203318/model/ccc_comercial_model.pkl\n",
      "Calling to __setstate H2O Factory\n",
      "['config', 'params', 'modeler_save_path', 'feature_importance']\n",
      "Calling to __setstate in model\n",
      "['model_id', 'model_info', 'yaml_filename', 'cols', 'cat_encoding', 'model']\n",
      "Loaded modeler from path /var/SP/data/home/csanc109/data/churn/ccc/results/ccc_comercial/20181229_203318/model/h2o_factory/Grid_GBM_py_303_sid_9108_model_python_1546105225071_16200_model_0\n"
     ]
    },
    {
     "name": "stderr",
     "output_type": "stream",
     "text": [
      "20190128-171201 [INFO ] ***** locked=False healthy=True\n",
      "20190128-171201 [INFO ] Trying to import '/data/udf/vf_es/churn/ccc_model/comercial_unlabeled/df_c20190107_n60_comercial_msisdn_mobileandfbb' hdfs=True parquet=False\n",
      "20190128-171202 [INFO ] Trying to import hdfs://vgddp349hr.dc.sedc.internal.vodafone.com/data/udf/vf_es/churn/ccc_model/comercial_unlabeled/df_c20190107_n60_comercial_msisdn_mobileandfbb\n",
      "20190128-171204 [ERROR] file hdfs://vgddp349hr.dc.sedc.internal.vodafone.com/data/udf/vf_es/churn/ccc_model/comercial_unlabeled/df_c20190107_n60_comercial_msisdn_mobileandfbb could not be found at node 0\n"
     ]
    },
    {
     "name": "stdout",
     "output_type": "stream",
     "text": [
      "HTTP 500 Server Error:\n",
      "Server error water.api.HDFSIOException:\n",
      "  Error: HDFS IO Failure: \n",
      " accessed URI : hdfs://vgddp349hr.dc.sedc.internal.vodafone.com/data/udf/vf_es/churn/ccc_model/comercial_unlabeled/df_c20190107_n60_comercial_msisdn_mobileandfbb\n",
      " configuration: Configuration: core-default.xml, core-site.xml, mapred-default.xml, mapred-site.xml, yarn-default.xml, yarn-site.xml, hdfs-default.xml, hdfs-site.xml, /opt/cloudera/parcels/SPARK2/lib/spark2/conf/yarn-conf/core-site.xml\n",
      " org.apache.hadoop.ipc.RemoteException(org.apache.hadoop.ipc.StandbyException): Operation category READ is not supported in state standby. Visit https://s.apache.org/sbnn-error\n",
      "\tat org.apache.hadoop.hdfs.server.namenode.ha.StandbyState.checkOperation(StandbyState.java:88)\n",
      "\tat org.apache.hadoop.hdfs.server.namenode.NameNode$NameNodeHAContext.checkOperation(NameNode.java:1835)\n",
      "\tat org.apache.hadoop.hdfs.server.namenode.FSNamesystem.checkOperation(FSNamesystem.java:1515)\n",
      "\tat org.apache.hadoop.hdfs.server.namenode.FSNamesystem.getFileInfo(FSNamesystem.java:4448)\n",
      "\tat org.apache.hadoop.hdfs.server.namenode.NameNodeRpcServer.getFileInfo(NameNodeRpcServer.java:912)\n",
      "\tat org.apache.hadoop.hdfs.server.namenode.AuthorizationProviderProxyClientProtocol.getFileInfo(AuthorizationProviderProxyClientProtocol.java:533)\n",
      "\tat org.apache.hadoop.hdfs.protocolPB.ClientNamenodeProtocolServerSideTranslatorPB.getFileInfo(ClientNamenodeProtocolServerSideTranslatorPB.java:862)\n",
      "\tat org.apache.hadoop.hdfs.protocol.proto.ClientNamenodeProtocolProtos$ClientNamenodeProtocol$2.callBlockingMethod(ClientNamenodeProtocolProtos.java)\n",
      "\tat org.apache.hadoop.ipc.ProtobufRpcEngine$Server$ProtoBufRpcInvoker.call(ProtobufRpcEngine.java:617)\n",
      "\tat org.apache.hadoop.ipc.RPC$Server.call(RPC.java:1073)\n",
      "\tat org.apache.hadoop.ipc.Server$Handler$1.run(Server.java:2281)\n",
      "\tat org.apache.hadoop.ipc.Server$Handler$1.run(Server.java:2277)\n",
      "\tat java.security.AccessController.doPrivileged(Native Method)\n",
      "\tat javax.security.auth.Subject.doAs(Subject.java:415)\n",
      "\tat org.apache.hadoop.security.UserGroupInformation.doAs(UserGroupInformation.java:1924)\n",
      "\tat org.apache.hadoop.ipc.Server$Handler.run(Server.java:2275)\n",
      "  Request: None\n",
      "\n"
     ]
    },
    {
     "name": "stderr",
     "output_type": "stream",
     "text": [
      "20190128-171204 [INFO ] Trying to import hdfs://vgddp350hr.dc.sedc.internal.vodafone.com/data/udf/vf_es/churn/ccc_model/comercial_unlabeled/df_c20190107_n60_comercial_msisdn_mobileandfbb\n",
      "20190128-171205 [ERROR] file hdfs://vgddp350hr.dc.sedc.internal.vodafone.com/data/udf/vf_es/churn/ccc_model/comercial_unlabeled/df_c20190107_n60_comercial_msisdn_mobileandfbb could not be found at node 1\n"
     ]
    },
    {
     "name": "stdout",
     "output_type": "stream",
     "text": [
      "HTTP 500 Server Error:\n",
      "Server error water.util.DistributedException:\n",
      "  Error: DistributedException from /127.0.0.1:54224: 'null'\n",
      "  Request: None\n",
      "\n"
     ]
    },
    {
     "name": "stderr",
     "output_type": "stream",
     "text": [
      "20190128-171205 [ERROR] Data could not be obtained\n"
     ]
    },
    {
     "ename": "SystemExit",
     "evalue": "",
     "output_type": "error",
     "traceback": [
      "An exception has occurred, use %tb to see the full traceback.\n",
      "\u001b[0;31mSystemExit\u001b[0m\n"
     ]
    },
    {
     "name": "stderr",
     "output_type": "stream",
     "text": [
      "/opt/cloudera/parcels/Anaconda/lib/python2.7/site-packages/IPython/core/interactiveshell.py:2890: UserWarning:\n",
      "\n",
      "To exit: use 'exit', 'quit', or Ctrl-D.\n",
      "\n"
     ]
    }
   ],
   "source": [
    "GENERATE_PREDICTIONS = True\n",
    "\n",
    "assert(GENERATE_PREDICTIONS)\n",
    "\n",
    "PREDICT_MODEL_NAME = \"ccc_comercial_model\"\n",
    "PREDICT_MODEL_PATH =  os.path.join(SAVING_PATH, \"results\", \"ccc_comercial\", \"20181229_203318\", \"model\")\n",
    "closing_day = \"20190107\" \n",
    "print(\"Program will use the model stored at '{}'\".format(PREDICT_MODEL_PATH))\n",
    "\n",
    "from churn.models.ccc.delivery.delivery_manager import make_predictions\n",
    "df_lever_predict_hidden = make_predictions(spark, PREDICT_MODEL_NAME, PREDICT_MODEL_PATH, closing_day) # returns a column msisdn (anonymized)\n",
    "\n",
    "print(\"Prediction size {}\".format(df_lever_predict_hidden.count()))"
   ]
  },
  {
   "cell_type": "code",
   "execution_count": null,
   "metadata": {
    "collapsed": false
   },
   "outputs": [],
   "source": [
    "running_time_onlymob = \"preds_onlymob_for20190114_on20190123_084152\"\n",
    "running_time_mobileandfbb = \"preds_mobileandfbb_for20190114_on20190123_171550\"\n",
    "CLOSING_DAY = \"20190114\"\n",
    "segments = {\"onlymob\": running_time_onlymob,\n",
    "            \"mobileandfbb\": running_time_mobileandfbb}\n",
    "\n",
    "from pykhaos.utils.date_functions import move_date_n_days\n",
    "ccc_start_date_ = move_date_n_days(CLOSING_DAY, -30, str_fmt=\"%Y%m%d\")\n",
    "print(ccc_start_date_, CLOSING_DAY)\n",
    "\n",
    "from churn.others.run_churn_delivery_scores_incidences_levers import generate_scores_incidences\n",
    "df_scores_incidencias = generate_scores_incidences(spark, segments, CLOSING_DAY, ccc_start_date_)\n",
    "\n",
    "from pykhaos.utils.date_functions import move_date_n_yearmonths\n",
    "from churn.others.run_churn_delivery_scores_incidences_levers import add_service_problems\n",
    "\n",
    "# Use the previous YYYYMM to get the service problems\n",
    "yyyymm_str = move_date_n_yearmonths(CLOSING_DAY[:6], -1)\n",
    "logger.info(\"Using yyyymm={} to obtain the service_problems\".format(yyyymm_str))\n",
    "df_scores_incidencias = add_service_problems(spark, df_scores_incidencias, yyyymm_str, closing_day=CLOSING_DAY)"
   ]
  },
  {
   "cell_type": "code",
   "execution_count": 23,
   "metadata": {
    "collapsed": false
   },
   "outputs": [
    {
     "ename": "NameError",
     "evalue": "name 'df_lever_predict_hidden' is not defined",
     "output_type": "error",
     "traceback": [
      "\u001b[0;31m---------------------------------------------------------------------------\u001b[0m",
      "\u001b[0;31mNameError\u001b[0m                                 Traceback (most recent call last)",
      "\u001b[0;32m<ipython-input-23-ae84f64caff6>\u001b[0m in \u001b[0;36m<module>\u001b[0;34m()\u001b[0m\n\u001b[1;32m      7\u001b[0m \u001b[0;32mfrom\u001b[0m \u001b[0mchurn\u001b[0m\u001b[0;34m.\u001b[0m\u001b[0mothers\u001b[0m\u001b[0;34m.\u001b[0m\u001b[0mrun_churn_delivery_scores_incidences_levers\u001b[0m \u001b[0;32mimport\u001b[0m \u001b[0mFINAL_COLS\u001b[0m\u001b[0;34m\u001b[0m\u001b[0m\n\u001b[1;32m      8\u001b[0m \u001b[0mstart_merge\u001b[0m \u001b[0;34m=\u001b[0m \u001b[0mtime\u001b[0m\u001b[0;34m.\u001b[0m\u001b[0mtime\u001b[0m\u001b[0;34m(\u001b[0m\u001b[0;34m)\u001b[0m\u001b[0;34m\u001b[0m\u001b[0m\n\u001b[0;32m----> 9\u001b[0;31m \u001b[0mdf_complete\u001b[0m \u001b[0;34m=\u001b[0m \u001b[0mmerging_process_2\u001b[0m\u001b[0;34m(\u001b[0m\u001b[0mdf_lever_predict_hidden\u001b[0m\u001b[0;34m,\u001b[0m \u001b[0mdf_scores_incidencias\u001b[0m\u001b[0;34m,\u001b[0m \u001b[0mNAME_TABLE_DEANONYMIZED\u001b[0m\u001b[0;34m,\u001b[0m \u001b[0mFINAL_COLS\u001b[0m\u001b[0;34m,\u001b[0m \u001b[0msave_table\u001b[0m\u001b[0;34m=\u001b[0m\u001b[0mTrue\u001b[0m\u001b[0;34m)\u001b[0m\u001b[0;34m\u001b[0m\u001b[0m\n\u001b[0m\u001b[1;32m     10\u001b[0m \u001b[0;32mif\u001b[0m \u001b[0mlogger\u001b[0m\u001b[0;34m:\u001b[0m \u001b[0mlogger\u001b[0m\u001b[0;34m.\u001b[0m\u001b[0minfo\u001b[0m\u001b[0;34m(\u001b[0m\u001b[0;34m\"merging_process - {} minutes\"\u001b[0m\u001b[0;34m.\u001b[0m\u001b[0mformat\u001b[0m\u001b[0;34m(\u001b[0m \u001b[0;34m(\u001b[0m\u001b[0mtime\u001b[0m\u001b[0;34m.\u001b[0m\u001b[0mtime\u001b[0m\u001b[0;34m(\u001b[0m\u001b[0;34m)\u001b[0m\u001b[0;34m-\u001b[0m\u001b[0mstart_merge\u001b[0m\u001b[0;34m)\u001b[0m\u001b[0;34m/\u001b[0m\u001b[0;36m60.0\u001b[0m\u001b[0;34m)\u001b[0m\u001b[0;34m)\u001b[0m\u001b[0;34m\u001b[0m\u001b[0m\n",
      "\u001b[0;31mNameError\u001b[0m: name 'df_lever_predict_hidden' is not defined"
     ]
    }
   ],
   "source": [
    "from churn.models.ccc.delivery.delivery_manager import PROJECT_NAME, DIR_DELIVERY\n",
    "from pykhaos.utils.constants import WHOAMI\n",
    "NAME_TABLE_DEANONYMIZED = 'tests_es.{}_tmp_{}_{}_notprepared_kk'.format(WHOAMI, PROJECT_NAME, CLOSING_DAY)\n",
    "name_file_delivery = '{}_delivery_{}_{}'.format(PROJECT_NAME, CLOSING_DAY, dt.datetime.now().strftime(\"%Y%m%d_%H%M%S\"))\n",
    "\n",
    "from churn.models.ccc.delivery.delivery_manager import merging_process_2, prepare_delivery, make_predictions, DIR_DOWNLOAD\n",
    "from churn.others.run_churn_delivery_scores_incidences_levers import FINAL_COLS\n",
    "start_merge = time.time()\n",
    "df_complete = merging_process_2(df_lever_predict_hidden, df_scores_incidencias, NAME_TABLE_DEANONYMIZED, FINAL_COLS, save_table=True)\n",
    "if logger: logger.info(\"merging_process - {} minutes\".format( (time.time()-start_merge)/60.0))"
   ]
  },
  {
   "cell_type": "code",
   "execution_count": 89,
   "metadata": {
    "collapsed": false
   },
   "outputs": [
    {
     "name": "stdout",
     "output_type": "stream",
     "text": [
      "+------------+------------+--------+\n",
      "|IND_PBMA_SRV|palanca     |count(1)|\n",
      "+------------+------------+--------+\n",
      "|1           |NO_COMERCIAL|331797  |\n",
      "|0           |NO_COMERCIAL|761698  |\n",
      "|0           |COMERCIAL   |3269273 |\n",
      "+------------+------------+--------+\n",
      "\n"
     ]
    }
   ],
   "source": [
    "df_complete.select(\"IND_PBMA_SRV\", \"palanca\").groupBy(\"IND_PBMA_SRV\", \"palanca\").agg(sql_count(\"*\")).show(100,False)"
   ]
  },
  {
   "cell_type": "code",
   "execution_count": 11,
   "metadata": {
    "collapsed": true
   },
   "outputs": [],
   "source": [
    "PREDICT_MODEL_NAME = \"ccc_comercial_model\"\n",
    "CLOSING_DAY = \"20190121\"\n",
    "from churn.models.ccc.delivery.delivery_manager import PROJECT_NAME, DIR_DELIVERY\n",
    "from pykhaos.utils.constants import WHOAMI\n",
    "NAME_TABLE_DEANONYMIZED = 'tests_es.{}_tmp_{}_{}_notprepared'.format(\"jmarcoso\", PROJECT_NAME, CLOSING_DAY)\n",
    "name_file_delivery = '{}_delivery_{}_{}'.format(PROJECT_NAME, CLOSING_DAY, dt.datetime.now().strftime(\"%Y%m%d_%H%M%S\"))\n",
    "from churn.models.ccc.delivery.delivery_manager import merging_process_2, prepare_delivery, make_predictions, DIR_DOWNLOAD\n"
   ]
  },
  {
   "cell_type": "code",
   "execution_count": 12,
   "metadata": {
    "collapsed": false
   },
   "outputs": [
    {
     "name": "stdout",
     "output_type": "stream",
     "text": [
      "Preparing delivery for project='churn_ccc' closing_day='20190121'\n",
      "Loading info from table 'tests_es.jmarcoso_tmp_churn_ccc_20190121_notprepared'\n",
      "Results will be written on following filename 'churn_ccc_delivery_20190121_20190130_152602'\n",
      "All columns will be written: msisdn|comb_score|comb_decile|IND_AVERIAS|IND_SOPORTE|IND_RECLAMACIONES|IND_DEGRAD_ADSL|IND_TIPIF_UCI|IND_PBMA_SRV|DETALLE_PBMA_SRV|palanca\n",
      "Columns will be written: msisdn|comb_score|comb_decile|IND_AVERIAS|IND_SOPORTE|IND_RECLAMACIONES|IND_DEGRAD_ADSL|IND_TIPIF_UCI|IND_PBMA_SRV|DETALLE_PBMA_SRV|palanca\n",
      "Number of rows = 4295217\n",
      "Directory successfully deleted /var/SP/data/home/csanc109/data/download/churn/ccc/churn_ccc_delivery_20190121_20190130_152602\n",
      "Moving filename='churn_ccc_delivery_20190121_20190130_152602' from dir_download=/var/SP/data/home/csanc109/data/download/churn/ccc/ to local\n",
      "Downloaded file /var/SP/data/home/csanc109/data/download/churn/ccc/churn_ccc_delivery_20190121_20190130_152602.csv\n",
      "Merging /var/SP/data/home/csanc109/data/download/churn/ccc/churn_ccc_delivery_20190121_20190130_152602/*.csv\n",
      "File /var/SP/data/home/csanc109/data/delivery/ccc/churn_ccc_delivery_20190121_20190130_152602.csv successfully created\n",
      "To download the file in your local computer, type from your local: \n",
      "\n",
      " scp csanc109@milan-discovery-edge-387:/var/SP/data/home/csanc109/data/delivery/ccc/churn_ccc_delivery_20190121_20190130_152602.txt <local_directoy>\n",
      "Process ended successfully\n"
     ]
    },
    {
     "name": "stderr",
     "output_type": "stream",
     "text": [
      "20190130-153432 [INFO ] merging_process - 8.46258191665 minutes\n"
     ]
    }
   ],
   "source": [
    "start_delivery = time.time()\n",
    "prepare_delivery(spark, PROJECT_NAME , CLOSING_DAY, NAME_TABLE_DEANONYMIZED, name_file_delivery, DIR_DOWNLOAD, DIR_DELIVERY)\n",
    "if logger: logger.info(\"merging_process - {} minutes\".format( (time.time()-start_delivery)/60.0))"
   ]
  },
  {
   "cell_type": "code",
   "execution_count": 61,
   "metadata": {
    "collapsed": true
   },
   "outputs": [
    {
     "name": "stdout",
     "output_type": "stream",
     "text": [
      "+---------+---------+------------+-----------+-----------+-----------+-----------------+---------------+-------------+------------+------------------------+\n",
      "|msisdn   |msisdn_d |comb_score  |comb_decile|IND_AVERIAS|IND_SOPORTE|IND_RECLAMACIONES|IND_DEGRAD_ADSL|IND_TIPIF_UCI|IND_PBMA_SRV|DETALLE_PBMA_SRV        |\n",
      "+---------+---------+------------+-----------+-----------+-----------+-----------------+---------------+-------------+------------+------------------------+\n",
      "|644518901|655537865|0.100854345 |0          |0          |0          |0                |0              |0            |0           |None  0  0  0           |\n",
      "|670323943|655316089|0.24392542  |0          |0          |0          |0                |0              |0            |0           |None  0  0  0           |\n",
      "|677745379|677379408|0.32423022  |0          |0          |0          |0                |0              |0            |0           |None  0  0  0           |\n",
      "|696470136|670551152|0.10697282  |0          |0          |0          |0                |0              |0            |0           |None  0  0  0           |\n",
      "|673440148|600047817|0.10568687  |0          |0          |0          |0                |0              |0            |0           |None  0  0  0           |\n",
      "|649791406|607955369|0.09939849  |0          |0          |0          |0                |0              |0            |0           |None  0  0  0           |\n",
      "|661311584|661914250|0.47344318  |1          |0          |0          |0                |0              |0            |0           |None  0  0  0           |\n",
      "|669375062|676384841|0.41216168  |0          |0          |0          |0                |0              |0            |0           |None  0  0  0           |\n",
      "|617148290|676784446|0.102490306 |0          |0          |0          |0                |0              |0            |0           |None  0  0  0           |\n",
      "|652683063|687657719|0.019756788 |0          |0          |0          |0                |0              |0            |0           |None  0  0  0           |\n",
      "|631414444|660988210|0.07240012  |0          |0          |0          |0                |0              |0            |0           |None  0  0  0           |\n",
      "|673621574|630575728|0.029964168 |0          |0          |0          |0                |0              |0            |0           |None  0  0  0           |\n",
      "|642761370|601430042|0.022919057 |0          |0          |0          |0                |0              |0            |0           |None  0  0  0           |\n",
      "|653600158|664288229|0.0069024693|0          |0          |0          |0                |0              |0            |0           |None  0  0  0           |\n",
      "|614874000|662113830|0.15274057  |0          |0          |0          |0                |0              |0            |0           |None  0  0  0           |\n",
      "|652191506|647032931|0.4363541   |0          |0          |0          |0                |0              |0            |0           |None  0  0  0           |\n",
      "|620157319|630268874|0.04288038  |0          |0          |0          |0                |0              |0            |0           |None  0  0  0           |\n",
      "|690158016|660466152|0.016265452 |0          |0          |0          |0                |0              |0            |0           |None  0  0  0           |\n",
      "|626568620|676471492|0.014865818 |0          |0          |0          |0                |0              |0            |0           |None  0  0  0           |\n",
      "|689714406|651615028|0.18056615  |0          |0          |0          |0                |0              |0            |0           |None  0  0  0           |\n",
      "|646016281|666861851|0.46222576  |0          |0          |0          |0                |0              |0            |0           |None  0  0  0           |\n",
      "|665961282|627057179|0.03311959  |0          |0          |0          |0                |0              |0            |0           |None  0  0  0           |\n",
      "|687144709|622502017|0.9053905   |10         |0          |0          |0                |0              |0            |0           |None  0  0  0           |\n",
      "|638814558|627431843|0.42029703  |0          |0          |0          |0                |0              |0            |0           |None  0  0  0           |\n",
      "|626645072|699581863|0.10744957  |0          |0          |0          |0                |0              |0            |0           |None  0  0  0           |\n",
      "|635993856|605779443|0.16356522  |0          |0          |0          |0                |0              |0            |0           |None  0  0  0           |\n",
      "|616265835|663209026|0.81040305  |9          |0          |0          |0                |0              |0            |0           |None  0  0  0           |\n",
      "|665920573|670443723|0.94491386  |10         |0          |0          |0                |0              |0            |0           |None  0  0  0           |\n",
      "|636639994|615294682|0.031130685 |0          |1          |1          |0                |0              |0            |1           |None  1  1  0           |\n",
      "|681915475|685467977|0.03265763  |0          |1          |1          |0                |0              |0            |1           |None  1  1  0           |\n",
      "|612334907|687236832|0.03283464  |0          |0          |0          |0                |0              |0            |0           |None  0  0  0           |\n",
      "|609397743|687668855|0.005677144 |0          |0          |0          |0                |0              |0            |0           |None  0  0  0           |\n",
      "|693462804|645754970|0.76796854  |8          |0          |0          |0                |0              |0            |0           |None  0  0  0           |\n",
      "|695502283|615996692|0.60781544  |5          |0          |0          |0                |0              |0            |0           |None  0  0  0           |\n",
      "|684823128|665021230|0.5452962   |3          |0          |0          |0                |0              |0            |0           |None  0  0  0           |\n",
      "|665926519|656333024|0.70104927  |7          |0          |0          |0                |0              |0            |0           |None  0  0  0           |\n",
      "|690502943|637663373|0.10486257  |0          |0          |0          |0                |0              |0            |0           |None  0  0  0           |\n",
      "|608517220|619108022|0.1112959   |0          |0          |0          |0                |0              |0            |0           |None  0  0  0           |\n",
      "|636998908|629618064|0.06783679  |0          |0          |0          |0                |0              |0            |0           |None  0  0  0           |\n",
      "|655085131|670813595|0.012281552 |0          |0          |0          |0                |0              |0            |0           |None  0  0  0           |\n",
      "|655471259|627411655|0.24468075  |0          |0          |0          |0                |0              |0            |0           |None  0  0  0           |\n",
      "|686141620|601315942|0.18780598  |0          |0          |0          |0                |0              |0            |0           |None  0  0  0           |\n",
      "|665925198|669763517|0.6759691   |6          |0          |0          |0                |0              |0            |0           |None  0  0  0           |\n",
      "|619423075|601294826|0.54039514  |3          |0          |0          |0                |0              |0            |0           |None  0  0  0           |\n",
      "|659795442|601149216|0.013563106 |0          |0          |0          |0                |0              |0            |0           |None  0  0  0           |\n",
      "|691999872|678350614|0.4552423   |0          |0          |0          |0                |0              |0            |0           |None  0  0  0           |\n",
      "|694447611|615326278|0.01919598  |0          |0          |0          |0                |0              |0            |0           |None  0  0  0           |\n",
      "|664119224|686292175|0.016316859 |0          |0          |0          |0                |0              |0            |0           |None  0  0  0           |\n",
      "|698181640|687956435|0.748538    |8          |0          |0          |0                |0              |0            |0           |None  0  0  0           |\n",
      "|629007021|628157311|0.6464128   |6          |0          |0          |0                |0              |0            |0           |None  0  0  0           |\n",
      "|603779677|653883606|0.79051346  |8          |0          |0          |0                |0              |0            |0           |None  0  0  0           |\n",
      "|674561168|655931335|0.08883443  |0          |0          |0          |0                |0              |0            |0           |None  0  0  0           |\n",
      "|662272945|660626646|0.07226251  |0          |0          |0          |0                |0              |0            |0           |None  0  0  0           |\n",
      "|600079046|601313506|0.085983515 |0          |0          |0          |0                |0              |0            |0           |None  0  0  0           |\n",
      "|625732080|673370870|0.1823567   |0          |0          |0          |0                |0              |0            |0           |None  0  0  0           |\n",
      "|624285738|629549537|0.7987592   |9          |0          |0          |0                |0              |0            |0           |None  0  0  0           |\n",
      "|692275004|629915345|0.7500168   |8          |0          |0          |0                |0              |0            |0           |None  0  0  0           |\n",
      "|607496729|661134322|0.1479787   |0          |0          |0          |0                |0              |0            |0           |None  0  0  0           |\n",
      "|697577648|608322264|0.05619196  |0          |0          |0          |0                |0              |0            |0           |None  0  0  0           |\n",
      "|634965210|670782498|0.17447683  |0          |0          |0          |0                |0              |0            |0           |None  0  0  0           |\n",
      "|604347952|610303683|0.6782192   |6          |0          |0          |0                |0              |0            |0           |None  0  0  0           |\n",
      "|667028998|620809772|0.5823441   |4          |0          |0          |0                |0              |0            |0           |None  0  0  0           |\n",
      "|688267290|650480531|0.65796924  |6          |0          |0          |0                |0              |0            |0           |None  0  0  0           |\n",
      "|630241660|662298798|0.112220965 |0          |0          |0          |0                |0              |0            |0           |None  0  0  0           |\n",
      "|662732509|622035572|0.47875252  |1          |0          |0          |0                |0              |0            |0           |None  0  0  0           |\n",
      "|662022605|654693581|0.30383623  |0          |0          |0          |0                |0              |0            |0           |None  0  0  0           |\n",
      "|675613203|622028163|0.57590455  |4          |0          |0          |0                |0              |1            |1           |FACTURA__CUOTAS  0  0  0|\n",
      "|601052102|687095539|0.008452062 |0          |0          |0          |0                |0              |0            |0           |None  0  0  0           |\n",
      "|645569626|633018339|0.54854214  |3          |0          |0          |0                |0              |0            |0           |None  0  0  0           |\n",
      "|649845733|622499776|0.48700145  |1          |0          |0          |0                |0              |0            |0           |None  0  0  0           |\n",
      "|675824262|666724784|0.0033641716|0          |0          |0          |0                |0              |0            |0           |None  0  0  0           |\n",
      "|652704890|670400760|0.6453936   |6          |0          |0          |0                |0              |0            |0           |None  0  0  0           |\n",
      "|622555880|638764285|0.003859441 |0          |0          |0          |0                |0              |0            |0           |None  0  0  0           |\n",
      "|606067506|680723962|0.5959967   |4          |0          |0          |0                |0              |0            |0           |None  0  0  0           |\n",
      "|611196414|609963635|0.6882687   |6          |0          |0          |0                |0              |0            |0           |None  0  0  0           |\n",
      "|659063145|670436191|0.007859656 |0          |0          |0          |0                |0              |0            |0           |None  0  0  0           |\n",
      "|682919279|606610650|0.4333828   |0          |0          |0          |0                |0              |0            |0           |None  0  0  0           |\n",
      "|679197777|607423973|0.17555515  |0          |0          |0          |0                |0              |0            |0           |None  0  0  0           |\n",
      "|674388804|618316748|0.07927653  |0          |0          |0          |0                |0              |0            |0           |None  0  0  0           |\n",
      "|683918358|616950427|0.028893242 |0          |0          |0          |0                |0              |0            |0           |None  0  0  0           |\n",
      "|644813882|649384811|0.02871702  |0          |0          |0          |0                |0              |0            |0           |None  0  0  0           |\n",
      "|661240007|666538864|0.3275891   |0          |0          |0          |0                |0              |0            |0           |None  0  0  0           |\n",
      "|638233150|660110784|0.5524668   |3          |0          |0          |0                |0              |0            |0           |None  0  0  0           |\n",
      "|684534226|627058483|0.03175675  |0          |0          |0          |0                |0              |0            |0           |None  0  0  0           |\n",
      "|613627358|650010260|0.02457516  |0          |0          |0          |0                |0              |0            |0           |None  0  0  0           |\n",
      "|617505940|680948468|0.031716675 |0          |0          |0          |0                |0              |0            |0           |None  0  0  0           |\n",
      "|642861687|630550841|0.005032777 |0          |0          |0          |0                |0              |0            |0           |None  0  0  0           |\n",
      "|621694516|676345355|0.22308496  |0          |0          |0          |0                |0              |0            |0           |None  0  0  0           |\n",
      "|606289918|651459623|0.053343743 |0          |0          |0          |0                |0              |0            |0           |None  0  0  0           |\n",
      "|671036620|648110701|0.054297403 |0          |0          |0          |0                |0              |0            |0           |None  0  0  0           |\n",
      "|693770746|656283941|0.10661749  |0          |0          |0          |0                |0              |0            |0           |None  0  0  0           |\n",
      "|608575597|628151189|0.024776451 |0          |0          |0          |0                |0              |0            |0           |None  0  0  0           |\n",
      "|674226051|606299878|0.2666297   |0          |0          |0          |0                |0              |0            |0           |None  0  0  0           |\n",
      "|633961833|656403764|0.19851649  |0          |0          |0          |0                |0              |0            |0           |None  0  0  0           |\n",
      "|649421528|607726599|0.24255186  |0          |0          |0          |0                |0              |0            |0           |None  0  0  0           |\n",
      "|674713259|659516160|0.056563314 |0          |0          |0          |0                |0              |0            |0           |None  0  0  0           |\n",
      "|699724850|627624364|0.08938124  |0          |0          |0          |0                |0              |0            |0           |None  0  0  0           |\n",
      "|656030926|660741474|0.03980199  |0          |0          |0          |0                |0              |0            |0           |None  0  0  0           |\n",
      "|623611049|647927755|0.15292992  |0          |0          |0          |0                |0              |0            |0           |None  0  0  0           |\n",
      "|604476110|640663144|0.0033641716|0          |0          |0          |0                |0              |0            |0           |None  0  0  0           |\n",
      "+---------+---------+------------+-----------+-----------+-----------+-----------------+---------------+-------------+------------+------------------------+\n",
      "only showing top 100 rows\n",
      "\n"
     ]
    }
   ],
   "source": [
    "# Preparing delivery for project='churn_ccc' closing_day='20190107'\n",
    "# Loading info from table 'tests_es.csanc109_tmp_churn_ccc_20190107_notprepared'\n",
    "# Results will be written on following filename 'churn_ccc_delivery_20190107_20190117_205141'\n",
    "# All columns will be written: msisdn|comb_score|comb_decile|IND_AVERIAS|IND_SOPORTE|IND_RECLAMACIONES|IND_DEGRAD_ADSL|IND_TIPIF_UCI|IND_PBMA_SRV|DETALLE_PBMA_SRV|palanca\n",
    "# Columns will be written: msisdn|comb_score|comb_decile|IND_AVERIAS|IND_SOPORTE|IND_RECLAMACIONES|IND_DEGRAD_ADSL|IND_TIPIF_UCI|IND_PBMA_SRV|DETALLE_PBMA_SRV|palanca\n",
    "# Number of rows = 4362768\n",
    "# Directory successfully deleted /var/SP/data/home/csanc109/data/download/churn/ccc/churn_ccc_delivery_20190107_20190117_205141\n",
    "# Moving filename='churn_ccc_delivery_20190107_20190117_205141' from dir_download=/var/SP/data/home/csanc109/data/download/churn/ccc/ to local\n",
    "# Downloaded file /var/SP/data/home/csanc109/data/download/churn/ccc/churn_ccc_delivery_20190107_20190117_205141.csv\n",
    "# Merging /var/SP/data/home/csanc109/data/download/churn/ccc/churn_ccc_delivery_20190107_20190117_205141/*.csv\n",
    "# File /var/SP/data/home/csanc109/data/delivery/ccc/churn_ccc_delivery_20190107_20190117_205141.csv successfully created\n",
    "# To download the file in your local computer, type from your local: \n",
    "\n",
    "#  scp csanc109@milan-discovery-edge-387:/var/SP/data/home/csanc109/data/delivery/ccc/churn_ccc_delivery_20190107_20190117_205141.txt <local_directoy>\n",
    "# Process ended successfully\n"
   ]
  },
  {
   "cell_type": "markdown",
   "metadata": {},
   "source": [
    "# [OPTIONAL] POST PROCESS ANALYSIS - FIXME (pending to implement in h2o to avoid pandas)"
   ]
  },
  {
   "cell_type": "code",
   "execution_count": null,
   "metadata": {
    "collapsed": false
   },
   "outputs": [],
   "source": [
    "data = data_abs_data_obj.data()\n",
    "df_data = data.as_data_frame()\n",
    "data.types\n",
    "\n",
    "#train = modeler.get_model_info().get(\"model train metrics\")[\"scores\"]\n",
    "#test = modeler.get_model_info().get(\"model test metrics\")[\"scores\"]\n",
    "\n",
    "from pykhaos.reporting.utils.plots import univariate_analysis, univariate_hist\n",
    "df_uni = univariate_analysis(df_data, \"TARIFF\", target=\"label\", sort=None) # rows=num tarifas || cols [u'TARIFF', u'positivo', u'total', u'frec_loc', u'frec'], dtype='object')\n",
    "\n",
    "univariate_hist(df_uni, \"TARIFF\", sort = None)"
   ]
  },
  {
   "cell_type": "code",
   "execution_count": null,
   "metadata": {
    "collapsed": false
   },
   "outputs": [],
   "source": [
    "%matplotlib inline\n",
    "import numpy as np\n",
    "import pandas as pd\n",
    "df_ = df_data.copy()\n",
    "\n",
    "df_pivot_label = pd.pivot_table(df_[[\"label\", \"TARIFF\"]], columns=\"label\", index=\"TARIFF\", aggfunc=lambda x: len(x))\n",
    "df_pivot_label.columns=[\"0\", \"1\"]\n",
    "import matplotlib.pyplot as plt\n",
    "ax = df_pivot_label[['0','1']].plot(kind='bar', title =\"V comp\", figsize=(15, 10), legend=True, fontsize=8)\n",
    "ax.set_ylabel(\"V\", fontsize=12)\n",
    "plt.show()"
   ]
  },
  {
   "cell_type": "code",
   "execution_count": null,
   "metadata": {
    "collapsed": false
   },
   "outputs": [],
   "source": [
    "var1 = \"codigo_postal_city\"\n",
    "var2 = \"Order_N1_Description\"\n",
    "\n",
    "var = [var1,var2 ]\n",
    "target = \"label\"\n",
    "\n",
    "import numpy as np\n",
    "from sklearn.preprocessing import MinMaxScaler, Imputer\n",
    "\n",
    "from reportlab.lib.enums import TA_RIGHT\n",
    "from reportlab.lib.styles import getSampleStyleSheet\n",
    "from reportlab.lib.pagesizes import A4\n",
    "from reportlab.lib.units import inch\n",
    "from reportlab.lib import colors\n",
    "from reportlab.platypus import SimpleDocTemplate, Paragraph, Image, Spacer, PageBreak, Table\n",
    "\n",
    "from sklearn.tree import export_graphviz\n",
    "import pydotplus\n",
    "from sklearn.externals.six import StringIO\n",
    "import time\n",
    "from sklearn.tree import DecisionTreeClassifier\n",
    "from sklearn import preprocessing\n",
    "\n",
    "df_data = df_data[~df_data[target].isna()]\n",
    "df_data[var1] = df_data[var1].fillna(-1)\n",
    "df_data[var2] = df_data[var2].fillna(\"UNKNOWN\")\n",
    "X = np.array(df_data[var].copy())\n",
    "le = preprocessing.LabelEncoder()\n",
    "imp = Imputer(missing_values='NaN', strategy='mean', axis=0)\n",
    "\n",
    "X[var.index(var1)] = imp.fit_transform(X[var.index(var1)])\n",
    "#X[var1] = X[var1].isna().astype('int')\n",
    "le.fit(X[var.index(var2)])\n",
    "X[var.index(var2)] = le.transform(X[var.index(var2)])\n",
    "\n",
    "y = np.array(df_data[target])\n",
    "dtree = DecisionTreeClassifier(max_depth=15, min_samples_leaf=500)\n",
    "dtree.fit(X, y)\n",
    "from pykhaos.reporting.utils.plots import prune\n",
    "\n",
    "#dtree_prune = prune(dtree)\n",
    "dtree_prune = dtree\n",
    "\n",
    "from sklearn.externals.six import StringIO\n",
    "from sklearn.tree import export_graphviz\n",
    "import pydotplus\n",
    "\n",
    "\n",
    "dot_data = StringIO()\n",
    "export_graphviz(dtree, out_file=dot_data,\n",
    "                filled=True, rounded=True, feature_names=var,\n",
    "                special_characters=True, rotate=True, class_names=[\"NO_COMERCIAL\", \"COMERCIAL\"],\n",
    "                impurity=False, proportion=True, label='root')\n",
    "\n",
    "graph = pydotplus.graph_from_dot_data(dot_data.getvalue())\n",
    "filename = '/Users/csanc109/Documents/Projects/Churn/ccc_model/results/images/graph_{}.png'.format(int(time.time()))\n",
    "graph.write_png(filename)\n",
    "\n",
    "# SHOW IMAGE FROM FILE\n",
    "from IPython.display import display\n",
    "from PIL import Image\n",
    "display(Image.open(filename))"
   ]
  },
  {
   "cell_type": "markdown",
   "metadata": {},
   "source": [
    "# UNIVARIANT ANALYSIS"
   ]
  },
  {
   "cell_type": "code",
   "execution_count": null,
   "metadata": {
    "collapsed": true
   },
   "outputs": [],
   "source": [
    "import yaml\n",
    "from pykhaos.reporting.type.univariate import Univariate\n",
    "from churn.models.ccc.data.ccc_data import  CCC_Data\n",
    "\n",
    "pdf_report_template_path = os.path.join(USECASES_SRC, \"churn\", \"models\", \"ccc\", 'input', 'univariante_template.yaml')\n",
    "\n",
    "print 'univariant analysis: '\n",
    "#periods = [201805, 201806, 201807]\n",
    "default_filename = os.path.join(USECASES_SRC, \"churn\", \"models\", \"ccc\", \"input\", \"ccc_train_test.yaml\")\n",
    "input_data = yaml.load(open(default_filename))\n",
    "data_abs_data_obj = CCC_Data(input_data)\n",
    "univariate_info = Univariate(data_abs_data_obj, MODEL_NAME+'_univariate').analysis()\n",
    "univariate_info.save()\n",
    "print 'end of analysis: {}'.format(MODEL_NAME+'_univariate')\n",
    "\n",
    "print 'Generando informe: '\n",
    "reporter = Reporter() \\\n",
    "    .set_model_info(ModelInfo.load(MODEL_NAME+'_univariate')) \\\n",
    "    .set_template('model/univariante.yaml')\\\n",
    "    .set_saving_path(os.path.join(os.environ.get('BDA_USER_HOME', ''), \"data\", \"churn\", \"ccc\", \"results\"))\n",
    "reporter.create()\n",
    "print 'Informe generado!'\n"
   ]
  }
 ],
 "metadata": {
  "kernelspec": {
   "display_name": "Python 2",
   "language": "python",
   "name": "python2"
  },
  "language_info": {
   "codemirror_mode": {
    "name": "ipython",
    "version": 2
   },
   "file_extension": ".py",
   "mimetype": "text/x-python",
   "name": "python",
   "nbconvert_exporter": "python",
   "pygments_lexer": "ipython2",
   "version": "2.7.11"
  }
 },
 "nbformat": 4,
 "nbformat_minor": 2
}
