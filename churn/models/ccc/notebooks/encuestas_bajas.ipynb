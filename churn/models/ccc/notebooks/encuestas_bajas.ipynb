{
 "cells": [
  {
   "cell_type": "code",
   "execution_count": 2,
   "metadata": {
    "collapsed": false
   },
   "outputs": [],
   "source": [
    "#spark.stop()"
   ]
  },
  {
   "cell_type": "code",
   "execution_count": 3,
   "metadata": {
    "collapsed": false
   },
   "outputs": [
    {
     "name": "stdout",
     "output_type": "stream",
     "text": [
      "_initialize spark\n",
      "Ended spark session: 37.8607189655 secs | default parallelism=2\n"
     ]
    }
   ],
   "source": [
    "import os, sys\n",
    "import datetime as dt\n",
    "DEVEL_SRC = os.path.join(os.environ.get('BDA_USER_HOME', ''), \"src\", \"devel\")\n",
    "if DEVEL_SRC not in sys.path:\n",
    "    sys.path.append(DEVEL_SRC)\n",
    "\n",
    "USECASES_SRC = os.path.join(DEVEL_SRC, \"use-cases\") # TODO when - is removed, remove also this line and adapt imports\n",
    "if USECASES_SRC not in sys.path: \n",
    "    sys.path.append(USECASES_SRC)\n",
    "    \n",
    "AMDOCS_SRC = os.path.join(DEVEL_SRC, \"amdocs_informational_dataset\") # TODO when - is removed, remove also this line and adapt imports\n",
    "if AMDOCS_SRC not in sys.path: \n",
    "    sys.path.append(AMDOCS_SRC)\n",
    "    \n",
    "import pykhaos.utils.custom_logger as clogger\n",
    "logging_file = os.path.join(os.environ.get('BDA_USER_HOME', ''), \"logging\",\n",
    "                                    \"out_\" + dt.datetime.now().strftime(\"%Y%m%d_%H%M%S\") + \".log\")\n",
    "logger = clogger.configure_logger(log_filename=logging_file, std_channel=sys.stderr, logger_name=\"\")\n",
    "logger.info(\"Logging to file {}\".format(logging_file))    \n",
    "    \n",
    "    \n",
    "from project.project_generic import Project\n",
    "\n",
    "\n",
    "import pykhaos.utils.notebooks as nb\n",
    "\n",
    "project_obj = Project(\"encuestas bajas\", \"encuestas bajas\")   \n",
    "\n",
    "RUNNING_FROM_NOTEBOOK = nb.isnotebook()\n",
    "import matplotlib.pyplot as plt\n",
    "if RUNNING_FROM_NOTEBOOK:\n",
    "    %load_ext autoreload\n",
    "    %autoreload 2\n",
    "    %matplotlib inline  \n",
    "    \n",
    "#logger = my_project.logger\n",
    "\n",
    "if not RUNNING_FROM_NOTEBOOK:\n",
    "    args = my_project.arg_parser()"
   ]
  },
  {
   "cell_type": "code",
   "execution_count": 4,
   "metadata": {
    "collapsed": false
   },
   "outputs": [],
   "source": [
    "spark=project_obj.spark"
   ]
  },
  {
   "cell_type": "code",
   "execution_count": 5,
   "metadata": {
    "collapsed": false
   },
   "outputs": [
    {
     "name": "stdout",
     "output_type": "stream",
     "text": [
      "The autoreload extension is already loaded. To reload it, use:\n",
      "  %reload_ext autoreload\n",
      "/var/SP/data/home/csanc109/src/devel/use-cases/churn\n",
      "Reading config from file /var/SP/data/home/csanc109/src/devel/use-cases/churn/input/datapreparation_churn.yaml\n",
      "Reading internal config from file /var/SP/data/home/csanc109/src/devel/use-cases/churn/datapreparation/config/internal_config.yaml\n"
     ]
    },
    {
     "ename": "IOError",
     "evalue": "[Errno 2] No such file or directory: '/var/SP/data/home/csanc109/src/devel/use-cases/churn/datapreparation/config/internal_config.yaml'",
     "output_type": "error",
     "traceback": [
      "\u001b[0;31m---------------------------------------------------------------------------\u001b[0m",
      "\u001b[0;31mIOError\u001b[0m                                   Traceback (most recent call last)",
      "\u001b[0;32m<ipython-input-5-e4317ebde69e>\u001b[0m in \u001b[0;36m<module>\u001b[0;34m()\u001b[0m\n\u001b[1;32m      5\u001b[0m \u001b[0;32mfrom\u001b[0m \u001b[0mchurn\u001b[0m\u001b[0;34m.\u001b[0m\u001b[0mdatapreparation\u001b[0m\u001b[0;34m.\u001b[0m\u001b[0mconfig\u001b[0m \u001b[0;32mimport\u001b[0m \u001b[0mConfig\u001b[0m\u001b[0;34m\u001b[0m\u001b[0m\n\u001b[1;32m      6\u001b[0m \u001b[0;34m\u001b[0m\u001b[0m\n\u001b[0;32m----> 7\u001b[0;31m \u001b[0mconfig_obj\u001b[0m \u001b[0;34m=\u001b[0m \u001b[0mConfig\u001b[0m\u001b[0;34m(\u001b[0m\u001b[0mNone\u001b[0m\u001b[0;34m)\u001b[0m\u001b[0;34m\u001b[0m\u001b[0m\n\u001b[0m\u001b[1;32m      8\u001b[0m \u001b[0;34m\u001b[0m\u001b[0m\n",
      "\u001b[0;32m/var/SP/data/home/csanc109/src/devel/use-cases/churn/datapreparation/config.pyc\u001b[0m in \u001b[0;36m__init__\u001b[0;34m(self, filename, check_args)\u001b[0m\n",
      "\u001b[0;32m/var/SP/data/home/csanc109/src/devel/use-cases/churn/datapreparation/config.pyc\u001b[0m in \u001b[0;36mread_internal_config_file\u001b[0;34m()\u001b[0m\n",
      "\u001b[0;31mIOError\u001b[0m: [Errno 2] No such file or directory: '/var/SP/data/home/csanc109/src/devel/use-cases/churn/datapreparation/config/internal_config.yaml'"
     ]
    }
   ],
   "source": [
    "%load_ext autoreload\n",
    "%autoreload 2\n",
    "%matplotlib inline \n",
    "from churn.datapreparation.data_loader import get_port_requests_table\n",
    "from churn.datapreparation.config import Config\n",
    "\n",
    "config_obj = Config(None)\n",
    "\n"
   ]
  },
  {
   "cell_type": "code",
   "execution_count": 245,
   "metadata": {
    "collapsed": false
   },
   "outputs": [],
   "source": []
  },
  {
   "cell_type": "markdown",
   "metadata": {},
   "source": [
    "# Encuestas Bajas"
   ]
  },
  {
   "cell_type": "code",
   "execution_count": 34,
   "metadata": {
    "collapsed": false
   },
   "outputs": [
    {
     "name": "stdout",
     "output_type": "stream",
     "text": [
      "Returning all information churn_reason...\n"
     ]
    }
   ],
   "source": [
    "from churn.datapreparation.engine.bajas_data_loader import load_reasons_encuestas\n",
    "df_bajas = load_reasons_encuestas(spark, config_obj=None)\n",
    "\n"
   ]
  },
  {
   "cell_type": "code",
   "execution_count": 35,
   "metadata": {
    "collapsed": true
   },
   "outputs": [],
   "source": [
    "yearmonth_list=df_bajas.select('yearmonth').distinct().rdd.map(lambda r: r[0]).collect()"
   ]
  },
  {
   "cell_type": "markdown",
   "metadata": {},
   "source": [
    "# Read complete car"
   ]
  },
  {
   "cell_type": "code",
   "execution_count": 26,
   "metadata": {
    "collapsed": true
   },
   "outputs": [],
   "source": [
    "from amdocs_informational_dataset.engine.call_centre_calls import CallCentreCalls\n",
    "from pyspark.sql.functions import collect_set, concat, size, coalesce, col, lpad, struct, count as sql_count, regexp_replace, lit, min as sql_min, max as sql_max, collect_list, udf, when, desc, row_number\n",
    "from pyspark.sql.types import StringType, ArrayType, MapType, StructType, StructField, IntegerType\n",
    "from pyspark.sql.window import Window\n",
    "\n"
   ]
  },
  {
   "cell_type": "code",
   "execution_count": 45,
   "metadata": {
    "collapsed": false
   },
   "outputs": [
    {
     "data": {
      "text/plain": [
       "[u'Cambio de situaci\\ufffdn personal',\n",
       " u'Precio-Necesidad de ahorro',\n",
       " u'Problemas con el servicio',\n",
       " u'No disponibilidad de Fibra',\n",
       " u'Mala atenci\\ufffdn al cliente',\n",
       " u'Enga\\ufffdo comercial',\n",
       " u'Falta de contenidos de TV',\n",
       " u'Otros',\n",
       " u'Problemas con factura']"
      ]
     },
     "execution_count": 45,
     "metadata": {},
     "output_type": "execute_result"
    }
   ],
   "source": [
    "reasons_list=df_bajas.select('Net_Motivo_Principal').distinct().rdd.map(lambda r: r[0]).collect()\n",
    "reasons_list"
   ]
  },
  {
   "cell_type": "code",
   "execution_count": 51,
   "metadata": {
    "collapsed": false
   },
   "outputs": [
    {
     "name": "stdout",
     "output_type": "stream",
     "text": [
      "('amdocs_table_reader', 'customer', '20180531')\n",
      "Loading /data/udf/vf_es/amdocs_inf_dataset/customer/year=2018/month=5/day=31\n",
      "('amdocs_table_reader', 'service', '20180531')\n",
      "Loading /data/udf/vf_es/amdocs_inf_dataset/service/year=2018/month=5/day=31\n",
      "('amdocs_table_reader', 'customer', '20180630')\n",
      "Loading /data/udf/vf_es/amdocs_inf_dataset/customer/year=2018/month=6/day=30\n",
      "('amdocs_table_reader', 'service', '20180630')\n",
      "Loading /data/udf/vf_es/amdocs_inf_dataset/service/year=2018/month=6/day=30\n",
      "('amdocs_table_reader', 'customer', '20180731')\n",
      "Loading /data/udf/vf_es/amdocs_inf_dataset/customer/year=2018/month=7/day=31\n",
      "('amdocs_table_reader', 'service', '20180731')\n",
      "Loading /data/udf/vf_es/amdocs_inf_dataset/service/year=2018/month=7/day=31\n",
      "('amdocs_table_reader', 'customer', '20180831')\n",
      "Loading /data/udf/vf_es/amdocs_inf_dataset/customer/year=2018/month=8/day=31\n",
      "('amdocs_table_reader', 'service', '20180831')\n",
      "Loading /data/udf/vf_es/amdocs_inf_dataset/service/year=2018/month=8/day=31\n",
      "('amdocs_table_reader', 'customer', '20180930')\n",
      "Loading /data/udf/vf_es/amdocs_inf_dataset/customer/year=2018/month=9/day=30\n",
      "('amdocs_table_reader', 'service', '20180930')\n",
      "Loading /data/udf/vf_es/amdocs_inf_dataset/service/year=2018/month=9/day=30\n",
      "('amdocs_table_reader', 'customer', '20181031')\n",
      "Loading /data/udf/vf_es/amdocs_inf_dataset/customer/year=2018/month=10/day=31\n",
      "('amdocs_table_reader', 'service', '20181031')\n",
      "Loading /data/udf/vf_es/amdocs_inf_dataset/service/year=2018/month=10/day=31\n"
     ]
    }
   ],
   "source": [
    "from churn.utils.general_functions import get_nif_msisdn\n",
    "\n",
    "def get_complete_info_encuestas(): #FIXME\n",
    "    df_old_0531 = get_nif_msisdn(spark, \"20180531\").withColumn(\"closing_day\", lit(\"20180531\"))\n",
    "    df_old_0630 = get_nif_msisdn(spark, \"20180630\").withColumn(\"closing_day\", lit(\"20180630\"))\n",
    "    df_old_0731 = get_nif_msisdn(spark, \"20180731\").withColumn(\"closing_day\", lit(\"20180731\"))\n",
    "    df_old_0831 = get_nif_msisdn(spark, \"20180831\").withColumn(\"closing_day\", lit(\"20180831\"))\n",
    "    df_old_0930 = get_nif_msisdn(spark, \"20180930\").withColumn(\"closing_day\", lit(\"20180930\"))\n",
    "    df_old_1031 = get_nif_msisdn(spark, \"20181031\").withColumn(\"closing_day\", lit(\"20181031\"))\n",
    "\n",
    "    cols = list(set(df_old_0531.columns) & set(df_old_0630.columns) & set(df_old_0731.columns) & set(df_old_0831.columns) & set(df_old_0930.columns) & set(df_old_1031.columns))\n",
    "\n",
    "    def union_all(dfs):\n",
    "        if len(dfs) > 1:\n",
    "            return dfs[0].unionAll(union_all(dfs[1:]))\n",
    "        else:\n",
    "            return dfs[0]\n",
    "\n",
    "    df_car_joined = union_all([df_old_0531.select(cols), df_old_0630.select(cols), df_old_0731.select(cols), df_old_0831.select(cols), df_old_0930.select(cols), df_old_1031.select(cols)])\n",
    "    w_order = Window().partitionBy(\"nif_cliente\").orderBy(desc(\"closing_day\"))\n",
    "    # Filter the repeteated rows, keeping the last one\n",
    "    df_car_joined = (df_car_joined.withColumn(\"rowNumorder\", row_number().over(w_order)).where(col('rowNumorder') == 1)).drop(\"rowNumorder\")\n",
    "    df_complete = df_bajas.join(df_car_joined, on=df_bajas[\"NIF\"]==df_car_joined[\"NIF_CLIENTE\"], how=\"left\").drop(\"NIF_CLIENTE\", 'service_processed_at',\n",
    "     'service_file_id')\n",
    "    \n",
    "    return df_complete\n",
    "\n",
    "\n",
    "REASONS_MAPPING = {u'Cambio de situaci\\ufffdn personal' : \"SITUACION\", \n",
    "                   u'Precio-Necesidad de ahorro' : \"PRECIO\",\n",
    "                   u'Problemas con el servicio': \"SERVICIO/ATENCION\",\n",
    "                   u'No disponibilidad de Fibra' : \"NO_FIBRA\",\n",
    "                   u'Mala atenci\\ufffdn al cliente' : \"SERVICIO/ATENCION\",\n",
    "                   u'Enga\\ufffdo comercial' : \"FRAUD\",\n",
    "                   u'Falta de contenidos de TV' : \"CONTENIDOS\",\n",
    "                   u'Otros' : \"OTROS\",\n",
    "                   u'Problemas con factura' : \"BILLING\"}\n",
    "\n",
    "\n",
    "from pyspark.sql.functions import col, create_map, lit\n",
    "from itertools import chain\n",
    "\n",
    "mapping_expr = create_map([lit(x) for x in chain(*REASONS_MAPPING.items())])\n",
    "\n",
    "df_complete = get_complete_info_encuestas()\n",
    "df_complete = df_complete.withColumn(\"REASON\", mapping_expr.getItem(col('Net_Motivo_Principal')))\n",
    "\n"
   ]
  },
  {
   "cell_type": "code",
   "execution_count": 53,
   "metadata": {
    "collapsed": false
   },
   "outputs": [
    {
     "data": {
      "text/plain": [
       "[u'FRAUD',\n",
       " u'BILLING',\n",
       " u'SERVICIO/ATENCION',\n",
       " u'OTROS',\n",
       " u'PRECIO',\n",
       " u'SITUACION',\n",
       " u'CONTENIDOS',\n",
       " u'NO_FIBRA']"
      ]
     },
     "execution_count": 53,
     "metadata": {},
     "output_type": "execute_result"
    }
   ],
   "source": [
    "df_complete.select('REASON').distinct().rdd.map(lambda r: r[0]).collect()"
   ]
  }
 ],
 "metadata": {
  "kernelspec": {
   "display_name": "Python 2",
   "language": "python",
   "name": "python2"
  },
  "language_info": {
   "codemirror_mode": {
    "name": "ipython",
    "version": 2
   },
   "file_extension": ".py",
   "mimetype": "text/x-python",
   "name": "python",
   "nbconvert_exporter": "python",
   "pygments_lexer": "ipython2",
   "version": "2.7.11"
  }
 },
 "nbformat": 4,
 "nbformat_minor": 2
}
