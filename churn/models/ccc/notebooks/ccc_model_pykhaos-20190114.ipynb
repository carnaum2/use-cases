{
 "cells": [
  {
   "cell_type": "markdown",
   "metadata": {},
   "source": [
    "# Set Paths and logger"
   ]
  },
  {
   "cell_type": "code",
   "execution_count": 1,
   "metadata": {
    "collapsed": true
   },
   "outputs": [
    {
     "name": "stderr",
     "output_type": "stream",
     "text": [
      "20190109-091355 [INFO ] Logging to file /var/SP/data/home/csanc109/logging/out_20190109_091355.log\n"
     ]
    },
    {
     "data": {
      "application/javascript": [
       "if (!(\"Notification\" in window)) {\n",
       "    alert(\"This browser does not support desktop notifications, so the %%notify magic will not work.\");\n",
       "} else if (Notification.permission !== 'granted' && Notification.permission !== 'denied') {\n",
       "    Notification.requestPermission(function (permission) {\n",
       "        if(!('permission' in Notification)) {\n",
       "            Notification.permission = permission;\n",
       "        }\n",
       "    })\n",
       "}\n"
      ],
      "text/plain": [
       "<IPython.core.display.Javascript object>"
      ]
     },
     "metadata": {},
     "output_type": "display_data"
    },
    {
     "data": {
      "text/html": [
       "<style>.container { width:100% !important; }</style>"
      ],
      "text/plain": [
       "<IPython.core.display.HTML object>"
      ]
     },
     "metadata": {},
     "output_type": "display_data"
    }
   ],
   "source": [
    "import os, sys\n",
    "import datetime as dt\n",
    "DEVEL_SRC = os.path.join(os.environ.get('BDA_USER_HOME', ''), \"src\", \"devel\")\n",
    "if DEVEL_SRC not in sys.path:\n",
    "    sys.path.append(DEVEL_SRC)\n",
    "\n",
    "USECASES_SRC = os.path.join(DEVEL_SRC, \"use-cases\") # TODO when - is removed, remove also this line and adapt imports\n",
    "if USECASES_SRC not in sys.path: \n",
    "    sys.path.append(USECASES_SRC)\n",
    "    \n",
    "AMDOCS_SRC = os.path.join(DEVEL_SRC, \"amdocs_informational_dataset\") # TODO when - is removed, remove also this line and adapt imports\n",
    "if AMDOCS_SRC not in sys.path: \n",
    "    sys.path.append(AMDOCS_SRC)\n",
    "    \n",
    "import pykhaos.utils.custom_logger as clogger\n",
    "logging_file = os.path.join(os.environ.get('BDA_USER_HOME', ''), \"logging\",\n",
    "                                    \"out_\" + dt.datetime.now().strftime(\"%Y%m%d_%H%M%S\") + \".log\")\n",
    "logger = clogger.configure_logger(log_filename=logging_file, std_channel=sys.stderr, logger_name=\"\")\n",
    "logger.info(\"Logging to file {}\".format(logging_file))    \n",
    "        \n",
    "from project.project_generic import Project\n",
    "\n",
    "import pykhaos.utils.notebooks as nb\n",
    "\n",
    "import time\n",
    "start_time = time.time()\n",
    "\n",
    "RUNNING_FROM_NOTEBOOK = nb.isnotebook()\n",
    "import matplotlib\n",
    "matplotlib.use('Agg')\n",
    "import matplotlib.pyplot as plt\n",
    "if RUNNING_FROM_NOTEBOOK:\n",
    "    %load_ext autoreload\n",
    "    %autoreload 2\n",
    "    %matplotlib inline  \n",
    "    EXTERNAL_LIB = os.path.join(os.environ.get('BDA_USER_HOME', ''), \"lib\", \"external_libs\")\n",
    "    if EXTERNAL_LIB not in sys.path:\n",
    "        sys.path.append(EXTERNAL_LIB)\n",
    "    %load_ext jupyternotify\n",
    "    \n",
    "from IPython.core.display import display, HTML\n",
    "display(HTML(\"<style>.container { width:100% !important; }</style>\"))"
   ]
  },
  {
   "cell_type": "markdown",
   "metadata": {},
   "source": [
    "# INPUT PARAMS"
   ]
  },
  {
   "cell_type": "code",
   "execution_count": 2,
   "metadata": {
    "collapsed": false
   },
   "outputs": [],
   "source": [
    "CCC_TRAIN_TEST_YAML = os.path.join(USECASES_SRC, \"churn\", \"models\", \"ccc\", \"input\", \"ccc_train_test.yaml\")\n",
    "\n",
    "# This name is used when saving the model (Pickle object)\n",
    "MODEL_NAME = \"ccc_comercial_tests\" # Results will be stored in a directory named like this\n",
    "\n",
    "H2O_PORT = 54126 # Be sure no instance running on this port!\n",
    "\n",
    "# Input data - must be a list but sometime there are problems in the union of h2o dataframes\n",
    "DP_FILENAME = [\"/data/udf/vf_es/churn/ccc_model/comercial/df_c20181007_c20181107_n60_comercial_msisdn/\"]\n",
    "\n",
    "# Specify the primary key of the model - Usually, msisdn, num_cliente or nif\n",
    "P_KEY = [\"msisdn\"] \n",
    "\n",
    "# Configuration file for training the h2o model\n",
    "MODEL_YAML_PATH = os.path.join(USECASES_SRC, \"churn\", \"models\", 'ccc', 'input', 'h2o_model.yaml')\n",
    "\n",
    "# Yaml file of the template for building the excel file\n",
    "XLSX_REPORT_TEMPLATE_PATH = os.path.join(USECASES_SRC, \"churn\", \"models\", \"ccc\", 'input', 'xlsx_report_template.yaml')\n",
    "\n",
    "# Save the root path for savings\n",
    "SAVING_PATH = os.path.join(os.environ.get('BDA_USER_HOME', ''), \"data\", \"churn\", \"ccc\")\n",
    "\n",
    "# Guarantee directoy is unique\n",
    "UNIQUE_DIRNAME = dt.datetime.now().strftime(\"%Y%m%d_%H%M%S\")\n",
    "\n",
    "SAVING_PATH_UNIQUE = os.path.join(SAVING_PATH, \"results\", MODEL_NAME, UNIQUE_DIRNAME)\n"
   ]
  },
  {
   "cell_type": "markdown",
   "metadata": {},
   "source": [
    "# IMPORTS and INITIALIZATION"
   ]
  },
  {
   "cell_type": "code",
   "execution_count": 3,
   "metadata": {
    "collapsed": false
   },
   "outputs": [
    {
     "name": "stdout",
     "output_type": "stream",
     "text": [
      "Using h2o version 3.18.0.10\n"
     ]
    }
   ],
   "source": [
    "from amdocs_informational_dataset.engine.call_centre_calls import CallCentreCalls\n",
    "from pyspark.sql.functions import collect_set, concat, size, coalesce, col, lpad, struct, count as sql_count, lit, min as sql_min, max as sql_max, collect_list, udf, when\n",
    "from pyspark.sql.types import StringType, ArrayType, MapType, StructType, StructField, IntegerType\n",
    "from pyspark.sql.functions import array, regexp_extract\n",
    "sys.path.append(os.path.join(os.environ.get('BDA_USER_HOME', ''), \"src\", \"devel\", \"pykhaos\", \"external_lib\"))\n",
    "from pykhaos.modeling.model import Model\n",
    "import yaml\n",
    "input_data = yaml.load(open(CCC_TRAIN_TEST_YAML))"
   ]
  },
  {
   "cell_type": "markdown",
   "metadata": {},
   "source": [
    "# Start H2O"
   ]
  },
  {
   "cell_type": "code",
   "execution_count": 4,
   "metadata": {
    "collapsed": false
   },
   "outputs": [
    {
     "name": "stdout",
     "output_type": "stream",
     "text": [
      "Using h2o version 3.18.0.10\n",
      "Shutdown 3.18.0.10\n",
      "init 3.18.0.10\n",
      "Checking whether there is an H2O instance running at http://localhost:54126..... not found.\n",
      "Attempting to start a local H2O server...\n",
      "  Java Version: java version \"1.7.0_79\"; Java(TM) SE Runtime Environment (build 1.7.0_79-b15); Java HotSpot(TM) 64-Bit Server VM (build 24.79-b02, mixed mode)\n",
      "  Starting server from /opt/cloudera/parcels/Anaconda-2.5.0/lib/python2.7/site-packages/h2o/backend/bin/h2o.jar\n",
      "  Ice root: /tmp/tmpjfrux_\n",
      "  JVM stdout: /tmp/tmpjfrux_/h2o_csanc109_started_from_python.out\n",
      "  JVM stderr: /tmp/tmpjfrux_/h2o_csanc109_started_from_python.err\n",
      "  Server is running at http://127.0.0.1:54126\n",
      "Connecting to H2O server at http://127.0.0.1:54126... successful.\n",
      "Warning: Your H2O cluster version is too old (7 months and 18 days)! Please download and install the latest version from http://h2o.ai/download/\n"
     ]
    },
    {
     "data": {
      "text/html": [
       "<div style=\"overflow:auto\"><table style=\"width:50%\"><tr><td>H2O cluster uptime:</td>\n",
       "<td>02 secs</td></tr>\n",
       "<tr><td>H2O cluster timezone:</td>\n",
       "<td>Europe/Rome</td></tr>\n",
       "<tr><td>H2O data parsing timezone:</td>\n",
       "<td>UTC</td></tr>\n",
       "<tr><td>H2O cluster version:</td>\n",
       "<td>3.18.0.10</td></tr>\n",
       "<tr><td>H2O cluster version age:</td>\n",
       "<td>7 months and 18 days !!!</td></tr>\n",
       "<tr><td>H2O cluster name:</td>\n",
       "<td>H2O_from_python_csanc109_dtrvbb</td></tr>\n",
       "<tr><td>H2O cluster total nodes:</td>\n",
       "<td>1</td></tr>\n",
       "<tr><td>H2O cluster free memory:</td>\n",
       "<td>28.44 Gb</td></tr>\n",
       "<tr><td>H2O cluster total cores:</td>\n",
       "<td>56</td></tr>\n",
       "<tr><td>H2O cluster allowed cores:</td>\n",
       "<td>56</td></tr>\n",
       "<tr><td>H2O cluster status:</td>\n",
       "<td>accepting new members, healthy</td></tr>\n",
       "<tr><td>H2O connection url:</td>\n",
       "<td>http://127.0.0.1:54126</td></tr>\n",
       "<tr><td>H2O connection proxy:</td>\n",
       "<td>None</td></tr>\n",
       "<tr><td>H2O internal security:</td>\n",
       "<td>False</td></tr>\n",
       "<tr><td>H2O API Extensions:</td>\n",
       "<td>AutoML, XGBoost, Algos, Core V3, Core V4</td></tr>\n",
       "<tr><td>Python version:</td>\n",
       "<td>2.7.11 final</td></tr></table></div>"
      ],
      "text/plain": [
       "--------------------------  ----------------------------------------\n",
       "H2O cluster uptime:         02 secs\n",
       "H2O cluster timezone:       Europe/Rome\n",
       "H2O data parsing timezone:  UTC\n",
       "H2O cluster version:        3.18.0.10\n",
       "H2O cluster version age:    7 months and 18 days !!!\n",
       "H2O cluster name:           H2O_from_python_csanc109_dtrvbb\n",
       "H2O cluster total nodes:    1\n",
       "H2O cluster free memory:    28.44 Gb\n",
       "H2O cluster total cores:    56\n",
       "H2O cluster allowed cores:  56\n",
       "H2O cluster status:         accepting new members, healthy\n",
       "H2O connection url:         http://127.0.0.1:54126\n",
       "H2O connection proxy:\n",
       "H2O internal security:      False\n",
       "H2O API Extensions:         AutoML, XGBoost, Algos, Core V3, Core V4\n",
       "Python version:             2.7.11 final\n",
       "--------------------------  ----------------------------------------"
      ]
     },
     "metadata": {},
     "output_type": "display_data"
    },
    {
     "name": "stdout",
     "output_type": "stream",
     "text": [
      "Done!\n",
      "locked=False healthy=True\n",
      "out of while\n"
     ]
    }
   ],
   "source": [
    "from pykhaos.modeling.h2o.h2o_functions import restart_cluster_loop\n",
    "restart_cluster_loop(port=H2O_PORT, max_mem_size = \"32G\") # "
   ]
  },
  {
   "cell_type": "markdown",
   "metadata": {},
   "source": [
    "# Load Data"
   ]
  },
  {
   "cell_type": "code",
   "execution_count": 5,
   "metadata": {
    "collapsed": false
   },
   "outputs": [
    {
     "name": "stdout",
     "output_type": "stream",
     "text": [
      "!!!!!!! HARD CODED !!!!!!!!!!\n",
      "set_h2o_training_data - filename ['/data/udf/vf_es/churn/ccc_model/comercial/df_c20181007_c20181107_n60_comercial_msisdn/']\n",
      "'/data/udf/vf_es/churn/ccc_model/comercial/df_c20181007_c20181107_n60_comercial_msisdn/' no existe\n",
      "Found /data/udf/vf_es/churn/ccc_model/comercial/df_c20181007_c20181107_n60_comercial_msisdn/. Loading...\n"
     ]
    },
    {
     "name": "stderr",
     "output_type": "stream",
     "text": [
      "20190109-091404 [INFO ] ***** locked=False healthy=True\n",
      "20190109-091404 [INFO ] Trying to import '/data/udf/vf_es/churn/ccc_model/comercial/df_c20181007_c20181107_n60_comercial_msisdn/' hdfs=True parquet=False\n",
      "20190109-091405 [INFO ] Trying to import hdfs://vgddp349hr.dc.sedc.internal.vodafone.com/data/udf/vf_es/churn/ccc_model/comercial/df_c20181007_c20181107_n60_comercial_msisdn/\n"
     ]
    },
    {
     "name": "stdout",
     "output_type": "stream",
     "text": [
      "Parse progress: |█████████████████████████████████████████████████████████| 100%\n"
     ]
    },
    {
     "name": "stderr",
     "output_type": "stream",
     "text": [
      "20190109-091412 [INFO ] file hdfs://vgddp349hr.dc.sedc.internal.vodafone.com/data/udf/vf_es/churn/ccc_model/comercial/df_c20181007_c20181107_n60_comercial_msisdn/ found at node 0\n"
     ]
    },
    {
     "name": "stdout",
     "output_type": "stream",
     "text": [
      "file hdfs://vgddp349hr.dc.sedc.internal.vodafone.com/data/udf/vf_es/churn/ccc_model/comercial/df_c20181007_c20181107_n60_comercial_msisdn/ found at node 0\n",
      "**** Preparing __prepare_ccc_data_for_h2o - rows=168085 columns=354\n",
      "After rgu reduction 89011\n",
      "About to remove 3 columns\n",
      "**** Ended __prepare_ccc_data_for_h2o - rows=89011 columns=351\n"
     ]
    },
    {
     "name": "stderr",
     "output_type": "stream",
     "text": [
      "20190109-091413 [INFO ] df_h2o ready to be used!\n"
     ]
    },
    {
     "name": "stdout",
     "output_type": "stream",
     "text": [
      "-------\n"
     ]
    },
    {
     "data": {
      "application/javascript": [
       "$(document).ready(\n",
       "    function() {\n",
       "        function appendUniqueDiv(){\n",
       "            // append a div with our uuid so we can check that it's already\n",
       "            // been sent and avoid duplicates on page reload\n",
       "            var notifiedDiv = document.createElement(\"div\")\n",
       "            notifiedDiv.id = \"ccbcede9-c74d-4b83-80c7-f53ba4899dcf\"\n",
       "            element.append(notifiedDiv)\n",
       "        }\n",
       "\n",
       "        // only send notifications if the pageload is complete; this will\n",
       "        // help stop extra notifications when a saved notebook is loaded,\n",
       "        // which during testing gives us state \"interactive\", not \"complete\"\n",
       "        if (document.readyState === 'complete') {\n",
       "            // check for the div that signifies that the notification\n",
       "            // was already sent\n",
       "            if (document.getElementById(\"ccbcede9-c74d-4b83-80c7-f53ba4899dcf\") === null) {\n",
       "                var notificationPayload = {\"body\": \"CCC_model_pykahos: ended CCCdata \", \"requireInteraction\": false, \"icon\": \"/static/base/images/favicon.ico\"};\n",
       "                if (Notification.permission !== 'denied') {\n",
       "                    if (Notification.permission !== 'granted') { \n",
       "                        Notification.requestPermission(function (permission) {\n",
       "                            if(!('permission' in Notification)) {\n",
       "                                Notification.permission = permission\n",
       "                            }\n",
       "                        })\n",
       "                    }\n",
       "                    if (Notification.permission === 'granted') {\n",
       "                    var notification = new Notification(\"Jupyter Notebook\", notificationPayload)\n",
       "                    appendUniqueDiv()\n",
       "                    notification.onclick = function () {\n",
       "                        window.focus();\n",
       "                        this.close();\n",
       "                        };\n",
       "                    } \n",
       "                }     \n",
       "            }\n",
       "        }\n",
       "    }\n",
       ")\n"
      ],
      "text/plain": [
       "<IPython.core.display.Javascript object>"
      ]
     },
     "metadata": {},
     "output_type": "display_data"
    }
   ],
   "source": [
    "%%notify -m \"CCC_model_pykahos: ended CCCdata \"\n",
    "\n",
    "from churn.models.ccc.data.ccc_data import  CCC_Data\n",
    "data_abs_data_obj = CCC_Data(input_data=None, filename=DP_FILENAME, pkey_cols=P_KEY)"
   ]
  },
  {
   "cell_type": "markdown",
   "metadata": {},
   "source": [
    "# FIT Model"
   ]
  },
  {
   "cell_type": "code",
   "execution_count": 56,
   "metadata": {
    "collapsed": false
   },
   "outputs": [
    {
     "name": "stdout",
     "output_type": "stream",
     "text": [
      "loaded '/var/SP/data/home/csanc109/src/devel/use-cases/churn/models/ccc/input/h2o_model.yaml'\n",
      "Using test_ratio_split=0.35\n",
      "(0, 60320)\n",
      "(1, 28691)\n",
      "H2O Engine :)\n",
      "Using h2o version 3.18.0.10\n",
      "Detected these gridparams:\n",
      "{'max_after_balance_size': [1.7, 2.5], 'ntrees': [30], 'max_depth': [5]}\n",
      "**** FIT *****\n",
      "***** GRIDSEARCH ********\n",
      "gbm Grid Build progress: |████████████████████████████████████████████████| 100%\n",
      "    max_after_balance_size max_depth ntrees  \\\n",
      "0                      1.7         5     29   \n",
      "1                      2.5         5     28   \n",
      "\n",
      "                                                            model_ids  \\\n",
      "0  Grid_GBM_py_1335_sid_9045_model_python_1547021638053_11556_model_0   \n",
      "1  Grid_GBM_py_1335_sid_9045_model_python_1547021638053_11556_model_1   \n",
      "\n",
      "                  auc  \n",
      "0  0.6344734953647998  \n",
      "1  0.6343084418201391  \n",
      "\n",
      "Time in fit method: 00:02:16\n",
      "gbm prediction progress: |████████████████████████████████████████████████| 100%\n",
      "gbm prediction progress: |████████████████████████████████████████████████| 100%\n",
      "* * * * * * * METRICS TRAIN * * * * * * * \n",
      "\n",
      "ModelMetricsBinomial: gbm\n",
      "** Reported on test data. **\n",
      "\n",
      "MSE: 0.203969872486\n",
      "RMSE: 0.451630238675\n",
      "LogLoss: 0.594305170105\n",
      "Mean Per-Class Error: 0.377795910806\n",
      "AUC: 0.676966090094\n",
      "Gini: 0.353932180188\n",
      "Confusion Matrix (Act/Pred) for max f1 @ threshold = 0.297787536268: \n"
     ]
    },
    {
     "data": {
      "text/html": [
       "<div style=\"overflow:auto\"><table style=\"width:50%\"><tr><td><b></b></td>\n",
       "<td><b>0</b></td>\n",
       "<td><b>1</b></td>\n",
       "<td><b>Error</b></td>\n",
       "<td><b>Rate</b></td></tr>\n",
       "<tr><td>0</td>\n",
       "<td>15177.0</td>\n",
       "<td>24031.0</td>\n",
       "<td>0.6129</td>\n",
       "<td> (24031.0/39208.0)</td></tr>\n",
       "<tr><td>1</td>\n",
       "<td>3055.0</td>\n",
       "<td>15594.0</td>\n",
       "<td>0.1638</td>\n",
       "<td> (3055.0/18649.0)</td></tr>\n",
       "<tr><td>Total</td>\n",
       "<td>18232.0</td>\n",
       "<td>39625.0</td>\n",
       "<td>0.4682</td>\n",
       "<td> (27086.0/57857.0)</td></tr></table></div>"
      ],
      "text/plain": [
       "       0      1      Error    Rate\n",
       "-----  -----  -----  -------  -----------------\n",
       "0      15177  24031  0.6129   (24031.0/39208.0)\n",
       "1      3055   15594  0.1638   (3055.0/18649.0)\n",
       "Total  18232  39625  0.4682   (27086.0/57857.0)"
      ]
     },
     "metadata": {},
     "output_type": "display_data"
    },
    {
     "name": "stdout",
     "output_type": "stream",
     "text": [
      "Maximum Metrics: Maximum metrics at their respective thresholds\n",
      "\n"
     ]
    },
    {
     "data": {
      "text/html": [
       "<div style=\"overflow:auto\"><table style=\"width:50%\"><tr><td><b>metric</b></td>\n",
       "<td><b>threshold</b></td>\n",
       "<td><b>value</b></td>\n",
       "<td><b>idx</b></td></tr>\n",
       "<tr><td>max f1</td>\n",
       "<td>0.2977875</td>\n",
       "<td>0.5351958</td>\n",
       "<td>235.0</td></tr>\n",
       "<tr><td>max f2</td>\n",
       "<td>0.2337654</td>\n",
       "<td>0.7180703</td>\n",
       "<td>304.0</td></tr>\n",
       "<tr><td>max f0point5</td>\n",
       "<td>0.3536328</td>\n",
       "<td>0.4702268</td>\n",
       "<td>152.0</td></tr>\n",
       "<tr><td>max accuracy</td>\n",
       "<td>0.3948720</td>\n",
       "<td>0.6979104</td>\n",
       "<td>101.0</td></tr>\n",
       "<tr><td>max precision</td>\n",
       "<td>0.7241107</td>\n",
       "<td>1.0</td>\n",
       "<td>0.0</td></tr>\n",
       "<tr><td>max recall</td>\n",
       "<td>0.1108048</td>\n",
       "<td>1.0</td>\n",
       "<td>386.0</td></tr>\n",
       "<tr><td>max specificity</td>\n",
       "<td>0.7241107</td>\n",
       "<td>1.0</td>\n",
       "<td>0.0</td></tr>\n",
       "<tr><td>max absolute_mcc</td>\n",
       "<td>0.3093156</td>\n",
       "<td>0.2290401</td>\n",
       "<td>218.0</td></tr>\n",
       "<tr><td>max min_per_class_accuracy</td>\n",
       "<td>0.3308726</td>\n",
       "<td>0.6177811</td>\n",
       "<td>184.0</td></tr>\n",
       "<tr><td>max mean_per_class_accuracy</td>\n",
       "<td>0.3223778</td>\n",
       "<td>0.6222041</td>\n",
       "<td>197.0</td></tr></table></div>"
      ],
      "text/plain": [
       "metric                       threshold    value     idx\n",
       "---------------------------  -----------  --------  -----\n",
       "max f1                       0.297788     0.535196  235\n",
       "max f2                       0.233765     0.71807   304\n",
       "max f0point5                 0.353633     0.470227  152\n",
       "max accuracy                 0.394872     0.69791   101\n",
       "max precision                0.724111     1         0\n",
       "max recall                   0.110805     1         386\n",
       "max specificity              0.724111     1         0\n",
       "max absolute_mcc             0.309316     0.22904   218\n",
       "max min_per_class_accuracy   0.330873     0.617781  184\n",
       "max mean_per_class_accuracy  0.322378     0.622204  197"
      ]
     },
     "metadata": {},
     "output_type": "display_data"
    },
    {
     "name": "stdout",
     "output_type": "stream",
     "text": [
      "Gains/Lift Table: Avg response rate: 32.23 %\n",
      "\n"
     ]
    },
    {
     "data": {
      "text/html": [
       "<div style=\"overflow:auto\"><table style=\"width:50%\"><tr><td><b></b></td>\n",
       "<td><b>group</b></td>\n",
       "<td><b>cumulative_data_fraction</b></td>\n",
       "<td><b>lower_threshold</b></td>\n",
       "<td><b>lift</b></td>\n",
       "<td><b>cumulative_lift</b></td>\n",
       "<td><b>response_rate</b></td>\n",
       "<td><b>cumulative_response_rate</b></td>\n",
       "<td><b>capture_rate</b></td>\n",
       "<td><b>cumulative_capture_rate</b></td>\n",
       "<td><b>gain</b></td>\n",
       "<td><b>cumulative_gain</b></td></tr>\n",
       "<tr><td></td>\n",
       "<td>1</td>\n",
       "<td>0.0100074</td>\n",
       "<td>0.5153567</td>\n",
       "<td>2.6094607</td>\n",
       "<td>2.6094607</td>\n",
       "<td>0.8411054</td>\n",
       "<td>0.8411054</td>\n",
       "<td>0.0261140</td>\n",
       "<td>0.0261140</td>\n",
       "<td>160.9460693</td>\n",
       "<td>160.9460693</td></tr>\n",
       "<tr><td></td>\n",
       "<td>2</td>\n",
       "<td>0.0200149</td>\n",
       "<td>0.4519096</td>\n",
       "<td>2.2826083</td>\n",
       "<td>2.4460345</td>\n",
       "<td>0.7357513</td>\n",
       "<td>0.7884283</td>\n",
       "<td>0.0228430</td>\n",
       "<td>0.0489570</td>\n",
       "<td>128.2608327</td>\n",
       "<td>144.6034510</td></tr>\n",
       "<tr><td></td>\n",
       "<td>3</td>\n",
       "<td>0.0300050</td>\n",
       "<td>0.4281676</td>\n",
       "<td>2.0450197</td>\n",
       "<td>2.3125169</td>\n",
       "<td>0.6591696</td>\n",
       "<td>0.7453917</td>\n",
       "<td>0.0204300</td>\n",
       "<td>0.0693871</td>\n",
       "<td>104.5019715</td>\n",
       "<td>131.2516911</td></tr>\n",
       "<tr><td></td>\n",
       "<td>4</td>\n",
       "<td>0.0400124</td>\n",
       "<td>0.4171548</td>\n",
       "<td>1.8646660</td>\n",
       "<td>2.2005058</td>\n",
       "<td>0.6010363</td>\n",
       "<td>0.7092873</td>\n",
       "<td>0.0186605</td>\n",
       "<td>0.0880476</td>\n",
       "<td>86.4665957</td>\n",
       "<td>120.0505809</td></tr>\n",
       "<tr><td></td>\n",
       "<td>5</td>\n",
       "<td>0.0506594</td>\n",
       "<td>0.4092183</td>\n",
       "<td>1.7476285</td>\n",
       "<td>2.1053259</td>\n",
       "<td>0.5633117</td>\n",
       "<td>0.6786080</td>\n",
       "<td>0.0186069</td>\n",
       "<td>0.1066545</td>\n",
       "<td>74.7628524</td>\n",
       "<td>110.5325868</td></tr>\n",
       "<tr><td></td>\n",
       "<td>6</td>\n",
       "<td>0.1014743</td>\n",
       "<td>0.3882774</td>\n",
       "<td>1.5849770</td>\n",
       "<td>1.8447526</td>\n",
       "<td>0.5108844</td>\n",
       "<td>0.5946176</td>\n",
       "<td>0.0805405</td>\n",
       "<td>0.1871950</td>\n",
       "<td>58.4976999</td>\n",
       "<td>84.4752597</td></tr>\n",
       "<tr><td></td>\n",
       "<td>7</td>\n",
       "<td>0.1500423</td>\n",
       "<td>0.3771259</td>\n",
       "<td>1.4430110</td>\n",
       "<td>1.7147107</td>\n",
       "<td>0.4651246</td>\n",
       "<td>0.5527013</td>\n",
       "<td>0.0700842</td>\n",
       "<td>0.2572792</td>\n",
       "<td>44.3010960</td>\n",
       "<td>71.4710666</td></tr>\n",
       "<tr><td></td>\n",
       "<td>8</td>\n",
       "<td>0.2000968</td>\n",
       "<td>0.3672760</td>\n",
       "<td>1.2844612</td>\n",
       "<td>1.6070833</td>\n",
       "<td>0.4140193</td>\n",
       "<td>0.5180098</td>\n",
       "<td>0.0642930</td>\n",
       "<td>0.3215722</td>\n",
       "<td>28.4461193</td>\n",
       "<td>60.7083260</td></tr>\n",
       "<tr><td></td>\n",
       "<td>9</td>\n",
       "<td>0.2999983</td>\n",
       "<td>0.3504913</td>\n",
       "<td>1.2103726</td>\n",
       "<td>1.4749759</td>\n",
       "<td>0.3901384</td>\n",
       "<td>0.4754278</td>\n",
       "<td>0.1209180</td>\n",
       "<td>0.4424902</td>\n",
       "<td>21.0372561</td>\n",
       "<td>47.4975878</td></tr>\n",
       "<tr><td></td>\n",
       "<td>10</td>\n",
       "<td>0.4000035</td>\n",
       "<td>0.3374706</td>\n",
       "<td>1.1517447</td>\n",
       "<td>1.3941646</td>\n",
       "<td>0.3712409</td>\n",
       "<td>0.4493799</td>\n",
       "<td>0.1151804</td>\n",
       "<td>0.5576707</td>\n",
       "<td>15.1744666</td>\n",
       "<td>39.4164583</td></tr>\n",
       "<tr><td></td>\n",
       "<td>11</td>\n",
       "<td>0.5000086</td>\n",
       "<td>0.3246786</td>\n",
       "<td>1.0680984</td>\n",
       "<td>1.3289491</td>\n",
       "<td>0.3442793</td>\n",
       "<td>0.4283591</td>\n",
       "<td>0.1068154</td>\n",
       "<td>0.6644860</td>\n",
       "<td>6.8098405</td>\n",
       "<td>32.8949093</td></tr>\n",
       "<tr><td></td>\n",
       "<td>12</td>\n",
       "<td>0.5999965</td>\n",
       "<td>0.3104770</td>\n",
       "<td>0.9755054</td>\n",
       "<td>1.2700486</td>\n",
       "<td>0.3144339</td>\n",
       "<td>0.4093737</td>\n",
       "<td>0.0975387</td>\n",
       "<td>0.7620248</td>\n",
       "<td>-2.4494555</td>\n",
       "<td>27.0048606</td></tr>\n",
       "<tr><td></td>\n",
       "<td>13</td>\n",
       "<td>0.7000017</td>\n",
       "<td>0.2947809</td>\n",
       "<td>0.8600551</td>\n",
       "<td>1.2114752</td>\n",
       "<td>0.2772209</td>\n",
       "<td>0.3904938</td>\n",
       "<td>0.0860100</td>\n",
       "<td>0.8480347</td>\n",
       "<td>-13.9944858</td>\n",
       "<td>21.1475219</td></tr>\n",
       "<tr><td></td>\n",
       "<td>14</td>\n",
       "<td>0.8000242</td>\n",
       "<td>0.2718148</td>\n",
       "<td>0.7237368</td>\n",
       "<td>1.1504961</td>\n",
       "<td>0.2332815</td>\n",
       "<td>0.3708385</td>\n",
       "<td>0.0723899</td>\n",
       "<td>0.9204247</td>\n",
       "<td>-27.6263213</td>\n",
       "<td>15.0496061</td></tr>\n",
       "<tr><td></td>\n",
       "<td>15</td>\n",
       "<td>0.8999948</td>\n",
       "<td>0.2274623</td>\n",
       "<td>0.5422796</td>\n",
       "<td>1.0829359</td>\n",
       "<td>0.1747925</td>\n",
       "<td>0.3490619</td>\n",
       "<td>0.0542120</td>\n",
       "<td>0.9746367</td>\n",
       "<td>-45.7720442</td>\n",
       "<td>8.2935917</td></tr>\n",
       "<tr><td></td>\n",
       "<td>16</td>\n",
       "<td>1.0</td>\n",
       "<td>0.0526413</td>\n",
       "<td>0.2536198</td>\n",
       "<td>1.0</td>\n",
       "<td>0.0817490</td>\n",
       "<td>0.3223292</td>\n",
       "<td>0.0253633</td>\n",
       "<td>1.0</td>\n",
       "<td>-74.6380248</td>\n",
       "<td>0.0</td></tr></table></div>"
      ],
      "text/plain": [
       "    group    cumulative_data_fraction    lower_threshold    lift      cumulative_lift    response_rate    cumulative_response_rate    capture_rate    cumulative_capture_rate    gain      cumulative_gain\n",
       "--  -------  --------------------------  -----------------  --------  -----------------  ---------------  --------------------------  --------------  -------------------------  --------  -----------------\n",
       "    1        0.0100074                   0.515357           2.60946   2.60946            0.841105         0.841105                    0.026114        0.026114                   160.946   160.946\n",
       "    2        0.0200149                   0.45191            2.28261   2.44603            0.735751         0.788428                    0.022843        0.048957                   128.261   144.603\n",
       "    3        0.030005                    0.428168           2.04502   2.31252            0.65917          0.745392                    0.02043         0.0693871                  104.502   131.252\n",
       "    4        0.0400124                   0.417155           1.86467   2.20051            0.601036         0.709287                    0.0186605       0.0880476                  86.4666   120.051\n",
       "    5        0.0506594                   0.409218           1.74763   2.10533            0.563312         0.678608                    0.0186069       0.106655                   74.7629   110.533\n",
       "    6        0.101474                    0.388277           1.58498   1.84475            0.510884         0.594618                    0.0805405       0.187195                   58.4977   84.4753\n",
       "    7        0.150042                    0.377126           1.44301   1.71471            0.465125         0.552701                    0.0700842       0.257279                   44.3011   71.4711\n",
       "    8        0.200097                    0.367276           1.28446   1.60708            0.414019         0.51801                     0.064293        0.321572                   28.4461   60.7083\n",
       "    9        0.299998                    0.350491           1.21037   1.47498            0.390138         0.475428                    0.120918        0.44249                    21.0373   47.4976\n",
       "    10       0.400003                    0.337471           1.15174   1.39416            0.371241         0.44938                     0.11518         0.557671                   15.1745   39.4165\n",
       "    11       0.500009                    0.324679           1.0681    1.32895            0.344279         0.428359                    0.106815        0.664486                   6.80984   32.8949\n",
       "    12       0.599997                    0.310477           0.975505  1.27005            0.314434         0.409374                    0.0975387       0.762025                   -2.44946  27.0049\n",
       "    13       0.700002                    0.294781           0.860055  1.21148            0.277221         0.390494                    0.08601         0.848035                   -13.9945  21.1475\n",
       "    14       0.800024                    0.271815           0.723737  1.1505             0.233281         0.370838                    0.0723899       0.920425                   -27.6263  15.0496\n",
       "    15       0.899995                    0.227462           0.54228   1.08294            0.174793         0.349062                    0.054212        0.974637                   -45.772   8.29359\n",
       "    16       1                           0.0526413          0.25362   1                  0.081749         0.322329                    0.0253633       1                          -74.638   0"
      ]
     },
     "metadata": {},
     "output_type": "display_data"
    },
    {
     "name": "stdout",
     "output_type": "stream",
     "text": [
      "\n",
      "\n",
      "Could not find exact threshold 0.296025101192; using closest threshold found 0.295798584114.\n",
      "Could not find exact threshold 0.268194021863; using closest threshold found 0.268385978554.\n",
      "Could not find exact threshold 0.296025101192; using closest threshold found 0.295798584114.\n",
      "Could not find exact threshold 0.268194021863; using closest threshold found 0.268385978554.\n",
      "Could not find exact threshold 0.296025101192; using closest threshold found 0.295798584114.\n",
      "Could not find exact threshold 0.268194021863; using closest threshold found 0.268385978554.\n",
      "Could not find exact threshold 0.296025101192; using closest threshold found 0.295798584114.\n",
      "Could not find exact threshold 0.268194021863; using closest threshold found 0.268385978554.\n",
      "Could not find exact threshold 0.296025101192; using closest threshold found 0.295798584114.\n",
      "Could not find exact threshold 0.268194021863; using closest threshold found 0.268385978554.\n",
      "Could not find exact threshold 0.296025101192; using closest threshold found 0.295798584114.\n",
      "Could not find exact threshold 0.268194021863; using closest threshold found 0.268385978554.\n",
      "Could not find exact threshold 0.296025101192; using closest threshold found 0.295798584114.\n",
      "Could not find exact threshold 0.268194021863; using closest threshold found 0.268385978554.\n",
      "Could not find exact threshold 0.296025101192; using closest threshold found 0.295798584114.\n",
      "Could not find exact threshold 0.268194021863; using closest threshold found 0.268385978554.\n",
      "Could not find exact threshold 0.296025101192; using closest threshold found 0.295798584114.\n",
      "Could not find exact threshold 0.268194021863; using closest threshold found 0.268385978554.\n",
      "Could not find exact threshold 0.296025101192; using closest threshold found 0.295798584114.\n",
      "Could not find exact threshold 0.268194021863; using closest threshold found 0.268385978554.\n",
      "Could not find exact threshold 0.296025101192; using closest threshold found 0.295798584114.\n",
      "Could not find exact threshold 0.268194021863; using closest threshold found 0.268385978554.\n",
      "Could not find exact threshold 0.296025101192; using closest threshold found 0.295798584114.\n",
      "Could not find exact threshold 0.268194021863; using closest threshold found 0.268385978554.\n",
      "Could not find exact threshold 0.296025101192; using closest threshold found 0.295798584114.\n",
      "Could not find exact threshold 0.268194021863; using closest threshold found 0.268385978554.\n",
      "Could not find exact threshold 0.296025101192; using closest threshold found 0.295798584114.\n",
      "Could not find exact threshold 0.268194021863; using closest threshold found 0.268385978554.\n",
      "* * * * * * * METRICS TEST * * * * * * * \n",
      "\n",
      "ModelMetricsBinomial: gbm\n",
      "** Reported on test data. **\n",
      "\n",
      "MSE: 0.208379657107\n",
      "RMSE: 0.456486206919\n",
      "LogLoss: 0.604730158965\n",
      "Mean Per-Class Error: 0.401478577772\n",
      "AUC: 0.638955643591\n",
      "Gini: 0.277911287183\n",
      "Confusion Matrix (Act/Pred) for max f1 @ threshold = 0.290796265119: \n"
     ]
    },
    {
     "data": {
      "text/html": [
       "<div style=\"overflow:auto\"><table style=\"width:50%\"><tr><td><b></b></td>\n",
       "<td><b>0</b></td>\n",
       "<td><b>1</b></td>\n",
       "<td><b>Error</b></td>\n",
       "<td><b>Rate</b></td></tr>\n",
       "<tr><td>0</td>\n",
       "<td>7022.0</td>\n",
       "<td>14090.0</td>\n",
       "<td>0.6674</td>\n",
       "<td> (14090.0/21112.0)</td></tr>\n",
       "<tr><td>1</td>\n",
       "<td>1621.0</td>\n",
       "<td>8421.0</td>\n",
       "<td>0.1614</td>\n",
       "<td> (1621.0/10042.0)</td></tr>\n",
       "<tr><td>Total</td>\n",
       "<td>8643.0</td>\n",
       "<td>22511.0</td>\n",
       "<td>0.5043</td>\n",
       "<td> (15711.0/31154.0)</td></tr></table></div>"
      ],
      "text/plain": [
       "       0     1      Error    Rate\n",
       "-----  ----  -----  -------  -----------------\n",
       "0      7022  14090  0.6674   (14090.0/21112.0)\n",
       "1      1621  8421   0.1614   (1621.0/10042.0)\n",
       "Total  8643  22511  0.5043   (15711.0/31154.0)"
      ]
     },
     "metadata": {},
     "output_type": "display_data"
    },
    {
     "name": "stdout",
     "output_type": "stream",
     "text": [
      "Maximum Metrics: Maximum metrics at their respective thresholds\n",
      "\n"
     ]
    },
    {
     "data": {
      "text/html": [
       "<div style=\"overflow:auto\"><table style=\"width:50%\"><tr><td><b>metric</b></td>\n",
       "<td><b>threshold</b></td>\n",
       "<td><b>value</b></td>\n",
       "<td><b>idx</b></td></tr>\n",
       "<tr><td>max f1</td>\n",
       "<td>0.2907963</td>\n",
       "<td>0.5173717</td>\n",
       "<td>241.0</td></tr>\n",
       "<tr><td>max f2</td>\n",
       "<td>0.2046950</td>\n",
       "<td>0.7095855</td>\n",
       "<td>331.0</td></tr>\n",
       "<tr><td>max f0point5</td>\n",
       "<td>0.3318663</td>\n",
       "<td>0.4427870</td>\n",
       "<td>181.0</td></tr>\n",
       "<tr><td>max accuracy</td>\n",
       "<td>0.4059002</td>\n",
       "<td>0.6855941</td>\n",
       "<td>83.0</td></tr>\n",
       "<tr><td>max precision</td>\n",
       "<td>0.7105537</td>\n",
       "<td>1.0</td>\n",
       "<td>0.0</td></tr>\n",
       "<tr><td>max recall</td>\n",
       "<td>0.0738036</td>\n",
       "<td>1.0</td>\n",
       "<td>398.0</td></tr>\n",
       "<tr><td>max specificity</td>\n",
       "<td>0.7105537</td>\n",
       "<td>1.0</td>\n",
       "<td>0.0</td></tr>\n",
       "<tr><td>max absolute_mcc</td>\n",
       "<td>0.3147678</td>\n",
       "<td>0.1859599</td>\n",
       "<td>208.0</td></tr>\n",
       "<tr><td>max min_per_class_accuracy</td>\n",
       "<td>0.3293472</td>\n",
       "<td>0.5971959</td>\n",
       "<td>185.0</td></tr>\n",
       "<tr><td>max mean_per_class_accuracy</td>\n",
       "<td>0.3153719</td>\n",
       "<td>0.5985214</td>\n",
       "<td>207.0</td></tr></table></div>"
      ],
      "text/plain": [
       "metric                       threshold    value     idx\n",
       "---------------------------  -----------  --------  -----\n",
       "max f1                       0.290796     0.517372  241\n",
       "max f2                       0.204695     0.709585  331\n",
       "max f0point5                 0.331866     0.442787  181\n",
       "max accuracy                 0.4059       0.685594  83\n",
       "max precision                0.710554     1         0\n",
       "max recall                   0.0738036    1         398\n",
       "max specificity              0.710554     1         0\n",
       "max absolute_mcc             0.314768     0.18596   208\n",
       "max min_per_class_accuracy   0.329347     0.597196  185\n",
       "max mean_per_class_accuracy  0.315372     0.598521  207"
      ]
     },
     "metadata": {},
     "output_type": "display_data"
    },
    {
     "name": "stdout",
     "output_type": "stream",
     "text": [
      "Gains/Lift Table: Avg response rate: 32.23 %\n",
      "\n"
     ]
    },
    {
     "data": {
      "text/html": [
       "<div style=\"overflow:auto\"><table style=\"width:50%\"><tr><td><b></b></td>\n",
       "<td><b>group</b></td>\n",
       "<td><b>cumulative_data_fraction</b></td>\n",
       "<td><b>lower_threshold</b></td>\n",
       "<td><b>lift</b></td>\n",
       "<td><b>cumulative_lift</b></td>\n",
       "<td><b>response_rate</b></td>\n",
       "<td><b>cumulative_response_rate</b></td>\n",
       "<td><b>capture_rate</b></td>\n",
       "<td><b>cumulative_capture_rate</b></td>\n",
       "<td><b>gain</b></td>\n",
       "<td><b>cumulative_gain</b></td></tr>\n",
       "<tr><td></td>\n",
       "<td>1</td>\n",
       "<td>0.0100148</td>\n",
       "<td>0.4897826</td>\n",
       "<td>2.2770601</td>\n",
       "<td>2.2770601</td>\n",
       "<td>0.7339744</td>\n",
       "<td>0.7339744</td>\n",
       "<td>0.0228042</td>\n",
       "<td>0.0228042</td>\n",
       "<td>127.7060066</td>\n",
       "<td>127.7060066</td></tr>\n",
       "<tr><td></td>\n",
       "<td>2</td>\n",
       "<td>0.0200295</td>\n",
       "<td>0.4381408</td>\n",
       "<td>1.8594333</td>\n",
       "<td>2.0682467</td>\n",
       "<td>0.5993590</td>\n",
       "<td>0.6666667</td>\n",
       "<td>0.0186218</td>\n",
       "<td>0.0414260</td>\n",
       "<td>85.9433329</td>\n",
       "<td>106.8246697</td></tr>\n",
       "<tr><td></td>\n",
       "<td>3</td>\n",
       "<td>0.0300122</td>\n",
       "<td>0.4213404</td>\n",
       "<td>1.5661482</td>\n",
       "<td>1.9012385</td>\n",
       "<td>0.5048232</td>\n",
       "<td>0.6128342</td>\n",
       "<td>0.0156343</td>\n",
       "<td>0.0570603</td>\n",
       "<td>56.6148222</td>\n",
       "<td>90.1238541</td></tr>\n",
       "<tr><td></td>\n",
       "<td>4</td>\n",
       "<td>0.0400270</td>\n",
       "<td>0.4132448</td>\n",
       "<td>1.6605635</td>\n",
       "<td>1.8410215</td>\n",
       "<td>0.5352564</td>\n",
       "<td>0.5934242</td>\n",
       "<td>0.0166302</td>\n",
       "<td>0.0736905</td>\n",
       "<td>66.0563454</td>\n",
       "<td>84.1021519</td></tr>\n",
       "<tr><td></td>\n",
       "<td>5</td>\n",
       "<td>0.0500738</td>\n",
       "<td>0.4055246</td>\n",
       "<td>1.6056995</td>\n",
       "<td>1.7938063</td>\n",
       "<td>0.5175719</td>\n",
       "<td>0.5782051</td>\n",
       "<td>0.0161322</td>\n",
       "<td>0.0898227</td>\n",
       "<td>60.5699513</td>\n",
       "<td>79.3806270</td></tr>\n",
       "<tr><td></td>\n",
       "<td>6</td>\n",
       "<td>0.1000193</td>\n",
       "<td>0.3874016</td>\n",
       "<td>1.4275687</td>\n",
       "<td>1.6109226</td>\n",
       "<td>0.4601542</td>\n",
       "<td>0.5192555</td>\n",
       "<td>0.0713005</td>\n",
       "<td>0.1611233</td>\n",
       "<td>42.7568736</td>\n",
       "<td>61.0922572</td></tr>\n",
       "<tr><td></td>\n",
       "<td>7</td>\n",
       "<td>0.1499968</td>\n",
       "<td>0.3761170</td>\n",
       "<td>1.3031150</td>\n",
       "<td>1.5083640</td>\n",
       "<td>0.4200385</td>\n",
       "<td>0.4861973</td>\n",
       "<td>0.0651265</td>\n",
       "<td>0.2262498</td>\n",
       "<td>30.3114971</td>\n",
       "<td>50.8363951</td></tr>\n",
       "<tr><td></td>\n",
       "<td>8</td>\n",
       "<td>0.2000064</td>\n",
       "<td>0.3667255</td>\n",
       "<td>1.2584710</td>\n",
       "<td>1.4458807</td>\n",
       "<td>0.4056483</td>\n",
       "<td>0.4660568</td>\n",
       "<td>0.0629357</td>\n",
       "<td>0.2891854</td>\n",
       "<td>25.8471033</td>\n",
       "<td>44.5880695</td></tr>\n",
       "<tr><td></td>\n",
       "<td>9</td>\n",
       "<td>0.2999936</td>\n",
       "<td>0.3497089</td>\n",
       "<td>1.2349723</td>\n",
       "<td>1.3755854</td>\n",
       "<td>0.3980738</td>\n",
       "<td>0.4433982</td>\n",
       "<td>0.1234814</td>\n",
       "<td>0.4126668</td>\n",
       "<td>23.4972346</td>\n",
       "<td>37.5585434</td></tr>\n",
       "<tr><td></td>\n",
       "<td>10</td>\n",
       "<td>0.4000128</td>\n",
       "<td>0.3370017</td>\n",
       "<td>1.1151009</td>\n",
       "<td>1.3104539</td>\n",
       "<td>0.3594352</td>\n",
       "<td>0.4224041</td>\n",
       "<td>0.1115316</td>\n",
       "<td>0.5241984</td>\n",
       "<td>11.5100915</td>\n",
       "<td>31.0453853</td></tr>\n",
       "<tr><td></td>\n",
       "<td>11</td>\n",
       "<td>0.5</td>\n",
       "<td>0.3243830</td>\n",
       "<td>1.0766170</td>\n",
       "<td>1.2636925</td>\n",
       "<td>0.3470305</td>\n",
       "<td>0.4073313</td>\n",
       "<td>0.1076479</td>\n",
       "<td>0.6318462</td>\n",
       "<td>7.6617021</td>\n",
       "<td>26.3692492</td></tr>\n",
       "<tr><td></td>\n",
       "<td>12</td>\n",
       "<td>0.5999872</td>\n",
       "<td>0.3102817</td>\n",
       "<td>0.9869819</td>\n",
       "<td>1.2175790</td>\n",
       "<td>0.3181380</td>\n",
       "<td>0.3924674</td>\n",
       "<td>0.0986855</td>\n",
       "<td>0.7305318</td>\n",
       "<td>-1.3018069</td>\n",
       "<td>21.7578999</td></tr>\n",
       "<tr><td></td>\n",
       "<td>13</td>\n",
       "<td>0.7000064</td>\n",
       "<td>0.2945870</td>\n",
       "<td>0.8831201</td>\n",
       "<td>1.1697904</td>\n",
       "<td>0.2846598</td>\n",
       "<td>0.3770635</td>\n",
       "<td>0.0883290</td>\n",
       "<td>0.8188608</td>\n",
       "<td>-11.6879900</td>\n",
       "<td>16.9790393</td></tr>\n",
       "<tr><td></td>\n",
       "<td>14</td>\n",
       "<td>0.7999936</td>\n",
       "<td>0.2726282</td>\n",
       "<td>0.7559226</td>\n",
       "<td>1.1180631</td>\n",
       "<td>0.2436597</td>\n",
       "<td>0.3603900</td>\n",
       "<td>0.0755826</td>\n",
       "<td>0.8944433</td>\n",
       "<td>-24.4077411</td>\n",
       "<td>11.8063145</td></tr>\n",
       "<tr><td></td>\n",
       "<td>15</td>\n",
       "<td>0.8999807</td>\n",
       "<td>0.2284366</td>\n",
       "<td>0.6722632</td>\n",
       "<td>1.0685351</td>\n",
       "<td>0.2166934</td>\n",
       "<td>0.3444254</td>\n",
       "<td>0.0672177</td>\n",
       "<td>0.9616610</td>\n",
       "<td>-32.7736828</td>\n",
       "<td>6.8535114</td></tr>\n",
       "<tr><td></td>\n",
       "<td>16</td>\n",
       "<td>1.0</td>\n",
       "<td>0.0561638</td>\n",
       "<td>0.3833159</td>\n",
       "<td>1.0</td>\n",
       "<td>0.1235558</td>\n",
       "<td>0.3223342</td>\n",
       "<td>0.0383390</td>\n",
       "<td>1.0</td>\n",
       "<td>-61.6684060</td>\n",
       "<td>0.0</td></tr></table></div>"
      ],
      "text/plain": [
       "    group    cumulative_data_fraction    lower_threshold    lift      cumulative_lift    response_rate    cumulative_response_rate    capture_rate    cumulative_capture_rate    gain      cumulative_gain\n",
       "--  -------  --------------------------  -----------------  --------  -----------------  ---------------  --------------------------  --------------  -------------------------  --------  -----------------\n",
       "    1        0.0100148                   0.489783           2.27706   2.27706            0.733974         0.733974                    0.0228042       0.0228042                  127.706   127.706\n",
       "    2        0.0200295                   0.438141           1.85943   2.06825            0.599359         0.666667                    0.0186218       0.041426                   85.9433   106.825\n",
       "    3        0.0300122                   0.42134            1.56615   1.90124            0.504823         0.612834                    0.0156343       0.0570603                  56.6148   90.1239\n",
       "    4        0.040027                    0.413245           1.66056   1.84102            0.535256         0.593424                    0.0166302       0.0736905                  66.0563   84.1022\n",
       "    5        0.0500738                   0.405525           1.6057    1.79381            0.517572         0.578205                    0.0161322       0.0898227                  60.57     79.3806\n",
       "    6        0.100019                    0.387402           1.42757   1.61092            0.460154         0.519255                    0.0713005       0.161123                   42.7569   61.0923\n",
       "    7        0.149997                    0.376117           1.30311   1.50836            0.420039         0.486197                    0.0651265       0.22625                    30.3115   50.8364\n",
       "    8        0.200006                    0.366726           1.25847   1.44588            0.405648         0.466057                    0.0629357       0.289185                   25.8471   44.5881\n",
       "    9        0.299994                    0.349709           1.23497   1.37559            0.398074         0.443398                    0.123481        0.412667                   23.4972   37.5585\n",
       "    10       0.400013                    0.337002           1.1151    1.31045            0.359435         0.422404                    0.111532        0.524198                   11.5101   31.0454\n",
       "    11       0.5                         0.324383           1.07662   1.26369            0.34703          0.407331                    0.107648        0.631846                   7.6617    26.3692\n",
       "    12       0.599987                    0.310282           0.986982  1.21758            0.318138         0.392467                    0.0986855       0.730532                   -1.30181  21.7579\n",
       "    13       0.700006                    0.294587           0.88312   1.16979            0.28466          0.377063                    0.088329        0.818861                   -11.688   16.979\n",
       "    14       0.799994                    0.272628           0.755923  1.11806            0.24366          0.36039                     0.0755826       0.894443                   -24.4077  11.8063\n",
       "    15       0.899981                    0.228437           0.672263  1.06854            0.216693         0.344425                    0.0672177       0.961661                   -32.7737  6.85351\n",
       "    16       1                           0.0561638          0.383316  1                  0.123556         0.322334                    0.038339        1                          -61.6684  0"
      ]
     },
     "metadata": {},
     "output_type": "display_data"
    },
    {
     "name": "stdout",
     "output_type": "stream",
     "text": [
      "\n",
      "\n",
      "Could not find exact threshold 0.296025101192; using closest threshold found 0.296174504764.\n",
      "Could not find exact threshold 0.268194021863; using closest threshold found 0.268237061463.\n",
      "Could not find exact threshold 0.296025101192; using closest threshold found 0.296174504764.\n",
      "Could not find exact threshold 0.268194021863; using closest threshold found 0.268237061463.\n",
      "Could not find exact threshold 0.296025101192; using closest threshold found 0.296174504764.\n",
      "Could not find exact threshold 0.268194021863; using closest threshold found 0.268237061463.\n",
      "Could not find exact threshold 0.296025101192; using closest threshold found 0.296174504764.\n",
      "Could not find exact threshold 0.268194021863; using closest threshold found 0.268237061463.\n",
      "Could not find exact threshold 0.296025101192; using closest threshold found 0.296174504764.\n",
      "Could not find exact threshold 0.268194021863; using closest threshold found 0.268237061463.\n",
      "Could not find exact threshold 0.296025101192; using closest threshold found 0.296174504764.\n",
      "Could not find exact threshold 0.268194021863; using closest threshold found 0.268237061463.\n",
      "Could not find exact threshold 0.296025101192; using closest threshold found 0.296174504764.\n",
      "Could not find exact threshold 0.268194021863; using closest threshold found 0.268237061463.\n",
      "Could not find exact threshold 0.296025101192; using closest threshold found 0.296174504764.\n",
      "Could not find exact threshold 0.268194021863; using closest threshold found 0.268237061463.\n",
      "Could not find exact threshold 0.296025101192; using closest threshold found 0.296174504764.\n",
      "Could not find exact threshold 0.268194021863; using closest threshold found 0.268237061463.\n",
      "Could not find exact threshold 0.296025101192; using closest threshold found 0.296174504764.\n",
      "Could not find exact threshold 0.268194021863; using closest threshold found 0.268237061463.\n",
      "Could not find exact threshold 0.296025101192; using closest threshold found 0.296174504764.\n",
      "Could not find exact threshold 0.268194021863; using closest threshold found 0.268237061463.\n",
      "Could not find exact threshold 0.296025101192; using closest threshold found 0.296174504764.\n",
      "Could not find exact threshold 0.268194021863; using closest threshold found 0.268237061463.\n",
      "Could not find exact threshold 0.296025101192; using closest threshold found 0.296174504764.\n",
      "Could not find exact threshold 0.268194021863; using closest threshold found 0.268237061463.\n",
      "Could not find exact threshold 0.296025101192; using closest threshold found 0.296174504764.\n",
      "Could not find exact threshold 0.268194021863; using closest threshold found 0.268237061463.\n"
     ]
    },
    {
     "data": {
      "application/javascript": [
       "$(document).ready(\n",
       "    function() {\n",
       "        function appendUniqueDiv(){\n",
       "            // append a div with our uuid so we can check that it's already\n",
       "            // been sent and avoid duplicates on page reload\n",
       "            var notifiedDiv = document.createElement(\"div\")\n",
       "            notifiedDiv.id = \"56985667-8021-47c4-a5d0-1f5254736f9f\"\n",
       "            element.append(notifiedDiv)\n",
       "        }\n",
       "\n",
       "        // only send notifications if the pageload is complete; this will\n",
       "        // help stop extra notifications when a saved notebook is loaded,\n",
       "        // which during testing gives us state \"interactive\", not \"complete\"\n",
       "        if (document.readyState === 'complete') {\n",
       "            // check for the div that signifies that the notification\n",
       "            // was already sent\n",
       "            if (document.getElementById(\"56985667-8021-47c4-a5d0-1f5254736f9f\") === null) {\n",
       "                var notificationPayload = {\"body\": \"CCC_model_pykahos: ended fit \", \"requireInteraction\": false, \"icon\": \"/static/base/images/favicon.ico\"};\n",
       "                if (Notification.permission !== 'denied') {\n",
       "                    if (Notification.permission !== 'granted') { \n",
       "                        Notification.requestPermission(function (permission) {\n",
       "                            if(!('permission' in Notification)) {\n",
       "                                Notification.permission = permission\n",
       "                            }\n",
       "                        })\n",
       "                    }\n",
       "                    if (Notification.permission === 'granted') {\n",
       "                    var notification = new Notification(\"Jupyter Notebook\", notificationPayload)\n",
       "                    appendUniqueDiv()\n",
       "                    notification.onclick = function () {\n",
       "                        window.focus();\n",
       "                        this.close();\n",
       "                        };\n",
       "                    } \n",
       "                }     \n",
       "            }\n",
       "        }\n",
       "    }\n",
       ")\n"
      ],
      "text/plain": [
       "<IPython.core.display.Javascript object>"
      ]
     },
     "metadata": {},
     "output_type": "display_data"
    }
   ],
   "source": [
    "%%notify -m \"CCC_model_pykahos: ended fit \"\n",
    "modeler = Model(MODEL_NAME, MODEL_YAML_PATH, verbose=False)\n",
    "modeler.fit(data_abs_data_obj)"
   ]
  },
  {
   "cell_type": "markdown",
   "metadata": {},
   "source": [
    "# SAVE model"
   ]
  },
  {
   "cell_type": "code",
   "execution_count": 57,
   "metadata": {
    "collapsed": false
   },
   "outputs": [
    {
     "name": "stdout",
     "output_type": "stream",
     "text": [
      "Using h2o version 3.18.0.10\n",
      "************** model.py save\n",
      "['model_fit_config', 'model_fit_params', 'numero_variables', 'target_freq', 'model train metrics', 'target_freq_split', 'test_partition_size', 'model_fit_score_hist', 'model test metrics', 'train_partition_size']\n",
      "Starting save of model at '/var/SP/data/home/csanc109/data/churn/ccc/results/ccc_comercial_tests/20190109_091356/model/ccc_comercial_tests.pkl'\n",
      "save h2o_factory /var/SP/data/home/csanc109/data/churn/ccc/results/ccc_comercial_tests/20190109_091356/model\n",
      "save h2o_factory_saving_path /var/SP/data/home/csanc109/data/churn/ccc/results/ccc_comercial_tests/20190109_091356/model/h2o_factory\n",
      "Saved h2o model in path /var/SP/data/home/csanc109/data/churn/ccc/results/ccc_comercial_tests/20190109_091356/model/h2o_factory/Grid_GBM_py_1335_sid_9045_model_python_1547021638053_11556_model_0\n",
      "Saving object at /var/SP/data/home/csanc109/data/churn/ccc/results/ccc_comercial_tests/20190109_091356/model/ccc_comercial_tests.pkl\n",
      "Calling to __getstate model\n",
      "saving_model_info\n",
      "['model_fit_config', 'model_fit_params', 'numero_variables', 'target_freq', 'model train metrics', 'target_freq_split', 'test_partition_size', 'model_fit_score_hist', 'model test metrics', 'train_partition_size']\n",
      "Calling to __getstate H2O Factory\n",
      "['params', 'modeler_save_path', 'config', 'feature_importance', 'gridsearch', 'modeler']\n",
      "['params', 'modeler_save_path', 'config', 'feature_importance']\n",
      "---\n",
      "{'engine': 'h2o', 'test_ratio_split': 0.35, 'intro': True, 'params': {'max_runtime_secs': 60, 'nfolds': 10, 'balance_classes': True}, 'gridparams': {'max_after_balance_size': [1.7, 2.5], 'ntrees': [30], 'max_depth': [5]}, 'type': 'XGBOOST'}\n",
      "Model object saved succesfully in file '/var/SP/data/home/csanc109/data/churn/ccc/results/ccc_comercial_tests/20190109_091356/model/ccc_comercial_tests.pkl'\n"
     ]
    },
    {
     "data": {
      "text/plain": [
       "'CCC_model_pykahos: [OK] model saved '"
      ]
     },
     "execution_count": 57,
     "metadata": {},
     "output_type": "execute_result"
    },
    {
     "data": {
      "application/javascript": [
       "$(document).ready(\n",
       "    function() {\n",
       "        function appendUniqueDiv(){\n",
       "            // append a div with our uuid so we can check that it's already\n",
       "            // been sent and avoid duplicates on page reload\n",
       "            var notifiedDiv = document.createElement(\"div\")\n",
       "            notifiedDiv.id = \"bd0cf7b1-5b1c-444e-8790-b50b208181f7\"\n",
       "            element.append(notifiedDiv)\n",
       "        }\n",
       "\n",
       "        // only send notifications if the pageload is complete; this will\n",
       "        // help stop extra notifications when a saved notebook is loaded,\n",
       "        // which during testing gives us state \"interactive\", not \"complete\"\n",
       "        if (document.readyState === 'complete') {\n",
       "            // check for the div that signifies that the notification\n",
       "            // was already sent\n",
       "            if (document.getElementById(\"bd0cf7b1-5b1c-444e-8790-b50b208181f7\") === null) {\n",
       "                var notificationPayload = {\"body\": \"CCC_model_pykahos: [OK] model saved \", \"requireInteraction\": false, \"icon\": \"/static/base/images/favicon.ico\"};\n",
       "                if (Notification.permission !== 'denied') {\n",
       "                    if (Notification.permission !== 'granted') { \n",
       "                        Notification.requestPermission(function (permission) {\n",
       "                            if(!('permission' in Notification)) {\n",
       "                                Notification.permission = permission\n",
       "                            }\n",
       "                        })\n",
       "                    }\n",
       "                    if (Notification.permission === 'granted') {\n",
       "                    var notification = new Notification(\"Jupyter Notebook\", notificationPayload)\n",
       "                    appendUniqueDiv()\n",
       "                    notification.onclick = function () {\n",
       "                        window.focus();\n",
       "                        this.close();\n",
       "                        };\n",
       "                    } \n",
       "                }     \n",
       "            }\n",
       "        }\n",
       "    }\n",
       ")\n"
      ],
      "text/plain": [
       "<IPython.core.display.Javascript object>"
      ]
     },
     "metadata": {},
     "output_type": "display_data"
    }
   ],
   "source": [
    "%%notify -o\n",
    "\n",
    "result=\"FAILED\"\n",
    "\n",
    "import datetime as dt\n",
    "from churn.utils.constants import YAML_DATA_PREPARATION, YAML_CLOSING_DAY\n",
    "save_model_path =  os.path.join(SAVING_PATH_UNIQUE, \"model\")\n",
    "modeler.save(save_model_path)\n",
    "result=\"OK\"\n",
    "\"CCC_model_pykahos: [{}] model saved \".format(result)"
   ]
  },
  {
   "cell_type": "markdown",
   "metadata": {},
   "source": [
    "# Reporter"
   ]
  },
  {
   "cell_type": "code",
   "execution_count": 58,
   "metadata": {
    "collapsed": false
   },
   "outputs": [
    {
     "name": "stdout",
     "output_type": "stream",
     "text": [
      "Reporter __init__ model_id=ccc_comercial_tests model_dir=/var/SP/data/home/csanc109/data/churn/ccc/results/ccc_comercial_tests/20190109_091356/model template_yaml_path=/var/SP/data/home/csanc109/src/devel/use-cases/churn/models/ccc/input/xlsx_report_template.yaml\n",
      "Loading model /var/SP/data/home/csanc109/data/churn/ccc/results/ccc_comercial_tests/20190109_091356/model/ccc_comercial_tests.pkl\n",
      "Loading object from /var/SP/data/home/csanc109/data/churn/ccc/results/ccc_comercial_tests/20190109_091356/model/ccc_comercial_tests.pkl\n",
      "Calling to __setstate H2O Factory\n",
      "['config', 'params', 'modeler_save_path', 'feature_importance']\n",
      "<type 'NoneType'>\n",
      "Calling to __setstate in model\n",
      "['model_id', 'model_info', 'yaml_filename', 'cols', 'cat_encoding', 'model']\n",
      "Loaded modeler from path /var/SP/data/home/csanc109/data/churn/ccc/results/ccc_comercial_tests/20190109_091356/model/h2o_factory/Grid_GBM_py_1335_sid_9045_model_python_1547021638053_11556_model_0\n",
      "Loading report template from '/var/SP/data/home/csanc109/src/devel/use-cases/churn/models/ccc/input/xlsx_report_template.yaml'\n"
     ]
    },
    {
     "name": "stderr",
     "output_type": "stream",
     "text": [
      "/opt/cloudera/parcels/Anaconda/lib/python2.7/site-packages/matplotlib/pyplot.py:523: RuntimeWarning:\n",
      "\n",
      "More than 20 figures have been opened. Figures created through the pyplot interface (`matplotlib.pyplot.figure`) are retained until explicitly closed and may consume too much memory. (To control this warning, see the rcParam `figure.max_open_warning`).\n",
      "\n"
     ]
    },
    {
     "name": "stdout",
     "output_type": "stream",
     "text": [
      "Writting sheet 'Intro'\n",
      "Writting sheet 'Split'\n",
      "Writting sheet 'Model'\n",
      "Writting sheet 'Train metrics'\n",
      "Writting sheet 'Test metrics'\n",
      "Saved in '/var/SP/data/home/csanc109/data/churn/ccc/results/ccc_comercial_tests/20190109_091356/reporter/ccc_comercial_tests_20190114_121752.xlsx'\n",
      "Informe generado!\n"
     ]
    },
    {
     "data": {
      "text/plain": [
       "'CCC_model_pykahos: [OK] reporter finished'"
      ]
     },
     "execution_count": 58,
     "metadata": {},
     "output_type": "execute_result"
    },
    {
     "data": {
      "application/javascript": [
       "$(document).ready(\n",
       "    function() {\n",
       "        function appendUniqueDiv(){\n",
       "            // append a div with our uuid so we can check that it's already\n",
       "            // been sent and avoid duplicates on page reload\n",
       "            var notifiedDiv = document.createElement(\"div\")\n",
       "            notifiedDiv.id = \"af02e0bd-214a-4a44-873b-1bc7a5955c5e\"\n",
       "            element.append(notifiedDiv)\n",
       "        }\n",
       "\n",
       "        // only send notifications if the pageload is complete; this will\n",
       "        // help stop extra notifications when a saved notebook is loaded,\n",
       "        // which during testing gives us state \"interactive\", not \"complete\"\n",
       "        if (document.readyState === 'complete') {\n",
       "            // check for the div that signifies that the notification\n",
       "            // was already sent\n",
       "            if (document.getElementById(\"af02e0bd-214a-4a44-873b-1bc7a5955c5e\") === null) {\n",
       "                var notificationPayload = {\"body\": \"CCC_model_pykahos: [OK] reporter finished\", \"requireInteraction\": false, \"icon\": \"/static/base/images/favicon.ico\"};\n",
       "                if (Notification.permission !== 'denied') {\n",
       "                    if (Notification.permission !== 'granted') { \n",
       "                        Notification.requestPermission(function (permission) {\n",
       "                            if(!('permission' in Notification)) {\n",
       "                                Notification.permission = permission\n",
       "                            }\n",
       "                        })\n",
       "                    }\n",
       "                    if (Notification.permission === 'granted') {\n",
       "                    var notification = new Notification(\"Jupyter Notebook\", notificationPayload)\n",
       "                    appendUniqueDiv()\n",
       "                    notification.onclick = function () {\n",
       "                        window.focus();\n",
       "                        this.close();\n",
       "                        };\n",
       "                    } \n",
       "                }     \n",
       "            }\n",
       "        }\n",
       "    }\n",
       ")\n"
      ],
      "text/plain": [
       "<IPython.core.display.Javascript object>"
      ]
     },
     "metadata": {},
     "output_type": "display_data"
    }
   ],
   "source": [
    "%%notify -o\n",
    "result=\"FAILED\"\n",
    "\n",
    "from pykhaos.reporting.reporter import Reporter\n",
    "\n",
    "save_reporter_path = os.path.join(SAVING_PATH_UNIQUE, \"reporter\")\n",
    "\n",
    "reporter = Reporter(MODEL_NAME, save_model_path, XLSX_REPORT_TEMPLATE_PATH).set_saving_path(save_reporter_path).create()\n",
    "\n",
    "print 'Informe generado!'\n",
    "\n",
    "result=\"OK\"\n",
    "\"CCC_model_pykahos: [{}] reporter finished\".format(result)"
   ]
  },
  {
   "cell_type": "code",
   "execution_count": 59,
   "metadata": {
    "collapsed": false
   },
   "outputs": [
    {
     "data": {
      "text/plain": [
       "'\\nimport h2o\\nh2o.export_file(modeler.get_sets(), os.path.join(save_model_path, \"sets.csv\"), force=True)\\n'"
      ]
     },
     "execution_count": 59,
     "metadata": {},
     "output_type": "execute_result"
    }
   ],
   "source": [
    "# Uncomment celd if you want to save the sets data (not recommended...)\n",
    "'''\n",
    "import h2o\n",
    "h2o.export_file(modeler.get_sets(), os.path.join(save_model_path, \"sets.csv\"), force=True)\n",
    "'''"
   ]
  },
  {
   "cell_type": "markdown",
   "metadata": {},
   "source": [
    "# GENERATE PREDICTIONS"
   ]
  },
  {
   "cell_type": "code",
   "execution_count": 19,
   "metadata": {
    "collapsed": false
   },
   "outputs": [
    {
     "name": "stdout",
     "output_type": "stream",
     "text": [
      "Ended spark session: 118.740973949 secs | default parallelism=2\n"
     ]
    }
   ],
   "source": [
    "start_time = time.time()\n",
    "app_name = \"CCC_model_predictions_nb\"\n",
    "\n",
    "import pykhaos.utils.pyspark_configuration as pyspark_config\n",
    "sc, spark, sql_context = pyspark_config.get_spark_session(app_name=app_name, log_level=\"OFF\", min_n_executors = 1, max_n_executors = 10, n_cores = 4,\n",
    "                         executor_memory = \"16g\", driver_memory=\"16g\")\n",
    "print(\"Ended spark session: {} secs | default parallelism={}\".format(time.time() - start_time,\n",
    "                                                                     sc.defaultParallelism))"
   ]
  },
  {
   "cell_type": "code",
   "execution_count": 43,
   "metadata": {
    "collapsed": true
   },
   "outputs": [
    {
     "name": "stdout",
     "output_type": "stream",
     "text": [
      "Program will use the model stored at '/var/SP/data/home/csanc109/data/churn/ccc/results/ccc_comercial/20181229_203318/model'\n",
      "Loading model /var/SP/data/home/csanc109/data/churn/ccc/results/ccc_comercial/20181229_203318/model/ccc_comercial_model.pkl\n",
      "Loading object from /var/SP/data/home/csanc109/data/churn/ccc/results/ccc_comercial/20181229_203318/model/ccc_comercial_model.pkl\n",
      "Calling to __setstate H2O Factory\n",
      "['config', 'params', 'modeler_save_path', 'feature_importance']\n",
      "<type 'NoneType'>\n",
      "Calling to __setstate in model\n",
      "['model_id', 'model_info', 'yaml_filename', 'cols', 'cat_encoding', 'model']\n",
      "Loaded modeler from path /var/SP/data/home/csanc109/data/churn/ccc/results/ccc_comercial/20181229_203318/model/h2o_factory/Grid_GBM_py_303_sid_9108_model_python_1546105225071_16200_model_0\n",
      "!!!!!!! HARD CODED !!!!!!!!!!\n",
      "set_h2o_training_data - filename /data/udf/vf_es/churn/ccc_model/comercial_unlabeled/df_c20181231_n60_comercial_msisdn_mobileandfbb\n",
      "'/data/udf/vf_es/churn/ccc_model/comercial_unlabeled/df_c20181231_n60_comercial_msisdn_mobileandfbb' no existe\n",
      "Found /data/udf/vf_es/churn/ccc_model/comercial_unlabeled/df_c20181231_n60_comercial_msisdn_mobileandfbb. Loading...\n"
     ]
    },
    {
     "name": "stderr",
     "output_type": "stream",
     "text": [
      "20190114-085625 [INFO ] ***** locked=False healthy=True\n",
      "20190114-085625 [INFO ] Trying to import '/data/udf/vf_es/churn/ccc_model/comercial_unlabeled/df_c20181231_n60_comercial_msisdn_mobileandfbb' hdfs=True parquet=False\n",
      "20190114-085626 [INFO ] Trying to import hdfs://vgddp349hr.dc.sedc.internal.vodafone.com/data/udf/vf_es/churn/ccc_model/comercial_unlabeled/df_c20181231_n60_comercial_msisdn_mobileandfbb\n",
      "20190114-085627 [ERROR] file hdfs://vgddp349hr.dc.sedc.internal.vodafone.com/data/udf/vf_es/churn/ccc_model/comercial_unlabeled/df_c20181231_n60_comercial_msisdn_mobileandfbb could not be found at node 0\n",
      "20190114-085627 [INFO ] Trying to import hdfs://vgddp350hr.dc.sedc.internal.vodafone.com/data/udf/vf_es/churn/ccc_model/comercial_unlabeled/df_c20181231_n60_comercial_msisdn_mobileandfbb\n"
     ]
    },
    {
     "name": "stdout",
     "output_type": "stream",
     "text": [
      "Parse progress: |█████████████████████████████████████████████████████████| 100%\n"
     ]
    },
    {
     "name": "stderr",
     "output_type": "stream",
     "text": [
      "20190114-085710 [INFO ] file hdfs://vgddp350hr.dc.sedc.internal.vodafone.com/data/udf/vf_es/churn/ccc_model/comercial_unlabeled/df_c20181231_n60_comercial_msisdn_mobileandfbb found at node 1\n"
     ]
    },
    {
     "name": "stdout",
     "output_type": "stream",
     "text": [
      "file hdfs://vgddp350hr.dc.sedc.internal.vodafone.com/data/udf/vf_es/churn/ccc_model/comercial_unlabeled/df_c20181231_n60_comercial_msisdn_mobileandfbb found at node 1\n",
      "**** Preparing __prepare_ccc_data_for_h2o - rows=3332492 columns=1423\n",
      "After rgu reduction 3332492\n",
      "About to remove 208 columns\n",
      "**** Ended __prepare_ccc_data_for_h2o - rows=3332492 columns=1215\n"
     ]
    },
    {
     "name": "stderr",
     "output_type": "stream",
     "text": [
      "20190114-085730 [INFO ] df_h2o ready to be used!\n"
     ]
    },
    {
     "name": "stdout",
     "output_type": "stream",
     "text": [
      "-------\n",
      "gbm prediction progress: |████████████████████████████████████████████████| 100%\n"
     ]
    },
    {
     "name": "stderr",
     "output_type": "stream",
     "text": [
      "/opt/cloudera/parcels/Anaconda/lib/python2.7/site-packages/h2o/job.py:69: UserWarning:\n",
      "\n",
      "Test/Validation dataset column 'Penal_CUST_PENDING_N1_cod_promo' has levels not trained on: [5121, 6224, 6236, 6237, 6243, 6517, 6518, 6519, 6520, 6602, 66F50, ACAEQ, CAA10, CN005, CN006, CN023, DAIP3, DSSNC, GMTAR, M15DE, MPRT2, PQC15, RGAD2, RP025, RP040, RP050, RP100, SBWIF, T300B, TN200, TN500]\n",
      "\n",
      "/opt/cloudera/parcels/Anaconda/lib/python2.7/site-packages/h2o/job.py:69: UserWarning:\n",
      "\n",
      "Test/Validation dataset column 'Penal_CUST_FINISHED_N4_cod_promo' has levels not trained on: [CMPSP, DAIP3, DMF15, DMF40, DMR15, DMR20, DMR25, DMR30, DMR40, DNC30, DNC50, DSC04, DUW04, DUW05, DUW08, GDMMI, GMTAR, RP025, RP050, SM2CP, TN200, TN500]\n",
      "\n",
      "/opt/cloudera/parcels/Anaconda/lib/python2.7/site-packages/h2o/job.py:69: UserWarning:\n",
      "\n",
      "Test/Validation dataset column 'Penal_SRV_FINISHED_N1_cod_penal' has levels not trained on: [CPM06, CPM07, CPM08, CPM09, CPS1T, CPS2T]\n",
      "\n",
      "/opt/cloudera/parcels/Anaconda/lib/python2.7/site-packages/h2o/job.py:69: UserWarning:\n",
      "\n",
      "Test/Validation dataset column 'Penal_CUST_FINISHED_N3_cod_penal' has levels not trained on: [CPDR1, CPDR3, CPEQP, CPIMP, CPM06, CPMA1, CPMA2, CPMMI, CPPSP, CPPV4, CPTV3, PENBU]\n",
      "\n",
      "/opt/cloudera/parcels/Anaconda/lib/python2.7/site-packages/h2o/job.py:69: UserWarning:\n",
      "\n",
      "Test/Validation dataset column 'TARIFF' has levels not trained on: [DTFWR, MPT02, MPT03, MPT09, MPT13, MPTP2, MTP1C, MTP1M, MTP2M, MTP4M, MTP5M, NTP3M, PDBAM, PMV01, PMV02, PMV03, PMV05, PMV06, PMV08, PMV11, PMV12, PMV16, PMV19, PMV21, T1020, T2L1G, T2LRX, T2LTA, T2LXL, TDIFI, TN100, TN101]\n",
      "\n",
      "/opt/cloudera/parcels/Anaconda/lib/python2.7/site-packages/h2o/job.py:69: UserWarning:\n",
      "\n",
      "Test/Validation dataset column 'Penal_CUST_FINISHED_N2_cod_promo' has levels not trained on: [1803, 2092, 5120, 5121, 5122, 5123, 5124, 6204, 6517, 6518, 6519, 6520, 6602, 66F50, ACAEQ, C2057, C2062, CMPSP, CN024, CN037, CN038, DAIP3, DCFIB, DCPC1, DEF02, DM100, DM200, DMC40, DMF15, DMF20, DMF25, DMF40, DMR15, DMR25, DMR30, DMTO1, DMTO2, DMTO4, DNC30, DNC50, DPF15, DPF20, DPF25, DPF30, DPF50, DPR40, DPR50, DSSNC, DT60I, DTM33, DTSNC, DUW02, DUW04, DUW05, DUW06, DUW15, GDMMI, GMAP3, M15DE, MDCR5, MDEA5, MPRT2, PQC15, PQC20, PQC25, PQC30, PQC40, PQC50, RGA01, RGAD2, RP025, RP050, RP100, SM1CP, SM2CP, T300B, TN200, TN500, TP400, TP630]\n",
      "\n",
      "/opt/cloudera/parcels/Anaconda/lib/python2.7/site-packages/h2o/job.py:69: UserWarning:\n",
      "\n",
      "Test/Validation dataset column 'Penal_CUST_APPLIED_N1_cod_penal' has levels not trained on: [CPCLB, CPDR2, CPIMP, CPMA1, CPMA2, CPPSP, CPPV4, CPRG2, CPRG5, CPSYP]\n",
      "\n",
      "/opt/cloudera/parcels/Anaconda/lib/python2.7/site-packages/h2o/job.py:69: UserWarning:\n",
      "\n",
      "Test/Validation dataset column 'Penal_SRV_APPLIED_N1_cod_promo' has levels not trained on: [CN008, CN013, CN014, CN016, D1512, D3012, DCA10, DFB00, DFB09, DMC10, DMC15, DMC25, DMC50, DMF15, DMF20, DMF25, DMF30, DMF40, DMR15, DMR20, DMR25, DMYES, DPC50, DPR20, DPR40, DPR50, DUC03, DUC06, DUW02, PQC30, RMV25, RMV50, SMACP, SUBT1, SUBT2]\n",
      "\n",
      "/opt/cloudera/parcels/Anaconda/lib/python2.7/site-packages/h2o/job.py:69: UserWarning:\n",
      "\n",
      "Test/Validation dataset column 'Penal_CUST_FINISHED_N5_cod_promo' has levels not trained on: [C2067, C2068, C2069, CMPSP, DAIP3, DMF40, DMR15, DMR30, DMR40, DSC06, DUW05, DUW06, GDMMI, GMTAR, MDER6, MPRT1, RP025, TN200]\n",
      "\n",
      "/opt/cloudera/parcels/Anaconda/lib/python2.7/site-packages/h2o/job.py:69: UserWarning:\n",
      "\n",
      "Test/Validation dataset column 'Penal_CUST_PENDING_N2_cod_promo' has levels not trained on: [5120, 5121, 5122, 5123, 5124, 6243, 6517, 6518, 6519, 6520, 6526, 6602, 66F50, ACAEQ, GMTAR, MPRT2, PQC30, PQC40, PSYPP, RP025, RP040, RP050, SBWIF]\n",
      "\n",
      "/opt/cloudera/parcels/Anaconda/lib/python2.7/site-packages/h2o/job.py:69: UserWarning:\n",
      "\n",
      "Test/Validation dataset column 'METODO_PAGO' has levels not trained on: [CHEQUE, CONCERTADO, OFERTA, SAE TRAN90]\n",
      "\n",
      "/opt/cloudera/parcels/Anaconda/lib/python2.7/site-packages/h2o/job.py:69: UserWarning:\n",
      "\n",
      "Test/Validation dataset column 'Penal_CUST_FINISHED_N5_cod_penal' has levels not trained on: [CPDR3, CPIMP, CPMMI, CPPSP, CPPV4]\n",
      "\n",
      "/opt/cloudera/parcels/Anaconda/lib/python2.7/site-packages/h2o/job.py:69: UserWarning:\n",
      "\n",
      "Test/Validation dataset column 'Penal_CUST_FINISHED_N1_cod_promo' has levels not trained on: [1803, 1806, 2501, 5037, 5120, 5121, 5122, 5123, 5124, 6109, 6224, 6517, 6518, 6519, 66F50, ACAEQ, C1401, C2057, C2062, CAA10, CAI10, CMPSP, CN005, CN006, CN048, DCFIB, DCPC2, DEF02, DEF05, DEF10, DFB00, DM100, DM200, DMC40, DMF15, DMF20, DMF25, DMF40, DMR15, DMR25, DMR30, DMTO2, DMTO4, DPC15, DPC20, DPC25, DPC30, DPC50, DPF00, DPF10, DPF15, DPF25, DPF40, DPR30, DSSNC, DT60I, DTSGR, DTSNC, DUW05, DUW06, GDMMI, GMAP3, GMTAR, M15DE, MDCR5, MDEA5, MDES4, MOAF1, PQC15, PQC20, PSYPP, RGA01, RGAD2, RP025, RP040, RP050, RP100, SM1CP, SM2CP, T300B, TN100, TN101, TN200, TP400, TP630, UP65M]\n",
      "\n",
      "/opt/cloudera/parcels/Anaconda/lib/python2.7/site-packages/h2o/job.py:69: UserWarning:\n",
      "\n",
      "Test/Validation dataset column 'Penal_CUST_PENDING_N3_cod_promo' has levels not trained on: [5120, 5123, 5124, 6519]\n",
      "\n",
      "/opt/cloudera/parcels/Anaconda/lib/python2.7/site-packages/h2o/job.py:69: UserWarning:\n",
      "\n",
      "Test/Validation dataset column 'SRV_BASIC' has levels not trained on: [MPSUI, MRSUI, MRTRM, MTSIM, TBBON, TESTA]\n",
      "\n",
      "/opt/cloudera/parcels/Anaconda/lib/python2.7/site-packages/h2o/job.py:69: UserWarning:\n",
      "\n",
      "Test/Validation dataset column 'Penal_SRV_PENDING_N1_cod_promo' has levels not trained on: [C5004, CN012, CN014, CN044, CN054, D15MC, DCASC, DFB00, DFB09, DMC00, DMC25, DMC30, DMC40, DMF10, DMF50, DMYES, DPC50, DPF20, DPF40, DPR15, DPR20, DPR25, DPR30, DPR40, DPR50, DUC15, DUF04, DUF05, DUF08, DUF09, DUF10, DUF15, DUF20, DUW02, DUW03, DUW07, DUW09, DUW10, DUW15, DUW20, MPT02, PQC30, RMV25, RMV50, SMACP]\n",
      "\n",
      "/opt/cloudera/parcels/Anaconda/lib/python2.7/site-packages/h2o/job.py:69: UserWarning:\n",
      "\n",
      "Test/Validation dataset column 'Penal_CUST_PENDING_N2_cod_penal' has levels not trained on: [CPCLB, CPDR1, CPDR3, CPEQP, CPIMP, CPM06, CPONE, CPSYP, CPTV3, CPWIF, CPZP3]\n",
      "\n",
      "/opt/cloudera/parcels/Anaconda/lib/python2.7/site-packages/h2o/job.py:69: UserWarning:\n",
      "\n",
      "Test/Validation dataset column 'Penal_SRV_FINISHED_N2_cod_promo' has levels not trained on: [CN003, CN004, CN007, DMC40, DMC50, DMF15, DMF20, DMF25, DMF30, DMF40, DMR20, DMR25, DMR30, DUC04, DUF08, DUW02, DUW03, DUW04, DUW05, DUW06, DUW07, DUW09, DUW10, DUW15, DUW20, RMV25, RMV40, RMV50, SUBT1, SUBT2]\n",
      "\n",
      "/opt/cloudera/parcels/Anaconda/lib/python2.7/site-packages/h2o/job.py:69: UserWarning:\n",
      "\n",
      "Test/Validation dataset column 'Penal_SRV_PENDING_N1_cod_penal' has levels not trained on: [CPDR1, CPM06, CPM07, CPM09, CPOC1]\n",
      "\n",
      "/opt/cloudera/parcels/Anaconda/lib/python2.7/site-packages/h2o/job.py:69: UserWarning:\n",
      "\n",
      "Test/Validation dataset column 'Penal_SRV_FINISHED_N1_cod_promo' has levels not trained on: [C5004, CN014, CN016, CN021, D1012, D1512, D15MC, D3012, DMC25, DMF20, DMF30, DMF50, DMR10, DPC50, DPR25, DPR30, DUC03, DUC05, DUC06, DUC08, DUC09, DUC10, DUC15, DUF08, DUF09, DUF15, DUW02, DUW03, DUW05, DUW06, DUW07, DUW09, DUW10, DUW15, PQC50, RMV25, RMV40, RMV50, SUBT1, SUBT2]\n",
      "\n",
      "/opt/cloudera/parcels/Anaconda/lib/python2.7/site-packages/h2o/job.py:69: UserWarning:\n",
      "\n",
      "Test/Validation dataset column 'Penal_SRV_PENDING_N2_cod_promo' has levels not trained on: [CN004, CN007, CN010, CN016, CN044, DMC15, DMC50, DMF25, DMF30, DMF40, DMF50, DMR10, DPR25, DPR50, DUC05, DUC08, DUC15, DUF05, DUF08, DUF09, DUF15, DUW02, DUW03, DUW04, DUW05, DUW08, DUW09, DUW10, DUW15, DUW20, PQC30, PQC50, RMV25, RMV50]\n",
      "\n",
      "/opt/cloudera/parcels/Anaconda/lib/python2.7/site-packages/h2o/job.py:69: UserWarning:\n",
      "\n",
      "Test/Validation dataset column 'Penal_CUST_APPLIED_N1_cod_promo' has levels not trained on: [2501, 5120, 5121, 5123, 5124, 6203, 6223, C2057, CMPSP, CN024, DAIP3, DCFIB, DEW02, DFB00, DM100, DPC15, DPC20, DPC25, DPC30, DPC40, DPC50, DPF20, DPF30, DPF40, DPF50, DPR15, DPR25, DSSNC, DTSNC, GMTAR, PQC20, PQC25, PQC40, PSYPP, RGA01, RGAD2, RP100, SM1CP, SM2CP, TN200, TN500, TP630]\n",
      "\n",
      "/opt/cloudera/parcels/Anaconda/lib/python2.7/site-packages/h2o/job.py:69: UserWarning:\n",
      "\n",
      "Test/Validation dataset column 'Penal_SRV_PENDING_N3_cod_promo' has levels not trained on: [CN003, CN044, DMF15, DMF20, DMF25, DMF30, DMR10, DMR15, DMR20, DPR25, DPR50, DUC15, DUF09, DUF15, DUW02, DUW04, DUW05, DUW06, DUW07, DUW08, DUW15, DUW20, RMV25, RMV50, SUBT1, SUBT2]\n",
      "\n",
      "/opt/cloudera/parcels/Anaconda/lib/python2.7/site-packages/h2o/job.py:69: UserWarning:\n",
      "\n",
      "Test/Validation dataset column 'Penal_CUST_FINISHED_N2_cod_penal' has levels not trained on: [CPCLB, CPCS1, CPDR1, CPDR2, CPDR3, CPEQP, CPIMP, CPM06, CPMA1, CPMA2, CPMMI, CPOC1, CPONE, CPPSP, CPRG2, CPRG5, CPTV3]\n",
      "\n",
      "/opt/cloudera/parcels/Anaconda/lib/python2.7/site-packages/h2o/job.py:69: UserWarning:\n",
      "\n",
      "Test/Validation dataset column 'Penal_CUST_FINISHED_N3_cod_promo' has levels not trained on: [1803, 5122, 5123, 6602, ACAEQ, C2057, CMPSP, DAIP3, DCFIB, DMC15, DMF25, DMF30, DMF40, DMR15, DMR20, DMR30, DNC30, DNC50, DPF50, DPR40, DPR50, DSSNC, DTSNC, DUW04, DUW05, DUW06, GDMMI, GMAP3, GMTAR, PQC15, PQC30, PQC50, RMV50, RP025, RP040, RP050, SM1CP, SM2CP, TN200, TN500]\n",
      "\n"
     ]
    },
    {
     "name": "stdout",
     "output_type": "stream",
     "text": [
      "!!!!!!! HARD CODED !!!!!!!!!!\n",
      "set_h2o_training_data - filename /data/udf/vf_es/churn/ccc_model/comercial_unlabeled/df_c20181231_n60_comercial_msisdn_onlymob\n",
      "'/data/udf/vf_es/churn/ccc_model/comercial_unlabeled/df_c20181231_n60_comercial_msisdn_onlymob' no existe\n",
      "Found /data/udf/vf_es/churn/ccc_model/comercial_unlabeled/df_c20181231_n60_comercial_msisdn_onlymob. Loading...\n"
     ]
    },
    {
     "name": "stderr",
     "output_type": "stream",
     "text": [
      "20190114-085806 [INFO ] ***** locked=False healthy=True\n",
      "20190114-085806 [INFO ] Trying to import '/data/udf/vf_es/churn/ccc_model/comercial_unlabeled/df_c20181231_n60_comercial_msisdn_onlymob' hdfs=True parquet=False\n",
      "20190114-085807 [INFO ] Trying to import hdfs://vgddp349hr.dc.sedc.internal.vodafone.com/data/udf/vf_es/churn/ccc_model/comercial_unlabeled/df_c20181231_n60_comercial_msisdn_onlymob\n",
      "20190114-085807 [ERROR] file hdfs://vgddp349hr.dc.sedc.internal.vodafone.com/data/udf/vf_es/churn/ccc_model/comercial_unlabeled/df_c20181231_n60_comercial_msisdn_onlymob could not be found at node 0\n",
      "20190114-085807 [INFO ] Trying to import hdfs://vgddp350hr.dc.sedc.internal.vodafone.com/data/udf/vf_es/churn/ccc_model/comercial_unlabeled/df_c20181231_n60_comercial_msisdn_onlymob\n"
     ]
    },
    {
     "name": "stdout",
     "output_type": "stream",
     "text": [
      "Parse progress: |█████████████████████████████████████████████████████████| 100%\n"
     ]
    },
    {
     "name": "stderr",
     "output_type": "stream",
     "text": [
      "20190114-085828 [INFO ] file hdfs://vgddp350hr.dc.sedc.internal.vodafone.com/data/udf/vf_es/churn/ccc_model/comercial_unlabeled/df_c20181231_n60_comercial_msisdn_onlymob found at node 1\n"
     ]
    },
    {
     "name": "stdout",
     "output_type": "stream",
     "text": [
      "file hdfs://vgddp350hr.dc.sedc.internal.vodafone.com/data/udf/vf_es/churn/ccc_model/comercial_unlabeled/df_c20181231_n60_comercial_msisdn_onlymob found at node 1\n",
      "**** Preparing __prepare_ccc_data_for_h2o - rows=1340324 columns=1423\n",
      "After rgu reduction 1340324\n",
      "About to remove 208 columns\n",
      "**** Ended __prepare_ccc_data_for_h2o - rows=1340324 columns=1215\n"
     ]
    },
    {
     "name": "stderr",
     "output_type": "stream",
     "text": [
      "20190114-085848 [INFO ] df_h2o ready to be used!\n"
     ]
    },
    {
     "name": "stdout",
     "output_type": "stream",
     "text": [
      "-------\n",
      "gbm prediction progress: |████████████████████████████████████████████████| 100%\n",
      "{'all': {'length': 4672816},\n",
      " 'mobileandfbb': {'length': 3332492},\n",
      " 'onlymob': {'length': 1340324}}\n",
      "['msisdn', 'SCORE', 'reason', 'type']\n",
      "Prediction size 4672816\n"
     ]
    }
   ],
   "source": [
    "GENERATE_PREDICTIONS = True\n",
    "\n",
    "assert(GENERATE_PREDICTIONS)\n",
    "\n",
    "PREDICT_MODEL_NAME = \"ccc_comercial_model\"\n",
    "PREDICT_MODEL_PATH =  os.path.join(SAVING_PATH, \"results\", \"ccc_comercial\", \"20181229_203318\", \"model\")\n",
    "closing_day = \"20181231\" \n",
    "print(\"Program will use the model stored at '{}'\".format(PREDICT_MODEL_PATH))\n",
    "\n",
    "from churn.models.ccc.delivery.delivery_manager import make_predictions\n",
    "df_lever_predict_hidden = make_predictions(spark, PREDICT_MODEL_NAME, PREDICT_MODEL_PATH, closing_day) # returns a column msisdn (anonymized)\n",
    "\n",
    "print(\"Prediction size {}\".format(df_lever_predict_hidden.count()))"
   ]
  },
  {
   "cell_type": "code",
   "execution_count": 42,
   "metadata": {
    "collapsed": false
   },
   "outputs": [
    {
     "name": "stdout",
     "output_type": "stream",
     "text": [
      "Rows read from file 4664611\n",
      "Ended section 2\n",
      "Created table tests_es.csanc109_tmp_churn_ccc_20181231_notprepared\n",
      "Filename successfully deleted /var/SP/data/home/csanc109/data/download/churn/ccc/churn_ccc_delivery_20181231_20190111_095637.csv\n",
      "Downloaded file /var/SP/data/home/csanc109/data/download/churn/ccc/churn_ccc_delivery_20181231_20190111_095637.csv\n",
      "File /var/SP/data/home/csanc109/data/delivery/ccc/churn_ccc_delivery_20181231_20190111_095637.csv successfully created\n",
      "To download the file in your local computer, type from your local: \n",
      "\n",
      " scp csanc109@milan-discovery-edge-387:/var/SP/data/home/csanc109/data/delivery/ccc/churn_ccc_delivery_20181231_20190111_095637.csv <local_directoy>\n",
      "Process ended successfully\n"
     ]
    }
   ],
   "source": [
    "from pyspark.sql.types import FloatType\n",
    "from pykhaos.utils.constants import WHOAMI\n",
    "from churn.models.ccc.delivery.delivery_manager import PROJECT_NAME\n",
    "\n",
    "name_table_deanonymized = 'tests_es.{}_tmp_{}_{}_notprepared'.format(WHOAMI, PROJECT_NAME, closing_day)\n",
    "name_file_delivery = '{}_delivery_{}_{}'.format(PROJECT_NAME, closing_day, dt.datetime.now().strftime(\"%Y%m%d_%H%M%S\"))\n",
    "# - - - - - - - - - - - - - - - - \n",
    "scores_incidences_filename = '/user/csanc109/projects/churn/incidencias/preds_comb_20181231_all_incidences'\n",
    "\n",
    "from churn.models.ccc.delivery.delivery_manager import merging_process, prepare_delivery, make_predictions, DIR_DOWNLOAD, DIR_DELIVERY\n",
    "    \n",
    "merging_process(spark, df_lever_predict_hidden, scores_incidences_filename, name_table_deanonymized)\n",
    "prepare_delivery(spark, PROJECT_NAME, closing_day, name_table_deanonymized,name_file_delivery,DIR_DOWNLOAD, DIR_DELIVERY)"
   ]
  },
  {
   "cell_type": "markdown",
   "metadata": {},
   "source": [
    "# [OPTIONAL] POST PROCESS ANALYSIS - FIXME (pending to implement in h2o to avoid pandas)"
   ]
  },
  {
   "cell_type": "code",
   "execution_count": null,
   "metadata": {
    "collapsed": false
   },
   "outputs": [],
   "source": [
    "data = data_abs_data_obj.data()\n",
    "df_data = data.as_data_frame()\n",
    "data.types\n",
    "\n",
    "#train = modeler.get_model_info().get(\"model train metrics\")[\"scores\"]\n",
    "#test = modeler.get_model_info().get(\"model test metrics\")[\"scores\"]\n",
    "\n",
    "from pykhaos.reporting.utils.plots import univariate_analysis, univariate_hist\n",
    "df_uni = univariate_analysis(df_data, \"TARIFF\", target=\"label\", sort=None) # rows=num tarifas || cols [u'TARIFF', u'positivo', u'total', u'frec_loc', u'frec'], dtype='object')\n",
    "\n",
    "univariate_hist(df_uni, \"TARIFF\", sort = None)"
   ]
  },
  {
   "cell_type": "code",
   "execution_count": null,
   "metadata": {
    "collapsed": false
   },
   "outputs": [],
   "source": [
    "%matplotlib inline\n",
    "import numpy as np\n",
    "import pandas as pd\n",
    "df_ = df_data.copy()\n",
    "\n",
    "df_pivot_label = pd.pivot_table(df_[[\"label\", \"TARIFF\"]], columns=\"label\", index=\"TARIFF\", aggfunc=lambda x: len(x))\n",
    "df_pivot_label.columns=[\"0\", \"1\"]\n",
    "import matplotlib.pyplot as plt\n",
    "ax = df_pivot_label[['0','1']].plot(kind='bar', title =\"V comp\", figsize=(15, 10), legend=True, fontsize=8)\n",
    "ax.set_ylabel(\"V\", fontsize=12)\n",
    "plt.show()"
   ]
  },
  {
   "cell_type": "code",
   "execution_count": null,
   "metadata": {
    "collapsed": false
   },
   "outputs": [],
   "source": [
    "var1 = \"codigo_postal_city\"\n",
    "var2 = \"Order_N1_Description\"\n",
    "\n",
    "var = [var1,var2 ]\n",
    "target = \"label\"\n",
    "\n",
    "import numpy as np\n",
    "from sklearn.preprocessing import MinMaxScaler, Imputer\n",
    "\n",
    "from reportlab.lib.enums import TA_RIGHT\n",
    "from reportlab.lib.styles import getSampleStyleSheet\n",
    "from reportlab.lib.pagesizes import A4\n",
    "from reportlab.lib.units import inch\n",
    "from reportlab.lib import colors\n",
    "from reportlab.platypus import SimpleDocTemplate, Paragraph, Image, Spacer, PageBreak, Table\n",
    "\n",
    "from sklearn.tree import export_graphviz\n",
    "import pydotplus\n",
    "from sklearn.externals.six import StringIO\n",
    "import time\n",
    "from sklearn.tree import DecisionTreeClassifier\n",
    "from sklearn import preprocessing\n",
    "\n",
    "df_data = df_data[~df_data[target].isna()]\n",
    "df_data[var1] = df_data[var1].fillna(-1)\n",
    "df_data[var2] = df_data[var2].fillna(\"UNKNOWN\")\n",
    "X = np.array(df_data[var].copy())\n",
    "le = preprocessing.LabelEncoder()\n",
    "imp = Imputer(missing_values='NaN', strategy='mean', axis=0)\n",
    "\n",
    "X[var.index(var1)] = imp.fit_transform(X[var.index(var1)])\n",
    "#X[var1] = X[var1].isna().astype('int')\n",
    "le.fit(X[var.index(var2)])\n",
    "X[var.index(var2)] = le.transform(X[var.index(var2)])\n",
    "\n",
    "y = np.array(df_data[target])\n",
    "dtree = DecisionTreeClassifier(max_depth=15, min_samples_leaf=500)\n",
    "dtree.fit(X, y)\n",
    "from pykhaos.reporting.utils.plots import prune\n",
    "\n",
    "#dtree_prune = prune(dtree)\n",
    "dtree_prune = dtree\n",
    "\n",
    "from sklearn.externals.six import StringIO\n",
    "from sklearn.tree import export_graphviz\n",
    "import pydotplus\n",
    "\n",
    "\n",
    "dot_data = StringIO()\n",
    "export_graphviz(dtree, out_file=dot_data,\n",
    "                filled=True, rounded=True, feature_names=var,\n",
    "                special_characters=True, rotate=True, class_names=[\"NO_COMERCIAL\", \"COMERCIAL\"],\n",
    "                impurity=False, proportion=True, label='root')\n",
    "\n",
    "graph = pydotplus.graph_from_dot_data(dot_data.getvalue())\n",
    "filename = '/Users/csanc109/Documents/Projects/Churn/ccc_model/results/images/graph_{}.png'.format(int(time.time()))\n",
    "graph.write_png(filename)\n",
    "\n",
    "# SHOW IMAGE FROM FILE\n",
    "from IPython.display import display\n",
    "from PIL import Image\n",
    "display(Image.open(filename))"
   ]
  },
  {
   "cell_type": "markdown",
   "metadata": {},
   "source": [
    "# UNIVARIANT ANALYSIS"
   ]
  },
  {
   "cell_type": "code",
   "execution_count": null,
   "metadata": {
    "collapsed": true
   },
   "outputs": [],
   "source": [
    "import yaml\n",
    "from pykhaos.reporting.type.univariate import Univariate\n",
    "from churn.models.ccc.data.ccc_data import  CCC_Data\n",
    "\n",
    "pdf_report_template_path = os.path.join(USECASES_SRC, \"churn\", \"models\", \"ccc\", 'input', 'univariante_template.yaml')\n",
    "\n",
    "print 'univariant analysis: '\n",
    "#periods = [201805, 201806, 201807]\n",
    "default_filename = os.path.join(USECASES_SRC, \"churn\", \"models\", \"ccc\", \"input\", \"ccc_train_test.yaml\")\n",
    "input_data = yaml.load(open(default_filename))\n",
    "data_abs_data_obj = CCC_Data(input_data)\n",
    "univariate_info = Univariate(data_abs_data_obj, MODEL_NAME+'_univariate').analysis()\n",
    "univariate_info.save()\n",
    "print 'end of analysis: {}'.format(MODEL_NAME+'_univariate')\n",
    "\n",
    "print 'Generando informe: '\n",
    "reporter = Reporter() \\\n",
    "    .set_model_info(ModelInfo.load(MODEL_NAME+'_univariate')) \\\n",
    "    .set_template('model/univariante.yaml')\\\n",
    "    .set_saving_path(os.path.join(os.environ.get('BDA_USER_HOME', ''), \"data\", \"churn\", \"ccc\", \"results\"))\n",
    "reporter.create()\n",
    "print 'Informe generado!'\n"
   ]
  }
 ],
 "metadata": {
  "kernelspec": {
   "display_name": "Python 2",
   "language": "python",
   "name": "python2"
  },
  "language_info": {
   "codemirror_mode": {
    "name": "ipython",
    "version": 2
   },
   "file_extension": ".py",
   "mimetype": "text/x-python",
   "name": "python",
   "nbconvert_exporter": "python",
   "pygments_lexer": "ipython2",
   "version": "2.7.11"
  }
 },
 "nbformat": 4,
 "nbformat_minor": 2
}
