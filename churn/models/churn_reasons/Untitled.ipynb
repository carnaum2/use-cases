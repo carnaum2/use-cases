{
 "cells": [
  {
   "cell_type": "code",
   "execution_count": 7,
   "metadata": {},
   "outputs": [],
   "source": [
    "def set_paths():\n",
    "    '''\n",
    "    Deployment should be something like \"dirs/dir1/use-cases\"\n",
    "    This function adds to the path \"dirs/dir1/use-cases\" and \"dirs/dir1/\"\n",
    "    :return:\n",
    "    '''\n",
    "    import imp\n",
    "    from os.path import dirname\n",
    "    import os\n",
    "    import sys\n",
    "\n",
    "    USE_CASES = \"/var/SP/data/home/asaezco/src/devel2/use-cases\"#dirname(os.path.abspath(imp.find_module('churn')[1]))\n",
    "    sys.path.append(\"/var/SP/data/home/asaezco/src/devel2/pykhaos\")\n",
    "    if USE_CASES not in sys.path:\n",
    "        sys.path.append(USE_CASES)\n",
    "        print(\"Added '{}' to path\".format(USE_CASES))\n",
    "\n",
    "    # if deployment is correct, this path should be the one that contains \"use-cases\", \"pykhaos\", ...\n",
    "    # FIXME another way of doing it more general?\n",
    "    DEVEL_SRC = os.path.dirname(USE_CASES)  # dir before use-cases dir\n",
    "    if DEVEL_SRC not in sys.path:\n",
    "        sys.path.append(DEVEL_SRC)\n",
    "        print(\"Added '{}' to path\".format(DEVEL_SRC))\n",
    "set_paths()"
   ]
  },
  {
   "cell_type": "code",
   "execution_count": 8,
   "metadata": {},
   "outputs": [],
   "source": [
    "# coding=utf-8\n",
    "\n",
    "import sys\n",
    "\n",
    "from common.src.main.python.utils.hdfs_generic import *\n",
    "import argparse\n",
    "import os\n",
    "import sys\n",
    "import time\n",
    "from pyspark.sql.functions import (udf,\n",
    "                                    col,\n",
    "                                    decode,\n",
    "                                    when,\n",
    "                                    lit,\n",
    "                                    lower,\n",
    "                                    concat,\n",
    "                                    translate,\n",
    "                                    count,\n",
    "                                    sum as sql_sum,\n",
    "                                    max as sql_max,\n",
    "                                    min as sql_min,\n",
    "                                    avg as sql_avg,\n",
    "                                    greatest,\n",
    "                                    least,\n",
    "                                    isnull,\n",
    "                                    isnan,\n",
    "                                    struct, \n",
    "                                    substring,\n",
    "                                    size,\n",
    "                                    length,\n",
    "                                    year,\n",
    "                                    month,\n",
    "                                    dayofmonth,\n",
    "                                    unix_timestamp,\n",
    "                                    date_format,\n",
    "                                    from_unixtime,\n",
    "                                    datediff,\n",
    "                                    to_date, \n",
    "                                    desc,\n",
    "                                    asc,\n",
    "                                    countDistinct,\n",
    "                                    row_number,\n",
    "                                    skewness,\n",
    "                                    kurtosis,\n",
    "                                    concat_ws)\n",
    "\n",
    "from pyspark.sql import Row, DataFrame, Column, Window\n",
    "from pyspark.sql.types import DoubleType, StringType, IntegerType, DateType, ArrayType\n",
    "from pyspark.ml import Pipeline\n",
    "from pyspark.ml.classification import RandomForestClassifier\n",
    "from pyspark.ml.feature import StringIndexer, VectorIndexer, VectorAssembler, SQLTransformer, OneHotEncoder\n",
    "from pyspark.ml.evaluation import MulticlassClassificationEvaluator, BinaryClassificationEvaluator\n",
    "from pyspark.mllib.evaluation import BinaryClassificationMetrics\n",
    "from pyspark.ml.tuning import CrossValidator, ParamGridBuilder\n",
    "from datetime import datetime\n",
    "from itertools import chain\n",
    "import numpy as np\n",
    "from functools import reduce\n",
    "from utils_general import *\n",
    "from pykhaos.utils.date_functions import convert_to_date\n",
    "from utils_model import *\n",
    "from utils_fbb_churn import *\n",
    "from metadata_fbb_churn import *\n",
    "#from feature_selection_utils import *\n",
    "import subprocess\n"
   ]
  },
  {
   "cell_type": "code",
   "execution_count": 9,
   "metadata": {},
   "outputs": [
    {
     "name": "stdout",
     "output_type": "stream",
     "text": [
      "The autoreload extension is already loaded. To reload it, use:\n",
      "  %reload_ext autoreload\n"
     ]
    }
   ],
   "source": [
    "# Para que no haga falta recargar el notebook si hacemos un cambio en alguna de las funciones que estamos importando\n",
    "%load_ext autoreload\n",
    "%autoreload 2"
   ]
  },
  {
   "cell_type": "code",
   "execution_count": 10,
   "metadata": {},
   "outputs": [],
   "source": [
    "# set BDP parameters\n",
    "def setting_bdp(min_n_executors = 3, max_n_executors = 15, n_cores = 8, executor_memory = \"12g\", driver_memory=\"8g\",\n",
    "                   app_name = \"Python app\", driver_overhead=\"1g\", executor_overhead='3g'):\n",
    "\n",
    "    MAX_N_EXECUTORS = max_n_executors\n",
    "    MIN_N_EXECUTORS = min_n_executors\n",
    "    N_CORES_EXECUTOR = n_cores\n",
    "    EXECUTOR_IDLE_MAX_TIME = 120\n",
    "    EXECUTOR_MEMORY = executor_memory\n",
    "    DRIVER_MEMORY = driver_memory\n",
    "    N_CORES_DRIVER = 1\n",
    "    MEMORY_OVERHEAD = N_CORES_EXECUTOR * 2048\n",
    "    QUEUE = \"root.BDPtenants.es.low\"\n",
    "    BDA_CORE_VERSION = \"1.0.0\"\n",
    "\n",
    "    SPARK_COMMON_OPTS = os.environ.get('SPARK_COMMON_OPTS', '')\n",
    "    SPARK_COMMON_OPTS += \" --executor-memory %s --driver-memory %s\" % (EXECUTOR_MEMORY, DRIVER_MEMORY)\n",
    "    SPARK_COMMON_OPTS += \" --conf spark.shuffle.manager=tungsten-sort\"\n",
    "    SPARK_COMMON_OPTS += \"  --queue %s\" % QUEUE\n",
    "\n",
    "    # Dynamic allocation configuration\n",
    "    SPARK_COMMON_OPTS += \" --conf spark.dynamicAllocation.enabled=true\"\n",
    "    SPARK_COMMON_OPTS += \" --conf spark.shuffle.service.enabled=true\"\n",
    "    SPARK_COMMON_OPTS += \" --conf spark.dynamicAllocation.maxExecutors=%s\" % (MAX_N_EXECUTORS)\n",
    "    SPARK_COMMON_OPTS += \" --conf spark.dynamicAllocation.minExecutors=%s\" % (MIN_N_EXECUTORS)\n",
    "    SPARK_COMMON_OPTS += \" --conf spark.executor.cores=%s\" % (N_CORES_EXECUTOR)\n",
    "    SPARK_COMMON_OPTS += \" --conf spark.dynamicAllocation.executorIdleTimeout=%s\" % (EXECUTOR_IDLE_MAX_TIME)\n",
    "    # SPARK_COMMON_OPTS += \" --conf spark.ui.port=58235\"\n",
    "    SPARK_COMMON_OPTS += \" --conf spark.port.maxRetries=100\"\n",
    "    SPARK_COMMON_OPTS += \" --conf spark.app.name='%s'\" % (app_name)\n",
    "    SPARK_COMMON_OPTS += \" --conf spark.submit.deployMode=client\"\n",
    "    SPARK_COMMON_OPTS += \" --conf spark.ui.showConsoleProgress=true\"\n",
    "    SPARK_COMMON_OPTS += \" --conf spark.sql.broadcastTimeout=1200\"\n",
    "    SPARK_COMMON_OPTS += \" --conf spark.yarn.executor.memoryOverhead={}\".format(executor_overhead)\n",
    "    SPARK_COMMON_OPTS += \" --conf spark.yarn.executor.driverOverhead={}\".format(driver_overhead)\n",
    "\n",
    "    BDA_ENV = os.environ.get('BDA_USER_HOME', '')\n",
    "\n",
    "    # Attach bda-core-ra codebase\n",
    "    SPARK_COMMON_OPTS+=\" --files {}/scripts/properties/red_agent/nodes.properties,{}/scripts/properties/red_agent/nodes-de.properties,{}/scripts/properties/red_agent/nodes-es.properties,{}/scripts/properties/red_agent/nodes-ie.properties,{}/scripts/properties/red_agent/nodes-it.properties,{}/scripts/properties/red_agent/nodes-pt.properties,{}/scripts/properties/red_agent/nodes-uk.properties\".format(*[BDA_ENV]*7)\n",
    "\n",
    "    os.environ[\"SPARK_COMMON_OPTS\"] = SPARK_COMMON_OPTS\n",
    "    os.environ[\"PYSPARK_SUBMIT_ARGS\"] = \"%s pyspark-shell \" % SPARK_COMMON_OPTS\n",
    "    \n",
    "def get_spark_session(app_name=\"default name\", log_level='INFO', min_n_executors = 3, max_n_executors = 15, n_cores = 4, executor_memory = \"12g\", driver_memory=\"8g\"):\n",
    "    HOME_SRC = os.path.join(os.environ.get('BDA_USER_HOME', ''), \"src\")\n",
    "    if HOME_SRC not in sys.path:\n",
    "        sys.path.append(HOME_SRC)\n",
    "\n",
    "\n",
    "    setting_bdp(app_name=app_name, min_n_executors = min_n_executors, max_n_executors = max_n_executors, n_cores = n_cores, executor_memory = executor_memory, driver_memory=driver_memory)\n",
    "    from common.src.main.python.utils.hdfs_generic import run_sc\n",
    "    sc, spark, sql_context = run_sc(log_level=log_level)\n",
    "\n",
    "\n",
    "    return sc, spark, sql_context\n",
    "\n",
    "def initialize(app_name, min_n_executors = 3, max_n_executors = 15, n_cores = 4, executor_memory = \"12g\", driver_memory=\"8g\"):\n",
    "    import time\n",
    "    start_time = time.time()\n",
    "\n",
    "    print(\"_initialize spark\")\n",
    "    #import pykhaos.utils.pyspark_configuration as pyspark_config\n",
    "    sc, spark, sql_context = get_spark_session(app_name=app_name, log_level=\"OFF\", min_n_executors = min_n_executors, max_n_executors = max_n_executors, n_cores = n_cores,\n",
    "                             executor_memory = executor_memory, driver_memory=driver_memory)\n",
    "    print(\"Ended spark session: {} secs | default parallelism={}\".format(time.time() - start_time,\n",
    "                                                                         sc.defaultParallelism))\n",
    "    return spark"
   ]
  },
  {
   "cell_type": "code",
   "execution_count": 11,
   "metadata": {},
   "outputs": [
    {
     "name": "stdout",
     "output_type": "stream",
     "text": [
      "_initialize spark\n",
      "Ended spark session: 31.4715080261 secs | default parallelism=2\n"
     ]
    }
   ],
   "source": [
    "spark = initialize(\"FBB Churn Reasons \",executor_memory = \"32g\",min_n_executors = 6,max_n_executors = 15)\n"
   ]
  },
  {
   "cell_type": "code",
   "execution_count": 13,
   "metadata": {},
   "outputs": [],
   "source": [
    "df_mob = spark.read.load('/data/udf/vf_es/churn/churn_reasons/churn_reasons_NIF_MOB')"
   ]
  },
  {
   "cell_type": "code",
   "execution_count": 14,
   "metadata": {},
   "outputs": [],
   "source": [
    "df_fbb = spark.read.load('/data/udf/vf_es/churn/churn_reasons/churn_reasons_NIF_FBB')"
   ]
  },
  {
   "cell_type": "code",
   "execution_count": 15,
   "metadata": {},
   "outputs": [
    {
     "name": "stdout",
     "output_type": "stream",
     "text": [
      "root\n",
      " |-- msisdn: string (nullable = true)\n",
      " |-- num_cliente: string (nullable = true)\n",
      " |-- nif_cliente: string (nullable = true)\n",
      " |-- max_val_pen: float (nullable = true)\n",
      " |-- max_val_serv: float (nullable = true)\n",
      " |-- max_val_bill: float (nullable = true)\n",
      " |-- max_val_spin: float (nullable = true)\n",
      " |-- max_val_use: float (nullable = true)\n",
      " |-- max_val_inter: float (nullable = true)\n",
      " |-- service: string (nullable = true)\n",
      " |-- training_closing_date: string (nullable = true)\n",
      " |-- closing_day: string (nullable = true)\n",
      "\n"
     ]
    }
   ],
   "source": [
    "df_mob.printSchema()"
   ]
  },
  {
   "cell_type": "code",
   "execution_count": 21,
   "metadata": {},
   "outputs": [
    {
     "name": "stdout",
     "output_type": "stream",
     "text": [
      "Numero de servicios: 5976391\n",
      "Numero de NIFs: 3556494\n"
     ]
    }
   ],
   "source": [
    "print'Numero de servicios: {}'.format(df_mob.count())\n",
    "print'Numero de NIFs: {}'.format(df_mob.select('nif_cliente').distinct().count())"
   ]
  },
  {
   "cell_type": "code",
   "execution_count": 51,
   "metadata": {},
   "outputs": [],
   "source": [
    "from pyspark.sql.functions import mean, countDistinct\n",
    "aggr_mob = df_mob.groupby('NIF_CLIENTE').agg(mean('max_val_pen').alias('max_val_pen_mob'),mean('max_val_serv').alias('max_val_serv_mob'),mean('max_val_bill').alias('max_val_bill_mob'),mean('max_val_spin').alias('max_val_spin_mob'),mean('max_val_use').alias('max_val_use_mob'),mean('max_val_inter').alias('max_val_inter_mob'), countDistinct('msisdn').alias('NUM_MSISDN_MOB'))"
   ]
  },
  {
   "cell_type": "code",
   "execution_count": 30,
   "metadata": {},
   "outputs": [
    {
     "name": "stdout",
     "output_type": "stream",
     "text": [
      "root\n",
      " |-- NIF_CLIENTE: string (nullable = true)\n",
      " |-- max_val_pen_mob: double (nullable = true)\n",
      " |-- max_val_serv_mob: double (nullable = true)\n",
      " |-- max_val_bill_mob: double (nullable = true)\n",
      " |-- max_val_spin_mob: double (nullable = true)\n",
      " |-- max_val_use_mob: double (nullable = true)\n",
      " |-- max_val_inter_mob: double (nullable = true)\n",
      " |-- NUM_MSISDN: long (nullable = false)\n",
      "\n"
     ]
    }
   ],
   "source": [
    "aggr_mob.printSchema()"
   ]
  },
  {
   "cell_type": "code",
   "execution_count": 34,
   "metadata": {
    "collapsed": true
   },
   "outputs": [
    {
     "data": {
      "text/plain": [
       "['msisdn',\n",
       " 'num_cliente',\n",
       " 'nif_cliente',\n",
       " 'max_val_pen',\n",
       " 'max_val_serv',\n",
       " 'max_val_bill',\n",
       " 'max_val_spin',\n",
       " 'max_val_use',\n",
       " 'max_val_inter',\n",
       " 'service',\n",
       " 'training_closing_date',\n",
       " 'closing_day']"
      ]
     },
     "execution_count": 34,
     "metadata": {},
     "output_type": "execute_result"
    }
   ],
   "source": [
    "df_mob.columns"
   ]
  },
  {
   "cell_type": "code",
   "execution_count": 31,
   "metadata": {},
   "outputs": [
    {
     "name": "stdout",
     "output_type": "stream",
     "text": [
      "+-----------+-------------------+-------------------+-------------------+------------------+-------------------+------------------+----------+\n",
      "|NIF_CLIENTE|    max_val_pen_mob|   max_val_serv_mob|   max_val_bill_mob|  max_val_spin_mob|    max_val_use_mob| max_val_inter_mob|NUM_MSISDN|\n",
      "+-----------+-------------------+-------------------+-------------------+------------------+-------------------+------------------+----------+\n",
      "|  31506457K| 0.5350459218025208| 0.4168987274169922| 0.7936984896659851| 0.550049364566803|                0.0|0.5512686967849731|         4|\n",
      "|  41401205F| 0.5679730772972107|0.40413597226142883|0.43614208698272705|0.5144904255867004|  0.560025155544281|0.5389700531959534|         2|\n",
      "|  68587965U| 0.5679730772972107| 0.5482891798019409|0.42269352078437805|0.5348342061042786| 0.5302178263664246|0.5512905120849609|         2|\n",
      "|  41177586O|0.48807236552238464|                0.0|0.42572513222694397|0.5589956641197205| 0.5166989490389824|0.3765047788619995|         4|\n",
      "|  12275500B| 0.6263250112533569| 0.5202681422233582| 0.4577101469039917|0.5589514374732971| 0.5290732383728027| 0.549182116985321|         3|\n",
      "|  75253985A| 0.5679730772972107|                0.0|  0.439491331577301|0.5581543842951456|0.33198312918345135|0.5501845677693685|         3|\n",
      "|  77878625M| 0.5679730772972107|                0.0|0.42417624592781067|0.5556898713111877| 0.4967982769012451|0.5496651530265808|         1|\n",
      "|  19910285L| 0.5679730772972107|                0.0|0.42470329999923706| 0.558009922504425|  0.509385734796524|0.5498772859573364|         2|\n",
      "|  41008071R| 0.5679730772972107| 0.5448307394981384|0.42937642335891724|0.5235767364501953| 0.5519766509532928|0.5410435795783997|         2|\n",
      "|  60235080Y| 0.5350459218025208|                0.0| 0.4403514564037323|0.5589892864227295| 0.2579137086868286|0.5368059277534485|         2|\n",
      "+-----------+-------------------+-------------------+-------------------+------------------+-------------------+------------------+----------+\n",
      "only showing top 10 rows\n",
      "\n"
     ]
    }
   ],
   "source": [
    "aggr_mob.show(10)"
   ]
  },
  {
   "cell_type": "code",
   "execution_count": 50,
   "metadata": {},
   "outputs": [],
   "source": [
    "from pyspark.sql.functions import mean, countDistinct\n",
    "aggr_fbb = df_fbb.groupby('NIF_CLIENTE').agg(mean('max_val_pen').alias('max_val_pen_fbb'),mean('max_val_serv').alias('max_val_serv_fbb'),mean('max_val_bill').alias('max_val_bill_fbb'),mean('max_val_spin').alias('max_val_spin_fbb'),mean('max_val_use').alias('max_val_use_fbb'),mean('max_val_inter').alias('max_val_inter_fbb'), countDistinct('msisdn').alias('NUM_MSISDN_FBB'))"
   ]
  },
  {
   "cell_type": "code",
   "execution_count": 52,
   "metadata": {},
   "outputs": [
    {
     "name": "stdout",
     "output_type": "stream",
     "text": [
      "root\n",
      " |-- NIF_CLIENTE: string (nullable = true)\n",
      " |-- max_val_pen_fbb: double (nullable = true)\n",
      " |-- max_val_serv_fbb: double (nullable = true)\n",
      " |-- max_val_bill_fbb: double (nullable = true)\n",
      " |-- max_val_spin_fbb: double (nullable = true)\n",
      " |-- max_val_use_fbb: double (nullable = true)\n",
      " |-- max_val_inter_fbb: double (nullable = true)\n",
      " |-- NUM_MSISDN_FBB: long (nullable = false)\n",
      "\n"
     ]
    }
   ],
   "source": [
    "aggr_fbb.printSchema()"
   ]
  },
  {
   "cell_type": "code",
   "execution_count": 22,
   "metadata": {},
   "outputs": [
    {
     "name": "stdout",
     "output_type": "stream",
     "text": [
      "Numero de servicios: 2338420\n",
      "Numero de NIFs: 2294177\n"
     ]
    }
   ],
   "source": [
    "print'Numero de servicios: {}'.format(df_fbb.count())\n",
    "print'Numero de NIFs: {}'.format(df_fbb.select('nif_cliente').distinct().count())"
   ]
  },
  {
   "cell_type": "code",
   "execution_count": 41,
   "metadata": {},
   "outputs": [
    {
     "data": {
      "text/plain": [
       "2294177"
      ]
     },
     "execution_count": 41,
     "metadata": {},
     "output_type": "execute_result"
    }
   ],
   "source": [
    "aggr_fbb.count()"
   ]
  },
  {
   "cell_type": "code",
   "execution_count": 42,
   "metadata": {},
   "outputs": [
    {
     "data": {
      "text/plain": [
       "3556494"
      ]
     },
     "execution_count": 42,
     "metadata": {},
     "output_type": "execute_result"
    }
   ],
   "source": [
    "aggr_mob.count()"
   ]
  },
  {
   "cell_type": "code",
   "execution_count": 43,
   "metadata": {},
   "outputs": [],
   "source": [
    "t = aggr_fbb.join(aggr_mob, ['NIF_CLIENTE'], 'inner')"
   ]
  },
  {
   "cell_type": "code",
   "execution_count": 44,
   "metadata": {},
   "outputs": [
    {
     "data": {
      "text/plain": [
       "2131623"
      ]
     },
     "execution_count": 44,
     "metadata": {},
     "output_type": "execute_result"
    }
   ],
   "source": [
    "t.count()"
   ]
  },
  {
   "cell_type": "code",
   "execution_count": 45,
   "metadata": {},
   "outputs": [
    {
     "data": {
      "text/plain": [
       "2131623"
      ]
     },
     "execution_count": 45,
     "metadata": {},
     "output_type": "execute_result"
    }
   ],
   "source": [
    "t.select('nif_cliente').distinct().count()"
   ]
  },
  {
   "cell_type": "code",
   "execution_count": 102,
   "metadata": {},
   "outputs": [],
   "source": [
    "t_full = aggr_fbb.join(aggr_mob, ['NIF_CLIENTE'], 'full')"
   ]
  },
  {
   "cell_type": "code",
   "execution_count": 47,
   "metadata": {},
   "outputs": [
    {
     "data": {
      "text/plain": [
       "3719048"
      ]
     },
     "execution_count": 47,
     "metadata": {},
     "output_type": "execute_result"
    }
   ],
   "source": [
    "t_full.count()"
   ]
  },
  {
   "cell_type": "code",
   "execution_count": 103,
   "metadata": {},
   "outputs": [
    {
     "data": {
      "text/plain": [
       "['NIF_CLIENTE',\n",
       " 'max_val_pen_fbb',\n",
       " 'max_val_serv_fbb',\n",
       " 'max_val_bill_fbb',\n",
       " 'max_val_spin_fbb',\n",
       " 'max_val_use_fbb',\n",
       " 'max_val_inter_fbb',\n",
       " 'NUM_MSISDN_FBB',\n",
       " 'max_val_pen_mob',\n",
       " 'max_val_serv_mob',\n",
       " 'max_val_bill_mob',\n",
       " 'max_val_spin_mob',\n",
       " 'max_val_use_mob',\n",
       " 'max_val_inter_mob',\n",
       " 'NUM_MSISDN_MOB']"
      ]
     },
     "execution_count": 103,
     "metadata": {},
     "output_type": "execute_result"
    }
   ],
   "source": [
    "t_full.columns"
   ]
  },
  {
   "cell_type": "code",
   "execution_count": 57,
   "metadata": {},
   "outputs": [
    {
     "name": "stdout",
     "output_type": "stream",
     "text": [
      "+-----------+------------------+-------------------+--------------+--------------+\n",
      "|NIF_CLIENTE|   max_val_pen_fbb|    max_val_pen_mob|NUM_MSISDN_MOB|NUM_MSISDN_FBB|\n",
      "+-----------+------------------+-------------------+--------------+--------------+\n",
      "|  00016272Y|               0.0| 0.5679730772972107|             1|             1|\n",
      "|  00016910J|0.5760828256607056| 0.5091647744178772|             5|             1|\n",
      "|  00025778W|               0.0| 0.5679730772972107|             1|             1|\n",
      "|  00029524J|              null| 0.4991200268268585|             2|          null|\n",
      "|  00043834X|              null| 0.5366258025169373|             2|          null|\n",
      "|  00050353W|              null| 0.4964126646518707|             2|          null|\n",
      "|  00054330G|              null|0.46673980355262756|             1|          null|\n",
      "|  00057674M|0.4992365539073944| 0.4985930919647217|             1|             1|\n",
      "|  00059200K|               0.0|               null|          null|             1|\n",
      "|  00064955M|               0.0|0.48807236552238464|             2|             1|\n",
      "+-----------+------------------+-------------------+--------------+--------------+\n",
      "only showing top 10 rows\n",
      "\n"
     ]
    }
   ],
   "source": [
    "t_full.select('NIF_CLIENTE','max_val_pen_fbb','max_val_pen_mob','NUM_MSISDN_MOB', 'NUM_MSISDN_FBB').show(10)"
   ]
  },
  {
   "cell_type": "code",
   "execution_count": 104,
   "metadata": {},
   "outputs": [],
   "source": [
    "fill_cols = ['max_val_pen_fbb','max_val_serv_fbb','max_val_bill_fbb','max_val_spin_fbb','max_val_use_fbb','max_val_inter_fbb','NUM_MSISDN_FBB','max_val_pen_mob','max_val_serv_mob','max_val_bill_mob','max_val_spin_mob','max_val_use_mob','max_val_inter_mob','NUM_MSISDN_MOB']"
   ]
  },
  {
   "cell_type": "code",
   "execution_count": 105,
   "metadata": {},
   "outputs": [],
   "source": [
    "for name_ in fill_cols:\n",
    "    t_full = t_full.na.fill({name_ : 0.0})"
   ]
  },
  {
   "cell_type": "code",
   "execution_count": 63,
   "metadata": {},
   "outputs": [
    {
     "name": "stdout",
     "output_type": "stream",
     "text": [
      "+-----------+------------------+-------------------+--------------+--------------+\n",
      "|NIF_CLIENTE|   max_val_pen_fbb|    max_val_pen_mob|NUM_MSISDN_MOB|NUM_MSISDN_FBB|\n",
      "+-----------+------------------+-------------------+--------------+--------------+\n",
      "|  00016272Y|               0.0| 0.5679730772972107|             1|             1|\n",
      "|  00016910J|0.5760828256607056| 0.5091647744178772|             5|             1|\n",
      "|  00025778W|               0.0| 0.5679730772972107|             1|             1|\n",
      "|  00029524J|               0.0| 0.4991200268268585|             2|             0|\n",
      "|  00043834X|               0.0| 0.5366258025169373|             2|             0|\n",
      "|  00050353W|               0.0| 0.4964126646518707|             2|             0|\n",
      "|  00054330G|               0.0|0.46673980355262756|             1|             0|\n",
      "|  00057674M|0.4992365539073944| 0.4985930919647217|             1|             1|\n",
      "|  00059200K|               0.0|                0.0|             0|             1|\n",
      "|  00064955M|               0.0|0.48807236552238464|             2|             1|\n",
      "+-----------+------------------+-------------------+--------------+--------------+\n",
      "only showing top 10 rows\n",
      "\n"
     ]
    }
   ],
   "source": [
    "t_full.select('NIF_CLIENTE','max_val_pen_fbb','max_val_pen_mob','NUM_MSISDN_MOB', 'NUM_MSISDN_FBB').show(10)"
   ]
  },
  {
   "cell_type": "code",
   "execution_count": 106,
   "metadata": {},
   "outputs": [],
   "source": [
    "names = ['pen', 'serv', 'bill', 'use', 'inter', 'spin']\n",
    "for name_ in names:\n",
    "    t_full = t_full.withColumn('max_val_' + name_, (col('max_val_' + name_ + '_fbb')*col('NUM_MSISDN_FBB') + col('max_val_' + name_ + '_mob')*col('NUM_MSISDN_MOB'))/((col('NUM_MSISDN_MOB') + col('NUM_MSISDN_FBB'))))"
   ]
  },
  {
   "cell_type": "code",
   "execution_count": 70,
   "metadata": {},
   "outputs": [
    {
     "data": {
      "text/plain": [
       "3719048"
      ]
     },
     "execution_count": 70,
     "metadata": {},
     "output_type": "execute_result"
    }
   ],
   "source": [
    "t_full.count()"
   ]
  },
  {
   "cell_type": "code",
   "execution_count": 107,
   "metadata": {},
   "outputs": [
    {
     "data": {
      "text/plain": [
       "['NIF_CLIENTE',\n",
       " 'max_val_pen_fbb',\n",
       " 'max_val_serv_fbb',\n",
       " 'max_val_bill_fbb',\n",
       " 'max_val_spin_fbb',\n",
       " 'max_val_use_fbb',\n",
       " 'max_val_inter_fbb',\n",
       " 'NUM_MSISDN_FBB',\n",
       " 'max_val_pen_mob',\n",
       " 'max_val_serv_mob',\n",
       " 'max_val_bill_mob',\n",
       " 'max_val_spin_mob',\n",
       " 'max_val_use_mob',\n",
       " 'max_val_inter_mob',\n",
       " 'NUM_MSISDN_MOB',\n",
       " 'max_val_pen',\n",
       " 'max_val_serv',\n",
       " 'max_val_bill',\n",
       " 'max_val_use',\n",
       " 'max_val_inter',\n",
       " 'max_val_spin']"
      ]
     },
     "execution_count": 107,
     "metadata": {},
     "output_type": "execute_result"
    }
   ],
   "source": [
    "t_full.columns"
   ]
  },
  {
   "cell_type": "code",
   "execution_count": 108,
   "metadata": {},
   "outputs": [],
   "source": [
    "def getTopNVals(spark, df, filtered_cols, n_feats):\n",
    "    #Function to get the scores of the categories ordered\n",
    "    for col_name in filtered_cols:\n",
    "        df = df.withColumn(col_name, col(col_name).cast('float'))\n",
    "    for i in range (0,n_feats):\n",
    "        name_val = 'top{}_val'.format(i)\n",
    "        df = df.withColumn(name_val, sort_array(array([col(x) for x in filtered_cols]), asc=False)[i])\n",
    "    return(df)"
   ]
  },
  {
   "cell_type": "code",
   "execution_count": 109,
   "metadata": {},
   "outputs": [],
   "source": [
    "def getTopNFeatsK2(spark, df, n_feats, filtered_cols):\n",
    "    #Function to create the reasons ranking\n",
    "    from pyspark.sql.types import DoubleType, StringType\n",
    "    df2 = df   \n",
    "    modify_values_udf = udf(modify_values2, StringType())\n",
    "    for i in range (0,n_feats):\n",
    "        name_val = 'top{}_val'.format(i)\n",
    "        name_feat = 'top{}_feat'.format(i)\n",
    "        df =  df\\\n",
    "        .withColumn(name_feat, modify_values_udf(array(df2.columns[-len(filtered_cols)-n_feats:-n_feats]), name_val, array(filtered_cols)))\n",
    " \n",
    "    for i in range (0,n_feats):\n",
    "        name_col = 'top{}_reason'.format(i)\n",
    "        name_feat = 'top{}_feat'.format(i)\n",
    "        name_val = 'top{}_val'.format(i)\n",
    "        df =  df\\\n",
    "        .withColumn(name_col, when(df[name_val] > 0, df[name_feat]).otherwise('-'))           \n",
    "    return(df)"
   ]
  },
  {
   "cell_type": "code",
   "execution_count": 110,
   "metadata": {},
   "outputs": [],
   "source": [
    "def modify_values2(r, max_col, filtered_cols): \n",
    "    l = []\n",
    "    for i in range(len(filtered_cols)):\n",
    "        if r[i]== max_col:\n",
    "            l.append(reasons[i])\n",
    "    return l"
   ]
  },
  {
   "cell_type": "code",
   "execution_count": 111,
   "metadata": {},
   "outputs": [],
   "source": [
    "from pyspark.sql.functions import *\n",
    "reasons = ['Penalization','Engagement','Billing','Spinner', 'Use', 'Interactions']\n",
    "score_cols_2 = ['max_val_pen','max_val_serv','max_val_bill','max_val_spin', 'max_val_use', 'max_val_inter']\n",
    "df_ord = getTopNVals(spark, t_full, score_cols_2, 6)"
   ]
  },
  {
   "cell_type": "code",
   "execution_count": 112,
   "metadata": {},
   "outputs": [],
   "source": [
    "df_final = getTopNFeatsK2(spark, df_ord, 6, filtered_cols = score_cols_2)"
   ]
  },
  {
   "cell_type": "code",
   "execution_count": 96,
   "metadata": {},
   "outputs": [],
   "source": [
    "import pyspark.sql.functions"
   ]
  },
  {
   "cell_type": "code",
   "execution_count": 113,
   "metadata": {},
   "outputs": [
    {
     "name": "stdout",
     "output_type": "stream",
     "text": [
      "root\n",
      " |-- NIF_CLIENTE: string (nullable = true)\n",
      " |-- max_val_pen_fbb: double (nullable = false)\n",
      " |-- max_val_serv_fbb: double (nullable = false)\n",
      " |-- max_val_bill_fbb: double (nullable = false)\n",
      " |-- max_val_spin_fbb: double (nullable = false)\n",
      " |-- max_val_use_fbb: double (nullable = false)\n",
      " |-- max_val_inter_fbb: double (nullable = false)\n",
      " |-- NUM_MSISDN_FBB: long (nullable = true)\n",
      " |-- max_val_pen_mob: double (nullable = false)\n",
      " |-- max_val_serv_mob: double (nullable = false)\n",
      " |-- max_val_bill_mob: double (nullable = false)\n",
      " |-- max_val_spin_mob: double (nullable = false)\n",
      " |-- max_val_use_mob: double (nullable = false)\n",
      " |-- max_val_inter_mob: double (nullable = false)\n",
      " |-- NUM_MSISDN_MOB: long (nullable = true)\n",
      " |-- max_val_pen: float (nullable = true)\n",
      " |-- max_val_serv: float (nullable = true)\n",
      " |-- max_val_bill: float (nullable = true)\n",
      " |-- max_val_use: float (nullable = true)\n",
      " |-- max_val_inter: float (nullable = true)\n",
      " |-- max_val_spin: float (nullable = true)\n",
      " |-- top0_val: float (nullable = true)\n",
      " |-- top1_val: float (nullable = true)\n",
      " |-- top2_val: float (nullable = true)\n",
      " |-- top3_val: float (nullable = true)\n",
      " |-- top4_val: float (nullable = true)\n",
      " |-- top5_val: float (nullable = true)\n",
      " |-- top0_feat: string (nullable = true)\n",
      " |-- top1_feat: string (nullable = true)\n",
      " |-- top2_feat: string (nullable = true)\n",
      " |-- top3_feat: string (nullable = true)\n",
      " |-- top4_feat: string (nullable = true)\n",
      " |-- top5_feat: string (nullable = true)\n",
      " |-- top0_reason: string (nullable = true)\n",
      " |-- top1_reason: string (nullable = true)\n",
      " |-- top2_reason: string (nullable = true)\n",
      " |-- top3_reason: string (nullable = true)\n",
      " |-- top4_reason: string (nullable = true)\n",
      " |-- top5_reason: string (nullable = true)\n",
      "\n"
     ]
    }
   ],
   "source": [
    "df_final.printSchema()"
   ]
  },
  {
   "cell_type": "code",
   "execution_count": 114,
   "metadata": {
    "scrolled": false
   },
   "outputs": [
    {
     "name": "stdout",
     "output_type": "stream",
     "text": [
      "+--------------+--------------+--------------+--------------+--------------+--------------+\n",
      "|   top0_reason|   top1_reason|   top2_reason|   top3_reason|   top4_reason|   top5_reason|\n",
      "+--------------+--------------+--------------+--------------+--------------+--------------+\n",
      "|         [Use]|     [Spinner]|     [Billing]|[Penalization]|[Interactions]|  [Engagement]|\n",
      "|     [Billing]|     [Spinner]|  [Engagement]|[Interactions]|[Penalization]|         [Use]|\n",
      "|[Interactions]|         [Use]|     [Spinner]|     [Billing]|[Penalization]|  [Engagement]|\n",
      "|  [Engagement]|         [Use]|     [Billing]|[Interactions]|     [Spinner]|[Penalization]|\n",
      "|[Penalization]|[Interactions]|     [Billing]|  [Engagement]|         [Use]|     [Spinner]|\n",
      "|     [Spinner]|  [Engagement]|     [Billing]|[Interactions]|[Penalization]|             -|\n",
      "|  [Engagement]|[Interactions]|[Penalization]|     [Billing]|             -|             -|\n",
      "|[Interactions]|         [Use]|     [Spinner]|[Penalization]|     [Billing]|  [Engagement]|\n",
      "|     [Billing]|  [Engagement]|     [Spinner]|         [Use]|[Interactions]|             -|\n",
      "|[Interactions]|     [Spinner]|         [Use]|     [Billing]|[Penalization]|  [Engagement]|\n",
      "+--------------+--------------+--------------+--------------+--------------+--------------+\n",
      "only showing top 10 rows\n",
      "\n"
     ]
    }
   ],
   "source": [
    "df_final.select(name_cols).show(10)"
   ]
  },
  {
   "cell_type": "code",
   "execution_count": 101,
   "metadata": {},
   "outputs": [
    {
     "name": "stdout",
     "output_type": "stream",
     "text": [
      "root\n",
      " |-- NIF_CLIENTE: string (nullable = true)\n",
      " |-- max_val_pen_fbb: double (nullable = false)\n",
      " |-- max_val_serv_fbb: double (nullable = false)\n",
      " |-- max_val_bill_fbb: double (nullable = false)\n",
      " |-- max_val_spin_fbb: double (nullable = false)\n",
      " |-- max_val_use_fbb: double (nullable = false)\n",
      " |-- max_val_inter_fbb: double (nullable = false)\n",
      " |-- NUM_MSISDN_FBB: long (nullable = true)\n",
      " |-- max_val_pen_mob: double (nullable = false)\n",
      " |-- max_val_serv_mob: double (nullable = false)\n",
      " |-- max_val_bill_mob: double (nullable = false)\n",
      " |-- max_val_spin_mob: double (nullable = false)\n",
      " |-- max_val_use_mob: double (nullable = false)\n",
      " |-- max_val_inter_mob: double (nullable = false)\n",
      " |-- NUM_MSISDN_MOB: long (nullable = true)\n",
      " |-- max_val_pen_final: double (nullable = true)\n",
      " |-- max_val_serv_final: double (nullable = true)\n",
      " |-- max_val_bill_final: double (nullable = true)\n",
      " |-- max_val_use_final: double (nullable = true)\n",
      " |-- max_val_inter_final: double (nullable = true)\n",
      " |-- max_val_spin_final: double (nullable = true)\n",
      " |-- max_val_pen: float (nullable = true)\n",
      " |-- max_val_serv: float (nullable = true)\n",
      " |-- max_val_bill: float (nullable = true)\n",
      " |-- max_val_use: float (nullable = true)\n",
      " |-- max_val_inter: float (nullable = true)\n",
      " |-- max_val_spin: float (nullable = true)\n",
      " |-- top0_val: float (nullable = true)\n",
      " |-- top1_val: float (nullable = true)\n",
      " |-- top2_val: float (nullable = true)\n",
      " |-- top3_val: float (nullable = true)\n",
      " |-- top4_val: float (nullable = true)\n",
      " |-- top5_val: float (nullable = true)\n",
      " |-- top0_feat: string (nullable = true)\n",
      " |-- top1_feat: string (nullable = true)\n",
      " |-- top2_feat: string (nullable = true)\n",
      " |-- top3_feat: string (nullable = true)\n",
      " |-- top4_feat: string (nullable = true)\n",
      " |-- top5_feat: string (nullable = true)\n",
      " |-- top0_reason: string (nullable = true)\n",
      " |-- top1_reason: string (nullable = true)\n",
      " |-- top2_reason: string (nullable = true)\n",
      " |-- top3_reason: string (nullable = true)\n",
      " |-- top4_reason: string (nullable = true)\n",
      " |-- top5_reason: string (nullable = true)\n",
      "\n"
     ]
    }
   ],
   "source": [
    "name_cols = ['top'+ str(i) + '_reason' for i in range(0,6)]\n",
    "df_final.printSchema()"
   ]
  },
  {
   "cell_type": "code",
   "execution_count": null,
   "metadata": {},
   "outputs": [],
   "source": []
  },
  {
   "cell_type": "code",
   "execution_count": 17,
   "metadata": {},
   "outputs": [],
   "source": [
    "aggr_f = df_mob.union(df_fbb)"
   ]
  },
  {
   "cell_type": "code",
   "execution_count": 19,
   "metadata": {},
   "outputs": [
    {
     "data": {
      "text/plain": [
       "8314811"
      ]
     },
     "execution_count": 19,
     "metadata": {},
     "output_type": "execute_result"
    }
   ],
   "source": [
    "df.count()"
   ]
  },
  {
   "cell_type": "code",
   "execution_count": 20,
   "metadata": {},
   "outputs": [
    {
     "data": {
      "text/plain": [
       "3719048"
      ]
     },
     "execution_count": 20,
     "metadata": {},
     "output_type": "execute_result"
    }
   ],
   "source": [
    "df.select('nif_cliente').distinct().count()"
   ]
  },
  {
   "cell_type": "code",
   "execution_count": null,
   "metadata": {},
   "outputs": [],
   "source": []
  },
  {
   "cell_type": "code",
   "execution_count": null,
   "metadata": {},
   "outputs": [],
   "source": []
  },
  {
   "cell_type": "code",
   "execution_count": null,
   "metadata": {},
   "outputs": [],
   "source": []
  },
  {
   "cell_type": "code",
   "execution_count": null,
   "metadata": {},
   "outputs": [],
   "source": []
  }
 ],
 "metadata": {
  "kernelspec": {
   "display_name": "Python 2",
   "language": "python",
   "name": "python2"
  },
  "language_info": {
   "codemirror_mode": {
    "name": "ipython",
    "version": 2
   },
   "file_extension": ".py",
   "mimetype": "text/x-python",
   "name": "python",
   "nbconvert_exporter": "python",
   "pygments_lexer": "ipython2",
   "version": "2.7.11"
  }
 },
 "nbformat": 4,
 "nbformat_minor": 2
}
