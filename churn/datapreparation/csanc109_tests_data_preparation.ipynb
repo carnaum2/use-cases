{
 "cells": [
  {
   "cell_type": "markdown",
   "metadata": {},
   "source": [
    "# DATA PREPARATION _ MAIN "
   ]
  },
  {
   "cell_type": "code",
   "execution_count": 1,
   "metadata": {
    "collapsed": true
   },
   "outputs": [],
   "source": [
    "# spark.stop()"
   ]
  },
  {
   "cell_type": "code",
   "execution_count": 2,
   "metadata": {
    "collapsed": false
   },
   "outputs": [
    {
     "name": "stderr",
     "output_type": "stream",
     "text": [
      "20181005-121526 [INFO ] Logging to file /var/SP/data/home/csanc109/logging/out_20181005_121526.log\n"
     ]
    },
    {
     "name": "stdout",
     "output_type": "stream",
     "text": [
      "Running from notebook\n"
     ]
    }
   ],
   "source": [
    "import os, sys\n",
    "import datetime as dt\n",
    "DEVEL_SRC = os.path.join(os.environ.get('BDA_USER_HOME', ''), \"src\", \"devel\")\n",
    "if DEVEL_SRC not in sys.path:\n",
    "    sys.path.append(DEVEL_SRC)\n",
    "\n",
    "USECASES_SRC = os.path.join(DEVEL_SRC, \"use-cases\") # TODO when - is removed, remove also this line and adapt imports\n",
    "if USECASES_SRC not in sys.path: \n",
    "    sys.path.append(USECASES_SRC)\n",
    "    \n",
    "import pykhaos.utils.custom_logger as clogger\n",
    "logging_file = os.path.join(os.environ.get('BDA_USER_HOME', ''), \"logging\",\n",
    "                                    \"out_\" + dt.datetime.now().strftime(\"%Y%m%d_%H%M%S\") + \".log\")\n",
    "logger = clogger.configure_logger(log_filename=logging_file, std_channel=sys.stderr, logger_name=\"\")\n",
    "logger.info(\"Logging to file {}\".format(logging_file))    \n",
    "    \n",
    "    \n",
    "import pykhaos.utils.notebooks as nb\n",
    "   \n",
    "RUNNING_FROM_NOTEBOOK = nb.isnotebook()\n",
    "import matplotlib.pyplot as plt\n",
    "if RUNNING_FROM_NOTEBOOK:\n",
    "    print(\"Running from notebook\")\n",
    "    %load_ext autoreload\n",
    "    %autoreload 2\n",
    "    %matplotlib inline  \n",
    "    \n",
    "if not RUNNING_FROM_NOTEBOOK:\n",
    "    args = my_project.arg_parser()"
   ]
  },
  {
   "cell_type": "code",
   "execution_count": 3,
   "metadata": {
    "collapsed": false
   },
   "outputs": [],
   "source": [
    "import time\n",
    "from churn.utils.constants import *\n",
    "import pykhaos.utils.pyspark_configuration as pyspark_config\n",
    "\n",
    "def __init_spark():\n",
    "\n",
    "    start_time = time.time()\n",
    "    app_name = APP_NAME if APP_NAME else os.environ.get('USER', '') \\\n",
    "                                         + \"_\" + PROJECT_NAME \\\n",
    "                                         + \"_\" + dt.datetime.now().strftime(\"%Y%m%d_%H%M%S\")\n",
    "\n",
    "    sc, spark, sql_context = pyspark_config.get_spark_session(app_name=app_name, log_level=\"OFF\")\n",
    "    print(\"Ended spark session: {} secs | default parallelism={}\".format(time.time() - start_time,\n",
    "                                                                         sc.defaultParallelism))\n",
    "\n",
    "    return spark"
   ]
  },
  {
   "cell_type": "code",
   "execution_count": 4,
   "metadata": {
    "collapsed": false
   },
   "outputs": [
    {
     "name": "stdout",
     "output_type": "stream",
     "text": [
      "Ended spark session: 1087.10340405 secs | default parallelism=2\n"
     ]
    }
   ],
   "source": [
    "spark = __init_spark()"
   ]
  },
  {
   "cell_type": "code",
   "execution_count": 3,
   "metadata": {
    "collapsed": false
   },
   "outputs": [
    {
     "name": "stdout",
     "output_type": "stream",
     "text": [
      "{'closing_day': 20180831,\n",
      " 'cycles_horizon': 4,\n",
      " 'discarded_cycles': 0,\n",
      " 'level': 'service',\n",
      " 'model_target': 'port',\n",
      " 'segment_filter': 'allmob',\n",
      " 'service_set': 'movil',\n",
      " 'sources': {'ids': {'address': False,\n",
      "                     'billing': False,\n",
      "                     'call_centre_calls': False,\n",
      "                     'campaigns': False,\n",
      "                     'customer': True,\n",
      "                     'customer_penalties': False,\n",
      "                     'device_catalogue': False,\n",
      "                     'geneva_traffic': False,\n",
      "                     'netscout': False,\n",
      "                     'orders': False,\n",
      "                     'services': True,\n",
      "                     'tnps': False}}}\n"
     ]
    }
   ],
   "source": [
    "import yaml\n",
    "\n",
    "\n",
    "default_filename = os.path.join(USECASES_SRC, \"churn\", \"input\", \"config.yaml\")\n",
    "\n",
    "input_file = default_filename if RUNNING_FROM_NOTEBOOK else input_filename\n",
    "\n",
    "\n",
    "config = yaml.load(open(input_file))\n",
    "\n",
    "import pprint\n",
    "pprint.pprint(config)\n",
    "\n",
    "\n"
   ]
  },
  {
   "cell_type": "code",
   "execution_count": 28,
   "metadata": {
    "collapsed": false
   },
   "outputs": [],
   "source": [
    "# closing_day = config[\"closing_day\"]\n",
    "# segment_filter = config[\"segment_filter\"] # segmento al que nos dirigimos\n",
    "# level = config[\"level\"] # service=(msisdn), num_client, nif \n",
    "# service_set = config[\"service_set\"] # siempre movil\n",
    "# model_target = config[\"model_target\"] \n",
    "# cycles_horizon=config[\"cycles_horizon\"]\n",
    "# discarded_cycles=config[\"discarded_cycles\"]"
   ]
  },
  {
   "cell_type": "code",
   "execution_count": 63,
   "metadata": {
    "collapsed": false
   },
   "outputs": [
    {
     "name": "stdout",
     "output_type": "stream",
     "text": [
      "Calling get_numclients_under_analysis for closing_day=20180814 and segment_filter=onlymob\n",
      "('df_customer', 5623176)\n",
      "('df_service', 11795811)\n",
      "('df_services', 10677111)\n",
      "('get_numclients_under_analysis - df_customer_aggregations', 5318051)\n",
      "[Info DataLoader] Number of target services before labeling:942118 \n",
      "closing day = 20180814\n",
      "discarded period: 20180815-20180920\n",
      "target period: 20180921-20181021\n",
      "end reading source customer\n",
      "end reading source services\n",
      "Ended process of reading ids sources\n",
      "('df_target_num_clients', 'num_cliente')\n",
      "('after df_car', 'TRATAMIENTO,NOMBRE,PRIM_APELLIDO,SEG_APELLIDO,CLASE_CLI_COD_CLASE_CLIENTE,DIR_LINEA1,DIR_LINEA2,DIR_LINEA3,COD_ESTADO_GENERAL,NOM_COMPLETO,DIR_FACTURA1,DIR_FACTURA2,DIR_FACTURA3,DIR_FACTURA4,CODIGO_POSTAL,TRAT_FACT,NOMBRE_CLI_FACT,APELLIDO1_CLI_FACT,APELLIDO2_CLI_FACT,DIR_NUM_DIRECCION,NIF_CLIENTE,FECHA_NACI,METODO_PAGO,PUBLICIDAD,ENCUESTAS,CTA_CORREO_CONTACTO,CTA_CORREO,FACTURA_CATALAN,FACTURA_ELECTRONICA,SUPEROFERTA,NIF_FACTURACION,TIPO_DOCUMENTO,X_PUBLICIDAD_EMAIL,CICLO,NACIONALIDAD,x_tipo_cuenta_corp,x_antiguedad_cuenta,x_datos_navegacion,x_datos_trafico,x_cesion_datos,x_user_facebook,x_user_twitter,marriage2hgbst_elm,gender2hgbst_elm,birth_date,FLG_LORTAD,FLG_ROBINSON,X_FORMATO_FACTURA,X_IDIOMA_FACTURA,FECHA_MIGRACUIB,rowNum,ENCUESTAS2,SUPEROFERTA2,year,month,day,Instancia_P,msisdn_a,SRV_BASIC,DESC_SRV_BASIC,OBJID,TACADA,FX_SRV_BASIC,PRICE_SRV_BASIC,RGU,TIPO_SIM,IMSI,TARIFF,FX_TARIFF,DESC_TARIFF,PRICE_TARIFF,VOICE_TARIFF,FX_VOICE_TARIFF,PRICE_VOICE_TARIFF,DATA,FX_DATA,PRICE_DATA,DTO_LEV1,FX_DTO_LEV1,PRICE_DTO_LEV1,DTO_LEV2,FX_DTO_LEV2,PRICE_DTO_LEV2,DTO_LEV3,FX_DTO_LEV3,PRICE_DTO_LEV3,DATA_ADDITIONAL,FX_DATA_ADDITIONAL,PRICE_DATA_ADDITIONAL,OOB,FX_OOB,PRICE_OOB,NETFLIX_NAPSTER,FX_NETFLIX_NAPSTER,PRICE_NETFLIX_NAPSTER,ROAMING_BASIC,FX_ROAMING_BASIC,PRICE_ROAMING_BASIC,ROAM_USA_EUR,FX_ROAM_USA_EUR,PRICE_ROAM_USA_EUR,ROAM_ZONA_2,FX_ROAM_ZONA_2,PRICE_ROAM_ZONA_2,CONSUM_MIN,FX_CONSUM_MIN,PRICE_CONSUM_MIN,SIM_VF,HOMEZONE,FX_HOMEZONE,PRICE_HOMEZONE,MOVIL_HOMEZONE,FBB_UPGRADE,FX_FBB_UPGRADE,PRICE_FBB_UPGRADE,DECO_TV,FX_DECO_TV,PRICE_DECO_TV,NUM_SERIE_DECO_TV,OBJID_DECO_TV,TV_CUOTA_ALTA,FX_TV_CUOTA_ALTA,PRICE_TV_CUOTA_ALTA,TV_TARIFF,FX_TV_TARIFF,PRICE_TV_TARIFF,TV_CUOT_CHARGES,FX_TV_CUOT_CHARGES,PRICE_TV_CUOT_CHARGES,TV_PROMO,FX_TV_PROMO,PRICE_TV_PROMO,TV_PROMO_USER,FX_TV_PROMO_USER,PRICE_TV_PROMO_USER,TV_ABONOS,FX_TV_ABONOS,PRICE_TV_ABONOS,TV_LOYALTY,FX_TV_LOYALTY,PRICE_TV_LOYALTY,TV_SVA,FX_TV_SVA,PRICE_TV_SVA,FOOTBALL_TV,FX_FOOTBALL_TV,PRICE_FOOTBALL_TV,MOTOR_TV,FX_MOTOR_TV,PRICE_MOTOR_TV,PVR_TV,FX_PVR_TV,PRICE_PVR_TV,ZAPPER_TV,FX_ZAPPER_TV,PRICE_ZAPPER_TV,TRYBUY_TV,FX_TRYBUY_TV,PRICE_TRYBUY_TV,TRYBUY_AUTOM_TV,FX_TRYBUY_AUTOM_TV,PRICE_TRYBUY_AUTOM_TV,CAMPO1,msisdn_d,CAMPO3,flag_msisdn_err,TV_TOTAL_CHARGES,MOBILE_BAM_TOTAL_CHARGES,num_cliente')\n",
      "[Info DataLoader] Number of msisdns: target=1142090 | after removing discarded port-outs=1139029\n",
      "('df_tar', 'TRATAMIENTO,NOMBRE,PRIM_APELLIDO,SEG_APELLIDO,CLASE_CLI_COD_CLASE_CLIENTE,DIR_LINEA1,DIR_LINEA2,DIR_LINEA3,COD_ESTADO_GENERAL,NOM_COMPLETO,DIR_FACTURA1,DIR_FACTURA2,DIR_FACTURA3,DIR_FACTURA4,CODIGO_POSTAL,TRAT_FACT,NOMBRE_CLI_FACT,APELLIDO1_CLI_FACT,APELLIDO2_CLI_FACT,DIR_NUM_DIRECCION,NIF_CLIENTE,FECHA_NACI,METODO_PAGO,PUBLICIDAD,ENCUESTAS,CTA_CORREO_CONTACTO,CTA_CORREO,FACTURA_CATALAN,FACTURA_ELECTRONICA,SUPEROFERTA,NIF_FACTURACION,TIPO_DOCUMENTO,X_PUBLICIDAD_EMAIL,CICLO,NACIONALIDAD,x_tipo_cuenta_corp,x_antiguedad_cuenta,x_datos_navegacion,x_datos_trafico,x_cesion_datos,x_user_facebook,x_user_twitter,marriage2hgbst_elm,gender2hgbst_elm,birth_date,FLG_LORTAD,FLG_ROBINSON,X_FORMATO_FACTURA,X_IDIOMA_FACTURA,FECHA_MIGRACUIB,rowNum,ENCUESTAS2,SUPEROFERTA2,year,month,day,Instancia_P,msisdn,SRV_BASIC,DESC_SRV_BASIC,OBJID,TACADA,FX_SRV_BASIC,PRICE_SRV_BASIC,RGU,TIPO_SIM,IMSI,TARIFF,FX_TARIFF,DESC_TARIFF,PRICE_TARIFF,VOICE_TARIFF,FX_VOICE_TARIFF,PRICE_VOICE_TARIFF,DATA,FX_DATA,PRICE_DATA,DTO_LEV1,FX_DTO_LEV1,PRICE_DTO_LEV1,DTO_LEV2,FX_DTO_LEV2,PRICE_DTO_LEV2,DTO_LEV3,FX_DTO_LEV3,PRICE_DTO_LEV3,DATA_ADDITIONAL,FX_DATA_ADDITIONAL,PRICE_DATA_ADDITIONAL,OOB,FX_OOB,PRICE_OOB,NETFLIX_NAPSTER,FX_NETFLIX_NAPSTER,PRICE_NETFLIX_NAPSTER,ROAMING_BASIC,FX_ROAMING_BASIC,PRICE_ROAMING_BASIC,ROAM_USA_EUR,FX_ROAM_USA_EUR,PRICE_ROAM_USA_EUR,ROAM_ZONA_2,FX_ROAM_ZONA_2,PRICE_ROAM_ZONA_2,CONSUM_MIN,FX_CONSUM_MIN,PRICE_CONSUM_MIN,SIM_VF,HOMEZONE,FX_HOMEZONE,PRICE_HOMEZONE,MOVIL_HOMEZONE,FBB_UPGRADE,FX_FBB_UPGRADE,PRICE_FBB_UPGRADE,DECO_TV,FX_DECO_TV,PRICE_DECO_TV,NUM_SERIE_DECO_TV,OBJID_DECO_TV,TV_CUOTA_ALTA,FX_TV_CUOTA_ALTA,PRICE_TV_CUOTA_ALTA,TV_TARIFF,FX_TV_TARIFF,PRICE_TV_TARIFF,TV_CUOT_CHARGES,FX_TV_CUOT_CHARGES,PRICE_TV_CUOT_CHARGES,TV_PROMO,FX_TV_PROMO,PRICE_TV_PROMO,TV_PROMO_USER,FX_TV_PROMO_USER,PRICE_TV_PROMO_USER,TV_ABONOS,FX_TV_ABONOS,PRICE_TV_ABONOS,TV_LOYALTY,FX_TV_LOYALTY,PRICE_TV_LOYALTY,TV_SVA,FX_TV_SVA,PRICE_TV_SVA,FOOTBALL_TV,FX_FOOTBALL_TV,PRICE_FOOTBALL_TV,MOTOR_TV,FX_MOTOR_TV,PRICE_MOTOR_TV,PVR_TV,FX_PVR_TV,PRICE_PVR_TV,ZAPPER_TV,FX_ZAPPER_TV,PRICE_ZAPPER_TV,TRYBUY_TV,FX_TRYBUY_TV,PRICE_TRYBUY_TV,TRYBUY_AUTOM_TV,FX_TRYBUY_AUTOM_TV,PRICE_TRYBUY_AUTOM_TV,CAMPO1,msisdn_d,CAMPO3,flag_msisdn_err,TV_TOTAL_CHARGES,MOBILE_BAM_TOTAL_CHARGES,num_cliente,label')\n",
      "[Info DataLoader] Number of msisdns: df_tar=1103140 \n",
      "Num port outs 1086.0\n",
      "[Info Amdocs Car Preparation] Size of labelfeatcar: 1103140\n"
     ]
    }
   ],
   "source": [
    "from churn.datapreparation.churn_data_loader import ChurnDataLoader\n",
    "\n",
    "if cycles_horizon<=0:\n",
    "    print(\"[ERROR] cycles horizon must be a number greater than 0 (inserted {})\".format(cycles_horizon))\n",
    "    import sys\n",
    "    sys.exit(1)\n",
    "    \n",
    "\n",
    "cdl = ChurnDataLoader(spark, config)\n",
    "\n",
    "\n",
    "df_labeled_car = cdl.getLabeledCar(feats=None,target=None)\n"
   ]
  },
  {
   "cell_type": "code",
   "execution_count": 7,
   "metadata": {
    "collapsed": false
   },
   "outputs": [
    {
     "name": "stdout",
     "output_type": "stream",
     "text": [
      "Built filename: /user/csanc109/projects/churn/port/allmob/df_port_allmob_service_20180831_c4_d0\n",
      "Created directory returned False\n"
     ]
    },
    {
     "ename": "AttributeError",
     "evalue": "'str' object has no attribute 'write'",
     "output_type": "error",
     "traceback": [
      "\u001b[1;31m---------------------------------------------------------------------------\u001b[0m",
      "\u001b[1;31mAttributeError\u001b[0m                            Traceback (most recent call last)",
      "\u001b[1;32m<ipython-input-7-ea9330188be4>\u001b[0m in \u001b[0;36m<module>\u001b[1;34m()\u001b[0m\n\u001b[0;32m      1\u001b[0m \u001b[1;32mfrom\u001b[0m \u001b[0mchurn\u001b[0m\u001b[1;33m.\u001b[0m\u001b[0mdatapreparation\u001b[0m\u001b[1;33m.\u001b[0m\u001b[0mdata_preparation_main\u001b[0m \u001b[1;32mimport\u001b[0m \u001b[0msave_df\u001b[0m\u001b[1;33m\u001b[0m\u001b[0m\n\u001b[0;32m      2\u001b[0m \u001b[1;33m\u001b[0m\u001b[0m\n\u001b[1;32m----> 3\u001b[1;33m \u001b[0msave_df\u001b[0m\u001b[1;33m(\u001b[0m\u001b[1;34m\"/user/csanc109/projects/churn/port/allmob/\"\u001b[0m\u001b[1;33m,\u001b[0m\u001b[0mconfig\u001b[0m\u001b[1;33m)\u001b[0m\u001b[1;33m\u001b[0m\u001b[0m\n\u001b[0m",
      "\u001b[1;32m/var/SP/data/home/csanc109/src/devel/use-cases/churn/datapreparation/data_preparation_main.py\u001b[0m in \u001b[0;36msave_df\u001b[1;34m(df, config)\u001b[0m\n\u001b[0;32m     88\u001b[0m     \u001b[0mret_stat\u001b[0m \u001b[1;33m=\u001b[0m \u001b[0mcreate_directory\u001b[0m\u001b[1;33m(\u001b[0m\u001b[0mos\u001b[0m\u001b[1;33m.\u001b[0m\u001b[0mpath\u001b[0m\u001b[1;33m.\u001b[0m\u001b[0mjoin\u001b[0m\u001b[1;33m(\u001b[0m\u001b[0mdir_name\u001b[0m\u001b[1;33m)\u001b[0m\u001b[1;33m)\u001b[0m\u001b[1;33m\u001b[0m\u001b[0m\n\u001b[0;32m     89\u001b[0m     \u001b[1;32mprint\u001b[0m\u001b[1;33m(\u001b[0m\u001b[1;34m\"Created directory returned {}\"\u001b[0m\u001b[1;33m.\u001b[0m\u001b[0mformat\u001b[0m\u001b[1;33m(\u001b[0m\u001b[0mret_stat\u001b[0m\u001b[1;33m)\u001b[0m\u001b[1;33m)\u001b[0m\u001b[1;33m\u001b[0m\u001b[0m\n\u001b[1;32m---> 90\u001b[1;33m     \u001b[0msave_df_to_hdfs\u001b[0m\u001b[1;33m(\u001b[0m\u001b[0mdf\u001b[0m\u001b[1;33m,\u001b[0m \u001b[0mpath_filename\u001b[0m\u001b[1;33m)\u001b[0m\u001b[1;33m\u001b[0m\u001b[0m\n\u001b[0m\u001b[0;32m     91\u001b[0m     \u001b[1;32mprint\u001b[0m\u001b[1;33m(\u001b[0m\u001b[1;34m\"Saved df successfully - '{}'\"\u001b[0m\u001b[1;33m.\u001b[0m\u001b[0mformat\u001b[0m\u001b[1;33m(\u001b[0m\u001b[0mpath_filename\u001b[0m\u001b[1;33m)\u001b[0m\u001b[1;33m)\u001b[0m\u001b[1;33m\u001b[0m\u001b[0m\n\u001b[0;32m     92\u001b[0m \u001b[1;33m\u001b[0m\u001b[0m\n",
      "\u001b[1;32m/var/SP/data/home/csanc109/src/devel/pykhaos/utils/hdfs_functions.pyc\u001b[0m in \u001b[0;36msave_df_to_hdfs\u001b[1;34m(df, path_dir)\u001b[0m\n\u001b[0;32m      8\u001b[0m \u001b[1;33m\u001b[0m\u001b[0m\n\u001b[0;32m      9\u001b[0m \u001b[1;32mdef\u001b[0m \u001b[0msave_df_to_hdfs\u001b[0m\u001b[1;33m(\u001b[0m\u001b[0mdf\u001b[0m\u001b[1;33m,\u001b[0m \u001b[0mpath_dir\u001b[0m\u001b[1;33m)\u001b[0m\u001b[1;33m:\u001b[0m\u001b[1;33m\u001b[0m\u001b[0m\n\u001b[1;32m---> 10\u001b[1;33m     \u001b[0mdf\u001b[0m\u001b[1;33m.\u001b[0m\u001b[0mwrite\u001b[0m\u001b[1;33m.\u001b[0m\u001b[0mmode\u001b[0m\u001b[1;33m(\u001b[0m\u001b[1;34m'overwrite'\u001b[0m\u001b[1;33m)\u001b[0m\u001b[1;33m.\u001b[0m\u001b[0mformat\u001b[0m\u001b[1;33m(\u001b[0m\u001b[1;34m'parquet'\u001b[0m\u001b[1;33m)\u001b[0m\u001b[1;33m.\u001b[0m\u001b[0msave\u001b[0m\u001b[1;33m(\u001b[0m\u001b[0mpath_dir\u001b[0m\u001b[1;33m)\u001b[0m\u001b[1;33m\u001b[0m\u001b[0m\n\u001b[0m\u001b[0;32m     11\u001b[0m \u001b[1;33m\u001b[0m\u001b[0m\n\u001b[0;32m     12\u001b[0m \u001b[1;33m\u001b[0m\u001b[0m\n",
      "\u001b[1;31mAttributeError\u001b[0m: 'str' object has no attribute 'write'"
     ]
    }
   ],
   "source": [
    "from churn.datapreparation.data_preparation_main import save_df\n",
    "\n",
    "dir_name = \"/user/csanc109/projects/churn/port/allmob/\"\n",
    "ret_stat = create_directory(os.path.join(dir_name))\n"
   ]
  },
  {
   "cell_type": "code",
   "execution_count": 13,
   "metadata": {
    "collapsed": false
   },
   "outputs": [
    {
     "name": "stdout",
     "output_type": "stream",
     "text": [
      "(0, '20180821')\n",
      "(1, '20180814')\n",
      "(2, '20180807')\n",
      "(3, '20180731')\n"
     ]
    },
    {
     "data": {
      "text/plain": [
       "'20180731'"
      ]
     },
     "execution_count": 13,
     "metadata": {},
     "output_type": "execute_result"
    }
   ],
   "source": [
    "from pykhaos.utils.date_functions import move_date_n_cycles\n",
    "\n",
    "end_date = move_date_n_cycles(\"20180831\", -4)\n",
    "\n",
    "end_date"
   ]
  }
 ],
 "metadata": {
  "kernelspec": {
   "display_name": "Python 2",
   "language": "python",
   "name": "python2"
  },
  "language_info": {
   "codemirror_mode": {
    "name": "ipython",
    "version": 2
   },
   "file_extension": ".py",
   "mimetype": "text/x-python",
   "name": "python",
   "nbconvert_exporter": "python",
   "pygments_lexer": "ipython2",
   "version": "2.7.11"
  }
 },
 "nbformat": 4,
 "nbformat_minor": 2
}
