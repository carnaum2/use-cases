{
 "cells": [
  {
   "cell_type": "code",
   "execution_count": 1,
   "metadata": {},
   "outputs": [],
   "source": [
    "import pandas as pd\n",
    "import numpy as np\n",
    "\n",
    "import matplotlib.pyplot as plt"
   ]
  },
  {
   "cell_type": "code",
   "execution_count": 2,
   "metadata": {},
   "outputs": [],
   "source": [
    "from pyspark.sql.functions import greatest, lower, upper, trim,least\n",
    "from pyspark.sql.functions import collect_set, col, lpad, lit, collect_list, desc, asc, mean as sql_mean, sum as sql_sum, datediff, count as sql_count\n",
    "#from pyspark.sql.types import StringType, ArrayType, MapType, StructType, StructField, IntegerType\n",
    "from pyspark.sql.functions import array, regexp_extract, datediff, to_date, from_unixtime, unix_timestamp, desc, when, col, lit, udf, size, \\\n",
    "    array, isnan, upper, coalesce, length, lower, concat, create_map, sum as sql_sum, greatest, max as sql_max, sort_array, min as sql_min\n",
    "from pyspark.sql.window import Window\n",
    "from pyspark.sql.functions import row_number\n",
    "import re\n",
    "from pyspark.sql.types import ArrayType, FloatType, StringType\n",
    "from pyspark.sql.functions import datediff\n",
    "import numpy as np\n",
    "from pyspark.sql.types import FloatType\n",
    "from pyspark.sql.functions import lag, mean as sql_avg"
   ]
  },
  {
   "cell_type": "code",
   "execution_count": 3,
   "metadata": {},
   "outputs": [],
   "source": [
    "class UDFconversion:\n",
    "\n",
    "    @staticmethod\n",
    "    def convert(s_orig):\n",
    "        import re\n",
    "        if not s_orig: return \"\"\n",
    "        s = s_orig\n",
    "        s = re.sub(\"instalaci.n\", \"instalacion\", s)\n",
    "        s = re.sub(\"m.vil\", \"movil\", s)\n",
    "        s = re.sub(\"desconexi.n\", \"desconexion\", s)\n",
    "        s = re.sub(\"disminuci.n\", \"disminucion\", s)\n",
    "        s = re.sub(\"reconexi.n\", \"reconexion\", s)\n",
    "        s = re.sub(\"suspensi.n\", \"suspension\", s)\n",
    "        s = re.sub(\"reconexi.n\", \"reconexion\", s)\n",
    "        s = re.sub(\"aplicaci.n\", \"aplicacion\", s)\n",
    "        s = re.sub(\"numeraci.n\", \"numeracion\", s)\n",
    "        s = re.sub(\"tel.fono\", \"telefono\", s)\n",
    "        s = re.sub(\"b.sico\", \"basico\", s)\n",
    "        s = re.sub(\"telefon.a\", \"telefonia\", s)\n",
    "        s = re.sub(\"migraci.n\", \"migracion\", s)\n",
    "        s = re.sub(\"facturaci.n\", \"facturacion\", s)\n",
    "        s = re.sub(\"correcci.n\", \"correccion\", s)\n",
    "        s = re.sub(\"aver.a\", \"averia\", s)\n",
    "        s = re.sub(\"activaci.n\", \"activacion\", s)\n",
    "        s = re.sub(\"garant.a\", \"garantia\", s)\n",
    "        s = re.sub(\"modificaci.n\", \"modificacion\", s)\n",
    "        s = re.sub(\"n.mero\", \"numero\", s)\n",
    "        s = re.sub(\"fidelizaci.n\", \"fidelizacion\", s)\n",
    "        s = re.sub(\"t.cnica\", \"tecnica\", s)\n",
    "        s = re.sub(\"gesti.n\", \"gestion\", s)\n",
    "        s = re.sub(\"reclamaci.n\", \"reclamacion\", s)\n",
    "        s = re.sub(\"planificaci.n\", \"planificacion\", s)\n",
    "        s = re.sub(\"configuraci.n\", \"configuracion\", s)\n",
    "        s = re.sub(\"reprovisi.n\", \"reprovision\", s)\n",
    "        # s = re.sub(\"\", \"\", s)\n",
    "        # s = re.sub(\"\", \"\", s)\n",
    "        return s\n"
   ]
  },
  {
   "cell_type": "code",
   "execution_count": 4,
   "metadata": {},
   "outputs": [],
   "source": [
    "def get_sla_master_df(spark):\n",
    "\n",
    "\n",
    "    convert_udf = udf(UDFconversion.convert, StringType())\n",
    "\n",
    "    df_sla = spark.read.option(\"header\", True).option(\"delimiter\", \";\").option(\"encoding\", \"utf-8\").csv \\\n",
    "        (\"/data/udf/vf_es/churn/SLA/TorreControl_SLA.csv\").where \\\n",
    "        (col(\"TITULO\").isNotNull( ) &col(\"CLASIFICACION\").isNotNull( ) &col(\"TIPO ORDEN\").isNotNull())\n",
    "    df_sla = df_sla.withColumn('TITULO', trim(lower(col('TITULO'))))\n",
    "    df_sla = df_sla.withColumn('CLASIFICACION', trim(lower(col('CLASIFICACION'))))\n",
    "    df_sla = df_sla.withColumn('TIPO ORDEN', trim(upper(col('TIPO ORDEN'))))\n",
    "    df_sla = df_sla.withColumn(\"TITULO\", convert_udf(col(\"TITULO\")))\n",
    "    df_sla = df_sla.withColumn(\"SLA Negocio presencial\", when(col(\"SLA Negocio presencial\").isNull() ,-1).otherwise(col(\"SLA Negocio presencial\")))\n",
    "    df_sla = df_sla.withColumn(\"SLA Negocio no presencial\", when(col(\"SLA Negocio no presencial\").isNull() ,-1).otherwise\n",
    "        (col(\"SLA Negocio no presencial\")))\n",
    "\n",
    "    df_sla = df_sla.withColumn(\"SLA_master\",  when( col(\"SLA Negocio presencial\").isNotNull() & col(\"SLA Negocio no presencial\").isNotNull(), greatest(col(\"SLA Negocio presencial\"), col(\"SLA Negocio no presencial\")))\n",
    "                               .when( col(\"SLA Negocio presencial\").isNotNull(), col(\"SLA Negocio presencial\"))\n",
    "                               .when( col(\"SLA Negocio no presencial\").isNotNull(), col(\"SLA Negocio no presencial\")).otherwise(-1))\n",
    "    return df_sla\n",
    "\n"
   ]
  },
  {
   "cell_type": "code",
   "execution_count": 5,
   "metadata": {},
   "outputs": [],
   "source": [
    "def get_orders_df(spark, closing_day, exclude_clasif_list=None):\n",
    "\n",
    "    convert_udf = udf(UDFconversion.convert, StringType())\n",
    "\n",
    "    from pykhaos.utils.date_functions import move_date_n_days\n",
    "    starting_day = move_date_n_days(closing_day, n=-365)\n",
    "\n",
    "    data_order_ori = (spark.read.load(\"/data/raw/vf_es/customerprofilecar/ORDERCRMOW/1.1/parquet/\")\n",
    "                      .where(col('fecha_entrada') <= closing_day)\n",
    "                      .where(col('fecha_entrada') >= starting_day)\n",
    "                      )\n",
    "\n",
    "    w_orderclass = Window().partitionBy(\"OBJID\").orderBy(desc(\"year\"), desc(\"month\"), desc(\"day\"))\n",
    "\n",
    "    data_orderclass_ori = (spark.read.load(\"/data/raw/vf_es/customerprofilecar/ORDERCLASOW/1.0/parquet/\")\n",
    "                           .where(\n",
    "        concat(col('year'), lpad(col('month'), 2, '0'), lpad(col('day'), 2, '0')) <= closing_day)\n",
    "                           .withColumn(\"rowNum\", row_number().over(w_orderclass))\n",
    "                           .where(col('rowNum') == 1)\n",
    "                           .drop(*['year', 'month', 'day'])\n",
    "                           )\n",
    "\n",
    "    w_order = Window().partitionBy(\"orden_id\").orderBy(desc(\"year\"), desc(\"month\"), desc(\"day\"))\n",
    "\n",
    "    data_orders_joined = (\n",
    "        data_order_ori.join(data_orderclass_ori, on=col('clase_orden') == col('objid'), how='leftouter')\n",
    "            .withColumn(\"rowNumorder\", row_number().over(w_order))\n",
    "            .where(col('rowNumorder') == 1)\n",
    "    )\n",
    "\n",
    "    data_orders_joined = data_orders_joined.cache()\n",
    "    print(\"before join df_customer={}\".format(data_orders_joined.count()))\n",
    "\n",
    "\n",
    "    #######\n",
    "    # Join with car to obtain NIF\n",
    "    df_customer = spark.read.load(\n",
    "        \"/data/udf/vf_es/amdocs_ids/customer/year={}/month={}/day={}\".format(int(closing_day[:4]),\n",
    "                                                                             int(closing_day[4:6]),\n",
    "                                                                             int(closing_day[6:])))\n",
    "    # keep only the num_cliente in customer table\n",
    "    data_orders_joined = data_orders_joined.join(df_customer.select(\"num_cliente\", \"NIF_CLIENTE\"), on=[\"num_cliente\"], how=\"inner\")\n",
    "\n",
    "    data_orders_joined = data_orders_joined.cache()\n",
    "    print(\"after data_orders_joined={}\".format(data_orders_joined.count()))\n",
    "\n",
    "    data_orders_joined = data_orders_joined.withColumn('X_TIPO_ORDEN', trim(upper(col('X_TIPO_ORDEN'))))\n",
    "    data_orders_joined = data_orders_joined.withColumn('x_clasificacion', trim(lower(col('x_clasificacion'))))\n",
    "    data_orders_joined = data_orders_joined.withColumn('X_Description', trim(lower(col('X_Description'))))\n",
    "    data_orders_joined = data_orders_joined.withColumn(\"X_Description\", convert_udf(col(\"X_Description\")))\n",
    "    data_orders_joined = (data_orders_joined.withColumn(\"days_since_start\", when(col(\"FECHA_ENTRADA\").isNotNull(),\n",
    "                                                                                 datediff(from_unixtime(\n",
    "                                                                                     unix_timestamp(lit(closing_day),\n",
    "                                                                                                    \"yyyyMMdd\")), col(\n",
    "                                                                                     \"FECHA_ENTRADA\"))).otherwise(-1)))\n",
    "\n",
    "    data_orders_joined = (data_orders_joined.withColumn(\"days_since_completed\", when(\n",
    "        col(\"FECHA_WO_COMPLETA\").isNotNull() & (col(\"ESTADO_FIN_WO\") == \"C\"),  # be sure is completed\n",
    "        datediff(from_unixtime(unix_timestamp(lit(closing_day),\n",
    "                                              \"yyyyMMdd\")), col(\"FECHA_WO_COMPLETA\"))).otherwise(None))\n",
    "                          # set to None, orders completed after closing_day\n",
    "                          .withColumn(\"days_since_completed\", when(col(\"days_since_completed\") < 0, None).otherwise(\n",
    "        col(\"days_since_completed\")))\n",
    "                          )\n",
    "\n",
    "    # -----[----------------]-------\n",
    "    #     a year        closing_day\n",
    "    data_orders_joined = (data_orders_joined.where((col(\"days_since_start\") <= 365) & (col(\"days_since_start\") >= 0)))\n",
    "\n",
    "    data_orders_joined = (data_orders_joined\n",
    "                          .withColumn(\"duration\",\n",
    "                                      when((col(\"days_since_start\") != -1) & (col(\"days_since_completed\").isNotNull()),\n",
    "                                           (col(\"days_since_start\") - col(\"days_since_completed\"))).otherwise(None))\n",
    "                          )\n",
    "\n",
    "    # FILTERING ENTRIES\n",
    "    # remove orders with category \"desconexion\"\n",
    "    data_orders_joined = data_orders_joined.where(~col(\"x_clasificacion\").rlike(\"(?i)desconexion\"))\n",
    "    if exclude_clasif_list:\n",
    "        for clasif in exclude_clasif_list:\n",
    "            print(clasif)\n",
    "            data_orders_joined = data_orders_joined.where(~col(\"x_clasificacion\").rlike(\"(?i){}\".format(clasif.lower())))\n",
    "            print(\"Excluded x_clasification {}\".format(clasif.lower()))\n",
    "\n",
    "    # within the category \"disminucion\", remove those that contain \"portabilidad\" y \"baja\" inside the X_Description field\n",
    "    data_orders_joined = data_orders_joined.where(~((col(\"x_clasificacion\").rlike(\"(?i)disminucion\")) &\n",
    "                                                    (col(\"X_Description\").rlike(\"(?i)portabilidad|baja|desconexion\"))))\n",
    "\n",
    "    data_orders_joined = data_orders_joined.withColumn(\"traslado\", when(col(\"X_Description\").rlike(\"(?i)traslado\"), 1).otherwise(0))\n",
    "\n",
    "    return data_orders_joined\n",
    "\n"
   ]
  },
  {
   "cell_type": "code",
   "execution_count": 6,
   "metadata": {},
   "outputs": [],
   "source": [
    "def do_merge(spark, closing_day, exclude_clasif_list, days_range):\n",
    "    data_orders_joined = get_orders_df(spark, closing_day, exclude_clasif_list)\n",
    "    df_sla = get_sla_master_df(spark)\n",
    "\n",
    "    df_order_master = data_orders_joined.join(df_sla.select(\"CLASIFICACION\", 'TIPO ORDEN', \"TITULO\", \"SLA_master\"),\n",
    "                                              on=(df_sla['TIPO ORDEN'] == data_orders_joined['X_TIPO_ORDEN']) &\n",
    "                                                 (df_sla[\"CLASIFICACION\"] == data_orders_joined[\"x_clasificacion\"]) &\n",
    "                                                 (df_sla[\"TITULO\"] == data_orders_joined['X_Description']), how=\"left\")\n",
    "\n",
    "    # keep_gt_factor_udf = udf(lambda milista, factor: list([milista[ii] for ii in range(len(milista)) if milista[ii] > factor]), ArrayType(StringType()))\n",
    "    #days_range = [30, 60, 90, 120, 180, 240, 365]\n",
    "    # remove_undefined_udf = udf(lambda milista: list([milista[ii] for ii in range(len(milista)) if milista[ii] != -1]), ArrayType(FloatType()))\n",
    "    # avg_days_bw_orders_udf = udf(lambda milista: float(np.mean([milista[ii + 1] - milista[ii] for ii in range(len(milista) - 1)])), FloatType())\n",
    "\n",
    "    # mean_udf = udf(lambda milista: float(np.mean(milista)), FloatType())\n",
    "\n",
    "    df_order = df_order_master.cache()\n",
    "\n",
    "    for dd in days_range:\n",
    "        df_order = df_order.withColumn(\"duration_last{}\".format(dd),\n",
    "                                       when((col(\"days_since_completed\") <= dd) & (col(\"days_since_completed\") != -1),\n",
    "                                            col(\"duration\")).otherwise(None))\n",
    "        print(\"CSANC109\", \"duration_last{}\".format(dd))\n",
    "        df_order = df_order.withColumn(\"SLA_factor_last{}\".format(dd),\n",
    "                                       when(col(\"duration_last{}\".format(dd)).isNotNull() & col(\n",
    "                                           \"SLA_master\").isNotNull(),\n",
    "                                            col(\"duration_last{}\".format(dd)) / col(\"SLA_master\")).otherwise(None))\n",
    "        # to ignore an order, set the column \"days_since...\" to -1. following line, set \"diff\" value of days_since_started=-1 to Null\n",
    "        # diff is the difference (in days) between an order and the next one\n",
    "        df_order = df_order.withColumn(\"diff\",\n",
    "                                       when(col(\"days_since_start\") != -1, lag(col(\"days_since_start\"), -1).over(\n",
    "                                           Window.partitionBy(\"NIF_CLIENTE\").orderBy(asc(\"days_since_start\"))) - col(\n",
    "                                           \"days_since_start\")).otherwise(None))\n",
    "\n",
    "        df_order = df_order.withColumn(\"days_since_start_traslados\",\n",
    "                                       when(col(\"traslado\") == 1, col(\"days_since_start\")).otherwise(None))\n",
    "        df_order = df_order.withColumn(\"diff_traslados\",\n",
    "                                       when(((col(\"traslado\") == 1) & (col(\"days_since_start_traslados\") != -1)),\n",
    "                                            lag(col(\"days_since_start_traslados\"), -1).over(\n",
    "                                                Window.partitionBy(\"NIF_CLIENTE\").orderBy(\n",
    "                                                    asc(\"days_since_start_traslados\"))) - col(\n",
    "                                                \"days_since_start_traslados\")).otherwise(None))\n",
    "\n",
    "    return df_order"
   ]
  },
  {
   "cell_type": "code",
   "execution_count": 7,
   "metadata": {},
   "outputs": [],
   "source": [
    "def get_orders_module(spark, closing_day, exclude_clasif_list=None, days_range=None):\n",
    "\n",
    "    print(\"get_orders_module\")\n",
    "\n",
    "    print(days_range)\n",
    "    if not days_range:\n",
    "        days_range = [30, 60, 90, 120, 180, 240, 365]\n",
    "\n",
    "    print(\"Using days_range {}\".format(\",\".join(map(str, days_range))))\n",
    "\n",
    "    df_order = do_merge(spark, closing_day, exclude_clasif_list, days_range)\n",
    "\n",
    "    factor_list = [1, 2, 3]\n",
    "\n",
    "\n",
    "    df_agg = (df_order.groupby(\"NIF_CLIENTE\").agg(*([sql_count(when(((col(\"days_since_start\") < dd) & (col(\"days_since_start\") != -1)), col(\"days_since_start\")).otherwise(None)).alias(\"nb_started_orders_last{}\".format(dd)) for dd in days_range] +\n",
    "                                                    [sql_count(when(col(\"duration_last{}\".format(dd)).isNotNull(), col(\"duration_last{}\".format(dd))).otherwise(None)).alias(\"nb_completed_orders_last{}\".format(dd)) for dd in days_range] +\n",
    "                                                    [sql_count(when(col(\"SLA_factor_last{}\".format(dd)) > ff, col(\"SLA_factor_last{}\".format(dd))).otherwise(None)).alias(\"nb_completed_orders_last{}_{}SLA\".format(dd, ff)) for dd in days_range for ff in factor_list] +\n",
    "                                                    [sql_avg(col(\"diff\")).alias(\"avg_days_bw_open_orders\")] +\n",
    "                                                    # ignore null factors (when SLA_master is null)\n",
    "                                                    [sql_avg(col(\"SLA_factor_last{}\".format(dd))).alias(\"mean_sla_factor_last{}\".format(dd)) for dd in days_range] +\n",
    "                                                    # traslados\n",
    "                                                    [sql_count(when((  (col(\"days_since_start_traslados\").isNotNull()) & (col(\"days_since_start_traslados\") < dd) ), col(\"days_since_start_traslados\")).otherwise(None)).alias(\"nb_started_orders_traslados_last{}\".format(dd)) for dd in days_range] +\n",
    "                                                    [sql_count(when( ((col(\"traslado\") == 1) & col(\"duration_last{}\".format(dd)).isNotNull()), col(\"duration_last{}\".format(dd))).otherwise(None)).alias(\"nb_completed_orders_traslados_last{}\".format(dd)) for dd in days_range] +\n",
    "                                                    [sql_count(when( ((col(\"traslado\") == 1) & (col(\"SLA_factor_last{}\".format(dd)) > ff)), col(\"SLA_factor_last{}\".format(dd))).otherwise(None)).alias(\"nb_completed_orders_traslados_last{}_{}SLA\".format(dd, ff)) for dd in days_range for ff in factor_list] +\n",
    "                                                    [sql_avg(col(\"diff_traslados\")).alias(\"avg_days_bw_open_orders_traslado\")] +\n",
    "                                                    # ignore null factors (when SLA_master is null)\n",
    "                                                    [sql_avg(when( col(\"traslado\") == 1,  col(\"SLA_factor_last{}\".format(dd))).otherwise(None)).alias(\"mean_sla_factor_traslados_last{}\".format(dd)) for dd in days_range]\n",
    "\n",
    "                                                  )))\n",
    "    return df_agg\n"
   ]
  },
  {
   "cell_type": "code",
   "execution_count": 8,
   "metadata": {},
   "outputs": [
    {
     "name": "stdout",
     "output_type": "stream",
     "text": [
      "Added '/var/SP/data/home/bgmerin1/src/Repositorios/use-cases' to path\n",
      "Added '/var/SP/data/home/bgmerin1/src/Repositorios' to path\n"
     ]
    }
   ],
   "source": [
    "def set_paths():\n",
    "    '''\n",
    "    Deployment should be something like \"dirs/dir1/use-cases\"\n",
    "    This function adds to the path \"dirs/dir1/use-cases\" and \"dirs/dir1/\"\n",
    "    :return:\n",
    "    '''\n",
    "    import imp\n",
    "    from os.path import dirname\n",
    "    import os\n",
    "    import sys\n",
    "\n",
    "    USE_CASES = \"/var/SP/data/home/bgmerin1/src/Repositorios/use-cases\"#dirname(os.path.abspath(imp.find_module('churn')[1]))\n",
    "\n",
    "    if USE_CASES not in sys.path:\n",
    "        sys.path.append(USE_CASES)\n",
    "        print(\"Added '{}' to path\".format(USE_CASES))\n",
    "\n",
    "    # if deployment is correct, this path should be the one that contains \"use-cases\", \"pykhaos\", ...\n",
    "    # FIXME another way of doing it more general?\n",
    "    DEVEL_SRC = os.path.dirname(USE_CASES)  # dir before use-cases dir\n",
    "    if DEVEL_SRC not in sys.path:\n",
    "        sys.path.append(DEVEL_SRC)\n",
    "        print(\"Added '{}' to path\".format(DEVEL_SRC))\n",
    "set_paths()"
   ]
  },
  {
   "cell_type": "code",
   "execution_count": 9,
   "metadata": {},
   "outputs": [
    {
     "name": "stdout",
     "output_type": "stream",
     "text": [
      "('pathname', '/opt/cloudera/parcels/Anaconda-2.5.0/lib/python2.7/site-packages')\n"
     ]
    },
    {
     "ename": "AttributeError",
     "evalue": "'NoneType' object has no attribute 'group'",
     "output_type": "error",
     "traceback": [
      "\u001b[0;31m\u001b[0m",
      "\u001b[0;31mAttributeError\u001b[0mTraceback (most recent call last)",
      "\u001b[0;32m<ipython-input-9-e70226ae77a2>\u001b[0m in \u001b[0;36m<module>\u001b[0;34m()\u001b[0m\n\u001b[1;32m      8\u001b[0m     \u001b[0mroot_dir\u001b[0m \u001b[0;34m=\u001b[0m \u001b[0mre\u001b[0m\u001b[0;34m.\u001b[0m\u001b[0mmatch\u001b[0m\u001b[0;34m(\u001b[0m\u001b[0;34m\"^(.*)use-cases(.*)\"\u001b[0m\u001b[0;34m,\u001b[0m \u001b[0mpathname\u001b[0m\u001b[0;34m)\u001b[0m\u001b[0;34m.\u001b[0m\u001b[0mgroup\u001b[0m\u001b[0;34m(\u001b[0m\u001b[0;36m1\u001b[0m\u001b[0;34m)\u001b[0m\u001b[0;34m\u001b[0m\u001b[0m\n\u001b[1;32m      9\u001b[0m \u001b[0;32melse\u001b[0m\u001b[0;34m:\u001b[0m\u001b[0;34m\u001b[0m\u001b[0m\n\u001b[0;32m---> 10\u001b[0;31m     \u001b[0mroot_dir\u001b[0m \u001b[0;34m=\u001b[0m \u001b[0mre\u001b[0m\u001b[0;34m.\u001b[0m\u001b[0mmatch\u001b[0m\u001b[0;34m(\u001b[0m\u001b[0;34m\"(.*)use-cases/churn(.*)\"\u001b[0m\u001b[0;34m,\u001b[0m \u001b[0mpathname\u001b[0m\u001b[0;34m)\u001b[0m\u001b[0;34m.\u001b[0m\u001b[0mgroup\u001b[0m\u001b[0;34m(\u001b[0m\u001b[0;36m1\u001b[0m\u001b[0;34m)\u001b[0m\u001b[0;34m\u001b[0m\u001b[0m\n\u001b[0m\u001b[1;32m     11\u001b[0m \u001b[0;32mprint\u001b[0m\u001b[0;34m(\u001b[0m\u001b[0;34m\"Detected '{}' as root dir\"\u001b[0m\u001b[0;34m.\u001b[0m\u001b[0mformat\u001b[0m\u001b[0;34m(\u001b[0m\u001b[0mroot_dir\u001b[0m\u001b[0;34m)\u001b[0m\u001b[0;34m)\u001b[0m\u001b[0;34m\u001b[0m\u001b[0m\n\u001b[1;32m     12\u001b[0m \u001b[0;34m\u001b[0m\u001b[0m\n",
      "\u001b[0;31mAttributeError\u001b[0m: 'NoneType' object has no attribute 'group'"
     ]
    }
   ],
   "source": [
    "import sys, os, re\n",
    "\n",
    "pathname = os.path.dirname(sys.argv[0])  # abs path to file (not included)\n",
    "print(\"pathname\", pathname)\n",
    "\n",
    "if pathname.startswith(\"/var/SP/data/bdpmdses/deliveries_churn/\"):\n",
    "    import re\n",
    "    root_dir = re.match(\"^(.*)use-cases(.*)\", pathname).group(1)\n",
    "else:\n",
    "    root_dir = re.match(\"(.*)use-cases/churn(.*)\", pathname).group(1)\n",
    "print(\"Detected '{}' as root dir\".format(root_dir))\n",
    "\n",
    "if root_dir not in sys.path:\n",
    "    sys.path.append(root_dir)\n",
    "    print(\"Added '{}' to path\".format(root_dir))\n",
    "\n",
    "mypath = os.path.join(root_dir, \"use-cases\")\n",
    "if mypath not in sys.path:\n",
    "    sys.path.append(mypath)\n",
    "    print(\"Added '{}' to path\".format(mypath))"
   ]
  },
  {
   "cell_type": "code",
   "execution_count": 10,
   "metadata": {},
   "outputs": [],
   "source": [
    "closing_day='20190521'\n",
    "exclude_clasif=None"
   ]
  },
  {
   "cell_type": "code",
   "execution_count": 11,
   "metadata": {},
   "outputs": [
    {
     "name": "stdout",
     "output_type": "stream",
     "text": [
      "Ended spark session: 39.789757967 secs | default parallelism=4\n"
     ]
    }
   ],
   "source": [
    "from churn.utils.general_functions import init_spark\n",
    "\n",
    "spark = init_spark(\"sla_data_loader_{}\".format(closing_day))"
   ]
  },
  {
   "cell_type": "code",
   "execution_count": 12,
   "metadata": {},
   "outputs": [
    {
     "name": "stdout",
     "output_type": "stream",
     "text": [
      "['20190521']\n",
      "None\n"
     ]
    }
   ],
   "source": [
    "if \",\" in closing_day:\n",
    "    closing_day_list = closing_day.split(\",\")\n",
    "else:\n",
    "    closing_day_list = [closing_day]\n",
    "\n",
    "if not exclude_clasif:\n",
    "    exclude_clasif_list = None\n",
    "elif exclude_clasif and \",\" in exclude_clasif:\n",
    "    exclude_clasif_list = exclude_clasif.split(\",\")\n",
    "else:\n",
    "    exclude_clasif_list = [exclude_clasif]\n",
    "    \n",
    "print(closing_day_list)\n",
    "print(exclude_clasif_list)"
   ]
  },
  {
   "cell_type": "code",
   "execution_count": 13,
   "metadata": {},
   "outputs": [],
   "source": [
    "days_range = [30, 60, 90, 120, 180, 240, 365]"
   ]
  },
  {
   "cell_type": "code",
   "execution_count": 14,
   "metadata": {
    "scrolled": true
   },
   "outputs": [
    {
     "name": "stdout",
     "output_type": "stream",
     "text": [
      "Using days_range 30,60,90,120,180,240,365\n",
      "before join df_customer=20760101\n",
      "after data_orders_joined=16180713\n",
      "('CSANC109', 'duration_last30')\n",
      "('CSANC109', 'duration_last60')\n",
      "('CSANC109', 'duration_last90')\n",
      "('CSANC109', 'duration_last120')\n",
      "('CSANC109', 'duration_last180')\n",
      "('CSANC109', 'duration_last240')\n",
      "('CSANC109', 'duration_last365')\n"
     ]
    }
   ],
   "source": [
    "print(\"Using days_range {}\".format(\",\".join(map(str, days_range))))\n",
    "\n",
    "df_orderM = do_merge(spark, closing_day, exclude_clasif_list, days_range)"
   ]
  },
  {
   "cell_type": "code",
   "execution_count": null,
   "metadata": {},
   "outputs": [],
   "source": [
    "df_orderM.columns"
   ]
  },
  {
   "cell_type": "code",
   "execution_count": null,
   "metadata": {},
   "outputs": [],
   "source": [
    "(df_orderM.select(['days_since_start','days_since_completed','duration','duration_last30','duration_last60','duration_last120'])\n",
    "\n",
    ".filter(col('duration')>30)\n",
    ".show())\n"
   ]
  },
  {
   "cell_type": "code",
   "execution_count": null,
   "metadata": {
    "scrolled": true
   },
   "outputs": [],
   "source": [
    "df_orderM.select('days_since_completed').distinct().sort('days_since_completed').show()\n",
    "\n"
   ]
  },
  {
   "cell_type": "code",
   "execution_count": 15,
   "metadata": {},
   "outputs": [],
   "source": [
    "df_orderM = df_orderM.withColumn(\"x_clasificacion\", trim(col(\"x_clasificacion\")))\n",
    "df_orderM = df_orderM.withColumn(\"x_clasificacion\", when(col(\"x_clasificacion\").rlike(\"ord.*administrativas\"),\n",
    "                                                          \"ord_admin\").otherwise(col(\"x_clasificacion\")))\n",
    "df_orderM = df_orderM.withColumn(\"x_clasificacion\", when(col(\"x_clasificacion\").rlike(\"ord.*equipo\"), \"ord_equipo\").otherwise(col(\"x_clasificacion\")))\n",
    "df_orderM = df_orderM.withColumn(\"x_clasificacion\", when(col(\"x_clasificacion\").rlike(\"porta.*hz\"), \"porta_hz\").otherwise(col(\"x_clasificacion\")))\n",
    "df_orderM = df_orderM.withColumn(\"x_clasificacion\", when(col(\"x_clasificacion\").rlike(\"ordenes.*especiales\"), \"ord_esp\").otherwise(col(\"x_clasificacion\")))\n"
   ]
  },
  {
   "cell_type": "code",
   "execution_count": null,
   "metadata": {},
   "outputs": [],
   "source": [
    "df_orderM.select('x_clasificacion').distinct().show()"
   ]
  },
  {
   "cell_type": "code",
   "execution_count": 16,
   "metadata": {},
   "outputs": [],
   "source": [
    "from pyspark.sql.functions import count\n",
    "\n",
    "df_orderMAttrib=df_orderM\n",
    "\n",
    "df_orderMAttrib=df_orderMAttrib.withColumn('running_days',when(col('days_since_completed').isNotNull(),col('duration')).otherwise(col('days_since_start')))\n",
    "\n",
    "df_orderMAttrib = (df_orderMAttrib.withColumn(\"SLA_factor_running\",\n",
    "                        when(col(\"running_days\").isNotNull() & col(\"SLA_master\").isNotNull(),\n",
    "                                col(\"running_days\") / col(\"SLA_master\")).otherwise(None)))\n",
    "\n",
    "columnas=['running_days','SLA_factor_running']\n",
    "\n",
    "for dd in days_range:    \n",
    "    \n",
    "    df_orderMAttrib = df_orderMAttrib.withColumn(\"Flag_open_order{}\".format(dd),\n",
    "                        when((col('days_since_completed').isNull()) & (col('running_days') < dd),1).otherwise(0))\n",
    "    \n",
    "    df_orderMAttrib = df_orderMAttrib.withColumn(\"Flag_open_order_insideSLA{}\".format(dd),\n",
    "                        when((col(\"Flag_open_order{}\".format(dd))==1) & (col('running_days') < (col('SLA_master'))),1).otherwise(0))\n",
    "    \n",
    "    df_orderMAttrib = df_orderMAttrib.withColumn(\"Flag_open_order_outsideSLA{}\".format(dd),\n",
    "                        when((col(\"Flag_open_order{}\".format(dd))==1) & (col('running_days') > (col('SLA_master'))),1).otherwise(0))\n",
    "    \n",
    "    \n",
    "    columnas.extend(['Flag_open_order{}'.format(dd)])\n",
    "    \n",
    "    #df_orderM.filter(col(\"Flag{}\".format(dd))==1).groupBy('x_clasificacion').agg(count('*')).show()\n",
    "columnas.extend(['NUM_CLIENTE','NIF_CLIENTE'])\n",
    "\n"
   ]
  },
  {
   "cell_type": "code",
   "execution_count": 17,
   "metadata": {},
   "outputs": [
    {
     "name": "stdout",
     "output_type": "stream",
     "text": [
      "Day: 30\n",
      "N Ordenes abiertas 131537\n",
      "N clientes 92265\n",
      "N Ordenes cerradas 11505691\n",
      "N clientes 2535783\n",
      "**********\n",
      "Day: 60\n",
      "N Ordenes abiertas 200852\n",
      "N clientes 142499\n",
      "N Ordenes cerradas 11436376\n",
      "N clientes 2530809\n",
      "**********\n",
      "Day: 90\n",
      "N Ordenes abiertas 235212\n",
      "N clientes 168547\n",
      "N Ordenes cerradas 11402016\n",
      "N clientes 2528200\n",
      "**********\n",
      "Day: 120\n",
      "N Ordenes abiertas 253304\n",
      "N clientes 181642\n",
      "N Ordenes cerradas 11383924\n",
      "N clientes 2527013\n",
      "**********\n",
      "Day: 180\n",
      "N Ordenes abiertas 265395\n",
      "N clientes 190560\n",
      "N Ordenes cerradas 11371833\n",
      "N clientes 2525988\n",
      "**********\n",
      "Day: 240\n",
      "N Ordenes abiertas 265395\n",
      "N clientes 190560\n",
      "N Ordenes cerradas 11371833\n",
      "N clientes 2525988\n",
      "**********\n",
      "Day: 365\n",
      "N Ordenes abiertas 265395\n",
      "N clientes 190560\n",
      "N Ordenes cerradas 11371833\n",
      "N clientes 2525988\n",
      "**********\n"
     ]
    }
   ],
   "source": [
    "days_range = [30, 60, 90, 120, 180, 240, 365]\n",
    "\n",
    "for day in days_range:\n",
    "\n",
    "    print 'Day:',day\n",
    "    print 'N Ordenes abiertas',df_orderMAttrib.filter(col('Flag_open_order'+str(day))==1).count()\n",
    "    print 'N clientes',df_orderMAttrib.filter(col('Flag_open_order'+str(day))==1).select('NIF_CLIENTE').distinct().count()\n",
    "\n",
    "    print 'N Ordenes cerradas',df_orderMAttrib.filter(col('Flag_open_order'+str(day))==0).count()\n",
    "    print 'N clientes',df_orderMAttrib.filter(col('Flag_open_order'+str(day))==0).select('NIF_CLIENTE').distinct().count()\n",
    "\n",
    "    print '**********'"
   ]
  },
  {
   "cell_type": "code",
   "execution_count": null,
   "metadata": {},
   "outputs": [],
   "source": [
    "OrderMAtpd=df_orderMAttrib.select('SLA_factor_running').toPandas()"
   ]
  },
  {
   "cell_type": "code",
   "execution_count": null,
   "metadata": {
    "scrolled": true
   },
   "outputs": [],
   "source": [
    "print(OrderMAtpd)"
   ]
  },
  {
   "cell_type": "code",
   "execution_count": null,
   "metadata": {
    "scrolled": true
   },
   "outputs": [],
   "source": [
    "fig = plt.figure(figsize=(8, 5), dpi=100)\n",
    "plt.hist(OrderMAtpd['SLA_factor_running'].dropna(),bins=30)\n",
    "plt.show()"
   ]
  },
  {
   "cell_type": "code",
   "execution_count": null,
   "metadata": {},
   "outputs": [],
   "source": [
    "df_orderMAttrib.filter((col('SLA_factor_running')>1) & (col('SLA_factor_running')<3)).select('NIF_CLIENTE').distinct().count()\n"
   ]
  },
  {
   "cell_type": "code",
   "execution_count": null,
   "metadata": {},
   "outputs": [],
   "source": [
    "df_orderMAttrib.filter((col('SLA_factor_running')>3)).select('NIF_CLIENTE').distinct().count()"
   ]
  },
  {
   "cell_type": "code",
   "execution_count": null,
   "metadata": {},
   "outputs": [],
   "source": [
    "df_orderMAttrib.filter((col('SLA_factor_running')<1)).select('NIF_CLIENTE').distinct().count()"
   ]
  },
  {
   "cell_type": "code",
   "execution_count": null,
   "metadata": {},
   "outputs": [],
   "source": [
    "df_orderMAttrib.columns"
   ]
  },
  {
   "cell_type": "code",
   "execution_count": null,
   "metadata": {},
   "outputs": [],
   "source": [
    "df_orderMAttrib.select('NUM_CLIENTE').distinct().count()"
   ]
  },
  {
   "cell_type": "code",
   "execution_count": null,
   "metadata": {},
   "outputs": [],
   "source": [
    "classif=df_orderMAttrib.select('x_clasificacion').distinct()"
   ]
  },
  {
   "cell_type": "code",
   "execution_count": null,
   "metadata": {},
   "outputs": [],
   "source": [
    "df_orderMAttrib.columns"
   ]
  },
  {
   "cell_type": "code",
   "execution_count": null,
   "metadata": {
    "scrolled": true
   },
   "outputs": [],
   "source": [
    "#df_SLA=df_orderMAttrib.select('NIF_CLIENTE').distinct()\n",
    "\n",
    "#for dd in days_range:\n",
    "    \n",
    "#    df_orderSLA=(df_orderMAttrib.filter(col('Flag_open_order_insideSLA{}'.format(dd))==1)\n",
    "#                 .groupBy('NIF_CLIENTE').pivot('x_clasificacion').agg(count('*').alias('NOrders_Opened{}_InsideSLA'.format(dd)),\n",
    "#                                                                      sql_avg(col('running_days')).alias('Avg_runningDays{}_InsideSLA'.format(dd)),\n",
    "#                                                                      sql_max(col('running_days')).alias('Max_runningDays{}_InsideSLA'.format(dd)),\n",
    "#                                                                      sql_max(col('SLA_factor_running')).alias('Max_SLAfactor{}_InsideSLA'.format(dd))\n",
    "#                                                                     ))    \n",
    "    \n",
    "#    df_SLA=df_SLA.join(df_orderSLA,['NIF_CLIENTE'],'outer')\n",
    "    \n",
    "#    df_orderISLA=(df_orderMAttrib.filter(col('Flag_open_order_outsideSLA{}'.format(dd))==1)\n",
    "#                .groupBy('NIF_CLIENTE').pivot('x_clasificacion').agg(count('*').alias('NOrders_Opened{}_OutsideSLA'.format(dd)),\n",
    "#                                                                     sql_avg(col('running_days')).alias('Avg_runningDays{}_OutsideSLA'.format(dd)),\n",
    "#                                                                     sql_max(col('running_days')).alias('Max_runningDays{}_OutsideSLA'.format(dd)),\n",
    "#                                                                    sql_max(col('SLA_factor_running')).alias('Max_SLAfactor{}_OutsideSLA'.format(dd))\n",
    " #                                                                   ))\n",
    "    \n",
    "#    df_SLA=df_SLA.join(df_orderISLA,['NIF_CLIENTE'],'outer')\n",
    "    \n",
    "#df_SLA=df_SLA.na.fill(0)"
   ]
  },
  {
   "cell_type": "code",
   "execution_count": null,
   "metadata": {},
   "outputs": [],
   "source": [
    "df_SLA.columns"
   ]
  },
  {
   "cell_type": "code",
   "execution_count": 18,
   "metadata": {},
   "outputs": [],
   "source": [
    "#df_SLA=df_orderMAttrib.select('NUM_CLIENTE').distinct()\n",
    "df_orderSLA=(df_orderMAttrib.groupBy('NIF_CLIENTE').pivot('x_clasificacion')\n",
    "             .agg(*([sql_sum(when(col('Flag_open_order_insideSLA{}'.format(dd))==1,1).otherwise(0)).alias('NOrders_Opened{}_InsideSLA'.format(dd)) for dd in days_range]+\n",
    "                    [sql_sum(when(col('Flag_open_order_outsideSLA{}'.format(dd))==1,1).otherwise(0)).alias('NOrders_Opened{}_OutsideSLA'.format(dd)) for dd in days_range]+\n",
    "                    [sql_avg(when(col('Flag_open_order_outsideSLA{}'.format(dd))==1,col('running_days')).otherwise(None)).alias('Avg_runningDays{}_OutsideSLA'.format(dd)) for dd in days_range]+\n",
    "                    [sql_avg(when(col('Flag_open_order_insideSLA{}'.format(dd))==1,col('running_days')).otherwise(None)).alias('Avg_runningDays{}_InsideSLA'.format(dd)) for dd in days_range]+\n",
    "                    [sql_max(when(col('Flag_open_order_outsideSLA{}'.format(dd))==1,col('running_days')).otherwise(0)).alias('Max_runningDays{}_OutsideSLA'.format(dd)) for dd in days_range]+\n",
    "                    [sql_max(when(col('Flag_open_order_insideSLA{}'.format(dd))==1,col('running_days')).otherwise(0)).alias('Max_runningDays{}_InsideSLA'.format(dd)) for dd in days_range]+\n",
    "                    [sql_max(when(col('Flag_open_order_outsideSLA{}'.format(dd))==1,col('SLA_factor_running')).otherwise(0)).alias('Max_SLA_factor_running{}_OutsideSLA'.format(dd)) for dd in days_range]+\n",
    "                    [sql_max(when(col('Flag_open_order_insideSLA{}'.format(dd))==1,col('SLA_factor_running')).otherwise(0)).alias('Max_SLA_factor_running{}_InsideSLA'.format(dd)) for dd in days_range]+\n",
    "                    [sql_avg(when(col('Flag_open_order_outsideSLA{}'.format(dd))==1,col('SLA_factor_running')).otherwise(None)).alias('Avg_SLA_factor_running{}_OutsideSLA'.format(dd)) for dd in days_range]+\n",
    "                    [sql_avg(when(col('Flag_open_order_insideSLA{}'.format(dd))==1,col('SLA_factor_running')).otherwise(None)).alias('Avg_SLA_factor_running{}_InsideSLA'.format(dd)) for dd in days_range]\n",
    "                    \n",
    "                   ))\n",
    "                      \n",
    "            )\n",
    "\n",
    "#df_orderSLA=df_orderSLA.na.fill(0)   \n",
    "\n"
   ]
  },
  {
   "cell_type": "code",
   "execution_count": null,
   "metadata": {},
   "outputs": [],
   "source": [
    "dfMaxLabeled=(df_orderSLA.withColumn('Avg_'+str(day),greatest(*selColumns)).select(['nif_cliente','Avg_'+str(day)]))\n",
    "\n",
    "\n"
   ]
  },
  {
   "cell_type": "code",
   "execution_count": null,
   "metadata": {},
   "outputs": [],
   "source": [
    "dfMaxLabeled.count()"
   ]
  },
  {
   "cell_type": "code",
   "execution_count": null,
   "metadata": {},
   "outputs": [],
   "source": [
    "dfMaxLabeled.filter(col('Avg_30')<1).count()"
   ]
  },
  {
   "cell_type": "code",
   "execution_count": null,
   "metadata": {},
   "outputs": [],
   "source": [
    "dfMaxLabeled.filter((col('Avg_30')>1) & (col('Avg_30')<3)).count()"
   ]
  },
  {
   "cell_type": "code",
   "execution_count": null,
   "metadata": {},
   "outputs": [],
   "source": [
    "dfMaxLabeled.filter(col('Avg_30')>3).count()"
   ]
  },
  {
   "cell_type": "code",
   "execution_count": null,
   "metadata": {},
   "outputs": [],
   "source": [
    "#df_SLA=df_orderMAttrib.select('NUM_CLIENTE').distinct()\n",
    "df_orderSLA_prev=(df_orderMAttrib.groupBy('NIF_CLIENTE')\n",
    "             .agg(*([sql_max(when(col('Flag_open_order_outsideSLA{}'.format(dd)) == 1,col('running_days')).otherwise(0)).alias('Max_runningDays{}_OutsideSLA'.format(dd)) for dd in days_range[:1]] +\n",
    "                    [sql_max(when(col('Flag_open_order_insideSLA{}'.format(dd)) == 1,col('running_days')).otherwise(0)).alias('Max_runningDays{}_InsideSLA'.format(dd)) for dd in days_range[:1]] +\n",
    "                    [sql_avg(when(col('Flag_open_order_outsideSLA{}'.format(dd))==1,col('SLA_factor_running')).otherwise(None)).alias('Avg_SLA_factor_running{}_OutsideSLA'.format(dd)) for dd in days_range[:1]]+\n",
    "                    [sql_avg(when(col('Flag_open_order_insideSLA{}'.format(dd))==1,col('SLA_factor_running')).otherwise(None)).alias('Avg_SLA_factor_running{}_InsideSLA'.format(dd)) for dd in days_range[:1]]+\n",
    "                    [sql_min(when(col('Flag_open_order_outsideSLA{}'.format(dd)) == 1,col('running_days')).otherwise(0)).alias('Min_runningDays{}_OutsideSLA'.format(dd)) for dd in days_range[:1]] +\n",
    "                    [sql_min(when(col('Flag_open_order_insideSLA{}'.format(dd)) == 1,col('running_days')).otherwise(0)).alias('Min_runningDays{}_InsideSLA'.format(dd)) for dd in days_range[:1]]\n",
    "\n",
    "                   ))\n",
    "                      \n",
    "            )"
   ]
  },
  {
   "cell_type": "code",
   "execution_count": 25,
   "metadata": {},
   "outputs": [],
   "source": [
    "#df_SLA=df_orderMAttrib.select('NUM_CLIENTE').distinct()\n",
    "df_orderSLA2=(df_orderMAttrib.groupBy('NIF_CLIENTE').pivot('x_clasificacion')\n",
    "             .agg(*([sql_max(when(col('Flag_open_order_outsideSLA{}'.format(dd)) == 1,col('running_days')).otherwise(0)).alias('Max_runningDays{}_OutsideSLA'.format(dd)) for dd in days_range[:1]] +\n",
    "                    [sql_max(when(col('Flag_open_order_insideSLA{}'.format(dd)) == 1,col('running_days')).otherwise(0)).alias('Max_runningDays{}_InsideSLA'.format(dd)) for dd in days_range[:1]] +\n",
    "                    [sql_avg(when(col('Flag_open_order_outsideSLA{}'.format(dd))==1,col('SLA_factor_running')).otherwise(None)).alias('Avg_SLA_factor_running{}_OutsideSLA'.format(dd)) for dd in days_range[:1]]+\n",
    "                    [sql_avg(when(col('Flag_open_order_insideSLA{}'.format(dd))==1,col('SLA_factor_running')).otherwise(None)).alias('Avg_SLA_factor_running{}_InsideSLA'.format(dd)) for dd in days_range[:1]]+\n",
    "                    [sql_min(when(col('Flag_open_order_outsideSLA{}'.format(dd)) == 1,col('SLA_factor_running')).otherwise(0)).alias('Min_SLA_factor_running{}_OutsideSLA'.format(dd)) for dd in days_range[:1]] +\n",
    "                    [sql_min(when(col('Flag_open_order_insideSLA{}'.format(dd)) == 1,col('SLA_factor_running')).otherwise(0)).alias('Min_SLA_factor_running{}_InsideSLA'.format(dd)) for dd in days_range[:1]]\n",
    "                   ))\n",
    "                      \n",
    "            )\n",
    "\n",
    "df_orderSLA2=df_orderSLA2.na.fill(-1)"
   ]
  },
  {
   "cell_type": "code",
   "execution_count": null,
   "metadata": {
    "scrolled": true
   },
   "outputs": [],
   "source": [
    "df_orderSLA_prev.select(['NIF_CLIENTE','Min_runningDays30_OutsideSLA','Max_runningDays30_OutsideSLA','Avg_SLA_factor_running30_OutsideSLA']).filter(col('Max_runningDays30_OutsideSLA')>0).show(50,False)\n",
    "\n",
    "\n"
   ]
  },
  {
   "cell_type": "code",
   "execution_count": 26,
   "metadata": {
    "scrolled": true
   },
   "outputs": [
    {
     "name": "stdout",
     "output_type": "stream",
     "text": [
      "+---------------+------------------+----------+--------+------------+--------------------+----------------+---------------------------+----------------------------+----------------------------+\n",
      "|x_clasificacion|SLA_factor_running|SLA_master|duration|running_days|days_since_completed|days_since_start|Flag_open_order_insideSLA30|Flag_open_order_outsideSLA30|Flag_open_order_outsideSLA60|\n",
      "+---------------+------------------+----------+--------+------------+--------------------+----------------+---------------------------+----------------------------+----------------------------+\n",
      "|      ord_admin|               0.0|         1|       0|           0|                  68|              68|                          0|                           0|                           0|\n",
      "|        aumento|              0.75|         4|       3|           3|                   4|               7|                          0|                           0|                           0|\n",
      "|         cambio|               0.0|         1|       0|           0|                  68|              68|                          0|                           0|                           0|\n",
      "|        aumento|               0.0|         4|       0|           0|                   7|               7|                          0|                           0|                           0|\n",
      "|      ord_admin|               0.0|         1|       0|           0|                   7|               7|                          0|                           0|                           0|\n",
      "|      ord_admin|               3.0|         1|       3|           3|                   1|               4|                          0|                           0|                           0|\n",
      "|      ord_admin|               0.0|         1|       0|           0|                  27|              27|                          0|                           0|                           0|\n",
      "|        aumento|               0.0|         4|       0|           0|                   7|               7|                          0|                           0|                           0|\n",
      "|      ord_admin|               0.0|         1|       0|           0|                  68|              68|                          0|                           0|                           0|\n",
      "|        aumento| 6.833333333333333|         6|    null|          41|                null|              41|                          0|                           0|                           1|\n",
      "|        aumento|               0.0|         4|       0|           0|                   7|               7|                          0|                           0|                           0|\n",
      "|      ord_admin|               0.0|         1|       0|           0|                   4|               4|                          0|                           0|                           0|\n",
      "|      ord_admin|               0.0|         1|       0|           0|                  41|              41|                          0|                           0|                           0|\n",
      "|      ord_admin|               0.0|         1|       0|           0|                  27|              27|                          0|                           0|                           0|\n",
      "|         cambio|              17.0|         1|      17|          17|                  51|              68|                          0|                           0|                           0|\n",
      "|        aumento|              0.75|         4|       3|           3|                   4|               7|                          0|                           0|                           0|\n",
      "|        aumento|               0.0|         4|       0|           0|                   7|               7|                          0|                           0|                           0|\n",
      "|      ord_admin|               0.0|         1|       0|           0|                   1|               1|                          0|                           0|                           0|\n",
      "|        aumento|              0.75|         4|       3|           3|                   4|               7|                          0|                           0|                           0|\n",
      "|        aumento|              1.75|         4|    null|           7|                null|               7|                          0|                           1|                           1|\n",
      "+---------------+------------------+----------+--------+------------+--------------------+----------------+---------------------------+----------------------------+----------------------------+\n",
      "\n"
     ]
    }
   ],
   "source": [
    "nif='09755682O'#'02710100O'#'09755682O'#'18867804T'\n",
    "colSel=['x_clasificacion','SLA_factor_running','SLA_master','duration','running_days','days_since_completed','days_since_start','Flag_open_order_insideSLA30','Flag_open_order_outsideSLA30','Flag_open_order_outsideSLA60']\n",
    "df_orderMAttrib.select(colSel).filter(col('NIF_CLIENTE')==nif).show()\n",
    "\n"
   ]
  },
  {
   "cell_type": "code",
   "execution_count": 27,
   "metadata": {},
   "outputs": [
    {
     "name": "stdout",
     "output_type": "stream",
     "text": [
      "Range Day: 30\n"
     ]
    }
   ],
   "source": [
    "day=30\n",
    "print 'Range Day:',day\n",
    "selColumns=[]\n",
    "for column in df_orderSLA2.columns:\n",
    "    if ('Avg_SLA_factor_running'+str(day) in column):# and ('Outside' in column):\n",
    "        selColumns.append(column)\n"
   ]
  },
  {
   "cell_type": "code",
   "execution_count": 28,
   "metadata": {},
   "outputs": [
    {
     "name": "stdout",
     "output_type": "stream",
     "text": [
      "+-------------------------------------------+------------------------------------------+------------------------------------------+-----------------------------------------+----------------------------------------------+---------------------------------------------+-----------------------------------------------+----------------------------------------------+-----------------------------------------------+----------------------------------------------+---------------------------------------------+--------------------------------------------+---------------------------------------------+--------------------------------------------+----------------------------------------------+---------------------------------------------+-------------------------------------------+------------------------------------------+--------------------------------------------+-------------------------------------------+----------------------------------------------+---------------------------------------------+\n",
      "|aumento_Avg_SLA_factor_running30_OutsideSLA|aumento_Avg_SLA_factor_running30_InsideSLA|cambio_Avg_SLA_factor_running30_OutsideSLA|cambio_Avg_SLA_factor_running30_InsideSLA|devolucion_Avg_SLA_factor_running30_OutsideSLA|devolucion_Avg_SLA_factor_running30_InsideSLA|disminucion_Avg_SLA_factor_running30_OutsideSLA|disminucion_Avg_SLA_factor_running30_InsideSLA|instalacion_Avg_SLA_factor_running30_OutsideSLA|instalacion_Avg_SLA_factor_running30_InsideSLA|migracion_Avg_SLA_factor_running30_OutsideSLA|migracion_Avg_SLA_factor_running30_InsideSLA|ord_admin_Avg_SLA_factor_running30_OutsideSLA|ord_admin_Avg_SLA_factor_running30_InsideSLA|ord_equipo_Avg_SLA_factor_running30_OutsideSLA|ord_equipo_Avg_SLA_factor_running30_InsideSLA|ord_esp_Avg_SLA_factor_running30_OutsideSLA|ord_esp_Avg_SLA_factor_running30_InsideSLA|porta_hz_Avg_SLA_factor_running30_OutsideSLA|porta_hz_Avg_SLA_factor_running30_InsideSLA|reconexion_Avg_SLA_factor_running30_OutsideSLA|reconexion_Avg_SLA_factor_running30_InsideSLA|\n",
      "+-------------------------------------------+------------------------------------------+------------------------------------------+-----------------------------------------+----------------------------------------------+---------------------------------------------+-----------------------------------------------+----------------------------------------------+-----------------------------------------------+----------------------------------------------+---------------------------------------------+--------------------------------------------+---------------------------------------------+--------------------------------------------+----------------------------------------------+---------------------------------------------+-------------------------------------------+------------------------------------------+--------------------------------------------+-------------------------------------------+----------------------------------------------+---------------------------------------------+\n",
      "|                                       1.75|                                      -1.0|                                      -1.0|                                     -1.0|                                          -1.0|                                         -1.0|                                           -1.0|                                          -1.0|                                           -1.0|                                          -1.0|                                         -1.0|                                        -1.0|                                         -1.0|                                        -1.0|                                          -1.0|                                         -1.0|                                       -1.0|                                      -1.0|                                        -1.0|                                       -1.0|                                          -1.0|                                         -1.0|\n",
      "+-------------------------------------------+------------------------------------------+------------------------------------------+-----------------------------------------+----------------------------------------------+---------------------------------------------+-----------------------------------------------+----------------------------------------------+-----------------------------------------------+----------------------------------------------+---------------------------------------------+--------------------------------------------+---------------------------------------------+--------------------------------------------+----------------------------------------------+---------------------------------------------+-------------------------------------------+------------------------------------------+--------------------------------------------+-------------------------------------------+----------------------------------------------+---------------------------------------------+\n",
      "\n"
     ]
    }
   ],
   "source": [
    "df_orderSLA2.select(selColumns).filter(col('NIF_CLIENTE')==nif).show()\n"
   ]
  },
  {
   "cell_type": "code",
   "execution_count": 29,
   "metadata": {},
   "outputs": [
    {
     "name": "stdout",
     "output_type": "stream",
     "text": [
      "+-----------+------+\n",
      "|nif_cliente|Max_30|\n",
      "+-----------+------+\n",
      "|  09755682O|  1.75|\n",
      "+-----------+------+\n",
      "\n"
     ]
    }
   ],
   "source": [
    "dfMaxLabeled2=(df_orderSLA2.withColumn('Max_30',greatest(*selColumns)).select(['nif_cliente','Max_30']))\n",
    "dfMaxLabeled2.filter(col('NIF_CLIENTE')==nif).show()"
   ]
  },
  {
   "cell_type": "code",
   "execution_count": 30,
   "metadata": {},
   "outputs": [
    {
     "name": "stdout",
     "output_type": "stream",
     "text": [
      "+-----------+------+\n",
      "|nif_cliente|Min_30|\n",
      "+-----------+------+\n",
      "|  09755682O|  -1.0|\n",
      "+-----------+------+\n",
      "\n"
     ]
    }
   ],
   "source": [
    "dfMinLabeled=(df_orderSLA2.withColumn('Min_30',least(*selColumns)).select(['nif_cliente','Min_30']))\n",
    "dfMinLabeled.filter(col('NIF_CLIENTE')==nif).show()"
   ]
  },
  {
   "cell_type": "code",
   "execution_count": null,
   "metadata": {},
   "outputs": [],
   "source": [
    "day=30\n",
    "print 'Range Day:',day\n",
    "selColumnsInside=[]\n",
    "selColumnsOutside=[]\n",
    "selColumns=[]\n",
    "for column in df_orderSLA2.columns:\n",
    "    if (('Inside' in column) and ('Avg' in column)):# and ('Outside' in column):\n",
    "        selColumnsInside.append(column)\n",
    "    \n",
    "    if (('Outside' in column) and ('Avg' in column)):# and ('Outside' in column):\n",
    "        selColumnsOutside.append(column)\n",
    "        \n",
    "    if ('Avg' in column):# and ('Outside' in column):\n",
    "        selColumns.append(column)"
   ]
  },
  {
   "cell_type": "code",
   "execution_count": null,
   "metadata": {},
   "outputs": [],
   "source": [
    "selColumnsOutside"
   ]
  },
  {
   "cell_type": "code",
   "execution_count": 32,
   "metadata": {},
   "outputs": [],
   "source": [
    "remove_undefined_udf = udf(lambda milista: list([milista[ii] for ii in range(len(milista)) if milista[ii] !=None]), ArrayType(FloatType()))\n",
    "mean_udf = udf(lambda milista: float(np.mean(milista)), FloatType())\n",
    "\n"
   ]
  },
  {
   "cell_type": "code",
   "execution_count": 33,
   "metadata": {
    "scrolled": true
   },
   "outputs": [
    {
     "name": "stdout",
     "output_type": "stream",
     "text": [
      "+-----------+------------------------------------+-----------------------------------+-------------------------------------------+------------------------------------------+-------------------------------------------+------------------------------------------+-----------------------------------+----------------------------------+------------------------------------------+-----------------------------------------+------------------------------------------+-----------------------------------------+---------------------------------------+--------------------------------------+----------------------------------------------+---------------------------------------------+----------------------------------------------+---------------------------------------------+----------------------------------------+---------------------------------------+-----------------------------------------------+----------------------------------------------+-----------------------------------------------+----------------------------------------------+----------------------------------------+---------------------------------------+-----------------------------------------------+----------------------------------------------+-----------------------------------------------+----------------------------------------------+--------------------------------------+-------------------------------------+---------------------------------------------+--------------------------------------------+---------------------------------------------+--------------------------------------------+--------------------------------------+-------------------------------------+---------------------------------------------+--------------------------------------------+---------------------------------------------+--------------------------------------------+---------------------------------------+--------------------------------------+----------------------------------------------+---------------------------------------------+----------------------------------------------+---------------------------------------------+------------------------------------+-----------------------------------+-------------------------------------------+------------------------------------------+-------------------------------------------+------------------------------------------+-------------------------------------+------------------------------------+--------------------------------------------+-------------------------------------------+--------------------------------------------+-------------------------------------------+---------------------------------------+--------------------------------------+----------------------------------------------+---------------------------------------------+----------------------------------------------+---------------------------------------------+--------------------+--------------------+------+\n",
      "|NIF_CLIENTE|aumento_Max_runningDays30_OutsideSLA|aumento_Max_runningDays30_InsideSLA|aumento_Avg_SLA_factor_running30_OutsideSLA|aumento_Avg_SLA_factor_running30_InsideSLA|aumento_Min_SLA_factor_running30_OutsideSLA|aumento_Min_SLA_factor_running30_InsideSLA|cambio_Max_runningDays30_OutsideSLA|cambio_Max_runningDays30_InsideSLA|cambio_Avg_SLA_factor_running30_OutsideSLA|cambio_Avg_SLA_factor_running30_InsideSLA|cambio_Min_SLA_factor_running30_OutsideSLA|cambio_Min_SLA_factor_running30_InsideSLA|devolucion_Max_runningDays30_OutsideSLA|devolucion_Max_runningDays30_InsideSLA|devolucion_Avg_SLA_factor_running30_OutsideSLA|devolucion_Avg_SLA_factor_running30_InsideSLA|devolucion_Min_SLA_factor_running30_OutsideSLA|devolucion_Min_SLA_factor_running30_InsideSLA|disminucion_Max_runningDays30_OutsideSLA|disminucion_Max_runningDays30_InsideSLA|disminucion_Avg_SLA_factor_running30_OutsideSLA|disminucion_Avg_SLA_factor_running30_InsideSLA|disminucion_Min_SLA_factor_running30_OutsideSLA|disminucion_Min_SLA_factor_running30_InsideSLA|instalacion_Max_runningDays30_OutsideSLA|instalacion_Max_runningDays30_InsideSLA|instalacion_Avg_SLA_factor_running30_OutsideSLA|instalacion_Avg_SLA_factor_running30_InsideSLA|instalacion_Min_SLA_factor_running30_OutsideSLA|instalacion_Min_SLA_factor_running30_InsideSLA|migracion_Max_runningDays30_OutsideSLA|migracion_Max_runningDays30_InsideSLA|migracion_Avg_SLA_factor_running30_OutsideSLA|migracion_Avg_SLA_factor_running30_InsideSLA|migracion_Min_SLA_factor_running30_OutsideSLA|migracion_Min_SLA_factor_running30_InsideSLA|ord_admin_Max_runningDays30_OutsideSLA|ord_admin_Max_runningDays30_InsideSLA|ord_admin_Avg_SLA_factor_running30_OutsideSLA|ord_admin_Avg_SLA_factor_running30_InsideSLA|ord_admin_Min_SLA_factor_running30_OutsideSLA|ord_admin_Min_SLA_factor_running30_InsideSLA|ord_equipo_Max_runningDays30_OutsideSLA|ord_equipo_Max_runningDays30_InsideSLA|ord_equipo_Avg_SLA_factor_running30_OutsideSLA|ord_equipo_Avg_SLA_factor_running30_InsideSLA|ord_equipo_Min_SLA_factor_running30_OutsideSLA|ord_equipo_Min_SLA_factor_running30_InsideSLA|ord_esp_Max_runningDays30_OutsideSLA|ord_esp_Max_runningDays30_InsideSLA|ord_esp_Avg_SLA_factor_running30_OutsideSLA|ord_esp_Avg_SLA_factor_running30_InsideSLA|ord_esp_Min_SLA_factor_running30_OutsideSLA|ord_esp_Min_SLA_factor_running30_InsideSLA|porta_hz_Max_runningDays30_OutsideSLA|porta_hz_Max_runningDays30_InsideSLA|porta_hz_Avg_SLA_factor_running30_OutsideSLA|porta_hz_Avg_SLA_factor_running30_InsideSLA|porta_hz_Min_SLA_factor_running30_OutsideSLA|porta_hz_Min_SLA_factor_running30_InsideSLA|reconexion_Max_runningDays30_OutsideSLA|reconexion_Max_runningDays30_InsideSLA|reconexion_Avg_SLA_factor_running30_OutsideSLA|reconexion_Avg_SLA_factor_running30_InsideSLA|reconexion_Min_SLA_factor_running30_OutsideSLA|reconexion_Min_SLA_factor_running30_InsideSLA|           arrayList|      arrayListClean|Avg_30|\n",
      "+-----------+------------------------------------+-----------------------------------+-------------------------------------------+------------------------------------------+-------------------------------------------+------------------------------------------+-----------------------------------+----------------------------------+------------------------------------------+-----------------------------------------+------------------------------------------+-----------------------------------------+---------------------------------------+--------------------------------------+----------------------------------------------+---------------------------------------------+----------------------------------------------+---------------------------------------------+----------------------------------------+---------------------------------------+-----------------------------------------------+----------------------------------------------+-----------------------------------------------+----------------------------------------------+----------------------------------------+---------------------------------------+-----------------------------------------------+----------------------------------------------+-----------------------------------------------+----------------------------------------------+--------------------------------------+-------------------------------------+---------------------------------------------+--------------------------------------------+---------------------------------------------+--------------------------------------------+--------------------------------------+-------------------------------------+---------------------------------------------+--------------------------------------------+---------------------------------------------+--------------------------------------------+---------------------------------------+--------------------------------------+----------------------------------------------+---------------------------------------------+----------------------------------------------+---------------------------------------------+------------------------------------+-----------------------------------+-------------------------------------------+------------------------------------------+-------------------------------------------+------------------------------------------+-------------------------------------+------------------------------------+--------------------------------------------+-------------------------------------------+--------------------------------------------+-------------------------------------------+---------------------------------------+--------------------------------------+----------------------------------------------+---------------------------------------------+----------------------------------------------+---------------------------------------------+--------------------+--------------------+------+\n",
      "|  09755682O|                                   7|                                  0|                                       1.75|                                      -1.0|                                        0.0|                                       0.0|                                  0|                                 0|                                      -1.0|                                     -1.0|                                       0.0|                                      0.0|                                     -1|                                    -1|                                          -1.0|                                         -1.0|                                          -1.0|                                         -1.0|                                      -1|                                     -1|                                           -1.0|                                          -1.0|                                           -1.0|                                          -1.0|                                      -1|                                     -1|                                           -1.0|                                          -1.0|                                           -1.0|                                          -1.0|                                    -1|                                   -1|                                         -1.0|                                        -1.0|                                         -1.0|                                        -1.0|                                     0|                                    0|                                         -1.0|                                        -1.0|                                          0.0|                                         0.0|                                     -1|                                    -1|                                          -1.0|                                         -1.0|                                          -1.0|                                         -1.0|                                  -1|                                 -1|                                       -1.0|                                      -1.0|                                       -1.0|                                      -1.0|                                   -1|                                  -1|                                        -1.0|                                       -1.0|                                        -1.0|                                       -1.0|                                     -1|                                    -1|                                          -1.0|                                         -1.0|                                          -1.0|                                         -1.0|[1.75, -1.0, -1.0...|[1.75, -1.0, -1.0...|-0.875|\n",
      "+-----------+------------------------------------+-----------------------------------+-------------------------------------------+------------------------------------------+-------------------------------------------+------------------------------------------+-----------------------------------+----------------------------------+------------------------------------------+-----------------------------------------+------------------------------------------+-----------------------------------------+---------------------------------------+--------------------------------------+----------------------------------------------+---------------------------------------------+----------------------------------------------+---------------------------------------------+----------------------------------------+---------------------------------------+-----------------------------------------------+----------------------------------------------+-----------------------------------------------+----------------------------------------------+----------------------------------------+---------------------------------------+-----------------------------------------------+----------------------------------------------+-----------------------------------------------+----------------------------------------------+--------------------------------------+-------------------------------------+---------------------------------------------+--------------------------------------------+---------------------------------------------+--------------------------------------------+--------------------------------------+-------------------------------------+---------------------------------------------+--------------------------------------------+---------------------------------------------+--------------------------------------------+---------------------------------------+--------------------------------------+----------------------------------------------+---------------------------------------------+----------------------------------------------+---------------------------------------------+------------------------------------+-----------------------------------+-------------------------------------------+------------------------------------------+-------------------------------------------+------------------------------------------+-------------------------------------+------------------------------------+--------------------------------------------+-------------------------------------------+--------------------------------------------+-------------------------------------------+---------------------------------------+--------------------------------------+----------------------------------------------+---------------------------------------------+----------------------------------------------+---------------------------------------------+--------------------+--------------------+------+\n",
      "\n"
     ]
    }
   ],
   "source": [
    "# Todas las columnas\n",
    "df_orderSLA3=df_orderSLA2.withColumn('arrayList', array([col_ for col_ in selColumns]))\n",
    "df_orderSLA4=df_orderSLA3.withColumn('arrayListClean', remove_undefined_udf('arrayList'))\n",
    "\n",
    "\n",
    "dfAvgLabeled=(df_orderSLA4.withColumn('Avg_30', mean_udf(col('arrayListClean'))))\n",
    "dfAvgLabeled.filter(col('NIF_CLIENTE')==nif).show()\n"
   ]
  },
  {
   "cell_type": "code",
   "execution_count": null,
   "metadata": {},
   "outputs": [],
   "source": [
    "# Inside\n",
    "df_orderSLA3=df_orderSLA2.withColumn('arrayList', array([col_ for col_ in selColumnsInside]))\n",
    "df_orderSLA4=df_orderSLA3.withColumn('arrayListClean', remove_undefined_udf('arrayList'))\n",
    "\n",
    "\n",
    "dfAvgLabeled2=(df_orderSLA4.withColumn('Avg_30', mean_udf(col('arrayListClean'))))\n",
    "dfAvgLabeled2.filter(col('NIF_CLIENTE')==nif).show()"
   ]
  },
  {
   "cell_type": "code",
   "execution_count": null,
   "metadata": {},
   "outputs": [],
   "source": [
    "# Outside\n",
    "df_orderSLA3=df_orderSLA2.withColumn('arrayList', array([col_ for col_ in selColumnsOutside]))\n",
    "df_orderSLA4=df_orderSLA3.withColumn('arrayListClean', remove_undefined_udf('arrayList'))\n",
    "\n",
    "\n",
    "dfAvgLabeled2=(df_orderSLA4.withColumn('Avg_30', mean_udf(col('arrayListClean'))))\n",
    "dfAvgLabeled2.filter(col('NIF_CLIENTE')==nif).show()"
   ]
  },
  {
   "cell_type": "code",
   "execution_count": 42,
   "metadata": {},
   "outputs": [
    {
     "name": "stdout",
     "output_type": "stream",
     "text": [
      "(42379, 9274, 29477)\n"
     ]
    }
   ],
   "source": [
    "dfMaxLabeled2C=dfMaxLabeled2.filter(col('Max_30')>-1)#dropna(subset='Max_30')\n",
    "\n",
    "print (dfMaxLabeled2C.filter(col('Max_30')<1).count(),\n",
    "       dfMaxLabeled2C.filter((col('Max_30')>1) & (col('Max_30')<3)).count(),\n",
    "       dfMaxLabeled2C.filter(col('Max_30')>3).count())\n",
    "\n"
   ]
  },
  {
   "cell_type": "code",
   "execution_count": 41,
   "metadata": {},
   "outputs": [
    {
     "name": "stdout",
     "output_type": "stream",
     "text": [
      "+-----------+------+\n",
      "|nif_cliente|Max_30|\n",
      "+-----------+------+\n",
      "|  33322399W|  -1.0|\n",
      "|  BM4384667|  -1.0|\n",
      "|  86088097U|  -1.0|\n",
      "|  91154223O|  -1.0|\n",
      "|  09441256H|  -1.0|\n",
      "|  76387070A|  -1.0|\n",
      "|  61957171G|  -1.0|\n",
      "|  368291273|  -1.0|\n",
      "|  41661364E|  -1.0|\n",
      "|  48793716P|  -1.0|\n",
      "|  57194284O|  -1.0|\n",
      "|  71384428O|  -1.0|\n",
      "|  97470524K|  -1.0|\n",
      "|  83163847Z|  -1.0|\n",
      "|  15004776I|  -1.0|\n",
      "|  19925584Y|  -1.0|\n",
      "|  28615985U|  -1.0|\n",
      "|  Y2866822S|  -1.0|\n",
      "|  J55384763|  -1.0|\n",
      "|  99754069L|  -1.0|\n",
      "+-----------+------+\n",
      "only showing top 20 rows\n",
      "\n"
     ]
    }
   ],
   "source": [
    "dfMaxLabeled2C.filter(col('Max_30')<0).show()"
   ]
  },
  {
   "cell_type": "code",
   "execution_count": 39,
   "metadata": {},
   "outputs": [
    {
     "data": {
      "text/plain": [
       "30638"
      ]
     },
     "execution_count": 39,
     "metadata": {},
     "output_type": "execute_result"
    }
   ],
   "source": [
    "dfMaxLabeled2C.filter((col('Max_30')>0) & (col('Max_30')<1)).count()"
   ]
  },
  {
   "cell_type": "code",
   "execution_count": null,
   "metadata": {},
   "outputs": [],
   "source": [
    "dfMaxLabeled2C.select(['NIF_CLIENTE','Max_30']).filter(col('Max_30')>3).show()"
   ]
  },
  {
   "cell_type": "code",
   "execution_count": null,
   "metadata": {},
   "outputs": [],
   "source": [
    "dfMaxLabeled2C.select(['NIF_CLIENTE','Max_30']).filter(col('Max_30')>3).count()"
   ]
  },
  {
   "cell_type": "code",
   "execution_count": null,
   "metadata": {},
   "outputs": [],
   "source": [
    "maxPd=dfMaxLabeled2C.select(['NIF_CLIENTE','Max_30']).toPandas()"
   ]
  },
  {
   "cell_type": "code",
   "execution_count": null,
   "metadata": {
    "scrolled": false
   },
   "outputs": [],
   "source": [
    "fig = plt.figure(figsize=(8, 5), dpi=100)\n",
    "plt.hist(maxPd['Max_30'],bins=30)\n",
    "plt.show()\n",
    "\n"
   ]
  },
  {
   "cell_type": "code",
   "execution_count": null,
   "metadata": {},
   "outputs": [],
   "source": []
  },
  {
   "cell_type": "code",
   "execution_count": null,
   "metadata": {},
   "outputs": [],
   "source": [
    "\n",
    "df_orderMAttrib.select(colSel).filter(col('NIF_CLIENTE')=='85309487B').show()\n"
   ]
  },
  {
   "cell_type": "code",
   "execution_count": null,
   "metadata": {},
   "outputs": [],
   "source": [
    "dfMinLabeledC=dfMinLabeled.dropna(subset='Min_30')\n",
    "\n",
    "print (dfMinLabeledC.filter(col('Min_30')<1).count(),\n",
    "       dfMinLabeledC.filter((col('Min_30')>1) & (col('Min_30')<3)).count(),\n",
    "       dfMinLabeledC.filter(col('Min_30')>3).count())"
   ]
  },
  {
   "cell_type": "code",
   "execution_count": null,
   "metadata": {},
   "outputs": [],
   "source": [
    "dfAvgLabeled2.filter(col('NIF_CLIENTE')==nif).show()"
   ]
  },
  {
   "cell_type": "code",
   "execution_count": null,
   "metadata": {},
   "outputs": [],
   "source": [
    "dfAvgLabeled2C=dfAvgLabeled2.dropna(subset='Avg_30')\n",
    "\n",
    "print (dfAvgLabeled2C.filter(col('Avg_30')<1).count(),\n",
    "       dfAvgLabeled2C.filter((col('Avg_30')>1) & (col('Avg_30')<3)).count(),\n",
    "       dfAvgLabeled2C.filter(col('Avg_30')>3).count())"
   ]
  },
  {
   "cell_type": "code",
   "execution_count": null,
   "metadata": {},
   "outputs": [],
   "source": [
    "dfAvgLabeled2C.select(['NIF_CLIENTE','Avg_30']).filter(col('Avg_30')>3).show()"
   ]
  },
  {
   "cell_type": "code",
   "execution_count": null,
   "metadata": {},
   "outputs": [],
   "source": [
    "dfAvgLabeled2C.select(['Avg_30']).distinct().sort(col('Avg_30').desc()).show()"
   ]
  },
  {
   "cell_type": "code",
   "execution_count": null,
   "metadata": {},
   "outputs": [],
   "source": []
  },
  {
   "cell_type": "code",
   "execution_count": null,
   "metadata": {},
   "outputs": [],
   "source": []
  },
  {
   "cell_type": "code",
   "execution_count": null,
   "metadata": {},
   "outputs": [],
   "source": []
  },
  {
   "cell_type": "code",
   "execution_count": null,
   "metadata": {},
   "outputs": [],
   "source": []
  },
  {
   "cell_type": "code",
   "execution_count": null,
   "metadata": {},
   "outputs": [],
   "source": []
  },
  {
   "cell_type": "code",
   "execution_count": null,
   "metadata": {},
   "outputs": [],
   "source": []
  },
  {
   "cell_type": "code",
   "execution_count": null,
   "metadata": {},
   "outputs": [],
   "source": []
  },
  {
   "cell_type": "code",
   "execution_count": null,
   "metadata": {},
   "outputs": [],
   "source": []
  },
  {
   "cell_type": "code",
   "execution_count": null,
   "metadata": {},
   "outputs": [],
   "source": [
    "df_orderSLA2.columns"
   ]
  },
  {
   "cell_type": "code",
   "execution_count": null,
   "metadata": {},
   "outputs": [],
   "source": []
  },
  {
   "cell_type": "code",
   "execution_count": null,
   "metadata": {},
   "outputs": [],
   "source": [
    "selColumns2=['Avg_SLA_factor_running30_OutsideSLA','Avg_SLA_factor_running30_InsideSLA']\n",
    "dfMaxLabeled2=(df_orderSLA2.withColumn('Avg_'+str(day),greatest(*selColumns2)).select(['nif_cliente','Avg_'+str(day)]))\n"
   ]
  },
  {
   "cell_type": "code",
   "execution_count": null,
   "metadata": {},
   "outputs": [],
   "source": [
    "dfMaxLabeled2.columns"
   ]
  },
  {
   "cell_type": "code",
   "execution_count": null,
   "metadata": {},
   "outputs": [],
   "source": [
    "dfMaxLabeled2.filter(col('Avg_30')<1).count()"
   ]
  },
  {
   "cell_type": "code",
   "execution_count": null,
   "metadata": {},
   "outputs": [],
   "source": [
    "dfMaxLabeled2.filter((col('Avg_30')>1) & (col('Avg_30')<3)).count()"
   ]
  },
  {
   "cell_type": "code",
   "execution_count": null,
   "metadata": {},
   "outputs": [],
   "source": [
    "dfMaxLabeled2.filter(col('Avg_30')>3).count()"
   ]
  },
  {
   "cell_type": "code",
   "execution_count": null,
   "metadata": {},
   "outputs": [],
   "source": []
  },
  {
   "cell_type": "code",
   "execution_count": null,
   "metadata": {},
   "outputs": [],
   "source": []
  },
  {
   "cell_type": "code",
   "execution_count": null,
   "metadata": {},
   "outputs": [],
   "source": [
    "del df_orderSLA"
   ]
  },
  {
   "cell_type": "code",
   "execution_count": null,
   "metadata": {},
   "outputs": [],
   "source": [
    "df_orderMAttrib.columns"
   ]
  },
  {
   "cell_type": "code",
   "execution_count": null,
   "metadata": {},
   "outputs": [],
   "source": [
    "df_orderSLA.filter((col('SLA_factor_running')>1) & (col('SLA_factor_running')<3)).select('NIF_CLIENTE').distinct().count()\n",
    "\n"
   ]
  },
  {
   "cell_type": "code",
   "execution_count": null,
   "metadata": {},
   "outputs": [],
   "source": [
    "df_orderMAttrib.filter((col('SLA_factor_running')>3)).select('NIF_CLIENTE').distinct().count()"
   ]
  },
  {
   "cell_type": "code",
   "execution_count": null,
   "metadata": {},
   "outputs": [],
   "source": [
    "df_orderMAttrib.filter((col('SLA_factor_running')<1)).select('NIF_CLIENTE').distinct().count()"
   ]
  },
  {
   "cell_type": "code",
   "execution_count": null,
   "metadata": {},
   "outputs": [],
   "source": []
  },
  {
   "cell_type": "code",
   "execution_count": null,
   "metadata": {},
   "outputs": [],
   "source": []
  },
  {
   "cell_type": "code",
   "execution_count": null,
   "metadata": {},
   "outputs": [],
   "source": [
    "df_orderSLA.filter(col('NUM_CLIENTE')=='459530360').select(['ord_esp_Avg_runningDays30_InsideSLA','ord_esp_Avg_runningDays60_InsideSLA']).show()\n"
   ]
  },
  {
   "cell_type": "code",
   "execution_count": null,
   "metadata": {
    "scrolled": false
   },
   "outputs": [],
   "source": [
    "df_SLA.filter(col('NOrders_Opened30_OutsideSLA')!=col('NOrders_Opened120_OutsideSLA')).show()"
   ]
  },
  {
   "cell_type": "code",
   "execution_count": null,
   "metadata": {},
   "outputs": [],
   "source": [
    "df_orderM.select(['NUM_CLIENTE','SLA_master','days_since_start','days_since_completed','duration','x_clasificacion']).filter(col('NUM_CLIENTE')=='459530360').show()\n",
    "\n"
   ]
  },
  {
   "cell_type": "code",
   "execution_count": null,
   "metadata": {},
   "outputs": [],
   "source": [
    "df_orderMAttrib.select(['NUM_CLIENTE','SLA_master','running_days','SLA_factor_running','days_since_start','days_since_completed','duration','x_clasificacion']).filter(col('NUM_CLIENTE')=='459530360').show()\n"
   ]
  },
  {
   "cell_type": "code",
   "execution_count": null,
   "metadata": {},
   "outputs": [],
   "source": [
    "df_orderM.select(['NUM_CLIENTE','SLA_master','days_since_start','days_since_completed','duration','x_clasificacion']).filter(col('NUM_CLIENTE')=='000509943').show()\n",
    "\n",
    "\n"
   ]
  },
  {
   "cell_type": "code",
   "execution_count": null,
   "metadata": {},
   "outputs": [],
   "source": [
    "columnas.extend(['Flag_open_order_insideSLA30','Flag_open_order_insideSLA60','Flag_open_order_outsideSLA30','Flag_open_order_outsideSLA60'])\n",
    "\n"
   ]
  },
  {
   "cell_type": "code",
   "execution_count": null,
   "metadata": {},
   "outputs": [],
   "source": [
    "df_orderMAttrib.select(columnas).filter(col('NUM_CLIENTE')=='459530360').show()"
   ]
  },
  {
   "cell_type": "code",
   "execution_count": null,
   "metadata": {},
   "outputs": [],
   "source": [
    "df_orderMAttrib.select(columnas).filter(col('NUM_CLIENTE')=='000509943').show()"
   ]
  },
  {
   "cell_type": "code",
   "execution_count": null,
   "metadata": {},
   "outputs": [],
   "source": [
    "df_orderMAttrib.select(columnas).filter(col('NUM_CLIENTE')=='459530360').show()"
   ]
  },
  {
   "cell_type": "code",
   "execution_count": null,
   "metadata": {},
   "outputs": [],
   "source": [
    "df_orderMAttrib.select(['NUM_CLIENTE','NIF_CLIENTE']).filter(col('NUM_CLIENTE')=='459530360').show()"
   ]
  },
  {
   "cell_type": "code",
   "execution_count": null,
   "metadata": {},
   "outputs": [],
   "source": [
    "dfSel1=SLAdf.filter(col('NIF_CLIENTE')=='76148857B')"
   ]
  },
  {
   "cell_type": "code",
   "execution_count": null,
   "metadata": {},
   "outputs": [],
   "source": []
  },
  {
   "cell_type": "code",
   "execution_count": null,
   "metadata": {},
   "outputs": [],
   "source": [
    "dfSLa=spark.read.parquet('/user/bgmerin1/SLA/year=2019/month=5/day=21')"
   ]
  },
  {
   "cell_type": "code",
   "execution_count": null,
   "metadata": {},
   "outputs": [],
   "source": [
    "dfSLa.filter(col('NIF_CLIENTE')=='76148857B').show()"
   ]
  },
  {
   "cell_type": "code",
   "execution_count": null,
   "metadata": {},
   "outputs": [],
   "source": [
    "len(dfSLa.columns)"
   ]
  },
  {
   "cell_type": "code",
   "execution_count": null,
   "metadata": {},
   "outputs": [],
   "source": []
  }
 ],
 "metadata": {
  "kernelspec": {
   "display_name": "Python 2",
   "language": "python",
   "name": "python2"
  },
  "language_info": {
   "codemirror_mode": {
    "name": "ipython",
    "version": 2
   },
   "file_extension": ".py",
   "mimetype": "text/x-python",
   "name": "python",
   "nbconvert_exporter": "python",
   "pygments_lexer": "ipython2",
   "version": "2.7.11"
  }
 },
 "nbformat": 4,
 "nbformat_minor": 2
}
