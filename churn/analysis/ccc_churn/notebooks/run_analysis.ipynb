{
 "cells": [
  {
   "cell_type": "code",
   "execution_count": 48,
   "metadata": {},
   "outputs": [],
   "source": [
    "spark.stop()"
   ]
  },
  {
   "cell_type": "markdown",
   "metadata": {},
   "source": [
    "# Setting paths"
   ]
  },
  {
   "cell_type": "code",
   "execution_count": 1,
   "metadata": {},
   "outputs": [
    {
     "name": "stderr",
     "output_type": "stream",
     "text": [
      "20190313-114926 [INFO ] Logging to file /var/SP/data/home/csanc109/logging/out_20190313_114926.log\n",
      "20190313-114926 [DEBUG] $HOME=/home/csanc109\n",
      "20190313-114926 [DEBUG] matplotlib data path /opt/cloudera/parcels/Anaconda-2.5.0/lib/python2.7/site-packages/matplotlib/mpl-data\n",
      "20190313-114926 [DEBUG] loaded rc file /opt/cloudera/parcels/Anaconda-2.5.0/lib/python2.7/site-packages/matplotlib/mpl-data/matplotlibrc\n",
      "20190313-114926 [DEBUG] matplotlib version 2.2.3\n",
      "20190313-114926 [DEBUG] interactive is False\n",
      "20190313-114926 [DEBUG] platform is linux2\n",
      "20190313-114926 [DEBUG] loaded modules: ['_multiprocessing', 'IPython.core.error', 'ipython_genutils.py3compat', 'traitlets.config.sys', 'concurrent.futures.types', 'ipykernel.parentpoller', 'traitlets.config.decorator', 'ctypes.os', 'pexpect.select', 'runpy', 'gc', 'numpy.lib.numpy', 'pty', 'prompt_toolkit.terminal.vt100_output', 'prompt_toolkit.key_binding.six', 'dateutil.parser.dateutil', 'pygments.filters', 'IPython.utils.pprint', 'numpy.core.info', 'jupyter_client.blocking.channels', 'numpy.random.threading', 'logging.weakref', 'pathlib2.fnmatch', 'traitlets.traitlets', 'dateutil.tz.os', 'pprint', 'ipykernel.getpass', 'matplotlib', 'prompt_toolkit.key_binding.manager', 'pathlib2.scandir', 'IPython.utils.simplegeneric', 'prompt_toolkit.key_binding.bindings.vi', 'ipykernel.traitlets', 'numpy.core.umath', 'IPython.core.magics.display', 'colorama.ansi', 'timeit', 'IPython.core.magics.traitlets', 'IPython.terminal.sys', 'string', 'pexpect.utils', 'prompt_toolkit.layout.six', 'multiprocessing.threading', 'numpy.lib.arraysetops', 'jupyter_client.blocking.__future__', 'IPython.utils.timing', 'encodings.utf_8', 'unittest.types', 'concurrent.futures.weakref', 'numpy.ctypeslib', 'dateutil.parser.decimal', 'json.encoder', 'unittest.signals', 'datetime', 'IPython.core.magics.extension', 'numpy.lib', 'zmq.backend.cython.utils', 'traitlets.six', 'ipython_genutils', 'prompt_toolkit.eventloop.abc', 'unittest.StringIO', 'numpy.core._internal', 'array', 'cmd', 'IPython.core.debugger', 'numpy.lib.function_base', 'concurrent.futures.collections', 'future.types.newobject', 'curses.os', 'numpy.ma.extras', 'IPython.lib.IPython', 'pygments.lexers.pygments', 'prompt_toolkit.styles.prompt_toolkit', 'shlex', 'zmq.backend.cython.zmq', 'IPython.core.ultratb', 'prompt_toolkit.key_binding.vi_state', 'ipywidgets.widgets.widget_bool', 'prompt_toolkit.clipboard', 'IPython.utils.resource', 'dis', 'prompt_toolkit.filters.utils', 'zlib', 'logging.threading', 'pykhaos.utils.sys', 'ipykernel.importlib', 'IPython.core.splitinput', 'IPython.lib.types', 'unittest.result', 'ipywidgets.widgets.domwidget', 'pexpect.spawnbase', 'prompt_toolkit.__future__', 'IPython.terminal.unicodedata', 'IPython.core.excolors', 'jupyter_core.paths', 'ptyprocess.termios', 'IPython.utils.tempfile', 'prompt_toolkit.layout.screen', 'IPython.core.inspect', 'unittest.pprint', 'IPython.lib.getpass', 'IPython.core.magics.gc', 'abc', 'IPython.core.displaypub', 'zmq.utils.sys', 'bdb', 'dateutil.parser.warnings', 'numpy._globals', 'ast', 'numpy.lib.npyio', 'ptyprocess', 'matplotlib.sys', 'IPython.core.mimetypes', 'traitlets.os', 'zmq.backend.cython.codecs', 'IPython.utils.io', 'ntpath', 'IPython.terminal.__future__', 'zmq.sugar.warnings', 'numpy.random.mtrand', 'jupyter_client.adapter', 'encodings.aliases', 'IPython.utils.openpy', 'IPython.core.alias', 'inspect', 'ipykernel.warnings', 'IPython.core.datetime', 'ctypes.tempfile', 'ipywidgets.widgets.base64', 'prompt_toolkit.terminal', 'ipython_genutils.re', '_ctypes', 'fnmatch', 'json.scanner', 'concurrent.futures.itertools', '__main__', 'colorama.winterm', 'jupyter_client.hmac', 'codecs', 'dateutil.warnings', 'jupyter_client.blocking.functools', 'prompt_toolkit.clipboard.six', 'IPython.core.shadowns', 'traitlets.config.loader', 'pexpect.run', 'pexpect.stat', 'ipython_genutils.locale', 'traitlets.config.json', 'IPython.utils.shutil', 'StringIO', 'ptyprocess.errno', 'concurrent.futures.atexit', 'wcwidth', 'colorama.win32', 'weakref', 'IPython.terminal.shortcuts', 'prompt_toolkit.styles.__future__', 'traitlets', 'ipywidgets.os', 'ipykernel.itertools', 'numpy.testing._private.utils', 'ptyprocess.resource', 'IPython.core.display', 'IPython.core.usage', 'numpy.lib.arraypad', 'IPython.terminal', 'numpy.random.warnings', 'base64', 'jupyter_client.os', 'dateutil.parser.isoparser', '_sre', 'pygments.formatters.html', 'ipykernel.cPickle', 'future.types.newdict', 'future.utils.sys', 'numpy.linalg', 'IPython.core.json', 'traitlets.types', 'matplotlib.cbook.warnings', 'sqlite3.dbapi2', 'IPython', 'logging.re', 'prompt_toolkit.clipboard.prompt_toolkit', 'urllib2', 'IPython.core.errno', 'select', 'ctypes._ctypes', '_heapq', 'IPython.core.display_trap', 'zmq.sugar.constants', 'prompt_toolkit.key_binding.bindings.prompt_toolkit', 'numpy.lib.financial', 'zmq.backend.cython.time', 'binascii', 'IPython.lib.contextlib', 'dateutil.calendar', 'pexpect.time', 'pygments.lexers.python', 'numpy.core.shape_base', 'IPython.core.logger', 'jupyter_client.manager', 'tokenize', 'pygments.formatters.sys', 'IPython.core.StringIO', 'matplotlib.json', 'IPython.core.magics.io', 'traitlets.utils.inspect', 'zmq.backend.cython.warnings', 'unittest.fnmatch', 'cPickle', 'jupyter_client.session', 'numpy.polynomial.hermite_e', 'ipykernel.comm.ipykernel', 'prompt_toolkit.pygments', 'IPython.core.magics.errno', 'future.builtins.future_builtins', 'IPython.utils.encoding', 'IPython.core.ast', 'IPython.core.keyword', 'IPython.lib.os', 'prompt_toolkit.clipboard.base', 'prompt_toolkit.styles.abc', 'prompt_toolkit.terminal.__future__', 'zmq.backend.cython.cPickle', 'IPython.core.getipython', 'numpy.compat', 'prompt_toolkit.key_binding.input_processor', 'numpy.core.fromnumeric', 'unicodedata', 'zmq', 'IPython.core.page', '_ast', 'IPython.utils.process', 'jupyter_client.sys', 'prompt_toolkit.styles.pygments', 'jupyter_client.io', 'zmq.sugar.tracker', 'jupyter_client.blocking.getpass', 'numpy.core.memmap', '_bisect', 'pathlib2.ctypes', 'IPython.extensions.textwrap', 'ptyprocess.pty', 'ipywidgets.widgets.mimetypes', 'exceptions', 'sre_parse', 'tornado.concurrent', 'numpy.lib._version', 'pickle', 'jupyter_core.version', 'ipywidgets.widgets.ipykernel', 'future.types.__future__', 'pygments.regexopt', 'ipywidgets.widgets.widget_controller', 'jupyter_client.launcher', 'matplotlib.rcsetup', 'logging.cStringIO', 'cython_runtime', 'ipykernel.collections', 'numpy.lib.polynomial', 'IPython.terminal.debugger', 'dateutil.parser.__future__', 'prompt_toolkit.styles.six', 'numbers', 'IPython.utils.shlex', 'IPython.core.magics.signal', 'numpy.core.records', 'ipykernel.comm.ipython_genutils', 'prompt_toolkit.key_binding.abc', 'traitlets.inspect', 'future.builtins.iterators', 'ipykernel.zmq', 'IPython.utils.platform', 'strop', 'pygments.util', 'jupyter_client.jupyter_client', 'IPython.core.history', 'numpy.core.numeric', 'concurrent.futures.process', 'six', 'IPython.shutil', 'jupyter_client.connect', 'ipython_genutils.textwrap', 'dateutil.parser._parser', 'zmq.backend.cython.struct', 'matplotlib.testing', 'prompt_toolkit.abc', 'IPython.utils.ipstruct', 'traitlets._version', 'prompt_toolkit.eventloop.base', 'dateutil.math', 'IPython.extensions.__future__', 'jupyter_client.jupyter_core', 'concurrent.pkgutil', 'ctypes.util', 'jupyter_client.blocking.sys', 'numpy.core.defchararray', 'IPython.core.magics.osm', 'numpy.linalg.lapack_lite', 'htmlentitydefs', 'zmq.backend.cython.threading', 'ipywidgets.widgets.widget_link', 'jupyter_core.tempfile', 'ipywidgets.widgets.contextlib', 'jupyter_client.blocking', 'numpy.linalg._umath_linalg', 'pexpect.os', 'codeop', 'future.types.collections', 'numpy.lib.arrayterator', 'tornado.platform.interface', 'pygments.formatter', 'os.path', 'IPython.core.magics.time', 'argparse', 'prompt_toolkit.eventloop.callbacks', 'ipykernel.copyreg', 'IPython.core.tempfile', 'IPython.core.payload', '_weakrefset', 'zmq.backend.select', 'ipykernel.copy', 'prompt_toolkit.bisect', 'unittest.traceback', 'six.moves.urllib.request', 'ipywidgets.widgets.widget', 'traitlets.config.configurable', 'IPython.core.traitlets', 'tty', 'zmq.eventloop.queue', 'ipykernel.threading', 'pexpect.exceptions', 'prompt_toolkit.io', 'pygments.pygments', 'functools', 'tornado.platform.posix', 'prompt_toolkit.subprocess', 'numpy.core._multiarray_tests', 'backports.shutil_get_terminal_size.termios', 'sysconfig', 'IPython.terminal.embed', 'concurrent.futures.concurrent', 'ipykernel.serialize', 'jupyter_client._version', 'pexpect.contextlib', 'sqlite3.collections', 'pygments.formatters.types', 'dateutil.tz.time', 'prompt_toolkit.eventloop.__future__', 'builtins', 'uuid', 'jupyter_core.os', 'numpy.compat.py3k', 'tempfile', 'curses', 'numpy.core.machar', 'prompt_toolkit.tempfile', 'imp', 'prompt_toolkit.wcwidth', 'multiprocessing.os', 'jupyter_core.sys', 'IPython.utils.tempdir', 'matplotlib.compat', 'zmq.utils.constant_names', 'multiprocessing.itertools', 'backports.shutil_get_terminal_size.collections', 'enum.sys', 'jupyter_client.datetime', 'matplotlib._color_data', 'jupyter_client.random', 'ipywidgets.widgets.docutils', 'traitlets.utils.sentinel', 'ptyprocess.os', 'numpy.linalg.info', 'future.types.numbers', 'zmq.zmq', 'ptyprocess.codecs', 'prompt_toolkit.input', 'numpy.polynomial.polynomial', 'zmq.eventloop.tornado', 'IPython.core.traceback', 'unittest.util', 'IPython.utils._tokenize_py2', 'IPython.core.__main__', 'IPython.extensions.inspect', 'ipython_genutils._version', 'prompt_toolkit.layout.mouse_handlers', 'IPython.utils.hashlib', 'hmac', 'zmq.eventloop.__future__', 'decorator', 'IPython.core.zipimport', 'pygments.lexers.sys', 'pykhaos.utils.logging', 'pygments.unistring', 'prompt_toolkit.cache', 'IPython.terminal.interactiveshell', 'IPython.extensions.traitlets', 'decimal', 'ipywidgets.widgets.itertools', 'numpy.lib._datasource', 'IPython.core.warnings', 'IPython.utils.imp', 'logging.handlers', 'dateutil.tz.datetime', 'token', 'prompt_toolkit.key_binding.digraphs', 'prompt_toolkit.auto_suggest', 'prompt_toolkit.buffer', 'zmq.backend', 'unittest.runner', 'IPython.testing.sys', 'pygments.formatters.os', 'IPython.utils.warnings', 'pathlib2.six', 'ptyprocess.fcntl', 'cStringIO', 'IPython.utils.errno', 'backports.shutil_get_terminal_size.struct', 'IPython.core.io', 'IPython.terminal.pt_inputhooks', 'IPython.core.magics.namespace', 'traitlets.config.copy', 'ipywidgets.widgets.widget_color', 'traitlets.utils.ipython_genutils', 'zmq.os', 'zmq.sugar.frame', 'multiprocessing.process', 'ctypes.errno', 'encodings', 'IPython.core.magics.history', 'IPython.core.__future__', 'IPython.core.displayhook', 'pexpect.expect', 'IPython.core.binascii', 'future.types.struct', 'numpy.matrixlib', 'ipykernel.comm.uuid', 'IPython.core.interactiveshell', 'traitlets.ipython_genutils', 'IPython.core.operator', 'IPython.core.crashhandler', 'IPython.utils', 'numpy.fft.helper', 'zmq.ctypes', 'prompt_toolkit.layout.time', 'prompt_toolkit.threading', 'dateutil.six', 're', 'pygments.filters.re', 'numpy.fft.fftpack_lite', 'future.types', 'IPython.core.magics.IPython', 'IPython.utils.capture', 'ipykernel.errno', 'ipykernel.ipkernel', 'sqlite3.time', 'dateutil.relativedelta', 'math', 'IPython.core.IPython', 'pygments.formatters.fnmatch', 'wcwidth.__future__', 'ipykernel.comm.manager', 'IPython.core.importlib', 'ipython_genutils.errno', 'dateutil.tz.six', 'IPython.lib.sys', 'prompt_toolkit.interface', 'prompt_toolkit.terminal.vt100_input', 'numpy.lib.ufunclike', 'dateutil.tz.tz', 'prompt_toolkit.key_binding.bindings.six', 'ctypes.struct', 'IPython.utils.colorable', 'ipykernel.ctypes', 'ipywidgets.widgets.IPython', 'prompt_toolkit.filters', '_locale', 'IPython.core.logging', 'logging', 'prompt_toolkit.enums', 'thread', 'pykhaos.utils.custom_logger', 'numpy.lib.shape_base', 'IPython.core.events', 'prompt_toolkit.eventloop', 'traceback', 'ipykernel.signal', 'multiprocessing', 'concurrent.futures.time', 'IPython.core.copy', 'IPython.core.builtin_trap', 'zmq.backend.platform', 'IPython.utils.coloransi', 'multiprocessing.util', 'IPython.utils._process_posix', 'colorama.os', 'future.types.newbytes', 'ipywidgets.widgets.widget_layout', 'ctypes.re', 'pathlib2.os', 'prompt_toolkit.filters.six', '_collections', 'prompt_toolkit.mouse_events', 'ipykernel.jupyter_core', 'jupyter_client.multikernelmanager', 'numpy.random', 'prompt_toolkit.key_binding.bindings.__future__', 'ipykernel.kernelbase', 'traitlets.config.os', 'traitlets.config.ast', 'multiprocessing.sys', 'ipykernel.uuid', 'future.builtins', 'ipywidgets.widgets.widget_button', 'pexpect.pty_spawn', 'pygments.filter', 'numpy.core.arrayprint', 'IPython.utils.locale', 'ctypes.sys', 'IPython.core.magics.config', 'pygments.lexers.__future__', 'pexpect', 'posixpath', 'jupyter_client.channels', 'numpy.testing._private', 'ipykernel.atexit', 'zmq.sugar.atexit', 'IPython.utils._sysinfo', 'prompt_toolkit.filters.cli', 'traitlets.logging', 'colorama.contextlib', 'types', 'zmq.backend.cython._device', 'typing', 'prompt_toolkit.utils', 'prompt_toolkit.clipboard.in_memory', 'IPython.core.linecache', 'ipywidgets.widgets.widget_string', 'matplotlib.cbook.functools', 'json._json', 'numpy._import_tools', 'curses.sys', 'ipykernel.jupyter_client', '_codecs', 'traitlets.contextlib', 'numpy.testing._private.pytesttester', 'ipykernel.comm.sys', 'IPython.core.unicodedata', 'enum.collections', 'json.sys', 'encodings.ascii', 'future.builtins.__builtin__', 'IPython.utils.os', 'ipykernel.datapub', 'pygments.styles.pygments', 'concurrent.futures.multiprocessing', 'pygments.time', 'zmq.eventloop.ioloop', 'copy', 'ipykernel.datetime', 'prompt_toolkit.styles.collections', 'ipykernel.comm.logging', 'ipython_genutils.shutil', 'hashlib', 'prompt_toolkit', 'zmq.error', 'keyword', 'ipython_genutils.random', 'distutils', 'ipywidgets.widgets.widget_core', 'numpy.lib.nanfunctions', 'IPython.extensions.IPython', 'ipywidgets.widgets.sys', 'unittest.weakref', 'numpy.fft.info', 'future', 'posix', 'IPython.core.hashlib', 'pygments.lexers.fnmatch', '_curses', 'ipywidgets.widgets.widget_box', 'IPython.utils.generics', 'ipykernel.connect', 'backports.shutil_get_terminal_size.os', 'ipywidgets.IPython', 'prompt_toolkit.layout.collections', 'sre_compile', 'ipykernel', 'dateutil.tz._factories', '_hashlib', 'prompt_toolkit.layout.utils', 'IPython.utils.ulinecache', 'zmq.eventloop.cPickle', 'IPython.core.magics.code', 'urllib', 'IPython.core.bdb', 'logging.collections', 'IPython.core.threading', 'zmq.eventloop.zmq', 'pygments.__future__', 'future.utils.types', 'colorama.initialise', 'multiprocessing.atexit', 'calendar', 'dateutil.operator', 'prompt_toolkit.string', 'unittest.time', 'prompt_toolkit.layout.re', 'dateutil._version', 'pexpect.pty', 'future.utils.numbers', 'prompt_toolkit.layout.__future__', 'ipykernel.types', 'dateutil.parser', 'prompt_toolkit.token', 'IPython.core.pprint', 'jupyter_client.ipython_genutils', 'encodings.codecs', 'ipywidgets', 'IPython.utils.__builtin__', 'IPython.terminal.os', 'IPython.lib.threading', 'zmq.utils.jsonapi', 'curses.curses', 'ipywidgets.widgets.datetime', 'numpy.lib.utils', 'ipykernel.IPython', 'IPython.core.completer', 'prompt_toolkit.layout.toolbars', 'ipywidgets.widgets.json', 'unittest.difflib', '_ssl', 'pexpect.ptyprocess', 'IPython.utils.sys', 'IPython.utils.re', 'tornado', 'IPython.lib.clipboard', 'glob', 'pathlib2.operator', 'multiprocessing.multiprocessing', 'IPython.utils.inspect', 'pygments.formatters', 'zmq.backend.cython.sys', 'gzip', 'IPython.core.base64', 'pexpect.errno', '_sqlite3', 'ipython_genutils.text', '_thread', 'IPython.core.shellapp', 'zmq.backend.cython.random', 'numpy.lib.twodim_base', 'prompt_toolkit.selection', 'numpy.polynomial', 'matplotlib.cbook', 'future_builtins', 'concurrent.futures.sys', 'dateutil.parser.calendar', 'pygments.modeline', 'future.types.string', 'zmq.backend.cython.error', 'IPython.utils.wildcard', 'IPython.core.extensions', 'IPython.utils.tokenutil', '_io', 'linecache', '_strptime', 'ipywidgets.widgets.trait_types', 'IPython.core.compilerop', 'ipykernel.comm', 'future.types.newstr', 'jupyter_client.zmq', 'numpy.linalg.linalg', 'pathlib2.urllib', 'scandir', 'prompt_toolkit.terminal.six', 'ipywidgets.widgets.widget_output', 'numpy.lib._iotools', 'prompt_toolkit.key_binding.bindings.named_commands', 'ipywidgets.widgets.traitlets', 'future.standard_library', 'jupyter_client.json', 'random', 'pygments.styles', 'zmq.sugar.context', 'subprocess', 'IPython.extensions.storemagic', 'prompt_toolkit.key_binding.weakref', 'backports.shutil_get_terminal_size.fcntl', 'ipython_genutils.sys', 'pygments.operator', 'logging.os', 'ctypes._endian', 'encodings.encodings', 'ptyprocess.time', 'ipykernel.numbers', 'colorama.ansitowin32', 'pygments.formatters._mapping', 'logging.stat', 'numpy.__config__', '_cython_0_28_5', 'importlib', 'prompt_toolkit.styles.from_pygments', 'IPython.core.magic', 'ipywidgets.widgets.ipython_genutils', 'IPython.utils.dir2', '_json', 'prompt_toolkit.key_binding.bindings.basic', 'unittest.sys', 'ipykernel.logging', 'traitlets.config.argparse', 'ipython_genutils.importstring', 'jupyter_client.blocking.traitlets', 'logging.thread', 'cProfile', 'prompt_toolkit.styles.defaults', 'prompt_toolkit.buffer_mapping', 'ipywidgets.widgets.functools', 'prompt_toolkit.history', 'IPython.lib.re', 'pathlib2', 'pygments.sys', 'prompt_toolkit.terminal.termios', 'prompt_toolkit.styles', 'concurrent.futures.threading', 'repr', 'ipykernel.pickleutil', 'ipykernel.traceback', 'ssl', 'traitlets.config.__future__', 'prompt_toolkit.reactive', 'numpy.version', 'ipython_genutils.platform', 'distutils.re', 'prompt_toolkit.terminal.tty', '_lsprof', 'IPython.os', 'pygments.lexer', 'prompt_toolkit.completion', 'ptyprocess.ptyprocess', 'numpy.lib.type_check', 'numpy.testing._private.nosetester', 'traitlets.config.collections', 'resource', 'IPython.terminal.traitlets', 'bisect', 'traitlets.config', 'unittest', 'queue', 'IPython.utils.IPython', 'pydoc', 'threading', 'prompt_toolkit.keys', 'IPython.core.prefilter', 'ipywidgets.widgets.widget_float', 'prompt_toolkit.styles.from_dict', 'jupyter_client.hashlib', 'dateutil.tz.functools', 'IPython.lib.datetime', 'cycler', 'IPython.core.string', 'pathlib2.errno', 'numpy.fft', 'ipywidgets.widgets.widget_selection', 'dateutil._common', 'pathlib2.io', 'IPython.core.textwrap', 'jupyter_client.errno', 'future.backports.misc', 'locale', 'unittest.re', 'ipywidgets.widgets.widget_date', 'prompt_toolkit.document', 'ptyprocess.sys', 'atexit', 'IPython.core.autocall', 'dateutil.parser.io', 'IPython.core.sys', 'pexpect.sys', 'zmq.backend.cython.message', 'ipykernel.comm.traitlets', 'sphinxcontrib', 'IPython.core.magics.__future__', 'traitlets.sys', 'IPython.core.magics.pylab', 'dateutil', 'ipywidgets.widgets.numbers', 'traitlets.utils.bunch', 'backports.shutil_get_terminal_size.get_terminal_size', 'tornado.log', 'jupyter_client.managerabc', 'future.builtins.future', 'numpy.core.numerictypes', 'IPython.lib.io', 'pygments.StringIO', 'IPython.lib.subprocess', 'ipykernel.displayhook', 'zmq.sys', 'prompt_toolkit.validation', 'fcntl', 'ipywidgets.widgets.collections', 'IPython.utils.path', 'ipywidgets.widgets.inspect', 'IPython.core.atexit', 'pygments.plugin', 'zmq.eventloop.warnings', 'prompt_toolkit.layout.controls', 'zmq.utils', 'jupyter_client.localinterfaces', 'Queue', 'numpy.lib.info', 'jupyter_client.shutil', 'ctypes', 'IPython.lib.collections', 'IPython.core.magics.re', 'backports.functools_lru_cache', 'IPython.utils._process_common', 'pickleshare', 'ipykernel.ipykernel', 'ipython_genutils.functools', 'prompt_toolkit.types', 'numpy.matrixlib.defmatrix', 'traitlets.config.application', 'jupyter_client.socket', 'pexpect.codecs', 'matplotlib.compat.subprocess', 'prompt_toolkit.key_binding.bindings', 'prompt_toolkit.filters.base', 'itertools', 'jupyter_client.blocking.zmq', 'opcode', 'colorama.sys', 'pstats', 'future.utils.copy', 'prompt_toolkit.key_binding.bindings.math', 'ptyprocess.signal', 'traitlets.config.six', 'pdb', 'future.types.newrange', 'IPython.core.magics.subprocess', 'IPython.terminal.signal', 'numpy.sys', 'IPython.extensions.os', 'IPython.core.magics.atexit', 'six.moves', 'IPython.terminal.logging', 'zmq.errno', 'prompt_toolkit.key_binding.collections', 'IPython.testing', 'prompt_toolkit.renderer', 'sqlite3.datetime', 'zmq.sugar.socket', 'prompt_toolkit.key_binding.bindings.string', 'pygments.lexers.re', 'prompt_toolkit.shortcuts', 'pygments', 'logging.errno', 'pathlib2.re', 'curses._curses', 'future.types.future', 'prompt_toolkit.signal', 'ipykernel.imp', 'dateutil.parser.re', 'prompt_toolkit.shlex', 'IPython.core.hooks', 'numpy.os', 'IPython.display', 'pkgutil', 'IPython.core.tokenize', 'platform', 'future.utils', 'IPython.lib.__future__', 'IPython.utils.sentinel', 'ipykernel.tornado', 'IPython.core.magics.warnings', 'logging.struct', 'sre_constants', 'zmq.backend.os', 'json', 'pygments.styles.default', 'prompt_toolkit.filters.prompt_toolkit', 'numpy.core.function_base', 'jupyter_client.jsonutil', 'ipykernel.platform', 'numpy', 'zmq.sugar.random', 'IPython.lib.warnings', 'json.re', 'prompt_toolkit.sys', 'zmq.utils.itertools', 'prompt_toolkit.layout.lexers', 'zmq.eventloop', 'ipywidgets.widgets', 'subprocess32', 'dateutil.parser.time', 'termios', 'pygments.itertools', 'IPython.IPython', 'ptyprocess.shutil', 'prompt_toolkit.application', 'zmq.sugar', 'logging.atexit', 'logging.cPickle', 'IPython.core.completerlib', 'matplotlib.cbook._backports', 'pyparsing', 'IPython.core.sqlite3', 'unittest.main', 'future.builtins.newsuper', 'zmq.sugar.stopwatch', 'getpass', 'ipykernel.__future__', 'concurrent.futures.logging', 'prompt_toolkit.inspect', 'prompt_toolkit.functools', 'ptyprocess.util', 'storemagic', 'wcwidth.table_zero', 'jupyter_client.blocking.jupyter_client', 'prompt_toolkit.textwrap', 'jupyter_client.blocking.client', 'ipython_genutils.__builtin__', 'concurrent.futures.Queue', 'multiprocessing.weakref', 'numpy.lib.stride_tricks', 'pykhaos.utils', 'IPython.terminal.prompt_toolkit', 'jupyter_client.binascii', 'json.decoder', 'traitlets.enum', 'unittest.signal', 'copy_reg', 'IPython.core.magics.os', 'ipykernel.kernelapp', 'tornado.platform.auto', 'IPython.utils.linecache', 'site', 'ipywidgets.widgets.widget_selectioncontainer', 'copyreg', 'IPython.core.shutil', 'dateutil.tz', 'io', 'ipython_genutils.string', 'prompt_toolkit.search_state', 'IPython.core.pygments', 'shutil', 'dateutil.parser.datetime', 'IPython.utils.random', 'jupyter_client.clientabc', 'prompt_toolkit.clipboard.collections', 'pygments.filters.pygments', 'zmq.sugar.zmq', 'zmq.backend.sys', 'prompt_toolkit.terminal.os', 'prompt_toolkit.styles.base', 'IPython.lib.backgroundjobs', 'IPython.lib.logging', 'ipykernel.zmqshell', 'IPython.utils.decorators', 'future.builtins.decimal', 'IPython.testing.skipdoctest', 'numpy.fft.fftpack', 'ipywidgets.widgets.__future__', 'IPython.core.magics.script', 'numpy.core', 'future.builtins.newround', 'sqlite3', 'pygments.formatters.pygments', 'prompt_toolkit.weakref', 'IPython.core.magics.basic', 'IPython.core.magics.auto', 'traitlets.config.traitlets', 'IPython.core.macro', 'ipywidgets.widgets.widget_style', 'IPython.core.magics.pprint', 'IPython.utils.data', 'rfc822', 'unittest.collections', 'numpy.polynomial.polyutils', 'json.json', 'IPython.terminal.ipapp', 'IPython.core.types', 'sys', 'pathlib2.stat', 'numpy.compat._inspect', 'IPython.terminal.IPython', 'multiprocessing.subprocess', 'importlib.sys', 'numpy.polynomial.legendre', 'ipykernel.re', 'jupyter_client.traitlets', 'IPython.terminal.pt_inputhooks.importlib', 'ipywidgets.traitlets', 'tornado.util', 'distutils.sys', 'IPython.utils.importstring', 'unittest.functools', 'prompt_toolkit.output', 'matplotlib.fontconfig_pattern', '_weakref', 'pygments.formatters.__future__', 'IPython.core.inputtransformer', 'difflib', 'urlparse', 'ipykernel.binascii', 'prompt_toolkit.key_binding.prompt_toolkit', 'pygments.cStringIO', 'ipywidgets.widgets.re', 'IPython.core.decorator', 'IPython.core.application', 'ipykernel._version', 'IPython.core', 'unittest.os', 'prompt_toolkit.layout.processors', 'IPython.utils.terminal', 'traitlets.utils.six', 'logging.logging', 'prompt_toolkit.key_binding.registry', 'heapq', 'concurrent.futures._base', 'concurrent.futures', 'IPython.core.time', 'prompt_toolkit.terminal.array', 'pykhaos', 'prompt_toolkit.key_binding.bindings.completion', 'IPython.extensions', 'ipykernel._thread', 'matplotlib.cbook.textwrap', 'prompt_toolkit.key_binding.defaults', 'ptyprocess.struct', 'zmq.backend.cython.socket', 'IPython.terminal.pt_inputhooks.os', 'IPython.core.oinspect', 'zmq.sugar.time', 'prompt_toolkit.key_binding.bindings.codecs', 'zmq.sugar.attrsettr', 'tornado.platform.epoll', 'ipywidgets.widgets.widget_description', 'matplotlib.colors', 'tornado.escape', 'IPython.core.os', 'zmq.backend.cython.constants', 'ipython_genutils.path', 'IPython.utils._signatures', 'jupyter_client.logging', 'struct', 'numpy.random.info', 'IPython.utils.strdispatch', 'IPython.core.inputsplitter', 'IPython.utils.tokenize2', 'prompt_toolkit.terminal.errno', 'future.builtins.io', 'IPython.lib', 'sqlite3._sqlite3', 'prompt_toolkit.key_binding', 'IPython.utils.string', 'collections', 'jupyter_client.cPickle', 'prompt_toolkit.eventloop.six', 'prompt_toolkit.filters.collections', 'logging.socket', 'ipykernel.comm.comm', 'distutils.types', 'IPython.extensions.sys', 'backports.shutil_get_terminal_size.ctypes', 'traitlets.utils', 'ipython_genutils.encoding', 'dateutil.tz._common', 'zipimport', 'IPython.core.struct', 'pathlib2.sys', 'IPython.core.magics.execution', 'jupyter_client', 'IPython.terminal.magics', 'textwrap', 'zmq.platform', 'pexpect.io', 'pathlib2.functools', 'getopt', 'numpy.lib.scimath', 'jupyter_client.channelsabc', 'prompt_toolkit.filters.__future__', 'pexpect.traceback', 'ipykernel.math', 'traitlets.config.re', 'zmq.backend.cython._version', 'pexpect.types', 'future.backports', 'IPython.lib.random', 'ipykernel.codeutil', 'IPython.utils.frame', 'signal', 'IPython.core.payloadpage', 'prompt_toolkit.terminal.prompt_toolkit', 'prompt_toolkit.filters.abc', 'prompt_toolkit.re', 'IPython.terminal.warnings', 'jupyter_client.dateutil', 'prompt_toolkit.layout.containers', 'unittest.suite', 'numpy.core.multiarray', 'IPython.core.magics', 'zmq.backend.cython.context', 'pygments.lexers.types', 'zmq.eventloop.zmqstream', 'IPython.core.getopt', 'jupyter_client.kernelspec', 'google', 'ipywidgets._version', 'IPython.terminal.prompts', 'mimetypes', 'numpy.core.getlimits', 'dateutil.tz.sys', 'ipykernel.io', 'prompt_toolkit.key_binding.bindings.emacs', 'pygments.lexers._mapping', 'IPython.utils.token', 'IPython.utils.module_paths', 'pygments.lexers.os', 'logging.traceback', 'numpy.lib.index_tricks', 'IPython.core.magic_arguments', 'pygments.codecs', 'traitlets.utils.getargspec', 'dateutil.parser.six', 'IPython.core.magics.logging', 'wcwidth.table_wide', 'warnings', 'IPython.utils.sysinfo', 'backports', 'ipywidgets.widgets.valuewidget', 'IPython.core.argparse', 'IPython.lib.security', 'numpy.lib.mixins', 'jupyter_client.warnings', 'numpy.ma.core', 'IPython.core.subprocess', 'pygments.formatters.re', 'traitlets.config.logging', 'ipython_genutils.warnings', 'IPython.utils.subprocess', 'jupyter_client.abc', 'prompt_toolkit.key_binding.bindings.itertools', 'mpl_toolkits', 'IPython.utils.syspathcontext', 'UserDict', 'traitlets.config.ipython_genutils', 'enum', 'matplotlib._version', 'six.moves.urllib', 'pygments.os', 'prompt_toolkit.prompt_toolkit', 'IPython.utils.PyColorize', 'ipywidgets.widgets.widget_int', 'tornado.platform.common', 'prompt_toolkit.time', 'numpy.random.operator', 'IPython.terminal.wcwidth', 'logging.sys', 'pexpect.re', 'IPython.terminal.ptutils', 'future.builtins.newnext', 'unittest.loader', '_functools', 'ipykernel.sys', 'socket', 'pathlib2.ntpath', 'ipykernel.socket', 'IPython.core.pylabtools', 'zmq.sugar.version', 'backports.shutil_get_terminal_size', 'pexpect.signal', 'prompt_toolkit.datetime', 'pykhaos.utils.notebooks', 'IPython.utils.contexts', 'IPython.core.imp', 'ipykernel.iostream', 'ipykernel.os', 'colorama', 'IPython.core.pdb', 'dateutil.tz.struct', 'os', 'marshal', 'zmq.sugar.sys', 'distutils.version', 'matplotlib.cbook.deprecation', '__future__', 'simplegeneric', 'tornado.speedups', 'traitlets.utils.functools', 'numpy.random.numpy', 'IPython.lib.deepreload', 'ipywidgets.widgets.interaction', 'prompt_toolkit.clipboard.__future__', '__builtin__', 'zmq.backend.cython', 'IPython.utils.functools', 'IPython.lib.display', 'prompt_toolkit.layout.itertools', 'pykhaos.utils.datetime', 'numpy.lib.format', 'operator', 'prompt_toolkit.layout.menus', 'json.struct', 'pygments.token', 'pathlib2.collections', 'dateutil.parser.functools', 'zmq.backend.cython._poll', 'IPython.core.re', 'errno', 'unittest.case', '_socket', 'future.types.sys', 'prompt_toolkit.clipboard.abc', 'jupyter_client.blocking.queue', 'IPython.core.glob', 'IPython.core.abc', 'prompt_toolkit.layout.prompt_toolkit', 'jupyter_client.re', 'pathlib2.posixpath', 'prompt_toolkit.terminal.re', '_warnings', 'IPython.core.magics.sys', 'multiprocessing._multiprocessing', 'IPython.core.latex_symbols', 'prompt_toolkit.key_binding.__future__', 'IPython.utils.text', 'encodings.__builtin__', 'IPython.utils.__future__', 'ipython_genutils.os', 'prompt_toolkit.layout.math', 'tornado.platform', 'IPython.core.profiledir', 'future.builtins.misc', 'numpy._distributor_init', 'prompt_toolkit.layout.abc', 'pwd', 'future.utils.__builtin__', 'curses.wrapper', 'httplib', 'prompt_toolkit.six', 'backports.shutil_get_terminal_size.sys', 'IPython.utils.pexpect', '_posixsubprocess32', 'IPython.utils.types', '_sysconfigdata', '_struct', 'ptyprocess.builtins', 'ipykernel.heartbeat', 'typing.re', 'future.types.copy', 'prompt_toolkit.filters.weakref', 'numpy.lib.histograms', 'jupyter_client.pprint', 'IPython.core.functools', 'dateutil.tz.bisect', 'IPython.paths', 'IPython.terminal.pygments', 'jupyter_client.subprocess', 'logging.time', 'prompt_toolkit.filters.types', 'numpy.polynomial.chebyshev', 'ipykernel.ipython_genutils', 'zmq.sugar.errno', 'IPython.lib.imp', 'logging.warnings', 'IPython.tempfile', 'mimetools', 'multiprocessing.signal', 'pygments.re', 'dateutil.datetime', 'colorama.atexit', 'logging.codecs', '_random', 'zmq.backend.cython.copy', 'numpy.polynomial._polybase', 'zmq.utils.zmq', 'prompt_toolkit.layout.margins', 'numpy.polynomial.hermite', 'contextlib', 'IPython.utils.time', 'prompt_toolkit.layout.dimension', 'concurrent.futures.thread', 'numpy.add_newdocs', 'future.utils.inspect', 'IPython.lib.hashlib', 'traitlets.warnings', 'prompt_toolkit.key_binding.bindings.scroll', 'IPython.utils.glob', 'zmq.sugar.cPickle', 'zmq.utils.strtypes', 'future.types.newint', 'grp', 'IPython.core.release', 'IPython.lib.pretty', 'colorama.ctypes', 'ipywidgets.widgets.widget_media', 'gettext', 'ptyprocess.io', 'dateutil.parser.string', '_abcoll', 'prompt_toolkit.os', 'pexpect.tty', 'IPython.core.codeop', 'traitlets.log', 'prompt_toolkit.layout.prompt', 'wcwidth.wcwidth', 'ipython_genutils.types', 'genericpath', 'stat', 'jupyter_core', 'pygments.lexers', 'IPython.core.formatters', 'jupyter_client.client', 'IPython.warnings', 'unittest.warnings', 'prompt_toolkit.collections', 'prompt_toolkit.styles.utils', 'ipykernel.time', 'zmq.sugar.threading', 'concurrent', 'numpy.polynomial.laguerre', 'numpy.core.einsumfunc', 'ctypes.ctypes', 'future.types.newlist', 'pygments.style', 'numpy.testing', 'numpy.ma', 'future.utils.functools', 'numpy.core._methods', 'numpy.testing._private.decorators', 'IPython.core.itertools', 'zmq.sugar.poll', 'distutils.string', 'prompt_toolkit.layout', 'traitlets.utils.importstring', 'tornado.stack_context', 'ipykernel.jsonutil', 'ipywidgets.widgets.warnings', 'IPython.utils.signatures', 'jupyter_client.blocking.time', 'time', 'colorama.re', 'tornado.ioloop', 'typing.io', 'IPython.utils.py3compat', 'traitlets.re']\n"
     ]
    },
    {
     "name": "stderr",
     "output_type": "stream",
     "text": [
      "20190313-114926 [DEBUG] CACHEDIR=/home/csanc109/.cache/matplotlib\n",
      "20190313-114926 [DEBUG] Using fontManager instance from /home/csanc109/.cache/matplotlib/fontList.json\n",
      "20190313-114926 [DEBUG] backend module://ipykernel.pylab.backend_inline version unknown\n",
      "20190313-114926 [DEBUG] backend module://ipykernel.pylab.backend_inline version unknown\n",
      "20190313-114926 [DEBUG] backend module://ipykernel.pylab.backend_inline version unknown\n"
     ]
    }
   ],
   "source": [
    "import os, sys\n",
    "import datetime as dt\n",
    "DEVEL_SRC = os.path.join(os.environ.get('BDA_USER_HOME', ''), \"src\", \"devel\")\n",
    "if DEVEL_SRC not in sys.path:\n",
    "    sys.path.append(DEVEL_SRC)\n",
    "\n",
    "USECASES_SRC = os.path.join(DEVEL_SRC, \"use-cases\") # TODO when - is removed, remove also this line and adapt imports\n",
    "if USECASES_SRC not in sys.path: \n",
    "    sys.path.append(USECASES_SRC)\n",
    "    \n",
    "AMDOCS_SRC = os.path.join(DEVEL_SRC, \"amdocs_informational_dataset\") # TODO when - is removed, remove also this line and adapt imports\n",
    "if AMDOCS_SRC not in sys.path: \n",
    "    sys.path.append(AMDOCS_SRC)\n",
    "    \n",
    "import pykhaos.utils.custom_logger as clogger\n",
    "logging_file = os.path.join(os.environ.get('BDA_USER_HOME', ''), \"logging\",\n",
    "                                    \"out_\" + dt.datetime.now().strftime(\"%Y%m%d_%H%M%S\") + \".log\")\n",
    "logger = clogger.configure_logger(log_filename=logging_file, std_channel=sys.stderr, logger_name=\"\")\n",
    "logger.info(\"Logging to file {}\".format(logging_file))    \n",
    "    \n",
    "EXTERNAL_PATH = os.path.join(os.environ.get('BDA_USER_HOME', ''), \"src\", \"devel\", \"pykhaos\", \"external_lib\")\n",
    "if EXTERNAL_PATH not in sys.path:\n",
    "    sys.path.append(EXTERNAL_PATH)\n",
    "\n",
    "    \n",
    "    \n",
    "import pykhaos.utils.notebooks as nb\n",
    "\n",
    "\n",
    "RUNNING_FROM_NOTEBOOK = nb.isnotebook()\n",
    "import matplotlib.pyplot as plt\n",
    "if RUNNING_FROM_NOTEBOOK:\n",
    "    %load_ext autoreload\n",
    "    %autoreload 2\n",
    "    %matplotlib inline  \n",
    "    \n",
    "    \n",
    "    \n",
    "#logger = my_project.logger\n",
    "\n",
    "if not RUNNING_FROM_NOTEBOOK:\n",
    "    args = my_project.arg_parser()"
   ]
  },
  {
   "cell_type": "code",
   "execution_count": 2,
   "metadata": {},
   "outputs": [
    {
     "name": "stdout",
     "output_type": "stream",
     "text": [
      "Ended spark session: 26.6688129902 secs | default parallelism=4\n"
     ]
    },
    {
     "data": {
      "text/html": [
       "<style>.container { width:100% !important; }</style>"
      ],
      "text/plain": [
       "<IPython.core.display.HTML object>"
      ]
     },
     "metadata": {},
     "output_type": "execute_result"
    }
   ],
   "source": [
    "import time\n",
    "start_time = time.time()\n",
    "app_name = \"CCC-DP\"\n",
    "\n",
    "import pykhaos.utils.pyspark_configuration as pyspark_config\n",
    "sc, spark, sql_context = pyspark_config.get_spark_session(app_name=app_name, log_level=\"OFF\", min_n_executors = 1, max_n_executors = 10, n_cores = 4,\n",
    "                         executor_memory = \"16g\", driver_memory=\"4g\")\n",
    "print(\"Ended spark session: {} secs | default parallelism={}\".format(time.time() - start_time,\n",
    "                                                                     sc.defaultParallelism))\n",
    "\n",
    "from IPython.core.display import display, HTML\n",
    "display(HTML(\"<style>.container { width:100% !important; }</style>\"))"
   ]
  },
  {
   "cell_type": "code",
   "execution_count": 3,
   "metadata": {},
   "outputs": [],
   "source": [
    "from amdocs_informational_dataset.engine.call_centre_calls import CallCentreCalls\n",
    "from pyspark.sql.functions import collect_set, concat, size, coalesce, col, lpad, struct, count as sql_count, lit, min as sql_min, max as sql_max, collect_list, udf, when, desc, asc, to_date, create_map, sum as sql_sum\n",
    "from pyspark.sql.types import StringType, ArrayType, MapType, StructType, StructField, IntegerType\n",
    "from pyspark.sql.functions import array, regexp_extract\n",
    "from itertools import chain"
   ]
  },
  {
   "cell_type": "code",
   "execution_count": 52,
   "metadata": {},
   "outputs": [
    {
     "name": "stderr",
     "output_type": "stream",
     "text": [
      "20190313-090524 [DEBUG] backend module://ipykernel.pylab.backend_inline version unknown\n"
     ]
    },
    {
     "name": "stdout",
     "output_type": "stream",
     "text": [
      "The autoreload extension is already loaded. To reload it, use:\n",
      "  %reload_ext autoreload\n"
     ]
    }
   ],
   "source": [
    "# %load_ext autoreload\n",
    "# %autoreload 2\n",
    "# %matplotlib inline \n",
    "# from churn.config_manager.ccc_model_config_mgr import CCCmodelConfig\n",
    "# import time"
   ]
  },
  {
   "cell_type": "code",
   "execution_count": null,
   "metadata": {},
   "outputs": [],
   "source": [
    "\"CAT1_MODE\" in df_car.columns"
   ]
  },
  {
   "cell_type": "code",
   "execution_count": null,
   "metadata": {},
   "outputs": [],
   "source": [
    "cols = df_car.columns\n",
    "\n",
    "\n",
    "fx_cols = [col_ for col_ in df_car.columns if\n",
    "               (\"fx_\" in col_.lower() or \"fecha\" in col_.lower() or \"date\" in col_.lower()) and not (\"days_since\" in col_ or \"days_until\" in col_)]\n",
    "imputed_avg = [col_ for col_ in df_car.columns if col_.endswith(\"imputed_avg\")]\n",
    "pcg_redem = [col_ for col_ in df_car.columns if col_.startswith(\"pcg_redem_\")]\n",
    "orders = [col_ for col_ in df_car.columns if col_.lower().startswith(\"order\") and (col_.lower().endswith(\"id\") or\n",
    "                                                                                   col_.lower().endswith(\"date\") or\n",
    "                                                                                   col_.lower().endswith(\"description\"))]\n",
    "hour_max = [col_ for col_ in df_car.columns if col_.startswith(\"GNV_hour\")]\n",
    "\n",
    "bucket_cols = [col_ for col_ in df_car.columns if col_.lower().startswith(\"bucket\") or col_.lower().startswith(\"ccc_bucket\") or col_.lower().startswith(\"ccc_raw\") or col_.lower().startswith(\"raw\")]\n",
    "\n",
    "proxy_cols = [\"TOTAL_COMERCIAL\", \"TOTAL_NO_COMERCIAL\", \"COMERCIAL\", \"NO_COMERCIAL\", \"PRECIO\", \"TERMINAL\", \"CONTENIDOS\", \"SERVICIO/ATENCION\",\n",
    "                  \"TECNICO\", \"BILLING\", \"FRAUD\", \"NO_PROB\", \"CAT1_MODE\", \"CAT2_MODE\"]\n",
    "\n",
    "# remove penalties of descriptions\n",
    "novalen_penal_cols = [col_ for col_ in df_car.columns if col_.lower().startswith(\"penal_\") and (col_.lower().endswith(\"desc_promo\") or\n",
    "                                                                                                col_.lower().endswith(\"desc_penal\"))]\n",
    "useless =  ['bucket_list', 'bucket_set', 'cat1_list', 'cat2_list', \"DIR_LINEA1\", \"DIR_LINEA2\", \"DIR_LINEA3\", \"DIR_LINEA4\", \"DIR_FACTURA1\",\n",
    "            \"DIR_FACTURA2\", \"DIR_FACTURA3\", \"DIR_FACTURA4\", \"num_cliente_car\", \"num_cliente\", \"NOMBRE\", \"PRIM_APELLIDO\", \"SEG_APELLIDO\", \"NOM_COMPLETO\",\n",
    "            'bucket_list', 'bucket_set', 'TRAT_FACT', 'NOMBRE_CLI_FACT', 'APELLIDO1_CLI_FACT',\n",
    "            'APELLIDO2_CLI_FACT', 'NIF_CLIENTE', 'CTA_CORREO_CONTACTO', 'CTA_CORREO', 'codigo_postal_city']\n",
    "\n",
    "\n",
    "quedan = list(set(cols) - set(pcg_redem + fx_cols + imputed_avg + useless + novalen_penal_cols + orders + hour_max + bucket_cols + proxy_cols))\n",
    "len(quedan)"
   ]
  },
  {
   "cell_type": "code",
   "execution_count": null,
   "metadata": {},
   "outputs": [],
   "source": [
    "df_metadata = spark.read.option(\"delimiter\", \"|\").option(\"header\", True).csv(\"/data/udf/vf_es/churn/metadata\")\n"
   ]
  },
  {
   "cell_type": "code",
   "execution_count": null,
   "metadata": {},
   "outputs": [],
   "source": [
    "print(df_customer.count(), df_customer.dropDuplicates([\"num_cliente\"]).count())\n"
   ]
  },
  {
   "cell_type": "code",
   "execution_count": null,
   "metadata": {},
   "outputs": [],
   "source": [
    "#df_customer.groupby(\"PUBLICIDAD\").agg(sql_count(\"*\").alias(\"count\")).sort(desc(\"count\")).show(100,False)\n",
    "\n",
    "df_customer.where(col(\"max_days_until_penal_cust_pending_end_date\") != col(\"total_max_days_until_penal_cust_pending_end_date\")).select(\"penal_cust_pending_n1_penal_amount\", \n",
    "                                                                                                                                       \"days_until_penal_cust_pending_n1_end_date\", \n",
    "                                                                                                                                       \"max_days_until_penal_cust_pending_end_date\", \n",
    "                                                                                                                                       \"total_max_days_until_penal_cust_pending_end_date\").show(100,False)"
   ]
  },
  {
   "cell_type": "code",
   "execution_count": null,
   "metadata": {},
   "outputs": [],
   "source": [
    "df_inci = spark.read.option(\"delimiter\", \"|\").option(\"header\", True).csv(\"/data/udf/vf_es/churn/ccc_model/comercial/df_c20181007_c20181107_n60_comercial_msisdn/\")\n",
    "#df_inci.where(col(\"IND_PBMA_SRV\")==0).groupby(\"IND_PBMA_SRV\", \"DETALLE_PBMA_SRV\").agg(count(\"*\").alias(\"count\")).show(1000, False)\n",
    "\"CAT1_MODE\" in df_inci.columns"
   ]
  },
  {
   "cell_type": "code",
   "execution_count": null,
   "metadata": {},
   "outputs": [],
   "source": [
    "starting_day = \"20181114\"\n",
    "closing_day = \"20190114\"\n",
    "\n",
    "from pykhaos.utils.date_functions import move_date_n_cycles\n",
    "\n",
    "ss = starting_day\n",
    "while ss <= closing_day:\n",
    "    print(ss)\n",
    "    ss = move_date_n_cycles(ss,1)\n",
    "\n"
   ]
  },
  {
   "cell_type": "code",
   "execution_count": null,
   "metadata": {},
   "outputs": [],
   "source": [
    "df.select([count(when(isNull(c), 1)).alias(c) for c in [\"FECHA_MIGRACION\"]])"
   ]
  },
  {
   "cell_type": "code",
   "execution_count": null,
   "metadata": {},
   "outputs": [],
   "source": [
    "# cols_comerciales = [col for col in ccc_id_grouped.columns\n",
    "#                 if (col.startswith('sum_CCC_Pagar_menos') or\n",
    "#                     col.startswith('sum_CCC_Ofrecimiento') or\n",
    "#                     col.startswith('sum_CCC_Precios') or\n",
    "#                     col.startswith('sum_CCC_Factura') or\n",
    "#                     col.startswith('sum_CCC_Productos')\n",
    "#                    )]\n",
    "# cols_servicio = [col for col in ccc_id_grouped.columns\n",
    "#                 if (col.startswith('sum_CCC_Incidencia') or\n",
    "#                     col.startswith('sum_CCC_Averia') or\n",
    "#                     col.startswith('sum_CCC_Consulta_Tecnica') or\n",
    "#                     col.startswith('sum_CCC_Provision') or\n",
    "#                     col.startswith('sum_CCC_Resultado_Escalo') or\n",
    "#                     col.startswith('sum_CCC_Resultado_Envio_tecnico') or\n",
    "#                     col.startswith('sum_CCC_Resultado_Transferencia') or\n",
    "#                     col.startswith('sum_CCC_Resultado_Reclamacion')\n",
    "#                    )]\n",
    "\n",
    "# cols_servicio_fibra = [col for col in ccc_id_grouped.columns\n",
    "#                       if (col.startswith('sum_CCC_Incidencia_Provision_Fibra') or\n",
    "#                           col.startswith('sum_CCC_Averia_Fibra') or\n",
    "#                           col.startswith('sum_CCC_Consulta_Tecnica_Fibra') or\n",
    "#                           col.startswith('sum_CCC_Provision_Fibra')\n",
    "#                          )]\n",
    "# cols_servicio_neba = [col for col in ccc_id_grouped.columns\n",
    "#                       if (col.startswith('sum_CCC_Incidencia_Provision_Neba') or\n",
    "#                           col.startswith('sum_CCC_Averia_Neba') or\n",
    "#                           col.startswith('sum_CCC_Consulta_Tecnica_Neba') or\n",
    "#                           col.startswith('sum_CCC_Provision_Neba')\n",
    "#                          )]\n",
    "# cols_servicio_dsl = [col for col in ccc_id_grouped.columns\n",
    "#                     if (col.startswith('sum_CCC_Incidencia_Provision_DSL') or\n",
    "#                         col.startswith('sum_CCC_Averia_DSL') or\n",
    "#                         col.startswith('sum_CCC_Consulta_Tecnica_DSL') or\n",
    "#                         col.startswith('sum_CCC_Provision_DSL')\n",
    "#                        )]\n",
    "# cols_servicio_movil = [col for col in ccc_id_grouped.columns\n",
    "#                       if (col.startswith('sum_CCC_Incidencia_Provision_Movil') or\n",
    "#                           col.startswith('sum_CCC_Averia_Movil') or\n",
    "#                           col.startswith('sum_CCC_Consulta_Tecnica_Movil') or\n",
    "#                           col.startswith('sum_CCC_Provision_Movil')\n",
    "#                          )]\n",
    "# cols_servicio_tv = [col for col in ccc_id_grouped.columns\n",
    "#                       if (col.startswith('sum_CCC_Incidencia_Provision_TV') or\n",
    "#                           col.startswith('sum_CCC_Averia_TV') or\n",
    "#                           col.startswith('sum_CCC_Consulta_Tecnica_TV') or\n",
    "#                           col.startswith('sum_CCC_Provision_TV')\n",
    "#                          )]\n",
    "# cols_servicio_modemrouter = [col for col in ccc_id_grouped.columns\n",
    "#                       if (col.startswith('sum_CCC_Incidencia_Provision_Modem/Router') or\n",
    "#                           col.startswith('sum_CCC_Averia_Modem/Router') or\n",
    "#                           col.startswith('sum_CCC_Consulta_Tecnica_Modem/Router') or\n",
    "#                           col.startswith('sum_CCC_Provision_Modem/Router')\n",
    "#                          )]"
   ]
  },
  {
   "cell_type": "code",
   "execution_count": null,
   "metadata": {},
   "outputs": [],
   "source": [
    "df_all = df_all.withColumn(\"is_fraud\", when(col(\"INT_RAZON\").rlike(\"(?i)enga.o comercial|venta enga.osa\"),1).otherwise(0))\n",
    "df_all = df_all.withColumn(\"Queja_Trato\", when(col(\"INT_SUBTIPO\").isin([\"Queja trato\", \"Quejas sevicios de atencion\"]),1).otherwise(0))"
   ]
  },
  {
   "cell_type": "code",
   "execution_count": null,
   "metadata": {},
   "outputs": [],
   "source": [
    "CAT_PRECIO = \"PRECIO\"\n",
    "CAT_TERMINAL = \"TERMINAL\"\n",
    "CAT_CONTENIDOS = \"CONTENIDOS\"\n",
    "CAT_COMERCIAL = \"COMERCIAL\"\n",
    "CAT_NO_COMERCIAL = \"NO_COMERCIAL\"\n",
    "CAT_SERV_ATENCION = \"SERVICIO/ATENCION\"\n",
    "CAT_TECNICO = \"TECNICO\"\n",
    "CAT_BILLING = \"BILLING\"\n",
    "CAT_FRAUD = \"FRAUD\"\n",
    "CAT_FACTURA = \"FACTURA\"\n",
    "NO_PROB = \"NO_PROB\"\n",
    "\n",
    "# ADD CATEGORIES TO CALLS\n",
    "\n",
    "df_all = df_all.withColumn(\"CATEGORY_2\", \\\n",
    "                           # - - - - - - - - - PRECIO\n",
    "                                        when(col('INT_TIPO').rlike(\"(?i)cliente quiere pagar menos|clte quiere pagar menos|ofrecimiento comercial|precios y promociones|plan de precios|planes de precios\") , CAT_PRECIO)\n",
    "                           # - - - - - - - - - SERVICIO/ATENCION\n",
    "                                        .when(col(\"INT_SUBTIPO\").isin([\"Queja trato\", \"Quejas sevicios de atencion\"]),CAT_SERV_ATENCION)\n",
    "                           # - - - - - - - - - CONTENIDOS\n",
    "                                        .when(col(\"INT_TIPO\").rlike(\"(?i)productos\"), CAT_CONTENIDOS)\n",
    "                           # - - - - - - - - - ENGAÑO\n",
    "                                        .when(col(\"INT_RAZON\").rlike(\"(?i)enga.o comercial|venta enga.osa\"), CAT_FRAUD)\n",
    "                           # - - - - - - - - - TECNICO\n",
    "                                         .when(col('INT_TIPO').rlike('(?i)^Averia'),CAT_TECNICO)\n",
    "                                         .when((col('INT_TIPO').rlike('(?i)^Transferencia'))& (col(\"INT_SUBTIPO\").rlike('(?i)^Aver.as')), CAT_TECNICO)\n",
    "                                         .when(col('INT_TIPO').rlike('(?i)^Inc Provis.*Neba|^Inc Provision Fibra|^Inc Provision DSL|^Incidencia%ecnica|^Incidencia%SGI|^Inc|^Incidencia'),CAT_TECNICO)\n",
    "                                         .when(col('INT_TIPO').rlike('(?i)^Consulta tec'),CAT_TECNICO)\n",
    "                                         .when(col(\"Raw_Resultado\").rlike(\"Raw_Resultado_Escalo|Raw_Resultado_Envio_tecnico|Raw_Resultado_Transferencia|Raw_Resultado_Reclamacion\"), CAT_TECNICO) \n",
    "                           # - - - - - - - - - FACTURA                 \n",
    "                                         .when(col('INT_TIPO').rlike('(?i)factura'), CAT_FACTURA)\n",
    "                           # - - - - - - - - - TERMINAL                 \n",
    "                                       .when(col(\"INT_TIPO\")==\"TERMINAL\", \"TERMINAL\")\n",
    "                           # - - - - - - - - - NO_PROB :)                 \n",
    "                                       .when((col(\"INT_TIPO\")==\"INFORMACION\")| ((col(\"INT_TIPO\")==\"TRANSFERENCIA\") & (col(\"Bucket\")==\"Other customer information management\")), NO_PROB).otherwise(\"NA\")\n",
    "    )# end\n",
    "                  \n",
    "    \n",
    "df_all = (df_all.withColumn(\"CATEGORY_1\", when(col('CATEGORY_2').isin([CAT_PRECIO, CAT_TERMINAL, CAT_CONTENIDOS]), CAT_COMERCIAL)\n",
    "                           .when(col('CATEGORY_2').isin([CAT_SERV_ATENCION, CAT_TECNICO, CAT_BILLING, CAT_FRAUD]), CAT_NO_COMERCIAL)\n",
    "                           .otherwise(col('CATEGORY_2'))))\n",
    "   \n",
    "#df_all.where(col(\"CATEGORY_1\")==\"NA\").select(\"CATEGORY_2\", \"INT_Tipo\").groupBy(\"CATEGORY_2\", \"INT_Tipo\").agg(sql_count(\"*\").alias(\"count\")).sort(desc(\"count\")).show()\n",
    "\n",
    "\n",
    "# FALTA\n",
    "# col('Raw_Productos') hay que desglosarlo\n",
    "\n"
   ]
  },
  {
   "cell_type": "code",
   "execution_count": null,
   "metadata": {},
   "outputs": [],
   "source": [
    "df_all.where(col(\"CATEGORY_1\")==\"NA\").select(\"INT_Tipo\", \"INT_Tipo\").groupBy(\"INT_Tipo\", \"INT_Tipo\").agg(sql_count(\"*\").alias(\"count\")).sort(desc(\"count\")).show(30, False)"
   ]
  },
  {
   "cell_type": "code",
   "execution_count": null,
   "metadata": {},
   "outputs": [],
   "source": [
    "from pyspark.sql.functions import desc\n",
    "df_all.where(col(\"CATEGORY_1\")==\"NA\").select(\"INT_Tipo\", \"INT_Tipo\",\"INT_Resultado\").groupBy(\"INT_Tipo\", \"INT_Tipo\",\"INT_Resultado\").agg(sql_count(\"*\").alias(\"count\")).sort(desc(\"count\")).show(30, False)"
   ]
  },
  {
   "cell_type": "code",
   "execution_count": null,
   "metadata": {},
   "outputs": [],
   "source": [
    "\n",
    "\n",
    "from reportlab.lib.enums import TA_RIGHT\n"
   ]
  },
  {
   "cell_type": "code",
   "execution_count": null,
   "metadata": {},
   "outputs": [],
   "source": [
    "import argparse\n",
    "import csv\n",
    "import re\n",
    "import subprocess\n",
    "import sys\n",
    "import time\n",
    "from pyspark.sql import SparkSession, SQLContext\n",
    "from pyspark.sql.functions import col, concat, concat_ws, date_format, dayofmonth, format_string, from_unixtime, length, \\\n",
    "\tlit, lower, lpad, month, regexp_replace, translate, udf, unix_timestamp, year, when, upper, collect_set, collect_list, \\\n",
    "    count as sql_count, min as sql_min, max as sql_max, struct, size, coalesce, sum as sql_sum\n",
    "from pyspark.sql.types import DateType, IntegerType, StringType, StructField, StructType\n",
    "from pyspark.sql.utils import AnalysisException\n",
    "from engine.general_functions import format_date, compute_diff_days, sum_horizontal\n",
    "from collections import Counter\n",
    "from pyspark.sql.types import StringType\n",
    "\n",
    "\n",
    "def add_l2_ccc_variables(df_all, df_pivot, process_date):\n",
    "\n",
    "    print(\"Calling to add_l2_ccc_variables....\")\n",
    "\n",
    "    df_agg = (df_all\n",
    "              .withColumn(\"fx_interaction\",\n",
    "                          concat(col('year'), lpad(col('month'), 2, '0'), lpad(col('day'), 2, '0')))\n",
    "              .withColumn(\"tuples\", struct([\"fx_interaction\", \"Bucket\"]))\n",
    "              .groupby('msisdn')\n",
    "              .agg(sql_count(lit(1)).alias(\"num_interactions\"),\n",
    "                   sql_min(col('fx_interaction')).alias(\"first_interaction\"),\n",
    "                   sql_max(col('fx_interaction')).alias(\"latest_interaction\"),\n",
    "                   sql_max(col(\"tuples\")).alias(\"tuples_max\"),  # latest interaction: [max(fx_interaction), bucket]\n",
    "                   sql_min(col(\"tuples\")).alias(\"tuples_min\"),  # first interaction: [min(fx_interaction), bucket]\n",
    "                   collect_list('Bucket').alias(\"bucket_list\"),\n",
    "                   collect_set('Bucket').alias(\"bucket_set\"),\n",
    "                   sql_sum(\"Bucket_NA\").alias(\"num_NA_buckets\"),\n",
    "                   sql_sum(\"IVR\").alias(\"num_ivr_interactions\"),\n",
    "                   collect_list('CATEGORY_1').alias(\"cat1_list\"),\n",
    "                   collect_list('CATEGORY_2').alias(\"cat2_list\"),\n",
    "            ))\n",
    "\n",
    "    df_agg = df_agg.withColumn(\"ref_date\", format_date(lit(process_date)))\n",
    "    df_agg = (df_agg.withColumn(\"bucket_1st_interaction\", col(\"tuples_min\")[\"Bucket\"])\n",
    "              .withColumn(\"bucket_latest_interaction\", col(\"tuples_max\")[\"Bucket\"])\n",
    "              .withColumn(\"nb_diff_buckets\", size(\"bucket_set\"))\n",
    "              .drop(*['tuples_max', 'tuples_min'])\n",
    "              )\n",
    "\n",
    "    for cc in [\"first_interaction\", \"latest_interaction\"]:\n",
    "        df_agg = (df_agg.withColumn(\"fx_{}\".format(cc),\n",
    "                                    format_date(cc, filter_dates_1900=True))  # days before 1900 converted to None\n",
    "                  .withColumn(\"days_since_{}\".format(cc), compute_diff_days(\"fx_{}\".format(cc), \"ref_date\")))\n",
    "\n",
    "    df_agg = df_agg.drop(\"ref_date\")\n",
    "\n",
    "    def get_mode_problems(lst):\n",
    "        # filter NA y NO_PROB\n",
    "        if not lst: return None\n",
    "        lst=[ll for ll in lst if ll and ll!=NO_PROB]\n",
    "        dd = Counter(lst).most_common(2)\n",
    "        return dd[0][0] \n",
    "    get_mode_udf = udf(lambda lst: get_mode(lst), StringType())\n",
    "\n",
    "    df_agg = (df_agg.withColumn(\"CAT1_MODE\", when(coalesce(size(col(\"cat1_list\")), lit(0)) == 0, \"None\").otherwise(get_mode_udf(col(\"cat1_list\"))))\n",
    "              .withColumn(\"CAT2_MODE\", when(coalesce(size(col(\"cat1_list\")), lit(0)) == 0, \"None\").otherwise(get_mode_udf(col(\"cat2_list\"))))\n",
    "                    .withColumnRenamed(\"msisdn\", \"msisdn_agg\"))\n",
    "\n",
    "    df_pivot = df_pivot.join(df_agg, on=df_pivot[\"msisdn\"]==df_agg[\"msisdn_agg\"], how=\"left\")\n",
    "    df_pivot = df_pivot.drop(*[\"msisdn_agg\"])\n",
    "    return df_pivot\n",
    "\n",
    "\n",
    "df_agg = add_l2_ccc_variables(df_all, df_ccc, ccc_end_model)\n",
    "\n",
    "\n",
    "\n"
   ]
  },
  {
   "cell_type": "code",
   "execution_count": null,
   "metadata": {},
   "outputs": [],
   "source": [
    "df_agg.select(\"CAT1_MODE\").groupBy(\"CAT1_MODE\").agg(sql_count(\"*\").alias(\"count\")).sort(desc(\"count\")).show(30, False)"
   ]
  },
  {
   "cell_type": "code",
   "execution_count": null,
   "metadata": {},
   "outputs": [],
   "source": [
    "df_agg.select(\"CAT2_MODE\").groupBy(\"CAT2_MODE\").agg(sql_count(\"*\").alias(\"count\")).sort(desc(\"count\")).show(30, False)"
   ]
  },
  {
   "cell_type": "code",
   "execution_count": null,
   "metadata": {},
   "outputs": [],
   "source": [
    "df_scores_incidencias.select(*['msisdn', 'comb_score', 'comb_decile', 'IND_PBMA_SRV', 'DETALLE_PBMA_SRV']).write.mode('overwrite').format('csv').option('sep', '|').option('header', 'true').save('/tmp/csanc109/churn/preds_comb_20181107_all_incidences.csv.20181122_vtipis1')"
   ]
  },
  {
   "cell_type": "code",
   "execution_count": null,
   "metadata": {},
   "outputs": [],
   "source": [
    "#df_all.select(\"Raw_Resultado\").distinct().show(20,False)\n",
    "# +---------------------------+\n",
    "# |Raw_Resultado              |\n",
    "# +---------------------------+\n",
    "# |Raw_Resultado_Bajas        |\n",
    "# |Raw_Resultado_Retenido     |\n",
    "# |Raw_Resultado_Informacion  |\n",
    "# |null                       |\n",
    "# |Raw_Resultado_Envio_tecnico|\n",
    "# |Raw_Resultado_Escalo       |\n",
    "# |Raw_Resultado_Reclamacion  |\n",
    "# |Raw_Resultado_Transferencia|\n",
    "# |Raw_Resultado_Solucionado  |\n",
    "# |Raw_Resultado_Abono        |\n",
    "# |Raw_Resultado_No_Retenido  |\n",
    "# +---------------------------+\n",
    "\n",
    "# cols_servicio_fibra =[col_ for col_ in self.pivoted_by_msisdn.columns if re.match(\"^CCC_Incidencia_Provision_Fibra|^CCC_Averia_Fibra|^CCC_Consulta_Tecnica_Fibra|^CCC_Provision_Fibra\", col_)]\n",
    "# cols_servicio_neba =[col_ for col_ in self.pivoted_by_msisdn.columns if re.match(\"^CCC_Incidencia_Provision_Neba|^CCC_Averia_Neba|^CCC_Consulta_Tecnica_Neba|^sum_CCC_Provision_Neba\", col_)]\n",
    "# cols_servicio_dsl = [col_ for col_ in self.pivoted_by_msisdn.columns if re.match(\"^CCC_Incidencia_Provision_DSL|^CCC_Averia_DSL|^CCC_Consulta_Tecnica_DSL|^sum_CCC_Provision_DSL\")]\n",
    "# cols_servicio_movil = [col_ for col_ in self.pivoted_by_msisdn.columns if re.match(\"^CCC_Incidencia_Provision_Movil|^CCC_Averia_Movil|^CCC_Consulta_Tecnica_Movil|^CCC_Provision_Movil\")]\n",
    "\n",
    "# cols_servicio_tv = [col_ for col_ in self.pivoted_by_msisdn.columns if re.match(\"^CCC_Incidencia_Provision_TV|^CCC_Averia_TV|^CCC_Consulta_Tecnica_TV|^CCC_Provision_TV\")]\n",
    "# cols_servicio_modemrouter = [col_ for col_ in self.pivoted_by_msisdn.columns if re.match('^CCC_Incidencia_Provision_Modem/Router|^CCC_Averia_Modem/Router|^CCC_Consulta_Tecnica_Modem/Router|^CCC_Provision_Modem/Router')]\n",
    "# cols_servicio_comerciales = [col_ for col_ in self.pivoted_by_msisdn.columns if re.match('^CCC_Pagar_menos|^CCC_Ofrecimiento|^CCC_Precios|^CCC_Factura|^CCC_Productos')]\n",
    "\n",
    "\n",
    "# cols_servicio = [col_ for col_ in self.pivoted_by_msisdn.columns if re.match(\"^CCC_Incidencia|^CCC_Averia|^CCC_Consulta_Tecnica|^CCC_Provision|^CCC_Resultado_Escalo|^CCC_Resultado_Envio_tecnico|^CCC_Resultado_Transferencia|^CCC_Resultado_Reclamacion\")]                                                                                               \n",
    "# cols_precio = [col_ for col_ in self.pivoted_by_msisdn.columns if re.match('^CCC_Pagar_menos|^CCC_Ofrecimiento|^CCC_Precios|^CCC_Productos')]\n",
    "# cols_billing = [col_ for col_ in self.pivoted_by_msisdn.columns if re.match('^CCC_Factura')]\n",
    "# cols_tecnico = [col_ for col_ in self.pivoted_by_msisdn.columns if re.match(\"^CCC_Incidencia|^CCC_Averia|^CCC_Consulta_Tecnica|^CCC_Provision|^CCC_Resultado_Escalo|^CCC_Resultado_Envio_tecnico|^CCC_Resultado_Transferencia|^CCC_Resultado_Reclamacion\")]                                                                                               \n",
    "\n",
    "                                                                             \n",
    "                                                                             \n",
    "# self.pivoted_by_msisdn = (self.pivoted_by_msisdn.withColumn(\"servicio_fibra\", sum_horizontal(cols_servicio_fibra))\n",
    "#                                                 .withColumn(\"servicio_neba\", sum_horizontal(cols_servicio_neba))\n",
    "#                                                 .withColumn(\"servicio_dsl\", sum_horizontal(cols_servicio_dsl))\n",
    "#                                                 .withColumn(\"servicio_movil\", sum_horizontal(cols_servicio_movil))\n",
    "#                                                 .withColumn(\"servicio_tv\", sum_horizontal(cols_servicio_tv))\n",
    "#                                                 .withColumn(\"servicio_modemrouter\", sum_horizontal(cols_servicio_modemrouter))\n",
    "#                                                 .withColumn(\"servicio_comerciales\", sum_horizontal(cols_servicio_comerciales))\n",
    "#                                                 .withColumn(\"servicio\", sum_horizontal(cols_servicio))\n",
    "#                          )\n",
    "\n",
    "\n",
    "\n"
   ]
  },
  {
   "cell_type": "code",
   "execution_count": null,
   "metadata": {},
   "outputs": [],
   "source": [
    "df_scores_incidencias.columns"
   ]
  },
  {
   "cell_type": "code",
   "execution_count": null,
   "metadata": {},
   "outputs": [],
   "source": []
  },
  {
   "cell_type": "code",
   "execution_count": null,
   "metadata": {},
   "outputs": [],
   "source": [
    "\n",
    "CLOSING_DAY = \"20181231\" \n",
    "from pykhaos.utils.date_functions import move_date_n_days, move_date_n_yearmonths\n",
    "ccc_start_date_ = move_date_n_days(CLOSING_DAY, -30, str_fmt=\"%Y%m%d\")\n",
    "\n",
    "\n",
    "\n",
    "# # Use the previous YYYYMM to get the service problems\n",
    "# yyyymm_str = move_date_n_yearmonths(CLOSING_DAY[:6], -1)\n",
    "# print(\"Using yyyymm={} to obtain the service_problems\".format(yyyymm_str))\n",
    "\n",
    "# from churn.datapreparation.general.problemas_servicio_data_loader import get_service_problems\n",
    "\n",
    "# df_service_problems = get_service_problems(spark, CLOSING_DAY)"
   ]
  },
  {
   "cell_type": "code",
   "execution_count": null,
   "metadata": {},
   "outputs": [],
   "source": [
    "from churn.datapreparation.general.tgs_data_loader import get_tgs\n",
    "\n",
    "CLOSING_DAY = \"20181231\"\n",
    "yyyymm_str = move_date_n_yearmonths(CLOSING_DAY[:6], -1)\n",
    "print(\"Using yyyymm={} to obtain the service_problems\".format(yyyymm_str))\n"
   ]
  },
  {
   "cell_type": "code",
   "execution_count": null,
   "metadata": {},
   "outputs": [],
   "source": [
    "from reportlab.lib.enums import TA_RIGHT"
   ]
  },
  {
   "cell_type": "code",
   "execution_count": null,
   "metadata": {},
   "outputs": [],
   "source": [
    "from churn.datapreparation.app.generate_table_extra_feats import impute_nulls\n",
    "df_tgs_nonulls = impute_nulls_hola(df_tgs, spark)"
   ]
  },
  {
   "cell_type": "code",
   "execution_count": null,
   "metadata": {},
   "outputs": [],
   "source": [
    "from pykhaos.utils.pyspark_utils import count_nans\n",
    "\n",
    "A = count_nans(df_tgs_nonulls, as_pandas=False)\n",
    "B=A.rdd.collect()[0]\n",
    "{col_:val for col_,val in B.asDict().items() if val>0} "
   ]
  },
  {
   "cell_type": "code",
   "execution_count": null,
   "metadata": {},
   "outputs": [],
   "source": [
    "mycols = [col_ for col_ in df_kk.columns if col_.startswith(\"ccc_num\")]\n",
    "df_kk.select(mycols).dtypes"
   ]
  },
  {
   "cell_type": "code",
   "execution_count": null,
   "metadata": {},
   "outputs": [],
   "source": [
    "from pykhaos.utils.pyspark_utils import count_nans\n",
    "\n",
    "A = count_nans(df_kk, as_pandas=False)\n",
    "B=A.rdd.collect()[0]\n",
    "{col_:val for col_,val in B.asDict().items() if val>0} "
   ]
  },
  {
   "cell_type": "code",
   "execution_count": 21,
   "metadata": {},
   "outputs": [],
   "source": [
    "spark.stop()"
   ]
  },
  {
   "cell_type": "markdown",
   "metadata": {},
   "source": [
    "# ANALYSIS CCC y CHURN"
   ]
  },
  {
   "cell_type": "code",
   "execution_count": 10,
   "metadata": {},
   "outputs": [
    {
     "name": "stdout",
     "output_type": "stream",
     "text": [
      "Ports   start=20181101   end=20190131\n",
      "CCC     start=20181101   end=20181231\n",
      "TGs    yyyymm=201810   closing_day=20181031\n",
      "BASE closing_day=20181031\n"
     ]
    }
   ],
   "source": [
    "from pykhaos.utils.date_functions import get_last_day_of_month, move_date_n_days, move_date_n_cycles, move_date_n_yearmonths\n",
    "\n",
    "CLOSING_DAY = \"20190131\"\n",
    "PORT_MONTHS_LENGTH = 3\n",
    "\n",
    "start_port = move_date_n_days(move_date_n_cycles(CLOSING_DAY, -4 * PORT_MONTHS_LENGTH), 1)\n",
    "end_port = CLOSING_DAY\n",
    "\n",
    "ccc_start = start_port\n",
    "ccc_end = move_date_n_cycles(end_port, -4)\n",
    "\n",
    "tgs_yyyymm = move_date_n_yearmonths(start_port[:6], -1)\n",
    "tgs_closing_day = move_date_n_days(ccc_start, -1)\n",
    "\n",
    "base_closing_day = move_date_n_days(ccc_start, -1)\n",
    "\n",
    "TRIGGER_LIST = [\"CCC\"]# [\"FACTURA\", \"PERMS_DCTOS\", \"CCC\"]\n",
    "DAYS_EOP_LIST = [60]\n",
    "BY = \"num_cliente\"\n",
    "\n",
    "\n",
    "print(\"Ports   start={}   end={}\".format(start_port, end_port))\n",
    "print(\"CCC     start={}   end={}\".format(ccc_start, ccc_end))\n",
    "print(\"TGs    yyyymm={}   closing_day={}\".format(tgs_yyyymm, tgs_closing_day))\n",
    "print(\"BASE closing_day={}\".format(base_closing_day))\n",
    "#print(\"Base comparison between {} and {}\".format(base_closing_day, base_after_port_closing_day))"
   ]
  },
  {
   "cell_type": "code",
   "execution_count": 11,
   "metadata": {},
   "outputs": [],
   "source": [
    "from churn.analysis.ccc_churn.engine.data_loader import get_port, get_ccc_data, get_tgs, get_all_ports\n",
    "from churn.datapreparation.general.data_loader import get_active_services\n",
    "from churn.analysis.ccc_churn.engine.reporter import compute_results, SAVING_PATH, init_writer, print_sheet\n",
    "from churn.analysis.ccc_churn.app.run_ccc_churn_analysis import join_dfs\n",
    "# UNIQUE_DIRNAME = dt.datetime.now().strftime(\"%Y%m%d_%H%M%S\")\n",
    "# final_filename = os.path.join(SAVING_PATH, \"reporter_c{}_m{}_{}.xlsx\".format(CLOSING_DAY, PORT_MONTHS_LENGTH, UNIQUE_DIRNAME))\n",
    "\n",
    "# writer = init_writer(final_filename)"
   ]
  },
  {
   "cell_type": "code",
   "execution_count": 65,
   "metadata": {},
   "outputs": [
    {
     "name": "stdout",
     "output_type": "stream",
     "text": [
      "Get port requests table: start=20181101 end=20190131 ref_date=20190131\n",
      "20181101\n",
      "20190131\n"
     ]
    },
    {
     "name": "stderr",
     "output_type": "stream",
     "text": [
      "20190313-163405 [INFO ] Reading TGs from file '/data/udf/vf_es/churn/tgs/MATRIZ_PREVEN_BI_201810.TXT'\n"
     ]
    }
   ],
   "source": [
    "from pyspark.sql.functions import datediff, unix_timestamp, from_unixtime, translate, substring\n",
    "\n",
    "# # # # # # # # # # # # # # # # # # # # # # # # # # # # # #\n",
    "# P O R T O U T S\n",
    "# # # # # # # # # # # # # # # # # # # # # # # # # # # # # #\n",
    "df_port = get_all_ports(spark, start_port, end_port, base_closing_day)\n",
    "\n",
    "# # # # # # # # # # # # # # # # # # # # # # # # # # # # # #\n",
    "# C  C  C\n",
    "# # # # # # # # # # # # # # # # # # # # # # # # # # # # # #\n",
    "\n",
    "from pykhaos.utils.date_functions import move_date_n_days\n",
    "df_ccc = get_ccc_data(spark, ccc_end, ccc_start)\n",
    "\n",
    "\n",
    "# # # # # # # # # # # # # # # # # # # # # # # # # # # # # #\n",
    "# T G s\n",
    "# # # # # # # # # # # # # # # # # # # # # # # # # # # # # #\n",
    "\n",
    "df_tgs = get_tgs(spark, tgs_closing_day, tgs_yyyymm)\n",
    "\n",
    "# - - - - - - - - - - - - - - - - - - - - - - - - - - - - - - - - - - - -\n",
    "# ACTIVE SERVICES\n",
    "# - - - - - - - - - - - - - - - - - - - - - - - - - - - - - - - - - - - -\n",
    "\n",
    "df_mobile_services = (get_active_services(spark, base_closing_day, new=False,\n",
    "                                          service_cols=[\"msisdn\", \"num_cliente\", \"campo2\", \"rgu\", \"srv_basic\",\n",
    "                                                        \"campo1\"],\n",
    "                                          customer_cols=[\"num_cliente\", \"nif_cliente\"])\n",
    "                      .withColumnRenamed(\"num_cliente_service\", \"num_cliente\")\n",
    "                      .where(col(\"rgu\").rlike(\"^mobile$|^movil$\")))\n",
    "df_mobile_services = df_mobile_services.drop_duplicates([\"msisdn\"])\n",
    "\n",
    "\n",
    "# - - - - - - - - - - - - - - - - - - - - - - - - - - - - - - - - - - - -\n",
    "# JOIN DFS\n",
    "# - - - - - - - - - - - - - - - - - - - - - - - - - - - - - - - - - - - -\n",
    "\n",
    "df_base_tgs_port_ccc = join_dfs(df_mobile_services, df_ccc, df_tgs, df_port, base_closing_day)\n",
    "\n",
    "\n",
    "df_base_tgs_port_ccc = (df_base_tgs_port_ccc.withColumn(\"days_from_endcccperiod_to_enddto\", when(col(\"tgs_fecha_fin_dto\").isNotNull(),\n",
    "                                                                 datediff(\n",
    "                                                                     from_unixtime(unix_timestamp(lit(ccc_end),\"yyyyMMdd\")),\n",
    "                                                                     from_unixtime(unix_timestamp(\"tgs_fecha_fin_dto\", \"yyyyMMdd\"))\n",
    "                                                               ).cast(\"double\")).otherwise(None)))\n",
    "\n",
    "# EOP=1 if eod within ccc range\n",
    "df_base_tgs_port_ccc = (\n",
    "    df_base_tgs_port_ccc.withColumn(\"EOP\", when(col(\"days_from_endcccperiod_to_enddto\").isNull(), 0)\n",
    "                                          .when(col(\"days_from_endcccperiod_to_enddto\") >= 0, 1).otherwise(0)))\n",
    "\n",
    "\n",
    "df_base_tgs_port_ccc = df_base_tgs_port_ccc.fillna(0, subset=[\"EOP\", \"CHURN\", \"TRIGGER\"])\n"
   ]
  },
  {
   "cell_type": "code",
   "execution_count": 22,
   "metadata": {},
   "outputs": [
    {
     "name": "stdout",
     "output_type": "stream",
     "text": [
      "+-------------------+--------------------+-----+\n",
      "|           INT_TIPO|         INT_SUBTIPO|count|\n",
      "+-------------------+--------------------+-----+\n",
      "|        INFORMACION|       NO COMPLETADA|30771|\n",
      "|        INFORMACION|          COMPLETADA|17759|\n",
      "|            CUELGUE|                 ANI| 3763|\n",
      "|            FACTURA|       IMPORTE TOTAL|  765|\n",
      "|      MEJORA OFERTA|       PRECIO/OFERTA|  513|\n",
      "|      TRANSFERENCIA|              FACREC|  495|\n",
      "|            FACTURA|          DESCUENTOS|  456|\n",
      "| ALTA NO RECONOCIDA|       OTROS CANALES|  445|\n",
      "|      A ESPECIFICAR|           NO APLICA|  435|\n",
      "|      DATOS CLIENTE|    DATOS PERSONALES|  370|\n",
      "|          NO VALIDA|    ATENCION CLIENTE|  273|\n",
      "|               DTMF|                 ANI|  263|\n",
      "|      DATOS CLIENTE|         PERMANENCIA|  258|\n",
      "|            FACTURA|               ABONO|  246|\n",
      "|      DATOS CLIENTE|   CAMBIO DE TITULAR|  207|\n",
      "|        INFORMACION|    LLAMADA SALIENTE|  197|\n",
      "|PRODUCTOS/SERVICIOS|           MÓVIL VOZ|  167|\n",
      "|           TERMINAL|    PEDIDO LOGISTICO|  167|\n",
      "|INFORMACION PROCESO|     PROCESO DE BAJA|  164|\n",
      "|           SE CORTA|BROMA/SE CORTA/CU...|  164|\n",
      "+-------------------+--------------------+-----+\n",
      "only showing top 20 rows\n",
      "\n"
     ]
    }
   ],
   "source": [
    "df_base_tgs_port_ccc.where(col(\"CHURN\")==1).where(col('days_from_ccc_to_sopo')<7).select('INT_TIPO','INT_SUBTIPO').groupby('INT_TIPO', 'INT_SUBTIPO').agg(sql_count(\"*\").alias(\"count\")).sort(desc(\"count\")).show()\n"
   ]
  },
  {
   "cell_type": "code",
   "execution_count": 71,
   "metadata": {},
   "outputs": [
    {
     "name": "stderr",
     "output_type": "stream",
     "text": [
      "20190313-165358 [INFO ] TRIGGER = ABONOS\n"
     ]
    }
   ],
   "source": [
    "TRIGGER_LIST = [\"CCC\"]\n",
    "PORT_MONTHS_LENGTH = 3\n",
    "#BY = \"msisdn\"\n",
    "TRIGGER = \"ABONOS\"\n",
    "\n",
    "\n",
    "logger.info(\"TRIGGER = {}\".format(TRIGGER))\n",
    "\n",
    "if TRIGGER == \"FACTURA\":\n",
    "    df_base_tgs_port_ccc = df_base_tgs_port_ccc.withColumn(\"TRIGGER\", col(\"TIPIS_FACTURA\"))\n",
    "elif TRIGGER == \"PERMS_DCTOS\":\n",
    "    df_base_tgs_port_ccc = df_base_tgs_port_ccc.withColumn(\"TRIGGER\", col(\"TIPIS_PERMANENCIA_DCTOS\"))\n",
    "elif TRIGGER == \"INFO\":\n",
    "    df_base_tgs_port_ccc = df_base_tgs_port_ccc.withColumn(\"TRIGGER\", col(\"TIPIS_INFO\"))\n",
    "elif TRIGGER == \"CCC\":\n",
    "    df_base_tgs_port_ccc = df_base_tgs_port_ccc.withColumn(\"TRIGGER\", col(\"CCC\"))\n",
    "elif TRIGGER == \"UCI\":\n",
    "    df_base_tgs_port_ccc = df_base_tgs_port_ccc.withColumn(\"TRIGGER\", col(\"TIPIS_UCI\"))\n",
    "elif TRIGGER == \"ABONOS\":\n",
    "    df_base_tgs_port_ccc = df_base_tgs_port_ccc.withColumn(\"TRIGGER\", col(\"TIPIS_ABONOS\"))\n",
    "else:\n",
    "    print(\"TRIGGER {} format does not exist\".format(TRIGGER))\n",
    "    import sys\n",
    "    sys.exit()\n"
   ]
  },
  {
   "cell_type": "code",
   "execution_count": 72,
   "metadata": {},
   "outputs": [],
   "source": [
    "days_to_port_filt = df_base_tgs_port_ccc\\\n",
    ".filter(col('SOPO')==1)\\\n",
    ".filter(col(\"TRIGGER\")==1)\\\n",
    ".filter(col(\"VALID_CCC_SOPO\")==1)\\\n",
    ".select('days_from_ccc_to_sopo')\\\n",
    ".rdd\\\n",
    ".map(lambda r:r['days_from_ccc_to_sopo'])\\\n",
    ".collect()\n",
    "\n",
    "\n"
   ]
  },
  {
   "cell_type": "code",
   "execution_count": 73,
   "metadata": {},
   "outputs": [
    {
     "data": {
      "text/plain": [
       "array([11.,  0.,  0., ...,  8.,  0.,  5.])"
      ]
     },
     "execution_count": 73,
     "metadata": {},
     "output_type": "execute_result"
    }
   ],
   "source": [
    "days_to_port_np_filt"
   ]
  },
  {
   "cell_type": "code",
   "execution_count": 74,
   "metadata": {},
   "outputs": [
    {
     "data": {
      "image/png": "[encoded data removed]",
      "text/plain": [
       "<Figure size 432x288 with 1 Axes>"
      ]
     },
     "metadata": {},
     "output_type": "display_data"
    }
   ],
   "source": [
    "import matplotlib.pyplot as plt \n",
    "import numpy as np\n",
    "\n",
    "days_to_port_np_filt = np.asarray(days_to_port_filt)\n",
    "# the histogram of the data\n",
    "n, bins, patches = plt.hist(days_to_port_np_filt,30, density=True,facecolor='g',alpha=0.75)\n",
    "plt.xlabel('Days to port-out request since first call')\n",
    "plt.ylabel('Probability')\n",
    "plt.title('Distribution of the number of days to port-out request')\n",
    "plt.grid(True)\n",
    "plt.show()"
   ]
  },
  {
   "cell_type": "code",
   "execution_count": 25,
   "metadata": {},
   "outputs": [],
   "source": [
    "from pyspark.sql.functions import datediff, unix_timestamp, from_unixtime, translate, substring\n",
    "\n",
    "df_base_tgs_port_ccc = (df_base_tgs_port_ccc.withColumn(\"days_from_endcccperiod_to_enddto\", when(col(\"tgs_fecha_fin_dto\").isNotNull(),\n",
    "                                                                     datediff(\n",
    "                                                                         from_unixtime(unix_timestamp(lit(ccc_end),\"yyyyMMdd\")),\n",
    "                                                                         from_unixtime(unix_timestamp(\"tgs_fecha_fin_dto\", \"yyyyMMdd\"))\n",
    "                                                                     ).cast(\"double\")).otherwise(None)))\n",
    "\n",
    "\n",
    "df_base_tgs_port_ccc = (df_base_tgs_port_ccc.withColumn(\"EOP\", when(col(\"days_from_endcccperiod_to_enddto\").isNull(),0)\n",
    "                                                              .when(col(\"days_from_endcccperiod_to_enddto\")>0, 1).otherwise(0)))\n"
   ]
  },
  {
   "cell_type": "code",
   "execution_count": null,
   "metadata": {},
   "outputs": [],
   "source": [
    "import numpy as np\n",
    "import matplotlib.pyplot as plt\n",
    "%matplotlib inline\n",
    "\n",
    "def sunburst(nodes, total=np.pi * 2, offset=0, level=0, ax=None):\n",
    "    ax = ax or plt.subplot(111, projection='polar')\n",
    "\n",
    "    if level == 0 and len(nodes) == 1:\n",
    "        label, value, subnodes = nodes[0]\n",
    "        ax.bar([0], [0.5], [np.pi * 2])\n",
    "        ax.text(0, 0, label, ha='center', va='center')\n",
    "        sunburst(subnodes, total=value, level=level + 1, ax=ax)\n",
    "    elif nodes:\n",
    "        d = np.pi * 2 / total\n",
    "        labels = []\n",
    "        widths = []\n",
    "        local_offset = offset\n",
    "        for label, value, subnodes in nodes:\n",
    "            labels.append(label)\n",
    "            widths.append(value * d)\n",
    "            sunburst(subnodes, total=total, offset=local_offset,\n",
    "                     level=level + 1, ax=ax)\n",
    "            local_offset += value\n",
    "        values = np.cumsum([offset * d] + widths[:-1])\n",
    "        heights = [1] * len(nodes)\n",
    "        bottoms = np.zeros(len(nodes)) + level - 0.5\n",
    "        rects = ax.bar(values, heights, widths, bottoms, linewidth=1,\n",
    "                       edgecolor='white', align='edge')\n",
    "        for rect, label in zip(rects, labels):\n",
    "            x = rect.get_x() + rect.get_width() / 2\n",
    "            y = rect.get_y() + rect.get_height() / 2\n",
    "            rotation = (90 + (360 - np.degrees(x) % 180)) % 360\n",
    "            ax.text(x, y, label, rotation=rotation, ha='center', va='center') \n",
    "\n",
    "    if level == 0:\n",
    "        ax.set_theta_direction(-1)\n",
    "        ax.set_theta_zero_location('N')\n",
    "        ax.set_axis_off()\n",
    "    \n",
    "    fig = plt.gcf()\n",
    "    fig.set_size_inches(18,12)\n",
    "    \n",
    "sunburst(data_ccc_churn) "
   ]
  },
  {
   "cell_type": "code",
   "execution_count": null,
   "metadata": {},
   "outputs": [],
   "source": [
    "# Libraries\n",
    "import matplotlib.pyplot as plt\n",
    " \n",
    "# Make data: I have 3 groups and 7 subgroups\n",
    "group_names=['groupA', 'groupB', 'groupC']\n",
    "group_size=[12,11,30]\n",
    "subgroup_names=['A.1', 'A.2', 'A.3', 'B.1', 'B.2', 'C.1', 'C.2', 'C.3', 'C.4', 'C.5']\n",
    "subgroup_size=[4,3,5,6,5,10,5,5,4,6]\n",
    " \n",
    "# Create colors\n",
    "a, b, c=[plt.cm.Blues, plt.cm.Reds, plt.cm.Greens]\n",
    " \n",
    "# First Ring (outside)\n",
    "fig, ax = plt.subplots()\n",
    "ax.axis('equal')\n",
    "mypie, _ = ax.pie(group_size, radius=1.3, labels=group_names, colors=[a(0.6), b(0.6), c(0.6)] )\n",
    "plt.setp( mypie, width=0.3, edgecolor='white')\n",
    " \n",
    "# Second Ring (Inside)\n",
    "mypie2, _ = ax.pie(subgroup_size, radius=1.3-0.3, labels=subgroup_names, labeldistance=0.7, colors=[a(0.5), a(0.4), a(0.3), b(0.5), b(0.4), c(0.6), c(0.5), c(0.4), c(0.3), c(0.2)])\n",
    "plt.setp( mypie2, width=0.4, edgecolor='white')\n",
    "\n",
    "plt.margins(0,0)\n",
    " \n",
    "# show it\n",
    "fig = plt.gcf()\n",
    "fig.set_size_inches(18,12)\n",
    "plt.show()"
   ]
  },
  {
   "cell_type": "code",
   "execution_count": 26,
   "metadata": {},
   "outputs": [
    {
     "name": "stdout",
     "output_type": "stream",
     "text": [
      "+-------------------+-----------+---------------------+------+-------------------------------------------------------------------------------------------+------------+-----------------------------------------------------------------------------------------------------------------------------------------+-------------------------------------------------------------------------------------------------------------------------+------+---------+------------+----------+----+-----+---+\n",
      "|executed_at        |model_level|training_closing_date|target|model_path                                                                                 |metrics_path|metrics_train                                                                                                                            |metrics_test                                                                                                             |varimp|algorithm|author_login|extra_info|year|month|day|\n",
      "+-------------------+-----------+---------------------+------+-------------------------------------------------------------------------------------------+------------+-----------------------------------------------------------------------------------------------------------------------------------------+-------------------------------------------------------------------------------------------------------------------------+------+---------+------------+----------+----+-----+---+\n",
      "|2019-02-14 16:57:45|service    |2018-12-14 00:00:00  |port  |/user/jmarcoso/models/prediction_tr20181214to20181214_tt20190207_horizon8_on20190214_165745|-           |0.7378302051904858;0.40350075254803014;0.29330767081487447;0.32953964797577623;1.845162893003774;0.0013184373048365833;0.9921587676080772|-1.0;0.30305727127610405;0.26260558431480613;0.748797027079427;2.433781476483676;0.0013184373048365833;0.9921587676080772|-     |rf       |jmarcoso    |-         |2019|2    |14 |\n",
      "+-------------------+-----------+---------------------+------+-------------------------------------------------------------------------------------------+------------+-----------------------------------------------------------------------------------------------------------------------------------------+-------------------------------------------------------------------------------------------------------------------------+------+---------+------------+----------+----+-----+---+\n",
      "\n"
     ]
    }
   ],
   "source": [
    "df_model_out = spark.read.load(\"/data/attributes/vf_es/model_outputs/model_parameters/model_name=churn_preds_onlymob\")\n",
    "df_model_out.show(truncate=False)"
   ]
  },
  {
   "cell_type": "code",
   "execution_count": 23,
   "metadata": {},
   "outputs": [
    {
     "name": "stdout",
     "output_type": "stream",
     "text": [
      "+-------------------+-------------------+--------------------+---------+---------+---------+--------------------+--------------------+----------+----------+----+-----+---+\n",
      "|        executed_at|  model_executed_at|predict_closing_date|   msisdn|client_id|      nif|        model_output|             scoring|prediction|extra_info|year|month|day|\n",
      "+-------------------+-------------------+--------------------+---------+---------+---------+--------------------+--------------------+----------+----------+----+-----+---+\n",
      "|2019-02-14 16:57:45|2019-02-14 16:57:45|            20190207|645783469|492979105|20073962U| 0.04239367760097494| 0.04239367760097494|         -|         -|2019|    2| 14|\n",
      "|2019-02-14 16:57:45|2019-02-14 16:57:45|            20190207|648713198|534831103|87997617U| 0.03519501181008838| 0.03519501181008838|         -|         -|2019|    2| 14|\n",
      "|2019-02-14 16:57:45|2019-02-14 16:57:45|            20190207|636767456|233910702|51741736A| 0.43516915190087846| 0.43516915190087846|         -|         -|2019|    2| 14|\n",
      "|2019-02-14 16:57:45|2019-02-14 16:57:45|            20190207|607816658|657869163|B0890046U|  0.0131713727459982|  0.0131713727459982|         -|         -|2019|    2| 14|\n",
      "|2019-02-14 16:57:45|2019-02-14 16:57:45|            20190207|629567301|535537998|65305781D| 0.17991453385196488| 0.17991453385196488|         -|         -|2019|    2| 14|\n",
      "|2019-02-14 16:57:45|2019-02-14 16:57:45|            20190207|653856583|172226401|01938916D|  0.1435569308217335|  0.1435569308217335|         -|         -|2019|    2| 14|\n",
      "|2019-02-14 16:57:45|2019-02-14 16:57:45|            20190207|696559760|073406640|04684922W|0.009114644778228606|0.009114644778228606|         -|         -|2019|    2| 14|\n",
      "|2019-02-14 16:57:45|2019-02-14 16:57:45|            20190207|694655516|172238327|38626196Y|  0.7794288437840845|  0.7794288437840845|         -|         -|2019|    2| 14|\n",
      "|2019-02-14 16:57:45|2019-02-14 16:57:45|            20190207|605556983|976965383|H1606914M| 0.06315552302733105| 0.06315552302733105|         -|         -|2019|    2| 14|\n",
      "|2019-02-14 16:57:45|2019-02-14 16:57:45|            20190207|626066583|292270646|57936110D| 0.03193973939959776| 0.03193973939959776|         -|         -|2019|    2| 14|\n",
      "|2019-02-14 16:57:45|2019-02-14 16:57:45|            20190207|622548758|748645846|53692989T| 0.11371783849024159| 0.11371783849024159|         -|         -|2019|    2| 14|\n",
      "|2019-02-14 16:57:45|2019-02-14 16:57:45|            20190207|664996478|670786658|61151462C|  0.0687085942352203|  0.0687085942352203|         -|         -|2019|    2| 14|\n",
      "|2019-02-14 16:57:45|2019-02-14 16:57:45|            20190207|684371104|780806558|R7728354K|   0.715642592374442|   0.715642592374442|         -|         -|2019|    2| 14|\n",
      "|2019-02-14 16:57:45|2019-02-14 16:57:45|            20190207|611412519|250864886|50053031E|  0.9238196008722553|  0.9238196008722553|         -|         -|2019|    2| 14|\n",
      "|2019-02-14 16:57:45|2019-02-14 16:57:45|            20190207|642885960|207558293|06427788B| 0.29754916265212583| 0.29754916265212583|         -|         -|2019|    2| 14|\n",
      "|2019-02-14 16:57:45|2019-02-14 16:57:45|            20190207|656410326|558221486|14044053S| 0.08455540869288304| 0.08455540869288304|         -|         -|2019|    2| 14|\n",
      "|2019-02-14 16:57:45|2019-02-14 16:57:45|            20190207|607574063|708559915|90115344N| 0.13040634250286087| 0.13040634250286087|         -|         -|2019|    2| 14|\n",
      "|2019-02-14 16:57:45|2019-02-14 16:57:45|            20190207|618017798|386773061|94000383O| 0.11872211499736152| 0.11872211499736152|         -|         -|2019|    2| 14|\n",
      "|2019-02-14 16:57:45|2019-02-14 16:57:45|            20190207|644691871|289074019|08391083U| 0.21957849999657264| 0.21957849999657264|         -|         -|2019|    2| 14|\n",
      "|2019-02-14 16:57:45|2019-02-14 16:57:45|            20190207|673300186|565137177|85973231K| 0.23140992826447365| 0.23140992826447365|         -|         -|2019|    2| 14|\n",
      "+-------------------+-------------------+--------------------+---------+---------+---------+--------------------+--------------------+----------+----------+----+-----+---+\n",
      "only showing top 20 rows\n",
      "\n"
     ]
    }
   ],
   "source": [
    "df_model_scores = spark.read.load(\"/data/attributes/vf_es/model_outputs/model_scores/model_name=churn_preds_onlymob\")\n",
    "df_model_scores.show()"
   ]
  }
 ],
 "metadata": {
  "kernelspec": {
   "display_name": "Python 2",
   "language": "python",
   "name": "python2"
  },
  "language_info": {
   "codemirror_mode": {
    "name": "ipython",
    "version": 2
   },
   "file_extension": ".py",
   "mimetype": "text/x-python",
   "name": "python",
   "nbconvert_exporter": "python",
   "pygments_lexer": "ipython2",
   "version": "2.7.11"
  }
 },
 "nbformat": 4,
 "nbformat_minor": 2
}
