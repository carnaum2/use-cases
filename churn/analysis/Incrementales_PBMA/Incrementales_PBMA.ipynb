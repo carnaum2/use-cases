{
 "cells": [
  {
   "cell_type": "code",
   "execution_count": 1,
   "metadata": {},
   "outputs": [
    {
     "name": "stdout",
     "output_type": "stream",
     "text": [
      "Added '/var/SP/data/home/bgmerin1/src/Repositorios/use-cases' to path\n",
      "Added '/var/SP/data/home/bgmerin1/src/Repositorios' to path\n"
     ]
    }
   ],
   "source": [
    "def set_paths():\n",
    "    '''\n",
    "    Deployment should be something like \"dirs/dir1/use-cases\"\n",
    "    This function adds to the path \"dirs/dir1/use-cases\" and \"dirs/dir1/\"\n",
    "    :return:\n",
    "    '''\n",
    "    import imp\n",
    "    from os.path import dirname\n",
    "    import os\n",
    "    import sys\n",
    "\n",
    "    USE_CASES = \"/var/SP/data/home/bgmerin1/src/Repositorios/use-cases\"#dirname(os.path.abspath(imp.find_module('churn')[1]))\n",
    "\n",
    "    if USE_CASES not in sys.path:\n",
    "        sys.path.append(USE_CASES)\n",
    "        print(\"Added '{}' to path\".format(USE_CASES))\n",
    "\n",
    "    # if deployment is correct, this path should be the one that contains \"use-cases\", \"pykhaos\", ...\n",
    "    # FIXME another way of doing it more general?\n",
    "    DEVEL_SRC = os.path.dirname(USE_CASES)  # dir before use-cases dir\n",
    "    if DEVEL_SRC not in sys.path:\n",
    "        sys.path.append(DEVEL_SRC)\n",
    "        print(\"Added '{}' to path\".format(DEVEL_SRC))\n",
    "set_paths()"
   ]
  },
  {
   "cell_type": "code",
   "execution_count": 2,
   "metadata": {},
   "outputs": [],
   "source": [
    "# coding=utf-8\n",
    "\n",
    "import sys\n",
    "\n",
    "from common.src.main.python.utils.hdfs_generic import *\n",
    "import argparse\n",
    "import os\n",
    "import sys\n",
    "import time\n",
    "from pyspark.sql.functions import (udf,\n",
    "                                    col,\n",
    "                                    decode,\n",
    "                                    when,\n",
    "                                    lit,\n",
    "                                    lower,\n",
    "                                    concat,\n",
    "                                    translate,\n",
    "                                    count,\n",
    "                                    sum as sql_sum,\n",
    "                                    max as sql_max,\n",
    "                                    min as sql_min,\n",
    "                                    avg as sql_avg,\n",
    "                                    greatest,\n",
    "                                    least,\n",
    "                                    isnull,\n",
    "                                    isnan,\n",
    "                                    struct, \n",
    "                                    substring,\n",
    "                                    size,\n",
    "                                    length,\n",
    "                                    year,\n",
    "                                    month,\n",
    "                                    dayofmonth,\n",
    "                                    unix_timestamp,\n",
    "                                    date_format,\n",
    "                                    from_unixtime,\n",
    "                                    datediff,\n",
    "                                    to_date, \n",
    "                                    desc,\n",
    "                                    asc,\n",
    "                                    countDistinct,\n",
    "                                    row_number,\n",
    "                                    skewness,\n",
    "                                    kurtosis,\n",
    "                                    concat_ws)\n",
    "\n",
    "from pyspark.sql import Row, DataFrame, Column, Window\n",
    "from pyspark.sql.types import DoubleType, StringType, IntegerType, DateType, ArrayType, FloatType\n",
    "from pyspark.ml import Pipeline\n",
    "from pyspark.ml.classification import RandomForestClassifier\n",
    "from pyspark.ml.feature import StringIndexer, VectorIndexer, VectorAssembler, SQLTransformer, OneHotEncoder\n",
    "from pyspark.ml.evaluation import MulticlassClassificationEvaluator, BinaryClassificationEvaluator\n",
    "from pyspark.mllib.evaluation import BinaryClassificationMetrics\n",
    "from pyspark.ml.tuning import CrossValidator, ParamGridBuilder\n",
    "from datetime import datetime\n",
    "from itertools import chain\n",
    "import numpy as np\n",
    "from functools import reduce\n",
    "from churn.models.fbb_churn_amdocs.utils_general import *\n",
    "from pykhaos.utils.date_functions import convert_to_date\n",
    "from churn.models.fbb_churn_amdocs.utils_model import *\n",
    "from churn.models.fbb_churn_amdocs.utils_fbb_churn import *\n",
    "from churn.models.fbb_churn_amdocs.metadata_fbb_churn import *\n",
    "from churn.models.fbb_churn_amdocs.feature_selection_utils import *\n",
    "import subprocess"
   ]
  },
  {
   "cell_type": "code",
   "execution_count": 3,
   "metadata": {},
   "outputs": [],
   "source": [
    "# Para que no haga falta recargar el notebook si hacemos un cambio en alguna de las funciones que estamos importando\n",
    "%load_ext autoreload\n",
    "%autoreload 2"
   ]
  },
  {
   "cell_type": "code",
   "execution_count": 4,
   "metadata": {},
   "outputs": [],
   "source": [
    "# set BDP parameters\n",
    "def setting_bdp(min_n_executors = 3, max_n_executors = 15, n_cores = 8, executor_memory = \"12g\", driver_memory=\"8g\",\n",
    "                   app_name = \"Python app\", driver_overhead=\"1g\", executor_overhead='3g'):\n",
    "\n",
    "    MAX_N_EXECUTORS = max_n_executors\n",
    "    MIN_N_EXECUTORS = min_n_executors\n",
    "    N_CORES_EXECUTOR = n_cores\n",
    "    EXECUTOR_IDLE_MAX_TIME = 120\n",
    "    EXECUTOR_MEMORY = executor_memory\n",
    "    DRIVER_MEMORY = driver_memory\n",
    "    N_CORES_DRIVER = 1\n",
    "    MEMORY_OVERHEAD = N_CORES_EXECUTOR * 2048\n",
    "    QUEUE = \"root.BDPtenants.es.medium\"\n",
    "    BDA_CORE_VERSION = \"1.0.0\"\n",
    "\n",
    "    SPARK_COMMON_OPTS = os.environ.get('SPARK_COMMON_OPTS', '')\n",
    "    SPARK_COMMON_OPTS += \" --executor-memory %s --driver-memory %s\" % (EXECUTOR_MEMORY, DRIVER_MEMORY)\n",
    "    SPARK_COMMON_OPTS += \" --conf spark.shuffle.manager=tungsten-sort\"\n",
    "    SPARK_COMMON_OPTS += \"  --queue %s\" % QUEUE\n",
    "\n",
    "    # Dynamic allocation configuration\n",
    "    SPARK_COMMON_OPTS += \" --conf spark.dynamicAllocation.enabled=true\"\n",
    "    SPARK_COMMON_OPTS += \" --conf spark.shuffle.service.enabled=true\"\n",
    "    SPARK_COMMON_OPTS += \" --conf spark.dynamicAllocation.maxExecutors=%s\" % (MAX_N_EXECUTORS)\n",
    "    SPARK_COMMON_OPTS += \" --conf spark.dynamicAllocation.minExecutors=%s\" % (MIN_N_EXECUTORS)\n",
    "    SPARK_COMMON_OPTS += \" --conf spark.executor.cores=%s\" % (N_CORES_EXECUTOR)\n",
    "    SPARK_COMMON_OPTS += \" --conf spark.dynamicAllocation.executorIdleTimeout=%s\" % (EXECUTOR_IDLE_MAX_TIME)\n",
    "    # SPARK_COMMON_OPTS += \" --conf spark.ui.port=58235\"\n",
    "    SPARK_COMMON_OPTS += \" --conf spark.port.maxRetries=100\"\n",
    "    SPARK_COMMON_OPTS += \" --conf spark.app.name='%s'\" % (app_name)\n",
    "    SPARK_COMMON_OPTS += \" --conf spark.submit.deployMode=client\"\n",
    "    SPARK_COMMON_OPTS += \" --conf spark.ui.showConsoleProgress=true\"\n",
    "    SPARK_COMMON_OPTS += \" --conf spark.sql.broadcastTimeout=1200\"\n",
    "    SPARK_COMMON_OPTS += \" --conf spark.yarn.executor.memoryOverhead={}\".format(executor_overhead)\n",
    "    SPARK_COMMON_OPTS += \" --conf spark.yarn.executor.driverOverhead={}\".format(driver_overhead)\n",
    "\n",
    "    BDA_ENV = os.environ.get('BDA_USER_HOME', '')\n",
    "\n",
    "    # Attach bda-core-ra codebase\n",
    "    SPARK_COMMON_OPTS+=\" --files {}/scripts/properties/red_agent/nodes.properties,{}/scripts/properties/red_agent/nodes-de.properties,{}/scripts/properties/red_agent/nodes-es.properties,{}/scripts/properties/red_agent/nodes-ie.properties,{}/scripts/properties/red_agent/nodes-it.properties,{}/scripts/properties/red_agent/nodes-pt.properties,{}/scripts/properties/red_agent/nodes-uk.properties\".format(*[BDA_ENV]*7)\n",
    "\n",
    "    os.environ[\"SPARK_COMMON_OPTS\"] = SPARK_COMMON_OPTS\n",
    "    os.environ[\"PYSPARK_SUBMIT_ARGS\"] = \"%s pyspark-shell \" % SPARK_COMMON_OPTS\n",
    "   "
   ]
  },
  {
   "cell_type": "code",
   "execution_count": 5,
   "metadata": {},
   "outputs": [],
   "source": [
    "def get_spark_session(app_name=\"default name\", log_level='INFO', min_n_executors = 3, max_n_executors = 15, n_cores = 4, executor_memory = \"12g\", driver_memory=\"8g\"):\n",
    "    HOME_SRC = os.path.join(os.environ.get('BDA_USER_HOME', ''), \"src\")\n",
    "    if HOME_SRC not in sys.path:\n",
    "        sys.path.append(HOME_SRC)\n",
    "\n",
    "\n",
    "    setting_bdp(app_name=app_name, min_n_executors = min_n_executors, max_n_executors = max_n_executors, n_cores = n_cores, executor_memory = executor_memory, driver_memory=driver_memory)\n",
    "    from common.src.main.python.utils.hdfs_generic import run_sc\n",
    "    sc, spark, sql_context = run_sc(log_level=log_level)\n",
    "\n",
    "\n",
    "    return sc, spark, sql_context"
   ]
  },
  {
   "cell_type": "code",
   "execution_count": 6,
   "metadata": {},
   "outputs": [],
   "source": [
    "def initialize(app_name, min_n_executors = 3, max_n_executors = 15, n_cores = 4, executor_memory = \"12g\", driver_memory=\"8g\"):\n",
    "    import time\n",
    "    start_time = time.time()\n",
    "\n",
    "    print(\"_initialize spark\")\n",
    "    #import pykhaos.utils.pyspark_configuration as pyspark_config\n",
    "    sc, spark, sql_context = get_spark_session(app_name=app_name, log_level=\"OFF\", min_n_executors = min_n_executors, max_n_executors = max_n_executors, n_cores = n_cores,\n",
    "                             executor_memory = executor_memory, driver_memory=driver_memory)\n",
    "    print(\"Ended spark session: {} secs | default parallelism={}\".format(time.time() - start_time,\n",
    "                                                                         sc.defaultParallelism))\n",
    "    return spark"
   ]
  },
  {
   "cell_type": "code",
   "execution_count": 7,
   "metadata": {},
   "outputs": [
    {
     "name": "stdout",
     "output_type": "stream",
     "text": [
      "_initialize spark\n",
      "Ended spark session: 35.7094120979 secs | default parallelism=2\n"
     ]
    }
   ],
   "source": [
    "spark = initialize(\"PBMA Incrementales \",executor_memory = \"32g\",min_n_executors = 6,max_n_executors = 15)\n"
   ]
  },
  {
   "cell_type": "code",
   "execution_count": null,
   "metadata": {},
   "outputs": [],
   "source": [
    "ciclo_ini='20190521'\n",
    "horizon=2\n",
    "nombre='pbma_incremental_'+ciclo_ini"
   ]
  },
  {
   "cell_type": "code",
   "execution_count": null,
   "metadata": {},
   "outputs": [],
   "source": [
    "dfPBMA_ini = (spark.read.parquet('/data/udf/vf_es/churn/extra_feats_mod/pbma_srv/year={}/month={}/day={}'\n",
    "    .format(int(ciclo_ini[0:4]), int(ciclo_ini[4:6]), int(ciclo_ini[6:8]))))\n"
   ]
  },
  {
   "cell_type": "code",
   "execution_count": null,
   "metadata": {},
   "outputs": [],
   "source": [
    "# Calculamos n ciclos hacia atrás (donde n es el horizon)\n",
    "cycle = 0\n",
    "fini_tmp = ciclo_ini\n",
    "fechas=[]\n",
    "while cycle < horizon:\n",
    "    yearmonthday_target = get_previous_cycle(fini_tmp, str_fmt=\"%Y%m%d\")\n",
    "    cycle = cycle + 1\n",
    "    fini_tmp = yearmonthday_target\n",
    "    fechas.append(fini_tmp)\n",
    "ciclo_prev=fini_tmp"
   ]
  },
  {
   "cell_type": "code",
   "execution_count": null,
   "metadata": {},
   "outputs": [],
   "source": [
    "ciclo_prev"
   ]
  },
  {
   "cell_type": "code",
   "execution_count": null,
   "metadata": {},
   "outputs": [],
   "source": [
    "print(fechas)"
   ]
  },
  {
   "cell_type": "code",
   "execution_count": null,
   "metadata": {},
   "outputs": [],
   "source": [
    "colResta=[]\n",
    "variables_ident=['msisdn','msisdn_d','num_cliente','num_cliente_d','nif_cliente_d','nif_cliente']\n",
    "\n",
    "for ccol in dfPBMA_ini.columns:\n",
    "    if ccol not in variables_ident:\n",
    "        \n",
    "        colResta.append(ccol)\n",
    "        dfPBMA_ini=dfPBMA_ini.withColumnRenamed(ccol,ccol+'_ini')"
   ]
  },
  {
   "cell_type": "code",
   "execution_count": null,
   "metadata": {},
   "outputs": [],
   "source": [
    "cont=1\n",
    "\n",
    "dfPBMA_ini.select(['msisdn','pbms_srv_ind_soporte_ini']).filter(col('msisdn')=='941177042').show()\n",
    "\n",
    "for ff in fechas:\n",
    "    \n",
    "    print(ff)\n",
    "    \n",
    "    dfPBMA_prev = (spark.read.parquet('/data/udf/vf_es/churn/extra_feats_mod/pbma_srv/year={}/month={}/day={}'\n",
    "    .format(int(ff[0:4]), int(ff[4:6]), int(ff[6:8]))))\n",
    "       \n",
    "    for ccol in dfPBMA_prev.columns:\n",
    "        if ccol not in variables_ident:\n",
    "            dfPBMA_prev=dfPBMA_prev.withColumnRenamed(ccol,ccol+'_prev')\n",
    "            \n",
    "    dfPBMA_prev.select(['msisdn','pbms_srv_ind_soporte_prev']).filter(col('msisdn')=='941177042').show()\n",
    "            \n",
    "    dfResta_tmp=dfPBMA_ini.join(dfPBMA_prev,on=variables_ident,how='left')       \n",
    "      \n",
    "    for ccol in colResta:\n",
    "    \n",
    "        dfResta_tmp=dfResta_tmp.withColumn(ccol+'_dif_w'+str(cont),col(ccol+'_ini')-col(ccol+'_prev'))\n",
    "        \n",
    "        dfResta_tmp=dfResta_tmp.drop(ccol+'_ini')\n",
    "        dfResta_tmp=dfResta_tmp.drop(ccol+'_prev')\n",
    "                \n",
    "    if cont==1: dfResta=dfResta_tmp\n",
    "    else: dfResta=dfResta.join(dfResta_tmp,on=variables_ident,how='left')\n",
    "            \n",
    "    print(cont,dfPBMA_ini.count(),dfResta_tmp.count(),dfResta.count(),dfPBMA_prev.count())\n",
    "\n",
    "    cont=cont+1\n",
    "\n",
    "dfResta.select(['msisdn','pbms_srv_ind_soporte_dif_w1','pbms_srv_ind_soporte_dif_w2']).filter(col('msisdn')=='941177042').show()\n"
   ]
  },
  {
   "cell_type": "code",
   "execution_count": null,
   "metadata": {},
   "outputs": [],
   "source": [
    "dfRestaFin=(dfResta.withColumn('year',lit(int(ciclo_ini[0:4])))\n",
    ".withColumn('month',lit(int(ciclo_ini[4:6])))\n",
    ".withColumn('day',lit(int(ciclo_ini[6:8]))))\n",
    "\n"
   ]
  },
  {
   "cell_type": "code",
   "execution_count": null,
   "metadata": {},
   "outputs": [],
   "source": [
    "(dfRestaFin.write.partitionBy('year', 'month', 'day').mode(\"append\").format(\"parquet\")\n",
    "            .save('/data/attributes/vf_es/trigger_analysis/pbma_incremental/'))"
   ]
  },
  {
   "cell_type": "code",
   "execution_count": null,
   "metadata": {},
   "outputs": [],
   "source": [
    "#dfResta.repartition(200).write.save('/data/attributes/vf_es/trigger_analysis/'+nombre, format='parquet', mode='overwrite')\n"
   ]
  },
  {
   "cell_type": "code",
   "execution_count": null,
   "metadata": {},
   "outputs": [],
   "source": []
  },
  {
   "cell_type": "code",
   "execution_count": null,
   "metadata": {},
   "outputs": [],
   "source": []
  },
  {
   "cell_type": "code",
   "execution_count": null,
   "metadata": {},
   "outputs": [],
   "source": []
  },
  {
   "cell_type": "code",
   "execution_count": null,
   "metadata": {},
   "outputs": [],
   "source": []
  },
  {
   "cell_type": "code",
   "execution_count": null,
   "metadata": {},
   "outputs": [],
   "source": []
  },
  {
   "cell_type": "code",
   "execution_count": null,
   "metadata": {},
   "outputs": [],
   "source": []
  },
  {
   "cell_type": "code",
   "execution_count": null,
   "metadata": {},
   "outputs": [],
   "source": []
  },
  {
   "cell_type": "code",
   "execution_count": null,
   "metadata": {},
   "outputs": [],
   "source": []
  },
  {
   "cell_type": "code",
   "execution_count": null,
   "metadata": {},
   "outputs": [],
   "source": []
  },
  {
   "cell_type": "code",
   "execution_count": null,
   "metadata": {},
   "outputs": [],
   "source": []
  },
  {
   "cell_type": "code",
   "execution_count": null,
   "metadata": {},
   "outputs": [],
   "source": []
  },
  {
   "cell_type": "code",
   "execution_count": null,
   "metadata": {},
   "outputs": [],
   "source": []
  },
  {
   "cell_type": "code",
   "execution_count": null,
   "metadata": {},
   "outputs": [],
   "source": []
  },
  {
   "cell_type": "code",
   "execution_count": null,
   "metadata": {},
   "outputs": [],
   "source": []
  },
  {
   "cell_type": "code",
   "execution_count": null,
   "metadata": {},
   "outputs": [],
   "source": []
  },
  {
   "cell_type": "code",
   "execution_count": 64,
   "metadata": {},
   "outputs": [],
   "source": [
    "yearmonthday ='20190314'# convert_to_date('20181130')\n",
    "yearmonthday_target = '20190414' #convert_to_date('20181231')"
   ]
  },
  {
   "cell_type": "code",
   "execution_count": 65,
   "metadata": {
    "scrolled": true
   },
   "outputs": [
    {
     "name": "stdout",
     "output_type": "stream",
     "text": [
      "20190314\n",
      "20190414\n",
      "[Info getFixPortRequestsForMonth] Fri Jun 21 09:56:56 2019 Port-out requests for fixed services during period 20190314-20190414: 54000\n"
     ]
    }
   ],
   "source": [
    "#fixport = getFixPortRequestsForCycleList(spark, yearmonthday, yearmonthday_target)\n"
   ]
  },
  {
   "cell_type": "code",
   "execution_count": 97,
   "metadata": {},
   "outputs": [],
   "source": [
    "fixport = spark.read.table(\"raw_es.portabilitiesinout_portafijo\") \\\n",
    "        .filter(col(\"INICIO_RANGO\") == col(\"FIN_RANGO\")) \\\n",
    "        .withColumn(\"label_srv\", lit(1.0)) \\\n",
    "        .where(\n",
    "        (col('FECHA_INSERCION_SGP') >= yearmonthday_obj) & (col('FECHA_INSERCION_SGP') <= yearmonthday_target_obj))\n"
   ]
  },
  {
   "cell_type": "code",
   "execution_count": 43,
   "metadata": {},
   "outputs": [
    {
     "data": {
      "text/plain": [
       "['msisdn_d', 'FECHA_INSERCION_SGP', 'label_srv']"
      ]
     },
     "execution_count": 43,
     "metadata": {},
     "output_type": "execute_result"
    }
   ],
   "source": [
    "fixport.columns"
   ]
  },
  {
   "cell_type": "code",
   "execution_count": 66,
   "metadata": {},
   "outputs": [
    {
     "name": "stdout",
     "output_type": "stream",
     "text": [
      "[Info getFbbDxsForMonth] Fri Jun 21 09:57:10 2019 DXs for FBB services during the period: 20190314-20190414: 67487\n"
     ]
    }
   ],
   "source": [
    "fixdxtr = getFbbDxsForCycleList(spark,yearmonthday, yearmonthday_target)\n"
   ]
  },
  {
   "cell_type": "code",
   "execution_count": 68,
   "metadata": {},
   "outputs": [
    {
     "name": "stdout",
     "output_type": "stream",
     "text": [
      "[Info getCarNumClienteDf] Fri Jun 21 10:11:22 2019 Size of the original df for 20190314: 15301817\n",
      "[Info FbbChurn] Fri Jun 21 10:19:55 2019 Saving origindf_tmp to HDFS\n",
      "[Info getCarNumClienteDf] Fri Jun 21 10:19:56 2019 Size of the origindf after load from HDFS: 15301817\n",
      "[Info getCarNumClienteDf] Fri Jun 21 10:21:27 2019 Size of the numclidf for 20190314 - Num rows: 2337071 - Num columns: 101\n",
      "[Info FbbChurn] Fri Jun 21 10:26:41 2019 Saving numclidf_tmp to HDFS\n",
      "[Info get_billing_df] Fri Jun 21 10:26:42 2019 Starting the preparation of billing feats\n",
      "[Info get_billing_df] Fri Jun 21 10:27:46 2019 Size of the df with billing feats: 6207643\n",
      "[Info getCarNumClienteDf] Fri Jun 21 10:28:13 2019 Size of the tmpdf for 20190314 - Num rows: 2337071 - Num columns: 134\n",
      "[Info get_mobile_spinners_df] Fri Jun 21 10:28:45 2019 Port-out data loaded for 20190314 with a total of 28960500 rows and 11643657 distinct NIFs\n",
      "[Info get_mobile_spinners_df] Fri Jun 21 10:29:31 2019 Timing feats computed for a total of 11643657 distinct NIFs\n",
      "[Info get_mobile_spinners_df] Fri Jun 21 10:29:51 2019 Destinatination and state feats computed for a total of 11643657 distinct NIFs\n",
      "[Info getCarNumClienteDf] Fri Jun 21 10:30:19 2019 Size of the featdf for 20190314 - Num rows: 2337071 - Num columns: 236\n",
      "[Info get_orders_df] Fri Jun 21 10:31:19 2019 Orders feats up to 20190228 computed - Number of rows is 7428216 for a total of 7428216 distinct num_cliente\n",
      "[Info getCarNumClienteDf] Fri Jun 21 10:31:36 2019 Size of the featdf for 20190314 - Num rows: 2337071 - Num columns: 238\n"
     ]
    }
   ],
   "source": [
    "origin = '/user/hive/warehouse/tests_es.db/jvmm_amdocs_ids_'\n",
    "trfeatdf = getCarNumClienteDf(spark, origin, '20190314')"
   ]
  },
  {
   "cell_type": "code",
   "execution_count": 69,
   "metadata": {},
   "outputs": [],
   "source": [
    "window = Window.partitionBy(\"num_cliente\")\n",
    "selcols = getIdFeats() + getCrmFeats() + getBillingFeats() + getMobSopoFeats() + getOrdersFeats()\n",
    "\n",
    "unbaltrdf_orig = trfeatdf\\\n",
    "    .join(fixport, ['msisdn_d'], \"left_outer\")\\\n",
    "    .na.fill({'label_srv': 0.0})\\\n",
    "    .join(fixdxtr, ['msisdn'], \"left_outer\")\\\n",
    "    .na.fill({'label_dx': 0.0})\\\n",
    "    .withColumn('tmp', when((col('label_srv')==1.0) | (col('label_dx')==1.0), 1.0).otherwise(0.0))\\\n",
    "    .withColumn('label', sql_max('tmp').over(window))\\\n",
    "    .filter(col(\"rgu\")==\"fbb\")\\\n",
    "    .select(selcols + ['label'])"
   ]
  },
  {
   "cell_type": "code",
   "execution_count": 70,
   "metadata": {},
   "outputs": [
    {
     "name": "stdout",
     "output_type": "stream",
     "text": [
      "+-----+--------+\n",
      "|label|count(1)|\n",
      "+-----+--------+\n",
      "|  0.0| 2269578|\n",
      "|  1.0|   67493|\n",
      "+-----+--------+\n",
      "\n"
     ]
    }
   ],
   "source": [
    "unbaltrdf_orig.groupBy('label').agg(count('*')).show()\n"
   ]
  },
  {
   "cell_type": "code",
   "execution_count": 71,
   "metadata": {},
   "outputs": [
    {
     "data": {
      "text/plain": [
       "67487"
      ]
     },
     "execution_count": 71,
     "metadata": {},
     "output_type": "execute_result"
    }
   ],
   "source": [
    "unbaltrdf_d = trfeatdf.join(fixdxtr, on=['msisdn'], how=\"inner\").filter(col(\"rgu\")==\"fbb\")\\\n",
    "\n",
    "unbaltrdf_d.count()\n",
    "\n"
   ]
  },
  {
   "cell_type": "code",
   "execution_count": 75,
   "metadata": {},
   "outputs": [
    {
     "data": {
      "text/plain": [
       "0"
      ]
     },
     "execution_count": 75,
     "metadata": {},
     "output_type": "execute_result"
    }
   ],
   "source": [
    "unbaltrdf = trfeatdf.join(fixport, on=['msisdn_d'], how=\"inner\").filter(col(\"rgu\")==\"fbb\")\n",
    "unbaltrdf.count()"
   ]
  },
  {
   "cell_type": "code",
   "execution_count": 99,
   "metadata": {},
   "outputs": [
    {
     "data": {
      "text/plain": [
       "47422"
      ]
     },
     "execution_count": 99,
     "metadata": {},
     "output_type": "execute_result"
    }
   ],
   "source": [
    "fixport.count()"
   ]
  },
  {
   "cell_type": "code",
   "execution_count": 109,
   "metadata": {},
   "outputs": [
    {
     "data": {
      "text/plain": [
       "188784"
      ]
     },
     "execution_count": 109,
     "metadata": {},
     "output_type": "execute_result"
    }
   ],
   "source": [
    "trfeatdf_fbb=trfeatdf.filter(col(\"rgu\")==\"fbb\")\n",
    "trfeatdf_fbb.select('nif_cliente').join(fixport.select('NIF_CRM'), on=(fixport['NIF_CRM']==trfeatdf_fbb['nif_cliente']), how=\"inner\").count()\n"
   ]
  },
  {
   "cell_type": "code",
   "execution_count": null,
   "metadata": {},
   "outputs": [],
   "source": [
    "# trfeatdf_fbb ('nif_cliente') y fixport ('NIF_SP'): 5099\n",
    "# trfeatdf_fbb ('nif_cliente') y fixport ('NIF_CRM'): 188784\n",
    "# trfeatdf_fbb ('num_cliente') y fixport ('NUM_CLIENTE_SP'): 0\n"
   ]
  },
  {
   "cell_type": "code",
   "execution_count": 83,
   "metadata": {},
   "outputs": [
    {
     "data": {
      "text/plain": [
       "['num_cliente',\n",
       " 'nif_cliente',\n",
       " 'rgu',\n",
       " 'campo1',\n",
       " 'msisdn',\n",
       " 'msisdn_d',\n",
       " 'mean_dias_desde_fx_srv_basic',\n",
       " 'movil_services',\n",
       " 'tv_services',\n",
       " 'total_penal_cust_pending_n3_penal_amount',\n",
       " 'x_formato_factura',\n",
       " 'x_user_twitter',\n",
       " 'total_penal_cust_pending_n4_penal_amount',\n",
       " 'dias_desde_bam-movil_fx_first',\n",
       " 'max_dias_desde_fx_trybuy_autom_tv',\n",
       " 'total_price_tariff',\n",
       " 'flg_robinson',\n",
       " 'pvr_services',\n",
       " 'num_tariff_redl',\n",
       " 'dias_desde_fx_fbb_upgrade',\n",
       " 'max_dias_desde_fx_srv_basic',\n",
       " 'total_price_trybuy',\n",
       " 'total_penal_srv_pending_n4_penal_amount',\n",
       " 'max_dias_desde_fx_pvr_tv',\n",
       " 'max_dias_desde_fx_football_tv',\n",
       " 'total_max_dias_hasta_penal_cust_pending_end_date',\n",
       " 'trybuy_services',\n",
       " 'min_price_srv_basic',\n",
       " 'total_penal_cust_pending_n2_penal_amount',\n",
       " 'x_datos_trafico',\n",
       " 'total_min_dias_hasta_penal_srv_pending_end_date',\n",
       " 'cta_correo',\n",
       " 'gender2hgbst_elm',\n",
       " 'dias_desde_fixed_fx_first',\n",
       " 'max_price_srv_basic',\n",
       " 'total_penal_srv_pending_n5_penal_amount',\n",
       " 'prepaid_services',\n",
       " 'hz_services',\n",
       " 'dias_desde_tv_fx_first',\n",
       " 'dias_desde_movil_fx_first',\n",
       " 'total_penal_srv_pending_n1_penal_amount',\n",
       " 'total_max_dias_hasta_penal_srv_pending_end_date',\n",
       " 'num_tariff_xs',\n",
       " 'total_price_motor',\n",
       " 'x_user_facebook',\n",
       " 'fixed_services',\n",
       " 'fbb_upgrade',\n",
       " 'max_dias_desde_fx_zapper_tv',\n",
       " 'total_penal_srv_pending_n2_penal_amount',\n",
       " 'factura_electronica',\n",
       " 'num_tariff_plana200min',\n",
       " 'max_dias_desde_fx_trybuy_tv',\n",
       " 'min_price_tariff',\n",
       " 'bam-movil_services',\n",
       " 'total_penal_srv_pending_n3_penal_amount',\n",
       " 'num_tariff_unknown',\n",
       " 'total_min_dias_hasta_penal_cust_pending_end_date',\n",
       " 'x_cesion_datos',\n",
       " 'football_services',\n",
       " 'trybuy_autom_services',\n",
       " 'total_price_zapper',\n",
       " 'marriage2hgbst_elm',\n",
       " 'total_price_pvr',\n",
       " 'num_2lins',\n",
       " 'fbb_services',\n",
       " 'num_tariff_smart',\n",
       " 'x_publicidad_email',\n",
       " 'cliente_migrado',\n",
       " 'x_idioma_factura',\n",
       " 'num_tariff_otros',\n",
       " 'metodo_pago',\n",
       " 'max_price_tariff',\n",
       " 'bam_services',\n",
       " 'total_price_dto_lev2',\n",
       " 'superoferta',\n",
       " 'total_price_dto_lev1',\n",
       " 'total_penal_cust_pending_n5_penal_amount',\n",
       " 'total_price_football',\n",
       " 'x_antiguedad_cuenta',\n",
       " 'dias_desde_prepaid_fx_first',\n",
       " 'total_tv_total_charges',\n",
       " 'num_tariff_minim',\n",
       " 'dias_desde_fbb_fx_first',\n",
       " 'mean_price_srv_basic',\n",
       " 'dias_desde_bam_fx_first',\n",
       " 'zapper_services',\n",
       " 'motor_services',\n",
       " 'num_tariff_maslineasmini',\n",
       " 'num_tariff_redm',\n",
       " 'total_price_srv_basic',\n",
       " 'nacionalidad',\n",
       " 'total_price_trybuy_autom',\n",
       " 'max_dias_desde_fx_motor_tv',\n",
       " 'min_dias_desde_fx_dto_lev1',\n",
       " 'min_dias_desde_fx_dto_lev2',\n",
       " 'num_tariff_planaminilim',\n",
       " 'total_penal_cust_pending_n1_penal_amount',\n",
       " 'tipo_documento',\n",
       " 'x_datos_navegacion',\n",
       " 'min_dias_desde_fx_srv_basic',\n",
       " 'num_tariff_megayuser',\n",
       " 'Bill_N1_InvoiceCharges',\n",
       " 'Bill_N1_Amount_To_Pay',\n",
       " 'Bill_N1_Tax_Amount',\n",
       " 'Bill_N1_Debt_Amount',\n",
       " 'Bill_N2_InvoiceCharges',\n",
       " 'Bill_N2_Amount_To_Pay',\n",
       " 'Bill_N2_Tax_Amount',\n",
       " 'Bill_N2_Debt_Amount',\n",
       " 'Bill_N3_InvoiceCharges',\n",
       " 'Bill_N3_Amount_To_Pay',\n",
       " 'Bill_N3_Tax_Amount',\n",
       " 'Bill_N3_Debt_Amount',\n",
       " 'Bill_N4_InvoiceCharges',\n",
       " 'Bill_N4_Amount_To_Pay',\n",
       " 'Bill_N4_Tax_Amount',\n",
       " 'Bill_N4_Debt_Amount',\n",
       " 'Bill_N5_InvoiceCharges',\n",
       " 'Bill_N5_Amount_To_Pay',\n",
       " 'Bill_N5_Tax_Amount',\n",
       " 'Bill_N5_Debt_Amount',\n",
       " 'bill_n1_net',\n",
       " 'bill_n2_net',\n",
       " 'bill_n3_net',\n",
       " 'bill_n4_net',\n",
       " 'bill_n5_net',\n",
       " 'inc_bill_n1_n2_net',\n",
       " 'inc_bill_n1_n3_net',\n",
       " 'inc_bill_n1_n4_net',\n",
       " 'inc_bill_n1_n5_net',\n",
       " 'inc_Bill_N1_N2_Amount_To_Pay',\n",
       " 'inc_Bill_N1_N3_Amount_To_Pay',\n",
       " 'inc_Bill_N1_N4_Amount_To_Pay',\n",
       " 'inc_Bill_N1_N5_Amount_To_Pay',\n",
       " 'nif_port_number',\n",
       " 'nif_min_days_since_port',\n",
       " 'nif_max_days_since_port',\n",
       " 'nif_avg_days_since_port',\n",
       " 'nif_var_days_since_port',\n",
       " 'nif_distinct_msisdn',\n",
       " 'nif_port_freq_per_day',\n",
       " 'nif_port_freq_per_msisdn',\n",
       " 'movistar_ACON',\n",
       " 'movistar_ASOL',\n",
       " 'movistar_PCAN',\n",
       " 'movistar_ACAN',\n",
       " 'movistar_AACE',\n",
       " 'movistar_AENV',\n",
       " 'movistar_APOR',\n",
       " 'movistar_AREC',\n",
       " 'simyo_ACON',\n",
       " 'simyo_ASOL',\n",
       " 'simyo_PCAN',\n",
       " 'simyo_ACAN',\n",
       " 'simyo_AACE',\n",
       " 'simyo_AENV',\n",
       " 'simyo_APOR',\n",
       " 'simyo_AREC',\n",
       " 'orange_ACON',\n",
       " 'orange_ASOL',\n",
       " 'orange_PCAN',\n",
       " 'orange_ACAN',\n",
       " 'orange_AACE',\n",
       " 'orange_AENV',\n",
       " 'orange_APOR',\n",
       " 'orange_AREC',\n",
       " 'jazztel_ACON',\n",
       " 'jazztel_ASOL',\n",
       " 'jazztel_PCAN',\n",
       " 'jazztel_ACAN',\n",
       " 'jazztel_AACE',\n",
       " 'jazztel_AENV',\n",
       " 'jazztel_APOR',\n",
       " 'jazztel_AREC',\n",
       " 'yoigo_ACON',\n",
       " 'yoigo_ASOL',\n",
       " 'yoigo_PCAN',\n",
       " 'yoigo_ACAN',\n",
       " 'yoigo_AACE',\n",
       " 'yoigo_AENV',\n",
       " 'yoigo_APOR',\n",
       " 'yoigo_AREC',\n",
       " 'masmovil_ACON',\n",
       " 'masmovil_ASOL',\n",
       " 'masmovil_PCAN',\n",
       " 'masmovil_ACAN',\n",
       " 'masmovil_AACE',\n",
       " 'masmovil_AENV',\n",
       " 'masmovil_APOR',\n",
       " 'masmovil_AREC',\n",
       " 'pepephone_ACON',\n",
       " 'pepephone_ASOL',\n",
       " 'pepephone_PCAN',\n",
       " 'pepephone_ACAN',\n",
       " 'pepephone_AACE',\n",
       " 'pepephone_AENV',\n",
       " 'pepephone_APOR',\n",
       " 'pepephone_AREC',\n",
       " 'reuskal_ACON',\n",
       " 'reuskal_ASOL',\n",
       " 'reuskal_PCAN',\n",
       " 'reuskal_ACAN',\n",
       " 'reuskal_AACE',\n",
       " 'reuskal_AENV',\n",
       " 'reuskal_APOR',\n",
       " 'reuskal_AREC',\n",
       " 'unknown_ACON',\n",
       " 'unknown_ASOL',\n",
       " 'unknown_PCAN',\n",
       " 'unknown_ACAN',\n",
       " 'unknown_AACE',\n",
       " 'unknown_AENV',\n",
       " 'unknown_APOR',\n",
       " 'unknown_AREC',\n",
       " 'otros_ACON',\n",
       " 'otros_ASOL',\n",
       " 'otros_PCAN',\n",
       " 'otros_ACAN',\n",
       " 'otros_AACE',\n",
       " 'otros_AENV',\n",
       " 'otros_APOR',\n",
       " 'otros_AREC',\n",
       " 'total_acan',\n",
       " 'total_apor',\n",
       " 'total_arec',\n",
       " 'total_movistar',\n",
       " 'total_simyo',\n",
       " 'total_orange',\n",
       " 'total_jazztel',\n",
       " 'total_yoigo',\n",
       " 'total_masmovil',\n",
       " 'total_pepephone',\n",
       " 'total_reuskal',\n",
       " 'total_unknown',\n",
       " 'total_otros',\n",
       " 'num_distinct_operators',\n",
       " 'days_since_last_order',\n",
       " 'days_since_first_order']"
      ]
     },
     "execution_count": 83,
     "metadata": {},
     "output_type": "execute_result"
    }
   ],
   "source": [
    "trfeatdf.columns"
   ]
  },
  {
   "cell_type": "code",
   "execution_count": 78,
   "metadata": {
    "scrolled": true
   },
   "outputs": [
    {
     "data": {
      "text/plain": [
       "['ID_INTERNO',\n",
       " 'OT_CRM',\n",
       " 'TICKET_CRM',\n",
       " 'ID_PROCESO',\n",
       " 'TIPO_PROCESO',\n",
       " 'PROCESO',\n",
       " 'INICIO_RANGO',\n",
       " 'FIN_RANGO',\n",
       " 'OPERADOR_RECEPTOR',\n",
       " 'OPERADOR_DONANTE',\n",
       " 'NIF_SP',\n",
       " 'TIPO_ACCESO',\n",
       " 'FLAG_NUMERACION_COMPLETA',\n",
       " 'REVENDEDOR_DONANTE',\n",
       " 'REVENDEDOR_RECEPTOR',\n",
       " 'FECHA_VENTANA_CAMBIO',\n",
       " 'NUM_CLIENTE_SP',\n",
       " 'NOMBRE_CLIENTE',\n",
       " 'NIF_CRM',\n",
       " 'CLASE_CLIENTE',\n",
       " 'ESTADO_NUMERACION',\n",
       " 'CUC',\n",
       " 'SERVICIO',\n",
       " 'NUMERO_LINEAS_ACTIVAS',\n",
       " 'FECHA_LIMITE_CANCELACION',\n",
       " 'RGU',\n",
       " 'AVERIA_RECLAMACION',\n",
       " 'IMPORTE_FACTURACION',\n",
       " 'FECHA_INSERCION_SGP',\n",
       " 'service_processed_at',\n",
       " 'service_file_id',\n",
       " 'year',\n",
       " 'month',\n",
       " 'day',\n",
       " 'label_srv']"
      ]
     },
     "execution_count": 78,
     "metadata": {},
     "output_type": "execute_result"
    }
   ],
   "source": [
    "fixport.columns"
   ]
  },
  {
   "cell_type": "code",
   "execution_count": 105,
   "metadata": {},
   "outputs": [
    {
     "name": "stdout",
     "output_type": "stream",
     "text": [
      "+----------+------+--------------------+------------+---------+--------------+\n",
      "|ID_INTERNO|OT_CRM|          ID_PROCESO|INICIO_RANGO|FIN_RANGO|NUM_CLIENTE_SP|\n",
      "+----------+------+--------------------+------------+---------+--------------+\n",
      "|   3974337|      |00001201812031601569|   981610769|981610769|              |\n",
      "|   3973450|      |00031201812031501043|   828662173|828662173|              |\n",
      "|   3972707|      |00003201812031502924|   963211365|963211365|              |\n",
      "|   3972018|      |00031201812031500154|   935380316|935380316|              |\n",
      "|   3972643|      |00001201812031602098|   912243693|912243693|              |\n",
      "|   3972534|      |00001201812031601678|   950301429|950301429|              |\n",
      "|   3973900|      |00003201812031502195|   822102128|822102128|              |\n",
      "|   3974904|      |00001201812031601313|   942392013|942392013|              |\n",
      "|   3972548|      |00029201812031501616|   941581556|941581556|              |\n",
      "|   3971950|      |00031201812031501792|   926036932|926036932|              |\n",
      "|   3972232|      |00008201812031500042|   985052343|985052343|              |\n",
      "|   3972056|      |00003201812031501220|   912365047|912365047|              |\n",
      "|   3972308|      |00003201812031600165|   871949464|871949464|              |\n",
      "|   3974057|      |00003201812031501358|   931713563|931713563|              |\n",
      "|   3973761|      |00003201812031501376|   968909814|968909814|              |\n",
      "|   3972887|      |00020201812031600071|   943011595|943011595|              |\n",
      "|   3973466|      |00001201812031601554|   954709272|954709272|              |\n",
      "|   3973896|      |00003201812031501430|   957114972|957114972|              |\n",
      "|   3973471|      |00001201812031602360|   949490873|949490873|              |\n",
      "|   3973680|      |00031201812031500191|   952269542|952269542|              |\n",
      "+----------+------+--------------------+------------+---------+--------------+\n",
      "only showing top 20 rows\n",
      "\n"
     ]
    }
   ],
   "source": [
    "fixport.select('ID_INTERNO','OT_CRM','ID_PROCESO','INICIO_RANGO','FIN_RANGO','NUM_CLIENTE_SP').show()"
   ]
  },
  {
   "cell_type": "code",
   "execution_count": 114,
   "metadata": {},
   "outputs": [
    {
     "name": "stdout",
     "output_type": "stream",
     "text": [
      "+-----------+------+------+--------+\n",
      "|num_cliente|campo1|msisdn|msisdn_d|\n",
      "+-----------+------+------+--------+\n",
      "+-----------+------+------+--------+\n",
      "\n"
     ]
    }
   ],
   "source": [
    "trfeatdf.filter(col('rgu')=='fixed').select('num_cliente','campo1','msisdn','msisdn_d').distinct().show()"
   ]
  },
  {
   "cell_type": "code",
   "execution_count": 115,
   "metadata": {},
   "outputs": [
    {
     "name": "stdout",
     "output_type": "stream",
     "text": [
      "+-----------+---------+--------------+------------+\n",
      "|num_cliente|   campo1|        msisdn|    msisdn_d|\n",
      "+-----------+---------+--------------+------------+\n",
      "|  000066035|     null|  10C29V637EV8|        null|\n",
      "|  000128808|852613891|  58237FKW8GLT|58238CCE0DEB|\n",
      "|  000325467|104836096|  8029729G4D0N|8029946D8D5A|\n",
      "|  000425794|     null|09660072067732|        null|\n",
      "|  000465856|     null|  111042475320|        null|\n",
      "|  000509943|648388464|  DC533I253621|DC537C310869|\n",
      "|  000598367|764379761|  C4044055E076|C4041532D090|\n",
      "|  000634118|     null|  V33081HTP282|        null|\n",
      "|  000645564|101492925|  741028868038|741021823652|\n",
      "|  001148722|700613231|  5C358HV7942S|5C353BC8449B|\n",
      "|  001488857|     null|  A408R8IV4154|        null|\n",
      "|  001492800|012816736|  527044974301|527023111951|\n",
      "|  001519838|025910151|  V48072COV315|V48082AAH532|\n",
      "|  001551617|014177397|  10C20J917884|10C25A465255|\n",
      "|  001617790|028665938|  J26067LUG319|J26082AAB207|\n",
      "|  002057582|845088151|  O48009QUA216|O48082AAF917|\n",
      "|  002107928|103919077|  308084467854|308024460452|\n",
      "|  002118856|252678302|  DC537N1P86E0|DC537C4B21B5|\n",
      "|  002303479|027483321|  DC531F687UED|DC537C871BFD|\n",
      "|  002356837|105740209|  E8ADV43O4495|E8ADA60A2978|\n",
      "+-----------+---------+--------------+------------+\n",
      "only showing top 20 rows\n",
      "\n"
     ]
    }
   ],
   "source": [
    "trfeatdf.filter(col('rgu')=='fbb').select('num_cliente','campo1','msisdn','msisdn_d').distinct().show()"
   ]
  },
  {
   "cell_type": "code",
   "execution_count": 116,
   "metadata": {},
   "outputs": [
    {
     "name": "stdout",
     "output_type": "stream",
     "text": [
      "+---+--------+\n",
      "|rgu|count(1)|\n",
      "+---+--------+\n",
      "|fbb| 2337071|\n",
      "+---+--------+\n",
      "\n"
     ]
    }
   ],
   "source": [
    "trfeatdf.groupBy('rgu').agg(count('*')).show()"
   ]
  },
  {
   "cell_type": "code",
   "execution_count": 117,
   "metadata": {},
   "outputs": [
    {
     "name": "stdout",
     "output_type": "stream",
     "text": [
      "+---+--------+\n",
      "|rgu|count(1)|\n",
      "+---+--------+\n",
      "|2.0|    8100|\n",
      "|3.0|   15870|\n",
      "|1.0|    1416|\n",
      "|4.0|    6815|\n",
      "|0.0|   15221|\n",
      "+---+--------+\n",
      "\n"
     ]
    }
   ],
   "source": [
    "fixport.groupBy('rgu').agg(count('*')).show()"
   ]
  },
  {
   "cell_type": "code",
   "execution_count": null,
   "metadata": {},
   "outputs": [],
   "source": []
  },
  {
   "cell_type": "code",
   "execution_count": null,
   "metadata": {},
   "outputs": [],
   "source": [
    "union = trfeatdf.join(fixport, on=['msisdn_d'], how=\"inner\").filter(col(\"rgu\")==\"fbb\")\n"
   ]
  },
  {
   "cell_type": "code",
   "execution_count": 18,
   "metadata": {},
   "outputs": [
    {
     "data": {
      "text/plain": [
       "['num_cliente',\n",
       " 'nif_cliente',\n",
       " 'rgu',\n",
       " 'campo1',\n",
       " 'msisdn',\n",
       " 'msisdn_d',\n",
       " 'mean_dias_desde_fx_srv_basic',\n",
       " 'movil_services',\n",
       " 'tv_services',\n",
       " 'total_penal_cust_pending_n3_penal_amount',\n",
       " 'x_formato_factura',\n",
       " 'x_user_twitter',\n",
       " 'total_penal_cust_pending_n4_penal_amount',\n",
       " 'dias_desde_bam-movil_fx_first',\n",
       " 'max_dias_desde_fx_trybuy_autom_tv',\n",
       " 'total_price_tariff',\n",
       " 'flg_robinson',\n",
       " 'pvr_services',\n",
       " 'num_tariff_redl',\n",
       " 'dias_desde_fx_fbb_upgrade',\n",
       " 'max_dias_desde_fx_srv_basic',\n",
       " 'total_price_trybuy',\n",
       " 'total_penal_srv_pending_n4_penal_amount',\n",
       " 'max_dias_desde_fx_pvr_tv',\n",
       " 'max_dias_desde_fx_football_tv',\n",
       " 'total_max_dias_hasta_penal_cust_pending_end_date',\n",
       " 'trybuy_services',\n",
       " 'min_price_srv_basic',\n",
       " 'total_penal_cust_pending_n2_penal_amount',\n",
       " 'x_datos_trafico',\n",
       " 'total_min_dias_hasta_penal_srv_pending_end_date',\n",
       " 'cta_correo',\n",
       " 'gender2hgbst_elm',\n",
       " 'dias_desde_fixed_fx_first',\n",
       " 'max_price_srv_basic',\n",
       " 'total_penal_srv_pending_n5_penal_amount',\n",
       " 'prepaid_services',\n",
       " 'hz_services',\n",
       " 'dias_desde_tv_fx_first',\n",
       " 'dias_desde_movil_fx_first',\n",
       " 'total_penal_srv_pending_n1_penal_amount',\n",
       " 'total_max_dias_hasta_penal_srv_pending_end_date',\n",
       " 'num_tariff_xs',\n",
       " 'total_price_motor',\n",
       " 'x_user_facebook',\n",
       " 'fixed_services',\n",
       " 'fbb_upgrade',\n",
       " 'max_dias_desde_fx_zapper_tv',\n",
       " 'total_penal_srv_pending_n2_penal_amount',\n",
       " 'factura_electronica',\n",
       " 'num_tariff_plana200min',\n",
       " 'max_dias_desde_fx_trybuy_tv',\n",
       " 'min_price_tariff',\n",
       " 'bam-movil_services',\n",
       " 'total_penal_srv_pending_n3_penal_amount',\n",
       " 'num_tariff_unknown',\n",
       " 'total_min_dias_hasta_penal_cust_pending_end_date',\n",
       " 'x_cesion_datos',\n",
       " 'football_services',\n",
       " 'trybuy_autom_services',\n",
       " 'total_price_zapper',\n",
       " 'marriage2hgbst_elm',\n",
       " 'total_price_pvr',\n",
       " 'num_2lins',\n",
       " 'fbb_services',\n",
       " 'num_tariff_smart',\n",
       " 'x_publicidad_email',\n",
       " 'cliente_migrado',\n",
       " 'x_idioma_factura',\n",
       " 'num_tariff_otros',\n",
       " 'metodo_pago',\n",
       " 'max_price_tariff',\n",
       " 'bam_services',\n",
       " 'total_price_dto_lev2',\n",
       " 'superoferta',\n",
       " 'total_price_dto_lev1',\n",
       " 'total_penal_cust_pending_n5_penal_amount',\n",
       " 'total_price_football',\n",
       " 'x_antiguedad_cuenta',\n",
       " 'dias_desde_prepaid_fx_first',\n",
       " 'total_tv_total_charges',\n",
       " 'num_tariff_minim',\n",
       " 'dias_desde_fbb_fx_first',\n",
       " 'mean_price_srv_basic',\n",
       " 'dias_desde_bam_fx_first',\n",
       " 'zapper_services',\n",
       " 'motor_services',\n",
       " 'num_tariff_maslineasmini',\n",
       " 'num_tariff_redm',\n",
       " 'total_price_srv_basic',\n",
       " 'nacionalidad',\n",
       " 'total_price_trybuy_autom',\n",
       " 'max_dias_desde_fx_motor_tv',\n",
       " 'min_dias_desde_fx_dto_lev1',\n",
       " 'min_dias_desde_fx_dto_lev2',\n",
       " 'num_tariff_planaminilim',\n",
       " 'total_penal_cust_pending_n1_penal_amount',\n",
       " 'tipo_documento',\n",
       " 'x_datos_navegacion',\n",
       " 'min_dias_desde_fx_srv_basic',\n",
       " 'num_tariff_megayuser',\n",
       " 'Bill_N1_InvoiceCharges',\n",
       " 'Bill_N1_Amount_To_Pay',\n",
       " 'Bill_N1_Tax_Amount',\n",
       " 'Bill_N1_Debt_Amount',\n",
       " 'Bill_N2_InvoiceCharges',\n",
       " 'Bill_N2_Amount_To_Pay',\n",
       " 'Bill_N2_Tax_Amount',\n",
       " 'Bill_N2_Debt_Amount',\n",
       " 'Bill_N3_InvoiceCharges',\n",
       " 'Bill_N3_Amount_To_Pay',\n",
       " 'Bill_N3_Tax_Amount',\n",
       " 'Bill_N3_Debt_Amount',\n",
       " 'Bill_N4_InvoiceCharges',\n",
       " 'Bill_N4_Amount_To_Pay',\n",
       " 'Bill_N4_Tax_Amount',\n",
       " 'Bill_N4_Debt_Amount',\n",
       " 'Bill_N5_InvoiceCharges',\n",
       " 'Bill_N5_Amount_To_Pay',\n",
       " 'Bill_N5_Tax_Amount',\n",
       " 'Bill_N5_Debt_Amount',\n",
       " 'bill_n1_net',\n",
       " 'bill_n2_net',\n",
       " 'bill_n3_net',\n",
       " 'bill_n4_net',\n",
       " 'bill_n5_net',\n",
       " 'inc_bill_n1_n2_net',\n",
       " 'inc_bill_n1_n3_net',\n",
       " 'inc_bill_n1_n4_net',\n",
       " 'inc_bill_n1_n5_net',\n",
       " 'inc_Bill_N1_N2_Amount_To_Pay',\n",
       " 'inc_Bill_N1_N3_Amount_To_Pay',\n",
       " 'inc_Bill_N1_N4_Amount_To_Pay',\n",
       " 'inc_Bill_N1_N5_Amount_To_Pay',\n",
       " 'nif_port_number',\n",
       " 'nif_min_days_since_port',\n",
       " 'nif_max_days_since_port',\n",
       " 'nif_avg_days_since_port',\n",
       " 'nif_var_days_since_port',\n",
       " 'nif_distinct_msisdn',\n",
       " 'nif_port_freq_per_day',\n",
       " 'nif_port_freq_per_msisdn',\n",
       " 'movistar_ACON',\n",
       " 'movistar_ASOL',\n",
       " 'movistar_PCAN',\n",
       " 'movistar_ACAN',\n",
       " 'movistar_AACE',\n",
       " 'movistar_AENV',\n",
       " 'movistar_APOR',\n",
       " 'movistar_AREC',\n",
       " 'simyo_ACON',\n",
       " 'simyo_ASOL',\n",
       " 'simyo_PCAN',\n",
       " 'simyo_ACAN',\n",
       " 'simyo_AACE',\n",
       " 'simyo_AENV',\n",
       " 'simyo_APOR',\n",
       " 'simyo_AREC',\n",
       " 'orange_ACON',\n",
       " 'orange_ASOL',\n",
       " 'orange_PCAN',\n",
       " 'orange_ACAN',\n",
       " 'orange_AACE',\n",
       " 'orange_AENV',\n",
       " 'orange_APOR',\n",
       " 'orange_AREC',\n",
       " 'jazztel_ACON',\n",
       " 'jazztel_ASOL',\n",
       " 'jazztel_PCAN',\n",
       " 'jazztel_ACAN',\n",
       " 'jazztel_AACE',\n",
       " 'jazztel_AENV',\n",
       " 'jazztel_APOR',\n",
       " 'jazztel_AREC',\n",
       " 'yoigo_ACON',\n",
       " 'yoigo_ASOL',\n",
       " 'yoigo_PCAN',\n",
       " 'yoigo_ACAN',\n",
       " 'yoigo_AACE',\n",
       " 'yoigo_AENV',\n",
       " 'yoigo_APOR',\n",
       " 'yoigo_AREC',\n",
       " 'masmovil_ACON',\n",
       " 'masmovil_ASOL',\n",
       " 'masmovil_PCAN',\n",
       " 'masmovil_ACAN',\n",
       " 'masmovil_AACE',\n",
       " 'masmovil_AENV',\n",
       " 'masmovil_APOR',\n",
       " 'masmovil_AREC',\n",
       " 'pepephone_ACON',\n",
       " 'pepephone_ASOL',\n",
       " 'pepephone_PCAN',\n",
       " 'pepephone_ACAN',\n",
       " 'pepephone_AACE',\n",
       " 'pepephone_AENV',\n",
       " 'pepephone_APOR',\n",
       " 'pepephone_AREC',\n",
       " 'reuskal_ACON',\n",
       " 'reuskal_ASOL',\n",
       " 'reuskal_PCAN',\n",
       " 'reuskal_ACAN',\n",
       " 'reuskal_AACE',\n",
       " 'reuskal_AENV',\n",
       " 'reuskal_APOR',\n",
       " 'reuskal_AREC',\n",
       " 'unknown_ACON',\n",
       " 'unknown_ASOL',\n",
       " 'unknown_PCAN',\n",
       " 'unknown_ACAN',\n",
       " 'unknown_AACE',\n",
       " 'unknown_AENV',\n",
       " 'unknown_APOR',\n",
       " 'unknown_AREC',\n",
       " 'otros_ACON',\n",
       " 'otros_ASOL',\n",
       " 'otros_PCAN',\n",
       " 'otros_ACAN',\n",
       " 'otros_AACE',\n",
       " 'otros_AENV',\n",
       " 'otros_APOR',\n",
       " 'otros_AREC',\n",
       " 'total_acan',\n",
       " 'total_apor',\n",
       " 'total_arec',\n",
       " 'total_movistar',\n",
       " 'total_simyo',\n",
       " 'total_orange',\n",
       " 'total_jazztel',\n",
       " 'total_yoigo',\n",
       " 'total_masmovil',\n",
       " 'total_pepephone',\n",
       " 'total_reuskal',\n",
       " 'total_unknown',\n",
       " 'total_otros',\n",
       " 'num_distinct_operators',\n",
       " 'days_since_last_order',\n",
       " 'days_since_first_order']"
      ]
     },
     "execution_count": 18,
     "metadata": {},
     "output_type": "execute_result"
    }
   ],
   "source": [
    "trfeatdf.columns"
   ]
  },
  {
   "cell_type": "code",
   "execution_count": 19,
   "metadata": {},
   "outputs": [
    {
     "data": {
      "text/plain": [
       "['msisdn_d', 'FECHA_INSERCION_SGP', 'label_srv']"
      ]
     },
     "execution_count": 19,
     "metadata": {},
     "output_type": "execute_result"
    }
   ],
   "source": [
    "fixport.columns"
   ]
  },
  {
   "cell_type": "code",
   "execution_count": 13,
   "metadata": {},
   "outputs": [
    {
     "data": {
      "text/plain": [
       "1978186"
      ]
     },
     "execution_count": 13,
     "metadata": {},
     "output_type": "execute_result"
    }
   ],
   "source": [
    "trfeatdf.count()"
   ]
  },
  {
   "cell_type": "code",
   "execution_count": 14,
   "metadata": {},
   "outputs": [
    {
     "data": {
      "text/plain": [
       "47422"
      ]
     },
     "execution_count": 14,
     "metadata": {},
     "output_type": "execute_result"
    }
   ],
   "source": [
    "fixport.count()"
   ]
  },
  {
   "cell_type": "code",
   "execution_count": null,
   "metadata": {},
   "outputs": [],
   "source": [
    "unbaltrdf.columns"
   ]
  },
  {
   "cell_type": "code",
   "execution_count": 21,
   "metadata": {},
   "outputs": [
    {
     "name": "stdout",
     "output_type": "stream",
     "text": [
      "+---------+------------+------------+\n",
      "|   campo1|      msisdn|    msisdn_d|\n",
      "+---------+------------+------------+\n",
      "|852613891|58237FKW8GLT|58238CCE0DEB|\n",
      "|104836096|8029729G4D0N|8029946D8D5A|\n",
      "|648388464|DC533I253621|DC537C310869|\n",
      "|764379761|C4044055E076|C4041532D090|\n",
      "|105186998|V33081HTP282|V33082ACE137|\n",
      "|101492925|741028868038|741021823652|\n",
      "|290973451|5C350B82S3O5|5C353B52E0E1|\n",
      "|187263681|5C354CRR4C91|5C353BDC4C89|\n",
      "|700613231|5C358HV7942S|5C353BC8449B|\n",
      "|012816736|527044974301|527023111951|\n",
      "|025910151|V48072COV315|V48082AAH532|\n",
      "|014177397|10C20J917884|10C25A465255|\n",
      "|028665938|J26067LUG319|J26082AAB207|\n",
      "|845088151|O48009QUA216|O48082AAF917|\n",
      "|103919077|308084467854|308024460452|\n",
      "|252678302|DC537N1P86E0|DC537C4B21B5|\n",
      "|027483321|DC531F687UED|DC537C871BFD|\n",
      "|105740209|E8ADV43O4495|E8ADA60A2978|\n",
      "|104595979|O08016XPP363|O08082AFJ075|\n",
      "|002410800|A408L5WNO863|A408F5DDB018|\n",
      "+---------+------------+------------+\n",
      "only showing top 20 rows\n",
      "\n"
     ]
    }
   ],
   "source": [
    "trfeatdf.select(['campo1','msisdn','msisdn_d']).show()"
   ]
  },
  {
   "cell_type": "code",
   "execution_count": 20,
   "metadata": {},
   "outputs": [
    {
     "name": "stdout",
     "output_type": "stream",
     "text": [
      "+---------+-------------------+---------+\n",
      "| msisdn_d|FECHA_INSERCION_SGP|label_srv|\n",
      "+---------+-------------------+---------+\n",
      "|968089794|2018-12-11 00:00:00|      1.0|\n",
      "|952677232|2018-12-11 00:00:00|      1.0|\n",
      "|976573398|2018-12-11 00:00:00|      1.0|\n",
      "|949493201|2018-12-11 00:00:00|      1.0|\n",
      "|977731469|2018-12-11 00:00:00|      1.0|\n",
      "|971477546|2018-12-11 00:00:00|      1.0|\n",
      "|918051059|2018-12-11 00:00:00|      1.0|\n",
      "|959153255|2018-12-11 00:00:00|      1.0|\n",
      "|938465732|2018-12-11 00:00:00|      1.0|\n",
      "|935171604|2018-12-11 00:00:00|      1.0|\n",
      "|954031865|2018-12-11 00:00:00|      1.0|\n",
      "|961474353|2018-12-11 00:00:00|      1.0|\n",
      "|935623058|2018-12-11 00:00:00|      1.0|\n",
      "|916619351|2018-12-11 00:00:00|      1.0|\n",
      "|952700184|2018-12-11 00:00:00|      1.0|\n",
      "|945223600|2018-12-11 00:00:00|      1.0|\n",
      "|955115110|2018-12-31 00:00:00|      1.0|\n",
      "|916481072|2018-12-31 00:00:00|      1.0|\n",
      "|979852900|2018-12-31 00:00:00|      1.0|\n",
      "|986431476|2018-12-31 00:00:00|      1.0|\n",
      "+---------+-------------------+---------+\n",
      "only showing top 20 rows\n",
      "\n"
     ]
    }
   ],
   "source": [
    "fixport.show()"
   ]
  },
  {
   "cell_type": "code",
   "execution_count": null,
   "metadata": {},
   "outputs": [],
   "source": []
  }
 ],
 "metadata": {
  "kernelspec": {
   "display_name": "Python 2",
   "language": "python",
   "name": "python2"
  },
  "language_info": {
   "codemirror_mode": {
    "name": "ipython",
    "version": 2
   },
   "file_extension": ".py",
   "mimetype": "text/x-python",
   "name": "python",
   "nbconvert_exporter": "python",
   "pygments_lexer": "ipython2",
   "version": "2.7.11"
  }
 },
 "nbformat": 4,
 "nbformat_minor": 2
}
