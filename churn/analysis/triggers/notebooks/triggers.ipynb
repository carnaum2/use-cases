{
 "cells": [
  {
   "cell_type": "code",
   "execution_count": 58,
   "metadata": {},
   "outputs": [],
   "source": [
    "spark.stop()"
   ]
  },
  {
   "cell_type": "markdown",
   "metadata": {},
   "source": [
    "# Set paths"
   ]
  },
  {
   "cell_type": "markdown",
   "metadata": {},
   "source": [
    "DEVEL_SRC must contain the directory use-cases and pykhaos"
   ]
  },
  {
   "cell_type": "code",
   "execution_count": 1,
   "metadata": {},
   "outputs": [
    {
     "name": "stderr",
     "output_type": "stream",
     "text": [
      "20190624-113319 [INFO ] Logging to file /var/SP/data/home/csanc109/logging/out_20190624_113319.log\n"
     ]
    },
    {
     "data": {
      "application/javascript": [
       "if (!(\"Notification\" in window)) {\n",
       "    alert(\"This browser does not support desktop notifications, so the %%notify magic will not work.\");\n",
       "} else if (Notification.permission !== 'granted' && Notification.permission !== 'denied') {\n",
       "    Notification.requestPermission(function (permission) {\n",
       "        if(!('permission' in Notification)) {\n",
       "            Notification.permission = permission;\n",
       "        }\n",
       "    })\n",
       "}\n"
      ],
      "text/plain": [
       "<IPython.core.display.Javascript object>"
      ]
     },
     "metadata": {},
     "output_type": "display_data"
    },
    {
     "data": {
      "text/html": [
       "<style>.container { width:100% !important; }</style>"
      ],
      "text/plain": [
       "<IPython.core.display.HTML object>"
      ]
     },
     "metadata": {},
     "output_type": "display_data"
    }
   ],
   "source": [
    "import os, sys\n",
    "import datetime as dt\n",
    "DEVEL_SRC = os.path.join(os.environ.get('BDA_USER_HOME', ''), \"src\", \"devel\")\n",
    "if DEVEL_SRC not in sys.path:\n",
    "    sys.path.append(DEVEL_SRC)\n",
    "\n",
    "USECASES_SRC = os.path.join(DEVEL_SRC, \"use-cases\") # TODO when '-' is removed from name, remove also this line and adapt imports \n",
    "if USECASES_SRC not in sys.path: \n",
    "    sys.path.append(USECASES_SRC)\n",
    "    \n",
    "# AMDOCS_SRC = os.path.join(DEVEL_SRC, \"amdocs_informational_dataset\") # TODO when - is removed, remove also this line and adapt imports\n",
    "# if AMDOCS_SRC not in sys.path: \n",
    "#     sys.path.append(AMDOCS_SRC)\n",
    "    \n",
    "import pykhaos.utils.custom_logger as clogger\n",
    "logging_file = os.path.join(os.environ.get('BDA_USER_HOME', ''), \"logging\",\n",
    "                                    \"out_\" + dt.datetime.now().strftime(\"%Y%m%d_%H%M%S\") + \".log\")\n",
    "logger = clogger.configure_logger(log_filename=logging_file, std_channel=sys.stderr, logger_name=\"\")\n",
    "logger.info(\"Logging to file {}\".format(logging_file))    \n",
    "        \n",
    "from project.project_generic import Project\n",
    "\n",
    "import pykhaos.utils.notebooks as nb\n",
    "\n",
    "import time\n",
    "start_time = time.time()\n",
    "\n",
    "RUNNING_FROM_NOTEBOOK = nb.isnotebook()\n",
    "import matplotlib\n",
    "matplotlib.use('Agg')\n",
    "import matplotlib.pyplot as plt\n",
    "if RUNNING_FROM_NOTEBOOK:\n",
    "    %load_ext autoreload\n",
    "    %autoreload 2\n",
    "    %matplotlib inline  \n",
    "    EXTERNAL_LIB = os.path.join(os.environ.get('BDA_USER_HOME', ''), \"lib\", \"external_libs\")\n",
    "    if EXTERNAL_LIB not in sys.path:\n",
    "        sys.path.append(EXTERNAL_LIB)\n",
    "    # feel free from commenting this line and the other ones that begin with \"%%notify\" if you do not have \n",
    "    # the extension installed or copy de lib from /var/SP/data/home/csanc109/lib/external_libs/jupyternotify/\n",
    "    %load_ext jupyternotify \n",
    "from IPython.core.display import display, HTML\n",
    "display(HTML(\"<style>.container { width:100% !important; }</style>\"))"
   ]
  },
  {
   "cell_type": "code",
   "execution_count": 2,
   "metadata": {},
   "outputs": [
    {
     "data": {
      "text/html": [
       "<style>.container { width:100% !important; }</style>"
      ],
      "text/plain": [
       "<IPython.core.display.HTML object>"
      ]
     },
     "metadata": {},
     "output_type": "display_data"
    }
   ],
   "source": [
    "from pyspark.sql import Row, DataFrame, Column, Window\n",
    "from pyspark.sql.types import DoubleType, StringType, IntegerType, DateType, ArrayType\n",
    "from pyspark.ml import Pipeline\n",
    "from pyspark.ml.classification import RandomForestClassifier\n",
    "from pyspark.ml.feature import StringIndexer, VectorIndexer, VectorAssembler, SQLTransformer, OneHotEncoder\n",
    "from pyspark.ml.evaluation import MulticlassClassificationEvaluator, BinaryClassificationEvaluator\n",
    "from pyspark.mllib.evaluation import BinaryClassificationMetrics\n",
    "from pyspark.sql.functions import collect_set, concat, size, coalesce, col, lpad, struct, count as sql_count, lit, min as sql_min, max as sql_max, collect_list, udf, when, desc, asc, to_date, create_map, sum as sql_sum\n",
    "from pyspark.sql.types import StringType, ArrayType, MapType, StructType, StructField, IntegerType\n",
    "from pyspark.sql.functions import array, regexp_extract\n",
    "from itertools import chain\n",
    "from churn.datapreparation.general.data_loader import get_unlabeled_car, get_port_requests_table, get_numclients_under_analysis\n",
    "from churn.utils.constants import PORT_TABLE_NAME\n",
    "from churn.utils.udf_manager import Funct_to_UDF\n",
    "from pyspark.sql.functions import substring, datediff, row_number\n",
    "from pykhaos.utils.date_functions import move_date_n_days, move_date_n_cycles\n",
    "from pykhaos.utils.hdfs_functions import check_hdfs_exists\n",
    "from pykhaos.modeling.model_performance import get_lift\n",
    "\n",
    "from IPython.core.display import display, HTML\n",
    "display(HTML(\"<style>.container { width:100% !important; }</style>\"))"
   ]
  },
  {
   "cell_type": "markdown",
   "metadata": {},
   "source": [
    "# Functions"
   ]
  },
  {
   "cell_type": "code",
   "execution_count": 249,
   "metadata": {},
   "outputs": [],
   "source": [
    "def compute_l2(df_tar):\n",
    "    if \"total_data_volume\" in df_tar.columns:\n",
    "        df_tar = df_tar.withColumn(\"total_data_volume\", when(col(\"total_data_volume\")<0, 0).otherwise(col(\"total_data_volume\")))\n",
    "        \n",
    "    if \"total_mou_w\" in df_tar.columns:\n",
    "        df_tar = df_tar.withColumn(\"total_mou_w\", when(col(\"total_mou_w\")<0, 0).otherwise(col(\"total_mou_w\")))\n",
    "    \n",
    "    if \"total_mou_we\" in df_tar.columns:\n",
    "        df_tar = df_tar.withColumn(\"total_mou_we\", when(col(\"total_mou_we\")<0, 0).otherwise(col(\"total_mou_we\")))\n",
    "          \n",
    "    if \"total_mou_we\" in df_tar.columns and \"total_mou_w\" in df_tar.columns:\n",
    "        df_tar = df_tar.withColumn(\"total_mou\", col(\"total_mou_we\")+col(\"total_mou_w\"))\n",
    "        \n",
    "    return df_tar\n",
    "\n",
    "def get_prepared_car(closing_day, start_date, end_date, ref_date=None, select_columns=None, force=True, save=False):\n",
    "    \n",
    "    if not ref_date:\n",
    "        ref_date = closing_day\n",
    "    \n",
    "    path_to_file = '/user/csanc109/projects/triggers/df_{}_{}'.format(closing_day, start_date + \"to\" + end_date)\n",
    "    \n",
    "\n",
    "    if not check_hdfs_exists(path_to_file) or force:\n",
    "    \n",
    "        df_tar = spark.read.option('sep', '|').option('header', 'true').csv(path_to_file)\n",
    " \n",
    "\n",
    "\n",
    "        df_car = spark.read.table(\"tests_es.jvmm_amdocs_prepared_car_mobile_complete_{}\".format(closing_day))    \n",
    "        df_ef = spark.read.parquet(\"/data/udf/vf_es/churn/extra_feats_mod/extra_feats/year={}/month={}/day={}\".format(closing_day[:4], int(closing_day[4:6]), int(closing_day[6:]))).drop(\"nif_cliente\", \"rgu\", \"num_cliente\", \"campo1\", \"campo2\")\n",
    "        df_car = df_car.join(df_ef, on=[\"msisdn\"], how=\"left\")\n",
    "        \n",
    "        \n",
    "        df_car = compute_l2(df_car)\n",
    "     \n",
    "\n",
    "\n",
    "        print(\"Get port requests table: start={} end={} ref_date={}\".format(start_date, end_date, ref_date))\n",
    "\n",
    "\n",
    "        window = Window.partitionBy(\"msisdn_a\").orderBy(desc(\"days_from_portout\")) # keep the 1st portout\n",
    "\n",
    "        start_date_obj = Funct_to_UDF.convert_to_date(start_date)\n",
    "        end_date_obj = Funct_to_UDF.convert_to_date(end_date)\n",
    "\n",
    "        convert_to_date_udf = udf(Funct_to_UDF.convert_to_date, StringType())\n",
    "\n",
    "        df_sol_port = (spark.read.table(PORT_TABLE_NAME)\n",
    "                      .where((col(\"sopo_ds_fecha_solicitud\") >= start_date_obj) & (col(\"sopo_ds_fecha_solicitud\") <= end_date_obj))\n",
    "                      .withColumnRenamed(\"SOPO_DS_MSISDN1\", \"msisdn_a\")\n",
    "                      .withColumnRenamed(\"SOPO_DS_FECHA_SOLICITUD\", \"portout_date\")\n",
    "                      .withColumn(\"portout_date\", substring(col(\"portout_date\"), 0, 10))\n",
    "                      .withColumn(\"portout_date\", convert_to_date_udf(col(\"portout_date\")))\n",
    "                      .withColumn(\"ref_date\",\n",
    "                                  convert_to_date_udf(concat(lit(ref_date[:4]), lit(ref_date[4:6]), lit(ref_date[6:]))))\n",
    "                      .withColumn(\"days_from_portout\", datediff(col(\"ref_date\"), col(\"portout_date\")).cast(\"int\"))\n",
    "                      .withColumn(\"rank\", row_number().over(window))\n",
    "                          .where(col(\"rank\") == 1))\n",
    "\n",
    "        df_sol_port = df_sol_port.withColumn(\"label\", lit(1.0)).withColumnRenamed(\"msisdn_a\", \"msisdn\").select(\"msisdn\", \"label\")\n",
    "\n",
    "        print(\"sol_port = {} -- {}\".format(df_sol_port.count(), \",\".join(df_sol_port.columns)))\n",
    "        # df_sol_port cols:msisdn_d_port,label\n",
    "\n",
    "        df_tar = (df_car.join(df_sol_port, on=[\"msisdn\"], how=\"left\").na.fill({'label': 0.0}))\n",
    "\n",
    "        if select_columns:\n",
    "            df_tar = df_tar.select(select_columns)\n",
    "\n",
    "        \n",
    "        #print(\"df_tar\", \",\".join(df_tar.columns))\n",
    "        nb_rows_tar = df_tar.count()\n",
    "        print(\"[Info DataLoader] Number of msisdns: df_tar={} \".format(nb_rows_tar))\n",
    "        if nb_rows_tar>0:\n",
    "            print(\"Num port outs in labeled car {}\".format(df_tar.select(\"label\").rdd.map(lambda x: (1, x[0])).reduceByKey(\n",
    "                lambda x, y: x + y).collect()[0][1]))\n",
    "\n",
    "        from churn.datapreparation.app.generate_table_extra_feats_new import impute_nulls\n",
    "        df_tar = impute_nulls(df_tar, spark, metadata_version=\"1.1\")\n",
    "        if save:\n",
    "            print(\"Saving {}\".format(path_to_file))\n",
    "            df_tar.coalesce(1).write.mode('overwrite').format('csv').option('sep', '|').option('header', 'true').save(path_to_file)\n",
    "            print(\"Saved {}\".format(path_to_file))\n",
    "    else:\n",
    "        print(\"Reading {}\".format(path_to_file))\n",
    "        df_tar = spark.read.option('sep', '|').option('header', 'true').csv(path_to_file)\n",
    "       \n",
    "        df_tar = compute_l2(df_tar)\n",
    "        \n",
    "        if select_columns:\n",
    "            df_tar = df_tar.select(select_columns)\n",
    "\n",
    "        for col_ in int_feats:\n",
    "            df_tar = df_tar.withColumn(col_, col(col_).cast(\"int\"))\n",
    "            \n",
    "        for col_ in float_feats:\n",
    "            df_tar = df_tar.withColumn(col_, col(col_).cast(\"float\"))\n",
    "\n",
    "        df_tar = df_tar.withColumn(label_col, col(label_col).cast(\"int\"))\n",
    "            \n",
    "    return df_tar\n",
    "\n",
    "# from pykhaos.utils.pyspark_utils import count_nans\n",
    "# A = count_nans(trdf)\n",
    "# A\n",
    "\n",
    "def get_metrics(df_preds, label=\"\", nb_deciles=10):\n",
    "    \n",
    "    preds_and_labels = df_preds.select(['model_score', 'label']).rdd.map(lambda r: (r['model_score'], float(r['label'])))\n",
    "\n",
    "    my_metrics = BinaryClassificationMetrics(preds_and_labels)\n",
    "\n",
    "    print(\"METRICS FOR {}\".format(label))\n",
    "    print(\"\\t AUC = {}\".format(my_metrics.areaUnderROC))\n",
    "    if nb_deciles:\n",
    "        lift = get_lift(df_preds, 'model_score', 'label', nb_deciles)\n",
    "\n",
    "        for d ,l in lift:\n",
    "            print \"\\t\" + str(d) + \": \" + str(l)\n",
    "\n",
    "\n",
    "def plot_hist(data):\n",
    "    \n",
    "    import numpy as np\n",
    "    import matplotlib.pyplot as mplt\n",
    "    import matplotlib.ticker as mtick\n",
    "    \n",
    "    binSides, binCounts = data\n",
    "\n",
    "    N = len(binCounts)\n",
    "    ind = np.arange(N)\n",
    "    width = 1\n",
    "\n",
    "    fig, ax = mplt.subplots()\n",
    "    rects1 = ax.bar(ind+0.5, binCounts, width, color='b')\n",
    "\n",
    "    ax.set_ylabel('Frequencies')\n",
    "    ax.set_title('Histogram')\n",
    "    ax.set_xticks(np.arange(N+1))\n",
    "    ax.set_xticklabels(binSides)\n",
    "    ax.xaxis.set_major_formatter(mtick.FormatStrFormatter('%.2e'))\n",
    "    ax.yaxis.set_major_formatter(mtick.FormatStrFormatter('%.2e'))\n",
    "\n",
    "    mplt.show()\n",
    "    \n",
    "def filter_car(df_tar):\n",
    "    print(\"BEFORE {}\".format(df_tar.count()))\n",
    "    from churn.datapreparation.general.data_loader import get_numclients_under_analysis\n",
    "    df_nc_mobileandfbb = get_numclients_under_analysis(spark, config_obj=None, closing_day=closing_day, segment_filter=\"mobileandfbb\", new=False)\n",
    "    df_tar = df_tar.join(df_nc_mobileandfbb, on=[\"NUM_CLIENTE\"], how=\"inner\")\n",
    "    print(\"AFTER1 {}\".format(df_tar.count()))\n",
    "\n",
    "    df_tar = (df_tar.where(col(\"ccc_num_interactions\")>0)\n",
    "                   .where(col(\"total_mou\")>0)\n",
    "                   .where(col(\"total_data_volume\")>0)\n",
    "                   .where(col(\"total_data_volume\")<45000)\n",
    "                   .where(col(\"total_mou\")<4500)\n",
    "                   .where(col(\"device_days_since_device_n1_change_date\")<4000))\n",
    "\n",
    "\n",
    "\n",
    "    print(\"AFTER2 {}\".format(df_tar.count()))\n",
    "\n",
    "    return df_tar"
   ]
  },
  {
   "cell_type": "markdown",
   "metadata": {},
   "source": [
    "## Start spark context"
   ]
  },
  {
   "cell_type": "code",
   "execution_count": 4,
   "metadata": {},
   "outputs": [
    {
     "name": "stdout",
     "output_type": "stream",
     "text": [
      "Ended spark session: 840.816717863 secs | default parallelism=2\n"
     ]
    }
   ],
   "source": [
    "from churn.utils.general_functions import init_spark\n",
    "spark = init_spark(\"triggers\")\n",
    "sc = spark.sparkContext"
   ]
  },
  {
   "cell_type": "markdown",
   "metadata": {},
   "source": [
    "# Input params"
   ]
  },
  {
   "cell_type": "code",
   "execution_count": 5,
   "metadata": {},
   "outputs": [],
   "source": [
    "closing_day = \"20190414\"\n",
    "start_date = closing_day\n",
    "end_date = move_date_n_days(closing_day, n=+30)\n",
    "\n",
    "ref_date = end_date"
   ]
  },
  {
   "cell_type": "markdown",
   "metadata": {},
   "source": [
    "# Config "
   ]
  },
  {
   "cell_type": "code",
   "execution_count": 250,
   "metadata": {},
   "outputs": [],
   "source": [
    "int_feats =  ['ccc_num_interactions', 'ccc_num_ivr_interactions', 'device_days_since_device_n1_change_date', 'device_tenure_days_n2'] \n",
    "float_feats = ['additional_inc_bill_n1_n2_net', 'additional_inc_bill_n1_n3_net', 'additional_inc_bill_n1_n4_net', \"total_data_volume\", \"total_mou\"]# \"total_mou_w\", \"total_mou_we\"] \n",
    "\n",
    "numerical_feats = int_feats + float_feats\n",
    "noninf_feats = ['msisdn', \"NUM_CLIENTE\"]\n",
    "\n",
    "label_col = 'label'\n",
    "\n",
    "COLS = numerical_feats + noninf_feats + [label_col]\n",
    "\n",
    "feat_cols = numerical_feats # notebook is not still prepared for categoricals.\n",
    "\n"
   ]
  },
  {
   "cell_type": "markdown",
   "metadata": {},
   "source": [
    "# Get current car (for train and test) and other car (for validation)"
   ]
  },
  {
   "cell_type": "code",
   "execution_count": 327,
   "metadata": {},
   "outputs": [
    {
     "name": "stdout",
     "output_type": "stream",
     "text": [
      "Reading /user/csanc109/projects/triggers/df_20190414_20190414to20190514\n",
      "BEFORE 6224707\n",
      "Calling get_numclients_under_analysis for closing_day=20190414 and segment_filter=mobileandfbb\n",
      "*********** NUM_CLIENTE,bam_services_nc,bam_fx_first_nc,fbb_services_nc,fbb_fx_first_nc,mobile_services_nc,mobile_fx_first_nc,fixed_services_nc,fixed_fx_first_nc,tv_services_nc,tv_fx_first_nc,prepaid_services_nc,prepaid_fx_first_nc,bam_mobile_services_nc,bam_mobile_fx_first_nc,flag_prepaid_nc,seg_pospaid_nc,bam_services_nif,bam_fx_first_nif,fbb_services_nif,fbb_fx_first_nif,mobile_services_nif,mobile_fx_first_nif,fixed_services_nif,fixed_fx_first_nif,tv_services_nif,tv_fx_first_nif,prepaid_services_nif,prepaid_fx_first_nif,bam_mobile_services_nif,bam_mobile_fx_first_nif,flag_prepaid_nif,seg_pospaid_nif,SUPEROFERTA_EXONO_PREOW,GRUPO_EXONO_PREOW,num_football_nc,total_football_price_nc,num_football_nif,total_football_price_nif,total_num_services_nc,fx_bam_fx_first_nc,days_since_bam_fx_first_nc,fx_bam_mobile_fx_first_nc,days_since_bam_mobile_fx_first_nc,fx_fbb_fx_first_nc,days_since_fbb_fx_first_nc,fx_fixed_fx_first_nc,days_since_fixed_fx_first_nc,fx_mobile_fx_first_nc,days_since_mobile_fx_first_nc,fx_prepaid_fx_first_nc,days_since_prepaid_fx_first_nc,fx_tv_fx_first_nc,days_since_tv_fx_first_nc,total_num_services_nif,fx_bam_fx_first_nif,days_since_bam_fx_first_nif,fx_bam_mobile_fx_first_nif,days_since_bam_mobile_fx_first_nif,fx_fbb_fx_first_nif,days_since_fbb_fx_first_nif,fx_fixed_fx_first_nif,days_since_fixed_fx_first_nif,fx_mobile_fx_first_nif,days_since_mobile_fx_first_nif,fx_prepaid_fx_first_nif,days_since_prepaid_fx_first_nif,fx_tv_fx_first_nif,days_since_tv_fx_first_nif,fx_srv_basic_first_nc,first_srv_basic_name_nc\n",
      "!!!!!!!!get_numclients_under_analysis - segment mobileandfbb has 2104593 num_client \n",
      "AFTER1 4016997\n",
      "AFTER2 510198\n"
     ]
    }
   ],
   "source": [
    "df_tar_all = get_prepared_car(closing_day, start_date, end_date, select_columns=COLS, force=False, save=True)\n",
    "df_tar = filter_car(df_tar_all)"
   ]
  },
  {
   "cell_type": "code",
   "execution_count": 328,
   "metadata": {},
   "outputs": [
    {
     "name": "stdout",
     "output_type": "stream",
     "text": [
      "Get port requests table: start=20190421 end=20190521 ref_date=20190421\n",
      "sol_port = 160867 -- msisdn,label\n",
      "[Info DataLoader] Number of msisdns: df_tar=6227319 \n",
      "Num port outs in labeled car 91993.0\n"
     ]
    },
    {
     "name": "stderr",
     "output_type": "stream",
     "text": [
      "20190613-143912 [INFO ] df_metadata=DataFrame[feature: string, source: string, type: string, imputation: string]\n",
      "20190613-143912 [INFO ] df_metadata=DataFrame[feature: string, source: string, type: string, imputation: string]\n",
      "20190613-143912 [INFO ] about to call fillna\n",
      "20190613-143912 [INFO ] after call to fillna\n"
     ]
    },
    {
     "name": "stdout",
     "output_type": "stream",
     "text": [
      "Saving /user/csanc109/projects/triggers/df_20190421_20190421to20190521\n",
      "Saved /user/csanc109/projects/triggers/df_20190421_20190421to20190521\n",
      "BEFORE 6227319\n",
      "Calling get_numclients_under_analysis for closing_day=20190414 and segment_filter=mobileandfbb\n",
      "*********** NUM_CLIENTE,bam_services_nc,bam_fx_first_nc,fbb_services_nc,fbb_fx_first_nc,mobile_services_nc,mobile_fx_first_nc,fixed_services_nc,fixed_fx_first_nc,tv_services_nc,tv_fx_first_nc,prepaid_services_nc,prepaid_fx_first_nc,bam_mobile_services_nc,bam_mobile_fx_first_nc,flag_prepaid_nc,seg_pospaid_nc,bam_services_nif,bam_fx_first_nif,fbb_services_nif,fbb_fx_first_nif,mobile_services_nif,mobile_fx_first_nif,fixed_services_nif,fixed_fx_first_nif,tv_services_nif,tv_fx_first_nif,prepaid_services_nif,prepaid_fx_first_nif,bam_mobile_services_nif,bam_mobile_fx_first_nif,flag_prepaid_nif,seg_pospaid_nif,SUPEROFERTA_EXONO_PREOW,GRUPO_EXONO_PREOW,num_football_nc,total_football_price_nc,num_football_nif,total_football_price_nif,total_num_services_nc,fx_bam_fx_first_nc,days_since_bam_fx_first_nc,fx_bam_mobile_fx_first_nc,days_since_bam_mobile_fx_first_nc,fx_fbb_fx_first_nc,days_since_fbb_fx_first_nc,fx_fixed_fx_first_nc,days_since_fixed_fx_first_nc,fx_mobile_fx_first_nc,days_since_mobile_fx_first_nc,fx_prepaid_fx_first_nc,days_since_prepaid_fx_first_nc,fx_tv_fx_first_nc,days_since_tv_fx_first_nc,total_num_services_nif,fx_bam_fx_first_nif,days_since_bam_fx_first_nif,fx_bam_mobile_fx_first_nif,days_since_bam_mobile_fx_first_nif,fx_fbb_fx_first_nif,days_since_fbb_fx_first_nif,fx_fixed_fx_first_nif,days_since_fixed_fx_first_nif,fx_mobile_fx_first_nif,days_since_mobile_fx_first_nif,fx_prepaid_fx_first_nif,days_since_prepaid_fx_first_nif,fx_tv_fx_first_nif,days_since_tv_fx_first_nif,fx_srv_basic_first_nc,first_srv_basic_name_nc\n",
      "!!!!!!!!get_numclients_under_analysis - segment mobileandfbb has 2104593 num_client \n",
      "AFTER1 4014164\n",
      "AFTER2 479164\n"
     ]
    }
   ],
   "source": [
    "df_next_tar_all = get_prepared_car(move_date_n_cycles(closing_day,n=+1), move_date_n_cycles(start_date,n=+1), move_date_n_cycles(end_date,n=+1), select_columns=COLS, force=True, save=True)\n",
    "df_next_tar = filter_car(df_next_tar_all)"
   ]
  },
  {
   "cell_type": "markdown",
   "metadata": {},
   "source": [
    "# Train them first model to extract important variables"
   ]
  },
  {
   "cell_type": "code",
   "execution_count": 239,
   "metadata": {},
   "outputs": [
    {
     "name": "stdout",
     "output_type": "stream",
     "text": [
      "+-------+--------------------+\n",
      "|summary|               label|\n",
      "+-------+--------------------+\n",
      "|  count|              357101|\n",
      "|   mean|0.025004130484092734|\n",
      "| stddev|  0.1561377347472626|\n",
      "|    min|                   0|\n",
      "|    max|                   1|\n",
      "+-------+--------------------+\n",
      "\n",
      " Stat description of the target variable printed above\n",
      "+-----+--------+\n",
      "|label|count(1)|\n",
      "+-----+--------+\n",
      "|    1|    8929|\n",
      "|    0|  348172|\n",
      "+-----+--------+\n",
      "\n",
      " Count on label column for unbalanced tr set showed above\n",
      "[Info balance_df2] Dataframe has been balanced - Total number of rows is 17901\n",
      "+-----+--------+\n",
      "|label|count(1)|\n",
      "+-----+--------+\n",
      "|    1|    8929|\n",
      "|    0|    8972|\n",
      "+-----+--------+\n",
      "\n",
      " Count on label column for balanced tr set showed above\n",
      "Non-informative feat: msisdn\n",
      "Non-informative feat: NUM_CLIENTE\n"
     ]
    }
   ],
   "source": [
    "[df_unbaltr, df_tt] = df_tar.randomSplit([0.7, 0.3], 1234)\n",
    "\n",
    "#print \"[Info FbbChurn] \" + time.ctime() + \" Total number of training samples is : \" + str(unbaltrdf.count())\n",
    "\n",
    "df_unbaltr.describe('label').show()\n",
    "\n",
    "print \" Stat description of the target variable printed above\"\n",
    "\n",
    "# 1.2. Balanced df for training\n",
    "\n",
    "df_unbaltr.groupBy('label').agg(sql_count('*')).show()\n",
    "\n",
    "print \" Count on label column for unbalanced tr set showed above\"\n",
    "\n",
    "from churn.models.fbb_churn_amdocs.utils_general import balance_df2\n",
    "df_tr = balance_df2(df_unbaltr, 'label')\n",
    "\n",
    "df_tr.groupBy('label').agg(sql_count('*')).show()\n",
    "\n",
    "print \" Count on label column for balanced tr set showed above\"\n",
    "\n",
    "# 1.3. Feature selection\n",
    "\n",
    "# allFeats = trdf.columns\n",
    "\n",
    "for f in noninf_feats:\n",
    "    print \"Non-informative feat: \" + f\n"
   ]
  },
  {
   "cell_type": "markdown",
   "metadata": {},
   "source": [
    "# Model"
   ]
  },
  {
   "cell_type": "code",
   "execution_count": 243,
   "metadata": {},
   "outputs": [
    {
     "name": "stderr",
     "output_type": "stream",
     "text": [
      "20190613-084439 [INFO ] Feat cols = ccc_num_interactions,ccc_num_ivr_interactions,device_days_since_device_n1_change_date,device_tenure_days_n2,additional_inc_bill_n1_n2_net,additional_inc_bill_n1_n3_net,additional_inc_bill_n1_n4_net,total_data_volume,total_mou\n"
     ]
    },
    {
     "name": "stdout",
     "output_type": "stream",
     "text": [
      "Imp feat device_days_since_device_n1_change_date: 0.1930537449565467\n",
      "Imp feat ccc_num_interactions: 0.17340892438081773\n",
      "Imp feat device_tenure_days_n2: 0.11585982268254011\n",
      "Imp feat total_data_volume: 0.10861543134535676\n",
      "Imp feat total_mou: 0.10628811224771567\n",
      "Imp feat additional_inc_bill_n1_n4_net: 0.09987553573978039\n",
      "Imp feat additional_inc_bill_n1_n2_net: 0.09321802272201797\n",
      "Imp feat additional_inc_bill_n1_n3_net: 0.08847266092171562\n",
      "Imp feat ccc_num_ivr_interactions: 0.021207745003509092\n"
     ]
    }
   ],
   "source": [
    "\n",
    "logger.info(\"Feat cols = {}\".format(\",\".join(feat_cols)))\n",
    "\n",
    "assembler = VectorAssembler(inputCols = feat_cols, outputCol = \"features\")\n",
    "\n",
    "classifier = RandomForestClassifier(featuresCol=\"features\", \\\n",
    "                                    labelCol=\"label\", \\\n",
    "                                    maxDepth=25, \\\n",
    "                                    maxBins=32, \\\n",
    "                                    minInstancesPerNode=50, \\\n",
    "                                    impurity=\"gini\", \\\n",
    "                                    featureSubsetStrategy=\"sqrt\", \\\n",
    "                                    subsamplingRate=0.7, \\\n",
    "                                    numTrees=250, \\\n",
    "                                    seed = 1234)\n",
    "\n",
    "pipeline = Pipeline(stages= [assembler, classifier])\n",
    "\n",
    "model = pipeline.fit(df_tr)\n",
    "\n",
    "from churn.models.fbb_churn_amdocs.utils_model import getOrderedRelevantFeats\n",
    "feat_importance = getOrderedRelevantFeats(model, feat_cols, 'f', 'rf')\n",
    "\n",
    "for fimp in feat_importance:\n",
    "    print \"Imp feat \" + str(fimp[0]) + \": \" +  str(fimp[1])\n",
    "\n",
    "# EVALUATION\n",
    "# TODO: to include model calibration\n",
    "\n",
    "# Calibration\n",
    "#calibmodel = get_calibration_function2(spark, model, valdf, 'label', 10)\n",
    "#getScore = udf(lambda prob: float(prob[1]), DoubleType())\n",
    "\n",
    "getScore = udf(lambda prob: float(prob[1]), DoubleType())\n",
    "\n",
    "# Train evaluation\n",
    "df_tr_preds = model.transform(df_tr).withColumn(\"model_score\", getScore(col(\"probability\")).cast(DoubleType()))\n",
    "#trPredictionAndLabels = df_tr_preds.select(['model_score', 'label']).rdd.map(lambda r: (r['model_score'], float(r['label'])))\n",
    "\n",
    "\n",
    "# Test eval\n",
    "df_tt_preds = model.transform(df_tt).withColumn(\"model_score\", getScore(col(\"probability\")).cast(DoubleType()))\n",
    "\n",
    "# Evaluation \n",
    "df_val_preds = model.transform(df_next_tar).withColumn(\"model_score\", getScore(col(\"probability\")).cast(DoubleType()))\n",
    "\n",
    "\n"
   ]
  },
  {
   "cell_type": "code",
   "execution_count": 244,
   "metadata": {},
   "outputs": [
    {
     "name": "stdout",
     "output_type": "stream",
     "text": [
      "METRICS FOR train\n",
      "\t AUC = 0.701602718968\n",
      "METRICS FOR test\n",
      "\t AUC = 0.626634439181\n",
      "METRICS FOR validation\n",
      "\t AUC = 0.633079729516\n"
     ]
    }
   ],
   "source": [
    "# Validation\n",
    "get_metrics(df_tr_preds, label=\"train\", nb_deciles=None)\n",
    "get_metrics(df_tt_preds, label=\"test\",  nb_deciles=None)\n",
    "get_metrics(df_val_preds, label=\"validation\",  nb_deciles=None)\n"
   ]
  },
  {
   "cell_type": "markdown",
   "metadata": {},
   "source": [
    "# Evaluation"
   ]
  },
  {
   "cell_type": "code",
   "execution_count": 16,
   "metadata": {},
   "outputs": [],
   "source": [
    "# Checking scores"
   ]
  },
  {
   "cell_type": "code",
   "execution_count": null,
   "metadata": {},
   "outputs": [],
   "source": [
    "    \n",
    "# plot_hist(df_tr_preds.select(\"model_score\").rdd.flatMap(lambda x: x).histogram(50))\n",
    "# plot_hist(df_tt_preds.select(\"model_score\").rdd.flatMap(lambda x: x).histogram(50))\n",
    "# plot_hist(df_val_preds.select(\"model_score\").rdd.flatMap(lambda x: x).histogram(50))\n"
   ]
  },
  {
   "cell_type": "code",
   "execution_count": 142,
   "metadata": {},
   "outputs": [
    {
     "data": {
      "text/plain": [
       "[Row(max(ccc_num_interactions)=149)]"
      ]
     },
     "execution_count": 142,
     "metadata": {},
     "output_type": "execute_result"
    }
   ],
   "source": [
    "df_tr_preds.select(sql_max(\"ccc_num_interactions\")).collect()"
   ]
  },
  {
   "cell_type": "code",
   "execution_count": 203,
   "metadata": {},
   "outputs": [
    {
     "data": {
      "image/png": "[encoded data removed]",
      "text/plain": [
       "<Figure size 1440x648 with 1 Axes>"
      ]
     },
     "metadata": {},
     "output_type": "display_data"
    },
    {
     "data": {
      "image/png": "[encoded data removed]",
      "text/plain": [
       "<Figure size 1440x648 with 1 Axes>"
      ]
     },
     "metadata": {},
     "output_type": "display_data"
    },
    {
     "data": {
      "image/png": "[encoded data removed]",
      "text/plain": [
       "<Figure size 1440x648 with 1 Axes>"
      ]
     },
     "metadata": {},
     "output_type": "display_data"
    },
    {
     "data": {
      "image/png": "[encoded data removed]",
      "text/plain": [
       "<Figure size 1440x648 with 1 Axes>"
      ]
     },
     "metadata": {},
     "output_type": "display_data"
    },
    {
     "data": {
      "image/png": "[encoded data removed]",
      "text/plain": [
       "<Figure size 1440x648 with 1 Axes>"
      ]
     },
     "metadata": {},
     "output_type": "display_data"
    },
    {
     "data": {
      "image/png": "[encoded data removed]",
      "text/plain": [
       "<Figure size 1440x648 with 1 Axes>"
      ]
     },
     "metadata": {},
     "output_type": "display_data"
    },
    {
     "data": {
      "image/png": "[encoded data removed]",
      "text/plain": [
       "<Figure size 1440x648 with 1 Axes>"
      ]
     },
     "metadata": {},
     "output_type": "display_data"
    },
    {
     "data": {
      "image/png": "[encoded data removed]",
      "text/plain": [
       "<Figure size 1440x648 with 1 Axes>"
      ]
     },
     "metadata": {},
     "output_type": "display_data"
    },
    {
     "data": {
      "image/png": "[encoded data removed]",
      "text/plain": [
       "<Figure size 1440x648 with 1 Axes>"
      ]
     },
     "metadata": {},
     "output_type": "display_data"
    }
   ],
   "source": [
    "\n",
    "for col_ in numerical_feats:\n",
    "\n",
    "    n = 50\n",
    "    bins, counts = df_tr_preds.where(col('label') == 0).select(col_).rdd.flatMap(lambda x: x).histogram(n)\n",
    "\n",
    "    bins2, counts2 = df_tr_preds.where(col('label') == 1).select(col_).rdd.flatMap(lambda x: x).histogram(n)\n",
    "\n",
    "    plt.figure()\n",
    "    plt.hist(bins[:-1], bins=bins, weights=counts)\n",
    "    plt.hist(bins2[:-1], bins=bins2, weights=counts2)\n",
    "    plt.xlabel(col_)"
   ]
  },
  {
   "cell_type": "code",
   "execution_count": 367,
   "metadata": {},
   "outputs": [
    {
     "name": "stdout",
     "output_type": "stream",
     "text": [
      "ccc_num_interactions\n",
      "additional_inc_bill_n1_n4_net\n",
      "device_days_since_device_n1_change_date\n"
     ]
    },
    {
     "data": {
      "text/plain": [
       "<Figure size 1440x648 with 0 Axes>"
      ]
     },
     "metadata": {},
     "output_type": "display_data"
    },
    {
     "data": {
      "image/png": "[encoded data removed]",
      "text/plain": [
       "<Figure size 2880x720 with 3 Axes>"
      ]
     },
     "metadata": {},
     "output_type": "display_data"
    }
   ],
   "source": [
    "#%matplotlib inline  \n",
    "\n",
    "import numpy as np\n",
    "import seaborn as sns\n",
    "import matplotlib.pyplot as plt\n",
    "\n",
    "def plot_features_churn_seaborn_shade2(df, var_to_plot, label,  image_per_row = 3, hist = False):\n",
    "    plt.figure()\n",
    "    inf = df.filter(df[label] == 0)\n",
    "    sup = df.filter(df[label] == 1)\n",
    "    inf.cache()\n",
    "    sup.cache()\n",
    "    fig_cat, axes = plt.subplots(int(np.round(len(var_to_plot)/ image_per_row)), image_per_row, figsize=(40, 10*int(np.round(len(var_to_plot)/ image_per_row))), squeeze=False)\n",
    "    for i, ax in enumerate(fig_cat.axes):\n",
    "        sel_ = var_to_plot[i]\n",
    "        print(var_to_plot[i])\n",
    "\n",
    "        arr = [float(row[sel_]) for row in inf.select(sel_).collect()]\n",
    "        sns.kdeplot(arr, shade= True, color = 'blue', ax=axes[int(i/image_per_row)][i%image_per_row])\n",
    "        #print(\"Half subplot\")\n",
    "        arr2 = [float(row[sel_]) for row in sup.select(sel_).collect()]\n",
    "        sns.kdeplot(arr2, shade= True, color = 'red', ax=axes[int(i/image_per_row)][i%image_per_row])\n",
    "        \n",
    "        axes[int(i/image_per_row)][i%image_per_row].set_title(sel_)\n",
    "    inf.unpersist()\n",
    "    sup.unpersist()\n",
    "\n",
    "    \n",
    "plot_features_churn_seaborn_shade2(df_tr, var_to_plot=[\"ccc_num_interactions\", \"additional_inc_bill_n1_n4_net\", \"device_days_since_device_n1_change_date\"], label=\"label\", image_per_row = 3, hist = False)\n",
    "\n"
   ]
  },
  {
   "cell_type": "code",
   "execution_count": null,
   "metadata": {},
   "outputs": [],
   "source": [
    "\n",
    "\n",
    "#train = modeler.get_model_info().get(\"model train metrics\")[\"scores\"]\n",
    "#test = modeler.get_model_info().get(\"model test metrics\")[\"scores\"]\n",
    "\n",
    "# from pykhaos.reporting.utils.plots import univariate_analysis, univariate_hist\n",
    "# df_uni = univariate_analysis(df_pandas, \"ccc_num_interactions\", target=\"label\", sort=None) # rows=num tarifas || cols [u'TARIFF', u'positivo', u'total', u'frec_loc', u'frec'], dtype='object')\n",
    "\n",
    "# univariate_hist(df_uni, \"ccc_num_interactions\", sort = None)"
   ]
  },
  {
   "cell_type": "code",
   "execution_count": null,
   "metadata": {},
   "outputs": [],
   "source": [
    "# %matplotlib inline\n",
    "# import numpy as np\n",
    "# import pandas as pd\n",
    "# df_ = df_pandas.copy()\n",
    "\n",
    "# df_pivot_label = pd.pivot_table(df_[[\"label\", \"ccc_num_interactions\"]], columns=\"label\", index=\"ccc_num_interactions\", aggfunc=lambda x: len(x))\n",
    "# df_pivot_label.columns=[\"0\", \"1\"]\n",
    "# import matplotlib.pyplot as plt\n",
    "# ax = df_pivot_label[['0','1']].plot(kind='bar', title =\"V comp\", figsize=(15, 10), legend=True, fontsize=8)\n",
    "# ax.set_ylabel(\"V\", fontsize=12)\n",
    "# plt.show()"
   ]
  },
  {
   "cell_type": "markdown",
   "metadata": {},
   "source": [
    "# k-Means Segmentation"
   ]
  },
  {
   "cell_type": "markdown",
   "metadata": {},
   "source": [
    "https://rsandstroem.github.io/sparkkmeans.html"
   ]
  },
  {
   "cell_type": "code",
   "execution_count": 235,
   "metadata": {},
   "outputs": [
    {
     "name": "stdout",
     "output_type": "stream",
     "text": [
      "Cluster Centers: \n",
      "[360.61913779 447.05838559  39.81534747]\n",
      "[  308.61627907 13576.19886673    97.48449599]\n",
      "[ 308.37843666 3175.86924118   51.56981125]\n"
     ]
    },
    {
     "data": {
      "text/html": [
       "<div>\n",
       "<style scoped>\n",
       "    .dataframe tbody tr th:only-of-type {\n",
       "        vertical-align: middle;\n",
       "    }\n",
       "\n",
       "    .dataframe tbody tr th {\n",
       "        vertical-align: top;\n",
       "    }\n",
       "\n",
       "    .dataframe thead th {\n",
       "        text-align: right;\n",
       "    }\n",
       "</style>\n",
       "<table border=\"1\" class=\"dataframe\">\n",
       "  <thead>\n",
       "    <tr style=\"text-align: right;\">\n",
       "      <th></th>\n",
       "      <th>prediction</th>\n",
       "      <th>NUM_CLIENTE</th>\n",
       "      <th>ccc_num_interactions</th>\n",
       "      <th>ccc_num_ivr_interactions</th>\n",
       "      <th>device_days_since_device_n1_change_date</th>\n",
       "      <th>device_tenure_days_n2</th>\n",
       "      <th>additional_inc_bill_n1_n2_net</th>\n",
       "      <th>additional_inc_bill_n1_n3_net</th>\n",
       "      <th>additional_inc_bill_n1_n4_net</th>\n",
       "      <th>total_data_volume</th>\n",
       "      <th>total_mou</th>\n",
       "      <th>label</th>\n",
       "    </tr>\n",
       "    <tr>\n",
       "      <th>msisdn</th>\n",
       "      <th></th>\n",
       "      <th></th>\n",
       "      <th></th>\n",
       "      <th></th>\n",
       "      <th></th>\n",
       "      <th></th>\n",
       "      <th></th>\n",
       "      <th></th>\n",
       "      <th></th>\n",
       "      <th></th>\n",
       "      <th></th>\n",
       "      <th></th>\n",
       "    </tr>\n",
       "  </thead>\n",
       "  <tbody>\n",
       "    <tr>\n",
       "      <th>601152251</th>\n",
       "      <td>0</td>\n",
       "      <td>770967509</td>\n",
       "      <td>4</td>\n",
       "      <td>1</td>\n",
       "      <td>290</td>\n",
       "      <td>-1</td>\n",
       "      <td>0.00</td>\n",
       "      <td>0.00</td>\n",
       "      <td>0.000000</td>\n",
       "      <td>756.407227</td>\n",
       "      <td>6.633333</td>\n",
       "      <td>0</td>\n",
       "    </tr>\n",
       "    <tr>\n",
       "      <th>602447863</th>\n",
       "      <td>0</td>\n",
       "      <td>988774371</td>\n",
       "      <td>2</td>\n",
       "      <td>1</td>\n",
       "      <td>347</td>\n",
       "      <td>-1</td>\n",
       "      <td>1.66</td>\n",
       "      <td>-6.61</td>\n",
       "      <td>55.209999</td>\n",
       "      <td>1476.935547</td>\n",
       "      <td>223.199997</td>\n",
       "      <td>1</td>\n",
       "    </tr>\n",
       "    <tr>\n",
       "      <th>605893511</th>\n",
       "      <td>0</td>\n",
       "      <td>487840780</td>\n",
       "      <td>3</td>\n",
       "      <td>1</td>\n",
       "      <td>477</td>\n",
       "      <td>-1</td>\n",
       "      <td>-2.74</td>\n",
       "      <td>0.25</td>\n",
       "      <td>-0.750000</td>\n",
       "      <td>144.656250</td>\n",
       "      <td>28.483334</td>\n",
       "      <td>1</td>\n",
       "    </tr>\n",
       "    <tr>\n",
       "      <th>606743157</th>\n",
       "      <td>0</td>\n",
       "      <td>008686312</td>\n",
       "      <td>1</td>\n",
       "      <td>1</td>\n",
       "      <td>1343</td>\n",
       "      <td>-1</td>\n",
       "      <td>0.25</td>\n",
       "      <td>0.25</td>\n",
       "      <td>68.220001</td>\n",
       "      <td>4.215820</td>\n",
       "      <td>10.433333</td>\n",
       "      <td>0</td>\n",
       "    </tr>\n",
       "    <tr>\n",
       "      <th>606923417</th>\n",
       "      <td>0</td>\n",
       "      <td>340043850</td>\n",
       "      <td>1</td>\n",
       "      <td>1</td>\n",
       "      <td>32</td>\n",
       "      <td>1221</td>\n",
       "      <td>16.42</td>\n",
       "      <td>16.42</td>\n",
       "      <td>16.420000</td>\n",
       "      <td>105.114258</td>\n",
       "      <td>8.800000</td>\n",
       "      <td>0</td>\n",
       "    </tr>\n",
       "  </tbody>\n",
       "</table>\n",
       "</div>"
      ],
      "text/plain": [
       "           prediction NUM_CLIENTE  ccc_num_interactions  \\\n",
       "msisdn                                                    \n",
       "601152251           0   770967509                     4   \n",
       "602447863           0   988774371                     2   \n",
       "605893511           0   487840780                     3   \n",
       "606743157           0   008686312                     1   \n",
       "606923417           0   340043850                     1   \n",
       "\n",
       "           ccc_num_ivr_interactions  device_days_since_device_n1_change_date  \\\n",
       "msisdn                                                                         \n",
       "601152251                         1                                      290   \n",
       "602447863                         1                                      347   \n",
       "605893511                         1                                      477   \n",
       "606743157                         1                                     1343   \n",
       "606923417                         1                                       32   \n",
       "\n",
       "           device_tenure_days_n2  additional_inc_bill_n1_n2_net  \\\n",
       "msisdn                                                            \n",
       "601152251                     -1                           0.00   \n",
       "602447863                     -1                           1.66   \n",
       "605893511                     -1                          -2.74   \n",
       "606743157                     -1                           0.25   \n",
       "606923417                   1221                          16.42   \n",
       "\n",
       "           additional_inc_bill_n1_n3_net  additional_inc_bill_n1_n4_net  \\\n",
       "msisdn                                                                    \n",
       "601152251                           0.00                       0.000000   \n",
       "602447863                          -6.61                      55.209999   \n",
       "605893511                           0.25                      -0.750000   \n",
       "606743157                           0.25                      68.220001   \n",
       "606923417                          16.42                      16.420000   \n",
       "\n",
       "           total_data_volume   total_mou  label  \n",
       "msisdn                                           \n",
       "601152251         756.407227    6.633333      0  \n",
       "602447863        1476.935547  223.199997      1  \n",
       "605893511         144.656250   28.483334      1  \n",
       "606743157           4.215820   10.433333      0  \n",
       "606923417         105.114258    8.800000      0  "
      ]
     },
     "execution_count": 235,
     "metadata": {},
     "output_type": "execute_result"
    },
    {
     "data": {
      "image/png": "[encoded data removed]",
      "text/plain": [
       "<Figure size 576x432 with 1 Axes>"
      ]
     },
     "metadata": {},
     "output_type": "display_data"
    }
   ],
   "source": [
    "from pyspark.ml.clustering import KMeans\n",
    "\n",
    "clust_feats = [\"device_days_since_device_n1_change_date\", \"ccc_num_interactions\", \"total_data_volume\", \"total_mou\"]\n",
    "\n",
    "\n",
    "\n",
    "vecAssembler = VectorAssembler(inputCols=clust_feats, outputCol=\"features\")\n",
    "df_kmeans = vecAssembler.transform(df_tr).select('msisdn', 'features')\n",
    "\n",
    "\n",
    "#----\n",
    "\n",
    "N = 7\n",
    "\n",
    "cost = np.zeros(N)\n",
    "for k in range(2,N):\n",
    "    kmeans = KMeans().setK(k).setFeaturesCol(\"features\")\n",
    "    model = kmeans.fit(df_kmeans) #.sample(False,0.1, seed=42))\n",
    "    cost[k] = model.computeCost(df_kmeans) # requires Spark 2.0 or later\n",
    "\n",
    "#In [14]:\n",
    "\n",
    "fig, ax = plt.subplots(1,1, figsize =(8,6))\n",
    "ax.plot(range(2,N),cost[2:N])\n",
    "ax.set_xlabel('k')\n",
    "ax.set_ylabel('cost')\n",
    "\n",
    "#----\n",
    "\n",
    "k = 3 # nb of clusters\n",
    "kmeans = KMeans().setK(k).setSeed(1).setFeaturesCol(\"features\")\n",
    "kmeans_model = kmeans.fit(df_kmeans)\n",
    "centers = kmeans_model.clusterCenters()\n",
    "\n",
    "print(\"Cluster Centers: \")\n",
    "for center in centers:\n",
    "    print(center)\n",
    "    \n",
    "#----\n",
    "\n",
    "transformed = kmeans_model.transform(df_kmeans)\n",
    "df_pred =  transformed.select('msisdn', 'prediction')\n",
    "# rows = transformed.collect()\n",
    "# print(rows[:3])\n",
    "\n",
    "#---\n",
    "\n",
    "# df_pred = spark.createDataFrame(rows)\n",
    "# df_pred.head()\n",
    "\n",
    "#---\n",
    "\n",
    "\n",
    "#Join the prediction with the original data\n",
    "\n",
    "#The x, y, z from the original dataframe can be added to the newly created dataframe by joining the two dataframes on the 'id' column.\n",
    "# \"prediction\" is the cluster number\n",
    "\n",
    "df_pred = df_pred.join(df_tr, 'msisdn')\n",
    "#df_pred.show()\n",
    "\n",
    "#----\n",
    "# !!!!!!!!!!!!!!!!!\n",
    "\n",
    "pddf_pred = df_pred.toPandas().set_index('msisdn')\n",
    "pddf_pred.head()\n",
    "\n",
    "#-----\n",
    "\n",
    "\n",
    "\n"
   ]
  },
  {
   "cell_type": "code",
   "execution_count": 236,
   "metadata": {},
   "outputs": [],
   "source": [
    "from mpl_toolkits.mplot3d import Axes3D\n",
    "\n",
    "\n",
    "fig_size = [20,9]\n",
    "plt.rcParams[\"figure.figsize\"] = fig_size\n",
    "clusters_colors=[\"red\", \"yellow\", \"blue\", \"green\"]\n",
    "clusters_markers=[\"o\", \"^\", \"x\", \".\"]\n",
    "N_CLUSTERS = 3\n",
    "features = clust_feats\n",
    "for f1 in range(0,len(features)):\n",
    "    for f2 in range(0,len(features)):\n",
    "        for f3 in range(0,len(features)):\n",
    "            if f1==f2 or f2==f3 or f1==f3:\n",
    "                continue\n",
    "            print(f1,f2,f3,features[f1],features[f2],features[f3])\n",
    "            fig = plt.figure()\n",
    "            ax_all = Axes3D(fig)\n",
    "            \n",
    "\n",
    "            for i, c in enumerate(centers):\n",
    "                print(c[f1], c[f2], c[f3], '$%d$' % i)\n",
    "                \n",
    "                #Draw white circles at cluster centers\n",
    "                _ = ax_all.scatter3D(c[f1], c[f2], c[f3], marker='o', c=\"white\", alpha=1, s=400, edgecolor='k')\n",
    "                _ = ax_all.scatter3D(c[f1], c[f2], c[f3], marker='$%d$' % i, alpha=1, s=250, edgecolor='k')\n",
    "             \n",
    "                data_cluster = pddf_pred[pddf_pred[\"prediction\"] == i]\n",
    "                _ = ax_all.scatter3D(data_cluster[clust_feats[f1]], data_cluster[clust_feats[f2]], data_cluster[clust_feats[f3]], alpha=0.8, c=clusters_colors[i], marker=clusters_markers[i], edgecolor='k', s=100)\n",
    "\n",
    "\n",
    "            _ = ax_all.set_xlabel(features[f1]);\n",
    "            _ = ax_all.set_ylabel(features[f2]);\n",
    "            _ = ax_all.set_zlabel(features[f3]);\n",
    "\n",
    "            plt.show()\n",
    "            break\n",
    "        break\n",
    "    \n"
   ]
  },
  {
   "cell_type": "code",
   "execution_count": 237,
   "metadata": {},
   "outputs": [
    {
     "data": {
      "text/plain": [
       "prediction\n",
       "0    15843\n",
       "1       86\n",
       "2     1855\n",
       "Name: NUM_CLIENTE, dtype: int64"
      ]
     },
     "execution_count": 237,
     "metadata": {},
     "output_type": "execute_result"
    }
   ],
   "source": [
    "pddf_pred.groupby(\"prediction\")[\"NUM_CLIENTE\"].count()\n",
    "#pddf_pred[pddf_pred[\"prediction\"]==1] "
   ]
  },
  {
   "cell_type": "code",
   "execution_count": null,
   "metadata": {},
   "outputs": [],
   "source": [
    "# fig = plt.figure()\n",
    "# threedee = Axes3D(fig)\n",
    "# threedee.scatter3D(pddf_pred[clust_feats[0]], pddf_pred[clust_feats[1]], pddf_pred[clust_feats[2]], c=pddf_pred.prediction)\n",
    "# threedee.set_xlabel('x')\n",
    "# threedee.set_ylabel('y')\n",
    "# threedee.set_zlabel('z')\n",
    "# plt.show()"
   ]
  },
  {
   "cell_type": "markdown",
   "metadata": {},
   "source": [
    "# Decision tree"
   ]
  },
  {
   "cell_type": "markdown",
   "metadata": {},
   "source": [
    "### Fit a decision tree classifier and extract metrics for tr, tt and val"
   ]
  },
  {
   "cell_type": "code",
   "execution_count": 368,
   "metadata": {},
   "outputs": [
    {
     "name": "stdout",
     "output_type": "stream",
     "text": [
      "Train Area Under ROC: 0.488807977253\n",
      "Test Area Under ROC: 0.494090298506\n",
      "Val Area Under ROC: 0.485370927179\n"
     ]
    }
   ],
   "source": [
    "from pyspark.ml.classification import DecisionTreeClassifier\n",
    "from pyspark.ml.feature import OneHotEncoderEstimator, StringIndexer, VectorAssembler\n",
    "from pyspark.ml import Pipeline\n",
    "\n",
    "assemblerInputs = [\"device_days_since_device_n1_change_date\", \"ccc_num_interactions\", \"device_days_since_device_n1_change_date\"]\n",
    "#assemblerInputs = feat_cols\n",
    "assembler_simple = VectorAssembler(inputCols=assemblerInputs, outputCol=\"features_simple\")\n",
    "pipeline = Pipeline(stages = [assembler_simple])\n",
    "pipelineModel = pipeline.fit(df_tr.select(assemblerInputs))\n",
    "\n",
    "df_tr_dtree = pipelineModel.transform(df_tr)\n",
    "\n",
    "# selectedCols = ['label', 'features_simple'] #+ cols\n",
    "# df_tr_pipe = df_tr_preds_dtree.select(selectedCols)\n",
    "# df_tr_pipe.printSchema()\n",
    "\n",
    "#df_tr_preds_dtree.groupBy('label').agg(sql_count('*')).show()\n",
    "\n",
    "dtree = DecisionTreeClassifier(featuresCol = 'features_simple', labelCol = 'label', maxDepth = 4, minInstancesPerNode=50)\n",
    "dtree_model = dtree.fit(df_tr_dtree)\n",
    "\n",
    "#print(\"Train Area Under ROC: \" + str(evaluator.evaluate(df_tr_preds_dtree, {evaluator.metricName: \"areaUnderROC\"})))\n",
    "\n",
    "df_tr_preds_dtree = dtree_model.transform(pipelineModel.transform(df_tr))\n",
    "\n",
    "df_tt_preds_dtree = dtree_model.transform(pipelineModel.transform(df_tt))\n",
    "df_val_preds_dtree = dtree_model.transform(pipelineModel.transform(df_next_tar))\n",
    "\n",
    "evaluator = BinaryClassificationEvaluator()\n",
    "\n",
    "print(\"Train Area Under ROC: \" + str(evaluator.evaluate(df_tr_preds_dtree, {evaluator.metricName: \"areaUnderROC\"})))\n",
    "\n",
    "print(\"Test Area Under ROC: \" + str(evaluator.evaluate(df_tt_preds_dtree, {evaluator.metricName: \"areaUnderROC\"})))\n",
    "print(\"Val Area Under ROC: \" + str(evaluator.evaluate(df_val_preds_dtree, {evaluator.metricName: \"areaUnderROC\"})))\n"
   ]
  },
  {
   "cell_type": "markdown",
   "metadata": {},
   "source": [
    "## Print decision rules"
   ]
  },
  {
   "cell_type": "code",
   "execution_count": 369,
   "metadata": {},
   "outputs": [
    {
     "data": {
      "text/plain": [
       "[u'DecisionTreeClassificationModel (uid=DecisionTreeClassifier_4a63b230baf110fc7d26) of depth 4 with 29 nodes',\n",
       " u\"  If ('ccc_num_interactions' <= 1.5)\",\n",
       " u\"   If ('device_days_since_device_n1_change_date' <= 33.5)\",\n",
       " u\"    If ('device_days_since_device_n1_change_date' <= 15.5)\",\n",
       " u'     Predict: 0.0',\n",
       " u\"    Else ('device_days_since_device_n1_change_date' > 15.5)\",\n",
       " u\"     If ('device_days_since_device_n1_change_date' <= 23.5)\",\n",
       " u'      Predict: 0.0',\n",
       " u\"     Else ('device_days_since_device_n1_change_date' > 23.5)\",\n",
       " u'      Predict: 0.0',\n",
       " u\"   Else ('device_days_since_device_n1_change_date' > 33.5)\",\n",
       " u\"    If ('device_days_since_device_n1_change_date' <= 308.5)\",\n",
       " u\"     If ('device_days_since_device_n1_change_date' <= 187.5)\",\n",
       " u'      Predict: 0.0',\n",
       " u\"     Else ('device_days_since_device_n1_change_date' > 187.5)\",\n",
       " u'      Predict: 0.0',\n",
       " u\"    Else ('device_days_since_device_n1_change_date' > 308.5)\",\n",
       " u\"     If ('device_days_since_device_n1_change_date' <= 430.5)\",\n",
       " u'      Predict: 1.0',\n",
       " u\"     Else ('device_days_since_device_n1_change_date' > 430.5)\",\n",
       " u'      Predict: 0.0',\n",
       " u\"  Else ('ccc_num_interactions' > 1.5)\",\n",
       " u\"   If ('ccc_num_interactions' <= 2.5)\",\n",
       " u\"    If ('device_days_since_device_n1_change_date' <= 94.5)\",\n",
       " u\"     If ('device_days_since_device_n1_change_date' <= 81.5)\",\n",
       " u'      Predict: 0.0',\n",
       " u\"     Else ('device_days_since_device_n1_change_date' > 81.5)\",\n",
       " u'      Predict: 0.0',\n",
       " u\"    Else ('device_days_since_device_n1_change_date' > 94.5)\",\n",
       " u\"     If ('device_days_since_device_n1_change_date' <= 430.5)\",\n",
       " u'      Predict: 1.0',\n",
       " u\"     Else ('device_days_since_device_n1_change_date' > 430.5)\",\n",
       " u'      Predict: 1.0',\n",
       " u\"   Else ('ccc_num_interactions' > 2.5)\",\n",
       " u\"    If ('device_days_since_device_n1_change_date' <= 308.5)\",\n",
       " u\"     If ('ccc_num_interactions' <= 5.5)\",\n",
       " u'      Predict: 1.0',\n",
       " u\"     Else ('ccc_num_interactions' > 5.5)\",\n",
       " u'      Predict: 1.0',\n",
       " u\"    Else ('device_days_since_device_n1_change_date' > 308.5)\",\n",
       " u\"     If ('device_days_since_device_n1_change_date' <= 396.5)\",\n",
       " u'      Predict: 1.0',\n",
       " u\"     Else ('device_days_since_device_n1_change_date' > 396.5)\",\n",
       " u'      Predict: 1.0']"
      ]
     },
     "execution_count": 369,
     "metadata": {},
     "output_type": "execute_result"
    }
   ],
   "source": [
    "import re\n",
    "explanation = dtree_model.toDebugString.splitlines()\n",
    "for i in range(0, len(assemblerInputs)):\n",
    "    for ii_ll in range(0, len(explanation)):\n",
    "        explanation[ii_ll] = explanation[ii_ll].replace(\"feature {}\".format(i), \"'{}'\".format(assemblerInputs[i]))\n",
    "#         explanation[ii_ll] = re.sub(\"Predict: 0.0\", \"Predict: NO_CHURN\", explanation[ii_ll])\n",
    "#         explanation[ii_ll] = re.sub(\"Predict: 1.0\", \"Predict: CHURN\", explanation[ii_ll])\n",
    "explanation"
   ]
  },
  {
   "cell_type": "markdown",
   "metadata": {},
   "source": [
    "# Manual segmentation - discretización"
   ]
  },
  {
   "cell_type": "markdown",
   "metadata": {},
   "source": [
    "Add variables to compute the churn rate both individually and ijn groups of 2, 3 and4 variables"
   ]
  },
  {
   "cell_type": "code",
   "execution_count": 330,
   "metadata": {},
   "outputs": [
    {
     "name": "stdout",
     "output_type": "stream",
     "text": [
      "dropping days_device_change\n",
      "dropping num_ccc\n",
      "dropping billing_inc\n",
      "('device_days_since_device_n1_change_date', ['days_device_change', 5])\n",
      "('additional_inc_bill_n1_n4_net', ['billing_inc', 5])\n",
      "('total_data_volume', ['total_data_volume_disc', 5])\n"
     ]
    }
   ],
   "source": [
    "from pyspark.ml.feature import QuantileDiscretizer\n",
    "\n",
    "# Actual variables\n",
    "C1 = 'ccc_num_interactions'\n",
    "C2 = 'device_days_since_device_n1_change_date'\n",
    "C3 = 'additional_inc_bill_n1_n4_net'\n",
    "C4 = \"total_data_volume\"\n",
    "C5 = None\n",
    "\n",
    "# Name of the discretized variables\n",
    "C1_disc = \"num_ccc\"\n",
    "C2_disc = \"days_device_change\"\n",
    "C3_disc = \"billing_inc\"\n",
    "C4_disc = \"total_data_volume_disc\"\n",
    "C5_disc = None\n",
    "\n",
    "var_dict = {C1:[C1_disc,3], C2:[C2_disc,5], C3:[C3_disc,5], C4:[C4_disc,5], C5:[C5_disc,5]}\n",
    "\n",
    "for var,cc in var_dict.items():\n",
    "    if var == cc[0]:\n",
    "        print(\"discrete variable must be different to actual column\")\n",
    "        sys.exit()\n",
    "    if cc[0] and cc[0] in df_tar.columns: :\n",
    "        print(\"dropping {}\".format(cc[0]))\n",
    "        df_tar = df_tar.drop(cc[0])\n",
    "\n",
    "        \n",
    "df_tar = df_tar.withColumn(C1_disc, when(col(C1)==1, \"CCC=1\").when(col(C1)==2, \"CCC=2\").otherwise(\"CCC>2\"))\n",
    "\n",
    "splits_dict = {}\n",
    "for var,cc in var_dict.items():\n",
    "    if var == 'ccc_num_interactions' or not var: continue\n",
    "    discretizer = QuantileDiscretizer(numBuckets=cc[1], inputCol=var, outputCol=cc[0], relativeError=0)\n",
    "    bucketizer = discretizer.fit(df_tar)\n",
    "    df_tar = bucketizer.transform(df_tar)\n",
    "    splits_dict[cc[0]] = bucketizer.getSplits()\n",
    "    df_tar.columns\n",
    "    \n",
    "refprevalence = df_tar.select(label_col).rdd.map(lambda r: r[label_col]).mean()\n",
    "refprevalence_all = df_tar_all.select(label_col).rdd.map(lambda r: r[label_col]).mean()"
   ]
  },
  {
   "cell_type": "markdown",
   "metadata": {},
   "source": [
    "## All variables"
   ]
  },
  {
   "cell_type": "code",
   "execution_count": 379,
   "metadata": {},
   "outputs": [
    {
     "name": "stdout",
     "output_type": "stream",
     "text": [
      "+------------------+-------+-----------------------------+----------------------------+------------+----------+--------------------+------------------+------------------+\n",
      "|days_device_change|num_ccc|billing_inc                  |total_data_volume_disc      |num_churners|num_msisdn|churn_rate          |LIFT              |LIFT_ALL          |\n",
      "+------------------+-------+-----------------------------+----------------------------+------------+----------+--------------------+------------------+------------------+\n",
      "|(345.0,570.0)     |CCC>2  |(0.0,9.80000019073)          |(491.200195312,1093.4609375)|77          |1166      |0.0660377358490566  |2.620135372479741 |4.80902169685503  |\n",
      "|(345.0,570.0)     |CCC=2  |(9.80000019073,49.3400001526)|(-inf,75.5625)              |49          |835       |0.058682634730538925|2.328311911832297 |4.273406106666386 |\n",
      "|(345.0,570.0)     |CCC>2  |(9.80000019073,49.3400001526)|(222.875,491.200195312)     |60          |1075      |0.05581395348837209 |2.2144931520227447|4.064502058737275 |\n",
      "|(345.0,570.0)     |CCC>2  |(49.3400001526,inf)          |(-inf,75.5625)              |36          |692       |0.05202312138728324 |2.0640868252235123|3.7884448379848874|\n",
      "|(345.0,570.0)     |CCC>2  |(0.0,9.80000019073)          |(1093.4609375,inf)          |49          |956       |0.051255230125523014|2.0336197137865777|3.732525208228486 |\n",
      "|(345.0,570.0)     |CCC>2  |(9.80000019073,49.3400001526)|(491.200195312,1093.4609375)|57          |1113      |0.05121293800539083 |2.0319417174332686|3.7294453975610438|\n",
      "|(570.0,inf)       |CCC>2  |(49.3400001526,inf)          |(1093.4609375,inf)          |52          |1025      |0.050731707317073174|2.012848247123113 |3.6944010582668887|\n",
      "|(345.0,570.0)     |CCC>2  |(49.3400001526,inf)          |(1093.4609375,inf)          |78          |1542      |0.05058365758754864 |2.006974176363026 |3.683619732221363 |\n",
      "|(345.0,570.0)     |CCC>2  |(49.3400001526,inf)          |(222.875,491.200195312)     |53          |1049      |0.05052430886558627 |2.004619436550618 |3.6792978200914557|\n",
      "|(345.0,570.0)     |CCC=2  |(-1.89999997616,0.0)         |(491.200195312,1093.4609375)|30          |594       |0.050505050505050504|2.0038553353741166|3.6778953814331397|\n",
      "|(345.0,570.0)     |CCC>2  |(9.80000019073,49.3400001526)|(1093.4609375,inf)          |57          |1134      |0.05026455026455026 |1.9943131671104304|3.6603815939025055|\n",
      "|(345.0,570.0)     |CCC>2  |(9.80000019073,49.3400001526)|(75.5625,222.875)           |48          |969       |0.04953560371517028 |1.9653912391533135|3.6072980087864357|\n",
      "|(345.0,570.0)     |CCC=2  |(-1.89999997616,0.0)         |(-inf,75.5625)              |34          |707       |0.04809052333804809 |1.9080557450832467|3.502063890779052 |\n",
      "|(191.0,345.0)     |CCC>2  |(9.80000019073,49.3400001526)|(491.200195312,1093.4609375)|50          |1048      |0.04770992366412214 |1.892954944675931 |3.474347736277489 |\n",
      "|(345.0,570.0)     |CCC>2  |(0.0,9.80000019073)          |(-inf,75.5625)              |48          |1010      |0.047524752475247525|1.8856080304352085|3.4608631391228277|\n",
      "|(191.0,345.0)     |CCC>2  |(9.80000019073,49.3400001526)|(222.875,491.200195312)     |46          |975       |0.04717948717948718 |1.8719091686756366|3.435720116317235 |\n",
      "|(345.0,570.0)     |CCC>2  |(0.0,9.80000019073)          |(222.875,491.200195312)     |54          |1155      |0.046753246753246755|1.8549975104606111|3.4046802959552496|\n",
      "|(570.0,inf)       |CCC=2  |(-1.89999997616,0.0)         |(1093.4609375,inf)          |20          |428       |0.04672897196261682 |1.854034375719977 |3.4029125491764565|\n",
      "|(570.0,inf)       |CCC>2  |(49.3400001526,inf)          |(491.200195312,1093.4609375)|45          |967       |0.04653567735263702 |1.846365153896937 |3.388836385581104 |\n",
      "|(570.0,inf)       |CCC=2  |(9.80000019073,49.3400001526)|(1093.4609375,inf)          |24          |532       |0.045112781954887216|1.7899098785146246|3.2852178294305037|\n",
      "|(570.0,inf)       |CCC>2  |(9.80000019073,49.3400001526)|(1093.4609375,inf)          |32          |713       |0.04488078541374474 |1.780705105880842 |3.2683233010884116|\n",
      "|(345.0,570.0)     |CCC=2  |(49.3400001526,inf)          |(-inf,75.5625)              |28          |629       |0.04451510333863275 |1.7661961811310178|3.241693480868891 |\n",
      "|(345.0,570.0)     |CCC=2  |(0.0,9.80000019073)          |(1093.4609375,inf)          |45          |1021      |0.04407443682664055 |1.7487121486957278|3.209603119350566 |\n",
      "|(191.0,345.0)     |CCC>2  |(0.0,9.80000019073)          |(1093.4609375,inf)          |50          |1138      |0.043936731107205626|1.743248490351824 |3.1995750682063346|\n",
      "|(80.0,191.0)      |CCC=2  |(0.0,9.80000019073)          |(222.875,491.200195312)     |41          |939       |0.043663471778487756|1.7324065615087414|3.17967568759044  |\n",
      "|(345.0,570.0)     |CCC=2  |(-1.89999997616,0.0)         |(222.875,491.200195312)     |27          |622       |0.04340836012861737 |1.7222846660627056|3.16109786320604  |\n",
      "|(345.0,570.0)     |CCC=2  |(0.0,9.80000019073)          |(491.200195312,1093.4609375)|52          |1201      |0.04329725228975854 |1.7178763141558624|3.1530067316599175|\n",
      "|(191.0,345.0)     |CCC>2  |(49.3400001526,inf)          |(222.875,491.200195312)     |47          |1086      |0.0432780847145488  |1.7171158150084282|3.151610904200442 |\n",
      "|(345.0,570.0)     |CCC=2  |(9.80000019073,49.3400001526)|(1093.4609375,inf)          |39          |911       |0.042810098792535674|1.6985478484916496|3.1175310796297153|\n",
      "|(80.0,191.0)      |CCC>2  |(0.0,9.80000019073)          |(222.875,491.200195312)     |38          |892       |0.042600896860986545|1.690247482438885 |3.1022965078366527|\n",
      "|(345.0,570.0)     |CCC=2  |(9.80000019073,49.3400001526)|(491.200195312,1093.4609375)|41          |979       |0.04187946884576098 |1.6616238623664024|3.049760439885008 |\n",
      "|(191.0,345.0)     |CCC=2  |(-1.89999997616,0.0)         |(1093.4609375,inf)          |27          |646       |0.04179566563467492 |1.658298858035608 |3.0436576949135548|\n",
      "|(570.0,inf)       |CCC>2  |(49.3400001526,inf)          |(222.875,491.200195312)     |39          |940       |0.04148936170212766 |1.646145840399886 |3.0213519293007134|\n",
      "|(345.0,570.0)     |CCC=2  |(-1.89999997616,0.0)         |(75.5625,222.875)           |27          |651       |0.041474654377880185|1.645562307666671 |3.0202809077022374|\n",
      "|(570.0,inf)       |CCC>2  |(9.80000019073,49.3400001526)|(491.200195312,1093.4609375)|35          |845       |0.04142011834319527 |1.6433985176500154|3.0163094666664687|\n",
      "|(345.0,570.0)     |CCC>2  |(49.3400001526,inf)          |(491.200195312,1093.4609375)|50          |1214      |0.04118616144975288 |1.634115965420408 |2.999272180905114 |\n",
      "|(345.0,570.0)     |CCC=2  |(49.3400001526,inf)          |(491.200195312,1093.4609375)|41          |997       |0.041123370110330994|1.6316246351621946|2.9946995693554896|\n",
      "|(345.0,570.0)     |CCC>2  |(49.3400001526,inf)          |(75.5625,222.875)           |37          |902       |0.041019955654102   |1.6275215284867828|2.9871686878469164|\n",
      "|(345.0,570.0)     |CCC>2  |(0.0,9.80000019073)          |(75.5625,222.875)           |46          |1123      |0.04096170970614425 |1.6252105427059176|2.9829270822878926|\n",
      "|(80.0,191.0)      |CCC>2  |(-1.89999997616,0.0)         |(1093.4609375,inf)          |37          |904       |0.04092920353982301 |1.623920817140573 |2.980559907564069 |\n",
      "|(80.0,191.0)      |CCC>2  |(49.3400001526,inf)          |(1093.4609375,inf)          |83          |2035      |0.04078624078624079 |1.618248578945368 |2.970149026951952 |\n",
      "|(-inf,80.0)       |CCC>2  |(-1.89999997616,0.0)         |(1093.4609375,inf)          |40          |986       |0.04056795131845842 |1.6095876527548687|2.954252679609581 |\n",
      "|(570.0,inf)       |CCC>2  |(9.80000019073,49.3400001526)|(222.875,491.200195312)     |37          |913       |0.040525739320920046|1.607912835372484 |2.9511787036559896|\n",
      "|(345.0,570.0)     |CCC=2  |(0.0,9.80000019073)          |(222.875,491.200195312)     |51          |1259      |0.04050833995234313 |1.6072224921848954|2.9499116411208774|\n",
      "|(345.0,570.0)     |CCC>2  |(-1.89999997616,0.0)         |(1093.4609375,inf)          |34          |841       |0.04042806183115339 |1.6040373505039898|2.9440656014040307|\n",
      "|(191.0,345.0)     |CCC=2  |(9.80000019073,49.3400001526)|(75.5625,222.875)           |32          |798       |0.040100250626566414|1.5910310031241106|2.9201936261604478|\n",
      "|(-inf,80.0)       |CCC>2  |(49.3400001526,inf)          |(491.200195312,1093.4609375)|55          |1377      |0.03994190268700073 |1.5847483371259357|2.9086623604798034|\n",
      "|(570.0,inf)       |CCC>2  |(0.0,9.80000019073)          |(1093.4609375,inf)          |31          |788       |0.03934010152284264 |1.5608710721480112|2.8648377983802806|\n",
      "|(80.0,191.0)      |CCC>2  |(9.80000019073,49.3400001526)|(1093.4609375,inf)          |53          |1351      |0.03923019985196151 |1.55651057656669  |2.85683450279492  |\n",
      "|(345.0,570.0)     |CCC=2  |(-inf,-1.89999997616)        |(1093.4609375,inf)          |38          |971       |0.03913491246138002 |1.55272992207568  |2.8498954531310963|\n",
      "|(345.0,570.0)     |CCC=1  |(9.80000019073,49.3400001526)|(75.5625,222.875)           |77          |1992      |0.038654618473895584|1.533673616622178 |2.814919326572774 |\n",
      "|(80.0,191.0)      |CCC=2  |(-1.89999997616,0.0)         |(222.875,491.200195312)     |20          |518       |0.03861003861003861 |1.531904850980985 |2.811672917080161 |\n",
      "|(80.0,191.0)      |CCC>2  |(0.0,9.80000019073)          |(-inf,75.5625)              |30          |778       |0.038560411311053984|1.5299358216095442|2.8080589416083357|\n",
      "|(80.0,191.0)      |CCC>2  |(9.80000019073,49.3400001526)|(222.875,491.200195312)     |46          |1203      |0.038237738985868665|1.5171333661336206|2.784561191528931 |\n",
      "|(345.0,570.0)     |CCC=2  |(0.0,9.80000019073)          |(75.5625,222.875)           |50          |1315      |0.03802281368821293 |1.5086059178862172|2.768909830888828 |\n",
      "|(345.0,570.0)     |CCC=2  |(0.0,9.80000019073)          |(-inf,75.5625)              |48          |1264      |0.0379746835443038  |1.5066962901420575|2.765404881735804 |\n",
      "|(570.0,inf)       |CCC=2  |(49.3400001526,inf)          |(491.200195312,1093.4609375)|30          |791       |0.03792667509481669 |1.5047914907866313|2.7619087946539636|\n",
      "|(80.0,191.0)      |CCC>2  |(49.3400001526,inf)          |(491.200195312,1093.4609375)|62          |1651      |0.03755299818291944 |1.4899653602091252|2.734696771803345 |\n",
      "|(-inf,80.0)       |CCC>2  |(49.3400001526,inf)          |(1093.4609375,inf)          |71          |1891      |0.0375462718138551  |1.489698482532487 |2.7342069419453767|\n",
      "|(80.0,191.0)      |CCC>2  |(0.0,9.80000019073)          |(491.200195312,1093.4609375)|34          |906       |0.037527593818984545|1.4889574081389132|2.7328467668662135|\n",
      "|(80.0,191.0)      |CCC>2  |(0.0,9.80000019073)          |(75.5625,222.875)           |32          |860       |0.037209302325581395|1.476328768015163 |2.709668039158183 |\n",
      "|(80.0,191.0)      |CCC>2  |(49.3400001526,inf)          |(222.875,491.200195312)     |53          |1425      |0.037192982456140354|1.4756812553976129|2.7084795882638155|\n",
      "|(570.0,inf)       |CCC>2  |(0.0,9.80000019073)          |(491.200195312,1093.4609375)|37          |999       |0.037037037037037035|1.4694939126076856|2.6971232797176357|\n",
      "|(80.0,191.0)      |CCC>2  |(-1.89999997616,0.0)         |(491.200195312,1093.4609375)|29          |784       |0.036989795918367346|1.4676195581273186|2.69368307145269  |\n",
      "|(191.0,345.0)     |CCC>2  |(9.80000019073,49.3400001526)|(1093.4609375,inf)          |42          |1138      |0.03690685413005272 |1.464328731895532 |2.6876430572933208|\n",
      "|(570.0,inf)       |CCC=2  |(49.3400001526,inf)          |(1093.4609375,inf)          |32          |870       |0.0367816091954023  |1.459359471831081 |2.678522429512687 |\n",
      "|(570.0,inf)       |CCC>2  |(49.3400001526,inf)          |(75.5625,222.875)           |33          |906       |0.03642384105960265 |1.445164543193651 |2.652468920781913 |\n",
      "|(345.0,570.0)     |CCC=1  |(-1.89999997616,0.0)         |(75.5625,222.875)           |51          |1407      |0.03624733475479744 |1.4381614198015515|2.6396153206618225|\n",
      "|(570.0,inf)       |CCC>2  |(9.80000019073,49.3400001526)|(-inf,75.5625)              |32          |886       |0.03611738148984198 |1.433005350443612 |2.6301518213047825|\n",
      "|(345.0,570.0)     |CCC>2  |(-inf,-1.89999997616)        |(491.200195312,1093.4609375)|36          |997       |0.03610832497492478 |1.4326460211180245|2.629492304799942 |\n",
      "|(345.0,570.0)     |CCC=2  |(9.80000019073,49.3400001526)|(222.875,491.200195312)     |37          |1026      |0.036062378167641324|1.4308230201706411|2.6261463513040137|\n",
      "|(191.0,345.0)     |CCC>2  |(-1.89999997616,0.0)         |(75.5625,222.875)           |34          |943       |0.036055143160127257|1.4305359615841522|2.6256194812097453|\n",
      "|(80.0,191.0)      |CCC>2  |(49.3400001526,inf)          |(75.5625,222.875)           |47          |1307      |0.035960214231063506|1.4267695295326344|2.61870653554834  |\n",
      "|(80.0,191.0)      |CCC=2  |(0.0,9.80000019073)          |(1093.4609375,inf)          |33          |922       |0.03579175704989154 |1.4200857658714185|2.606439091354028 |\n",
      "|(345.0,570.0)     |CCC=2  |(49.3400001526,inf)          |(75.5625,222.875)           |28          |783       |0.035759897828863345|1.418821708724662 |2.6041190286928897|\n",
      "|(80.0,191.0)      |CCC=2  |(9.80000019073,49.3400001526)|(491.200195312,1093.4609375)|41          |1147      |0.03574542284219703 |1.418247394295299 |2.6030649264580843|\n",
      "|(570.0,inf)       |CCC>2  |(-1.89999997616,0.0)         |(75.5625,222.875)           |33          |935       |0.03529411764705882 |1.4003412578967358|2.5701998312603354|\n",
      "|(345.0,570.0)     |CCC>2  |(9.80000019073,49.3400001526)|(-inf,75.5625)              |30          |858       |0.03496503496503497 |1.3872844629513117|2.546235264069097 |\n",
      "|(570.0,inf)       |CCC=2  |(9.80000019073,49.3400001526)|(491.200195312,1093.4609375)|26          |744       |0.03494623655913978 |1.3865386110895097|2.5448663203787367|\n",
      "|(80.0,191.0)      |CCC>2  |(-1.89999997616,0.0)         |(-inf,75.5625)              |35          |1009      |0.03468780971258672 |1.3762851807871783|2.5260470756522952|\n",
      "|(570.0,inf)       |CCC=2  |(49.3400001526,inf)          |(222.875,491.200195312)     |27          |782       |0.034526854219948847|1.3698990566381108|2.5143259218851104|\n",
      "|(345.0,570.0)     |CCC=1  |(9.80000019073,49.3400001526)|(491.200195312,1093.4609375)|71          |2065      |0.03438256658595642 |1.364174252043067 |2.503818560396469 |\n",
      "|(80.0,191.0)      |CCC>2  |(49.3400001526,inf)          |(-inf,75.5625)              |37          |1078      |0.03432282003710575 |1.3618037279175121|2.4994676775861953|\n",
      "|(345.0,570.0)     |CCC>2  |(-inf,-1.89999997616)        |(1093.4609375,inf)          |34          |991       |0.034308779011099896|1.361246631456968 |2.4984451773771843|\n",
      "|(-inf,80.0)       |CCC>2  |(49.3400001526,inf)          |(75.5625,222.875)           |35          |1021      |0.034280117531831536|1.360109448985566 |2.4963579817171064|\n",
      "|(191.0,345.0)     |CCC>2  |(-1.89999997616,0.0)         |(222.875,491.200195312)     |31          |907       |0.034178610804851156|1.3560820340161333|2.488966025494665 |\n",
      "|(-inf,80.0)       |CCC>2  |(0.0,9.80000019073)          |(222.875,491.200195312)     |41          |1200      |0.034166666666666665|1.35560813438059  |2.488096225539519 |\n",
      "|(191.0,345.0)     |CCC>2  |(49.3400001526,inf)          |(75.5625,222.875)           |30          |879       |0.034129692832764506|1.354141148136775 |2.485403704859255 |\n",
      "|(570.0,inf)       |CCC>2  |(-inf,-1.89999997616)        |(1093.4609375,inf)          |27          |792       |0.03409090909090909 |1.3526023513775287|2.482579382467369 |\n",
      "|(191.0,345.0)     |CCC>2  |(0.0,9.80000019073)          |(491.200195312,1093.4609375)|39          |1145      |0.03406113537117904 |1.351421039280256 |2.480411190866961 |\n",
      "|(191.0,345.0)     |CCC>2  |(49.3400001526,inf)          |(-inf,75.5625)              |23          |677       |0.033973412112259974|1.3479405018159127|2.474022978884272 |\n",
      "|(191.0,345.0)     |CCC>2  |(-inf,-1.89999997616)        |(1093.4609375,inf)          |38          |1119      |0.03395889186773905 |1.3473643917207199|2.4729655808671085|\n",
      "|(80.0,191.0)      |CCC=2  |(-1.89999997616,0.0)         |(491.200195312,1093.4609375)|17          |502       |0.03386454183266932 |1.343620928061609 |2.4660947916143323|\n",
      "|(570.0,inf)       |CCC>2  |(-1.89999997616,0.0)         |(1093.4609375,inf)          |21          |623       |0.033707865168539325|1.3374045721485677|2.4546852321025674|\n",
      "|(345.0,570.0)     |CCC=2  |(49.3400001526,inf)          |(222.875,491.200195312)     |30          |892       |0.033632286995515695|1.3344059071885934|2.4491814535552523|\n",
      "|(191.0,345.0)     |CCC>2  |(0.0,9.80000019073)          |(222.875,491.200195312)     |36          |1074      |0.0335195530726257  |1.32993303822595  |2.4409719067835587|\n",
      "|(191.0,345.0)     |CCC>2  |(0.0,9.80000019073)          |(-inf,75.5625)              |32          |955       |0.033507853403141365|1.3294688382126079|2.4401199096084163|\n",
      "|(570.0,inf)       |CCC>2  |(0.0,9.80000019073)          |(-inf,75.5625)              |44          |1317      |0.033409263477600606|1.32555715123609  |2.432940361658733 |\n",
      "|(80.0,191.0)      |CCC>2  |(-1.89999997616,0.0)         |(75.5625,222.875)           |28          |841       |0.03329369797859691 |1.320971935709168 |2.4245246129209663|\n",
      "|(-inf,80.0)       |CCC>2  |(9.80000019073,49.3400001526)|(1093.4609375,inf)          |49          |1479      |0.03313049357674104 |1.3144965830831428|2.4126396883478245|\n",
      "+------------------+-------+-----------------------------+----------------------------+------------+----------+--------------------+------------------+------------------+\n",
      "only showing top 100 rows\n",
      "\n"
     ]
    }
   ],
   "source": [
    "myvars = [cc[0] for vv, cc in var_dict.items() if cc[0]]\n",
    "\n",
    "df_GG = df_tar.select(*myvars + [\"label\"]).groupBy(*myvars).agg(sql_sum(\"label\").alias(\"num_churners\"),  sql_count(\"label\").alias(\"num_msisdn\")).withColumn(\"churn_rate\", col(\"num_churners\")/col(\"num_msisdn\"))\n",
    "\n",
    "for var,cc in var_dict.items():\n",
    "    if not var or not cc[0] in splits_dict.keys(): continue\n",
    "    mysplit = splits_dict[cc[0]]\n",
    "    labels_dict = {ii:\"({},{})\".format(mysplit[ii],mysplit[ii+1]) for ii in range(0, len(mysplit)-1)}\n",
    "    for num,label in labels_dict.items():\n",
    "        df_GG = df_GG.withColumn(cc[0], when(col(cc[0])==num, labels_dict[num]).otherwise(col(cc[0])))\n",
    "                                                       \n",
    "\n",
    "df_GG = df_GG.withColumn(\"LIFT\", col(\"churn_rate\")/lit(refprevalence))\n",
    "df_GG = df_GG.withColumn(\"LIFT_ALL\", col(\"churn_rate\")/lit(refprevalence_all)) \n",
    "df_GG = df_GG.sort(desc(\"LIFT\"))\n",
    "df_GG.show(100,truncate=False)"
   ]
  },
  {
   "cell_type": "markdown",
   "metadata": {},
   "source": [
    "## 1 variable"
   ]
  },
  {
   "cell_type": "code",
   "execution_count": 350,
   "metadata": {},
   "outputs": [
    {
     "name": "stdout",
     "output_type": "stream",
     "text": [
      "('device_days_since_device_n1_change_date', ['days_device_change', 5])\n",
      "('ccc_num_interactions', ['num_ccc', 3])\n",
      "(None, [None, 5])\n",
      "('additional_inc_bill_n1_n4_net', ['billing_inc', 5])\n",
      "('total_data_volume', ['total_data_volume_disc', 5])\n",
      "+------------------+------------+----------+--------------------+------------------+------------------+\n",
      "|days_device_change|num_churners|num_msisdn|churn_rate          |LIFT              |LIFT_ALL          |\n",
      "+------------------+------------+----------+--------------------+------------------+------------------+\n",
      "|(345.0,570.0)     |3387        |101915    |0.03323357700044154 |1.3185865556008463|2.420146463296846 |\n",
      "|(80.0,191.0)      |2538        |102662    |0.024721902943640295|0.9808745188614508|1.8003065386017292|\n",
      "|(570.0,inf)       |2452        |102367    |0.02395303173874393 |0.9503685268717381|1.7443155471043048|\n",
      "|(191.0,345.0)     |2423        |102077    |0.02373698286587576 |0.9417964992770889|1.7285823651009282|\n",
      "|(-inf,80.0)       |2059        |101177    |0.020350474910305703|0.807432272982981 |1.48196897011517  |\n",
      "+------------------+------------+----------+--------------------+------------------+------------------+\n",
      "\n",
      "('device_days_since_device_n1_change_date', ['days_device_change', 5])\n",
      "('ccc_num_interactions', ['num_ccc', 3])\n",
      "(None, [None, 5])\n",
      "('additional_inc_bill_n1_n4_net', ['billing_inc', 5])\n",
      "('total_data_volume', ['total_data_volume_disc', 5])\n",
      "+-------+------------+----------+--------------------+------------------+------------------+\n",
      "|num_ccc|num_churners|num_msisdn|churn_rate          |LIFT              |LIFT_ALL          |\n",
      "+-------+------------+----------+--------------------+------------------+------------------+\n",
      "|CCC>2  |4440        |127566    |0.034805512440618976|1.3809551937303777|2.534618462384571 |\n",
      "|CCC=2  |3121        |112965    |0.027628026379852167|1.0961788477290475|2.0119372142873106|\n",
      "|CCC=1  |5298        |269667    |0.019646452847400683|0.7794992573169094|1.430700444142179 |\n",
      "+-------+------------+----------+--------------------+------------------+------------------+\n",
      "\n",
      "('device_days_since_device_n1_change_date', ['days_device_change', 5])\n",
      "('ccc_num_interactions', ['num_ccc', 3])\n",
      "(None, [None, 5])\n",
      "('additional_inc_bill_n1_n4_net', ['billing_inc', 5])\n",
      "('total_data_volume', ['total_data_volume_disc', 5])\n",
      "+-----------------------------+------------+----------+--------------------+------------------+------------------+\n",
      "|billing_inc                  |num_churners|num_msisdn|churn_rate          |LIFT              |LIFT_ALL          |\n",
      "+-----------------------------+------------+----------+--------------------+------------------+------------------+\n",
      "|(49.3400001526,inf)          |2856        |102077    |0.02797887868961666 |1.1100993817314757|2.0374870964623404|\n",
      "|(9.80000019073,49.3400001526)|2728        |102022    |0.02673933073258709 |1.060918660945989 |1.9472203278791065|\n",
      "|(0.0,9.80000019073)          |3298        |129506    |0.02546600157521659 |1.0103976259174399|1.8544935336257518|\n",
      "|(-1.89999997616,0.0)         |1887        |74587     |0.025299314894016385|1.003784109207355 |1.8423550213620852|\n",
      "|(-inf,-1.89999997616)        |2090        |102006    |0.020488990843675864|0.8129280776469199|1.4920560229247908|\n",
      "+-----------------------------+------------+----------+--------------------+------------------+------------------+\n",
      "\n",
      "('device_days_since_device_n1_change_date', ['days_device_change', 5])\n",
      "('ccc_num_interactions', ['num_ccc', 3])\n",
      "(None, [None, 5])\n",
      "('additional_inc_bill_n1_n4_net', ['billing_inc', 5])\n",
      "('total_data_volume', ['total_data_volume_disc', 5])\n",
      "+----------------------------+------------+----------+--------------------+------------------+------------------+\n",
      "|total_data_volume_disc      |num_churners|num_msisdn|churn_rate          |LIFT              |LIFT_ALL          |\n",
      "+----------------------------+------------+----------+--------------------+------------------+------------------+\n",
      "|(1093.4609375,inf)          |2884        |102040    |0.02826342610740886 |1.1213891805854104|2.0582085020095344|\n",
      "|(491.200195312,1093.4609375)|2731        |102040    |0.026764014112112898|1.0618980069967945|1.9490178290527178|\n",
      "|(222.875,491.200195312)     |2656        |102039    |0.026029263320887112|1.0327457879920654|1.8955115655299553|\n",
      "|(75.5625,222.875)           |2397        |102041    |0.02349055771699611 |0.9320192523599025|1.7106371119456463|\n",
      "|(-inf,75.5625)              |2191        |102038    |0.02147239263803681 |0.8519458573093638|1.5636696314927399|\n",
      "+----------------------------+------------+----------+--------------------+------------------+------------------+\n",
      "\n"
     ]
    }
   ],
   "source": [
    "for i in range(0, len(myvars)):\n",
    "\n",
    "    df_GG_simple = df_tar.select(*[myvars[i]] + [\"label\"]).groupBy(myvars[i]).agg(sql_sum(\"label\").alias(\"num_churners\"),  sql_count(\"label\").alias(\"num_msisdn\")).withColumn(\"churn_rate\", col(\"num_churners\")/col(\"num_msisdn\"))\n",
    "\n",
    "    for var,cc in var_dict.items():\n",
    "        print(var, cc)\n",
    "        if not var or not cc[0] in splits_dict.keys() or not cc[0] in df_GG_simple.columns: continue\n",
    "        mysplit = splits_dict[cc[0]]\n",
    "        labels_dict = {ii:\"({},{})\".format(mysplit[ii],mysplit[ii+1]) for ii in range(0, len(mysplit)-1)}\n",
    "        for num,label in labels_dict.items():\n",
    "            df_GG_simple = df_GG_simple.withColumn(cc[0], when(col(cc[0])==num, labels_dict[num]).otherwise(col(cc[0])))\n",
    "\n",
    "\n",
    "    df_GG_simple = df_GG_simple.withColumn(\"LIFT\", col(\"churn_rate\")/lit(refprevalence))\n",
    "    df_GG_simple = df_GG_simple.withColumn(\"LIFT_ALL\", col(\"churn_rate\")/lit(refprevalence_all)) \n",
    "    df_GG_simple = df_GG_simple.sort(desc(\"LIFT\"))\n",
    "    df_GG_simple.show(100,truncate=False)"
   ]
  },
  {
   "cell_type": "markdown",
   "metadata": {},
   "source": [
    "## 2 variables"
   ]
  },
  {
   "cell_type": "code",
   "execution_count": 363,
   "metadata": {},
   "outputs": [
    {
     "name": "stdout",
     "output_type": "stream",
     "text": [
      "+------------------+-------+------------+----------+--------------------+------------------+------------------+\n",
      "|days_device_change|num_ccc|num_churners|num_msisdn|churn_rate          |LIFT              |LIFT_ALL          |\n",
      "+------------------+-------+------------+----------+--------------------+------------------+------------------+\n",
      "|(345.0,570.0)     |CCC>2  |1082        |25398     |0.04260177966769037 |1.6902825089739715|3.102360795876487 |\n",
      "|(345.0,570.0)     |CCC=2  |869         |23091     |0.03763371010350353 |1.4931677134604016|2.740574401802213 |\n",
      "|(80.0,191.0)      |CCC>2  |924         |26425     |0.034966887417218546|1.3873579614659053|2.546370163950637 |\n",
      "|(191.0,345.0)     |CCC>2  |854         |25019     |0.03413405811583197 |1.3543143465729253|2.485721594937018 |\n",
      "|(570.0,inf)       |CCC>2  |802         |23531     |0.0340826994177893  |1.3522766216313298|2.4819815349541323|\n",
      "+------------------+-------+------------+----------+--------------------+------------------+------------------+\n",
      "only showing top 5 rows\n",
      "\n",
      "+------------------+-----------------------------+------------+----------+--------------------+------------------+------------------+\n",
      "|days_device_change|billing_inc                  |num_churners|num_msisdn|churn_rate          |LIFT              |LIFT_ALL          |\n",
      "+------------------+-----------------------------+------------+----------+--------------------+------------------+------------------+\n",
      "|(345.0,570.0)     |(9.80000019073,49.3400001526)|758         |19840     |0.038205645161290325|1.5158600007776661|2.782224044490985 |\n",
      "|(345.0,570.0)     |(0.0,9.80000019073)          |949         |26670     |0.03558305211848519 |1.411805118963132 |2.5912407122686534|\n",
      "|(345.0,570.0)     |(49.3400001526,inf)          |659         |19150     |0.03441253263707572 |1.3653631951450942|2.506000758016496 |\n",
      "|(345.0,570.0)     |(-1.89999997616,0.0)         |479         |14783     |0.032402083474260976|1.28559593937328  |2.359595168544151 |\n",
      "|(570.0,inf)       |(49.3400001526,inf)          |555         |17491     |0.031730604310788404|1.2589541067078023|2.3106964922856768|\n",
      "+------------------+-----------------------------+------------+----------+--------------------+------------------+------------------+\n",
      "only showing top 5 rows\n",
      "\n",
      "+------------------+----------------------------+------------+----------+--------------------+------------------+------------------+\n",
      "|days_device_change|total_data_volume_disc      |num_churners|num_msisdn|churn_rate          |LIFT              |LIFT_ALL          |\n",
      "+------------------+----------------------------+------------+----------+--------------------+------------------+------------------+\n",
      "|(345.0,570.0)     |(491.200195312,1093.4609375)|743         |20887     |0.03557236558624982 |1.4113811165233294|2.5904624941071237|\n",
      "|(345.0,570.0)     |(1093.4609375,inf)          |689         |20205     |0.03410047018064835 |1.3529817003831117|2.4832756432856806|\n",
      "|(345.0,570.0)     |(222.875,491.200195312)     |709         |20886     |0.03394618404672987 |1.3468601919491012|2.472040167750393 |\n",
      "|(345.0,570.0)     |(75.5625,222.875)           |636         |20305     |0.03132233440039399 |1.2427554527111142|2.2809653267328853|\n",
      "|(345.0,570.0)     |(-inf,75.5625)              |610         |19632     |0.031071719641401794|1.2328119774169002|2.2627149764134815|\n",
      "+------------------+----------------------------+------------+----------+--------------------+------------------+------------------+\n",
      "only showing top 5 rows\n",
      "\n",
      "+-------+-----------------------------+------------+----------+--------------------+------------------+------------------+\n",
      "|num_ccc|billing_inc                  |num_churners|num_msisdn|churn_rate          |LIFT              |LIFT_ALL          |\n",
      "+-------+-----------------------------+------------+----------+--------------------+------------------+------------------+\n",
      "|CCC>2  |(49.3400001526,inf)          |1137        |29466     |0.038586845856241093|1.5309846474968893|2.8099839667430837|\n",
      "|CCC>2  |(9.80000019073,49.3400001526)|963         |26166     |0.03680348543911947 |1.4602274410193545|2.6801155085201502|\n",
      "|CCC>2  |(0.0,9.80000019073)          |970         |26415     |0.03672155971985614 |1.456976928684281 |2.6741494868750664|\n",
      "|CCC>2  |(-1.89999997616,0.0)         |721         |23284     |0.030965469850541143|1.2285963750529898|2.254977619234806 |\n",
      "|CCC=2  |(9.80000019073,49.3400001526)|701         |23428     |0.029921461499060952|1.1871739492882731|2.1789505000518905|\n",
      "+-------+-----------------------------+------------+----------+--------------------+------------------+------------------+\n",
      "only showing top 5 rows\n",
      "\n",
      "+-------+----------------------------+------------+----------+--------------------+------------------+------------------+\n",
      "|num_ccc|total_data_volume_disc      |num_churners|num_msisdn|churn_rate          |LIFT              |LIFT_ALL          |\n",
      "+-------+----------------------------+------------+----------+--------------------+------------------+------------------+\n",
      "|CCC>2  |(1093.4609375,inf)          |1075        |27930     |0.0384890798424633  |1.527105650320017 |2.8028644179665014|\n",
      "|CCC>2  |(491.200195312,1093.4609375)|950         |26096     |0.03640404659717964 |1.4443791714587344|2.6510274419358275|\n",
      "|CCC>2  |(222.875,491.200195312)     |902         |25326     |0.035615572929005766|1.4130954255566444|2.5936089534171725|\n",
      "|CCC>2  |(75.5625,222.875)           |801         |24515     |0.032673873138894555|1.2963795573308756|2.3793875247992378|\n",
      "|CCC=2  |(1093.4609375,inf)          |680         |22468     |0.0302652661563112  |1.2008148582640692|2.203987155760005 |\n",
      "+-------+----------------------------+------------+----------+--------------------+------------------+------------------+\n",
      "only showing top 5 rows\n",
      "\n",
      "+-----------------------------+----------------------------+------------+----------+--------------------+------------------+------------------+\n",
      "|billing_inc                  |total_data_volume_disc      |num_churners|num_msisdn|churn_rate          |LIFT              |LIFT_ALL          |\n",
      "+-----------------------------+----------------------------+------------+----------+--------------------+------------------+------------------+\n",
      "|(49.3400001526,inf)          |(1093.4609375,inf)          |783         |26328     |0.029740200546946215|1.179982178913669 |2.165750655443275 |\n",
      "|(9.80000019073,49.3400001526)|(491.200195312,1093.4609375)|622         |21079     |0.029508041178424024|1.1707709458861175|2.1488442696322396|\n",
      "|(9.80000019073,49.3400001526)|(1093.4609375,inf)          |610         |20794     |0.029335385207271327|1.1639205896243427|2.1362710597744283|\n",
      "|(49.3400001526,inf)          |(491.200195312,1093.4609375)|646         |22069     |0.029271829262766776|1.161398922638237 |2.131642767902261 |\n",
      "|(-1.89999997616,0.0)         |(1093.4609375,inf)          |373         |12972     |0.02875423990132593 |1.1408628734098059|2.0939507053682016|\n",
      "+-----------------------------+----------------------------+------------+----------+--------------------+------------------+------------------+\n",
      "only showing top 5 rows\n",
      "\n"
     ]
    }
   ],
   "source": [
    "for i in range(0, len(myvars)):\n",
    "    for j in range(0, len(myvars)):\n",
    "        if i == j or i>j: continue\n",
    "\n",
    "        df_GG_simple_2 = df_tar.select(*[myvars[i], myvars[j]] + [\"label\"]).groupBy(myvars[i],myvars[j]).agg(sql_sum(\"label\").alias(\"num_churners\"),  sql_count(\"label\").alias(\"num_msisdn\")).withColumn(\"churn_rate\", col(\"num_churners\")/col(\"num_msisdn\"))\n",
    "\n",
    "        for var,cc in var_dict.items():\n",
    "            if not var or not cc[0] in splits_dict.keys() or not cc[0] in df_GG_simple_2.columns: continue\n",
    "            mysplit = splits_dict[cc[0]]\n",
    "            labels_dict = {ii:\"({},{})\".format(mysplit[ii],mysplit[ii+1]) for ii in range(0, len(mysplit)-1)}\n",
    "            for num,label in labels_dict.items():\n",
    "                df_GG_simple_2 = df_GG_simple_2.withColumn(cc[0], when(col(cc[0])==num, labels_dict[num]).otherwise(col(cc[0])))\n",
    "\n",
    "\n",
    "        df_GG_simple_2 = df_GG_simple_2.withColumn(\"LIFT\", col(\"churn_rate\")/lit(refprevalence))\n",
    "        df_GG_simple_2 = df_GG_simple_2.withColumn(\"LIFT_ALL\", col(\"churn_rate\")/lit(refprevalence_all)) \n",
    "        df_GG_simple_2 = df_GG_simple_2.sort(desc(\"LIFT\"))\n",
    "        df_GG_simple_2.show(5,truncate=False)"
   ]
  },
  {
   "cell_type": "markdown",
   "metadata": {},
   "source": [
    "### 3 variables"
   ]
  },
  {
   "cell_type": "code",
   "execution_count": 358,
   "metadata": {},
   "outputs": [
    {
     "name": "stdout",
     "output_type": "stream",
     "text": [
      "['billing_inc', 'num_ccc', 'days_device_change', 'num_churners', 'num_msisdn', 'churn_rate']\n",
      "('device_days_since_device_n1_change_date', ['days_device_change', 5])\n",
      "('ccc_num_interactions', ['num_ccc', 3])\n",
      "(None, [None, 5])\n",
      "('additional_inc_bill_n1_n4_net', ['billing_inc', 5])\n",
      "('total_data_volume', ['total_data_volume_disc', 5])\n",
      "+-----------------------------+-------+------------------+------------+----------+--------------------+------------------+------------------+\n",
      "|billing_inc                  |num_ccc|days_device_change|num_churners|num_msisdn|churn_rate          |LIFT              |LIFT_ALL          |\n",
      "+-----------------------------+-------+------------------+------------+----------+--------------------+------------------+------------------+\n",
      "|(0.0,9.80000019073)          |CCC>2  |(345.0,570.0)     |274         |5410      |0.05064695009242144 |2.0094853910298816|3.6882288398061127|\n",
      "|(9.80000019073,49.3400001526)|CCC>2  |(345.0,570.0)     |252         |5149      |0.048941542046999416|1.9418210490158658|3.5640370548065246|\n",
      "|(49.3400001526,inf)          |CCC>2  |(345.0,570.0)     |254         |5399      |0.047045749212817185|1.866602936222172 |3.4259810061684655|\n",
      "|(-1.89999997616,0.0)         |CCC=2  |(345.0,570.0)     |134         |3109      |0.043100675458346734|1.7100768658136398|3.138691549057062 |\n",
      "|(49.3400001526,inf)          |CCC>2  |(570.0,inf)       |197         |4734      |0.04161385720321081 |1.651085365686582 |3.0304179815838834|\n",
      "+-----------------------------+-------+------------------+------------+----------+--------------------+------------------+------------------+\n",
      "only showing top 5 rows\n",
      "\n",
      "['total_data_volume_disc', 'num_ccc', 'days_device_change', 'num_churners', 'num_msisdn', 'churn_rate']\n",
      "('device_days_since_device_n1_change_date', ['days_device_change', 5])\n",
      "('ccc_num_interactions', ['num_ccc', 3])\n",
      "(None, [None, 5])\n",
      "('additional_inc_bill_n1_n4_net', ['billing_inc', 5])\n",
      "('total_data_volume', ['total_data_volume_disc', 5])\n",
      "+----------------------------+-------+------------------+------------+----------+--------------------+------------------+------------------+\n",
      "|total_data_volume_disc      |num_ccc|days_device_change|num_churners|num_msisdn|churn_rate          |LIFT              |LIFT_ALL          |\n",
      "+----------------------------+-------+------------------+------------+----------+--------------------+------------------+------------------+\n",
      "|(1093.4609375,inf)          |CCC>2  |(345.0,570.0)     |252         |5464      |0.046120058565153735|1.8298749233862908|3.358570057686456 |\n",
      "|(491.200195312,1093.4609375)|CCC>2  |(345.0,570.0)     |243         |5324      |0.04564237415477085 |1.8109221563897493|3.3237839666092053|\n",
      "|(222.875,491.200195312)     |CCC>2  |(345.0,570.0)     |224         |5189      |0.04316824050876855 |1.712757599431737 |3.143611793357538 |\n",
      "|(-inf,75.5625)              |CCC=2  |(345.0,570.0)     |183         |4354      |0.0420303169499311  |1.6676089623781751|3.0607455500883876|\n",
      "|(1093.4609375,inf)          |CCC>2  |(570.0,inf)       |163         |3941      |0.041360060898249174|1.6410156583066289|3.011935943678588 |\n",
      "+----------------------------+-------+------------------+------------+----------+--------------------+------------------+------------------+\n",
      "only showing top 5 rows\n",
      "\n",
      "['total_data_volume_disc', 'billing_inc', 'days_device_change', 'num_churners', 'num_msisdn', 'churn_rate']\n",
      "('device_days_since_device_n1_change_date', ['days_device_change', 5])\n",
      "('ccc_num_interactions', ['num_ccc', 3])\n",
      "(None, [None, 5])\n",
      "('additional_inc_bill_n1_n4_net', ['billing_inc', 5])\n",
      "('total_data_volume', ['total_data_volume_disc', 5])\n",
      "+----------------------------+-----------------------------+------------------+------------+----------+--------------------+------------------+------------------+\n",
      "|total_data_volume_disc      |billing_inc                  |days_device_change|num_churners|num_msisdn|churn_rate          |LIFT              |LIFT_ALL          |\n",
      "+----------------------------+-----------------------------+------------------+------------+----------+--------------------+------------------+------------------+\n",
      "|(491.200195312,1093.4609375)|(9.80000019073,49.3400001526)|(345.0,570.0)     |169         |4157      |0.0406543180178013  |1.613014366906151 |2.9605421037651123|\n",
      "|(491.200195312,1093.4609375)|(0.0,9.80000019073)          |(345.0,570.0)     |216         |5322      |0.040586245772266064|1.6103135096444987|2.9555849243354477|\n",
      "|(222.875,491.200195312)     |(9.80000019073,49.3400001526)|(345.0,570.0)     |165         |4215      |0.03914590747330961 |1.5531661638593688|2.85069613550227  |\n",
      "|(75.5625,222.875)           |(9.80000019073,49.3400001526)|(345.0,570.0)     |152         |3888      |0.03909465020576132 |1.5511324633081127|2.8469634619241715|\n",
      "|(1093.4609375,inf)          |(0.0,9.80000019073)          |(345.0,570.0)     |168         |4483      |0.03747490519741245 |1.4868669167049884|2.729009858755119 |\n",
      "+----------------------------+-----------------------------+------------------+------------+----------+--------------------+------------------+------------------+\n",
      "only showing top 5 rows\n",
      "\n",
      "['total_data_volume_disc', 'billing_inc', 'num_ccc', 'num_churners', 'num_msisdn', 'churn_rate']\n",
      "('device_days_since_device_n1_change_date', ['days_device_change', 5])\n",
      "('ccc_num_interactions', ['num_ccc', 3])\n",
      "(None, [None, 5])\n",
      "('additional_inc_bill_n1_n4_net', ['billing_inc', 5])\n",
      "('total_data_volume', ['total_data_volume_disc', 5])\n",
      "+----------------------------+-----------------------------+-------+------------+----------+-------------------+------------------+------------------+\n",
      "|total_data_volume_disc      |billing_inc                  |num_ccc|num_churners|num_msisdn|churn_rate         |LIFT              |LIFT_ALL          |\n",
      "+----------------------------+-----------------------------+-------+------------+----------+-------------------+------------------+------------------+\n",
      "|(222.875,491.200195312)     |(9.80000019073,49.3400001526)|CCC>2  |223         |5363      |0.04158120454969234|1.649789828046033 |3.0280401393212544|\n",
      "|(1093.4609375,inf)          |(49.3400001526,inf)          |CCC>2  |335         |8057      |0.04157875139630135|1.649692495908715 |3.0278614949790263|\n",
      "|(491.200195312,1093.4609375)|(0.0,9.80000019073)          |CCC>2  |218         |5315      |0.04101599247412982|1.6273642840280031|2.9868800798528703|\n",
      "|(1093.4609375,inf)          |(9.80000019073,49.3400001526)|CCC>2  |233         |5815      |0.04006878761822872|1.5897826662450474|2.9179024166300342|\n",
      "|(491.200195312,1093.4609375)|(9.80000019073,49.3400001526)|CCC>2  |220         |5572      |0.03948312993539124|1.5665459154504042|2.87525346043122  |\n",
      "+----------------------------+-----------------------------+-------+------------+----------+-------------------+------------------+------------------+\n",
      "only showing top 5 rows\n",
      "\n"
     ]
    }
   ],
   "source": [
    "for i in range(0, len(myvars)):\n",
    "    for j in range(0, len(myvars)):\n",
    "        for k in range(0, len(myvars)):\n",
    "            if i == j or i == k or j==k or i<j or j<k: continue\n",
    "            \n",
    "            df_GG_simple_3 = df_tar.select(*[myvars[i], myvars[j], myvars[k]] + [\"label\"]).groupBy(myvars[i],myvars[j], myvars[k]).agg(sql_sum(\"label\").alias(\"num_churners\"),  sql_count(\"label\").alias(\"num_msisdn\")).withColumn(\"churn_rate\", col(\"num_churners\")/col(\"num_msisdn\"))\n",
    "            for var,cc in var_dict.items():\n",
    "                if not var or not cc[0] in splits_dict.keys() or not cc[0] in df_GG_simple_3.columns: continue\n",
    "                mysplit = splits_dict[cc[0]]\n",
    "                labels_dict = {ii:\"({},{})\".format(mysplit[ii],mysplit[ii+1]) for ii in range(0, len(mysplit)-1)}\n",
    "                for num,label in labels_dict.items():\n",
    "                    df_GG_simple_3 = df_GG_simple_3.withColumn(cc[0], when(col(cc[0])==num, labels_dict[num]).otherwise(col(cc[0])))\n",
    "\n",
    "\n",
    "            df_GG_simple_3 = df_GG_simple_3.withColumn(\"LIFT\", col(\"churn_rate\")/lit(refprevalence))\n",
    "            df_GG_simple_3 = df_GG_simple_3.withColumn(\"LIFT_ALL\", col(\"churn_rate\")/lit(refprevalence_all)) \n",
    "            df_GG_simple_3 = df_GG_simple_3.sort(desc(\"LIFT\"))\n",
    "            df_GG_simple_3.show(5,truncate=False)"
   ]
  },
  {
   "cell_type": "code",
   "execution_count": 63,
   "metadata": {},
   "outputs": [
    {
     "ename": "AttributeError",
     "evalue": "'NoneType' object has no attribute 'sc'",
     "output_type": "error",
     "traceback": [
      "\u001b[0;31m---------------------------------------------------------------------------\u001b[0m",
      "\u001b[0;31mAttributeError\u001b[0m                            Traceback (most recent call last)",
      "\u001b[0;32m/opt/cloudera/parcels/Anaconda-2.5.0/lib/python2.7/site-packages/IPython/core/formatters.pyc\u001b[0m in \u001b[0;36m__call__\u001b[0;34m(self, obj)\u001b[0m\n\u001b[1;32m    336\u001b[0m             \u001b[0mmethod\u001b[0m \u001b[0;34m=\u001b[0m \u001b[0mget_real_method\u001b[0m\u001b[0;34m(\u001b[0m\u001b[0mobj\u001b[0m\u001b[0;34m,\u001b[0m \u001b[0mself\u001b[0m\u001b[0;34m.\u001b[0m\u001b[0mprint_method\u001b[0m\u001b[0;34m)\u001b[0m\u001b[0;34m\u001b[0m\u001b[0m\n\u001b[1;32m    337\u001b[0m             \u001b[0;32mif\u001b[0m \u001b[0mmethod\u001b[0m \u001b[0;32mis\u001b[0m \u001b[0;32mnot\u001b[0m \u001b[0mNone\u001b[0m\u001b[0;34m:\u001b[0m\u001b[0;34m\u001b[0m\u001b[0m\n\u001b[0;32m--> 338\u001b[0;31m                 \u001b[0;32mreturn\u001b[0m \u001b[0mmethod\u001b[0m\u001b[0;34m(\u001b[0m\u001b[0;34m)\u001b[0m\u001b[0;34m\u001b[0m\u001b[0m\n\u001b[0m\u001b[1;32m    339\u001b[0m             \u001b[0;32mreturn\u001b[0m \u001b[0mNone\u001b[0m\u001b[0;34m\u001b[0m\u001b[0m\n\u001b[1;32m    340\u001b[0m         \u001b[0;32melse\u001b[0m\u001b[0;34m:\u001b[0m\u001b[0;34m\u001b[0m\u001b[0m\n",
      "\u001b[0;32m/opt/cloudera/parcels/SPARK2/lib/spark2/python/pyspark/sql/session.py\u001b[0m in \u001b[0;36m_repr_html_\u001b[0;34m(self)\u001b[0m\n\u001b[1;32m    235\u001b[0m         \"\"\".format(\n\u001b[1;32m    236\u001b[0m             \u001b[0mcatalogImplementation\u001b[0m\u001b[0;34m=\u001b[0m\u001b[0mself\u001b[0m\u001b[0;34m.\u001b[0m\u001b[0mconf\u001b[0m\u001b[0;34m.\u001b[0m\u001b[0mget\u001b[0m\u001b[0;34m(\u001b[0m\u001b[0;34m\"spark.sql.catalogImplementation\"\u001b[0m\u001b[0;34m)\u001b[0m\u001b[0;34m,\u001b[0m\u001b[0;34m\u001b[0m\u001b[0m\n\u001b[0;32m--> 237\u001b[0;31m             \u001b[0msc_HTML\u001b[0m\u001b[0;34m=\u001b[0m\u001b[0mself\u001b[0m\u001b[0;34m.\u001b[0m\u001b[0msparkContext\u001b[0m\u001b[0;34m.\u001b[0m\u001b[0m_repr_html_\u001b[0m\u001b[0;34m(\u001b[0m\u001b[0;34m)\u001b[0m\u001b[0;34m\u001b[0m\u001b[0m\n\u001b[0m\u001b[1;32m    238\u001b[0m         )\n\u001b[1;32m    239\u001b[0m \u001b[0;34m\u001b[0m\u001b[0m\n",
      "\u001b[0;32m/opt/cloudera/parcels/SPARK2/lib/spark2/python/pyspark/context.py\u001b[0m in \u001b[0;36m_repr_html_\u001b[0;34m(self)\u001b[0m\n\u001b[1;32m    281\u001b[0m         \u001b[0;34m<\u001b[0m\u001b[0;34m/\u001b[0m\u001b[0mdiv\u001b[0m\u001b[0;34m>\u001b[0m\u001b[0;34m\u001b[0m\u001b[0m\n\u001b[1;32m    282\u001b[0m         \"\"\".format(\n\u001b[0;32m--> 283\u001b[0;31m             \u001b[0msc\u001b[0m\u001b[0;34m=\u001b[0m\u001b[0mself\u001b[0m\u001b[0;34m\u001b[0m\u001b[0m\n\u001b[0m\u001b[1;32m    284\u001b[0m         )\n\u001b[1;32m    285\u001b[0m \u001b[0;34m\u001b[0m\u001b[0m\n",
      "\u001b[0;32m/opt/cloudera/parcels/SPARK2/lib/spark2/python/pyspark/context.py\u001b[0m in \u001b[0;36muiWebUrl\u001b[0;34m(self)\u001b[0m\n\u001b[1;32m    393\u001b[0m     \u001b[0;32mdef\u001b[0m \u001b[0muiWebUrl\u001b[0m\u001b[0;34m(\u001b[0m\u001b[0mself\u001b[0m\u001b[0;34m)\u001b[0m\u001b[0;34m:\u001b[0m\u001b[0;34m\u001b[0m\u001b[0m\n\u001b[1;32m    394\u001b[0m         \u001b[0;34m\"\"\"Return the URL of the SparkUI instance started by this SparkContext\"\"\"\u001b[0m\u001b[0;34m\u001b[0m\u001b[0m\n\u001b[0;32m--> 395\u001b[0;31m         \u001b[0;32mreturn\u001b[0m \u001b[0mself\u001b[0m\u001b[0;34m.\u001b[0m\u001b[0m_jsc\u001b[0m\u001b[0;34m.\u001b[0m\u001b[0msc\u001b[0m\u001b[0;34m(\u001b[0m\u001b[0;34m)\u001b[0m\u001b[0;34m.\u001b[0m\u001b[0muiWebUrl\u001b[0m\u001b[0;34m(\u001b[0m\u001b[0;34m)\u001b[0m\u001b[0;34m.\u001b[0m\u001b[0mget\u001b[0m\u001b[0;34m(\u001b[0m\u001b[0;34m)\u001b[0m\u001b[0;34m\u001b[0m\u001b[0m\n\u001b[0m\u001b[1;32m    396\u001b[0m \u001b[0;34m\u001b[0m\u001b[0m\n\u001b[1;32m    397\u001b[0m     \u001b[0;34m@\u001b[0m\u001b[0mproperty\u001b[0m\u001b[0;34m\u001b[0m\u001b[0m\n",
      "\u001b[0;31mAttributeError\u001b[0m: 'NoneType' object has no attribute 'sc'"
     ]
    },
    {
     "data": {
      "text/plain": [
       "<pyspark.sql.session.SparkSession at 0x7ff82113da90>"
      ]
     },
     "execution_count": 63,
     "metadata": {},
     "output_type": "execute_result"
    }
   ],
   "source": [
    "spark"
   ]
  },
  {
   "cell_type": "code",
   "execution_count": 62,
   "metadata": {},
   "outputs": [],
   "source": [
    "import pandas as pd\n",
    "\n",
    "df_pandas = pd.DataFrame({\"days_since_start\" : [45, 40, 30, 12, 10, 5],\n",
    "                          \"days_since_completed\" : [44, 39, 29, 11, 9, 4],\n",
    "                          \"duration\" : [1,1,1,1,1,1],\n",
    "                          \"num_cliente\" : [\"A\", \"A\", \"A\", \"A\", \"A\", \"B\"],\n",
    "                          \"SLA_master\" : [0.5, 1, 4, 5,3,6],\n",
    "                          #\"SLA_factor\" : [0.5, 1, 4, 5,3,6],\n",
    "                          \"categ\" : [\"traslado\", \"traslado\", \"traslado\", \"gen\", \"traslado\", \"gen\"]\n",
    "                         })\n",
    "\n",
    "df = spark.createDataFrame(df_pandas)\n",
    "\n",
    "df = df.fillna(-1, subset=[\"days_since_start\"])\n",
    "\n",
    "df = df.sort(asc(\"num_cliente\"), desc(\"days_since_start\"))\n"
   ]
  },
  {
   "cell_type": "code",
   "execution_count": 67,
   "metadata": {},
   "outputs": [],
   "source": [
    "days_range = [5,10, 40, 50]\n",
    "factor_list = [1,2,3]\n",
    "\n",
    "for dd in days_range:\n",
    "    df = df.withColumn(\"duration_last{}\".format(dd),\n",
    "                                   when((col(\"days_since_completed\") <= dd) & (col(\"days_since_completed\") != -1),\n",
    "                                        col(\"duration\")).otherwise(None))\n",
    "    df = df.withColumn(\"SLA_factor_last{}\".format(dd),\n",
    "                                   when(col(\"duration_last{}\".format(dd)).isNotNull() & col(\"SLA_master\").isNotNull(),\n",
    "                                        col(\"duration_last{}\".format(dd)) / col(\"SLA_master\")).otherwise(None))"
   ]
  },
  {
   "cell_type": "code",
   "execution_count": 64,
   "metadata": {},
   "outputs": [
    {
     "name": "stdout",
     "output_type": "stream",
     "text": [
      "+----------+--------+--------------------+----------------+--------+-----------+--------------+-------------------+---------------+-------------------+---------------+-------------------+\n",
      "|SLA_master|   categ|days_since_completed|days_since_start|duration|num_cliente|duration_last5|   SLA_factor_last5|duration_last10|  SLA_factor_last10|duration_last50|  SLA_factor_last50|\n",
      "+----------+--------+--------------------+----------------+--------+-----------+--------------+-------------------+---------------+-------------------+---------------+-------------------+\n",
      "|       0.5|traslado|                  44|              45|       1|          A|          null|               null|           null|               null|              1|                2.0|\n",
      "|       1.0|traslado|                  39|              40|       1|          A|          null|               null|           null|               null|              1|                1.0|\n",
      "|       4.0|traslado|                  29|              30|       1|          A|          null|               null|           null|               null|              1|               0.25|\n",
      "|       5.0|     gen|                  11|              12|       1|          A|          null|               null|           null|               null|              1|                0.2|\n",
      "|       3.0|traslado|                   9|              10|       1|          A|          null|               null|              1| 0.3333333333333333|              1| 0.3333333333333333|\n",
      "|       6.0|     gen|                   4|               5|       1|          B|             1|0.16666666666666666|              1|0.16666666666666666|              1|0.16666666666666666|\n",
      "+----------+--------+--------------------+----------------+--------+-----------+--------------+-------------------+---------------+-------------------+---------------+-------------------+\n",
      "\n"
     ]
    }
   ],
   "source": [
    "df.show()"
   ]
  },
  {
   "cell_type": "code",
   "execution_count": 69,
   "metadata": {},
   "outputs": [
    {
     "name": "stdout",
     "output_type": "stream",
     "text": [
      "+-----------+----------------+--------+----+--------------+--------------------------+-------------------+\n",
      "|num_cliente|days_since_start|traslado|diff|diff_traslados|days_since_start_traslados|  SLA_factor_last40|\n",
      "+-----------+----------------+--------+----+--------------+--------------------------+-------------------+\n",
      "|          A|              45|       1|null|          null|                        45|               null|\n",
      "|          A|              40|       1|   5|             5|                        40|                1.0|\n",
      "|          A|              30|       1|  10|            10|                        30|               0.25|\n",
      "|          A|              12|       0|  18|          null|                      null|                0.2|\n",
      "|          A|              10|       1|   2|            20|                        10| 0.3333333333333333|\n",
      "|          B|               5|       0|null|          null|                      null|0.16666666666666666|\n",
      "+-----------+----------------+--------+----+--------------+--------------------------+-------------------+\n",
      "\n"
     ]
    }
   ],
   "source": [
    "from pyspark.sql.functions import lag, mean as sql_avg\n",
    "\n",
    "df = df.withColumn(\"traslado\", when(col(\"categ\")==\"traslado\", 1).otherwise(0))\n",
    "\n",
    "# to ignore an order, set the column \"days_since...\" to -1. following line, set \"diff\" value of days_since_started=-1 to Null\n",
    "df = df.withColumn(\"diff\", when(col(\"days_since_start\")!=-1, lag(col(\"days_since_start\"),-1).over(Window.partitionBy(\"num_cliente\").orderBy(asc(\"days_since_start\")))-col(\"days_since_start\")).otherwise(None))\n",
    "df = df.withColumn(\"days_since_start_traslados\", when( col(\"traslado\")==1, col(\"days_since_start\")).otherwise(None))\n",
    "df = df.withColumn(\"diff_traslados\", when( ( (col(\"traslado\")==1) & (col(\"days_since_start_traslados\")!=-1)), lag(col(\"days_since_start_traslados\"),-1).over(Window.partitionBy(\"num_cliente\").orderBy(asc(\"days_since_start_traslados\")))-col(\"days_since_start_traslados\")).otherwise(None))\n",
    "\n",
    "df.select(\"num_cliente\", \"days_since_start\", \"traslado\", \"diff\", \"diff_traslados\", \"days_since_start_traslados\", \"SLA_factor_last40\").sort(asc(\"num_cliente\"), desc(\"days_since_start\")).show()\n",
    "\n",
    "# # diff=null entries are ignored for average\n",
    "# df.groupby(\"num_cliente\").agg( sql_avg(col(\"diff\")).alias(\"avg\"),\n",
    "#                                sql_sum(col(\"diff\")).alias(\"sum\"),\n",
    "#                                sql_sum(col(\"diff\")).alias(\"sum2\")).show()"
   ]
  },
  {
   "cell_type": "code",
   "execution_count": 78,
   "metadata": {},
   "outputs": [
    {
     "data": {
      "text/plain": [
       "0.445833325"
      ]
     },
     "execution_count": 78,
     "metadata": {},
     "output_type": "execute_result"
    }
   ],
   "source": [
    "(1+0.25+0.3333333+0.2)/4"
   ]
  },
  {
   "cell_type": "code",
   "execution_count": 70,
   "metadata": {},
   "outputs": [],
   "source": [
    "\n",
    "\n",
    "df_agg = (df.groupby(\"num_cliente\").agg(*([sql_count(when(((col(\"days_since_start\") < dd) & (col(\"days_since_start\") != -1)), col(\"days_since_start\")).otherwise(None)).alias(\"nb_started_orders_last{}\".format(dd)) for dd in days_range] +\n",
    "                                                [sql_count(when(col(\"duration_last{}\".format(dd)).isNotNull(), col(\"duration_last{}\".format(dd))).otherwise(None)).alias(\"nb_completed_orders_last{}\".format(dd)) for dd in days_range] +\n",
    "                                                [sql_count(when(col(\"SLA_factor_last{}\".format(dd)) > ff, col(\"SLA_factor_last{}\".format(dd))).otherwise(None)).alias(\"nb_completed_orders_last{}_{}SLA\".format(dd, ff)) for dd in days_range for ff in factor_list] +\n",
    "                                                [sql_avg(col(\"diff\")).alias(\"avg_days_bw_open_orders\")] +\n",
    "                                                # ignore null factors (when SLA_master is null)\n",
    "                                                [sql_avg(col(\"SLA_factor_last{}\".format(dd))).alias(\"mean_sla_factor_last{}\".format(dd)) for dd in days_range] +\n",
    "                                                # traslados\n",
    "                                                [sql_count(when((  (col(\"days_since_start_traslados\").isNotNull()) & (col(\"days_since_start_traslados\") < dd) ), col(\"days_since_start_traslados\")).otherwise(None)).alias(\"nb_started_orders_traslados_last{}\".format(dd)) for dd in days_range] +\n",
    "                                                [sql_count(when( ((col(\"traslado\") == 1) & col(\"duration_last{}\".format(dd)).isNotNull()), col(\"duration_last{}\".format(dd))).otherwise(None)).alias(\"nb_completed_orders_traslados_last{}\".format(dd)) for dd in days_range] +\n",
    "                                                [sql_count(when( ((col(\"traslado\") == 1) & (col(\"SLA_factor_last{}\".format(dd)) > ff)), col(\"SLA_factor_last{}\".format(dd))).otherwise(None)).alias(\"nb_completed_orders_last{}_{}SLA\".format(dd, ff)) for dd in days_range for ff in factor_list] +\n",
    "                                                [sql_avg(col(\"diff_traslados\")).alias(\"avg_days_bw_open_orders_traslado\")] +\n",
    "                                                # ignore null factors (when SLA_master is null)\n",
    "                                                [sql_avg(when( col(\"traslado\") == 1,  col(\"SLA_factor_last{}\".format(dd))).otherwise(None)).alias(\"mean_sla_factor_traslados_last{}\".format(dd)) for dd in days_range]\n",
    "                                              )))"
   ]
  },
  {
   "cell_type": "code",
   "execution_count": 72,
   "metadata": {},
   "outputs": [
    {
     "name": "stdout",
     "output_type": "stream",
     "text": [
      "+-----------+--------------------------------+----------------------------------+----------------------------------+--------------------------------+--------------------------------+----------------------+\n",
      "|num_cliente|avg_days_bw_open_orders_traslado|nb_started_orders_traslados_last10|nb_started_orders_traslados_last50|mean_sla_factor_traslados_last50|mean_sla_factor_traslados_last40|mean_sla_factor_last40|\n",
      "+-----------+--------------------------------+----------------------------------+----------------------------------+--------------------------------+--------------------------------+----------------------+\n",
      "|          B|                            null|                                 0|                                 0|                            null|                            null|   0.16666666666666666|\n",
      "|          A|              11.666666666666666|                                 0|                                 4|              0.8958333333333333|              0.5277777777777778|    0.4458333333333333|\n",
      "+-----------+--------------------------------+----------------------------------+----------------------------------+--------------------------------+--------------------------------+----------------------+\n",
      "\n"
     ]
    }
   ],
   "source": [
    "df_agg.select(\"num_cliente\", 'avg_days_bw_open_orders_traslado',  \"nb_started_orders_traslados_last10\",\"nb_started_orders_traslados_last50\",\n",
    " 'mean_sla_factor_traslados_last50',\n",
    " 'mean_sla_factor_traslados_last40', 'mean_sla_factor_last40',\n",
    "\n",
    "              ).show()"
   ]
  },
  {
   "cell_type": "code",
   "execution_count": 54,
   "metadata": {},
   "outputs": [
    {
     "name": "stdout",
     "output_type": "stream",
     "text": [
      "+-----------+-----+-----+-----+-----+-----+-----+-----+-----+-----+-----+-----+-----+-----+-----+-----+-----+-----+-----+-----+-----+\n",
      "|num_cliente|sum00|sum01|sum10|sum11|sum20|sum21|sum30|sum31|sum40|sum41|sum50|sum51|sum60|sum61|sum70|sum71|sum80|sum81|sum90|sum91|\n",
      "+-----------+-----+-----+-----+-----+-----+-----+-----+-----+-----+-----+-----+-----+-----+-----+-----+-----+-----+-----+-----+-----+\n",
      "|          B|  2.0|  2.0|  2.0|  2.0|  2.0|  2.0|  2.0|  2.0|  2.0|  2.0|  2.0|  2.0|  2.0|  2.0|  2.0|  2.0|  2.0|  2.0|  2.0|  2.0|\n",
      "|          A| 15.0| 15.0| 15.0| 15.0| 15.0| 15.0| 15.0| 15.0| 15.0| 15.0| 15.0| 15.0| 15.0| 15.0| 15.0| 15.0| 15.0| 15.0| 15.0| 15.0|\n",
      "+-----------+-----+-----+-----+-----+-----+-----+-----+-----+-----+-----+-----+-----+-----+-----+-----+-----+-----+-----+-----+-----+\n",
      "\n"
     ]
    }
   ],
   "source": [
    "df.groupby(\"num_cliente\").agg( *[sql_sum(col(\"diff\")).alias(\"sum{}{}\".format(ii,jj)) for ii in range(0,10) for jj in range(0,2)]).show()\n",
    "                               "
   ]
  }
 ],
 "metadata": {
  "kernelspec": {
   "display_name": "Python 2",
   "language": "python",
   "name": "python2"
  },
  "language_info": {
   "codemirror_mode": {
    "name": "ipython",
    "version": 2
   },
   "file_extension": ".py",
   "mimetype": "text/x-python",
   "name": "python",
   "nbconvert_exporter": "python",
   "pygments_lexer": "ipython2",
   "version": "2.7.11"
  }
 },
 "nbformat": 4,
 "nbformat_minor": 2
}
