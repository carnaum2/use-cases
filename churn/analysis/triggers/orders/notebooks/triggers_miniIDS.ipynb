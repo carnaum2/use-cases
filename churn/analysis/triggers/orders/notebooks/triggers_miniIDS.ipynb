{
 "cells": [
  {
   "cell_type": "code",
   "execution_count": 2,
   "metadata": {},
   "outputs": [
    {
     "ename": "NameError",
     "evalue": "name 'spark' is not defined",
     "output_type": "error",
     "traceback": [
      "\u001b[0;31m---------------------------------------------------------------------------\u001b[0m",
      "\u001b[0;31mNameError\u001b[0m                                 Traceback (most recent call last)",
      "\u001b[0;32m<ipython-input-2-5c6b4d5d9db0>\u001b[0m in \u001b[0;36m<module>\u001b[0;34m()\u001b[0m\n\u001b[0;32m----> 1\u001b[0;31m \u001b[0mspark\u001b[0m\u001b[0;34m.\u001b[0m\u001b[0mstop\u001b[0m\u001b[0;34m(\u001b[0m\u001b[0;34m)\u001b[0m\u001b[0;34m\u001b[0m\u001b[0m\n\u001b[0m",
      "\u001b[0;31mNameError\u001b[0m: name 'spark' is not defined"
     ]
    }
   ],
   "source": [
    "spark.stop()"
   ]
  },
  {
   "cell_type": "markdown",
   "metadata": {},
   "source": [
    "# Set paths"
   ]
  },
  {
   "cell_type": "markdown",
   "metadata": {},
   "source": [
    "DEVEL_SRC must contain the directory use-cases and pykhaos"
   ]
  },
  {
   "cell_type": "code",
   "execution_count": 60,
   "metadata": {},
   "outputs": [
    {
     "name": "stderr",
     "output_type": "stream",
     "text": [
      "20190805-083043 [INFO ] Logging to file /var/SP/data/home/csanc109/logging/out_20190805_083043.log\n"
     ]
    },
    {
     "name": "stdout",
     "output_type": "stream",
     "text": [
      "The autoreload extension is already loaded. To reload it, use:\n",
      "  %reload_ext autoreload\n",
      "The jupyternotify extension is already loaded. To reload it, use:\n",
      "  %reload_ext jupyternotify\n"
     ]
    },
    {
     "name": "stderr",
     "output_type": "stream",
     "text": [
      "/opt/cloudera/parcels/Anaconda-2.5.0/lib/python2.7/site-packages/ipykernel_launcher.py:30: UserWarning: \n",
      "This call to matplotlib.use() has no effect because the backend has already\n",
      "been chosen; matplotlib.use() must be called *before* pylab, matplotlib.pyplot,\n",
      "or matplotlib.backends is imported for the first time.\n",
      "\n",
      "The backend was *originally* set to 'module://ipykernel.pylab.backend_inline' by the following code:\n",
      "  File \"/opt/cloudera/parcels/Anaconda-2.5.0/lib/python2.7/runpy.py\", line 162, in _run_module_as_main\n",
      "    \"__main__\", fname, loader, pkg_name)\n",
      "  File \"/opt/cloudera/parcels/Anaconda-2.5.0/lib/python2.7/runpy.py\", line 72, in _run_code\n",
      "    exec code in run_globals\n",
      "  File \"/opt/cloudera/parcels/Anaconda-2.5.0/lib/python2.7/site-packages/ipykernel_launcher.py\", line 16, in <module>\n",
      "    app.launch_new_instance()\n",
      "  File \"/opt/cloudera/parcels/Anaconda-2.5.0/lib/python2.7/site-packages/traitlets/config/application.py\", line 658, in launch_instance\n",
      "    app.start()\n",
      "  File \"/opt/cloudera/parcels/Anaconda-2.5.0/lib/python2.7/site-packages/ipykernel/kernelapp.py\", line 486, in start\n",
      "    self.io_loop.start()\n",
      "  File \"/opt/cloudera/parcels/Anaconda-2.5.0/lib/python2.7/site-packages/tornado/ioloop.py\", line 1073, in start\n",
      "    handler_func(fd_obj, events)\n",
      "  File \"/opt/cloudera/parcels/Anaconda-2.5.0/lib/python2.7/site-packages/tornado/stack_context.py\", line 300, in null_wrapper\n",
      "    return fn(*args, **kwargs)\n",
      "  File \"/opt/cloudera/parcels/Anaconda-2.5.0/lib/python2.7/site-packages/zmq/eventloop/zmqstream.py\", line 450, in _handle_events\n",
      "    self._handle_recv()\n",
      "  File \"/opt/cloudera/parcels/Anaconda-2.5.0/lib/python2.7/site-packages/zmq/eventloop/zmqstream.py\", line 480, in _handle_recv\n",
      "    self._run_callback(callback, msg)\n",
      "  File \"/opt/cloudera/parcels/Anaconda-2.5.0/lib/python2.7/site-packages/zmq/eventloop/zmqstream.py\", line 432, in _run_callback\n",
      "    callback(*args, **kwargs)\n",
      "  File \"/opt/cloudera/parcels/Anaconda-2.5.0/lib/python2.7/site-packages/tornado/stack_context.py\", line 300, in null_wrapper\n",
      "    return fn(*args, **kwargs)\n",
      "  File \"/opt/cloudera/parcels/Anaconda-2.5.0/lib/python2.7/site-packages/ipykernel/kernelbase.py\", line 283, in dispatcher\n",
      "    return self.dispatch_shell(stream, msg)\n",
      "  File \"/opt/cloudera/parcels/Anaconda-2.5.0/lib/python2.7/site-packages/ipykernel/kernelbase.py\", line 233, in dispatch_shell\n",
      "    handler(stream, idents, msg)\n",
      "  File \"/opt/cloudera/parcels/Anaconda-2.5.0/lib/python2.7/site-packages/ipykernel/kernelbase.py\", line 399, in execute_request\n",
      "    user_expressions, allow_stdin)\n",
      "  File \"/opt/cloudera/parcels/Anaconda-2.5.0/lib/python2.7/site-packages/ipykernel/ipkernel.py\", line 208, in do_execute\n",
      "    res = shell.run_cell(code, store_history=store_history, silent=silent)\n",
      "  File \"/opt/cloudera/parcels/Anaconda-2.5.0/lib/python2.7/site-packages/ipykernel/zmqshell.py\", line 537, in run_cell\n",
      "    return super(ZMQInteractiveShell, self).run_cell(*args, **kwargs)\n",
      "  File \"/opt/cloudera/parcels/Anaconda-2.5.0/lib/python2.7/site-packages/IPython/core/interactiveshell.py\", line 2714, in run_cell\n",
      "    interactivity=interactivity, compiler=compiler, result=result)\n",
      "  File \"/opt/cloudera/parcels/Anaconda-2.5.0/lib/python2.7/site-packages/IPython/core/interactiveshell.py\", line 2818, in run_ast_nodes\n",
      "    if self.run_code(code, result):\n",
      "  File \"/opt/cloudera/parcels/Anaconda-2.5.0/lib/python2.7/site-packages/IPython/core/interactiveshell.py\", line 2878, in run_code\n",
      "    exec(code_obj, self.user_global_ns, self.user_ns)\n",
      "  File \"<ipython-input-1-567aede8c5fa>\", line 35, in <module>\n",
      "    get_ipython().magic(u'matplotlib inline')\n",
      "  File \"/opt/cloudera/parcels/Anaconda-2.5.0/lib/python2.7/site-packages/IPython/core/interactiveshell.py\", line 2160, in magic\n",
      "    return self.run_line_magic(magic_name, magic_arg_s)\n",
      "  File \"/opt/cloudera/parcels/Anaconda-2.5.0/lib/python2.7/site-packages/IPython/core/interactiveshell.py\", line 2081, in run_line_magic\n",
      "    result = fn(*args,**kwargs)\n",
      "  File \"<decorator-gen-105>\", line 2, in matplotlib\n",
      "  File \"/opt/cloudera/parcels/Anaconda-2.5.0/lib/python2.7/site-packages/IPython/core/magic.py\", line 188, in <lambda>\n",
      "    call = lambda f, *a, **k: f(*a, **k)\n",
      "  File \"/opt/cloudera/parcels/Anaconda-2.5.0/lib/python2.7/site-packages/IPython/core/magics/pylab.py\", line 100, in matplotlib\n",
      "    gui, backend = self.shell.enable_matplotlib(args.gui)\n",
      "  File \"/opt/cloudera/parcels/Anaconda-2.5.0/lib/python2.7/site-packages/IPython/core/interactiveshell.py\", line 2966, in enable_matplotlib\n",
      "    pt.activate_matplotlib(backend)\n",
      "  File \"/opt/cloudera/parcels/Anaconda-2.5.0/lib/python2.7/site-packages/IPython/core/pylabtools.py\", line 315, in activate_matplotlib\n",
      "    matplotlib.pyplot.switch_backend(backend)\n",
      "  File \"/opt/cloudera/parcels/Anaconda-2.5.0/lib/python2.7/site-packages/matplotlib/pyplot.py\", line 233, in switch_backend\n",
      "    _backend_mod, new_figure_manager, draw_if_interactive, _show = pylab_setup()\n",
      "  File \"/opt/cloudera/parcels/Anaconda-2.5.0/lib/python2.7/site-packages/matplotlib/backends/__init__.py\", line 62, in pylab_setup\n",
      "    [backend_name], 0)\n",
      "  File \"/opt/cloudera/parcels/Anaconda-2.5.0/lib/python2.7/site-packages/ipykernel/pylab/backend_inline.py\", line 165, in <module>\n",
      "    _enable_matplotlib_integration()\n",
      "  File \"/opt/cloudera/parcels/Anaconda-2.5.0/lib/python2.7/site-packages/ipykernel/pylab/backend_inline.py\", line 155, in _enable_matplotlib_integration\n",
      "    activate_matplotlib(backend)\n",
      "  File \"/opt/cloudera/parcels/Anaconda-2.5.0/lib/python2.7/site-packages/IPython/core/pylabtools.py\", line 315, in activate_matplotlib\n",
      "    matplotlib.pyplot.switch_backend(backend)\n",
      "  File \"/opt/cloudera/parcels/Anaconda-2.5.0/lib/python2.7/site-packages/matplotlib/pyplot.py\", line 231, in switch_backend\n",
      "    matplotlib.use(newbackend, warn=False, force=True)\n",
      "  File \"/opt/cloudera/parcels/Anaconda-2.5.0/lib/python2.7/site-packages/matplotlib/__init__.py\", line 1422, in use\n",
      "    reload(sys.modules['matplotlib.backends'])\n",
      "  File \"/opt/cloudera/parcels/Anaconda-2.5.0/lib/python2.7/site-packages/matplotlib/backends/__init__.py\", line 16, in <module>\n",
      "    line for line in traceback.format_stack()\n",
      "\n",
      "\n"
     ]
    },
    {
     "data": {
      "text/html": [
       "<style>.container { width:100% !important; }</style>"
      ],
      "text/plain": [
       "<IPython.core.display.HTML object>"
      ]
     },
     "metadata": {},
     "output_type": "display_data"
    }
   ],
   "source": [
    "import os, sys\n",
    "import datetime as dt\n",
    "DEVEL_SRC = os.path.join(os.environ.get('BDA_USER_HOME', ''), \"src\", \"devel\")\n",
    "if DEVEL_SRC not in sys.path:\n",
    "    sys.path.append(DEVEL_SRC)\n",
    "\n",
    "USECASES_SRC = os.path.join(DEVEL_SRC, \"use-cases\") # TODO when '-' is removed from name, remove also this line and adapt imports \n",
    "if USECASES_SRC not in sys.path: \n",
    "    sys.path.append(USECASES_SRC)\n",
    "    \n",
    "# AMDOCS_SRC = os.path.join(DEVEL_SRC, \"amdocs_informational_dataset\") # TODO when - is removed, remove also this line and adapt imports\n",
    "# if AMDOCS_SRC not in sys.path: \n",
    "#     sys.path.append(AMDOCS_SRC)\n",
    "    \n",
    "import pykhaos.utils.custom_logger as clogger\n",
    "logging_file = os.path.join(os.environ.get('BDA_USER_HOME', ''), \"logging\",\n",
    "                                    \"out_\" + dt.datetime.now().strftime(\"%Y%m%d_%H%M%S\") + \".log\")\n",
    "logger = clogger.configure_logger(log_filename=logging_file, std_channel=sys.stderr, logger_name=\"\")\n",
    "logger.info(\"Logging to file {}\".format(logging_file))    \n",
    "        \n",
    "from project.project_generic import Project\n",
    "\n",
    "import pykhaos.utils.notebooks as nb\n",
    "\n",
    "import time\n",
    "start_time = time.time()\n",
    "\n",
    "RUNNING_FROM_NOTEBOOK = nb.isnotebook()\n",
    "import matplotlib\n",
    "matplotlib.use('Agg')\n",
    "import matplotlib.pyplot as plt\n",
    "if RUNNING_FROM_NOTEBOOK:\n",
    "    %load_ext autoreload\n",
    "    %autoreload 2\n",
    "    %matplotlib inline  \n",
    "    EXTERNAL_LIB = os.path.join(os.environ.get('BDA_USER_HOME', ''), \"lib\", \"external_libs\")\n",
    "    if EXTERNAL_LIB not in sys.path:\n",
    "        sys.path.append(EXTERNAL_LIB)\n",
    "    # feel free from commenting this line and the other ones that begin with \"%%notify\" if you do not have \n",
    "    # the extension installed or copy de lib from /var/SP/data/home/csanc109/lib/external_libs/jupyternotify/\n",
    "    %load_ext jupyternotify \n",
    "from IPython.core.display import display, HTML\n",
    "display(HTML(\"<style>.container { width:100% !important; }</style>\"))"
   ]
  },
  {
   "cell_type": "code",
   "execution_count": 62,
   "metadata": {},
   "outputs": [
    {
     "data": {
      "text/html": [
       "<style>.container { width:100% !important; }</style>"
      ],
      "text/plain": [
       "<IPython.core.display.HTML object>"
      ]
     },
     "metadata": {},
     "output_type": "display_data"
    }
   ],
   "source": [
    "from pyspark.sql import Row, DataFrame, Column, Window\n",
    "from pyspark.sql.types import DoubleType, StringType, IntegerType, DateType, ArrayType\n",
    "from pyspark.ml import Pipeline\n",
    "from pyspark.ml.classification import RandomForestClassifier\n",
    "from pyspark.ml.feature import StringIndexer, VectorIndexer, VectorAssembler, SQLTransformer, OneHotEncoder\n",
    "from pyspark.ml.evaluation import MulticlassClassificationEvaluator, BinaryClassificationEvaluator\n",
    "from pyspark.mllib.evaluation import BinaryClassificationMetrics\n",
    "from pyspark.sql.functions import collect_set, concat, size, coalesce, col, lpad, struct, count as sql_count, lit, min as sql_min, max as sql_max, collect_list, udf, when, desc, asc, to_date, create_map, sum as sql_sum\n",
    "from pyspark.sql.types import StringType, ArrayType, MapType, StructType, StructField, IntegerType\n",
    "from pyspark.sql.functions import array, regexp_extract\n",
    "from itertools import chain\n",
    "from churn.datapreparation.general.data_loader import get_unlabeled_car, get_port_requests_table, get_numclients_under_analysis\n",
    "from churn.utils.constants import PORT_TABLE_NAME\n",
    "from churn.utils.udf_manager import Funct_to_UDF\n",
    "from pyspark.sql.functions import substring, datediff, row_number\n",
    "from pykhaos.utils.date_functions import move_date_n_days, move_date_n_cycles\n",
    "from pykhaos.utils.hdfs_functions import check_hdfs_exists\n",
    "from pykhaos.modeling.model_performance import get_lift\n",
    "\n",
    "from IPython.core.display import display, HTML\n",
    "display(HTML(\"<style>.container { width:100% !important; }</style>\"))"
   ]
  },
  {
   "cell_type": "markdown",
   "metadata": {},
   "source": [
    "# Functions"
   ]
  },
  {
   "cell_type": "markdown",
   "metadata": {},
   "source": [
    "## Start spark context"
   ]
  },
  {
   "cell_type": "code",
   "execution_count": 63,
   "metadata": {},
   "outputs": [
    {
     "name": "stderr",
     "output_type": "stream",
     "text": [
      "20190805-083526 [ERROR] Exception while sending command.\n",
      "Traceback (most recent call last):\n",
      "  File \"/opt/cloudera/parcels/Anaconda-2.5.0/lib/python2.7/site-packages/py4j/java_gateway.py\", line 985, in send_command\n",
      "    response = connection.send_command(command)\n",
      "  File \"/opt/cloudera/parcels/Anaconda-2.5.0/lib/python2.7/site-packages/py4j/java_gateway.py\", line 1164, in send_command\n",
      "    \"Error while receiving\", e, proto.ERROR_ON_RECEIVE)\n",
      "Py4JNetworkError: Error while receiving\n",
      "20190805-083650 [ERROR] Internal Python error in the inspect module.\n",
      "Below is the traceback from this internal error.\n",
      "\n",
      "20190805-083650 [INFO ] \n",
      "Unfortunately, your original traceback can not be constructed.\n",
      "\n"
     ]
    },
    {
     "name": "stdout",
     "output_type": "stream",
     "text": [
      "Traceback (most recent call last):\n",
      "  File \"/opt/cloudera/parcels/Anaconda-2.5.0/lib/python2.7/site-packages/IPython/core/ultratb.py\", line 1132, in get_records\n",
      "    return _fixed_getinnerframes(etb, number_of_lines_of_context, tb_offset)\n",
      "  File \"/opt/cloudera/parcels/Anaconda-2.5.0/lib/python2.7/site-packages/IPython/core/ultratb.py\", line 313, in wrapped\n",
      "    return f(*args, **kwargs)\n",
      "  File \"/opt/cloudera/parcels/Anaconda-2.5.0/lib/python2.7/site-packages/IPython/core/ultratb.py\", line 358, in _fixed_getinnerframes\n",
      "    records = fix_frame_records_filenames(inspect.getinnerframes(etb, context))\n",
      "  File \"/opt/cloudera/parcels/Anaconda-2.5.0/lib/python2.7/inspect.py\", line 1049, in getinnerframes\n",
      "    framelist.append((tb.tb_frame,) + getframeinfo(tb, context))\n",
      "  File \"/opt/cloudera/parcels/Anaconda-2.5.0/lib/python2.7/inspect.py\", line 1009, in getframeinfo\n",
      "    filename = getsourcefile(frame) or getfile(frame)\n",
      "  File \"/opt/cloudera/parcels/Anaconda-2.5.0/lib/python2.7/inspect.py\", line 454, in getsourcefile\n",
      "    if hasattr(getmodule(object, filename), '__loader__'):\n",
      "  File \"/opt/cloudera/parcels/Anaconda-2.5.0/lib/python2.7/inspect.py\", line 483, in getmodule\n",
      "    file = getabsfile(object, _filename)\n",
      "  File \"/opt/cloudera/parcels/Anaconda-2.5.0/lib/python2.7/inspect.py\", line 467, in getabsfile\n",
      "    return os.path.normcase(os.path.abspath(_filename))\n",
      "  File \"/opt/cloudera/parcels/Anaconda-2.5.0/lib/python2.7/posixpath.py\", line 364, in abspath\n",
      "    cwd = os.getcwd()\n",
      "OSError: [Errno 2] No such file or directory\n"
     ]
    },
    {
     "ename": "IndexError",
     "evalue": "string index out of range",
     "output_type": "error",
     "traceback": [
      "\u001b[0;31m---------------------------------------------------------------------------\u001b[0m",
      "\u001b[0;31mIndexError\u001b[0m                                Traceback (most recent call last)",
      "\u001b[0;32m/opt/cloudera/parcels/Anaconda-2.5.0/lib/python2.7/site-packages/IPython/core/interactiveshell.pyc\u001b[0m in \u001b[0;36mrun_code\u001b[0;34m(self, code_obj, result)\u001b[0m\n\u001b[1;32m   2893\u001b[0m             \u001b[0;32mif\u001b[0m \u001b[0mresult\u001b[0m \u001b[0;32mis\u001b[0m \u001b[0;32mnot\u001b[0m \u001b[0mNone\u001b[0m\u001b[0;34m:\u001b[0m\u001b[0;34m\u001b[0m\u001b[0m\n\u001b[1;32m   2894\u001b[0m                 \u001b[0mresult\u001b[0m\u001b[0;34m.\u001b[0m\u001b[0merror_in_exec\u001b[0m \u001b[0;34m=\u001b[0m \u001b[0msys\u001b[0m\u001b[0;34m.\u001b[0m\u001b[0mexc_info\u001b[0m\u001b[0;34m(\u001b[0m\u001b[0;34m)\u001b[0m\u001b[0;34m[\u001b[0m\u001b[0;36m1\u001b[0m\u001b[0;34m]\u001b[0m\u001b[0;34m\u001b[0m\u001b[0m\n\u001b[0;32m-> 2895\u001b[0;31m             \u001b[0mself\u001b[0m\u001b[0;34m.\u001b[0m\u001b[0mshowtraceback\u001b[0m\u001b[0;34m(\u001b[0m\u001b[0;34m)\u001b[0m\u001b[0;34m\u001b[0m\u001b[0m\n\u001b[0m\u001b[1;32m   2896\u001b[0m         \u001b[0;32melse\u001b[0m\u001b[0;34m:\u001b[0m\u001b[0;34m\u001b[0m\u001b[0m\n\u001b[1;32m   2897\u001b[0m             \u001b[0moutflag\u001b[0m \u001b[0;34m=\u001b[0m \u001b[0;36m0\u001b[0m\u001b[0;34m\u001b[0m\u001b[0m\n",
      "\u001b[0;32m/opt/cloudera/parcels/Anaconda-2.5.0/lib/python2.7/site-packages/IPython/core/interactiveshell.pyc\u001b[0m in \u001b[0;36mshowtraceback\u001b[0;34m(self, exc_tuple, filename, tb_offset, exception_only)\u001b[0m\n\u001b[1;32m   1824\u001b[0m                     \u001b[0;32mexcept\u001b[0m \u001b[0mException\u001b[0m\u001b[0;34m:\u001b[0m\u001b[0;34m\u001b[0m\u001b[0m\n\u001b[1;32m   1825\u001b[0m                         stb = self.InteractiveTB.structured_traceback(etype,\n\u001b[0;32m-> 1826\u001b[0;31m                                             value, tb, tb_offset=tb_offset)\n\u001b[0m\u001b[1;32m   1827\u001b[0m \u001b[0;34m\u001b[0m\u001b[0m\n\u001b[1;32m   1828\u001b[0m                     \u001b[0mself\u001b[0m\u001b[0;34m.\u001b[0m\u001b[0m_showtraceback\u001b[0m\u001b[0;34m(\u001b[0m\u001b[0metype\u001b[0m\u001b[0;34m,\u001b[0m \u001b[0mvalue\u001b[0m\u001b[0;34m,\u001b[0m \u001b[0mstb\u001b[0m\u001b[0;34m)\u001b[0m\u001b[0;34m\u001b[0m\u001b[0m\n",
      "\u001b[0;32m/opt/cloudera/parcels/Anaconda-2.5.0/lib/python2.7/site-packages/IPython/core/ultratb.pyc\u001b[0m in \u001b[0;36mstructured_traceback\u001b[0;34m(self, etype, value, tb, tb_offset, number_of_lines_of_context)\u001b[0m\n\u001b[1;32m   1409\u001b[0m         \u001b[0mself\u001b[0m\u001b[0;34m.\u001b[0m\u001b[0mtb\u001b[0m \u001b[0;34m=\u001b[0m \u001b[0mtb\u001b[0m\u001b[0;34m\u001b[0m\u001b[0m\n\u001b[1;32m   1410\u001b[0m         return FormattedTB.structured_traceback(\n\u001b[0;32m-> 1411\u001b[0;31m             self, etype, value, tb, tb_offset, number_of_lines_of_context)\n\u001b[0m\u001b[1;32m   1412\u001b[0m \u001b[0;34m\u001b[0m\u001b[0m\n\u001b[1;32m   1413\u001b[0m \u001b[0;34m\u001b[0m\u001b[0m\n",
      "\u001b[0;32m/opt/cloudera/parcels/Anaconda-2.5.0/lib/python2.7/site-packages/IPython/core/ultratb.pyc\u001b[0m in \u001b[0;36mstructured_traceback\u001b[0;34m(self, etype, value, tb, tb_offset, number_of_lines_of_context)\u001b[0m\n\u001b[1;32m   1317\u001b[0m             \u001b[0;31m# Verbose modes need a full traceback\u001b[0m\u001b[0;34m\u001b[0m\u001b[0;34m\u001b[0m\u001b[0m\n\u001b[1;32m   1318\u001b[0m             return VerboseTB.structured_traceback(\n\u001b[0;32m-> 1319\u001b[0;31m                 \u001b[0mself\u001b[0m\u001b[0;34m,\u001b[0m \u001b[0metype\u001b[0m\u001b[0;34m,\u001b[0m \u001b[0mvalue\u001b[0m\u001b[0;34m,\u001b[0m \u001b[0mtb\u001b[0m\u001b[0;34m,\u001b[0m \u001b[0mtb_offset\u001b[0m\u001b[0;34m,\u001b[0m \u001b[0mnumber_of_lines_of_context\u001b[0m\u001b[0;34m\u001b[0m\u001b[0m\n\u001b[0m\u001b[1;32m   1320\u001b[0m             )\n\u001b[1;32m   1321\u001b[0m         \u001b[0;32melse\u001b[0m\u001b[0;34m:\u001b[0m\u001b[0;34m\u001b[0m\u001b[0m\n",
      "\u001b[0;32m/opt/cloudera/parcels/Anaconda-2.5.0/lib/python2.7/site-packages/IPython/core/ultratb.pyc\u001b[0m in \u001b[0;36mstructured_traceback\u001b[0;34m(self, etype, evalue, etb, tb_offset, number_of_lines_of_context)\u001b[0m\n\u001b[1;32m   1202\u001b[0m                 \u001b[0mstructured_traceback_parts\u001b[0m \u001b[0;34m+=\u001b[0m \u001b[0mformatted_exception\u001b[0m\u001b[0;34m\u001b[0m\u001b[0m\n\u001b[1;32m   1203\u001b[0m         \u001b[0;32melse\u001b[0m\u001b[0;34m:\u001b[0m\u001b[0;34m\u001b[0m\u001b[0m\n\u001b[0;32m-> 1204\u001b[0;31m             \u001b[0mstructured_traceback_parts\u001b[0m \u001b[0;34m+=\u001b[0m \u001b[0mformatted_exception\u001b[0m\u001b[0;34m[\u001b[0m\u001b[0;36m0\u001b[0m\u001b[0;34m]\u001b[0m\u001b[0;34m\u001b[0m\u001b[0m\n\u001b[0m\u001b[1;32m   1205\u001b[0m \u001b[0;34m\u001b[0m\u001b[0m\n\u001b[1;32m   1206\u001b[0m         \u001b[0;32mreturn\u001b[0m \u001b[0mstructured_traceback_parts\u001b[0m\u001b[0;34m\u001b[0m\u001b[0m\n",
      "\u001b[0;31mIndexError\u001b[0m: string index out of range"
     ]
    }
   ],
   "source": [
    "from churn.utils.general_functions import init_spark\n",
    "spark = init_spark(\"triggers_miniIDS\")\n",
    "sc = spark.sparkContext"
   ]
  },
  {
   "cell_type": "code",
   "execution_count": null,
   "metadata": {},
   "outputs": [],
   "source": [
    "\n",
    "# from pykhaos.utils.pyspark_utils import count_nans\n",
    "# A = count_nans(trdf)\n",
    "# A\n",
    "\n",
    "def get_metrics(df_preds, label=\"\", nb_deciles=10):\n",
    "    \n",
    "    preds_and_labels = df_preds.select(['model_score', 'label']).rdd.map(lambda r: (r['model_score'], float(r['label'])))\n",
    "\n",
    "    my_metrics = BinaryClassificationMetrics(preds_and_labels)\n",
    "\n",
    "    print(\"METRICS FOR {}\".format(label))\n",
    "    print(\"\\t AUC = {}\".format(my_metrics.areaUnderROC))\n",
    "    if nb_deciles:\n",
    "        lift = get_lift(df_preds, 'model_score', 'label', nb_deciles)\n",
    "\n",
    "        for d ,l in lift:\n",
    "            print \"\\t\" + str(d) + \": \" + str(l)\n",
    "\n",
    "\n",
    "def plot_hist(data):\n",
    "    \n",
    "    import numpy as np\n",
    "    import matplotlib.pyplot as mplt\n",
    "    import matplotlib.ticker as mtick\n",
    "    \n",
    "    binSides, binCounts = data\n",
    "\n",
    "    N = len(binCounts)\n",
    "    ind = np.arange(N)\n",
    "    width = 1\n",
    "\n",
    "    fig, ax = mplt.subplots()\n",
    "    rects1 = ax.bar(ind+0.5, binCounts, width, color='b')\n",
    "\n",
    "    ax.set_ylabel('Frequencies')\n",
    "    ax.set_title('Histogram')\n",
    "    ax.set_xticks(np.arange(N+1))\n",
    "    ax.set_xticklabels(binSides)\n",
    "    ax.xaxis.set_major_formatter(mtick.FormatStrFormatter('%.2e'))\n",
    "    ax.yaxis.set_major_formatter(mtick.FormatStrFormatter('%.2e'))\n",
    "\n",
    "    mplt.show()\n",
    "    "
   ]
  },
  {
   "cell_type": "markdown",
   "metadata": {},
   "source": [
    "# Input params"
   ]
  },
  {
   "cell_type": "code",
   "execution_count": null,
   "metadata": {},
   "outputs": [],
   "source": [
    "closing_day = \"20190414\"\n",
    "start_date = closing_day\n",
    "end_date = move_date_n_days(closing_day, n=+30)\n",
    "\n",
    "ref_date = end_date"
   ]
  },
  {
   "cell_type": "markdown",
   "metadata": {},
   "source": [
    "# Config "
   ]
  },
  {
   "cell_type": "code",
   "execution_count": null,
   "metadata": {},
   "outputs": [],
   "source": [
    "# int_feats =  ['ccc_num_interactions', 'ccc_num_ivr_interactions', 'device_days_since_device_n1_change_date', 'device_tenure_days_n2'] \n",
    "# float_feats = ['additional_inc_bill_n1_n2_net', 'additional_inc_bill_n1_n3_net', 'additional_inc_bill_n1_n4_net', \"total_data_volume\", \"total_mou\"]# \"total_mou_w\", \"total_mou_we\"] \n",
    "\n",
    "from churn.analysis.triggers.get_ids_for_analysis import get_mini_ids, get_sel_cols\n",
    "\n",
    "numerical_feats = get_sel_cols().values()\n",
    "\n",
    "noninf_feats = ['NIF_CLIENTE']\n",
    "\n",
    "label_col = 'label'\n",
    "\n",
    "COLS = numerical_feats + noninf_feats + [label_col]\n",
    "\n",
    "feat_cols = numerical_feats # notebook is not still prepared for categoricals.\n",
    "\n"
   ]
  },
  {
   "cell_type": "code",
   "execution_count": null,
   "metadata": {},
   "outputs": [],
   "source": [
    "df_orders_sla = spark.read.load(\"/data/attributes/vf_es/trigger_analysis/orders_sla_sintraslados/year=2019/month=4/day=14\")\n",
    "df_orders_sla.select(\"nb_started_orders_last90\").distinct().show()"
   ]
  },
  {
   "cell_type": "markdown",
   "metadata": {},
   "source": [
    "# Get current car (for train and test) and other car (for validation)"
   ]
  },
  {
   "cell_type": "code",
   "execution_count": null,
   "metadata": {},
   "outputs": [],
   "source": [
    "from churn.analysis.triggers.get_ids_for_analysis import get_mini_ids, get_sel_cols\n",
    "from churn.analysis.triggers.run_groupby_analysis import filter_car\n",
    "closing_day = \"20190414\"\n",
    "\n",
    "path_to_minids = \"/data/attributes/vf_es/trigger_analysis/mini_ids/year={}/month={}/day={}\".format(int(closing_day[:4]),\n",
    "                                                                          int(closing_day[4:6]),\n",
    "                                                                          int(closing_day[6:]))\n",
    "df_tar_all = spark.read.parquet(path_to_minids)\n",
    "df_tar = filter_car(df_tar_all)"
   ]
  },
  {
   "cell_type": "code",
   "execution_count": null,
   "metadata": {},
   "outputs": [],
   "source": [
    "from churn.analysis.triggers.get_ids_for_analysis import get_mini_ids, get_sel_cols\n",
    "\n",
    "closing_day_2 = \"20190507\"\n",
    "path_to_minids = \"/data/attributes/vf_es/trigger_analysis/mini_ids/year={}/month={}/day={}\".format(int(closing_day_2[:4]),\n",
    "                                                                          int(closing_day_2[4:6]),\n",
    "                                                                          int(closing_day_2[6:]))\n",
    "df_next_tar_all = spark.read.parquet(path_to_minids)\n",
    "df_next_tar = filter_car(df_tar_all)"
   ]
  },
  {
   "cell_type": "markdown",
   "metadata": {},
   "source": [
    "# Train them first model to extract important variables"
   ]
  },
  {
   "cell_type": "code",
   "execution_count": null,
   "metadata": {},
   "outputs": [],
   "source": [
    "[df_unbaltr, df_tt] = df_tar.randomSplit([0.7, 0.3], 1234)\n",
    "\n",
    "#print \"[Info FbbChurn] \" + time.ctime() + \" Total number of training samples is : \" + str(unbaltrdf.count())\n",
    "\n",
    "df_unbaltr.describe('label').show()\n",
    "\n",
    "print \" Stat description of the target variable printed above\"\n",
    "\n",
    "# 1.2. Balanced df for training\n",
    "\n",
    "df_unbaltr.groupBy('label').agg(sql_count('*')).show()\n",
    "\n",
    "print \" Count on label column for unbalanced tr set showed above\"\n",
    "\n",
    "from churn.models.fbb_churn_amdocs.utils_general import balance_df2\n",
    "df_tr = balance_df2(df_unbaltr, 'label')\n",
    "\n",
    "df_tr.groupBy('label').agg(sql_count('*')).show()\n",
    "\n",
    "print \" Count on label column for balanced tr set showed above\"\n",
    "\n",
    "# 1.3. Feature selection\n",
    "\n",
    "# allFeats = trdf.columns\n",
    "\n",
    "for f in noninf_feats:\n",
    "    print \"Non-informative feat: \" + f\n"
   ]
  },
  {
   "cell_type": "markdown",
   "metadata": {},
   "source": [
    "# Model"
   ]
  },
  {
   "cell_type": "code",
   "execution_count": null,
   "metadata": {},
   "outputs": [],
   "source": [
    "\n",
    "logger.info(\"Feat cols = {}\".format(\",\".join(feat_cols)))\n",
    "\n",
    "assembler = VectorAssembler(inputCols = feat_cols, outputCol = \"features\")\n",
    "\n",
    "classifier = RandomForestClassifier(featuresCol=\"features\", \\\n",
    "                                    labelCol=\"label\", \\\n",
    "                                    maxDepth=25, \\\n",
    "                                    maxBins=32, \\\n",
    "                                    minInstancesPerNode=50, \\\n",
    "                                    impurity=\"gini\", \\\n",
    "                                    featureSubsetStrategy=\"sqrt\", \\\n",
    "                                    subsamplingRate=0.7, \\\n",
    "                                    numTrees=250, \\\n",
    "                                    seed = 1234)\n",
    "\n",
    "pipeline = Pipeline(stages= [assembler, classifier])\n",
    "\n",
    "model = pipeline.fit(df_tr)\n",
    "\n",
    "from churn.models.fbb_churn_amdocs.utils_model import getOrderedRelevantFeats\n",
    "feat_importance = getOrderedRelevantFeats(model, feat_cols, 'f', 'rf')\n",
    "\n",
    "for fimp in feat_importance:\n",
    "    print \"Imp feat \" + str(fimp[0]) + \": \" +  str(fimp[1])\n",
    "\n",
    "# EVALUATION\n",
    "# TODO: to include model calibration\n",
    "\n",
    "# Calibration\n",
    "#calibmodel = get_calibration_function2(spark, model, valdf, 'label', 10)\n",
    "#getScore = udf(lambda prob: float(prob[1]), DoubleType())\n",
    "\n",
    "getScore = udf(lambda prob: float(prob[1]), DoubleType())\n",
    "\n",
    "# Train evaluation\n",
    "df_tr_preds = model.transform(df_tr).withColumn(\"model_score\", getScore(col(\"probability\")).cast(DoubleType()))\n",
    "#trPredictionAndLabels = df_tr_preds.select(['model_score', 'label']).rdd.map(lambda r: (r['model_score'], float(r['label'])))\n",
    "\n",
    "\n",
    "# Test eval\n",
    "df_tt_preds = model.transform(df_tt).withColumn(\"model_score\", getScore(col(\"probability\")).cast(DoubleType()))\n",
    "\n",
    "# Evaluation \n",
    "df_val_preds = model.transform(df_next_tar).withColumn(\"model_score\", getScore(col(\"probability\")).cast(DoubleType()))\n",
    "\n",
    "\n"
   ]
  },
  {
   "cell_type": "code",
   "execution_count": null,
   "metadata": {},
   "outputs": [],
   "source": [
    "# Validation\n",
    "get_metrics(df_tr_preds, label=\"train\", nb_deciles=None)\n",
    "get_metrics(df_tt_preds, label=\"test\",  nb_deciles=None)\n",
    "get_metrics(df_val_preds, label=\"validation\",  nb_deciles=None)"
   ]
  },
  {
   "cell_type": "markdown",
   "metadata": {},
   "source": [
    "# Evaluation"
   ]
  },
  {
   "cell_type": "code",
   "execution_count": null,
   "metadata": {},
   "outputs": [],
   "source": [
    "# Checking scores"
   ]
  },
  {
   "cell_type": "code",
   "execution_count": null,
   "metadata": {},
   "outputs": [],
   "source": [
    "    \n",
    "# plot_hist(df_tr_preds.select(\"model_score\").rdd.flatMap(lambda x: x).histogram(50))\n",
    "# plot_hist(df_tt_preds.select(\"model_score\").rdd.flatMap(lambda x: x).histogram(50))\n",
    "# plot_hist(df_val_preds.select(\"model_score\").rdd.flatMap(lambda x: x).histogram(50))\n"
   ]
  },
  {
   "cell_type": "code",
   "execution_count": null,
   "metadata": {},
   "outputs": [],
   "source": [
    "\n",
    "for col_ in numerical_feats:\n",
    "\n",
    "    n = 50\n",
    "    bins, counts = df_tr_preds.where(col('label') == 0).select(col_).rdd.flatMap(lambda x: x).histogram(n)\n",
    "\n",
    "    bins2, counts2 = df_tr_preds.where(col('label') == 1).select(col_).rdd.flatMap(lambda x: x).histogram(n)\n",
    "\n",
    "    plt.figure()\n",
    "    plt.hist(bins[:-1], bins=bins, weights=counts)\n",
    "    plt.hist(bins2[:-1], bins=bins2, weights=counts2)\n",
    "    plt.xlabel(col_)"
   ]
  },
  {
   "cell_type": "code",
   "execution_count": null,
   "metadata": {},
   "outputs": [],
   "source": [
    "#%matplotlib inline  \n",
    "\n",
    "import numpy as np\n",
    "import seaborn as sns\n",
    "import matplotlib.pyplot as plt\n",
    "\n",
    "def plot_features_churn_seaborn_shade2(df, var_to_plot, label,  image_per_row = 3, hist = False):\n",
    "    plt.figure()\n",
    "    inf = df.filter(df[label] == 0)\n",
    "    sup = df.filter(df[label] == 1)\n",
    "    inf.cache()\n",
    "    sup.cache()\n",
    "    fig_cat, axes = plt.subplots(int(np.round(len(var_to_plot)/ image_per_row)), image_per_row, figsize=(40, 10*int(np.round(len(var_to_plot)/ image_per_row))), squeeze=False)\n",
    "    for i, ax in enumerate(fig_cat.axes):\n",
    "        sel_ = var_to_plot[i]\n",
    "        print(var_to_plot[i])\n",
    "\n",
    "        arr = [float(row[sel_]) for row in inf.select(sel_).collect()]\n",
    "        sns.kdeplot(arr, shade= True, color = 'blue', ax=axes[int(i/image_per_row)][i%image_per_row])\n",
    "        #print(\"Half subplot\")\n",
    "        arr2 = [float(row[sel_]) for row in sup.select(sel_).collect()]\n",
    "        sns.kdeplot(arr2, shade= True, color = 'red', ax=axes[int(i/image_per_row)][i%image_per_row])\n",
    "        \n",
    "        axes[int(i/image_per_row)][i%image_per_row].set_title(sel_)\n",
    "    inf.unpersist()\n",
    "    sup.unpersist()\n",
    "\n",
    "    \n",
    "plot_features_churn_seaborn_shade2(df_tr, var_to_plot=[\"ccc_num_interactions\", \"additional_inc_bill_n1_n4_net\", \"device_days_since_device_n1_change_date\"], label=\"label\", image_per_row = 3, hist = False)\n",
    "\n"
   ]
  },
  {
   "cell_type": "markdown",
   "metadata": {},
   "source": [
    "# Decision tree"
   ]
  },
  {
   "cell_type": "markdown",
   "metadata": {},
   "source": [
    "### Fit a decision tree classifier and extract metrics for tr, tt and val"
   ]
  },
  {
   "cell_type": "code",
   "execution_count": null,
   "metadata": {},
   "outputs": [],
   "source": [
    "from pyspark.ml.classification import DecisionTreeClassifier\n",
    "from pyspark.ml.feature import OneHotEncoderEstimator, StringIndexer, VectorAssembler\n",
    "from pyspark.ml import Pipeline\n",
    "from churn.models.fbb_churn_amdocs.utils_general import balance_df2\n",
    "\n",
    "\n",
    "df_tar = df_tar.where(col(\"segment_nif\").isin([\"Mobile_only\", \"Convergent\"]))\n",
    "df_next_tar = df_next_tar.where(col(\"segment_nif\").isin([\"Mobile_only\", \"Convergent\"]))\n",
    "\n",
    "df_tar = df_tar.withColumn(\"mean_price_rgu\", when(col(\"nb_rgus\")!=0, col(\"Bill_N1_Amount_To_Pay\")/col(\"nb_rgus\")).otherwise(-1))\n",
    "df_next_tar = df_next_tar.withColumn(\"mean_price_rgu\", when(col(\"nb_rgus\")!=0, col(\"Bill_N1_Amount_To_Pay\")/col(\"nb_rgus\")).otherwise(-1))\n",
    "df_next_tar = df_next_tar.withColumn(\"segment_idx\", when(col(\"segment_nif\")==\"Mobile_only\", 0).otherwise(1))\n",
    "df_tar = df_tar.withColumn(\"segment_idx\", when(col(\"segment_nif\")==\"Mobile_only\", 0).otherwise(1))\n",
    "\n",
    "\n",
    "\n",
    "\n",
    "assemblerInputs = [\"tgs_days_until_fecha_fin_dto\", \"diff_rgus_n_n2\", \"blindaje\", \"nb_started_orders_last30\", \"mean_price_rgu\"]\n",
    "\n",
    "\n",
    "#assemblerInputs = feat_cols\n",
    "\n",
    "[df_unbaltr, df_tt] = df_tar.randomSplit([0.7, 0.3], 1234)\n",
    "df_tr = balance_df2(df_unbaltr, 'label')\n",
    "\n",
    "\n",
    "\n",
    "assembler_simple = VectorAssembler(inputCols=assemblerInputs, outputCol=\"features_simple\")\n",
    "pipeline = Pipeline(stages = [assembler_simple])\n",
    "pipelineModel = pipeline.fit(df_tr.select(assemblerInputs))\n",
    "\n",
    "df_tr_dtree = pipelineModel.transform(df_tr)\n",
    "\n",
    "# selectedCols = ['label', 'features_simple'] #+ cols\n",
    "# df_tr_pipe = df_tr_preds_dtree.select(selectedCols)\n",
    "# df_tr_pipe.printSchema()\n",
    "\n",
    "#df_tr_preds_dtree.groupBy('label').agg(sql_count('*')).show()\n",
    "\n",
    "dtree = DecisionTreeClassifier(featuresCol = 'features_simple', labelCol = 'label', maxDepth = 10, minInstancesPerNode=5000, maxBins=5, minInfoGain=0)\n",
    "dtree_model = dtree.fit(df_tr_dtree)\n",
    "\n",
    "#print(\"Train Area Under ROC: \" + str(evaluator.evaluate(df_tr_preds_dtree, {evaluator.metricName: \"areaUnderROC\"})))\n",
    "\n",
    "df_tr_preds_dtree = dtree_model.transform(pipelineModel.transform(df_tr))\n",
    "\n",
    "#df_tt_preds_dtree = dtree_model.transform(pipelineModel.transform(df_tt))\n",
    "df_val_preds_dtree = dtree_model.transform(pipelineModel.transform(df_next_tar))\n",
    "\n",
    "evaluator = BinaryClassificationEvaluator()\n",
    "\n",
    "print(\"Train Area Under ROC: \" + str(evaluator.evaluate(df_tr_preds_dtree, {evaluator.metricName: \"areaUnderROC\"})))\n",
    "\n",
    "#print(\"Test Area Under ROC: \" + str(evaluator.evaluate(df_tt_preds_dtree, {evaluator.metricName: \"areaUnderROC\"})))\n",
    "print(\"Val Area Under ROC: \" + str(evaluator.evaluate(df_val_preds_dtree, {evaluator.metricName: \"areaUnderROC\"})))\n"
   ]
  },
  {
   "cell_type": "markdown",
   "metadata": {},
   "source": [
    "## Print decision rules"
   ]
  },
  {
   "cell_type": "code",
   "execution_count": null,
   "metadata": {},
   "outputs": [],
   "source": [
    "import re\n",
    "explanation = dtree_model.toDebugString.splitlines()\n",
    "for i in range(0, len(assemblerInputs)):\n",
    "    for ii_ll in range(0, len(explanation)):\n",
    "        explanation[ii_ll] = explanation[ii_ll].replace(\"feature {}\".format(i), \"'{}'\".format(assemblerInputs[i]))\n",
    "#         explanation[ii_ll] = re.sub(\"Predict: 0.0\", \"Predict: NO_CHURN\", explanation[ii_ll])\n",
    "        explanation[ii_ll] = re.sub(\"Predict: 1.0\", \"Predict: ***********CHURN\", explanation[ii_ll])\n",
    "explanation"
   ]
  },
  {
   "cell_type": "markdown",
   "metadata": {},
   "source": [
    "# Manual segmentation - discretización"
   ]
  },
  {
   "cell_type": "markdown",
   "metadata": {},
   "source": [
    "Add variables to compute the churn rate both individually and ijn groups of 2, 3 and4 variables"
   ]
  },
  {
   "cell_type": "code",
   "execution_count": null,
   "metadata": {},
   "outputs": [],
   "source": [
    "from churn.analysis.triggers.get_ids_for_analysis import get_mini_ids, get_sel_cols\n",
    "from churn.analysis.triggers.run_groupby_analysis import filter_car\n",
    "closing_day = \"20190414\"\n",
    "label_col= \"label\"\n",
    "path_to_minids = \"/data/attributes/vf_es/trigger_analysis/mini_ids/year={}/month={}/day={}\".format(int(closing_day[:4]),\n",
    "                                                                          int(closing_day[4:6]),\n",
    "                                                                          int(closing_day[6:]))\n",
    "df_tar_all = spark.read.parquet(path_to_minids)\n",
    "df_tar_all = df_tar.where(col(\"segment_nif\") != \"Pure_prepaid\")\n",
    "\n",
    "df_tar = filter_car(df_tar_all)\n",
    "\n",
    "from pyspark.ml.feature import QuantileDiscretizer\n",
    "\n",
    "vars_analysis = \"diff_rgus_n_n2:5,num_calls_w2:5,nb_started_orders_last30:0\"\n",
    "#vars_analysis = \"mean_price_rgu:2,tgs_days_until_fecha_fin_dto:4,inc_Bill_N1_N4_Amount_To_Pay:3,nb_started_orders_last30:3\"\n",
    "#vars_analysis = \"num_calls_w2:3,diff_rgus_n_n2:3,nb_started_orders_last30:3\"\n",
    "#vars_analysis = \"nb_rgus:5,num_calls_w2:5,nb_started_orders_last30:0\"\n",
    "\n",
    "# var1:5,var2:3,var3:4\n",
    "vars_analysis = vars_analysis.split(\",\")\n",
    "\n",
    "print(vars_analysis)\n",
    "\n",
    "var_dict = {vv.split(\":\")[0]:[vv.split(\":\")[0] + \"_disc\", int(vv.split(\":\")[1])] for vv in vars_analysis}\n",
    "\n",
    "#df_tar = df_tar.where(col(\"segment_nif\").isin([\"Convergent\"]))\n",
    "\n",
    "\n",
    "import pprint\n",
    "pprint.pprint(var_dict)\n",
    "\n",
    "for var, cc in var_dict.items(): # cc = [\"name of the discretized variable\", num_buckets]\n",
    "    if var == cc[0]:\n",
    "        print(\"discrete variable must be different to actual column\")\n",
    "        sys.exit()\n",
    "    if cc[0] and cc[0] in df_tar.columns:\n",
    "        print(\"dropping {}\".format(cc[0]))\n",
    "        df_tar = df_tar.drop(cc[0])\n",
    "\n",
    "splits_dict = {}\n",
    "for var, cc in var_dict.items():\n",
    "    if not var: continue\n",
    "    if var == \"nb_started_orders_last30\":\n",
    "         df_tar = df_tar.withColumn(\"nb_started_orders_last30_disc\", when(col(\"nb_started_orders_last30\") == 0, \"orders=0\").otherwise(\"orders>0\"))\n",
    "    elif var == \"inc_billing_noinc_rgus\":\n",
    "        df_tar = df_tar.withColumn(\"inc_billing_noinc_rgus_disc\", when(col(\"inc_billing_noinc_rgus\") == 0, \"inc_billing_noinc_rgus=0\").when(col(\"inc_billing_noinc_rgus\") == 1, \"inc_billing_noinc_rgus==1\"))\n",
    "    elif var == \"inc_billing_noinc_rgus\":\n",
    "        df_tar = df_tar.withColumn(\"inc_billing_noinc_rgus_disc\", when(col(\"inc_billing_noinc_rgus\") == 0, \"inc_billing_noinc_rgus=0\").when(col(\"inc_billing_noinc_rgus\") == 1, \"inc_billing_noinc_rgus==1\"))\n",
    "    elif var == \"num_calls_w2\":\n",
    "        df_tar = df_tar.withColumn(\"num_calls_w2_disc\", when(col(\"num_calls_w2\") == 0, \"num_calls_w2=0\").otherwise(\"num_calls_w2>0\"))\n",
    "#     elif var == \"num_calls_w4\":\n",
    "#         df_tar = df_tar.withColumn(\"num_calls_w4_disc\", when(col(\"num_calls_w4\") == 0, \"num_calls_w4=0\").when(col(\"num_calls_w4\") == 1, \"num_calls_w4==1\").otherwise(\"num_calls_w4>1\"))\n",
    "        \n",
    "    elif var == \"num_calls_w4\":\n",
    "        df_tar = df_tar.withColumn(\"num_calls_w4_disc\", when(col(\"num_calls_w4\") == 0, \"num_calls_w4=0\").otherwise(\"num_calls_w4>0\"))#.when(col(\"num_calls_w4\") == 1, \"num_calls_w4==1\").otherwise(\"num_calls_w4>1\"))\n",
    "    elif var == \"grado_blindaje\":\n",
    "        df_tar = df_tar.withColumn(\"grado_blindaje_disc\", col(\"grado_blindaje\"))\n",
    "    elif var == \"segment_nif\":\n",
    "        df_tar = df_tar.withColumn(\"segment_nif_disc\", col(\"segment_nif\"))\n",
    "    else:\n",
    "        for ii in [0, 1]:\n",
    "            print(var, cc[0])\n",
    "            discretizer = QuantileDiscretizer(numBuckets=cc[1], inputCol=var, outputCol=cc[0], relativeError=0)\n",
    "            bucketizer = discretizer.fit(df_tar)\n",
    "            df_tar = bucketizer.transform(df_tar)\n",
    "            splits_dict[cc[0]] = bucketizer.getSplits()\n",
    "            print(bucketizer.getSplits())\n",
    "            num_buckets = len(bucketizer.getSplits()) - 1\n",
    "            print(\"Intento {} ** Bucketizer of variable {} returned {} buckets - requested {}\".format(ii, var, num_buckets, cc[1]))\n",
    "            break\n",
    "            # if num_buckets < cc[1]:\n",
    "            #     print(\"Requested {} buckets. Returned {} buckets\".format(cc[1], num_buckets))\n",
    "            #     df_tar = df_tar.drop(cc[0])\n",
    "            #     #df_tar = df_tar.withColumn(var, col(var) + lit(0.000001) * randn())\n",
    "            # else:\n",
    "            #     break\n",
    "    \n",
    "    \n",
    "import pprint\n",
    "pprint.pprint(splits_dict)\n",
    "\n",
    "refprevalence = df_tar.select(label_col).rdd.map(lambda r: r[label_col]).mean()\n",
    "refprevalence_all = df_tar_all.select(label_col).rdd.map(lambda r: r[label_col]).mean()"
   ]
  },
  {
   "cell_type": "code",
   "execution_count": null,
   "metadata": {},
   "outputs": [],
   "source": [
    "refprevalence"
   ]
  },
  {
   "cell_type": "code",
   "execution_count": null,
   "metadata": {},
   "outputs": [],
   "source": [
    "mysplit"
   ]
  },
  {
   "cell_type": "code",
   "execution_count": null,
   "metadata": {},
   "outputs": [],
   "source": [
    "cc = [\"num_calls_w2_disc\", None]\n",
    "\n",
    "df_tar2= df_tar\n",
    "df_tar2 = df_tar2.withColumn(\"prueba\", col(cc[0]))\n",
    "mysplit = splits_dict[cc[0]]\n",
    "labels_dict = {ii:\"[{},{})\".format(mysplit[ii],mysplit[ii+1]) for ii in range(0, len(mysplit)-1)}\n",
    "for num,label in labels_dict.items():\n",
    "    df_tar2 = df_tar2.withColumn(\"prueba\", when(col(\"prueba\")==num, labels_dict[num]).otherwise(col(\"prueba\")))\n",
    "\n",
    "df_tar2.where(col(\"num_calls_w2\")==0).select(\"num_calls_w2\", \"prueba\").distinct().show()"
   ]
  },
  {
   "cell_type": "code",
   "execution_count": null,
   "metadata": {},
   "outputs": [],
   "source": [
    "df_tar.select(\"num_calls_w2_disc\").distinct().show()"
   ]
  },
  {
   "cell_type": "code",
   "execution_count": null,
   "metadata": {},
   "outputs": [],
   "source": [
    "df_tar.select(\"segment_nif\").distinct().show()"
   ]
  },
  {
   "cell_type": "markdown",
   "metadata": {},
   "source": [
    "## All variables"
   ]
  },
  {
   "cell_type": "code",
   "execution_count": null,
   "metadata": {},
   "outputs": [],
   "source": [
    "myvars = [cc[0] for vv, cc in var_dict.items() if cc[0]]\n",
    "\n",
    "df_GG = df_tar.select(*myvars + [\"label\"]).groupBy(*myvars).agg(sql_sum(\"label\").alias(\"num_churners\"),  sql_count(\"label\").alias(\"num_msisdn\")).withColumn(\"churn_rate\", col(\"num_churners\")/col(\"num_msisdn\"))\n",
    "\n",
    "for var,cc in var_dict.items():\n",
    "    if not var or not cc[0] in splits_dict.keys(): continue\n",
    "    mysplit = splits_dict[cc[0]]\n",
    "    labels_dict = {ii:\"[{},{})\".format(mysplit[ii],mysplit[ii+1]) for ii in range(0, len(mysplit)-1)}\n",
    "    for num,label in labels_dict.items():\n",
    "        df_GG = df_GG.withColumn(cc[0], when(col(cc[0])==num, labels_dict[num]).otherwise(col(cc[0])))\n",
    "                                                       \n",
    "df_GG = df_GG.withColumn(\"LIFT\", col(\"churn_rate\")/lit(refprevalence))\n",
    "df_GG = df_GG.withColumn(\"LIFT_ALL\", col(\"churn_rate\")/lit(refprevalence_all)) \n",
    "df_GG = df_GG.sort(desc(\"LIFT\"))\n",
    "df_GG.show(100,truncate=False)"
   ]
  },
  {
   "cell_type": "markdown",
   "metadata": {},
   "source": [
    "## 1 variable"
   ]
  },
  {
   "cell_type": "code",
   "execution_count": null,
   "metadata": {},
   "outputs": [],
   "source": [
    "for i in range(0, len(myvars)):\n",
    "\n",
    "    df_GG_simple = df_tar.select(*[myvars[i]] + [\"label\"]).groupBy(myvars[i]).agg(sql_sum(\"label\").alias(\"num_churners\"),  sql_count(\"label\").alias(\"num_msisdn\")).withColumn(\"churn_rate\", col(\"num_churners\")/col(\"num_msisdn\"))\n",
    "\n",
    "    for var,cc in var_dict.items():\n",
    "        if not var or not cc[0] in splits_dict.keys() or not cc[0] in df_GG_simple.columns: continue\n",
    "        mysplit = splits_dict[cc[0]]\n",
    "        labels_dict = {ii:\"[{},{})\".format(mysplit[ii],mysplit[ii+1]) for ii in range(0, len(mysplit)-1)}\n",
    "        for num,label in labels_dict.items():\n",
    "            df_GG_simple = df_GG_simple.withColumn(cc[0], when(col(cc[0])==num, labels_dict[num]).otherwise(col(cc[0])))\n",
    "\n",
    "\n",
    "    df_GG_simple = df_GG_simple.withColumn(\"LIFT\", col(\"churn_rate\")/lit(refprevalence))\n",
    "    df_GG_simple = df_GG_simple.withColumn(\"LIFT_ALL\", col(\"churn_rate\")/lit(refprevalence_all)) \n",
    "    df_GG_simple = df_GG_simple.sort(desc(\"LIFT\"))\n",
    "    df_GG_simple.show(100,truncate=False)"
   ]
  },
  {
   "cell_type": "markdown",
   "metadata": {},
   "source": [
    "## 2 variables"
   ]
  },
  {
   "cell_type": "code",
   "execution_count": null,
   "metadata": {},
   "outputs": [],
   "source": [
    "for i in range(0, len(myvars)):\n",
    "    for j in range(0, len(myvars)):\n",
    "        if i == j or i>j: continue\n",
    "\n",
    "        df_GG_simple_2 = df_tar.select(*[myvars[i], myvars[j]] + [\"label\"]).groupBy(myvars[i],myvars[j]).agg(sql_sum(\"label\").alias(\"num_churners\"),  sql_count(\"label\").alias(\"num_msisdn\")).withColumn(\"churn_rate\", col(\"num_churners\")/col(\"num_msisdn\"))\n",
    "\n",
    "        for var,cc in var_dict.items():\n",
    "            if not var or not cc[0] in splits_dict.keys() or not cc[0] in df_GG_simple_2.columns: continue\n",
    "            mysplit = splits_dict[cc[0]]\n",
    "            labels_dict = {ii:\"[{},{})\".format(mysplit[ii],mysplit[ii+1]) for ii in range(0, len(mysplit)-1)}\n",
    "            for num,label in labels_dict.items():\n",
    "                df_GG_simple_2 = df_GG_simple_2.withColumn(cc[0], when(col(cc[0])==num, labels_dict[num]).otherwise(col(cc[0])))\n",
    "                \n",
    "        df_GG_simple_2 = df_GG_simple_2.withColumn(\"LIFT\", col(\"churn_rate\")/lit(refprevalence))\n",
    "        df_GG_simple_2 = df_GG_simple_2.withColumn(\"LIFT_ALL\", col(\"churn_rate\")/lit(refprevalence_all)) \n",
    "        df_GG_simple_2 = df_GG_simple_2.sort(desc(\"LIFT\"))\n",
    "        df_GG_simple_2.show(5,truncate=False)"
   ]
  },
  {
   "cell_type": "markdown",
   "metadata": {},
   "source": [
    "### 3 variables"
   ]
  },
  {
   "cell_type": "code",
   "execution_count": null,
   "metadata": {},
   "outputs": [],
   "source": [
    "for i in range(0, len(myvars)):\n",
    "    for j in range(0, len(myvars)):\n",
    "        for k in range(0, len(myvars)):\n",
    "            if i == j or i == k or j==k or i<j or j<k: continue\n",
    "            \n",
    "            df_GG_simple_3 = df_tar.select(*[myvars[i], myvars[j], myvars[k]] + [\"label\"]).groupBy(myvars[i],myvars[j], myvars[k]).agg(sql_sum(\"label\").alias(\"num_churners\"),  sql_count(\"label\").alias(\"num_msisdn\")).withColumn(\"churn_rate\", col(\"num_churners\")/col(\"num_msisdn\"))\n",
    "            for var,cc in var_dict.items():\n",
    "                if not var or not cc[0] in splits_dict.keys() or not cc[0] in df_GG_simple_3.columns: continue\n",
    "                mysplit = splits_dict[cc[0]]\n",
    "                labels_dict = {ii:\"[{},{})\".format(mysplit[ii],mysplit[ii+1]) for ii in range(0, len(mysplit)-1)}\n",
    "                for num,label in labels_dict.items():\n",
    "                    df_GG_simple_3 = df_GG_simple_3.withColumn(cc[0], when(col(cc[0])==num, labels_dict[num]).otherwise(col(cc[0])))\n",
    "\n",
    "\n",
    "            df_GG_simple_3 = df_GG_simple_3.withColumn(\"LIFT\", col(\"churn_rate\")/lit(refprevalence))\n",
    "            df_GG_simple_3 = df_GG_simple_3.withColumn(\"LIFT_ALL\", col(\"churn_rate\")/lit(refprevalence_all)) \n",
    "            df_GG_simple_3 = df_GG_simple_3.sort(desc(\"LIFT\"))\n",
    "            df_GG_simple_3.show(5,truncate=False)"
   ]
  },
  {
   "cell_type": "code",
   "execution_count": null,
   "metadata": {},
   "outputs": [],
   "source": [
    "### 4 variables"
   ]
  },
  {
   "cell_type": "code",
   "execution_count": null,
   "metadata": {},
   "outputs": [],
   "source": [
    "for i in range(0, len(myvars)):\n",
    "    for j in range(0, len(myvars)):\n",
    "        for k in range(0, len(myvars)):\n",
    "            for z in range(0, len(myvars)):\n",
    "                if i == j or i == k or j==k or k==z or i==z or i<j or j<k or k<z: continue\n",
    "\n",
    "                df_GG_simple_4 = df_tar.select(*[myvars[i], myvars[j], myvars[k], myvars[z]] + [\"label\"]).groupBy(myvars[i],myvars[j], myvars[k], myvars[z]).agg(sql_sum(\"label\").alias(\"num_churners\"),  sql_count(\"label\").alias(\"num_msisdn\")).withColumn(\"churn_rate\", col(\"num_churners\")/col(\"num_msisdn\"))\n",
    "                for var,cc in var_dict.items():\n",
    "                    if not var or not cc[0] in splits_dict.keys() or not cc[0] in df_GG_simple_4.columns: continue\n",
    "                    mysplit = splits_dict[cc[0]]\n",
    "                    labels_dict = {ii:\"[{},{})\".format(mysplit[ii],mysplit[ii+1]) for ii in range(0, len(mysplit)-1)}\n",
    "                    for num,label in labels_dict.items():\n",
    "                        df_GG_simple_4 = df_GG_simple_4.withColumn(cc[0], when(col(cc[0])==num, labels_dict[num]).otherwise(col(cc[0])))\n",
    "\n",
    "\n",
    "                df_GG_simple_4 = df_GG_simple_4.withColumn(\"LIFT\", col(\"churn_rate\")/lit(refprevalence))\n",
    "                df_GG_simple_4 = df_GG_simple_4.withColumn(\"LIFT_ALL\", col(\"churn_rate\")/lit(refprevalence_all)) \n",
    "                df_GG_simple_4 = df_GG_simple_4.sort(desc(\"LIFT\"))\n",
    "                df_GG_simple_4.show(5,truncate=False)"
   ]
  },
  {
   "cell_type": "markdown",
   "metadata": {},
   "source": [
    "# k-Means Segmentation"
   ]
  },
  {
   "cell_type": "markdown",
   "metadata": {},
   "source": [
    "https://rsandstroem.github.io/sparkkmeans.html"
   ]
  },
  {
   "cell_type": "code",
   "execution_count": null,
   "metadata": {},
   "outputs": [],
   "source": [
    "from pyspark.ml.clustering import KMeans\n",
    "\n",
    "clust_feats = [\"device_days_since_device_n1_change_date\", \"ccc_num_interactions\", \"total_data_volume\", \"total_mou\"]\n",
    "\n",
    "\n",
    "\n",
    "vecAssembler = VectorAssembler(inputCols=clust_feats, outputCol=\"features\")\n",
    "df_kmeans = vecAssembler.transform(df_tr).select('msisdn', 'features')\n",
    "\n",
    "\n",
    "#----\n",
    "\n",
    "N = 7\n",
    "\n",
    "cost = np.zeros(N)\n",
    "for k in range(2,N):\n",
    "    kmeans = KMeans().setK(k).setFeaturesCol(\"features\")\n",
    "    model = kmeans.fit(df_kmeans) #.sample(False,0.1, seed=42))\n",
    "    cost[k] = model.computeCost(df_kmeans) # requires Spark 2.0 or later\n",
    "\n",
    "#In [14]:\n",
    "\n",
    "fig, ax = plt.subplots(1,1, figsize =(8,6))\n",
    "ax.plot(range(2,N),cost[2:N])\n",
    "ax.set_xlabel('k')\n",
    "ax.set_ylabel('cost')\n",
    "\n",
    "#----\n",
    "\n",
    "k = 3 # nb of clusters\n",
    "kmeans = KMeans().setK(k).setSeed(1).setFeaturesCol(\"features\")\n",
    "kmeans_model = kmeans.fit(df_kmeans)\n",
    "centers = kmeans_model.clusterCenters()\n",
    "\n",
    "print(\"Cluster Centers: \")\n",
    "for center in centers:\n",
    "    print(center)\n",
    "    \n",
    "#----\n",
    "\n",
    "transformed = kmeans_model.transform(df_kmeans)\n",
    "df_pred =  transformed.select('msisdn', 'prediction')\n",
    "# rows = transformed.collect()\n",
    "# print(rows[:3])\n",
    "\n",
    "#---\n",
    "\n",
    "# df_pred = spark.createDataFrame(rows)\n",
    "# df_pred.head()\n",
    "\n",
    "#---\n",
    "\n",
    "\n",
    "#Join the prediction with the original data\n",
    "\n",
    "#The x, y, z from the original dataframe can be added to the newly created dataframe by joining the two dataframes on the 'id' column.\n",
    "# \"prediction\" is the cluster number\n",
    "\n",
    "df_pred = df_pred.join(df_tr, 'msisdn')\n",
    "#df_pred.show()\n",
    "\n",
    "#----\n",
    "# !!!!!!!!!!!!!!!!!\n",
    "\n",
    "pddf_pred = df_pred.toPandas().set_index('msisdn')\n",
    "pddf_pred.head()\n",
    "\n",
    "#-----\n",
    "\n",
    "\n",
    "\n"
   ]
  },
  {
   "cell_type": "code",
   "execution_count": null,
   "metadata": {},
   "outputs": [],
   "source": [
    "from mpl_toolkits.mplot3d import Axes3D\n",
    "\n",
    "\n",
    "fig_size = [20,9]\n",
    "plt.rcParams[\"figure.figsize\"] = fig_size\n",
    "clusters_colors=[\"red\", \"yellow\", \"blue\", \"green\"]\n",
    "clusters_markers=[\"o\", \"^\", \"x\", \".\"]\n",
    "N_CLUSTERS = 3\n",
    "features = clust_feats\n",
    "for f1 in range(0,len(features)):\n",
    "    for f2 in range(0,len(features)):\n",
    "        for f3 in range(0,len(features)):\n",
    "            if f1==f2 or f2==f3 or f1==f3:\n",
    "                continue\n",
    "            print(f1,f2,f3,features[f1],features[f2],features[f3])\n",
    "            fig = plt.figure()\n",
    "            ax_all = Axes3D(fig)\n",
    "            \n",
    "\n",
    "            for i, c in enumerate(centers):\n",
    "                print(c[f1], c[f2], c[f3], '$%d$' % i)\n",
    "                \n",
    "                #Draw white circles at cluster centers\n",
    "                _ = ax_all.scatter3D(c[f1], c[f2], c[f3], marker='o', c=\"white\", alpha=1, s=400, edgecolor='k')\n",
    "                _ = ax_all.scatter3D(c[f1], c[f2], c[f3], marker='$%d$' % i, alpha=1, s=250, edgecolor='k')\n",
    "             \n",
    "                data_cluster = pddf_pred[pddf_pred[\"prediction\"] == i]\n",
    "                _ = ax_all.scatter3D(data_cluster[clust_feats[f1]], data_cluster[clust_feats[f2]], data_cluster[clust_feats[f3]], alpha=0.8, c=clusters_colors[i], marker=clusters_markers[i], edgecolor='k', s=100)\n",
    "\n",
    "\n",
    "            _ = ax_all.set_xlabel(features[f1]);\n",
    "            _ = ax_all.set_ylabel(features[f2]);\n",
    "            _ = ax_all.set_zlabel(features[f3]);\n",
    "\n",
    "            plt.show()\n",
    "            break\n",
    "        break\n",
    "    \n"
   ]
  },
  {
   "cell_type": "code",
   "execution_count": null,
   "metadata": {},
   "outputs": [],
   "source": [
    "pddf_pred.groupby(\"prediction\")[\"NUM_CLIENTE\"].count()\n",
    "#pddf_pred[pddf_pred[\"prediction\"]==1] "
   ]
  },
  {
   "cell_type": "markdown",
   "metadata": {},
   "source": [
    "# Trigger de ordenes"
   ]
  },
  {
   "cell_type": "markdown",
   "metadata": {},
   "source": [
    "## INCREMENTAL"
   ]
  },
  {
   "cell_type": "code",
   "execution_count": null,
   "metadata": {},
   "outputs": [],
   "source": [
    "from churn.analysis.triggers.run_segment_orders import get_car\n",
    "for couple in [   (\"20190414\", \"20190421\"), (\"20190521\", \"20190531\"),  (\"20190531\", \"20190607\")]:\n",
    "    print(\"-----------\", couple)\n",
    "    df_A, _, _ = get_car(spark, couple[0], labeled_mini_ids=True)\n",
    "    df_B, _, _ = get_car(spark, couple[1], labeled_mini_ids=True)\n",
    "    df_C = df_A.select(\"nif_cliente\").join(df_B.select(\"nif_cliente\"), ['nif_cliente'], 'right').where(df_A['nif_cliente'].isNull())\n",
    "    print(\"RESUMEN\", couple[0], couple[1], df_C.count())\n",
    "    \n",
    "    \n"
   ]
  },
  {
   "cell_type": "code",
   "execution_count": null,
   "metadata": {},
   "outputs": [],
   "source": [
    "spark.read.load(\"/data/attributes/vf_es/trigger_analysis/mini_ids/\").groupBy(\"year\", \"month\", \"day\").agg(sql_count(\"*\").alias(\"count\")).sort(asc(\"year\"), asc(\"month\"), asc(\"day\")).show()"
   ]
  },
  {
   "cell_type": "code",
   "execution_count": null,
   "metadata": {},
   "outputs": [],
   "source": []
  },
  {
   "cell_type": "code",
   "execution_count": null,
   "metadata": {},
   "outputs": [],
   "source": [
    "from churn.analysis.triggers.customer_master import get_segment, get_segment_anyday, get_target\n",
    "\n",
    "\n",
    "closing_day = \"20190630\"\n",
    "\n",
    "df_seg.columns\n"
   ]
  },
  {
   "cell_type": "code",
   "execution_count": null,
   "metadata": {},
   "outputs": [],
   "source": [
    "1+2"
   ]
  },
  {
   "cell_type": "code",
   "execution_count": 20,
   "metadata": {},
   "outputs": [
    {
     "name": "stdout",
     "output_type": "stream",
     "text": [
      "Comparison of bases will be done with 20190414 and 20190514\n",
      "[Info getFixPortRequestsForMonth] Wed Jul 17 10:32:35 2019 Port-out requests for fixed services during period 20190414-20190514: 43573\n",
      "[getFbbDxsForCycleList_anyday] setting desconexion date to 20190429\n"
     ]
    }
   ],
   "source": [
    "from churn.analysis.triggers.customer_master import getFbbDxsForCycleList_anyday,get_segment_msisdn_anyday\n",
    "from pykhaos.utils.date_functions import move_date_n_cycles,move_date_n_days\n",
    "from pyspark.sql.functions import from_unixtime,unix_timestamp\n",
    "\n",
    "closing_day = \"20190414\"\n",
    "\n",
    "start_port = closing_day\n",
    "end_port = move_date_n_cycles(closing_day, n=4)\n",
    "\n",
    "import datetime as dt\n",
    "from pykhaos.utils.date_functions import move_date_n_cycles,move_date_n_days\n",
    "\n",
    "start_port = closing_day\n",
    "end_port = move_date_n_cycles(closing_day, n=4)\n",
    "\n",
    "import datetime as dt\n",
    "today_str = dt.datetime.today().strftime(\"%Y%m%d\")\n",
    "closing_day_2 = end_port\n",
    "\n",
    "while closing_day_2 > move_date_n_days(today_str, n=-7):\n",
    "    print(\"closing_day_2={} > {}\".format(closing_day_2, move_date_n_days(today_str, n=-7)))\n",
    "    closing_day_2 = move_date_n_cycles(closing_day_2, n=-1)\n",
    "\n",
    "print(\"Comparison of bases will be done with {} and {}\".format(closing_day, closing_day_2))\n",
    "\n",
    "from churn.models.fbb_churn_amdocs.utils_fbb_churn import getFixPortRequestsForCycleList\n",
    "#- Solicitudes de baja de fijo\n",
    "df_sopo_fix = (getFixPortRequestsForCycleList(spark, closing_day, end_port)\\\n",
    "               .withColumn(\"date_srv\", from_unixtime(unix_timestamp(col(\"FECHA_INSERCION_SGP\")), \"yyyyMMdd\")))\n",
    "\n",
    "#- Porque dejen de estar en la lista de clientes\n",
    "df_baja_fix = getFbbDxsForCycleList_anyday(spark,closing_day, closing_day_2)\n",
    "\n",
    "# mobile portout\n",
    "window_mobile = Window.partitionBy(\"msisdn_a\").orderBy(desc(\"days_from_portout\"))  # keep the 1st portout\n",
    "\n",
    "from churn.utils.udf_manager import Funct_to_UDF\n",
    "\n",
    "start_date_obj = Funct_to_UDF.convert_to_date(start_port)\n",
    "end_date_obj = Funct_to_UDF.convert_to_date(end_port)\n",
    "\n",
    "convert_to_date_udf = udf(Funct_to_UDF.convert_to_date, StringType())\n",
    "\n",
    "from churn.utils.constants import PORT_TABLE_NAME\n",
    "\n",
    "df_sol_port = (spark.read.table(PORT_TABLE_NAME)\n",
    "               .where((col(\"sopo_ds_fecha_solicitud\") >= start_date_obj) & (col(\"sopo_ds_fecha_solicitud\") <= end_date_obj))\n",
    "               .withColumnRenamed(\"SOPO_DS_MSISDN1\", \"msisdn_a\")\n",
    "               .withColumnRenamed(\"SOPO_DS_FECHA_SOLICITUD\", \"portout_date\")\n",
    "               .withColumn(\"portout_date\", substring(col(\"portout_date\"), 0, 10))\n",
    "               .withColumn(\"portout_date\", convert_to_date_udf(col(\"portout_date\")))\n",
    "               .withColumn(\"ref_date\", convert_to_date_udf(concat(lit(closing_day[:4]), lit(closing_day[4:6]), lit(closing_day[6:]))))\n",
    "               .withColumn(\"days_from_portout\", datediff(col(\"ref_date\"), col(\"portout_date\")).cast(\"int\"))\n",
    "               .withColumn(\"rank\", row_number().over(window_mobile))\n",
    "               .where(col(\"rank\") == 1))\n",
    "\n",
    "df_sol_port = df_sol_port.withColumn(\"label_mob\", lit(1.0))\\\n",
    "                         .withColumnRenamed(\"msisdn_a\", \"msisdn\")\\\n",
    "                         .withColumn(\"date_mob\", from_unixtime(unix_timestamp(col(\"portout_date\")), \"yyyyMMdd\")).select(\"msisdn\", \"label_mob\", \"date_mob\")\n",
    "\n",
    "df_services = get_segment_msisdn_anyday(spark, anyday=closing_day).withColumnRenamed(\"campo2\", \"msisdn_d\")\n",
    "\n",
    "# 1 if any of the services of this nif is 1 \n",
    "window_nif = Window.partitionBy(\"nif_cliente\")\n",
    "\n",
    "\n",
    "\n",
    "#df_target_nifs = df_target_nifs.select(\"nif_cliente\", \"label\").drop_duplicates()\n",
    "\n",
    "#df_target_nifs.show()"
   ]
  },
  {
   "cell_type": "code",
   "execution_count": 47,
   "metadata": {},
   "outputs": [
    {
     "data": {
      "text/plain": [
       "'None'"
      ]
     },
     "execution_count": 47,
     "metadata": {},
     "output_type": "execute_result"
    }
   ],
   "source": [
    "dates = [  None, None, None]\n",
    "reasons = ['mob', 'fix', 'fbb']\n",
    "dates = sorted([(vv, idx) for idx, vv in enumerate(dates) if vv!=None], key=lambda tup: tup[0], reverse=False)\n",
    "reasons[dates[0][1]] if dates else \"None\""
   ]
  },
  {
   "cell_type": "code",
   "execution_count": 51,
   "metadata": {},
   "outputs": [],
   "source": [
    "from pyspark.sql.functions import least\n",
    "\n",
    "def get_churn_reason(dates):\n",
    "\n",
    "    reasons = ['mob', 'fix', 'fbb']\n",
    "    dates = sorted([(vv, idx) for idx, vv in enumerate(dates) if vv!=None], key=lambda tup: tup[0], reverse=False)\n",
    "    return reasons[dates[0][1]] if dates else \"None\"\n",
    "    \n",
    "\n",
    "\n",
    "get_churn_reason_udf = udf(lambda z: get_churn_reason(z), StringType())\n",
    "\n",
    "\n",
    "df_target_nifs = (df_services.join(df_sopo_fix, ['msisdn_d'], \"left\")\n",
    "                    .na.fill({'label_srv': 0.0})\n",
    "                    .join(df_baja_fix, ['msisdn'], \"left\")\n",
    "                    .na.fill({'label_dx': 0.0})\n",
    "                    .join(df_sol_port, ['msisdn'], \"left\")\n",
    "                    .na.fill({'label_mob': 0.0})\n",
    "                    .withColumn('tmp', when(    (col('label_srv')==1.0) | (col('label_dx')==1.0) | (col('label_mob')==1.0), 1.0).otherwise(0.0))\n",
    "                    .withColumn(\"super_min_date_mob\", sql_min(\"date_mob\").over(window_nif))\n",
    "                    .withColumn(\"super_min_date_fix\", sql_min(\"date_srv\").over(window_nif))\n",
    "                    .withColumn(\"super_min_date_dx\", sql_min(\"date_dx\").over(window_nif))\n",
    "                    .withColumn(\"dates_array\", array([\"super_min_date_mob\", \"super_min_date_fix\", \"super_min_date_dx\"]))                 \n",
    "                                                      \n",
    "                    .withColumn('tmp', when(    (col('label_srv')==1.0) | (col('label_dx')==1.0) | (col('label_mob')==1.0), 1.0).otherwise(0.0))                 \n",
    "                    .withColumn('label', sql_max('tmp').over(window_nif))\n",
    "                    .withColumn(\"churn_date\", least(col(\"super_min_date_mob\"), col(\"super_min_date_fix\"), col(\"super_min_date_dx\"))) \n",
    "                    .withColumn('reason', get_churn_reason_udf(col('dates_array')))                \n",
    "                    .drop(\"tmp\", \"tmp_date0\")\n",
    "                 )\n",
    "\n",
    "\n",
    "# days_until_churn: days since closing_day to churn_event (first churn event)\n",
    "df_target_nifs = (df_target_nifs.withColumn(\"days_until_churn\", when(col(\"churn_date\").isNotNull(), datediff(from_unixtime(unix_timestamp(col(\"churn_date\"), \"yyyyMMdd\")),\n",
    "                                                                                                             from_unixtime(unix_timestamp(lit(closing_day), \"yyyyMMdd\")))).otherwise(-1)))\n",
    "\n"
   ]
  },
  {
   "cell_type": "code",
   "execution_count": 52,
   "metadata": {},
   "outputs": [
    {
     "name": "stdout",
     "output_type": "stream",
     "text": [
      "+---------------+-----------+--------+--------+--------+---------+----------+------------+------+\n",
      "|         msisdn|nif_cliente|date_srv| date_dx|date_mob|tmp_date0|churn_date|churn_date_2|reason|\n",
      "+---------------+-----------+--------+--------+--------+---------+----------+------------+------+\n",
      "|      674272861|  y7934311n|    null|    null|20190422| 20190422|  20190422|    20190422|   mob|\n",
      "|      644359333|  fks797052|    null|    null|20190503| 20190503|  20190503|    20190503|   mob|\n",
      "|   O29077AHP400|  ZTN946260|    null|20190429|    null| 20190429|  20190429|    20190429|   fbb|\n",
      "|      989262478|  ZTN946260|    null|    null|    null|     null|  20190429|    20190429|   fbb|\n",
      "|      631670972|  ZTN946260|    null|    null|    null|     null|  20190429|    20190429|   fbb|\n",
      "|   617450425333|  ZTN946260|    null|    null|    null|     null|  20190429|    20190429|   fbb|\n",
      "|      993338367|  Z9986797N|    null|    null|    null|     null|  20190429|    20190429|   fbb|\n",
      "|      678760934|  Z9986797N|    null|    null|    null|     null|  20190429|    20190429|   fbb|\n",
      "|      629769480|  Z9986797N|    null|    null|    null|     null|  20190429|    20190429|   fbb|\n",
      "|      625331611|  Z9986797N|    null|    null|    null|     null|  20190429|    20190429|   fbb|\n",
      "|      609537792|  Z9986797N|    null|    null|    null|     null|  20190429|    20190429|   fbb|\n",
      "|   327040835778|  Z9986797N|    null|20190429|    null| 20190429|  20190429|    20190429|   fbb|\n",
      "|      694178393|  Z9983589R|    null|    null|20190424| 20190424|  20190424|    20190424|   mob|\n",
      "|      664315697|  Z9983589R|    null|    null|    null|     null|  20190424|    20190424|   mob|\n",
      "|   J08086RNF760|  Z9906073W|    null|    null|    null|     null|  20190502|    20190502|   mob|\n",
      "|B420004843228L7|  Z9906073W|    null|    null|    null|     null|  20190502|    20190502|   mob|\n",
      "|      916021062|  Z9906073W|    null|    null|    null|     null|  20190502|    20190502|   mob|\n",
      "|      673110159|  Z9906073W|    null|    null|20190502| 20190502|  20190502|    20190502|   mob|\n",
      "|      933466399|  Z9895716J|    null|    null|    null|     null|  20190429|    20190429|   fbb|\n",
      "|   831059824863|  Z9895716J|    null|20190429|    null| 20190429|  20190429|    20190429|   fbb|\n",
      "|      671628047|  Z9895716J|    null|    null|20190513| 20190513|  20190429|    20190429|   fbb|\n",
      "|      647097402|  Z9895716J|    null|    null|20190513| 20190513|  20190429|    20190429|   fbb|\n",
      "|      608308753|  Z9828389X|    null|    null|20190430| 20190430|  20190430|    20190430|   mob|\n",
      "|      640152306|  Z9823789H|    null|    null|20190429| 20190429|  20190429|    20190429|   mob|\n",
      "|      635195641|  Z9823789H|    null|    null|    null|     null|  20190429|    20190429|   mob|\n",
      "|   V17091AIC576|  Z9767622A|    null|    null|    null|     null|  20190417|    20190417|   mob|\n",
      "|      941734117|  Z9767622A|    null|    null|    null|     null|  20190417|    20190417|   mob|\n",
      "|      693726745|  Z9767622A|    null|    null|    null|     null|  20190417|    20190417|   mob|\n",
      "|      667786017|  Z9767622A|    null|    null|20190417| 20190417|  20190417|    20190417|   mob|\n",
      "|      660344165|  Z9767622A|    null|    null|    null|     null|  20190417|    20190417|   mob|\n",
      "+---------------+-----------+--------+--------+--------+---------+----------+------------+------+\n",
      "only showing top 30 rows\n",
      "\n"
     ]
    }
   ],
   "source": [
    "df_target_nifs.where(col(\"label\")==1.0).sort(desc(\"nif_cliente\"), desc(\"msisdn\")).select(\"msisdn\", \"nif_cliente\", \n",
    "                                                                                         \"date_srv\", \"date_dx\", \"date_mob\", \n",
    "                                                                                         \"churn_date\", \"reason\").show(30)"
   ]
  },
  {
   "cell_type": "code",
   "execution_count": 53,
   "metadata": {},
   "outputs": [],
   "source": [
    "df_target_nifs = df_target_nifs.select(\"nif_cliente\", \"label\", \"churn_date\", \"days_until_churn\", \"reason\").drop_duplicates()\n"
   ]
  },
  {
   "cell_type": "markdown",
   "metadata": {},
   "source": [
    "# Tasa de evaporacion\n"
   ]
  },
  {
   "cell_type": "code",
   "execution_count": 48,
   "metadata": {},
   "outputs": [
    {
     "data": {
      "text/plain": [
       "18464"
      ]
     },
     "execution_count": 48,
     "metadata": {},
     "output_type": "execute_result"
    }
   ],
   "source": [
    "closing_day = \"20190414\"\n",
    "from churn.analysis.triggers.run_segment_orders import get_car\n",
    "#from churn.analysis.triggers.customer_master import get_target\n",
    "df_tar = spark.read.load(\"/user/csanc109/projects/triggers/trigger_orders_car_0/year=2019/month=4/day=14\")\n",
    "df_tar.count()"
   ]
  },
  {
   "cell_type": "code",
   "execution_count": 36,
   "metadata": {},
   "outputs": [
    {
     "name": "stdout",
     "output_type": "stream",
     "text": [
      "(3941466, 3941466, 3941466)\n"
     ]
    }
   ],
   "source": [
    "df_cust = spark.read.load(\"/data/attributes/vf_es/trigger_analysis/customer_master/year=2019/month=4/day=14\")\n",
    "df_cust.columns\n",
    "print(df_cust.count(),\n",
    "       df_cust.select(\"nif_cliente\").distinct().count(),\n",
    "       df_cust.select(\"nif_cliente\", \"label\", \"churn_date\", \"days_until_churn\", \"reason\").drop_duplicates().count())"
   ]
  },
  {
   "cell_type": "code",
   "execution_count": 44,
   "metadata": {},
   "outputs": [
    {
     "data": {
      "text/plain": [
       "['reason']"
      ]
     },
     "execution_count": 44,
     "metadata": {},
     "output_type": "execute_result"
    }
   ],
   "source": [
    "[col_ for col_ in df_tar.columns if \"reason\" in col_]"
   ]
  },
  {
   "cell_type": "code",
   "execution_count": 49,
   "metadata": {},
   "outputs": [],
   "source": [
    "# col(\"days_until_churn\") - days from closing_day to first churn event\n",
    "# col(\"first_order_last30\") - first order open within the last 30 days\n",
    "# col(\"from_1st_order_to_churn\") - days since 1st order to churn event\n",
    "df_tar_churn = df_tar.where(col(\"label\")==1.0).withColumn(\"from_1st_order_to_churn\", col(\"days_until_churn\") + col(\"first_order_last30\"))\n",
    "\n"
   ]
  },
  {
   "cell_type": "code",
   "execution_count": 50,
   "metadata": {},
   "outputs": [
    {
     "data": {
      "text/plain": [
       "3374"
      ]
     },
     "execution_count": 50,
     "metadata": {},
     "output_type": "execute_result"
    }
   ],
   "source": [
    "df_tar_churn.select(\"from_1st_order_to_churn\").rdd.flatMap(lambda x: x).count()"
   ]
  },
  {
   "cell_type": "code",
   "execution_count": 51,
   "metadata": {},
   "outputs": [
    {
     "name": "stdout",
     "output_type": "stream",
     "text": [
      "('fbb', 1079)\n",
      "('fix', 3113)\n",
      "('mob', 2556)\n"
     ]
    }
   ],
   "source": [
    "for col__ in [\"fbb\", \"fix\", \"mob\"]:\n",
    "        print(col__, df_tar_churn.where(col(\"reason\") != col__).count())"
   ]
  },
  {
   "cell_type": "code",
   "execution_count": 19,
   "metadata": {},
   "outputs": [
    {
     "data": {
      "image/png": "[encoded data removed]",
      "text/plain": [
       "<Figure size 432x288 with 1 Axes>"
      ]
     },
     "metadata": {},
     "output_type": "display_data"
    },
    {
     "data": {
      "image/png": "[encoded data removed]",
      "text/plain": [
       "<Figure size 432x288 with 1 Axes>"
      ]
     },
     "metadata": {},
     "output_type": "display_data"
    },
    {
     "data": {
      "image/png": "[encoded data removed]",
      "text/plain": [
       "<Figure size 432x288 with 1 Axes>"
      ]
     },
     "metadata": {},
     "output_type": "display_data"
    },
    {
     "data": {
      "image/png": "[encoded data removed]",
      "text/plain": [
       "<Figure size 432x288 with 1 Axes>"
      ]
     },
     "metadata": {},
     "output_type": "display_data"
    },
    {
     "data": {
      "image/png": "[encoded data removed]",
      "text/plain": [
       "<Figure size 432x288 with 1 Axes>"
      ]
     },
     "metadata": {},
     "output_type": "display_data"
    },
    {
     "data": {
      "image/png": "[encoded data removed]",
      "text/plain": [
       "<Figure size 432x288 with 1 Axes>"
      ]
     },
     "metadata": {},
     "output_type": "display_data"
    }
   ],
   "source": [
    "for col_ in [\"from_1st_order_to_churn\", \"first_order_last30\", \"days_until_churn\"]:\n",
    "    n = 25\n",
    "    \n",
    "    bins, counts = df_tar_churn.select(col_).rdd.flatMap(lambda x: x).histogram(n)\n",
    "\n",
    "    plt.figure()\n",
    "    plt.hist(bins[:-1], bins=bins, weights=counts)\n",
    "    plt.xlabel(\"** {} **\".format(col_))\n",
    "    \n",
    "    for col__ in [\"fbb\"]:\n",
    "        \n",
    "        bins, counts = df_tar_churn.where(col(\"reason\") != col__).select(col_).rdd.flatMap(lambda x: x).histogram(n)\n",
    "\n",
    "        plt.figure()\n",
    "        plt.hist(bins[:-1], bins=bins, weights=counts)\n",
    "        plt.xlabel(\"{} - without reason={}\".format(col_, col__))\n",
    "\n",
    "    \n",
    "    "
   ]
  },
  {
   "cell_type": "markdown",
   "metadata": {},
   "source": [
    "## histogram + cumsum without reason fbb"
   ]
  },
  {
   "cell_type": "code",
   "execution_count": 54,
   "metadata": {},
   "outputs": [
    {
     "data": {
      "text/plain": [
       "Text(0,0.5,'perc of churners (total churners = 1079)')"
      ]
     },
     "execution_count": 54,
     "metadata": {},
     "output_type": "execute_result"
    },
    {
     "data": {
      "image/png": "[encoded data removed]",
      "text/plain": [
       "<Figure size 432x288 with 1 Axes>"
      ]
     },
     "metadata": {},
     "output_type": "display_data"
    },
    {
     "data": {
      "image/png": "[encoded data removed]",
      "text/plain": [
       "<Figure size 432x288 with 1 Axes>"
      ]
     },
     "metadata": {},
     "output_type": "display_data"
    }
   ],
   "source": [
    "col_ = \"from_1st_order_to_churn\"\n",
    "n = 20\n",
    "col__ = \"fbb\"\n",
    "\n",
    "bins, counts = df_tar_churn.where(col(\"reason\") != col__).select(col_).rdd.flatMap(lambda x: x).histogram(n)\n",
    "\n",
    "plt.figure()\n",
    "plt.hist(bins[:-1], bins=bins, weights=counts)\n",
    "plt.xlabel(\"{} - without reason={}\".format(col_, col__))\n",
    "\n",
    "total = df_tar_churn.where(col(\"reason\") != col__).count()\n",
    "\n",
    "\n",
    "import numpy as np\n",
    "counts_cum = np.cumsum(counts)\n",
    "counts_cum = [100.0 * cc/total for cc in counts_cum]\n",
    "\n",
    "plt.figure()\n",
    "plt.hist(bins[:-1], bins=bins, weights=counts_cum)\n",
    "plt.grid(True)\n",
    "plt.yticks(list(range(10,110,10))) \n",
    "plt.xlabel(\"cumsum {} - without reason={}\".format(col_, col__))\n",
    "plt.ylabel(\"perc of churners (total churners = {})\".format(total))"
   ]
  },
  {
   "cell_type": "code",
   "execution_count": 56,
   "metadata": {},
   "outputs": [
    {
     "data": {
      "text/plain": [
       "[3.5217794253938832,\n",
       " 13.25301204819277,\n",
       " 16.589434661723818,\n",
       " 23.632993512511586,\n",
       " 33.45690454124189,\n",
       " 38.46153846153846,\n",
       " 47.54402224281743,\n",
       " 56.07043558850788,\n",
       " 60.79703429101019,\n",
       " 70.71362372567192,\n",
       " 77.57182576459685,\n",
       " 79.98146431881372,\n",
       " 85.91288229842446,\n",
       " 90.7321594068582,\n",
       " 93.41983317886933,\n",
       " 95.55143651529194,\n",
       " 97.77571825764596,\n",
       " 98.4244670991659,\n",
       " 99.16589434661724,\n",
       " 100.0]"
      ]
     },
     "execution_count": 56,
     "metadata": {},
     "output_type": "execute_result"
    }
   ],
   "source": [
    "counts_cum"
   ]
  },
  {
   "cell_type": "code",
   "execution_count": 70,
   "metadata": {},
   "outputs": [
    {
     "name": "stdout",
     "output_type": "stream",
     "text": [
      "+---------------------------+------------------+---------+\n",
      "|clase_cli_cod_clase_cliente|cod_estado_general|srv_basic|\n",
      "+---------------------------+------------------+---------+\n",
      "+---------------------------+------------------+---------+\n",
      "\n"
     ]
    }
   ],
   "source": [
    "[col_ for col_ in spark.read.load(\"/data/attributes/vf_es/trigger_analysis/orders_sla_ord_esp/year=2019/month=4/day=14\").columns if \"ord_esp\" in col_ and \"last30\" in col_]\n",
    "\n",
    "df_tar_all = spark.read.load(\"/data/attributes/vf_es/trigger_analysis/customer_master/year=2019/month=4/day=14\")\n",
    "print(df_tar_all.count(), df_tar_all.select(\"nif_cliente\").distinct().count(), df_tar_all.select(\"nif_cliente\", \"label\", \"churn_date\", \"days_until_churn\").drop_duplicates().count())\n",
    "\n",
    "\n",
    "\n",
    "spark.read.load(\"/data/attributes/vf_es/trigger_analysis/customer_master/year=2019/\").select(\"month\", \"day\").where(col(\"month\")>4).groupby(\"month\",\"day\").agg(sql_count(\"*\").alias(\"count\")).sort(desc(\"month\"), desc(\"day\")).show()\n",
    "\n",
    "\n",
    "(spark.read.load(\"/data/attributes/vf_es/trigger_analysis/customer_master_unlabeled/year=2019/month=7/day=22\").select(\"nif_cliente\").distinct().count())\n",
    "\n",
    "\n",
    "\n",
    "(spark.read.load(\"/user/csanc109/projects/triggers/trigger_orders_car_unlabeled/year=2019/\").where(col(\"segment_nif\") != \"Pure_prepaid\").where(col(\"month\")>4).groupby(\"month\",\"day\").agg(sql_count(\"*\").alias(\"count\"),\n",
    "       sql_sum(when(col(\"has_superoferta\")==0,1)).alias(\"no_superoferta\"), \n",
    "       sql_sum(when(col(\"CHURN_CANCELLATIONS_w8\")==0,1)).alias(\"no_churn_calls\"),\n",
    "       sql_sum(when(col(\"diff_rgus_n_n2\")<0,1)).alias(\"diff_rgus\"),\n",
    "       sql_sum(when(   (col(\"has_superoferta\")==0) & (col(\"CHURN_CANCELLATIONS_w8\")==0),1)).alias(\"after_filter1\"),\n",
    "       sql_sum(when(   ((col(\"has_superoferta\")==0) & (col(\"CHURN_CANCELLATIONS_w8\")==0) & (col(\"nb_started_orders_last30\") > 0)), 1)).alias(\"after_rule_part_1\"),\n",
    "       sql_sum(when(   ((col(\"has_superoferta\")==0) & (col(\"CHURN_CANCELLATIONS_w8\")==0) & (col(\"diff_rgus_n_n2\") < 0)), 1)).alias(\"after_rule_part_2\"),\n",
    "       sql_sum(when(   ((col(\"has_superoferta\")==0) & (col(\"CHURN_CANCELLATIONS_w8\")==0) & (col(\"diff_rgus_n_n2\") < 0) & (col(\"nb_started_orders_last30\") > 0)), 1)).alias(\"after_rule_all\")\n",
    "       )\n",
    ".sort(desc(\"month\"), desc(\"day\")).show())\n",
    "\n",
    "\n",
    "\n",
    "(spark.read.load(\"/data/attributes/vf_es/trigger_analysis/customer_master_unlabeled/year=2019/\").select(\"month\", \"day\", \"diff_rgus_n_n2\").where(col(\"month\")>4).groupby(\"month\",\"day\")\n",
    ".agg(sql_count(\"*\").alias(\"count\"),\n",
    "     sql_sum(when(col(\"diff_rgus_n_n2\")<0,1)).alias(\"diff_rgus<0\")\n",
    ").sort(desc(\"month\"), desc(\"day\")).show())\n",
    "\n",
    "\n",
    "\n",
    "\n",
    "spark.read.load(\"/data/attributes/vf_es/trigger_analysis/customer_master/year=2019/\").select(\"month\", \"day\").where(col(\"month\")>4).groupby(\"month\",\"day\").agg(sql_count(\"*\").alias(\"count\")).sort(desc(\"month\"), desc(\"day\")).show()\n",
    "\n",
    "\n",
    "\n",
    "\n",
    "\n",
    "(spark.read.load(\"/user/csanc109/projects/triggers/ccc_attributes_w8/year=2019/\").select(\"month\", \"day\", \"num_calls_w8\", \"CHURN_CANCELLATIONS_w8\").where(col(\"CHURN_CANCELLATIONS_w8\")==0)\n",
    "          .withColumn(\"day\", col(\"day\").astype(\"int\")).where(col(\"month\")>4)\n",
    "          .groupby(\"month\",\"day\").agg(sql_sum(\"num_calls_w8\").alias(\"calls\"),\n",
    "                                      sql_sum(\"CHURN_CANCELLATIONS_w8\").alias(\"calls_churn\"),\n",
    "                                      sql_count(when(col(\"num_calls_w8\")>0,1)).alias(\"nifs_with_calls\"),\n",
    "                                      sql_count(when(col(\"CHURN_CANCELLATIONS_w8\")>0,1)).alias(\"nifs_with_churn_calls\"),\n",
    "                                      sql_count(\"*\").alias(\"entries\")).sort(desc(\"month\"), desc(\"day\")).show())\n",
    "\n",
    "\n",
    "\n",
    "#spark.read.load(\"/data/udf/vf_es/amdocs_ids/orders/year=2019/\").select(\"month\", \"day\").where(col(\"month\")>4).groupby(\"month\",\"day\").agg(sql_count(\"*\").alias(\"count\")).sort(desc(\"month\"), desc(\"day\")).show()\n",
    "spark.read.load(\"/data/attributes/vf_es/trigger_analysis/orders_sla_csanc109/year=2019/\").select(\"month\", \"day\", \"nb_started_orders_last30\").withColumn(\"day\", col(\"day\").astype(\"int\")).where(col(\"month\")>4).groupby(\"month\",\"day\").agg(sql_count(\"*\").alias(\"count\"),\n",
    "sql_sum(\"nb_started_orders_last30\").alias(\"nb_orders\")).sort(desc(\"month\"), desc(\"day\")).show()\n",
    "\n",
    "\n",
    "closing_day_train = \"20190307\"\n",
    "closing_day_val = \"20190507\"\n",
    "from churn.analysis.poc_segments.Metadata import FEATS\n",
    "feat_cols = FEATS\n",
    "noninf_feats = ['msisdn']\n",
    "label_col = 'label'\n",
    "\n",
    "COLS = feat_cols + noninf_feats + [label_col]\n",
    "\n",
    "df_tar = spark.read.load(\"/user/csanc109/projects/poc_segm/car_orders_calls_w8_h8_d2/year={}/month={}/day={}/\".format(int(closing_day_train[:4]), int(closing_day_train[4:6]), int(closing_day_train[6:])))\n",
    "df_tar.select(\"segment\").groupby(\"segment\").agg(sql_count(\"segment\").alias(\"count\")).show()\n",
    "df_tar = df_tar.where(col(\"segment\")==\"mobileandfbb\")\n",
    "df_tar = df_tar.select(*COLS)\n",
    "\n",
    "df_next_tar = spark.read.load(\"/user/csanc109/projects/poc_segm/car_orders_calls_w8_h8_d2/year={}/month={}/day={}/\".format(int(closing_day_val[:4]), int(closing_day_val[4:6]), int(closing_day_val[6:])))\n",
    "df_next_tar.select(\"segment\").groupby(\"segment\").agg(sql_count(\"segment\").alias(\"count\")).show()\n",
    "df_next_tar = df_next_tar.where(col(\"segment\")==\"mobileandfbb\")\n",
    "df_next_tar = df_next_tar.select(*COLS)\n",
    "\n",
    "\n",
    "\n",
    "### Filter inactive\n",
    "\n",
    "from churn.datapreparation.general.data_loader import get_active_services\n",
    "df_active_cd = get_active_services(spark, closing_day_train, new=False, customer_cols=None, service_cols=None)\n",
    "df_active_cd_val = get_active_services(spark, closing_day_val, new=False, customer_cols=None, service_cols=None)\n",
    "\n",
    "count_1 = df_tar.count()\n",
    "df_tar = df_tar.join(df_active_cd.select(\"msisdn\"), on=[\"msisdn\"], how=\"inner\")\n",
    "count_2 = df_tar.count()\n",
    "\n",
    "print(\"df_tar current_count={} inactive={}\".format(count_2, count_1 - count_2))\n",
    "\n",
    "\n",
    "count_1 = df_next_tar.count()\n",
    "df_next_tar = df_next_tar.join(df_active_cd_val.select(\"msisdn\"), on=[\"msisdn\"], how=\"inner\")\n",
    "count_2 = df_next_tar.count()\n",
    "\n",
    "print(\"df_next_tar current_count={} inactive={}\".format(count_2, count_1 - count_2))\n",
    "\n",
    "churn_rate_segm = 100.0 * df_tar.select(\"label\").rdd.map(lambda r: r[\"label\"]).mean()\n",
    "churn_rate=2.25\n",
    "print(\"churn_rate={:.2f} churn_rate_seg={:.2f} LIFT={:.2f}\".format(churn_rate, churn_rate_segm, churn_rate_segm / churn_rate))\n",
    "\n",
    "churn_rate=2.30\n",
    "churn_rate_segm = 100.0 * df_next_tar.select(\"label\").rdd.map(lambda r: r[\"label\"]).mean()\n",
    "print(\"churn_rate={:.2f} churn_rate_seg={:.2f} LIFT={:.2f}\".format(churn_rate, churn_rate_segm, churn_rate_segm / churn_rate))\n",
    "\n",
    "\n",
    "from churn.datapreparation.app.generate_table_extra_feats_new import impute_nulls\n",
    "df_tar = impute_nulls(df_tar, spark, metadata_version=\"1.1\")\n",
    "df_next_tar = impute_nulls(df_next_tar, spark, metadata_version=\"1.1\")\n",
    "\n",
    "\n",
    "from churn.analysis.poc_segments.poc_modeler import get_split, fit\n",
    "df_unbaltr, df_tr, df_tt = get_split(df_tar, train_split_ratio=0.7)\n",
    "\n",
    "print(\"Lets fit\")\n",
    "start_fit = time.time()\n",
    "model = fit(df_tr, feat_cols, maxDepth=10, maxBins=32, minInstancesPerNode=50, impurity=\"gini\", featureSubsetStrategy=\"sqrt\", subsamplingRate=0.7, numTrees=50,seed=1234)\n",
    "print(\"ended fit - {} min\".format( (time.time()-start_time)/60.0))\n",
    "\n",
    "model.stages[-1].extractParamMap()\n",
    "\n",
    "from churn.analysis.poc_segments.poc_modeler import get_feats_imp\n",
    "feat_imp_list = get_feats_imp(model, feat_cols, top=25)\n",
    "\n",
    "\n",
    "from churn.analysis.poc_segments.poc_modeler import get_score, get_metrics\n",
    "\n",
    "# Train evaluation\n",
    "df_tr_preds = get_score(model, df_tr)\n",
    "#trPredictionAndLabels = df_tr_preds.select(['model_score', 'label']).rdd.map(lambda r: (r['model_score'], float(r['label'])))\n",
    "\n",
    "# Test eval\n",
    "df_tt_preds = get_score(model, df_tt)\n",
    "\n",
    "# Evaluation TODO\n",
    "df_val_preds = get_score(model, df_next_tar).withColumnRenamed(\"model_score\", \"score_segm\")\n",
    "\n",
    "\n",
    "# Validation\n",
    "get_metrics(df_tr_preds, title=\"train\", nb_deciles=None)\n",
    "get_metrics(df_tt_preds, title=\"test\",  nb_deciles=None)\n",
    "get_metrics(df_val_preds, title=\"validation\",  nb_deciles=None, score_col=\"score_segm\")\n",
    "\n",
    "from churn.datapreparation.general.model_outputs_manager import get_complete_scores_model_name_closing_day\n",
    "df_deliv = get_complete_scores_model_name_closing_day(spark, model_name=\"delivery_churn\", closing_day=closing_day_val).select(\"msisdn\", \"scoring\")\n",
    "df_deliv = df_deliv.cache()\n",
    "\n",
    "print(\"df_deliv= {}\".format(df_deliv.count()))\n",
    "df_deliv = df_deliv.join(df_val_preds.select(\"msisdn\", \"label\"), on=[\"msisdn\"], how=\"right\")\n",
    "df_deliv = df_deliv.cache()\n",
    "count_1 = df_deliv.count()\n",
    "print(\"df_deliv= {}\".format(count_1))\n",
    "df_deliv_null = df_deliv.where(col(\"scoring\").isNull())\n",
    "\n",
    "df_deliv = df_deliv.where(col(\"scoring\").isNotNull())\n",
    "count_2 = df_deliv.count()\n",
    "print(\"df_deliv removed {1} nulls. Current count {0}\".format(count_2, count_1-count_2))\n",
    "\n",
    "get_metrics(df_deliv, title=\"delivery\",  nb_deciles=None, score_col=\"scoring\", label_col=\"label\")\n",
    "\n",
    "df_val_preds.where(col(\"msisdn\")==\"604415999\").count()\n",
    "\n",
    "df_null_2 = spark.read.table(\"tests_es.jvmm_amdocs_ids_\" + closing_day_val).where(col(\"msisdn\")==\"604415999\")\n",
    "[col_ for col_ in df_null_2.columns if \"srv_basic\" in col_.lower()]                  \n",
    "\n",
    "df_null_2.select(\"clase_cli_cod_clase_cliente\", \"cod_estado_general\", \"srv_basic\").show()\n",
    "\n",
    "df_deliv_null_complete = df_deliv_null.join(spark.read.table(\"tests_es.jvmm_amdocs_ids_\" + closing_day_val).select(\"msisdn\", \"clase_cli_cod_clase_cliente\", \"cod_estado_general\", \"srv_basic\"), on=[\"msisdn\"], how=\"left\").select(\"msisdn\", \"clase_cli_cod_clase_cliente\", \"cod_estado_general\", \"srv_basic\")\n",
    "\n",
    "df_deliv_null_complete.select(\"clase_cli_cod_clase_cliente\", \"cod_estado_general\", \"srv_basic\").drop_duplicates().show()"
   ]
  }
 ],
 "metadata": {
  "kernelspec": {
   "display_name": "Python 2",
   "language": "python",
   "name": "python2"
  },
  "language_info": {
   "codemirror_mode": {
    "name": "ipython",
    "version": 2
   },
   "file_extension": ".py",
   "mimetype": "text/x-python",
   "name": "python",
   "nbconvert_exporter": "python",
   "pygments_lexer": "ipython2",
   "version": "2.7.11"
  }
 },
 "nbformat": 4,
 "nbformat_minor": 2
}
