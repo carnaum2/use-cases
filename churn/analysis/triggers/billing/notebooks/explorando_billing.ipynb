{
 "cells": [
  {
   "cell_type": "code",
   "execution_count": 28,
   "metadata": {},
   "outputs": [],
   "source": [
    "spark.stop()"
   ]
  },
  {
   "cell_type": "markdown",
   "metadata": {},
   "source": [
    "# Set paths"
   ]
  },
  {
   "cell_type": "markdown",
   "metadata": {},
   "source": [
    "DEVEL_SRC must contain the directory use-cases and pykhaos"
   ]
  },
  {
   "cell_type": "code",
   "execution_count": 1,
   "metadata": {},
   "outputs": [
    {
     "name": "stderr",
     "output_type": "stream",
     "text": [
      "20190828-111810 [INFO ] Logging to file /var/SP/data/home/csanc109/logging/out_20190828_111810.log\n"
     ]
    },
    {
     "data": {
      "application/javascript": [
       "if (!(\"Notification\" in window)) {\n",
       "    alert(\"This browser does not support desktop notifications, so the %%notify magic will not work.\");\n",
       "} else if (Notification.permission !== 'granted' && Notification.permission !== 'denied') {\n",
       "    Notification.requestPermission(function (permission) {\n",
       "        if(!('permission' in Notification)) {\n",
       "            Notification.permission = permission;\n",
       "        }\n",
       "    })\n",
       "}\n"
      ],
      "text/plain": [
       "<IPython.core.display.Javascript object>"
      ]
     },
     "metadata": {},
     "output_type": "display_data"
    },
    {
     "data": {
      "text/html": [
       "<style>.container { width:100% !important; }</style>"
      ],
      "text/plain": [
       "<IPython.core.display.HTML object>"
      ]
     },
     "metadata": {},
     "output_type": "display_data"
    }
   ],
   "source": [
    "import os, sys\n",
    "import datetime as dt\n",
    "DEVEL_SRC = os.path.join(os.environ.get('BDA_USER_HOME', ''), \"src\", \"devel\")\n",
    "if DEVEL_SRC not in sys.path:\n",
    "    sys.path.append(DEVEL_SRC)\n",
    "\n",
    "USECASES_SRC = os.path.join(DEVEL_SRC, \"use-cases\") # TODO when '-' is removed from name, remove also this line and adapt imports \n",
    "if USECASES_SRC not in sys.path: \n",
    "    sys.path.append(USECASES_SRC)\n",
    "    \n",
    "# AMDOCS_SRC = os.path.join(DEVEL_SRC, \"amdocs_informational_dataset\") # TODO when - is removed, remove also this line and adapt imports\n",
    "# if AMDOCS_SRC not in sys.path: \n",
    "#     sys.path.append(AMDOCS_SRC)\n",
    "    \n",
    "import pykhaos.utils.custom_logger as clogger\n",
    "logging_file = os.path.join(os.environ.get('BDA_USER_HOME', ''), \"logging\",\n",
    "                                    \"out_\" + dt.datetime.now().strftime(\"%Y%m%d_%H%M%S\") + \".log\")\n",
    "logger = clogger.configure_logger(log_filename=logging_file, std_channel=sys.stderr, logger_name=\"\")\n",
    "logger.info(\"Logging to file {}\".format(logging_file))    \n",
    "        \n",
    "from project.project_generic import Project\n",
    "\n",
    "import pykhaos.utils.notebooks as nb\n",
    "\n",
    "import time\n",
    "start_time = time.time()\n",
    "\n",
    "RUNNING_FROM_NOTEBOOK = nb.isnotebook()\n",
    "import matplotlib\n",
    "matplotlib.use('Agg')\n",
    "import matplotlib.pyplot as plt\n",
    "if RUNNING_FROM_NOTEBOOK:\n",
    "    %load_ext autoreload\n",
    "    %autoreload 2\n",
    "    %matplotlib inline  \n",
    "    EXTERNAL_LIB = os.path.join(os.environ.get('BDA_USER_HOME', ''), \"lib\", \"external_libs\")\n",
    "    if EXTERNAL_LIB not in sys.path:\n",
    "        sys.path.append(EXTERNAL_LIB)\n",
    "    # feel free from commenting this line and the other ones that begin with \"%%notify\" if you do not have \n",
    "    # the extension installed or copy de lib from /var/SP/data/home/csanc109/lib/external_libs/jupyternotify/\n",
    "    %load_ext jupyternotify \n",
    "from IPython.core.display import display, HTML\n",
    "display(HTML(\"<style>.container { width:100% !important; }</style>\"))"
   ]
  },
  {
   "cell_type": "code",
   "execution_count": 2,
   "metadata": {},
   "outputs": [
    {
     "data": {
      "text/html": [
       "<style>.container { width:100% !important; }</style>"
      ],
      "text/plain": [
       "<IPython.core.display.HTML object>"
      ]
     },
     "metadata": {},
     "output_type": "display_data"
    }
   ],
   "source": [
    "from IPython.core.display import display, HTML\n",
    "display(HTML(\"<style>.container { width:100% !important; }</style>\"))"
   ]
  },
  {
   "cell_type": "code",
   "execution_count": 6,
   "metadata": {},
   "outputs": [
    {
     "data": {
      "text/html": [
       "<style>.container { width:100% !important; }</style>"
      ],
      "text/plain": [
       "<IPython.core.display.HTML object>"
      ]
     },
     "metadata": {},
     "output_type": "display_data"
    }
   ],
   "source": [
    "from pyspark.sql import Row, DataFrame, Column, Window\n",
    "from pyspark.sql.types import DoubleType, StringType, IntegerType, DateType, ArrayType\n",
    "from pyspark.ml import Pipeline\n",
    "from pyspark.ml.classification import RandomForestClassifier\n",
    "from pyspark.ml.feature import StringIndexer, VectorIndexer, VectorAssembler, SQLTransformer, OneHotEncoder\n",
    "from pyspark.ml.evaluation import MulticlassClassificationEvaluator, BinaryClassificationEvaluator\n",
    "from pyspark.mllib.evaluation import BinaryClassificationMetrics\n",
    "from pyspark.sql.functions import collect_set, concat, size, coalesce, col, lpad, struct, count as sql_count, lit, min as sql_min, max as sql_max, collect_list, udf, when, desc, asc, to_date, create_map, sum as sql_sum\n",
    "from pyspark.sql.types import StringType, ArrayType, MapType, StructType, StructField, IntegerType\n",
    "from pyspark.sql.functions import array, regexp_extract\n",
    "from itertools import chain\n",
    "from churn.datapreparation.general.data_loader import get_unlabeled_car, get_port_requests_table, get_numclients_under_analysis\n",
    "from churn.utils.constants import PORT_TABLE_NAME\n",
    "from churn.utils.udf_manager import Funct_to_UDF\n",
    "from pyspark.sql.functions import substring, datediff, row_number\n",
    "from pykhaos.utils.date_functions import move_date_n_days, move_date_n_cycles\n",
    "from pykhaos.utils.hdfs_functions import check_hdfs_exists\n",
    "from pykhaos.modeling.model_performance import get_lift\n",
    "\n",
    "from IPython.core.display import display, HTML\n",
    "display(HTML(\"<style>.container { width:100% !important; }</style>\"))"
   ]
  },
  {
   "cell_type": "markdown",
   "metadata": {},
   "source": [
    "# Functions"
   ]
  },
  {
   "cell_type": "markdown",
   "metadata": {},
   "source": [
    "## Start spark context"
   ]
  },
  {
   "cell_type": "code",
   "execution_count": 4,
   "metadata": {},
   "outputs": [
    {
     "name": "stdout",
     "output_type": "stream",
     "text": [
      "Ended spark session: 138.022882938 secs | default parallelism=2\n"
     ]
    }
   ],
   "source": [
    "from churn.utils.general_functions import init_spark\n",
    "spark = init_spark(\"billing\")\n",
    "sc = spark.sparkContext"
   ]
  },
  {
   "cell_type": "code",
   "execution_count": null,
   "metadata": {},
   "outputs": [],
   "source": [
    "spark"
   ]
  },
  {
   "cell_type": "code",
   "execution_count": null,
   "metadata": {},
   "outputs": [],
   "source": [
    "closing_day=\"20190414\""
   ]
  },
  {
   "cell_type": "code",
   "execution_count": null,
   "metadata": {},
   "outputs": [],
   "source": [
    "\n",
    "\n",
    "\n",
    "# - - - - - - - - - -\n",
    "\n",
    "\n",
    "\n"
   ]
  },
  {
   "cell_type": "code",
   "execution_count": null,
   "metadata": {},
   "outputs": [],
   "source": [
    "closing_day = \"20190414\"\n",
    "\n",
    "#df_billing_p.show()\n"
   ]
  },
  {
   "cell_type": "code",
   "execution_count": null,
   "metadata": {},
   "outputs": [],
   "source": [
    "# from pyspark.ml.feature import QuantileDiscretizer\n",
    "# var = \"billing_avg_days_bw_bills\"\n",
    "# var_out = \"billing_avg_days_bw_bills_disc\"\n",
    "\n",
    "\n",
    "# discretizer = QuantileDiscretizer(numBuckets=5, inputCol=var, outputCol=var_out, relativeError=0)\n",
    "# bucketizer = discretizer.fit(df_billing_p)\n",
    "# df_billing_p = bucketizer.transform(df_billing_p)\n",
    "# bucketizer.getSplits()\n",
    "\n",
    "# df_billing_p = df_billing_p.withColumn(\"inc_billing_noinc_rgus_disc_2\", when(col(\"billing_avg_days_bw_bills\") <= 0, \"<20\")\n",
    "#                                                                        .when(col(\"billing_avg_days_bw_bills\") <=40, \">20 <40\")\n",
    "#                                                                        .when(col(\"billing_avg_days_bw_bills\") >40,  \">40\"))\n",
    "\n",
    "# #df_billing_p.groupby(\"inc_billing_noinc_rgus_disc_2\").agg(sql_count(\"*\").alias(\"count\")).show()"
   ]
  },
  {
   "cell_type": "code",
   "execution_count": null,
   "metadata": {},
   "outputs": [],
   "source": [
    "\n"
   ]
  },
  {
   "cell_type": "code",
   "execution_count": null,
   "metadata": {},
   "outputs": [],
   "source": []
  },
  {
   "cell_type": "code",
   "execution_count": null,
   "metadata": {},
   "outputs": [],
   "source": []
  },
  {
   "cell_type": "code",
   "execution_count": null,
   "metadata": {},
   "outputs": [],
   "source": []
  },
  {
   "cell_type": "code",
   "execution_count": null,
   "metadata": {},
   "outputs": [],
   "source": [
    "# df_cust.columns : # ['num_cliente',  'nb_rgus_d',  'nb_rgus_d14',  'label',  'tgs_days_until_fecha_fin_dto',  'tgs_has_discount',  'nb_rgus_d28',  'nb_rgus_d42',  'diff_rgus_d_d14',  'diff_rgus_d_d28',  'diff_rgus_d_d42',\n",
    "#  'flag_decremento_rgus',  'flag_incremento_rgus',  'flag_no_inc_rgus']"
   ]
  },
  {
   "cell_type": "code",
   "execution_count": null,
   "metadata": {},
   "outputs": [],
   "source": [
    "\n",
    "def prepare_billing_cris(df, closing_day):\n",
    "\n",
    "    NUM_BILLS = 5    \n",
    "\n",
    "    remove_undefined_udf = udf(lambda milista: list([milista[ii] for ii in range(len(milista)) if milista[ii] == milista[ii] and milista[ii]!=None]), ArrayType(FloatType()))\n",
    "    import numpy as np\n",
    "    avg_days_bw_bills_udf = udf(lambda milista: float(np.mean([milista[ii + 1] - milista[ii] for ii in range(len(milista) - 1)])), FloatType())\n",
    "\n",
    "    stddev_udf = udf(lambda milista: float(np.std(milista)), FloatType())\n",
    "    #mean_udf = udf(lambda milista: float(np.mean(milista)), FloatType())\n",
    "\n",
    "\n",
    "    mean_range_udf = udf(lambda lista,idx: float(np.mean(lista[:idx])), FloatType())\n",
    "    negative_udf = udf(lambda lista: 1 if any([ii<0 for ii in lista]) else 0, IntegerType())\n",
    "\n",
    "    # debt is negative when Vodafone has the debt\n",
    "    df = (df.withColumn(\"aux_completed\", array([_col for _col in df.columns if _col.endswith(\"days_since\")]))\n",
    "            .withColumn(\"aux_completed\", remove_undefined_udf(col(\"aux_completed\")))\n",
    "            .withColumn(\"billing_nb_last_bills\", when(col(\"aux_completed\").isNotNull(), size(col(\"aux_completed\"))).otherwise(0))\n",
    "            .withColumn(\"billing_avg_days_bw_bills\", when(col(\"billing_nb_last_bills\") > 1, avg_days_bw_bills_udf(col(\"aux_completed\"))).otherwise(-1.0))\n",
    "\n",
    "           .withColumn(\"aux_invoice\", array([_col for _col in df.columns if _col.endswith(\"_InvoiceCharges\") and _col.startswith(\"Bill_N\")]))\n",
    "           .withColumn(\"aux_invoice\", remove_undefined_udf(col(\"aux_invoice\")))\n",
    "           .withColumn(\"billing_std\", when( ((col(\"aux_invoice\").isNotNull()) & (col(\"billing_nb_last_bills\") > 0)), stddev_udf(\"aux_invoice\")).otherwise(-1.0))\n",
    "           .withColumn(\"billing_mean\", when((col(\"aux_invoice\").isNotNull()) & (col(\"billing_nb_last_bills\") > 0),\n",
    "                                         mean_range_udf(\"aux_invoice\",\"billing_nb_last_bills\")).otherwise(-1.0))\n",
    "\n",
    "          .withColumn(\"billing_current_debt\", col('Bill_N1_InvoiceCharges') + col('Bill_N1_Debt_Amount') - col('Bill_N1_Amount_To_Pay'))\n",
    "\n",
    "          .withColumn(\"aux_debt\", array([_col for _col in df.columns if _col.endswith(\"_Debt_Amount\") and _col.startswith(\"Bill_N\")]))\n",
    "          .withColumn(\"billing_any_vf_debt\", negative_udf(\"aux_debt\"))\n",
    "          .withColumn(\"billing_current_vf_debt\", when(col(\"billing_current_debt\")<0,1).otherwise(0))\n",
    "          .withColumn(\"billing_current_client_debt\", when(col(\"billing_current_debt\") > 0, 1).otherwise(0))\n",
    "          .withColumn(\"billing_settle_debt\", when( (col('Bill_N1_Debt_Amount') > col('billing_current_debt')) & (col(\"billing_current_vf_debt\")==0),1) # deb is decreasing\n",
    "                                            .otherwise(0))\n",
    "\n",
    "          )\n",
    "\n",
    "\n",
    "    return df\n"
   ]
  },
  {
   "cell_type": "code",
   "execution_count": null,
   "metadata": {},
   "outputs": [],
   "source": [
    "from pyspark.sql.types import ArrayType, FloatType, StringType, BooleanType, IntegerType\n",
    "from churn.utils.general_functions import amdocs_table_reader\n",
    "df_billing = get_billing_df(spark, closing_day)\n",
    "df_billing.show()"
   ]
  },
  {
   "cell_type": "code",
   "execution_count": null,
   "metadata": {},
   "outputs": [],
   "source": [
    "df_billing_p = prepare_billing_cris(df_billing, closing_day)\n",
    "\n"
   ]
  },
  {
   "cell_type": "code",
   "execution_count": null,
   "metadata": {},
   "outputs": [],
   "source": [
    "print(\"before\", df_cust.count(), df_billing_p.count())\n",
    "df_all = df_cust.join(df_billing_p, on=[\"num_cliente\"], how=\"left\")\n",
    "df_all = df_all.cache()\n",
    "print(\"after\", df_all.count())"
   ]
  },
  {
   "cell_type": "code",
   "execution_count": null,
   "metadata": {},
   "outputs": [],
   "source": [
    "from churn.analysis.triggers.billing.run_segment_billing import get_tariffs_dfs\n",
    "from pykhaos.utils.date_functions import move_date_n_days\n",
    "\n",
    "\n",
    "closing_day_c14 = move_date_n_cycles(closing_day, n=-14)\n",
    "closing_day_c6 = move_date_n_cycles(closing_day, n=-6)\n",
    "\n",
    "df_tarifas_c14 = get_tariffs_dfs(spark, closing_day_c14).drop(\"nb_superofertas\").withColumnRenamed(\"tarifas_list\", \"tarifas_list_c14\")\n",
    "df_tarifas_c6 = get_tariffs_dfs(spark, closing_day_c6).drop(\"nb_superofertas\").withColumnRenamed(\"tarifas_list\", \"tarifas_list_c6\")\n",
    "\n",
    "df_all2 = df_all.join(df_tarifas_c14, on=[\"num_cliente\"], how=\"left\")\n",
    "df_all2 = df_all2.join(df_tarifas_c6, on=[\"num_cliente\"], how=\"left\")"
   ]
  },
  {
   "cell_type": "code",
   "execution_count": null,
   "metadata": {},
   "outputs": [],
   "source": [
    "df_tarifas_c14.columns"
   ]
  },
  {
   "cell_type": "code",
   "execution_count": null,
   "metadata": {},
   "outputs": [],
   "source": [
    "df_all2.select(\"num_cliente\", \"tarifas_list_c14\", \"tarifas_list_c6\").show(50, truncate=False)"
   ]
  },
  {
   "cell_type": "code",
   "execution_count": 107,
   "metadata": {},
   "outputs": [
    {
     "data": {
      "text/plain": [
       "{'Bill_N1_yearmonth_billing': 'string',\n",
       " 'Bill_N2_yearmonth_billing': 'string',\n",
       " 'Bill_N3_yearmonth_billing': 'string',\n",
       " 'Bill_N4_yearmonth_billing': 'string',\n",
       " 'Bill_N5_yearmonth_billing': 'string',\n",
       " 'aux_completed': 'array<float>',\n",
       " 'aux_debt': 'array<double>',\n",
       " 'aux_invoice': 'array<float>',\n",
       " 'diff_bw_bills': 'array<float>',\n",
       " 'diff_bw_days_bills': 'array<float>',\n",
       " 'equal_c6_c14': 'string',\n",
       " 'nif_cliente': 'string',\n",
       " 'num_cliente': 'string',\n",
       " 'segment_nif': 'string',\n",
       " 'tarifas_list': 'array<string>',\n",
       " 'tarifas_list_c14': 'array<string>',\n",
       " 'tarifas_list_c6': 'array<string>'}"
      ]
     },
     "execution_count": 107,
     "metadata": {},
     "output_type": "execute_result"
    }
   ],
   "source": [
    "{k:v for k,v in spark.read.load(\"/user/csanc109/projects/triggers/trigger_billing_car/year=2019/month=4/day=14\").dtypes if v not in [\"bigint\", \"double\", \"int\", \"float\"]}"
   ]
  },
  {
   "cell_type": "code",
   "execution_count": null,
   "metadata": {},
   "outputs": [],
   "source": [
    "#Generated /data/attributes/vf_es/trigger_analysis/customer_master_unlabeled/year=2019/month=8/day=5 for closing_day 20190805\n",
    "#revisar columna   'diff_rgus_map', rgus_diff_udf(col('rgus_list'), col('rgus_list_cycles_2')))\n",
    "# TAREA para el 12 de agosto"
   ]
  },
  {
   "cell_type": "code",
   "execution_count": 69,
   "metadata": {},
   "outputs": [
    {
     "name": "stdout",
     "output_type": "stream",
     "text": [
      "CHURN ALL 2.58905994041%\n",
      "+-----+-------+\n",
      "|label|  count|\n",
      "+-----+-------+\n",
      "|  0.0|3837240|\n",
      "|  1.0| 101989|\n",
      "+-----+-------+\n",
      "\n"
     ]
    }
   ],
   "source": [
    "df_tar_all = spark.read.load(\"/user/csanc109/projects/triggers/trigger_billing_car/year=2019/month=4/day=1414\")\n",
    "df_tar_count_numcliente = df_tar_all.select(\"nif_cliente\").groupby(\"nif_cliente\").agg(sql_count(\"*\").alias(\"count\"))\n",
    "\n",
    "df_tar_all = df_tar_all.join(df_tar_count_numcliente, on=[\"nif_cliente\"], how=\"right\")\n",
    "df_tar_all = df_tar_all.fillna(0, subset=[\"num_calls_w8\"])\n",
    "refprevalence_all = df_tar_all.select(\"label\").rdd.map(lambda r: r[\"label\"]).mean()\n",
    "print(\"CHURN ALL {}%\".format(refprevalence_all*100.0))\n",
    "\n",
    "df_tar_all.select(\"label\").groupby(\"label\").agg(sql_count(\"*\").alias(\"count\")).show()"
   ]
  },
  {
   "cell_type": "code",
   "execution_count": null,
   "metadata": {},
   "outputs": [],
   "source": [
    "df_tar_all.groupby(\"num_calls_w8\").agg(sql_count(\"*\").alias(\"count\")).show()"
   ]
  },
  {
   "cell_type": "code",
   "execution_count": 70,
   "metadata": {},
   "outputs": [
    {
     "name": "stdout",
     "output_type": "stream",
     "text": [
      "Filtering churn_cancellations_w8\n",
      "Filtering superoferta ON19\n"
     ]
    }
   ],
   "source": [
    "from churn.analysis.triggers.billing.run_segment_billing import filter_car\n",
    "from pyspark.sql.functions import round, concat_ws\n",
    "\n",
    "df_tar_f = filter_car(df_tar_all)\n",
    "df_tar_f = df_tar_f.withColumn(\"num_ficticios\", col('Bill_N1_num_ids_fict')+col('Bill_N2_num_ids_fict')+col('Bill_N3_num_ids_fict')+col('Bill_N4_num_ids_fict')+col('Bill_N5_num_ids_fict'))\n",
    "df_tar_f = df_tar_f.withColumn(\"nb_tarifas\", size(col('tarifas_list')))\n",
    "df_tar_f = df_tar_f.withColumn(\"tgs_has_discount\", when(col(\"tgs_has_discount\")!=1,0).otherwise(col(\"tgs_has_discount\")))\n",
    "df_tar_f = df_tar_f.withColumn(\"tgs_has_discount_d84\", when(col(\"tgs_has_discount_d84\")!=1,0).otherwise(col(\"tgs_has_discount_d84\")))\n",
    "\n",
    "\n",
    "#df_tar_f.select(\"label\").groupby(\"label\").agg(sql_count(\"*\").alias(\"count\")).show()\n",
    "# Filtering churn_cancellations_w8\n",
    "# Filtering superoferta ON19\n",
    "# +-----+-------+\n",
    "# |label|  count|\n",
    "# +-----+-------+\n",
    "# |  0.0|3684672|\n",
    "# |  1.0|  89072|\n",
    "# +-----+-------+"
   ]
  },
  {
   "cell_type": "code",
   "execution_count": 88,
   "metadata": {},
   "outputs": [
    {
     "name": "stdout",
     "output_type": "stream",
     "text": [
      "LIFT = 2.13852558412 || CHURN 5.53677092139% || VOLUME=18928\n"
     ]
    }
   ],
   "source": [
    "# COLS NUEVAS QUE GENERE Y QUE NO PROBE\n",
    "# {'billing_max_days_bw_bills',\n",
    "#  'billing_min_days_bw_bills',\n",
    "#  'diff_bw_days_bills',\n",
    "#  'flag_keep_rgus'}\n",
    "\n",
    "\n",
    "df_tar_f = df_tar_f.withColumn(\"flag_keep_rgus\",       when(((col(\"diff_rgus_d_d14\") == 0) | (col(\"diff_rgus_d_d28\") == 0) | (col(\"diff_rgus_d_d42\") == 0) | (col(\"diff_rgus_d_d56\") == 0) | (col(\"diff_rgus_d_d70\") == 0) | (col(\"diff_rgus_d_d84\") == 0) | (col(\"diff_rgus_d_d98\") == 0)), 1).otherwise(0))\n",
    "df_tar_f = df_tar_f.withColumn(\"mean_price_rgu\",  col(\"Bill_N1_InvoiceCharges\")/col('nb_rgus_d'))\n",
    "\n",
    "\n",
    "df_tar_rule = (df_tar_f#.where(col(\"billing_nb_last_bills\")==5)\n",
    "#                     .where(col(\"billing_any_vf_debt\")==1)\n",
    "#                     .where(col(\"billing_current_vf_debt\")==0)\n",
    "#                     .where(col('nb_tarifas') == col('num_tarifas_c14'))\n",
    "#                      .where( (col(\"greatest_diff_bw_bills\")> (0.3*col(\"billing_mean\"))) & (col(\"greatest_diff_bw_bills\") > 0.3 * col(\"Bill_N5_InvoiceCharges\")))\n",
    "#                       .where(col('num_calls_w8')>0)\n",
    "               .where(  ((col(\"flag_keep_rgus\")==1) & (col(\"tgs_has_discount\")==0)) | (col(\"flag_decremento_rgus\")==1))\n",
    "                 #.where(col(\"greatest_diff_bw_bills\")>(0.3*col(\"billing_mean\")))\n",
    "                     .where(col('num_calls_w8')>2)\n",
    "                     #.where( col('billing_std') > (0.3*col(\"billing_mean\")))\n",
    "                     .where(col(\"greatest_diff_bw_bills\") > 0.10 * col(\"Bill_N5_InvoiceCharges\"))\n",
    "               \n",
    "               \n",
    "                    # .where(col('BILLING_POSTPAID_w8')>0)\n",
    "                     #.where(col('BILLING_POSTPAID_w8')>0)\n",
    "#                      .where(col(\"flag_keep_rgus\")==1)\n",
    "#                       .where(col('nb_rgus_d')>1)\n",
    "#                     .where(col(\"equal_c6_c14\")==0)\n",
    "#                     .where(col(\"tgs_has_discount_d84\")==col(\"tgs_has_discount\"))\n",
    "                   # .where( col('billing_std') > (0.25*col(\"billing_mean\")))\n",
    "#                    .where( ((col('billing_std') > (0.4*col(\"Bill_N2_InvoiceCharges\"))) | (col('billing_std') > (0.4*col(\"Bill_N1_InvoiceCharges\")))))\n",
    "#                     .where( (col('Bill_N1_InvoiceCharges') > (1.25*col(\"Bill_N2_InvoiceCharges\"))) | (col('Bill_N1_InvoiceCharges') > 1.15*col(\"billing_mean\")))\n",
    "#                      .where( col('billing_mean') > 30)\n",
    "#                      .where(col('Bill_N1_days_since')<35)\n",
    "#                    .where(col(\"num_ficticios\")>0)\n",
    "#                     .where(  \n",
    "                             # (col(\"Bill_N1_InvoiceCharges\") > (1.2 * col(\"Bill_N4_InvoiceCharges\"))) |\n",
    "#                               (col(\"Bill_N2_InvoiceCharges\") > (1.2 * col(\"Bill_N3_InvoiceCharges\"))) |\n",
    "#                               (col(\"Bill_N1_InvoiceCharges\") > (1.2 * col(\"Bill_N3_InvoiceCharges\"))) \n",
    "#                              )    \n",
    "#                     .where(  ((col(\"Bill_N2_InvoiceCharges\") > (1.2 * col(\"Bill_N4_InvoiceCharges\"))) |\n",
    "#                               (col(\"Bill_N1_InvoiceCharges\") > (1.2 * col(\"Bill_N4_InvoiceCharges\")))) |\n",
    "                             \n",
    "#                              ((col(\"Bill_N2_InvoiceCharges\") > (1.2 * col(\"Bill_N5_InvoiceCharges\"))) |  \n",
    "#                               (col(\"Bill_N1_InvoiceCharges\") > (1.2 * col(\"Bill_N5_InvoiceCharges\")))) |\n",
    "                                                        \n",
    "#                              ((col(\"Bill_N2_InvoiceCharges\") > (1.2 * col(\"Bill_N3_InvoiceCharges\"))) |  \n",
    "#                               (col(\"Bill_N1_InvoiceCharges\") > (1.2 * col(\"Bill_N3_InvoiceCharges\")))) \n",
    "#                              )    \n",
    "         )\n",
    "\n",
    "refprevalence = df_tar_rule.select(\"label\").rdd.map(lambda r: r[\"label\"]).mean()\n",
    "print(\"LIFT = {} || CHURN {}% || VOLUME={}\".format(refprevalence/refprevalence_all, refprevalence*100.0, df_tar_rule.count()))\n",
    "\n",
    "from pyspark.sql.functions import mean as sql_mean, stddev as sql_std\n",
    "#df_tar_rule.select(\"label\").groupby(\"label\").agg(sql_count(\"*\").alias(\"count\")).show()\n",
    "\n",
    "#df_tar_rule.groupby(\"BILLING_POSTPAID_w8\").agg(sql_count(\"*\").alias(\"count\")).show()"
   ]
  },
  {
   "cell_type": "code",
   "execution_count": 86,
   "metadata": {},
   "outputs": [
    {
     "ename": "AnalysisException",
     "evalue": "u\"cannot resolve '`Bill_N1_InvoiceCharges_disc`' given input columns: [nb_rgus_d70, Bill_N1_Tax_Amount, Bill_N4_net_charges, billing_avg_days_bw_bills, diff_bw_bills, day, BUCKET_w8, num_cliente, Bill_N5_yearmonth_billing, nb_rgus_d56, Bill_N1_num_ids_fict, Bill_N5_net_charges, nb_rgus_d42, Bill_N1_num_facturas, Bill_N1_Debt_Amount, billing_any_vf_debt, Bill_N5_Tax_Amount, tgs_days_until_fecha_fin_dto, Bill_N5_days_since, count, Bill_N4_yearmonth_billing, num_calls_w8, Bill_N5_Amount_To_Pay, BILLING_POSTPAID_w8, tarifas_list, MI_VODAFONE_w8, Bill_N4_days_since, billing_nb_last_bills, diff_rgus_d_d14, Bill_N2_InvoiceCharges, label, flag_incremento_rgus, billing_std, Bill_N3_InvoiceCharges, Bill_N5_InvoiceCharges, Bill_N3_Debt_Amount, Bill_N5_num_facturas, Bill_N2_yearmonth_billing, least_diff_bw_bills, Bill_N3_yearmonth_billing, OTHER_CUSTOMER_INFOSATIS_START_AVERIA_w8, DSL_FIBER_INCIDENCES_AND_SUPPORT_w8, Bill_N4_Tax_Amount, OTHER_CUSTOMER_INFORMATION_MANAGEMENT_w8, COLLECTIONS_w8, aux_invoice, nb_rgus_d14, diff_rgus_d_d42, diff_rgus_d_d98, Bill_N2_Amount_To_Pay, diff_rgus_d_d28, flag_no_inc_rgus, TARIFF_MANAGEMENT_w8, QUICK_CLOSING_w8, aux_completed, CHURN_CANCELLATIONS_w8, NEW_ADDS_PROCESS_w8, Bill_N4_Debt_Amount, diff_rgus_d_d56, billing_settle_debt, flag_decremento_rgus, tgs_has_discount_d56, tgs_has_discount, INTERNET_EN_EL_MOVIL_w8, Bill_N2_Tax_Amount, tarifas_list_c6, Bill_N5_Debt_Amount, nif_cliente, segment_nif, Bill_N4_num_facturas, Bill_N3_Tax_Amount, Bill_N1_InvoiceCharges, billing_current_vf_debt, nb_tarifas, aux_debt, Bill_N2_days_since, Bill_N4_Amount_To_Pay, Bill_N4_InvoiceCharges, tgs_has_discount_d28, diff_rgus_d_d84, Bill_N3_num_ids_fict, Bill_N2_num_facturas, nb_invoices, Bill_N1_net_charges, flag_keep_rgus, Bill_N1_Amount_To_Pay, nb_rgus_d28, Bill_N1_days_since, nb_superofertas, nb_rgus_d98, billing_mean, num_ficticios, greatest_diff_bw_bills, num_tarifas_c6, billing_current_debt, nb_rgus_d, Bill_N2_net_charges, billing_current_client_debt, Bill_N4_num_ids_fict, tarifas_list_c14, Bill_N2_Debt_Amount, num_tarifas_c14, tgs_has_discount_d84, PREPAID_BALANCE_w8, Bill_N3_num_facturas, DEVICE_UPGRADE_w8, equal_c6_c14, Bill_N3_net_charges, Bill_N1_yearmonth_billing, diff_rgus_d_d70, nb_rgus_d84, Bill_N2_num_ids_fict, Bill_N3_days_since, VOICE_AND_MOBILE_DATA_INCIDENCES_AND_SUPPORT_w8, Bill_N3_Amount_To_Pay, PRODUCT_AND_SERVICE_MANAGEMENT_w8, DEVICE_DELIVERY_REPAIR_w8, Bill_N5_num_ids_fict];;\\n'Project [label#15410, 'Bill_N1_InvoiceCharges_disc]\\n+- Filter (cast(greatest_diff_bw_bills#15484 as double) > (Bill_N5_InvoiceCharges#15469 * 0.1))\\n   +- Filter (num_calls_w8#15965L > cast(2 as bigint))\\n      +- Filter (((flag_keep_rgus#19405 = 1) && (tgs_has_discount#16336 = 0)) || (flag_decremento_rgus#15430 = 1))\\n         +- Project [nif_cliente#15622, num_cliente#15386, tarifas_list#15388, nb_superofertas#15389L, DEVICE_DELIVERY_REPAIR_w8#15390L, INTERNET_EN_EL_MOVIL_w8#15391L, QUICK_CLOSING_w8#15392L, VOICE_AND_MOBILE_DATA_INCIDENCES_AND_SUPPORT_w8#15393L, TARIFF_MANAGEMENT_w8#15394L, PRODUCT_AND_SERVICE_MANAGEMENT_w8#15395L, MI_VODAFONE_w8#15396L, CHURN_CANCELLATIONS_w8#15397L, DSL_FIBER_INCIDENCES_AND_SUPPORT_w8#15398L, PREPAID_BALANCE_w8#15399L, COLLECTIONS_w8#15400L, NEW_ADDS_PROCESS_w8#15401L, OTHER_CUSTOMER_INFOSATIS_START_AVERIA_w8#15402L, DEVICE_UPGRADE_w8#15403L, OTHER_CUSTOMER_INFORMATION_MANAGEMENT_w8#15404L, BILLING_POSTPAID_w8#15405L, BUCKET_w8#15406L, num_calls_w8#15965L, nb_rgus_d#15408L, nb_rgus_d14#15409L, ... 94 more fields]\\n            +- Project [nif_cliente#15622, num_cliente#15386, tarifas_list#15388, nb_superofertas#15389L, DEVICE_DELIVERY_REPAIR_w8#15390L, INTERNET_EN_EL_MOVIL_w8#15391L, QUICK_CLOSING_w8#15392L, VOICE_AND_MOBILE_DATA_INCIDENCES_AND_SUPPORT_w8#15393L, TARIFF_MANAGEMENT_w8#15394L, PRODUCT_AND_SERVICE_MANAGEMENT_w8#15395L, MI_VODAFONE_w8#15396L, CHURN_CANCELLATIONS_w8#15397L, DSL_FIBER_INCIDENCES_AND_SUPPORT_w8#15398L, PREPAID_BALANCE_w8#15399L, COLLECTIONS_w8#15400L, NEW_ADDS_PROCESS_w8#15401L, OTHER_CUSTOMER_INFOSATIS_START_AVERIA_w8#15402L, DEVICE_UPGRADE_w8#15403L, OTHER_CUSTOMER_INFORMATION_MANAGEMENT_w8#15404L, BILLING_POSTPAID_w8#15405L, BUCKET_w8#15406L, num_calls_w8#15965L, nb_rgus_d#15408L, nb_rgus_d14#15409L, ... 94 more fields]\\n               +- Project [nif_cliente#15622, num_cliente#15386, tarifas_list#15388, nb_superofertas#15389L, DEVICE_DELIVERY_REPAIR_w8#15390L, INTERNET_EN_EL_MOVIL_w8#15391L, QUICK_CLOSING_w8#15392L, VOICE_AND_MOBILE_DATA_INCIDENCES_AND_SUPPORT_w8#15393L, TARIFF_MANAGEMENT_w8#15394L, PRODUCT_AND_SERVICE_MANAGEMENT_w8#15395L, MI_VODAFONE_w8#15396L, CHURN_CANCELLATIONS_w8#15397L, DSL_FIBER_INCIDENCES_AND_SUPPORT_w8#15398L, PREPAID_BALANCE_w8#15399L, COLLECTIONS_w8#15400L, NEW_ADDS_PROCESS_w8#15401L, OTHER_CUSTOMER_INFOSATIS_START_AVERIA_w8#15402L, DEVICE_UPGRADE_w8#15403L, OTHER_CUSTOMER_INFORMATION_MANAGEMENT_w8#15404L, BILLING_POSTPAID_w8#15405L, BUCKET_w8#15406L, num_calls_w8#15965L, nb_rgus_d#15408L, nb_rgus_d14#15409L, ... 94 more fields]\\n                  +- Project [nif_cliente#15622, num_cliente#15386, tarifas_list#15388, nb_superofertas#15389L, DEVICE_DELIVERY_REPAIR_w8#15390L, INTERNET_EN_EL_MOVIL_w8#15391L, QUICK_CLOSING_w8#15392L, VOICE_AND_MOBILE_DATA_INCIDENCES_AND_SUPPORT_w8#15393L, TARIFF_MANAGEMENT_w8#15394L, PRODUCT_AND_SERVICE_MANAGEMENT_w8#15395L, MI_VODAFONE_w8#15396L, CHURN_CANCELLATIONS_w8#15397L, DSL_FIBER_INCIDENCES_AND_SUPPORT_w8#15398L, PREPAID_BALANCE_w8#15399L, COLLECTIONS_w8#15400L, NEW_ADDS_PROCESS_w8#15401L, OTHER_CUSTOMER_INFOSATIS_START_AVERIA_w8#15402L, DEVICE_UPGRADE_w8#15403L, OTHER_CUSTOMER_INFORMATION_MANAGEMENT_w8#15404L, BILLING_POSTPAID_w8#15405L, BUCKET_w8#15406L, num_calls_w8#15965L, nb_rgus_d#15408L, nb_rgus_d14#15409L, ... 94 more fields]\\n                     +- Project [nif_cliente#15622, num_cliente#15386, tarifas_list#15388, nb_superofertas#15389L, DEVICE_DELIVERY_REPAIR_w8#15390L, INTERNET_EN_EL_MOVIL_w8#15391L, QUICK_CLOSING_w8#15392L, VOICE_AND_MOBILE_DATA_INCIDENCES_AND_SUPPORT_w8#15393L, TARIFF_MANAGEMENT_w8#15394L, PRODUCT_AND_SERVICE_MANAGEMENT_w8#15395L, MI_VODAFONE_w8#15396L, CHURN_CANCELLATIONS_w8#15397L, DSL_FIBER_INCIDENCES_AND_SUPPORT_w8#15398L, PREPAID_BALANCE_w8#15399L, COLLECTIONS_w8#15400L, NEW_ADDS_PROCESS_w8#15401L, OTHER_CUSTOMER_INFOSATIS_START_AVERIA_w8#15402L, DEVICE_UPGRADE_w8#15403L, OTHER_CUSTOMER_INFORMATION_MANAGEMENT_w8#15404L, BILLING_POSTPAID_w8#15405L, BUCKET_w8#15406L, num_calls_w8#15965L, nb_rgus_d#15408L, nb_rgus_d14#15409L, ... 94 more fields]\\n                        +- Project [nif_cliente#15622, num_cliente#15386, tarifas_list#15388, nb_superofertas#15389L, DEVICE_DELIVERY_REPAIR_w8#15390L, INTERNET_EN_EL_MOVIL_w8#15391L, QUICK_CLOSING_w8#15392L, VOICE_AND_MOBILE_DATA_INCIDENCES_AND_SUPPORT_w8#15393L, TARIFF_MANAGEMENT_w8#15394L, PRODUCT_AND_SERVICE_MANAGEMENT_w8#15395L, MI_VODAFONE_w8#15396L, CHURN_CANCELLATIONS_w8#15397L, DSL_FIBER_INCIDENCES_AND_SUPPORT_w8#15398L, PREPAID_BALANCE_w8#15399L, COLLECTIONS_w8#15400L, NEW_ADDS_PROCESS_w8#15401L, OTHER_CUSTOMER_INFOSATIS_START_AVERIA_w8#15402L, DEVICE_UPGRADE_w8#15403L, OTHER_CUSTOMER_INFORMATION_MANAGEMENT_w8#15404L, BILLING_POSTPAID_w8#15405L, BUCKET_w8#15406L, num_calls_w8#15965L, nb_rgus_d#15408L, nb_rgus_d14#15409L, ... 94 more fields]\\n                           +- Project [nif_cliente#15622, num_cliente#15386, tarifas_list#15388, nb_superofertas#15389L, DEVICE_DELIVERY_REPAIR_w8#15390L, INTERNET_EN_EL_MOVIL_w8#15391L, QUICK_CLOSING_w8#15392L, VOICE_AND_MOBILE_DATA_INCIDENCES_AND_SUPPORT_w8#15393L, TARIFF_MANAGEMENT_w8#15394L, PRODUCT_AND_SERVICE_MANAGEMENT_w8#15395L, MI_VODAFONE_w8#15396L, CHURN_CANCELLATIONS_w8#15397L, DSL_FIBER_INCIDENCES_AND_SUPPORT_w8#15398L, PREPAID_BALANCE_w8#15399L, COLLECTIONS_w8#15400L, NEW_ADDS_PROCESS_w8#15401L, OTHER_CUSTOMER_INFOSATIS_START_AVERIA_w8#15402L, DEVICE_UPGRADE_w8#15403L, OTHER_CUSTOMER_INFORMATION_MANAGEMENT_w8#15404L, BILLING_POSTPAID_w8#15405L, BUCKET_w8#15406L, num_calls_w8#15965L, nb_rgus_d#15408L, nb_rgus_d14#15409L, ... 94 more fields]\\n                              +- Project [nif_cliente#15622, num_cliente#15386, tarifas_list#15388, nb_superofertas#15389L, DEVICE_DELIVERY_REPAIR_w8#15390L, INTERNET_EN_EL_MOVIL_w8#15391L, QUICK_CLOSING_w8#15392L, VOICE_AND_MOBILE_DATA_INCIDENCES_AND_SUPPORT_w8#15393L, TARIFF_MANAGEMENT_w8#15394L, PRODUCT_AND_SERVICE_MANAGEMENT_w8#15395L, MI_VODAFONE_w8#15396L, CHURN_CANCELLATIONS_w8#15397L, DSL_FIBER_INCIDENCES_AND_SUPPORT_w8#15398L, PREPAID_BALANCE_w8#15399L, COLLECTIONS_w8#15400L, NEW_ADDS_PROCESS_w8#15401L, OTHER_CUSTOMER_INFOSATIS_START_AVERIA_w8#15402L, DEVICE_UPGRADE_w8#15403L, OTHER_CUSTOMER_INFORMATION_MANAGEMENT_w8#15404L, BILLING_POSTPAID_w8#15405L, BUCKET_w8#15406L, num_calls_w8#15965L, nb_rgus_d#15408L, nb_rgus_d14#15409L, ... 94 more fields]\\n                                 +- Project [nif_cliente#15622, num_cliente#15386, tarifas_list#15388, nb_superofertas#15389L, DEVICE_DELIVERY_REPAIR_w8#15390L, INTERNET_EN_EL_MOVIL_w8#15391L, QUICK_CLOSING_w8#15392L, VOICE_AND_MOBILE_DATA_INCIDENCES_AND_SUPPORT_w8#15393L, TARIFF_MANAGEMENT_w8#15394L, PRODUCT_AND_SERVICE_MANAGEMENT_w8#15395L, MI_VODAFONE_w8#15396L, CHURN_CANCELLATIONS_w8#15397L, DSL_FIBER_INCIDENCES_AND_SUPPORT_w8#15398L, PREPAID_BALANCE_w8#15399L, COLLECTIONS_w8#15400L, NEW_ADDS_PROCESS_w8#15401L, OTHER_CUSTOMER_INFOSATIS_START_AVERIA_w8#15402L, DEVICE_UPGRADE_w8#15403L, OTHER_CUSTOMER_INFORMATION_MANAGEMENT_w8#15404L, BILLING_POSTPAID_w8#15405L, BUCKET_w8#15406L, num_calls_w8#15965L, nb_rgus_d#15408L, nb_rgus_d14#15409L, ... 94 more fields]\\n                                    +- Project [nif_cliente#15622, num_cliente#15386, tarifas_list#15388, nb_superofertas#15389L, DEVICE_DELIVERY_REPAIR_w8#15390L, INTERNET_EN_EL_MOVIL_w8#15391L, QUICK_CLOSING_w8#15392L, VOICE_AND_MOBILE_DATA_INCIDENCES_AND_SUPPORT_w8#15393L, TARIFF_MANAGEMENT_w8#15394L, PRODUCT_AND_SERVICE_MANAGEMENT_w8#15395L, MI_VODAFONE_w8#15396L, CHURN_CANCELLATIONS_w8#15397L, DSL_FIBER_INCIDENCES_AND_SUPPORT_w8#15398L, PREPAID_BALANCE_w8#15399L, COLLECTIONS_w8#15400L, NEW_ADDS_PROCESS_w8#15401L, OTHER_CUSTOMER_INFOSATIS_START_AVERIA_w8#15402L, DEVICE_UPGRADE_w8#15403L, OTHER_CUSTOMER_INFORMATION_MANAGEMENT_w8#15404L, BILLING_POSTPAID_w8#15405L, BUCKET_w8#15406L, num_calls_w8#15965L, nb_rgus_d#15408L, nb_rgus_d14#15409L, ... 94 more fields]\\n                                       +- Project [nif_cliente#15622, num_cliente#15386, tarifas_list#15388, nb_superofertas#15389L, DEVICE_DELIVERY_REPAIR_w8#15390L, INTERNET_EN_EL_MOVIL_w8#15391L, QUICK_CLOSING_w8#15392L, VOICE_AND_MOBILE_DATA_INCIDENCES_AND_SUPPORT_w8#15393L, TARIFF_MANAGEMENT_w8#15394L, PRODUCT_AND_SERVICE_MANAGEMENT_w8#15395L, MI_VODAFONE_w8#15396L, CHURN_CANCELLATIONS_w8#15397L, DSL_FIBER_INCIDENCES_AND_SUPPORT_w8#15398L, PREPAID_BALANCE_w8#15399L, COLLECTIONS_w8#15400L, NEW_ADDS_PROCESS_w8#15401L, OTHER_CUSTOMER_INFOSATIS_START_AVERIA_w8#15402L, DEVICE_UPGRADE_w8#15403L, OTHER_CUSTOMER_INFORMATION_MANAGEMENT_w8#15404L, BILLING_POSTPAID_w8#15405L, BUCKET_w8#15406L, num_calls_w8#15965L, nb_rgus_d#15408L, nb_rgus_d14#15409L, ... 94 more fields]\\n                                          +- Project [nif_cliente#15622, num_cliente#15386, tarifas_list#15388, nb_superofertas#15389L, DEVICE_DELIVERY_REPAIR_w8#15390L, INTERNET_EN_EL_MOVIL_w8#15391L, QUICK_CLOSING_w8#15392L, VOICE_AND_MOBILE_DATA_INCIDENCES_AND_SUPPORT_w8#15393L, TARIFF_MANAGEMENT_w8#15394L, PRODUCT_AND_SERVICE_MANAGEMENT_w8#15395L, MI_VODAFONE_w8#15396L, CHURN_CANCELLATIONS_w8#15397L, DSL_FIBER_INCIDENCES_AND_SUPPORT_w8#15398L, PREPAID_BALANCE_w8#15399L, COLLECTIONS_w8#15400L, NEW_ADDS_PROCESS_w8#15401L, OTHER_CUSTOMER_INFOSATIS_START_AVERIA_w8#15402L, DEVICE_UPGRADE_w8#15403L, OTHER_CUSTOMER_INFORMATION_MANAGEMENT_w8#15404L, BILLING_POSTPAID_w8#15405L, BUCKET_w8#15406L, num_calls_w8#15965L, nb_rgus_d#15408L, nb_rgus_d14#15409L, ... 94 more fields]\\n                                             +- Project [nif_cliente#15622, num_cliente#15386, tarifas_list#15388, nb_superofertas#15389L, DEVICE_DELIVERY_REPAIR_w8#15390L, INTERNET_EN_EL_MOVIL_w8#15391L, QUICK_CLOSING_w8#15392L, VOICE_AND_MOBILE_DATA_INCIDENCES_AND_SUPPORT_w8#15393L, TARIFF_MANAGEMENT_w8#15394L, PRODUCT_AND_SERVICE_MANAGEMENT_w8#15395L, MI_VODAFONE_w8#15396L, CHURN_CANCELLATIONS_w8#15397L, DSL_FIBER_INCIDENCES_AND_SUPPORT_w8#15398L, PREPAID_BALANCE_w8#15399L, COLLECTIONS_w8#15400L, NEW_ADDS_PROCESS_w8#15401L, OTHER_CUSTOMER_INFOSATIS_START_AVERIA_w8#15402L, DEVICE_UPGRADE_w8#15403L, OTHER_CUSTOMER_INFORMATION_MANAGEMENT_w8#15404L, BILLING_POSTPAID_w8#15405L, BUCKET_w8#15406L, num_calls_w8#15965L, nb_rgus_d#15408L, nb_rgus_d14#15409L, ... 94 more fields]\\n                                                +- Project [nif_cliente#15622, num_cliente#15386, tarifas_list#15388, nb_superofertas#15389L, DEVICE_DELIVERY_REPAIR_w8#15390L, INTERNET_EN_EL_MOVIL_w8#15391L, QUICK_CLOSING_w8#15392L, VOICE_AND_MOBILE_DATA_INCIDENCES_AND_SUPPORT_w8#15393L, TARIFF_MANAGEMENT_w8#15394L, PRODUCT_AND_SERVICE_MANAGEMENT_w8#15395L, MI_VODAFONE_w8#15396L, CHURN_CANCELLATIONS_w8#15397L, DSL_FIBER_INCIDENCES_AND_SUPPORT_w8#15398L, PREPAID_BALANCE_w8#15399L, COLLECTIONS_w8#15400L, NEW_ADDS_PROCESS_w8#15401L, OTHER_CUSTOMER_INFOSATIS_START_AVERIA_w8#15402L, DEVICE_UPGRADE_w8#15403L, OTHER_CUSTOMER_INFORMATION_MANAGEMENT_w8#15404L, BILLING_POSTPAID_w8#15405L, BUCKET_w8#15406L, num_calls_w8#15965L, nb_rgus_d#15408L, nb_rgus_d14#15409L, ... 93 more fields]\\n                                                   +- Project [nif_cliente#15622, num_cliente#15386, tarifas_list#15388, nb_superofertas#15389L, DEVICE_DELIVERY_REPAIR_w8#15390L, INTERNET_EN_EL_MOVIL_w8#15391L, QUICK_CLOSING_w8#15392L, VOICE_AND_MOBILE_DATA_INCIDENCES_AND_SUPPORT_w8#15393L, TARIFF_MANAGEMENT_w8#15394L, PRODUCT_AND_SERVICE_MANAGEMENT_w8#15395L, MI_VODAFONE_w8#15396L, CHURN_CANCELLATIONS_w8#15397L, DSL_FIBER_INCIDENCES_AND_SUPPORT_w8#15398L, PREPAID_BALANCE_w8#15399L, COLLECTIONS_w8#15400L, NEW_ADDS_PROCESS_w8#15401L, OTHER_CUSTOMER_INFOSATIS_START_AVERIA_w8#15402L, DEVICE_UPGRADE_w8#15403L, OTHER_CUSTOMER_INFORMATION_MANAGEMENT_w8#15404L, BILLING_POSTPAID_w8#15405L, BUCKET_w8#15406L, num_calls_w8#15965L, nb_rgus_d#15408L, nb_rgus_d14#15409L, ... 93 more fields]\\n                                                      +- Project [nif_cliente#15622, num_cliente#15386, tarifas_list#15388, nb_superofertas#15389L, DEVICE_DELIVERY_REPAIR_w8#15390L, INTERNET_EN_EL_MOVIL_w8#15391L, QUICK_CLOSING_w8#15392L, VOICE_AND_MOBILE_DATA_INCIDENCES_AND_SUPPORT_w8#15393L, TARIFF_MANAGEMENT_w8#15394L, PRODUCT_AND_SERVICE_MANAGEMENT_w8#15395L, MI_VODAFONE_w8#15396L, CHURN_CANCELLATIONS_w8#15397L, DSL_FIBER_INCIDENCES_AND_SUPPORT_w8#15398L, PREPAID_BALANCE_w8#15399L, COLLECTIONS_w8#15400L, NEW_ADDS_PROCESS_w8#15401L, OTHER_CUSTOMER_INFOSATIS_START_AVERIA_w8#15402L, DEVICE_UPGRADE_w8#15403L, OTHER_CUSTOMER_INFORMATION_MANAGEMENT_w8#15404L, BILLING_POSTPAID_w8#15405L, BUCKET_w8#15406L, num_calls_w8#15965L, nb_rgus_d#15408L, nb_rgus_d14#15409L, ... 93 more fields]\\n                                                         +- Project [nif_cliente#15622, num_cliente#15386, tarifas_list#15388, nb_superofertas#15389L, DEVICE_DELIVERY_REPAIR_w8#15390L, INTERNET_EN_EL_MOVIL_w8#15391L, QUICK_CLOSING_w8#15392L, VOICE_AND_MOBILE_DATA_INCIDENCES_AND_SUPPORT_w8#15393L, TARIFF_MANAGEMENT_w8#15394L, PRODUCT_AND_SERVICE_MANAGEMENT_w8#15395L, MI_VODAFONE_w8#15396L, CHURN_CANCELLATIONS_w8#15397L, DSL_FIBER_INCIDENCES_AND_SUPPORT_w8#15398L, PREPAID_BALANCE_w8#15399L, COLLECTIONS_w8#15400L, NEW_ADDS_PROCESS_w8#15401L, OTHER_CUSTOMER_INFOSATIS_START_AVERIA_w8#15402L, DEVICE_UPGRADE_w8#15403L, OTHER_CUSTOMER_INFORMATION_MANAGEMENT_w8#15404L, BILLING_POSTPAID_w8#15405L, BUCKET_w8#15406L, num_calls_w8#15965L, nb_rgus_d#15408L, nb_rgus_d14#15409L, ... 92 more fields]\\n                                                            +- Filter (nb_superofertas#15389L = cast(0 as bigint))\\n                                                               +- Filter (CHURN_CANCELLATIONS_w8#15397L = cast(0 as bigint))\\n                                                                  +- Project [nif_cliente#15622, num_cliente#15386, tarifas_list#15388, nb_superofertas#15389L, DEVICE_DELIVERY_REPAIR_w8#15390L, INTERNET_EN_EL_MOVIL_w8#15391L, QUICK_CLOSING_w8#15392L, VOICE_AND_MOBILE_DATA_INCIDENCES_AND_SUPPORT_w8#15393L, TARIFF_MANAGEMENT_w8#15394L, PRODUCT_AND_SERVICE_MANAGEMENT_w8#15395L, MI_VODAFONE_w8#15396L, CHURN_CANCELLATIONS_w8#15397L, DSL_FIBER_INCIDENCES_AND_SUPPORT_w8#15398L, PREPAID_BALANCE_w8#15399L, COLLECTIONS_w8#15400L, NEW_ADDS_PROCESS_w8#15401L, OTHER_CUSTOMER_INFOSATIS_START_AVERIA_w8#15402L, DEVICE_UPGRADE_w8#15403L, OTHER_CUSTOMER_INFORMATION_MANAGEMENT_w8#15404L, BILLING_POSTPAID_w8#15405L, BUCKET_w8#15406L, coalesce(num_calls_w8#15407L, cast(0.0 as bigint)) AS num_calls_w8#15965L, nb_rgus_d#15408L, nb_rgus_d14#15409L, ... 91 more fields]\\n                                                                     +- Project [nif_cliente#15622, num_cliente#15386, tarifas_list#15388, nb_superofertas#15389L, DEVICE_DELIVERY_REPAIR_w8#15390L, INTERNET_EN_EL_MOVIL_w8#15391L, QUICK_CLOSING_w8#15392L, VOICE_AND_MOBILE_DATA_INCIDENCES_AND_SUPPORT_w8#15393L, TARIFF_MANAGEMENT_w8#15394L, PRODUCT_AND_SERVICE_MANAGEMENT_w8#15395L, MI_VODAFONE_w8#15396L, CHURN_CANCELLATIONS_w8#15397L, DSL_FIBER_INCIDENCES_AND_SUPPORT_w8#15398L, PREPAID_BALANCE_w8#15399L, COLLECTIONS_w8#15400L, NEW_ADDS_PROCESS_w8#15401L, OTHER_CUSTOMER_INFOSATIS_START_AVERIA_w8#15402L, DEVICE_UPGRADE_w8#15403L, OTHER_CUSTOMER_INFORMATION_MANAGEMENT_w8#15404L, BILLING_POSTPAID_w8#15405L, BUCKET_w8#15406L, num_calls_w8#15407L, nb_rgus_d#15408L, nb_rgus_d14#15409L, ... 91 more fields]\\n                                                                        +- Join RightOuter, (nif_cliente#15387 = nif_cliente#15622)\\n                                                                           :- Relation[num_cliente#15386,nif_cliente#15387,tarifas_list#15388,nb_superofertas#15389L,DEVICE_DELIVERY_REPAIR_w8#15390L,INTERNET_EN_EL_MOVIL_w8#15391L,QUICK_CLOSING_w8#15392L,VOICE_AND_MOBILE_DATA_INCIDENCES_AND_SUPPORT_w8#15393L,TARIFF_MANAGEMENT_w8#15394L,PRODUCT_AND_SERVICE_MANAGEMENT_w8#15395L,MI_VODAFONE_w8#15396L,CHURN_CANCELLATIONS_w8#15397L,DSL_FIBER_INCIDENCES_AND_SUPPORT_w8#15398L,PREPAID_BALANCE_w8#15399L,COLLECTIONS_w8#15400L,NEW_ADDS_PROCESS_w8#15401L,OTHER_CUSTOMER_INFOSATIS_START_AVERIA_w8#15402L,DEVICE_UPGRADE_w8#15403L,OTHER_CUSTOMER_INFORMATION_MANAGEMENT_w8#15404L,BILLING_POSTPAID_w8#15405L,BUCKET_w8#15406L,num_calls_w8#15407L,nb_rgus_d#15408L,nb_rgus_d14#15409L,... 90 more fields] parquet\\n                                                                           +- Aggregate [nif_cliente#15622], [nif_cliente#15622, count(1) AS count#15618L]\\n                                                                              +- Project [nif_cliente#15622]\\n                                                                                 +- Relation[num_cliente#15621,nif_cliente#15622,tarifas_list#15623,nb_superofertas#15624L,DEVICE_DELIVERY_REPAIR_w8#15625L,INTERNET_EN_EL_MOVIL_w8#15626L,QUICK_CLOSING_w8#15627L,VOICE_AND_MOBILE_DATA_INCIDENCES_AND_SUPPORT_w8#15628L,TARIFF_MANAGEMENT_w8#15629L,PRODUCT_AND_SERVICE_MANAGEMENT_w8#15630L,MI_VODAFONE_w8#15631L,CHURN_CANCELLATIONS_w8#15632L,DSL_FIBER_INCIDENCES_AND_SUPPORT_w8#15633L,PREPAID_BALANCE_w8#15634L,COLLECTIONS_w8#15635L,NEW_ADDS_PROCESS_w8#15636L,OTHER_CUSTOMER_INFOSATIS_START_AVERIA_w8#15637L,DEVICE_UPGRADE_w8#15638L,OTHER_CUSTOMER_INFORMATION_MANAGEMENT_w8#15639L,BILLING_POSTPAID_w8#15640L,BUCKET_w8#15641L,num_calls_w8#15642L,nb_rgus_d#15643L,nb_rgus_d14#15644L,... 90 more fields] parquet\\n\"",
     "output_type": "error",
     "traceback": [
      "\u001b[0;31m---------------------------------------------------------------------------\u001b[0m",
      "\u001b[0;31mAnalysisException\u001b[0m                         Traceback (most recent call last)",
      "\u001b[0;32m<ipython-input-86-fbfe3fd481e8>\u001b[0m in \u001b[0;36m<module>\u001b[0;34m()\u001b[0m\n\u001b[1;32m      1\u001b[0m \u001b[0;34m\u001b[0m\u001b[0m\n\u001b[0;32m----> 2\u001b[0;31m \u001b[0mdf_tar_rule\u001b[0m\u001b[0;34m.\u001b[0m\u001b[0mselect\u001b[0m\u001b[0;34m(\u001b[0m\u001b[0;34m\"label\"\u001b[0m\u001b[0;34m,\u001b[0m \u001b[0;34m\"Bill_N1_InvoiceCharges_disc\"\u001b[0m\u001b[0;34m)\u001b[0m\u001b[0;34m.\u001b[0m\u001b[0mgroupby\u001b[0m\u001b[0;34m(\u001b[0m\u001b[0;34m\"label\"\u001b[0m\u001b[0;34m,\u001b[0m \u001b[0;34m\"Bill_N1_InvoiceCharges_disc\"\u001b[0m\u001b[0;34m)\u001b[0m\u001b[0;34m.\u001b[0m\u001b[0magg\u001b[0m\u001b[0;34m(\u001b[0m\u001b[0msql_count\u001b[0m\u001b[0;34m(\u001b[0m\u001b[0;34m\"*\"\u001b[0m\u001b[0;34m)\u001b[0m\u001b[0;34m.\u001b[0m\u001b[0malias\u001b[0m\u001b[0;34m(\u001b[0m\u001b[0;34m\"count\"\u001b[0m\u001b[0;34m)\u001b[0m\u001b[0;34m)\u001b[0m\u001b[0;34m.\u001b[0m\u001b[0mshow\u001b[0m\u001b[0;34m(\u001b[0m\u001b[0;34m)\u001b[0m\u001b[0;34m\u001b[0m\u001b[0m\n\u001b[0m",
      "\u001b[0;32m/opt/cloudera/parcels/SPARK2/lib/spark2/python/pyspark/sql/dataframe.py\u001b[0m in \u001b[0;36mselect\u001b[0;34m(self, *cols)\u001b[0m\n\u001b[1;32m   1200\u001b[0m         \u001b[0;34m[\u001b[0m\u001b[0mRow\u001b[0m\u001b[0;34m(\u001b[0m\u001b[0mname\u001b[0m\u001b[0;34m=\u001b[0m\u001b[0;34mu'Alice'\u001b[0m\u001b[0;34m,\u001b[0m \u001b[0mage\u001b[0m\u001b[0;34m=\u001b[0m\u001b[0;36m12\u001b[0m\u001b[0;34m)\u001b[0m\u001b[0;34m,\u001b[0m \u001b[0mRow\u001b[0m\u001b[0;34m(\u001b[0m\u001b[0mname\u001b[0m\u001b[0;34m=\u001b[0m\u001b[0;34mu'Bob'\u001b[0m\u001b[0;34m,\u001b[0m \u001b[0mage\u001b[0m\u001b[0;34m=\u001b[0m\u001b[0;36m15\u001b[0m\u001b[0;34m)\u001b[0m\u001b[0;34m]\u001b[0m\u001b[0;34m\u001b[0m\u001b[0m\n\u001b[1;32m   1201\u001b[0m         \"\"\"\n\u001b[0;32m-> 1202\u001b[0;31m         \u001b[0mjdf\u001b[0m \u001b[0;34m=\u001b[0m \u001b[0mself\u001b[0m\u001b[0;34m.\u001b[0m\u001b[0m_jdf\u001b[0m\u001b[0;34m.\u001b[0m\u001b[0mselect\u001b[0m\u001b[0;34m(\u001b[0m\u001b[0mself\u001b[0m\u001b[0;34m.\u001b[0m\u001b[0m_jcols\u001b[0m\u001b[0;34m(\u001b[0m\u001b[0;34m*\u001b[0m\u001b[0mcols\u001b[0m\u001b[0;34m)\u001b[0m\u001b[0;34m)\u001b[0m\u001b[0;34m\u001b[0m\u001b[0m\n\u001b[0m\u001b[1;32m   1203\u001b[0m         \u001b[0;32mreturn\u001b[0m \u001b[0mDataFrame\u001b[0m\u001b[0;34m(\u001b[0m\u001b[0mjdf\u001b[0m\u001b[0;34m,\u001b[0m \u001b[0mself\u001b[0m\u001b[0;34m.\u001b[0m\u001b[0msql_ctx\u001b[0m\u001b[0;34m)\u001b[0m\u001b[0;34m\u001b[0m\u001b[0m\n\u001b[1;32m   1204\u001b[0m \u001b[0;34m\u001b[0m\u001b[0m\n",
      "\u001b[0;32m/opt/cloudera/parcels/Anaconda-2.5.0/lib/python2.7/site-packages/py4j/java_gateway.pyc\u001b[0m in \u001b[0;36m__call__\u001b[0;34m(self, *args)\u001b[0m\n\u001b[1;32m   1255\u001b[0m         \u001b[0manswer\u001b[0m \u001b[0;34m=\u001b[0m \u001b[0mself\u001b[0m\u001b[0;34m.\u001b[0m\u001b[0mgateway_client\u001b[0m\u001b[0;34m.\u001b[0m\u001b[0msend_command\u001b[0m\u001b[0;34m(\u001b[0m\u001b[0mcommand\u001b[0m\u001b[0;34m)\u001b[0m\u001b[0;34m\u001b[0m\u001b[0m\n\u001b[1;32m   1256\u001b[0m         return_value = get_return_value(\n\u001b[0;32m-> 1257\u001b[0;31m             answer, self.gateway_client, self.target_id, self.name)\n\u001b[0m\u001b[1;32m   1258\u001b[0m \u001b[0;34m\u001b[0m\u001b[0m\n\u001b[1;32m   1259\u001b[0m         \u001b[0;32mfor\u001b[0m \u001b[0mtemp_arg\u001b[0m \u001b[0;32min\u001b[0m \u001b[0mtemp_args\u001b[0m\u001b[0;34m:\u001b[0m\u001b[0;34m\u001b[0m\u001b[0m\n",
      "\u001b[0;32m/opt/cloudera/parcels/SPARK2/lib/spark2/python/pyspark/sql/utils.py\u001b[0m in \u001b[0;36mdeco\u001b[0;34m(*a, **kw)\u001b[0m\n\u001b[1;32m     67\u001b[0m                                              e.java_exception.getStackTrace()))\n\u001b[1;32m     68\u001b[0m             \u001b[0;32mif\u001b[0m \u001b[0ms\u001b[0m\u001b[0;34m.\u001b[0m\u001b[0mstartswith\u001b[0m\u001b[0;34m(\u001b[0m\u001b[0;34m'org.apache.spark.sql.AnalysisException: '\u001b[0m\u001b[0;34m)\u001b[0m\u001b[0;34m:\u001b[0m\u001b[0;34m\u001b[0m\u001b[0m\n\u001b[0;32m---> 69\u001b[0;31m                 \u001b[0;32mraise\u001b[0m \u001b[0mAnalysisException\u001b[0m\u001b[0;34m(\u001b[0m\u001b[0ms\u001b[0m\u001b[0;34m.\u001b[0m\u001b[0msplit\u001b[0m\u001b[0;34m(\u001b[0m\u001b[0;34m': '\u001b[0m\u001b[0;34m,\u001b[0m \u001b[0;36m1\u001b[0m\u001b[0;34m)\u001b[0m\u001b[0;34m[\u001b[0m\u001b[0;36m1\u001b[0m\u001b[0;34m]\u001b[0m\u001b[0;34m,\u001b[0m \u001b[0mstackTrace\u001b[0m\u001b[0;34m)\u001b[0m\u001b[0;34m\u001b[0m\u001b[0m\n\u001b[0m\u001b[1;32m     70\u001b[0m             \u001b[0;32mif\u001b[0m \u001b[0ms\u001b[0m\u001b[0;34m.\u001b[0m\u001b[0mstartswith\u001b[0m\u001b[0;34m(\u001b[0m\u001b[0;34m'org.apache.spark.sql.catalyst.analysis'\u001b[0m\u001b[0;34m)\u001b[0m\u001b[0;34m:\u001b[0m\u001b[0;34m\u001b[0m\u001b[0m\n\u001b[1;32m     71\u001b[0m                 \u001b[0;32mraise\u001b[0m \u001b[0mAnalysisException\u001b[0m\u001b[0;34m(\u001b[0m\u001b[0ms\u001b[0m\u001b[0;34m.\u001b[0m\u001b[0msplit\u001b[0m\u001b[0;34m(\u001b[0m\u001b[0;34m': '\u001b[0m\u001b[0;34m,\u001b[0m \u001b[0;36m1\u001b[0m\u001b[0;34m)\u001b[0m\u001b[0;34m[\u001b[0m\u001b[0;36m1\u001b[0m\u001b[0;34m]\u001b[0m\u001b[0;34m,\u001b[0m \u001b[0mstackTrace\u001b[0m\u001b[0;34m)\u001b[0m\u001b[0;34m\u001b[0m\u001b[0m\n",
      "\u001b[0;31mAnalysisException\u001b[0m: u\"cannot resolve '`Bill_N1_InvoiceCharges_disc`' given input columns: [nb_rgus_d70, Bill_N1_Tax_Amount, Bill_N4_net_charges, billing_avg_days_bw_bills, diff_bw_bills, day, BUCKET_w8, num_cliente, Bill_N5_yearmonth_billing, nb_rgus_d56, Bill_N1_num_ids_fict, Bill_N5_net_charges, nb_rgus_d42, Bill_N1_num_facturas, Bill_N1_Debt_Amount, billing_any_vf_debt, Bill_N5_Tax_Amount, tgs_days_until_fecha_fin_dto, Bill_N5_days_since, count, Bill_N4_yearmonth_billing, num_calls_w8, Bill_N5_Amount_To_Pay, BILLING_POSTPAID_w8, tarifas_list, MI_VODAFONE_w8, Bill_N4_days_since, billing_nb_last_bills, diff_rgus_d_d14, Bill_N2_InvoiceCharges, label, flag_incremento_rgus, billing_std, Bill_N3_InvoiceCharges, Bill_N5_InvoiceCharges, Bill_N3_Debt_Amount, Bill_N5_num_facturas, Bill_N2_yearmonth_billing, least_diff_bw_bills, Bill_N3_yearmonth_billing, OTHER_CUSTOMER_INFOSATIS_START_AVERIA_w8, DSL_FIBER_INCIDENCES_AND_SUPPORT_w8, Bill_N4_Tax_Amount, OTHER_CUSTOMER_INFORMATION_MANAGEMENT_w8, COLLECTIONS_w8, aux_invoice, nb_rgus_d14, diff_rgus_d_d42, diff_rgus_d_d98, Bill_N2_Amount_To_Pay, diff_rgus_d_d28, flag_no_inc_rgus, TARIFF_MANAGEMENT_w8, QUICK_CLOSING_w8, aux_completed, CHURN_CANCELLATIONS_w8, NEW_ADDS_PROCESS_w8, Bill_N4_Debt_Amount, diff_rgus_d_d56, billing_settle_debt, flag_decremento_rgus, tgs_has_discount_d56, tgs_has_discount, INTERNET_EN_EL_MOVIL_w8, Bill_N2_Tax_Amount, tarifas_list_c6, Bill_N5_Debt_Amount, nif_cliente, segment_nif, Bill_N4_num_facturas, Bill_N3_Tax_Amount, Bill_N1_InvoiceCharges, billing_current_vf_debt, nb_tarifas, aux_debt, Bill_N2_days_since, Bill_N4_Amount_To_Pay, Bill_N4_InvoiceCharges, tgs_has_discount_d28, diff_rgus_d_d84, Bill_N3_num_ids_fict, Bill_N2_num_facturas, nb_invoices, Bill_N1_net_charges, flag_keep_rgus, Bill_N1_Amount_To_Pay, nb_rgus_d28, Bill_N1_days_since, nb_superofertas, nb_rgus_d98, billing_mean, num_ficticios, greatest_diff_bw_bills, num_tarifas_c6, billing_current_debt, nb_rgus_d, Bill_N2_net_charges, billing_current_client_debt, Bill_N4_num_ids_fict, tarifas_list_c14, Bill_N2_Debt_Amount, num_tarifas_c14, tgs_has_discount_d84, PREPAID_BALANCE_w8, Bill_N3_num_facturas, DEVICE_UPGRADE_w8, equal_c6_c14, Bill_N3_net_charges, Bill_N1_yearmonth_billing, diff_rgus_d_d70, nb_rgus_d84, Bill_N2_num_ids_fict, Bill_N3_days_since, VOICE_AND_MOBILE_DATA_INCIDENCES_AND_SUPPORT_w8, Bill_N3_Amount_To_Pay, PRODUCT_AND_SERVICE_MANAGEMENT_w8, DEVICE_DELIVERY_REPAIR_w8, Bill_N5_num_ids_fict];;\\n'Project [label#15410, 'Bill_N1_InvoiceCharges_disc]\\n+- Filter (cast(greatest_diff_bw_bills#15484 as double) > (Bill_N5_InvoiceCharges#15469 * 0.1))\\n   +- Filter (num_calls_w8#15965L > cast(2 as bigint))\\n      +- Filter (((flag_keep_rgus#19405 = 1) && (tgs_has_discount#16336 = 0)) || (flag_decremento_rgus#15430 = 1))\\n         +- Project [nif_cliente#15622, num_cliente#15386, tarifas_list#15388, nb_superofertas#15389L, DEVICE_DELIVERY_REPAIR_w8#15390L, INTERNET_EN_EL_MOVIL_w8#15391L, QUICK_CLOSING_w8#15392L, VOICE_AND_MOBILE_DATA_INCIDENCES_AND_SUPPORT_w8#15393L, TARIFF_MANAGEMENT_w8#15394L, PRODUCT_AND_SERVICE_MANAGEMENT_w8#15395L, MI_VODAFONE_w8#15396L, CHURN_CANCELLATIONS_w8#15397L, DSL_FIBER_INCIDENCES_AND_SUPPORT_w8#15398L, PREPAID_BALANCE_w8#15399L, COLLECTIONS_w8#15400L, NEW_ADDS_PROCESS_w8#15401L, OTHER_CUSTOMER_INFOSATIS_START_AVERIA_w8#15402L, DEVICE_UPGRADE_w8#15403L, OTHER_CUSTOMER_INFORMATION_MANAGEMENT_w8#15404L, BILLING_POSTPAID_w8#15405L, BUCKET_w8#15406L, num_calls_w8#15965L, nb_rgus_d#15408L, nb_rgus_d14#15409L, ... 94 more fields]\\n            +- Project [nif_cliente#15622, num_cliente#15386, tarifas_list#15388, nb_superofertas#15389L, DEVICE_DELIVERY_REPAIR_w8#15390L, INTERNET_EN_EL_MOVIL_w8#15391L, QUICK_CLOSING_w8#15392L, VOICE_AND_MOBILE_DATA_INCIDENCES_AND_SUPPORT_w8#15393L, TARIFF_MANAGEMENT_w8#15394L, PRODUCT_AND_SERVICE_MANAGEMENT_w8#15395L, MI_VODAFONE_w8#15396L, CHURN_CANCELLATIONS_w8#15397L, DSL_FIBER_INCIDENCES_AND_SUPPORT_w8#15398L, PREPAID_BALANCE_w8#15399L, COLLECTIONS_w8#15400L, NEW_ADDS_PROCESS_w8#15401L, OTHER_CUSTOMER_INFOSATIS_START_AVERIA_w8#15402L, DEVICE_UPGRADE_w8#15403L, OTHER_CUSTOMER_INFORMATION_MANAGEMENT_w8#15404L, BILLING_POSTPAID_w8#15405L, BUCKET_w8#15406L, num_calls_w8#15965L, nb_rgus_d#15408L, nb_rgus_d14#15409L, ... 94 more fields]\\n               +- Project [nif_cliente#15622, num_cliente#15386, tarifas_list#15388, nb_superofertas#15389L, DEVICE_DELIVERY_REPAIR_w8#15390L, INTERNET_EN_EL_MOVIL_w8#15391L, QUICK_CLOSING_w8#15392L, VOICE_AND_MOBILE_DATA_INCIDENCES_AND_SUPPORT_w8#15393L, TARIFF_MANAGEMENT_w8#15394L, PRODUCT_AND_SERVICE_MANAGEMENT_w8#15395L, MI_VODAFONE_w8#15396L, CHURN_CANCELLATIONS_w8#15397L, DSL_FIBER_INCIDENCES_AND_SUPPORT_w8#15398L, PREPAID_BALANCE_w8#15399L, COLLECTIONS_w8#15400L, NEW_ADDS_PROCESS_w8#15401L, OTHER_CUSTOMER_INFOSATIS_START_AVERIA_w8#15402L, DEVICE_UPGRADE_w8#15403L, OTHER_CUSTOMER_INFORMATION_MANAGEMENT_w8#15404L, BILLING_POSTPAID_w8#15405L, BUCKET_w8#15406L, num_calls_w8#15965L, nb_rgus_d#15408L, nb_rgus_d14#15409L, ... 94 more fields]\\n                  +- Project [nif_cliente#15622, num_cliente#15386, tarifas_list#15388, nb_superofertas#15389L, DEVICE_DELIVERY_REPAIR_w8#15390L, INTERNET_EN_EL_MOVIL_w8#15391L, QUICK_CLOSING_w8#15392L, VOICE_AND_MOBILE_DATA_INCIDENCES_AND_SUPPORT_w8#15393L, TARIFF_MANAGEMENT_w8#15394L, PRODUCT_AND_SERVICE_MANAGEMENT_w8#15395L, MI_VODAFONE_w8#15396L, CHURN_CANCELLATIONS_w8#15397L, DSL_FIBER_INCIDENCES_AND_SUPPORT_w8#15398L, PREPAID_BALANCE_w8#15399L, COLLECTIONS_w8#15400L, NEW_ADDS_PROCESS_w8#15401L, OTHER_CUSTOMER_INFOSATIS_START_AVERIA_w8#15402L, DEVICE_UPGRADE_w8#15403L, OTHER_CUSTOMER_INFORMATION_MANAGEMENT_w8#15404L, BILLING_POSTPAID_w8#15405L, BUCKET_w8#15406L, num_calls_w8#15965L, nb_rgus_d#15408L, nb_rgus_d14#15409L, ... 94 more fields]\\n                     +- Project [nif_cliente#15622, num_cliente#15386, tarifas_list#15388, nb_superofertas#15389L, DEVICE_DELIVERY_REPAIR_w8#15390L, INTERNET_EN_EL_MOVIL_w8#15391L, QUICK_CLOSING_w8#15392L, VOICE_AND_MOBILE_DATA_INCIDENCES_AND_SUPPORT_w8#15393L, TARIFF_MANAGEMENT_w8#15394L, PRODUCT_AND_SERVICE_MANAGEMENT_w8#15395L, MI_VODAFONE_w8#15396L, CHURN_CANCELLATIONS_w8#15397L, DSL_FIBER_INCIDENCES_AND_SUPPORT_w8#15398L, PREPAID_BALANCE_w8#15399L, COLLECTIONS_w8#15400L, NEW_ADDS_PROCESS_w8#15401L, OTHER_CUSTOMER_INFOSATIS_START_AVERIA_w8#15402L, DEVICE_UPGRADE_w8#15403L, OTHER_CUSTOMER_INFORMATION_MANAGEMENT_w8#15404L, BILLING_POSTPAID_w8#15405L, BUCKET_w8#15406L, num_calls_w8#15965L, nb_rgus_d#15408L, nb_rgus_d14#15409L, ... 94 more fields]\\n                        +- Project [nif_cliente#15622, num_cliente#15386, tarifas_list#15388, nb_superofertas#15389L, DEVICE_DELIVERY_REPAIR_w8#15390L, INTERNET_EN_EL_MOVIL_w8#15391L, QUICK_CLOSING_w8#15392L, VOICE_AND_MOBILE_DATA_INCIDENCES_AND_SUPPORT_w8#15393L, TARIFF_MANAGEMENT_w8#15394L, PRODUCT_AND_SERVICE_MANAGEMENT_w8#15395L, MI_VODAFONE_w8#15396L, CHURN_CANCELLATIONS_w8#15397L, DSL_FIBER_INCIDENCES_AND_SUPPORT_w8#15398L, PREPAID_BALANCE_w8#15399L, COLLECTIONS_w8#15400L, NEW_ADDS_PROCESS_w8#15401L, OTHER_CUSTOMER_INFOSATIS_START_AVERIA_w8#15402L, DEVICE_UPGRADE_w8#15403L, OTHER_CUSTOMER_INFORMATION_MANAGEMENT_w8#15404L, BILLING_POSTPAID_w8#15405L, BUCKET_w8#15406L, num_calls_w8#15965L, nb_rgus_d#15408L, nb_rgus_d14#15409L, ... 94 more fields]\\n                           +- Project [nif_cliente#15622, num_cliente#15386, tarifas_list#15388, nb_superofertas#15389L, DEVICE_DELIVERY_REPAIR_w8#15390L, INTERNET_EN_EL_MOVIL_w8#15391L, QUICK_CLOSING_w8#15392L, VOICE_AND_MOBILE_DATA_INCIDENCES_AND_SUPPORT_w8#15393L, TARIFF_MANAGEMENT_w8#15394L, PRODUCT_AND_SERVICE_MANAGEMENT_w8#15395L, MI_VODAFONE_w8#15396L, CHURN_CANCELLATIONS_w8#15397L, DSL_FIBER_INCIDENCES_AND_SUPPORT_w8#15398L, PREPAID_BALANCE_w8#15399L, COLLECTIONS_w8#15400L, NEW_ADDS_PROCESS_w8#15401L, OTHER_CUSTOMER_INFOSATIS_START_AVERIA_w8#15402L, DEVICE_UPGRADE_w8#15403L, OTHER_CUSTOMER_INFORMATION_MANAGEMENT_w8#15404L, BILLING_POSTPAID_w8#15405L, BUCKET_w8#15406L, num_calls_w8#15965L, nb_rgus_d#15408L, nb_rgus_d14#15409L, ... 94 more fields]\\n                              +- Project [nif_cliente#15622, num_cliente#15386, tarifas_list#15388, nb_superofertas#15389L, DEVICE_DELIVERY_REPAIR_w8#15390L, INTERNET_EN_EL_MOVIL_w8#15391L, QUICK_CLOSING_w8#15392L, VOICE_AND_MOBILE_DATA_INCIDENCES_AND_SUPPORT_w8#15393L, TARIFF_MANAGEMENT_w8#15394L, PRODUCT_AND_SERVICE_MANAGEMENT_w8#15395L, MI_VODAFONE_w8#15396L, CHURN_CANCELLATIONS_w8#15397L, DSL_FIBER_INCIDENCES_AND_SUPPORT_w8#15398L, PREPAID_BALANCE_w8#15399L, COLLECTIONS_w8#15400L, NEW_ADDS_PROCESS_w8#15401L, OTHER_CUSTOMER_INFOSATIS_START_AVERIA_w8#15402L, DEVICE_UPGRADE_w8#15403L, OTHER_CUSTOMER_INFORMATION_MANAGEMENT_w8#15404L, BILLING_POSTPAID_w8#15405L, BUCKET_w8#15406L, num_calls_w8#15965L, nb_rgus_d#15408L, nb_rgus_d14#15409L, ... 94 more fields]\\n                                 +- Project [nif_cliente#15622, num_cliente#15386, tarifas_list#15388, nb_superofertas#15389L, DEVICE_DELIVERY_REPAIR_w8#15390L, INTERNET_EN_EL_MOVIL_w8#15391L, QUICK_CLOSING_w8#15392L, VOICE_AND_MOBILE_DATA_INCIDENCES_AND_SUPPORT_w8#15393L, TARIFF_MANAGEMENT_w8#15394L, PRODUCT_AND_SERVICE_MANAGEMENT_w8#15395L, MI_VODAFONE_w8#15396L, CHURN_CANCELLATIONS_w8#15397L, DSL_FIBER_INCIDENCES_AND_SUPPORT_w8#15398L, PREPAID_BALANCE_w8#15399L, COLLECTIONS_w8#15400L, NEW_ADDS_PROCESS_w8#15401L, OTHER_CUSTOMER_INFOSATIS_START_AVERIA_w8#15402L, DEVICE_UPGRADE_w8#15403L, OTHER_CUSTOMER_INFORMATION_MANAGEMENT_w8#15404L, BILLING_POSTPAID_w8#15405L, BUCKET_w8#15406L, num_calls_w8#15965L, nb_rgus_d#15408L, nb_rgus_d14#15409L, ... 94 more fields]\\n                                    +- Project [nif_cliente#15622, num_cliente#15386, tarifas_list#15388, nb_superofertas#15389L, DEVICE_DELIVERY_REPAIR_w8#15390L, INTERNET_EN_EL_MOVIL_w8#15391L, QUICK_CLOSING_w8#15392L, VOICE_AND_MOBILE_DATA_INCIDENCES_AND_SUPPORT_w8#15393L, TARIFF_MANAGEMENT_w8#15394L, PRODUCT_AND_SERVICE_MANAGEMENT_w8#15395L, MI_VODAFONE_w8#15396L, CHURN_CANCELLATIONS_w8#15397L, DSL_FIBER_INCIDENCES_AND_SUPPORT_w8#15398L, PREPAID_BALANCE_w8#15399L, COLLECTIONS_w8#15400L, NEW_ADDS_PROCESS_w8#15401L, OTHER_CUSTOMER_INFOSATIS_START_AVERIA_w8#15402L, DEVICE_UPGRADE_w8#15403L, OTHER_CUSTOMER_INFORMATION_MANAGEMENT_w8#15404L, BILLING_POSTPAID_w8#15405L, BUCKET_w8#15406L, num_calls_w8#15965L, nb_rgus_d#15408L, nb_rgus_d14#15409L, ... 94 more fields]\\n                                       +- Project [nif_cliente#15622, num_cliente#15386, tarifas_list#15388, nb_superofertas#15389L, DEVICE_DELIVERY_REPAIR_w8#15390L, INTERNET_EN_EL_MOVIL_w8#15391L, QUICK_CLOSING_w8#15392L, VOICE_AND_MOBILE_DATA_INCIDENCES_AND_SUPPORT_w8#15393L, TARIFF_MANAGEMENT_w8#15394L, PRODUCT_AND_SERVICE_MANAGEMENT_w8#15395L, MI_VODAFONE_w8#15396L, CHURN_CANCELLATIONS_w8#15397L, DSL_FIBER_INCIDENCES_AND_SUPPORT_w8#15398L, PREPAID_BALANCE_w8#15399L, COLLECTIONS_w8#15400L, NEW_ADDS_PROCESS_w8#15401L, OTHER_CUSTOMER_INFOSATIS_START_AVERIA_w8#15402L, DEVICE_UPGRADE_w8#15403L, OTHER_CUSTOMER_INFORMATION_MANAGEMENT_w8#15404L, BILLING_POSTPAID_w8#15405L, BUCKET_w8#15406L, num_calls_w8#15965L, nb_rgus_d#15408L, nb_rgus_d14#15409L, ... 94 more fields]\\n                                          +- Project [nif_cliente#15622, num_cliente#15386, tarifas_list#15388, nb_superofertas#15389L, DEVICE_DELIVERY_REPAIR_w8#15390L, INTERNET_EN_EL_MOVIL_w8#15391L, QUICK_CLOSING_w8#15392L, VOICE_AND_MOBILE_DATA_INCIDENCES_AND_SUPPORT_w8#15393L, TARIFF_MANAGEMENT_w8#15394L, PRODUCT_AND_SERVICE_MANAGEMENT_w8#15395L, MI_VODAFONE_w8#15396L, CHURN_CANCELLATIONS_w8#15397L, DSL_FIBER_INCIDENCES_AND_SUPPORT_w8#15398L, PREPAID_BALANCE_w8#15399L, COLLECTIONS_w8#15400L, NEW_ADDS_PROCESS_w8#15401L, OTHER_CUSTOMER_INFOSATIS_START_AVERIA_w8#15402L, DEVICE_UPGRADE_w8#15403L, OTHER_CUSTOMER_INFORMATION_MANAGEMENT_w8#15404L, BILLING_POSTPAID_w8#15405L, BUCKET_w8#15406L, num_calls_w8#15965L, nb_rgus_d#15408L, nb_rgus_d14#15409L, ... 94 more fields]\\n                                             +- Project [nif_cliente#15622, num_cliente#15386, tarifas_list#15388, nb_superofertas#15389L, DEVICE_DELIVERY_REPAIR_w8#15390L, INTERNET_EN_EL_MOVIL_w8#15391L, QUICK_CLOSING_w8#15392L, VOICE_AND_MOBILE_DATA_INCIDENCES_AND_SUPPORT_w8#15393L, TARIFF_MANAGEMENT_w8#15394L, PRODUCT_AND_SERVICE_MANAGEMENT_w8#15395L, MI_VODAFONE_w8#15396L, CHURN_CANCELLATIONS_w8#15397L, DSL_FIBER_INCIDENCES_AND_SUPPORT_w8#15398L, PREPAID_BALANCE_w8#15399L, COLLECTIONS_w8#15400L, NEW_ADDS_PROCESS_w8#15401L, OTHER_CUSTOMER_INFOSATIS_START_AVERIA_w8#15402L, DEVICE_UPGRADE_w8#15403L, OTHER_CUSTOMER_INFORMATION_MANAGEMENT_w8#15404L, BILLING_POSTPAID_w8#15405L, BUCKET_w8#15406L, num_calls_w8#15965L, nb_rgus_d#15408L, nb_rgus_d14#15409L, ... 94 more fields]\\n                                                +- Project [nif_cliente#15622, num_cliente#15386, tarifas_list#15388, nb_superofertas#15389L, DEVICE_DELIVERY_REPAIR_w8#15390L, INTERNET_EN_EL_MOVIL_w8#15391L, QUICK_CLOSING_w8#15392L, VOICE_AND_MOBILE_DATA_INCIDENCES_AND_SUPPORT_w8#15393L, TARIFF_MANAGEMENT_w8#15394L, PRODUCT_AND_SERVICE_MANAGEMENT_w8#15395L, MI_VODAFONE_w8#15396L, CHURN_CANCELLATIONS_w8#15397L, DSL_FIBER_INCIDENCES_AND_SUPPORT_w8#15398L, PREPAID_BALANCE_w8#15399L, COLLECTIONS_w8#15400L, NEW_ADDS_PROCESS_w8#15401L, OTHER_CUSTOMER_INFOSATIS_START_AVERIA_w8#15402L, DEVICE_UPGRADE_w8#15403L, OTHER_CUSTOMER_INFORMATION_MANAGEMENT_w8#15404L, BILLING_POSTPAID_w8#15405L, BUCKET_w8#15406L, num_calls_w8#15965L, nb_rgus_d#15408L, nb_rgus_d14#15409L, ... 93 more fields]\\n                                                   +- Project [nif_cliente#15622, num_cliente#15386, tarifas_list#15388, nb_superofertas#15389L, DEVICE_DELIVERY_REPAIR_w8#15390L, INTERNET_EN_EL_MOVIL_w8#15391L, QUICK_CLOSING_w8#15392L, VOICE_AND_MOBILE_DATA_INCIDENCES_AND_SUPPORT_w8#15393L, TARIFF_MANAGEMENT_w8#15394L, PRODUCT_AND_SERVICE_MANAGEMENT_w8#15395L, MI_VODAFONE_w8#15396L, CHURN_CANCELLATIONS_w8#15397L, DSL_FIBER_INCIDENCES_AND_SUPPORT_w8#15398L, PREPAID_BALANCE_w8#15399L, COLLECTIONS_w8#15400L, NEW_ADDS_PROCESS_w8#15401L, OTHER_CUSTOMER_INFOSATIS_START_AVERIA_w8#15402L, DEVICE_UPGRADE_w8#15403L, OTHER_CUSTOMER_INFORMATION_MANAGEMENT_w8#15404L, BILLING_POSTPAID_w8#15405L, BUCKET_w8#15406L, num_calls_w8#15965L, nb_rgus_d#15408L, nb_rgus_d14#15409L, ... 93 more fields]\\n                                                      +- Project [nif_cliente#15622, num_cliente#15386, tarifas_list#15388, nb_superofertas#15389L, DEVICE_DELIVERY_REPAIR_w8#15390L, INTERNET_EN_EL_MOVIL_w8#15391L, QUICK_CLOSING_w8#15392L, VOICE_AND_MOBILE_DATA_INCIDENCES_AND_SUPPORT_w8#15393L, TARIFF_MANAGEMENT_w8#15394L, PRODUCT_AND_SERVICE_MANAGEMENT_w8#15395L, MI_VODAFONE_w8#15396L, CHURN_CANCELLATIONS_w8#15397L, DSL_FIBER_INCIDENCES_AND_SUPPORT_w8#15398L, PREPAID_BALANCE_w8#15399L, COLLECTIONS_w8#15400L, NEW_ADDS_PROCESS_w8#15401L, OTHER_CUSTOMER_INFOSATIS_START_AVERIA_w8#15402L, DEVICE_UPGRADE_w8#15403L, OTHER_CUSTOMER_INFORMATION_MANAGEMENT_w8#15404L, BILLING_POSTPAID_w8#15405L, BUCKET_w8#15406L, num_calls_w8#15965L, nb_rgus_d#15408L, nb_rgus_d14#15409L, ... 93 more fields]\\n                                                         +- Project [nif_cliente#15622, num_cliente#15386, tarifas_list#15388, nb_superofertas#15389L, DEVICE_DELIVERY_REPAIR_w8#15390L, INTERNET_EN_EL_MOVIL_w8#15391L, QUICK_CLOSING_w8#15392L, VOICE_AND_MOBILE_DATA_INCIDENCES_AND_SUPPORT_w8#15393L, TARIFF_MANAGEMENT_w8#15394L, PRODUCT_AND_SERVICE_MANAGEMENT_w8#15395L, MI_VODAFONE_w8#15396L, CHURN_CANCELLATIONS_w8#15397L, DSL_FIBER_INCIDENCES_AND_SUPPORT_w8#15398L, PREPAID_BALANCE_w8#15399L, COLLECTIONS_w8#15400L, NEW_ADDS_PROCESS_w8#15401L, OTHER_CUSTOMER_INFOSATIS_START_AVERIA_w8#15402L, DEVICE_UPGRADE_w8#15403L, OTHER_CUSTOMER_INFORMATION_MANAGEMENT_w8#15404L, BILLING_POSTPAID_w8#15405L, BUCKET_w8#15406L, num_calls_w8#15965L, nb_rgus_d#15408L, nb_rgus_d14#15409L, ... 92 more fields]\\n                                                            +- Filter (nb_superofertas#15389L = cast(0 as bigint))\\n                                                               +- Filter (CHURN_CANCELLATIONS_w8#15397L = cast(0 as bigint))\\n                                                                  +- Project [nif_cliente#15622, num_cliente#15386, tarifas_list#15388, nb_superofertas#15389L, DEVICE_DELIVERY_REPAIR_w8#15390L, INTERNET_EN_EL_MOVIL_w8#15391L, QUICK_CLOSING_w8#15392L, VOICE_AND_MOBILE_DATA_INCIDENCES_AND_SUPPORT_w8#15393L, TARIFF_MANAGEMENT_w8#15394L, PRODUCT_AND_SERVICE_MANAGEMENT_w8#15395L, MI_VODAFONE_w8#15396L, CHURN_CANCELLATIONS_w8#15397L, DSL_FIBER_INCIDENCES_AND_SUPPORT_w8#15398L, PREPAID_BALANCE_w8#15399L, COLLECTIONS_w8#15400L, NEW_ADDS_PROCESS_w8#15401L, OTHER_CUSTOMER_INFOSATIS_START_AVERIA_w8#15402L, DEVICE_UPGRADE_w8#15403L, OTHER_CUSTOMER_INFORMATION_MANAGEMENT_w8#15404L, BILLING_POSTPAID_w8#15405L, BUCKET_w8#15406L, coalesce(num_calls_w8#15407L, cast(0.0 as bigint)) AS num_calls_w8#15965L, nb_rgus_d#15408L, nb_rgus_d14#15409L, ... 91 more fields]\\n                                                                     +- Project [nif_cliente#15622, num_cliente#15386, tarifas_list#15388, nb_superofertas#15389L, DEVICE_DELIVERY_REPAIR_w8#15390L, INTERNET_EN_EL_MOVIL_w8#15391L, QUICK_CLOSING_w8#15392L, VOICE_AND_MOBILE_DATA_INCIDENCES_AND_SUPPORT_w8#15393L, TARIFF_MANAGEMENT_w8#15394L, PRODUCT_AND_SERVICE_MANAGEMENT_w8#15395L, MI_VODAFONE_w8#15396L, CHURN_CANCELLATIONS_w8#15397L, DSL_FIBER_INCIDENCES_AND_SUPPORT_w8#15398L, PREPAID_BALANCE_w8#15399L, COLLECTIONS_w8#15400L, NEW_ADDS_PROCESS_w8#15401L, OTHER_CUSTOMER_INFOSATIS_START_AVERIA_w8#15402L, DEVICE_UPGRADE_w8#15403L, OTHER_CUSTOMER_INFORMATION_MANAGEMENT_w8#15404L, BILLING_POSTPAID_w8#15405L, BUCKET_w8#15406L, num_calls_w8#15407L, nb_rgus_d#15408L, nb_rgus_d14#15409L, ... 91 more fields]\\n                                                                        +- Join RightOuter, (nif_cliente#15387 = nif_cliente#15622)\\n                                                                           :- Relation[num_cliente#15386,nif_cliente#15387,tarifas_list#15388,nb_superofertas#15389L,DEVICE_DELIVERY_REPAIR_w8#15390L,INTERNET_EN_EL_MOVIL_w8#15391L,QUICK_CLOSING_w8#15392L,VOICE_AND_MOBILE_DATA_INCIDENCES_AND_SUPPORT_w8#15393L,TARIFF_MANAGEMENT_w8#15394L,PRODUCT_AND_SERVICE_MANAGEMENT_w8#15395L,MI_VODAFONE_w8#15396L,CHURN_CANCELLATIONS_w8#15397L,DSL_FIBER_INCIDENCES_AND_SUPPORT_w8#15398L,PREPAID_BALANCE_w8#15399L,COLLECTIONS_w8#15400L,NEW_ADDS_PROCESS_w8#15401L,OTHER_CUSTOMER_INFOSATIS_START_AVERIA_w8#15402L,DEVICE_UPGRADE_w8#15403L,OTHER_CUSTOMER_INFORMATION_MANAGEMENT_w8#15404L,BILLING_POSTPAID_w8#15405L,BUCKET_w8#15406L,num_calls_w8#15407L,nb_rgus_d#15408L,nb_rgus_d14#15409L,... 90 more fields] parquet\\n                                                                           +- Aggregate [nif_cliente#15622], [nif_cliente#15622, count(1) AS count#15618L]\\n                                                                              +- Project [nif_cliente#15622]\\n                                                                                 +- Relation[num_cliente#15621,nif_cliente#15622,tarifas_list#15623,nb_superofertas#15624L,DEVICE_DELIVERY_REPAIR_w8#15625L,INTERNET_EN_EL_MOVIL_w8#15626L,QUICK_CLOSING_w8#15627L,VOICE_AND_MOBILE_DATA_INCIDENCES_AND_SUPPORT_w8#15628L,TARIFF_MANAGEMENT_w8#15629L,PRODUCT_AND_SERVICE_MANAGEMENT_w8#15630L,MI_VODAFONE_w8#15631L,CHURN_CANCELLATIONS_w8#15632L,DSL_FIBER_INCIDENCES_AND_SUPPORT_w8#15633L,PREPAID_BALANCE_w8#15634L,COLLECTIONS_w8#15635L,NEW_ADDS_PROCESS_w8#15636L,OTHER_CUSTOMER_INFOSATIS_START_AVERIA_w8#15637L,DEVICE_UPGRADE_w8#15638L,OTHER_CUSTOMER_INFORMATION_MANAGEMENT_w8#15639L,BILLING_POSTPAID_w8#15640L,BUCKET_w8#15641L,num_calls_w8#15642L,nb_rgus_d#15643L,nb_rgus_d14#15644L,... 90 more fields] parquet\\n\""
     ]
    }
   ],
   "source": [
    "df_tar_rule.select(\"label\", \"Bill_N1_InvoiceCharges_disc\").groupby(\"label\", \"Bill_N1_InvoiceCharges_disc\").agg(sql_count(\"*\").alias(\"count\")).show()"
   ]
  },
  {
   "cell_type": "code",
   "execution_count": 91,
   "metadata": {},
   "outputs": [
    {
     "name": "stdout",
     "output_type": "stream",
     "text": [
      "[-inf, 53.33, 81.3, 121.8, inf]\n",
      "[-inf, 15.575999999999999, 23.05, 36.505, inf]\n",
      "+-----+-------------------+-----+\n",
      "|label|mean_price_rgu_disc|count|\n",
      "+-----+-------------------+-----+\n",
      "|  0.0|               null|    1|\n",
      "|  1.0|                1.0|  262|\n",
      "|  0.0|                1.0| 4471|\n",
      "|  1.0|                0.0|  201|\n",
      "|  1.0|                2.0|  311|\n",
      "|  0.0|                0.0| 4535|\n",
      "|  1.0|                3.0|  274|\n",
      "|  0.0|                2.0| 4432|\n",
      "|  0.0|                3.0| 4441|\n",
      "+-----+-------------------+-----+\n",
      "\n"
     ]
    }
   ],
   "source": [
    "## from pyspark.ml.feature import QuantileDiscretizer\n",
    "\n",
    "for var in [\"Bill_N1_InvoiceCharges\", \"mean_price_rgu\"]:\n",
    "    if var+\"_disc\" in df_tar_rule.columns:\n",
    "        df_tar_rule = df_tar_rule.drop(var+\"_disc\")\n",
    "    discretizer = QuantileDiscretizer(numBuckets=4, inputCol=var, outputCol=var+\"_disc\", relativeError=0.001)\n",
    "    bucketizer = discretizer.fit(df_tar_rule)\n",
    "    df_tar_rule = bucketizer.transform(df_tar_rule)\n",
    "    print(bucketizer.getSplits())\n",
    "\n",
    "# [-inf, 29.25, 49.72, 75.19, inf]\n",
    "df_tar_rule.select(\"label\", \"mean_price_rgu_disc\").groupby(\"label\", \"mean_price_rgu_disc\").agg(sql_count(\"*\").alias(\"count\"), ).show()\n"
   ]
  },
  {
   "cell_type": "code",
   "execution_count": 93,
   "metadata": {},
   "outputs": [
    {
     "name": "stdout",
     "output_type": "stream",
     "text": [
      "+-----+-------------------+-----+\n",
      "|label|mean_price_rgu_disc|count|\n",
      "+-----+-------------------+-----+\n",
      "|  0.0|                0.0| 4535|\n",
      "|  0.0|                1.0| 4471|\n",
      "|  0.0|                3.0| 4441|\n",
      "|  0.0|                2.0| 4432|\n",
      "|  1.0|                2.0|  311|\n",
      "|  1.0|                3.0|  274|\n",
      "|  1.0|                1.0|  262|\n",
      "|  1.0|                0.0|  201|\n",
      "|  0.0|               null|    1|\n",
      "+-----+-------------------+-----+\n",
      "\n"
     ]
    }
   ],
   "source": [
    "df_tar_rule.select(\"label\", \"mean_price_rgu_disc\").groupby(\"label\", \"mean_price_rgu_disc\").agg(sql_count(\"*\").alias(\"count\")).sort(desc(\"count\")).show()\n"
   ]
  },
  {
   "cell_type": "code",
   "execution_count": 8,
   "metadata": {},
   "outputs": [
    {
     "name": "stdout",
     "output_type": "stream",
     "text": [
      "+-----+-------+-------+-------+-------+-------+\n",
      "|label|cohort1|cohort2|cohort3|cohort4|  count|\n",
      "+-----+-------+-------+-------+-------+-------+\n",
      "|  0.0|   null|   null|   null|   null|3670342|\n",
      "|  0.0|   null|   null|      C|   null|   1598|\n",
      "|  1.0|   null|   null|      C|      D|     58|\n",
      "|  1.0|   null|      B|      C|   null|      7|\n",
      "|  1.0|   null|   null|      C|   null|    107|\n",
      "|  1.0|   null|      B|   null|      D|     14|\n",
      "|  1.0|   null|   null|   null|   null|  88164|\n",
      "|  0.0|   null|      B|   null|   null|   2286|\n",
      "|  1.0|   null|      B|      C|      D|     11|\n",
      "|  0.0|      A|   null|   null|      D|     35|\n",
      "|  0.0|   null|   null|   null|      D|   8896|\n",
      "|  1.0|      A|   null|   null|   null|     36|\n",
      "|  1.0|   null|      B|   null|   null|    147|\n",
      "|  0.0|   null|      B|      C|      D|     86|\n",
      "|  1.0|   null|   null|   null|      D|    521|\n",
      "|  0.0|   null|      B|   null|      D|    191|\n",
      "|  0.0|   null|      B|      C|   null|    130|\n",
      "|  0.0|      A|   null|   null|   null|    345|\n",
      "|  0.0|   null|   null|      C|      D|    763|\n",
      "|  1.0|      A|   null|   null|      D|      7|\n",
      "+-----+-------+-------+-------+-------+-------+\n",
      "\n",
      "+-----+---------+-------+\n",
      "|label|in_cohort|  count|\n",
      "+-----+---------+-------+\n",
      "|  1.0|        0|  88164|\n",
      "|  0.0|        0|3670342|\n",
      "|  0.0|        1|  14330|\n",
      "|  1.0|        1|    908|\n",
      "+-----+---------+-------+\n",
      "\n",
      "LIFT = 2.3015254106 || CHURN 5.95878724242% || VOLUME=15238\n"
     ]
    }
   ],
   "source": [
    "\n",
    "from pyspark.sql.functions import trim\n",
    "\n",
    "df_tar_f = df_tar_f.withColumn(\"cohort\", lit(\"\"))\n",
    "\n",
    "# - - - - - - - \n",
    "# REGLA 1\n",
    "# - - - - - - - \n",
    "df_tar_f = df_tar_f.withColumn(\"cohort1\", when( ((col(\"billing_nb_last_bills\")==5) \n",
    "                                              & (col(\"equal_c6_c14\")==0) \n",
    "                                              & (col(\"tgs_has_discount_d84\")>col(\"tgs_has_discount\")) \n",
    "                                              & (col('billing_std') > (0.4*col(\"billing_mean\")))\n",
    "                                              & (col('billing_mean') > 60)\n",
    "                                              & (col('Bill_N1_days_since')<75)\n",
    "                                              & (col(\"Bill_N1_InvoiceCharges\") > col(\"Bill_N5_InvoiceCharges\"))), \"A\").otherwise(None))\n",
    "# - - - - - - - \n",
    "# REGLA 2\n",
    "# - - - - - - - \n",
    "df_tar_f = df_tar_f.withColumn(\"cohort2\", when( (col(\"billing_nb_last_bills\")==5) &\n",
    "                   (col(\"greatest_diff_bw_bills\")>50) &\n",
    "                   (col(\"equal_c6_c14\")==0) &\n",
    "                   (col(\"tgs_has_discount_d84\")==col(\"tgs_has_discount\")) &\n",
    "                   ( col('billing_std') > (0.5*col(\"billing_mean\"))) &\n",
    "                   ( col('billing_mean') > 35) & \n",
    "                   (col('Bill_N1_days_since')<35) &\n",
    "                   (  ((col(\"Bill_N2_InvoiceCharges\") > (1.35 * col(\"Bill_N4_InvoiceCharges\"))) & \n",
    "                             (col(\"Bill_N1_InvoiceCharges\") > (1.35 * col(\"Bill_N4_InvoiceCharges\")))) |\n",
    "                             ((col(\"Bill_N2_InvoiceCharges\") > (1.35 * col(\"Bill_N5_InvoiceCharges\"))) &  \n",
    "                             (col(\"Bill_N1_InvoiceCharges\") > (1.35 * col(\"Bill_N5_InvoiceCharges\")))) \n",
    "                            ), \"B\").otherwise(None))  \n",
    "\n",
    "# - - - - - - - \n",
    "# REGLA 3\n",
    "# - - - - - - - \n",
    "df_tar_f = df_tar_f.withColumn(\"cohort3\", when( (col(\"billing_nb_last_bills\")==5) &\n",
    "                    (col(\"greatest_diff_bw_bills\")>50) &\n",
    "                    (col('num_calls_w8')>1) &\n",
    "                    (col('nb_rgus_d')<=col('nb_rgus_d84')) &\n",
    "                    (col(\"tgs_has_discount_d84\")==col(\"tgs_has_discount\")) &\n",
    "                    (  ((col(\"Bill_N2_InvoiceCharges\") > (2.5 * col(\"Bill_N4_InvoiceCharges\"))) |\n",
    "                              (col(\"Bill_N1_InvoiceCharges\") > (2.5 * col(\"Bill_N4_InvoiceCharges\")))) &\n",
    "                             ((col(\"Bill_N2_InvoiceCharges\") > (2.5 * col(\"Bill_N5_InvoiceCharges\"))) |  \n",
    "                              (col(\"Bill_N1_InvoiceCharges\") > (2.5 * col(\"Bill_N5_InvoiceCharges\")))) &               \n",
    "                             ((col(\"Bill_N2_InvoiceCharges\") > (2.5 * col(\"Bill_N3_InvoiceCharges\"))) |  \n",
    "                              (col(\"Bill_N1_InvoiceCharges\") > (2.5 * col(\"Bill_N3_InvoiceCharges\")))) \n",
    "                             ),\"C\"   ).otherwise(None))\n",
    "\n",
    "\n",
    "# - - - - - - - \n",
    "# REGLA 4\n",
    "# - - - - - - - \n",
    "df_tar_f = df_tar_f.withColumn(\"cohort4\",when( (col(\"greatest_diff_bw_bills\")>40) &\n",
    "                     (col('num_calls_w8')>3) &\n",
    "                     ( col('billing_std') > (0.3*col(\"billing_mean\"))) &\n",
    "                     (col('BILLING_POSTPAID_w8')>0), \"D\").otherwise(None))\n",
    "\n",
    "\n",
    "df_tar_f = df_tar_f.withColumn(\"cohort\", lit(\"\"))\n",
    "df_tar_f = df_tar_f.withColumn(\"cohort\", trim(concat_ws(\" \", col(\"cohort1\"), col(\"cohort2\"), col(\"cohort3\"), col(\"cohort4\"))))\n",
    "df_tar_f = df_tar_f.withColumn(\"in_cohort\", when( (col(\"cohort1\").isNotNull() | col(\"cohort2\").isNotNull() | col(\"cohort3\").isNotNull() | col(\"cohort4\").isNotNull()), 1).otherwise(0))\n",
    "\n",
    "# df_tar_f.select(\"label\", \"cohort1\").groupby(\"label\", \"cohort1\").agg(sql_count(\"*\").alias(\"count\")).show()\n",
    "# df_tar_f.select(\"label\", \"cohort2\").groupby(\"label\", \"cohort2\").agg(sql_count(\"*\").alias(\"count\")).show()\n",
    "# df_tar_f.select(\"label\", \"cohort\").groupby(\"label\", \"cohort\").agg(sql_count(\"*\").alias(\"count\")).show()\n",
    "df_tar_f.select(\"label\", \"cohort1\", \"cohort2\", \"cohort3\", \"cohort4\").groupby(\"label\", \"cohort1\", \"cohort2\", \"cohort3\", \"cohort4\").agg(sql_count(\"*\").alias(\"count\")).show()\n",
    "\n",
    "df_tar_f.select(\"label\", \"in_cohort\").groupby(\"label\", \"in_cohort\").agg(sql_count(\"*\").alias(\"count\")).show()\n",
    "\n",
    "refprevalence_incohort = df_tar_f.where(col(\"in_cohort\")==1).select(\"label\").rdd.map(lambda r: r[\"label\"]).mean()\n",
    "\n",
    "print(\"LIFT = {} || CHURN {}% || VOLUME={}\".format(refprevalence_incohort/refprevalence_all, refprevalence_incohort*100.0, df_tar_f.where(col(\"in_cohort\")==1).count()))\n"
   ]
  },
  {
   "cell_type": "code",
   "execution_count": null,
   "metadata": {},
   "outputs": [],
   "source": []
  },
  {
   "cell_type": "code",
   "execution_count": null,
   "metadata": {},
   "outputs": [],
   "source": [
    "df_tar_f.where(col(\"num_ficticios\")>0).select(\"num_cliente\", \"label\", \"greatest_diff_bw_bills\",\n",
    "               round(\"billing_mean\",2).alias(\"mean\"), \n",
    "               round('Bill_N1_InvoiceCharges',2).alias(\"B1\"),\n",
    "               round('Bill_N2_InvoiceCharges',2).alias(\"B2\"), \n",
    "               round('Bill_N3_InvoiceCharges',2).alias(\"B3\"),  \n",
    "               round('Bill_N4_InvoiceCharges',2).alias(\"B4\"),  \n",
    "               round('Bill_N5_InvoiceCharges',2).alias(\"B5\"), \n",
    "               round('billing_std',2).alias(\"std\"), \n",
    "              'billing_avg_days_bw_bills',  \n",
    "              col('tgs_days_until_fecha_fin_dto').alias(\"days_nodcto\"), \n",
    "              col('Bill_N1_days_since').alias(\"days_B1\"),\n",
    "              'tgs_has_discount', \n",
    "              'tgs_has_discount_d28',\n",
    "              'tgs_has_discount_d56', \n",
    "              'tgs_has_discount_d84', \n",
    "              col('billing_nb_last_bills').alias(\"nb\")).sort(asc(\"label\")).show(150,truncate=False)"
   ]
  },
  {
   "cell_type": "code",
   "execution_count": null,
   "metadata": {},
   "outputs": [],
   "source": [
    "df_tar.select(\"num_cliente\", \"label\", \"greatest_diff_bw_bills\",\n",
    "               round(\"billing_mean\",2).alias(\"mean\"), \n",
    "               round('Bill_N1_InvoiceCharges',2).alias(\"B1\"),\n",
    "               round('Bill_N2_InvoiceCharges',2).alias(\"B2\"), \n",
    "               round('Bill_N3_InvoiceCharges',2).alias(\"B3\"),  \n",
    "               round('Bill_N4_InvoiceCharges',2).alias(\"B4\"),  \n",
    "               round('Bill_N5_InvoiceCharges',2).alias(\"B5\"), \n",
    "               round('billing_std',2).alias(\"std\"), \n",
    "              'billing_avg_days_bw_bills',  \n",
    "              col('tgs_days_until_fecha_fin_dto').alias(\"days_nodcto\"), \n",
    "              col('Bill_N1_days_since').alias(\"days_B1\"),\n",
    "              'tgs_has_discount', \n",
    "              'tgs_has_discount_d28',\n",
    "              'tgs_has_discount_d56', \n",
    "              'tgs_has_discount_d84', \n",
    "              col('billing_nb_last_bills').alias(\"nb\")).sort(asc(\"label\")).show(150,truncate=False)"
   ]
  },
  {
   "cell_type": "code",
   "execution_count": null,
   "metadata": {},
   "outputs": [],
   "source": [
    "from churn.delivery.checkers_class import checker, check_join_car, check_extra_feats, check_scores_new, \\\n",
    "    check_levers_model, check_car, check_car_preparado, check_churn_reasons_table, check_delivery_file, check_delivery_table,\\\n",
    "check_model_evaluation, check_model_output_entry\n",
    "    \n",
    "from churn.delivery.delivery_constants import SECTION_CHURN_DELIV_ENTRY\n",
    "from churn.delivery.delivery_constants import MODEL_NAME_DELIV_CHURN\n",
    "from churn.delivery.printers_class import format_table_msg, format_table_msg\n",
    "from functools import partial\n",
    "\n",
    "closing_day = \"20190721\"\n",
    "training_closing_date = \"20190531to20190531\"\n",
    " \n",
    "checker_mod_out_delivery_entry_obj = checker(spark, partial(check_model_output_entry, spark, MODEL_NAME_DELIV_CHURN, closing_day, training_closing_date),\n",
    "                                            partial(format_table_msg), closing_day, SECTION_CHURN_DELIV_ENTRY)\n",
    "\n",
    "\n",
    "checker_mod_out_delivery_entry_obj.check_func()\n",
    "checker_mod_out_delivery_entry_obj.print_msg()"
   ]
  },
  {
   "cell_type": "code",
   "execution_count": 94,
   "metadata": {},
   "outputs": [
    {
     "data": {
      "text/plain": [
       "'20190814'"
      ]
     },
     "execution_count": 94,
     "metadata": {},
     "output_type": "execute_result"
    }
   ],
   "source": [
    "predict_closing_day = \"20190809\"\n",
    "from pykhaos.utils.date_functions import get_next_dow\n",
    "return_feed_execution = get_next_dow(weekday=3, from_date=dt.datetime.strptime(predict_closing_day, \"%Y%m%d\")).strftime(\"%Y%m%d\")\n",
    "return_feed_execution"
   ]
  },
  {
   "cell_type": "code",
   "execution_count": 112,
   "metadata": {},
   "outputs": [
    {
     "data": {
      "text/plain": [
       "'20190814'"
      ]
     },
     "execution_count": 112,
     "metadata": {},
     "output_type": "execute_result"
    }
   ],
   "source": [
    "dt.datetime.today().strftime(\"%Y%m%d\")"
   ]
  },
  {
   "cell_type": "code",
   "execution_count": 110,
   "metadata": {},
   "outputs": [
    {
     "name": "stdout",
     "output_type": "stream",
     "text": [
      "today=20190501 Wed | closing_day=20190421 training_day=20190221\n",
      "today=20190502 Thu | closing_day=20190421 training_day=20190221\n",
      "today=20190503 Fri | closing_day=20190421 training_day=20190221\n",
      "today=20190504 Sat | closing_day=20190421 training_day=20190221\n",
      "today=20190505 Sun | closing_day=20190421 training_day=20190228\n",
      "today=20190506 Mon | closing_day=20190421 training_day=20190228\n",
      "today=20190507 Tue | closing_day=20190430 training_day=20190228\n",
      "today=20190508 Wed | closing_day=20190430 training_day=20190228\n",
      "today=20190509 Thu | closing_day=20190430 training_day=20190228\n",
      "today=20190510 Fri | closing_day=20190430 training_day=20190228\n",
      "today=20190511 Sat | closing_day=20190430 training_day=20190228\n",
      "today=20190512 Sun | closing_day=20190430 training_day=20190307\n",
      "today=20190513 Mon | closing_day=20190430 training_day=20190307\n",
      "today=20190514 Tue | closing_day=20190507 training_day=20190307\n",
      "today=20190515 Wed | closing_day=20190507 training_day=20190307\n",
      "today=20190516 Thu | closing_day=20190507 training_day=20190307\n",
      "today=20190517 Fri | closing_day=20190507 training_day=20190307\n",
      "today=20190518 Sat | closing_day=20190507 training_day=20190307\n",
      "today=20190519 Sun | closing_day=20190507 training_day=20190314\n",
      "today=20190520 Mon | closing_day=20190507 training_day=20190314\n",
      "today=20190521 Tue | closing_day=20190514 training_day=20190314\n",
      "today=20190522 Wed | closing_day=20190514 training_day=20190314\n",
      "today=20190523 Thu | closing_day=20190514 training_day=20190314\n",
      "today=20190524 Fri | closing_day=20190514 training_day=20190314\n",
      "today=20190525 Sat | closing_day=20190514 training_day=20190314\n",
      "today=20190526 Sun | closing_day=20190514 training_day=20190321\n",
      "today=20190527 Mon | closing_day=20190514 training_day=20190321\n",
      "today=20190528 Tue | closing_day=20190521 training_day=20190321\n",
      "today=20190529 Wed | closing_day=20190521 training_day=20190321\n",
      "today=20190530 Thu | closing_day=20190521 training_day=20190321\n",
      "today=20190531 Fri | closing_day=20190521 training_day=20190321\n",
      "today=20190601 Sat | closing_day=20190521 training_day=20190321\n",
      "today=20190602 Sun | closing_day=20190521 training_day=20190321\n",
      "today=20190603 Mon | closing_day=20190521 training_day=20190321\n",
      "today=20190604 Tue | closing_day=20190521 training_day=20190321\n",
      "today=20190605 Wed | closing_day=20190521 training_day=20190331\n",
      "today=20190606 Thu | closing_day=20190521 training_day=20190331\n",
      "today=20190607 Fri | closing_day=20190531 training_day=20190331\n",
      "today=20190608 Sat | closing_day=20190531 training_day=20190331\n",
      "today=20190609 Sun | closing_day=20190531 training_day=20190331\n",
      "today=20190610 Mon | closing_day=20190531 training_day=20190331\n",
      "today=20190611 Tue | closing_day=20190531 training_day=20190331\n",
      "today=20190612 Wed | closing_day=20190531 training_day=20190407\n",
      "today=20190613 Thu | closing_day=20190531 training_day=20190407\n",
      "today=20190614 Fri | closing_day=20190607 training_day=20190407\n",
      "today=20190615 Sat | closing_day=20190607 training_day=20190407\n",
      "today=20190616 Sun | closing_day=20190607 training_day=20190407\n",
      "today=20190617 Mon | closing_day=20190607 training_day=20190407\n",
      "today=20190618 Tue | closing_day=20190607 training_day=20190407\n",
      "today=20190619 Wed | closing_day=20190607 training_day=20190414\n",
      "today=20190620 Thu | closing_day=20190607 training_day=20190414\n",
      "today=20190621 Fri | closing_day=20190614 training_day=20190414\n",
      "today=20190622 Sat | closing_day=20190614 training_day=20190414\n",
      "today=20190623 Sun | closing_day=20190614 training_day=20190414\n",
      "today=20190624 Mon | closing_day=20190614 training_day=20190414\n",
      "today=20190625 Tue | closing_day=20190614 training_day=20190414\n",
      "today=20190626 Wed | closing_day=20190614 training_day=20190421\n",
      "today=20190627 Thu | closing_day=20190614 training_day=20190421\n",
      "today=20190628 Fri | closing_day=20190621 training_day=20190421\n",
      "today=20190629 Sat | closing_day=20190621 training_day=20190421\n",
      "today=20190630 Sun | closing_day=20190621 training_day=20190421\n",
      "today=20190701 Mon | closing_day=20190621 training_day=20190421\n",
      "today=20190702 Tue | closing_day=20190621 training_day=20190421\n",
      "today=20190703 Wed | closing_day=20190621 training_day=20190421\n",
      "today=20190704 Thu | closing_day=20190621 training_day=20190421\n",
      "today=20190705 Fri | closing_day=20190621 training_day=20190430\n",
      "today=20190706 Sat | closing_day=20190621 training_day=20190430\n",
      "today=20190707 Sun | closing_day=20190630 training_day=20190430\n",
      "today=20190708 Mon | closing_day=20190630 training_day=20190430\n",
      "today=20190709 Tue | closing_day=20190630 training_day=20190430\n",
      "today=20190710 Wed | closing_day=20190630 training_day=20190430\n",
      "today=20190711 Thu | closing_day=20190630 training_day=20190430\n",
      "today=20190712 Fri | closing_day=20190630 training_day=20190507\n",
      "today=20190713 Sat | closing_day=20190630 training_day=20190507\n",
      "today=20190714 Sun | closing_day=20190707 training_day=20190507\n",
      "today=20190715 Mon | closing_day=20190707 training_day=20190507\n",
      "today=20190716 Tue | closing_day=20190707 training_day=20190507\n",
      "today=20190717 Wed | closing_day=20190707 training_day=20190507\n",
      "today=20190718 Thu | closing_day=20190707 training_day=20190507\n",
      "today=20190719 Fri | closing_day=20190707 training_day=20190514\n",
      "today=20190720 Sat | closing_day=20190707 training_day=20190514\n",
      "today=20190721 Sun | closing_day=20190714 training_day=20190514\n",
      "today=20190722 Mon | closing_day=20190714 training_day=20190514\n",
      "today=20190723 Tue | closing_day=20190714 training_day=20190514\n",
      "today=20190724 Wed | closing_day=20190714 training_day=20190514\n",
      "today=20190725 Thu | closing_day=20190714 training_day=20190514\n",
      "today=20190726 Fri | closing_day=20190714 training_day=20190521\n",
      "today=20190727 Sat | closing_day=20190714 training_day=20190521\n",
      "today=20190728 Sun | closing_day=20190721 training_day=20190521\n",
      "today=20190729 Mon | closing_day=20190721 training_day=20190521\n",
      "today=20190730 Tue | closing_day=20190721 training_day=20190521\n",
      "today=20190731 Wed | closing_day=20190721 training_day=20190521\n",
      "today=20190801 Thu | closing_day=20190721 training_day=20190521\n",
      "today=20190802 Fri | closing_day=20190721 training_day=20190521\n",
      "today=20190803 Sat | closing_day=20190721 training_day=20190521\n",
      "today=20190804 Sun | closing_day=20190721 training_day=20190521\n",
      "today=20190805 Mon | closing_day=20190721 training_day=20190531\n",
      "today=20190806 Tue | closing_day=20190721 training_day=20190531\n",
      "today=20190807 Wed | closing_day=20190731 training_day=20190531\n",
      "today=20190808 Thu | closing_day=20190731 training_day=20190531\n",
      "today=20190809 Fri | closing_day=20190731 training_day=20190531\n",
      "today=20190810 Sat | closing_day=20190731 training_day=20190531\n",
      "today=20190811 Sun | closing_day=20190731 training_day=20190531\n",
      "today=20190812 Mon | closing_day=20190731 training_day=20190607\n",
      "today=20190813 Tue | closing_day=20190731 training_day=20190607\n",
      "today=20190814 Wed | closing_day=20190807 training_day=20190607\n",
      "today=20190815 Thu | closing_day=20190807 training_day=20190607\n",
      "today=20190816 Fri | closing_day=20190807 training_day=20190607\n",
      "today=20190817 Sat | closing_day=20190807 training_day=20190607\n",
      "today=20190818 Sun | closing_day=20190807 training_day=20190607\n",
      "today=20190819 Mon | closing_day=20190807 training_day=20190614\n",
      "today=20190820 Tue | closing_day=20190807 training_day=20190614\n",
      "today=20190821 Wed | closing_day=20190814 training_day=20190614\n",
      "today=20190822 Thu | closing_day=20190814 training_day=20190614\n",
      "today=20190823 Fri | closing_day=20190814 training_day=20190614\n",
      "today=20190824 Sat | closing_day=20190814 training_day=20190614\n",
      "today=20190825 Sun | closing_day=20190814 training_day=20190614\n",
      "today=20190826 Mon | closing_day=20190814 training_day=20190621\n",
      "today=20190827 Tue | closing_day=20190814 training_day=20190621\n",
      "today=20190828 Wed | closing_day=20190821 training_day=20190621\n",
      "today=20190829 Thu | closing_day=20190821 training_day=20190621\n",
      "today=20190830 Fri | closing_day=20190821 training_day=20190621\n",
      "today=20190831 Sat | closing_day=20190821 training_day=20190621\n",
      "today=20190901 Sun | closing_day=20190821 training_day=20190621\n",
      "today=20190902 Mon | closing_day=20190821 training_day=20190621\n",
      "today=20190903 Tue | closing_day=20190821 training_day=20190621\n",
      "today=20190904 Wed | closing_day=20190821 training_day=20190621\n",
      "today=20190905 Thu | closing_day=20190821 training_day=20190630\n",
      "today=20190906 Fri | closing_day=20190821 training_day=20190630\n",
      "today=20190907 Sat | closing_day=20190831 training_day=20190630\n",
      "today=20190908 Sun | closing_day=20190831 training_day=20190630\n",
      "today=20190909 Mon | closing_day=20190831 training_day=20190630\n",
      "today=20190910 Tue | closing_day=20190831 training_day=20190630\n",
      "today=20190911 Wed | closing_day=20190831 training_day=20190630\n",
      "today=20190912 Thu | closing_day=20190831 training_day=20190707\n",
      "today=20190913 Fri | closing_day=20190831 training_day=20190707\n",
      "today=20190914 Sat | closing_day=20190907 training_day=20190707\n",
      "today=20190915 Sun | closing_day=20190907 training_day=20190707\n",
      "today=20190916 Mon | closing_day=20190907 training_day=20190707\n",
      "today=20190917 Tue | closing_day=20190907 training_day=20190707\n",
      "today=20190918 Wed | closing_day=20190907 training_day=20190707\n",
      "today=20190919 Thu | closing_day=20190907 training_day=20190714\n",
      "today=20190920 Fri | closing_day=20190907 training_day=20190714\n",
      "today=20190921 Sat | closing_day=20190914 training_day=20190714\n",
      "today=20190922 Sun | closing_day=20190914 training_day=20190714\n",
      "today=20190923 Mon | closing_day=20190914 training_day=20190714\n",
      "today=20190924 Tue | closing_day=20190914 training_day=20190714\n",
      "today=20190925 Wed | closing_day=20190914 training_day=20190714\n",
      "today=20190926 Thu | closing_day=20190914 training_day=20190721\n",
      "today=20190927 Fri | closing_day=20190914 training_day=20190721\n",
      "today=20190928 Sat | closing_day=20190921 training_day=20190721\n",
      "today=20190929 Sun | closing_day=20190921 training_day=20190721\n",
      "today=20190930 Mon | closing_day=20190921 training_day=20190721\n",
      "today=20191001 Tue | closing_day=20190921 training_day=20190721\n",
      "today=20191002 Wed | closing_day=20190921 training_day=20190721\n",
      "today=20191003 Thu | closing_day=20190921 training_day=20190721\n",
      "today=20191004 Fri | closing_day=20190921 training_day=20190721\n",
      "today=20191005 Sat | closing_day=20190921 training_day=20190731\n",
      "today=20191006 Sun | closing_day=20190921 training_day=20190731\n",
      "today=20191007 Mon | closing_day=20190930 training_day=20190731\n",
      "today=20191008 Tue | closing_day=20190930 training_day=20190731\n",
      "today=20191009 Wed | closing_day=20190930 training_day=20190731\n",
      "today=20191010 Thu | closing_day=20190930 training_day=20190731\n",
      "today=20191011 Fri | closing_day=20190930 training_day=20190731\n",
      "today=20191012 Sat | closing_day=20190930 training_day=20190807\n",
      "today=20191013 Sun | closing_day=20190930 training_day=20190807\n",
      "today=20191014 Mon | closing_day=20191007 training_day=20190807\n",
      "today=20191015 Tue | closing_day=20191007 training_day=20190807\n",
      "today=20191016 Wed | closing_day=20191007 training_day=20190807\n",
      "today=20191017 Thu | closing_day=20191007 training_day=20190807\n",
      "today=20191018 Fri | closing_day=20191007 training_day=20190807\n",
      "today=20191019 Sat | closing_day=20191007 training_day=20190814\n",
      "today=20191020 Sun | closing_day=20191007 training_day=20190814\n",
      "today=20191021 Mon | closing_day=20191014 training_day=20190814\n",
      "today=20191022 Tue | closing_day=20191014 training_day=20190814\n",
      "today=20191023 Wed | closing_day=20191014 training_day=20190814\n",
      "today=20191024 Thu | closing_day=20191014 training_day=20190814\n",
      "today=20191025 Fri | closing_day=20191014 training_day=20190814\n",
      "today=20191026 Sat | closing_day=20191014 training_day=20190821\n",
      "today=20191027 Sun | closing_day=20191014 training_day=20190821\n",
      "today=20191028 Mon | closing_day=20191021 training_day=20190821\n",
      "today=20191029 Tue | closing_day=20191021 training_day=20190821\n",
      "today=20191030 Wed | closing_day=20191021 training_day=20190821\n",
      "today=20191031 Thu | closing_day=20191021 training_day=20190821\n",
      "today=20191101 Fri | closing_day=20191021 training_day=20190821\n",
      "today=20191102 Sat | closing_day=20191021 training_day=20190821\n",
      "today=20191103 Sun | closing_day=20191021 training_day=20190821\n",
      "today=20191104 Mon | closing_day=20191021 training_day=20190821\n",
      "today=20191105 Tue | closing_day=20191021 training_day=20190831\n",
      "today=20191106 Wed | closing_day=20191021 training_day=20190831\n",
      "today=20191107 Thu | closing_day=20191031 training_day=20190831\n",
      "today=20191108 Fri | closing_day=20191031 training_day=20190831\n",
      "today=20191109 Sat | closing_day=20191031 training_day=20190831\n",
      "today=20191110 Sun | closing_day=20191031 training_day=20190831\n",
      "today=20191111 Mon | closing_day=20191031 training_day=20190831\n",
      "today=20191112 Tue | closing_day=20191031 training_day=20190907\n",
      "today=20191113 Wed | closing_day=20191031 training_day=20190907\n",
      "today=20191114 Thu | closing_day=20191107 training_day=20190907\n",
      "today=20191115 Fri | closing_day=20191107 training_day=20190907\n",
      "today=20191116 Sat | closing_day=20191107 training_day=20190907\n",
      "today=20191117 Sun | closing_day=20191107 training_day=20190907\n",
      "today=20191118 Mon | closing_day=20191107 training_day=20190907\n",
      "today=20191119 Tue | closing_day=20191107 training_day=20190914\n",
      "today=20191120 Wed | closing_day=20191107 training_day=20190914\n",
      "today=20191121 Thu | closing_day=20191114 training_day=20190914\n",
      "today=20191122 Fri | closing_day=20191114 training_day=20190914\n",
      "today=20191123 Sat | closing_day=20191114 training_day=20190914\n",
      "today=20191124 Sun | closing_day=20191114 training_day=20190914\n",
      "today=20191125 Mon | closing_day=20191114 training_day=20190914\n",
      "today=20191126 Tue | closing_day=20191114 training_day=20190921\n",
      "today=20191127 Wed | closing_day=20191114 training_day=20190921\n",
      "today=20191128 Thu | closing_day=20191121 training_day=20190921\n",
      "today=20191129 Fri | closing_day=20191121 training_day=20190921\n",
      "today=20191130 Sat | closing_day=20191121 training_day=20190921\n",
      "today=20191201 Sun | closing_day=20191121 training_day=20190921\n",
      "today=20191202 Mon | closing_day=20191121 training_day=20190921\n",
      "today=20191203 Tue | closing_day=20191121 training_day=20190921\n",
      "today=20191204 Wed | closing_day=20191121 training_day=20190921\n",
      "today=20191205 Thu | closing_day=20191121 training_day=20190930\n",
      "today=20191206 Fri | closing_day=20191121 training_day=20190930\n",
      "today=20191207 Sat | closing_day=20191130 training_day=20190930\n",
      "today=20191208 Sun | closing_day=20191130 training_day=20190930\n",
      "today=20191209 Mon | closing_day=20191130 training_day=20190930\n",
      "today=20191210 Tue | closing_day=20191130 training_day=20190930\n",
      "today=20191211 Wed | closing_day=20191130 training_day=20190930\n",
      "today=20191212 Thu | closing_day=20191130 training_day=20191007\n",
      "today=20191213 Fri | closing_day=20191130 training_day=20191007\n",
      "today=20191214 Sat | closing_day=20191207 training_day=20191007\n",
      "today=20191215 Sun | closing_day=20191207 training_day=20191007\n",
      "today=20191216 Mon | closing_day=20191207 training_day=20191007\n",
      "today=20191217 Tue | closing_day=20191207 training_day=20191007\n",
      "today=20191218 Wed | closing_day=20191207 training_day=20191007\n",
      "today=20191219 Thu | closing_day=20191207 training_day=20191014\n",
      "today=20191220 Fri | closing_day=20191207 training_day=20191014\n",
      "today=20191221 Sat | closing_day=20191214 training_day=20191014\n",
      "today=20191222 Sun | closing_day=20191214 training_day=20191014\n",
      "today=20191223 Mon | closing_day=20191214 training_day=20191014\n",
      "today=20191224 Tue | closing_day=20191214 training_day=20191014\n",
      "today=20191225 Wed | closing_day=20191214 training_day=20191014\n",
      "today=20191226 Thu | closing_day=20191214 training_day=20191021\n",
      "today=20191227 Fri | closing_day=20191214 training_day=20191021\n",
      "today=20191228 Sat | closing_day=20191221 training_day=20191021\n",
      "today=20191229 Sun | closing_day=20191221 training_day=20191021\n",
      "today=20191230 Mon | closing_day=20191221 training_day=20191021\n",
      "today=20191231 Tue | closing_day=20191221 training_day=20191021\n"
     ]
    }
   ],
   "source": [
    "\n",
    "from pykhaos.utils.date_functions import move_date_n_days, get_previous_cycle, move_date_n_cycles\n",
    "import datetime as dt\n",
    "\n",
    "today_start  = \"20190501\"\n",
    "today_end    = \"20191231\"\n",
    "\n",
    "today = today_start\n",
    "\n",
    "while today <= today_end:\n",
    "    \n",
    "    closing_day = get_previous_cycle(move_date_n_days(today, n=-6))\n",
    "    \n",
    "    training_day = get_previous_cycle(move_date_n_cycles(move_date_n_days(today, n=-4), n=-8))\n",
    "    \n",
    "    print(\"today={} {} | closing_day={} training_day={}\".format(today, dt.datetime.strptime(today, \"%Y%m%d\").strftime('%A')[:3], closing_day, training_day))\n",
    "    \n",
    "    today = move_date_n_days(today, n=+1)\n",
    "    \n",
    "\n",
    "\n",
    "\n",
    "\n",
    "\n"
   ]
  },
  {
   "cell_type": "code",
   "execution_count": null,
   "metadata": {},
   "outputs": [],
   "source": []
  },
  {
   "cell_type": "code",
   "execution_count": 23,
   "metadata": {},
   "outputs": [
    {
     "name": "stdout",
     "output_type": "stream",
     "text": [
      "+------+-------+-----------------+\n",
      "|msisdn|scoring|model_executed_at|\n",
      "+------+-------+-----------------+\n",
      "+------+-------+-----------------+\n",
      "\n"
     ]
    }
   ],
   "source": [
    "#spark.read.load(\"/data/attributes/vf_es/model_outputs/model_parameters/model_name=churn_preds_fbb\").show()\n",
    "#df_param.show()\n",
    "\n",
    "closing_day = \"20190721\"\n",
    "segment = \"fbb\"\n",
    "sql_query = \"select msisdn, scoring, model_executed_at from parquet.`/data/attributes/vf_es/model_outputs/model_scores/model_name={}` where predict_closing_date = '{}'\".format(\n",
    "    \"churn_preds_\" + segment, closing_day)\n",
    "\n",
    "df = spark.sql(sql_query)\n",
    "df.show()"
   ]
  },
  {
   "cell_type": "code",
   "execution_count": 22,
   "metadata": {},
   "outputs": [
    {
     "name": "stdout",
     "output_type": "stream",
     "text": [
      "+-------------------+\n",
      "|        executed_at|\n",
      "+-------------------+\n",
      "|2019-07-14 23:53:55|\n",
      "|2019-08-16 00:12:44|\n",
      "|2019-08-15 04:07:18|\n",
      "|2019-07-16 02:58:40|\n",
      "|2019-07-13 06:07:03|\n",
      "|2019-07-18 13:35:50|\n",
      "|2019-08-16 07:55:09|\n",
      "|2019-07-14 20:25:45|\n",
      "|2019-07-13 17:19:21|\n",
      "|2019-08-17 06:20:41|\n",
      "|2019-07-13 23:42:01|\n",
      "|2019-07-15 04:38:53|\n",
      "|2019-07-15 10:28:49|\n",
      "|2019-07-13 11:34:52|\n",
      "|2019-07-15 19:19:54|\n",
      "|2019-07-14 01:54:42|\n",
      "|2019-08-16 16:55:11|\n",
      "|2019-08-15 15:43:41|\n",
      "|2019-07-12 22:26:57|\n",
      "|2019-07-10 18:59:54|\n",
      "+-------------------+\n",
      "only showing top 20 rows\n",
      "\n"
     ]
    }
   ],
   "source": [
    "spark.read.load(\"/data/attributes/vf_es/model_outputs/model_parameters/model_name=churn_preds_fbb\").select(\"executed_at\").distinct().show()"
   ]
  },
  {
   "cell_type": "code",
   "execution_count": 17,
   "metadata": {
    "scrolled": true
   },
   "outputs": [
    {
     "data": {
      "text/plain": [
       "[Row(executed_at=u'2019-08-02 09:50:16', model_level=u'service', training_closing_date=u'20190521to20190521', target=u'port', model_path=u'/data/udf/vf_es/churn/models/prediction_tr20190521to20190521_tt20190721_horizon8_on20190802_095016', metrics_path=u'-', metrics_train=u'roc=0.7885914284895749;avg_score=0.3745269255996354;sd_score=0.29529045947533117;skewness_score=0.44355841166974;kurtosis_score=1.9291663901729443;min_score=0.003324185381314986;max_score=0.9693865718371922', metrics_test=u'roc=0.7539426044726851;avg_score=0.3627625441573877;sd_score=0.22159400592473041;skewness_score=0.3238206294544013;kurtosis_score=2.523807255662095;min_score=0.003324185381314986;max_score=0.9693865718371922', varimp=u'tgs_days_until_f_fin_bi;tgs_days_until_fecha_fin_dto;tgs_days_since_f_inicio_bi;total_max_dias_hasta_penal_srv_pending_end_date;dias_desde_movil_fx_first;dias_desde_fixed_fx_first;total_penal_srv_pending_n1_penal_amount;Bill_N1_Tax_Amount;dias_desde_fx_tariff;Bill_N1_InvoiceCharges;bill_n1_net;dias_desde_fbb_fx_first;max_mou_w;dias_desde_fx_roam_zona_2;tgs_has_discount;Bill_N1_Amount_To_Pay;additional_inc_bill_n1_n5_amount_to_pay;additional_max_dias_desde_fx_pvr_tv;hour_max_num_calls_we;total_mou_w;max_num_calls_w;dias_desde_tv_fx_first;additional_inc_bill_n1_n5_net;orders_days_since_first_order;nif_port_freq_per_day;nif_port_number;hour_max_mou_w;dias_desde_fx_voice_tariff;total_mou_we;hour_max_mou_per_call_w', algorithm=u'rf', author_login=u'csanc109;asaezco;bgmerin1;jmarcoso', extra_info=u'mode=prediction;horizon=8;input_dim=1199.0', scores_extra_info_headers=None, time=None, year=2019, month=8, day=2)]"
      ]
     },
     "execution_count": 17,
     "metadata": {},
     "output_type": "execute_result"
    }
   ],
   "source": [
    "spark.read.load(\"/data/attributes/vf_es/model_outputs/model_parameters/model_name=churn_preds_mobileandfbb\").where(col(\"training_closing_date\")==\"20190521to20190521\").distinct().collect()\n",
    "#df_param.show()"
   ]
  },
  {
   "cell_type": "code",
   "execution_count": 13,
   "metadata": {},
   "outputs": [
    {
     "name": "stdout",
     "output_type": "stream",
     "text": [
      "models\n"
     ]
    },
    {
     "data": {
      "text/plain": [
       "[{'executed_at': u'2019-08-15 04:07:18', 'training_closing_date': u'20190531'}]"
      ]
     },
     "execution_count": 13,
     "metadata": {},
     "output_type": "execute_result"
    }
   ],
   "source": [
    "\n",
    "# pred name: prediction_fbb_tr20190521to20190521_tt20190721_horizon8_on20190812_101649\n",
    "closing_day = \"20190807\"\n",
    "segment = \"fbb\"\n",
    "horizon = 8\n",
    "\n",
    "\n",
    "\n",
    "sql_query = \"select msisdn, scoring, model_executed_at from parquet.`/data/attributes/vf_es/model_outputs/model_scores/model_name={}` where predict_closing_date = '{}'\".format(\n",
    "    \"churn_preds_\" + segment, closing_day)\n",
    "\n",
    "df = spark.sql(sql_query)\n",
    "\n",
    "exe_list = df.select(\"model_executed_at\").distinct().rdd.map(lambda xx: xx[0]).collect()\n",
    "\n",
    "sql_query = \"select * from parquet.`/data/attributes/vf_es/model_outputs/model_parameters/model_name={}` where executed_at in ('{}') sort by training_closing_date desc, executed_at desc\".format(\n",
    "    \"churn_preds_\" + segment,\n",
    "    \"','\".join(exe_list),\n",
    ")\n",
    "\n",
    "df_param = spark.sql(sql_query)\n",
    "\n",
    "df_param = df_param.withColumn(\"horizon\", regexp_extract(col(\"extra_info\"), \"horizon=([0-9]*)(;|$)\", 1))\n",
    "\n",
    "if df_param.where(col(\"horizon\").isNotNull()).take(1):\n",
    "    existing_models = df_param.where(col(\"horizon\") == horizon)\n",
    "else:\n",
    "    print(\"horizon value not found as expected\")\n",
    "    existing_models = df_param  # do not filter by horizon\n",
    "\n",
    "existing_models = existing_models.select(\"training_closing_date\", \"executed_at\").rdd.collect()\n",
    "\n",
    "models = []\n",
    "for mm in existing_models:\n",
    "    models.append(mm.asDict())\n",
    "\n",
    "\n",
    "print(\"models\")\n",
    "models\n",
    "\n",
    "#from churn.delivery.model_outputs_formatter import build_pred_name, insert_to_model_outputs\n",
    "# build_pred_name\n",
    "\n",
    "#build_pred_name(spark,  \"20190721\", segment=\"fbb\", horizon=8)\n",
    "\n"
   ]
  },
  {
   "cell_type": "code",
   "execution_count": 15,
   "metadata": {},
   "outputs": [
    {
     "name": "stdout",
     "output_type": "stream",
     "text": [
      "+--------------+-------+\n",
      "|   segment_nif|  count|\n",
      "+--------------+-------+\n",
      "|Standalone_FBB| 157149|\n",
      "|         Other| 625216|\n",
      "|    Convergent|2131634|\n",
      "|   Mobile_only| 956273|\n",
      "+--------------+-------+\n",
      "\n"
     ]
    }
   ],
   "source": [
    "spark.read.load(\"/data/attributes/vf_es/trigger_analysis/customer_master/year=2019/month=6/day=7\").groupby(\"segment_nif\").agg(sql_count(\"*\").alias(\"count\")).show()"
   ]
  },
  {
   "cell_type": "code",
   "execution_count": 7,
   "metadata": {},
   "outputs": [
    {
     "data": {
      "text/plain": [
       "['BILLING_POSTPAID_w2',\n",
       " 'BILLING_POSTPAID_w4',\n",
       " 'BILLING_POSTPAID_w8',\n",
       " 'inc_BILLING_POSTPAID_w2vsw2',\n",
       " 'inc_BILLING_POSTPAID_w4vsw4']"
      ]
     },
     "execution_count": 7,
     "metadata": {},
     "output_type": "execute_result"
    }
   ],
   "source": [
    "closing_day = \"20190414\"\n",
    "\n",
    "partition_date = \"year={}/month={}/day={}\".format(int(closing_day[:4]), int(closing_day[4:6]), int(closing_day[6:]))\n",
    "\n",
    "\n",
    "tr_ccc_all = spark.read.parquet('/data/attributes/vf_es/trigger_analysis/ccc/' + partition_date)\n",
    "\n",
    "bill_cols = [c for c in tr_ccc_all.columns if 'billing' in c.lower()]\n",
    "\n",
    "bill_cols"
   ]
  },
  {
   "cell_type": "code",
   "execution_count": 9,
   "metadata": {},
   "outputs": [
    {
     "name": "stdout",
     "output_type": "stream",
     "text": [
      "('KK', 0.03245234192118541, 3899811)\n"
     ]
    }
   ],
   "source": [
    "from pyspark.sql.functions import mean as sql_avg, greatest\n",
    "\n",
    "closing_day = \"20190521\"\n",
    "\n",
    "partition_date = \"year={}/month={}/day={}\".format(int(closing_day[:4]), int(closing_day[4:6]), int(closing_day[6:]))\n",
    "\n",
    "tr_base = (\n",
    "    spark.read.parquet('/data/attributes/vf_es/trigger_analysis/customer_master/' + partition_date).filter(col('segment_nif') != 'Pure_prepaid').withColumn('blindaje', lit('none')).withColumn(\n",
    "        'blindaje', when((col('tgs_days_until_fecha_fin_dto') >= 0) & (col('tgs_days_until_fecha_fin_dto') <= 60), 'soft').otherwise(col('blindaje'))).withColumn('blindaje', when(\n",
    "        (col('tgs_days_until_fecha_fin_dto') > 60), 'hard').otherwise(col('blindaje'))).select('nif_cliente', 'blindaje', 'nb_rgus', 'nb_tv_services_nif', 'label'))\n",
    "\n",
    "print(\"KK\", tr_base.select(sql_avg('label').alias('churn_rate')).rdd.first()['churn_rate'], tr_base.count())\n",
    "tr_base = tr_base.drop_duplicates([\"nif_cliente\"])\n",
    "\n",
    "tr_churn_ref = tr_base.select(sql_avg('label').alias('churn_rate')).rdd.first()['churn_rate']\n"
   ]
  },
  {
   "cell_type": "code",
   "execution_count": 63,
   "metadata": {},
   "outputs": [
    {
     "data": {
      "text/plain": [
       "['segment_nif']"
      ]
     },
     "execution_count": 63,
     "metadata": {},
     "output_type": "execute_result"
    }
   ],
   "source": [
    "df_tt_all = spark.read.parquet('/user/csanc109/projects/triggers/trigger_billing_car/'+partition_date)\n",
    "[col_ for col_ in df_tt_all.columns if \"segment\" in col_]"
   ]
  },
  {
   "cell_type": "code",
   "execution_count": 74,
   "metadata": {},
   "outputs": [
    {
     "name": "stdout",
     "output_type": "stream",
     "text": [
      "STATS\n",
      "\tNIFs model2 = 50000\n",
      "\tNIFs model1 = 50000\n",
      "\t Common nifs = 15699\n",
      "NIFs nuevos model1 sobre model2 = 34301 [check=50000]\n",
      "NIFs nuevos model2 sobre model1 = 34301 [check=50000]\n",
      "Reference base: churn_rate=3.24 volume=3941466\n"
     ]
    }
   ],
   "source": [
    "from pyspark.sql.functions import mean as sql_avg, greatest\n",
    "\n",
    "closing_day = \"20190521\"\n",
    "\n",
    "# !!! HAS DUPLICATES \"/user/csanc109/projects/triggers/trigger_exploration/year=2019/month=5/day=21/time=110803/\"\n",
    "# model1 is Cristina's model\n",
    "df_model1 = (spark.read.load(\"/user/csanc109/projects/triggers/trigger_exploration/year=2019/month=5/day=21/time=200859/\")\n",
    "                            .select(['NIF_CLIENTE', 'calib_model_score', 'label']).withColumnRenamed(\"calib_model_score\", \"calib_model_score_model1\")                                                                         \n",
    "                 .withColumnRenamed(\"label\", \"label_model1\")).where(col(\"NIF_CLIENTE\").isNotNull()).drop_duplicates([\"NIF_CLIENTE\"])\n",
    "\n",
    "\n",
    "# model2 is Alvaro's model\n",
    "df_model2 = (spark.read.load(\"/data/udf/vf_es/churn/triggers/scores50K_20190521_rf\").select(['NIF_CLIENTE', 'calib_model_score', \"label\"])\n",
    "                                                                         .withColumnRenamed(\"calib_model_score\", \"calib_model_score_model2\")\n",
    "                                                                         .withColumnRenamed(\"label\", \"label_model2\")).where(col(\"NIF_CLIENTE\").isNotNull()).drop_duplicates([\"NIF_CLIENTE\"])\n",
    "\n",
    "          \n",
    "print(\"STATS\") # just a check, count must be 50k in both cases\n",
    "print('\\tNIFs model2 = {}'.format(df_model2.count()))\n",
    "print('\\tNIFs model1 = {}'.format(df_model1.count()))\n",
    "\n",
    "# compute common nifs\n",
    "df_inner = df_model1.join(df_alv, on=[\"nif_cliente\"], how=\"inner\")\n",
    "common_nifs = df_inner.count()\n",
    "print(\"\\t Common nifs = {}\".format(common_nifs))\n",
    "\n",
    "# NIFs in Cris' model noiit included in Alvaro's model\n",
    "df_model1_no_model2 = df_model2.select(\"nif_cliente\").join(df_model1.select(\"nif_cliente\"), ['nif_cliente'], 'right').where(df_model2['nif_cliente'].isNull())\n",
    "\n",
    "# NIFs in Alvaro's model not included in Cris' model\n",
    "df_model2_no_model1 = df_model1.select(\"nif_cliente\").join(df_alv.select(\"nif_cliente\"), ['nif_cliente'], 'right').where(df_model1['nif_cliente'].isNull())\n",
    "\n",
    "# Absurd print, since new NIFs are 50k - common, but good for checking\n",
    "print(\"NIFs nuevos model1 sobre model2 = {} [check={}]\".format(df_model1_no_model2.count(), df_model1_no_model2.count() + common_nifs))\n",
    "print(\"NIFs nuevos model2 sobre model1 = {} [check={}]\".format(df_model2_no_model1.count(), df_model2_no_model1.count() + common_nifs))\n",
    "\n",
    "from churn.analysis.triggers.trigger_billing_ccc.trigger_smart_exploration import get_customer_master\n",
    "\n",
    "_, tr_volume_ref, tr_churn_ref = get_customer_master(spark, closing_day)\n",
    "\n",
    "\n",
    "print(\"Reference base: churn_rate={:.2f} volume={}\".format(100.0*tt_churn_ref, tr_volume_ref))\n",
    "                                                                                                               \n",
    "   "
   ]
  },
  {
   "cell_type": "code",
   "execution_count": 78,
   "metadata": {},
   "outputs": [
    {
     "name": "stdout",
     "output_type": "stream",
     "text": [
      "After cache 84301\n"
     ]
    }
   ],
   "source": [
    "\n",
    "pos_max_udf = udf(\n",
    "        lambda milist: sorted([(vv, idx) for idx, vv in enumerate(milist)], key=lambda tup: tup[0], reverse=True)[0][1],\n",
    "        IntegerType())\n",
    "\n",
    "df_all = df_model2.join(df_model1, on=[\"nif_cliente\"], how=\"full\").fillna(0)  \n",
    "\n",
    "df_all = df_all.withColumn(\"calib_model_score\", greatest(*[\"calib_model_score_model1\", \"calib_model_score_model2\"]))\n",
    "\n",
    "df_all = df_all.withColumn(\"score_array\", array([\"calib_model_score_model1\", \"calib_model_score_model2\"]))  \n",
    "df_all = df_all.withColumn(\"pos_max\", pos_max_udf(col(\"score_array\")))  \n",
    "\n",
    "\n",
    "df_all = df_all.withColumn(\"label\", greatest(*[\"label_model1\", \"label_model2\"])).where(col(\"NIF_CLIENTE\").isNotNull()).drop_duplicates([\"NIF_CLIENTE\"])\n",
    "df_all = df_all.withColumn(\"model\", when(col(\"pos_max\")==0, \"csanc109\").when(col(\"pos_max\")==1, \"asaezco\").otherwise(\"unknown\"))\n",
    "\n",
    "df_all = df_all.drop(\"pos_max\", \"score_array\")\n",
    "df_all = df_all.sort(desc(\"calib_model_score\"))\n",
    "\n",
    "df_all = df_all.cache()\n",
    "\n",
    "num_rows = df_all.count()\n",
    "\n",
    "print(\"After cache {}\".format(num_rows))\n"
   ]
  },
  {
   "cell_type": "code",
   "execution_count": 79,
   "metadata": {},
   "outputs": [
    {
     "data": {
      "text/plain": [
       "['NIF_CLIENTE',\n",
       " 'calib_model_score_model2',\n",
       " 'label_model2',\n",
       " 'calib_model_score_model1',\n",
       " 'label_model1',\n",
       " 'calib_model_score',\n",
       " 'label',\n",
       " 'model']"
      ]
     },
     "execution_count": 79,
     "metadata": {},
     "output_type": "execute_result"
    }
   ],
   "source": [
    "#df_all.groupby(\"model\").agg(sql_count(\"*\").alias(\"count\")).show()\n",
    "df_all.columns"
   ]
  },
  {
   "cell_type": "code",
   "execution_count": 87,
   "metadata": {},
   "outputs": [
    {
     "data": {
      "text/plain": [
       "84301"
      ]
     },
     "execution_count": 87,
     "metadata": {},
     "output_type": "execute_result"
    }
   ],
   "source": [
    "df_kk = spark.read.load(\"/user/csanc109/projects/triggers/trigger_exploration_combined/year=2019/month=5/day=21\")\n",
    "df_kk.count()"
   ]
  },
  {
   "cell_type": "code",
   "execution_count": 86,
   "metadata": {},
   "outputs": [
    {
     "name": "stdout",
     "output_type": "stream",
     "text": [
      "Started saving - /user/csanc109/projects/triggers/trigger_exploration_combined/ for closing_day=20190521\n",
      "Elapsed time saving 0.00830854972204 minutes\n"
     ]
    }
   ],
   "source": [
    "path_to_save = \"/user/csanc109/projects/triggers/trigger_exploration_combined/\"\n",
    "closing_day = \"20190521\"\n",
    "df_all = df_all.withColumn(\"day\", lit(int(closing_day[6:])))\n",
    "df_all = df_all.withColumn(\"month\", lit(int(closing_day[4:6])))\n",
    "df_all = df_all.withColumn(\"year\", lit(int(closing_day[:4])))\n",
    "start_time = time.time()\n",
    "print(\"Started saving - {} for closing_day={}\".format(path_to_save, closing_day))\n",
    "(df_all.coalesce(1).write.partitionBy('year', 'month', 'day').mode(\"append\").format(\"parquet\").save(path_to_save))\n",
    "print(\"Elapsed time saving {} minutes\".format((time.time()-start_time)/60.0))"
   ]
  },
  {
   "cell_type": "code",
   "execution_count": 68,
   "metadata": {},
   "outputs": [
    {
     "name": "stdout",
     "output_type": "stream",
     "text": [
      "TOP50000 - LIFT=7.23 churn_rate=23.41% churn_rate_ref=3.24%\n",
      "\t COMMON=13538 [27.08%] || FROM_MODEL1=14566 [29.13%] || FROM_MODEL2=23773 [47.55%]\n",
      "TOP40000 - LIFT=8.02 churn_rate=25.98% churn_rate_ref=3.24%\n",
      "\t COMMON=11748 [29.37%] || FROM_MODEL1=11565 [28.91%] || FROM_MODEL2=18027 [45.07%]\n",
      "TOP30000 - LIFT=9.16 churn_rate=29.67% churn_rate_ref=3.24%\n",
      "\t COMMON=9329 [31.10%] || FROM_MODEL1=8669 [28.90%] || FROM_MODEL2=12736 [42.45%]\n",
      "TOP20000 - LIFT=10.96 churn_rate=35.52% churn_rate_ref=3.24%\n",
      "\t COMMON=6534 [32.67%] || FROM_MODEL1=5581 [27.91%] || FROM_MODEL2=8176 [40.88%]\n",
      "TOP15000 - LIFT=12.35 churn_rate=40.00% churn_rate_ref=3.24%\n",
      "\t COMMON=5101 [34.01%] || FROM_MODEL1=4060 [27.07%] || FROM_MODEL2=5969 [39.79%]\n",
      "TOP12000 - LIFT=13.46 churn_rate=43.61% churn_rate_ref=3.24%\n",
      "\t COMMON=4273 [35.61%] || FROM_MODEL1=3061 [25.51%] || FROM_MODEL2=4667 [38.89%]\n",
      "TOP10000 - LIFT=14.35 churn_rate=46.51% churn_rate_ref=3.24%\n",
      "\t COMMON=3715 [37.15%] || FROM_MODEL1=2391 [23.91%] || FROM_MODEL2=3822 [38.22%]\n",
      "TOP5000 - LIFT=17.28 churn_rate=55.98% churn_rate_ref=3.24%\n",
      "\t COMMON=2099 [41.98%] || FROM_MODEL1=1182 [23.64%] || FROM_MODEL2=1625 [32.50%]\n",
      "TOP3000 - LIFT=18.69 churn_rate=60.57% churn_rate_ref=3.24%\n",
      "\t COMMON=1336 [44.53%] || FROM_MODEL1=664 [22.13%] || FROM_MODEL2=925 [30.83%]\n",
      "TOP2000 - LIFT=19.94 churn_rate=64.60% churn_rate_ref=3.24%\n",
      "\t COMMON=964 [48.20%] || FROM_MODEL1=404 [20.20%] || FROM_MODEL2=561 [28.05%]\n",
      "TOP1000 - LIFT=20.22 churn_rate=65.50% churn_rate_ref=3.24%\n",
      "\t COMMON=499 [49.90%] || FROM_MODEL1=259 [25.90%] || FROM_MODEL2=208 [20.80%]\n",
      "TOP2500 - LIFT=19.40 churn_rate=62.84% churn_rate_ref=3.24%\n",
      "\t COMMON=1173 [46.92%] || FROM_MODEL1=556 [22.24%] || FROM_MODEL2=698 [27.92%]\n",
      "TOP8000 - LIFT=15.51 churn_rate=50.25% churn_rate_ref=3.24%\n",
      "\t COMMON=3121 [39.01%] || FROM_MODEL1=1821 [22.76%] || FROM_MODEL2=2947 [36.84%]\n",
      "TOP16000 - LIFT=12.02 churn_rate=38.94% churn_rate_ref=3.24%\n",
      "\t COMMON=5404 [33.77%] || FROM_MODEL1=4343 [27.14%] || FROM_MODEL2=6412 [40.08%]\n",
      "TOP25000 - LIFT=9.92 churn_rate=32.16% churn_rate_ref=3.24%\n",
      "\t COMMON=7938 [31.75%] || FROM_MODEL1=7140 [28.56%] || FROM_MODEL2=10398 [41.59%]\n",
      "TOP35000 - LIFT=8.52 churn_rate=27.61% churn_rate_ref=3.24%\n",
      "\t COMMON=10607 [30.31%] || FROM_MODEL1=10098 [28.85%] || FROM_MODEL2=15312 [43.75%]\n",
      "TOP45000 - LIFT=7.60 churn_rate=24.61% churn_rate_ref=3.24%\n",
      "\t COMMON=12757 [28.35%] || FROM_MODEL1=13004 [28.90%] || FROM_MODEL2=20871 [46.38%]\n",
      "TOP84301 - LIFT=5.71 churn_rate=18.50% churn_rate_ref=3.24%\n",
      "\t COMMON=15699 [18.62%] || FROM_MODEL1=30340 [35.99%] || FROM_MODEL2=35162 [41.71%]\n"
     ]
    }
   ],
   "source": [
    "\n",
    "myschema = df_all.schema\n",
    "\n",
    "for ii in [50000, 40000, 30000, 20000, 15000, 12000, 10000, 5000, 3000, 2000, 1000, 2500, 8000, 16000, 25000, 35000, 45000, num_rows]:\n",
    "    \n",
    "    start_time_ii = time.time()\n",
    "    df_top = spark.createDataFrame(df_all.head(ii),  schema=myschema)\n",
    "    churn_rate_top =  df_top.select(sql_avg('label').alias('churn_rate')).rdd.first()['churn_rate']\n",
    "    print(\"TOP{} - LIFT={:.2f} churn_rate={:.2f}% churn_rate_ref={:.2f}%\".format(ii, \n",
    "                                                                                          churn_rate_top/tt_churn_ref,\n",
    "                                                                                          churn_rate_top*100.0,\n",
    "                                                                                          tt_churn_ref*100.0, \n",
    "                                                                                          (time.time()-start_time_ii)/60.0))\n",
    "    inner_nifs = df_top.join(df_inner, on=[\"NIF_CLIENTE\"], how=\"inner\").select(\"NIF_CLIENTE\").count()\n",
    "    from_model1_nifs = df_top.join(df_cris_no_alv, on=[\"NIF_CLIENTE\"], how=\"inner\").select(\"NIF_CLIENTE\").count()\n",
    "    from_model2_nifs = df_top.join(df_alv_no_cris, on=[\"NIF_CLIENTE\"], how=\"inner\").select(\"NIF_CLIENTE\").count()\n",
    "    \n",
    "    print(\"\\t COMMON={} [{:.2f}%] || FROM_MODEL1={} [{:.2f}%] || FROM_MODEL2={} [{:.2f}%]\".format(inner_nifs, 100.0*inner_nifs/ii, from_model1_nifs, 100.0*from_model1_nifs/ii, from_model2_nifs, 100.0*from_model2_nifs/ii))\n",
    "                                                           \n",
    "                                                           \n"
   ]
  },
  {
   "cell_type": "code",
   "execution_count": 72,
   "metadata": {},
   "outputs": [
    {
     "name": "stdout",
     "output_type": "stream",
     "text": [
      "TOP50000 - LIFT=6.45 churn_rate=20.91% churn_rate_ref=3.24%\n",
      "TOP40000 - LIFT=6.92 churn_rate=22.42% churn_rate_ref=3.24%\n",
      "TOP30000 - LIFT=7.73 churn_rate=25.06% churn_rate_ref=3.24%\n",
      "TOP20000 - LIFT=9.06 churn_rate=29.36% churn_rate_ref=3.24%\n",
      "TOP16000 - LIFT=9.64 churn_rate=31.23% churn_rate_ref=3.24%\n",
      "TOP12000 - LIFT=10.79 churn_rate=34.96% churn_rate_ref=3.24%\n",
      "TOP10000 - LIFT=11.56 churn_rate=37.44% churn_rate_ref=3.24%\n",
      "TOP5000 - LIFT=14.78 churn_rate=47.88% churn_rate_ref=3.24%\n",
      "TOP3000 - LIFT=16.97 churn_rate=54.97% churn_rate_ref=3.24%\n",
      "TOP2000 - LIFT=18.10 churn_rate=58.65% churn_rate_ref=3.24%\n",
      "TOP1000 - LIFT=19.20 churn_rate=62.20% churn_rate_ref=3.24%\n",
      "TOP2500 - LIFT=17.54 churn_rate=56.84% churn_rate_ref=3.24%\n",
      "TOP8000 - LIFT=12.67 churn_rate=41.05% churn_rate_ref=3.24%\n",
      "TOP15000 - LIFT=9.85 churn_rate=31.90% churn_rate_ref=3.24%\n",
      "TOP25000 - LIFT=8.36 churn_rate=27.08% churn_rate_ref=3.24%\n",
      "TOP35000 - LIFT=7.27 churn_rate=23.56% churn_rate_ref=3.24%\n",
      "TOP45000 - LIFT=6.67 churn_rate=21.60% churn_rate_ref=3.24%\n",
      "TOP84301 - LIFT=6.45 churn_rate=20.91% churn_rate_ref=3.24%\n"
     ]
    }
   ],
   "source": [
    "myschema = df_model1.schema\n",
    "\n",
    "df_model1 = (spark.read.load(\"/user/csanc109/projects/triggers/trigger_exploration/year=2019/month=5/day=21/time=200859/\")\n",
    "                            .select(['NIF_CLIENTE', 'model_score', 'label']))\n",
    "myschema = df_model1.schema\n",
    "\n",
    "df_model1 = df_model1.sort(desc(\"model_score\"))\n",
    "\n",
    "\n",
    "for ii in [50000, 40000, 30000, 20000, 16000, 12000, 10000, 5000, 3000, 2000, 1000, 2500, 8000, 15000, 25000, 35000, 45000, num_rows]:\n",
    "    \n",
    "    start_time_ii = time.time()\n",
    "    df_top = spark.createDataFrame(df_model1.head(ii),  schema=myschema)\n",
    "    churn_rate_top =  df_top.select(sql_avg('label').alias('churn_rate')).rdd.first()['churn_rate']\n",
    "    print(\"TOP{} - LIFT={:.2f} churn_rate={:.2f}% churn_rate_ref={:.2f}%\".format(ii, \n",
    "                                                                                          churn_rate_top/tt_churn_ref,\n",
    "                                                                                          churn_rate_top*100.0,\n",
    "                                                                                          tt_churn_ref*100.0, \n",
    "                                                                                          (time.time()-start_time_ii)/60.0))\n",
    "                "
   ]
  },
  {
   "cell_type": "code",
   "execution_count": null,
   "metadata": {},
   "outputs": [],
   "source": [
    "#incremental\n",
    "\n",
    "df_C = df_cris.select(\"nif_cliente\").join(df_cris2.select(\"nif_cliente\"), ['nif_cliente'], 'right').where(df_cris['nif_cliente'].isNull())\n",
    "print(\"RESUMEN - INCREMENTALES\", df_C.count())"
   ]
  },
  {
   "cell_type": "code",
   "execution_count": 88,
   "metadata": {},
   "outputs": [
    {
     "ename": "AnalysisException",
     "evalue": "u'Unable to infer schema for Parquet. It must be specified manually.;'",
     "output_type": "error",
     "traceback": [
      "\u001b[0;31m---------------------------------------------------------------------------\u001b[0m",
      "\u001b[0;31mAnalysisException\u001b[0m                         Traceback (most recent call last)",
      "\u001b[0;32m<ipython-input-88-3c8edcf9b3cd>\u001b[0m in \u001b[0;36m<module>\u001b[0;34m()\u001b[0m\n\u001b[0;32m----> 1\u001b[0;31m \u001b[0marget_base\u001b[0m \u001b[0;34m=\u001b[0m \u001b[0mspark\u001b[0m\u001b[0;34m.\u001b[0m\u001b[0mread\u001b[0m\u001b[0;34m.\u001b[0m\u001b[0mparquet\u001b[0m\u001b[0;34m(\u001b[0m\u001b[0;34m'/user/hive/warehouse/tests_es.db/jvmm_amdocs_ids_'\u001b[0m \u001b[0;34m+\u001b[0m \u001b[0;34m'20190821'\u001b[0m\u001b[0;34m)\u001b[0m\u001b[0;34m\u001b[0m\u001b[0m\n\u001b[0m",
      "\u001b[0;32m/opt/cloudera/parcels/SPARK2/lib/spark2/python/pyspark/sql/readwriter.py\u001b[0m in \u001b[0;36mparquet\u001b[0;34m(self, *paths)\u001b[0m\n\u001b[1;32m    301\u001b[0m         \u001b[0;34m[\u001b[0m\u001b[0;34m(\u001b[0m\u001b[0;34m'name'\u001b[0m\u001b[0;34m,\u001b[0m \u001b[0;34m'string'\u001b[0m\u001b[0;34m)\u001b[0m\u001b[0;34m,\u001b[0m \u001b[0;34m(\u001b[0m\u001b[0;34m'year'\u001b[0m\u001b[0;34m,\u001b[0m \u001b[0;34m'int'\u001b[0m\u001b[0;34m)\u001b[0m\u001b[0;34m,\u001b[0m \u001b[0;34m(\u001b[0m\u001b[0;34m'month'\u001b[0m\u001b[0;34m,\u001b[0m \u001b[0;34m'int'\u001b[0m\u001b[0;34m)\u001b[0m\u001b[0;34m,\u001b[0m \u001b[0;34m(\u001b[0m\u001b[0;34m'day'\u001b[0m\u001b[0;34m,\u001b[0m \u001b[0;34m'int'\u001b[0m\u001b[0;34m)\u001b[0m\u001b[0;34m]\u001b[0m\u001b[0;34m\u001b[0m\u001b[0m\n\u001b[1;32m    302\u001b[0m         \"\"\"\n\u001b[0;32m--> 303\u001b[0;31m         \u001b[0;32mreturn\u001b[0m \u001b[0mself\u001b[0m\u001b[0;34m.\u001b[0m\u001b[0m_df\u001b[0m\u001b[0;34m(\u001b[0m\u001b[0mself\u001b[0m\u001b[0;34m.\u001b[0m\u001b[0m_jreader\u001b[0m\u001b[0;34m.\u001b[0m\u001b[0mparquet\u001b[0m\u001b[0;34m(\u001b[0m\u001b[0m_to_seq\u001b[0m\u001b[0;34m(\u001b[0m\u001b[0mself\u001b[0m\u001b[0;34m.\u001b[0m\u001b[0m_spark\u001b[0m\u001b[0;34m.\u001b[0m\u001b[0m_sc\u001b[0m\u001b[0;34m,\u001b[0m \u001b[0mpaths\u001b[0m\u001b[0;34m)\u001b[0m\u001b[0;34m)\u001b[0m\u001b[0;34m)\u001b[0m\u001b[0;34m\u001b[0m\u001b[0m\n\u001b[0m\u001b[1;32m    304\u001b[0m \u001b[0;34m\u001b[0m\u001b[0m\n\u001b[1;32m    305\u001b[0m     \u001b[0;34m@\u001b[0m\u001b[0mignore_unicode_prefix\u001b[0m\u001b[0;34m\u001b[0m\u001b[0m\n",
      "\u001b[0;32m/opt/cloudera/parcels/Anaconda-2.5.0/lib/python2.7/site-packages/py4j/java_gateway.pyc\u001b[0m in \u001b[0;36m__call__\u001b[0;34m(self, *args)\u001b[0m\n\u001b[1;32m   1255\u001b[0m         \u001b[0manswer\u001b[0m \u001b[0;34m=\u001b[0m \u001b[0mself\u001b[0m\u001b[0;34m.\u001b[0m\u001b[0mgateway_client\u001b[0m\u001b[0;34m.\u001b[0m\u001b[0msend_command\u001b[0m\u001b[0;34m(\u001b[0m\u001b[0mcommand\u001b[0m\u001b[0;34m)\u001b[0m\u001b[0;34m\u001b[0m\u001b[0m\n\u001b[1;32m   1256\u001b[0m         return_value = get_return_value(\n\u001b[0;32m-> 1257\u001b[0;31m             answer, self.gateway_client, self.target_id, self.name)\n\u001b[0m\u001b[1;32m   1258\u001b[0m \u001b[0;34m\u001b[0m\u001b[0m\n\u001b[1;32m   1259\u001b[0m         \u001b[0;32mfor\u001b[0m \u001b[0mtemp_arg\u001b[0m \u001b[0;32min\u001b[0m \u001b[0mtemp_args\u001b[0m\u001b[0;34m:\u001b[0m\u001b[0;34m\u001b[0m\u001b[0m\n",
      "\u001b[0;32m/opt/cloudera/parcels/SPARK2/lib/spark2/python/pyspark/sql/utils.py\u001b[0m in \u001b[0;36mdeco\u001b[0;34m(*a, **kw)\u001b[0m\n\u001b[1;32m     67\u001b[0m                                              e.java_exception.getStackTrace()))\n\u001b[1;32m     68\u001b[0m             \u001b[0;32mif\u001b[0m \u001b[0ms\u001b[0m\u001b[0;34m.\u001b[0m\u001b[0mstartswith\u001b[0m\u001b[0;34m(\u001b[0m\u001b[0;34m'org.apache.spark.sql.AnalysisException: '\u001b[0m\u001b[0;34m)\u001b[0m\u001b[0;34m:\u001b[0m\u001b[0;34m\u001b[0m\u001b[0m\n\u001b[0;32m---> 69\u001b[0;31m                 \u001b[0;32mraise\u001b[0m \u001b[0mAnalysisException\u001b[0m\u001b[0;34m(\u001b[0m\u001b[0ms\u001b[0m\u001b[0;34m.\u001b[0m\u001b[0msplit\u001b[0m\u001b[0;34m(\u001b[0m\u001b[0;34m': '\u001b[0m\u001b[0;34m,\u001b[0m \u001b[0;36m1\u001b[0m\u001b[0;34m)\u001b[0m\u001b[0;34m[\u001b[0m\u001b[0;36m1\u001b[0m\u001b[0;34m]\u001b[0m\u001b[0;34m,\u001b[0m \u001b[0mstackTrace\u001b[0m\u001b[0;34m)\u001b[0m\u001b[0;34m\u001b[0m\u001b[0m\n\u001b[0m\u001b[1;32m     70\u001b[0m             \u001b[0;32mif\u001b[0m \u001b[0ms\u001b[0m\u001b[0;34m.\u001b[0m\u001b[0mstartswith\u001b[0m\u001b[0;34m(\u001b[0m\u001b[0;34m'org.apache.spark.sql.catalyst.analysis'\u001b[0m\u001b[0;34m)\u001b[0m\u001b[0;34m:\u001b[0m\u001b[0;34m\u001b[0m\u001b[0m\n\u001b[1;32m     71\u001b[0m                 \u001b[0;32mraise\u001b[0m \u001b[0mAnalysisException\u001b[0m\u001b[0;34m(\u001b[0m\u001b[0ms\u001b[0m\u001b[0;34m.\u001b[0m\u001b[0msplit\u001b[0m\u001b[0;34m(\u001b[0m\u001b[0;34m': '\u001b[0m\u001b[0;34m,\u001b[0m \u001b[0;36m1\u001b[0m\u001b[0;34m)\u001b[0m\u001b[0;34m[\u001b[0m\u001b[0;36m1\u001b[0m\u001b[0;34m]\u001b[0m\u001b[0;34m,\u001b[0m \u001b[0mstackTrace\u001b[0m\u001b[0;34m)\u001b[0m\u001b[0;34m\u001b[0m\u001b[0m\n",
      "\u001b[0;31mAnalysisException\u001b[0m: u'Unable to infer schema for Parquet. It must be specified manually.;'"
     ]
    }
   ],
   "source": [
    "arget_base = spark.read.parquet('/user/hive/warehouse/tests_es.db/jvmm_amdocs_ids_' + '20190821')"
   ]
  }
 ],
 "metadata": {
  "kernelspec": {
   "display_name": "Python 2",
   "language": "python",
   "name": "python2"
  },
  "language_info": {
   "codemirror_mode": {
    "name": "ipython",
    "version": 2
   },
   "file_extension": ".py",
   "mimetype": "text/x-python",
   "name": "python",
   "nbconvert_exporter": "python",
   "pygments_lexer": "ipython2",
   "version": "2.7.11"
  },
  "pycharm": {
   "stem_cell": {
    "cell_type": "raw",
    "metadata": {
     "collapsed": false
    },
    "source": []
   }
  }
 },
 "nbformat": 4,
 "nbformat_minor": 2
}
