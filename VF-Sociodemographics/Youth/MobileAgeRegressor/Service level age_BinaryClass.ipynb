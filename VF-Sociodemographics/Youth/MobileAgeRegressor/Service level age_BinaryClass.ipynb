{
 "cells": [
  {
   "cell_type": "code",
   "execution_count": 1,
   "metadata": {},
   "outputs": [
    {
     "data": {
      "text/html": [
       "<style>.container { width:100% !important; }</style>"
      ],
      "text/plain": [
       "<IPython.core.display.HTML object>"
      ]
     },
     "metadata": {},
     "output_type": "display_data"
    }
   ],
   "source": [
    "from IPython.core.display import display, HTML\n",
    "display(HTML(\"<style>.container { width:100% !important; }</style>\"))"
   ]
  },
  {
   "cell_type": "code",
   "execution_count": 2,
   "metadata": {},
   "outputs": [
    {
     "name": "stdout",
     "output_type": "stream",
     "text": [
      "2\n"
     ]
    }
   ],
   "source": [
    "from common.src.main.python.utils.hdfs_generic import *\n",
    "import os\n",
    "\n",
    "MAX_N_EXECUTORS=15\n",
    "MIN_N_EXECUTORS=1\n",
    "N_CORES_EXECUTOR=4\n",
    "EXECUTOR_IDLE_MAX_TIME=120\n",
    "EXECUTOR_MEMORY='32g'\n",
    "DRIVER_MEMORY='16g'\n",
    "N_CORES_DRIVER=1\n",
    "MEMORY_OVERHEAD=N_CORES_EXECUTOR*2048\n",
    "#QUEUE=\"root.datascience.normal\"\n",
    "QUEUE=\"root.BDPtenants.es.medium\"\n",
    "\n",
    "BDA_CORE_VERSION=\"1.0.0\"\n",
    "\n",
    "SPARK_COMMON_OPTS=os.environ.get('SPARK_COMMON_OPTS', '')\n",
    "SPARK_COMMON_OPTS+=\" --executor-memory %s --driver-memory %s\" % (EXECUTOR_MEMORY, DRIVER_MEMORY)\n",
    "SPARK_COMMON_OPTS+=\" --conf spark.shuffle.manager=tungsten-sort\"\n",
    "SPARK_COMMON_OPTS+=\"  --queue %s\" % QUEUE\n",
    "APP_NAME='AgeSegmentation'\n",
    "\n",
    "# Dynamic allocation configuration\n",
    "SPARK_COMMON_OPTS+=\" --conf spark.driver.allowMultipleContexts=true\"\n",
    "SPARK_COMMON_OPTS+=\" --conf spark.dynamicAllocation.enabled=true\"\n",
    "SPARK_COMMON_OPTS+=\" --conf spark.shuffle.service.enabled=true\"\n",
    "SPARK_COMMON_OPTS+=\" --conf spark.dynamicAllocation.maxExecutors=%s\" % (MAX_N_EXECUTORS)\n",
    "SPARK_COMMON_OPTS+=\" --conf spark.dynamicAllocation.minExecutors=%s\" % (MIN_N_EXECUTORS)\n",
    "SPARK_COMMON_OPTS+=\" --conf spark.dynamicAllocation.executorIdleTimeout=%s\" % (EXECUTOR_IDLE_MAX_TIME)\n",
    "SPARK_COMMON_OPTS+=\" --conf spark.ui.port=58201\"\n",
    "SPARK_COMMON_OPTS+=\" --conf spark.port.maxRetries=200\"\n",
    "SPARK_COMMON_OPTS+=\" --executor-cores=%s\" % (N_CORES_EXECUTOR)\n",
    "SPARK_COMMON_OPTS+=\" --conf spark.app.name=%s\" % (APP_NAME)\n",
    "\n",
    "BDA_ENV = os.environ.get('BDA_USER_HOME', '')\n",
    "\n",
    "# Attach bda-core-ra codebase\n",
    "SPARK_COMMON_OPTS+=\" --files \\\n",
    "{}/scripts/properties/red_agent/nodes.properties,\\\n",
    "{}/scripts/properties/red_agent/nodes-de.properties,\\\n",
    "{}/scripts/properties/red_agent/nodes-es.properties,\\\n",
    "{}/scripts/properties/red_agent/nodes-ie.properties,\\\n",
    "{}/scripts/properties/red_agent/nodes-it.properties,\\\n",
    "{}/scripts/properties/red_agent/nodes-pt.properties,\\\n",
    "{}/scripts/properties/red_agent/nodes-uk.properties\".format(*[BDA_ENV]*7)\n",
    "\n",
    "os.environ[\"SPARK_COMMON_OPTS\"] = SPARK_COMMON_OPTS\n",
    "os.environ[\"PYSPARK_SUBMIT_ARGS\"] = \"%s pyspark-shell \" % SPARK_COMMON_OPTS\n",
    "\n",
    "#print os.environ.get('SPARK_COMMON_OPTS', '')\n",
    "#print os.environ.get('PYSPARK_SUBMIT_ARGS', '')\n",
    "\n",
    "sc, sparkSession, sqlContext = run_sc()\n",
    "print sc.defaultParallelism"
   ]
  },
  {
   "cell_type": "code",
   "execution_count": 3,
   "metadata": {},
   "outputs": [],
   "source": [
    "## import datetime, time\n",
    "from pyspark.sql.functions import (col, lit, countDistinct,count, months_between, to_date, max as f_max\n",
    "                                  ,when, desc, datediff, coalesce, concat, round as sql_round)\n",
    "from pyspark.ml.feature import StringIndexer\n",
    "from pyspark.ml import Pipeline\n",
    "import datetime\n",
    "\n",
    "%matplotlib inline\n",
    "\n",
    "import matplotlib\n",
    "import numpy as np\n",
    "import matplotlib.pyplot as plt\n",
    "\n",
    "from pyspark.ml.feature import StandardScaler"
   ]
  },
  {
   "cell_type": "code",
   "execution_count": 4,
   "metadata": {},
   "outputs": [],
   "source": [
    "spark = (SparkSession.builder\n",
    "         .appName(\"AMDOCS Mobile Base Age Regressor\")\n",
    "         .master(\"yarn\")\n",
    "         .config(\"spark.submit.deployMode\", \"client\")\n",
    "         .config(\"spark.ui.showConsoleProgress\", \"true\")\n",
    "         .enableHiveSupport()\n",
    "         .getOrCreate()\n",
    "         )"
   ]
  },
  {
   "cell_type": "markdown",
   "metadata": {},
   "source": [
    "# Age regression\n",
    "\n",
    "We will try to infer customer age for each mobile service. Note that sometimes the user is not the owner of the contract (families, etc). \n",
    "Our ground truth is monoline customers with age informed. In this way, we need to avoid customer aggregated variables as our "
   ]
  },
  {
   "cell_type": "markdown",
   "metadata": {},
   "source": [
    "# Variables and paths"
   ]
  },
  {
   "cell_type": "code",
   "execution_count": 5,
   "metadata": {},
   "outputs": [],
   "source": [
    "ClosingDay = '20200430'\n",
    "\n",
    "ClosingDay_date = datetime.date(int(ClosingDay[:4]), int(ClosingDay[4:6]), int(ClosingDay[6:8]))\n",
    "\n",
    "\n",
    "hdfs_partition_path = 'year=' + str(int(ClosingDay[:4])) + '/month=' + str(int(ClosingDay[4:6])) + '/day=' + str(int(ClosingDay[6:8]))\n",
    "hdfs_write_path_common='/data/udf/vf_es/amdocs_ids/'\n",
    "path_customer = hdfs_write_path_common +'customer/'+hdfs_partition_path\n",
    "path_service = hdfs_write_path_common +'service/'+hdfs_partition_path\n",
    "path_customer_agg = hdfs_write_path_common +'customer_agg/'+hdfs_partition_path\n",
    "path_voiceusage = hdfs_write_path_common +'usage_geneva_voice/'+hdfs_partition_path\n",
    "path_datausage = hdfs_write_path_common +'usage_geneva_data/'+hdfs_partition_path\n",
    "path_billing = hdfs_write_path_common +'billing/'+hdfs_partition_path\n",
    "path_campaignscustomer = hdfs_write_path_common +'campaigns_customer/'+hdfs_partition_path\n",
    "path_campaignsservice = hdfs_write_path_common +'campaigns_service/'+hdfs_partition_path\n",
    "#path_roamvoice = hdfs_write_path_common +'usage_geneva_roam_voice/'+hdfs_partition_path !!JOIN WITH IMSI\n",
    "path_roamdata = hdfs_write_path_common +'usage_geneva_roam_data/'+hdfs_partition_path\n",
    "path_orders_hist = hdfs_write_path_common +'orders/'+hdfs_partition_path\n",
    "path_orders_agg = hdfs_write_path_common +'orders_agg/'+hdfs_partition_path\n",
    "path_penal_cust = hdfs_write_path_common +'penalties_customer/'+hdfs_partition_path\n",
    "path_penal_srv = hdfs_write_path_common +'penalties_service/'+hdfs_partition_path\n",
    "path_devices = hdfs_write_path_common +'device_catalogue/'+hdfs_partition_path\n",
    "path_ccc = hdfs_write_path_common +'call_centre_calls/'+hdfs_partition_path\n",
    "path_tnps = hdfs_write_path_common +'tnps/'+hdfs_partition_path\n",
    "path_perms_and_prefs = hdfs_write_path_common +'perms_and_prefs/'+hdfs_partition_path\n",
    "#NEW!! Netscout apps\n",
    "path_netscout_apps = hdfs_write_path_common +'netscout_apps/'+hdfs_partition_path\n",
    "path_finaltable = hdfs_write_path_common + 'amdocs_ids_service_level/' + hdfs_partition_path\n",
    "path_tmp_netscout='/data/udf/vf_es/amdocs_ids/tmp_netscout/tmp_apps/year=2018/month=11'"
   ]
  },
  {
   "cell_type": "markdown",
   "metadata": {},
   "source": [
    "# Raw dataframe building"
   ]
  },
  {
   "cell_type": "code",
   "execution_count": 6,
   "metadata": {},
   "outputs": [],
   "source": [
    "customerDF_load = (spark.read.load(path_customer))\n",
    "serviceDF_load = (spark.read.load(path_service))\n",
    "voiceUsageDF_load = (spark.read.load(path_voiceusage))\n",
    "dataUsageDF_load = (spark.read.load(path_datausage))\n",
    "penalties_serv_level_df_load = (spark.read.load(path_penal_srv))\n",
    "devices_srv_df_load = (spark.read.load(path_devices))\n",
    "netscout_apps_load = (spark.read.load(path_netscout_apps))\n",
    "custAggServices=(spark.read.load(path_customer_agg))"
   ]
  },
  {
   "cell_type": "code",
   "execution_count": 7,
   "metadata": {},
   "outputs": [],
   "source": [
    "data_CAR_SRV=(customerDF_load\n",
    "      .join(custAggServices, 'NUM_CLIENTE', 'inner')\n",
    "      .join(serviceDF_load, 'NUM_CLIENTE', 'inner')\n",
    "      .join(voiceUsageDF_load, (col('msisdn') == col('id_msisdn')), 'leftouter')\n",
    "      .join(dataUsageDF_load,(col('msisdn')==col('id_msisdn_data')), 'leftouter')\n",
    "      .join(penalties_serv_level_df_load, ['NUM_CLIENTE','Instancia_P'], 'leftouter')\n",
    "      .join(devices_srv_df_load, 'msisdn','leftouter')\n",
    "      .join(netscout_apps_load, 'msisdn', 'leftouter')\n",
    "      .withColumn('ClosingDay',lit(ClosingDay))\n",
    "      )"
   ]
  },
  {
   "cell_type": "markdown",
   "metadata": {},
   "source": [
    "# Target identification\n",
    "We need to identify monoline customers with age informed"
   ]
  },
  {
   "cell_type": "code",
   "execution_count": 93,
   "metadata": {},
   "outputs": [],
   "source": [
    "from pyspark.sql.functions import array_contains\n",
    "\n",
    "#testing age as integer\n",
    "data_train_test_pre0=(data_CAR_SRV\n",
    "                  .where(col('rgu').isin(['mobile', 'prepaid']))\n",
    "                  .filter(col('mobile_services_nc') == 1)\n",
    "                  .groupBy(['NUM_CLIENTE', 'age'])\n",
    "                  .agg(countDistinct('msisdn').alias('services'))\n",
    "                  .withColumn('age_ok',when(col('age').between(10,100),1)\n",
    "                                      .otherwise(0))\n",
    "                  .withColumn('age_over_30',when(col('age_ok')==0, None)\n",
    "                                            .when(col('age') > 30, 1).otherwise(0)\n",
    "                             )\n",
    "             )"
   ]
  },
  {
   "cell_type": "code",
   "execution_count": 94,
   "metadata": {},
   "outputs": [],
   "source": [
    "data_train_test_pre1 = data_train_test_pre0.select(['NUM_CLIENTE','age_ok', 'age_over_30'])"
   ]
  },
  {
   "cell_type": "markdown",
   "metadata": {},
   "source": [
    "As observed we have 1.269.103 labeled services which represents a very good start"
   ]
  },
  {
   "cell_type": "code",
   "execution_count": 95,
   "metadata": {},
   "outputs": [],
   "source": [
    "data_train_test_pre2=(data_CAR_SRV   \n",
    "                      .join(data_train_test_pre1, 'NUM_CLIENTE','leftouter')).cache()"
   ]
  },
  {
   "cell_type": "code",
   "execution_count": 96,
   "metadata": {},
   "outputs": [],
   "source": [
    "data_train_test_tmp0=(data_train_test_pre2\n",
    "                                                            \n",
    "                .withColumn('ident_netscout',when(col('NS_APPS_ADULT_data_mb').isNull(),0)\n",
    "                                              .otherwise(1))\n",
    "                                            \n",
    "                .withColumn('ident_gnv_voice',when(col('GNV_hour_0_W_MOU').isNull(),0)\n",
    "                                              .otherwise(1))\n",
    "                      \n",
    "                .withColumn('ident_gnv_data',when(col('GNV_hour_0_WE_Chat_Zero_Data_Volume_MB').isNull(),0)\n",
    "                                              .otherwise(1))\n",
    "                .filter( (col('rgu')=='mobile'))\n",
    "                .filter((col('ident_netscout')==1))\n",
    "                .filter( (col('ident_gnv_data')==1))\n",
    "                .filter((col('ident_gnv_voice')==1))     \n",
    "                    ).cache()"
   ]
  },
  {
   "cell_type": "code",
   "execution_count": 16,
   "metadata": {
    "scrolled": true
   },
   "outputs": [
    {
     "name": "stdout",
     "output_type": "stream",
     "text": [
      "+-----------+-------+\n",
      "|age_over_30|  count|\n",
      "+-----------+-------+\n",
      "|       null|3158180|\n",
      "|          1|1007740|\n",
      "|          0| 116047|\n",
      "+-----------+-------+\n",
      "\n"
     ]
    }
   ],
   "source": [
    "data_train_test_tmp0.groupBy('age_over_30').count().show()"
   ]
  },
  {
   "cell_type": "markdown",
   "metadata": {},
   "source": [
    "# Feature eng."
   ]
  },
  {
   "cell_type": "code",
   "execution_count": 97,
   "metadata": {},
   "outputs": [],
   "source": [
    "feats_gnv_data= [c for c in data_train_test_tmp0.columns if (('GNV_hour' in c)&(~(('MOU') in c))&(~(('Num_Of_Calls') in c)))]\n",
    "feats_gnv_voice= [c for c in data_train_test_tmp0.columns if (('GNV_hour' in c)& ((('MOU') in c)|(('Num_Of_Calls') in c)))]\n",
    "feats_gnv_roam_data=[c for c in data_train_test_tmp0.columns if ( 'GNV_Roam' in c )]\n",
    "feats_srv_price=[c for c in data_train_test_tmp0.columns if ( 'PRICE_' in c )]\n",
    "feats_netscout=[c for c in data_train_test_tmp0.columns if (( 'NS_APPS' in c)& ((('effective') in c)|(('days') in c)) )]\n",
    "feat_total_cuote=['MOBILE_BAM_TOTAL_CHARGES']\n",
    "feats_date=['FX_SRV_BASIC', 'FX_TARIFF', 'FX_VOICE_TARIFF', 'FX_DATA', 'FX_DTO_LEV1', 'FX_DTO_LEV2', 'FX_DTO_LEV3', 'FX_DATA_ADDITIONAL', 'FX_OOB', 'FX_NETFLIX_NAPSTER', 'FX_ROAMING_BASIC', 'FX_ROAM_USA_EUR', 'FX_ROAM_ZONA_2', 'FX_CONSUM_MIN']\n",
    "feats_categorical=['TARIFF', 'DTO_LEV1', 'DTO_LEV2', 'DTO_LEV3', 'DATA_ADDITIONAL', 'OOB', 'NETFLIX_NAPSTER', 'ROAMING_BASIC', 'ROAM_USA_EUR','ROAM_ZONA_2']\n",
    "feats_basic=['NUM_CLIENTE', 'msisdn']#,'msisdn', 'CAMPO1', 'CAMPO2', 'CAMPO3']\n",
    "\n",
    "\n",
    "# FEATS TO SUM\n",
    "feats_gnv_voice_mou= [c for c in data_train_test_tmp0.columns if (('GNV_hour' in c)& (('MOU') in c))]\n",
    "feats_gnv_voice_NOC= [c for c in data_train_test_tmp0.columns if (('GNV_hour' in c)& (('Num_Of_Calls') in c))]\n",
    "\n",
    "feats_gnv_total_data_mb= [c for c in data_train_test_tmp0.columns if (('GNV_hour' in c)& (('Data_Volume_MB') in c))]\n",
    "feats_gnv_data_mb_chatzero= [c for c in data_train_test_tmp0.columns if (('GNV_hour' in c)& (('Chat_Zero_Data_Volume_MB') in c))]\n",
    "feats_gnv_data_mb_maps= [c for c in data_train_test_tmp0.columns if (('GNV_hour' in c)& (('Maps_Pass_Data_Volume_MB') in c))]\n",
    "feats_gnv_data_mb_masmegas= [c for c in data_train_test_tmp0.columns if (('GNV_hour' in c)& (('MasMegas_Data_Volume_MB') in c))]\n",
    "feats_gnv_data_mb_music= [c for c in data_train_test_tmp0.columns if (('GNV_hour' in c)& (('Music_Pass_Data_Volume_MB') in c))]\n",
    "feats_gnv_data_mb_regular= [c for c in data_train_test_tmp0.columns if (('GNV_hour' in c)& (('RegularData_Data_Volume_MB') in c))]\n",
    "feats_gnv_data_mb_social= [c for c in data_train_test_tmp0.columns if (('GNV_hour' in c)& (('Social_Pass_Data_Volume_MB') in c))]\n",
    "feats_gnv_data_mb_videoHD= [c for c in data_train_test_tmp0.columns if (('GNV_hour' in c)& (('VideoHD_Pass_Data_Volume_MB') in c))]\n",
    "feats_gnv_data_mb_video= [c for c in data_train_test_tmp0.columns if (('GNV_hour' in c)& (('Video_Pass_Data_Volume_MB') in c))]"
   ]
  },
  {
   "cell_type": "code",
   "execution_count": 98,
   "metadata": {},
   "outputs": [],
   "source": [
    "data_train_test_tmp1=(data_train_test_tmp0\n",
    "            .withColumn('Total_MOU', sum(coalesce(data_train_test_tmp0[cc], lit(0)) for cc in feats_gnv_voice_mou))\n",
    "            .withColumn('Total_calls', sum(coalesce(data_train_test_tmp0[cc], lit(0)) for cc in feats_gnv_voice_NOC))\n",
    "            .withColumn('Total_data_chatzero', sum(coalesce(data_train_test_tmp0[cc], lit(0)) for cc in feats_gnv_data_mb_chatzero))\n",
    "            .withColumn('Total_data_maps', sum(coalesce(data_train_test_tmp0[cc], lit(0)) for cc in feats_gnv_data_mb_maps))\n",
    "            .withColumn('Total_data_masmegas', sum(coalesce(data_train_test_tmp0[cc], lit(0)) for cc in feats_gnv_data_mb_masmegas))\n",
    "            .withColumn('Total_data_music', sum(coalesce(data_train_test_tmp0[cc], lit(0)) for cc in feats_gnv_data_mb_music))\n",
    "            .withColumn('Total_data_regular', sum(coalesce(data_train_test_tmp0[cc], lit(0)) for cc in feats_gnv_data_mb_regular))\n",
    "            .withColumn('Total_data_social', sum(coalesce(data_train_test_tmp0[cc], lit(0)) for cc in feats_gnv_data_mb_social))\n",
    "            .withColumn('Total_data_videoHD', sum(coalesce(data_train_test_tmp0[cc], lit(0)) for cc in feats_gnv_data_mb_videoHD))\n",
    "            .withColumn('Total_data_video', sum(coalesce(data_train_test_tmp0[cc], lit(0)) for cc in feats_gnv_data_mb_video))\n",
    "                      )\n",
    "\n",
    "feats_total=[c for c in data_train_test_tmp1.columns if ( 'Total' in c )]\n",
    "\n",
    "feats_fillna0 = feats_total + feats_gnv_data_mb_regular + feats_gnv_voice_mou  + feats_netscout "
   ]
  },
  {
   "cell_type": "code",
   "execution_count": 99,
   "metadata": {
    "scrolled": true
   },
   "outputs": [],
   "source": [
    "data_train_test_tmp1=data_train_test_tmp1[feats_basic+feats_fillna0+feats_date+feats_categorical+['age_over_30']]"
   ]
  },
  {
   "cell_type": "markdown",
   "metadata": {},
   "source": [
    "##### Null imputation\n",
    "- Numerical values-->0\n",
    "- Categorical values -->'NONE'"
   ]
  },
  {
   "cell_type": "code",
   "execution_count": 100,
   "metadata": {},
   "outputs": [],
   "source": [
    "data_train_test_tmp2=data_train_test_tmp1.fillna(0, subset=feats_fillna0)\n",
    "data_train_test_tmp3=data_train_test_tmp2.fillna('NO IDENT', subset=feats_categorical)"
   ]
  },
  {
   "cell_type": "code",
   "execution_count": 101,
   "metadata": {},
   "outputs": [],
   "source": [
    "categoricalColumns = [item[0] for item in data_train_test_tmp3.dtypes if item[1].startswith('string')]\n",
    "timestampColumns = [item[0] for item in data_train_test_tmp3.dtypes if item[1].startswith('timestamp')]"
   ]
  },
  {
   "cell_type": "code",
   "execution_count": 102,
   "metadata": {},
   "outputs": [],
   "source": [
    "categoricalColumns.remove('msisdn')"
   ]
  },
  {
   "cell_type": "code",
   "execution_count": 103,
   "metadata": {},
   "outputs": [],
   "source": [
    "data_train_test_tmp3 = data_train_test_tmp3.drop(*categoricalColumns)"
   ]
  },
  {
   "cell_type": "code",
   "execution_count": 104,
   "metadata": {},
   "outputs": [],
   "source": [
    "declarados_o30 = data_train_test_tmp3.filter(col('age_over_30').isNotNull()).select('msisdn', 'age_over_30')"
   ]
  },
  {
   "cell_type": "code",
   "execution_count": 25,
   "metadata": {},
   "outputs": [
    {
     "name": "stdout",
     "output_type": "stream",
     "text": [
      "+-----------+-------+\n",
      "|age_over_30|  count|\n",
      "+-----------+-------+\n",
      "|          1|1007740|\n",
      "|          0| 116047|\n",
      "+-----------+-------+\n",
      "\n"
     ]
    }
   ],
   "source": [
    "declarados_o30.groupBy('age_over_30').count().show()"
   ]
  },
  {
   "cell_type": "markdown",
   "metadata": {},
   "source": [
    "# 1. Clientes de más de 30:"
   ]
  },
  {
   "cell_type": "markdown",
   "metadata": {},
   "source": [
    "## Usaremos GMT (General Model Trainer) para el modelo de edad."
   ]
  },
  {
   "cell_type": "code",
   "execution_count": 26,
   "metadata": {
    "scrolled": false
   },
   "outputs": [
    {
     "name": "stdout",
     "output_type": "stream",
     "text": [
      "label_col is age_over_30 of type int\n",
      "[Mon May 18 12:33:23 2020] Label age_over_30 is numeric, so no need of converting or indexing it\n",
      "\n",
      "\n",
      "There are 0 ignore columns\n",
      "There are 485 columns in given DataFrame\n",
      "There are 1 int columns\n",
      "There are 347 double columns\n",
      "There are 122 bigint columns\n",
      "There are 1 string columns\n",
      "There are 14 timestamp columns\n",
      "\n",
      "\n",
      "There are 1 categorical columns\n",
      "There are 469 numeric columns\n",
      "[Mon May 18 12:33:25 2020] Counting number of distinct values in categorical variables ...\n"
     ]
    },
    {
     "name": "stderr",
     "output_type": "stream",
     "text": [
      "Processing msisdn: 100%|██████████| 1/1 [01:00<00:00, 60.60s/variable]\n"
     ]
    },
    {
     "name": "stdout",
     "output_type": "stream",
     "text": [
      "[Mon May 18 12:34:25 2020] Counting number of distinct values in categorical variables ... done\n",
      "[Mon May 18 12:34:25 2020] Detected 0 constant columns: []\n",
      "[Mon May 18 12:34:25 2020] Writing cols_to_relevel to disk cols_to_relevel-20200518123425.txt\n",
      "[Mon May 18 12:34:25 2020] Releveling 1 categorical variables with more than 32 levels, and dropping constant columns: ['msisdn']\n",
      "[Mon May 18 12:34:26 2020] Releveled  1 categorical variables with more than 32 levels, and dropped constant columns\n"
     ]
    },
    {
     "data": {
      "text/plain": [
       "<new_general_model_trainer.GeneralModelTrainer instance at 0x7f4618ec6830>"
      ]
     },
     "execution_count": 26,
     "metadata": {},
     "output_type": "execute_result"
    }
   ],
   "source": [
    "%load_ext autoreload\n",
    "%autoreload 2\n",
    "import sys\n",
    "\n",
    "sys.path.append('/var/SP/data/home/avazq108/New_general_model_trainer')\n",
    "\n",
    "from new_general_model_trainer import GeneralModelTrainer\n",
    "from model_outputs import ModelParameters\n",
    "\n",
    "modeler=GeneralModelTrainer(df=data_train_test_tmp3,label_col='age_over_30',ignore_cols=[])\n",
    "modeler.relevelCategoricalVars() #se crea un diccionario que se puede cargar en ejecuciones posteriores\n",
    "\n",
    "\n",
    "#data_train_test_tmp2"
   ]
  },
  {
   "cell_type": "code",
   "execution_count": 27,
   "metadata": {
    "scrolled": true
   },
   "outputs": [
    {
     "name": "stdout",
     "output_type": "stream",
     "text": [
      "[Mon May 18 12:34:26 2020] Counting NULLs in label age_over_30 ...\n",
      "[Mon May 18 12:36:17 2020] Counting NULLs in label age_over_30 ... 3158180\n",
      "[Mon May 18 12:36:17 2020] Using column 'pred' to separate NULLs ...\n",
      "[Mon May 18 12:36:21 2020] Using column 'pred' to separate NULLs ... done\n",
      "[Mon May 18 12:36:21 2020] Indexing categorical features ...\n"
     ]
    },
    {
     "name": "stderr",
     "output_type": "stream",
     "text": [
      "Processing msisdn_releveled: 100%|██████████| 1/1 [00:15<00:00, 15.15s/variable]"
     ]
    },
    {
     "name": "stdout",
     "output_type": "stream",
     "text": [
      "[Mon May 18 12:36:36 2020] Indexing categorical features ... done\n"
     ]
    },
    {
     "name": "stderr",
     "output_type": "stream",
     "text": [
      "\n"
     ]
    },
    {
     "name": "stdout",
     "output_type": "stream",
     "text": [
      "[Mon May 18 12:36:36 2020] Assembling 470 features ...\n",
      "[Mon May 18 12:36:40 2020] Assembling 470 features ... done\n"
     ]
    },
    {
     "data": {
      "text/plain": [
       "<new_general_model_trainer.GeneralModelTrainer instance at 0x7f4618ec6830>"
      ]
     },
     "execution_count": 27,
     "metadata": {},
     "output_type": "execute_result"
    }
   ],
   "source": [
    "modeler.generateFeaturesVector()"
   ]
  },
  {
   "cell_type": "code",
   "execution_count": 28,
   "metadata": {
    "scrolled": true
   },
   "outputs": [
    {
     "name": "stdout",
     "output_type": "stream",
     "text": [
      "[Mon May 18 12:36:40 2020] Applying minMaxScaler to range [0.000000, 1.000000] ...\n",
      "[Mon May 18 12:37:14 2020] Applying minMaxScaler to range [0.000000, 1.000000] ... done\n"
     ]
    },
    {
     "data": {
      "text/plain": [
       "<new_general_model_trainer.GeneralModelTrainer instance at 0x7f4618ec6830>"
      ]
     },
     "execution_count": 28,
     "metadata": {},
     "output_type": "execute_result"
    }
   ],
   "source": [
    "modeler.minMaxScale()"
   ]
  },
  {
   "cell_type": "code",
   "execution_count": 29,
   "metadata": {
    "scrolled": true
   },
   "outputs": [
    {
     "name": "stdout",
     "output_type": "stream",
     "text": [
      "[Mon May 18 12:37:15 2020] Found column \"pred\". Removing prediction rows for training\n",
      "[Mon May 18 12:37:16 2020] Splitting data set into train(70%)/test(30%) ...\n",
      "[Mon May 18 12:37:17 2020] Splitting data set into train(70%)/test(30%) ... done\n"
     ]
    },
    {
     "data": {
      "text/plain": [
       "<new_general_model_trainer.GeneralModelTrainer instance at 0x7f4618ec6830>"
      ]
     },
     "execution_count": 29,
     "metadata": {},
     "output_type": "execute_result"
    }
   ],
   "source": [
    "modeler.split_train_test()"
   ]
  },
  {
   "cell_type": "code",
   "execution_count": 30,
   "metadata": {},
   "outputs": [],
   "source": [
    "# modeler.reset_stages()"
   ]
  },
  {
   "cell_type": "code",
   "execution_count": 31,
   "metadata": {},
   "outputs": [
    {
     "name": "stdout",
     "output_type": "stream",
     "text": [
      "[Mon May 18 12:37:17 2020] Not found column \"pred\". Removing null rows for training\n",
      "[Mon May 18 12:37:18 2020] Balancing train data ...\n",
      "[Mon May 18 12:37:33 2020] Sampling DataFrame by column age_over_30_without_nulls with fractions: {0: 1.0, 1: 0.11518582084158283} ...\n",
      "[Mon May 18 12:37:34 2020] Sampling DataFrame by column age_over_30_without_nulls with fractions: {0: 1.0, 1: 0.11518582084158283} ... done\n",
      "[Mon May 18 12:37:34 2020] Caching train data ...\n",
      "[Mon May 18 12:37:35 2020] Caching train data ... done\n",
      "[Mon May 18 12:37:35 2020] Balancing test data ...\n",
      "[Mon May 18 12:37:46 2020] Sampling DataFrame by column age_over_30_without_nulls with fractions: {0: 1.0, 1: 0.11508534095008621} ...\n",
      "[Mon May 18 12:37:47 2020] Sampling DataFrame by column age_over_30_without_nulls with fractions: {0: 1.0, 1: 0.11508534095008621} ... done\n",
      "[Mon May 18 12:37:47 2020] Caching test data ...\n",
      "[Mon May 18 12:37:47 2020] Caching test data ... done\n",
      "[Mon May 18 12:37:49 2020] Added new stage: RandomForestClassifier_40039bed8d0bb156b56e\n",
      "[Mon May 18 12:37:49 2020] Training RandomForestClassifier model ...\n",
      "[Mon May 18 12:42:14 2020] Training RandomForestClassifier model ... done\n",
      "[Mon May 18 12:42:14 2020] Trained  RandomForestClassificationModel (uid=RandomForestClassifier_40039bed8d0bb156b56e) with 500 trees\n"
     ]
    },
    {
     "data": {
      "text/plain": [
       "<new_general_model_trainer.GeneralModelTrainer instance at 0x7f4618ec6830>"
      ]
     },
     "execution_count": 31,
     "metadata": {},
     "output_type": "execute_result"
    }
   ],
   "source": [
    "# Vamos a probar con GBTs \n",
    "\n",
    "from pyspark.ml.classification import RandomForestClassifier\n",
    "\n",
    "#rfc = RandomForestClassifier(numTrees=1500, maxDepth=20, labelCol=modeler.get_label_col())\n",
    "\n",
    "#modeler.train(ml_alg=rfc)\n",
    "modeler.train()"
   ]
  },
  {
   "cell_type": "code",
   "execution_count": 32,
   "metadata": {},
   "outputs": [
    {
     "name": "stdout",
     "output_type": "stream",
     "text": [
      "Model Performance Metrics using (balanced) train data\n",
      "=====================================================\n",
      "[Mon May 18 12:42:15 2020] Predicting data ...\n",
      "[Mon May 18 12:42:17 2020] Using element -1 as positive class\n",
      "[Mon May 18 12:42:18 2020] Predicting data ... done\n",
      "[Mon May 18 12:42:18 2020] Converting evaluation_predictions to Pandas ...\n",
      "[Mon May 18 12:43:14 2020] Converting evaluation_predictions to Pandas ... done\n",
      "matthews_corrcoef: 0.5253504622018508\n",
      "f2_score: 0.7652311922574722\n",
      "jaccard_similarity_score: 0.762660647771282\n",
      "precision_score: 0.7597255406481652\n",
      "classification_report:\n",
      "              precision    recall  f1-score   support\n",
      "\n",
      "           0       0.77      0.76      0.76     81275\n",
      "           1       0.76      0.77      0.76     80881\n",
      "\n",
      "   micro avg       0.76      0.76      0.76    162156\n",
      "   macro avg       0.76      0.76      0.76    162156\n",
      "weighted avg       0.76      0.76      0.76    162156\n",
      "\n",
      "average_precision_score: 0.8306138154772367\n",
      "confusion_matrix:\n",
      "[[61665, 19610], [18876, 62005]]\n",
      "hinge_loss: 0.8762393401143892\n",
      "f1_score: 0.7631572469476171\n",
      "roc_auc_score: 0.8402881415139858\n",
      "log_loss: 0.5187710845328626\n",
      "lift: [1.856633, 1.719521, 1.557806, 1.354426, 1.141649, 0.917869, 0.628848, 0.426568, 0.271891, 0.124632]\n",
      "f0point5_score: 0.7610945129510656\n",
      "zero_one_loss: 0.23733935222871805\n",
      "cohen_kappa_score: 0.5253289343791052\n",
      "accuracy_score: 0.762660647771282\n",
      "recall_score: 0.7666200961906999\n",
      "brier_score_loss: 0.16981979823093096\n",
      "hamming_loss: 0.23733935222871802\n",
      "gains_lift_table:\n",
      "Gains/Lift Table: Avg response rate: 49.88 %\n",
      "    group  cumulative_data_fraction  lower_threshold      lift  \\\n",
      "1     1.0                  0.100002         0.771040  1.856633   \n",
      "2     2.0                  0.200005         0.722671  1.719521   \n",
      "3     3.0                  0.300007         0.668692  1.557806   \n",
      "4     4.0                  0.400010         0.596448  1.354426   \n",
      "5     5.0                  0.500012         0.503198  1.141649   \n",
      "6     6.0                  0.600015         0.412018  0.917869   \n",
      "7     7.0                  0.700011         0.340502  0.628848   \n",
      "8     8.0                  0.800007         0.275175  0.426568   \n",
      "9     9.0                  0.900004         0.211767  0.271891   \n",
      "10   10.0                  1.000000         0.086878  0.124632   \n",
      "\n",
      "    cumulative_lift  response_rate  cumulative_response_rate  capture_rate  \\\n",
      "1          1.856633       0.926061                  0.926061      0.185668   \n",
      "2          1.788077       0.857671                  0.891866      0.171956   \n",
      "3          1.711320       0.777010                  0.853581      0.155784   \n",
      "4          1.622096       0.675567                  0.809077      0.135446   \n",
      "5          1.526007       0.569438                  0.761149      0.114168   \n",
      "6          1.424651       0.457819                  0.710594      0.091789   \n",
      "7          1.310970       0.313660                  0.653893      0.062883   \n",
      "8          1.200425       0.212766                  0.598754      0.042655   \n",
      "9          1.097259       0.135615                  0.547297      0.027188   \n",
      "10         1.000000       0.062165                  0.498785      0.012463   \n",
      "\n",
      "    cumulative_capture_rate       gain  cumulative_gain  \n",
      "1                  0.185668  85.663253        85.663253  \n",
      "2                  0.357624  71.952089        78.807671  \n",
      "3                  0.513408  55.780581        71.131975  \n",
      "4                  0.648854  35.442561        62.209621  \n",
      "5                  0.763022  14.164912        52.600679  \n",
      "6                  0.854811  -8.213092        42.465051  \n",
      "7                  0.917694 -37.115167        31.097049  \n",
      "8                  0.960349 -57.343163        20.042534  \n",
      "9                  0.987537 -72.810903         9.725910  \n",
      "10                 1.000000 -87.536785         0.000000  \n",
      "Model Performance Metrics using balanced test data\n",
      "==================================================\n",
      "[Mon May 18 12:43:16 2020] Predicting data ...\n",
      "[Mon May 18 12:43:18 2020] Using element -1 as positive class\n",
      "[Mon May 18 12:43:20 2020] Predicting data ... done\n",
      "[Mon May 18 12:43:20 2020] Converting evaluation_predictions to Pandas ...\n",
      "[Mon May 18 12:44:10 2020] Converting evaluation_predictions to Pandas ... done\n",
      "matthews_corrcoef: 0.488910913125717\n",
      "f2_score: 0.7475070565915506\n",
      "jaccard_similarity_score: 0.7444311308088756\n",
      "precision_score: 0.7406017191977078\n",
      "classification_report:\n",
      "              precision    recall  f1-score   support\n",
      "\n",
      "           0       0.75      0.74      0.74     34772\n",
      "           1       0.74      0.75      0.74     34497\n",
      "\n",
      "   micro avg       0.74      0.74      0.74     69269\n",
      "   macro avg       0.74      0.74      0.74     69269\n",
      "weighted avg       0.74      0.74      0.74     69269\n",
      "\n",
      "average_precision_score: 0.8010159125827351\n",
      "confusion_matrix:\n",
      "[[25719, 9053], [8650, 25847]]\n",
      "hinge_loss: 0.8878944641487312\n",
      "f1_score: 0.7449025173998877\n",
      "roc_auc_score: 0.8133345831398366\n",
      "log_loss: 0.5418215524977853\n",
      "lift: [1.803899, 1.670556, 1.511414, 1.341547, 1.131966, 0.879484, 0.637727, 0.466411, 0.341184, 0.215699]\n",
      "f0point5_score: 0.7423160651820537\n",
      "zero_one_loss: 0.2555688691911244\n",
      "cohen_kappa_score: 0.48887781676437325\n",
      "accuracy_score: 0.7444311308088756\n",
      "recall_score: 0.7492535582804302\n",
      "brier_score_loss: 0.17989921482319518\n",
      "hamming_loss: 0.2555688691911245\n",
      "gains_lift_table:\n",
      "Gains/Lift Table: Avg response rate: 49.8 %\n",
      "    group  cumulative_data_fraction  lower_threshold      lift  \\\n",
      "1     1.0                  0.100001         0.770594  1.803899   \n",
      "2     2.0                  0.200003         0.721258  1.670556   \n",
      "3     3.0                  0.300004         0.667077  1.511414   \n",
      "4     4.0                  0.400006         0.595752  1.341547   \n",
      "5     5.0                  0.500007         0.503683  1.131966   \n",
      "6     6.0                  0.600009         0.414126  0.879484   \n",
      "7     7.0                  0.700010         0.342533  0.637727   \n",
      "8     8.0                  0.800012         0.279206  0.466411   \n",
      "9     9.0                  0.900013         0.215972  0.341184   \n",
      "10   10.0                  1.000000         0.087223  0.215699   \n",
      "\n",
      "    cumulative_lift  response_rate  cumulative_response_rate  capture_rate  \\\n",
      "1          1.803899       0.898369                  0.898369      0.180392   \n",
      "2          1.737227       0.831962                  0.865165      0.167058   \n",
      "3          1.661956       0.752707                  0.827679      0.151144   \n",
      "4          1.581854       0.668110                  0.787787      0.134157   \n",
      "5          1.491876       0.563736                  0.742977      0.113198   \n",
      "6          1.389811       0.437996                  0.692147      0.087950   \n",
      "7          1.282370       0.317598                  0.638640      0.063774   \n",
      "8          1.180375       0.232279                  0.587845      0.046642   \n",
      "9          1.087132       0.169915                  0.541408      0.034119   \n",
      "10         1.000000       0.107421                  0.498015      0.021567   \n",
      "\n",
      "    cumulative_capture_rate       gain  cumulative_gain  \n",
      "1                  0.180392  80.389894        80.389894  \n",
      "2                  0.347450  67.055593        73.722744  \n",
      "3                  0.498594  51.141396        66.195628  \n",
      "4                  0.632751  34.154657        58.185385  \n",
      "5                  0.745949  13.196615        49.187631  \n",
      "6                  0.833899 -12.051593        38.981094  \n",
      "7                  0.897673 -36.227259        28.237043  \n",
      "8                  0.944315 -53.358936        18.037546  \n",
      "9                  0.978434 -65.881584         8.713198  \n",
      "10                 1.000000 -78.430105         0.000000  \n",
      "Model Performance Metrics using unbalanced test data\n",
      "====================================================\n",
      "[Mon May 18 12:44:11 2020] Predicting data ...\n",
      "[Mon May 18 12:44:13 2020] Using element -1 as positive class\n",
      "[Mon May 18 12:44:14 2020] Predicting data ... done\n",
      "[Mon May 18 12:44:14 2020] Converting evaluation_predictions to Pandas ...\n",
      "[Mon May 18 12:45:32 2020] Converting evaluation_predictions to Pandas ... done\n",
      "matthews_corrcoef: 0.3234177305444107\n",
      "f2_score: 0.783127064077842\n",
      "jaccard_similarity_score: 0.7475104849026306\n",
      "precision_score: 0.9615060804490178\n",
      "classification_report:\n",
      "              precision    recall  f1-score   support\n",
      "\n",
      "           0       0.25      0.74      0.38     34772\n",
      "           1       0.96      0.75      0.84    302141\n",
      "\n",
      "   micro avg       0.75      0.75      0.75    336913\n",
      "   macro avg       0.61      0.74      0.61    336913\n",
      "weighted avg       0.89      0.75      0.79    336913\n",
      "\n",
      "average_precision_score: 0.9699426293635668\n",
      "confusion_matrix:\n",
      "[[25719, 9053], [76014, 226127]]\n",
      "hinge_loss: 0.48966567464634386\n",
      "f1_score: 0.8416830907409164\n",
      "roc_auc_score: 0.8128621959623449\n",
      "log_loss: 0.5422915663823566\n",
      "lift: [1.102112, 1.096915, 1.089237, 1.079075, 1.066664, 1.049486, 1.020559, 0.966445, 0.858117, 0.671381]\n",
      "f0point5_score: 0.9097034986213262\n",
      "zero_one_loss: 0.2524895150973694\n",
      "cohen_kappa_score: 0.2635258524466094\n",
      "accuracy_score: 0.7475104849026306\n",
      "recall_score: 0.7484154748941719\n",
      "brier_score_loss: 0.1794470631011517\n",
      "hamming_loss: 0.25248951509736933\n",
      "gains_lift_table:\n",
      "Gains/Lift Table: Avg response rate: 89.68 %\n",
      "    group  cumulative_data_fraction  lower_threshold      lift  \\\n",
      "1     1.0                  0.100002         0.792113  1.102112   \n",
      "2     2.0                  0.200004         0.757795  1.096915   \n",
      "3     3.0                  0.300006         0.726424  1.089237   \n",
      "4     4.0                  0.400005         0.690878  1.079075   \n",
      "5     5.0                  0.500004         0.645662  1.066664   \n",
      "6     6.0                  0.600004         0.583615  1.049486   \n",
      "7     7.0                  0.700003         0.498156  1.020559   \n",
      "8     8.0                  0.800002         0.399826  0.966445   \n",
      "9     9.0                  0.900001         0.296151  0.858117   \n",
      "10   10.0                  1.000000         0.087223  0.671381   \n",
      "\n",
      "    cumulative_lift  response_rate  cumulative_response_rate  capture_rate  \\\n",
      "1          1.102112       0.988365                  0.988365      0.110213   \n",
      "2          1.099513       0.983705                  0.986035      0.109694   \n",
      "3          1.096088       0.976819                  0.982963      0.108926   \n",
      "4          1.091835       0.967707                  0.979149      0.107907   \n",
      "5          1.086801       0.956576                  0.974635      0.106665   \n",
      "6          1.080582       0.941171                  0.969057      0.104948   \n",
      "7          1.072007       0.915230                  0.961368      0.102055   \n",
      "8          1.058812       0.866700                  0.949535      0.096644   \n",
      "9          1.036513       0.769553                  0.929537      0.085811   \n",
      "10         1.000000       0.602090                  0.896792      0.067138   \n",
      "\n",
      "    cumulative_capture_rate       gain  cumulative_gain  \n",
      "1                  0.110213  10.211154        10.211154  \n",
      "2                  0.219907   9.691539         9.951346  \n",
      "3                  0.328833   8.923702         9.608798  \n",
      "4                  0.436740   7.907534         9.183492  \n",
      "5                  0.543405   6.666381         8.680079  \n",
      "6                  0.648353   4.948624         8.058179  \n",
      "7                  0.750408   2.055910         7.200723  \n",
      "8                  0.847052  -3.355519         5.881207  \n",
      "9                  0.932863 -14.188307         3.651283  \n",
      "10                 1.000000 -32.861874         0.000000  \n"
     ]
    },
    {
     "data": {
      "text/plain": [
       "<new_general_model_trainer.GeneralModelTrainer instance at 0x7f4618ec6830>"
      ]
     },
     "execution_count": 32,
     "metadata": {},
     "output_type": "execute_result"
    }
   ],
   "source": [
    "modeler.evaluate()"
   ]
  },
  {
   "cell_type": "code",
   "execution_count": 33,
   "metadata": {},
   "outputs": [
    {
     "data": {
      "image/png": "[encoded data removed]",
      "text/plain": [
       "<Figure size 864x720 with 1 Axes>"
      ]
     },
     "metadata": {},
     "output_type": "display_data"
    }
   ],
   "source": [
    "modeler.varimp_plot()"
   ]
  },
  {
   "cell_type": "code",
   "execution_count": 34,
   "metadata": {},
   "outputs": [
    {
     "data": {
      "text/plain": [
       "<Figure size 648x432 with 0 Axes>"
      ]
     },
     "metadata": {},
     "output_type": "display_data"
    },
    {
     "data": {
      "image/png": "[encoded data removed]",
      "text/plain": [
       "<Figure size 648x432 with 1 Axes>"
      ]
     },
     "metadata": {},
     "output_type": "display_data"
    }
   ],
   "source": [
    "modeler.plot_scores_histograms(modeler.metrics_unbalanced_test, figsize=(9,6))"
   ]
  },
  {
   "cell_type": "code",
   "execution_count": 35,
   "metadata": {},
   "outputs": [
    {
     "name": "stdout",
     "output_type": "stream",
     "text": [
      "[Mon May 18 12:45:35 2020] Selecting rows to predict\n",
      "[Mon May 18 12:45:35 2020] Found column \"pred\". Selecting prediction rows\n",
      "[Mon May 18 12:45:35 2020] Predicting data ...\n",
      "[Mon May 18 12:45:38 2020] Using last element as positive class\n",
      "[Mon May 18 12:45:39 2020] Predicting data ... done\n"
     ]
    },
    {
     "data": {
      "text/plain": [
       "<new_general_model_trainer.GeneralModelTrainer instance at 0x7f4618ec6830>"
      ]
     },
     "execution_count": 35,
     "metadata": {},
     "output_type": "execute_result"
    }
   ],
   "source": [
    "modeler.predict()"
   ]
  },
  {
   "cell_type": "code",
   "execution_count": 36,
   "metadata": {},
   "outputs": [
    {
     "name": "stdout",
     "output_type": "stream",
     "text": [
      "+----------+-------+\n",
      "|prediction|  count|\n",
      "+----------+-------+\n",
      "|       0.0|1295949|\n",
      "|       1.0|2986018|\n",
      "+----------+-------+\n",
      "\n"
     ]
    }
   ],
   "source": [
    "modeler.predictions.groupBy('prediction').count().show()"
   ]
  },
  {
   "cell_type": "code",
   "execution_count": 37,
   "metadata": {},
   "outputs": [],
   "source": [
    "predicciones = modeler.predictions.select('msisdn', 'prediction')"
   ]
  },
  {
   "cell_type": "code",
   "execution_count": 41,
   "metadata": {},
   "outputs": [],
   "source": [
    "df_over_30 = predicciones.withColumnRenamed('prediction', 'age_over_30')"
   ]
  },
  {
   "cell_type": "markdown",
   "metadata": {},
   "source": [
    "# 2. Clientes menores de 25."
   ]
  },
  {
   "cell_type": "code",
   "execution_count": 105,
   "metadata": {},
   "outputs": [],
   "source": [
    "#testing age as integer\n",
    "data_train_test_pre0=(data_CAR_SRV\n",
    "                  .where(col('rgu').isin(['mobile', 'prepaid']))\n",
    "                  .filter(col('mobile_services_nc') == 1)\n",
    "                  .groupBy(['NUM_CLIENTE', 'age'])\n",
    "                  .agg(countDistinct('msisdn').alias('services'))\n",
    "                  .withColumn('age_ok',when(col('age').between(10,100),1)\n",
    "                                      .otherwise(0))\n",
    "                  .withColumn('age_under_25',when(col('age_ok')==0, None)\n",
    "                                            .when(col('age') < 25, 1).otherwise(0)\n",
    "                             )\n",
    "             )"
   ]
  },
  {
   "cell_type": "code",
   "execution_count": 106,
   "metadata": {},
   "outputs": [],
   "source": [
    "data_train_test_pre1 = data_train_test_pre0.select(['NUM_CLIENTE','age_ok', 'age_under_25'])"
   ]
  },
  {
   "cell_type": "code",
   "execution_count": 107,
   "metadata": {},
   "outputs": [],
   "source": [
    "data_train_test_pre2=(data_CAR_SRV   \n",
    "                      .join(data_train_test_pre1, 'NUM_CLIENTE','leftouter')).cache()"
   ]
  },
  {
   "cell_type": "code",
   "execution_count": 108,
   "metadata": {},
   "outputs": [],
   "source": [
    "data_train_test_tmp0=(data_train_test_pre2\n",
    "                                                            \n",
    "                .withColumn('ident_netscout',when(col('NS_APPS_ADULT_data_mb').isNull(),0)\n",
    "                                              .otherwise(1))\n",
    "                                            \n",
    "                .withColumn('ident_gnv_voice',when(col('GNV_hour_0_W_MOU').isNull(),0)\n",
    "                                              .otherwise(1))\n",
    "                      \n",
    "                .withColumn('ident_gnv_data',when(col('GNV_hour_0_WE_Chat_Zero_Data_Volume_MB').isNull(),0)\n",
    "                                              .otherwise(1))\n",
    "                .filter( (col('rgu')=='mobile'))\n",
    "                .filter((col('ident_netscout')==1))\n",
    "                .filter( (col('ident_gnv_data')==1))\n",
    "                .filter((col('ident_gnv_voice')==1))     \n",
    "                    ).cache()"
   ]
  },
  {
   "cell_type": "code",
   "execution_count": 52,
   "metadata": {},
   "outputs": [
    {
     "name": "stdout",
     "output_type": "stream",
     "text": [
      "+------------+-------+\n",
      "|age_under_25|  count|\n",
      "+------------+-------+\n",
      "|        null|3158180|\n",
      "|           1|  26270|\n",
      "|           0|1097517|\n",
      "+------------+-------+\n",
      "\n"
     ]
    }
   ],
   "source": [
    "data_train_test_tmp0.groupBy('age_under_25').count().show()"
   ]
  },
  {
   "cell_type": "code",
   "execution_count": 109,
   "metadata": {},
   "outputs": [],
   "source": [
    "feats_gnv_data= [c for c in data_train_test_tmp0.columns if (('GNV_hour' in c)&(~(('MOU') in c))&(~(('Num_Of_Calls') in c)))]\n",
    "feats_gnv_voice= [c for c in data_train_test_tmp0.columns if (('GNV_hour' in c)& ((('MOU') in c)|(('Num_Of_Calls') in c)))]\n",
    "feats_gnv_roam_data=[c for c in data_train_test_tmp0.columns if ( 'GNV_Roam' in c )]\n",
    "feats_srv_price=[c for c in data_train_test_tmp0.columns if ( 'PRICE_' in c )]\n",
    "feats_netscout=[c for c in data_train_test_tmp0.columns if (( 'NS_APPS' in c)& ((('effective') in c)|(('days') in c)) )]\n",
    "feat_total_cuote=['MOBILE_BAM_TOTAL_CHARGES']\n",
    "feats_date=['FX_SRV_BASIC', 'FX_TARIFF', 'FX_VOICE_TARIFF', 'FX_DATA', 'FX_DTO_LEV1', 'FX_DTO_LEV2', 'FX_DTO_LEV3', 'FX_DATA_ADDITIONAL', 'FX_OOB', 'FX_NETFLIX_NAPSTER', 'FX_ROAMING_BASIC', 'FX_ROAM_USA_EUR', 'FX_ROAM_ZONA_2', 'FX_CONSUM_MIN']\n",
    "feats_categorical=['TARIFF', 'DTO_LEV1', 'DTO_LEV2', 'DTO_LEV3', 'DATA_ADDITIONAL', 'OOB', 'NETFLIX_NAPSTER', 'ROAMING_BASIC', 'ROAM_USA_EUR','ROAM_ZONA_2']\n",
    "feats_basic=['NUM_CLIENTE', 'msisdn']#,'msisdn', 'CAMPO1', 'CAMPO2', 'CAMPO3']\n",
    "\n",
    "\n",
    "# FEATS TO SUM\n",
    "feats_gnv_voice_mou= [c for c in data_train_test_tmp0.columns if (('GNV_hour' in c)& (('MOU') in c))]\n",
    "feats_gnv_voice_NOC= [c for c in data_train_test_tmp0.columns if (('GNV_hour' in c)& (('Num_Of_Calls') in c))]\n",
    "\n",
    "feats_gnv_total_data_mb= [c for c in data_train_test_tmp0.columns if (('GNV_hour' in c)& (('Data_Volume_MB') in c))]\n",
    "feats_gnv_data_mb_chatzero= [c for c in data_train_test_tmp0.columns if (('GNV_hour' in c)& (('Chat_Zero_Data_Volume_MB') in c))]\n",
    "feats_gnv_data_mb_maps= [c for c in data_train_test_tmp0.columns if (('GNV_hour' in c)& (('Maps_Pass_Data_Volume_MB') in c))]\n",
    "feats_gnv_data_mb_masmegas= [c for c in data_train_test_tmp0.columns if (('GNV_hour' in c)& (('MasMegas_Data_Volume_MB') in c))]\n",
    "feats_gnv_data_mb_music= [c for c in data_train_test_tmp0.columns if (('GNV_hour' in c)& (('Music_Pass_Data_Volume_MB') in c))]\n",
    "feats_gnv_data_mb_regular= [c for c in data_train_test_tmp0.columns if (('GNV_hour' in c)& (('RegularData_Data_Volume_MB') in c))]\n",
    "feats_gnv_data_mb_social= [c for c in data_train_test_tmp0.columns if (('GNV_hour' in c)& (('Social_Pass_Data_Volume_MB') in c))]\n",
    "feats_gnv_data_mb_videoHD= [c for c in data_train_test_tmp0.columns if (('GNV_hour' in c)& (('VideoHD_Pass_Data_Volume_MB') in c))]\n",
    "feats_gnv_data_mb_video= [c for c in data_train_test_tmp0.columns if (('GNV_hour' in c)& (('Video_Pass_Data_Volume_MB') in c))]"
   ]
  },
  {
   "cell_type": "code",
   "execution_count": 110,
   "metadata": {},
   "outputs": [],
   "source": [
    "data_train_test_tmp1=(data_train_test_tmp0\n",
    "            .withColumn('Total_MOU', sum(coalesce(data_train_test_tmp0[cc], lit(0)) for cc in feats_gnv_voice_mou))\n",
    "            .withColumn('Total_calls', sum(coalesce(data_train_test_tmp0[cc], lit(0)) for cc in feats_gnv_voice_NOC))\n",
    "            .withColumn('Total_data_chatzero', sum(coalesce(data_train_test_tmp0[cc], lit(0)) for cc in feats_gnv_data_mb_chatzero))\n",
    "            .withColumn('Total_data_maps', sum(coalesce(data_train_test_tmp0[cc], lit(0)) for cc in feats_gnv_data_mb_maps))\n",
    "            .withColumn('Total_data_masmegas', sum(coalesce(data_train_test_tmp0[cc], lit(0)) for cc in feats_gnv_data_mb_masmegas))\n",
    "            .withColumn('Total_data_music', sum(coalesce(data_train_test_tmp0[cc], lit(0)) for cc in feats_gnv_data_mb_music))\n",
    "            .withColumn('Total_data_regular', sum(coalesce(data_train_test_tmp0[cc], lit(0)) for cc in feats_gnv_data_mb_regular))\n",
    "            .withColumn('Total_data_social', sum(coalesce(data_train_test_tmp0[cc], lit(0)) for cc in feats_gnv_data_mb_social))\n",
    "            .withColumn('Total_data_videoHD', sum(coalesce(data_train_test_tmp0[cc], lit(0)) for cc in feats_gnv_data_mb_videoHD))\n",
    "            .withColumn('Total_data_video', sum(coalesce(data_train_test_tmp0[cc], lit(0)) for cc in feats_gnv_data_mb_video))\n",
    "                      )\n",
    "\n",
    "feats_total=[c for c in data_train_test_tmp1.columns if ( 'Total' in c )]\n",
    "\n",
    "feats_fillna0 = feats_total + feats_gnv_data_mb_regular + feats_gnv_voice_mou  + feats_netscout "
   ]
  },
  {
   "cell_type": "code",
   "execution_count": 111,
   "metadata": {},
   "outputs": [],
   "source": [
    "data_train_test_tmp1=data_train_test_tmp1[feats_basic+feats_fillna0+feats_date+feats_categorical+['age_under_25']]"
   ]
  },
  {
   "cell_type": "code",
   "execution_count": 112,
   "metadata": {},
   "outputs": [],
   "source": [
    "data_train_test_tmp2=data_train_test_tmp1.fillna(0, subset=feats_fillna0)\n",
    "data_train_test_tmp3=data_train_test_tmp2.fillna('NO IDENT', subset=feats_categorical)"
   ]
  },
  {
   "cell_type": "code",
   "execution_count": 113,
   "metadata": {},
   "outputs": [],
   "source": [
    "categoricalColumns = [item[0] for item in data_train_test_tmp3.dtypes if item[1].startswith('string')]\n",
    "timestampColumns = [item[0] for item in data_train_test_tmp3.dtypes if item[1].startswith('timestamp')]"
   ]
  },
  {
   "cell_type": "code",
   "execution_count": 114,
   "metadata": {},
   "outputs": [],
   "source": [
    "categoricalColumns.remove('msisdn')"
   ]
  },
  {
   "cell_type": "code",
   "execution_count": 115,
   "metadata": {},
   "outputs": [],
   "source": [
    "data_train_test_tmp3 = data_train_test_tmp3.drop(*categoricalColumns)"
   ]
  },
  {
   "cell_type": "code",
   "execution_count": 116,
   "metadata": {},
   "outputs": [],
   "source": [
    "declarados_u25 = data_train_test_tmp3.filter(col('age_under_25').isNotNull()).select('msisdn', 'age_under_25')"
   ]
  },
  {
   "cell_type": "code",
   "execution_count": 61,
   "metadata": {},
   "outputs": [
    {
     "name": "stdout",
     "output_type": "stream",
     "text": [
      "+------------+-------+\n",
      "|age_under_25|  count|\n",
      "+------------+-------+\n",
      "|           1|  26270|\n",
      "|           0|1097517|\n",
      "+------------+-------+\n",
      "\n"
     ]
    }
   ],
   "source": [
    "declarados_u25.groupBy('age_under_25').count().show()"
   ]
  },
  {
   "cell_type": "markdown",
   "metadata": {},
   "source": [
    "## Utilizamos, nuevamente, GMT para entrenar el modelo."
   ]
  },
  {
   "cell_type": "code",
   "execution_count": 62,
   "metadata": {},
   "outputs": [
    {
     "name": "stdout",
     "output_type": "stream",
     "text": [
      "The autoreload extension is already loaded. To reload it, use:\n",
      "  %reload_ext autoreload\n",
      "label_col is age_under_25 of type int\n",
      "[Mon May 18 13:34:19 2020] Label age_under_25 is numeric, so no need of converting or indexing it\n",
      "\n",
      "\n",
      "There are 0 ignore columns\n",
      "There are 485 columns in given DataFrame\n",
      "There are 1 int columns\n",
      "There are 347 double columns\n",
      "There are 122 bigint columns\n",
      "There are 1 string columns\n",
      "There are 14 timestamp columns\n",
      "\n",
      "\n",
      "There are 1 categorical columns\n",
      "There are 469 numeric columns\n",
      "[Mon May 18 13:34:21 2020] Counting number of distinct values in categorical variables ...\n"
     ]
    },
    {
     "name": "stderr",
     "output_type": "stream",
     "text": [
      "Processing msisdn: 100%|██████████| 1/1 [01:26<00:00, 86.08s/variable]\n"
     ]
    },
    {
     "name": "stdout",
     "output_type": "stream",
     "text": [
      "[Mon May 18 13:35:47 2020] Counting number of distinct values in categorical variables ... done\n",
      "[Mon May 18 13:35:47 2020] Detected 0 constant columns: []\n",
      "[Mon May 18 13:35:47 2020] Writing cols_to_relevel to disk cols_to_relevel-20200518133547.txt\n",
      "[Mon May 18 13:35:47 2020] Releveling 1 categorical variables with more than 32 levels, and dropping constant columns: ['msisdn']\n",
      "[Mon May 18 13:35:48 2020] Releveled  1 categorical variables with more than 32 levels, and dropped constant columns\n"
     ]
    },
    {
     "data": {
      "text/plain": [
       "<new_general_model_trainer.GeneralModelTrainer instance at 0x7f45ead33a70>"
      ]
     },
     "execution_count": 62,
     "metadata": {},
     "output_type": "execute_result"
    }
   ],
   "source": [
    "%load_ext autoreload\n",
    "%autoreload 2\n",
    "import sys\n",
    "\n",
    "sys.path.append('/var/SP/data/home/avazq108/New_general_model_trainer')\n",
    "\n",
    "from new_general_model_trainer import GeneralModelTrainer\n",
    "from model_outputs import ModelParameters\n",
    "\n",
    "modeler=GeneralModelTrainer(df=data_train_test_tmp3,label_col='age_under_25',ignore_cols=[])\n",
    "modeler.relevelCategoricalVars() #se crea un diccionario que se puede cargar en ejecuciones posteriores"
   ]
  },
  {
   "cell_type": "code",
   "execution_count": 63,
   "metadata": {},
   "outputs": [
    {
     "name": "stdout",
     "output_type": "stream",
     "text": [
      "[Mon May 18 13:35:48 2020] Counting NULLs in label age_under_25 ...\n",
      "[Mon May 18 13:35:51 2020] Counting NULLs in label age_under_25 ... 3158180\n",
      "[Mon May 18 13:35:51 2020] Using column 'pred' to separate NULLs ...\n",
      "[Mon May 18 13:35:55 2020] Using column 'pred' to separate NULLs ... done\n",
      "[Mon May 18 13:35:55 2020] Indexing categorical features ...\n"
     ]
    },
    {
     "name": "stderr",
     "output_type": "stream",
     "text": [
      "Processing msisdn_releveled: 100%|██████████| 1/1 [00:04<00:00,  4.70s/variable]"
     ]
    },
    {
     "name": "stdout",
     "output_type": "stream",
     "text": [
      "[Mon May 18 13:35:59 2020] Indexing categorical features ... done\n"
     ]
    },
    {
     "name": "stderr",
     "output_type": "stream",
     "text": [
      "\n"
     ]
    },
    {
     "name": "stdout",
     "output_type": "stream",
     "text": [
      "[Mon May 18 13:35:59 2020] Assembling 470 features ...\n",
      "[Mon May 18 13:36:02 2020] Assembling 470 features ... done\n"
     ]
    },
    {
     "data": {
      "text/plain": [
       "<new_general_model_trainer.GeneralModelTrainer instance at 0x7f45ead33a70>"
      ]
     },
     "execution_count": 63,
     "metadata": {},
     "output_type": "execute_result"
    }
   ],
   "source": [
    "modeler.generateFeaturesVector()"
   ]
  },
  {
   "cell_type": "code",
   "execution_count": 64,
   "metadata": {},
   "outputs": [
    {
     "name": "stdout",
     "output_type": "stream",
     "text": [
      "[Mon May 18 13:36:02 2020] Applying minMaxScaler to range [0.000000, 1.000000] ...\n",
      "[Mon May 18 13:36:26 2020] Applying minMaxScaler to range [0.000000, 1.000000] ... done\n"
     ]
    },
    {
     "data": {
      "text/plain": [
       "<new_general_model_trainer.GeneralModelTrainer instance at 0x7f45ead33a70>"
      ]
     },
     "execution_count": 64,
     "metadata": {},
     "output_type": "execute_result"
    }
   ],
   "source": [
    "modeler.minMaxScale()"
   ]
  },
  {
   "cell_type": "code",
   "execution_count": 65,
   "metadata": {},
   "outputs": [
    {
     "name": "stdout",
     "output_type": "stream",
     "text": [
      "[Mon May 18 13:36:27 2020] Found column \"pred\". Removing prediction rows for training\n",
      "[Mon May 18 13:36:28 2020] Splitting data set into train(70%)/test(30%) ...\n",
      "[Mon May 18 13:36:29 2020] Splitting data set into train(70%)/test(30%) ... done\n"
     ]
    },
    {
     "data": {
      "text/plain": [
       "<new_general_model_trainer.GeneralModelTrainer instance at 0x7f45ead33a70>"
      ]
     },
     "execution_count": 65,
     "metadata": {},
     "output_type": "execute_result"
    }
   ],
   "source": [
    "modeler.split_train_test()"
   ]
  },
  {
   "cell_type": "code",
   "execution_count": 66,
   "metadata": {},
   "outputs": [
    {
     "name": "stdout",
     "output_type": "stream",
     "text": [
      "[Mon May 18 13:36:29 2020] Not found column \"pred\". Removing null rows for training\n",
      "[Mon May 18 13:36:30 2020] Balancing train data ...\n",
      "[Mon May 18 13:36:42 2020] Sampling DataFrame by column age_under_25_without_nulls with fractions: {0: 0.024004851462986775, 1: 1.0} ...\n",
      "[Mon May 18 13:36:43 2020] Sampling DataFrame by column age_under_25_without_nulls with fractions: {0: 0.024004851462986775, 1: 1.0} ... done\n",
      "[Mon May 18 13:36:43 2020] Caching train data ...\n",
      "[Mon May 18 13:36:44 2020] Caching train data ... done\n",
      "[Mon May 18 13:36:44 2020] Balancing test data ...\n",
      "[Mon May 18 13:36:55 2020] Sampling DataFrame by column age_under_25_without_nulls with fractions: {0: 0.023774723555026148, 1: 1.0} ...\n",
      "[Mon May 18 13:36:55 2020] Sampling DataFrame by column age_under_25_without_nulls with fractions: {0: 0.023774723555026148, 1: 1.0} ... done\n",
      "[Mon May 18 13:36:55 2020] Caching test data ...\n",
      "[Mon May 18 13:36:56 2020] Caching test data ... done\n",
      "[Mon May 18 13:36:57 2020] Added new stage: RandomForestClassifier_4456a2d6f41a8cf568fe\n",
      "[Mon May 18 13:36:57 2020] Training RandomForestClassifier model ...\n",
      "[Mon May 18 13:41:27 2020] Training RandomForestClassifier model ... done\n",
      "[Mon May 18 13:41:27 2020] Trained  RandomForestClassificationModel (uid=RandomForestClassifier_4456a2d6f41a8cf568fe) with 500 trees\n"
     ]
    },
    {
     "data": {
      "text/plain": [
       "<new_general_model_trainer.GeneralModelTrainer instance at 0x7f45ead33a70>"
      ]
     },
     "execution_count": 66,
     "metadata": {},
     "output_type": "execute_result"
    }
   ],
   "source": [
    "from pyspark.ml.classification import RandomForestClassifier\n",
    "\n",
    "modeler.train()"
   ]
  },
  {
   "cell_type": "code",
   "execution_count": 67,
   "metadata": {},
   "outputs": [
    {
     "name": "stdout",
     "output_type": "stream",
     "text": [
      "Model Performance Metrics using (balanced) train data\n",
      "=====================================================\n",
      "[Mon May 18 13:41:28 2020] Predicting data ...\n",
      "[Mon May 18 13:41:30 2020] Using element -1 as positive class\n",
      "[Mon May 18 13:41:31 2020] Predicting data ... done\n",
      "[Mon May 18 13:41:31 2020] Converting evaluation_predictions to Pandas ...\n",
      "[Mon May 18 13:41:59 2020] Converting evaluation_predictions to Pandas ... done\n",
      "matthews_corrcoef: 0.6509486641389751\n",
      "f2_score: 0.8176933472839828\n",
      "jaccard_similarity_score: 0.8253422789505264\n",
      "precision_score: 0.8350957257346393\n",
      "classification_report:\n",
      "              precision    recall  f1-score   support\n",
      "\n",
      "           0       0.82      0.84      0.83     18220\n",
      "           1       0.84      0.81      0.82     18446\n",
      "\n",
      "   micro avg       0.83      0.83      0.83     36666\n",
      "   macro avg       0.83      0.83      0.83     36666\n",
      "weighted avg       0.83      0.83      0.83     36666\n",
      "\n",
      "average_precision_score: 0.9097714231101997\n",
      "confusion_matrix:\n",
      "[[15257, 2963], [3441, 15005]]\n",
      "hinge_loss: 0.8239454654534255\n",
      "f1_score: 0.8241335749986268\n",
      "roc_auc_score: 0.9027034975440223\n",
      "log_loss: 0.44149895868548655\n",
      "lift: [1.963897, 1.887466, 1.752492, 1.500975, 1.117736, 0.709019, 0.509137, 0.321532, 0.180556, 0.05639]\n",
      "f0point5_score: 0.830676055714254\n",
      "zero_one_loss: 0.17465772104947364\n",
      "cohen_kappa_score: 0.6507274195350918\n",
      "accuracy_score: 0.8253422789505264\n",
      "recall_score: 0.8134554917055188\n",
      "brier_score_loss: 0.13735106873741845\n",
      "hamming_loss: 0.17465772104947364\n",
      "gains_lift_table:\n",
      "Gains/Lift Table: Avg response rate: 50.31 %\n",
      "    group  cumulative_data_fraction  lower_threshold      lift  \\\n",
      "1     1.0                  0.100011         0.844439  1.963897   \n",
      "2     2.0                  0.200022         0.769568  1.887466   \n",
      "3     3.0                  0.300033         0.690875  1.752492   \n",
      "4     4.0                  0.400044         0.601583  1.500975   \n",
      "5     5.0                  0.500055         0.488405  1.117736   \n",
      "6     6.0                  0.600065         0.378124  0.709019   \n",
      "7     7.0                  0.700049         0.296621  0.509137   \n",
      "8     8.0                  0.800033         0.239263  0.321532   \n",
      "9     9.0                  0.900016         0.194269  0.180556   \n",
      "10   10.0                  1.000000         0.099382  0.056390   \n",
      "\n",
      "    cumulative_lift  response_rate  cumulative_response_rate  capture_rate  \\\n",
      "1          1.963897       0.988001                  0.988001      0.196411   \n",
      "2          1.925682       0.949550                  0.968776      0.188767   \n",
      "3          1.867952       0.881647                  0.939733      0.175268   \n",
      "4          1.776208       0.755113                  0.893578      0.150114   \n",
      "5          1.644513       0.562313                  0.827325      0.111786   \n",
      "6          1.488598       0.356695                  0.748886      0.070910   \n",
      "7          1.348707       0.256137                  0.678510      0.050905   \n",
      "8          1.220337       0.161757                  0.613929      0.032148   \n",
      "9          1.104826       0.090835                  0.555818      0.018053   \n",
      "10         1.000000       0.028369                  0.503082      0.005638   \n",
      "\n",
      "    cumulative_capture_rate       gain  cumulative_gain  \n",
      "1                  0.196411  96.389721        96.389721  \n",
      "2                  0.385178  88.746621        92.568171  \n",
      "3                  0.560446  75.249232        86.795192  \n",
      "4                  0.710560  50.097471        77.620762  \n",
      "5                  0.822346  11.773559        64.451321  \n",
      "6                  0.893256 -29.098053        48.859759  \n",
      "7                  0.944161 -49.086323        34.870732  \n",
      "8                  0.976309 -67.846847        22.033661  \n",
      "9                  0.994362 -81.944351        10.482649  \n",
      "10                 1.000000 -94.360999         0.000000  \n",
      "Model Performance Metrics using balanced test data\n",
      "==================================================\n",
      "[Mon May 18 13:42:00 2020] Predicting data ...\n",
      "[Mon May 18 13:42:02 2020] Using element -1 as positive class\n",
      "[Mon May 18 13:42:03 2020] Predicting data ... done\n",
      "[Mon May 18 13:42:03 2020] Converting evaluation_predictions to Pandas ...\n",
      "[Mon May 18 13:42:31 2020] Converting evaluation_predictions to Pandas ... done\n",
      "matthews_corrcoef: 0.58213752572374\n",
      "f2_score: 0.7863741339491915\n",
      "jaccard_similarity_score: 0.7909947103599535\n",
      "precision_score: 0.7986708365910868\n",
      "classification_report:\n",
      "              precision    recall  f1-score   support\n",
      "\n",
      "           0       0.78      0.80      0.79      7678\n",
      "           1       0.80      0.78      0.79      7824\n",
      "\n",
      "   micro avg       0.79      0.79      0.79     15502\n",
      "   macro avg       0.79      0.79      0.79     15502\n",
      "weighted avg       0.79      0.79      0.79     15502\n",
      "\n",
      "average_precision_score: 0.8554389503430283\n",
      "confusion_matrix:\n",
      "[[6133, 1545], [1695, 6129]]\n",
      "hinge_loss: 0.8462370414353658\n",
      "f1_score: 0.7909407665505227\n",
      "roc_auc_score: 0.855984398363369\n",
      "log_loss: 0.4909940592315024\n",
      "lift: [1.856148, 1.779501, 1.657934, 1.441904, 1.150455, 0.724787, 0.530488, 0.39499, 0.263326, 0.199412]\n",
      "f0point5_score: 0.7955607476635513\n",
      "zero_one_loss: 0.2090052896400465\n",
      "cohen_kappa_score: 0.5820285268421401\n",
      "accuracy_score: 0.7909947103599535\n",
      "recall_score: 0.7833588957055214\n",
      "brier_score_loss: 0.1580355798678565\n",
      "hamming_loss: 0.20900528964004644\n",
      "gains_lift_table:\n",
      "Gains/Lift Table: Avg response rate: 50.47 %\n",
      "    group  cumulative_data_fraction  lower_threshold      lift  \\\n",
      "1     1.0                  0.100052         0.834323  1.856148   \n",
      "2     2.0                  0.200103         0.760999  1.779501   \n",
      "3     3.0                  0.300090         0.684082  1.657934   \n",
      "4     4.0                  0.400077         0.598918  1.441904   \n",
      "5     5.0                  0.500065         0.494038  1.150455   \n",
      "6     6.0                  0.600052         0.386097  0.724787   \n",
      "7     7.0                  0.700039         0.303390  0.530488   \n",
      "8     8.0                  0.800026         0.247429  0.394990   \n",
      "9     9.0                  0.900013         0.200091  0.263326   \n",
      "10   10.0                  1.000000         0.098479  0.199412   \n",
      "\n",
      "    cumulative_lift  response_rate  cumulative_response_rate  capture_rate  \\\n",
      "1          1.856148       0.936815                  0.936815      0.185711   \n",
      "2          1.817825       0.898130                  0.917473      0.178042   \n",
      "3          1.764551       0.836774                  0.890585      0.165772   \n",
      "4          1.683915       0.727742                  0.849887      0.144172   \n",
      "5          1.577250       0.580645                  0.796053      0.115031   \n",
      "6          1.435204       0.365806                  0.724360      0.072469   \n",
      "7          1.305982       0.267742                  0.659141      0.053042   \n",
      "8          1.192127       0.199355                  0.601677      0.039494   \n",
      "9          1.088941       0.132903                  0.549599      0.026329   \n",
      "10         1.000000       0.100645                  0.504709      0.019939   \n",
      "\n",
      "    cumulative_capture_rate       gain  cumulative_gain  \n",
      "1                  0.185711  85.614845        85.614845  \n",
      "2                  0.363753  77.950089        81.782467  \n",
      "3                  0.529525  65.793374        76.455061  \n",
      "4                  0.673697  44.190382        68.391492  \n",
      "5                  0.788728  15.045518        57.725050  \n",
      "6                  0.861197 -27.521324        43.520376  \n",
      "7                  0.914239 -46.951234        30.598242  \n",
      "8                  0.953733 -60.501039        19.212668  \n",
      "9                  0.980062 -73.667359         8.894145  \n",
      "10                 1.000000 -80.058777         0.000000  \n",
      "Model Performance Metrics using unbalanced test data\n",
      "====================================================\n",
      "[Mon May 18 13:42:32 2020] Predicting data ...\n",
      "[Mon May 18 13:42:34 2020] Using element -1 as positive class\n",
      "[Mon May 18 13:42:35 2020] Predicting data ... done\n",
      "[Mon May 18 13:42:35 2020] Converting evaluation_predictions to Pandas ...\n",
      "[Mon May 18 13:43:29 2020] Converting evaluation_predictions to Pandas ... done\n",
      "matthews_corrcoef: 0.20992631566115108\n",
      "f2_score: 0.29100629587776694\n",
      "jaccard_similarity_score: 0.7934867458364623\n",
      "precision_score: 0.08281201443028739\n",
      "classification_report:\n",
      "              precision    recall  f1-score   support\n",
      "\n",
      "           0       0.99      0.79      0.88    329089\n",
      "           1       0.08      0.78      0.15      7824\n",
      "\n",
      "   micro avg       0.79      0.79      0.79    336913\n",
      "   macro avg       0.54      0.79      0.52    336913\n",
      "weighted avg       0.97      0.79      0.87    336913\n",
      "\n",
      "average_precision_score: 0.1748854762575499\n",
      "confusion_matrix:\n",
      "[[261207, 67882], [1695, 6129]]\n",
      "hinge_loss: 1.3310049773759045\n",
      "f1_score: 0.1497892099957231\n",
      "roc_auc_score: 0.8547154909272652\n",
      "log_loss: 0.4919866902805179\n",
      "lift: [5.900951, 1.720312, 0.75663, 0.469074, 0.322089, 0.235176, 0.210891, 0.146985, 0.138038, 0.099694]\n",
      "f0point5_score: 0.10084971105874921\n",
      "zero_one_loss: 0.20651325416353772\n",
      "cohen_kappa_score: 0.1125104460448556\n",
      "accuracy_score: 0.7934867458364623\n",
      "recall_score: 0.7833588957055214\n",
      "brier_score_loss: 0.15683930642809862\n",
      "hamming_loss: 0.20651325416353777\n",
      "gains_lift_table:\n",
      "Gains/Lift Table: Avg response rate: 2.32 %\n",
      "    group  cumulative_data_fraction  lower_threshold      lift  \\\n",
      "1     1.0                  0.100002         0.651295  5.900951   \n",
      "2     2.0                  0.200004         0.521943  1.720312   \n",
      "3     3.0                  0.300006         0.421918  0.756630   \n",
      "4     4.0                  0.400005         0.349805  0.469074   \n",
      "5     5.0                  0.500004         0.300462  0.322089   \n",
      "6     6.0                  0.600004         0.263013  0.235176   \n",
      "7     7.0                  0.700003         0.232779  0.210891   \n",
      "8     8.0                  0.800002         0.205984  0.146985   \n",
      "9     9.0                  0.900001         0.179110  0.138038   \n",
      "10   10.0                  1.000000         0.094056  0.099694   \n",
      "\n",
      "    cumulative_lift  response_rate  cumulative_response_rate  capture_rate  \\\n",
      "1          5.900951       0.137035                  0.137035      0.590107   \n",
      "2          3.810631       0.039950                  0.088493      0.172035   \n",
      "3          2.792631       0.017571                  0.064852      0.075665   \n",
      "4          2.211755       0.010893                  0.051363      0.046907   \n",
      "5          1.833828       0.007480                  0.042586      0.032209   \n",
      "6          1.567390       0.005461                  0.036399      0.023517   \n",
      "7          1.373607       0.004897                  0.031899      0.021089   \n",
      "8          1.220281       0.003413                  0.028338      0.014698   \n",
      "9          1.100033       0.003206                  0.025546      0.013804   \n",
      "10         1.000000       0.002315                  0.023223      0.009969   \n",
      "\n",
      "    cumulative_capture_rate        gain  cumulative_gain  \n",
      "1                  0.590107  490.095102       490.095102  \n",
      "2                  0.762142   72.031191       281.063146  \n",
      "3                  0.837807  -24.336950       179.263114  \n",
      "4                  0.884714  -53.092629       121.175471  \n",
      "5                  0.916923  -67.791124        83.382825  \n",
      "6                  0.940440  -76.482408        56.739015  \n",
      "7                  0.961529  -78.910855        37.360709  \n",
      "8                  0.976227  -85.301505        22.028103  \n",
      "9                  0.990031  -86.196196        10.003299  \n",
      "10                 1.000000  -90.030586         0.000000  \n"
     ]
    },
    {
     "data": {
      "text/plain": [
       "<new_general_model_trainer.GeneralModelTrainer instance at 0x7f45ead33a70>"
      ]
     },
     "execution_count": 67,
     "metadata": {},
     "output_type": "execute_result"
    }
   ],
   "source": [
    "modeler.evaluate()"
   ]
  },
  {
   "cell_type": "code",
   "execution_count": 68,
   "metadata": {},
   "outputs": [
    {
     "data": {
      "image/png": "[encoded data removed]",
      "text/plain": [
       "<Figure size 864x720 with 1 Axes>"
      ]
     },
     "metadata": {},
     "output_type": "display_data"
    }
   ],
   "source": [
    "modeler.varimp_plot()"
   ]
  },
  {
   "cell_type": "code",
   "execution_count": 69,
   "metadata": {},
   "outputs": [
    {
     "data": {
      "text/plain": [
       "<Figure size 648x432 with 0 Axes>"
      ]
     },
     "metadata": {},
     "output_type": "display_data"
    },
    {
     "data": {
      "image/png": "[encoded data removed]",
      "text/plain": [
       "<Figure size 648x432 with 1 Axes>"
      ]
     },
     "metadata": {},
     "output_type": "display_data"
    }
   ],
   "source": [
    "modeler.plot_scores_histograms(modeler.metrics_unbalanced_test, figsize=(9,6))"
   ]
  },
  {
   "cell_type": "code",
   "execution_count": 70,
   "metadata": {},
   "outputs": [
    {
     "name": "stdout",
     "output_type": "stream",
     "text": [
      "[Mon May 18 13:43:32 2020] Selecting rows to predict\n",
      "[Mon May 18 13:43:32 2020] Found column \"pred\". Selecting prediction rows\n",
      "[Mon May 18 13:43:33 2020] Predicting data ...\n",
      "[Mon May 18 13:43:35 2020] Using last element as positive class\n",
      "[Mon May 18 13:43:36 2020] Predicting data ... done\n"
     ]
    },
    {
     "data": {
      "text/plain": [
       "<new_general_model_trainer.GeneralModelTrainer instance at 0x7f45ead33a70>"
      ]
     },
     "execution_count": 70,
     "metadata": {},
     "output_type": "execute_result"
    }
   ],
   "source": [
    "modeler.predict()"
   ]
  },
  {
   "cell_type": "code",
   "execution_count": 71,
   "metadata": {},
   "outputs": [
    {
     "name": "stdout",
     "output_type": "stream",
     "text": [
      "+----------+-------+\n",
      "|prediction|  count|\n",
      "+----------+-------+\n",
      "|       0.0|3275295|\n",
      "|       1.0|1006672|\n",
      "+----------+-------+\n",
      "\n"
     ]
    }
   ],
   "source": [
    "modeler.predictions.groupBy('prediction').count().show()"
   ]
  },
  {
   "cell_type": "code",
   "execution_count": 72,
   "metadata": {},
   "outputs": [],
   "source": [
    "predicciones = modeler.predictions.select('msisdn', 'prediction')"
   ]
  },
  {
   "cell_type": "code",
   "execution_count": 73,
   "metadata": {},
   "outputs": [],
   "source": [
    "df_under_25 = predicciones.withColumnRenamed('prediction', 'age_under_25')"
   ]
  },
  {
   "cell_type": "code",
   "execution_count": 74,
   "metadata": {},
   "outputs": [
    {
     "data": {
      "text/plain": [
       "4281967"
      ]
     },
     "execution_count": 74,
     "metadata": {},
     "output_type": "execute_result"
    }
   ],
   "source": [
    "df_under_25.count()"
   ]
  },
  {
   "cell_type": "code",
   "execution_count": 75,
   "metadata": {},
   "outputs": [
    {
     "data": {
      "text/plain": [
       "4281967"
      ]
     },
     "execution_count": 75,
     "metadata": {},
     "output_type": "execute_result"
    }
   ],
   "source": [
    "df_over_30.count()"
   ]
  },
  {
   "cell_type": "code",
   "execution_count": 86,
   "metadata": {},
   "outputs": [],
   "source": [
    "df_all = df_under_25.join(df_over_30, on = 'msisdn', how = 'inner')"
   ]
  },
  {
   "cell_type": "code",
   "execution_count": 77,
   "metadata": {},
   "outputs": [
    {
     "data": {
      "text/plain": [
       "4281967"
      ]
     },
     "execution_count": 77,
     "metadata": {},
     "output_type": "execute_result"
    }
   ],
   "source": [
    "df_all.count()"
   ]
  },
  {
   "cell_type": "code",
   "execution_count": 78,
   "metadata": {},
   "outputs": [
    {
     "name": "stdout",
     "output_type": "stream",
     "text": [
      "+------------+-----------+-------+\n",
      "|age_under_25|age_over_30|  count|\n",
      "+------------+-----------+-------+\n",
      "|         1.0|        1.0|   9039|\n",
      "|         0.0|        1.0|2976979|\n",
      "|         1.0|        0.0| 997633|\n",
      "|         0.0|        0.0| 298316|\n",
      "+------------+-----------+-------+\n",
      "\n"
     ]
    }
   ],
   "source": [
    "df_all.groupby('age_under_25', 'age_over_30').count().show()"
   ]
  },
  {
   "cell_type": "code",
   "execution_count": 87,
   "metadata": {},
   "outputs": [],
   "source": [
    "df_all = df_all.withColumn('edad_final', \n",
    "                  when(col('age_under_25') == 1, 0)\n",
    "                  .when(col('age_over_30') == 1, 2)\n",
    "                  .when((col('age_under_25') == 0) & (col('age_over_30') == 0), 1)\n",
    "                  .when((col('age_under_25') == 1) & (col('age_over_30') == 1), -1)\n",
    "                 )"
   ]
  },
  {
   "cell_type": "code",
   "execution_count": 88,
   "metadata": {},
   "outputs": [],
   "source": [
    "df_all = df_all.filter(col('edad_final') != -1)"
   ]
  },
  {
   "cell_type": "code",
   "execution_count": 89,
   "metadata": {},
   "outputs": [
    {
     "name": "stdout",
     "output_type": "stream",
     "text": [
      "+----------+------------+-----------+-------+\n",
      "|edad_final|age_under_25|age_over_30|  count|\n",
      "+----------+------------+-----------+-------+\n",
      "|         1|         0.0|        0.0| 298316|\n",
      "|         0|         1.0|        0.0| 997633|\n",
      "|         2|         0.0|        1.0|2976979|\n",
      "|         0|         1.0|        1.0|   9039|\n",
      "+----------+------------+-----------+-------+\n",
      "\n"
     ]
    }
   ],
   "source": [
    "df_all.groupby('edad_final','age_under_25', 'age_over_30').count().show()"
   ]
  },
  {
   "cell_type": "code",
   "execution_count": 90,
   "metadata": {},
   "outputs": [],
   "source": [
    "df_all = df_all.withColumn('prediction', \n",
    "                           when(col('edad_final') == 0, \"Under 25\")\n",
    "                           .when(col('edad_final') == 1, \"Between 25 and 30\")\n",
    "                           .when(col('edad_final') == 2, \"Older than 30\")\n",
    "                          )"
   ]
  },
  {
   "cell_type": "code",
   "execution_count": 91,
   "metadata": {},
   "outputs": [
    {
     "name": "stdout",
     "output_type": "stream",
     "text": [
      "+-----------------+-------+\n",
      "|       prediction|  count|\n",
      "+-----------------+-------+\n",
      "|         Under 25|1006672|\n",
      "|Between 25 and 30| 298316|\n",
      "|    Older than 30|2976979|\n",
      "+-----------------+-------+\n",
      "\n"
     ]
    }
   ],
   "source": [
    "df_all.groupby('prediction').count().show()"
   ]
  },
  {
   "cell_type": "code",
   "execution_count": 118,
   "metadata": {},
   "outputs": [
    {
     "data": {
      "text/plain": [
       "4281967"
      ]
     },
     "execution_count": 118,
     "metadata": {},
     "output_type": "execute_result"
    }
   ],
   "source": [
    "df_all.count()"
   ]
  },
  {
   "cell_type": "markdown",
   "metadata": {},
   "source": [
    "## Preparamos salida para Model Outputs."
   ]
  },
  {
   "cell_type": "code",
   "execution_count": 122,
   "metadata": {},
   "outputs": [],
   "source": [
    "level = 'msisdn'\n",
    "\n",
    "model_name = 'age_prediction'\n",
    "\n",
    "current_timestamp = datetime.datetime.now()\n",
    "\n",
    "path_model_detail = 'model_name=' + model_name \\\n",
    "                            + '/year=' + str(current_timestamp.year) \\\n",
    "                            + '/month=' + str(current_timestamp.month) \\\n",
    "                            + '/day=0'\n",
    "\n",
    "path_model_outputs_base = '/data/attributes/vf_es/model_outputs/'\n",
    "path_model_outputs_scores = path_model_outputs_base + 'model_scores/' + path_model_detail"
   ]
  },
  {
   "cell_type": "code",
   "execution_count": 123,
   "metadata": {},
   "outputs": [],
   "source": [
    "executed_at = current_timestamp.strftime('%Y-%m-%d %H:%M:%S')\n",
    "time = int(current_timestamp.strftime('%H%M%S'))"
   ]
  },
  {
   "cell_type": "code",
   "execution_count": 125,
   "metadata": {},
   "outputs": [],
   "source": [
    "from pyspark.sql.types import DoubleType, StringType, IntegerType, ArrayType, FloatType\n",
    "\n",
    "df_save_scores = (df_all\n",
    "                        .withColumn('executed_at', lit(executed_at).cast(StringType()))\n",
    "                        .withColumn('model_executed_at', lit(executed_at).cast(StringType()))\n",
    "                        .withColumn('predict_closing_date', lit(ClosingDay).cast(StringType()))\n",
    "                        .withColumn('msisdn', col('msisdn').cast(StringType()))\n",
    "                        .withColumn('client_id', lit(None).cast(StringType()))\n",
    "                        .withColumn('nif', lit(None).cast(StringType()))\n",
    "                        .withColumn('model_output', col('edad_final').cast(StringType()))\n",
    "                        .withColumn('scoring', lit(None).cast(FloatType()))\n",
    "                        .withColumn('prediction', col('prediction').cast(StringType()))\n",
    "                        .withColumn('extra_info', lit(None).cast(StringType()))\n",
    "                        .withColumn('time', lit(time).cast(IntegerType()))\n",
    "                        .withColumn('model_name', lit(model_name).cast(StringType()))\n",
    "                        .select('executed_at', 'model_executed_at', 'predict_closing_date', 'msisdn'\n",
    "                                       , 'client_id', 'nif', 'model_output', 'scoring', 'prediction'\n",
    "                                       , 'extra_info', 'time')\n",
    "                            )"
   ]
  },
  {
   "cell_type": "code",
   "execution_count": 127,
   "metadata": {},
   "outputs": [],
   "source": [
    "df_pandas = df_save_scores.limit(20).toPandas()"
   ]
  },
  {
   "cell_type": "code",
   "execution_count": 131,
   "metadata": {},
   "outputs": [],
   "source": [
    "df_pandas.to_csv('sample_age_prediction.csv', sep = ';', index = False)"
   ]
  },
  {
   "cell_type": "code",
   "execution_count": 128,
   "metadata": {},
   "outputs": [
    {
     "data": {
      "text/html": [
       "<div>\n",
       "<style scoped>\n",
       "    .dataframe tbody tr th:only-of-type {\n",
       "        vertical-align: middle;\n",
       "    }\n",
       "\n",
       "    .dataframe tbody tr th {\n",
       "        vertical-align: top;\n",
       "    }\n",
       "\n",
       "    .dataframe thead th {\n",
       "        text-align: right;\n",
       "    }\n",
       "</style>\n",
       "<table border=\"1\" class=\"dataframe\">\n",
       "  <thead>\n",
       "    <tr style=\"text-align: right;\">\n",
       "      <th></th>\n",
       "      <th>executed_at</th>\n",
       "      <th>model_executed_at</th>\n",
       "      <th>predict_closing_date</th>\n",
       "      <th>msisdn</th>\n",
       "      <th>client_id</th>\n",
       "      <th>nif</th>\n",
       "      <th>model_output</th>\n",
       "      <th>scoring</th>\n",
       "      <th>prediction</th>\n",
       "      <th>extra_info</th>\n",
       "      <th>time</th>\n",
       "    </tr>\n",
       "  </thead>\n",
       "  <tbody>\n",
       "    <tr>\n",
       "      <th>0</th>\n",
       "      <td>2020-05-18 16:37:57</td>\n",
       "      <td>2020-05-18 16:37:57</td>\n",
       "      <td>20200430</td>\n",
       "      <td>600000070</td>\n",
       "      <td>None</td>\n",
       "      <td>None</td>\n",
       "      <td>2</td>\n",
       "      <td>NaN</td>\n",
       "      <td>Older than 30</td>\n",
       "      <td>None</td>\n",
       "      <td>163757</td>\n",
       "    </tr>\n",
       "    <tr>\n",
       "      <th>1</th>\n",
       "      <td>2020-05-18 16:37:57</td>\n",
       "      <td>2020-05-18 16:37:57</td>\n",
       "      <td>20200430</td>\n",
       "      <td>600005109</td>\n",
       "      <td>None</td>\n",
       "      <td>None</td>\n",
       "      <td>2</td>\n",
       "      <td>NaN</td>\n",
       "      <td>Older than 30</td>\n",
       "      <td>None</td>\n",
       "      <td>163757</td>\n",
       "    </tr>\n",
       "    <tr>\n",
       "      <th>2</th>\n",
       "      <td>2020-05-18 16:37:57</td>\n",
       "      <td>2020-05-18 16:37:57</td>\n",
       "      <td>20200430</td>\n",
       "      <td>600009508</td>\n",
       "      <td>None</td>\n",
       "      <td>None</td>\n",
       "      <td>2</td>\n",
       "      <td>NaN</td>\n",
       "      <td>Older than 30</td>\n",
       "      <td>None</td>\n",
       "      <td>163757</td>\n",
       "    </tr>\n",
       "    <tr>\n",
       "      <th>3</th>\n",
       "      <td>2020-05-18 16:37:57</td>\n",
       "      <td>2020-05-18 16:37:57</td>\n",
       "      <td>20200430</td>\n",
       "      <td>600012037</td>\n",
       "      <td>None</td>\n",
       "      <td>None</td>\n",
       "      <td>2</td>\n",
       "      <td>NaN</td>\n",
       "      <td>Older than 30</td>\n",
       "      <td>None</td>\n",
       "      <td>163757</td>\n",
       "    </tr>\n",
       "    <tr>\n",
       "      <th>4</th>\n",
       "      <td>2020-05-18 16:37:57</td>\n",
       "      <td>2020-05-18 16:37:57</td>\n",
       "      <td>20200430</td>\n",
       "      <td>600015412</td>\n",
       "      <td>None</td>\n",
       "      <td>None</td>\n",
       "      <td>2</td>\n",
       "      <td>NaN</td>\n",
       "      <td>Older than 30</td>\n",
       "      <td>None</td>\n",
       "      <td>163757</td>\n",
       "    </tr>\n",
       "    <tr>\n",
       "      <th>5</th>\n",
       "      <td>2020-05-18 16:37:57</td>\n",
       "      <td>2020-05-18 16:37:57</td>\n",
       "      <td>20200430</td>\n",
       "      <td>600021796</td>\n",
       "      <td>None</td>\n",
       "      <td>None</td>\n",
       "      <td>2</td>\n",
       "      <td>NaN</td>\n",
       "      <td>Older than 30</td>\n",
       "      <td>None</td>\n",
       "      <td>163757</td>\n",
       "    </tr>\n",
       "    <tr>\n",
       "      <th>6</th>\n",
       "      <td>2020-05-18 16:37:57</td>\n",
       "      <td>2020-05-18 16:37:57</td>\n",
       "      <td>20200430</td>\n",
       "      <td>600023343</td>\n",
       "      <td>None</td>\n",
       "      <td>None</td>\n",
       "      <td>2</td>\n",
       "      <td>NaN</td>\n",
       "      <td>Older than 30</td>\n",
       "      <td>None</td>\n",
       "      <td>163757</td>\n",
       "    </tr>\n",
       "    <tr>\n",
       "      <th>7</th>\n",
       "      <td>2020-05-18 16:37:57</td>\n",
       "      <td>2020-05-18 16:37:57</td>\n",
       "      <td>20200430</td>\n",
       "      <td>600033953</td>\n",
       "      <td>None</td>\n",
       "      <td>None</td>\n",
       "      <td>2</td>\n",
       "      <td>NaN</td>\n",
       "      <td>Older than 30</td>\n",
       "      <td>None</td>\n",
       "      <td>163757</td>\n",
       "    </tr>\n",
       "    <tr>\n",
       "      <th>8</th>\n",
       "      <td>2020-05-18 16:37:57</td>\n",
       "      <td>2020-05-18 16:37:57</td>\n",
       "      <td>20200430</td>\n",
       "      <td>600037345</td>\n",
       "      <td>None</td>\n",
       "      <td>None</td>\n",
       "      <td>2</td>\n",
       "      <td>NaN</td>\n",
       "      <td>Older than 30</td>\n",
       "      <td>None</td>\n",
       "      <td>163757</td>\n",
       "    </tr>\n",
       "    <tr>\n",
       "      <th>9</th>\n",
       "      <td>2020-05-18 16:37:57</td>\n",
       "      <td>2020-05-18 16:37:57</td>\n",
       "      <td>20200430</td>\n",
       "      <td>600041651</td>\n",
       "      <td>None</td>\n",
       "      <td>None</td>\n",
       "      <td>2</td>\n",
       "      <td>NaN</td>\n",
       "      <td>Older than 30</td>\n",
       "      <td>None</td>\n",
       "      <td>163757</td>\n",
       "    </tr>\n",
       "    <tr>\n",
       "      <th>10</th>\n",
       "      <td>2020-05-18 16:37:57</td>\n",
       "      <td>2020-05-18 16:37:57</td>\n",
       "      <td>20200430</td>\n",
       "      <td>600042920</td>\n",
       "      <td>None</td>\n",
       "      <td>None</td>\n",
       "      <td>2</td>\n",
       "      <td>NaN</td>\n",
       "      <td>Older than 30</td>\n",
       "      <td>None</td>\n",
       "      <td>163757</td>\n",
       "    </tr>\n",
       "    <tr>\n",
       "      <th>11</th>\n",
       "      <td>2020-05-18 16:37:57</td>\n",
       "      <td>2020-05-18 16:37:57</td>\n",
       "      <td>20200430</td>\n",
       "      <td>600045598</td>\n",
       "      <td>None</td>\n",
       "      <td>None</td>\n",
       "      <td>2</td>\n",
       "      <td>NaN</td>\n",
       "      <td>Older than 30</td>\n",
       "      <td>None</td>\n",
       "      <td>163757</td>\n",
       "    </tr>\n",
       "    <tr>\n",
       "      <th>12</th>\n",
       "      <td>2020-05-18 16:37:57</td>\n",
       "      <td>2020-05-18 16:37:57</td>\n",
       "      <td>20200430</td>\n",
       "      <td>600046383</td>\n",
       "      <td>None</td>\n",
       "      <td>None</td>\n",
       "      <td>2</td>\n",
       "      <td>NaN</td>\n",
       "      <td>Older than 30</td>\n",
       "      <td>None</td>\n",
       "      <td>163757</td>\n",
       "    </tr>\n",
       "    <tr>\n",
       "      <th>13</th>\n",
       "      <td>2020-05-18 16:37:57</td>\n",
       "      <td>2020-05-18 16:37:57</td>\n",
       "      <td>20200430</td>\n",
       "      <td>600050041</td>\n",
       "      <td>None</td>\n",
       "      <td>None</td>\n",
       "      <td>2</td>\n",
       "      <td>NaN</td>\n",
       "      <td>Older than 30</td>\n",
       "      <td>None</td>\n",
       "      <td>163757</td>\n",
       "    </tr>\n",
       "    <tr>\n",
       "      <th>14</th>\n",
       "      <td>2020-05-18 16:37:57</td>\n",
       "      <td>2020-05-18 16:37:57</td>\n",
       "      <td>20200430</td>\n",
       "      <td>600055665</td>\n",
       "      <td>None</td>\n",
       "      <td>None</td>\n",
       "      <td>2</td>\n",
       "      <td>NaN</td>\n",
       "      <td>Older than 30</td>\n",
       "      <td>None</td>\n",
       "      <td>163757</td>\n",
       "    </tr>\n",
       "    <tr>\n",
       "      <th>15</th>\n",
       "      <td>2020-05-18 16:37:57</td>\n",
       "      <td>2020-05-18 16:37:57</td>\n",
       "      <td>20200430</td>\n",
       "      <td>600074420</td>\n",
       "      <td>None</td>\n",
       "      <td>None</td>\n",
       "      <td>2</td>\n",
       "      <td>NaN</td>\n",
       "      <td>Older than 30</td>\n",
       "      <td>None</td>\n",
       "      <td>163757</td>\n",
       "    </tr>\n",
       "    <tr>\n",
       "      <th>16</th>\n",
       "      <td>2020-05-18 16:37:57</td>\n",
       "      <td>2020-05-18 16:37:57</td>\n",
       "      <td>20200430</td>\n",
       "      <td>600087302</td>\n",
       "      <td>None</td>\n",
       "      <td>None</td>\n",
       "      <td>2</td>\n",
       "      <td>NaN</td>\n",
       "      <td>Older than 30</td>\n",
       "      <td>None</td>\n",
       "      <td>163757</td>\n",
       "    </tr>\n",
       "    <tr>\n",
       "      <th>17</th>\n",
       "      <td>2020-05-18 16:37:57</td>\n",
       "      <td>2020-05-18 16:37:57</td>\n",
       "      <td>20200430</td>\n",
       "      <td>600092672</td>\n",
       "      <td>None</td>\n",
       "      <td>None</td>\n",
       "      <td>1</td>\n",
       "      <td>NaN</td>\n",
       "      <td>Between 25 and 30</td>\n",
       "      <td>None</td>\n",
       "      <td>163757</td>\n",
       "    </tr>\n",
       "    <tr>\n",
       "      <th>18</th>\n",
       "      <td>2020-05-18 16:37:57</td>\n",
       "      <td>2020-05-18 16:37:57</td>\n",
       "      <td>20200430</td>\n",
       "      <td>600094075</td>\n",
       "      <td>None</td>\n",
       "      <td>None</td>\n",
       "      <td>0</td>\n",
       "      <td>NaN</td>\n",
       "      <td>Under 25</td>\n",
       "      <td>None</td>\n",
       "      <td>163757</td>\n",
       "    </tr>\n",
       "    <tr>\n",
       "      <th>19</th>\n",
       "      <td>2020-05-18 16:37:57</td>\n",
       "      <td>2020-05-18 16:37:57</td>\n",
       "      <td>20200430</td>\n",
       "      <td>600112094</td>\n",
       "      <td>None</td>\n",
       "      <td>None</td>\n",
       "      <td>2</td>\n",
       "      <td>NaN</td>\n",
       "      <td>Older than 30</td>\n",
       "      <td>None</td>\n",
       "      <td>163757</td>\n",
       "    </tr>\n",
       "  </tbody>\n",
       "</table>\n",
       "</div>"
      ],
      "text/plain": [
       "            executed_at    model_executed_at predict_closing_date     msisdn  \\\n",
       "0   2020-05-18 16:37:57  2020-05-18 16:37:57             20200430  600000070   \n",
       "1   2020-05-18 16:37:57  2020-05-18 16:37:57             20200430  600005109   \n",
       "2   2020-05-18 16:37:57  2020-05-18 16:37:57             20200430  600009508   \n",
       "3   2020-05-18 16:37:57  2020-05-18 16:37:57             20200430  600012037   \n",
       "4   2020-05-18 16:37:57  2020-05-18 16:37:57             20200430  600015412   \n",
       "5   2020-05-18 16:37:57  2020-05-18 16:37:57             20200430  600021796   \n",
       "6   2020-05-18 16:37:57  2020-05-18 16:37:57             20200430  600023343   \n",
       "7   2020-05-18 16:37:57  2020-05-18 16:37:57             20200430  600033953   \n",
       "8   2020-05-18 16:37:57  2020-05-18 16:37:57             20200430  600037345   \n",
       "9   2020-05-18 16:37:57  2020-05-18 16:37:57             20200430  600041651   \n",
       "10  2020-05-18 16:37:57  2020-05-18 16:37:57             20200430  600042920   \n",
       "11  2020-05-18 16:37:57  2020-05-18 16:37:57             20200430  600045598   \n",
       "12  2020-05-18 16:37:57  2020-05-18 16:37:57             20200430  600046383   \n",
       "13  2020-05-18 16:37:57  2020-05-18 16:37:57             20200430  600050041   \n",
       "14  2020-05-18 16:37:57  2020-05-18 16:37:57             20200430  600055665   \n",
       "15  2020-05-18 16:37:57  2020-05-18 16:37:57             20200430  600074420   \n",
       "16  2020-05-18 16:37:57  2020-05-18 16:37:57             20200430  600087302   \n",
       "17  2020-05-18 16:37:57  2020-05-18 16:37:57             20200430  600092672   \n",
       "18  2020-05-18 16:37:57  2020-05-18 16:37:57             20200430  600094075   \n",
       "19  2020-05-18 16:37:57  2020-05-18 16:37:57             20200430  600112094   \n",
       "\n",
       "   client_id   nif model_output  scoring         prediction extra_info    time  \n",
       "0       None  None            2      NaN      Older than 30       None  163757  \n",
       "1       None  None            2      NaN      Older than 30       None  163757  \n",
       "2       None  None            2      NaN      Older than 30       None  163757  \n",
       "3       None  None            2      NaN      Older than 30       None  163757  \n",
       "4       None  None            2      NaN      Older than 30       None  163757  \n",
       "5       None  None            2      NaN      Older than 30       None  163757  \n",
       "6       None  None            2      NaN      Older than 30       None  163757  \n",
       "7       None  None            2      NaN      Older than 30       None  163757  \n",
       "8       None  None            2      NaN      Older than 30       None  163757  \n",
       "9       None  None            2      NaN      Older than 30       None  163757  \n",
       "10      None  None            2      NaN      Older than 30       None  163757  \n",
       "11      None  None            2      NaN      Older than 30       None  163757  \n",
       "12      None  None            2      NaN      Older than 30       None  163757  \n",
       "13      None  None            2      NaN      Older than 30       None  163757  \n",
       "14      None  None            2      NaN      Older than 30       None  163757  \n",
       "15      None  None            2      NaN      Older than 30       None  163757  \n",
       "16      None  None            2      NaN      Older than 30       None  163757  \n",
       "17      None  None            1      NaN  Between 25 and 30       None  163757  \n",
       "18      None  None            0      NaN           Under 25       None  163757  \n",
       "19      None  None            2      NaN      Older than 30       None  163757  "
      ]
     },
     "execution_count": 128,
     "metadata": {},
     "output_type": "execute_result"
    }
   ],
   "source": [
    "df_pandas"
   ]
  },
  {
   "cell_type": "code",
   "execution_count": 129,
   "metadata": {},
   "outputs": [],
   "source": [
    "def saveDF(path, df, partitions):\n",
    "    print('Saving started in: %s', path)\n",
    "    spark.conf.set(\"spark.sql.sources.partitionOverwriteMode\",\"dynamic\")\n",
    "    df.repartition(partitions).write.mode('append').format('parquet').save(path)\n",
    "    print('Saving finished!')"
   ]
  },
  {
   "cell_type": "code",
   "execution_count": 130,
   "metadata": {},
   "outputs": [
    {
     "name": "stdout",
     "output_type": "stream",
     "text": [
      "('Saving started in: %s', '/data/attributes/vf_es/model_outputs/model_scores/model_name=age_prediction/year=2020/month=5/day=0')\n",
      "Saving finished!\n"
     ]
    }
   ],
   "source": [
    "saveDF(path_model_outputs_scores, df_save_scores, 1)"
   ]
  },
  {
   "cell_type": "code",
   "execution_count": null,
   "metadata": {},
   "outputs": [],
   "source": []
  },
  {
   "cell_type": "code",
   "execution_count": null,
   "metadata": {},
   "outputs": [],
   "source": [
    "spark.stop()"
   ]
  },
  {
   "cell_type": "code",
   "execution_count": null,
   "metadata": {},
   "outputs": [],
   "source": []
  }
 ],
 "metadata": {
  "kernelspec": {
   "display_name": "Python 2",
   "language": "python",
   "name": "python2"
  },
  "language_info": {
   "codemirror_mode": {
    "name": "ipython",
    "version": 2
   },
   "file_extension": ".py",
   "mimetype": "text/x-python",
   "name": "python",
   "nbconvert_exporter": "python",
   "pygments_lexer": "ipython2",
   "version": "2.7.11"
  }
 },
 "nbformat": 4,
 "nbformat_minor": 2
}
