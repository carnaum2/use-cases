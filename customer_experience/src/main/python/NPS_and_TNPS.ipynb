{
 "cells": [
  {
   "cell_type": "code",
   "execution_count": 2,
   "metadata": {
    "collapsed": false,
    "scrolled": true
   },
   "outputs": [
    {
     "name": "stdout",
     "output_type": "stream",
     "text": [
      " --queue root.datascience.normal  --conf spark.port.maxRetries=50  --conf spark.network.timeout=10000000  --conf spark.executor.heartbeatInterval=60  --conf spark.yarn.executor.memoryOverhead=2G  --conf spark.sql.broadcastTimeout=1200  --master yarn --conf spark.serializer=org.apache.spark.serializer.KryoSerializer --conf spark.kryoserializer.buffer.max=1g --py-files /var/SP/data/home/bbergua/artifacts/bda-core-ra-complete-assembly-2.0.0.jar,/var/SP/data/home/bbergua/artifacts/common.zip,/var/SP/data/home/bbergua/artifacts/graphframes.zip,/var/SP/data/home/bbergua/artifacts/scripts.zip,/var/SP/data/home/bbergua/artifacts/xgboost4j-spark-2.1.1-0.7-jar-with-dependencies.jar --files /var/SP/data/home/bbergua/scripts/properties/red_agent/nodes-de.properties,/var/SP/data/home/bbergua/scripts/properties/red_agent/nodes-es.properties,/var/SP/data/home/bbergua/scripts/properties/red_agent/nodes-ie.properties,/var/SP/data/home/bbergua/scripts/properties/red_agent/nodes-it.properties,/var/SP/data/home/bbergua/scripts/properties/red_agent/nodes.properties,/var/SP/data/home/bbergua/scripts/properties/red_agent/nodes-pt.properties,/var/SP/data/home/bbergua/scripts/properties/red_agent/nodes-uk.properties,/var/SP/data/home/bbergua/scripts/properties/red_agent/nodes-ut.properties,/var/SP/data/home/bbergua/scripts/properties/red_agent/spark.properties --jars /var/SP/data/home/bbergua/artifacts/bda-core-ra-complete-assembly-2.0.0.jar --conf spark.akka.threads=32 --conf spark.akka.frameSize=500 --conf spark.driver.maxResultSize=8g --conf spark.local.dir=/var/SP/data/home/bbergua/local-spark-dir/  --executor-memory 16g --driver-memory 16g --conf spark.shuffle.manager=tungsten-sort --queue root.datascience.normal --conf spark.dynamicAllocation.enabled=true --conf spark.shuffle.service.enabled=true --conf spark.dynamicAllocation.maxExecutors=15 --conf spark.dynamicAllocation.minExecutors=1 --conf spark.dynamicAllocation.executorIdleTimeout=120 --files /var/SP/data/home/bbergua/scripts/properties/red_agent/nodes.properties,/var/SP/data/home/bbergua/scripts/properties/red_agent/nodes-de.properties,/var/SP/data/home/bbergua/scripts/properties/red_agent/nodes-es.properties,/var/SP/data/home/bbergua/scripts/properties/red_agent/nodes-ie.properties,/var/SP/data/home/bbergua/scripts/properties/red_agent/nodes-it.properties,/var/SP/data/home/bbergua/scripts/properties/red_agent/nodes-pt.properties,/var/SP/data/home/bbergua/scripts/properties/red_agent/nodes-uk.properties\n",
      " --queue root.datascience.normal  --conf spark.port.maxRetries=50  --conf spark.network.timeout=10000000  --conf spark.executor.heartbeatInterval=60  --conf spark.yarn.executor.memoryOverhead=2G  --conf spark.sql.broadcastTimeout=1200  --master yarn --conf spark.serializer=org.apache.spark.serializer.KryoSerializer --conf spark.kryoserializer.buffer.max=1g --py-files /var/SP/data/home/bbergua/artifacts/bda-core-ra-complete-assembly-2.0.0.jar,/var/SP/data/home/bbergua/artifacts/common.zip,/var/SP/data/home/bbergua/artifacts/graphframes.zip,/var/SP/data/home/bbergua/artifacts/scripts.zip,/var/SP/data/home/bbergua/artifacts/xgboost4j-spark-2.1.1-0.7-jar-with-dependencies.jar --files /var/SP/data/home/bbergua/scripts/properties/red_agent/nodes-de.properties,/var/SP/data/home/bbergua/scripts/properties/red_agent/nodes-es.properties,/var/SP/data/home/bbergua/scripts/properties/red_agent/nodes-ie.properties,/var/SP/data/home/bbergua/scripts/properties/red_agent/nodes-it.properties,/var/SP/data/home/bbergua/scripts/properties/red_agent/nodes.properties,/var/SP/data/home/bbergua/scripts/properties/red_agent/nodes-pt.properties,/var/SP/data/home/bbergua/scripts/properties/red_agent/nodes-uk.properties,/var/SP/data/home/bbergua/scripts/properties/red_agent/nodes-ut.properties,/var/SP/data/home/bbergua/scripts/properties/red_agent/spark.properties --jars /var/SP/data/home/bbergua/artifacts/bda-core-ra-complete-assembly-2.0.0.jar --conf spark.akka.threads=32 --conf spark.akka.frameSize=500 --conf spark.driver.maxResultSize=8g --conf spark.local.dir=/var/SP/data/home/bbergua/local-spark-dir/  --executor-memory 16g --driver-memory 16g --conf spark.shuffle.manager=tungsten-sort --queue root.datascience.normal --conf spark.dynamicAllocation.enabled=true --conf spark.shuffle.service.enabled=true --conf spark.dynamicAllocation.maxExecutors=15 --conf spark.dynamicAllocation.minExecutors=1 --conf spark.dynamicAllocation.executorIdleTimeout=120 --files /var/SP/data/home/bbergua/scripts/properties/red_agent/nodes.properties,/var/SP/data/home/bbergua/scripts/properties/red_agent/nodes-de.properties,/var/SP/data/home/bbergua/scripts/properties/red_agent/nodes-es.properties,/var/SP/data/home/bbergua/scripts/properties/red_agent/nodes-ie.properties,/var/SP/data/home/bbergua/scripts/properties/red_agent/nodes-it.properties,/var/SP/data/home/bbergua/scripts/properties/red_agent/nodes-pt.properties,/var/SP/data/home/bbergua/scripts/properties/red_agent/nodes-uk.properties pyspark-shell \n",
      "2\n"
     ]
    }
   ],
   "source": [
    "from common.src.main.python.utils.hdfs_generic import *\n",
    "import os\n",
    "\n",
    "MAX_N_EXECUTORS=15\n",
    "MIN_N_EXECUTORS=1\n",
    "N_CORES_EXECUTOR=4\n",
    "EXECUTOR_IDLE_MAX_TIME=120\n",
    "EXECUTOR_MEMORY='16g'\n",
    "DRIVER_MEMORY='16g'\n",
    "N_CORES_DRIVER=1\n",
    "MEMORY_OVERHEAD=N_CORES_EXECUTOR*2048\n",
    "QUEUE=\"root.datascience.normal\"\n",
    "BDA_CORE_VERSION=\"1.0.0\"\n",
    "\n",
    "SPARK_COMMON_OPTS=os.environ.get('SPARK_COMMON_OPTS', '')\n",
    "SPARK_COMMON_OPTS+=\" --executor-memory %s --driver-memory %s\" % (EXECUTOR_MEMORY, DRIVER_MEMORY)\n",
    "SPARK_COMMON_OPTS+=\" --conf spark.shuffle.manager=tungsten-sort\"\n",
    "SPARK_COMMON_OPTS+=\" --queue %s\" % QUEUE\n",
    "\n",
    "# Dynamic allocation configuration\n",
    "SPARK_COMMON_OPTS+=\" --conf spark.dynamicAllocation.enabled=true\"\n",
    "SPARK_COMMON_OPTS+=\" --conf spark.shuffle.service.enabled=true\"\n",
    "SPARK_COMMON_OPTS+=\" --conf spark.dynamicAllocation.maxExecutors=%s\" % (MAX_N_EXECUTORS)\n",
    "SPARK_COMMON_OPTS+=\" --conf spark.dynamicAllocation.minExecutors=%s\" % (MIN_N_EXECUTORS)\n",
    "SPARK_COMMON_OPTS+=\" --conf spark.dynamicAllocation.executorIdleTimeout=%s\" % (EXECUTOR_IDLE_MAX_TIME)\n",
    "\n",
    "BDA_ENV = os.environ.get('BDA_USER_HOME', '')\n",
    "\n",
    "# Attach bda-core-ra codebase\n",
    "SPARK_COMMON_OPTS+=\" --files \\\n",
    "{}/scripts/properties/red_agent/nodes.properties,\\\n",
    "{}/scripts/properties/red_agent/nodes-de.properties,\\\n",
    "{}/scripts/properties/red_agent/nodes-es.properties,\\\n",
    "{}/scripts/properties/red_agent/nodes-ie.properties,\\\n",
    "{}/scripts/properties/red_agent/nodes-it.properties,\\\n",
    "{}/scripts/properties/red_agent/nodes-pt.properties,\\\n",
    "{}/scripts/properties/red_agent/nodes-uk.properties\".format(*[BDA_ENV]*7)\n",
    "\n",
    "os.environ[\"SPARK_COMMON_OPTS\"] = SPARK_COMMON_OPTS\n",
    "os.environ[\"PYSPARK_SUBMIT_ARGS\"] = \"%s pyspark-shell \" % SPARK_COMMON_OPTS\n",
    "\n",
    "print os.environ.get('SPARK_COMMON_OPTS', '')\n",
    "print os.environ.get('PYSPARK_SUBMIT_ARGS', '')\n",
    "\n",
    "sc, sparkSession, sqlContext = run_sc()\n",
    "print sc.defaultParallelism"
   ]
  },
  {
   "cell_type": "code",
   "execution_count": 3,
   "metadata": {
    "collapsed": false
   },
   "outputs": [],
   "source": [
    "import re\n",
    "import subprocess\n",
    "# Spark utils\n",
    "from pyspark.sql.functions import array_contains, col, collect_set, concat, lit, lpad, size, struct, trim, udf, when\n",
    "from pyspark.sql.types import IntegerType, StringType"
   ]
  },
  {
   "cell_type": "code",
   "execution_count": 4,
   "metadata": {
    "collapsed": false
   },
   "outputs": [
    {
     "name": "stdout",
     "output_type": "stream",
     "text": [
      "Spark version: 2.1.0.cloudera1\n"
     ]
    }
   ],
   "source": [
    "spark = (SparkSession.builder\n",
    "         .appName(\"VF-ES NPS & TNPS\")\n",
    "         .master(\"yarn\")\n",
    "         .config(\"spark.submit.deployMode\", \"client\")\n",
    "         .config(\"spark.ui.showConsoleProgress\", \"true\")\n",
    "         .enableHiveSupport()\n",
    "         .getOrCreate()\n",
    "         )\n",
    "print 'Spark version:', spark.version"
   ]
  },
  {
   "cell_type": "markdown",
   "metadata": {},
   "source": [
    "Define a useful function to rename columns"
   ]
  },
  {
   "cell_type": "code",
   "execution_count": 5,
   "metadata": {
    "collapsed": true
   },
   "outputs": [],
   "source": [
    "# Replace column names of the type 'fun(colname)' by 'fun_colname'\n",
    "# Also replace any character not in [a-zA-Z0-9_.] with '_'\n",
    "def fix_column_names(df):\n",
    "        names = df.schema.names\n",
    "\n",
    "        for n in names:\n",
    "            m = re.search('([^()]*)\\(([^()]*)\\)', n)\n",
    "            if m is not None:\n",
    "                # print m.group(0), '->', m.group(1) + '_' + m.group(2)\n",
    "                df = df.withColumnRenamed(n, m.group(1) + '_' + m.group(2))\n",
    "\n",
    "            m = re.sub('[^a-zA-Z0-9_.]', '_', n)\n",
    "            if n != m:\n",
    "                df = df.withColumnRenamed(n, m)\n",
    "\n",
    "        return df"
   ]
  },
  {
   "cell_type": "markdown",
   "metadata": {},
   "source": [
    "# Generate TNPS by MSISDN"
   ]
  },
  {
   "cell_type": "markdown",
   "metadata": {},
   "source": [
    "First of all, read TNPS data, and select only those VDNs that map to the question \"¿Recomendarías Vodafone ...?\". Then take the answer field and convert it to numerical."
   ]
  },
  {
   "cell_type": "code",
   "execution_count": 67,
   "metadata": {
    "collapsed": false
   },
   "outputs": [
    {
     "name": "stdout",
     "output_type": "stream",
     "text": [
      "+-----------------+------+\n",
      "|partitioned_month| count|\n",
      "+-----------------+------+\n",
      "|           201801|906071|\n",
      "|           201802|753627|\n",
      "|           201803|262604|\n",
      "+-----------------+------+\n",
      "\n"
     ]
    }
   ],
   "source": [
    "tnps = spark.table('raw_es.tnps').distinct().filter('year == 2018')\n",
    "#tnps.show()\n",
    "# TODO: Can I trust in year, month, and day? Or do I have to regenerate them using FechaLLamYDILO?\n",
    "\n",
    "nums_pregunta_recomendaria = ['4155.0', '4161.0', '4167.0', '4173.0',\n",
    "                              '4179.0', '4185.0', '4191.0', '4197.0',\n",
    "                              '5001.0', '5018.0', '5190.0', '5774.0',\n",
    "                              '5775.0', '5776.0', '5805.0', '5818.0',\n",
    "                              '5821.0', '5825.0', '5835.0', '5847.0',\n",
    "                              '5860.0', '5894.0', '5910.0', '5974.0',\n",
    "                              '6025.0', '6034.0', '6064.0', '6066.0',\n",
    "                              '6128.0', '6191.0', '6260.0', '6286.0',\n",
    "                              '6295.0', '6303.0', '6308.0', '6319.0',\n",
    "                              '6473.0', '6595.0']\n",
    "# tnps.filter(tnps['Num_Pregunta'] == '4155.0').select('Num_Pregunta', 'Literal').show()\n",
    "# tnps.filter(tnps['Num_Pregunta'] == '5190.0').select('Num_Pregunta', 'Literal').show()\n",
    "\n",
    "tnps_nps = tnps.filter(tnps['Num_Pregunta'].isin(nums_pregunta_recomendaria))\n",
    "vdns = [x.VDN for x in tnps_nps.select('VDN').distinct().collect()]\n",
    "\n",
    "tnps_nps = tnps_nps.withColumnRenamed('SERIAL_NUMBER', 'msisdn')\n",
    "tnps_nps = tnps_nps.withColumn('partitioned_month', concat(tnps_nps.year, lpad(tnps_nps.month, 2, '0')))\n",
    "#tnps_nps.groupby('year', 'month', 'partitioned_month').count().sort('year', 'month', 'partitioned_month').show()\n",
    "#tnps_nps.select('Respuesta').distinct().show()\n",
    "#tnps_nps.select('Respuesta').groupby('Respuesta').count().sort('count').show()\n",
    "tnps_nps = tnps_nps.filter('Respuesta != \"ERROR\"').withColumn('Respuesta_Num',\n",
    "                                              when(tnps_nps.Respuesta.like('CERO'),   lit(0))\n",
    "                                             .when(tnps_nps.Respuesta.like('UNO'),    lit(1))\n",
    "                                             .when(tnps_nps.Respuesta.like('DOS'),    lit(2))\n",
    "                                             .when(tnps_nps.Respuesta.like('TRES'),   lit(3))\n",
    "                                             .when(tnps_nps.Respuesta.like('CUATRO'), lit(4))\n",
    "                                             .when(tnps_nps.Respuesta.like('CINCO'),  lit(5))\n",
    "                                             .when(tnps_nps.Respuesta.like('SEIS'),   lit(6))\n",
    "                                             .when(tnps_nps.Respuesta.like('SIETE'),  lit(7))\n",
    "                                             .when(tnps_nps.Respuesta.like('OCHO'),   lit(8))\n",
    "                                             .when(tnps_nps.Respuesta.like('NUEVE'),  lit(9))\n",
    "                                             .when(tnps_nps.Respuesta.like('DIEZ'),   lit(10)))\n",
    "#tnps_nps.select('Respuesta_Num').groupby('Respuesta_Num').count().sort('count').show()\n",
    "tnps_nps.select('partitioned_month').groupby('partitioned_month').count() \\\n",
    "        .sort('partitioned_month').show(50)"
   ]
  },
  {
   "cell_type": "markdown",
   "metadata": {},
   "source": [
    "Finally, pivot on VDN column, and create new column with the minimum VDN"
   ]
  },
  {
   "cell_type": "code",
   "execution_count": 68,
   "metadata": {
    "collapsed": false
   },
   "outputs": [
    {
     "name": "stdout",
     "output_type": "stream",
     "text": [
      "+-----------------+------+\n",
      "|partitioned_month| count|\n",
      "+-----------------+------+\n",
      "|           201801|861516|\n",
      "|           201802|720718|\n",
      "|           201803|254844|\n",
      "+-----------------+------+\n",
      "\n"
     ]
    }
   ],
   "source": [
    "#print 'Pivoting TNPS on VDN ...'\n",
    "tnps_pivoted = tnps_nps.groupby('msisdn', 'partitioned_month') \\\n",
    "                        .pivot('VDN', values=vdns).min('Respuesta_Num')\n",
    "\n",
    "#print 'Appending TNPS prefix to columns ...'\n",
    "for c in tnps_pivoted.columns:\n",
    "    if c not in ['msisdn', 'year', 'month', 'day', 'partitioned_month']:\n",
    "        tnps_pivoted = tnps_pivoted.withColumnRenamed(c, 'TNPS_VDN_' + c)\n",
    "\n",
    "min_vdn = udf(lambda row: min(filter(lambda x: x is not None, row)) if len(filter(lambda x: x is not None, row))>0 else None, IntegerType())\n",
    "tnps_pivoted = tnps_pivoted.withColumn('min_VDN', min_vdn(struct([tnps_pivoted[x] for x in tnps_pivoted.columns if x.startswith('TNPS_VDN_')])))#.fillna(0)\n",
    "# tnps_pivoted.show()\n",
    "# tnps_pivoted.select('partitioned_month').groupby('partitioned_month').count().sort('partitioned_month').show(50)\n",
    "\n",
    "tnps_pivoted = tnps_pivoted.withColumnRenamed('min_VDN', 'TNPS01')\n",
    "tnps_pivoted = tnps_pivoted.withColumn('TNPS',\n",
    "                         when(tnps_pivoted['TNPS01'].isin(10, 9), 'PROMOTER')\n",
    "                        .when(tnps_pivoted['TNPS01'].isin(8, 7),  'NEUTRAL')\n",
    "                        .when(tnps_pivoted['TNPS01'].isin(6, 5, 4, 3, 2, 1, 0), 'DETRACTOR'))\n",
    "                        #.otherwise('False'))\n",
    "tnps_pivoted = tnps_pivoted.withColumn('TNPS4',\n",
    "                         when(tnps_pivoted['TNPS01'].isin(10, 9),      'PROMOTER')\n",
    "                        .when(tnps_pivoted['TNPS01'].isin(8, 7),       'NEUTRAL')\n",
    "                        .when(tnps_pivoted['TNPS01'].isin(6, 5, 4),    'SOFT DETRACTOR')\n",
    "                        .when(tnps_pivoted['TNPS01'].isin(3, 2, 1, 0), 'HARD DETRACTOR'))\n",
    "                        #.otherwise(False))\n",
    "tnps_pivoted.groupby('partitioned_month').count().sort('partitioned_month').show(50)"
   ]
  },
  {
   "cell_type": "markdown",
   "metadata": {},
   "source": [
    "Add SEGMENTACION"
   ]
  },
  {
   "cell_type": "code",
   "execution_count": 69,
   "metadata": {
    "collapsed": false
   },
   "outputs": [
    {
     "name": "stdout",
     "output_type": "stream",
     "text": [
      "Reading master_customers_services by MSISDN from HDFS\n",
      "+-----------------+------+\n",
      "|partitioned_month| count|\n",
      "+-----------------+------+\n",
      "|           201801|861516|\n",
      "|           201802|720718|\n",
      "|           201803|254844|\n",
      "+-----------------+------+\n",
      "\n",
      "+-----------------+------------+------+\n",
      "|partitioned_month|SEGMENTACION| count|\n",
      "+-----------------+------------+------+\n",
      "|           201803|        null|254844|\n",
      "|           201802|        null|720718|\n",
      "|           201801|        null|475252|\n",
      "|           201801| Mobile-Only|322591|\n",
      "|           201801|     Prepaid| 60071|\n",
      "|           201801|  Convergent|  3602|\n",
      "+-----------------+------------+------+\n",
      "\n",
      "+---------+-----------------+------------+------+---------+--------------+\n",
      "|   msisdn|partitioned_month|SEGMENTACION|TNPS01|     TNPS|         TNPS4|\n",
      "+---------+-----------------+------------+------+---------+--------------+\n",
      "|600026079|           201803|        null|     4|DETRACTOR|SOFT DETRACTOR|\n",
      "|600032825|           201802|        null|     8|  NEUTRAL|       NEUTRAL|\n",
      "|600035161|           201802|        null|     0|DETRACTOR|HARD DETRACTOR|\n",
      "|600040200|           201803|        null|     8|  NEUTRAL|       NEUTRAL|\n",
      "|600046499|           201802|        null|    10| PROMOTER|      PROMOTER|\n",
      "|600047969|           201802|        null|     5|DETRACTOR|SOFT DETRACTOR|\n",
      "|600060279|           201802|        null|    10| PROMOTER|      PROMOTER|\n",
      "|600062262|           201803|        null|     0|DETRACTOR|HARD DETRACTOR|\n",
      "|600065556|           201802|        null|     9| PROMOTER|      PROMOTER|\n",
      "|600066114|           201801| Mobile-Only|    10| PROMOTER|      PROMOTER|\n",
      "|600101944|           201801|        null|     0|DETRACTOR|HARD DETRACTOR|\n",
      "|600104567|           201801|        null|    10| PROMOTER|      PROMOTER|\n",
      "|600114658|           201802|        null|     0|DETRACTOR|HARD DETRACTOR|\n",
      "|600118926|           201801| Mobile-Only|     9| PROMOTER|      PROMOTER|\n",
      "|600129396|           201802|        null|     7|  NEUTRAL|       NEUTRAL|\n",
      "|600152860|           201801| Mobile-Only|    10| PROMOTER|      PROMOTER|\n",
      "|600160550|           201801|        null|    10| PROMOTER|      PROMOTER|\n",
      "|600161803|           201801|        null|     8|  NEUTRAL|       NEUTRAL|\n",
      "|600205505|           201802|        null|    10| PROMOTER|      PROMOTER|\n",
      "|600207939|           201801|        null|    10| PROMOTER|      PROMOTER|\n",
      "+---------+-----------------+------------+------+---------+--------------+\n",
      "only showing top 20 rows\n",
      "\n"
     ]
    }
   ],
   "source": [
    "# Add SEGMENTACION\n",
    "if not 'master_by_msisdn' in globals():\n",
    "    print 'Reading master_customers_services by MSISDN from HDFS'\n",
    "    master_by_msisdn = spark.read.parquet('/tmp/bbergua/master_customers_services/msisdn/')\n",
    "\n",
    "tnps_pivoted_segment = tnps_pivoted.join(master_by_msisdn, ['msisdn', 'partitioned_month'], 'left_outer')\n",
    "tnps_pivoted_segment.groupby('partitioned_month').count().sort('partitioned_month').show(50)\n",
    "\n",
    "# tnps_pivoted_segment.select('partitioned_month').groupby('partitioned_month').count().sort('partitioned_month').show(50)\n",
    "# self.tnps = tnps_pivoted_segment.select(['msisdn', 'partitioned_month', 'TNPS01', 'TNPS', 'TNPS4'])\n",
    "tnps = tnps_pivoted_segment\n",
    "\n",
    "tnps.groupby(['partitioned_month', 'SEGMENTACION']).count().sort(['partitioned_month', 'count'], ascending=False).show()\n",
    "tnps.select(['msisdn', 'partitioned_month', 'SEGMENTACION', 'TNPS01', 'TNPS', 'TNPS4']).show()"
   ]
  },
  {
   "cell_type": "markdown",
   "metadata": {},
   "source": [
    "Finally, write TNPS data by MSISDN to HDFS"
   ]
  },
  {
   "cell_type": "code",
   "execution_count": null,
   "metadata": {
    "collapsed": false
   },
   "outputs": [],
   "source": [
    "tnps.write.mode('overwrite').format('parquet').save('/tmp/bbergua/tnps/msisdn/')\n",
    "subprocess.call('hdfs dfs -chmod -R o+rx /tmp/bbergua/tnps/msisdn/',  shell=True)\n",
    "subprocess.call('hdfs dfs -chmod    o+r  /tmp/bbergua/tnps/msisdn/*', shell=True)"
   ]
  },
  {
   "cell_type": "markdown",
   "metadata": {},
   "source": [
    "# Generate TNPS by NIF (client's id)"
   ]
  },
  {
   "cell_type": "code",
   "execution_count": 6,
   "metadata": {
    "collapsed": false
   },
   "outputs": [
    {
     "name": "stdout",
     "output_type": "stream",
     "text": [
      "Reading TNPS by MSISDN from HDFS\n"
     ]
    }
   ],
   "source": [
    "if not 'tnps' in globals():\n",
    "    print 'Reading TNPS by MSISDN from HDFS'\n",
    "    tnps = spark.read.parquet('/tmp/bbergua/tnps/msisdn/')"
   ]
  },
  {
   "cell_type": "markdown",
   "metadata": {},
   "source": [
    "Now, aggregate TNPS by client's id (NIF)"
   ]
  },
  {
   "cell_type": "code",
   "execution_count": 7,
   "metadata": {
    "collapsed": false
   },
   "outputs": [
    {
     "name": "stdout",
     "output_type": "stream",
     "text": [
      "+-----------------+--------------------+------+\n",
      "|partitioned_month|        SEGMENTACION| count|\n",
      "+-----------------+--------------------+------+\n",
      "|           201803|                  []|     1|\n",
      "|           201802|                  []|     1|\n",
      "|           201801|        [Convergent]|208201|\n",
      "|           201801|       [Mobile-Only]| 92707|\n",
      "|           201801|           [Prepaid]| 45076|\n",
      "|           201801|             [Other]|  9332|\n",
      "|           201801|[Convergent, Prep...|   204|\n",
      "|           201801|[Mobile-Only, Pre...|   126|\n",
      "|           201801|    [Other, Prepaid]|    28|\n",
      "|           201801|                  []|     1|\n",
      "|           201712|        [Convergent]|183865|\n",
      "|           201712|       [Mobile-Only]| 91861|\n",
      "|           201712|           [Prepaid]| 37079|\n",
      "|           201712|             [Other]|  8732|\n",
      "|           201712|[Convergent, Prep...|   157|\n",
      "|           201712|[Mobile-Only, Pre...|    98|\n",
      "|           201712|    [Other, Prepaid]|    24|\n",
      "|           201712|                  []|     1|\n",
      "|           201711|        [Convergent]|209407|\n",
      "|           201711|       [Mobile-Only]|114014|\n",
      "+-----------------+--------------------+------+\n",
      "only showing top 20 rows\n",
      "\n"
     ]
    }
   ],
   "source": [
    "tnps_pivoted_segment = tnps\n",
    "#nif_segment = tnps_pivoted.select('nif', 'partitioned_month', 'SEGMENTACION').groupby('nif', 'partitioned_month').agg(collect_list('SEGMENTACION').alias('SEGMENTACION'))\n",
    "nif_segment = tnps_pivoted_segment.select('nif', 'partitioned_month', 'SEGMENTACION') \\\n",
    "    .groupby('nif', 'partitioned_month').agg(collect_set('SEGMENTACION').alias('SEGMENTACION'))\n",
    "#nif_segment.show()\n",
    "nif_segment.groupby('partitioned_month', 'SEGMENTACION').count() \\\n",
    "            .sort('partitioned_month', 'count', ascending=False).show()"
   ]
  },
  {
   "cell_type": "code",
   "execution_count": 8,
   "metadata": {
    "collapsed": false,
    "scrolled": true
   },
   "outputs": [
    {
     "name": "stdout",
     "output_type": "stream",
     "text": [
      "+-----------------+--------------------+------+\n",
      "|partitioned_month|        SEGMENTACION| count|\n",
      "+-----------------+--------------------+------+\n",
      "|           201801|        [Convergent]|208201|\n",
      "|           201801|       [Mobile-Only]| 92707|\n",
      "|           201801|           [Prepaid]| 45076|\n",
      "|           201801|             [Other]|  9332|\n",
      "|           201801|[Convergent, Prep...|   204|\n",
      "|           201801|[Mobile-Only, Pre...|   126|\n",
      "|           201801|    [Other, Prepaid]|    28|\n",
      "|           201712|        [Convergent]|183865|\n",
      "|           201712|       [Mobile-Only]| 91861|\n",
      "|           201712|           [Prepaid]| 37079|\n",
      "|           201712|             [Other]|  8732|\n",
      "|           201712|[Convergent, Prep...|   157|\n",
      "|           201712|[Mobile-Only, Pre...|    98|\n",
      "|           201712|    [Other, Prepaid]|    24|\n",
      "|           201711|        [Convergent]|209407|\n",
      "|           201711|       [Mobile-Only]|114014|\n",
      "|           201711|           [Prepaid]| 45753|\n",
      "|           201711|             [Other]| 10619|\n",
      "|           201711|[Convergent, Prep...|   189|\n",
      "|           201711|[Mobile-Only, Pre...|   148|\n",
      "+-----------------+--------------------+------+\n",
      "only showing top 20 rows\n",
      "\n"
     ]
    }
   ],
   "source": [
    "nif_segment = nif_segment.na.drop(subset='nif')\n",
    "nif_segment.groupby('partitioned_month', 'SEGMENTACION').count() \\\n",
    "            .sort('partitioned_month', 'count', ascending=False).show()"
   ]
  },
  {
   "cell_type": "code",
   "execution_count": 9,
   "metadata": {
    "collapsed": false
   },
   "outputs": [
    {
     "name": "stdout",
     "output_type": "stream",
     "text": [
      "root\n",
      " |-- nif: string (nullable = true)\n",
      " |-- partitioned_month: string (nullable = true)\n",
      " |-- SEGMENTACION: array (nullable = true)\n",
      " |    |-- element: string (containsNull = true)\n",
      "\n"
     ]
    }
   ],
   "source": [
    "nif_segment.printSchema()\n",
    "#nif_segment.filter(array_contains(nif_segment.SEGMENTACION, 'Vodafone') & array_contains(nif_segment.SEGMENTACION, 'Prepaid')).show()\n",
    "#nif_segment.filter(array_contains(nif_segment.SEGMENTACION, 'Vodafone') & array_contains(nif_segment.SEGMENTACION, 'Prepaid')).groupby('partitioned_month').count().sort('partitioned_month').show()\n",
    "#nif_segment.where(size(col('SEGMENTACION')) >= 2).show()"
   ]
  },
  {
   "cell_type": "code",
   "execution_count": 10,
   "metadata": {
    "collapsed": false,
    "scrolled": true
   },
   "outputs": [
    {
     "name": "stdout",
     "output_type": "stream",
     "text": [
      "+---------+-----------------+--------------------+--------------------+\n",
      "|      nif|partitioned_month|        SEGMENTACION|SEGMENTACION_Prepaid|\n",
      "+---------+-----------------+--------------------+--------------------+\n",
      "|00961294V|           201704|[Convergent, Prep...|             Prepaid|\n",
      "|01120010Q|           201709|    [Other, Prepaid]|             Prepaid|\n",
      "|03915755X|           201609|[Convergent, Prep...|             Prepaid|\n",
      "|06455634M|           201708|[Convergent, Prep...|             Prepaid|\n",
      "|06617751N|           201701|    [Other, Prepaid]|             Prepaid|\n",
      "|09251143L|           201708|[Mobile-Only, Pre...|             Prepaid|\n",
      "|09279809T|           201609|[Convergent, Prep...|             Prepaid|\n",
      "|12578367C|           201612|[Convergent, Prep...|             Prepaid|\n",
      "|18755519G|           201610|[Convergent, Prep...|             Prepaid|\n",
      "|20594773E|           201609|[Convergent, Prep...|             Prepaid|\n",
      "|23846081A|           201704|[Mobile-Only, Pre...|             Prepaid|\n",
      "|24498453F|           201612|[Convergent, Prep...|             Prepaid|\n",
      "|25541453A|           201701|[Mobile-Only, Pre...|             Prepaid|\n",
      "|30608070J|           201711|[Mobile-Only, Pre...|             Prepaid|\n",
      "|32462321R|           201709|[Convergent, Prep...|             Prepaid|\n",
      "|32525356H|           201612|[Convergent, Prep...|             Prepaid|\n",
      "|33572547N|           201703|[Mobile-Only, Pre...|             Prepaid|\n",
      "|36299817S|           201611|[Mobile-Only, Pre...|             Prepaid|\n",
      "|42416153G|           201704|[Convergent, Prep...|             Prepaid|\n",
      "|50157232X|           201609|[Convergent, Prep...|             Prepaid|\n",
      "+---------+-----------------+--------------------+--------------------+\n",
      "only showing top 20 rows\n",
      "\n"
     ]
    }
   ],
   "source": [
    "nif_segment = nif_segment.withColumn('SEGMENTACION_Prepaid', \n",
    "                       when(array_contains(nif_segment['SEGMENTACION'], 'Prepaid'), 'Prepaid'))\n",
    "nif_segment.where(size(col('SEGMENTACION')) >= 2).show()"
   ]
  },
  {
   "cell_type": "code",
   "execution_count": 11,
   "metadata": {
    "collapsed": false
   },
   "outputs": [],
   "source": [
    "#def drop_prepaid_from_array__(arr):\n",
    "#    if len(arr) == 1:\n",
    "#        return arr[0]\n",
    "#    elif len(arr) > 1:\n",
    "#        arr.remove('Prepaid')\n",
    "#        return arr[0]\n",
    "#    return None\n",
    "def drop_prepaid_from_array_(arr):\n",
    "    if len(arr) > 1:\n",
    "        arr.remove('Prepaid')\n",
    "        return arr[0]\n",
    "    return arr\n",
    "\n",
    "drop_prepaid_from_array = udf(drop_prepaid_from_array_, StringType())\n",
    "#nif_segment = nif_segment.withColumn('SEGMENTACION_', drop_prepaid_from_array('SEGMENTACION'))\n",
    "nif_segment = nif_segment.withColumn('SEGMENTACION_', \n",
    "                                     when(size(col('SEGMENTACION')) == 1, col('SEGMENTACION').getItem(0))\\\n",
    "                                    .when(size(col('SEGMENTACION')) >= 1, drop_prepaid_from_array('SEGMENTACION'))\\\n",
    "                                    .otherwise(None))"
   ]
  },
  {
   "cell_type": "code",
   "execution_count": 12,
   "metadata": {
    "collapsed": false
   },
   "outputs": [
    {
     "name": "stdout",
     "output_type": "stream",
     "text": [
      "+---------+-----------------+-------------+--------------------+-------------+\n",
      "|      nif|partitioned_month| SEGMENTACION|SEGMENTACION_Prepaid|SEGMENTACION_|\n",
      "+---------+-----------------+-------------+--------------------+-------------+\n",
      "|00000707Y|           201710|[Mobile-Only]|                null|  Mobile-Only|\n",
      "|00004188P|           201710|    [Prepaid]|             Prepaid|      Prepaid|\n",
      "|00005932U|           201702|      [Other]|                null|        Other|\n",
      "|00007852K|           201704| [Convergent]|                null|   Convergent|\n",
      "|00008261U|           201704|[Mobile-Only]|                null|  Mobile-Only|\n",
      "|00008549G|           201707| [Convergent]|                null|   Convergent|\n",
      "|00018304R|           201609|    [Prepaid]|             Prepaid|      Prepaid|\n",
      "|00022294W|           201608|[Mobile-Only]|                null|  Mobile-Only|\n",
      "|00029868F|           201707|[Mobile-Only]|                null|  Mobile-Only|\n",
      "|00030568Q|           201706| [Convergent]|                null|   Convergent|\n",
      "|00038161V|           201703| [Convergent]|                null|   Convergent|\n",
      "|00038737X|           201705|[Mobile-Only]|                null|  Mobile-Only|\n",
      "|00040124H|           201708| [Convergent]|                null|   Convergent|\n",
      "|00043336G|           201704|[Mobile-Only]|                null|  Mobile-Only|\n",
      "|00043553U|           201608| [Convergent]|                null|   Convergent|\n",
      "|00045139T|           201609|[Mobile-Only]|                null|  Mobile-Only|\n",
      "|00045283V|           201712| [Convergent]|                null|   Convergent|\n",
      "|00049644Z|           201702|[Mobile-Only]|                null|  Mobile-Only|\n",
      "|00052546V|           201708|[Mobile-Only]|                null|  Mobile-Only|\n",
      "|00053399J|           201703|[Mobile-Only]|                null|  Mobile-Only|\n",
      "+---------+-----------------+-------------+--------------------+-------------+\n",
      "only showing top 20 rows\n",
      "\n",
      "+---------+-----------------+--------------------+--------------------+-------------+\n",
      "|      nif|partitioned_month|        SEGMENTACION|SEGMENTACION_Prepaid|SEGMENTACION_|\n",
      "+---------+-----------------+--------------------+--------------------+-------------+\n",
      "|00961294V|           201704|[Convergent, Prep...|             Prepaid|   Convergent|\n",
      "|01120010Q|           201709|    [Other, Prepaid]|             Prepaid|        Other|\n",
      "|03915755X|           201609|[Convergent, Prep...|             Prepaid|   Convergent|\n",
      "|06455634M|           201708|[Convergent, Prep...|             Prepaid|   Convergent|\n",
      "|06617751N|           201701|    [Other, Prepaid]|             Prepaid|        Other|\n",
      "|09251143L|           201708|[Mobile-Only, Pre...|             Prepaid|  Mobile-Only|\n",
      "|09279809T|           201609|[Convergent, Prep...|             Prepaid|   Convergent|\n",
      "|12578367C|           201612|[Convergent, Prep...|             Prepaid|   Convergent|\n",
      "|18755519G|           201610|[Convergent, Prep...|             Prepaid|   Convergent|\n",
      "|20594773E|           201609|[Convergent, Prep...|             Prepaid|   Convergent|\n",
      "|23846081A|           201704|[Mobile-Only, Pre...|             Prepaid|  Mobile-Only|\n",
      "|24498453F|           201612|[Convergent, Prep...|             Prepaid|   Convergent|\n",
      "|25541453A|           201701|[Mobile-Only, Pre...|             Prepaid|  Mobile-Only|\n",
      "|30608070J|           201711|[Mobile-Only, Pre...|             Prepaid|  Mobile-Only|\n",
      "|32462321R|           201709|[Convergent, Prep...|             Prepaid|   Convergent|\n",
      "|32525356H|           201612|[Convergent, Prep...|             Prepaid|   Convergent|\n",
      "|33572547N|           201703|[Mobile-Only, Pre...|             Prepaid|  Mobile-Only|\n",
      "|36299817S|           201611|[Mobile-Only, Pre...|             Prepaid|  Mobile-Only|\n",
      "|42416153G|           201704|[Convergent, Prep...|             Prepaid|   Convergent|\n",
      "|50157232X|           201609|[Convergent, Prep...|             Prepaid|   Convergent|\n",
      "+---------+-----------------+--------------------+--------------------+-------------+\n",
      "only showing top 20 rows\n",
      "\n"
     ]
    }
   ],
   "source": [
    "#nif_segment.show()\n",
    "#nif_segment.where(col('SEGMENTACION') == None).show()\n",
    "#nif_segment.where(size(col('SEGMENTACION')) <= 0).show()\n",
    "nif_segment.where(size(col('SEGMENTACION')) == 1).show()\n",
    "nif_segment.where(size(col('SEGMENTACION')) >= 2).show()"
   ]
  },
  {
   "cell_type": "code",
   "execution_count": 13,
   "metadata": {
    "collapsed": false
   },
   "outputs": [
    {
     "name": "stdout",
     "output_type": "stream",
     "text": [
      "+---------+-----------------+--------------------+------------+\n",
      "|      nif|partitioned_month|SEGMENTACION_Prepaid|SEGMENTACION|\n",
      "+---------+-----------------+--------------------+------------+\n",
      "|00000707Y|           201710|                null| Mobile-Only|\n",
      "|00004188P|           201710|             Prepaid|     Prepaid|\n",
      "|00005932U|           201702|                null|       Other|\n",
      "|00007852K|           201704|                null|  Convergent|\n",
      "|00008261U|           201704|                null| Mobile-Only|\n",
      "|00008549G|           201707|                null|  Convergent|\n",
      "|00018304R|           201609|             Prepaid|     Prepaid|\n",
      "|00022294W|           201608|                null| Mobile-Only|\n",
      "|00029868F|           201707|                null| Mobile-Only|\n",
      "|00030568Q|           201706|                null|  Convergent|\n",
      "|00038161V|           201703|                null|  Convergent|\n",
      "|00038737X|           201705|                null| Mobile-Only|\n",
      "|00040124H|           201708|                null|  Convergent|\n",
      "|00043336G|           201704|                null| Mobile-Only|\n",
      "|00043553U|           201608|                null|  Convergent|\n",
      "|00045139T|           201609|                null| Mobile-Only|\n",
      "|00045283V|           201712|                null|  Convergent|\n",
      "|00049644Z|           201702|                null| Mobile-Only|\n",
      "|00052546V|           201708|                null| Mobile-Only|\n",
      "|00053399J|           201703|                null| Mobile-Only|\n",
      "+---------+-----------------+--------------------+------------+\n",
      "only showing top 20 rows\n",
      "\n"
     ]
    }
   ],
   "source": [
    "nif_segment = nif_segment.drop('SEGMENTACION').withColumnRenamed('SEGMENTACION_', 'SEGMENTACION')\n",
    "nif_segment.show()"
   ]
  },
  {
   "cell_type": "code",
   "execution_count": 18,
   "metadata": {
    "collapsed": false
   },
   "outputs": [
    {
     "name": "stdout",
     "output_type": "stream",
     "text": [
      "+---------+-----------------+------+---------+--------------+\n",
      "|      nif|partitioned_month|TNPS01|     TNPS|         TNPS4|\n",
      "+---------+-----------------+------+---------+--------------+\n",
      "|13305780J|           201611|     0|DETRACTOR|HARD DETRACTOR|\n",
      "|61492319I|           201710|    10| PROMOTER|      PROMOTER|\n",
      "|34273028K|           201610|     8|  NEUTRAL|       NEUTRAL|\n",
      "|22409905A|           201702|     0|DETRACTOR|HARD DETRACTOR|\n",
      "|27046725H|           201609|     7|  NEUTRAL|       NEUTRAL|\n",
      "|02678627O|           201704|    10| PROMOTER|      PROMOTER|\n",
      "|K3867172I|           201705|     9| PROMOTER|      PROMOTER|\n",
      "|95242039Q|           201609|    10| PROMOTER|      PROMOTER|\n",
      "|Z9347531A|           201612|     9| PROMOTER|      PROMOTER|\n",
      "|15421375Y|           201706|     8|  NEUTRAL|       NEUTRAL|\n",
      "|19175986Q|           201706|     0|DETRACTOR|HARD DETRACTOR|\n",
      "|25924404R|           201609|    10| PROMOTER|      PROMOTER|\n",
      "|59424407P|           201705|    10| PROMOTER|      PROMOTER|\n",
      "|71722097W|           201701|     7|  NEUTRAL|       NEUTRAL|\n",
      "|73990967T|           201703|    10| PROMOTER|      PROMOTER|\n",
      "|26267635G|           201708|    10| PROMOTER|      PROMOTER|\n",
      "|77288378Y|           201712|    10| PROMOTER|      PROMOTER|\n",
      "|26543842Q|           201711|     8|  NEUTRAL|       NEUTRAL|\n",
      "|A0482450S|           201711|     0|DETRACTOR|HARD DETRACTOR|\n",
      "|R3337778O|           201705|     9| PROMOTER|      PROMOTER|\n",
      "+---------+-----------------+------+---------+--------------+\n",
      "only showing top 20 rows\n",
      "\n"
     ]
    }
   ],
   "source": [
    "tnps_pivoted_by_id = tnps_pivoted_segment.groupby('nif', 'partitioned_month').min()\n",
    "tnps_pivoted_by_id = fix_column_names(tnps_pivoted_by_id)\n",
    "#tnps_pivoted_by_id.printSchema()\n",
    "tnps_pivoted_by_id = tnps_pivoted_by_id.withColumnRenamed('min_TNPS01', 'TNPS01')\n",
    "tnps_pivoted_by_id = tnps_pivoted_by_id.withColumn('TNPS',\n",
    "                     when(tnps_pivoted_by_id['TNPS01'].isin(10, 9), 'PROMOTER')\n",
    "                    .when(tnps_pivoted_by_id['TNPS01'].isin(8, 7),  'NEUTRAL')\n",
    "                    .when(tnps_pivoted_by_id['TNPS01'].isin(6, 5, 4, 3, 2, 1, 0), 'DETRACTOR'))\n",
    "                    #.otherwise('False'))\n",
    "tnps_pivoted_by_id = tnps_pivoted_by_id.withColumn('TNPS4',\n",
    "                     when(tnps_pivoted_by_id['TNPS01'].isin(10, 9),      'PROMOTER')\n",
    "                    .when(tnps_pivoted_by_id['TNPS01'].isin(8, 7),       'NEUTRAL')\n",
    "                    .when(tnps_pivoted_by_id['TNPS01'].isin(6, 5, 4),    'SOFT DETRACTOR')\n",
    "                    .when(tnps_pivoted_by_id['TNPS01'].isin(3, 2, 1, 0), 'HARD DETRACTOR'))\n",
    "                    #.otherwise(False))\n",
    "tnps_pivoted_by_id.select(['nif', 'partitioned_month', 'TNPS01', 'TNPS', 'TNPS4']).show()#tnps_pivoted_by_id.printSchema()\n",
    "#tnps_pivoted_by_id.printSchema()"
   ]
  },
  {
   "cell_type": "markdown",
   "metadata": {},
   "source": [
    "Join with SEGMENTACION, previously calculated"
   ]
  },
  {
   "cell_type": "code",
   "execution_count": 19,
   "metadata": {
    "collapsed": false
   },
   "outputs": [
    {
     "name": "stdout",
     "output_type": "stream",
     "text": [
      "+---------+-----------------+--------------------+------------+------+---------+--------------+\n",
      "|      nif|partitioned_month|SEGMENTACION_Prepaid|SEGMENTACION|TNPS01|     TNPS|         TNPS4|\n",
      "+---------+-----------------+--------------------+------------+------+---------+--------------+\n",
      "|00000707Y|           201710|                null| Mobile-Only|    10| PROMOTER|      PROMOTER|\n",
      "|00004188P|           201710|             Prepaid|     Prepaid|     7|  NEUTRAL|       NEUTRAL|\n",
      "|00005932U|           201702|                null|       Other|     5|DETRACTOR|SOFT DETRACTOR|\n",
      "|00007852K|           201704|                null|  Convergent|    10| PROMOTER|      PROMOTER|\n",
      "|00008261U|           201704|                null| Mobile-Only|     8|  NEUTRAL|       NEUTRAL|\n",
      "|00008549G|           201707|                null|  Convergent|     9| PROMOTER|      PROMOTER|\n",
      "|00018304R|           201609|             Prepaid|     Prepaid|     8|  NEUTRAL|       NEUTRAL|\n",
      "|00022294W|           201608|                null| Mobile-Only|     9| PROMOTER|      PROMOTER|\n",
      "|00029868F|           201707|                null| Mobile-Only|    10| PROMOTER|      PROMOTER|\n",
      "|00030568Q|           201706|                null|  Convergent|     6|DETRACTOR|SOFT DETRACTOR|\n",
      "+---------+-----------------+--------------------+------------+------+---------+--------------+\n",
      "only showing top 10 rows\n",
      "\n"
     ]
    }
   ],
   "source": [
    "tnps_pivoted_by_id = tnps_pivoted_by_id.join(nif_segment, ['nif', 'partitioned_month'], 'left_outer')\n",
    "tnps_pivoted_by_id.select(['nif', 'partitioned_month', 'SEGMENTACION_Prepaid', 'SEGMENTACION', 'TNPS01', 'TNPS', 'TNPS4']).show(10)\n",
    "#tnps_pivoted_by_id.printSchema()"
   ]
  },
  {
   "cell_type": "code",
   "execution_count": 20,
   "metadata": {
    "collapsed": false
   },
   "outputs": [
    {
     "data": {
      "text/plain": [
       "0"
      ]
     },
     "execution_count": 20,
     "metadata": {},
     "output_type": "execute_result"
    }
   ],
   "source": [
    "tnps_pivoted_by_id.filter('SEGMENTACION == NULL').count()"
   ]
  },
  {
   "cell_type": "markdown",
   "metadata": {},
   "source": [
    "Finally, write TNPS data by Id (NIF) to HDFS"
   ]
  },
  {
   "cell_type": "code",
   "execution_count": 21,
   "metadata": {
    "collapsed": false
   },
   "outputs": [
    {
     "data": {
      "text/plain": [
       "0"
      ]
     },
     "execution_count": 21,
     "metadata": {},
     "output_type": "execute_result"
    }
   ],
   "source": [
    "tnps_pivoted_by_id.write.mode('overwrite').format('parquet').save('/tmp/bbergua/tnps/id/')\n",
    "subprocess.call('hdfs dfs -chmod -R o+rx /tmp/bbergua/tnps/id/',  shell=True)\n",
    "subprocess.call('hdfs dfs -chmod    o+r  /tmp/bbergua/tnps/id/*', shell=True)"
   ]
  }
 ],
 "metadata": {
  "kernelspec": {
   "display_name": "Python 2",
   "language": "python",
   "name": "python2"
  },
  "language_info": {
   "codemirror_mode": {
    "name": "ipython",
    "version": 2
   },
   "file_extension": ".py",
   "mimetype": "text/x-python",
   "name": "python",
   "nbconvert_exporter": "python",
   "pygments_lexer": "ipython2",
   "version": "2.7.11"
  }
 },
 "nbformat": 4,
 "nbformat_minor": 2
}
