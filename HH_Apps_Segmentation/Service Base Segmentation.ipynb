{
 "cells": [
  {
   "cell_type": "markdown",
   "metadata": {},
   "source": [
    "# Service Base Segmentation"
   ]
  },
  {
   "cell_type": "code",
   "execution_count": 1,
   "metadata": {},
   "outputs": [
    {
     "data": {
      "text/html": [
       "<style>.container { width:100% !important; }</style>"
      ],
      "text/plain": [
       "<IPython.core.display.HTML object>"
      ]
     },
     "metadata": {},
     "output_type": "display_data"
    }
   ],
   "source": [
    "from IPython.core.display import display, HTML\n",
    "display(HTML(\"<style>.container { width:100% !important; }</style>\"))"
   ]
  },
  {
   "cell_type": "code",
   "execution_count": 2,
   "metadata": {},
   "outputs": [],
   "source": [
    "from common.src.main.python.utils.hdfs_generic import *\n",
    "import os\n",
    "MAX_N_EXECUTORS=20\n",
    "\n",
    "MIN_N_EXECUTORS=2\n",
    "N_CORES_EXECUTOR=4\n",
    "EXECUTOR_IDLE_MAX_TIME=120\n",
    "EXECUTOR_MEMORY='16g'\n",
    "DRIVER_MEMORY='26g'\n",
    "N_CORES_DRIVER=1\n",
    "MEMORY_OVERHEAD=N_CORES_EXECUTOR*2048\n",
    "QUEUE=\"root.BDPtenants.es.medium\"\n",
    "BDA_CORE_VERSION=\"1.0.0\"\n",
    "\n",
    "SPARK_COMMON_OPTS=os.environ.get('SPARK_COMMON_OPTS', '')\n",
    "SPARK_COMMON_OPTS+=\" --executor-memory %s --driver-memory %s\" % (EXECUTOR_MEMORY, DRIVER_MEMORY)\n",
    "SPARK_COMMON_OPTS+=\" --conf spark.shuffle.manager=tungsten-sort\"\n",
    "SPARK_COMMON_OPTS+=\"  --queue %s\" % QUEUE\n",
    "app_name='mobile apps segmentation'\n",
    "SPARK_COMMON_OPTS += \" --conf spark.app.name='%s'\" % (app_name)\n",
    "\n",
    "\n",
    "# Dynamic allocation configuration\n",
    "SPARK_COMMON_OPTS+=\" --conf spark.dynamicAllocation.enabled=true\"\n",
    "SPARK_COMMON_OPTS+=\" --conf spark.port.maxRetries=500\"\n",
    "SPARK_COMMON_OPTS+=\" --conf spark.shuffle.service.enabled=true\"\n",
    "SPARK_COMMON_OPTS+=\" --conf spark.dynamicAllocation.maxExecutors=%s\" % (MAX_N_EXECUTORS)\n",
    "SPARK_COMMON_OPTS+=\" --conf spark.dynamicAllocation.minExecutors=%s\" % (MIN_N_EXECUTORS)\n",
    "SPARK_COMMON_OPTS+=\" --conf spark.dynamicAllocation.executorIdleTimeout=%s\" % (EXECUTOR_IDLE_MAX_TIME)\n",
    "\n",
    "\n",
    "\n",
    "\n",
    "BDA_ENV = os.environ.get('BDA_USER_HOME', '')\n",
    "\n",
    "#opciones jmarcoso\n",
    "SPARK_COMMON_OPTS+=\" --conf spark.dynamicAllocation.initialExecutors=10\"\n",
    "SPARK_COMMON_OPTS+=\" --conf spark.yarn.am.waitTime=800000s\"\n",
    "SPARK_COMMON_OPTS+=\" --conf spark.network.timeout=10000001\"\n",
    "SPARK_COMMON_OPTS+=\" --conf spark.executor.heartbeatInterval=10000000\"\n",
    "SPARK_COMMON_OPTS+=\" --conf spark.executor.cores=4\"\n",
    "SPARK_COMMON_OPTS+=\" --conf spark.port.maxRetries=500\"\n",
    "SPARK_COMMON_OPTS+=\" --conf spark.sql.shuffle.partitions=1000\"\n",
    "\n",
    "\n",
    "\n",
    "\n",
    "\n",
    "# Attach bda-core-ra codebase\n",
    "# SPARK_COMMON_OPTS+=\" --files \\\n",
    "# {}/scripts/properties/red_agent/nodes.properties,\\\n",
    "# {}/scripts/properties/red_agent/nodes-de.properties,\\\n",
    "# {}/scripts/properties/red_agent/nodes-es.properties,\\\n",
    "# {}/scripts/properties/red_agent/nodes-ie.properties,\\\n",
    "# {}/scripts/properties/red_agent/nodes-it.properties,\\\n",
    "# {}/scripts/properties/red_agent/nodes-pt.properties,\\\n",
    "# {}/scripts/properties/red_agent/nodes-uk.properties\".format(*[BDA_ENV]*7)\n",
    "\n",
    "os.environ[\"SPARK_COMMON_OPTS\"] = SPARK_COMMON_OPTS\n",
    "os.environ[\"PYSPARK_SUBMIT_ARGS\"] = \"%s pyspark-shell \" % SPARK_COMMON_OPTS\n",
    "\n",
    "#print os.environ.get('SPARK_COMMON_OPTS', '')\n",
    "#print os.environ.get('PYSPARK_SUBMIT_ARGS', '')\n",
    "\n",
    "sc, sparkSession, sqlContext = run_sc()"
   ]
  },
  {
   "cell_type": "code",
   "execution_count": 3,
   "metadata": {},
   "outputs": [],
   "source": [
    "from common.src.main.python.utils.hdfs_generic import *\n",
    "from pyspark.sql.functions import  (sum as sql_sum, countDistinct, trim\n",
    "                                    ,max as sql_max, min as sql_min , split,desc, col, current_date\n",
    "                                    , datediff, lit, translate, udf\n",
    "                                    , when, concat_ws, concat, decode, length\n",
    "                                    , substring, to_date, regexp_replace, lpad\n",
    "                                    , hour, date_format\n",
    "                                   , expr, coalesce,  year, month, minute\n",
    "                                    ,count, dayofmonth, conv, upper)\n",
    "from pyspark.sql.window import Window\n",
    "import pyspark.sql.functions as func\n",
    "import datetime, time\n",
    "\n",
    "\n",
    "import matplotlib\n",
    "import numpy as np\n",
    "import matplotlib.pyplot as plt\n",
    "%matplotlib inline"
   ]
  },
  {
   "cell_type": "code",
   "execution_count": 4,
   "metadata": {},
   "outputs": [],
   "source": [
    "spark = (SparkSession.builder\n",
    "         .appName(\"Mobile Apps Segmentation\")\n",
    "         .master(\"yarn\")\n",
    "         .config(\"spark.submit.deployMode\", \"client\")\n",
    "         .config(\"spark.ui.showConsoleProgress\", \"true\")\n",
    "         .enableHiveSupport()\n",
    "         .getOrCreate()\n",
    "         )"
   ]
  },
  {
   "cell_type": "code",
   "execution_count": null,
   "metadata": {},
   "outputs": [],
   "source": []
  },
  {
   "cell_type": "markdown",
   "metadata": {},
   "source": [
    "We aim to provide a segmentation based on internet usage (Netscout) and Video on Demand (VoD, ARRIS)"
   ]
  },
  {
   "cell_type": "code",
   "execution_count": 5,
   "metadata": {},
   "outputs": [],
   "source": [
    "def prettySummary(df):\n",
    "    \"\"\" Neat summary statistics of a Spark dataframe\n",
    "    Args:\n",
    "        pyspark.sql.dataframe.DataFrame (df): input dataframe\n",
    "    Returns:\n",
    "        pandas.core.frame.DataFrame: a pandas dataframe with the summary statistics of df\n",
    "    \"\"\"\n",
    "    import pandas as pd\n",
    "    temp = df.describe().toPandas()\n",
    "    temp.iloc[1:3,1:] = temp.iloc[1:3,1:].convert_objects(convert_numeric=True)\n",
    "    pd.options.display.float_format = '{:,.2f}'.format\n",
    "    return temp\n",
    "\n",
    "def saveDF(path, df, partitions):\n",
    "    print('[' + time.ctime() + '] ' + 'Saving started in: ' + path)\n",
    "    df.repartition(partitions).write.mode('overwrite').format('parquet').save(path)\n",
    "    #df.write.mode('overwrite').format('parquet').save(path)\n",
    "    print('[' + time.ctime() + '] ' + 'Saving finished!')\n"
   ]
  },
  {
   "cell_type": "markdown",
   "metadata": {},
   "source": [
    "# Mobile Apps Segmentation\n",
    "\n",
    "Our main goal is to develop an individual segmentation based on applications usage"
   ]
  },
  {
   "cell_type": "code",
   "execution_count": 6,
   "metadata": {},
   "outputs": [],
   "source": [
    "HDFS_READ_COMMON = '/data/udf/vf_es/amdocs_inf_dataset/'\n",
    "HDFS_READ_COMMON = '/user/bbergua/amdocs_inf_dataset/'\n",
    "HDFS_READ_COMMON = '/data/udf/vf_es/amdocs_ids/'\n",
    "PATH_READ_FULL = HDFS_READ_COMMON + 'service/'\n",
    "\n",
    "closing_day='20200430'\n",
    "\n",
    "hdfs_partition_path = 'year=' + str(int(closing_day[:4])) + '/month=' + str(int(closing_day[4:6])) + '/day=' + str(int(closing_day[6:8]))\n",
    "path_ids = PATH_READ_FULL + hdfs_partition_path\n",
    "dataframe_raw = (spark.read.load(path_ids))\n",
    "\n",
    "hdfs_partition_path\n",
    "\n",
    "path_netscout_apps = '/data/udf/vf_es/amdocs_ids/netscout_apps/'+hdfs_partition_path\n",
    "df_netscout_apps=(spark.read.load(path_netscout_apps))\n",
    "\n",
    "dataframe_raw = \\\n",
    "(dataframe_raw\n",
    ".join(df_netscout_apps, 'msisdn', 'leftouter')\n",
    ")"
   ]
  },
  {
   "cell_type": "code",
   "execution_count": 7,
   "metadata": {},
   "outputs": [],
   "source": [
    "apps_to_use=['YOUTUBE','INSTAGRAM','FACEBOOK','WHATSAPP','TWITTER','TRAVEL','SPOTIFY','SNAPCHAT','NETFLIX'\n",
    "            ,'GAMBLING','DATING','SPORTS', 'AMAZON']"
   ]
  },
  {
   "cell_type": "code",
   "execution_count": 8,
   "metadata": {},
   "outputs": [],
   "source": [
    "netscout_cols=[]\n",
    "\n",
    "for x in apps_to_use:\n",
    "        netscout_cols += [c for c in dataframe_raw.columns if (('NS_APPS' in c) & (('data_mb' in c)|('days' in c)) & (x in c)\n",
    "                                                                   & ('MESSAGE' not in c) & ('VIDEO' not in c) \n",
    "                                                                   & ('CALLING' not in c) \n",
    "                                                                   )  ]\n",
    "#        netscout_days_cols += [c for c in dataframe_raw.columns if (('NS_APPS' in c) & ('days' in c) & (x in c)\n",
    "#                                                                   & ('MESSAGE' not in c) & ('VIDEO' not in c) \n",
    "#                                                                   & ('CALLING' not in c) \n",
    "#                                                                   )]\n",
    "#"
   ]
  },
  {
   "cell_type": "code",
   "execution_count": 9,
   "metadata": {},
   "outputs": [
    {
     "data": {
      "text/plain": [
       "['NS_APPS_YOUTUBE_data_mb',\n",
       " 'NS_APPS_YOUTUBE_days',\n",
       " 'NS_APPS_INSTAGRAM_data_mb',\n",
       " 'NS_APPS_INSTAGRAM_days',\n",
       " 'NS_APPS_FACEBOOK_data_mb',\n",
       " 'NS_APPS_FACEBOOK_days',\n",
       " 'NS_APPS_WHATSAPP_data_mb',\n",
       " 'NS_APPS_WHATSAPP_days',\n",
       " 'NS_APPS_TWITTER_data_mb',\n",
       " 'NS_APPS_TWITTER_days',\n",
       " 'NS_APPS_TRAVEL_data_mb',\n",
       " 'NS_APPS_TRAVEL_days',\n",
       " 'NS_APPS_SPOTIFY_data_mb',\n",
       " 'NS_APPS_SPOTIFY_days',\n",
       " 'NS_APPS_SNAPCHAT_data_mb',\n",
       " 'NS_APPS_SNAPCHAT_days',\n",
       " 'NS_APPS_NETFLIX_data_mb',\n",
       " 'NS_APPS_NETFLIX_days',\n",
       " 'NS_APPS_GAMBLING_data_mb',\n",
       " 'NS_APPS_GAMBLING_days',\n",
       " 'NS_APPS_DATING_data_mb',\n",
       " 'NS_APPS_DATING_days',\n",
       " 'NS_APPS_SPORTS_data_mb',\n",
       " 'NS_APPS_SPORTS_days',\n",
       " 'NS_APPS_AMAZON_data_mb',\n",
       " 'NS_APPS_AMAZON_days']"
      ]
     },
     "execution_count": 9,
     "metadata": {},
     "output_type": "execute_result"
    }
   ],
   "source": [
    "netscout_cols"
   ]
  },
  {
   "cell_type": "code",
   "execution_count": 10,
   "metadata": {},
   "outputs": [
    {
     "data": {
      "text/plain": [
       "False"
      ]
     },
     "execution_count": 10,
     "metadata": {},
     "output_type": "execute_result"
    }
   ],
   "source": [
    "'Serv_rgu' in dataframe_raw.columns"
   ]
  },
  {
   "cell_type": "code",
   "execution_count": 11,
   "metadata": {},
   "outputs": [],
   "source": [
    "clustering_df=(dataframe_raw[['msisdn']+netscout_cols]\n",
    "               .where(col('RGU').isin(['prepaid', 'mobile']))\n",
    "               .withColumn('IDENT_NS',when(col('NS_APPS_YOUTUBE_days').isNull(),0).otherwise(1))\n",
    "               .where(col('IDENT_NS')==1)\n",
    "               .fillna(0)\n",
    "              )"
   ]
  },
  {
   "cell_type": "markdown",
   "metadata": {},
   "source": [
    "### Assemble and scale"
   ]
  },
  {
   "cell_type": "code",
   "execution_count": 12,
   "metadata": {},
   "outputs": [],
   "source": [
    "from pyspark.ml.feature import VectorAssembler\n",
    "from pyspark.ml.feature import StandardScaler\n",
    "\n",
    "vecAssembler = VectorAssembler(inputCols=clustering_df.columns[1:], outputCol=\"features\")\n",
    "clustering_df_assembled = vecAssembler.transform(clustering_df)\n",
    "\n",
    "standardizer = StandardScaler(withMean=True, withStd=True,\n",
    "                              inputCol='features',\n",
    "                              outputCol='std_features')\n",
    "\n",
    "model = standardizer.fit(clustering_df_assembled)\n",
    "\n",
    "clustering_df_assembled_scaled = model.transform(clustering_df_assembled)"
   ]
  },
  {
   "cell_type": "markdown",
   "metadata": {},
   "source": [
    "### KMeans - Model Training\n",
    "\n",
    "\n",
    "Kmeans trained algorithm should not be executed every month as segments are expected to remain characteristics in time enabling the study of the evolution of the segments during time.\n",
    "\n",
    "Last execution: 20200407\n"
   ]
  },
  {
   "cell_type": "code",
   "execution_count": 13,
   "metadata": {},
   "outputs": [],
   "source": [
    "from pyspark.sql import Row\n",
    "from pyspark.ml.clustering import KMeans, KMeansModel\n",
    "n_clusters = 4\n",
    "kmeans = KMeans(featuresCol='std_features',k=n_clusters)\n",
    "modelKMeans = kmeans.fit(clustering_df_assembled_scaled)"
   ]
  },
  {
   "cell_type": "code",
   "execution_count": 14,
   "metadata": {},
   "outputs": [],
   "source": [
    "# # saving the model\n",
    "# \n",
    "path_model_works_base='/user/avazq108/models_prod/'\n",
    "path_model_works_model=path_model_works_base+'model_definition/netscout_apps_segm/'+ hdfs_partition_path\n",
    "modelKMeans.write().overwrite().save(path_model_works_model)"
   ]
  },
  {
   "cell_type": "markdown",
   "metadata": {},
   "source": [
    "### KMeans - Load and Execution\n"
   ]
  },
  {
   "cell_type": "code",
   "execution_count": 15,
   "metadata": {},
   "outputs": [],
   "source": [
    "from pyspark.ml.clustering import KMeans, KMeansModel\n",
    "\n",
    "closing_day_trained_model=closing_day\n",
    "\n",
    "hdfs_partition_path_model = 'year=' + str(int(closing_day_trained_model[:4])) + '/month=' + str(int(closing_day_trained_model[4:6])) + '/day=' + str(int(closing_day_trained_model[6:8]))\n",
    "\n",
    "#path_model_works_base='/user/rbuendi1/models_prod/'\n",
    "path_model_works_model=path_model_works_base+'model_definition/netscout_apps_segm/'+ hdfs_partition_path_model\n",
    "modelKMeans_cargado = KMeansModel.load(path_model_works_model)"
   ]
  },
  {
   "cell_type": "code",
   "execution_count": 16,
   "metadata": {},
   "outputs": [
    {
     "name": "stdout",
     "output_type": "stream",
     "text": [
      "+----------+-------+\n",
      "|prediction|  count|\n",
      "+----------+-------+\n",
      "|         1| 431628|\n",
      "|         3|2064845|\n",
      "|         2|    241|\n",
      "|         0|4085275|\n",
      "+----------+-------+\n",
      "\n"
     ]
    }
   ],
   "source": [
    "transformed = modelKMeans_cargado.transform(clustering_df_assembled_scaled).drop(*['features','std_features'])\n",
    "transformed.groupBy('prediction').count().show()"
   ]
  },
  {
   "cell_type": "markdown",
   "metadata": {},
   "source": [
    "## Results Analysis"
   ]
  },
  {
   "cell_type": "code",
   "execution_count": 17,
   "metadata": {},
   "outputs": [
    {
     "name": "stderr",
     "output_type": "stream",
     "text": [
      "/opt/cloudera/parcels/Anaconda-2.5.0/lib/python2.7/site-packages/ipykernel_launcher.py:10: FutureWarning: convert_objects is deprecated.  To re-infer data dtypes for object columns, use DataFrame.infer_objects()\n",
      "For all other conversions use the data-type specific converters pd.to_datetime, pd.to_timedelta and pd.to_numeric.\n",
      "  # Remove the CWD from sys.path while we load stuff.\n"
     ]
    }
   ],
   "source": [
    "stats_df_0=prettySummary(transformed.filter(transformed.prediction==0).drop('prediction'))\n",
    "stats_df_1=prettySummary(transformed.filter(transformed.prediction==1).drop('prediction'))\n",
    "stats_df_2=prettySummary(transformed.filter(transformed.prediction==2).drop('prediction'))\n",
    "stats_df_3=prettySummary(transformed.filter(transformed.prediction==3).drop('prediction'))\n",
    "\n",
    "stats_df_0['cluster']=0\n",
    "stats_df_1['cluster']=1\n",
    "stats_df_2['cluster']=2\n",
    "stats_df_3['cluster']=3\n",
    "\n",
    "frames = [  stats_df_0[stats_df_0.summary=='mean']\n",
    "          , stats_df_1[stats_df_1.summary=='mean']\n",
    "          , stats_df_2[stats_df_2.summary=='mean']\n",
    "          , stats_df_3[stats_df_3.summary=='mean']]\n",
    "\n",
    "result = pd.concat(frames)"
   ]
  },
  {
   "cell_type": "code",
   "execution_count": 18,
   "metadata": {},
   "outputs": [],
   "source": [
    "\n",
    "for c in netscout_cols:\n",
    "    new_col=c+'_perc'\n",
    "    result[new_col]=result[c]/result[c].sum()\n",
    "    \n"
   ]
  },
  {
   "cell_type": "code",
   "execution_count": 19,
   "metadata": {},
   "outputs": [],
   "source": [
    "#result.transpose().style.bar( color='#d65f5f')"
   ]
  },
  {
   "cell_type": "code",
   "execution_count": 20,
   "metadata": {},
   "outputs": [],
   "source": [
    "counts=transformed.groupBy('prediction').count().toPandas()\n",
    "result_final = pd.merge(result, counts, left_on='cluster', right_on='prediction')"
   ]
  },
  {
   "cell_type": "code",
   "execution_count": null,
   "metadata": {},
   "outputs": [],
   "source": []
  },
  {
   "cell_type": "code",
   "execution_count": 21,
   "metadata": {},
   "outputs": [],
   "source": [
    "#result_final.style.bar( color='#d65f5f')\n",
    "#result_final[result_final['prediction']==0].apply(pd.to_numeric, errors='coerce').dtypes\n",
    "#ns_contents_data\n",
    "result_final=result_final.apply(pd.to_numeric, errors='coerce')"
   ]
  },
  {
   "cell_type": "code",
   "execution_count": 22,
   "metadata": {},
   "outputs": [
    {
     "data": {
      "text/plain": [
       "<matplotlib.legend.Legend at 0x7f156ea06ad0>"
      ]
     },
     "execution_count": 22,
     "metadata": {},
     "output_type": "execute_result"
    },
    {
     "data": {
      "image/png": "[encoded data removed]",
      "text/plain": [
       "<Figure size 1152x360 with 1 Axes>"
      ]
     },
     "metadata": {},
     "output_type": "display_data"
    },
    {
     "data": {
      "image/png": "[encoded data removed]",
      "text/plain": [
       "<Figure size 1152x360 with 1 Axes>"
      ]
     },
     "metadata": {},
     "output_type": "display_data"
    },
    {
     "data": {
      "image/png": "[encoded data removed]",
      "text/plain": [
       "<Figure size 1152x360 with 1 Axes>"
      ]
     },
     "metadata": {},
     "output_type": "display_data"
    },
    {
     "data": {
      "image/png": "[encoded data removed]",
      "text/plain": [
       "<Figure size 1152x360 with 1 Axes>"
      ]
     },
     "metadata": {},
     "output_type": "display_data"
    }
   ],
   "source": [
    "ns_contents_days = [columna for columna in result_final.columns if 'days_perc' in columna]\n",
    "ns_contents_data = [columna for columna in result_final.columns if 'data_mb_perc' in columna]\n",
    "from matplotlib.pyplot import *\n",
    "fig, ax = subplots()\n",
    "result_final[result_final['prediction']==0].plot(kind='bar', x='prediction' , y=ns_contents_data , figsize=(16,5), colormap='tab20' , ax=ax)\n",
    "result_final[result_final['prediction']==1].plot(kind='bar', x='prediction' , y=ns_contents_data , figsize=(16,5), colormap='tab20' ,legend=False )\n",
    "result_final[result_final['prediction']==2].plot(kind='bar', x='prediction' , y=ns_contents_data , figsize=(16,5), colormap='tab20' ,legend=False)\n",
    "result_final[result_final['prediction']==3].plot(kind='bar', x='prediction' , y=ns_contents_data , figsize=(16,5), colormap='tab20' ,legend=False)\n",
    "ax.legend( loc='upper left',prop={'size': 8})\n",
    "\n",
    "\n",
    "#result_final[result_final['prediction']==1].plot(kind='bar', x=['prediction_name'] , y=ns_contents_data , figsize=(16,5), colormap='Vega20c')\n",
    "#result_final[result_final['prediction']==2].plot(kind='bar', x=['prediction_name'] , y=ns_contents_data , figsize=(16,5), colormap='Vega20c')\n",
    "#result_final[result_final['prediction']==3].plot(kind='bar', x=['prediction_name'] , y=ns_contents_data , figsize=(16,5), colormap='Vega20c')\n",
    "\n"
   ]
  },
  {
   "cell_type": "code",
   "execution_count": 23,
   "metadata": {},
   "outputs": [
    {
     "name": "stderr",
     "output_type": "stream",
     "text": [
      "/opt/cloudera/parcels/Anaconda-2.5.0/lib/python2.7/site-packages/ipykernel_launcher.py:2: SettingWithCopyWarning: \n",
      "A value is trying to be set on a copy of a slice from a DataFrame\n",
      "\n",
      "See the caveats in the documentation: http://pandas.pydata.org/pandas-docs/stable/indexing.html#indexing-view-versus-copy\n",
      "  \n",
      "/opt/cloudera/parcels/Anaconda-2.5.0/lib/python2.7/site-packages/ipykernel_launcher.py:3: SettingWithCopyWarning: \n",
      "A value is trying to be set on a copy of a slice from a DataFrame\n",
      "\n",
      "See the caveats in the documentation: http://pandas.pydata.org/pandas-docs/stable/indexing.html#indexing-view-versus-copy\n",
      "  This is separate from the ipykernel package so we can avoid doing imports until\n",
      "/opt/cloudera/parcels/Anaconda-2.5.0/lib/python2.7/site-packages/ipykernel_launcher.py:4: SettingWithCopyWarning: \n",
      "A value is trying to be set on a copy of a slice from a DataFrame\n",
      "\n",
      "See the caveats in the documentation: http://pandas.pydata.org/pandas-docs/stable/indexing.html#indexing-view-versus-copy\n",
      "  after removing the cwd from sys.path.\n",
      "/opt/cloudera/parcels/Anaconda-2.5.0/lib/python2.7/site-packages/ipykernel_launcher.py:5: SettingWithCopyWarning: \n",
      "A value is trying to be set on a copy of a slice from a DataFrame\n",
      "\n",
      "See the caveats in the documentation: http://pandas.pydata.org/pandas-docs/stable/indexing.html#indexing-view-versus-copy\n",
      "  \"\"\"\n"
     ]
    }
   ],
   "source": [
    "result_final['prediction_name']='none'\n",
    "result_final['prediction_name'][result_final['prediction'] == 2] = 'Heavy Sports Games'\n",
    "result_final['prediction_name'][result_final['prediction'] == 1] = 'Regular'\n",
    "result_final['prediction_name'][result_final['prediction'] == 0] = 'Heavy Social'\n",
    "result_final['prediction_name'][result_final['prediction'] == 3] = 'Low Usage'"
   ]
  },
  {
   "cell_type": "markdown",
   "metadata": {},
   "source": [
    "# End Analysis"
   ]
  },
  {
   "cell_type": "markdown",
   "metadata": {},
   "source": [
    "# Export Data"
   ]
  },
  {
   "cell_type": "code",
   "execution_count": 24,
   "metadata": {},
   "outputs": [
    {
     "name": "stdout",
     "output_type": "stream",
     "text": [
      "root\n",
      " |-- msisdn: string (nullable = true)\n",
      " |-- NS_APPS_YOUTUBE_data_mb: double (nullable = false)\n",
      " |-- NS_APPS_YOUTUBE_days: long (nullable = true)\n",
      " |-- NS_APPS_INSTAGRAM_data_mb: double (nullable = false)\n",
      " |-- NS_APPS_INSTAGRAM_days: long (nullable = true)\n",
      " |-- NS_APPS_FACEBOOK_data_mb: double (nullable = false)\n",
      " |-- NS_APPS_FACEBOOK_days: long (nullable = true)\n",
      " |-- NS_APPS_WHATSAPP_data_mb: double (nullable = false)\n",
      " |-- NS_APPS_WHATSAPP_days: long (nullable = true)\n",
      " |-- NS_APPS_TWITTER_data_mb: double (nullable = false)\n",
      " |-- NS_APPS_TWITTER_days: long (nullable = true)\n",
      " |-- NS_APPS_TRAVEL_data_mb: double (nullable = false)\n",
      " |-- NS_APPS_TRAVEL_days: long (nullable = true)\n",
      " |-- NS_APPS_SPOTIFY_data_mb: double (nullable = false)\n",
      " |-- NS_APPS_SPOTIFY_days: long (nullable = true)\n",
      " |-- NS_APPS_SNAPCHAT_data_mb: double (nullable = false)\n",
      " |-- NS_APPS_SNAPCHAT_days: long (nullable = true)\n",
      " |-- NS_APPS_NETFLIX_data_mb: double (nullable = false)\n",
      " |-- NS_APPS_NETFLIX_days: long (nullable = true)\n",
      " |-- NS_APPS_GAMES_data_mb: double (nullable = false)\n",
      " |-- NS_APPS_GAMES_days: long (nullable = true)\n",
      " |-- NS_APPS_DATING_data_mb: double (nullable = false)\n",
      " |-- NS_APPS_DATING_days: long (nullable = true)\n",
      " |-- NS_APPS_DEPORTES_data_mb: double (nullable = false)\n",
      " |-- NS_APPS_DEPORTES_days: long (nullable = true)\n",
      " |-- NS_APPS_AMAZON_data_mb: double (nullable = false)\n",
      " |-- NS_APPS_AMAZON_days: long (nullable = true)\n",
      " |-- id_segment: integer (nullable = false)\n",
      " |-- name_segment: string (nullable = true)\n",
      "\n"
     ]
    }
   ],
   "source": [
    "export_df_tmp1=(transformed\n",
    "           .withColumnRenamed('prediction','id_segment')\n",
    "           .withColumn('name_segment',when(col('id_segment')==2,'Heavy Sports Games')\n",
    "                                .when(col('id_segment')==1,'Regular')\n",
    "                                .when(col('id_segment')==0,'Heavy Social')\n",
    "                                .when(col('id_segment')==3,'Low Usage')\n",
    "                                .otherwise(None))\n",
    "           .withColumnRenamed('NS_APPS_GAMBLING_data_mb','NS_APPS_GAMES_data_mb')\n",
    "           .withColumnRenamed('NS_APPS_GAMBLING_days','NS_APPS_GAMES_days')\n",
    "           .withColumnRenamed('NS_APPS_SPORTS_data_mb','NS_APPS_DEPORTES_data_mb')\n",
    "           .withColumnRenamed('NS_APPS_SPORTS_days','NS_APPS_DEPORTES_days')\n",
    "           .drop('IDENT_NS')\n",
    "           )\n",
    "\n",
    "\n",
    "#oldColumns = export_df_tmp1.columns\n",
    "#newColumns1 = [columna if 'data' in columna else columna for columna in oldColumns]\n",
    "#newColumns2 = [columna[3:] if 'ns_' in columna else columna for columna in newColumns1]\n",
    "#export_df_tmp2 = reduce(lambda export_df_tmp1, idx: export_df_tmp1.withColumnRenamed(oldColumns[idx], newColumns2[idx]), xrange(len(oldColumns)), export_df_tmp1)\n",
    "export_df_tmp1.printSchema()"
   ]
  },
  {
   "cell_type": "code",
   "execution_count": 25,
   "metadata": {},
   "outputs": [],
   "source": [
    "df_newColumns = [c[8:] if c not in ['msisdn', 'name_segment', 'id_segment']  else c for c in export_df_tmp1.columns]\n",
    "\n",
    "export_df_tmp2 = export_df_tmp1.toDF(*df_newColumns)"
   ]
  },
  {
   "cell_type": "code",
   "execution_count": 26,
   "metadata": {},
   "outputs": [],
   "source": [
    "current_timestamp = datetime.datetime.now()"
   ]
  },
  {
   "cell_type": "code",
   "execution_count": 27,
   "metadata": {},
   "outputs": [
    {
     "data": {
      "text/plain": [
       "'/data/attributes/vf_es/return_feed/mobile_amdocs_apps_segmentation/year=2020/month=5/day=0'"
      ]
     },
     "execution_count": 27,
     "metadata": {},
     "output_type": "execute_result"
    }
   ],
   "source": [
    "path_hdfs_common = '/data/attributes/vf_es/return_feed/mobile_amdocs_apps_segmentation'\n",
    "path_model_detail = path_hdfs_common + '/year=' + str(int(current_timestamp.year)) + '/month=' + str(int(current_timestamp.month)) + '/day=0'\n",
    "path_model_detail"
   ]
  },
  {
   "cell_type": "code",
   "execution_count": 28,
   "metadata": {},
   "outputs": [],
   "source": [
    "#path = '/data/attributes/vf_es/return_feed/mobile_amdocs_apps_segmentation/year=2019/month=6/day=7'\n",
    "#dataframe_raw = (spark.read.load(path))"
   ]
  },
  {
   "cell_type": "code",
   "execution_count": 29,
   "metadata": {},
   "outputs": [],
   "source": [
    "from pyspark.sql.types import IntegerType"
   ]
  },
  {
   "cell_type": "code",
   "execution_count": 30,
   "metadata": {},
   "outputs": [],
   "source": [
    "dataframe_renamed = \\\n",
    "(export_df_tmp2\n",
    " .withColumn('Youtube_days', col('YOUTUBE_days').cast(IntegerType()))\n",
    " .withColumnRenamed('YOUTUBE_data_mb','Youtube_data_mb')\n",
    " .withColumnRenamed('INSTAGRAM_data_mb','Instagram_data_mb')\n",
    " .withColumn('Instagram_days', col('INSTAGRAM_days').cast(IntegerType()))\n",
    " .withColumnRenamed('FACEBOOK_data_mb','Facebook_data_mb')\n",
    " .withColumn('Facebook_days', col('FACEBOOK_days').cast(IntegerType()))\n",
    " .withColumnRenamed('WHATSAPP_data_mb','Whatsapp_data_mb')\n",
    " .withColumn('Whatsapp_days', col('WHATSAPP_days').cast(IntegerType()))\n",
    " .withColumnRenamed('TWITTER_data_mb','Twitter_data_mb')\n",
    " .withColumn('Twitter_days', col('TWITTER_days').cast(IntegerType()))\n",
    " .withColumnRenamed('TRAVEL_data_mb','Travel_data_mb')\n",
    " .withColumn('Travel_days', col('TRAVEL_days').cast(IntegerType()))\n",
    " .withColumnRenamed('SPOTIFY_data_mb','spotify_data_mb')\n",
    " .withColumn('spotify_days', col('SPOTIFY_days').cast(IntegerType()))\n",
    " .withColumnRenamed('SNAPCHAT_data_mb','snapchat_data_mb')\n",
    " .withColumn('snapchat_days', col('SNAPCHAT_days').cast(IntegerType()))\n",
    " .withColumnRenamed('NETFLIX_data_mb','netflix_data_mb')\n",
    " .withColumn('netflix_days', col('NETFLIX_days').cast(IntegerType()))\n",
    " .withColumnRenamed('GAMES_data_mb','games_data_mb')\n",
    " .withColumn('games_days', col('GAMES_days').cast(IntegerType()))\n",
    " .withColumnRenamed('DATING_data_mb','dating_data_mb')\n",
    " .withColumn('dating_days', col('DATING_days').cast(IntegerType()))\n",
    " .withColumnRenamed('DEPORTES_data_mb','deportes_data_mb')\n",
    " .withColumn('deportes_days', col('DEPORTES_days').cast(IntegerType()))\n",
    ")"
   ]
  },
  {
   "cell_type": "code",
   "execution_count": 30,
   "metadata": {},
   "outputs": [
    {
     "data": {
      "text/plain": [
       "6750283"
      ]
     },
     "execution_count": 30,
     "metadata": {},
     "output_type": "execute_result"
    }
   ],
   "source": [
    "dataframe_renamed.count()"
   ]
  },
  {
   "cell_type": "code",
   "execution_count": 31,
   "metadata": {},
   "outputs": [
    {
     "data": {
      "text/plain": [
       "Row(msisdn=u'600041651', Youtube_data_mb=1.0600652694702148, Youtube_days=5, Instagram_data_mb=0.25104808807373047, Instagram_days=3, Facebook_data_mb=0.3133087158203125, Facebook_days=8, Whatsapp_data_mb=4.397030830383301, Whatsapp_days=5, Twitter_data_mb=0.0, Twitter_days=0, Travel_data_mb=0.0, Travel_days=0, spotify_data_mb=0.0, spotify_days=0, snapchat_data_mb=0.0, snapchat_days=0, netflix_data_mb=0.0, netflix_days=0, games_data_mb=0.0, games_days=0, dating_data_mb=0.0, dating_days=0, deportes_data_mb=0.0, deportes_days=0, AMAZON_data_mb=0.0013027191162109375, AMAZON_days=1, id_segment=0, name_segment=u'Heavy Social')"
      ]
     },
     "execution_count": 31,
     "metadata": {},
     "output_type": "execute_result"
    }
   ],
   "source": [
    "dataframe_renamed.head()"
   ]
  },
  {
   "cell_type": "code",
   "execution_count": 31,
   "metadata": {},
   "outputs": [
    {
     "name": "stdout",
     "output_type": "stream",
     "text": [
      "+------------------+-------+\n",
      "|      name_segment|  count|\n",
      "+------------------+-------+\n",
      "|Heavy Sports Games|    241|\n",
      "|           Regular| 431628|\n",
      "|         Low Usage|2064845|\n",
      "|      Heavy Social|4085275|\n",
      "+------------------+-------+\n",
      "\n"
     ]
    }
   ],
   "source": [
    "dataframe_renamed.groupBy(col('name_segment')).count().show()"
   ]
  },
  {
   "cell_type": "code",
   "execution_count": 32,
   "metadata": {},
   "outputs": [
    {
     "data": {
      "text/plain": [
       "'/data/attributes/vf_es/return_feed/mobile_amdocs_apps_segmentation/year=2020/month=5/day=0'"
      ]
     },
     "execution_count": 32,
     "metadata": {},
     "output_type": "execute_result"
    }
   ],
   "source": [
    "path_model_detail"
   ]
  },
  {
   "cell_type": "markdown",
   "metadata": {},
   "source": [
    "## Adaptamos los resultados al formato `Model Outputs`:"
   ]
  },
  {
   "cell_type": "code",
   "execution_count": 33,
   "metadata": {},
   "outputs": [],
   "source": [
    "dataframe_model_outputs = (dataframe_renamed\n",
    "                           .withColumn('model_output', col('name_segment'))\n",
    "                           .withColumn('extra_info', concat(lit(\"{ Youtube_data_mb= \"), col('Youtube_data_mb'), lit(\"; Youtube_days= \"), col(\"Youtube_days\"),\n",
    "                                                            lit(\"; Facebook_data_mb= \"), col('Facebook_data_mb'), lit(\"; Facebook_days= \"), col(\"Facebook_days\"),\n",
    "                                                            lit(\"; Instagram_data_mb= \"), col(\"Instagram_data_mb\"), lit(\"; Instagram_days= \"), col(\"INSTAGRAM_days\"),\n",
    "                                                            lit(\"; Whatsapp_data_mb= \"), col(\"Whatsapp_data_mb\"), lit(\"; Whatsapp_days= \"), col(\"Whatsapp_days\"), \n",
    "                                                            lit(\"; Twitter_data_mb= \"), col(\"Twitter_data_mb\"), lit(\"; Twitter_days= \"), col(\"Twitter_days\"),\n",
    "                                                            lit(\"; Travel_data_mb= \"), col(\"Travel_data_mb\"), lit(\"; Travel_days= \"), col(\"Travel_days\"), \n",
    "                                                            lit(\"; spotify_data_mb= \"), col(\"spotify_data_mb\"), lit(\"; spotify_days= \"), col(\"spotify_days\"),\n",
    "                                                            lit(\"; snapchat_data_mb= \"), col(\"snapchat_data_mb\"), lit(\"; snapchat_days= \"), col(\"snapchat_days\"),\n",
    "                                                            lit(\"; netflix_data_mb= \"), col(\"netflix_data_mb\"), lit(\"; netflix_days= \"), col(\"netflix_days\"),\n",
    "                                                            lit(\"; games_data_mb= \"), col(\"games_data_mb\"), lit(\"; games_days= \"), col(\"games_days\"), \n",
    "                                                            lit(\"; dating_data_mb= \"), col(\"dating_data_mb\"), lit(\"; dating_days= \"), col(\"dating_days\"),\n",
    "                                                            lit(\"; deportes_data_mb= \"), col(\"deportes_data_mb\"), lit(\"; deportes_days= \"), col(\"deportes_days\"), \n",
    "                                                            lit(\"; Amazon_data_mb= \"), col(\"AMAZON_data_mb\"), lit(\"; Amazon_days= \"), col(\"AMAZON_days\"), lit(\"}\")\n",
    "                                                           )\n",
    "                                      )\n",
    "                           .withColumn('prediction', col('id_segment'))\n",
    "                          )"
   ]
  },
  {
   "cell_type": "code",
   "execution_count": 38,
   "metadata": {},
   "outputs": [],
   "source": [
    "pd.set_option('max_colwidth', 10000)"
   ]
  },
  {
   "cell_type": "code",
   "execution_count": 34,
   "metadata": {},
   "outputs": [],
   "source": [
    "level = 'msisdn'\n",
    "\n",
    "model_name = 'service_base_segmentation'\n",
    "\n",
    "path_model_detail = 'model_name=' + model_name \\\n",
    "                            + '/year=' + str(current_timestamp.year) \\\n",
    "                            + '/month=' + str(current_timestamp.month) \\\n",
    "                            + '/day=0'\n",
    "\n",
    "path_model_outputs_base = '/data/attributes/vf_es/model_outputs/'\n",
    "path_model_outputs_scores = path_model_outputs_base + 'model_scores/' + path_model_detail"
   ]
  },
  {
   "cell_type": "code",
   "execution_count": 35,
   "metadata": {},
   "outputs": [
    {
     "data": {
      "text/plain": [
       "'/data/attributes/vf_es/model_outputs/model_scores/model_name=service_base_segmentation/year=2020/month=5/day=0'"
      ]
     },
     "execution_count": 35,
     "metadata": {},
     "output_type": "execute_result"
    }
   ],
   "source": [
    "path_model_outputs_scores"
   ]
  },
  {
   "cell_type": "code",
   "execution_count": 36,
   "metadata": {},
   "outputs": [],
   "source": [
    "executed_at = current_timestamp.strftime('%Y-%m-%d %H:%M:%S')\n",
    "time = int(current_timestamp.strftime('%H%M%S'))"
   ]
  },
  {
   "cell_type": "code",
   "execution_count": 37,
   "metadata": {},
   "outputs": [],
   "source": [
    "from pyspark.sql.types import DoubleType, StringType, IntegerType, ArrayType, FloatType\n",
    "\n",
    "df_save_scores = (dataframe_model_outputs\n",
    "                        # .withColumn('model_name',lit(model_name)) included in path\n",
    "                        .withColumn('executed_at', lit(executed_at).cast(StringType()))\n",
    "                        .withColumn('model_executed_at', lit(executed_at).cast(StringType()))\n",
    "                        .withColumn('predict_closing_date', lit(closing_day).cast(StringType()))\n",
    "                        .withColumn('msisdn', col('msisdn').cast(StringType()))\n",
    "                        .withColumn('client_id', lit(None).cast(StringType()))\n",
    "                        .withColumn('nif', lit(None).cast(StringType()))\n",
    "                        .withColumn('model_output', col('model_output').cast(StringType()))\n",
    "                        .withColumn('scoring', lit(None).cast(FloatType()))\n",
    "                        .withColumn('prediction', col('prediction').cast(StringType()))\n",
    "                        .withColumn('extra_info', col('extra_info').cast(StringType()))\n",
    "                        .withColumn('time', lit(time).cast(IntegerType()))\n",
    "                        .withColumn('model_name', lit(model_name).cast(StringType()))\n",
    "                        .select('executed_at', 'model_executed_at', 'predict_closing_date', 'msisdn'\n",
    "                                       , 'client_id', 'nif', 'model_output', 'scoring', 'prediction'\n",
    "                                       , 'extra_info', 'time')\n",
    "                            )"
   ]
  },
  {
   "cell_type": "code",
   "execution_count": 38,
   "metadata": {},
   "outputs": [
    {
     "name": "stdout",
     "output_type": "stream",
     "text": [
      "root\n",
      " |-- executed_at: string (nullable = false)\n",
      " |-- model_executed_at: string (nullable = false)\n",
      " |-- predict_closing_date: string (nullable = false)\n",
      " |-- msisdn: string (nullable = true)\n",
      " |-- client_id: string (nullable = true)\n",
      " |-- nif: string (nullable = true)\n",
      " |-- model_output: string (nullable = true)\n",
      " |-- scoring: float (nullable = true)\n",
      " |-- prediction: string (nullable = false)\n",
      " |-- extra_info: string (nullable = true)\n",
      " |-- time: integer (nullable = false)\n",
      "\n"
     ]
    }
   ],
   "source": [
    "df_save_scores.printSchema()"
   ]
  },
  {
   "cell_type": "code",
   "execution_count": 39,
   "metadata": {},
   "outputs": [],
   "source": [
    "def saveDF(path, df, partitions):\n",
    "    print('Saving started in: %s', path)\n",
    "    spark.conf.set(\"spark.sql.sources.partitionOverwriteMode\",\"dynamic\")\n",
    "    df.repartition(partitions).write.mode('append').format('parquet').save(path)\n",
    "    print('Saving finished!')"
   ]
  },
  {
   "cell_type": "code",
   "execution_count": 40,
   "metadata": {},
   "outputs": [
    {
     "data": {
      "text/plain": [
       "'/data/attributes/vf_es/model_outputs/model_scores/model_name=service_base_segmentation/year=2020/month=5/day=0'"
      ]
     },
     "execution_count": 40,
     "metadata": {},
     "output_type": "execute_result"
    }
   ],
   "source": [
    "path_model_outputs_scores"
   ]
  },
  {
   "cell_type": "code",
   "execution_count": 41,
   "metadata": {},
   "outputs": [
    {
     "name": "stdout",
     "output_type": "stream",
     "text": [
      "('Saving started in: %s', '/data/attributes/vf_es/model_outputs/model_scores/model_name=service_base_segmentation/year=2020/month=5/day=0')\n",
      "Saving finished!\n"
     ]
    }
   ],
   "source": [
    "saveDF(path_model_outputs_scores, df_save_scores, 1)"
   ]
  },
  {
   "cell_type": "markdown",
   "metadata": {},
   "source": [
    "# END."
   ]
  },
  {
   "cell_type": "code",
   "execution_count": 42,
   "metadata": {},
   "outputs": [],
   "source": [
    "test = spark.read.parquet('/data/attributes/vf_es/model_outputs/model_scores/model_name=service_base_segmentation/year=2020/month=5/day=0')"
   ]
  },
  {
   "cell_type": "code",
   "execution_count": 43,
   "metadata": {},
   "outputs": [],
   "source": [
    "test_pandas = test.limit(20).toPandas()"
   ]
  },
  {
   "cell_type": "code",
   "execution_count": 44,
   "metadata": {},
   "outputs": [
    {
     "data": {
      "text/html": [
       "<div>\n",
       "<style scoped>\n",
       "    .dataframe tbody tr th:only-of-type {\n",
       "        vertical-align: middle;\n",
       "    }\n",
       "\n",
       "    .dataframe tbody tr th {\n",
       "        vertical-align: top;\n",
       "    }\n",
       "\n",
       "    .dataframe thead th {\n",
       "        text-align: right;\n",
       "    }\n",
       "</style>\n",
       "<table border=\"1\" class=\"dataframe\">\n",
       "  <thead>\n",
       "    <tr style=\"text-align: right;\">\n",
       "      <th></th>\n",
       "      <th>executed_at</th>\n",
       "      <th>model_executed_at</th>\n",
       "      <th>predict_closing_date</th>\n",
       "      <th>msisdn</th>\n",
       "      <th>client_id</th>\n",
       "      <th>nif</th>\n",
       "      <th>model_output</th>\n",
       "      <th>scoring</th>\n",
       "      <th>prediction</th>\n",
       "      <th>extra_info</th>\n",
       "      <th>time</th>\n",
       "    </tr>\n",
       "  </thead>\n",
       "  <tbody>\n",
       "    <tr>\n",
       "      <th>0</th>\n",
       "      <td>2020-05-08 16:53:37</td>\n",
       "      <td>2020-05-08 16:53:37</td>\n",
       "      <td>20200430</td>\n",
       "      <td>600009853</td>\n",
       "      <td>None</td>\n",
       "      <td>None</td>\n",
       "      <td>Regular</td>\n",
       "      <td>nan</td>\n",
       "      <td>1</td>\n",
       "      <td>{ Youtube_data_mb: 2680.331262588501; Youtube_...</td>\n",
       "      <td>165337</td>\n",
       "    </tr>\n",
       "    <tr>\n",
       "      <th>1</th>\n",
       "      <td>2020-05-08 16:53:37</td>\n",
       "      <td>2020-05-08 16:53:37</td>\n",
       "      <td>20200430</td>\n",
       "      <td>600011304</td>\n",
       "      <td>None</td>\n",
       "      <td>None</td>\n",
       "      <td>Heavy Social</td>\n",
       "      <td>nan</td>\n",
       "      <td>0</td>\n",
       "      <td>{ Youtube_data_mb: 1.6828432083129883; Youtube...</td>\n",
       "      <td>165337</td>\n",
       "    </tr>\n",
       "    <tr>\n",
       "      <th>2</th>\n",
       "      <td>2020-05-08 16:53:37</td>\n",
       "      <td>2020-05-08 16:53:37</td>\n",
       "      <td>20200430</td>\n",
       "      <td>600014226</td>\n",
       "      <td>None</td>\n",
       "      <td>None</td>\n",
       "      <td>Heavy Social</td>\n",
       "      <td>nan</td>\n",
       "      <td>0</td>\n",
       "      <td>{ Youtube_data_mb: 7.648468017578125E-4; Youtu...</td>\n",
       "      <td>165337</td>\n",
       "    </tr>\n",
       "    <tr>\n",
       "      <th>3</th>\n",
       "      <td>2020-05-08 16:53:37</td>\n",
       "      <td>2020-05-08 16:53:37</td>\n",
       "      <td>20200430</td>\n",
       "      <td>600016724</td>\n",
       "      <td>None</td>\n",
       "      <td>None</td>\n",
       "      <td>Heavy Social</td>\n",
       "      <td>nan</td>\n",
       "      <td>0</td>\n",
       "      <td>{ Youtube_data_mb: 6.542178153991699; Youtube_...</td>\n",
       "      <td>165337</td>\n",
       "    </tr>\n",
       "    <tr>\n",
       "      <th>4</th>\n",
       "      <td>2020-05-08 16:53:37</td>\n",
       "      <td>2020-05-08 16:53:37</td>\n",
       "      <td>20200430</td>\n",
       "      <td>600020405</td>\n",
       "      <td>None</td>\n",
       "      <td>None</td>\n",
       "      <td>Low Usage</td>\n",
       "      <td>nan</td>\n",
       "      <td>3</td>\n",
       "      <td>{ Youtube_data_mb: 1080.9922704696655; Youtube...</td>\n",
       "      <td>165337</td>\n",
       "    </tr>\n",
       "    <tr>\n",
       "      <th>5</th>\n",
       "      <td>2020-05-08 16:53:37</td>\n",
       "      <td>2020-05-08 16:53:37</td>\n",
       "      <td>20200430</td>\n",
       "      <td>600085749</td>\n",
       "      <td>None</td>\n",
       "      <td>None</td>\n",
       "      <td>Low Usage</td>\n",
       "      <td>nan</td>\n",
       "      <td>3</td>\n",
       "      <td>{ Youtube_data_mb: 15.69263744354248; Youtube_...</td>\n",
       "      <td>165337</td>\n",
       "    </tr>\n",
       "    <tr>\n",
       "      <th>6</th>\n",
       "      <td>2020-05-08 16:53:37</td>\n",
       "      <td>2020-05-08 16:53:37</td>\n",
       "      <td>20200430</td>\n",
       "      <td>600095998</td>\n",
       "      <td>None</td>\n",
       "      <td>None</td>\n",
       "      <td>Regular</td>\n",
       "      <td>nan</td>\n",
       "      <td>1</td>\n",
       "      <td>{ Youtube_data_mb: 10493.102875709534; Youtube...</td>\n",
       "      <td>165337</td>\n",
       "    </tr>\n",
       "    <tr>\n",
       "      <th>7</th>\n",
       "      <td>2020-05-08 16:53:37</td>\n",
       "      <td>2020-05-08 16:53:37</td>\n",
       "      <td>20200430</td>\n",
       "      <td>600122370</td>\n",
       "      <td>None</td>\n",
       "      <td>None</td>\n",
       "      <td>Low Usage</td>\n",
       "      <td>nan</td>\n",
       "      <td>3</td>\n",
       "      <td>{ Youtube_data_mb: 17.979413986206055; Youtube...</td>\n",
       "      <td>165337</td>\n",
       "    </tr>\n",
       "    <tr>\n",
       "      <th>8</th>\n",
       "      <td>2020-05-08 16:53:37</td>\n",
       "      <td>2020-05-08 16:53:37</td>\n",
       "      <td>20200430</td>\n",
       "      <td>600132256</td>\n",
       "      <td>None</td>\n",
       "      <td>None</td>\n",
       "      <td>Low Usage</td>\n",
       "      <td>nan</td>\n",
       "      <td>3</td>\n",
       "      <td>{ Youtube_data_mb: 585.1153955459595; Youtube_...</td>\n",
       "      <td>165337</td>\n",
       "    </tr>\n",
       "    <tr>\n",
       "      <th>9</th>\n",
       "      <td>2020-05-08 16:53:37</td>\n",
       "      <td>2020-05-08 16:53:37</td>\n",
       "      <td>20200430</td>\n",
       "      <td>600132730</td>\n",
       "      <td>None</td>\n",
       "      <td>None</td>\n",
       "      <td>Heavy Social</td>\n",
       "      <td>nan</td>\n",
       "      <td>0</td>\n",
       "      <td>{ Youtube_data_mb: 1.1074714660644531; Youtube...</td>\n",
       "      <td>165337</td>\n",
       "    </tr>\n",
       "    <tr>\n",
       "      <th>10</th>\n",
       "      <td>2020-05-08 16:53:37</td>\n",
       "      <td>2020-05-08 16:53:37</td>\n",
       "      <td>20200430</td>\n",
       "      <td>600142093</td>\n",
       "      <td>None</td>\n",
       "      <td>None</td>\n",
       "      <td>Low Usage</td>\n",
       "      <td>nan</td>\n",
       "      <td>3</td>\n",
       "      <td>{ Youtube_data_mb: 165.38821125030518; Youtube...</td>\n",
       "      <td>165337</td>\n",
       "    </tr>\n",
       "    <tr>\n",
       "      <th>11</th>\n",
       "      <td>2020-05-08 16:53:37</td>\n",
       "      <td>2020-05-08 16:53:37</td>\n",
       "      <td>20200430</td>\n",
       "      <td>600163426</td>\n",
       "      <td>None</td>\n",
       "      <td>None</td>\n",
       "      <td>Low Usage</td>\n",
       "      <td>nan</td>\n",
       "      <td>3</td>\n",
       "      <td>{ Youtube_data_mb: 196.490403175354; Youtube_d...</td>\n",
       "      <td>165337</td>\n",
       "    </tr>\n",
       "    <tr>\n",
       "      <th>12</th>\n",
       "      <td>2020-05-08 16:53:37</td>\n",
       "      <td>2020-05-08 16:53:37</td>\n",
       "      <td>20200430</td>\n",
       "      <td>600187654</td>\n",
       "      <td>None</td>\n",
       "      <td>None</td>\n",
       "      <td>Heavy Social</td>\n",
       "      <td>nan</td>\n",
       "      <td>0</td>\n",
       "      <td>{ Youtube_data_mb: 0.0; Youtube_days: 0; Insta...</td>\n",
       "      <td>165337</td>\n",
       "    </tr>\n",
       "    <tr>\n",
       "      <th>13</th>\n",
       "      <td>2020-05-08 16:53:37</td>\n",
       "      <td>2020-05-08 16:53:37</td>\n",
       "      <td>20200430</td>\n",
       "      <td>600216103</td>\n",
       "      <td>None</td>\n",
       "      <td>None</td>\n",
       "      <td>Low Usage</td>\n",
       "      <td>nan</td>\n",
       "      <td>3</td>\n",
       "      <td>{ Youtube_data_mb: 188.23863697052002; Youtube...</td>\n",
       "      <td>165337</td>\n",
       "    </tr>\n",
       "    <tr>\n",
       "      <th>14</th>\n",
       "      <td>2020-05-08 16:53:37</td>\n",
       "      <td>2020-05-08 16:53:37</td>\n",
       "      <td>20200430</td>\n",
       "      <td>600218293</td>\n",
       "      <td>None</td>\n",
       "      <td>None</td>\n",
       "      <td>Heavy Social</td>\n",
       "      <td>nan</td>\n",
       "      <td>0</td>\n",
       "      <td>{ Youtube_data_mb: 474.24494552612305; Youtube...</td>\n",
       "      <td>165337</td>\n",
       "    </tr>\n",
       "    <tr>\n",
       "      <th>15</th>\n",
       "      <td>2020-05-08 16:53:37</td>\n",
       "      <td>2020-05-08 16:53:37</td>\n",
       "      <td>20200430</td>\n",
       "      <td>600224942</td>\n",
       "      <td>None</td>\n",
       "      <td>None</td>\n",
       "      <td>Heavy Social</td>\n",
       "      <td>nan</td>\n",
       "      <td>0</td>\n",
       "      <td>{ Youtube_data_mb: 0.0; Youtube_days: 0; Insta...</td>\n",
       "      <td>165337</td>\n",
       "    </tr>\n",
       "    <tr>\n",
       "      <th>16</th>\n",
       "      <td>2020-05-08 16:53:37</td>\n",
       "      <td>2020-05-08 16:53:37</td>\n",
       "      <td>20200430</td>\n",
       "      <td>600244558</td>\n",
       "      <td>None</td>\n",
       "      <td>None</td>\n",
       "      <td>Heavy Social</td>\n",
       "      <td>nan</td>\n",
       "      <td>0</td>\n",
       "      <td>{ Youtube_data_mb: 10.605256080627441; Youtube...</td>\n",
       "      <td>165337</td>\n",
       "    </tr>\n",
       "    <tr>\n",
       "      <th>17</th>\n",
       "      <td>2020-05-08 16:53:37</td>\n",
       "      <td>2020-05-08 16:53:37</td>\n",
       "      <td>20200430</td>\n",
       "      <td>600245131</td>\n",
       "      <td>None</td>\n",
       "      <td>None</td>\n",
       "      <td>Heavy Social</td>\n",
       "      <td>nan</td>\n",
       "      <td>0</td>\n",
       "      <td>{ Youtube_data_mb: 0.22053050994873047; Youtub...</td>\n",
       "      <td>165337</td>\n",
       "    </tr>\n",
       "    <tr>\n",
       "      <th>18</th>\n",
       "      <td>2020-05-08 16:53:37</td>\n",
       "      <td>2020-05-08 16:53:37</td>\n",
       "      <td>20200430</td>\n",
       "      <td>600292274</td>\n",
       "      <td>None</td>\n",
       "      <td>None</td>\n",
       "      <td>Heavy Social</td>\n",
       "      <td>nan</td>\n",
       "      <td>0</td>\n",
       "      <td>{ Youtube_data_mb: 19.980833053588867; Youtube...</td>\n",
       "      <td>165337</td>\n",
       "    </tr>\n",
       "    <tr>\n",
       "      <th>19</th>\n",
       "      <td>2020-05-08 16:53:37</td>\n",
       "      <td>2020-05-08 16:53:37</td>\n",
       "      <td>20200430</td>\n",
       "      <td>600300898</td>\n",
       "      <td>None</td>\n",
       "      <td>None</td>\n",
       "      <td>Heavy Social</td>\n",
       "      <td>nan</td>\n",
       "      <td>0</td>\n",
       "      <td>{ Youtube_data_mb: 0.0; Youtube_days: 0; Insta...</td>\n",
       "      <td>165337</td>\n",
       "    </tr>\n",
       "  </tbody>\n",
       "</table>\n",
       "</div>"
      ],
      "text/plain": [
       "            executed_at    model_executed_at predict_closing_date     msisdn  \\\n",
       "0   2020-05-08 16:53:37  2020-05-08 16:53:37             20200430  600009853   \n",
       "1   2020-05-08 16:53:37  2020-05-08 16:53:37             20200430  600011304   \n",
       "2   2020-05-08 16:53:37  2020-05-08 16:53:37             20200430  600014226   \n",
       "3   2020-05-08 16:53:37  2020-05-08 16:53:37             20200430  600016724   \n",
       "4   2020-05-08 16:53:37  2020-05-08 16:53:37             20200430  600020405   \n",
       "5   2020-05-08 16:53:37  2020-05-08 16:53:37             20200430  600085749   \n",
       "6   2020-05-08 16:53:37  2020-05-08 16:53:37             20200430  600095998   \n",
       "7   2020-05-08 16:53:37  2020-05-08 16:53:37             20200430  600122370   \n",
       "8   2020-05-08 16:53:37  2020-05-08 16:53:37             20200430  600132256   \n",
       "9   2020-05-08 16:53:37  2020-05-08 16:53:37             20200430  600132730   \n",
       "10  2020-05-08 16:53:37  2020-05-08 16:53:37             20200430  600142093   \n",
       "11  2020-05-08 16:53:37  2020-05-08 16:53:37             20200430  600163426   \n",
       "12  2020-05-08 16:53:37  2020-05-08 16:53:37             20200430  600187654   \n",
       "13  2020-05-08 16:53:37  2020-05-08 16:53:37             20200430  600216103   \n",
       "14  2020-05-08 16:53:37  2020-05-08 16:53:37             20200430  600218293   \n",
       "15  2020-05-08 16:53:37  2020-05-08 16:53:37             20200430  600224942   \n",
       "16  2020-05-08 16:53:37  2020-05-08 16:53:37             20200430  600244558   \n",
       "17  2020-05-08 16:53:37  2020-05-08 16:53:37             20200430  600245131   \n",
       "18  2020-05-08 16:53:37  2020-05-08 16:53:37             20200430  600292274   \n",
       "19  2020-05-08 16:53:37  2020-05-08 16:53:37             20200430  600300898   \n",
       "\n",
       "   client_id   nif  model_output  scoring prediction  \\\n",
       "0       None  None       Regular      nan          1   \n",
       "1       None  None  Heavy Social      nan          0   \n",
       "2       None  None  Heavy Social      nan          0   \n",
       "3       None  None  Heavy Social      nan          0   \n",
       "4       None  None     Low Usage      nan          3   \n",
       "5       None  None     Low Usage      nan          3   \n",
       "6       None  None       Regular      nan          1   \n",
       "7       None  None     Low Usage      nan          3   \n",
       "8       None  None     Low Usage      nan          3   \n",
       "9       None  None  Heavy Social      nan          0   \n",
       "10      None  None     Low Usage      nan          3   \n",
       "11      None  None     Low Usage      nan          3   \n",
       "12      None  None  Heavy Social      nan          0   \n",
       "13      None  None     Low Usage      nan          3   \n",
       "14      None  None  Heavy Social      nan          0   \n",
       "15      None  None  Heavy Social      nan          0   \n",
       "16      None  None  Heavy Social      nan          0   \n",
       "17      None  None  Heavy Social      nan          0   \n",
       "18      None  None  Heavy Social      nan          0   \n",
       "19      None  None  Heavy Social      nan          0   \n",
       "\n",
       "                                           extra_info    time  \n",
       "0   { Youtube_data_mb: 2680.331262588501; Youtube_...  165337  \n",
       "1   { Youtube_data_mb: 1.6828432083129883; Youtube...  165337  \n",
       "2   { Youtube_data_mb: 7.648468017578125E-4; Youtu...  165337  \n",
       "3   { Youtube_data_mb: 6.542178153991699; Youtube_...  165337  \n",
       "4   { Youtube_data_mb: 1080.9922704696655; Youtube...  165337  \n",
       "5   { Youtube_data_mb: 15.69263744354248; Youtube_...  165337  \n",
       "6   { Youtube_data_mb: 10493.102875709534; Youtube...  165337  \n",
       "7   { Youtube_data_mb: 17.979413986206055; Youtube...  165337  \n",
       "8   { Youtube_data_mb: 585.1153955459595; Youtube_...  165337  \n",
       "9   { Youtube_data_mb: 1.1074714660644531; Youtube...  165337  \n",
       "10  { Youtube_data_mb: 165.38821125030518; Youtube...  165337  \n",
       "11  { Youtube_data_mb: 196.490403175354; Youtube_d...  165337  \n",
       "12  { Youtube_data_mb: 0.0; Youtube_days: 0; Insta...  165337  \n",
       "13  { Youtube_data_mb: 188.23863697052002; Youtube...  165337  \n",
       "14  { Youtube_data_mb: 474.24494552612305; Youtube...  165337  \n",
       "15  { Youtube_data_mb: 0.0; Youtube_days: 0; Insta...  165337  \n",
       "16  { Youtube_data_mb: 10.605256080627441; Youtube...  165337  \n",
       "17  { Youtube_data_mb: 0.22053050994873047; Youtub...  165337  \n",
       "18  { Youtube_data_mb: 19.980833053588867; Youtube...  165337  \n",
       "19  { Youtube_data_mb: 0.0; Youtube_days: 0; Insta...  165337  "
      ]
     },
     "execution_count": 44,
     "metadata": {},
     "output_type": "execute_result"
    }
   ],
   "source": [
    "test_pandas"
   ]
  },
  {
   "cell_type": "code",
   "execution_count": 45,
   "metadata": {},
   "outputs": [],
   "source": [
    "test_pandas.to_csv('sample_service_base_segmentation.csv', sep = ';', index = False)"
   ]
  },
  {
   "cell_type": "code",
   "execution_count": null,
   "metadata": {},
   "outputs": [],
   "source": []
  },
  {
   "cell_type": "code",
   "execution_count": 46,
   "metadata": {},
   "outputs": [],
   "source": [
    "spark.stop()"
   ]
  },
  {
   "cell_type": "code",
   "execution_count": null,
   "metadata": {},
   "outputs": [],
   "source": []
  }
 ],
 "metadata": {
  "kernelspec": {
   "display_name": "Python 2",
   "language": "python",
   "name": "python2"
  },
  "language_info": {
   "codemirror_mode": {
    "name": "ipython",
    "version": 2
   },
   "file_extension": ".py",
   "mimetype": "text/x-python",
   "name": "python",
   "nbconvert_exporter": "python",
   "pygments_lexer": "ipython2",
   "version": "2.7.11"
  }
 },
 "nbformat": 4,
 "nbformat_minor": 2
}
