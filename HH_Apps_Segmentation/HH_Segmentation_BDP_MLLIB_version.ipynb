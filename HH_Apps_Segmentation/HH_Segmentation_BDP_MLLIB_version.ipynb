{
 "cells": [
  {
   "cell_type": "markdown",
   "metadata": {},
   "source": [
    "# Household Segmentation\n",
    "\n",
    "Moving Household Segmentation to BDP environment.\n",
    "\n",
    "General Model Trainer used for modeling. For more info, please refer to:\n",
    "    https://gitlab.rat.bdp.vodafone.com/bda-es/use-cases/blob/master/utils/src/main/python/general_model_trainer/general_model_trainer.py"
   ]
  },
  {
   "cell_type": "code",
   "execution_count": 1,
   "metadata": {},
   "outputs": [
    {
     "data": {
      "text/html": [
       "<style>.container { width:100% !important; }</style>"
      ],
      "text/plain": [
       "<IPython.core.display.HTML object>"
      ]
     },
     "metadata": {},
     "output_type": "display_data"
    }
   ],
   "source": [
    "from IPython.core.display import display, HTML\n",
    "display(HTML(\"<style>.container { width:100% !important; }</style>\"))"
   ]
  },
  {
   "cell_type": "code",
   "execution_count": 1,
   "metadata": {},
   "outputs": [],
   "source": [
    "from common.src.main.python.utils.hdfs_generic import *\n",
    "import os\n",
    "MAX_N_EXECUTORS=20\n",
    "\n",
    "MIN_N_EXECUTORS=2\n",
    "N_CORES_EXECUTOR=4\n",
    "EXECUTOR_IDLE_MAX_TIME=120\n",
    "EXECUTOR_MEMORY='16g'\n",
    "DRIVER_MEMORY='16g'\n",
    "N_CORES_DRIVER=1\n",
    "MEMORY_OVERHEAD=N_CORES_EXECUTOR*2048\n",
    "QUEUE=\"root.BDPtenants.es.medium\"\n",
    "BDA_CORE_VERSION=\"1.0.0\"\n",
    "\n",
    "SPARK_COMMON_OPTS=os.environ.get('SPARK_COMMON_OPTS', '')\n",
    "SPARK_COMMON_OPTS+=\" --executor-memory %s --driver-memory %s\" % (EXECUTOR_MEMORY, DRIVER_MEMORY)\n",
    "SPARK_COMMON_OPTS+=\" --conf spark.shuffle.manager=tungsten-sort\"\n",
    "SPARK_COMMON_OPTS+=\"  --queue %s\" % QUEUE\n",
    "app_name='HH_segmentation_Child'\n",
    "SPARK_COMMON_OPTS += \" --conf spark.app.name='%s'\" % (app_name)\n",
    "\n",
    "\n",
    "# Dynamic allocation configuration\n",
    "SPARK_COMMON_OPTS+=\" --conf spark.dynamicAllocation.enabled=true\"\n",
    "SPARK_COMMON_OPTS+=\" --conf spark.port.maxRetries=500\"\n",
    "SPARK_COMMON_OPTS+=\" --conf spark.shuffle.service.enabled=true\"\n",
    "SPARK_COMMON_OPTS+=\" --conf spark.dynamicAllocation.maxExecutors=%s\" % (MAX_N_EXECUTORS)\n",
    "SPARK_COMMON_OPTS+=\" --conf spark.dynamicAllocation.minExecutors=%s\" % (MIN_N_EXECUTORS)\n",
    "SPARK_COMMON_OPTS+=\" --conf spark.dynamicAllocation.executorIdleTimeout=%s\" % (EXECUTOR_IDLE_MAX_TIME)\n",
    "\n",
    "\n",
    "\n",
    "\n",
    "BDA_ENV = os.environ.get('BDA_USER_HOME', '')\n",
    "\n",
    "\n",
    "#opciones jmarcoso\n",
    "SPARK_COMMON_OPTS+=\" --conf spark.dynamicAllocation.initialExecutors=10\"\n",
    "SPARK_COMMON_OPTS+=\" --conf spark.yarn.am.waitTime=800000s\"\n",
    "SPARK_COMMON_OPTS+=\" --conf spark.network.timeout=10000001\"\n",
    "SPARK_COMMON_OPTS+=\" --conf spark.executor.heartbeatInterval=10000000\"\n",
    "SPARK_COMMON_OPTS+=\" --conf spark.executor.cores=4\"\n",
    "SPARK_COMMON_OPTS+=\" --conf spark.port.maxRetries=500\"\n",
    "#SPARK_COMMON_OPTS+=\" --conf spark.sql.shuffle.partitions=1000\"\n",
    "\n",
    "\n",
    "\n",
    "\n",
    "\n",
    "# Attach bda-core-ra codebase\n",
    "# SPARK_COMMON_OPTS+=\" --files \\\n",
    "# {}/scripts/properties/red_agent/nodes.properties,\\\n",
    "# {}/scripts/properties/red_agent/nodes-de.properties,\\\n",
    "# {}/scripts/properties/red_agent/nodes-es.properties,\\\n",
    "# {}/scripts/properties/red_agent/nodes-ie.properties,\\\n",
    "# {}/scripts/properties/red_agent/nodes-it.properties,\\\n",
    "# {}/scripts/properties/red_agent/nodes-pt.properties,\\\n",
    "# {}/scripts/properties/red_agent/nodes-uk.properties\".format(*[BDA_ENV]*7)\n",
    "\n",
    "os.environ[\"SPARK_COMMON_OPTS\"] = SPARK_COMMON_OPTS\n",
    "os.environ[\"PYSPARK_SUBMIT_ARGS\"] = \"%s pyspark-shell \" % SPARK_COMMON_OPTS\n",
    "\n",
    "#print os.environ.get('SPARK_COMMON_OPTS', '')\n",
    "#print os.environ.get('PYSPARK_SUBMIT_ARGS', '')\n",
    "\n",
    "sc, sparkSession, sqlContext = run_sc()"
   ]
  },
  {
   "cell_type": "code",
   "execution_count": 2,
   "metadata": {},
   "outputs": [],
   "source": [
    "# This literal_eval is needed since \n",
    "# we have to read from a textfile\n",
    "# which is formatted as python objects.\n",
    "# It is totally safe.\n",
    "from ast import literal_eval\n",
    "\n",
    "# Standard Library stuff:\n",
    "from functools import partial\n",
    "from datetime import date, timedelta, datetime\n",
    "\n",
    "# Numpy stuff\n",
    "from numpy import (nan as np_nan, round as np_round, int64 as np_int64)\n",
    "import numpy as np\n",
    "\n",
    "\n",
    "# Spark stuff\n",
    "from pyspark.sql import SparkSession\n",
    "from pyspark import StorageLevel\n",
    "from pyspark.sql.functions import (udf, col, decode, when, lit, lower, upper, concat,\n",
    "                                   translate, count, sum as sql_sum, max as sql_max, min as sql_min,\n",
    "                                   round, \n",
    "                                   mean, stddev, datediff,\n",
    "                                   length,\n",
    "                                   countDistinct,\n",
    "                                   hour, date_format, collect_set, collect_list,\n",
    "                                   year, month, dayofmonth,\n",
    "                                   rank, expr, lag, coalesce, row_number,\n",
    "                                   isnull, isnan,\n",
    "                                   unix_timestamp,\n",
    "                                   regexp_replace\n",
    "                                  )\n",
    "from pyspark.sql.types import DoubleType, StringType, IntegerType, ArrayType, FloatType\n",
    "\n",
    "from pyspark.ml import Pipeline\n",
    "\n",
    "from pyspark.sql import DataFrameStatFunctions as statFunc\n",
    "\n",
    "from pyspark.sql.window import Window\n",
    "\n",
    "import json\n",
    "from collections import OrderedDict\n",
    "\n",
    "from subprocess import Popen, PIPE\n",
    "import datetime, calendar\n",
    "\n",
    "from pyspark.ml.feature import StandardScaler\n"
   ]
  },
  {
   "cell_type": "code",
   "execution_count": 3,
   "metadata": {},
   "outputs": [],
   "source": [
    "from common.src.main.python.utils.hdfs_generic import *\n",
    "from pyspark.sql.functions import  (sum as sql_sum, countDistinct, trim, round as sql_round\n",
    "                                    ,max as f_max, min as sql_min , split,desc, col, current_date\n",
    "                                    , datediff, lit, translate, udf\n",
    "                                    , when, concat_ws, concat, decode, length\n",
    "                                    , substring, to_date, regexp_replace, lpad\n",
    "                                    , hour, date_format\n",
    "                                   , expr, coalesce,  year, month, minute\n",
    "                                    ,count, dayofmonth, conv, upper)\n",
    "from pyspark.sql.window import Window\n",
    "import pyspark.sql.functions as func\n",
    "import datetime, time\n",
    "\n",
    "\n",
    "\n",
    "import matplotlib\n",
    "import numpy as np\n",
    "import matplotlib.pyplot as plt\n",
    "%matplotlib inline"
   ]
  },
  {
   "cell_type": "code",
   "execution_count": 4,
   "metadata": {},
   "outputs": [],
   "source": [
    "spark = (SparkSession.builder\n",
    "         #.appName(\"AMDOCS Mobile Base Age Regressor\")\n",
    "         .master(\"yarn\")\n",
    "         .config(\"spark.submit.deployMode\", \"client\")\n",
    "         .config(\"spark.ui.showConsoleProgress\", \"true\")\n",
    "         .enableHiveSupport()\n",
    "         .getOrCreate()\n",
    "         )"
   ]
  },
  {
   "cell_type": "code",
   "execution_count": 5,
   "metadata": {},
   "outputs": [],
   "source": [
    "import time\n",
    "start_time = time.time()\n",
    "today = date.today().day"
   ]
  },
  {
   "cell_type": "markdown",
   "metadata": {},
   "source": [
    "# Function to a get a full AMDOCS IDS"
   ]
  },
  {
   "cell_type": "code",
   "execution_count": 18,
   "metadata": {},
   "outputs": [],
   "source": [
    "def saveDF(path, df, partitions):\n",
    "    print('[' + time.ctime() + '] ' + 'Saving started in: ' + path)\n",
    "    df.repartition(partitions).write.mode('append').format('parquet').save(path)\n",
    "    print('[' + time.ctime() + '] ' + 'Saving finished!')\n",
    "    \n",
    "def sum_horizontal(cols_list):\n",
    "    return reduce(lambda x, y: x + y, [col(c) for c in cols_list])\n",
    "\n",
    "def amdocs_ids_main_join_modules(spark, ClosingDay):\n",
    "    print('[' + time.ctime() + '] ' +'AMDOCS Informational Dataset join started ...')\n",
    "\n",
    "    #ClosingDay_date=datetime.date(int(ClosingDay[:4]),int(ClosingDay[4:6]),int(ClosingDay[6:8 ]))\n",
    "    hdfs_partition_path = 'year=' + str(int(ClosingDay[:4])) + '/month=' + str(int(ClosingDay[4:6])) + '/day=' + str(int(ClosingDay[6:8]))\n",
    "     \n",
    "    # BASIC PATH:\n",
    "    #- Old Version (without data preparation):\n",
    "    #hdfs_write_path_common = '/data/udf/vf_es/amdocs_ids/'\n",
    "    #- New Version (with data preparation):\n",
    "    hdfs_write_path_common = '/data/udf/vf_es/amdocs_ids/' \n",
    "     \n",
    "    path_customer = hdfs_write_path_common +'customer/'+hdfs_partition_path\n",
    "    path_service = hdfs_write_path_common +'service/'+hdfs_partition_path\n",
    "    path_customer_agg = hdfs_write_path_common +'customer_agg/'+hdfs_partition_path\n",
    "    path_voiceusage = hdfs_write_path_common +'usage_geneva_voice/'+hdfs_partition_path\n",
    "    path_datausage = hdfs_write_path_common +'usage_geneva_data/'+hdfs_partition_path\n",
    "    path_billing = hdfs_write_path_common +'billing/'+hdfs_partition_path\n",
    "    path_campaignscustomer = hdfs_write_path_common +'campaigns_customer/'+hdfs_partition_path\n",
    "    path_campaignsservice = hdfs_write_path_common +'campaigns_service/'+hdfs_partition_path\n",
    "    #path_roamvoice = hdfs_write_path_common +'usage_geneva_roam_voice/'+hdfs_partition_path !!JOIN WITH IMSI\n",
    "    path_roamdata = hdfs_write_path_common +'usage_geneva_roam_data/'+hdfs_partition_path\n",
    "    path_orders_hist = hdfs_write_path_common +'orders/'+hdfs_partition_path\n",
    "    path_orders_agg = hdfs_write_path_common +'orders_agg/'+hdfs_partition_path\n",
    "    path_penal_cust = hdfs_write_path_common +'penalties_customer/'+hdfs_partition_path\n",
    "    path_penal_srv = hdfs_write_path_common +'penalties_service/'+hdfs_partition_path\n",
    "    path_devices = hdfs_write_path_common +'device_catalogue/'+hdfs_partition_path\n",
    "    path_ccc = hdfs_write_path_common +'call_centre_calls/'+hdfs_partition_path\n",
    "    path_tnps = hdfs_write_path_common +'tnps/'+hdfs_partition_path\n",
    "    path_perms_and_prefs = hdfs_write_path_common +'perms_and_prefs/'+hdfs_partition_path\n",
    "    #NEW!! Netscout apps\n",
    "    path_netscout_apps = hdfs_write_path_common +'netscout_apps/'+hdfs_partition_path\n",
    "    #NEW!! Voice Usage Type\n",
    "    path_voice_usage_type='/data/udf/vf_es/amdocs_inf_dataset_8fdae181/usage_geneva_voice_type/'+hdfs_partition_path\n",
    "\n",
    "\n",
    "    path_amdocs_ids_service_level_save = hdfs_write_path_common +'all_amdocs_inf_dataset/'+hdfs_partition_path\n",
    "     \n",
    "    # Load HDFS files\n",
    "    customerDF_load = (spark.read.load(path_customer))\n",
    "    serviceDF_load = (spark.read.load(path_service))\n",
    "    customerAggDF_load = (spark.read.load(path_customer_agg))\n",
    "    voiceUsageDF_load = (spark.read.load(path_voiceusage))\n",
    "    dataUsageDF_load = (spark.read.load(path_datausage))\n",
    "    billingDF_load = (spark.read.load(path_billing))\n",
    "    customerCampaignsDF_load = (spark.read.load(path_campaignscustomer))\n",
    "    serviceCampaignsDF_load = (spark.read.load(path_campaignsservice))\n",
    "    #RoamVoiceUsageDF_load = (spark.read.load(path_roamvoice))\n",
    "    #RoamDataUsageDF_load = (spark.read.load(path_roamdata))\n",
    "    customer_orders_hist_load = (spark.read.load(path_orders_hist))\n",
    "    customer_orders_agg_load = (spark.read.load(path_orders_agg))\n",
    "    penalties_cust_level_df_load = (spark.read.load(path_penal_cust))\n",
    "    penalties_serv_level_df_load = (spark.read.load(path_penal_srv))\n",
    "    devices_srv_df_load = (spark.read.load(path_devices))\n",
    "    df_ccc_load = (spark.read.load(path_ccc))\n",
    "    df_tnps_load = (spark.read.load(path_tnps))\n",
    "    df_perms_and_prefs=(spark.read.load(path_perms_and_prefs))\n",
    "    #NEW!! Netscout apps\n",
    "    df_netscout_apps=(spark.read.load(path_netscout_apps))\n",
    "    df_voiceusage_type=(spark.read.load(path_voice_usage_type))\n",
    "     \n",
    "    # JOIN\n",
    "    df_amdocs_ids_service_level=(customerDF_load\n",
    "        .join(serviceDF_load, 'NUM_CLIENTE', 'inner')\n",
    "        .join(customerAggDF_load, 'NUM_CLIENTE', 'inner')\n",
    "        .join(voiceUsageDF_load, (col('msisdn') == col('id_msisdn')), 'leftouter')\n",
    "        .drop('id_msisdn')\n",
    "        .join(dataUsageDF_load, (col('msisdn')==col('id_msisdn_data')), 'leftouter')\n",
    "        .join(df_netscout_apps, 'msisdn', 'leftouter')\n",
    "        .join(billingDF_load, col('customeraccount') == customerDF_load.NUM_CLIENTE, 'leftouter')\n",
    "        .join(df_voiceusage_type, (col('msisdn') == col('id_msisdn')), 'leftouter')\n",
    "        #-.join(customerCampaignsDF_load, col('nif_cliente')==col('cif_nif'), 'leftouter')\n",
    "        #-.join(serviceCampaignsDF_load, 'msisdn', 'leftouter')\n",
    "        #.join(RoamVoiceUsageDF_load, (col('msisdn')==col('id_msisdn_voice_roam')), 'leftouter') NEEDED IMSI FOR JOIN!!!!!!\n",
    "        #.join(RoamDataUsageDF_load, (col('msisdn')==col('id_msisdn_data_roam')), 'leftouter')\n",
    "        #-.join(customer_orders_hist_load, 'NUM_CLIENTE', 'leftouter')\n",
    "        #-.join(customer_orders_agg_load, 'NUM_CLIENTE', 'leftouter')\n",
    "        .join(penalties_cust_level_df_load,'NUM_CLIENTE','leftouter')\n",
    "        .join(penalties_serv_level_df_load, ['NUM_CLIENTE','Instancia_P'], 'leftouter')\n",
    "        .join(devices_srv_df_load, 'msisdn','leftouter')\n",
    "        .join(df_ccc_load, 'msisdn','leftouter')\n",
    "        #-.join(df_tnps_load, 'msisdn','leftouter')\n",
    "        #-.join(df_perms_and_prefs, customerDF_load.NUM_CLIENTE==df_perms_and_prefs.CUSTOMER_ID,'leftouter')\n",
    "        .drop(*['id_msisdn_data', 'id_msisdn', 'cif_nif', 'customeraccount','id_msisdn_data_roam','id_msisdn_voice_roam','rowNum'])\n",
    "        .withColumn('ClosingDay',lit(ClosingDay))\n",
    "        )\n",
    "    saveDF(path_amdocs_ids_service_level_save, df_amdocs_ids_service_level, 200)"
   ]
  },
  {
   "cell_type": "code",
   "execution_count": 19,
   "metadata": {},
   "outputs": [],
   "source": [
    "#amdocs_ids_main_join_modules(spark,'20190331')"
   ]
  },
  {
   "cell_type": "code",
   "execution_count": null,
   "metadata": {},
   "outputs": [],
   "source": []
  },
  {
   "cell_type": "markdown",
   "metadata": {},
   "source": [
    "# Init\n",
    "\n",
    "In a firts step we will be identifying customers with surveys information in order to define an available ground truth"
   ]
  },
  {
   "cell_type": "markdown",
   "metadata": {},
   "source": [
    "### AMDOCS IDS"
   ]
  },
  {
   "cell_type": "code",
   "execution_count": 215,
   "metadata": {},
   "outputs": [],
   "source": [
    "#ClosingDay='20190831'\n",
    "#hdfs_partition_path = 'year=' + str(int(ClosingDay[:4])) + '/month=' + str(int(ClosingDay[4:6])) + '/day=' + str(int(ClosingDay[6:8]))\n",
    "#path_ids_2='/data/udf/vf_es/amdocs_inf_dataset/amdocs_ids_service_level/'+hdfs_partition_path\n",
    "#amdocs_ids_load_2 = (spark.read.load(path_ids_2))"
   ]
  },
  {
   "cell_type": "code",
   "execution_count": 20,
   "metadata": {},
   "outputs": [],
   "source": [
    "HDFS_READ_COMMON = '/data/udf/vf_es/amdocs_ids/'\n",
    "#HDFS_READ_COMMON = '/user/bbergua/amdocs_inf_dataset/'\n",
    "PATH_READ_FULL = HDFS_READ_COMMON + 'service/'\n",
    "\n",
    "closing_day='20191031'\n",
    "\n",
    "hdfs_partition_path = 'year=' + str(int(closing_day[:4])) + '/month=' + str(int(closing_day[4:6])) + '/day=' + str(int(closing_day[6:8]))\n",
    "path_ids = PATH_READ_FULL + hdfs_partition_path\n",
    "dataframe_raw = (spark.read.load(path_ids))\n",
    "\n",
    "path_customer = HDFS_READ_COMMON +'customer/'+hdfs_partition_path\n",
    "path_netscout_apps = '/data/udf/vf_es/amdocs_ids/netscout_apps/'+hdfs_partition_path\n",
    "df_netscout_apps=(spark.read.load(path_netscout_apps))\n",
    "path_voiceusage = HDFS_READ_COMMON +'usage_geneva_voice/'+hdfs_partition_path\n",
    "path_datausage = HDFS_READ_COMMON +'usage_geneva_data/'+hdfs_partition_path\n",
    "path_billing = HDFS_READ_COMMON +'billing/'+hdfs_partition_path\n",
    "path_customer_agg = HDFS_READ_COMMON +'customer_agg/'+hdfs_partition_path\n",
    "path_devices = HDFS_READ_COMMON + 'device_catalogue/' + hdfs_partition_path\n",
    "\n",
    "customerDF_load = (spark.read.load(path_customer))\n",
    "voiceUsageDF_load = (spark.read.load(path_voiceusage))\n",
    "dataUsageDF_load = (spark.read.load(path_datausage))\n",
    "billingDF_load = (spark.read.load(path_billing))\n",
    "customerAgg_load = spark.read.load(path_customer_agg)\n",
    "devices = spark.read.load(path_devices)\n",
    "\n",
    "amdocs_ids_load = \\\n",
    "(dataframe_raw\n",
    " .join(customerDF_load, 'NUM_CLIENTE', 'inner')\n",
    " .join(df_netscout_apps, 'msisdn', 'leftouter')\n",
    " .join(voiceUsageDF_load, (col('msisdn') == col('id_msisdn')), 'leftouter')\n",
    " .join(dataUsageDF_load,(col('msisdn')==col('id_msisdn_data')), 'leftouter')\n",
    " .join(billingDF_load, col('NUM_CLIENTE') == col('customeraccount'), 'leftouter')\n",
    " .join(devices, on = 'msisdn', how = 'leftouter')\n",
    ")"
   ]
  },
  {
   "cell_type": "code",
   "execution_count": 21,
   "metadata": {},
   "outputs": [
    {
     "data": {
      "text/plain": [
       "[]"
      ]
     },
     "execution_count": 21,
     "metadata": {},
     "output_type": "execute_result"
    }
   ],
   "source": [
    "[cols for cols in amdocs_ids_load.columns if 'uz' in cols]"
   ]
  },
  {
   "cell_type": "code",
   "execution_count": 22,
   "metadata": {},
   "outputs": [],
   "source": [
    "amdocs_ids_load_analysis=(amdocs_ids_load\n",
    "                .withColumn('ident_gnv_voice',when(col('GNV_hour_0_W_MOU').isNull(),0)\n",
    "                                              .otherwise(1))\n",
    "                .withColumn('ident_gnv_data',when(col('GNV_hour_0_WE_Chat_Zero_Data_Volume_MB').isNull(),0)\n",
    "                                              .otherwise(1))\n",
    "                .withColumn('ident_netscout_apps',when(col('NS_APPS_ACCUWEATHER_data_mb').isNull(),0)\n",
    "                                              .otherwise(1))\n",
    "                .withColumn('ident_billing',when(col('Bill_N1_num_facturas').isNull(),0)\n",
    "                                              .otherwise(1))\n",
    "                #.withColumn('ident_gnv_voice_type',when(col('GNV_Type_Voice_BUZON_DE_VOZ_MOU').isNull(),0)\n",
    "                #                              .otherwise(1))\n",
    "                .where( (col('rgu').isin('mobile','prepaid')))\n",
    "                #.where(col('mobile_services_nc')>0)\n",
    "                #.where(col('estado_general')=='01')\n",
    "                #.where( (col('ident_netscout')==1)&(col('ident_gnv_data')==1)&(col('ident_gnv_voice')==1))     \n",
    "                     )"
   ]
  },
  {
   "cell_type": "code",
   "execution_count": 23,
   "metadata": {},
   "outputs": [],
   "source": [
    "# amdocs_ids_load_analysis.groupBy('Serv_rgu','ident_gnv_voice_type').count().orderBy('Serv_rgu','ident_gnv_voice_type').show()"
   ]
  },
  {
   "cell_type": "code",
   "execution_count": 24,
   "metadata": {},
   "outputs": [],
   "source": [
    "analysis_pandas=(amdocs_ids_load_analysis\n",
    "  .groupBy('RGU','ident_gnv_data','ident_gnv_voice','ident_netscout_apps','ident_billing')\n",
    "  .agg(countDistinct('msisdn').alias('servicios')\n",
    "      ,countDistinct('NUM_CLIENTE').alias('servicios')\n",
    "      ,count(lit(1)).alias('REGS'))\n",
    " .orderBy('ident_gnv_data','ident_gnv_voice','ident_netscout_apps','ident_billing')\n",
    "  ).toPandas()"
   ]
  },
  {
   "cell_type": "code",
   "execution_count": 14,
   "metadata": {},
   "outputs": [
    {
     "data": {
      "text/html": [
       "<div>\n",
       "<style scoped>\n",
       "    .dataframe tbody tr th:only-of-type {\n",
       "        vertical-align: middle;\n",
       "    }\n",
       "\n",
       "    .dataframe tbody tr th {\n",
       "        vertical-align: top;\n",
       "    }\n",
       "\n",
       "    .dataframe thead th {\n",
       "        text-align: right;\n",
       "    }\n",
       "</style>\n",
       "<table border=\"1\" class=\"dataframe\">\n",
       "  <thead>\n",
       "    <tr style=\"text-align: right;\">\n",
       "      <th></th>\n",
       "      <th>RGU</th>\n",
       "      <th>ident_gnv_data</th>\n",
       "      <th>ident_gnv_voice</th>\n",
       "      <th>ident_netscout_apps</th>\n",
       "      <th>ident_billing</th>\n",
       "      <th>servicios</th>\n",
       "      <th>servicios</th>\n",
       "      <th>REGS</th>\n",
       "    </tr>\n",
       "  </thead>\n",
       "  <tbody>\n",
       "    <tr>\n",
       "      <th>0</th>\n",
       "      <td>mobile</td>\n",
       "      <td>0</td>\n",
       "      <td>0</td>\n",
       "      <td>0</td>\n",
       "      <td>0</td>\n",
       "      <td>17857</td>\n",
       "      <td>15845</td>\n",
       "      <td>17857</td>\n",
       "    </tr>\n",
       "    <tr>\n",
       "      <th>22</th>\n",
       "      <td>mobile</td>\n",
       "      <td>1</td>\n",
       "      <td>0</td>\n",
       "      <td>1</td>\n",
       "      <td>1</td>\n",
       "      <td>133442</td>\n",
       "      <td>128398</td>\n",
       "      <td>133442</td>\n",
       "    </tr>\n",
       "    <tr>\n",
       "      <th>16</th>\n",
       "      <td>mobile</td>\n",
       "      <td>1</td>\n",
       "      <td>0</td>\n",
       "      <td>0</td>\n",
       "      <td>0</td>\n",
       "      <td>40</td>\n",
       "      <td>40</td>\n",
       "      <td>40</td>\n",
       "    </tr>\n",
       "    <tr>\n",
       "      <th>30</th>\n",
       "      <td>mobile</td>\n",
       "      <td>1</td>\n",
       "      <td>1</td>\n",
       "      <td>1</td>\n",
       "      <td>1</td>\n",
       "      <td>4564465</td>\n",
       "      <td>2947257</td>\n",
       "      <td>4564465</td>\n",
       "    </tr>\n",
       "    <tr>\n",
       "      <th>14</th>\n",
       "      <td>mobile</td>\n",
       "      <td>0</td>\n",
       "      <td>1</td>\n",
       "      <td>1</td>\n",
       "      <td>1</td>\n",
       "      <td>20038</td>\n",
       "      <td>18685</td>\n",
       "      <td>20038</td>\n",
       "    </tr>\n",
       "    <tr>\n",
       "      <th>12</th>\n",
       "      <td>mobile</td>\n",
       "      <td>0</td>\n",
       "      <td>1</td>\n",
       "      <td>1</td>\n",
       "      <td>0</td>\n",
       "      <td>397</td>\n",
       "      <td>368</td>\n",
       "      <td>397</td>\n",
       "    </tr>\n",
       "    <tr>\n",
       "      <th>24</th>\n",
       "      <td>mobile</td>\n",
       "      <td>1</td>\n",
       "      <td>1</td>\n",
       "      <td>0</td>\n",
       "      <td>0</td>\n",
       "      <td>264</td>\n",
       "      <td>261</td>\n",
       "      <td>264</td>\n",
       "    </tr>\n",
       "    <tr>\n",
       "      <th>19</th>\n",
       "      <td>mobile</td>\n",
       "      <td>1</td>\n",
       "      <td>0</td>\n",
       "      <td>0</td>\n",
       "      <td>1</td>\n",
       "      <td>2709</td>\n",
       "      <td>2692</td>\n",
       "      <td>2709</td>\n",
       "    </tr>\n",
       "    <tr>\n",
       "      <th>10</th>\n",
       "      <td>mobile</td>\n",
       "      <td>0</td>\n",
       "      <td>1</td>\n",
       "      <td>0</td>\n",
       "      <td>1</td>\n",
       "      <td>498865</td>\n",
       "      <td>482535</td>\n",
       "      <td>498865</td>\n",
       "    </tr>\n",
       "    <tr>\n",
       "      <th>7</th>\n",
       "      <td>mobile</td>\n",
       "      <td>0</td>\n",
       "      <td>0</td>\n",
       "      <td>1</td>\n",
       "      <td>1</td>\n",
       "      <td>18350</td>\n",
       "      <td>16251</td>\n",
       "      <td>18350</td>\n",
       "    </tr>\n",
       "    <tr>\n",
       "      <th>27</th>\n",
       "      <td>mobile</td>\n",
       "      <td>1</td>\n",
       "      <td>1</td>\n",
       "      <td>0</td>\n",
       "      <td>1</td>\n",
       "      <td>9391</td>\n",
       "      <td>9294</td>\n",
       "      <td>9391</td>\n",
       "    </tr>\n",
       "    <tr>\n",
       "      <th>4</th>\n",
       "      <td>mobile</td>\n",
       "      <td>0</td>\n",
       "      <td>0</td>\n",
       "      <td>1</td>\n",
       "      <td>0</td>\n",
       "      <td>1050</td>\n",
       "      <td>759</td>\n",
       "      <td>1050</td>\n",
       "    </tr>\n",
       "    <tr>\n",
       "      <th>3</th>\n",
       "      <td>mobile</td>\n",
       "      <td>0</td>\n",
       "      <td>0</td>\n",
       "      <td>0</td>\n",
       "      <td>1</td>\n",
       "      <td>653947</td>\n",
       "      <td>580051</td>\n",
       "      <td>653947</td>\n",
       "    </tr>\n",
       "    <tr>\n",
       "      <th>29</th>\n",
       "      <td>mobile</td>\n",
       "      <td>1</td>\n",
       "      <td>1</td>\n",
       "      <td>1</td>\n",
       "      <td>0</td>\n",
       "      <td>55945</td>\n",
       "      <td>32238</td>\n",
       "      <td>55945</td>\n",
       "    </tr>\n",
       "    <tr>\n",
       "      <th>8</th>\n",
       "      <td>mobile</td>\n",
       "      <td>0</td>\n",
       "      <td>1</td>\n",
       "      <td>0</td>\n",
       "      <td>0</td>\n",
       "      <td>24827</td>\n",
       "      <td>24565</td>\n",
       "      <td>24827</td>\n",
       "    </tr>\n",
       "    <tr>\n",
       "      <th>20</th>\n",
       "      <td>mobile</td>\n",
       "      <td>1</td>\n",
       "      <td>0</td>\n",
       "      <td>1</td>\n",
       "      <td>0</td>\n",
       "      <td>1807</td>\n",
       "      <td>1724</td>\n",
       "      <td>1807</td>\n",
       "    </tr>\n",
       "    <tr>\n",
       "      <th>25</th>\n",
       "      <td>prepaid</td>\n",
       "      <td>1</td>\n",
       "      <td>1</td>\n",
       "      <td>0</td>\n",
       "      <td>0</td>\n",
       "      <td>13</td>\n",
       "      <td>13</td>\n",
       "      <td>13</td>\n",
       "    </tr>\n",
       "    <tr>\n",
       "      <th>26</th>\n",
       "      <td>prepaid</td>\n",
       "      <td>1</td>\n",
       "      <td>1</td>\n",
       "      <td>0</td>\n",
       "      <td>1</td>\n",
       "      <td>11</td>\n",
       "      <td>11</td>\n",
       "      <td>11</td>\n",
       "    </tr>\n",
       "    <tr>\n",
       "      <th>23</th>\n",
       "      <td>prepaid</td>\n",
       "      <td>1</td>\n",
       "      <td>0</td>\n",
       "      <td>1</td>\n",
       "      <td>1</td>\n",
       "      <td>321</td>\n",
       "      <td>317</td>\n",
       "      <td>321</td>\n",
       "    </tr>\n",
       "    <tr>\n",
       "      <th>28</th>\n",
       "      <td>prepaid</td>\n",
       "      <td>1</td>\n",
       "      <td>1</td>\n",
       "      <td>1</td>\n",
       "      <td>0</td>\n",
       "      <td>4282</td>\n",
       "      <td>4142</td>\n",
       "      <td>4282</td>\n",
       "    </tr>\n",
       "    <tr>\n",
       "      <th>21</th>\n",
       "      <td>prepaid</td>\n",
       "      <td>1</td>\n",
       "      <td>0</td>\n",
       "      <td>1</td>\n",
       "      <td>0</td>\n",
       "      <td>260</td>\n",
       "      <td>257</td>\n",
       "      <td>260</td>\n",
       "    </tr>\n",
       "    <tr>\n",
       "      <th>15</th>\n",
       "      <td>prepaid</td>\n",
       "      <td>0</td>\n",
       "      <td>1</td>\n",
       "      <td>1</td>\n",
       "      <td>1</td>\n",
       "      <td>814</td>\n",
       "      <td>810</td>\n",
       "      <td>814</td>\n",
       "    </tr>\n",
       "    <tr>\n",
       "      <th>17</th>\n",
       "      <td>prepaid</td>\n",
       "      <td>1</td>\n",
       "      <td>0</td>\n",
       "      <td>0</td>\n",
       "      <td>0</td>\n",
       "      <td>2</td>\n",
       "      <td>2</td>\n",
       "      <td>2</td>\n",
       "    </tr>\n",
       "    <tr>\n",
       "      <th>13</th>\n",
       "      <td>prepaid</td>\n",
       "      <td>0</td>\n",
       "      <td>1</td>\n",
       "      <td>1</td>\n",
       "      <td>0</td>\n",
       "      <td>2883</td>\n",
       "      <td>2873</td>\n",
       "      <td>2883</td>\n",
       "    </tr>\n",
       "    <tr>\n",
       "      <th>11</th>\n",
       "      <td>prepaid</td>\n",
       "      <td>0</td>\n",
       "      <td>1</td>\n",
       "      <td>0</td>\n",
       "      <td>1</td>\n",
       "      <td>447</td>\n",
       "      <td>446</td>\n",
       "      <td>447</td>\n",
       "    </tr>\n",
       "    <tr>\n",
       "      <th>9</th>\n",
       "      <td>prepaid</td>\n",
       "      <td>0</td>\n",
       "      <td>1</td>\n",
       "      <td>0</td>\n",
       "      <td>0</td>\n",
       "      <td>846</td>\n",
       "      <td>843</td>\n",
       "      <td>846</td>\n",
       "    </tr>\n",
       "    <tr>\n",
       "      <th>6</th>\n",
       "      <td>prepaid</td>\n",
       "      <td>0</td>\n",
       "      <td>0</td>\n",
       "      <td>1</td>\n",
       "      <td>1</td>\n",
       "      <td>199650</td>\n",
       "      <td>181684</td>\n",
       "      <td>199650</td>\n",
       "    </tr>\n",
       "    <tr>\n",
       "      <th>5</th>\n",
       "      <td>prepaid</td>\n",
       "      <td>0</td>\n",
       "      <td>0</td>\n",
       "      <td>1</td>\n",
       "      <td>0</td>\n",
       "      <td>721666</td>\n",
       "      <td>671474</td>\n",
       "      <td>721666</td>\n",
       "    </tr>\n",
       "    <tr>\n",
       "      <th>2</th>\n",
       "      <td>prepaid</td>\n",
       "      <td>0</td>\n",
       "      <td>0</td>\n",
       "      <td>0</td>\n",
       "      <td>1</td>\n",
       "      <td>325530</td>\n",
       "      <td>294940</td>\n",
       "      <td>325530</td>\n",
       "    </tr>\n",
       "    <tr>\n",
       "      <th>1</th>\n",
       "      <td>prepaid</td>\n",
       "      <td>0</td>\n",
       "      <td>0</td>\n",
       "      <td>0</td>\n",
       "      <td>0</td>\n",
       "      <td>1020092</td>\n",
       "      <td>947761</td>\n",
       "      <td>1020092</td>\n",
       "    </tr>\n",
       "    <tr>\n",
       "      <th>18</th>\n",
       "      <td>prepaid</td>\n",
       "      <td>1</td>\n",
       "      <td>0</td>\n",
       "      <td>0</td>\n",
       "      <td>1</td>\n",
       "      <td>9</td>\n",
       "      <td>9</td>\n",
       "      <td>9</td>\n",
       "    </tr>\n",
       "    <tr>\n",
       "      <th>31</th>\n",
       "      <td>prepaid</td>\n",
       "      <td>1</td>\n",
       "      <td>1</td>\n",
       "      <td>1</td>\n",
       "      <td>1</td>\n",
       "      <td>4813</td>\n",
       "      <td>4583</td>\n",
       "      <td>4813</td>\n",
       "    </tr>\n",
       "  </tbody>\n",
       "</table>\n",
       "</div>"
      ],
      "text/plain": [
       "        RGU  ident_gnv_data  ident_gnv_voice  ident_netscout_apps  \\\n",
       "0    mobile               0                0                    0   \n",
       "22   mobile               1                0                    1   \n",
       "16   mobile               1                0                    0   \n",
       "30   mobile               1                1                    1   \n",
       "14   mobile               0                1                    1   \n",
       "12   mobile               0                1                    1   \n",
       "24   mobile               1                1                    0   \n",
       "19   mobile               1                0                    0   \n",
       "10   mobile               0                1                    0   \n",
       "7    mobile               0                0                    1   \n",
       "27   mobile               1                1                    0   \n",
       "4    mobile               0                0                    1   \n",
       "3    mobile               0                0                    0   \n",
       "29   mobile               1                1                    1   \n",
       "8    mobile               0                1                    0   \n",
       "20   mobile               1                0                    1   \n",
       "25  prepaid               1                1                    0   \n",
       "26  prepaid               1                1                    0   \n",
       "23  prepaid               1                0                    1   \n",
       "28  prepaid               1                1                    1   \n",
       "21  prepaid               1                0                    1   \n",
       "15  prepaid               0                1                    1   \n",
       "17  prepaid               1                0                    0   \n",
       "13  prepaid               0                1                    1   \n",
       "11  prepaid               0                1                    0   \n",
       "9   prepaid               0                1                    0   \n",
       "6   prepaid               0                0                    1   \n",
       "5   prepaid               0                0                    1   \n",
       "2   prepaid               0                0                    0   \n",
       "1   prepaid               0                0                    0   \n",
       "18  prepaid               1                0                    0   \n",
       "31  prepaid               1                1                    1   \n",
       "\n",
       "    ident_billing  servicios  servicios     REGS  \n",
       "0               0      17857      15845    17857  \n",
       "22              1     133442     128398   133442  \n",
       "16              0         40         40       40  \n",
       "30              1    4564465    2947257  4564465  \n",
       "14              1      20038      18685    20038  \n",
       "12              0        397        368      397  \n",
       "24              0        264        261      264  \n",
       "19              1       2709       2692     2709  \n",
       "10              1     498865     482535   498865  \n",
       "7               1      18350      16251    18350  \n",
       "27              1       9391       9294     9391  \n",
       "4               0       1050        759     1050  \n",
       "3               1     653947     580051   653947  \n",
       "29              0      55945      32238    55945  \n",
       "8               0      24827      24565    24827  \n",
       "20              0       1807       1724     1807  \n",
       "25              0         13         13       13  \n",
       "26              1         11         11       11  \n",
       "23              1        321        317      321  \n",
       "28              0       4282       4142     4282  \n",
       "21              0        260        257      260  \n",
       "15              1        814        810      814  \n",
       "17              0          2          2        2  \n",
       "13              0       2883       2873     2883  \n",
       "11              1        447        446      447  \n",
       "9               0        846        843      846  \n",
       "6               1     199650     181684   199650  \n",
       "5               0     721666     671474   721666  \n",
       "2               1     325530     294940   325530  \n",
       "1               0    1020092     947761  1020092  \n",
       "18              1          9          9        9  \n",
       "31              1       4813       4583     4813  "
      ]
     },
     "execution_count": 14,
     "metadata": {},
     "output_type": "execute_result"
    }
   ],
   "source": [
    "#import matplotlib\n",
    "#import seaborn as sns\n",
    "#%matplotlib inline\n",
    "analysis_pandas.sort_values('RGU')#.style.bar( color='#d65f5f', y='servicios')\n",
    "#analysis_pandas"
   ]
  },
  {
   "cell_type": "code",
   "execution_count": 12,
   "metadata": {
    "collapsed": true
   },
   "outputs": [
    {
     "ename": "NameError",
     "evalue": "name 'ClosingDay' is not defined",
     "output_type": "error",
     "traceback": [
      "\u001b[0;31m\u001b[0m",
      "\u001b[0;31mNameError\u001b[0mTraceback (most recent call last)",
      "\u001b[0;32m<ipython-input-12-8165400fed71>\u001b[0m in \u001b[0;36m<module>\u001b[0;34m()\u001b[0m\n\u001b[1;32m      4\u001b[0m                  \u001b[0;34m.\u001b[0m\u001b[0mwhere\u001b[0m\u001b[0;34m(\u001b[0m\u001b[0mcol\u001b[0m\u001b[0;34m(\u001b[0m\u001b[0;34m'rowNum'\u001b[0m\u001b[0;34m)\u001b[0m\u001b[0;34m==\u001b[0m\u001b[0;36m1\u001b[0m\u001b[0;34m)\u001b[0m\u001b[0;34m\u001b[0m\u001b[0m\n\u001b[1;32m      5\u001b[0m                  \u001b[0;34m.\u001b[0m\u001b[0mwithColumn\u001b[0m\u001b[0;34m(\u001b[0m\u001b[0;34m'FECHA_NACI'\u001b[0m\u001b[0;34m,\u001b[0m\u001b[0msubstring\u001b[0m\u001b[0;34m(\u001b[0m\u001b[0mcol\u001b[0m\u001b[0;34m(\u001b[0m\u001b[0;34m'FECHA_NACI'\u001b[0m\u001b[0;34m)\u001b[0m\u001b[0;34m,\u001b[0m\u001b[0;36m1\u001b[0m\u001b[0;34m,\u001b[0m\u001b[0;36m4\u001b[0m\u001b[0;34m)\u001b[0m\u001b[0;34m)\u001b[0m\u001b[0;34m\u001b[0m\u001b[0m\n\u001b[0;32m----> 6\u001b[0;31m                  \u001b[0;34m.\u001b[0m\u001b[0mwithColumn\u001b[0m\u001b[0;34m(\u001b[0m\u001b[0;34m'EDAD'\u001b[0m\u001b[0;34m,\u001b[0m \u001b[0mint\u001b[0m\u001b[0;34m(\u001b[0m\u001b[0mClosingDay\u001b[0m\u001b[0;34m[\u001b[0m\u001b[0;34m:\u001b[0m\u001b[0;36m4\u001b[0m\u001b[0;34m]\u001b[0m\u001b[0;34m)\u001b[0m\u001b[0;34m-\u001b[0m\u001b[0mcol\u001b[0m\u001b[0;34m(\u001b[0m\u001b[0;34m'Cust_birth_date'\u001b[0m\u001b[0;34m)\u001b[0m\u001b[0;34m)\u001b[0m\u001b[0;34m\u001b[0m\u001b[0m\n\u001b[0m\u001b[1;32m      7\u001b[0m                  \u001b[0;34m.\u001b[0m\u001b[0mselect\u001b[0m\u001b[0;34m(\u001b[0m\u001b[0;34m'NUM_CLIENTE'\u001b[0m\u001b[0;34m,\u001b[0m\u001b[0;34m'CAMPO1'\u001b[0m\u001b[0;34m,\u001b[0m\u001b[0;34m'FECHA_NACI'\u001b[0m\u001b[0;34m,\u001b[0m\u001b[0;34m'Cust_birth_date'\u001b[0m\u001b[0;34m,\u001b[0m\u001b[0;34m'EDAD'\u001b[0m\u001b[0;34m)\u001b[0m\u001b[0;34m\u001b[0m\u001b[0m\n\u001b[1;32m      8\u001b[0m                  \u001b[0;34m.\u001b[0m\u001b[0mdropDuplicates\u001b[0m\u001b[0;34m(\u001b[0m\u001b[0;34m)\u001b[0m\u001b[0;34m\u001b[0m\u001b[0m\n",
      "\u001b[0;31mNameError\u001b[0m: name 'ClosingDay' is not defined"
     ]
    }
   ],
   "source": [
    "# w = Window().partitionBy(\"NUM_CLIENTE\").orderBy('RGU')\n",
    "# customer_master=(amdocs_ids_load\n",
    "#                 .withColumn(\"rowNum\", func.row_number().over(w))\n",
    "#                 .where(col('rowNum')==1)\n",
    "#                 .withColumn('FECHA_NACI',substring(col('FECHA_NACI'),1,4))\n",
    "#                 .withColumn('EDAD', int(ClosingDay[:4])-col('Cust_birth_date'))\n",
    "#                 .select('NUM_CLIENTE','CAMPO1','FECHA_NACI','Cust_birth_date','EDAD')\n",
    "#                 .dropDuplicates()\n",
    "#                 )"
   ]
  },
  {
   "cell_type": "code",
   "execution_count": 25,
   "metadata": {},
   "outputs": [],
   "source": [
    "w = Window().partitionBy(\"NUM_CLIENTE\").orderBy('RGU')\n",
    "customer_master=(amdocs_ids_load\n",
    "                 .withColumn(\"rowNum\", func.row_number().over(w))\n",
    "                 .where(col('rowNum')==1)\n",
    "                 .select('NUM_CLIENTE','CAMPO1','age')\n",
    "                 .dropDuplicates()\n",
    "                 )"
   ]
  },
  {
   "cell_type": "code",
   "execution_count": 16,
   "metadata": {},
   "outputs": [
    {
     "name": "stdout",
     "output_type": "stream",
     "text": [
      "+--------+----------------------+\n",
      "|count(1)|count(DISTINCT msisdn)|\n",
      "+--------+----------------------+\n",
      "|14783781|              14783781|\n",
      "+--------+----------------------+\n",
      "\n"
     ]
    }
   ],
   "source": [
    "#customer_master.show(50,False)\n",
    "amdocs_ids_load.agg(count(lit(1)),countDistinct('msisdn')).show()"
   ]
  },
  {
   "cell_type": "markdown",
   "metadata": {},
   "source": [
    "### Surveys\n",
    "Received about 10K surveys. We process them to obtain the main information we need from them. This is:\n",
    "- Children at home\n",
    "- Any of them over 18 years old"
   ]
  },
  {
   "cell_type": "code",
   "execution_count": 26,
   "metadata": {},
   "outputs": [
    {
     "ename": "AnalysisException",
     "evalue": "u'Path does not exist: hdfs://nameservice1/tmp/rbuendi1/HH_SURVEYS;'",
     "output_type": "error",
     "traceback": [
      "\u001b[0;31m\u001b[0m",
      "\u001b[0;31mAnalysisException\u001b[0mTraceback (most recent call last)",
      "\u001b[0;32m<ipython-input-26-b2c628cbf3bb>\u001b[0m in \u001b[0;36m<module>\u001b[0;34m()\u001b[0m\n\u001b[0;32m----> 1\u001b[0;31m \u001b[0msurveys_df\u001b[0m\u001b[0;34m=\u001b[0m\u001b[0mspark\u001b[0m\u001b[0;34m.\u001b[0m\u001b[0mread\u001b[0m\u001b[0;34m.\u001b[0m\u001b[0mformat\u001b[0m\u001b[0;34m(\u001b[0m\u001b[0;34m'com.databricks.spark.csv'\u001b[0m\u001b[0;34m)\u001b[0m\u001b[0;34m.\u001b[0m\u001b[0moptions\u001b[0m\u001b[0;34m(\u001b[0m\u001b[0mheader\u001b[0m\u001b[0;34m=\u001b[0m\u001b[0;34m'true'\u001b[0m\u001b[0;34m,\u001b[0m \u001b[0minferschema\u001b[0m\u001b[0;34m=\u001b[0m\u001b[0;34m'true'\u001b[0m\u001b[0;34m,\u001b[0m\u001b[0mdelimiter\u001b[0m\u001b[0;34m=\u001b[0m\u001b[0;34m'|'\u001b[0m\u001b[0;34m)\u001b[0m\u001b[0;34m.\u001b[0m\u001b[0mload\u001b[0m\u001b[0;34m(\u001b[0m\u001b[0;34m'/tmp/rbuendi1/HH_SURVEYS/'\u001b[0m\u001b[0;34m)\u001b[0m\u001b[0;34m\u001b[0m\u001b[0m\n\u001b[0m\u001b[1;32m      2\u001b[0m \u001b[0mchildren_age_cols\u001b[0m\u001b[0;34m=\u001b[0m \u001b[0;34m[\u001b[0m\u001b[0mc\u001b[0m \u001b[0;32mfor\u001b[0m \u001b[0mc\u001b[0m \u001b[0;32min\u001b[0m \u001b[0msurveys_df\u001b[0m\u001b[0;34m.\u001b[0m\u001b[0mcolumns\u001b[0m \u001b[0;32mif\u001b[0m \u001b[0;34m(\u001b[0m\u001b[0;34m(\u001b[0m\u001b[0;34m'P7_'\u001b[0m \u001b[0;32min\u001b[0m \u001b[0mc\u001b[0m\u001b[0;34m)\u001b[0m\u001b[0;34m)\u001b[0m\u001b[0;34m]\u001b[0m\u001b[0;34m\u001b[0m\u001b[0m\n\u001b[1;32m      3\u001b[0m \u001b[0;32mfor\u001b[0m \u001b[0mcol_name\u001b[0m \u001b[0;32min\u001b[0m \u001b[0mchildren_age_cols\u001b[0m\u001b[0;34m:\u001b[0m\u001b[0;34m\u001b[0m\u001b[0m\n\u001b[1;32m      4\u001b[0m     \u001b[0msurveys_df\u001b[0m \u001b[0;34m=\u001b[0m \u001b[0msurveys_df\u001b[0m\u001b[0;34m.\u001b[0m\u001b[0mwithColumn\u001b[0m\u001b[0;34m(\u001b[0m\u001b[0mcol_name\u001b[0m\u001b[0;34m,\u001b[0m \u001b[0mcol\u001b[0m\u001b[0;34m(\u001b[0m\u001b[0mcol_name\u001b[0m\u001b[0;34m)\u001b[0m\u001b[0;34m.\u001b[0m\u001b[0mcast\u001b[0m\u001b[0;34m(\u001b[0m\u001b[0;34m'integer'\u001b[0m\u001b[0;34m)\u001b[0m\u001b[0;34m)\u001b[0m\u001b[0;34m\u001b[0m\u001b[0m\n\u001b[1;32m      5\u001b[0m surveys_df=(surveys_df\n",
      "\u001b[0;32m/opt/cloudera/parcels/SPARK2/lib/spark2/python/pyspark/sql/readwriter.py\u001b[0m in \u001b[0;36mload\u001b[0;34m(self, path, format, schema, **options)\u001b[0m\n\u001b[1;32m    164\u001b[0m         \u001b[0mself\u001b[0m\u001b[0;34m.\u001b[0m\u001b[0moptions\u001b[0m\u001b[0;34m(\u001b[0m\u001b[0;34m**\u001b[0m\u001b[0moptions\u001b[0m\u001b[0;34m)\u001b[0m\u001b[0;34m\u001b[0m\u001b[0m\n\u001b[1;32m    165\u001b[0m         \u001b[0;32mif\u001b[0m \u001b[0misinstance\u001b[0m\u001b[0;34m(\u001b[0m\u001b[0mpath\u001b[0m\u001b[0;34m,\u001b[0m \u001b[0mbasestring\u001b[0m\u001b[0;34m)\u001b[0m\u001b[0;34m:\u001b[0m\u001b[0;34m\u001b[0m\u001b[0m\n\u001b[0;32m--> 166\u001b[0;31m             \u001b[0;32mreturn\u001b[0m \u001b[0mself\u001b[0m\u001b[0;34m.\u001b[0m\u001b[0m_df\u001b[0m\u001b[0;34m(\u001b[0m\u001b[0mself\u001b[0m\u001b[0;34m.\u001b[0m\u001b[0m_jreader\u001b[0m\u001b[0;34m.\u001b[0m\u001b[0mload\u001b[0m\u001b[0;34m(\u001b[0m\u001b[0mpath\u001b[0m\u001b[0;34m)\u001b[0m\u001b[0;34m)\u001b[0m\u001b[0;34m\u001b[0m\u001b[0m\n\u001b[0m\u001b[1;32m    167\u001b[0m         \u001b[0;32melif\u001b[0m \u001b[0mpath\u001b[0m \u001b[0;32mis\u001b[0m \u001b[0;32mnot\u001b[0m \u001b[0mNone\u001b[0m\u001b[0;34m:\u001b[0m\u001b[0;34m\u001b[0m\u001b[0m\n\u001b[1;32m    168\u001b[0m             \u001b[0;32mif\u001b[0m \u001b[0mtype\u001b[0m\u001b[0;34m(\u001b[0m\u001b[0mpath\u001b[0m\u001b[0;34m)\u001b[0m \u001b[0;34m!=\u001b[0m \u001b[0mlist\u001b[0m\u001b[0;34m:\u001b[0m\u001b[0;34m\u001b[0m\u001b[0m\n",
      "\u001b[0;32m/opt/cloudera/parcels/Anaconda-2.5.0/lib/python2.7/site-packages/py4j/java_gateway.pyc\u001b[0m in \u001b[0;36m__call__\u001b[0;34m(self, *args)\u001b[0m\n\u001b[1;32m   1255\u001b[0m         \u001b[0manswer\u001b[0m \u001b[0;34m=\u001b[0m \u001b[0mself\u001b[0m\u001b[0;34m.\u001b[0m\u001b[0mgateway_client\u001b[0m\u001b[0;34m.\u001b[0m\u001b[0msend_command\u001b[0m\u001b[0;34m(\u001b[0m\u001b[0mcommand\u001b[0m\u001b[0;34m)\u001b[0m\u001b[0;34m\u001b[0m\u001b[0m\n\u001b[1;32m   1256\u001b[0m         return_value = get_return_value(\n\u001b[0;32m-> 1257\u001b[0;31m             answer, self.gateway_client, self.target_id, self.name)\n\u001b[0m\u001b[1;32m   1258\u001b[0m \u001b[0;34m\u001b[0m\u001b[0m\n\u001b[1;32m   1259\u001b[0m         \u001b[0;32mfor\u001b[0m \u001b[0mtemp_arg\u001b[0m \u001b[0;32min\u001b[0m \u001b[0mtemp_args\u001b[0m\u001b[0;34m:\u001b[0m\u001b[0;34m\u001b[0m\u001b[0m\n",
      "\u001b[0;32m/opt/cloudera/parcels/SPARK2/lib/spark2/python/pyspark/sql/utils.py\u001b[0m in \u001b[0;36mdeco\u001b[0;34m(*a, **kw)\u001b[0m\n\u001b[1;32m     67\u001b[0m                                              e.java_exception.getStackTrace()))\n\u001b[1;32m     68\u001b[0m             \u001b[0;32mif\u001b[0m \u001b[0ms\u001b[0m\u001b[0;34m.\u001b[0m\u001b[0mstartswith\u001b[0m\u001b[0;34m(\u001b[0m\u001b[0;34m'org.apache.spark.sql.AnalysisException: '\u001b[0m\u001b[0;34m)\u001b[0m\u001b[0;34m:\u001b[0m\u001b[0;34m\u001b[0m\u001b[0m\n\u001b[0;32m---> 69\u001b[0;31m                 \u001b[0;32mraise\u001b[0m \u001b[0mAnalysisException\u001b[0m\u001b[0;34m(\u001b[0m\u001b[0ms\u001b[0m\u001b[0;34m.\u001b[0m\u001b[0msplit\u001b[0m\u001b[0;34m(\u001b[0m\u001b[0;34m': '\u001b[0m\u001b[0;34m,\u001b[0m \u001b[0;36m1\u001b[0m\u001b[0;34m)\u001b[0m\u001b[0;34m[\u001b[0m\u001b[0;36m1\u001b[0m\u001b[0;34m]\u001b[0m\u001b[0;34m,\u001b[0m \u001b[0mstackTrace\u001b[0m\u001b[0;34m)\u001b[0m\u001b[0;34m\u001b[0m\u001b[0m\n\u001b[0m\u001b[1;32m     70\u001b[0m             \u001b[0;32mif\u001b[0m \u001b[0ms\u001b[0m\u001b[0;34m.\u001b[0m\u001b[0mstartswith\u001b[0m\u001b[0;34m(\u001b[0m\u001b[0;34m'org.apache.spark.sql.catalyst.analysis'\u001b[0m\u001b[0;34m)\u001b[0m\u001b[0;34m:\u001b[0m\u001b[0;34m\u001b[0m\u001b[0m\n\u001b[1;32m     71\u001b[0m                 \u001b[0;32mraise\u001b[0m \u001b[0mAnalysisException\u001b[0m\u001b[0;34m(\u001b[0m\u001b[0ms\u001b[0m\u001b[0;34m.\u001b[0m\u001b[0msplit\u001b[0m\u001b[0;34m(\u001b[0m\u001b[0;34m': '\u001b[0m\u001b[0;34m,\u001b[0m \u001b[0;36m1\u001b[0m\u001b[0;34m)\u001b[0m\u001b[0;34m[\u001b[0m\u001b[0;36m1\u001b[0m\u001b[0;34m]\u001b[0m\u001b[0;34m,\u001b[0m \u001b[0mstackTrace\u001b[0m\u001b[0;34m)\u001b[0m\u001b[0;34m\u001b[0m\u001b[0m\n",
      "\u001b[0;31mAnalysisException\u001b[0m: u'Path does not exist: hdfs://nameservice1/tmp/rbuendi1/HH_SURVEYS;'"
     ]
    }
   ],
   "source": [
    "surveys_df=spark.read.format('com.databricks.spark.csv').options(header='true', inferschema='true',delimiter='|').load('/tmp/rbuendi1/HH_SURVEYS/')\n",
    "children_age_cols= [c for c in surveys_df.columns if (('P7_' in c))]\n",
    "for col_name in children_age_cols:\n",
    "    surveys_df = surveys_df.withColumn(col_name, col(col_name).cast('integer'))\n",
    "surveys_df=(surveys_df\n",
    "            .withColumn('CHILDREN_GREATER_AGE',func.greatest('P7_1','P7_2','P7_3','P7_4','P7_5','P7_6','P7_7','P7_8','P7_9'))\n",
    "            .withColumn('FLAG_CHILDREN',when(col('CHILDREN_GREATER_AGE').isNotNull(),1)\n",
    "                                        .otherwise(0))\n",
    "            .withColumn('FLAG_CHILDREN_OVER18',when(col('CHILDREN_GREATER_AGE')>=18,1)\n",
    "                                            .when(col('CHILDREN_GREATER_AGE')<18,0)\n",
    "                                            .otherwise(None))\n",
    "            )\n",
    "surveys_df_proc=surveys_df['ID_Cliente','CHILDREN_GREATER_AGE','FLAG_CHILDREN','FLAG_CHILDREN_OVER18']"
   ]
  },
  {
   "cell_type": "code",
   "execution_count": null,
   "metadata": {},
   "outputs": [],
   "source": [
    "ccc_oldColumns = surveys_df_proc.columns\n",
    "ccc_newColumns = ['amdocs_'+c for c in surveys_df_proc.columns]\n",
    "surveys_df_amdocs = reduce(lambda surveys_df_proc, idx: surveys_df_proc.withColumnRenamed(ccc_oldColumns[idx], ccc_newColumns[idx]), xrange(len(ccc_oldColumns)), surveys_df_proc)\n",
    "ccc_newColumns = ['nif_'+c for c in surveys_df_proc.columns]\n",
    "surveys_df_nif = reduce(lambda surveys_df_proc, idx: surveys_df_proc.withColumnRenamed(ccc_oldColumns[idx], ccc_newColumns[idx]), xrange(len(ccc_oldColumns)), surveys_df_proc)"
   ]
  },
  {
   "cell_type": "code",
   "execution_count": 96,
   "metadata": {},
   "outputs": [],
   "source": [
    "#customer_master=amdocs_ids_load['NUM_CLIENTE','CAMPO1'].dropDuplicates()"
   ]
  },
  {
   "cell_type": "code",
   "execution_count": 97,
   "metadata": {},
   "outputs": [],
   "source": [
    "#mapper to get deanon NIF for surveys join\n",
    "data_mapper = spark.read.format('com.databricks.spark.csv').options(header='true', inferschema='true', delimiter='|').load('/tmp/rbuendi1/ident_assoc/')\n",
    "data_mapper=data_mapper.withColumnRenamed('NUM_CLIENTE','NUM_CLIENTE_deanon')"
   ]
  },
  {
   "cell_type": "code",
   "execution_count": 22,
   "metadata": {},
   "outputs": [],
   "source": [
    "#surveys_df_amdocs.printSchema()"
   ]
  },
  {
   "cell_type": "code",
   "execution_count": 98,
   "metadata": {},
   "outputs": [],
   "source": [
    "master_surveys_df=(customer_master\n",
    " .join(surveys_df_amdocs,customer_master.CAMPO1==surveys_df_amdocs.amdocs_ID_Cliente,'leftouter')\n",
    " .join(data_mapper,customer_master.CAMPO1==data_mapper.NUM_CLIENTE_deanon,'leftouter')\n",
    " .join(surveys_df_nif,data_mapper.NIF_CLIENTE==surveys_df_nif.nif_ID_Cliente,'leftouter')  \n",
    " .where((col('amdocs_ID_Cliente').isNotNull())|(col('nif_ID_Cliente').isNotNull()))\n",
    " .withColumn('CHILDREN_GREATER_AGE',when(col('amdocs_CHILDREN_GREATER_AGE').isNotNull(),col('amdocs_CHILDREN_GREATER_AGE'))\n",
    "                            .otherwise(col('nif_CHILDREN_GREATER_AGE')))\n",
    " .withColumn('FLAG_CHILDREN',when(col('amdocs_FLAG_CHILDREN').isNotNull(),col('amdocs_FLAG_CHILDREN'))\n",
    "                            .otherwise(col('nif_FLAG_CHILDREN')))\n",
    " .withColumn('FLAG_CHILDREN_OVER18',when(col('amdocs_FLAG_CHILDREN_OVER18').isNotNull(),col('amdocs_FLAG_CHILDREN_OVER18'))\n",
    "                            .otherwise(col('nif_FLAG_CHILDREN_OVER18')))\n",
    " .drop(*['FECHA_NACI','Cust_birth_date','age','amdocs_CHILDREN_GREATER_AGE','amdocs_FLAG_CHILDREN','amdocs_FLAG_CHILDREN_OVER18','nif_CHILDREN_GREATER_AGE','nif_FLAG_CHILDREN','nif_FLAG_CHILDREN_OVER18'])\n",
    " )\n",
    " \n",
    " "
   ]
  },
  {
   "cell_type": "markdown",
   "metadata": {},
   "source": [
    "We have found 4734 surveys associated to our AMDOCs Customer Base"
   ]
  },
  {
   "cell_type": "markdown",
   "metadata": {},
   "source": [
    "### Axesor \n",
    "The process requires DWH intervention in order to recover NUM_CLIENTE during the process"
   ]
  },
  {
   "cell_type": "code",
   "execution_count": 99,
   "metadata": {},
   "outputs": [],
   "source": [
    "data_axesor = spark.read.format('com.databricks.spark.csv').options(header='true', inferschema='true', delimiter='|').load('/tmp/rbuendi1/AXESOR2/')\n",
    "\n",
    "data_axesor_proc=(data_axesor\n",
    "                 .withColumn('Renta_Mensual',col('Renta')/12.0)\n",
    "                 .withColumn('Tramo_Renta', when(col('Renta_Mensual')<745,lit('1. Menos de 745€'))\n",
    "                                            .when(col('Renta_Mensual').between(745,1312), lit('2. Entre 745€ y 1312€'))\n",
    "                                            .when(col('Renta_Mensual').between(1313,1602), lit('3. Entre 1313€ y 1602€'))\n",
    "                                            .when(col('Renta_Mensual').between(1603,2145), lit('4. Entre 1603€ y 2145€'))\n",
    "                                            .when(col('Renta_Mensual').between(2146,2451), lit('5. Entre 2146€ y 2451€'))\n",
    "                                            .when(col('Renta_Mensual').between(2452,3005), lit('6. Entre 2452€ y 3005€'))\n",
    "                                            .when(col('Renta_Mensual')>3005,lit('7. Mas de 3005€'))\n",
    "                                            .otherwise('0. other'))\n",
    "     )\n",
    "                            \n",
    "    \n",
    "\n"
   ]
  },
  {
   "cell_type": "code",
   "execution_count": null,
   "metadata": {},
   "outputs": [],
   "source": [
    "#data_axesor_proc[['Renta','Renta_Mensual','Tramo_Renta']].show(200,False)"
   ]
  },
  {
   "cell_type": "code",
   "execution_count": 100,
   "metadata": {},
   "outputs": [],
   "source": [
    "df_axesor_study=(customer_master\n",
    "                 .join(data_axesor_proc,customer_master.CAMPO1==data_axesor_proc.X_ID_RED,'leftouter')\n",
    "                 .withColumn('ident_AXESOR',when(data_axesor_proc.X_ID_RED.isNull(),0)\n",
    "                                              .otherwise(1))\n",
    "                 .select('NUM_CLIENTE','age','ident_AXESOR','StatusMunicipal','StatusProvincial','StatusNacional','Renta','Antiguedad','UNIFAMILIAR','ViviendasEdificio','PrecioM2','SuperficieInmueble_Total','Valora_SupTotal','SuperficieInmueble_Residencial','Valora_SupResidencial','Superficie_Valoracion','Valora_SupValoracion','Superficie_MediaTramoVia','Valora_SupMediaTramoVia','DensidadPoblacion','NumComerciosMilHabitantes','SuperficieComercialxHabitante','PresionFinancieraPoblacion','TasaCrecimientoPoblacion','TasaEnvejecimientoPoblacion','TasaParo','VivPrincipales','VivSecundarias','VivVacias','VivPropiedadPagadas','VivPropiedadPendientes','VivAlquiler','VivHerenciaCedidasOtros','Gasto_AlimentacionBebidas','Gasto_AlcoholTabaco','Gasto_ModaCalzado','Gasto_Vivienda','Gasto_Mobiliario','Gasto_Salud','Gasto_Transporte','Gasto_Comunicaciones','Gasto_OcioCultura','Gasto_Educacion','Gasto_Hosteleria','Gasto_Otros','Tramo_Renta','Renta_Mensual')\n",
    "                 .dropDuplicates()\n",
    "                 )"
   ]
  },
  {
   "cell_type": "code",
   "execution_count": 101,
   "metadata": {},
   "outputs": [
    {
     "name": "stdout",
     "output_type": "stream",
     "text": [
      "+------------+-------+\n",
      "|ident_AXESOR|  count|\n",
      "+------------+-------+\n",
      "|           1|2760514|\n",
      "|           0|3316204|\n",
      "+------------+-------+\n",
      "\n"
     ]
    }
   ],
   "source": [
    "df_axesor_study.groupBy('ident_AXESOR').count().show()"
   ]
  },
  {
   "cell_type": "code",
   "execution_count": 102,
   "metadata": {},
   "outputs": [],
   "source": [
    "#data_axesor_proc.groupBy('StatusMunicipal').count().orderBy('StatusMunicipal').show()\n",
    "df_axesor_pandas=data_axesor_proc.groupBy('Tramo_Renta','StatusMunicipal').count().orderBy('Tramo_Renta','StatusMunicipal').toPandas()"
   ]
  },
  {
   "cell_type": "code",
   "execution_count": 103,
   "metadata": {},
   "outputs": [],
   "source": [
    "#df_axesor_pandas.groupby('Tramo_Renta').plot(x='Tramo_Renta',y='StatusMunicipal', )\n",
    "df_pivoted=df_axesor_pandas.pivot(index='Tramo_Renta', columns='StatusMunicipal', values='count')\n"
   ]
  },
  {
   "cell_type": "code",
   "execution_count": 104,
   "metadata": {},
   "outputs": [
    {
     "data": {
      "text/plain": [
       "<matplotlib.axes._subplots.AxesSubplot at 0x7f11ede8e410>"
      ]
     },
     "execution_count": 104,
     "metadata": {},
     "output_type": "execute_result"
    },
    {
     "data": {
      "image/png": "[encoded data removed]",
      "text/plain": [
       "<Figure size 864x720 with 2 Axes>"
      ]
     },
     "metadata": {},
     "output_type": "display_data"
    }
   ],
   "source": [
    "import matplotlib.pyplot as plt\n",
    "import seaborn as sns\n",
    "\n",
    "plt.figure(figsize=(12, 10))\n",
    "sns.heatmap(df_pivoted, annot=True, fmt=\".0f\",cmap=\"Blues\")\n"
   ]
  },
  {
   "cell_type": "markdown",
   "metadata": {},
   "source": [
    "# Aggregate Customer\n",
    "\n",
    "Now is the time to create a customer level analytical table as far as we want to model households. Please, notice that for AMDOCS stack, NUM_CLIENTE could be considered as a household identifier"
   ]
  },
  {
   "cell_type": "code",
   "execution_count": null,
   "metadata": {},
   "outputs": [],
   "source": [
    "feats_gnv_voice_mou= [c for c in amdocs_ids_load.columns if (('GNV_hour' in c) & (('MOU') in c))]\n",
    "feats_gnv_voice_NOC= [c for c in amdocs_ids_load.columns if (('GNV_hour' in c) & (('Num_Of_Calls') in c))]\n",
    "\n",
    "feats_gnv_total_data_mb= [c for c in amdocs_ids_load.columns if (('GNV_hour' in c)& (('Data_Volume_MB') in c))]\n",
    "feats_gnv_data_mb_chatzero= [c for c in amdocs_ids_load.columns if (('GNV_hour' in c)& (('Chat_Zero_Data_Volume_MB') in c))]\n",
    "feats_gnv_data_mb_maps= [c for c in amdocs_ids_load.columns if (('GNV_hour' in c)& (('Maps_Pass_Data_Volume_MB') in c))]\n",
    "feats_gnv_data_mb_masmegas= [c for c in amdocs_ids_load.columns if (('GNV_hour' in c)& (('MasMegas_Data_Volume_MB') in c))]\n",
    "feats_gnv_data_mb_music= [c for c in amdocs_ids_load.columns if (('GNV_hour' in c)& (('Music_Pass_Data_Volume_MB') in c))]\n",
    "feats_gnv_data_mb_regular= [c for c in amdocs_ids_load.columns if (('GNV_hour' in c)& (('RegularData_Data_Volume_MB') in c))]\n",
    "feats_gnv_data_mb_social= [c for c in amdocs_ids_load.columns if (('GNV_hour' in c)& (('Social_Pass_Data_Volume_MB') in c))]\n",
    "feats_gnv_data_mb_videoHD= [c for c in amdocs_ids_load.columns if (('GNV_hour' in c)& (('VideoHD_Pass_Data_Volume_MB') in c))]\n",
    "feats_gnv_data_mb_video= [c for c in amdocs_ids_load.columns if (('GNV_hour' in c)& (('Video_Pass_Data_Volume_MB') in c))]\n",
    "\n",
    "#NEW 20190404\n",
    "#feats_gnv_type_usage_mou=[c for c in amdocs_ids_load.columns if (('GNV_Type_Voice' in c)& (('MOU') in c))]\n",
    "#feats_gnv_type_usage_NOC= [c for c in amdocs_ids_load.columns if (('GNV_Type_Voice' in c)& (('Num_Of_Calls') in c))]\n",
    "\n",
    "feats_custagg=['fbb_services_nc', 'fixed_services_nc', 'mobile_services_nc', 'prepaid_services_nc', 'tv_services_nc']\n",
    "\n",
    "\n",
    "feats_billing=[c for c in amdocs_ids_load.columns if (('Bill_N2' in c) & ('Amount_To_Pay' in c))]\n",
    "\n",
    "feats_netscout_data=[c for c in amdocs_ids_load.columns if (('NS_APPS' in c) & ('data_mb' in c))]\n",
    "feats_netscout_days=[c for c in amdocs_ids_load.columns if (('NS_APPS' in c) & ('days' in c))]\n",
    "\n",
    "feats_billing"
   ]
  },
  {
   "cell_type": "code",
   "execution_count": null,
   "metadata": {},
   "outputs": [],
   "source": [
    "exprs  = [sql_sum(coalesce(sql_round(x,2),lit(0))).alias(x) for x in feats_gnv_voice_mou]\n",
    "exprs  += [sql_sum(coalesce(sql_round(x,2),lit(0))).alias(x) for x in feats_gnv_total_data_mb]\n",
    "#exprs += [f_max  (coalesce(sql_round(x,2),lit(0))).alias(x+'_max') for x in feats_gnv_voice_mou]\n",
    "exprs += [f_max  (coalesce(sql_round(x,2),lit(0))).alias(x) for x in feats_custagg]\n",
    "exprs += [f_max  (coalesce(sql_round(x,2),lit(0))).alias(x) for x in feats_billing]\n",
    "\n",
    "exprs += [sql_sum  (coalesce(sql_round(x,2),lit(0))).alias(x) for x in feats_netscout_data]\n",
    "exprs += [sql_sum  (coalesce(sql_round(x,2),lit(0))).alias(x) for x in feats_netscout_days]\n",
    "\n",
    "#exprs += [sql_sum  (coalesce(sql_round(x,2),lit(0))).alias(x) for x in feats_gnv_voice_mou]\n",
    "\n",
    "amdocs_ids_agg_df_tmp1=(amdocs_ids_load\n",
    " .groupBy('NUM_CLIENTE')\n",
    " .agg(*exprs)\n",
    " )\n",
    "\n",
    "\n",
    "amdocs_ids_agg_df=(amdocs_ids_agg_df_tmp1\n",
    "                  .withColumn('total_mou',sum_horizontal(feats_gnv_voice_mou))\n",
    "                  .withColumn('total_data_mb',sum_horizontal(feats_gnv_total_data_mb))\n",
    "                  .withColumn('total_data_mb_chatzero',sum_horizontal(feats_gnv_data_mb_chatzero))\n",
    "                  .withColumn('total_data_mb_mapspass',sum_horizontal(feats_gnv_data_mb_maps))\n",
    "                  .withColumn('total_data_mb_masmegas',sum_horizontal(feats_gnv_data_mb_masmegas))\n",
    "                  .withColumn('total_data_mb_musicpass',sum_horizontal(feats_gnv_data_mb_music))\n",
    "                  .withColumn('total_data_mb_socialpass',sum_horizontal(feats_gnv_data_mb_social))\n",
    "                  .withColumn('total_data_mb_videohdpass',sum_horizontal(feats_gnv_data_mb_videoHD))\n",
    "                  .withColumn('total_data_mb_videopass',sum_horizontal(feats_gnv_data_mb_video))\n",
    "                  #.drop(*feats_gnv_voice_mou)\n",
    "                  #.drop(*feats_gnv_total_data_mb)\n",
    " \n",
    "                  )\n"
   ]
  },
  {
   "cell_type": "code",
   "execution_count": 107,
   "metadata": {},
   "outputs": [
    {
     "name": "stdout",
     "output_type": "stream",
     "text": [
      "root\n",
      " |-- NUM_CLIENTE: string (nullable = true)\n",
      " |-- GNV_hour_0_W_MOU: double (nullable = true)\n",
      " |-- GNV_hour_0_WE_MOU: double (nullable = true)\n",
      " |-- GNV_hour_10_W_MOU: double (nullable = true)\n",
      " |-- GNV_hour_10_WE_MOU: double (nullable = true)\n",
      " |-- GNV_hour_11_W_MOU: double (nullable = true)\n",
      " |-- GNV_hour_11_WE_MOU: double (nullable = true)\n",
      " |-- GNV_hour_12_W_MOU: double (nullable = true)\n",
      " |-- GNV_hour_12_WE_MOU: double (nullable = true)\n",
      " |-- GNV_hour_13_W_MOU: double (nullable = true)\n",
      " |-- GNV_hour_13_WE_MOU: double (nullable = true)\n",
      " |-- GNV_hour_14_W_MOU: double (nullable = true)\n",
      " |-- GNV_hour_14_WE_MOU: double (nullable = true)\n",
      " |-- GNV_hour_15_W_MOU: double (nullable = true)\n",
      " |-- GNV_hour_15_WE_MOU: double (nullable = true)\n",
      " |-- GNV_hour_16_W_MOU: double (nullable = true)\n",
      " |-- GNV_hour_16_WE_MOU: double (nullable = true)\n",
      " |-- GNV_hour_17_W_MOU: double (nullable = true)\n",
      " |-- GNV_hour_17_WE_MOU: double (nullable = true)\n",
      " |-- GNV_hour_18_W_MOU: double (nullable = true)\n",
      " |-- GNV_hour_18_WE_MOU: double (nullable = true)\n",
      " |-- GNV_hour_19_W_MOU: double (nullable = true)\n",
      " |-- GNV_hour_19_WE_MOU: double (nullable = true)\n",
      " |-- GNV_hour_1_W_MOU: double (nullable = true)\n",
      " |-- GNV_hour_1_WE_MOU: double (nullable = true)\n",
      " |-- GNV_hour_20_W_MOU: double (nullable = true)\n",
      " |-- GNV_hour_20_WE_MOU: double (nullable = true)\n",
      " |-- GNV_hour_21_W_MOU: double (nullable = true)\n",
      " |-- GNV_hour_21_WE_MOU: double (nullable = true)\n",
      " |-- GNV_hour_22_W_MOU: double (nullable = true)\n",
      " |-- GNV_hour_22_WE_MOU: double (nullable = true)\n",
      " |-- GNV_hour_23_W_MOU: double (nullable = true)\n",
      " |-- GNV_hour_23_WE_MOU: double (nullable = true)\n",
      " |-- GNV_hour_2_W_MOU: double (nullable = true)\n",
      " |-- GNV_hour_2_WE_MOU: double (nullable = true)\n",
      " |-- GNV_hour_3_W_MOU: double (nullable = true)\n",
      " |-- GNV_hour_3_WE_MOU: double (nullable = true)\n",
      " |-- GNV_hour_4_W_MOU: double (nullable = true)\n",
      " |-- GNV_hour_4_WE_MOU: double (nullable = true)\n",
      " |-- GNV_hour_5_W_MOU: double (nullable = true)\n",
      " |-- GNV_hour_5_WE_MOU: double (nullable = true)\n",
      " |-- GNV_hour_6_W_MOU: double (nullable = true)\n",
      " |-- GNV_hour_6_WE_MOU: double (nullable = true)\n",
      " |-- GNV_hour_7_W_MOU: double (nullable = true)\n",
      " |-- GNV_hour_7_WE_MOU: double (nullable = true)\n",
      " |-- GNV_hour_8_W_MOU: double (nullable = true)\n",
      " |-- GNV_hour_8_WE_MOU: double (nullable = true)\n",
      " |-- GNV_hour_9_W_MOU: double (nullable = true)\n",
      " |-- GNV_hour_9_WE_MOU: double (nullable = true)\n",
      " |-- GNV_hour_0_WE_Chat_Zero_Data_Volume_MB: double (nullable = true)\n",
      " |-- GNV_hour_0_WE_Maps_Pass_Data_Volume_MB: double (nullable = true)\n",
      " |-- GNV_hour_0_WE_MasMegas_Data_Volume_MB: double (nullable = true)\n",
      " |-- GNV_hour_0_WE_Music_Pass_Data_Volume_MB: double (nullable = true)\n",
      " |-- GNV_hour_0_WE_RegularData_Data_Volume_MB: double (nullable = true)\n",
      " |-- GNV_hour_0_WE_Social_Pass_Data_Volume_MB: double (nullable = true)\n",
      " |-- GNV_hour_0_WE_VideoHD_Pass_Data_Volume_MB: double (nullable = true)\n",
      " |-- GNV_hour_0_WE_Video_Pass_Data_Volume_MB: double (nullable = true)\n",
      " |-- GNV_hour_0_W_Chat_Zero_Data_Volume_MB: double (nullable = true)\n",
      " |-- GNV_hour_0_W_Maps_Pass_Data_Volume_MB: double (nullable = true)\n",
      " |-- GNV_hour_0_W_MasMegas_Data_Volume_MB: double (nullable = true)\n",
      " |-- GNV_hour_0_W_Music_Pass_Data_Volume_MB: double (nullable = true)\n",
      " |-- GNV_hour_0_W_RegularData_Data_Volume_MB: double (nullable = true)\n",
      " |-- GNV_hour_0_W_Social_Pass_Data_Volume_MB: double (nullable = true)\n",
      " |-- GNV_hour_0_W_VideoHD_Pass_Data_Volume_MB: double (nullable = true)\n",
      " |-- GNV_hour_0_W_Video_Pass_Data_Volume_MB: double (nullable = true)\n",
      " |-- GNV_hour_10_WE_Chat_Zero_Data_Volume_MB: double (nullable = true)\n",
      " |-- GNV_hour_10_WE_Maps_Pass_Data_Volume_MB: double (nullable = true)\n",
      " |-- GNV_hour_10_WE_MasMegas_Data_Volume_MB: double (nullable = true)\n",
      " |-- GNV_hour_10_WE_Music_Pass_Data_Volume_MB: double (nullable = true)\n",
      " |-- GNV_hour_10_WE_RegularData_Data_Volume_MB: double (nullable = true)\n",
      " |-- GNV_hour_10_WE_Social_Pass_Data_Volume_MB: double (nullable = true)\n",
      " |-- GNV_hour_10_WE_VideoHD_Pass_Data_Volume_MB: double (nullable = true)\n",
      " |-- GNV_hour_10_WE_Video_Pass_Data_Volume_MB: double (nullable = true)\n",
      " |-- GNV_hour_10_W_Chat_Zero_Data_Volume_MB: double (nullable = true)\n",
      " |-- GNV_hour_10_W_Maps_Pass_Data_Volume_MB: double (nullable = true)\n",
      " |-- GNV_hour_10_W_MasMegas_Data_Volume_MB: double (nullable = true)\n",
      " |-- GNV_hour_10_W_Music_Pass_Data_Volume_MB: double (nullable = true)\n",
      " |-- GNV_hour_10_W_RegularData_Data_Volume_MB: double (nullable = true)\n",
      " |-- GNV_hour_10_W_Social_Pass_Data_Volume_MB: double (nullable = true)\n",
      " |-- GNV_hour_10_W_VideoHD_Pass_Data_Volume_MB: double (nullable = true)\n",
      " |-- GNV_hour_10_W_Video_Pass_Data_Volume_MB: double (nullable = true)\n",
      " |-- GNV_hour_11_WE_Chat_Zero_Data_Volume_MB: double (nullable = true)\n",
      " |-- GNV_hour_11_WE_Maps_Pass_Data_Volume_MB: double (nullable = true)\n",
      " |-- GNV_hour_11_WE_MasMegas_Data_Volume_MB: double (nullable = true)\n",
      " |-- GNV_hour_11_WE_Music_Pass_Data_Volume_MB: double (nullable = true)\n",
      " |-- GNV_hour_11_WE_RegularData_Data_Volume_MB: double (nullable = true)\n",
      " |-- GNV_hour_11_WE_Social_Pass_Data_Volume_MB: double (nullable = true)\n",
      " |-- GNV_hour_11_WE_VideoHD_Pass_Data_Volume_MB: double (nullable = true)\n",
      " |-- GNV_hour_11_WE_Video_Pass_Data_Volume_MB: double (nullable = true)\n",
      " |-- GNV_hour_11_W_Chat_Zero_Data_Volume_MB: double (nullable = true)\n",
      " |-- GNV_hour_11_W_Maps_Pass_Data_Volume_MB: double (nullable = true)\n",
      " |-- GNV_hour_11_W_MasMegas_Data_Volume_MB: double (nullable = true)\n",
      " |-- GNV_hour_11_W_Music_Pass_Data_Volume_MB: double (nullable = true)\n",
      " |-- GNV_hour_11_W_RegularData_Data_Volume_MB: double (nullable = true)\n",
      " |-- GNV_hour_11_W_Social_Pass_Data_Volume_MB: double (nullable = true)\n",
      " |-- GNV_hour_11_W_VideoHD_Pass_Data_Volume_MB: double (nullable = true)\n",
      " |-- GNV_hour_11_W_Video_Pass_Data_Volume_MB: double (nullable = true)\n",
      " |-- GNV_hour_12_WE_Chat_Zero_Data_Volume_MB: double (nullable = true)\n",
      " |-- GNV_hour_12_WE_Maps_Pass_Data_Volume_MB: double (nullable = true)\n",
      " |-- GNV_hour_12_WE_MasMegas_Data_Volume_MB: double (nullable = true)\n",
      " |-- GNV_hour_12_WE_Music_Pass_Data_Volume_MB: double (nullable = true)\n",
      " |-- GNV_hour_12_WE_RegularData_Data_Volume_MB: double (nullable = true)\n",
      " |-- GNV_hour_12_WE_Social_Pass_Data_Volume_MB: double (nullable = true)\n",
      " |-- GNV_hour_12_WE_VideoHD_Pass_Data_Volume_MB: double (nullable = true)\n",
      " |-- GNV_hour_12_WE_Video_Pass_Data_Volume_MB: double (nullable = true)\n",
      " |-- GNV_hour_12_W_Chat_Zero_Data_Volume_MB: double (nullable = true)\n",
      " |-- GNV_hour_12_W_Maps_Pass_Data_Volume_MB: double (nullable = true)\n",
      " |-- GNV_hour_12_W_MasMegas_Data_Volume_MB: double (nullable = true)\n",
      " |-- GNV_hour_12_W_Music_Pass_Data_Volume_MB: double (nullable = true)\n",
      " |-- GNV_hour_12_W_RegularData_Data_Volume_MB: double (nullable = true)\n",
      " |-- GNV_hour_12_W_Social_Pass_Data_Volume_MB: double (nullable = true)\n",
      " |-- GNV_hour_12_W_VideoHD_Pass_Data_Volume_MB: double (nullable = true)\n",
      " |-- GNV_hour_12_W_Video_Pass_Data_Volume_MB: double (nullable = true)\n",
      " |-- GNV_hour_13_WE_Chat_Zero_Data_Volume_MB: double (nullable = true)\n",
      " |-- GNV_hour_13_WE_Maps_Pass_Data_Volume_MB: double (nullable = true)\n",
      " |-- GNV_hour_13_WE_MasMegas_Data_Volume_MB: double (nullable = true)\n",
      " |-- GNV_hour_13_WE_Music_Pass_Data_Volume_MB: double (nullable = true)\n",
      " |-- GNV_hour_13_WE_RegularData_Data_Volume_MB: double (nullable = true)\n",
      " |-- GNV_hour_13_WE_Social_Pass_Data_Volume_MB: double (nullable = true)\n",
      " |-- GNV_hour_13_WE_VideoHD_Pass_Data_Volume_MB: double (nullable = true)\n",
      " |-- GNV_hour_13_WE_Video_Pass_Data_Volume_MB: double (nullable = true)\n",
      " |-- GNV_hour_13_W_Chat_Zero_Data_Volume_MB: double (nullable = true)\n",
      " |-- GNV_hour_13_W_Maps_Pass_Data_Volume_MB: double (nullable = true)\n",
      " |-- GNV_hour_13_W_MasMegas_Data_Volume_MB: double (nullable = true)\n",
      " |-- GNV_hour_13_W_Music_Pass_Data_Volume_MB: double (nullable = true)\n",
      " |-- GNV_hour_13_W_RegularData_Data_Volume_MB: double (nullable = true)\n",
      " |-- GNV_hour_13_W_Social_Pass_Data_Volume_MB: double (nullable = true)\n",
      " |-- GNV_hour_13_W_VideoHD_Pass_Data_Volume_MB: double (nullable = true)\n",
      " |-- GNV_hour_13_W_Video_Pass_Data_Volume_MB: double (nullable = true)\n",
      " |-- GNV_hour_14_WE_Chat_Zero_Data_Volume_MB: double (nullable = true)\n",
      " |-- GNV_hour_14_WE_Maps_Pass_Data_Volume_MB: double (nullable = true)\n",
      " |-- GNV_hour_14_WE_MasMegas_Data_Volume_MB: double (nullable = true)\n",
      " |-- GNV_hour_14_WE_Music_Pass_Data_Volume_MB: double (nullable = true)\n",
      " |-- GNV_hour_14_WE_RegularData_Data_Volume_MB: double (nullable = true)\n",
      " |-- GNV_hour_14_WE_Social_Pass_Data_Volume_MB: double (nullable = true)\n",
      " |-- GNV_hour_14_WE_VideoHD_Pass_Data_Volume_MB: double (nullable = true)\n",
      " |-- GNV_hour_14_WE_Video_Pass_Data_Volume_MB: double (nullable = true)\n",
      " |-- GNV_hour_14_W_Chat_Zero_Data_Volume_MB: double (nullable = true)\n",
      " |-- GNV_hour_14_W_Maps_Pass_Data_Volume_MB: double (nullable = true)\n",
      " |-- GNV_hour_14_W_MasMegas_Data_Volume_MB: double (nullable = true)\n",
      " |-- GNV_hour_14_W_Music_Pass_Data_Volume_MB: double (nullable = true)\n",
      " |-- GNV_hour_14_W_RegularData_Data_Volume_MB: double (nullable = true)\n",
      " |-- GNV_hour_14_W_Social_Pass_Data_Volume_MB: double (nullable = true)\n",
      " |-- GNV_hour_14_W_VideoHD_Pass_Data_Volume_MB: double (nullable = true)\n",
      " |-- GNV_hour_14_W_Video_Pass_Data_Volume_MB: double (nullable = true)\n",
      " |-- GNV_hour_15_WE_Chat_Zero_Data_Volume_MB: double (nullable = true)\n",
      " |-- GNV_hour_15_WE_Maps_Pass_Data_Volume_MB: double (nullable = true)\n",
      " |-- GNV_hour_15_WE_MasMegas_Data_Volume_MB: double (nullable = true)\n",
      " |-- GNV_hour_15_WE_Music_Pass_Data_Volume_MB: double (nullable = true)\n",
      " |-- GNV_hour_15_WE_RegularData_Data_Volume_MB: double (nullable = true)\n",
      " |-- GNV_hour_15_WE_Social_Pass_Data_Volume_MB: double (nullable = true)\n",
      " |-- GNV_hour_15_WE_VideoHD_Pass_Data_Volume_MB: double (nullable = true)\n",
      " |-- GNV_hour_15_WE_Video_Pass_Data_Volume_MB: double (nullable = true)\n",
      " |-- GNV_hour_15_W_Chat_Zero_Data_Volume_MB: double (nullable = true)\n",
      " |-- GNV_hour_15_W_Maps_Pass_Data_Volume_MB: double (nullable = true)\n",
      " |-- GNV_hour_15_W_MasMegas_Data_Volume_MB: double (nullable = true)\n",
      " |-- GNV_hour_15_W_Music_Pass_Data_Volume_MB: double (nullable = true)\n",
      " |-- GNV_hour_15_W_RegularData_Data_Volume_MB: double (nullable = true)\n",
      " |-- GNV_hour_15_W_Social_Pass_Data_Volume_MB: double (nullable = true)\n",
      " |-- GNV_hour_15_W_VideoHD_Pass_Data_Volume_MB: double (nullable = true)\n",
      " |-- GNV_hour_15_W_Video_Pass_Data_Volume_MB: double (nullable = true)\n",
      " |-- GNV_hour_16_WE_Chat_Zero_Data_Volume_MB: double (nullable = true)\n",
      " |-- GNV_hour_16_WE_Maps_Pass_Data_Volume_MB: double (nullable = true)\n",
      " |-- GNV_hour_16_WE_MasMegas_Data_Volume_MB: double (nullable = true)\n",
      " |-- GNV_hour_16_WE_Music_Pass_Data_Volume_MB: double (nullable = true)\n",
      " |-- GNV_hour_16_WE_RegularData_Data_Volume_MB: double (nullable = true)\n",
      " |-- GNV_hour_16_WE_Social_Pass_Data_Volume_MB: double (nullable = true)\n",
      " |-- GNV_hour_16_WE_VideoHD_Pass_Data_Volume_MB: double (nullable = true)\n",
      " |-- GNV_hour_16_WE_Video_Pass_Data_Volume_MB: double (nullable = true)\n",
      " |-- GNV_hour_16_W_Chat_Zero_Data_Volume_MB: double (nullable = true)\n",
      " |-- GNV_hour_16_W_Maps_Pass_Data_Volume_MB: double (nullable = true)\n",
      " |-- GNV_hour_16_W_MasMegas_Data_Volume_MB: double (nullable = true)\n",
      " |-- GNV_hour_16_W_Music_Pass_Data_Volume_MB: double (nullable = true)\n",
      " |-- GNV_hour_16_W_RegularData_Data_Volume_MB: double (nullable = true)\n",
      " |-- GNV_hour_16_W_Social_Pass_Data_Volume_MB: double (nullable = true)\n",
      " |-- GNV_hour_16_W_VideoHD_Pass_Data_Volume_MB: double (nullable = true)\n",
      " |-- GNV_hour_16_W_Video_Pass_Data_Volume_MB: double (nullable = true)\n",
      " |-- GNV_hour_17_WE_Chat_Zero_Data_Volume_MB: double (nullable = true)\n",
      " |-- GNV_hour_17_WE_Maps_Pass_Data_Volume_MB: double (nullable = true)\n",
      " |-- GNV_hour_17_WE_MasMegas_Data_Volume_MB: double (nullable = true)\n",
      " |-- GNV_hour_17_WE_Music_Pass_Data_Volume_MB: double (nullable = true)\n",
      " |-- GNV_hour_17_WE_RegularData_Data_Volume_MB: double (nullable = true)\n",
      " |-- GNV_hour_17_WE_Social_Pass_Data_Volume_MB: double (nullable = true)\n",
      " |-- GNV_hour_17_WE_VideoHD_Pass_Data_Volume_MB: double (nullable = true)\n",
      " |-- GNV_hour_17_WE_Video_Pass_Data_Volume_MB: double (nullable = true)\n",
      " |-- GNV_hour_17_W_Chat_Zero_Data_Volume_MB: double (nullable = true)\n",
      " |-- GNV_hour_17_W_Maps_Pass_Data_Volume_MB: double (nullable = true)\n",
      " |-- GNV_hour_17_W_MasMegas_Data_Volume_MB: double (nullable = true)\n",
      " |-- GNV_hour_17_W_Music_Pass_Data_Volume_MB: double (nullable = true)\n",
      " |-- GNV_hour_17_W_RegularData_Data_Volume_MB: double (nullable = true)\n",
      " |-- GNV_hour_17_W_Social_Pass_Data_Volume_MB: double (nullable = true)\n",
      " |-- GNV_hour_17_W_VideoHD_Pass_Data_Volume_MB: double (nullable = true)\n",
      " |-- GNV_hour_17_W_Video_Pass_Data_Volume_MB: double (nullable = true)\n",
      " |-- GNV_hour_18_WE_Chat_Zero_Data_Volume_MB: double (nullable = true)\n",
      " |-- GNV_hour_18_WE_Maps_Pass_Data_Volume_MB: double (nullable = true)\n",
      " |-- GNV_hour_18_WE_MasMegas_Data_Volume_MB: double (nullable = true)\n",
      " |-- GNV_hour_18_WE_Music_Pass_Data_Volume_MB: double (nullable = true)\n",
      " |-- GNV_hour_18_WE_RegularData_Data_Volume_MB: double (nullable = true)\n",
      " |-- GNV_hour_18_WE_Social_Pass_Data_Volume_MB: double (nullable = true)\n",
      " |-- GNV_hour_18_WE_VideoHD_Pass_Data_Volume_MB: double (nullable = true)\n",
      " |-- GNV_hour_18_WE_Video_Pass_Data_Volume_MB: double (nullable = true)\n",
      " |-- GNV_hour_18_W_Chat_Zero_Data_Volume_MB: double (nullable = true)\n",
      " |-- GNV_hour_18_W_Maps_Pass_Data_Volume_MB: double (nullable = true)\n",
      " |-- GNV_hour_18_W_MasMegas_Data_Volume_MB: double (nullable = true)\n",
      " |-- GNV_hour_18_W_Music_Pass_Data_Volume_MB: double (nullable = true)\n",
      " |-- GNV_hour_18_W_RegularData_Data_Volume_MB: double (nullable = true)\n",
      " |-- GNV_hour_18_W_Social_Pass_Data_Volume_MB: double (nullable = true)\n",
      " |-- GNV_hour_18_W_VideoHD_Pass_Data_Volume_MB: double (nullable = true)\n",
      " |-- GNV_hour_18_W_Video_Pass_Data_Volume_MB: double (nullable = true)\n",
      " |-- GNV_hour_19_WE_Chat_Zero_Data_Volume_MB: double (nullable = true)\n",
      " |-- GNV_hour_19_WE_Maps_Pass_Data_Volume_MB: double (nullable = true)\n",
      " |-- GNV_hour_19_WE_MasMegas_Data_Volume_MB: double (nullable = true)\n",
      " |-- GNV_hour_19_WE_Music_Pass_Data_Volume_MB: double (nullable = true)\n",
      " |-- GNV_hour_19_WE_RegularData_Data_Volume_MB: double (nullable = true)\n",
      " |-- GNV_hour_19_WE_Social_Pass_Data_Volume_MB: double (nullable = true)\n",
      " |-- GNV_hour_19_WE_VideoHD_Pass_Data_Volume_MB: double (nullable = true)\n",
      " |-- GNV_hour_19_WE_Video_Pass_Data_Volume_MB: double (nullable = true)\n",
      " |-- GNV_hour_19_W_Chat_Zero_Data_Volume_MB: double (nullable = true)\n",
      " |-- GNV_hour_19_W_Maps_Pass_Data_Volume_MB: double (nullable = true)\n",
      " |-- GNV_hour_19_W_MasMegas_Data_Volume_MB: double (nullable = true)\n",
      " |-- GNV_hour_19_W_Music_Pass_Data_Volume_MB: double (nullable = true)\n",
      " |-- GNV_hour_19_W_RegularData_Data_Volume_MB: double (nullable = true)\n",
      " |-- GNV_hour_19_W_Social_Pass_Data_Volume_MB: double (nullable = true)\n",
      " |-- GNV_hour_19_W_VideoHD_Pass_Data_Volume_MB: double (nullable = true)\n",
      " |-- GNV_hour_19_W_Video_Pass_Data_Volume_MB: double (nullable = true)\n",
      " |-- GNV_hour_1_WE_Chat_Zero_Data_Volume_MB: double (nullable = true)\n",
      " |-- GNV_hour_1_WE_Maps_Pass_Data_Volume_MB: double (nullable = true)\n",
      " |-- GNV_hour_1_WE_MasMegas_Data_Volume_MB: double (nullable = true)\n",
      " |-- GNV_hour_1_WE_Music_Pass_Data_Volume_MB: double (nullable = true)\n",
      " |-- GNV_hour_1_WE_RegularData_Data_Volume_MB: double (nullable = true)\n",
      " |-- GNV_hour_1_WE_Social_Pass_Data_Volume_MB: double (nullable = true)\n",
      " |-- GNV_hour_1_WE_VideoHD_Pass_Data_Volume_MB: double (nullable = true)\n",
      " |-- GNV_hour_1_WE_Video_Pass_Data_Volume_MB: double (nullable = true)\n",
      " |-- GNV_hour_1_W_Chat_Zero_Data_Volume_MB: double (nullable = true)\n",
      " |-- GNV_hour_1_W_Maps_Pass_Data_Volume_MB: double (nullable = true)\n",
      " |-- GNV_hour_1_W_MasMegas_Data_Volume_MB: double (nullable = true)\n",
      " |-- GNV_hour_1_W_Music_Pass_Data_Volume_MB: double (nullable = true)\n",
      " |-- GNV_hour_1_W_RegularData_Data_Volume_MB: double (nullable = true)\n",
      " |-- GNV_hour_1_W_Social_Pass_Data_Volume_MB: double (nullable = true)\n",
      " |-- GNV_hour_1_W_VideoHD_Pass_Data_Volume_MB: double (nullable = true)\n",
      " |-- GNV_hour_1_W_Video_Pass_Data_Volume_MB: double (nullable = true)\n",
      " |-- GNV_hour_20_WE_Chat_Zero_Data_Volume_MB: double (nullable = true)\n",
      " |-- GNV_hour_20_WE_Maps_Pass_Data_Volume_MB: double (nullable = true)\n",
      " |-- GNV_hour_20_WE_MasMegas_Data_Volume_MB: double (nullable = true)\n",
      " |-- GNV_hour_20_WE_Music_Pass_Data_Volume_MB: double (nullable = true)\n",
      " |-- GNV_hour_20_WE_RegularData_Data_Volume_MB: double (nullable = true)\n",
      " |-- GNV_hour_20_WE_Social_Pass_Data_Volume_MB: double (nullable = true)\n",
      " |-- GNV_hour_20_WE_VideoHD_Pass_Data_Volume_MB: double (nullable = true)\n",
      " |-- GNV_hour_20_WE_Video_Pass_Data_Volume_MB: double (nullable = true)\n",
      " |-- GNV_hour_20_W_Chat_Zero_Data_Volume_MB: double (nullable = true)\n",
      " |-- GNV_hour_20_W_Maps_Pass_Data_Volume_MB: double (nullable = true)\n",
      " |-- GNV_hour_20_W_MasMegas_Data_Volume_MB: double (nullable = true)\n",
      " |-- GNV_hour_20_W_Music_Pass_Data_Volume_MB: double (nullable = true)\n",
      " |-- GNV_hour_20_W_RegularData_Data_Volume_MB: double (nullable = true)\n",
      " |-- GNV_hour_20_W_Social_Pass_Data_Volume_MB: double (nullable = true)\n",
      " |-- GNV_hour_20_W_VideoHD_Pass_Data_Volume_MB: double (nullable = true)\n",
      " |-- GNV_hour_20_W_Video_Pass_Data_Volume_MB: double (nullable = true)\n",
      " |-- GNV_hour_21_WE_Chat_Zero_Data_Volume_MB: double (nullable = true)\n",
      " |-- GNV_hour_21_WE_Maps_Pass_Data_Volume_MB: double (nullable = true)\n",
      " |-- GNV_hour_21_WE_MasMegas_Data_Volume_MB: double (nullable = true)\n",
      " |-- GNV_hour_21_WE_Music_Pass_Data_Volume_MB: double (nullable = true)\n",
      " |-- GNV_hour_21_WE_RegularData_Data_Volume_MB: double (nullable = true)\n",
      " |-- GNV_hour_21_WE_Social_Pass_Data_Volume_MB: double (nullable = true)\n",
      " |-- GNV_hour_21_WE_VideoHD_Pass_Data_Volume_MB: double (nullable = true)\n",
      " |-- GNV_hour_21_WE_Video_Pass_Data_Volume_MB: double (nullable = true)\n",
      " |-- GNV_hour_21_W_Chat_Zero_Data_Volume_MB: double (nullable = true)\n",
      " |-- GNV_hour_21_W_Maps_Pass_Data_Volume_MB: double (nullable = true)\n",
      " |-- GNV_hour_21_W_MasMegas_Data_Volume_MB: double (nullable = true)\n",
      " |-- GNV_hour_21_W_Music_Pass_Data_Volume_MB: double (nullable = true)\n",
      " |-- GNV_hour_21_W_RegularData_Data_Volume_MB: double (nullable = true)\n",
      " |-- GNV_hour_21_W_Social_Pass_Data_Volume_MB: double (nullable = true)\n",
      " |-- GNV_hour_21_W_VideoHD_Pass_Data_Volume_MB: double (nullable = true)\n",
      " |-- GNV_hour_21_W_Video_Pass_Data_Volume_MB: double (nullable = true)\n",
      " |-- GNV_hour_22_WE_Chat_Zero_Data_Volume_MB: double (nullable = true)\n",
      " |-- GNV_hour_22_WE_Maps_Pass_Data_Volume_MB: double (nullable = true)\n",
      " |-- GNV_hour_22_WE_MasMegas_Data_Volume_MB: double (nullable = true)\n",
      " |-- GNV_hour_22_WE_Music_Pass_Data_Volume_MB: double (nullable = true)\n",
      " |-- GNV_hour_22_WE_RegularData_Data_Volume_MB: double (nullable = true)\n",
      " |-- GNV_hour_22_WE_Social_Pass_Data_Volume_MB: double (nullable = true)\n",
      " |-- GNV_hour_22_WE_VideoHD_Pass_Data_Volume_MB: double (nullable = true)\n",
      " |-- GNV_hour_22_WE_Video_Pass_Data_Volume_MB: double (nullable = true)\n",
      " |-- GNV_hour_22_W_Chat_Zero_Data_Volume_MB: double (nullable = true)\n",
      " |-- GNV_hour_22_W_Maps_Pass_Data_Volume_MB: double (nullable = true)\n",
      " |-- GNV_hour_22_W_MasMegas_Data_Volume_MB: double (nullable = true)\n",
      " |-- GNV_hour_22_W_Music_Pass_Data_Volume_MB: double (nullable = true)\n",
      " |-- GNV_hour_22_W_RegularData_Data_Volume_MB: double (nullable = true)\n",
      " |-- GNV_hour_22_W_Social_Pass_Data_Volume_MB: double (nullable = true)\n",
      " |-- GNV_hour_22_W_VideoHD_Pass_Data_Volume_MB: double (nullable = true)\n",
      " |-- GNV_hour_22_W_Video_Pass_Data_Volume_MB: double (nullable = true)\n",
      " |-- GNV_hour_23_WE_Chat_Zero_Data_Volume_MB: double (nullable = true)\n",
      " |-- GNV_hour_23_WE_Maps_Pass_Data_Volume_MB: double (nullable = true)\n",
      " |-- GNV_hour_23_WE_MasMegas_Data_Volume_MB: double (nullable = true)\n",
      " |-- GNV_hour_23_WE_Music_Pass_Data_Volume_MB: double (nullable = true)\n",
      " |-- GNV_hour_23_WE_RegularData_Data_Volume_MB: double (nullable = true)\n",
      " |-- GNV_hour_23_WE_Social_Pass_Data_Volume_MB: double (nullable = true)\n",
      " |-- GNV_hour_23_WE_VideoHD_Pass_Data_Volume_MB: double (nullable = true)\n",
      " |-- GNV_hour_23_WE_Video_Pass_Data_Volume_MB: double (nullable = true)\n",
      " |-- GNV_hour_23_W_Chat_Zero_Data_Volume_MB: double (nullable = true)\n",
      " |-- GNV_hour_23_W_Maps_Pass_Data_Volume_MB: double (nullable = true)\n",
      " |-- GNV_hour_23_W_MasMegas_Data_Volume_MB: double (nullable = true)\n",
      " |-- GNV_hour_23_W_Music_Pass_Data_Volume_MB: double (nullable = true)\n",
      " |-- GNV_hour_23_W_RegularData_Data_Volume_MB: double (nullable = true)\n",
      " |-- GNV_hour_23_W_Social_Pass_Data_Volume_MB: double (nullable = true)\n",
      " |-- GNV_hour_23_W_VideoHD_Pass_Data_Volume_MB: double (nullable = true)\n",
      " |-- GNV_hour_23_W_Video_Pass_Data_Volume_MB: double (nullable = true)\n",
      " |-- GNV_hour_2_WE_Chat_Zero_Data_Volume_MB: double (nullable = true)\n",
      " |-- GNV_hour_2_WE_Maps_Pass_Data_Volume_MB: double (nullable = true)\n",
      " |-- GNV_hour_2_WE_MasMegas_Data_Volume_MB: double (nullable = true)\n",
      " |-- GNV_hour_2_WE_Music_Pass_Data_Volume_MB: double (nullable = true)\n",
      " |-- GNV_hour_2_WE_RegularData_Data_Volume_MB: double (nullable = true)\n",
      " |-- GNV_hour_2_WE_Social_Pass_Data_Volume_MB: double (nullable = true)\n",
      " |-- GNV_hour_2_WE_VideoHD_Pass_Data_Volume_MB: double (nullable = true)\n",
      " |-- GNV_hour_2_WE_Video_Pass_Data_Volume_MB: double (nullable = true)\n",
      " |-- GNV_hour_2_W_Chat_Zero_Data_Volume_MB: double (nullable = true)\n",
      " |-- GNV_hour_2_W_Maps_Pass_Data_Volume_MB: double (nullable = true)\n",
      " |-- GNV_hour_2_W_MasMegas_Data_Volume_MB: double (nullable = true)\n",
      " |-- GNV_hour_2_W_Music_Pass_Data_Volume_MB: double (nullable = true)\n",
      " |-- GNV_hour_2_W_RegularData_Data_Volume_MB: double (nullable = true)\n",
      " |-- GNV_hour_2_W_Social_Pass_Data_Volume_MB: double (nullable = true)\n",
      " |-- GNV_hour_2_W_VideoHD_Pass_Data_Volume_MB: double (nullable = true)\n",
      " |-- GNV_hour_2_W_Video_Pass_Data_Volume_MB: double (nullable = true)\n",
      " |-- GNV_hour_3_WE_Chat_Zero_Data_Volume_MB: double (nullable = true)\n",
      " |-- GNV_hour_3_WE_Maps_Pass_Data_Volume_MB: double (nullable = true)\n",
      " |-- GNV_hour_3_WE_MasMegas_Data_Volume_MB: double (nullable = true)\n",
      " |-- GNV_hour_3_WE_Music_Pass_Data_Volume_MB: double (nullable = true)\n",
      " |-- GNV_hour_3_WE_RegularData_Data_Volume_MB: double (nullable = true)\n",
      " |-- GNV_hour_3_WE_Social_Pass_Data_Volume_MB: double (nullable = true)\n",
      " |-- GNV_hour_3_WE_VideoHD_Pass_Data_Volume_MB: double (nullable = true)\n",
      " |-- GNV_hour_3_WE_Video_Pass_Data_Volume_MB: double (nullable = true)\n",
      " |-- GNV_hour_3_W_Chat_Zero_Data_Volume_MB: double (nullable = true)\n",
      " |-- GNV_hour_3_W_Maps_Pass_Data_Volume_MB: double (nullable = true)\n",
      " |-- GNV_hour_3_W_MasMegas_Data_Volume_MB: double (nullable = true)\n",
      " |-- GNV_hour_3_W_Music_Pass_Data_Volume_MB: double (nullable = true)\n",
      " |-- GNV_hour_3_W_RegularData_Data_Volume_MB: double (nullable = true)\n",
      " |-- GNV_hour_3_W_Social_Pass_Data_Volume_MB: double (nullable = true)\n",
      " |-- GNV_hour_3_W_VideoHD_Pass_Data_Volume_MB: double (nullable = true)\n",
      " |-- GNV_hour_3_W_Video_Pass_Data_Volume_MB: double (nullable = true)\n",
      " |-- GNV_hour_4_WE_Chat_Zero_Data_Volume_MB: double (nullable = true)\n",
      " |-- GNV_hour_4_WE_Maps_Pass_Data_Volume_MB: double (nullable = true)\n",
      " |-- GNV_hour_4_WE_MasMegas_Data_Volume_MB: double (nullable = true)\n",
      " |-- GNV_hour_4_WE_Music_Pass_Data_Volume_MB: double (nullable = true)\n",
      " |-- GNV_hour_4_WE_RegularData_Data_Volume_MB: double (nullable = true)\n",
      " |-- GNV_hour_4_WE_Social_Pass_Data_Volume_MB: double (nullable = true)\n",
      " |-- GNV_hour_4_WE_VideoHD_Pass_Data_Volume_MB: double (nullable = true)\n",
      " |-- GNV_hour_4_WE_Video_Pass_Data_Volume_MB: double (nullable = true)\n",
      " |-- GNV_hour_4_W_Chat_Zero_Data_Volume_MB: double (nullable = true)\n",
      " |-- GNV_hour_4_W_Maps_Pass_Data_Volume_MB: double (nullable = true)\n",
      " |-- GNV_hour_4_W_MasMegas_Data_Volume_MB: double (nullable = true)\n",
      " |-- GNV_hour_4_W_Music_Pass_Data_Volume_MB: double (nullable = true)\n",
      " |-- GNV_hour_4_W_RegularData_Data_Volume_MB: double (nullable = true)\n",
      " |-- GNV_hour_4_W_Social_Pass_Data_Volume_MB: double (nullable = true)\n",
      " |-- GNV_hour_4_W_VideoHD_Pass_Data_Volume_MB: double (nullable = true)\n",
      " |-- GNV_hour_4_W_Video_Pass_Data_Volume_MB: double (nullable = true)\n",
      " |-- GNV_hour_5_WE_Chat_Zero_Data_Volume_MB: double (nullable = true)\n",
      " |-- GNV_hour_5_WE_Maps_Pass_Data_Volume_MB: double (nullable = true)\n",
      " |-- GNV_hour_5_WE_MasMegas_Data_Volume_MB: double (nullable = true)\n",
      " |-- GNV_hour_5_WE_Music_Pass_Data_Volume_MB: double (nullable = true)\n",
      " |-- GNV_hour_5_WE_RegularData_Data_Volume_MB: double (nullable = true)\n",
      " |-- GNV_hour_5_WE_Social_Pass_Data_Volume_MB: double (nullable = true)\n",
      " |-- GNV_hour_5_WE_VideoHD_Pass_Data_Volume_MB: double (nullable = true)\n",
      " |-- GNV_hour_5_WE_Video_Pass_Data_Volume_MB: double (nullable = true)\n",
      " |-- GNV_hour_5_W_Chat_Zero_Data_Volume_MB: double (nullable = true)\n",
      " |-- GNV_hour_5_W_Maps_Pass_Data_Volume_MB: double (nullable = true)\n",
      " |-- GNV_hour_5_W_MasMegas_Data_Volume_MB: double (nullable = true)\n",
      " |-- GNV_hour_5_W_Music_Pass_Data_Volume_MB: double (nullable = true)\n",
      " |-- GNV_hour_5_W_RegularData_Data_Volume_MB: double (nullable = true)\n",
      " |-- GNV_hour_5_W_Social_Pass_Data_Volume_MB: double (nullable = true)\n",
      " |-- GNV_hour_5_W_VideoHD_Pass_Data_Volume_MB: double (nullable = true)\n",
      " |-- GNV_hour_5_W_Video_Pass_Data_Volume_MB: double (nullable = true)\n",
      " |-- GNV_hour_6_WE_Chat_Zero_Data_Volume_MB: double (nullable = true)\n",
      " |-- GNV_hour_6_WE_Maps_Pass_Data_Volume_MB: double (nullable = true)\n",
      " |-- GNV_hour_6_WE_MasMegas_Data_Volume_MB: double (nullable = true)\n",
      " |-- GNV_hour_6_WE_Music_Pass_Data_Volume_MB: double (nullable = true)\n",
      " |-- GNV_hour_6_WE_RegularData_Data_Volume_MB: double (nullable = true)\n",
      " |-- GNV_hour_6_WE_Social_Pass_Data_Volume_MB: double (nullable = true)\n",
      " |-- GNV_hour_6_WE_VideoHD_Pass_Data_Volume_MB: double (nullable = true)\n",
      " |-- GNV_hour_6_WE_Video_Pass_Data_Volume_MB: double (nullable = true)\n",
      " |-- GNV_hour_6_W_Chat_Zero_Data_Volume_MB: double (nullable = true)\n",
      " |-- GNV_hour_6_W_Maps_Pass_Data_Volume_MB: double (nullable = true)\n",
      " |-- GNV_hour_6_W_MasMegas_Data_Volume_MB: double (nullable = true)\n",
      " |-- GNV_hour_6_W_Music_Pass_Data_Volume_MB: double (nullable = true)\n",
      " |-- GNV_hour_6_W_RegularData_Data_Volume_MB: double (nullable = true)\n",
      " |-- GNV_hour_6_W_Social_Pass_Data_Volume_MB: double (nullable = true)\n",
      " |-- GNV_hour_6_W_VideoHD_Pass_Data_Volume_MB: double (nullable = true)\n",
      " |-- GNV_hour_6_W_Video_Pass_Data_Volume_MB: double (nullable = true)\n",
      " |-- GNV_hour_7_WE_Chat_Zero_Data_Volume_MB: double (nullable = true)\n",
      " |-- GNV_hour_7_WE_Maps_Pass_Data_Volume_MB: double (nullable = true)\n",
      " |-- GNV_hour_7_WE_MasMegas_Data_Volume_MB: double (nullable = true)\n",
      " |-- GNV_hour_7_WE_Music_Pass_Data_Volume_MB: double (nullable = true)\n",
      " |-- GNV_hour_7_WE_RegularData_Data_Volume_MB: double (nullable = true)\n",
      " |-- GNV_hour_7_WE_Social_Pass_Data_Volume_MB: double (nullable = true)\n",
      " |-- GNV_hour_7_WE_VideoHD_Pass_Data_Volume_MB: double (nullable = true)\n",
      " |-- GNV_hour_7_WE_Video_Pass_Data_Volume_MB: double (nullable = true)\n",
      " |-- GNV_hour_7_W_Chat_Zero_Data_Volume_MB: double (nullable = true)\n",
      " |-- GNV_hour_7_W_Maps_Pass_Data_Volume_MB: double (nullable = true)\n",
      " |-- GNV_hour_7_W_MasMegas_Data_Volume_MB: double (nullable = true)\n",
      " |-- GNV_hour_7_W_Music_Pass_Data_Volume_MB: double (nullable = true)\n",
      " |-- GNV_hour_7_W_RegularData_Data_Volume_MB: double (nullable = true)\n",
      " |-- GNV_hour_7_W_Social_Pass_Data_Volume_MB: double (nullable = true)\n",
      " |-- GNV_hour_7_W_VideoHD_Pass_Data_Volume_MB: double (nullable = true)\n",
      " |-- GNV_hour_7_W_Video_Pass_Data_Volume_MB: double (nullable = true)\n",
      " |-- GNV_hour_8_WE_Chat_Zero_Data_Volume_MB: double (nullable = true)\n",
      " |-- GNV_hour_8_WE_Maps_Pass_Data_Volume_MB: double (nullable = true)\n",
      " |-- GNV_hour_8_WE_MasMegas_Data_Volume_MB: double (nullable = true)\n",
      " |-- GNV_hour_8_WE_Music_Pass_Data_Volume_MB: double (nullable = true)\n",
      " |-- GNV_hour_8_WE_RegularData_Data_Volume_MB: double (nullable = true)\n",
      " |-- GNV_hour_8_WE_Social_Pass_Data_Volume_MB: double (nullable = true)\n",
      " |-- GNV_hour_8_WE_VideoHD_Pass_Data_Volume_MB: double (nullable = true)\n",
      " |-- GNV_hour_8_WE_Video_Pass_Data_Volume_MB: double (nullable = true)\n",
      " |-- GNV_hour_8_W_Chat_Zero_Data_Volume_MB: double (nullable = true)\n",
      " |-- GNV_hour_8_W_Maps_Pass_Data_Volume_MB: double (nullable = true)\n",
      " |-- GNV_hour_8_W_MasMegas_Data_Volume_MB: double (nullable = true)\n",
      " |-- GNV_hour_8_W_Music_Pass_Data_Volume_MB: double (nullable = true)\n",
      " |-- GNV_hour_8_W_RegularData_Data_Volume_MB: double (nullable = true)\n",
      " |-- GNV_hour_8_W_Social_Pass_Data_Volume_MB: double (nullable = true)\n",
      " |-- GNV_hour_8_W_VideoHD_Pass_Data_Volume_MB: double (nullable = true)\n",
      " |-- GNV_hour_8_W_Video_Pass_Data_Volume_MB: double (nullable = true)\n",
      " |-- GNV_hour_9_WE_Chat_Zero_Data_Volume_MB: double (nullable = true)\n",
      " |-- GNV_hour_9_WE_Maps_Pass_Data_Volume_MB: double (nullable = true)\n",
      " |-- GNV_hour_9_WE_MasMegas_Data_Volume_MB: double (nullable = true)\n",
      " |-- GNV_hour_9_WE_Music_Pass_Data_Volume_MB: double (nullable = true)\n",
      " |-- GNV_hour_9_WE_RegularData_Data_Volume_MB: double (nullable = true)\n",
      " |-- GNV_hour_9_WE_Social_Pass_Data_Volume_MB: double (nullable = true)\n",
      " |-- GNV_hour_9_WE_VideoHD_Pass_Data_Volume_MB: double (nullable = true)\n",
      " |-- GNV_hour_9_WE_Video_Pass_Data_Volume_MB: double (nullable = true)\n",
      " |-- GNV_hour_9_W_Chat_Zero_Data_Volume_MB: double (nullable = true)\n",
      " |-- GNV_hour_9_W_Maps_Pass_Data_Volume_MB: double (nullable = true)\n",
      " |-- GNV_hour_9_W_MasMegas_Data_Volume_MB: double (nullable = true)\n",
      " |-- GNV_hour_9_W_Music_Pass_Data_Volume_MB: double (nullable = true)\n",
      " |-- GNV_hour_9_W_RegularData_Data_Volume_MB: double (nullable = true)\n",
      " |-- GNV_hour_9_W_Social_Pass_Data_Volume_MB: double (nullable = true)\n",
      " |-- GNV_hour_9_W_VideoHD_Pass_Data_Volume_MB: double (nullable = true)\n",
      " |-- GNV_hour_9_W_Video_Pass_Data_Volume_MB: double (nullable = true)\n",
      " |-- fbb_services_nc: long (nullable = true)\n",
      " |-- fixed_services_nc: long (nullable = true)\n",
      " |-- mobile_services_nc: long (nullable = true)\n",
      " |-- prepaid_services_nc: long (nullable = true)\n",
      " |-- tv_services_nc: long (nullable = true)\n",
      " |-- Bill_N2_Amount_To_Pay: double (nullable = true)\n",
      " |-- NS_APPS_ACCUWEATHER_data_mb: double (nullable = true)\n",
      " |-- NS_APPS_ADULT_data_mb: double (nullable = true)\n",
      " |-- NS_APPS_ADULTWEB_data_mb: double (nullable = true)\n",
      " |-- NS_APPS_ALCOHOL_data_mb: double (nullable = true)\n",
      " |-- NS_APPS_ALIBABA_data_mb: double (nullable = true)\n",
      " |-- NS_APPS_ALIPAY_data_mb: double (nullable = true)\n",
      " |-- NS_APPS_AMAZON_data_mb: double (nullable = true)\n",
      " |-- NS_APPS_APPLE_data_mb: double (nullable = true)\n",
      " |-- NS_APPS_ARTS_data_mb: double (nullable = true)\n",
      " |-- NS_APPS_ASTROLOGY_data_mb: double (nullable = true)\n",
      " |-- NS_APPS_AUDIO_data_mb: double (nullable = true)\n",
      " |-- NS_APPS_AUTO_data_mb: double (nullable = true)\n",
      " |-- NS_APPS_BADOO_data_mb: double (nullable = true)\n",
      " |-- NS_APPS_BAIDU_data_mb: double (nullable = true)\n",
      " |-- NS_APPS_BBC_data_mb: double (nullable = true)\n",
      " |-- NS_APPS_BOOKING_data_mb: double (nullable = true)\n",
      " |-- NS_APPS_BOOKS_data_mb: double (nullable = true)\n",
      " |-- NS_APPS_BUSINESS_data_mb: double (nullable = true)\n",
      " |-- NS_APPS_CHATS_data_mb: double (nullable = true)\n",
      " |-- NS_APPS_CLASSIFIED_data_mb: double (nullable = true)\n",
      " |-- NS_APPS_DATING_data_mb: double (nullable = true)\n",
      " |-- NS_APPS_DROPBOX_data_mb: double (nullable = true)\n",
      " |-- NS_APPS_EBAY_data_mb: double (nullable = true)\n",
      " |-- NS_APPS_EDUCATION_data_mb: double (nullable = true)\n",
      " |-- NS_APPS_FACEBOOK_data_mb: double (nullable = true)\n",
      " |-- NS_APPS_FACEBOOKMESSAGES_data_mb: double (nullable = true)\n",
      " |-- NS_APPS_FACEBOOK_VIDEO_data_mb: double (nullable = true)\n",
      " |-- NS_APPS_FAMILY_data_mb: double (nullable = true)\n",
      " |-- NS_APPS_FASHION_data_mb: double (nullable = true)\n",
      " |-- NS_APPS_FINANCE_data_mb: double (nullable = true)\n",
      " |-- NS_APPS_FOOD_data_mb: double (nullable = true)\n",
      " |-- NS_APPS_FOURSQUARE_data_mb: double (nullable = true)\n",
      " |-- NS_APPS_GAMBLING_data_mb: double (nullable = true)\n",
      " |-- NS_APPS_GITHUB_data_mb: double (nullable = true)\n",
      " |-- NS_APPS_GMAIL_data_mb: double (nullable = true)\n",
      " |-- NS_APPS_GOOGLEDRIVE_data_mb: double (nullable = true)\n",
      " |-- NS_APPS_GOOGLEEARTH_data_mb: double (nullable = true)\n",
      " |-- NS_APPS_GOOGLEMAPS_data_mb: double (nullable = true)\n",
      " |-- NS_APPS_GOOGLEPLAY_data_mb: double (nullable = true)\n",
      " |-- NS_APPS_GROUPON_data_mb: double (nullable = true)\n",
      " |-- NS_APPS_HACKING_data_mb: double (nullable = true)\n",
      " |-- NS_APPS_HOME_data_mb: double (nullable = true)\n",
      " |-- NS_APPS_INSTAGRAM_data_mb: double (nullable = true)\n",
      " |-- NS_APPS_ITUNES_data_mb: double (nullable = true)\n",
      " |-- NS_APPS_JOBS_data_mb: double (nullable = true)\n",
      " |-- NS_APPS_KIDS_data_mb: double (nullable = true)\n",
      " |-- NS_APPS_LEGAL_data_mb: double (nullable = true)\n",
      " |-- NS_APPS_LINE_data_mb: double (nullable = true)\n",
      " |-- NS_APPS_LINKEDIN_data_mb: double (nullable = true)\n",
      " |-- NS_APPS_MEDICAL_data_mb: double (nullable = true)\n",
      " |-- NS_APPS_MUSIC_data_mb: double (nullable = true)\n",
      " |-- NS_APPS_NETFLIX_data_mb: double (nullable = true)\n",
      " |-- NS_APPS_NETFLIXVIDEO_data_mb: double (nullable = true)\n",
      " |-- NS_APPS_NEWS_data_mb: double (nullable = true)\n",
      " |-- NS_APPS_PAYPAL_data_mb: double (nullable = true)\n",
      " |-- NS_APPS_PETS_data_mb: double (nullable = true)\n",
      " |-- NS_APPS_PINTEREST_data_mb: double (nullable = true)\n",
      " |-- NS_APPS_POLITICS_data_mb: double (nullable = true)\n",
      " |-- NS_APPS_PREGNANCY_data_mb: double (nullable = true)\n",
      " |-- NS_APPS_QQ_data_mb: double (nullable = true)\n",
      " |-- NS_APPS_REDDIT_data_mb: double (nullable = true)\n",
      " |-- NS_APPS_SAMSUNG_data_mb: double (nullable = true)\n",
      " |-- NS_APPS_SCIENCE_data_mb: double (nullable = true)\n",
      " |-- NS_APPS_SHOPPING_data_mb: double (nullable = true)\n",
      " |-- NS_APPS_SKYPE_data_mb: double (nullable = true)\n",
      " |-- NS_APPS_SNAPCHAT_data_mb: double (nullable = true)\n",
      " |-- NS_APPS_SOCIALNETWORK_data_mb: double (nullable = true)\n",
      " |-- NS_APPS_SPORTS_data_mb: double (nullable = true)\n",
      " |-- NS_APPS_SPOTIFY_data_mb: double (nullable = true)\n",
      " |-- NS_APPS_STEAM_data_mb: double (nullable = true)\n",
      " |-- NS_APPS_TAOBAO_data_mb: double (nullable = true)\n",
      " |-- NS_APPS_TECHNOLOGY_data_mb: double (nullable = true)\n",
      " |-- NS_APPS_TRAVEL_data_mb: double (nullable = true)\n",
      " |-- NS_APPS_TUMBLR_data_mb: double (nullable = true)\n",
      " |-- NS_APPS_TWITCH_data_mb: double (nullable = true)\n",
      " |-- NS_APPS_TWITTER_data_mb: double (nullable = true)\n",
      " |-- NS_APPS_VIDEO_data_mb: double (nullable = true)\n",
      " |-- NS_APPS_VIDEOSTREAMING_data_mb: double (nullable = true)\n",
      " |-- NS_APPS_VIMEO_data_mb: double (nullable = true)\n",
      " |-- NS_APPS_VIOLENCE_data_mb: double (nullable = true)\n",
      " |-- NS_APPS_WEBGAMES_data_mb: double (nullable = true)\n",
      " |-- NS_APPS_WEBMOBILE_data_mb: double (nullable = true)\n",
      " |-- NS_APPS_WEB_JAZZTEL_data_mb: double (nullable = true)\n",
      " |-- NS_APPS_WEB_JAZZTEL_HTTP_data_mb: double (nullable = true)\n",
      " |-- NS_APPS_WEB_JAZZTEL_HTTPS_data_mb: double (nullable = true)\n",
      " |-- NS_APPS_WEB_LOWI_data_mb: double (nullable = true)\n",
      " |-- NS_APPS_WEB_LOWI_HTTP_data_mb: double (nullable = true)\n",
      " |-- NS_APPS_WEB_LOWI_HTTPS_data_mb: double (nullable = true)\n",
      " |-- NS_APPS_WEB_MARCACOM_HTTP_data_mb: double (nullable = true)\n",
      " |-- NS_APPS_WEB_MARCACOM_HTTPS_data_mb: double (nullable = true)\n",
      " |-- NS_APPS_WEB_MASMOVIL_data_mb: double (nullable = true)\n",
      " |-- NS_APPS_WEB_MASMOVIL_HTTP_data_mb: double (nullable = true)\n",
      " |-- NS_APPS_WEB_MASMOVIL_HTTPS_data_mb: double (nullable = true)\n",
      " |-- NS_APPS_WEB_MOVISTAR_data_mb: double (nullable = true)\n",
      " |-- NS_APPS_WEB_MOVISTAR_HTTP_data_mb: double (nullable = true)\n",
      " |-- NS_APPS_WEB_MOVISTAR_HTTPS_data_mb: double (nullable = true)\n",
      " |-- NS_APPS_WEB_O2_data_mb: double (nullable = true)\n",
      " |-- NS_APPS_WEB_O2_HTTP_data_mb: double (nullable = true)\n",
      " |-- NS_APPS_WEB_O2_HTTPS_data_mb: double (nullable = true)\n",
      " |-- NS_APPS_WEB_ORANGE_data_mb: double (nullable = true)\n",
      " |-- NS_APPS_WEB_ORANGE_HTTP_data_mb: double (nullable = true)\n",
      " |-- NS_APPS_WEB_ORANGE_HTTPS_data_mb: double (nullable = true)\n",
      " |-- NS_APPS_WEB_PEPEPHONE_data_mb: double (nullable = true)\n",
      " |-- NS_APPS_WEB_PEPEPHONE_HTTP_data_mb: double (nullable = true)\n",
      " |-- NS_APPS_WEB_PEPEPHONE_HTTPS_data_mb: double (nullable = true)\n",
      " |-- NS_APPS_WEB_VODAFONE_data_mb: double (nullable = true)\n",
      " |-- NS_APPS_WEB_VODAFONE_HTTP_data_mb: double (nullable = true)\n",
      " |-- NS_APPS_WEB_VODAFONE_HTTPS_data_mb: double (nullable = true)\n",
      " |-- NS_APPS_WEB_YOIGO_data_mb: double (nullable = true)\n",
      " |-- NS_APPS_WEB_YOIGO_HTTP_data_mb: double (nullable = true)\n",
      " |-- NS_APPS_WEB_YOIGO_HTTPS_data_mb: double (nullable = true)\n",
      " |-- NS_APPS_WEB_YOMVI_HTTP_data_mb: double (nullable = true)\n",
      " |-- NS_APPS_WEB_YOMVI_HTTPS_data_mb: double (nullable = true)\n",
      " |-- NS_APPS_WECHAT_data_mb: double (nullable = true)\n",
      " |-- NS_APPS_WHATSAPP_data_mb: double (nullable = true)\n",
      " |-- NS_APPS_WHATSAPP_MEDIA_MESSAGE_data_mb: double (nullable = true)\n",
      " |-- NS_APPS_WHATSAPP_VOICE_CALLING_data_mb: double (nullable = true)\n",
      " |-- NS_APPS_WIKIPEDIA_data_mb: double (nullable = true)\n",
      " |-- NS_APPS_YANDEX_data_mb: double (nullable = true)\n",
      " |-- NS_APPS_YOUTUBE_data_mb: double (nullable = true)\n",
      " |-- NS_APPS_ZYNGA_data_mb: double (nullable = true)\n",
      " |-- NS_APPS_ACCUWEATHER_days: long (nullable = true)\n",
      " |-- NS_APPS_ADULT_days: long (nullable = true)\n",
      " |-- NS_APPS_ADULTWEB_days: long (nullable = true)\n",
      " |-- NS_APPS_ALCOHOL_days: long (nullable = true)\n",
      " |-- NS_APPS_ALIBABA_days: long (nullable = true)\n",
      " |-- NS_APPS_ALIPAY_days: long (nullable = true)\n",
      " |-- NS_APPS_AMAZON_days: long (nullable = true)\n",
      " |-- NS_APPS_APPLE_days: long (nullable = true)\n",
      " |-- NS_APPS_ARTS_days: long (nullable = true)\n",
      " |-- NS_APPS_ASTROLOGY_days: long (nullable = true)\n",
      " |-- NS_APPS_AUDIO_days: long (nullable = true)\n",
      " |-- NS_APPS_AUTO_days: long (nullable = true)\n",
      " |-- NS_APPS_BADOO_days: long (nullable = true)\n",
      " |-- NS_APPS_BAIDU_days: long (nullable = true)\n",
      " |-- NS_APPS_BBC_days: long (nullable = true)\n",
      " |-- NS_APPS_BOOKING_days: long (nullable = true)\n",
      " |-- NS_APPS_BOOKS_days: long (nullable = true)\n",
      " |-- NS_APPS_BUSINESS_days: long (nullable = true)\n",
      " |-- NS_APPS_CHATS_days: long (nullable = true)\n",
      " |-- NS_APPS_CLASSIFIED_days: long (nullable = true)\n",
      " |-- NS_APPS_DATING_days: long (nullable = true)\n",
      " |-- NS_APPS_DROPBOX_days: long (nullable = true)\n",
      " |-- NS_APPS_EBAY_days: long (nullable = true)\n",
      " |-- NS_APPS_EDUCATION_days: long (nullable = true)\n",
      " |-- NS_APPS_FACEBOOK_days: long (nullable = true)\n",
      " |-- NS_APPS_FACEBOOKMESSAGES_days: long (nullable = true)\n",
      " |-- NS_APPS_FACEBOOK_VIDEO_days: long (nullable = true)\n",
      " |-- NS_APPS_FAMILY_days: long (nullable = true)\n",
      " |-- NS_APPS_FASHION_days: long (nullable = true)\n",
      " |-- NS_APPS_FINANCE_days: long (nullable = true)\n",
      " |-- NS_APPS_FOOD_days: long (nullable = true)\n",
      " |-- NS_APPS_FOURSQUARE_days: long (nullable = true)\n",
      " |-- NS_APPS_GAMBLING_days: long (nullable = true)\n",
      " |-- NS_APPS_GITHUB_days: long (nullable = true)\n",
      " |-- NS_APPS_GMAIL_days: long (nullable = true)\n",
      " |-- NS_APPS_GOOGLEDRIVE_days: long (nullable = true)\n",
      " |-- NS_APPS_GOOGLEEARTH_days: long (nullable = true)\n",
      " |-- NS_APPS_GOOGLEMAPS_days: long (nullable = true)\n",
      " |-- NS_APPS_GOOGLEPLAY_days: long (nullable = true)\n",
      " |-- NS_APPS_GROUPON_days: long (nullable = true)\n",
      " |-- NS_APPS_HACKING_days: long (nullable = true)\n",
      " |-- NS_APPS_HOME_days: long (nullable = true)\n",
      " |-- NS_APPS_INSTAGRAM_days: long (nullable = true)\n",
      " |-- NS_APPS_ITUNES_days: long (nullable = true)\n",
      " |-- NS_APPS_JOBS_days: long (nullable = true)\n",
      " |-- NS_APPS_KIDS_days: long (nullable = true)\n",
      " |-- NS_APPS_LEGAL_days: long (nullable = true)\n",
      " |-- NS_APPS_LINE_days: long (nullable = true)\n",
      " |-- NS_APPS_LINKEDIN_days: long (nullable = true)\n",
      " |-- NS_APPS_MEDICAL_days: long (nullable = true)\n",
      " |-- NS_APPS_MUSIC_days: long (nullable = true)\n",
      " |-- NS_APPS_NETFLIX_days: long (nullable = true)\n",
      " |-- NS_APPS_NETFLIXVIDEO_days: long (nullable = true)\n",
      " |-- NS_APPS_NEWS_days: long (nullable = true)\n",
      " |-- NS_APPS_PAYPAL_days: long (nullable = true)\n",
      " |-- NS_APPS_PETS_days: long (nullable = true)\n",
      " |-- NS_APPS_PINTEREST_days: long (nullable = true)\n",
      " |-- NS_APPS_POLITICS_days: long (nullable = true)\n",
      " |-- NS_APPS_PREGNANCY_days: long (nullable = true)\n",
      " |-- NS_APPS_QQ_days: long (nullable = true)\n",
      " |-- NS_APPS_REDDIT_days: long (nullable = true)\n",
      " |-- NS_APPS_SAMSUNG_days: long (nullable = true)\n",
      " |-- NS_APPS_SCIENCE_days: long (nullable = true)\n",
      " |-- NS_APPS_SHOPPING_days: long (nullable = true)\n",
      " |-- NS_APPS_SKYPE_days: long (nullable = true)\n",
      " |-- NS_APPS_SNAPCHAT_days: long (nullable = true)\n",
      " |-- NS_APPS_SOCIALNETWORK_days: long (nullable = true)\n",
      " |-- NS_APPS_SPORTS_days: long (nullable = true)\n",
      " |-- NS_APPS_SPOTIFY_days: long (nullable = true)\n",
      " |-- NS_APPS_STEAM_days: long (nullable = true)\n",
      " |-- NS_APPS_TAOBAO_days: long (nullable = true)\n",
      " |-- NS_APPS_TECHNOLOGY_days: long (nullable = true)\n",
      " |-- NS_APPS_TRAVEL_days: long (nullable = true)\n",
      " |-- NS_APPS_TUMBLR_days: long (nullable = true)\n",
      " |-- NS_APPS_TWITCH_days: long (nullable = true)\n",
      " |-- NS_APPS_TWITTER_days: long (nullable = true)\n",
      " |-- NS_APPS_VIDEO_days: long (nullable = true)\n",
      " |-- NS_APPS_VIDEOSTREAMING_days: long (nullable = true)\n",
      " |-- NS_APPS_VIMEO_days: long (nullable = true)\n",
      " |-- NS_APPS_VIOLENCE_days: long (nullable = true)\n",
      " |-- NS_APPS_WEBGAMES_days: long (nullable = true)\n",
      " |-- NS_APPS_WEBMOBILE_days: long (nullable = true)\n",
      " |-- NS_APPS_WEB_JAZZTEL_days: long (nullable = true)\n",
      " |-- NS_APPS_WEB_JAZZTEL_HTTP_days: long (nullable = true)\n",
      " |-- NS_APPS_WEB_JAZZTEL_HTTPS_days: long (nullable = true)\n",
      " |-- NS_APPS_WEB_LOWI_days: long (nullable = true)\n",
      " |-- NS_APPS_WEB_LOWI_HTTP_days: long (nullable = true)\n",
      " |-- NS_APPS_WEB_LOWI_HTTPS_days: long (nullable = true)\n",
      " |-- NS_APPS_WEB_MARCACOM_HTTP_days: long (nullable = true)\n",
      " |-- NS_APPS_WEB_MARCACOM_HTTPS_days: long (nullable = true)\n",
      " |-- NS_APPS_WEB_MASMOVIL_days: long (nullable = true)\n",
      " |-- NS_APPS_WEB_MASMOVIL_HTTP_days: long (nullable = true)\n",
      " |-- NS_APPS_WEB_MASMOVIL_HTTPS_days: long (nullable = true)\n",
      " |-- NS_APPS_WEB_MOVISTAR_days: long (nullable = true)\n",
      " |-- NS_APPS_WEB_MOVISTAR_HTTP_days: long (nullable = true)\n",
      " |-- NS_APPS_WEB_MOVISTAR_HTTPS_days: long (nullable = true)\n",
      " |-- NS_APPS_WEB_O2_days: long (nullable = true)\n",
      " |-- NS_APPS_WEB_O2_HTTP_days: long (nullable = true)\n",
      " |-- NS_APPS_WEB_O2_HTTPS_days: long (nullable = true)\n",
      " |-- NS_APPS_WEB_ORANGE_days: long (nullable = true)\n",
      " |-- NS_APPS_WEB_ORANGE_HTTP_days: long (nullable = true)\n",
      " |-- NS_APPS_WEB_ORANGE_HTTPS_days: long (nullable = true)\n",
      " |-- NS_APPS_WEB_PEPEPHONE_days: long (nullable = true)\n",
      " |-- NS_APPS_WEB_PEPEPHONE_HTTP_days: long (nullable = true)\n",
      " |-- NS_APPS_WEB_PEPEPHONE_HTTPS_days: long (nullable = true)\n",
      " |-- NS_APPS_WEB_VODAFONE_days: long (nullable = true)\n",
      " |-- NS_APPS_WEB_VODAFONE_HTTP_days: long (nullable = true)\n",
      " |-- NS_APPS_WEB_VODAFONE_HTTPS_days: long (nullable = true)\n",
      " |-- NS_APPS_WEB_YOIGO_days: long (nullable = true)\n",
      " |-- NS_APPS_WEB_YOIGO_HTTP_days: long (nullable = true)\n",
      " |-- NS_APPS_WEB_YOIGO_HTTPS_days: long (nullable = true)\n",
      " |-- NS_APPS_WEB_YOMVI_HTTP_days: long (nullable = true)\n",
      " |-- NS_APPS_WEB_YOMVI_HTTPS_days: long (nullable = true)\n",
      " |-- NS_APPS_WECHAT_days: long (nullable = true)\n",
      " |-- NS_APPS_WHATSAPP_days: long (nullable = true)\n",
      " |-- NS_APPS_WHATSAPP_MEDIA_MESSAGE_days: long (nullable = true)\n",
      " |-- NS_APPS_WHATSAPP_VOICE_CALLING_days: long (nullable = true)\n",
      " |-- NS_APPS_WIKIPEDIA_days: long (nullable = true)\n",
      " |-- NS_APPS_YANDEX_days: long (nullable = true)\n",
      " |-- NS_APPS_YOUTUBE_days: long (nullable = true)\n",
      " |-- NS_APPS_ZYNGA_days: long (nullable = true)\n",
      " |-- total_mou: double (nullable = true)\n",
      " |-- total_data_mb: double (nullable = true)\n",
      " |-- total_data_mb_chatzero: double (nullable = true)\n",
      " |-- total_data_mb_mapspass: double (nullable = true)\n",
      " |-- total_data_mb_masmegas: double (nullable = true)\n",
      " |-- total_data_mb_musicpass: double (nullable = true)\n",
      " |-- total_data_mb_socialpass: double (nullable = true)\n",
      " |-- total_data_mb_videohdpass: double (nullable = true)\n",
      " |-- total_data_mb_videopass: double (nullable = true)\n",
      "\n"
     ]
    }
   ],
   "source": [
    "#print ('Customer total: '+str(amdocs_ids_agg_df.count())+' , with unique values: '+str(amdocs_ids_agg_df.agg(countDistinct('NUM_CLIENTE')).show()))\n",
    "#print ('Surveys total: '+str(master_surveys_df.count())+' , with unique values: '+str(master_surveys_df.agg(countDistinct('NUM_CLIENTE')).show()))\n",
    "#print ('Axesor total: '+str(df_axesor_study.count())+' , with unique values: '+str(df_axesor_study.agg(countDistinct('NUM_CLIENTE')).show()))\n",
    "#\n",
    "#print ('Customer total: '+amdocs_ids_agg_df.count()+' , with unique values: '+amdocs_ids_agg_df.agg(countDistinct('NUM_CLIENTE')))\n",
    "\n",
    "amdocs_ids_agg_df.printSchema()"
   ]
  },
  {
   "cell_type": "markdown",
   "metadata": {},
   "source": [
    "# Join aggregated AIDS with label col"
   ]
  },
  {
   "cell_type": "code",
   "execution_count": 108,
   "metadata": {},
   "outputs": [],
   "source": [
    "df_tmp1=(amdocs_ids_agg_df\n",
    "        .join(master_surveys_df,'NUM_CLIENTE','leftouter')\n",
    "        .join(df_axesor_study, 'NUM_CLIENTE' ,'leftouter')\n",
    "        .repartition(200))"
   ]
  },
  {
   "cell_type": "code",
   "execution_count": 109,
   "metadata": {},
   "outputs": [
    {
     "name": "stdout",
     "output_type": "stream",
     "text": [
      "+-------------+-------+\n",
      "|FLAG_CHILDREN|  count|\n",
      "+-------------+-------+\n",
      "|         null|6073703|\n",
      "|            1|   1750|\n",
      "|            0|   1265|\n",
      "+-------------+-------+\n",
      "\n"
     ]
    }
   ],
   "source": [
    "df_tmp1.groupBy('FLAG_CHILDREN').count().show()"
   ]
  },
  {
   "cell_type": "code",
   "execution_count": 110,
   "metadata": {},
   "outputs": [],
   "source": [
    "#df_tmp1.printSchema()"
   ]
  },
  {
   "cell_type": "markdown",
   "metadata": {},
   "source": [
    "# 1. Children at Home\n",
    "\n",
    "In a first step, we will develop a model identifying households with children\n",
    "Initial sample contains about 5K surveys matched with our customer base"
   ]
  },
  {
   "cell_type": "code",
   "execution_count": 111,
   "metadata": {},
   "outputs": [
    {
     "name": "stdout",
     "output_type": "stream",
     "text": [
      "The autoreload extension is already loaded. To reload it, use:\n",
      "  %reload_ext autoreload\n"
     ]
    }
   ],
   "source": [
    "%load_ext autoreload\n",
    "%autoreload 2\n",
    "import sys\n",
    "sys.path.append('/var/SP/data/home/avazq108/New_general_model_trainer')\n",
    "from new_general_model_trainer import GeneralModelTrainer\n",
    "from model_outputs import ModelParameters\n"
   ]
  },
  {
   "cell_type": "code",
   "execution_count": 112,
   "metadata": {},
   "outputs": [
    {
     "name": "stdout",
     "output_type": "stream",
     "text": [
      "label_col is FLAG_CHILDREN of type int\n",
      "[Thu Nov  7 11:47:17 2019] Label FLAG_CHILDREN is numeric, so no need of converting or indexing it\n",
      "\n",
      "\n",
      "There are 9 ignore columns\n",
      "There are 744 columns in given DataFrame\n",
      "There are 10 int columns\n",
      "There are 597 double columns\n",
      "There are 126 bigint columns\n",
      "There are 11 string columns\n",
      "\n",
      "\n",
      "There are 5 categorical columns\n",
      "There are 729 numeric columns\n"
     ]
    }
   ],
   "source": [
    "ignore_cols=['NUM_CLIENTE','CAMPO1','NUM_CLIENTE_deanon','NIF_CLIENTE','nif_ID_Cliente','amdocs_ID_Cliente','CHILDREN_GREATER_AGE','FLAG_CHILDREN_OVER18','ident_AXESOR']\n",
    "\n",
    "modeler=GeneralModelTrainer(df_tmp1,'FLAG_CHILDREN',ignore_cols=ignore_cols, debug=False)\n"
   ]
  },
  {
   "cell_type": "code",
   "execution_count": 113,
   "metadata": {},
   "outputs": [],
   "source": [
    "#modeler.set_debug(False)"
   ]
  },
  {
   "cell_type": "code",
   "execution_count": 114,
   "metadata": {},
   "outputs": [
    {
     "name": "stdout",
     "output_type": "stream",
     "text": [
      "[Thu Nov  7 11:47:20 2019] Counting number of distinct values in categorical variables ...\n"
     ]
    },
    {
     "name": "stderr",
     "output_type": "stream",
     "text": [
      "Processing Tramo_Renta: 100%|██████████| 5/5 [07:58<00:00, 93.88s/variable]     "
     ]
    },
    {
     "name": "stdout",
     "output_type": "stream",
     "text": [
      "[Thu Nov  7 11:55:18 2019] Counting number of distinct values in categorical variables ... done\n",
      "[Thu Nov  7 11:55:18 2019] Detected 0 constant columns: []\n",
      "[Thu Nov  7 11:55:18 2019] Writing cols_to_relevel to disk cols_to_relevel-20191107115518.txt\n",
      "[Thu Nov  7 11:55:18 2019] Releveling 0 categorical variables with more than 32 levels, and dropping constant columns: []\n",
      "[Thu Nov  7 11:55:18 2019] Releveled  0 categorical variables with more than 32 levels, and dropped constant columns\n"
     ]
    },
    {
     "name": "stderr",
     "output_type": "stream",
     "text": [
      "\n"
     ]
    },
    {
     "data": {
      "text/plain": [
       "<new_general_model_trainer.GeneralModelTrainer instance at 0x7f109ff4bd40>"
      ]
     },
     "execution_count": 114,
     "metadata": {},
     "output_type": "execute_result"
    }
   ],
   "source": [
    "modeler.relevelCategoricalVars() #se crea un diccionario que se puede cargar en ejecuciones posteriores"
   ]
  },
  {
   "cell_type": "code",
   "execution_count": 115,
   "metadata": {},
   "outputs": [
    {
     "name": "stdout",
     "output_type": "stream",
     "text": [
      "[Thu Nov  7 11:55:18 2019] Counting NULLs in label FLAG_CHILDREN ...\n",
      "[Thu Nov  7 11:57:24 2019] Counting NULLs in label FLAG_CHILDREN ... 6073702\n",
      "[Thu Nov  7 11:57:24 2019] Using column 'pred' to separate NULLs ...\n",
      "[Thu Nov  7 11:58:57 2019] Using column 'pred' to separate NULLs ... done\n",
      "[Thu Nov  7 11:58:57 2019] Indexing categorical features ...\n"
     ]
    },
    {
     "name": "stderr",
     "output_type": "stream",
     "text": [
      "Processing Tramo_Renta: 100%|██████████| 5/5 [07:50<00:00, 96.10s/variable]     "
     ]
    },
    {
     "name": "stdout",
     "output_type": "stream",
     "text": [
      "[Thu Nov  7 12:06:48 2019] Indexing categorical features ... done\n"
     ]
    },
    {
     "name": "stderr",
     "output_type": "stream",
     "text": [
      "\n"
     ]
    },
    {
     "name": "stdout",
     "output_type": "stream",
     "text": [
      "[Thu Nov  7 12:06:48 2019] Assembling 734 features ...\n",
      "[Thu Nov  7 12:06:56 2019] Assembling 734 features ... done\n"
     ]
    },
    {
     "data": {
      "text/plain": [
       "<new_general_model_trainer.GeneralModelTrainer instance at 0x7f109ff4bd40>"
      ]
     },
     "execution_count": 115,
     "metadata": {},
     "output_type": "execute_result"
    }
   ],
   "source": [
    "modeler.generateFeaturesVector()"
   ]
  },
  {
   "cell_type": "code",
   "execution_count": 116,
   "metadata": {},
   "outputs": [
    {
     "name": "stdout",
     "output_type": "stream",
     "text": [
      "[Thu Nov  7 12:06:56 2019] Applying minMaxScaler to range [0.000000, 1.000000] ...\n",
      "[Thu Nov  7 12:15:06 2019] Applying minMaxScaler to range [0.000000, 1.000000] ... done\n"
     ]
    },
    {
     "data": {
      "text/plain": [
       "<new_general_model_trainer.GeneralModelTrainer instance at 0x7f109ff4bd40>"
      ]
     },
     "execution_count": 116,
     "metadata": {},
     "output_type": "execute_result"
    }
   ],
   "source": [
    "modeler.minMaxScale()"
   ]
  },
  {
   "cell_type": "code",
   "execution_count": 117,
   "metadata": {},
   "outputs": [
    {
     "name": "stdout",
     "output_type": "stream",
     "text": [
      "[Thu Nov  7 12:15:07 2019] Found column \"pred\". Removing prediction rows for training\n",
      "[Thu Nov  7 12:15:08 2019] Splitting data set into train(70%)/test(30%) ...\n",
      "[Thu Nov  7 12:15:10 2019] Splitting data set into train(70%)/test(30%) ... done\n"
     ]
    },
    {
     "data": {
      "text/plain": [
       "<new_general_model_trainer.GeneralModelTrainer instance at 0x7f109ff4bd40>"
      ]
     },
     "execution_count": 117,
     "metadata": {},
     "output_type": "execute_result"
    }
   ],
   "source": [
    "modeler.split_train_test()"
   ]
  },
  {
   "cell_type": "code",
   "execution_count": 118,
   "metadata": {},
   "outputs": [
    {
     "name": "stdout",
     "output_type": "stream",
     "text": [
      "[Thu Nov  7 12:15:10 2019] Not found column \"pred\". Removing null rows for training\n",
      "[Thu Nov  7 12:15:11 2019] Balancing train data ...\n",
      "[Thu Nov  7 12:15:17 2019] Sampling DataFrame by column FLAG_CHILDREN_without_nulls with fractions: {0: 1.0, 1: 0.7306155075939249} ...\n",
      "[Thu Nov  7 12:15:18 2019] Sampling DataFrame by column FLAG_CHILDREN_without_nulls with fractions: {0: 1.0, 1: 0.7306155075939249} ... done\n",
      "[Thu Nov  7 12:15:18 2019] Caching train data ...\n",
      "[Thu Nov  7 12:15:18 2019] Caching train data ... done\n",
      "[Thu Nov  7 12:15:18 2019] Balancing test data ...\n",
      "[Thu Nov  7 12:15:26 2019] Sampling DataFrame by column FLAG_CHILDREN_without_nulls with fractions: {0: 1.0, 1: 0.7014028056112225} ...\n",
      "[Thu Nov  7 12:15:27 2019] Sampling DataFrame by column FLAG_CHILDREN_without_nulls with fractions: {0: 1.0, 1: 0.7014028056112225} ... done\n",
      "[Thu Nov  7 12:15:27 2019] Caching test data ...\n",
      "[Thu Nov  7 12:15:28 2019] Caching test data ... done\n",
      "[Thu Nov  7 12:15:30 2019] Added new stage: RandomForestClassifier_414686546d9bce4d6a07\n",
      "[Thu Nov  7 12:15:30 2019] Training RandomForestClassifier model ...\n",
      "[Thu Nov  7 12:16:17 2019] Training RandomForestClassifier model ... done\n",
      "[Thu Nov  7 12:16:17 2019] Trained  RandomForestClassificationModel (uid=RandomForestClassifier_414686546d9bce4d6a07) with 500 trees\n"
     ]
    },
    {
     "data": {
      "text/plain": [
       "<new_general_model_trainer.GeneralModelTrainer instance at 0x7f109ff4bd40>"
      ]
     },
     "execution_count": 118,
     "metadata": {},
     "output_type": "execute_result"
    }
   ],
   "source": [
    "modeler.train()"
   ]
  },
  {
   "cell_type": "code",
   "execution_count": 119,
   "metadata": {},
   "outputs": [
    {
     "name": "stdout",
     "output_type": "stream",
     "text": [
      "Model Performance Metrics using (balanced) train data\n",
      "=====================================================\n",
      "[Thu Nov  7 12:16:17 2019] Predicting data ...\n",
      "[Thu Nov  7 12:16:20 2019] Using element -1 as positive class\n",
      "[Thu Nov  7 12:16:21 2019] Predicting data ... done\n",
      "[Thu Nov  7 12:16:21 2019] Converting evaluation_predictions to Pandas ...\n",
      "[Thu Nov  7 12:16:31 2019] Converting evaluation_predictions to Pandas ... done\n",
      "matthews_corrcoef: 0.7263182195293157\n",
      "f2_score: 0.829283752376928\n",
      "jaccard_similarity_score: 0.8607123870281765\n",
      "precision_score: 0.9075144508670521\n",
      "classification_report:\n",
      "              precision    recall  f1-score   support\n",
      "\n",
      "           0       0.82      0.91      0.86       914\n",
      "           1       0.91      0.81      0.86       967\n",
      "\n",
      "   micro avg       0.86      0.86      0.86      1881\n",
      "   macro avg       0.86      0.86      0.86      1881\n",
      "weighted avg       0.87      0.86      0.86      1881\n",
      "\n",
      "average_precision_score: 0.9414145105644858\n",
      "confusion_matrix:\n",
      "[[834, 80], [182, 785]]\n",
      "hinge_loss: 0.8478722577079821\n",
      "f1_score: 0.8569868995633187\n",
      "roc_auc_score: 0.9419067747709422\n",
      "log_loss: 0.4708094676497452\n",
      "lift: [1.945191, 1.85207, 1.727909, 1.624442, 1.427853, 0.931209, 0.341443, 0.113814, 0.020694, 0.010347]\n",
      "f0point5_score: 0.8866049243279874\n",
      "zero_one_loss: 0.13928761297182346\n",
      "cohen_kappa_score: 0.7220534639683895\n",
      "accuracy_score: 0.8607123870281765\n",
      "recall_score: 0.811789038262668\n",
      "brier_score_loss: 0.1474226105542564\n",
      "hamming_loss: 0.1392876129718235\n",
      "gains_lift_table:\n",
      "Gains/Lift Table: Avg response rate: 51.41 %\n",
      "    group  cumulative_data_fraction  lower_threshold      lift  \\\n",
      "1     1.0                  0.100478         0.823428  1.945191   \n",
      "2     2.0                  0.200425         0.681959  1.852070   \n",
      "3     3.0                  0.300372         0.607147  1.727909   \n",
      "4     4.0                  0.400319         0.543849  1.624442   \n",
      "5     5.0                  0.500266         0.476333  1.427853   \n",
      "6     6.0                  0.600213         0.423860  0.931209   \n",
      "7     7.0                  0.700159         0.381410  0.341443   \n",
      "8     8.0                  0.800106         0.336248  0.113814   \n",
      "9     9.0                  0.900053         0.296396  0.020694   \n",
      "10   10.0                  1.000000         0.189566  0.010347   \n",
      "\n",
      "    cumulative_lift  response_rate  cumulative_response_rate  capture_rate  \\\n",
      "1          1.945191       1.000000                  1.000000      0.195450   \n",
      "2          1.898754       0.952128                  0.976127      0.185109   \n",
      "3          1.841907       0.888298                  0.946903      0.172699   \n",
      "4          1.787613       0.835106                  0.918991      0.162358   \n",
      "5          1.715737       0.734043                  0.882040      0.142709   \n",
      "6          1.585098       0.478723                  0.814880      0.093071   \n",
      "7          1.407568       0.175532                  0.723614      0.034126   \n",
      "8          1.245956       0.058511                  0.640532      0.011375   \n",
      "9          1.109897       0.010638                  0.570585      0.002068   \n",
      "10         1.000000       0.005319                  0.514088      0.001034   \n",
      "\n",
      "    cumulative_capture_rate       gain  cumulative_gain  \n",
      "1                  0.195450  94.519131        94.519131  \n",
      "2                  0.380559  85.207045        89.875439  \n",
      "3                  0.553258  72.790930        84.190682  \n",
      "4                  0.715616  62.444168        78.761273  \n",
      "5                  0.858325  42.785320        71.573729  \n",
      "6                  0.951396  -6.879139        58.509832  \n",
      "7                  0.985522 -65.855684        40.756820  \n",
      "8                  0.996897 -88.618561        24.595643  \n",
      "9                  0.998965 -97.930648        10.989652  \n",
      "10                 1.000000 -98.965324         0.000000  \n",
      "Model Performance Metrics using balanced test data\n",
      "==================================================\n",
      "[Thu Nov  7 12:16:32 2019] Predicting data ...\n",
      "[Thu Nov  7 12:16:34 2019] Using element -1 as positive class\n",
      "[Thu Nov  7 12:16:35 2019] Predicting data ... done\n",
      "[Thu Nov  7 12:16:35 2019] Converting evaluation_predictions to Pandas ...\n",
      "[Thu Nov  7 12:16:44 2019] Converting evaluation_predictions to Pandas ... done\n",
      "matthews_corrcoef: 0.25403594376115746\n",
      "f2_score: 0.5527318932655654\n",
      "jaccard_similarity_score: 0.6281481481481481\n",
      "precision_score: 0.635036496350365\n",
      "classification_report:\n",
      "              precision    recall  f1-score   support\n",
      "\n",
      "           0       0.62      0.71      0.67       350\n",
      "           1       0.64      0.54      0.58       325\n",
      "\n",
      "   micro avg       0.63      0.63      0.63       675\n",
      "   macro avg       0.63      0.62      0.62       675\n",
      "weighted avg       0.63      0.63      0.62       675\n",
      "\n",
      "average_precision_score: 0.7013390606096115\n",
      "confusion_matrix:\n",
      "[[250, 100], [151, 174]]\n",
      "hinge_loss: 0.9655291530600301\n",
      "f1_score: 0.5809682804674456\n",
      "roc_auc_score: 0.6753846153846155\n",
      "log_loss: 0.6307146433142569\n",
      "lift: [1.893665, 1.343891, 1.099548, 0.91629, 0.977376, 0.836969, 0.774971, 0.681975, 0.929966, 0.52698]\n",
      "f0point5_score: 0.6122448979591837\n",
      "zero_one_loss: 0.3718518518518519\n",
      "cohen_kappa_score: 0.25107746712343904\n",
      "accuracy_score: 0.6281481481481481\n",
      "recall_score: 0.5353846153846153\n",
      "brier_score_loss: 0.2214072286708197\n",
      "hamming_loss: 0.3718518518518519\n",
      "gains_lift_table:\n",
      "Gains/Lift Table: Avg response rate: 48.15 %\n",
      "    group  cumulative_data_fraction  lower_threshold      lift  \\\n",
      "1     1.0                  0.100741         0.775378  1.893665   \n",
      "2     2.0                  0.201481         0.617947  1.343891   \n",
      "3     3.0                  0.302222         0.546752  1.099548   \n",
      "4     4.0                  0.402963         0.501088  0.916290   \n",
      "5     5.0                  0.503704         0.466865  0.977376   \n",
      "6     6.0                  0.602963         0.430325  0.836969   \n",
      "7     7.0                  0.702222         0.398281  0.774971   \n",
      "8     8.0                  0.801481         0.370250  0.681975   \n",
      "9     9.0                  0.900741         0.334817  0.929966   \n",
      "10   10.0                  1.000000         0.246734  0.526980   \n",
      "\n",
      "    cumulative_lift  response_rate  cumulative_response_rate  capture_rate  \\\n",
      "1          1.893665       0.911765                  0.911765      0.190769   \n",
      "2          1.618778       0.647059                  0.779412      0.135385   \n",
      "3          1.445701       0.529412                  0.696078      0.110769   \n",
      "4          1.313348       0.441176                  0.632353      0.092308   \n",
      "5          1.246154       0.470588                  0.600000      0.098462   \n",
      "6          1.178794       0.402985                  0.567568      0.083077   \n",
      "7          1.121714       0.373134                  0.540084      0.076923   \n",
      "8          1.067254       0.328358                  0.513863      0.067692   \n",
      "9          1.052126       0.447761                  0.506579      0.092308   \n",
      "10         1.000000       0.253731                  0.481481      0.052308   \n",
      "\n",
      "    cumulative_capture_rate       gain  cumulative_gain  \n",
      "1                  0.190769  89.366516        89.366516  \n",
      "2                  0.326154  34.389140        61.877828  \n",
      "3                  0.436923   9.954751        44.570136  \n",
      "4                  0.529231  -8.371041        31.334842  \n",
      "5                  0.627693  -2.262443        24.615385  \n",
      "6                  0.710770 -16.303100        17.879418  \n",
      "7                  0.787693 -22.502870        12.171373  \n",
      "8                  0.855385 -31.802526         6.725437  \n",
      "9                  0.947693  -7.003444         5.212551  \n",
      "10                 1.000000 -47.301952         0.000000  \n",
      "Model Performance Metrics using unbalanced test data\n",
      "====================================================\n",
      "[Thu Nov  7 12:16:45 2019] Predicting data ...\n",
      "[Thu Nov  7 12:16:48 2019] Using element -1 as positive class\n",
      "[Thu Nov  7 12:16:49 2019] Predicting data ... done\n",
      "[Thu Nov  7 12:16:49 2019] Converting evaluation_predictions to Pandas ...\n",
      "[Thu Nov  7 12:16:57 2019] Converting evaluation_predictions to Pandas ... done\n",
      "matthews_corrcoef: 0.2630635271282517\n",
      "f2_score: 0.579924082665542\n",
      "jaccard_similarity_score: 0.6183745583038869\n",
      "precision_score: 0.7333333333333333\n",
      "classification_report:\n",
      "              precision    recall  f1-score   support\n",
      "\n",
      "           0       0.53      0.71      0.61       350\n",
      "           1       0.73      0.55      0.63       499\n",
      "\n",
      "   micro avg       0.62      0.62      0.62       849\n",
      "   macro avg       0.63      0.63      0.62       849\n",
      "weighted avg       0.65      0.62      0.62       849\n",
      "\n",
      "average_precision_score: 0.7796393815993645\n",
      "confusion_matrix:\n",
      "[[250, 100], [224, 275]]\n",
      "hinge_loss: 0.856638895696549\n",
      "f1_score: 0.6292906178489702\n",
      "roc_auc_score: 0.6854566275407958\n",
      "log_loss: 0.6273903235742451\n",
      "lift: [1.621337, 1.341106, 1.120924, 0.960792, 1.020842, 0.920759, 0.760627, 0.760627, 0.880726, 0.607644]\n",
      "f0point5_score: 0.6878439219609804\n",
      "zero_one_loss: 0.3816254416961131\n",
      "cohen_kappa_score: 0.2520555990602976\n",
      "accuracy_score: 0.6183745583038869\n",
      "recall_score: 0.5511022044088176\n",
      "brier_score_loss: 0.22044756481298888\n",
      "hamming_loss: 0.38162544169611307\n",
      "gains_lift_table:\n",
      "Gains/Lift Table: Avg response rate: 58.77 %\n",
      "    group  cumulative_data_fraction  lower_threshold      lift  \\\n",
      "1     1.0                  0.100118         0.790734  1.621337   \n",
      "2     2.0                  0.200236         0.661879  1.341106   \n",
      "3     3.0                  0.300353         0.565526  1.120924   \n",
      "4     4.0                  0.400471         0.517482  0.960792   \n",
      "5     5.0                  0.500589         0.479181  1.020842   \n",
      "6     6.0                  0.600707         0.444174  0.920759   \n",
      "7     7.0                  0.700824         0.408629  0.760627   \n",
      "8     8.0                  0.800942         0.376628  0.760627   \n",
      "9     9.0                  0.901060         0.339407  0.880726   \n",
      "10   10.0                  1.000000         0.246734  0.607644   \n",
      "\n",
      "    cumulative_lift  response_rate  cumulative_response_rate  capture_rate  \\\n",
      "1          1.621337       0.952941                  0.952941      0.162325   \n",
      "2          1.481221       0.788235                  0.870588      0.134269   \n",
      "3          1.361122       0.658824                  0.800000      0.112224   \n",
      "4          1.261040       0.564706                  0.741176      0.096192   \n",
      "5          1.213000       0.600000                  0.712941      0.102204   \n",
      "6          1.164293       0.541176                  0.684314      0.092184   \n",
      "7          1.106627       0.447059                  0.650420      0.076152   \n",
      "8          1.063377       0.447059                  0.625000      0.076152   \n",
      "9          1.043082       0.517647                  0.613072      0.088176   \n",
      "10         1.000000       0.357143                  0.587750      0.060120   \n",
      "\n",
      "    cumulative_capture_rate       gain  cumulative_gain  \n",
      "1                  0.162325  62.133679        62.133679  \n",
      "2                  0.296594  34.110574        48.122127  \n",
      "3                  0.408818  12.092420        36.112224  \n",
      "4                  0.505010  -3.920783        26.103973  \n",
      "5                  0.607214   2.084168        21.300012  \n",
      "6                  0.699398  -7.924083        16.429329  \n",
      "7                  0.775550 -23.937286        10.662670  \n",
      "8                  0.851702 -23.937286         6.337675  \n",
      "9                  0.939878 -11.927384         4.308224  \n",
      "10                 1.000000 -39.235614         0.000000  \n"
     ]
    },
    {
     "data": {
      "text/plain": [
       "<new_general_model_trainer.GeneralModelTrainer instance at 0x7f109ff4bd40>"
      ]
     },
     "execution_count": 119,
     "metadata": {},
     "output_type": "execute_result"
    }
   ],
   "source": [
    "modeler.evaluate()"
   ]
  },
  {
   "cell_type": "code",
   "execution_count": 120,
   "metadata": {},
   "outputs": [
    {
     "data": {
      "image/png": "[encoded data removed]",
      "text/plain": [
       "<Figure size 864x720 with 1 Axes>"
      ]
     },
     "metadata": {},
     "output_type": "display_data"
    }
   ],
   "source": [
    "#model=modeler.get_model()\n",
    "modeler.varimp_plot()"
   ]
  },
  {
   "cell_type": "code",
   "execution_count": 121,
   "metadata": {},
   "outputs": [
    {
     "data": {
      "image/png": "[encoded data removed]",
      "text/plain": [
       "<Figure size 648x432 with 1 Axes>"
      ]
     },
     "metadata": {},
     "output_type": "display_data"
    }
   ],
   "source": [
    "modeler.roc_plot(modeler.metrics_unbalanced_test ,figsize=(9,6))"
   ]
  },
  {
   "cell_type": "code",
   "execution_count": 122,
   "metadata": {},
   "outputs": [
    {
     "name": "stdout",
     "output_type": "stream",
     "text": [
      "[Thu Nov  7 12:16:58 2019] Selecting rows to predict\n",
      "[Thu Nov  7 12:16:58 2019] Found column \"pred\". Selecting prediction rows\n",
      "[Thu Nov  7 12:16:59 2019] Predicting data ...\n",
      "[Thu Nov  7 12:17:02 2019] Using last element as positive class\n",
      "[Thu Nov  7 12:17:03 2019] Predicting data ... done\n"
     ]
    }
   ],
   "source": [
    "modeler.predict()\n",
    "results_tmp1=modeler.predictions\n",
    "#results['NUM_CLIENTE','rawPrediction','probability','prediction','score'].show()\n",
    "\n",
    "results=(results_tmp1['NUM_CLIENTE','prediction','score']\n",
    "         .withColumnRenamed('prediction','prediction_flag_children')\n",
    "         .withColumnRenamed('score','score_flag_children')\n",
    "        )"
   ]
  },
  {
   "cell_type": "code",
   "execution_count": 123,
   "metadata": {},
   "outputs": [
    {
     "name": "stdout",
     "output_type": "stream",
     "text": [
      "+------------------------+-------+\n",
      "|prediction_flag_children|  count|\n",
      "+------------------------+-------+\n",
      "|                     0.0|2005112|\n",
      "|                     1.0|4071606|\n",
      "+------------------------+-------+\n",
      "\n"
     ]
    }
   ],
   "source": [
    "results.groupBy('prediction_flag_children').count().show()"
   ]
  },
  {
   "cell_type": "code",
   "execution_count": 124,
   "metadata": {},
   "outputs": [],
   "source": [
    "evaluation_metrics_balanced_test_kids_home = modeler.metrics_balanced_test\n",
    "\n",
    "evaluation_metrics_unbalanced_test_kids_home = modeler.metrics_unbalanced_test\n",
    "\n",
    "evaluation_metrics_train_kids_home = modeler.metrics_train"
   ]
  },
  {
   "cell_type": "markdown",
   "metadata": {},
   "source": [
    "## Model Outputs ad hoc para este sub-modelo."
   ]
  },
  {
   "cell_type": "code",
   "execution_count": 125,
   "metadata": {},
   "outputs": [],
   "source": [
    "import time, datetime\n",
    "\n",
    "## OJO! Esto hay que cambiarlo en función de la entrega a realizar.\n",
    "closing_day = '20191031'\n",
    "current_timestamp = datetime.datetime.now()\n",
    "executed_at = current_timestamp.strftime('%Y-%m-%d %H:%M:%S')\n",
    "analysis_month_M = datetime.datetime.strptime(closing_day, \"%Y%m%d\")"
   ]
  },
  {
   "cell_type": "code",
   "execution_count": 126,
   "metadata": {},
   "outputs": [],
   "source": [
    "level = 'client_id'\n",
    "\n",
    "model_name = 'hh_segmentation_children_at_home'\n",
    "\n",
    "path_model_detail = 'model_name=' + model_name \\\n",
    "                            + '/year=' + str(current_timestamp.year) \\\n",
    "                            + '/month=' + str(current_timestamp.month) \\\n",
    "                            + '/day=0'"
   ]
  },
  {
   "cell_type": "code",
   "execution_count": 127,
   "metadata": {},
   "outputs": [],
   "source": [
    "model_params_kids_home = {\n",
    "    'algorithm': modeler.model.stages[0].getParam,\n",
    "    'maxdepth': modeler.model.stages[0]._java_obj.getMaxDepth(),\n",
    "    'maxbins': modeler.model.stages[0]._java_obj.getMaxBins(),\n",
    "    'minInstancesPerNode': modeler.model.stages[0]._java_obj.getMinInstancesPerNode(),\n",
    "    'numTrees': modeler.model.stages[0]._java_obj.getNumTrees(),\n",
    "    'subsamplingRate': modeler.model.stages[0]._java_obj.getSubsamplingRate(),\n",
    "    'seed': modeler.model.stages[0]._java_obj.getSeed()\n",
    "}"
   ]
  },
  {
   "cell_type": "code",
   "execution_count": 128,
   "metadata": {},
   "outputs": [],
   "source": [
    "path_model_outputs_base = '/data/attributes/vf_es/model_outputs/'\n",
    "path_model_outputs_scores = path_model_outputs_base + 'model_scores/' + path_model_detail\n",
    "path_model_outputs_params = path_model_outputs_base + 'model_parameters/' + path_model_detail"
   ]
  },
  {
   "cell_type": "code",
   "execution_count": 129,
   "metadata": {},
   "outputs": [],
   "source": [
    "path_model_works_base = '/user/avazq108/models_prod/'\n",
    "path_model_works_model = path_model_works_base + 'model_definition/' + path_model_detail\n",
    "path_model_works_metrics = path_model_works_base + 'model_metrics/' + path_model_detail"
   ]
  },
  {
   "cell_type": "markdown",
   "metadata": {},
   "source": [
    "- Parameters:"
   ]
  },
  {
   "cell_type": "code",
   "execution_count": 130,
   "metadata": {},
   "outputs": [],
   "source": [
    "target = \"Predicting if there are children at home (1) or not (0);\"\n",
    "model_path = path_model_works_model.replace(',', ';')\n",
    "metrics_path = path_model_works_metrics.replace(',', ';')\n",
    "metrics_train = str(evaluation_metrics_train_kids_home).replace(',', ';')\n",
    "metrics_test = str(evaluation_metrics_unbalanced_test_kids_home).replace(',', ';')\n",
    "varimp = ';'.join(str(v) for v in modeler.varimp[['feature', 'relative_importance']].values.tolist()).replace(',', ';')\n",
    "algorithm = str(model_params_kids_home).replace(',', ';')\n",
    "author_login = 'avazq108'\n",
    "scores_extra_info_headers = None\n",
    "time = int(current_timestamp.strftime('%H%M%S'))"
   ]
  },
  {
   "cell_type": "code",
   "execution_count": 131,
   "metadata": {},
   "outputs": [],
   "source": [
    "description = \"Predicting if there is any child at home;\""
   ]
  },
  {
   "cell_type": "code",
   "execution_count": 132,
   "metadata": {},
   "outputs": [],
   "source": [
    "import time as tm\n",
    "\n",
    "end_time = tm.time()\n",
    "time_of_execution = str(int(end_time - start_time))"
   ]
  },
  {
   "cell_type": "code",
   "execution_count": 133,
   "metadata": {},
   "outputs": [],
   "source": [
    "extra_info = '{description:'+description+'; processing_time:'+time_of_execution+'}'"
   ]
  },
  {
   "cell_type": "code",
   "execution_count": 134,
   "metadata": {},
   "outputs": [],
   "source": [
    "from pyspark.sql.types import *\n",
    "\n",
    "fields = [StructField(\"executed_at\", StringType(), True),\n",
    "                  StructField(\"model_level\", StringType(), True),\n",
    "                  StructField(\"training_closing_date\", StringType(), True),\n",
    "                  StructField(\"target\", StringType(), True),\n",
    "                  StructField(\"model_path\", StringType(), True),\n",
    "                  StructField(\"metrics_path\", StringType(), True),\n",
    "                  StructField(\"metrics_train\", StringType(), True),\n",
    "                  StructField(\"metrics_test\", StringType(), True),\n",
    "                  StructField(\"varimp\", StringType(), True),\n",
    "                  StructField(\"algorithm\", StringType(), True),\n",
    "                  StructField(\"author_login\", StringType(), True),\n",
    "                  StructField(\"extra_info\", StringType(), True),\n",
    "                  StructField(\"scores_extra_info_headers\", StringType(), True),\n",
    "                  StructField(\"time\", IntegerType(), True)\n",
    "                  ]"
   ]
  },
  {
   "cell_type": "code",
   "execution_count": 135,
   "metadata": {},
   "outputs": [],
   "source": [
    "schema = StructType(fields)"
   ]
  },
  {
   "cell_type": "code",
   "execution_count": 136,
   "metadata": {},
   "outputs": [],
   "source": [
    "data = [[executed_at, level, closing_day, target, model_path, metrics_path, metrics_train,\n",
    "                 metrics_test, varimp, algorithm, author_login, extra_info, scores_extra_info_headers, time]]"
   ]
  },
  {
   "cell_type": "code",
   "execution_count": 137,
   "metadata": {},
   "outputs": [],
   "source": [
    "df_save_params = spark.createDataFrame(data, schema)"
   ]
  },
  {
   "cell_type": "code",
   "execution_count": 138,
   "metadata": {},
   "outputs": [],
   "source": [
    "def saveDF(path, df, partitions):\n",
    "    print('Saving started in: %s', path)\n",
    "    spark.conf.set(\"spark.sql.sources.partitionOverwriteMode\",\"dynamic\")\n",
    "    df.repartition(partitions).write.mode('append').format('parquet').save(path)\n",
    "    print('Saving finished!')"
   ]
  },
  {
   "cell_type": "code",
   "execution_count": 139,
   "metadata": {},
   "outputs": [
    {
     "name": "stdout",
     "output_type": "stream",
     "text": [
      "('Saving started in: %s', '/data/attributes/vf_es/model_outputs/model_parameters/model_name=hh_segmentation_children_at_home/year=2019/month=11/day=0')\n",
      "Saving finished!\n"
     ]
    }
   ],
   "source": [
    "saveDF(path_model_outputs_params, df_save_params, 1)"
   ]
  },
  {
   "cell_type": "markdown",
   "metadata": {},
   "source": [
    "- Model scores:"
   ]
  },
  {
   "cell_type": "code",
   "execution_count": 140,
   "metadata": {},
   "outputs": [],
   "source": [
    "df_save_scores = (results\n",
    "                        .withColumn('executed_at', lit(executed_at).cast(StringType()))\n",
    "                        .withColumn('model_executed_at', lit(executed_at).cast(StringType()))\n",
    "                        .withColumn('predict_closing_date', lit(closing_day).cast(StringType()))\n",
    "                        .withColumn('msisdn', lit(None).cast(StringType()))\n",
    "                        .withColumn('client_id', col('NUM_CLIENTE').cast(StringType()))\n",
    "                        .withColumn('nif', lit(None).cast(StringType()))\n",
    "                        .withColumn('model_output', lit(None).cast(StringType()))\n",
    "                        .withColumn('scoring', col('score_flag_children').cast(FloatType()))\n",
    "                        .withColumn('prediction', col('prediction_flag_children').cast(StringType()))\n",
    "                        .withColumn('extra_info', lit(None).cast(StringType()))\n",
    "                        .withColumn('time', lit(time).cast(IntegerType()))\n",
    "                        .select('executed_at', 'model_executed_at', 'predict_closing_date', 'msisdn'\n",
    "                                       , 'client_id', 'nif', 'model_output', 'scoring', 'prediction'\n",
    "                                       , 'extra_info', 'time')\n",
    "                            )"
   ]
  },
  {
   "cell_type": "code",
   "execution_count": 141,
   "metadata": {},
   "outputs": [
    {
     "name": "stdout",
     "output_type": "stream",
     "text": [
      "('Saving started in: %s', '/data/attributes/vf_es/model_outputs/model_scores/model_name=hh_segmentation_children_at_home/year=2019/month=11/day=0')\n",
      "Saving finished!\n"
     ]
    }
   ],
   "source": [
    "saveDF(path_model_outputs_scores, df_save_scores, 1)"
   ]
  },
  {
   "cell_type": "markdown",
   "metadata": {
    "collapsed": true
   },
   "source": [
    "# 2. Any of them over 18 years old\n",
    "In a second stage, we will infer households with any child over 18 years old. \n",
    "We will use only households predicted as \"with children\" in the previous step"
   ]
  },
  {
   "cell_type": "code",
   "execution_count": 142,
   "metadata": {},
   "outputs": [],
   "source": [
    "df_tmp2=(df_tmp1\n",
    "        .join(results,'NUM_CLIENTE','leftouter')\n",
    "         .where((col('FLAG_CHILDREN')==1)|(col('prediction_flag_children')==1))\n",
    "        )"
   ]
  },
  {
   "cell_type": "code",
   "execution_count": 143,
   "metadata": {},
   "outputs": [
    {
     "name": "stdout",
     "output_type": "stream",
     "text": [
      "+-------------+--------------------+------------------------+-------+\n",
      "|FLAG_CHILDREN|FLAG_CHILDREN_OVER18|prediction_flag_children|  count|\n",
      "+-------------+--------------------+------------------------+-------+\n",
      "|         null|                null|                     1.0|4070208|\n",
      "|            0|                null|                     1.0|    179|\n",
      "|            1|                   0|                     0.0|    241|\n",
      "|            1|                   0|                     1.0|    657|\n",
      "|            1|                   1|                     0.0|    290|\n",
      "|            1|                   1|                     1.0|    562|\n",
      "+-------------+--------------------+------------------------+-------+\n",
      "\n"
     ]
    }
   ],
   "source": [
    "df_tmp2.groupBy('FLAG_CHILDREN','FLAG_CHILDREN_OVER18','prediction_flag_children').count().orderBy('FLAG_CHILDREN','FLAG_CHILDREN_OVER18','prediction_flag_children').show(200)"
   ]
  },
  {
   "cell_type": "code",
   "execution_count": 144,
   "metadata": {},
   "outputs": [],
   "source": [
    "# Preparation of second model"
   ]
  },
  {
   "cell_type": "code",
   "execution_count": 145,
   "metadata": {},
   "outputs": [
    {
     "name": "stdout",
     "output_type": "stream",
     "text": [
      "label_col is FLAG_CHILDREN_OVER18 of type int\n",
      "[Thu Nov  7 12:36:34 2019] Label FLAG_CHILDREN_OVER18 is numeric, so no need of converting or indexing it\n",
      "\n",
      "\n",
      "There are 11 ignore columns\n",
      "There are 744 columns in given DataFrame\n",
      "There are 10 int columns\n",
      "There are 597 double columns\n",
      "There are 126 bigint columns\n",
      "There are 11 string columns\n",
      "\n",
      "\n",
      "There are 5 categorical columns\n",
      "There are 729 numeric columns\n"
     ]
    }
   ],
   "source": [
    "ignore_cols=['NUM_CLIENTE','CAMPO1','NUM_CLIENTE_deanon','NIF_CLIENTE','nif_ID_Cliente','amdocs_ID_Cliente','CHILDREN_GREATER_AGE','FLAG_CHILDREN','ident_AXESOR','prediction_flag_children','score_flag_children']\n",
    "\n",
    "modeler_over18=GeneralModelTrainer(df_tmp1,'FLAG_CHILDREN_OVER18',ignore_cols=ignore_cols, debug=False)"
   ]
  },
  {
   "cell_type": "code",
   "execution_count": 146,
   "metadata": {
    "scrolled": true
   },
   "outputs": [
    {
     "name": "stdout",
     "output_type": "stream",
     "text": [
      "[Thu Nov  7 12:36:37 2019] Counting number of distinct values in categorical variables ...\n"
     ]
    },
    {
     "name": "stderr",
     "output_type": "stream",
     "text": [
      "Processing Tramo_Renta: 100%|██████████| 5/5 [06:25<00:00, 76.32s/variable]     "
     ]
    },
    {
     "name": "stdout",
     "output_type": "stream",
     "text": [
      "[Thu Nov  7 12:43:03 2019] Counting number of distinct values in categorical variables ... done\n",
      "[Thu Nov  7 12:43:03 2019] Detected 0 constant columns: []\n",
      "[Thu Nov  7 12:43:03 2019] Writing cols_to_relevel to disk cols_to_relevel-20191107124303.txt\n",
      "[Thu Nov  7 12:43:03 2019] Releveling 0 categorical variables with more than 32 levels, and dropping constant columns: []\n",
      "[Thu Nov  7 12:43:03 2019] Releveled  0 categorical variables with more than 32 levels, and dropped constant columns\n"
     ]
    },
    {
     "name": "stderr",
     "output_type": "stream",
     "text": [
      "\n"
     ]
    },
    {
     "data": {
      "text/plain": [
       "<new_general_model_trainer.GeneralModelTrainer instance at 0x7f109ff6e290>"
      ]
     },
     "execution_count": 146,
     "metadata": {},
     "output_type": "execute_result"
    }
   ],
   "source": [
    "modeler_over18.relevelCategoricalVars()"
   ]
  },
  {
   "cell_type": "code",
   "execution_count": 147,
   "metadata": {},
   "outputs": [
    {
     "name": "stdout",
     "output_type": "stream",
     "text": [
      "[Thu Nov  7 12:43:03 2019] Counting NULLs in label FLAG_CHILDREN_OVER18 ...\n",
      "[Thu Nov  7 12:44:33 2019] Counting NULLs in label FLAG_CHILDREN_OVER18 ... 6074968\n",
      "[Thu Nov  7 12:44:34 2019] Using column 'pred' to separate NULLs ...\n",
      "[Thu Nov  7 12:46:00 2019] Using column 'pred' to separate NULLs ... done\n",
      "[Thu Nov  7 12:46:00 2019] Indexing categorical features ...\n"
     ]
    },
    {
     "name": "stderr",
     "output_type": "stream",
     "text": [
      "Processing Tramo_Renta: 100%|██████████| 5/5 [10:37<00:00, 124.28s/variable]    "
     ]
    },
    {
     "name": "stdout",
     "output_type": "stream",
     "text": [
      "[Thu Nov  7 12:56:38 2019] Indexing categorical features ... done\n"
     ]
    },
    {
     "name": "stderr",
     "output_type": "stream",
     "text": [
      "\n"
     ]
    },
    {
     "name": "stdout",
     "output_type": "stream",
     "text": [
      "[Thu Nov  7 12:56:38 2019] Assembling 734 features ...\n",
      "[Thu Nov  7 12:56:46 2019] Assembling 734 features ... done\n"
     ]
    },
    {
     "data": {
      "text/plain": [
       "<new_general_model_trainer.GeneralModelTrainer instance at 0x7f109ff6e290>"
      ]
     },
     "execution_count": 147,
     "metadata": {},
     "output_type": "execute_result"
    }
   ],
   "source": [
    "modeler_over18.generateFeaturesVector()"
   ]
  },
  {
   "cell_type": "code",
   "execution_count": 148,
   "metadata": {},
   "outputs": [
    {
     "name": "stdout",
     "output_type": "stream",
     "text": [
      "[Thu Nov  7 12:56:46 2019] Applying minMaxScaler to range [0.000000, 1.000000] ...\n",
      "[Thu Nov  7 13:08:57 2019] Applying minMaxScaler to range [0.000000, 1.000000] ... done\n"
     ]
    },
    {
     "data": {
      "text/plain": [
       "<new_general_model_trainer.GeneralModelTrainer instance at 0x7f109ff6e290>"
      ]
     },
     "execution_count": 148,
     "metadata": {},
     "output_type": "execute_result"
    }
   ],
   "source": [
    "modeler_over18.minMaxScale()"
   ]
  },
  {
   "cell_type": "code",
   "execution_count": 149,
   "metadata": {},
   "outputs": [
    {
     "name": "stdout",
     "output_type": "stream",
     "text": [
      "[Thu Nov  7 13:08:59 2019] Found column \"pred\". Removing prediction rows for training\n",
      "[Thu Nov  7 13:09:00 2019] Splitting data set into train(70%)/test(30%) ...\n",
      "[Thu Nov  7 13:09:02 2019] Splitting data set into train(70%)/test(30%) ... done\n"
     ]
    },
    {
     "data": {
      "text/plain": [
       "<new_general_model_trainer.GeneralModelTrainer instance at 0x7f109ff6e290>"
      ]
     },
     "execution_count": 149,
     "metadata": {},
     "output_type": "execute_result"
    }
   ],
   "source": [
    "modeler_over18.split_train_test()"
   ]
  },
  {
   "cell_type": "code",
   "execution_count": 150,
   "metadata": {},
   "outputs": [
    {
     "name": "stdout",
     "output_type": "stream",
     "text": [
      "[Thu Nov  7 13:09:02 2019] Not found column \"pred\". Removing null rows for training\n",
      "[Thu Nov  7 13:09:03 2019] Balancing train data ...\n",
      "[Thu Nov  7 13:09:09 2019] Sampling DataFrame by column FLAG_CHILDREN_OVER18_without_nulls with fractions: {0: 0.9511041009463722, 1: 1.0} ...\n",
      "[Thu Nov  7 13:09:10 2019] Sampling DataFrame by column FLAG_CHILDREN_OVER18_without_nulls with fractions: {0: 0.9511041009463722, 1: 1.0} ... done\n",
      "[Thu Nov  7 13:09:10 2019] Caching train data ...\n",
      "[Thu Nov  7 13:09:10 2019] Caching train data ... done\n",
      "[Thu Nov  7 13:09:10 2019] Balancing test data ...\n",
      "[Thu Nov  7 13:09:16 2019] Sampling DataFrame by column FLAG_CHILDREN_OVER18_without_nulls with fractions: {0: 0.9431818181818182, 1: 1.0} ...\n",
      "[Thu Nov  7 13:09:17 2019] Sampling DataFrame by column FLAG_CHILDREN_OVER18_without_nulls with fractions: {0: 0.9431818181818182, 1: 1.0} ... done\n",
      "[Thu Nov  7 13:09:17 2019] Caching test data ...\n",
      "[Thu Nov  7 13:09:17 2019] Caching test data ... done\n",
      "[Thu Nov  7 13:09:19 2019] Added new stage: RandomForestClassifier_4cee9afb32a637884167\n",
      "[Thu Nov  7 13:09:19 2019] Training RandomForestClassifier model ...\n",
      "[Thu Nov  7 13:10:11 2019] Training RandomForestClassifier model ... done\n",
      "[Thu Nov  7 13:10:11 2019] Trained  RandomForestClassificationModel (uid=RandomForestClassifier_4cee9afb32a637884167) with 500 trees\n"
     ]
    },
    {
     "data": {
      "text/plain": [
       "<new_general_model_trainer.GeneralModelTrainer instance at 0x7f109ff6e290>"
      ]
     },
     "execution_count": 150,
     "metadata": {},
     "output_type": "execute_result"
    }
   ],
   "source": [
    "modeler_over18.train()"
   ]
  },
  {
   "cell_type": "code",
   "execution_count": 151,
   "metadata": {},
   "outputs": [
    {
     "name": "stdout",
     "output_type": "stream",
     "text": [
      "Model Performance Metrics using (balanced) train data\n",
      "=====================================================\n",
      "[Thu Nov  7 13:10:11 2019] Predicting data ...\n",
      "[Thu Nov  7 13:10:14 2019] Using element -1 as positive class\n",
      "[Thu Nov  7 13:10:15 2019] Predicting data ... done\n",
      "[Thu Nov  7 13:10:15 2019] Converting evaluation_predictions to Pandas ...\n",
      "[Thu Nov  7 13:10:23 2019] Converting evaluation_predictions to Pandas ... done\n",
      "matthews_corrcoef: 0.8461397578057971\n",
      "f2_score: 0.9324546952224052\n",
      "jaccard_similarity_score: 0.922824302134647\n",
      "precision_score: 0.9085072231139647\n",
      "classification_report:\n",
      "              precision    recall  f1-score   support\n",
      "\n",
      "           0       0.94      0.91      0.92       615\n",
      "           1       0.91      0.94      0.92       603\n",
      "\n",
      "   micro avg       0.92      0.92      0.92      1218\n",
      "   macro avg       0.92      0.92      0.92      1218\n",
      "weighted avg       0.92      0.92      0.92      1218\n",
      "\n",
      "average_precision_score: 0.9840510704256324\n",
      "confusion_matrix:\n",
      "[[558, 57], [37, 566]]\n",
      "hinge_loss: 0.881983198311137\n",
      "f1_score: 0.9233278955954323\n",
      "roc_auc_score: 0.9837047823214549\n",
      "log_loss: 0.481597396642236\n",
      "lift: [2.0199, 2.0199, 2.003344, 1.904005, 1.357638, 0.562923, 0.099339, 0.016557, 0.0, 0.0]\n",
      "f0point5_score: 0.9143780290791599\n",
      "zero_one_loss: 0.07717569786535305\n",
      "cohen_kappa_score: 0.8456835550523635\n",
      "accuracy_score: 0.922824302134647\n",
      "recall_score: 0.9386401326699834\n",
      "brier_score_loss: 0.14832357042164515\n",
      "hamming_loss: 0.07717569786535304\n",
      "gains_lift_table:\n",
      "Gains/Lift Table: Avg response rate: 49.51 %\n",
      "    group  cumulative_data_fraction  lower_threshold      lift  \\\n",
      "1     1.0                  0.100164         0.675370  2.019900   \n",
      "2     2.0                  0.200328         0.638247  2.019900   \n",
      "3     3.0                  0.300493         0.607920  2.003344   \n",
      "4     4.0                  0.400657         0.570772  1.904005   \n",
      "5     5.0                  0.500821         0.510065  1.357638   \n",
      "6     6.0                  0.600985         0.444410  0.562923   \n",
      "7     7.0                  0.701149         0.393574  0.099339   \n",
      "8     8.0                  0.801314         0.345472  0.016557   \n",
      "9     9.0                  0.900657         0.291126  0.000000   \n",
      "10   10.0                  1.000000         0.172267  0.000000   \n",
      "\n",
      "    cumulative_lift  response_rate  cumulative_response_rate  capture_rate  \\\n",
      "1          2.019900       1.000000                  1.000000      0.202322   \n",
      "2          2.019900       1.000000                  1.000000      0.202322   \n",
      "3          2.014382       0.991803                  0.997268      0.200663   \n",
      "4          1.986787       0.942623                  0.983607      0.190713   \n",
      "5          1.860958       0.672131                  0.921311      0.135987   \n",
      "6          1.644618       0.278689                  0.814208      0.056385   \n",
      "7          1.423864       0.049180                  0.704918      0.009950   \n",
      "8          1.247951       0.008197                  0.617828      0.001658   \n",
      "9          1.110301       0.000000                  0.549681      0.000000   \n",
      "10         1.000000       0.000000                  0.495074      0.000000   \n",
      "\n",
      "    cumulative_capture_rate        gain  cumulative_gain  \n",
      "1                  0.202322  101.990050       101.990050  \n",
      "2                  0.404644  101.990050       101.990050  \n",
      "3                  0.605307  100.334394       101.438164  \n",
      "4                  0.796020   90.400457        98.678737  \n",
      "5                  0.932007   35.763804        86.095751  \n",
      "6                  0.988392  -43.707691        64.461844  \n",
      "7                  0.998342  -90.066063        42.386429  \n",
      "8                  1.000000  -98.344344        24.795082  \n",
      "9                  1.000000 -100.000000        11.030082  \n",
      "10                 1.000000 -100.000000         0.000000  \n",
      "Model Performance Metrics using balanced test data\n",
      "==================================================\n",
      "[Thu Nov  7 13:10:24 2019] Predicting data ...\n",
      "[Thu Nov  7 13:10:26 2019] Using element -1 as positive class\n",
      "[Thu Nov  7 13:10:27 2019] Predicting data ... done\n",
      "[Thu Nov  7 13:10:27 2019] Converting evaluation_predictions to Pandas ...\n",
      "[Thu Nov  7 13:10:36 2019] Converting evaluation_predictions to Pandas ... done\n",
      "matthews_corrcoef: 0.35092093167705757\n",
      "f2_score: 0.6863527533918595\n",
      "jaccard_similarity_score: 0.6753507014028056\n",
      "precision_score: 0.669260700389105\n",
      "classification_report:\n",
      "              precision    recall  f1-score   support\n",
      "\n",
      "           0       0.68      0.66      0.67       250\n",
      "           1       0.67      0.69      0.68       249\n",
      "\n",
      "   micro avg       0.68      0.68      0.68       499\n",
      "   macro avg       0.68      0.68      0.68       499\n",
      "weighted avg       0.68      0.68      0.68       499\n",
      "\n",
      "average_precision_score: 0.7330297415010187\n",
      "confusion_matrix:\n",
      "[[165, 85], [77, 172]]\n",
      "hinge_loss: 0.956365097441033\n",
      "f1_score: 0.6798418972332015\n",
      "roc_auc_score: 0.7466666666666668\n",
      "log_loss: 0.6232564852953968\n",
      "lift: [1.683373, 1.28257, 1.442892, 1.362731, 1.002008, 1.20241, 0.681365, 0.561124, 0.561124, 0.204491]\n",
      "f0point5_score: 0.6734534064212999\n",
      "zero_one_loss: 0.3246492985971944\n",
      "cohen_kappa_score: 0.3507405146657243\n",
      "accuracy_score: 0.6753507014028056\n",
      "recall_score: 0.6907630522088354\n",
      "brier_score_loss: 0.21616877784349062\n",
      "hamming_loss: 0.3246492985971944\n",
      "gains_lift_table:\n",
      "Gains/Lift Table: Avg response rate: 49.9 %\n",
      "    group  cumulative_data_fraction  lower_threshold      lift  \\\n",
      "1     1.0                  0.100200         0.620298  1.683373   \n",
      "2     2.0                  0.200401         0.591367  1.282570   \n",
      "3     3.0                  0.300601         0.560527  1.442892   \n",
      "4     4.0                  0.400802         0.528614  1.362731   \n",
      "5     5.0                  0.501002         0.503644  1.002008   \n",
      "6     6.0                  0.601202         0.471690  1.202410   \n",
      "7     7.0                  0.701403         0.443120  0.681365   \n",
      "8     8.0                  0.801603         0.400765  0.561124   \n",
      "9     9.0                  0.901804         0.348702  0.561124   \n",
      "10   10.0                  1.000000         0.205310  0.204491   \n",
      "\n",
      "    cumulative_lift  response_rate  cumulative_response_rate  capture_rate  \\\n",
      "1          1.683373       0.840000                  0.840000      0.168675   \n",
      "2          1.482972       0.640000                  0.740000      0.128514   \n",
      "3          1.469612       0.720000                  0.733333      0.144578   \n",
      "4          1.442892       0.680000                  0.720000      0.136546   \n",
      "5          1.354715       0.500000                  0.676000      0.100402   \n",
      "6          1.329331       0.600000                  0.663333      0.120482   \n",
      "7          1.236764       0.340000                  0.617143      0.068273   \n",
      "8          1.152309       0.280000                  0.575000      0.056225   \n",
      "9          1.086622       0.280000                  0.542222      0.056225   \n",
      "10         1.000000       0.102041                  0.498998      0.020080   \n",
      "\n",
      "    cumulative_capture_rate       gain  cumulative_gain  \n",
      "1                  0.168675  68.337349        68.337349  \n",
      "2                  0.297189  28.257028        48.297189  \n",
      "3                  0.441767  44.289157        46.961178  \n",
      "4                  0.578313  36.273092        44.289157  \n",
      "5                  0.678715   0.200803        35.471486  \n",
      "6                  0.799197  20.240964        32.933066  \n",
      "7                  0.867470 -31.863454        23.676420  \n",
      "8                  0.923695 -43.887550        15.230924  \n",
      "9                  0.979920 -43.887550         8.662204  \n",
      "10                 1.000000 -79.550856         0.000000  \n",
      "Model Performance Metrics using unbalanced test data\n",
      "====================================================\n",
      "[Thu Nov  7 13:10:37 2019] Predicting data ...\n",
      "[Thu Nov  7 13:10:40 2019] Using element -1 as positive class\n",
      "[Thu Nov  7 13:10:41 2019] Predicting data ... done\n",
      "[Thu Nov  7 13:10:41 2019] Converting evaluation_predictions to Pandas ...\n",
      "[Thu Nov  7 13:10:49 2019] Converting evaluation_predictions to Pandas ... done\n",
      "matthews_corrcoef: 0.3535450447279101\n",
      "f2_score: 0.6841686555290375\n",
      "jaccard_similarity_score: 0.6764132553606238\n",
      "precision_score: 0.6590038314176245\n",
      "classification_report:\n",
      "              precision    recall  f1-score   support\n",
      "\n",
      "           0       0.69      0.66      0.68       264\n",
      "           1       0.66      0.69      0.67       249\n",
      "\n",
      "   micro avg       0.68      0.68      0.68       513\n",
      "   macro avg       0.68      0.68      0.68       513\n",
      "weighted avg       0.68      0.68      0.68       513\n",
      "\n",
      "average_precision_score: 0.7249693445714845\n",
      "confusion_matrix:\n",
      "[[175, 89], [77, 172]]\n",
      "hinge_loss: 0.969416771251091\n",
      "f1_score: 0.6745098039215687\n",
      "roc_auc_score: 0.7492089570402823\n",
      "log_loss: 0.6221804645828026\n",
      "lift: [1.664041, 1.386701, 1.465941, 1.2927, 0.969525, 1.211906, 0.727144, 0.525159, 0.525159, 0.201984]\n",
      "f0point5_score: 0.6651198762567674\n",
      "zero_one_loss: 0.3235867446393762\n",
      "cohen_kappa_score: 0.35315832649712886\n",
      "accuracy_score: 0.6764132553606238\n",
      "recall_score: 0.6907630522088354\n",
      "brier_score_loss: 0.21564150730028908\n",
      "hamming_loss: 0.3235867446393762\n",
      "gains_lift_table:\n",
      "Gains/Lift Table: Avg response rate: 48.54 %\n",
      "    group  cumulative_data_fraction  lower_threshold      lift  \\\n",
      "1     1.0                  0.101365         0.619045  1.664041   \n",
      "2     2.0                  0.202729         0.588597  1.386701   \n",
      "3     3.0                  0.304094         0.558584  1.465941   \n",
      "4     4.0                  0.403509         0.526493  1.292700   \n",
      "5     5.0                  0.502924         0.501897  0.969525   \n",
      "6     6.0                  0.602339         0.469274  1.211906   \n",
      "7     7.0                  0.701754         0.439480  0.727144   \n",
      "8     8.0                  0.801170         0.399579  0.525159   \n",
      "9     9.0                  0.900585         0.348702  0.525159   \n",
      "10   10.0                  1.000000         0.205310  0.201984   \n",
      "\n",
      "    cumulative_lift  response_rate  cumulative_response_rate  capture_rate  \\\n",
      "1          1.664041       0.807692                  0.807692      0.168675   \n",
      "2          1.525371       0.673077                  0.740385      0.140562   \n",
      "3          1.505561       0.711538                  0.730769      0.148594   \n",
      "4          1.453117       0.627451                  0.705314      0.128514   \n",
      "5          1.357523       0.470588                  0.658915      0.096386   \n",
      "6          1.333489       0.588235                  0.647249      0.120482   \n",
      "7          1.247590       0.352941                  0.605556      0.072289   \n",
      "8          1.157946       0.254902                  0.562044      0.052209   \n",
      "9          1.088093       0.254902                  0.528139      0.052209   \n",
      "10         1.000000       0.098039                  0.485380      0.020080   \n",
      "\n",
      "    cumulative_capture_rate       gain  cumulative_gain  \n",
      "1                  0.168675  66.404078        66.404078  \n",
      "2                  0.309237  38.670065        52.537071  \n",
      "3                  0.457831  46.594069        50.556070  \n",
      "4                  0.586345  29.270021        45.311682  \n",
      "5                  0.682731  -3.047484        35.752312  \n",
      "6                  0.803213  21.190645        33.348930  \n",
      "7                  0.875502 -27.285613        24.759036  \n",
      "8                  0.927711 -47.484054        15.794565  \n",
      "9                  0.979920 -47.484054         8.809263  \n",
      "10                 1.000000 -79.801559         0.000000  \n"
     ]
    },
    {
     "data": {
      "text/plain": [
       "<new_general_model_trainer.GeneralModelTrainer instance at 0x7f109ff6e290>"
      ]
     },
     "execution_count": 151,
     "metadata": {},
     "output_type": "execute_result"
    }
   ],
   "source": [
    "modeler_over18.evaluate()"
   ]
  },
  {
   "cell_type": "code",
   "execution_count": 152,
   "metadata": {},
   "outputs": [
    {
     "data": {
      "image/png": "[encoded data removed]",
      "text/plain": [
       "<Figure size 864x720 with 1 Axes>"
      ]
     },
     "metadata": {},
     "output_type": "display_data"
    }
   ],
   "source": [
    "modeler_over18.varimp_plot()"
   ]
  },
  {
   "cell_type": "code",
   "execution_count": 153,
   "metadata": {},
   "outputs": [
    {
     "data": {
      "image/png": "[encoded data removed]",
      "text/plain": [
       "<Figure size 720x720 with 1 Axes>"
      ]
     },
     "metadata": {},
     "output_type": "display_data"
    }
   ],
   "source": [
    "modeler_over18.roc_plot(modeler_over18.metrics_unbalanced_test,figsize=(10,10))"
   ]
  },
  {
   "cell_type": "code",
   "execution_count": 154,
   "metadata": {},
   "outputs": [
    {
     "name": "stdout",
     "output_type": "stream",
     "text": [
      "[Thu Nov  7 13:10:50 2019] Selecting rows to predict\n",
      "[Thu Nov  7 13:10:50 2019] Found column \"pred\". Selecting prediction rows\n",
      "[Thu Nov  7 13:10:51 2019] Predicting data ...\n",
      "[Thu Nov  7 13:10:54 2019] Using last element as positive class\n",
      "[Thu Nov  7 13:10:55 2019] Predicting data ... done\n"
     ]
    }
   ],
   "source": [
    "modeler_over18.predict()\n",
    "results_over18_tmp1=modeler_over18.predictions\n",
    "#results_over18['NUM_CLIENTE','rawPrediction','probability','prediction','score'].show()\n",
    "\n",
    "results_over18=(results_over18_tmp1['NUM_CLIENTE','prediction','score']\n",
    "         .withColumnRenamed('prediction','prediction_over18')\n",
    "         .withColumnRenamed('score','score_over18')\n",
    "        )"
   ]
  },
  {
   "cell_type": "code",
   "execution_count": 156,
   "metadata": {},
   "outputs": [],
   "source": [
    "evaluation_metrics_balanced_test_over18 = modeler_over18.metrics_balanced_test\n",
    "\n",
    "evaluation_metrics_unbalanced_test_over18 = modeler_over18.metrics_unbalanced_test\n",
    "\n",
    "evaluation_metrics_train_over18 = modeler_over18.metrics_train"
   ]
  },
  {
   "cell_type": "markdown",
   "metadata": {},
   "source": [
    "## Creamos un Model Outputs *ad hoc* para este sub-modelo."
   ]
  },
  {
   "cell_type": "code",
   "execution_count": 157,
   "metadata": {},
   "outputs": [],
   "source": [
    "import time, datetime\n",
    "\n",
    "## OJO! Esto hay que cambiarlo en función de la entrega a realizar.\n",
    "closing_day = '20191031'\n",
    "current_timestamp = datetime.datetime.now()\n",
    "executed_at = current_timestamp.strftime('%Y-%m-%d %H:%M:%S')\n",
    "analysis_month_M = datetime.datetime.strptime(closing_day, \"%Y%m%d\")"
   ]
  },
  {
   "cell_type": "code",
   "execution_count": 158,
   "metadata": {},
   "outputs": [],
   "source": [
    "level = 'client_id'\n",
    "\n",
    "model_name = 'hh_segmentation_age_kids_over_18'\n",
    "\n",
    "path_model_detail = 'model_name=' + model_name \\\n",
    "                            + '/year=' + str(current_timestamp.year) \\\n",
    "                            + '/month=' + str(current_timestamp.month) \\\n",
    "                            + '/day=0'"
   ]
  },
  {
   "cell_type": "code",
   "execution_count": 159,
   "metadata": {},
   "outputs": [],
   "source": [
    "model_params_over18 = {\n",
    "    'algorithm': modeler_over18.model.stages[0].getParam,\n",
    "    'maxdepth': modeler_over18.model.stages[0]._java_obj.getMaxDepth(),\n",
    "    'maxbins': modeler_over18.model.stages[0]._java_obj.getMaxBins(),\n",
    "    'minInstancesPerNode': modeler_over18.model.stages[0]._java_obj.getMinInstancesPerNode(),\n",
    "    'numTrees': modeler_over18.model.stages[0]._java_obj.getNumTrees(),\n",
    "    'subsamplingRate': modeler_over18.model.stages[0]._java_obj.getSubsamplingRate(),\n",
    "    'seed': modeler_over18.model.stages[0]._java_obj.getSeed()\n",
    "}"
   ]
  },
  {
   "cell_type": "code",
   "execution_count": 160,
   "metadata": {},
   "outputs": [],
   "source": [
    "path_model_outputs_base = '/data/attributes/vf_es/model_outputs/'\n",
    "path_model_outputs_scores = path_model_outputs_base + 'model_scores/' + path_model_detail\n",
    "path_model_outputs_params = path_model_outputs_base + 'model_parameters/' + path_model_detail"
   ]
  },
  {
   "cell_type": "code",
   "execution_count": 161,
   "metadata": {},
   "outputs": [],
   "source": [
    "path_model_works_base = '/user/avazq108/models_prod/'\n",
    "path_model_works_model = path_model_works_base + 'model_definition/' + path_model_detail\n",
    "path_model_works_metrics = path_model_works_base + 'model_metrics/' + path_model_detail"
   ]
  },
  {
   "cell_type": "markdown",
   "metadata": {},
   "source": [
    "- Model parameters:"
   ]
  },
  {
   "cell_type": "code",
   "execution_count": 162,
   "metadata": {},
   "outputs": [],
   "source": [
    "target = \"Predicting if any of the kids at home is over 18 years old or not;\"\n",
    "model_path = path_model_works_model.replace(',', ';')\n",
    "metrics_path = path_model_works_metrics.replace(',', ';')\n",
    "metrics_train = str(evaluation_metrics_train_over18).replace(',', ';')\n",
    "metrics_test = str(evaluation_metrics_unbalanced_test_over18).replace(',', ';')\n",
    "varimp = ';'.join(str(v) for v in modeler_over18.varimp[['feature', 'relative_importance']].values.tolist()).replace(',', ';')\n",
    "algorithm = str(model_params_over18).replace(',', ';')\n",
    "author_login = 'avazq108'\n",
    "scores_extra_info_headers = None\n",
    "time = int(current_timestamp.strftime('%H%M%S'))"
   ]
  },
  {
   "cell_type": "code",
   "execution_count": 163,
   "metadata": {},
   "outputs": [],
   "source": [
    "description = \"Predicting if any of the kids at home is over 18 years old or not;\""
   ]
  },
  {
   "cell_type": "code",
   "execution_count": 164,
   "metadata": {},
   "outputs": [],
   "source": [
    "import time as tm\n",
    "\n",
    "end_time = tm.time()\n",
    "time_of_execution = str(int(end_time - start_time))"
   ]
  },
  {
   "cell_type": "code",
   "execution_count": 165,
   "metadata": {},
   "outputs": [],
   "source": [
    "extra_info = '{description:'+description+'; processing_time:'+time_of_execution+'}'"
   ]
  },
  {
   "cell_type": "code",
   "execution_count": 166,
   "metadata": {},
   "outputs": [],
   "source": [
    "from pyspark.sql.types import *\n",
    "\n",
    "fields = [StructField(\"executed_at\", StringType(), True),\n",
    "                  StructField(\"model_level\", StringType(), True),\n",
    "                  StructField(\"training_closing_date\", StringType(), True),\n",
    "                  StructField(\"target\", StringType(), True),\n",
    "                  StructField(\"model_path\", StringType(), True),\n",
    "                  StructField(\"metrics_path\", StringType(), True),\n",
    "                  StructField(\"metrics_train\", StringType(), True),\n",
    "                  StructField(\"metrics_test\", StringType(), True),\n",
    "                  StructField(\"varimp\", StringType(), True),\n",
    "                  StructField(\"algorithm\", StringType(), True),\n",
    "                  StructField(\"author_login\", StringType(), True),\n",
    "                  StructField(\"extra_info\", StringType(), True),\n",
    "                  StructField(\"scores_extra_info_headers\", StringType(), True),\n",
    "                  StructField(\"time\", IntegerType(), True)\n",
    "                  ]"
   ]
  },
  {
   "cell_type": "code",
   "execution_count": 167,
   "metadata": {},
   "outputs": [],
   "source": [
    "schema = StructType(fields)"
   ]
  },
  {
   "cell_type": "code",
   "execution_count": 168,
   "metadata": {},
   "outputs": [],
   "source": [
    "data = [[executed_at, level, closing_day, target, model_path, metrics_path, metrics_train,\n",
    "                 metrics_test, varimp, algorithm, author_login, extra_info, scores_extra_info_headers, time]]"
   ]
  },
  {
   "cell_type": "code",
   "execution_count": 169,
   "metadata": {},
   "outputs": [],
   "source": [
    "df_save_params = spark.createDataFrame(data, schema)"
   ]
  },
  {
   "cell_type": "code",
   "execution_count": 170,
   "metadata": {},
   "outputs": [],
   "source": [
    "def saveDF(path, df, partitions):\n",
    "    print('Saving started in: %s', path)\n",
    "    spark.conf.set(\"spark.sql.sources.partitionOverwriteMode\",\"dynamic\")\n",
    "    df.repartition(partitions).write.mode('append').format('parquet').save(path)\n",
    "    print('Saving finished!')"
   ]
  },
  {
   "cell_type": "code",
   "execution_count": 171,
   "metadata": {},
   "outputs": [
    {
     "name": "stdout",
     "output_type": "stream",
     "text": [
      "('Saving started in: %s', '/data/attributes/vf_es/model_outputs/model_parameters/model_name=hh_segmentation_age_kids_over_18/year=2019/month=11/day=0')\n",
      "Saving finished!\n"
     ]
    }
   ],
   "source": [
    "saveDF(path_model_outputs_params, df_save_params, 1)"
   ]
  },
  {
   "cell_type": "markdown",
   "metadata": {},
   "source": [
    "- Model outputs:"
   ]
  },
  {
   "cell_type": "code",
   "execution_count": 172,
   "metadata": {},
   "outputs": [],
   "source": [
    "df_save_scores = (results_over18\n",
    "                        .withColumn('executed_at', lit(executed_at).cast(StringType()))\n",
    "                        .withColumn('model_executed_at', lit(executed_at).cast(StringType()))\n",
    "                        .withColumn('predict_closing_date', lit(closing_day).cast(StringType()))\n",
    "                        .withColumn('msisdn', lit(None).cast(StringType()))\n",
    "                        .withColumn('client_id', col('NUM_CLIENTE').cast(StringType()))\n",
    "                        .withColumn('nif', lit(None).cast(StringType()))\n",
    "                        .withColumn('model_output', lit(None).cast(StringType()))\n",
    "                        .withColumn('scoring', col('score_over18').cast(FloatType()))\n",
    "                        .withColumn('prediction', col('prediction_over18').cast(StringType()))\n",
    "                        .withColumn('extra_info', lit(None).cast(StringType()))\n",
    "                        .withColumn('time', lit(time).cast(IntegerType()))\n",
    "                        .select('executed_at', 'model_executed_at', 'predict_closing_date', 'msisdn'\n",
    "                                       , 'client_id', 'nif', 'model_output', 'scoring', 'prediction'\n",
    "                                       , 'extra_info', 'time')\n",
    "                            )"
   ]
  },
  {
   "cell_type": "code",
   "execution_count": 173,
   "metadata": {},
   "outputs": [
    {
     "name": "stdout",
     "output_type": "stream",
     "text": [
      "('Saving started in: %s', '/data/attributes/vf_es/model_outputs/model_scores/model_name=hh_segmentation_age_kids_over_18/year=2019/month=11/day=0')\n",
      "Saving finished!\n"
     ]
    }
   ],
   "source": [
    "saveDF(path_model_outputs_scores, df_save_scores, 1)"
   ]
  },
  {
   "cell_type": "markdown",
   "metadata": {},
   "source": [
    "# 3. Age over 55\n",
    "In a third step, we will be infering the age of the head of family mainly focused on determined if it is over or under 55 years old"
   ]
  },
  {
   "cell_type": "code",
   "execution_count": 174,
   "metadata": {},
   "outputs": [
    {
     "name": "stdout",
     "output_type": "stream",
     "text": [
      "+-----------------------+--------+\n",
      "|type                   |count   |\n",
      "+-----------------------+--------+\n",
      "|birth_date_informed    |10080820|\n",
      "|both uninformed        |3666728 |\n",
      "|both_informed_equal    |1020766 |\n",
      "|both_informed_different|15452   |\n",
      "|null                   |15      |\n",
      "+-----------------------+--------+\n",
      "\n"
     ]
    }
   ],
   "source": [
    "(amdocs_ids_load\n",
    " .dropDuplicates()\n",
    " .withColumn('FECHA_NACI',substring(col('FECHA_NACI'),1,4))\n",
    " .withColumn('type',when((col('FECHA_NACI')==1753)&(col('birth_date')==1753),'both uninformed'  )\n",
    "                   .when((col('FECHA_NACI')==1753)&(col('birth_date')>1753),'birth_date_informed'  )\n",
    "                   .when((col('FECHA_NACI')>1753)&(col('birth_date')==1753),'FECHA_NACI_informed'  )\n",
    "                   .when((col('FECHA_NACI')>1753)&(col('birth_date')>1753)&(col('birth_date')==col('FECHA_NACI')),'both_informed_equal'  )\n",
    "                   .when((col('FECHA_NACI')>1753)&(col('birth_date')>1753)&(col('birth_date')<>col('FECHA_NACI')),'both_informed_different'  )\n",
    "            )\n",
    " .groupBy('type')\n",
    " .count()\n",
    " .orderBy(desc('count'))\n",
    " ).show(200,False)"
   ]
  },
  {
   "cell_type": "code",
   "execution_count": 175,
   "metadata": {},
   "outputs": [],
   "source": [
    "df_age_tmp1=(df_tmp1\n",
    "            .withColumn('AGE_OVER_55',when(col('age').between(0,54),0)\n",
    "                                     .when(col('age').between(55,100),1)\n",
    "                                     .otherwise(None))\n",
    "            )"
   ]
  },
  {
   "cell_type": "code",
   "execution_count": 176,
   "metadata": {},
   "outputs": [
    {
     "name": "stdout",
     "output_type": "stream",
     "text": [
      "+-----+------+\n",
      "|  age| count|\n",
      "+-----+------+\n",
      "|  148|     2|\n",
      "| -946|     2|\n",
      "|  243|     4|\n",
      "| -975|     1|\n",
      "|   31| 85757|\n",
      "|   85| 21329|\n",
      "|  251|     3|\n",
      "|  137|    11|\n",
      "|   65| 50540|\n",
      "|   53| 83786|\n",
      "|  255|     2|\n",
      "|  133|    14|\n",
      "|   78| 30284|\n",
      "|-2693|   381|\n",
      "|  -13|    19|\n",
      "|  -33|     1|\n",
      "|  -20|    28|\n",
      "|  108|    40|\n",
      "|  155|     4|\n",
      "|   34|105554|\n",
      "+-----+------+\n",
      "only showing top 20 rows\n",
      "\n"
     ]
    }
   ],
   "source": [
    "df_age_tmp1.groupBy('age').count().show()"
   ]
  },
  {
   "cell_type": "code",
   "execution_count": 177,
   "metadata": {},
   "outputs": [
    {
     "name": "stdout",
     "output_type": "stream",
     "text": [
      "label_col is AGE_OVER_55 of type int\n",
      "[Thu Nov  7 13:50:17 2019] Label AGE_OVER_55 is numeric, so no need of converting or indexing it\n",
      "\n",
      "\n",
      "There are 12 ignore columns\n",
      "There are 745 columns in given DataFrame\n",
      "There are 11 int columns\n",
      "There are 597 double columns\n",
      "There are 126 bigint columns\n",
      "There are 11 string columns\n",
      "\n",
      "\n",
      "There are 5 categorical columns\n",
      "There are 728 numeric columns\n"
     ]
    }
   ],
   "source": [
    "ignore_cols_over55=['NUM_CLIENTE','CAMPO1','NUM_CLIENTE_deanon','NIF_CLIENTE','nif_ID_Cliente','amdocs_ID_Cliente','CHILDREN_GREATER_AGE','FLAG_CHILDREN','FLAG_CHILDREN_OVER18','ident_AXESOR','age','birth_date']\n",
    "modeler_over55=GeneralModelTrainer(df_age_tmp1,'AGE_OVER_55',ignore_cols=ignore_cols_over55, debug=False)"
   ]
  },
  {
   "cell_type": "code",
   "execution_count": 178,
   "metadata": {},
   "outputs": [
    {
     "name": "stdout",
     "output_type": "stream",
     "text": [
      "[Thu Nov  7 13:50:19 2019] Counting number of distinct values in categorical variables ...\n"
     ]
    },
    {
     "name": "stderr",
     "output_type": "stream",
     "text": [
      "Processing Tramo_Renta: 100%|██████████| 5/5 [08:14<00:00, 100.24s/variable]    "
     ]
    },
    {
     "name": "stdout",
     "output_type": "stream",
     "text": [
      "[Thu Nov  7 13:58:34 2019] Counting number of distinct values in categorical variables ... done\n",
      "[Thu Nov  7 13:58:34 2019] Detected 0 constant columns: []\n",
      "[Thu Nov  7 13:58:34 2019] Writing cols_to_relevel to disk cols_to_relevel-20191107135834.txt\n",
      "[Thu Nov  7 13:58:34 2019] Releveling 0 categorical variables with more than 32 levels, and dropping constant columns: []\n",
      "[Thu Nov  7 13:58:34 2019] Releveled  0 categorical variables with more than 32 levels, and dropped constant columns\n"
     ]
    },
    {
     "name": "stderr",
     "output_type": "stream",
     "text": [
      "\n"
     ]
    },
    {
     "data": {
      "text/plain": [
       "<new_general_model_trainer.GeneralModelTrainer instance at 0x7f109ff97ab8>"
      ]
     },
     "execution_count": 178,
     "metadata": {},
     "output_type": "execute_result"
    }
   ],
   "source": [
    "modeler_over55.relevelCategoricalVars()"
   ]
  },
  {
   "cell_type": "code",
   "execution_count": 179,
   "metadata": {},
   "outputs": [
    {
     "name": "stdout",
     "output_type": "stream",
     "text": [
      "[Thu Nov  7 13:58:34 2019] Counting NULLs in label AGE_OVER_55 ...\n",
      "[Thu Nov  7 14:00:52 2019] Counting NULLs in label AGE_OVER_55 ... 1433002\n",
      "[Thu Nov  7 14:00:52 2019] Using column 'pred' to separate NULLs ...\n",
      "[Thu Nov  7 14:02:16 2019] Using column 'pred' to separate NULLs ... done\n",
      "[Thu Nov  7 14:02:16 2019] Indexing categorical features ...\n"
     ]
    },
    {
     "name": "stderr",
     "output_type": "stream",
     "text": [
      "Processing Tramo_Renta: 100%|██████████| 5/5 [09:45<00:00, 114.04s/variable]     "
     ]
    },
    {
     "name": "stdout",
     "output_type": "stream",
     "text": [
      "[Thu Nov  7 14:12:02 2019] Indexing categorical features ... done\n"
     ]
    },
    {
     "name": "stderr",
     "output_type": "stream",
     "text": [
      "\n"
     ]
    },
    {
     "name": "stdout",
     "output_type": "stream",
     "text": [
      "[Thu Nov  7 14:12:02 2019] Assembling 733 features ...\n",
      "[Thu Nov  7 14:12:09 2019] Assembling 733 features ... done\n"
     ]
    },
    {
     "data": {
      "text/plain": [
       "<new_general_model_trainer.GeneralModelTrainer instance at 0x7f109ff97ab8>"
      ]
     },
     "execution_count": 179,
     "metadata": {},
     "output_type": "execute_result"
    }
   ],
   "source": [
    "modeler_over55.generateFeaturesVector()"
   ]
  },
  {
   "cell_type": "code",
   "execution_count": 180,
   "metadata": {},
   "outputs": [
    {
     "name": "stdout",
     "output_type": "stream",
     "text": [
      "[Thu Nov  7 14:12:09 2019] Applying minMaxScaler to range [0.000000, 1.000000] ...\n",
      "[Thu Nov  7 14:18:21 2019] Applying minMaxScaler to range [0.000000, 1.000000] ... done\n"
     ]
    },
    {
     "data": {
      "text/plain": [
       "<new_general_model_trainer.GeneralModelTrainer instance at 0x7f109ff97ab8>"
      ]
     },
     "execution_count": 180,
     "metadata": {},
     "output_type": "execute_result"
    }
   ],
   "source": [
    "modeler_over55.minMaxScale()"
   ]
  },
  {
   "cell_type": "code",
   "execution_count": 181,
   "metadata": {},
   "outputs": [
    {
     "name": "stdout",
     "output_type": "stream",
     "text": [
      "[Thu Nov  7 14:18:22 2019] Found column \"pred\". Removing prediction rows for training\n",
      "[Thu Nov  7 14:18:24 2019] Splitting data set into train(70%)/test(30%) ...\n",
      "[Thu Nov  7 14:18:25 2019] Splitting data set into train(70%)/test(30%) ... done\n"
     ]
    },
    {
     "data": {
      "text/plain": [
       "<new_general_model_trainer.GeneralModelTrainer instance at 0x7f109ff97ab8>"
      ]
     },
     "execution_count": 181,
     "metadata": {},
     "output_type": "execute_result"
    }
   ],
   "source": [
    "modeler_over55.split_train_test()"
   ]
  },
  {
   "cell_type": "code",
   "execution_count": 182,
   "metadata": {},
   "outputs": [
    {
     "name": "stdout",
     "output_type": "stream",
     "text": [
      "[Thu Nov  7 14:18:25 2019] Not found column \"pred\". Removing null rows for training\n",
      "[Thu Nov  7 14:18:27 2019] Balancing train data ...\n",
      "[Thu Nov  7 14:19:04 2019] Sampling DataFrame by column AGE_OVER_55_without_nulls with fractions: {0: 0.5032647503110826, 1: 1.0} ...\n",
      "[Thu Nov  7 14:19:05 2019] Sampling DataFrame by column AGE_OVER_55_without_nulls with fractions: {0: 0.5032647503110826, 1: 1.0} ... done\n",
      "[Thu Nov  7 14:19:05 2019] Caching train data ...\n",
      "[Thu Nov  7 14:19:05 2019] Caching train data ... done\n",
      "[Thu Nov  7 14:19:05 2019] Balancing test data ...\n",
      "[Thu Nov  7 14:19:48 2019] Sampling DataFrame by column AGE_OVER_55_without_nulls with fractions: {0: 0.5023498254770097, 1: 1.0} ...\n",
      "[Thu Nov  7 14:19:48 2019] Sampling DataFrame by column AGE_OVER_55_without_nulls with fractions: {0: 0.5023498254770097, 1: 1.0} ... done\n",
      "[Thu Nov  7 14:19:48 2019] Caching test data ...\n",
      "[Thu Nov  7 14:19:49 2019] Caching test data ... done\n",
      "[Thu Nov  7 14:19:51 2019] Added new stage: RandomForestClassifier_4f0ca248b837e9d884e2\n",
      "[Thu Nov  7 14:19:51 2019] Training RandomForestClassifier model ...\n",
      "[Thu Nov  7 14:35:02 2019] Training RandomForestClassifier model ... done\n",
      "[Thu Nov  7 14:35:02 2019] Trained  RandomForestClassificationModel (uid=RandomForestClassifier_4f0ca248b837e9d884e2) with 500 trees\n"
     ]
    },
    {
     "data": {
      "text/plain": [
       "<new_general_model_trainer.GeneralModelTrainer instance at 0x7f109ff97ab8>"
      ]
     },
     "execution_count": 182,
     "metadata": {},
     "output_type": "execute_result"
    }
   ],
   "source": [
    "modeler_over55.train()"
   ]
  },
  {
   "cell_type": "code",
   "execution_count": 183,
   "metadata": {},
   "outputs": [
    {
     "name": "stdout",
     "output_type": "stream",
     "text": [
      "Model Performance Metrics using (balanced) train data\n",
      "=====================================================\n",
      "[Thu Nov  7 14:35:03 2019] Predicting data ...\n",
      "[Thu Nov  7 14:35:05 2019] Using element -1 as positive class\n",
      "[Thu Nov  7 14:35:07 2019] Predicting data ... done\n",
      "[Thu Nov  7 14:35:07 2019] Converting evaluation_predictions to Pandas ...\n",
      "[Thu Nov  7 14:38:48 2019] Converting evaluation_predictions to Pandas ... done\n",
      "matthews_corrcoef: 0.43285329358004476\n",
      "f2_score: 0.640316551458721\n",
      "jaccard_similarity_score: 0.7123468563628275\n",
      "precision_score: 0.7632352773696858\n",
      "classification_report:\n",
      "              precision    recall  f1-score   support\n",
      "\n",
      "           0       0.68      0.81      0.74   1089170\n",
      "           1       0.76      0.62      0.68   1088769\n",
      "\n",
      "   micro avg       0.71      0.71      0.71   2177939\n",
      "   macro avg       0.72      0.71      0.71   2177939\n",
      "weighted avg       0.72      0.71      0.71   2177939\n",
      "\n",
      "average_precision_score: 0.7979571327193377\n",
      "confusion_matrix:\n",
      "[[881274, 207896], [418595, 670174]]\n",
      "hinge_loss: 0.8964836861209017\n",
      "f1_score: 0.6814731658259776\n",
      "roc_auc_score: 0.787698499046322\n",
      "log_loss: 0.5594367259491795\n",
      "lift: [1.892944, 1.643167, 1.373422, 1.209742, 1.009387, 0.82619, 0.746118, 0.591539, 0.419823, 0.287666]\n",
      "f0point5_score: 0.7282839196018125\n",
      "zero_one_loss: 0.28765314363717254\n",
      "cohen_kappa_score: 0.42467319765101263\n",
      "accuracy_score: 0.7123468563628275\n",
      "recall_score: 0.6155336898827942\n",
      "brier_score_loss: 0.18965940340067222\n",
      "hamming_loss: 0.2876531436371726\n",
      "gains_lift_table:\n",
      "Gains/Lift Table: Avg response rate: 49.99 %\n",
      "    group  cumulative_data_fraction  lower_threshold      lift  \\\n",
      "1     1.0                       0.1         0.823375  1.892944   \n",
      "2     2.0                       0.2         0.689872  1.643167   \n",
      "3     3.0                       0.3         0.627744  1.373422   \n",
      "4     4.0                       0.4         0.502996  1.209742   \n",
      "5     5.0                       0.5         0.436252  1.009387   \n",
      "6     6.0                       0.6         0.382756  0.826190   \n",
      "7     7.0                       0.7         0.378095  0.746118   \n",
      "8     8.0                       0.8         0.325924  0.591539   \n",
      "9     9.0                       0.9         0.262659  0.419823   \n",
      "10   10.0                       1.0         0.107818  0.287666   \n",
      "\n",
      "    cumulative_lift  response_rate  cumulative_response_rate  capture_rate  \\\n",
      "1          1.892944       0.946298                  0.946298      0.189295   \n",
      "2          1.768056       0.821432                  0.883865      0.164317   \n",
      "3          1.636511       0.686585                  0.818105      0.137342   \n",
      "4          1.529819       0.604760                  0.764769      0.120974   \n",
      "5          1.425732       0.504601                  0.712735      0.100939   \n",
      "6          1.325809       0.413019                  0.662782      0.082619   \n",
      "7          1.242996       0.372990                  0.621383      0.074612   \n",
      "8          1.161564       0.295715                  0.580675      0.059154   \n",
      "9          1.079148       0.209873                  0.539475      0.041982   \n",
      "10         1.000000       0.143806                  0.499908      0.028766   \n",
      "\n",
      "    cumulative_capture_rate       gain  cumulative_gain  \n",
      "1                  0.189295  89.294428        89.294428  \n",
      "2                  0.353612  64.316690        76.805559  \n",
      "3                  0.490954  37.342201        63.651106  \n",
      "4                  0.611928  20.974182        52.981875  \n",
      "5                  0.712867   0.938720        42.573244  \n",
      "6                  0.795486 -17.381043        32.580863  \n",
      "7                  0.870098 -25.388248        24.299562  \n",
      "8                  0.929252 -40.846065        16.156358  \n",
      "9                  0.971234 -58.017744         7.914791  \n",
      "10                 1.000000 -71.233449         0.000000  \n",
      "Model Performance Metrics using balanced test data\n",
      "==================================================\n",
      "[Thu Nov  7 14:39:02 2019] Predicting data ...\n",
      "[Thu Nov  7 14:39:05 2019] Using element -1 as positive class\n",
      "[Thu Nov  7 14:39:07 2019] Predicting data ... done\n",
      "[Thu Nov  7 14:39:07 2019] Converting evaluation_predictions to Pandas ...\n",
      "[Thu Nov  7 14:41:57 2019] Converting evaluation_predictions to Pandas ... done\n",
      "matthews_corrcoef: 0.4259628257102983\n",
      "f2_score: 0.6369335330546178\n",
      "jaccard_similarity_score: 0.7089362360809682\n",
      "precision_score: 0.7591788224885815\n",
      "classification_report:\n",
      "              precision    recall  f1-score   support\n",
      "\n",
      "           0       0.67      0.81      0.73    464995\n",
      "           1       0.76      0.61      0.68    465296\n",
      "\n",
      "   micro avg       0.71      0.71      0.71    930291\n",
      "   macro avg       0.72      0.71      0.71    930291\n",
      "weighted avg       0.72      0.71      0.71    930291\n",
      "\n",
      "average_precision_score: 0.7940940244370319\n",
      "confusion_matrix:\n",
      "[[374623, 90372], [180402, 284894]]\n",
      "hinge_loss: 0.8977940039998917\n",
      "f1_score: 0.6778655233046462\n",
      "roc_auc_score: 0.7833445667235691\n",
      "log_loss: 0.5626847366550743\n",
      "lift: [1.888715, 1.632575, 1.359502, 1.202999, 1.003599, 0.832503, 0.750663, 0.594912, 0.435014, 0.299509]\n",
      "f0point5_score: 0.7244197400272585\n",
      "zero_one_loss: 0.29106376391903177\n",
      "cohen_kappa_score: 0.4179088645442042\n",
      "accuracy_score: 0.7089362360809682\n",
      "recall_score: 0.612285512877824\n",
      "brier_score_loss: 0.1911070246018561\n",
      "hamming_loss: 0.29106376391903177\n",
      "gains_lift_table:\n",
      "Gains/Lift Table: Avg response rate: 50.02 %\n",
      "    group  cumulative_data_fraction  lower_threshold      lift  \\\n",
      "1     1.0                  0.100001         0.823048  1.888715   \n",
      "2     2.0                  0.200001         0.689822  1.632575   \n",
      "3     3.0                  0.300001         0.627476  1.359502   \n",
      "4     4.0                  0.400001         0.503310  1.202999   \n",
      "5     5.0                  0.500001         0.436321  1.003599   \n",
      "6     6.0                  0.600000         0.382756  0.832503   \n",
      "7     7.0                  0.700000         0.378095  0.750663   \n",
      "8     8.0                  0.800000         0.326579  0.594912   \n",
      "9     9.0                  0.900000         0.263074  0.435014   \n",
      "10   10.0                  1.000000         0.108578  0.299509   \n",
      "\n",
      "    cumulative_lift  response_rate  cumulative_response_rate  capture_rate  \\\n",
      "1          1.888715       0.944663                  0.944663      0.188873   \n",
      "2          1.760646       0.816552                  0.880608      0.163257   \n",
      "3          1.626932       0.679971                  0.813729      0.135950   \n",
      "4          1.520949       0.601694                  0.760720      0.120300   \n",
      "5          1.417479       0.501962                  0.708969      0.100360   \n",
      "6          1.319983       0.416386                  0.660205      0.083250   \n",
      "7          1.238652       0.375453                  0.619526      0.075066   \n",
      "8          1.158184       0.297552                  0.579280      0.059491   \n",
      "9          1.077832       0.217577                  0.539091      0.043501   \n",
      "10         1.000000       0.149803                  0.500162      0.029951   \n",
      "\n",
      "    cumulative_capture_rate       gain  cumulative_gain  \n",
      "1                  0.188873  88.871492        88.871492  \n",
      "2                  0.352130  63.257543        76.064586  \n",
      "3                  0.488080  35.950165        62.693160  \n",
      "4                  0.608380  20.299895        52.094873  \n",
      "5                  0.708740   0.359879        41.747896  \n",
      "6                  0.791990 -16.749678        31.998318  \n",
      "7                  0.867056 -24.933725        23.865181  \n",
      "8                  0.926547 -40.508773        15.818448  \n",
      "9                  0.970048 -56.498612         7.783229  \n",
      "10                 1.000000 -70.049141         0.000000  \n",
      "Model Performance Metrics using unbalanced test data\n",
      "====================================================\n",
      "[Thu Nov  7 14:42:03 2019] Predicting data ...\n",
      "[Thu Nov  7 14:42:05 2019] Using element -1 as positive class\n",
      "[Thu Nov  7 14:42:06 2019] Predicting data ... done\n",
      "[Thu Nov  7 14:42:06 2019] Converting evaluation_predictions to Pandas ...\n",
      "[Thu Nov  7 14:45:50 2019] Converting evaluation_predictions to Pandas ... done\n",
      "matthews_corrcoef: 0.41771788543835314\n",
      "f2_score: 0.6123260454467688\n",
      "jaccard_similarity_score: 0.7408257787263706\n",
      "precision_score: 0.6124882294009141\n",
      "classification_report:\n",
      "              precision    recall  f1-score   support\n",
      "\n",
      "           0       0.81      0.81      0.81    926239\n",
      "           1       0.61      0.61      0.61    465296\n",
      "\n",
      "   micro avg       0.74      0.74      0.74   1391535\n",
      "   macro avg       0.71      0.71      0.71   1391535\n",
      "weighted avg       0.74      0.74      0.74   1391535\n",
      "\n",
      "average_precision_score: 0.680313815368958\n",
      "confusion_matrix:\n",
      "[[745991, 180248], [180402, 284894]]\n",
      "hinge_loss: 1.0635742803842947\n",
      "f1_score: 0.6123868543632139\n",
      "roc_auc_score: 0.7834043046022426\n",
      "log_loss: 0.5589413864605246\n",
      "lift: [2.565218, 1.770415, 1.361193, 1.111547, 0.853948, 0.702201, 0.622918, 0.453541, 0.328437, 0.230564]\n",
      "f0point5_score: 0.6124476753584904\n",
      "zero_one_loss: 0.25917422127362943\n",
      "cohen_kappa_score: 0.4177178725264704\n",
      "accuracy_score: 0.7408257787263706\n",
      "recall_score: 0.612285512877824\n",
      "brier_score_loss: 0.1877297737743281\n",
      "hamming_loss: 0.2591742212736295\n",
      "gains_lift_table:\n",
      "Gains/Lift Table: Avg response rate: 33.44 %\n",
      "    group  cumulative_data_fraction  lower_threshold      lift  \\\n",
      "1     1.0                  0.100000         0.754562  2.565218   \n",
      "2     2.0                  0.200001         0.671524  1.770415   \n",
      "3     3.0                  0.300001         0.541242  1.361193   \n",
      "4     4.0                  0.400001         0.451732  1.111547   \n",
      "5     5.0                  0.500002         0.402662  0.853948   \n",
      "6     6.0                  0.600001         0.382756  0.702201   \n",
      "7     7.0                  0.700001         0.354644  0.622918   \n",
      "8     8.0                  0.800001         0.305379  0.453541   \n",
      "9     9.0                  0.900000         0.249174  0.328437   \n",
      "10   10.0                  1.000000         0.107625  0.230564   \n",
      "\n",
      "    cumulative_lift  response_rate  cumulative_response_rate  capture_rate  \\\n",
      "1          2.565218       0.857748                  0.857748      0.256523   \n",
      "2          2.167817       0.591984                  0.724866      0.177042   \n",
      "3          1.898942       0.455150                  0.634961      0.136120   \n",
      "4          1.702093       0.371675                  0.569139      0.111155   \n",
      "5          1.532464       0.285540                  0.512419      0.085395   \n",
      "6          1.394088       0.234799                  0.466150      0.070220   \n",
      "7          1.283921       0.208289                  0.429312      0.062292   \n",
      "8          1.180124       0.151653                  0.394605      0.045354   \n",
      "9          1.085493       0.109822                  0.362963      0.032844   \n",
      "10         1.000000       0.077095                  0.334376      0.023056   \n",
      "\n",
      "    cumulative_capture_rate        gain  cumulative_gain  \n",
      "1                  0.256523  156.521808       156.521808  \n",
      "2                  0.433565   77.041505       116.781656  \n",
      "3                  0.569685   36.119314        89.894209  \n",
      "4                  0.680840   11.154650        70.209319  \n",
      "5                  0.766235  -14.605204        53.246415  \n",
      "6                  0.836455  -29.779931        39.408773  \n",
      "7                  0.898747  -37.708246        28.392113  \n",
      "8                  0.944101  -54.645912        18.012406  \n",
      "9                  0.976945  -67.156273         8.549258  \n",
      "10                 1.000000  -76.943626         0.000000  \n"
     ]
    },
    {
     "data": {
      "text/plain": [
       "<new_general_model_trainer.GeneralModelTrainer instance at 0x7f109ff97ab8>"
      ]
     },
     "execution_count": 183,
     "metadata": {},
     "output_type": "execute_result"
    }
   ],
   "source": [
    "modeler_over55.evaluate()"
   ]
  },
  {
   "cell_type": "code",
   "execution_count": 184,
   "metadata": {},
   "outputs": [
    {
     "data": {
      "image/png": "[encoded data removed]",
      "text/plain": [
       "<Figure size 864x720 with 1 Axes>"
      ]
     },
     "metadata": {},
     "output_type": "display_data"
    }
   ],
   "source": [
    "modeler_over55.varimp_plot()"
   ]
  },
  {
   "cell_type": "code",
   "execution_count": 185,
   "metadata": {},
   "outputs": [
    {
     "data": {
      "image/png": "[encoded data removed]",
      "text/plain": [
       "<Figure size 720x720 with 1 Axes>"
      ]
     },
     "metadata": {},
     "output_type": "display_data"
    }
   ],
   "source": [
    "modeler_over55.roc_plot(modeler_over55.metrics_unbalanced_test ,figsize=(10,10))"
   ]
  },
  {
   "cell_type": "code",
   "execution_count": 186,
   "metadata": {},
   "outputs": [
    {
     "name": "stdout",
     "output_type": "stream",
     "text": [
      "[Thu Nov  7 14:45:59 2019] Selecting rows to predict\n",
      "[Thu Nov  7 14:45:59 2019] Found column \"pred\". Selecting prediction rows\n",
      "[Thu Nov  7 14:46:00 2019] Predicting data ...\n",
      "[Thu Nov  7 14:46:02 2019] Using last element as positive class\n",
      "[Thu Nov  7 14:46:04 2019] Predicting data ... done\n"
     ]
    }
   ],
   "source": [
    "modeler_over55.predict()\n",
    "results_over55_tmp1=modeler_over55.predictions\n",
    "\n",
    "results_over55=(results_over55_tmp1['NUM_CLIENTE','prediction','score']\n",
    "         .withColumnRenamed('prediction','prediction_over55')\n",
    "         .withColumnRenamed('score','score_over55')\n",
    "        ).cache()"
   ]
  },
  {
   "cell_type": "code",
   "execution_count": 187,
   "metadata": {},
   "outputs": [],
   "source": [
    "evaluation_metrics_balanced_test_over55 = modeler_over55.metrics_balanced_test\n",
    "\n",
    "evaluation_metrics_unbalanced_test_over55 = modeler_over55.metrics_unbalanced_test\n",
    "\n",
    "evaluation_metrics_train_over55 = modeler_over55.metrics_train"
   ]
  },
  {
   "cell_type": "markdown",
   "metadata": {},
   "source": [
    "## Preparamos un `Model Outputs` *ad hoc* para este submodelo:"
   ]
  },
  {
   "cell_type": "code",
   "execution_count": 188,
   "metadata": {},
   "outputs": [],
   "source": [
    "import time, datetime\n",
    "\n",
    "## OJO! Esto hay que cambiarlo en función de la entrega a realizar.\n",
    "closing_day = '20191031'\n",
    "current_timestamp = datetime.datetime.now()\n",
    "executed_at = current_timestamp.strftime('%Y-%m-%d %H:%M:%S')\n",
    "analysis_month_M = datetime.datetime.strptime(closing_day, \"%Y%m%d\")"
   ]
  },
  {
   "cell_type": "code",
   "execution_count": 189,
   "metadata": {},
   "outputs": [],
   "source": [
    "level = 'client_id'\n",
    "\n",
    "model_name = 'hh_segmentation_age_over_55'\n",
    "\n",
    "path_model_detail = 'model_name=' + model_name \\\n",
    "                            + '/year=' + str(current_timestamp.year) \\\n",
    "                            + '/month=' + str(current_timestamp.month) \\\n",
    "                            + '/day=0'"
   ]
  },
  {
   "cell_type": "code",
   "execution_count": 190,
   "metadata": {},
   "outputs": [],
   "source": [
    "model_params_over55 = {\n",
    "    'algorithm': modeler_over55.model.stages[0].getParam,\n",
    "    'maxdepth': modeler_over55.model.stages[0]._java_obj.getMaxDepth(),\n",
    "    'maxbins': modeler_over55.model.stages[0]._java_obj.getMaxBins(),\n",
    "    'minInstancesPerNode': modeler_over55.model.stages[0]._java_obj.getMinInstancesPerNode(),\n",
    "    'numTrees': modeler_over55.model.stages[0]._java_obj.getNumTrees(),\n",
    "    'subsamplingRate': modeler_over55.model.stages[0]._java_obj.getSubsamplingRate(),\n",
    "    'seed': modeler_over55.model.stages[0]._java_obj.getSeed()\n",
    "}"
   ]
  },
  {
   "cell_type": "code",
   "execution_count": 191,
   "metadata": {},
   "outputs": [],
   "source": [
    "path_model_outputs_base = '/data/attributes/vf_es/model_outputs/'\n",
    "path_model_outputs_scores = path_model_outputs_base + 'model_scores/' + path_model_detail\n",
    "path_model_outputs_params = path_model_outputs_base + 'model_parameters/' + path_model_detail"
   ]
  },
  {
   "cell_type": "code",
   "execution_count": 192,
   "metadata": {},
   "outputs": [],
   "source": [
    "path_model_works_base = '/user/avazq108/models_prod/'\n",
    "path_model_works_model = path_model_works_base + 'model_definition/' + path_model_detail\n",
    "path_model_works_metrics = path_model_works_base + 'model_metrics/' + path_model_detail"
   ]
  },
  {
   "cell_type": "markdown",
   "metadata": {},
   "source": [
    "- Model parameters:"
   ]
  },
  {
   "cell_type": "code",
   "execution_count": 193,
   "metadata": {},
   "outputs": [],
   "source": [
    "target = \"Predicting whether the head of the family is over 55 years old or not;\"\n",
    "model_path = path_model_works_model.replace(',', ';')\n",
    "metrics_path = path_model_works_metrics.replace(',', ';')\n",
    "metrics_train = str(evaluation_metrics_train_over55).replace(',', ';')\n",
    "metrics_test = str(evaluation_metrics_unbalanced_test_over55).replace(',', ';')\n",
    "varimp = ';'.join(str(v) for v in modeler_over55.varimp[['feature', 'relative_importance']].values.tolist()).replace(',', ';')\n",
    "algorithm = str(model_params_over55).replace(',', ';')\n",
    "author_login = 'avazq108'\n",
    "scores_extra_info_headers = None\n",
    "time = int(current_timestamp.strftime('%H%M%S'))"
   ]
  },
  {
   "cell_type": "code",
   "execution_count": 194,
   "metadata": {},
   "outputs": [],
   "source": [
    "description = 'Predicting whether the head of the family is over 55 years old or not;'"
   ]
  },
  {
   "cell_type": "code",
   "execution_count": 195,
   "metadata": {},
   "outputs": [],
   "source": [
    "import time as tm\n",
    "\n",
    "end_time = tm.time()\n",
    "time_of_execution = str(int(end_time - start_time))"
   ]
  },
  {
   "cell_type": "code",
   "execution_count": 196,
   "metadata": {},
   "outputs": [],
   "source": [
    "extra_info = '{description:'+description+'; processing_time:'+time_of_execution+'}'"
   ]
  },
  {
   "cell_type": "code",
   "execution_count": 197,
   "metadata": {},
   "outputs": [],
   "source": [
    "from pyspark.sql.types import *\n",
    "\n",
    "fields = [StructField(\"executed_at\", StringType(), True),\n",
    "                  StructField(\"model_level\", StringType(), True),\n",
    "                  StructField(\"training_closing_date\", StringType(), True),\n",
    "                  StructField(\"target\", StringType(), True),\n",
    "                  StructField(\"model_path\", StringType(), True),\n",
    "                  StructField(\"metrics_path\", StringType(), True),\n",
    "                  StructField(\"metrics_train\", StringType(), True),\n",
    "                  StructField(\"metrics_test\", StringType(), True),\n",
    "                  StructField(\"varimp\", StringType(), True),\n",
    "                  StructField(\"algorithm\", StringType(), True),\n",
    "                  StructField(\"author_login\", StringType(), True),\n",
    "                  StructField(\"extra_info\", StringType(), True),\n",
    "                  StructField(\"scores_extra_info_headers\", StringType(), True),\n",
    "                  StructField(\"time\", IntegerType(), True)\n",
    "                  ]"
   ]
  },
  {
   "cell_type": "code",
   "execution_count": 198,
   "metadata": {},
   "outputs": [],
   "source": [
    "schema = StructType(fields)"
   ]
  },
  {
   "cell_type": "code",
   "execution_count": 199,
   "metadata": {},
   "outputs": [],
   "source": [
    "data = [[executed_at, level, closing_day, target, model_path, metrics_path, metrics_train,\n",
    "                 metrics_test, varimp, algorithm, author_login, extra_info, scores_extra_info_headers, time]]"
   ]
  },
  {
   "cell_type": "code",
   "execution_count": 200,
   "metadata": {},
   "outputs": [],
   "source": [
    "df_save_params = spark.createDataFrame(data, schema)"
   ]
  },
  {
   "cell_type": "code",
   "execution_count": 201,
   "metadata": {},
   "outputs": [],
   "source": [
    "def saveDF(path, df, partitions):\n",
    "    print('Saving started in: %s', path)\n",
    "    spark.conf.set(\"spark.sql.sources.partitionOverwriteMode\",\"dynamic\")\n",
    "    df.repartition(partitions).write.mode('append').format('parquet').save(path)\n",
    "    print('Saving finished!')"
   ]
  },
  {
   "cell_type": "code",
   "execution_count": 202,
   "metadata": {},
   "outputs": [
    {
     "name": "stdout",
     "output_type": "stream",
     "text": [
      "('Saving started in: %s', '/data/attributes/vf_es/model_outputs/model_parameters/model_name=hh_segmentation_age_over_55/year=2019/month=11/day=0')\n",
      "Saving finished!\n"
     ]
    }
   ],
   "source": [
    "saveDF(path_model_outputs_params, df_save_params, 1)"
   ]
  },
  {
   "cell_type": "markdown",
   "metadata": {},
   "source": [
    "- Model outputs:"
   ]
  },
  {
   "cell_type": "code",
   "execution_count": 203,
   "metadata": {},
   "outputs": [],
   "source": [
    "df_save_scores = (results_over55\n",
    "                        .withColumn('executed_at', lit(executed_at).cast(StringType()))\n",
    "                        .withColumn('model_executed_at', lit(executed_at).cast(StringType()))\n",
    "                        .withColumn('predict_closing_date', lit(closing_day).cast(StringType()))\n",
    "                        .withColumn('msisdn', lit(None).cast(StringType()))\n",
    "                        .withColumn('client_id', col('NUM_CLIENTE').cast(StringType()))\n",
    "                        .withColumn('nif', lit(None).cast(StringType()))\n",
    "                        .withColumn('model_output', lit(None).cast(StringType()))\n",
    "                        .withColumn('scoring', col('score_over55').cast(FloatType()))\n",
    "                        .withColumn('prediction', col('prediction_over55').cast(StringType()))\n",
    "                        .withColumn('extra_info', lit(None).cast(StringType()))\n",
    "                        .withColumn('time', lit(time).cast(IntegerType()))\n",
    "                        .select('executed_at', 'model_executed_at', 'predict_closing_date', 'msisdn'\n",
    "                                       , 'client_id', 'nif', 'model_output', 'scoring', 'prediction'\n",
    "                                       , 'extra_info', 'time')\n",
    "                            )"
   ]
  },
  {
   "cell_type": "code",
   "execution_count": 204,
   "metadata": {},
   "outputs": [
    {
     "name": "stdout",
     "output_type": "stream",
     "text": [
      "('Saving started in: %s', '/data/attributes/vf_es/model_outputs/model_scores/model_name=hh_segmentation_age_over_55/year=2019/month=11/day=0')\n",
      "Saving finished!\n"
     ]
    }
   ],
   "source": [
    "saveDF(path_model_outputs_scores, df_save_scores, 1)"
   ]
  },
  {
   "cell_type": "markdown",
   "metadata": {
    "collapsed": true
   },
   "source": [
    "# Finally: Everything together"
   ]
  },
  {
   "cell_type": "code",
   "execution_count": null,
   "metadata": {},
   "outputs": [],
   "source": [
    "#customer_master.printSchema()"
   ]
  },
  {
   "cell_type": "code",
   "execution_count": 205,
   "metadata": {},
   "outputs": [],
   "source": [
    "df_total_tmp1=(df_tmp1['NUM_CLIENTE','fbb_services_nc','fixed_services_nc','mobile_services_nc','prepaid_services_nc','tv_services_nc','CHILDREN_GREATER_AGE','FLAG_CHILDREN','FLAG_CHILDREN_OVER18','age']\n",
    "              .withColumn('AGE_OVER_55',when(col('age').between(0,54),0)\n",
    "                           .when(col('age').between(55,100),1)\n",
    "                           .otherwise(None))\n",
    "              .join(results,'NUM_CLIENTE','leftouter')\n",
    "              .join(results_over18,'NUM_CLIENTE','leftouter')\n",
    "              .join(results_over55,'NUM_CLIENTE','leftouter')\n",
    "              )\n"
   ]
  },
  {
   "cell_type": "code",
   "execution_count": 206,
   "metadata": {},
   "outputs": [],
   "source": [
    "df_total_tmp2=(df_total_tmp1\n",
    "               .withColumn('FINAL_FLAG_CHILDREN',coalesce('FLAG_CHILDREN','prediction_flag_children'))\n",
    "               .withColumn('FINAL_FLAG_CHILDREN_OVER18',coalesce('FLAG_CHILDREN_OVER18','prediction_over18'))\n",
    "               .withColumn('FINAL_FLAG_OVER55',coalesce('AGE_OVER_55','prediction_over55'))\n",
    "              )\n",
    "\n"
   ]
  },
  {
   "cell_type": "code",
   "execution_count": 226,
   "metadata": {},
   "outputs": [],
   "source": [
    "#Status\n",
    "\n",
    "devices_df=(amdocs_ids_load\n",
    "            .groupBy('NUM_CLIENTE')\n",
    "            .agg(sql_sum(when(col('Device_N1_device_type')=='Tablet',1).otherwise(0)).alias('num_tablet'))\n",
    "            )\n",
    "\n",
    "results_tmp1=(df_total_tmp2\n",
    "               .drop(*['EDAD','birth_date'])\n",
    "               .join(df_axesor_study,'NUM_CLIENTE','leftouter')\n",
    "               .join(devices_df,'NUM_CLIENTE','leftouter')\n",
    "               .withColumn('Tramo_Renta_num',substring(col('Tramo_Renta'),0,1))\n",
    "              #BROAD SEGMENTS\n",
    "               .withColumn('broad_segment',when( (col('FINAL_FLAG_CHILDREN')==1) & (col('FINAL_FLAG_CHILDREN_OVER18')==1),lit('2. OPTIMAL VALUE'))\n",
    "                                          .when( (col('FINAL_FLAG_CHILDREN')==1) & (col('FINAL_FLAG_CHILDREN_OVER18')==0),lit('3. WE WANT IT ALL'))\n",
    "                                          .when( (col('FINAL_FLAG_CHILDREN')==0) & (col('FINAL_FLAG_OVER55')==0),lit('1. CONNECTION SEARCHERS'))\n",
    "                                          .when( (col('FINAL_FLAG_CHILDREN')==0) & (col('FINAL_FLAG_OVER55')==1),lit('4. MAKE IT EASY'))\n",
    "                                          .otherwise(None))\n",
    "               #NICHE SEGMENTS\n",
    "               .withColumn('niche_1_conn_search',when(col('tv_services_nc')>=1,lit('1. UNLIMITED CONNECTION'))\n",
    "                                                .when(col('tv_services_nc')==0,lit('2. JUST A CONNECTION'))\n",
    "                                                .otherwise(None))\n",
    "               .withColumn('niche_2_opt_value',when(col('tv_services_nc')>=1,lit('1. TV HUNTERS'))\n",
    "                                              .when((col('tv_services_nc')==0)&(col('fbb_services_nc')==0),lit('2. DOWNSIZERS'))\n",
    "                                              .when((col('tv_services_nc')==0)&(col('fbb_services_nc')==1),lit('2. DOWNSIZERS'))\n",
    "                                              .otherwise(None))\n",
    "               .withColumn('niche_3_we_want_it_all',when(col('Tramo_Renta_num')>3,'1. FULL EQUIPE')\n",
    "                                                   .when((col('Tramo_Renta_num')<=3) & (col('num_tablet')==0),'2. BABY CONTENT SEEKERS')\n",
    "                                                   .when((col('Tramo_Renta_num')<=3) & (col('num_tablet')>=1) & (col('tv_services_nc')>=1),'1. FULL EQUIPE')\n",
    "                                                   .when((col('Tramo_Renta_num')<=3) & (col('num_tablet')>=1) & (col('tv_services_nc')==0),'2. BABY CONTENT SEEKERS')\n",
    "                                                   .otherwise(None))\n",
    "               .withColumn('niche_4_make_it_easy',when(col('fbb_services_nc')>=1,lit('1. UP TO DATE'))\n",
    "                                                   .when((col('fbb_services_nc')==0) & (col('Tramo_Renta_num')>=3) ,lit('1. UP TO DATE'))\n",
    "                                                   .when((col('fbb_services_nc')==0) & (col('Tramo_Renta_num')<3) ,lit('2. OLD FASHION'))\n",
    "                                                   .otherwise(None))\n",
    "               .withColumn('niche_segment',when(col('broad_segment')=='1. CONNECTION SEARCHERS',col('niche_1_conn_search'))\n",
    "                                          .when(col('broad_segment')=='2. OPTIMAL VALUE',col('niche_2_opt_value'))\n",
    "                                          .when(col('broad_segment')=='3. WE WANT IT ALL',col('niche_3_we_want_it_all'))\n",
    "                                          .when(col('broad_segment')=='4. MAKE IT EASY',col('niche_4_make_it_easy'))\n",
    "                                          .otherwise(None))\n",
    "              )"
   ]
  },
  {
   "cell_type": "code",
   "execution_count": 266,
   "metadata": {},
   "outputs": [],
   "source": [
    "from pyspark.sql.functions import concat, col, lit\n",
    "\n",
    "results_tmp2 = results_tmp1.withColumn(\"extra_info\", concat(lit(\"{CHILDREN_AT_HOME: \"), col('FINAL_FLAG_CHILDREN'), lit(\"; CHILDREN_OVER_18: \"), col(\"FINAL_FLAG_CHILDREN_OVER18\"),\n",
    "                                                            lit(\"; HEAD_OVER_55: \"), col(\"FINAL_FLAG_OVER55\"), lit(\"; TV_SERVICES: \"), col(\"tv_services_nc\"),\n",
    "                                                            lit(\"; FBB_SERVICES: \"), col(\"fbb_services_nc\"), lit(\"; NUM_TRAMO_RENTA: \"), col(\"Tramo_Renta_num\"), \n",
    "                                                            lit(\"; NUM_TABLET: \"), col(\"num_tablet\"), lit(\"}\")\n",
    "                                                           )\n",
    "                                      )"
   ]
  },
  {
   "cell_type": "code",
   "execution_count": 267,
   "metadata": {},
   "outputs": [],
   "source": [
    "results_final = results_tmp2.withColumn(\"segment_and_subsegment\", concat(lit('{BROAD_SEGMENT: '), col('broad_segment'),\n",
    "                                                                         lit('; NICHE_SEGMENT: '), col('niche_segment'), \n",
    "                                                                         lit('}')\n",
    "                                                                        )\n",
    "                                       )"
   ]
  },
  {
   "cell_type": "markdown",
   "metadata": {},
   "source": [
    "## Preparamos la salida para Model Outputs."
   ]
  },
  {
   "cell_type": "code",
   "execution_count": 268,
   "metadata": {},
   "outputs": [],
   "source": [
    "import time, datetime\n",
    "\n",
    "## OJO! Esto hay que cambiarlo en función de la entrega a realizar.\n",
    "closing_day = '20191031'\n",
    "current_timestamp = datetime.datetime.now()\n",
    "executed_at = current_timestamp.strftime('%Y-%m-%d %H:%M:%S')\n",
    "analysis_month_M = datetime.datetime.strptime(closing_day, \"%Y%m%d\")"
   ]
  },
  {
   "cell_type": "code",
   "execution_count": 269,
   "metadata": {},
   "outputs": [],
   "source": [
    "level = 'client_id'\n",
    "\n",
    "model_name = 'hh_segmentation'\n",
    "\n",
    "path_model_detail = 'model_name=' + model_name \\\n",
    "                            + '/year=' + str(current_timestamp.year) \\\n",
    "                            + '/month=' + str(current_timestamp.month) \\\n",
    "                            + '/day=0'"
   ]
  },
  {
   "cell_type": "code",
   "execution_count": 270,
   "metadata": {},
   "outputs": [],
   "source": [
    "model_params_hh = {\n",
    "    'algorithm': 'Decision rules'\n",
    "}"
   ]
  },
  {
   "cell_type": "code",
   "execution_count": 271,
   "metadata": {},
   "outputs": [],
   "source": [
    "path_model_outputs_base = '/data/attributes/vf_es/model_outputs/'\n",
    "path_model_outputs_scores = path_model_outputs_base + 'model_scores/' + path_model_detail\n",
    "path_model_outputs_params = path_model_outputs_base + 'model_parameters/' + path_model_detail"
   ]
  },
  {
   "cell_type": "code",
   "execution_count": 272,
   "metadata": {},
   "outputs": [],
   "source": [
    "path_model_works_base = '/user/avazq108/models_prod/'\n",
    "path_model_works_model = path_model_works_base + 'model_definition/' + path_model_detail\n",
    "path_model_works_metrics = path_model_works_base + 'model_metrics/' + path_model_detail"
   ]
  },
  {
   "cell_type": "markdown",
   "metadata": {},
   "source": [
    "- Model Parameters:"
   ]
  },
  {
   "cell_type": "code",
   "execution_count": 279,
   "metadata": {},
   "outputs": [],
   "source": [
    "target = \"Building the final household segmentation according to some decision rules.\"\n",
    "model_path = path_model_works_model.replace(',', ';')\n",
    "metrics_path = path_model_works_metrics.replace(',', ';')\n",
    "metrics_train = None\n",
    "metrics_test = None\n",
    "varimp = ';'\n",
    "algorithm = None\n",
    "author_login = 'avazq108'\n",
    "scores_extra_info_headers = None\n",
    "time = int(current_timestamp.strftime('%H%M%S'))"
   ]
  },
  {
   "cell_type": "code",
   "execution_count": 254,
   "metadata": {},
   "outputs": [],
   "source": [
    "description = 'Building the final household segmentation according to some decision rules.'"
   ]
  },
  {
   "cell_type": "code",
   "execution_count": 275,
   "metadata": {},
   "outputs": [],
   "source": [
    "import time as tm\n",
    "\n",
    "end_time = tm.time()\n",
    "time_of_execution = str(int(end_time - start_time))"
   ]
  },
  {
   "cell_type": "code",
   "execution_count": 276,
   "metadata": {},
   "outputs": [],
   "source": [
    "extra_info = '{description:'+description+'; processing_time:'+time_of_execution+'}'"
   ]
  },
  {
   "cell_type": "code",
   "execution_count": 277,
   "metadata": {},
   "outputs": [],
   "source": [
    "from pyspark.sql.types import *\n",
    "\n",
    "fields = [StructField(\"executed_at\", StringType(), True),\n",
    "                  StructField(\"model_level\", StringType(), True),\n",
    "                  StructField(\"training_closing_date\", StringType(), True),\n",
    "                  StructField(\"target\", StringType(), True),\n",
    "                  StructField(\"model_path\", StringType(), True),\n",
    "                  StructField(\"metrics_path\", StringType(), True),\n",
    "                  StructField(\"metrics_train\", StringType(), True),\n",
    "                  StructField(\"metrics_test\", StringType(), True),\n",
    "                  StructField(\"varimp\", StringType(), True),\n",
    "                  StructField(\"algorithm\", StringType(), True),\n",
    "                  StructField(\"author_login\", StringType(), True),\n",
    "                  StructField(\"extra_info\", StringType(), True),\n",
    "                  StructField(\"scores_extra_info_headers\", StringType(), True),\n",
    "                  StructField(\"time\", IntegerType(), True)\n",
    "                  ]"
   ]
  },
  {
   "cell_type": "code",
   "execution_count": 258,
   "metadata": {},
   "outputs": [],
   "source": [
    "schema = StructType(fields)"
   ]
  },
  {
   "cell_type": "code",
   "execution_count": 259,
   "metadata": {},
   "outputs": [],
   "source": [
    "data = [[executed_at, level, closing_day, target, model_path, metrics_path, metrics_train,\n",
    "                 metrics_test, varimp, algorithm, author_login, extra_info, scores_extra_info_headers, time]]"
   ]
  },
  {
   "cell_type": "code",
   "execution_count": 260,
   "metadata": {},
   "outputs": [],
   "source": [
    "df_save_params = spark.createDataFrame(data, schema)"
   ]
  },
  {
   "cell_type": "code",
   "execution_count": 261,
   "metadata": {},
   "outputs": [],
   "source": [
    "def saveDF(path, df, partitions):\n",
    "    print('Saving started in: %s', path)\n",
    "    spark.conf.set(\"spark.sql.sources.partitionOverwriteMode\",\"dynamic\")\n",
    "    df.repartition(partitions).write.mode('append').format('parquet').save(path)\n",
    "    print('Saving finished!')"
   ]
  },
  {
   "cell_type": "code",
   "execution_count": 262,
   "metadata": {},
   "outputs": [
    {
     "name": "stdout",
     "output_type": "stream",
     "text": [
      "('Saving started in: %s', '/data/attributes/vf_es/model_outputs/model_parameters/model_name=hh_segmentation/year=2019/month=11/day=0')\n",
      "Saving finished!\n"
     ]
    }
   ],
   "source": [
    "saveDF(path_model_outputs_params, df_save_params, 1)"
   ]
  },
  {
   "cell_type": "markdown",
   "metadata": {},
   "source": [
    "- Model outputs:"
   ]
  },
  {
   "cell_type": "code",
   "execution_count": 281,
   "metadata": {},
   "outputs": [],
   "source": [
    "df_save_scores = (results_final\n",
    "                        .withColumn('executed_at', lit(executed_at).cast(StringType()))\n",
    "                        .withColumn('model_executed_at', lit(executed_at).cast(StringType()))\n",
    "                        .withColumn('predict_closing_date', lit(closing_day).cast(StringType()))\n",
    "                        .withColumn('msisdn', lit(None).cast(StringType()))\n",
    "                        .withColumn('client_id', col('NUM_CLIENTE').cast(StringType()))\n",
    "                        .withColumn('nif', lit(None).cast(StringType()))\n",
    "                        .withColumn('model_output', col('segment_and_subsegment').cast(StringType()))\n",
    "                        .withColumn('scoring', lit(None).cast(FloatType()))\n",
    "                        .withColumn('prediction', lit(None).cast(StringType()))\n",
    "                        .withColumn('extra_info', col('extra_info').cast(StringType()))\n",
    "                        .withColumn('time', lit(time).cast(IntegerType()))\n",
    "                        .select('executed_at', 'model_executed_at', 'predict_closing_date', 'msisdn'\n",
    "                                       , 'client_id', 'nif', 'model_output', 'scoring', 'prediction'\n",
    "                                       , 'extra_info', 'time')\n",
    "                                   )"
   ]
  },
  {
   "cell_type": "code",
   "execution_count": 282,
   "metadata": {},
   "outputs": [],
   "source": [
    "test = df_save_scores.limit(10).toPandas()"
   ]
  },
  {
   "cell_type": "code",
   "execution_count": 293,
   "metadata": {},
   "outputs": [
    {
     "name": "stdout",
     "output_type": "stream",
     "text": [
      "('Saving started in: %s', '/data/attributes/vf_es/model_outputs/model_scores/model_name=hh_segmentation/year=2019/month=11/day=0')\n",
      "Saving finished!\n"
     ]
    }
   ],
   "source": [
    "saveDF(path_model_outputs_scores, df_save_scores, 1)"
   ]
  },
  {
   "cell_type": "markdown",
   "metadata": {},
   "source": [
    "# De momento, lo he dejado a nivel de NUM_CLIENTE. Si necesitan a otros niveles, lo cambiamos."
   ]
  },
  {
   "cell_type": "markdown",
   "metadata": {},
   "source": [
    "------"
   ]
  },
  {
   "cell_type": "markdown",
   "metadata": {},
   "source": [
    "### A partir de aquí, se quedan los trozos viejos de código que prefiero no eliminar (por si las moscas...)"
   ]
  },
  {
   "cell_type": "code",
   "execution_count": null,
   "metadata": {},
   "outputs": [],
   "source": []
  },
  {
   "cell_type": "code",
   "execution_count": null,
   "metadata": {},
   "outputs": [],
   "source": []
  },
  {
   "cell_type": "code",
   "execution_count": null,
   "metadata": {},
   "outputs": [],
   "source": [
    "#results_tmp1.groupBy('broad_segment').count().orderBy('broad_segment').show()\n",
    "#results_tmp1.show(20,False)"
   ]
  },
  {
   "cell_type": "code",
   "execution_count": null,
   "metadata": {},
   "outputs": [],
   "source": [
    "results_tmp1.groupBy('broad_segment','niche_segment').count().orderBy('broad_segment','niche_segment').show(20,False)\n",
    "\n",
    "results_tmp1.agg(sql_sum(lit(1)).alias('regs'),countDistinct(col('NUM_CLIENTE')).alias('CLIS')).show()\n",
    "\n",
    "#results_tmp1.where(col('niche_segment').isNotNull()).limit(200).toPandas()\n",
    "results_tmp2=(results_tmp1\n",
    "             .select('NUM_CLIENTE','prediction_flag_children','score_flag_children','prediction_over18','score_over18'\n",
    "                    ,'prediction_over55','score_over55','broad_segment','niche_segment')\n",
    "       )"
   ]
  },
  {
   "cell_type": "code",
   "execution_count": null,
   "metadata": {},
   "outputs": [],
   "source": [
    "# Load Service IDS\n",
    "hdfs_partition_path = ('year=' + str(int(ClosingDay[:4])) + \n",
    "                       '/month=' + str(int(ClosingDay[4:6])) + \n",
    "                       '/day=' + str(int(ClosingDay[6:8])))\n",
    "hdfs_write_path_common = '/data/udf/vf_es/amdocs_ids/' \n",
    "path_service = hdfs_write_path_common +'service/'+hdfs_partition_path\n",
    "serviceDF_load = (spark.read.load(path_service))\n",
    "serviceDF_load.head()"
   ]
  },
  {
   "cell_type": "code",
   "execution_count": null,
   "metadata": {},
   "outputs": [],
   "source": [
    "results_with_msisdn = \\\n",
    "(results_tmp2\n",
    " .join(serviceDF_load\n",
    "       .select(col('NUM_CLIENTE'), col('msisdn')),\n",
    "       'NUM_CLIENTE')\n",
    ")"
   ]
  },
  {
   "cell_type": "code",
   "execution_count": null,
   "metadata": {},
   "outputs": [],
   "source": [
    "results_with_msisdn.head()"
   ]
  },
  {
   "cell_type": "code",
   "execution_count": null,
   "metadata": {},
   "outputs": [],
   "source": [
    "[results_tmp2.count(), results_with_msisdn.count()]"
   ]
  },
  {
   "cell_type": "code",
   "execution_count": 105,
   "metadata": {},
   "outputs": [],
   "source": [
    "clean_result = \\\n",
    "(results_with_msisdn\n",
    " .where(col('msisdn').isNotNull())\n",
    " .where(length(col('msisdn')) == 9)\n",
    " .where(substring('msisdn',1,1) == 6)\n",
    "# .limit(100).toPandas()\n",
    ")"
   ]
  },
  {
   "cell_type": "code",
   "execution_count": 106,
   "metadata": {
    "collapsed": true
   },
   "outputs": [
    {
     "name": "stdout",
     "output_type": "stream",
     "text": [
      "[Mon Sep 16 08:58:03 2019] Saving started in: /data/attributes/vf_es/return_feed/hh_segmentation/year=2019/month=6/day=7\n"
     ]
    },
    {
     "ename": "Py4JJavaError",
     "evalue": "An error occurred while calling o9952.save.\n: java.io.IOException: Failed on local exception: java.io.IOException: Couldn't setup connection for adesant3@INTERNAL.VODAFONE.COM to vgddp349hr.dc.sedc.internal.vodafone.com/10.109.120.22:8020; Host Details : local host is: \"vgddp387hr.dc.sedc.internal.vodafone.com/10.109.120.122\"; destination host is: \"vgddp349hr.dc.sedc.internal.vodafone.com\":8020; \n\tat org.apache.hadoop.net.NetUtils.wrapException(NetUtils.java:772)\n\tat org.apache.hadoop.ipc.Client.call(Client.java:1508)\n\tat org.apache.hadoop.ipc.Client.call(Client.java:1441)\n\tat org.apache.hadoop.ipc.ProtobufRpcEngine$Invoker.invoke(ProtobufRpcEngine.java:231)\n\tat com.sun.proxy.$Proxy13.getFileInfo(Unknown Source)\n\tat org.apache.hadoop.hdfs.protocolPB.ClientNamenodeProtocolTranslatorPB.getFileInfo(ClientNamenodeProtocolTranslatorPB.java:788)\n\tat sun.reflect.GeneratedMethodAccessor4.invoke(Unknown Source)\n\tat sun.reflect.DelegatingMethodAccessorImpl.invoke(DelegatingMethodAccessorImpl.java:43)\n\tat java.lang.reflect.Method.invoke(Method.java:498)\n\tat org.apache.hadoop.io.retry.RetryInvocationHandler.invokeMethod(RetryInvocationHandler.java:258)\n\tat org.apache.hadoop.io.retry.RetryInvocationHandler.invoke(RetryInvocationHandler.java:104)\n\tat com.sun.proxy.$Proxy14.getFileInfo(Unknown Source)\n\tat org.apache.hadoop.hdfs.DFSClient.getFileInfo(DFSClient.java:2168)\n\tat org.apache.hadoop.hdfs.DistributedFileSystem$20.doCall(DistributedFileSystem.java:1266)\n\tat org.apache.hadoop.hdfs.DistributedFileSystem$20.doCall(DistributedFileSystem.java:1262)\n\tat org.apache.hadoop.fs.FileSystemLinkResolver.resolve(FileSystemLinkResolver.java:81)\n\tat org.apache.hadoop.hdfs.DistributedFileSystem.getFileStatus(DistributedFileSystem.java:1262)\n\tat org.apache.hadoop.fs.FileSystem.exists(FileSystem.java:1418)\n\tat org.apache.spark.sql.execution.datasources.InsertIntoHadoopFsRelationCommand.run(InsertIntoHadoopFsRelationCommand.scala:92)\n\tat org.apache.spark.sql.execution.command.DataWritingCommandExec.sideEffectResult$lzycompute(commands.scala:104)\n\tat org.apache.spark.sql.execution.command.DataWritingCommandExec.sideEffectResult(commands.scala:102)\n\tat org.apache.spark.sql.execution.command.DataWritingCommandExec.doExecute(commands.scala:122)\n\tat org.apache.spark.sql.execution.SparkPlan$$anonfun$execute$1.apply(SparkPlan.scala:131)\n\tat org.apache.spark.sql.execution.SparkPlan$$anonfun$execute$1.apply(SparkPlan.scala:127)\n\tat org.apache.spark.sql.execution.SparkPlan$$anonfun$executeQuery$1.apply(SparkPlan.scala:155)\n\tat org.apache.spark.rdd.RDDOperationScope$.withScope(RDDOperationScope.scala:151)\n\tat org.apache.spark.sql.execution.SparkPlan.executeQuery(SparkPlan.scala:152)\n\tat org.apache.spark.sql.execution.SparkPlan.execute(SparkPlan.scala:127)\n\tat org.apache.spark.sql.execution.QueryExecution.toRdd$lzycompute(QueryExecution.scala:80)\n\tat org.apache.spark.sql.execution.QueryExecution.toRdd(QueryExecution.scala:80)\n\tat org.apache.spark.sql.DataFrameWriter$$anonfun$runCommand$1.apply(DataFrameWriter.scala:656)\n\tat org.apache.spark.sql.DataFrameWriter$$anonfun$runCommand$1.apply(DataFrameWriter.scala:656)\n\tat org.apache.spark.sql.execution.SQLExecution$.withNewExecutionId(SQLExecution.scala:77)\n\tat org.apache.spark.sql.DataFrameWriter.runCommand(DataFrameWriter.scala:656)\n\tat org.apache.spark.sql.DataFrameWriter.saveToV1Source(DataFrameWriter.scala:273)\n\tat org.apache.spark.sql.DataFrameWriter.save(DataFrameWriter.scala:267)\n\tat org.apache.spark.sql.DataFrameWriter.save(DataFrameWriter.scala:225)\n\tat sun.reflect.NativeMethodAccessorImpl.invoke0(Native Method)\n\tat sun.reflect.NativeMethodAccessorImpl.invoke(NativeMethodAccessorImpl.java:62)\n\tat sun.reflect.DelegatingMethodAccessorImpl.invoke(DelegatingMethodAccessorImpl.java:43)\n\tat java.lang.reflect.Method.invoke(Method.java:498)\n\tat py4j.reflection.MethodInvoker.invoke(MethodInvoker.java:244)\n\tat py4j.reflection.ReflectionEngine.invoke(ReflectionEngine.java:357)\n\tat py4j.Gateway.invoke(Gateway.java:282)\n\tat py4j.commands.AbstractCommand.invokeMethod(AbstractCommand.java:132)\n\tat py4j.commands.CallCommand.execute(CallCommand.java:79)\n\tat py4j.GatewayConnection.run(GatewayConnection.java:238)\n\tat java.lang.Thread.run(Thread.java:748)\nCaused by: java.io.IOException: Couldn't setup connection for adesant3@INTERNAL.VODAFONE.COM to vgddp349hr.dc.sedc.internal.vodafone.com/10.109.120.22:8020\n\tat org.apache.hadoop.ipc.Client$Connection$1.run(Client.java:710)\n\tat java.security.AccessController.doPrivileged(Native Method)\n\tat javax.security.auth.Subject.doAs(Subject.java:422)\n\tat org.apache.hadoop.security.UserGroupInformation.doAs(UserGroupInformation.java:1924)\n\tat org.apache.hadoop.ipc.Client$Connection.handleSaslConnectionFailure(Client.java:681)\n\tat org.apache.hadoop.ipc.Client$Connection.setupIOstreams(Client.java:769)\n\tat org.apache.hadoop.ipc.Client$Connection.access$3000(Client.java:396)\n\tat org.apache.hadoop.ipc.Client.getConnection(Client.java:1557)\n\tat org.apache.hadoop.ipc.Client.call(Client.java:1480)\n\t... 46 more\nCaused by: javax.security.sasl.SaslException: GSS initiate failed [Caused by GSSException: No valid credentials provided (Mechanism level: Failed to find any Kerberos tgt)]\n\tat com.sun.security.sasl.gsskerb.GssKrb5Client.evaluateChallenge(GssKrb5Client.java:211)\n\tat org.apache.hadoop.security.SaslRpcClient.saslConnect(SaslRpcClient.java:413)\n\tat org.apache.hadoop.ipc.Client$Connection.setupSaslConnection(Client.java:594)\n\tat org.apache.hadoop.ipc.Client$Connection.access$2000(Client.java:396)\n\tat org.apache.hadoop.ipc.Client$Connection$2.run(Client.java:761)\n\tat org.apache.hadoop.ipc.Client$Connection$2.run(Client.java:757)\n\tat java.security.AccessController.doPrivileged(Native Method)\n\tat javax.security.auth.Subject.doAs(Subject.java:422)\n\tat org.apache.hadoop.security.UserGroupInformation.doAs(UserGroupInformation.java:1924)\n\tat org.apache.hadoop.ipc.Client$Connection.setupIOstreams(Client.java:756)\n\t... 49 more\nCaused by: GSSException: No valid credentials provided (Mechanism level: Failed to find any Kerberos tgt)\n\tat sun.security.jgss.krb5.Krb5InitCredential.getInstance(Krb5InitCredential.java:147)\n\tat sun.security.jgss.krb5.Krb5MechFactory.getCredentialElement(Krb5MechFactory.java:122)\n\tat sun.security.jgss.krb5.Krb5MechFactory.getMechanismContext(Krb5MechFactory.java:187)\n\tat sun.security.jgss.GSSManagerImpl.getMechanismContext(GSSManagerImpl.java:224)\n\tat sun.security.jgss.GSSContextImpl.initSecContext(GSSContextImpl.java:212)\n\tat sun.security.jgss.GSSContextImpl.initSecContext(GSSContextImpl.java:179)\n\tat com.sun.security.sasl.gsskerb.GssKrb5Client.evaluateChallenge(GssKrb5Client.java:192)\n\t... 58 more\n",
     "output_type": "error",
     "traceback": [
      "\u001b[0;31m\u001b[0m",
      "\u001b[0;31mPy4JJavaError\u001b[0mTraceback (most recent call last)",
      "\u001b[0;32m<ipython-input-106-d5e24d95d116>\u001b[0m in \u001b[0;36m<module>\u001b[0;34m()\u001b[0m\n\u001b[1;32m      1\u001b[0m \u001b[0mpath_to_save_result\u001b[0m\u001b[0;34m=\u001b[0m\u001b[0;34m'/data/attributes/vf_es/return_feed/hh_segmentation/'\u001b[0m\u001b[0;34m+\u001b[0m\u001b[0mhdfs_partition_path\u001b[0m\u001b[0;34m\u001b[0m\u001b[0m\n\u001b[1;32m      2\u001b[0m \u001b[0;34m\u001b[0m\u001b[0m\n\u001b[0;32m----> 3\u001b[0;31m \u001b[0msaveDF\u001b[0m\u001b[0;34m(\u001b[0m\u001b[0mpath_to_save_result\u001b[0m\u001b[0;34m,\u001b[0m \u001b[0mclean_result\u001b[0m\u001b[0;34m,\u001b[0m \u001b[0;36m1\u001b[0m\u001b[0;34m)\u001b[0m\u001b[0;34m\u001b[0m\u001b[0m\n\u001b[0m",
      "\u001b[0;32m<ipython-input-4-654d0a556b9b>\u001b[0m in \u001b[0;36msaveDF\u001b[0;34m(path, df, partitions)\u001b[0m\n\u001b[1;32m      1\u001b[0m \u001b[0;32mdef\u001b[0m \u001b[0msaveDF\u001b[0m\u001b[0;34m(\u001b[0m\u001b[0mpath\u001b[0m\u001b[0;34m,\u001b[0m \u001b[0mdf\u001b[0m\u001b[0;34m,\u001b[0m \u001b[0mpartitions\u001b[0m\u001b[0;34m)\u001b[0m\u001b[0;34m:\u001b[0m\u001b[0;34m\u001b[0m\u001b[0m\n\u001b[1;32m      2\u001b[0m     \u001b[0;32mprint\u001b[0m\u001b[0;34m(\u001b[0m\u001b[0;34m'['\u001b[0m \u001b[0;34m+\u001b[0m \u001b[0mtime\u001b[0m\u001b[0;34m.\u001b[0m\u001b[0mctime\u001b[0m\u001b[0;34m(\u001b[0m\u001b[0;34m)\u001b[0m \u001b[0;34m+\u001b[0m \u001b[0;34m'] '\u001b[0m \u001b[0;34m+\u001b[0m \u001b[0;34m'Saving started in: '\u001b[0m \u001b[0;34m+\u001b[0m \u001b[0mpath\u001b[0m\u001b[0;34m)\u001b[0m\u001b[0;34m\u001b[0m\u001b[0m\n\u001b[0;32m----> 3\u001b[0;31m     \u001b[0mdf\u001b[0m\u001b[0;34m.\u001b[0m\u001b[0mrepartition\u001b[0m\u001b[0;34m(\u001b[0m\u001b[0mpartitions\u001b[0m\u001b[0;34m)\u001b[0m\u001b[0;34m.\u001b[0m\u001b[0mwrite\u001b[0m\u001b[0;34m.\u001b[0m\u001b[0mmode\u001b[0m\u001b[0;34m(\u001b[0m\u001b[0;34m'overwrite'\u001b[0m\u001b[0;34m)\u001b[0m\u001b[0;34m.\u001b[0m\u001b[0mformat\u001b[0m\u001b[0;34m(\u001b[0m\u001b[0;34m'parquet'\u001b[0m\u001b[0;34m)\u001b[0m\u001b[0;34m.\u001b[0m\u001b[0msave\u001b[0m\u001b[0;34m(\u001b[0m\u001b[0mpath\u001b[0m\u001b[0;34m)\u001b[0m\u001b[0;34m\u001b[0m\u001b[0m\n\u001b[0m\u001b[1;32m      4\u001b[0m     \u001b[0;32mprint\u001b[0m\u001b[0;34m(\u001b[0m\u001b[0;34m'['\u001b[0m \u001b[0;34m+\u001b[0m \u001b[0mtime\u001b[0m\u001b[0;34m.\u001b[0m\u001b[0mctime\u001b[0m\u001b[0;34m(\u001b[0m\u001b[0;34m)\u001b[0m \u001b[0;34m+\u001b[0m \u001b[0;34m'] '\u001b[0m \u001b[0;34m+\u001b[0m \u001b[0;34m'Saving finished!'\u001b[0m\u001b[0;34m)\u001b[0m\u001b[0;34m\u001b[0m\u001b[0m\n\u001b[1;32m      5\u001b[0m \u001b[0;34m\u001b[0m\u001b[0m\n",
      "\u001b[0;32m/opt/cloudera/parcels/SPARK2/lib/spark2/python/pyspark/sql/readwriter.py\u001b[0m in \u001b[0;36msave\u001b[0;34m(self, path, format, mode, partitionBy, **options)\u001b[0m\n\u001b[1;32m    703\u001b[0m             \u001b[0mself\u001b[0m\u001b[0;34m.\u001b[0m\u001b[0m_jwrite\u001b[0m\u001b[0;34m.\u001b[0m\u001b[0msave\u001b[0m\u001b[0;34m(\u001b[0m\u001b[0;34m)\u001b[0m\u001b[0;34m\u001b[0m\u001b[0m\n\u001b[1;32m    704\u001b[0m         \u001b[0;32melse\u001b[0m\u001b[0;34m:\u001b[0m\u001b[0;34m\u001b[0m\u001b[0m\n\u001b[0;32m--> 705\u001b[0;31m             \u001b[0mself\u001b[0m\u001b[0;34m.\u001b[0m\u001b[0m_jwrite\u001b[0m\u001b[0;34m.\u001b[0m\u001b[0msave\u001b[0m\u001b[0;34m(\u001b[0m\u001b[0mpath\u001b[0m\u001b[0;34m)\u001b[0m\u001b[0;34m\u001b[0m\u001b[0m\n\u001b[0m\u001b[1;32m    706\u001b[0m \u001b[0;34m\u001b[0m\u001b[0m\n\u001b[1;32m    707\u001b[0m     \u001b[0;34m@\u001b[0m\u001b[0msince\u001b[0m\u001b[0;34m(\u001b[0m\u001b[0;36m1.4\u001b[0m\u001b[0;34m)\u001b[0m\u001b[0;34m\u001b[0m\u001b[0m\n",
      "\u001b[0;32m/opt/cloudera/parcels/Anaconda-2.5.0/lib/python2.7/site-packages/py4j/java_gateway.pyc\u001b[0m in \u001b[0;36m__call__\u001b[0;34m(self, *args)\u001b[0m\n\u001b[1;32m   1255\u001b[0m         \u001b[0manswer\u001b[0m \u001b[0;34m=\u001b[0m \u001b[0mself\u001b[0m\u001b[0;34m.\u001b[0m\u001b[0mgateway_client\u001b[0m\u001b[0;34m.\u001b[0m\u001b[0msend_command\u001b[0m\u001b[0;34m(\u001b[0m\u001b[0mcommand\u001b[0m\u001b[0;34m)\u001b[0m\u001b[0;34m\u001b[0m\u001b[0m\n\u001b[1;32m   1256\u001b[0m         return_value = get_return_value(\n\u001b[0;32m-> 1257\u001b[0;31m             answer, self.gateway_client, self.target_id, self.name)\n\u001b[0m\u001b[1;32m   1258\u001b[0m \u001b[0;34m\u001b[0m\u001b[0m\n\u001b[1;32m   1259\u001b[0m         \u001b[0;32mfor\u001b[0m \u001b[0mtemp_arg\u001b[0m \u001b[0;32min\u001b[0m \u001b[0mtemp_args\u001b[0m\u001b[0;34m:\u001b[0m\u001b[0;34m\u001b[0m\u001b[0m\n",
      "\u001b[0;32m/opt/cloudera/parcels/SPARK2/lib/spark2/python/pyspark/sql/utils.py\u001b[0m in \u001b[0;36mdeco\u001b[0;34m(*a, **kw)\u001b[0m\n\u001b[1;32m     61\u001b[0m     \u001b[0;32mdef\u001b[0m \u001b[0mdeco\u001b[0m\u001b[0;34m(\u001b[0m\u001b[0;34m*\u001b[0m\u001b[0ma\u001b[0m\u001b[0;34m,\u001b[0m \u001b[0;34m**\u001b[0m\u001b[0mkw\u001b[0m\u001b[0;34m)\u001b[0m\u001b[0;34m:\u001b[0m\u001b[0;34m\u001b[0m\u001b[0m\n\u001b[1;32m     62\u001b[0m         \u001b[0;32mtry\u001b[0m\u001b[0;34m:\u001b[0m\u001b[0;34m\u001b[0m\u001b[0m\n\u001b[0;32m---> 63\u001b[0;31m             \u001b[0;32mreturn\u001b[0m \u001b[0mf\u001b[0m\u001b[0;34m(\u001b[0m\u001b[0;34m*\u001b[0m\u001b[0ma\u001b[0m\u001b[0;34m,\u001b[0m \u001b[0;34m**\u001b[0m\u001b[0mkw\u001b[0m\u001b[0;34m)\u001b[0m\u001b[0;34m\u001b[0m\u001b[0m\n\u001b[0m\u001b[1;32m     64\u001b[0m         \u001b[0;32mexcept\u001b[0m \u001b[0mpy4j\u001b[0m\u001b[0;34m.\u001b[0m\u001b[0mprotocol\u001b[0m\u001b[0;34m.\u001b[0m\u001b[0mPy4JJavaError\u001b[0m \u001b[0;32mas\u001b[0m \u001b[0me\u001b[0m\u001b[0;34m:\u001b[0m\u001b[0;34m\u001b[0m\u001b[0m\n\u001b[1;32m     65\u001b[0m             \u001b[0ms\u001b[0m \u001b[0;34m=\u001b[0m \u001b[0me\u001b[0m\u001b[0;34m.\u001b[0m\u001b[0mjava_exception\u001b[0m\u001b[0;34m.\u001b[0m\u001b[0mtoString\u001b[0m\u001b[0;34m(\u001b[0m\u001b[0;34m)\u001b[0m\u001b[0;34m\u001b[0m\u001b[0m\n",
      "\u001b[0;32m/opt/cloudera/parcels/Anaconda-2.5.0/lib/python2.7/site-packages/py4j/protocol.pyc\u001b[0m in \u001b[0;36mget_return_value\u001b[0;34m(answer, gateway_client, target_id, name)\u001b[0m\n\u001b[1;32m    326\u001b[0m                 raise Py4JJavaError(\n\u001b[1;32m    327\u001b[0m                     \u001b[0;34m\"An error occurred while calling {0}{1}{2}.\\n\"\u001b[0m\u001b[0;34m.\u001b[0m\u001b[0;34m\u001b[0m\u001b[0m\n\u001b[0;32m--> 328\u001b[0;31m                     format(target_id, \".\", name), value)\n\u001b[0m\u001b[1;32m    329\u001b[0m             \u001b[0;32melse\u001b[0m\u001b[0;34m:\u001b[0m\u001b[0;34m\u001b[0m\u001b[0m\n\u001b[1;32m    330\u001b[0m                 raise Py4JError(\n",
      "\u001b[0;31mPy4JJavaError\u001b[0m: An error occurred while calling o9952.save.\n: java.io.IOException: Failed on local exception: java.io.IOException: Couldn't setup connection for adesant3@INTERNAL.VODAFONE.COM to vgddp349hr.dc.sedc.internal.vodafone.com/10.109.120.22:8020; Host Details : local host is: \"vgddp387hr.dc.sedc.internal.vodafone.com/10.109.120.122\"; destination host is: \"vgddp349hr.dc.sedc.internal.vodafone.com\":8020; \n\tat org.apache.hadoop.net.NetUtils.wrapException(NetUtils.java:772)\n\tat org.apache.hadoop.ipc.Client.call(Client.java:1508)\n\tat org.apache.hadoop.ipc.Client.call(Client.java:1441)\n\tat org.apache.hadoop.ipc.ProtobufRpcEngine$Invoker.invoke(ProtobufRpcEngine.java:231)\n\tat com.sun.proxy.$Proxy13.getFileInfo(Unknown Source)\n\tat org.apache.hadoop.hdfs.protocolPB.ClientNamenodeProtocolTranslatorPB.getFileInfo(ClientNamenodeProtocolTranslatorPB.java:788)\n\tat sun.reflect.GeneratedMethodAccessor4.invoke(Unknown Source)\n\tat sun.reflect.DelegatingMethodAccessorImpl.invoke(DelegatingMethodAccessorImpl.java:43)\n\tat java.lang.reflect.Method.invoke(Method.java:498)\n\tat org.apache.hadoop.io.retry.RetryInvocationHandler.invokeMethod(RetryInvocationHandler.java:258)\n\tat org.apache.hadoop.io.retry.RetryInvocationHandler.invoke(RetryInvocationHandler.java:104)\n\tat com.sun.proxy.$Proxy14.getFileInfo(Unknown Source)\n\tat org.apache.hadoop.hdfs.DFSClient.getFileInfo(DFSClient.java:2168)\n\tat org.apache.hadoop.hdfs.DistributedFileSystem$20.doCall(DistributedFileSystem.java:1266)\n\tat org.apache.hadoop.hdfs.DistributedFileSystem$20.doCall(DistributedFileSystem.java:1262)\n\tat org.apache.hadoop.fs.FileSystemLinkResolver.resolve(FileSystemLinkResolver.java:81)\n\tat org.apache.hadoop.hdfs.DistributedFileSystem.getFileStatus(DistributedFileSystem.java:1262)\n\tat org.apache.hadoop.fs.FileSystem.exists(FileSystem.java:1418)\n\tat org.apache.spark.sql.execution.datasources.InsertIntoHadoopFsRelationCommand.run(InsertIntoHadoopFsRelationCommand.scala:92)\n\tat org.apache.spark.sql.execution.command.DataWritingCommandExec.sideEffectResult$lzycompute(commands.scala:104)\n\tat org.apache.spark.sql.execution.command.DataWritingCommandExec.sideEffectResult(commands.scala:102)\n\tat org.apache.spark.sql.execution.command.DataWritingCommandExec.doExecute(commands.scala:122)\n\tat org.apache.spark.sql.execution.SparkPlan$$anonfun$execute$1.apply(SparkPlan.scala:131)\n\tat org.apache.spark.sql.execution.SparkPlan$$anonfun$execute$1.apply(SparkPlan.scala:127)\n\tat org.apache.spark.sql.execution.SparkPlan$$anonfun$executeQuery$1.apply(SparkPlan.scala:155)\n\tat org.apache.spark.rdd.RDDOperationScope$.withScope(RDDOperationScope.scala:151)\n\tat org.apache.spark.sql.execution.SparkPlan.executeQuery(SparkPlan.scala:152)\n\tat org.apache.spark.sql.execution.SparkPlan.execute(SparkPlan.scala:127)\n\tat org.apache.spark.sql.execution.QueryExecution.toRdd$lzycompute(QueryExecution.scala:80)\n\tat org.apache.spark.sql.execution.QueryExecution.toRdd(QueryExecution.scala:80)\n\tat org.apache.spark.sql.DataFrameWriter$$anonfun$runCommand$1.apply(DataFrameWriter.scala:656)\n\tat org.apache.spark.sql.DataFrameWriter$$anonfun$runCommand$1.apply(DataFrameWriter.scala:656)\n\tat org.apache.spark.sql.execution.SQLExecution$.withNewExecutionId(SQLExecution.scala:77)\n\tat org.apache.spark.sql.DataFrameWriter.runCommand(DataFrameWriter.scala:656)\n\tat org.apache.spark.sql.DataFrameWriter.saveToV1Source(DataFrameWriter.scala:273)\n\tat org.apache.spark.sql.DataFrameWriter.save(DataFrameWriter.scala:267)\n\tat org.apache.spark.sql.DataFrameWriter.save(DataFrameWriter.scala:225)\n\tat sun.reflect.NativeMethodAccessorImpl.invoke0(Native Method)\n\tat sun.reflect.NativeMethodAccessorImpl.invoke(NativeMethodAccessorImpl.java:62)\n\tat sun.reflect.DelegatingMethodAccessorImpl.invoke(DelegatingMethodAccessorImpl.java:43)\n\tat java.lang.reflect.Method.invoke(Method.java:498)\n\tat py4j.reflection.MethodInvoker.invoke(MethodInvoker.java:244)\n\tat py4j.reflection.ReflectionEngine.invoke(ReflectionEngine.java:357)\n\tat py4j.Gateway.invoke(Gateway.java:282)\n\tat py4j.commands.AbstractCommand.invokeMethod(AbstractCommand.java:132)\n\tat py4j.commands.CallCommand.execute(CallCommand.java:79)\n\tat py4j.GatewayConnection.run(GatewayConnection.java:238)\n\tat java.lang.Thread.run(Thread.java:748)\nCaused by: java.io.IOException: Couldn't setup connection for adesant3@INTERNAL.VODAFONE.COM to vgddp349hr.dc.sedc.internal.vodafone.com/10.109.120.22:8020\n\tat org.apache.hadoop.ipc.Client$Connection$1.run(Client.java:710)\n\tat java.security.AccessController.doPrivileged(Native Method)\n\tat javax.security.auth.Subject.doAs(Subject.java:422)\n\tat org.apache.hadoop.security.UserGroupInformation.doAs(UserGroupInformation.java:1924)\n\tat org.apache.hadoop.ipc.Client$Connection.handleSaslConnectionFailure(Client.java:681)\n\tat org.apache.hadoop.ipc.Client$Connection.setupIOstreams(Client.java:769)\n\tat org.apache.hadoop.ipc.Client$Connection.access$3000(Client.java:396)\n\tat org.apache.hadoop.ipc.Client.getConnection(Client.java:1557)\n\tat org.apache.hadoop.ipc.Client.call(Client.java:1480)\n\t... 46 more\nCaused by: javax.security.sasl.SaslException: GSS initiate failed [Caused by GSSException: No valid credentials provided (Mechanism level: Failed to find any Kerberos tgt)]\n\tat com.sun.security.sasl.gsskerb.GssKrb5Client.evaluateChallenge(GssKrb5Client.java:211)\n\tat org.apache.hadoop.security.SaslRpcClient.saslConnect(SaslRpcClient.java:413)\n\tat org.apache.hadoop.ipc.Client$Connection.setupSaslConnection(Client.java:594)\n\tat org.apache.hadoop.ipc.Client$Connection.access$2000(Client.java:396)\n\tat org.apache.hadoop.ipc.Client$Connection$2.run(Client.java:761)\n\tat org.apache.hadoop.ipc.Client$Connection$2.run(Client.java:757)\n\tat java.security.AccessController.doPrivileged(Native Method)\n\tat javax.security.auth.Subject.doAs(Subject.java:422)\n\tat org.apache.hadoop.security.UserGroupInformation.doAs(UserGroupInformation.java:1924)\n\tat org.apache.hadoop.ipc.Client$Connection.setupIOstreams(Client.java:756)\n\t... 49 more\nCaused by: GSSException: No valid credentials provided (Mechanism level: Failed to find any Kerberos tgt)\n\tat sun.security.jgss.krb5.Krb5InitCredential.getInstance(Krb5InitCredential.java:147)\n\tat sun.security.jgss.krb5.Krb5MechFactory.getCredentialElement(Krb5MechFactory.java:122)\n\tat sun.security.jgss.krb5.Krb5MechFactory.getMechanismContext(Krb5MechFactory.java:187)\n\tat sun.security.jgss.GSSManagerImpl.getMechanismContext(GSSManagerImpl.java:224)\n\tat sun.security.jgss.GSSContextImpl.initSecContext(GSSContextImpl.java:212)\n\tat sun.security.jgss.GSSContextImpl.initSecContext(GSSContextImpl.java:179)\n\tat com.sun.security.sasl.gsskerb.GssKrb5Client.evaluateChallenge(GssKrb5Client.java:192)\n\t... 58 more\n"
     ]
    }
   ],
   "source": [
    "path_to_save_result='/data/attributes/vf_es/return_feed/hh_segmentation/'+hdfs_partition_path\n",
    "\n",
    "saveDF(path_to_save_result, clean_result, 1)"
   ]
  },
  {
   "cell_type": "code",
   "execution_count": 98,
   "metadata": {},
   "outputs": [
    {
     "data": {
      "text/plain": [
       "'/data/attributes/vf_es/return_feed/hh_segmentation/year=2019/month=6/day=7'"
      ]
     },
     "execution_count": 98,
     "metadata": {},
     "output_type": "execute_result"
    }
   ],
   "source": [
    "path_to_save_result='/data/attributes/vf_es/return_feed/hh_segmentation/'+hdfs_partition_path\n",
    "path_to_save_result"
   ]
  },
  {
   "cell_type": "markdown",
   "metadata": {},
   "source": [
    "# END."
   ]
  },
  {
   "cell_type": "code",
   "execution_count": 6,
   "metadata": {},
   "outputs": [],
   "source": [
    "hdfs_partition_path = 'year=' + str(int(ClosingDay[:4])) + '/month=' + str(int(ClosingDay[4:6])) + '/day=' + str(int(ClosingDay[6:8]))\n",
    "path_to_save='/data/attributes/vf_es/model_outputs/hh_segmentation/model/'+hdfs_partition_path\n",
    "results_load = (spark.read.load(path_to_save))"
   ]
  },
  {
   "cell_type": "code",
   "execution_count": 7,
   "metadata": {},
   "outputs": [
    {
     "data": {
      "text/plain": [
       "Row(NUM_CLIENTE=u'000066035', Cust_Agg_fbb_services_nc=1, Cust_Agg_fixed_services_nc=1, Cust_Agg_mobile_services_nc=2, Cust_Agg_prepaid_services_nc=0, Cust_Agg_tv_services_nc=1, CHILDREN_GREATER_AGE=None, FLAG_CHILDREN=None, FLAG_CHILDREN_OVER18=None, Cust_birth_date=1955, EDAD=64, AGE_OVER_55=1, prediction_flag_children=1.0, score_flag_children=0.5467185974121094, prediction_over18=0.0, score_over18=0.4610423743724823, prediction_over55=None, score_over55=None, FINAL_FLAG_CHILDREN=1.0, FINAL_FLAG_CHILDREN_OVER18=0.0, FINAL_FLAG_OVER55=1.0)"
      ]
     },
     "execution_count": 7,
     "metadata": {},
     "output_type": "execute_result"
    }
   ],
   "source": [
    "results_load.head()"
   ]
  },
  {
   "cell_type": "markdown",
   "metadata": {},
   "source": [
    "# End."
   ]
  },
  {
   "cell_type": "code",
   "execution_count": null,
   "metadata": {},
   "outputs": [],
   "source": []
  },
  {
   "cell_type": "code",
   "execution_count": null,
   "metadata": {},
   "outputs": [],
   "source": []
  },
  {
   "cell_type": "code",
   "execution_count": null,
   "metadata": {},
   "outputs": [],
   "source": []
  },
  {
   "cell_type": "code",
   "execution_count": null,
   "metadata": {},
   "outputs": [],
   "source": [
    "spark.stop()"
   ]
  },
  {
   "cell_type": "code",
   "execution_count": null,
   "metadata": {},
   "outputs": [],
   "source": []
  }
 ],
 "metadata": {
  "kernelspec": {
   "display_name": "Python 2",
   "language": "python",
   "name": "python2"
  },
  "language_info": {
   "codemirror_mode": {
    "name": "ipython",
    "version": 2
   },
   "file_extension": ".py",
   "mimetype": "text/x-python",
   "name": "python",
   "nbconvert_exporter": "python",
   "pygments_lexer": "ipython2",
   "version": "2.7.11"
  }
 },
 "nbformat": 4,
 "nbformat_minor": 2
}
