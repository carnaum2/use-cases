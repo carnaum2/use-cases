{
 "cells": [
  {
   "cell_type": "code",
   "execution_count": 23,
   "metadata": {},
   "outputs": [],
   "source": [
    "def set_paths():\n",
    "\n",
    "    import os\n",
    "    import sys\n",
    "\n",
    "    USECASES_SRC = os.path.join(os.environ.get('BDA_USER_HOME', ''), \"repositorios\", \"use-cases\")\n",
    "    if USECASES_SRC not in sys.path:\n",
    "        sys.path.append(USECASES_SRC)\n",
    "\n",
    "\n",
    "set_paths()\n",
    "\n"
   ]
  },
  {
   "cell_type": "code",
   "execution_count": 4,
   "metadata": {},
   "outputs": [],
   "source": [
    "from pyspark.sql.functions import (udf,\n",
    "                        col,\n",
    "                        decode,\n",
    "                        when,\n",
    "                        lit,\n",
    "                        lower,\n",
    "                        concat,\n",
    "                        translate,\n",
    "                        count,\n",
    "                        sum as sql_sum,\n",
    "                        max as sql_max,\n",
    "                        min as sql_min,\n",
    "                        avg as sql_avg,\n",
    "                        greatest,\n",
    "                        least,\n",
    "                        isnull,\n",
    "                        isnan,\n",
    "                        struct, \n",
    "                        substring,\n",
    "                        size,\n",
    "                        length,\n",
    "                        year,\n",
    "                        month,\n",
    "                        dayofmonth,\n",
    "                        unix_timestamp,\n",
    "                        date_format,\n",
    "                        from_unixtime,\n",
    "                        datediff,\n",
    "                        to_date, \n",
    "                        desc,\n",
    "                        asc,\n",
    "                        countDistinct,\n",
    "                        row_number,\n",
    "                        rand,\n",
    "                        countDistinct,\n",
    "                        variance)\n",
    "from pyspark.sql import Row, DataFrame, Column, Window\n",
    "from pyspark.sql.types import DoubleType, StringType, IntegerType, DateType, ArrayType, StructType, StructField\n",
    "from pyspark.ml import Pipeline\n",
    "from pyspark.ml.classification import RandomForestClassifier\n",
    "from pyspark.ml.feature import StringIndexer, VectorIndexer, VectorAssembler, SQLTransformer, OneHotEncoder, QuantileDiscretizer, Bucketizer\n",
    "from pyspark.ml.evaluation import MulticlassClassificationEvaluator, BinaryClassificationEvaluator\n",
    "from pyspark.ml.tuning import CrossValidator, ParamGridBuilder\n",
    "from pyspark.ml.regression import IsotonicRegression\n",
    "import math\n",
    "import operator\n",
    "import numpy as np"
   ]
  },
  {
   "cell_type": "code",
   "execution_count": 24,
   "metadata": {},
   "outputs": [],
   "source": [
    "from churn_nrt.src.utils.spark_session import get_spark_session\n",
    "\n",
    "sc, spark, sql_context=get_spark_session(app_name=\"convergence_check\")"
   ]
  },
  {
   "cell_type": "code",
   "execution_count": 45,
   "metadata": {},
   "outputs": [],
   "source": [
    "churn_mobile=spark.read.load('/data/attributes/vf_es/model_outputs/model_scores/model_name=ompc_xsell_fijo/year=2020/month=7/day=22')"
   ]
  },
  {
   "cell_type": "code",
   "execution_count": 7,
   "metadata": {},
   "outputs": [
    {
     "data": {
      "text/plain": [
       "2641456"
      ]
     },
     "execution_count": 7,
     "metadata": {},
     "output_type": "execute_result"
    }
   ],
   "source": [
    "churn_mobile.count()"
   ]
  },
  {
   "cell_type": "code",
   "execution_count": 30,
   "metadata": {},
   "outputs": [],
   "source": [
    "x=spark.read.load('/data/raw/vf_es/cvm/EXT_AC_CLIENTES/1.0/parquet/year=2020/month=7/day=16')"
   ]
  },
  {
   "cell_type": "code",
   "execution_count": 31,
   "metadata": {},
   "outputs": [
    {
     "data": {
      "text/plain": [
       "['NIF_CLIENTE',\n",
       " 'NUM_CLIENTE',\n",
       " 'COD_ESTADO_GENERAL',\n",
       " 'CLASE_CLI_COD_CLASE_CLIENTE',\n",
       " 'TIPO_DOCUMENTO',\n",
       " 'TRATAMIENTO',\n",
       " 'NOMBRE',\n",
       " 'PRIM_APELLIDO',\n",
       " 'SEG_APELLIDO',\n",
       " 'NOM_COMPLETO',\n",
       " 'CTA_CORREO',\n",
       " 'TEL_CONTACTO',\n",
       " 'TEL_TRABAJO',\n",
       " 'TEL_OTRO',\n",
       " 'SMS',\n",
       " 'TELEFONO_TESTA',\n",
       " 'MOVIL',\n",
       " 'DIR_COMPLETA',\n",
       " 'COD_POSTAL',\n",
       " 'MUNICIPIO',\n",
       " 'COD_GESCAL_17',\n",
       " 'COD_GOLDEN',\n",
       " 'CENTRAL_OFFICE',\n",
       " 'COD_X_NODO_PRIM',\n",
       " 'COD_X_NODO_TERM',\n",
       " 'FLAG_HUELLA_ARIEL',\n",
       " 'FLAG_HUELLA_EUSKALTEL',\n",
       " 'FLAG_HUELLA_FTTH',\n",
       " 'FLAG_HUELLA_HFC',\n",
       " 'FLAG_HUELLA_JAZZTEL',\n",
       " 'FLAG_HUELLA_MOVISTAR',\n",
       " 'FLAG_HUELLA_NEBA',\n",
       " 'TIPO_NEBA',\n",
       " 'FLAG_NH_PREVISTA',\n",
       " 'FLAG_NH_REAL',\n",
       " 'FLAG_ZC',\n",
       " 'TIPO_HUELLA_FTTH',\n",
       " 'VELOCIDAD_MAX_HFC',\n",
       " 'FLAG_COBERTURA_ADSL',\n",
       " 'COD_POSTAL_FACT',\n",
       " 'TRAT_FACT',\n",
       " 'NOMBRE_CLI_FACT',\n",
       " 'APELLIDO1_CLI_FACT',\n",
       " 'APELLIDO2_CLI_FACT',\n",
       " 'DIR_NUM_DIRECCION',\n",
       " 'CUENTA_BANCO',\n",
       " 'MARRIAGE2HGBST_ELM',\n",
       " 'GENDER2HGBST_ELM',\n",
       " 'COD_SEGMENTO_NDS',\n",
       " 'DES_SEGMENTO_NDS',\n",
       " 'FECHA_NACIMIENTO',\n",
       " 'ARPU_3M',\n",
       " 'FECHA_ANTIGUEDAD_CLI',\n",
       " 'FEC_PRIM_INSTA_CLI',\n",
       " 'FECHA_ANTIGUEDAD_NIF',\n",
       " 'FEC_PRIM_INSTA_NIF',\n",
       " 'FECHA_MAX_DESCONEXION',\n",
       " 'SUPEROFERTA',\n",
       " 'CICLO',\n",
       " 'NACIONALIDAD',\n",
       " 'CLASIFICACION_CLIENTE',\n",
       " 'X_TIPO_CUENTA_CORP',\n",
       " 'METODO_PAGO',\n",
       " 'FACTURA_ELECTRONICA',\n",
       " 'NIF_FACTURACION',\n",
       " 'X_FORMATO_FACTURA',\n",
       " 'X_IDIOMA_FACTURA',\n",
       " 'X_USER_FACEBOOK',\n",
       " 'X_USER_TWITTER',\n",
       " 'FLAG_MOVIL_POS',\n",
       " 'NUM_MOVIL_POS',\n",
       " 'FLAG_PREPAGO',\n",
       " 'NUM_PREPAGO',\n",
       " 'FLAG_TV',\n",
       " 'NUM_TV',\n",
       " 'FLAG_BAM',\n",
       " 'NUM_BAM',\n",
       " 'FLAG_TFNO_FIJO',\n",
       " 'NUM_TFNO_FIJO',\n",
       " 'FLAG_FBB',\n",
       " 'TIPO_FBB',\n",
       " 'TECNOLOGIA',\n",
       " 'DESC_TECNOLOGIA',\n",
       " 'VENDER_TV',\n",
       " 'FX_MIG_THIN_FULL',\n",
       " 'X_FECHA_MIGRACION',\n",
       " 'FLAG_MIGRADO',\n",
       " 'FLAG_ROBINSON',\n",
       " 'FLAG_NOAUTORIZA_GEOLOC',\n",
       " 'FLAG_NOAUTORIZA_DATOS_ANONIM',\n",
       " 'FLAG_NOAUTORIZA_TRAFICO_FACT',\n",
       " 'FLAG_NOAUTORIZA_CESION_GRUPO',\n",
       " 'FLAG_NOAUTORIZA_NAVEGACION',\n",
       " 'FLAG_NOAUTORIZA_DATOS_TERCEROS',\n",
       " 'FECHA_UPD_TYN',\n",
       " 'SFID_UPD_TyN',\n",
       " 'UPD_PERM_TyN',\n",
       " 'FLAG_DEUDA',\n",
       " 'TRAMO_PREFERIDO',\n",
       " 'MESES_ANTIGUEDAD',\n",
       " 'SEGMENTO_ESTRELLA',\n",
       " 'FLAG_DESC_CONV',\n",
       " 'FLAG_EXISTE_FBB_HOGAR',\n",
       " 'SUBCANAL_UPD_PERM_TYN',\n",
       " 'AGRUP_CANAL_UPD_PERM_TyN',\n",
       " 'FLAG_TDIFI',\n",
       " 'MESES_YES_TyN',\n",
       " 'fact_mes_vencido',\n",
       " 'FLAG_EMAIL_ERROR',\n",
       " 'FLAG_AMAZON',\n",
       " 'MODALIDAD_OTT_AMAZON',\n",
       " 'FLAG_FILMIN',\n",
       " 'MODALIDAD_OTT_FILMIN',\n",
       " 'FLAG_HBO',\n",
       " 'MODALIDAD_OTT_HBO',\n",
       " 'FLAG_NETFLIX',\n",
       " 'MODALIDAD_OTT_NETFLIX',\n",
       " 'FLAG_TIDAL',\n",
       " 'MODALIDAD_OTT_TIDAL',\n",
       " 'FLAG_DIR_FICTICIA',\n",
       " 'AGRUPMAX_CODIGO',\n",
       " 'AGRUPMAX_F_INICIO',\n",
       " 'AGRUPMAX_F_FIN',\n",
       " 'AGRUPMAX_NMESES',\n",
       " 'FLAG_BLINDAJE',\n",
       " 'HUELLA_COMERCIALIZABLE_VF',\n",
       " 'FLAG_NLM',\n",
       " 'AGENCIA_NLM',\n",
       " 'flag_financiacion',\n",
       " 'FINAN_F_FIN',\n",
       " 'FLAG_DEUDA_REAL',\n",
       " 'FLAG_PLAN_B',\n",
       " 'DIR_LINEA1',\n",
       " 'DIR_LINEA2',\n",
       " 'DIR_LINEA3',\n",
       " 'DIR_FACTURA1',\n",
       " 'DIR_FACTURA2',\n",
       " 'DIR_FACTURA3',\n",
       " 'DIR_FACTURA4',\n",
       " 'CODIGO_POSTAL',\n",
       " 'service_processed_at',\n",
       " 'service_file_id']"
      ]
     },
     "execution_count": 31,
     "metadata": {},
     "output_type": "execute_result"
    }
   ],
   "source": [
    "x.columns"
   ]
  },
  {
   "cell_type": "code",
   "execution_count": null,
   "metadata": {},
   "outputs": [],
   "source": []
  },
  {
   "cell_type": "code",
   "execution_count": null,
   "metadata": {},
   "outputs": [],
   "source": []
  },
  {
   "cell_type": "code",
   "execution_count": null,
   "metadata": {},
   "outputs": [],
   "source": []
  },
  {
   "cell_type": "code",
   "execution_count": 46,
   "metadata": {},
   "outputs": [
    {
     "data": {
      "text/html": [
       "<div>\n",
       "<style scoped>\n",
       "    .dataframe tbody tr th:only-of-type {\n",
       "        vertical-align: middle;\n",
       "    }\n",
       "\n",
       "    .dataframe tbody tr th {\n",
       "        vertical-align: top;\n",
       "    }\n",
       "\n",
       "    .dataframe thead th {\n",
       "        text-align: right;\n",
       "    }\n",
       "</style>\n",
       "<table border=\"1\" class=\"dataframe\">\n",
       "  <thead>\n",
       "    <tr style=\"text-align: right;\">\n",
       "      <th></th>\n",
       "      <th>nif</th>\n",
       "      <th>model_output</th>\n",
       "      <th>scoring</th>\n",
       "      <th>prediction</th>\n",
       "      <th>extra_info</th>\n",
       "      <th>time</th>\n",
       "      <th>executed_at</th>\n",
       "      <th>model_executed_at</th>\n",
       "      <th>predict_closing_date</th>\n",
       "      <th>msisdn</th>\n",
       "      <th>client_id</th>\n",
       "      <th>longitud</th>\n",
       "    </tr>\n",
       "  </thead>\n",
       "  <tbody>\n",
       "    <tr>\n",
       "      <th>0</th>\n",
       "      <td>78088671H</td>\n",
       "      <td>xsell_fijo</td>\n",
       "      <td>0.064993</td>\n",
       "      <td>None</td>\n",
       "      <td>decil=1</td>\n",
       "      <td>None</td>\n",
       "      <td>None</td>\n",
       "      <td>None</td>\n",
       "      <td>None</td>\n",
       "      <td>None</td>\n",
       "      <td>None</td>\n",
       "      <td>9</td>\n",
       "    </tr>\n",
       "    <tr>\n",
       "      <th>1</th>\n",
       "      <td>60141486H</td>\n",
       "      <td>xsell_fijo</td>\n",
       "      <td>0.065998</td>\n",
       "      <td>None</td>\n",
       "      <td>decil=1</td>\n",
       "      <td>None</td>\n",
       "      <td>None</td>\n",
       "      <td>None</td>\n",
       "      <td>None</td>\n",
       "      <td>None</td>\n",
       "      <td>None</td>\n",
       "      <td>9</td>\n",
       "    </tr>\n",
       "    <tr>\n",
       "      <th>2</th>\n",
       "      <td>36094092G</td>\n",
       "      <td>xsell_fijo</td>\n",
       "      <td>0.066194</td>\n",
       "      <td>None</td>\n",
       "      <td>decil=1</td>\n",
       "      <td>None</td>\n",
       "      <td>None</td>\n",
       "      <td>None</td>\n",
       "      <td>None</td>\n",
       "      <td>None</td>\n",
       "      <td>None</td>\n",
       "      <td>9</td>\n",
       "    </tr>\n",
       "    <tr>\n",
       "      <th>3</th>\n",
       "      <td>O8276809X</td>\n",
       "      <td>xsell_fijo</td>\n",
       "      <td>0.066292</td>\n",
       "      <td>None</td>\n",
       "      <td>decil=1</td>\n",
       "      <td>None</td>\n",
       "      <td>None</td>\n",
       "      <td>None</td>\n",
       "      <td>None</td>\n",
       "      <td>None</td>\n",
       "      <td>None</td>\n",
       "      <td>9</td>\n",
       "    </tr>\n",
       "    <tr>\n",
       "      <th>4</th>\n",
       "      <td>61469058O</td>\n",
       "      <td>xsell_fijo</td>\n",
       "      <td>0.066357</td>\n",
       "      <td>None</td>\n",
       "      <td>decil=1</td>\n",
       "      <td>None</td>\n",
       "      <td>None</td>\n",
       "      <td>None</td>\n",
       "      <td>None</td>\n",
       "      <td>None</td>\n",
       "      <td>None</td>\n",
       "      <td>9</td>\n",
       "    </tr>\n",
       "  </tbody>\n",
       "</table>\n",
       "</div>"
      ],
      "text/plain": [
       "         nif model_output   scoring prediction extra_info  time executed_at  \\\n",
       "0  78088671H   xsell_fijo  0.064993       None    decil=1  None        None   \n",
       "1  60141486H   xsell_fijo  0.065998       None    decil=1  None        None   \n",
       "2  36094092G   xsell_fijo  0.066194       None    decil=1  None        None   \n",
       "3  O8276809X   xsell_fijo  0.066292       None    decil=1  None        None   \n",
       "4  61469058O   xsell_fijo  0.066357       None    decil=1  None        None   \n",
       "\n",
       "  model_executed_at predict_closing_date msisdn client_id  longitud  \n",
       "0              None                 None   None      None         9  \n",
       "1              None                 None   None      None         9  \n",
       "2              None                 None   None      None         9  \n",
       "3              None                 None   None      None         9  \n",
       "4              None                 None   None      None         9  "
      ]
     },
     "execution_count": 46,
     "metadata": {},
     "output_type": "execute_result"
    }
   ],
   "source": [
    "churn_mobile.limit(5).toPandas()"
   ]
  },
  {
   "cell_type": "code",
   "execution_count": null,
   "metadata": {},
   "outputs": [],
   "source": []
  },
  {
   "cell_type": "code",
   "execution_count": null,
   "metadata": {},
   "outputs": [],
   "source": []
  },
  {
   "cell_type": "code",
   "execution_count": null,
   "metadata": {},
   "outputs": [],
   "source": []
  },
  {
   "cell_type": "code",
   "execution_count": 24,
   "metadata": {},
   "outputs": [
    {
     "data": {
      "text/plain": [
       "3204105"
      ]
     },
     "execution_count": 24,
     "metadata": {},
     "output_type": "execute_result"
    }
   ],
   "source": [
    "churn_competitor.count()"
   ]
  },
  {
   "cell_type": "code",
   "execution_count": 37,
   "metadata": {},
   "outputs": [
    {
     "data": {
      "text/html": [
       "<div>\n",
       "<style scoped>\n",
       "    .dataframe tbody tr th:only-of-type {\n",
       "        vertical-align: middle;\n",
       "    }\n",
       "\n",
       "    .dataframe tbody tr th {\n",
       "        vertical-align: top;\n",
       "    }\n",
       "\n",
       "    .dataframe thead th {\n",
       "        text-align: right;\n",
       "    }\n",
       "</style>\n",
       "<table border=\"1\" class=\"dataframe\">\n",
       "  <thead>\n",
       "    <tr style=\"text-align: right;\">\n",
       "      <th></th>\n",
       "      <th>nif</th>\n",
       "      <th>model_output</th>\n",
       "      <th>scoring</th>\n",
       "      <th>prediction</th>\n",
       "      <th>extra_info</th>\n",
       "      <th>time</th>\n",
       "      <th>executed_at</th>\n",
       "      <th>model_executed_at</th>\n",
       "      <th>predict_closing_date</th>\n",
       "      <th>msisdn</th>\n",
       "      <th>client_id</th>\n",
       "      <th>longitud</th>\n",
       "    </tr>\n",
       "  </thead>\n",
       "  <tbody>\n",
       "    <tr>\n",
       "      <th>0</th>\n",
       "      <td>38927700N</td>\n",
       "      <td>xsell_tv</td>\n",
       "      <td>0.047828</td>\n",
       "      <td>None</td>\n",
       "      <td>decil=1</td>\n",
       "      <td>None</td>\n",
       "      <td>None</td>\n",
       "      <td>None</td>\n",
       "      <td>None</td>\n",
       "      <td>None</td>\n",
       "      <td>None</td>\n",
       "      <td>9</td>\n",
       "    </tr>\n",
       "    <tr>\n",
       "      <th>1</th>\n",
       "      <td>68938230O</td>\n",
       "      <td>xsell_tv</td>\n",
       "      <td>0.047966</td>\n",
       "      <td>None</td>\n",
       "      <td>decil=1</td>\n",
       "      <td>None</td>\n",
       "      <td>None</td>\n",
       "      <td>None</td>\n",
       "      <td>None</td>\n",
       "      <td>None</td>\n",
       "      <td>None</td>\n",
       "      <td>9</td>\n",
       "    </tr>\n",
       "    <tr>\n",
       "      <th>2</th>\n",
       "      <td>29491419K</td>\n",
       "      <td>xsell_tv</td>\n",
       "      <td>0.048014</td>\n",
       "      <td>None</td>\n",
       "      <td>decil=1</td>\n",
       "      <td>None</td>\n",
       "      <td>None</td>\n",
       "      <td>None</td>\n",
       "      <td>None</td>\n",
       "      <td>None</td>\n",
       "      <td>None</td>\n",
       "      <td>9</td>\n",
       "    </tr>\n",
       "    <tr>\n",
       "      <th>3</th>\n",
       "      <td>69873354D</td>\n",
       "      <td>xsell_tv</td>\n",
       "      <td>0.048036</td>\n",
       "      <td>None</td>\n",
       "      <td>decil=1</td>\n",
       "      <td>None</td>\n",
       "      <td>None</td>\n",
       "      <td>None</td>\n",
       "      <td>None</td>\n",
       "      <td>None</td>\n",
       "      <td>None</td>\n",
       "      <td>9</td>\n",
       "    </tr>\n",
       "    <tr>\n",
       "      <th>4</th>\n",
       "      <td>45278035M</td>\n",
       "      <td>xsell_tv</td>\n",
       "      <td>0.048267</td>\n",
       "      <td>None</td>\n",
       "      <td>decil=1</td>\n",
       "      <td>None</td>\n",
       "      <td>None</td>\n",
       "      <td>None</td>\n",
       "      <td>None</td>\n",
       "      <td>None</td>\n",
       "      <td>None</td>\n",
       "      <td>9</td>\n",
       "    </tr>\n",
       "  </tbody>\n",
       "</table>\n",
       "</div>"
      ],
      "text/plain": [
       "         nif model_output   scoring prediction extra_info  time executed_at  \\\n",
       "0  38927700N     xsell_tv  0.047828       None    decil=1  None        None   \n",
       "1  68938230O     xsell_tv  0.047966       None    decil=1  None        None   \n",
       "2  29491419K     xsell_tv  0.048014       None    decil=1  None        None   \n",
       "3  69873354D     xsell_tv  0.048036       None    decil=1  None        None   \n",
       "4  45278035M     xsell_tv  0.048267       None    decil=1  None        None   \n",
       "\n",
       "  model_executed_at predict_closing_date msisdn client_id  longitud  \n",
       "0              None                 None   None      None         9  \n",
       "1              None                 None   None      None         9  \n",
       "2              None                 None   None      None         9  \n",
       "3              None                 None   None      None         9  \n",
       "4              None                 None   None      None         9  "
      ]
     },
     "execution_count": 37,
     "metadata": {},
     "output_type": "execute_result"
    }
   ],
   "source": [
    "churn_mobile.limit(5).toPandas()"
   ]
  },
  {
   "cell_type": "code",
   "execution_count": 6,
   "metadata": {},
   "outputs": [],
   "source": [
    "churn_fbb=spark.read.load('/data/attributes/vf_es/model_outputs/model_scores/model_name=churn_fbb/year=2020/month=6/day=26')"
   ]
  },
  {
   "cell_type": "code",
   "execution_count": 22,
   "metadata": {},
   "outputs": [
    {
     "data": {
      "text/plain": [
       "1835789"
      ]
     },
     "execution_count": 22,
     "metadata": {},
     "output_type": "execute_result"
    }
   ],
   "source": [
    "churn_fbb.count()"
   ]
  },
  {
   "cell_type": "code",
   "execution_count": 23,
   "metadata": {},
   "outputs": [
    {
     "data": {
      "text/html": [
       "<div>\n",
       "<style scoped>\n",
       "    .dataframe tbody tr th:only-of-type {\n",
       "        vertical-align: middle;\n",
       "    }\n",
       "\n",
       "    .dataframe tbody tr th {\n",
       "        vertical-align: top;\n",
       "    }\n",
       "\n",
       "    .dataframe thead th {\n",
       "        text-align: right;\n",
       "    }\n",
       "</style>\n",
       "<table border=\"1\" class=\"dataframe\">\n",
       "  <thead>\n",
       "    <tr style=\"text-align: right;\">\n",
       "      <th></th>\n",
       "      <th>executed_at</th>\n",
       "      <th>model_executed_at</th>\n",
       "      <th>predict_closing_date</th>\n",
       "      <th>msisdn</th>\n",
       "      <th>client_id</th>\n",
       "      <th>nif</th>\n",
       "      <th>model_output</th>\n",
       "      <th>scoring</th>\n",
       "      <th>prediction</th>\n",
       "      <th>extra_info</th>\n",
       "      <th>time</th>\n",
       "    </tr>\n",
       "  </thead>\n",
       "  <tbody>\n",
       "    <tr>\n",
       "      <th>0</th>\n",
       "      <td>2020-06-29 11:59:12</td>\n",
       "      <td>2020-06-29 11:59:12</td>\n",
       "      <td>20200614</td>\n",
       "      <td></td>\n",
       "      <td>995676445</td>\n",
       "      <td></td>\n",
       "      <td></td>\n",
       "      <td>0.146809</td>\n",
       "      <td></td>\n",
       "      <td>decil=0;flag_propension=0;bound=hard</td>\n",
       "      <td>115912</td>\n",
       "    </tr>\n",
       "    <tr>\n",
       "      <th>1</th>\n",
       "      <td>2020-06-29 11:59:12</td>\n",
       "      <td>2020-06-29 11:59:12</td>\n",
       "      <td>20200614</td>\n",
       "      <td></td>\n",
       "      <td>656325336</td>\n",
       "      <td></td>\n",
       "      <td></td>\n",
       "      <td>0.146809</td>\n",
       "      <td></td>\n",
       "      <td>decil=0;flag_propension=0;bound=hard</td>\n",
       "      <td>115912</td>\n",
       "    </tr>\n",
       "    <tr>\n",
       "      <th>2</th>\n",
       "      <td>2020-06-29 11:59:12</td>\n",
       "      <td>2020-06-29 11:59:12</td>\n",
       "      <td>20200614</td>\n",
       "      <td></td>\n",
       "      <td>337609814</td>\n",
       "      <td></td>\n",
       "      <td></td>\n",
       "      <td>0.146809</td>\n",
       "      <td></td>\n",
       "      <td>decil=0;flag_propension=0;bound=hard</td>\n",
       "      <td>115912</td>\n",
       "    </tr>\n",
       "    <tr>\n",
       "      <th>3</th>\n",
       "      <td>2020-06-29 11:59:12</td>\n",
       "      <td>2020-06-29 11:59:12</td>\n",
       "      <td>20200614</td>\n",
       "      <td></td>\n",
       "      <td>265072726</td>\n",
       "      <td></td>\n",
       "      <td></td>\n",
       "      <td>0.146809</td>\n",
       "      <td></td>\n",
       "      <td>decil=0;flag_propension=0;bound=hard</td>\n",
       "      <td>115912</td>\n",
       "    </tr>\n",
       "    <tr>\n",
       "      <th>4</th>\n",
       "      <td>2020-06-29 11:59:12</td>\n",
       "      <td>2020-06-29 11:59:12</td>\n",
       "      <td>20200614</td>\n",
       "      <td></td>\n",
       "      <td>942410385</td>\n",
       "      <td></td>\n",
       "      <td></td>\n",
       "      <td>0.146809</td>\n",
       "      <td></td>\n",
       "      <td>decil=0;flag_propension=0;bound=hard</td>\n",
       "      <td>115912</td>\n",
       "    </tr>\n",
       "  </tbody>\n",
       "</table>\n",
       "</div>"
      ],
      "text/plain": [
       "           executed_at    model_executed_at predict_closing_date msisdn  \\\n",
       "0  2020-06-29 11:59:12  2020-06-29 11:59:12             20200614          \n",
       "1  2020-06-29 11:59:12  2020-06-29 11:59:12             20200614          \n",
       "2  2020-06-29 11:59:12  2020-06-29 11:59:12             20200614          \n",
       "3  2020-06-29 11:59:12  2020-06-29 11:59:12             20200614          \n",
       "4  2020-06-29 11:59:12  2020-06-29 11:59:12             20200614          \n",
       "\n",
       "   client_id nif model_output   scoring prediction  \\\n",
       "0  995676445                   0.146809              \n",
       "1  656325336                   0.146809              \n",
       "2  337609814                   0.146809              \n",
       "3  265072726                   0.146809              \n",
       "4  942410385                   0.146809              \n",
       "\n",
       "                             extra_info    time  \n",
       "0  decil=0;flag_propension=0;bound=hard  115912  \n",
       "1  decil=0;flag_propension=0;bound=hard  115912  \n",
       "2  decil=0;flag_propension=0;bound=hard  115912  \n",
       "3  decil=0;flag_propension=0;bound=hard  115912  \n",
       "4  decil=0;flag_propension=0;bound=hard  115912  "
      ]
     },
     "execution_count": 23,
     "metadata": {},
     "output_type": "execute_result"
    }
   ],
   "source": [
    "churn_fbb.limit(5).toPandas()"
   ]
  },
  {
   "cell_type": "code",
   "execution_count": 7,
   "metadata": {},
   "outputs": [],
   "source": [
    "churn_score_nif=spark.read.load('/data/attributes/vf_es/model_outputs/model_scores/model_name=churn_score_nif/year=2020/month=6/day=26')"
   ]
  },
  {
   "cell_type": "code",
   "execution_count": 20,
   "metadata": {},
   "outputs": [
    {
     "data": {
      "text/plain": [
       "3047071"
      ]
     },
     "execution_count": 20,
     "metadata": {},
     "output_type": "execute_result"
    }
   ],
   "source": [
    "churn_score_nif.count()"
   ]
  },
  {
   "cell_type": "code",
   "execution_count": 21,
   "metadata": {},
   "outputs": [
    {
     "data": {
      "text/html": [
       "<div>\n",
       "<style scoped>\n",
       "    .dataframe tbody tr th:only-of-type {\n",
       "        vertical-align: middle;\n",
       "    }\n",
       "\n",
       "    .dataframe tbody tr th {\n",
       "        vertical-align: top;\n",
       "    }\n",
       "\n",
       "    .dataframe thead th {\n",
       "        text-align: right;\n",
       "    }\n",
       "</style>\n",
       "<table border=\"1\" class=\"dataframe\">\n",
       "  <thead>\n",
       "    <tr style=\"text-align: right;\">\n",
       "      <th></th>\n",
       "      <th>executed_at</th>\n",
       "      <th>model_executed_at</th>\n",
       "      <th>predict_closing_date</th>\n",
       "      <th>msisdn</th>\n",
       "      <th>client_id</th>\n",
       "      <th>nif</th>\n",
       "      <th>model_output</th>\n",
       "      <th>scoring</th>\n",
       "      <th>prediction</th>\n",
       "      <th>extra_info</th>\n",
       "      <th>time</th>\n",
       "    </tr>\n",
       "  </thead>\n",
       "  <tbody>\n",
       "    <tr>\n",
       "      <th>0</th>\n",
       "      <td>2020-06-29 13:38:24</td>\n",
       "      <td>2020-06-29 13:38:24</td>\n",
       "      <td>20200614</td>\n",
       "      <td></td>\n",
       "      <td></td>\n",
       "      <td>14660332W</td>\n",
       "      <td></td>\n",
       "      <td>0.567222</td>\n",
       "      <td></td>\n",
       "      <td>decil=0;flag_propension=0;bound=none;Risk=Mobile</td>\n",
       "      <td>133824</td>\n",
       "    </tr>\n",
       "    <tr>\n",
       "      <th>1</th>\n",
       "      <td>2020-06-29 13:38:24</td>\n",
       "      <td>2020-06-29 13:38:24</td>\n",
       "      <td>20200614</td>\n",
       "      <td></td>\n",
       "      <td></td>\n",
       "      <td>24434707P</td>\n",
       "      <td></td>\n",
       "      <td>0.567222</td>\n",
       "      <td></td>\n",
       "      <td>decil=0;flag_propension=0;bound=none;Risk=FBB</td>\n",
       "      <td>133824</td>\n",
       "    </tr>\n",
       "    <tr>\n",
       "      <th>2</th>\n",
       "      <td>2020-06-29 13:38:24</td>\n",
       "      <td>2020-06-29 13:38:24</td>\n",
       "      <td>20200614</td>\n",
       "      <td></td>\n",
       "      <td></td>\n",
       "      <td>48741156Z</td>\n",
       "      <td></td>\n",
       "      <td>0.567222</td>\n",
       "      <td></td>\n",
       "      <td>decil=0;flag_propension=0;bound=none;Risk=FBB</td>\n",
       "      <td>133824</td>\n",
       "    </tr>\n",
       "    <tr>\n",
       "      <th>3</th>\n",
       "      <td>2020-06-29 13:38:24</td>\n",
       "      <td>2020-06-29 13:38:24</td>\n",
       "      <td>20200614</td>\n",
       "      <td></td>\n",
       "      <td></td>\n",
       "      <td>30828261P</td>\n",
       "      <td></td>\n",
       "      <td>0.567222</td>\n",
       "      <td></td>\n",
       "      <td>decil=0;flag_propension=0;bound=none;Risk=FBB</td>\n",
       "      <td>133824</td>\n",
       "    </tr>\n",
       "    <tr>\n",
       "      <th>4</th>\n",
       "      <td>2020-06-29 13:38:24</td>\n",
       "      <td>2020-06-29 13:38:24</td>\n",
       "      <td>20200614</td>\n",
       "      <td></td>\n",
       "      <td></td>\n",
       "      <td>53132833A</td>\n",
       "      <td></td>\n",
       "      <td>0.567222</td>\n",
       "      <td></td>\n",
       "      <td>decil=0;flag_propension=0;bound=none;Risk=FBB</td>\n",
       "      <td>133824</td>\n",
       "    </tr>\n",
       "  </tbody>\n",
       "</table>\n",
       "</div>"
      ],
      "text/plain": [
       "           executed_at    model_executed_at predict_closing_date msisdn  \\\n",
       "0  2020-06-29 13:38:24  2020-06-29 13:38:24             20200614          \n",
       "1  2020-06-29 13:38:24  2020-06-29 13:38:24             20200614          \n",
       "2  2020-06-29 13:38:24  2020-06-29 13:38:24             20200614          \n",
       "3  2020-06-29 13:38:24  2020-06-29 13:38:24             20200614          \n",
       "4  2020-06-29 13:38:24  2020-06-29 13:38:24             20200614          \n",
       "\n",
       "  client_id        nif model_output   scoring prediction  \\\n",
       "0            14660332W               0.567222              \n",
       "1            24434707P               0.567222              \n",
       "2            48741156Z               0.567222              \n",
       "3            30828261P               0.567222              \n",
       "4            53132833A               0.567222              \n",
       "\n",
       "                                         extra_info    time  \n",
       "0  decil=0;flag_propension=0;bound=none;Risk=Mobile  133824  \n",
       "1     decil=0;flag_propension=0;bound=none;Risk=FBB  133824  \n",
       "2     decil=0;flag_propension=0;bound=none;Risk=FBB  133824  \n",
       "3     decil=0;flag_propension=0;bound=none;Risk=FBB  133824  \n",
       "4     decil=0;flag_propension=0;bound=none;Risk=FBB  133824  "
      ]
     },
     "execution_count": 21,
     "metadata": {},
     "output_type": "execute_result"
    }
   ],
   "source": [
    "churn_score_nif.limit(5).toPandas()"
   ]
  },
  {
   "cell_type": "code",
   "execution_count": 9,
   "metadata": {},
   "outputs": [],
   "source": [
    "early_inactivity1=spark.read.load('/data/attributes/vf_es/model_outputs/model_scores/model_name=prepaid_early_inactivity_pega/year=2020/month=6/day=26')\n",
    "early_inactivity2=spark.read.load('/data/attributes/vf_es/model_outputs/model_scores/model_name=prepaid_early_inactivity_pega/year=2020/month=6/day=29')\n",
    "early_inactivity3=spark.read.load('/data/attributes/vf_es/model_outputs/model_scores/model_name=prepaid_early_inactivity_pega/year=2020/month=6/day=30')"
   ]
  },
  {
   "cell_type": "code",
   "execution_count": 18,
   "metadata": {},
   "outputs": [
    {
     "data": {
      "text/plain": [
       "171"
      ]
     },
     "execution_count": 18,
     "metadata": {},
     "output_type": "execute_result"
    }
   ],
   "source": [
    "early_inactivity3.count()"
   ]
  },
  {
   "cell_type": "code",
   "execution_count": 19,
   "metadata": {},
   "outputs": [
    {
     "data": {
      "text/html": [
       "<div>\n",
       "<style scoped>\n",
       "    .dataframe tbody tr th:only-of-type {\n",
       "        vertical-align: middle;\n",
       "    }\n",
       "\n",
       "    .dataframe tbody tr th {\n",
       "        vertical-align: top;\n",
       "    }\n",
       "\n",
       "    .dataframe thead th {\n",
       "        text-align: right;\n",
       "    }\n",
       "</style>\n",
       "<table border=\"1\" class=\"dataframe\">\n",
       "  <thead>\n",
       "    <tr style=\"text-align: right;\">\n",
       "      <th></th>\n",
       "      <th>executed_at</th>\n",
       "      <th>model_executed_at</th>\n",
       "      <th>predict_closing_date</th>\n",
       "      <th>msisdn</th>\n",
       "      <th>client_id</th>\n",
       "      <th>nif</th>\n",
       "      <th>model_output</th>\n",
       "      <th>scoring</th>\n",
       "      <th>prediction</th>\n",
       "      <th>extra_info</th>\n",
       "      <th>time</th>\n",
       "    </tr>\n",
       "  </thead>\n",
       "  <tbody>\n",
       "    <tr>\n",
       "      <th>0</th>\n",
       "      <td>2020-06-30 15:50:20</td>\n",
       "      <td>2020-06-30 15:50:20</td>\n",
       "      <td>20200630</td>\n",
       "      <td>643616136</td>\n",
       "      <td>NaN</td>\n",
       "      <td>NaN</td>\n",
       "      <td>NaN</td>\n",
       "      <td>0.028020</td>\n",
       "      <td>0.0</td>\n",
       "      <td>NaN</td>\n",
       "      <td>155020</td>\n",
       "    </tr>\n",
       "    <tr>\n",
       "      <th>1</th>\n",
       "      <td>2020-06-30 15:50:20</td>\n",
       "      <td>2020-06-30 15:50:20</td>\n",
       "      <td>20200630</td>\n",
       "      <td>679426558</td>\n",
       "      <td>NaN</td>\n",
       "      <td>NaN</td>\n",
       "      <td>NaN</td>\n",
       "      <td>0.034209</td>\n",
       "      <td>0.0</td>\n",
       "      <td>NaN</td>\n",
       "      <td>155020</td>\n",
       "    </tr>\n",
       "    <tr>\n",
       "      <th>2</th>\n",
       "      <td>2020-06-30 15:50:20</td>\n",
       "      <td>2020-06-30 15:50:20</td>\n",
       "      <td>20200630</td>\n",
       "      <td>612905003</td>\n",
       "      <td>NaN</td>\n",
       "      <td>NaN</td>\n",
       "      <td>NaN</td>\n",
       "      <td>0.040760</td>\n",
       "      <td>0.0</td>\n",
       "      <td>NaN</td>\n",
       "      <td>155020</td>\n",
       "    </tr>\n",
       "    <tr>\n",
       "      <th>3</th>\n",
       "      <td>2020-06-30 15:50:20</td>\n",
       "      <td>2020-06-30 15:50:20</td>\n",
       "      <td>20200630</td>\n",
       "      <td>614558365</td>\n",
       "      <td>NaN</td>\n",
       "      <td>NaN</td>\n",
       "      <td>NaN</td>\n",
       "      <td>0.081212</td>\n",
       "      <td>0.0</td>\n",
       "      <td>NaN</td>\n",
       "      <td>155020</td>\n",
       "    </tr>\n",
       "    <tr>\n",
       "      <th>4</th>\n",
       "      <td>2020-06-30 15:50:20</td>\n",
       "      <td>2020-06-30 15:50:20</td>\n",
       "      <td>20200630</td>\n",
       "      <td>637233187</td>\n",
       "      <td>NaN</td>\n",
       "      <td>NaN</td>\n",
       "      <td>NaN</td>\n",
       "      <td>0.082665</td>\n",
       "      <td>0.0</td>\n",
       "      <td>NaN</td>\n",
       "      <td>155020</td>\n",
       "    </tr>\n",
       "  </tbody>\n",
       "</table>\n",
       "</div>"
      ],
      "text/plain": [
       "           executed_at    model_executed_at predict_closing_date     msisdn  \\\n",
       "0  2020-06-30 15:50:20  2020-06-30 15:50:20             20200630  643616136   \n",
       "1  2020-06-30 15:50:20  2020-06-30 15:50:20             20200630  679426558   \n",
       "2  2020-06-30 15:50:20  2020-06-30 15:50:20             20200630  612905003   \n",
       "3  2020-06-30 15:50:20  2020-06-30 15:50:20             20200630  614558365   \n",
       "4  2020-06-30 15:50:20  2020-06-30 15:50:20             20200630  637233187   \n",
       "\n",
       "  client_id  nif model_output   scoring prediction extra_info    time  \n",
       "0       NaN  NaN          NaN  0.028020        0.0        NaN  155020  \n",
       "1       NaN  NaN          NaN  0.034209        0.0        NaN  155020  \n",
       "2       NaN  NaN          NaN  0.040760        0.0        NaN  155020  \n",
       "3       NaN  NaN          NaN  0.081212        0.0        NaN  155020  \n",
       "4       NaN  NaN          NaN  0.082665        0.0        NaN  155020  "
      ]
     },
     "execution_count": 19,
     "metadata": {},
     "output_type": "execute_result"
    }
   ],
   "source": [
    "early_inactivity3.limit(5).toPandas()"
   ]
  },
  {
   "cell_type": "code",
   "execution_count": 10,
   "metadata": {},
   "outputs": [],
   "source": [
    "age_prediction=spark.read.load('/data/attributes/vf_es/model_outputs/model_scores/model_name=age_prediction/year=2020/month=6/day=0')"
   ]
  },
  {
   "cell_type": "code",
   "execution_count": 12,
   "metadata": {},
   "outputs": [
    {
     "data": {
      "text/plain": [
       "4594129"
      ]
     },
     "execution_count": 12,
     "metadata": {},
     "output_type": "execute_result"
    }
   ],
   "source": [
    "age_prediction.count()"
   ]
  },
  {
   "cell_type": "code",
   "execution_count": 13,
   "metadata": {},
   "outputs": [
    {
     "data": {
      "text/html": [
       "<div>\n",
       "<style scoped>\n",
       "    .dataframe tbody tr th:only-of-type {\n",
       "        vertical-align: middle;\n",
       "    }\n",
       "\n",
       "    .dataframe tbody tr th {\n",
       "        vertical-align: top;\n",
       "    }\n",
       "\n",
       "    .dataframe thead th {\n",
       "        text-align: right;\n",
       "    }\n",
       "</style>\n",
       "<table border=\"1\" class=\"dataframe\">\n",
       "  <thead>\n",
       "    <tr style=\"text-align: right;\">\n",
       "      <th></th>\n",
       "      <th>executed_at</th>\n",
       "      <th>model_executed_at</th>\n",
       "      <th>predict_closing_date</th>\n",
       "      <th>msisdn</th>\n",
       "      <th>client_id</th>\n",
       "      <th>nif</th>\n",
       "      <th>model_output</th>\n",
       "      <th>scoring</th>\n",
       "      <th>prediction</th>\n",
       "      <th>extra_info</th>\n",
       "      <th>time</th>\n",
       "    </tr>\n",
       "  </thead>\n",
       "  <tbody>\n",
       "    <tr>\n",
       "      <th>0</th>\n",
       "      <td>2020-06-26 17:32:44</td>\n",
       "      <td>2020-06-26 17:32:44</td>\n",
       "      <td>20200614</td>\n",
       "      <td>600000229</td>\n",
       "      <td>None</td>\n",
       "      <td>None</td>\n",
       "      <td>2</td>\n",
       "      <td>NaN</td>\n",
       "      <td>Older than 30</td>\n",
       "      <td>None</td>\n",
       "      <td>173244</td>\n",
       "    </tr>\n",
       "    <tr>\n",
       "      <th>1</th>\n",
       "      <td>2020-06-26 17:32:44</td>\n",
       "      <td>2020-06-26 17:32:44</td>\n",
       "      <td>20200614</td>\n",
       "      <td>600007274</td>\n",
       "      <td>None</td>\n",
       "      <td>None</td>\n",
       "      <td>2</td>\n",
       "      <td>NaN</td>\n",
       "      <td>Older than 30</td>\n",
       "      <td>None</td>\n",
       "      <td>173244</td>\n",
       "    </tr>\n",
       "    <tr>\n",
       "      <th>2</th>\n",
       "      <td>2020-06-26 17:32:44</td>\n",
       "      <td>2020-06-26 17:32:44</td>\n",
       "      <td>20200614</td>\n",
       "      <td>600007642</td>\n",
       "      <td>None</td>\n",
       "      <td>None</td>\n",
       "      <td>1</td>\n",
       "      <td>NaN</td>\n",
       "      <td>Between 25 and 30</td>\n",
       "      <td>None</td>\n",
       "      <td>173244</td>\n",
       "    </tr>\n",
       "    <tr>\n",
       "      <th>3</th>\n",
       "      <td>2020-06-26 17:32:44</td>\n",
       "      <td>2020-06-26 17:32:44</td>\n",
       "      <td>20200614</td>\n",
       "      <td>600007818</td>\n",
       "      <td>None</td>\n",
       "      <td>None</td>\n",
       "      <td>2</td>\n",
       "      <td>NaN</td>\n",
       "      <td>Older than 30</td>\n",
       "      <td>None</td>\n",
       "      <td>173244</td>\n",
       "    </tr>\n",
       "    <tr>\n",
       "      <th>4</th>\n",
       "      <td>2020-06-26 17:32:44</td>\n",
       "      <td>2020-06-26 17:32:44</td>\n",
       "      <td>20200614</td>\n",
       "      <td>600009853</td>\n",
       "      <td>None</td>\n",
       "      <td>None</td>\n",
       "      <td>2</td>\n",
       "      <td>NaN</td>\n",
       "      <td>Older than 30</td>\n",
       "      <td>None</td>\n",
       "      <td>173244</td>\n",
       "    </tr>\n",
       "  </tbody>\n",
       "</table>\n",
       "</div>"
      ],
      "text/plain": [
       "           executed_at    model_executed_at predict_closing_date     msisdn  \\\n",
       "0  2020-06-26 17:32:44  2020-06-26 17:32:44             20200614  600000229   \n",
       "1  2020-06-26 17:32:44  2020-06-26 17:32:44             20200614  600007274   \n",
       "2  2020-06-26 17:32:44  2020-06-26 17:32:44             20200614  600007642   \n",
       "3  2020-06-26 17:32:44  2020-06-26 17:32:44             20200614  600007818   \n",
       "4  2020-06-26 17:32:44  2020-06-26 17:32:44             20200614  600009853   \n",
       "\n",
       "  client_id   nif model_output  scoring         prediction extra_info    time  \n",
       "0      None  None            2      NaN      Older than 30       None  173244  \n",
       "1      None  None            2      NaN      Older than 30       None  173244  \n",
       "2      None  None            1      NaN  Between 25 and 30       None  173244  \n",
       "3      None  None            2      NaN      Older than 30       None  173244  \n",
       "4      None  None            2      NaN      Older than 30       None  173244  "
      ]
     },
     "execution_count": 13,
     "metadata": {},
     "output_type": "execute_result"
    }
   ],
   "source": [
    "age_prediction.limit(5).toPandas()"
   ]
  },
  {
   "cell_type": "markdown",
   "metadata": {},
   "source": [
    "## Portouts"
   ]
  },
  {
   "cell_type": "markdown",
   "metadata": {},
   "source": [
    "-Monitorizar volumenes: masmovil, movistar, orange, others, Jazztel dentro de others (para diferentes fechas): Sept, Oct, Nov, Dic, Enero"
   ]
  },
  {
   "cell_type": "code",
   "execution_count": 4,
   "metadata": {},
   "outputs": [],
   "source": [
    "from churn_nrt.src.data.sopos_dxs import MobPort\n",
    "\n",
    "from pyspark.sql import functions as f\n",
    "from pyspark.sql import functions as F\n",
    "from churn_nrt.src.data.customer_base import CustomerBase\n",
    "from churn_nrt.src.utils.date_functions import (\n",
    "    get_last_day_of_month,\n",
    "    move_date_n_yearmonths)\n",
    "\n"
   ]
  },
  {
   "cell_type": "code",
   "execution_count": 8,
   "metadata": {},
   "outputs": [],
   "source": [
    "dates=['20190831','20190930','20191031','20191130','20191231','20200131']"
   ]
  },
  {
   "cell_type": "code",
   "execution_count": 9,
   "metadata": {},
   "outputs": [
    {
     "name": "stdout",
     "output_type": "stream",
     "text": [
      "[DataTemplate] __init__ | module name = mob_port/30 | path = /data/udf/vf_es/churn_nrt/mob_port/30 | verbose = True\n",
      "[DataTemplate] get_module | module mob_port/30 - for closing_day=20190831 save=False save_others=False force_gen=True\n",
      "[DataTemplate] get_module | args: () | kwargs: {}\n",
      "[MobPort] check_valid_params | Params ok\n",
      "[DataTemplate] get_module | Module will be generated since force_gen parameter was set to True. \n",
      "[MobPort] check_valid_params | Params ok\n",
      "[Info get_mobile_portout_requests] - Port-out requests for mobile services during period 20190831-20190930: 180968\n",
      "[DataTemplate] get_module | module 'mob_port/30' | Elapsed time in build_module function: 1.06874041557 minutes\n",
      "[DataTemplate] get_module | module 'mob_port/30' | Module will not be saved (save=False and is_default_module()=True)\n",
      "[DataTemplate] __init__ | module name = mob_port/30 | path = /data/udf/vf_es/churn_nrt/mob_port/30 | verbose = True\n",
      "[DataTemplate] get_module | module mob_port/30 - for closing_day=20190930 save=False save_others=False force_gen=True\n",
      "[DataTemplate] get_module | args: () | kwargs: {}\n",
      "[MobPort] check_valid_params | Params ok\n",
      "[DataTemplate] get_module | Module will be generated since force_gen parameter was set to True. An existing module in path will be ignored\n",
      "[MobPort] check_valid_params | Params ok\n",
      "[Info get_mobile_portout_requests] - Port-out requests for mobile services during period 20190930-20191030: 189068\n",
      "[DataTemplate] get_module | module 'mob_port/30' | Elapsed time in build_module function: 0.246578315894 minutes\n",
      "[DataTemplate] get_module | module 'mob_port/30' | Module will not be saved (save=False and is_default_module()=True)\n",
      "[DataTemplate] __init__ | module name = mob_port/30 | path = /data/udf/vf_es/churn_nrt/mob_port/30 | verbose = True\n",
      "[DataTemplate] get_module | module mob_port/30 - for closing_day=20191031 save=False save_others=False force_gen=True\n",
      "[DataTemplate] get_module | args: () | kwargs: {}\n",
      "[MobPort] check_valid_params | Params ok\n",
      "[DataTemplate] get_module | Module will be generated since force_gen parameter was set to True. \n",
      "[MobPort] check_valid_params | Params ok\n",
      "[Info get_mobile_portout_requests] - Port-out requests for mobile services during period 20191031-20191130: 179989\n",
      "[DataTemplate] get_module | module 'mob_port/30' | Elapsed time in build_module function: 0.270136066278 minutes\n",
      "[DataTemplate] get_module | module 'mob_port/30' | Module will not be saved (save=False and is_default_module()=True)\n",
      "[DataTemplate] __init__ | module name = mob_port/30 | path = /data/udf/vf_es/churn_nrt/mob_port/30 | verbose = True\n",
      "[DataTemplate] get_module | module mob_port/30 - for closing_day=20191130 save=False save_others=False force_gen=True\n",
      "[DataTemplate] get_module | args: () | kwargs: {}\n",
      "[MobPort] check_valid_params | Params ok\n",
      "[DataTemplate] get_module | Module will be generated since force_gen parameter was set to True. \n",
      "[MobPort] check_valid_params | Params ok\n",
      "[Info get_mobile_portout_requests] - Port-out requests for mobile services during period 20191130-20191230: 151992\n",
      "[DataTemplate] get_module | module 'mob_port/30' | Elapsed time in build_module function: 0.243729718526 minutes\n",
      "[DataTemplate] get_module | module 'mob_port/30' | Module will not be saved (save=False and is_default_module()=True)\n",
      "[DataTemplate] __init__ | module name = mob_port/30 | path = /data/udf/vf_es/churn_nrt/mob_port/30 | verbose = True\n",
      "[DataTemplate] get_module | module mob_port/30 - for closing_day=20191231 save=False save_others=False force_gen=True\n",
      "[DataTemplate] get_module | args: () | kwargs: {}\n",
      "[MobPort] check_valid_params | Params ok\n",
      "[DataTemplate] get_module | Module will be generated since force_gen parameter was set to True. An existing module in path will be ignored\n",
      "[MobPort] check_valid_params | Params ok\n",
      "[Info get_mobile_portout_requests] - Port-out requests for mobile services during period 20191231-20200130: 171252\n",
      "[DataTemplate] get_module | module 'mob_port/30' | Elapsed time in build_module function: 0.241503417492 minutes\n",
      "[DataTemplate] get_module | module 'mob_port/30' | Module will not be saved (save=False and is_default_module()=True)\n"
     ]
    }
   ],
   "source": [
    "#Sin aplicar filtros\n",
    "\n",
    "columns = ['date','masmovil', 'movistar','orange','others']\n",
    "vals = [(0, 0, 0,0,0)]\n",
    "\n",
    "df = spark.createDataFrame(vals, columns)\n",
    "\n",
    "for date in dates:\n",
    "\n",
    "    portab_table = (  # MobPort new\n",
    "                MobPort(spark, churn_window=30)\n",
    "                    .get_module(date, save=False, save_others=False, force_gen=True)\n",
    "                    .select(\"target_operator\")\n",
    "            )  # get portouts of the next 30 days\n",
    "    \n",
    "    \n",
    "    masmovil=portab_table.filter(f.col(\"target_operator\")=='masmovil').count()\n",
    "    movistar=portab_table.filter(f.col(\"target_operator\")=='movistar').count()\n",
    "    orange=portab_table.filter(f.col(\"target_operator\")=='orange').count()\n",
    "    others=portab_table.filter(f.col(\"target_operator\")=='others').count()\n",
    "    \n",
    "    newRow = spark.createDataFrame([(date,masmovil,movistar,orange,others)], columns)\n",
    "    df = df.union(newRow)\n"
   ]
  },
  {
   "cell_type": "code",
   "execution_count": 19,
   "metadata": {},
   "outputs": [],
   "source": [
    "df2 = df2.filter((df2.date != 0.0))"
   ]
  },
  {
   "cell_type": "code",
   "execution_count": 20,
   "metadata": {},
   "outputs": [
    {
     "data": {
      "text/html": [
       "<div>\n",
       "<style scoped>\n",
       "    .dataframe tbody tr th:only-of-type {\n",
       "        vertical-align: middle;\n",
       "    }\n",
       "\n",
       "    .dataframe tbody tr th {\n",
       "        vertical-align: top;\n",
       "    }\n",
       "\n",
       "    .dataframe thead th {\n",
       "        text-align: right;\n",
       "    }\n",
       "</style>\n",
       "<table border=\"1\" class=\"dataframe\">\n",
       "  <thead>\n",
       "    <tr style=\"text-align: right;\">\n",
       "      <th></th>\n",
       "      <th>date</th>\n",
       "      <th>masmovil</th>\n",
       "      <th>movistar</th>\n",
       "      <th>orange</th>\n",
       "      <th>others</th>\n",
       "    </tr>\n",
       "  </thead>\n",
       "  <tbody>\n",
       "    <tr>\n",
       "      <th>0</th>\n",
       "      <td>20190831</td>\n",
       "      <td>23315</td>\n",
       "      <td>35191</td>\n",
       "      <td>21533</td>\n",
       "      <td>23349</td>\n",
       "    </tr>\n",
       "    <tr>\n",
       "      <th>1</th>\n",
       "      <td>20190930</td>\n",
       "      <td>24755</td>\n",
       "      <td>28244</td>\n",
       "      <td>22099</td>\n",
       "      <td>25183</td>\n",
       "    </tr>\n",
       "    <tr>\n",
       "      <th>2</th>\n",
       "      <td>20191031</td>\n",
       "      <td>21395</td>\n",
       "      <td>31291</td>\n",
       "      <td>21997</td>\n",
       "      <td>23980</td>\n",
       "    </tr>\n",
       "    <tr>\n",
       "      <th>3</th>\n",
       "      <td>20191130</td>\n",
       "      <td>21744</td>\n",
       "      <td>24850</td>\n",
       "      <td>20217</td>\n",
       "      <td>18651</td>\n",
       "    </tr>\n",
       "    <tr>\n",
       "      <th>4</th>\n",
       "      <td>20191231</td>\n",
       "      <td>28071</td>\n",
       "      <td>26331</td>\n",
       "      <td>20417</td>\n",
       "      <td>26051</td>\n",
       "    </tr>\n",
       "  </tbody>\n",
       "</table>\n",
       "</div>"
      ],
      "text/plain": [
       "       date  masmovil  movistar  orange  others\n",
       "0  20190831     23315     35191   21533   23349\n",
       "1  20190930     24755     28244   22099   25183\n",
       "2  20191031     21395     31291   21997   23980\n",
       "3  20191130     21744     24850   20217   18651\n",
       "4  20191231     28071     26331   20417   26051"
      ]
     },
     "execution_count": 20,
     "metadata": {},
     "output_type": "execute_result"
    }
   ],
   "source": [
    "df2.toPandas() "
   ]
  },
  {
   "cell_type": "code",
   "execution_count": null,
   "metadata": {},
   "outputs": [],
   "source": [
    "df = df.filter((df.date != 0.0))"
   ]
  },
  {
   "cell_type": "code",
   "execution_count": 5,
   "metadata": {},
   "outputs": [
    {
     "name": "stdout",
     "output_type": "stream",
     "text": [
      "[DataTemplate] __init__ | module name = mob_port/30 | path = /data/udf/vf_es/churn_nrt/mob_port/30 | verbose = True\n",
      "[DataTemplate] get_module | module mob_port/30 - for closing_day=20200131 save=False save_others=False force_gen=True\n",
      "[DataTemplate] get_module | args: () | kwargs: {}\n",
      "[MobPort] check_valid_params | Params ok\n",
      "[DataTemplate] get_module | Module will be generated since force_gen parameter was set to True. An existing module in path will be ignored\n",
      "[MobPort] check_valid_params | Params ok\n",
      "[Info get_mobile_portout_requests] - Port-out requests for mobile services during period 20200131-20200301: 169463\n",
      "[DataTemplate] get_module | module 'mob_port/30' | Elapsed time in build_module function: 0.783414049943 minutes\n",
      "[DataTemplate] get_module | module 'mob_port/30' | Module will not be saved (save=False and is_default_module()=True)\n",
      "[DataTemplate] __init__ | module name = customer_base | path = /data/udf/vf_es/churn_nrt/customer_base | verbose = True\n",
      "[DataTemplate] get_module | module customer_base - for closing_day=20200131 save=False save_others=False force_gen=True\n",
      "[DataTemplate] get_module | args: () | kwargs: {}\n",
      "[CustomerBase] is_default_module | args: () | kwargs: {}\n",
      "[DataTemplate] get_module | Module will be generated since force_gen parameter was set to True. An existing module in path will be ignored\n",
      "[CustomerBase] build_module | closing_day=20200131 force_gen=True add_tgs=True level=nif_cliente\n",
      "[CustomerBase] Get get_customer_base_segment base segment | date 20200131 save_others False level=NIF_CLIENTE\n",
      "[CustomerBase] __get_customer_base date_=20200131 save_others=False add_columns_customer=None\n",
      "[DataTemplate] __init__ | module name = customer | path = /data/udf/vf_es/churn_nrt/customer | verbose = True\n",
      "[DataTemplate] get_module | module customer - for closing_day=20200131 save=False save_others=False force_gen=True\n",
      "[DataTemplate] get_module | args: () | kwargs: {'add_columns': None}\n",
      "[Customer] is_default_module | args: () | kwargs: {'add_columns': None}\n",
      "[DataTemplate] get_module | Module will be generated since force_gen parameter was set to True. An existing module in path will be ignored\n",
      "[Customer] build_module | Requested additional_columns None\n",
      "[DataTemplate] get_module | module 'customer' | Elapsed time in build_module function: 0.305263630549 minutes\n",
      "[DataTemplate] get_module | module 'customer' | Module will not be saved (save=False and is_default_module()=True)\n",
      "[DataTemplate] __init__ | module name = service | path = /data/udf/vf_es/churn_nrt/service | verbose = True\n",
      "[DataTemplate] get_module | module service - for closing_day=20200131 save=False save_others=False force_gen=True\n",
      "[DataTemplate] get_module | args: () | kwargs: {}\n",
      "[DataTemplate] get_module | Module will be generated since force_gen parameter was set to True. An existing module in path will be ignored\n",
      "[DataTemplate] get_module | module 'service' | Elapsed time in build_module function: 0.395522582531 minutes\n",
      "[DataTemplate] get_module | module 'service' | Module will not be saved (save=False and is_default_module()=True)\n",
      "[Metadata] apply_metadata\n",
      "[Metadata] fillna | Nothing to impute with mean\n",
      "[Metadata] fillna | imputing nans in 13 numeric columns\n",
      "[Metadata] fillna | imputing nans in these numeric columns: segment_nif,rgu,cod_estado_general,nb_fixed_services_nif,nb_prepaid_services_nif,nb_fbb_services_nif,nb_bam_services_nif,nb_tv_services_nif,nb_bam_mobile_services_nif,nb_rgus_nif,nb_mobile_services_nif,TARIFF,srv_basic\n",
      "[DataTemplate] get_module | module 'customer_base' | Elapsed time in build_module function: 0.90364796718 minutes\n",
      "[DataTemplate] get_module | module 'customer_base' | Module will not be saved (save=False and is_default_module()=True)\n",
      "[DataTemplate] __init__ | module name = customer_base | path = /data/udf/vf_es/churn_nrt/customer_base | verbose = True\n",
      "[DataTemplate] get_module | module customer_base - for closing_day=20191031 save=False save_others=False force_gen=True\n",
      "[DataTemplate] get_module | args: () | kwargs: {}\n",
      "[CustomerBase] is_default_module | args: () | kwargs: {}\n",
      "[DataTemplate] get_module | Module will be generated since force_gen parameter was set to True. An existing module in path will be ignored\n",
      "[CustomerBase] build_module | closing_day=20191031 force_gen=True add_tgs=True level=nif_cliente\n",
      "[CustomerBase] Get get_customer_base_segment base segment | date 20191031 save_others False level=NIF_CLIENTE\n",
      "[CustomerBase] __get_customer_base date_=20191031 save_others=False add_columns_customer=None\n",
      "[DataTemplate] __init__ | module name = customer | path = /data/udf/vf_es/churn_nrt/customer | verbose = True\n",
      "[DataTemplate] get_module | module customer - for closing_day=20191031 save=False save_others=False force_gen=True\n",
      "[DataTemplate] get_module | args: () | kwargs: {'add_columns': None}\n",
      "[Customer] is_default_module | args: () | kwargs: {'add_columns': None}\n",
      "[DataTemplate] get_module | Module will be generated since force_gen parameter was set to True. An existing module in path will be ignored\n",
      "[Customer] build_module | Requested additional_columns None\n",
      "[DataTemplate] get_module | module 'customer' | Elapsed time in build_module function: 0.597535248597 minutes\n",
      "[DataTemplate] get_module | module 'customer' | Module will not be saved (save=False and is_default_module()=True)\n",
      "[DataTemplate] __init__ | module name = service | path = /data/udf/vf_es/churn_nrt/service | verbose = True\n",
      "[DataTemplate] get_module | module service - for closing_day=20191031 save=False save_others=False force_gen=True\n",
      "[DataTemplate] get_module | args: () | kwargs: {}\n",
      "[DataTemplate] get_module | Module will be generated since force_gen parameter was set to True. An existing module in path will be ignored\n",
      "[DataTemplate] get_module | module 'service' | Elapsed time in build_module function: 0.520124165217 minutes\n",
      "[DataTemplate] get_module | module 'service' | Module will not be saved (save=False and is_default_module()=True)\n",
      "[Metadata] apply_metadata\n",
      "[Metadata] fillna | Nothing to impute with mean\n",
      "[Metadata] fillna | imputing nans in 13 numeric columns\n",
      "[Metadata] fillna | imputing nans in these numeric columns: segment_nif,rgu,cod_estado_general,nb_fixed_services_nif,nb_prepaid_services_nif,nb_fbb_services_nif,nb_bam_services_nif,nb_tv_services_nif,nb_bam_mobile_services_nif,nb_rgus_nif,nb_mobile_services_nif,TARIFF,srv_basic\n",
      "[DataTemplate] get_module | module 'customer_base' | Elapsed time in build_module function: 1.29736071825 minutes\n",
      "[DataTemplate] get_module | module 'customer_base' | Module will not be saved (save=False and is_default_module()=True)\n"
     ]
    }
   ],
   "source": [
    "#Aplicando filtros\n",
    "\n",
    "columns = ['date','masmovil', 'movistar','orange','others']\n",
    "vals = [(0, 0, 0,0,0)]\n",
    "\n",
    "df2 = spark.createDataFrame(vals, columns)\n",
    "\n",
    "for date in dates:\n",
    "\n",
    "    portab_table = (  # MobPort new\n",
    "                MobPort(spark, churn_window=30)\n",
    "                    .get_module(date, save=False, save_others=False, force_gen=True)\n",
    "                    .select(\"msisdn\",\"target_operator\")\n",
    "            )  # get portouts of the next 30 days\n",
    "    \n",
    "    \n",
    "    \n",
    "    cust_base = (\n",
    "        CustomerBase(spark)\n",
    "            .get_module(date, save=False, save_others=False, force_gen=True)\n",
    "            .filter(F.col(\"rgu\") == \"mobile\")\n",
    "            .select(\"msisdn\")\n",
    "    )  # get mobile customer base for training\n",
    "\n",
    "\n",
    "    \n",
    "    \n",
    "    \n",
    "    previous_year_month = move_date_n_yearmonths(\n",
    "        date[0:6], -3\n",
    "    )  # 'YYYYMM' of three months ago\n",
    "\n",
    "    # if the day of the current date is the last day of the month\n",
    "    if (date[6] == \"3\") | (date[6:8] == \"28\") | (date[6:8] == \"29\"):\n",
    "\n",
    "        previous_date = get_last_day_of_month(\n",
    "            previous_year_month + \"01\"\n",
    "        )  # returns last day of three months ago\n",
    "\n",
    "    else:\n",
    "\n",
    "        previous_date = (\n",
    "                previous_year_month + date[6:8]\n",
    "        )  # returns same day of three months ago\n",
    "\n",
    "        \n",
    "    active_customers_three_months = (\n",
    "        CustomerBase(spark)\n",
    "            .get_module(previous_date, save=False, save_others=False, force_gen=True)\n",
    "            .filter(F.col(\"rgu\") == \"mobile\")\n",
    "            .select(\"msisdn\")\n",
    "            .distinct()\n",
    "    )# get mobile clients who were in the base three months ago\n",
    "\n",
    "    # join active customers three months ago with ids\n",
    "    \n",
    "    active_customers = cust_base.join(active_customers_three_months, on=\"msisdn\", how=\"inner\")\n",
    "\n",
    "    \n",
    "    portab_active = active_customers.join(portab_table, on=\"msisdn\", how=\"left\").fillna(\n",
    "            \"none\")  # label customer base: join with portouts and replace NA by 'none' (customers who do not churn)\n",
    "\n",
    "    \n",
    "    masmovil=portab_active.filter(f.col(\"target_operator\")=='masmovil').count()\n",
    "    movistar=portab_active.filter(f.col(\"target_operator\")=='movistar').count()\n",
    "    orange=portab_active.filter(f.col(\"target_operator\")=='orange').count()\n",
    "    others=portab_active.filter(f.col(\"target_operator\")=='others').count()\n",
    "    \n",
    "    newRow = spark.createDataFrame([(date,masmovil,movistar,orange,others)], columns)\n",
    "    df2 = df2.union(newRow)"
   ]
  },
  {
   "cell_type": "code",
   "execution_count": 10,
   "metadata": {},
   "outputs": [],
   "source": [
    "dates=['20190831','20190930','20191031','20191130','20191231','20200131']\n",
    "\n",
    "columns = ['date','masmovil', 'movistar','orange','others']\n",
    "vals = [('20190831',23315,35191,21533,23349),\n",
    "        ('20190930',24755,28244,22099,25183),\n",
    "       ('20191031',21395,31291,21997,23980),\n",
    "       ('20191130',21744,24850,20217,18651),\n",
    "       ('20191231',28071,26331,20417,26051),\n",
    "       ('20200131',28836,26488,17744,25991)]\n",
    "\n",
    "df2 = spark.createDataFrame(vals, columns)"
   ]
  },
  {
   "cell_type": "code",
   "execution_count": 11,
   "metadata": {},
   "outputs": [
    {
     "data": {
      "text/html": [
       "<div>\n",
       "<style scoped>\n",
       "    .dataframe tbody tr th:only-of-type {\n",
       "        vertical-align: middle;\n",
       "    }\n",
       "\n",
       "    .dataframe tbody tr th {\n",
       "        vertical-align: top;\n",
       "    }\n",
       "\n",
       "    .dataframe thead th {\n",
       "        text-align: right;\n",
       "    }\n",
       "</style>\n",
       "<table border=\"1\" class=\"dataframe\">\n",
       "  <thead>\n",
       "    <tr style=\"text-align: right;\">\n",
       "      <th></th>\n",
       "      <th>date</th>\n",
       "      <th>masmovil</th>\n",
       "      <th>movistar</th>\n",
       "      <th>orange</th>\n",
       "      <th>others</th>\n",
       "    </tr>\n",
       "  </thead>\n",
       "  <tbody>\n",
       "    <tr>\n",
       "      <th>0</th>\n",
       "      <td>20190831</td>\n",
       "      <td>23315</td>\n",
       "      <td>35191</td>\n",
       "      <td>21533</td>\n",
       "      <td>23349</td>\n",
       "    </tr>\n",
       "    <tr>\n",
       "      <th>1</th>\n",
       "      <td>20190930</td>\n",
       "      <td>24755</td>\n",
       "      <td>28244</td>\n",
       "      <td>22099</td>\n",
       "      <td>25183</td>\n",
       "    </tr>\n",
       "    <tr>\n",
       "      <th>2</th>\n",
       "      <td>20191031</td>\n",
       "      <td>21395</td>\n",
       "      <td>31291</td>\n",
       "      <td>21997</td>\n",
       "      <td>23980</td>\n",
       "    </tr>\n",
       "    <tr>\n",
       "      <th>3</th>\n",
       "      <td>20191130</td>\n",
       "      <td>21744</td>\n",
       "      <td>24850</td>\n",
       "      <td>20217</td>\n",
       "      <td>18651</td>\n",
       "    </tr>\n",
       "    <tr>\n",
       "      <th>4</th>\n",
       "      <td>20191231</td>\n",
       "      <td>28071</td>\n",
       "      <td>26331</td>\n",
       "      <td>20417</td>\n",
       "      <td>26051</td>\n",
       "    </tr>\n",
       "    <tr>\n",
       "      <th>5</th>\n",
       "      <td>20200131</td>\n",
       "      <td>28836</td>\n",
       "      <td>26488</td>\n",
       "      <td>17744</td>\n",
       "      <td>25991</td>\n",
       "    </tr>\n",
       "  </tbody>\n",
       "</table>\n",
       "</div>"
      ],
      "text/plain": [
       "       date  masmovil  movistar  orange  others\n",
       "0  20190831     23315     35191   21533   23349\n",
       "1  20190930     24755     28244   22099   25183\n",
       "2  20191031     21395     31291   21997   23980\n",
       "3  20191130     21744     24850   20217   18651\n",
       "4  20191231     28071     26331   20417   26051\n",
       "5  20200131     28836     26488   17744   25991"
      ]
     },
     "execution_count": 11,
     "metadata": {},
     "output_type": "execute_result"
    }
   ],
   "source": [
    "df2.toPandas()"
   ]
  },
  {
   "cell_type": "markdown",
   "metadata": {},
   "source": [
    "**Get ids for dropping correlated vars**"
   ]
  },
  {
   "cell_type": "code",
   "execution_count": 4,
   "metadata": {},
   "outputs": [],
   "source": [
    "x=spark.read.load('/data/attributes/vf_es/model_outputs/model_scores/model_name=service_base_segmentation/year=2020/month=6/day=0')"
   ]
  },
  {
   "cell_type": "code",
   "execution_count": null,
   "metadata": {},
   "outputs": [],
   "source": [
    "x.select('extra_info').limit(5).show()"
   ]
  },
  {
   "cell_type": "code",
   "execution_count": null,
   "metadata": {},
   "outputs": [],
   "source": []
  },
  {
   "cell_type": "code",
   "execution_count": 8,
   "metadata": {},
   "outputs": [
    {
     "data": {
      "text/plain": [
       "['executed_at',\n",
       " 'model_executed_at',\n",
       " 'predict_closing_date',\n",
       " 'model_output',\n",
       " 'scoring',\n",
       " 'prediction',\n",
       " 'extra_info',\n",
       " 'time',\n",
       " 'msisdn',\n",
       " 'nif',\n",
       " 'client_id']"
      ]
     },
     "execution_count": 8,
     "metadata": {},
     "output_type": "execute_result"
    }
   ],
   "source": [
    "x.columns"
   ]
  },
  {
   "cell_type": "code",
   "execution_count": null,
   "metadata": {},
   "outputs": [],
   "source": []
  },
  {
   "cell_type": "code",
   "execution_count": null,
   "metadata": {},
   "outputs": [],
   "source": [
    "x.toPandas().to_csv('early_inactivity.csv')"
   ]
  },
  {
   "cell_type": "code",
   "execution_count": null,
   "metadata": {},
   "outputs": [],
   "source": []
  },
  {
   "cell_type": "code",
   "execution_count": null,
   "metadata": {},
   "outputs": [],
   "source": []
  },
  {
   "cell_type": "code",
   "execution_count": null,
   "metadata": {},
   "outputs": [],
   "source": [
    "x.repartition(300).write.save(\n",
    "            '/data/udf/vf_es/churn/churn_competitor_model/v2/multiclase/pred_20191231_production',\n",
    "            format=\"parquet\",\n",
    "            mode=\"overwrite\",\n",
    "        )\n"
   ]
  },
  {
   "cell_type": "code",
   "execution_count": null,
   "metadata": {},
   "outputs": [],
   "source": [
    "x=spark.read.load('/data/udf/vf_es/churn/churn_score_nif/v2/multiclase/pred_20191231_production')"
   ]
  },
  {
   "cell_type": "code",
   "execution_count": null,
   "metadata": {},
   "outputs": [],
   "source": [
    "x.limit(5).toPandas()"
   ]
  },
  {
   "cell_type": "code",
   "execution_count": null,
   "metadata": {},
   "outputs": [],
   "source": [
    "x.count()"
   ]
  },
  {
   "cell_type": "code",
   "execution_count": null,
   "metadata": {},
   "outputs": [],
   "source": [
    "from churn_nrt.src.projects.models.propensity_operators.version2.input_vars_new import *"
   ]
  },
  {
   "cell_type": "code",
   "execution_count": null,
   "metadata": {},
   "outputs": [],
   "source": [
    "numerical = get_num_vars(x)"
   ]
  },
  {
   "cell_type": "code",
   "execution_count": null,
   "metadata": {},
   "outputs": [],
   "source": [
    "x=x.select(numerical)"
   ]
  },
  {
   "cell_type": "code",
   "execution_count": null,
   "metadata": {},
   "outputs": [],
   "source": [
    "x.repartition(1).write.csv('corr_fecha', header=True)"
   ]
  },
  {
   "cell_type": "code",
   "execution_count": null,
   "metadata": {},
   "outputs": [],
   "source": [
    "import pandas as pd\n",
    "\n",
    "feat_imp=pd.read_csv('feat_imp.csv',sep=';')\n",
    "list_var=feat_imp.Variable.tolist()"
   ]
  },
  {
   "cell_type": "markdown",
   "metadata": {},
   "source": [
    "## Get certainity for certain volume"
   ]
  },
  {
   "cell_type": "markdown",
   "metadata": {},
   "source": [
    "Busco el threshold que se correspondería a ese volumen para las predicciones de test, y miro el F1 y accuracy para ese threshold en la tabla que tengo guardada"
   ]
  },
  {
   "cell_type": "code",
   "execution_count": 4,
   "metadata": {},
   "outputs": [],
   "source": [
    "preds=spark.read.load('/data/udf/vf_es/churn/churn_competitor_model/v2/multiclase/pred_test_20200131_certainity')"
   ]
  },
  {
   "cell_type": "code",
   "execution_count": 5,
   "metadata": {},
   "outputs": [],
   "source": [
    "preds=preds.select('certainity_2').orderBy('certainity_2',ascending=True)"
   ]
  },
  {
   "cell_type": "code",
   "execution_count": 6,
   "metadata": {},
   "outputs": [],
   "source": [
    "perc=[0.05,0.1,0.15,0.2,0.25,\n",
    "      0.3,0.35,0.4,0.45,0.5,0.55,\n",
    "      0.6,0.65,0.7,0.75,0.8,0.85,0.90,0.95,1]"
   ]
  },
  {
   "cell_type": "code",
   "execution_count": 7,
   "metadata": {},
   "outputs": [],
   "source": [
    "volume=[]\n",
    "for i in range(0,len(perc)):\n",
    "    x=int(round(5400359*perc[i],0))\n",
    "    volume+=[x]   "
   ]
  },
  {
   "cell_type": "code",
   "execution_count": 8,
   "metadata": {},
   "outputs": [],
   "source": [
    "umbrales=[]\n",
    "\n",
    "for i in range(0,len(volume)):\n",
    "\n",
    "    threshold=preds.limit(volume[i]).collect()[volume[i]-1][0]\n",
    "    umbrales+=[threshold]"
   ]
  },
  {
   "cell_type": "code",
   "execution_count": 9,
   "metadata": {},
   "outputs": [],
   "source": [
    "preds_eval=spark.read.load('/data/udf/vf_es/churn/churn_competitor_model/v2/multiclase/pred_20191231_evaluation')"
   ]
  },
  {
   "cell_type": "code",
   "execution_count": 10,
   "metadata": {},
   "outputs": [],
   "source": [
    "from  pyspark.sql.functions import log\n",
    "\n",
    "preds_eval = preds_eval.withColumn(\"certainity_2\", -(preds_eval[\"prob_array\"].getItem(0)*log(preds_eval[\"prob_array\"].getItem(0))\n",
    "                                          +preds_eval[\"prob_array\"].getItem(1)*log(preds_eval[\"prob_array\"].getItem(1))\n",
    "                                          +preds_eval[\"prob_array\"].getItem(2)*log(preds_eval[\"prob_array\"].getItem(2))\n",
    "                                          +preds_eval[\"prob_array\"].getItem(3)*log(preds_eval[\"prob_array\"].getItem(3)))\n",
    "                        )"
   ]
  },
  {
   "cell_type": "code",
   "execution_count": 11,
   "metadata": {},
   "outputs": [],
   "source": [
    "percentage=[5,10,15,20,25,\n",
    "      30,35,40,45,50,55,\n",
    "      60,65,70,75,80,85,90,95,100]"
   ]
  },
  {
   "cell_type": "code",
   "execution_count": 5,
   "metadata": {},
   "outputs": [],
   "source": [
    "import pandas as pd\n",
    "preds_eval=pd.read_csv('volume_certainity_metrics.csv')"
   ]
  },
  {
   "cell_type": "code",
   "execution_count": 12,
   "metadata": {},
   "outputs": [],
   "source": [
    "pred_pd=preds_eval.toPandas()\n",
    "from sklearn.metrics import f1_score, accuracy_score\n",
    "\n",
    "threshold = umbrales\n",
    "\n",
    "columns = ['% volumen cartera','certainity threshold', 'F1 score','acuracy','accuracy multilabel']\n",
    "vals = [(0, 0, 0,0,0)]\n",
    "\n",
    "df = spark.createDataFrame(vals, columns)\n",
    "\n",
    "for i in range(0,(len(threshold))):\n",
    "\n",
    "    pred=pred_pd[pred_pd['certainity_2']<=threshold[i]]\n",
    "    count=pred.shape[0]\n",
    "    perc_cartera=percentage[i]\n",
    "    accuracy_multi=float(pred[pred['acierto_multilabel']==1].shape[0])/float(count)\n",
    "    accuracy=accuracy_score(pred['label'], pred['prediction'])\n",
    "    f1=f1_score(pred['label'], pred['prediction'], average='weighted')\n",
    "    newRow = spark.createDataFrame([(perc_cartera,threshold[i],f1.item(),accuracy.item(),accuracy_multi)], columns)\n",
    "    df = df.union(newRow)\n",
    "    "
   ]
  },
  {
   "cell_type": "code",
   "execution_count": 13,
   "metadata": {},
   "outputs": [],
   "source": [
    "df=df.filter(col('% volumen cartera')!=0.00)"
   ]
  },
  {
   "cell_type": "code",
   "execution_count": null,
   "metadata": {},
   "outputs": [],
   "source": [
    "df.toPandas()"
   ]
  },
  {
   "cell_type": "markdown",
   "metadata": {},
   "source": [
    "## Gráfico"
   ]
  },
  {
   "cell_type": "code",
   "execution_count": 10,
   "metadata": {},
   "outputs": [],
   "source": [
    "df=preds_eval"
   ]
  },
  {
   "cell_type": "code",
   "execution_count": 14,
   "metadata": {},
   "outputs": [
    {
     "data": {
      "text/plain": [
       "<matplotlib.legend.Legend at 0x7f0d9a02e610>"
      ]
     },
     "execution_count": 14,
     "metadata": {},
     "output_type": "execute_result"
    },
    {
     "data": {
      "image/png": "[encoded data removed]",
      "text/plain": [
       "<Figure size 576x504 with 1 Axes>"
      ]
     },
     "metadata": {},
     "output_type": "display_data"
    }
   ],
   "source": [
    "import matplotlib.pyplot as plt\n",
    "\n",
    "fig,ax = plt.subplots(figsize=(8,7))\n",
    "\n",
    "font={'fontsize':12, 'fontweight': 'bold'}\n",
    "\n",
    "ax.plot(df['% volumen cartera'], df['F1 score'],color='green')\n",
    "ax.plot(df['% volumen cartera'], df['accuracy'],color='blue')\n",
    "plt.axhline(y=0.12, color='orange', linestyle='-')\n",
    "plt.axhline(y=0.28, color='r', linestyle='-')\n",
    "\n",
    "ax.set_ylim([0.0,0.7])\n",
    "\n",
    "ax.set_xlabel(\"% volumen cartera\", fontdict = font)\n",
    "ax.legend(loc='best')"
   ]
  },
  {
   "cell_type": "code",
   "execution_count": 17,
   "metadata": {},
   "outputs": [
    {
     "data": {
      "text/plain": [
       "<matplotlib.legend.Legend at 0x7f9306b0ec10>"
      ]
     },
     "execution_count": 17,
     "metadata": {},
     "output_type": "execute_result"
    },
    {
     "data": {
      "image/png": "[encoded data removed]",
      "text/plain": [
       "<Figure size 576x504 with 1 Axes>"
      ]
     },
     "metadata": {},
     "output_type": "display_data"
    }
   ],
   "source": [
    "import matplotlib.pyplot as plt\n",
    "\n",
    "fig,ax = plt.subplots(figsize=(8,7))\n",
    "\n",
    "font={'fontsize':12, 'fontweight': 'bold'}\n",
    "\n",
    "ax.plot(df.toPandas()['% volumen cartera'], df.toPandas()['accuracy multilabel'],color='blue')\n",
    "plt.axhline(y=0.54, color='o', linestyle='-')\n",
    "\n",
    "\n",
    "ax.set_ylim([0.4,1])\n",
    "\n",
    "ax.set_xlabel(\"% volumen cartera\", fontdict = font)\n",
    "ax.legend(loc='best')"
   ]
  },
  {
   "cell_type": "code",
   "execution_count": null,
   "metadata": {},
   "outputs": [],
   "source": []
  },
  {
   "cell_type": "code",
   "execution_count": null,
   "metadata": {},
   "outputs": [],
   "source": []
  },
  {
   "cell_type": "code",
   "execution_count": null,
   "metadata": {},
   "outputs": [],
   "source": []
  },
  {
   "cell_type": "code",
   "execution_count": null,
   "metadata": {},
   "outputs": [],
   "source": []
  },
  {
   "cell_type": "markdown",
   "metadata": {},
   "source": [
    "## Model production"
   ]
  },
  {
   "cell_type": "code",
   "execution_count": null,
   "metadata": {},
   "outputs": [],
   "source": [
    "x=spark.read.load('/data/udf/vf_es/churn/portabPropension_model/pred_test_20200514_orange')"
   ]
  },
  {
   "cell_type": "code",
   "execution_count": null,
   "metadata": {},
   "outputs": [],
   "source": [
    "y=spark.read.load('/data/udf/vf_es/churn/portabPropension_model/pred_test_20200514_others')"
   ]
  },
  {
   "cell_type": "code",
   "execution_count": null,
   "metadata": {},
   "outputs": [],
   "source": [
    "x = (\n",
    "    x.withColumnRenamed(\"msisdn\", \"msisdn_\" + 'orange') \\\n",
    "        .withColumnRenamed(\"model_score\", \"calib_score_\" + 'orange') \\\n",
    "        .select(\"msisdn_\" + 'orange', \"calib_score_\" + 'orange')\n",
    ")\n"
   ]
  },
  {
   "cell_type": "code",
   "execution_count": null,
   "metadata": {},
   "outputs": [],
   "source": [
    "y = (\n",
    "    y.withColumnRenamed(\"msisdn\", \"msisdn_\" + 'others') \\\n",
    "        .withColumnRenamed(\"model_score\", \"calib_score_\" + 'others') \\\n",
    "        .select(\"msisdn_\" + 'movistar', \"calib_score_\" + 'others')\n",
    ")\n"
   ]
  },
  {
   "cell_type": "code",
   "execution_count": null,
   "metadata": {},
   "outputs": [],
   "source": [
    "x.repartition(300).write.save(\n",
    "        '/data/udf/vf_es/churn/portabPropension_model/pred_20200514_orange',\n",
    "        format=\"parquet\",\n",
    "        mode=\"overwrite\",\n",
    "    )"
   ]
  },
  {
   "cell_type": "code",
   "execution_count": null,
   "metadata": {},
   "outputs": [],
   "source": [
    "y.repartition(300).write.save(\n",
    "        '/data/udf/vf_es/churn/portabPropension_model/pred_20200514_others',\n",
    "        format=\"parquet\",\n",
    "        mode=\"overwrite\",\n",
    "    )"
   ]
  },
  {
   "cell_type": "code",
   "execution_count": null,
   "metadata": {},
   "outputs": [],
   "source": []
  }
 ],
 "metadata": {
  "kernelspec": {
   "display_name": "Python 2",
   "language": "python",
   "name": "python2"
  },
  "language_info": {
   "codemirror_mode": {
    "name": "ipython",
    "version": 2
   },
   "file_extension": ".py",
   "mimetype": "text/x-python",
   "name": "python",
   "nbconvert_exporter": "python",
   "pygments_lexer": "ipython2",
   "version": "2.7.11"
  }
 },
 "nbformat": 4,
 "nbformat_minor": 2
}
