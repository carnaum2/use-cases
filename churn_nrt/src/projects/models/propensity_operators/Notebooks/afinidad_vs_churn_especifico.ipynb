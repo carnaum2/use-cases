{
 "cells": [
  {
   "cell_type": "code",
   "execution_count": 1,
   "metadata": {},
   "outputs": [],
   "source": [
    "def set_paths():\n",
    "\n",
    "    import os\n",
    "    import sys\n",
    "\n",
    "    USECASES_SRC = os.path.join(os.environ.get('BDA_USER_HOME', ''), \"repositorios\", \"use-cases\")\n",
    "    if USECASES_SRC not in sys.path:\n",
    "        sys.path.append(USECASES_SRC)\n",
    "\n",
    "\n",
    "set_paths()\n"
   ]
  },
  {
   "cell_type": "code",
   "execution_count": 2,
   "metadata": {},
   "outputs": [],
   "source": [
    "from churn_nrt.src.utils.spark_session import get_spark_session\n",
    "\n",
    "sc, spark, sql_context=get_spark_session(app_name=\"affinity_churn_combination\")"
   ]
  },
  {
   "cell_type": "markdown",
   "metadata": {},
   "source": [
    "### Leo predicciones del modelo de afinidad y del modelo general de churn"
   ]
  },
  {
   "cell_type": "code",
   "execution_count": 3,
   "metadata": {},
   "outputs": [],
   "source": [
    "churn_general=spark.read.load('/data/attributes/vf_es/model_outputs/model_scores/model_name=churn_mobile/year=2019/month=12/day=31')"
   ]
  },
  {
   "cell_type": "code",
   "execution_count": 4,
   "metadata": {},
   "outputs": [],
   "source": [
    "churn_comp=spark.read.load('/data/udf/vf_es/churn/churn_competitor_model/v2/multiclase/pred_20191231_production')"
   ]
  },
  {
   "cell_type": "markdown",
   "metadata": {},
   "source": [
    "### Etiqueto con las portabilidades a dos meses"
   ]
  },
  {
   "cell_type": "code",
   "execution_count": 5,
   "metadata": {},
   "outputs": [
    {
     "name": "stdout",
     "output_type": "stream",
     "text": [
      "[DataTemplate] __init__ | module name = mob_port/60 | path = /data/udf/vf_es/churn_nrt/mob_port/60 | verbose = True\n",
      "[DataTemplate] get_module | module mob_port/60 - for closing_day=20191231 save=False save_others=False force_gen=True\n",
      "[DataTemplate] get_module | args: () | kwargs: {}\n",
      "[MobPort] check_valid_params | Params ok\n",
      "[DataTemplate] get_module | Module will be generated since force_gen parameter was set to True. An existing module in path will be ignored\n",
      "[MobPort] check_valid_params | Params ok\n",
      "[Info get_mobile_portout_requests] - Port-out requests for mobile services during period 20191231-20200229: 336757\n",
      "[DataTemplate] get_module | module 'mob_port/60' | Elapsed time in build_module function: 0.841794816653 minutes\n",
      "[DataTemplate] get_module | module 'mob_port/60' | Module will not be saved (save=False and is_default_module()=True)\n"
     ]
    }
   ],
   "source": [
    "from churn_nrt.src.data.sopos_dxs import MobPort\n",
    "from pyspark.sql.functions import when, col\n",
    "\n",
    "portab_table = (  # MobPort new\n",
    "            MobPort(spark, churn_window=60)\n",
    "                .get_module('20191231', save=False, save_others=False, force_gen=True)\n",
    "                .select(\"msisdn\", \"target_operator\")\n",
    "        ) \n",
    "\n",
    "churn_comp = churn_comp.join(portab_table, on=\"msisdn\", how=\"left\").fillna(\n",
    "            \"none\")  # label customer base: join with portouts and replace NA by 'none' (customers who do not churn)\n",
    "\n"
   ]
  },
  {
   "cell_type": "markdown",
   "metadata": {},
   "source": [
    "### Creo un label por operador"
   ]
  },
  {
   "cell_type": "code",
   "execution_count": 6,
   "metadata": {},
   "outputs": [],
   "source": [
    "churn_comp=churn_comp.withColumn('label_masmovil',when(col('target_operator')==\"masmovil\", 1.0).otherwise(0.0)) \\\n",
    "                     .withColumn('label_movistar',when(col('target_operator')==\"movistar\", 1.0).otherwise(0.0)) \\\n",
    "                     .withColumn('label_orange',when(col('target_operator')==\"orange\", 1.0).otherwise(0.0)) \\\n",
    "                     .withColumn('label_others',when(col('target_operator')==\"others\", 1.0).otherwise(0.0))\n",
    "                        "
   ]
  },
  {
   "cell_type": "code",
   "execution_count": 7,
   "metadata": {},
   "outputs": [],
   "source": [
    "churn_comp=churn_comp.select('msisdn','label_masmovil',\n",
    "                             'label_movistar','label_orange',\n",
    "                            'label_others','prediction')"
   ]
  },
  {
   "cell_type": "code",
   "execution_count": 8,
   "metadata": {},
   "outputs": [],
   "source": [
    "churn_general=churn_general.select('msisdn','scoring')"
   ]
  },
  {
   "cell_type": "markdown",
   "metadata": {},
   "source": [
    "### Hago un join del modelo general de churn y de afinidad"
   ]
  },
  {
   "cell_type": "code",
   "execution_count": 9,
   "metadata": {},
   "outputs": [],
   "source": [
    "union=churn_comp.join(churn_general,on='msisdn',how='inner')"
   ]
  },
  {
   "cell_type": "markdown",
   "metadata": {},
   "source": [
    "### Sacamos scoring resultante de la combinación del modelo de churn y el de afinidad para cada operador"
   ]
  },
  {
   "cell_type": "markdown",
   "metadata": {},
   "source": [
    "score_churn_masmovil sería igual al score del modelo general de churn para los msisdn marcados como masmovil por el modelo de afinidad y 0 para el resto"
   ]
  },
  {
   "cell_type": "code",
   "execution_count": 10,
   "metadata": {},
   "outputs": [],
   "source": [
    "union=union.withColumn('score_masmovil',when(col('prediction')=='masmovil',col('scoring')).otherwise(0.0)) \\\n",
    "           .withColumn('score_movistar',when(col('prediction')=='movistar',col('scoring')).otherwise(0.0)) \\\n",
    "           .withColumn('score_orange',when(col('prediction')=='orange',col('scoring')).otherwise(0.0)) \\\n",
    "           .withColumn('score_others',when(col('prediction')=='others',col('scoring')).otherwise(0.0))"
   ]
  },
  {
   "cell_type": "markdown",
   "metadata": {},
   "source": [
    "### Cargo las predicciones del modelo específico de churn por operador"
   ]
  },
  {
   "cell_type": "code",
   "execution_count": 11,
   "metadata": {},
   "outputs": [],
   "source": [
    "masmovil=spark.read.load('/data/attributes/vf_es/model_outputs/model_scores/model_name=churn_mobile_masmovil/year=2019/month=12/day=31').select('msisdn','scoring').withColumnRenamed('scoring','score_model_masmovil')\n",
    "movistar= spark.read.load('/data/attributes/vf_es/model_outputs/model_scores/model_name=churn_mobile_movistar/year=2019/month=12/day=31').select('msisdn','scoring').withColumnRenamed('scoring','score_model_movistar')\n",
    "orange= spark.read.load('/data/attributes/vf_es/model_outputs/model_scores/model_name=churn_mobile_orange/year=2019/month=12/day=31').select('msisdn','scoring').withColumnRenamed('scoring','score_model_orange')\n",
    "others=spark.read.load('/data/attributes/vf_es/model_outputs/model_scores/model_name=churn_mobile_others/year=2019/month=12/day=31').select('msisdn','scoring').withColumnRenamed('scoring','score_model_others')"
   ]
  },
  {
   "cell_type": "markdown",
   "metadata": {},
   "source": [
    "### Creo tablón de predicciones conjunto, que contenga tanto los scores resultantes de la combinación del modelo afinidad  + churn, como los scores específicos del modelo por operador, como los labels reales"
   ]
  },
  {
   "cell_type": "markdown",
   "metadata": {},
   "source": [
    "preds_df: msisdn, score_masmovil (construido con afinidad), score_model_masmovil (construido con modelo específico), label_ masmovil (1,0)"
   ]
  },
  {
   "cell_type": "code",
   "execution_count": 12,
   "metadata": {},
   "outputs": [],
   "source": [
    "preds_df=union.join(masmovil,on='msisdn',how='inner')\n",
    "preds_df=preds_df.join(movistar,on='msisdn',how='inner')\n",
    "preds_df=preds_df.join(orange,on='msisdn',how='inner')\n",
    "preds_df=preds_df.join(others,on='msisdn',how='inner')"
   ]
  },
  {
   "cell_type": "markdown",
   "metadata": {},
   "source": [
    "### Dibujo curvas lift modelo específico - modelo afinidad + churn de cada operador y las comparo"
   ]
  },
  {
   "cell_type": "code",
   "execution_count": 13,
   "metadata": {},
   "outputs": [
    {
     "data": {
      "text/plain": [
       "DataFrame[msisdn: string, label_masmovil: double, label_movistar: double, label_orange: double, label_others: double, prediction: string, scoring: double, score_masmovil: double, score_movistar: double, score_orange: double, score_others: double, score_model_masmovil: double, score_model_movistar: double, score_model_orange: double, score_model_others: double]"
      ]
     },
     "execution_count": 13,
     "metadata": {},
     "output_type": "execute_result"
    }
   ],
   "source": [
    "preds_df.cache()"
   ]
  },
  {
   "cell_type": "code",
   "execution_count": 14,
   "metadata": {},
   "outputs": [
    {
     "data": {
      "text/plain": [
       "4828475"
      ]
     },
     "execution_count": 14,
     "metadata": {},
     "output_type": "execute_result"
    }
   ],
   "source": [
    "preds_df.count()"
   ]
  },
  {
   "cell_type": "code",
   "execution_count": 29,
   "metadata": {},
   "outputs": [],
   "source": [
    "from churn_nrt.src.projects_utils.models.modeler import get_cumulative_churn_rate_fix_step\n",
    "import matplotlib.pyplot as plt\n",
    "\n",
    "lift_affinity = get_cumulative_churn_rate_fix_step(spark, preds_df, step_ = 1/1000.0, ord_col =\"score_others\", label_col =\"label_others\", verbose = False, noise = 0.000001)\n",
    "lift_model = get_cumulative_churn_rate_fix_step(spark, preds_df, step_ = 1/1000.0, ord_col =\"score_model_others\", label_col =\"label_others\", verbose = False, noise = 0.000001)\n",
    "lift_affinity_pd = lift_affinity.select('cum_volume_for_capture', 'cum_captured_churn').toPandas()\n",
    "lift_model_pd = lift_model.select('cum_volume_for_capture', 'cum_captured_churn').toPandas()\n",
    "\n"
   ]
  },
  {
   "cell_type": "code",
   "execution_count": 30,
   "metadata": {},
   "outputs": [
    {
     "data": {
      "image/png": "[encoded data removed]",
      "text/plain": [
       "<Figure size 576x504 with 1 Axes>"
      ]
     },
     "metadata": {},
     "output_type": "display_data"
    }
   ],
   "source": [
    "fig,ax = plt.subplots(figsize=(8,7))\n",
    "font={'fontsize':12, 'fontweight': 'bold'}\n",
    "ax.plot(lift_affinity_pd.cum_volume_for_capture, lift_affinity_pd.cum_captured_churn, label = 'affinity')\n",
    "ax.plot(lift_model_pd.cum_volume_for_capture, lift_model_pd.cum_captured_churn, label = 'model')\n",
    "ax.set_xlabel(\"Volume required (%)\", fontdict = font)\n",
    "ax.set_ylabel(\"captured churn (%)\", fontdict = font)\n",
    "ax.legend(loc='best')\n",
    "fig.suptitle('others', fontsize=20)\n",
    "ax.grid(True)"
   ]
  },
  {
   "cell_type": "code",
   "execution_count": null,
   "metadata": {},
   "outputs": [],
   "source": []
  }
 ],
 "metadata": {
  "kernelspec": {
   "display_name": "Python 2",
   "language": "python",
   "name": "python2"
  },
  "language_info": {
   "codemirror_mode": {
    "name": "ipython",
    "version": 2
   },
   "file_extension": ".py",
   "mimetype": "text/x-python",
   "name": "python",
   "nbconvert_exporter": "python",
   "pygments_lexer": "ipython2",
   "version": "2.7.11"
  }
 },
 "nbformat": 4,
 "nbformat_minor": 2
}
