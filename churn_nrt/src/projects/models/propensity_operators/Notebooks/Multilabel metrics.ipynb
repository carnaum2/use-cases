{
 "cells": [
  {
   "cell_type": "code",
   "execution_count": 1,
   "metadata": {},
   "outputs": [],
   "source": [
    "def set_paths():\n",
    "    \n",
    "    import os\n",
    "    import sys\n",
    "\n",
    "    USECASES_SRC = os.path.join(os.environ.get('BDA_USER_HOME', ''), \"repositorios\", \"use-cases\")\n",
    "    if USECASES_SRC not in sys.path:\n",
    "        sys.path.append(USECASES_SRC)\n"
   ]
  },
  {
   "cell_type": "code",
   "execution_count": 2,
   "metadata": {},
   "outputs": [],
   "source": [
    "set_paths()\n",
    "\n",
    "from churn_nrt.src.utils.spark_session import get_spark_session\n",
    "\n",
    "sc, spark, sql_context = get_spark_session(app_name=\"multilabel_competitors_navcom`\")"
   ]
  },
  {
   "cell_type": "markdown",
   "metadata": {},
   "source": [
    "## Multilabel metrics"
   ]
  },
  {
   "cell_type": "code",
   "execution_count": 3,
   "metadata": {},
   "outputs": [],
   "source": [
    "#Read predictions\n",
    "\n",
    "pred_final=spark.read.load('/data/udf/vf_es/churn/churn_competitor_model/v2/multiclase/multilabel_predictions_no_navcomp_20191130')"
   ]
  },
  {
   "cell_type": "code",
   "execution_count": 4,
   "metadata": {},
   "outputs": [],
   "source": [
    "from pyspark.mllib.evaluation import MultilabelMetrics\n",
    "\n",
    "preds_and_labels = pred_final.select(['prediction_multilabel','label_multilabel'])\n",
    "\n",
    "metrics = MultilabelMetrics(preds_and_labels.rdd.map(tuple))"
   ]
  },
  {
   "cell_type": "code",
   "execution_count": 5,
   "metadata": {},
   "outputs": [
    {
     "name": "stdout",
     "output_type": "stream",
     "text": [
      "Recall = 0.664208520259\n",
      "Precision = 0.332104260129\n",
      "F1 measure = 0.442805680173\n",
      "Accuracy = 0.332104260129\n"
     ]
    }
   ],
   "source": [
    "# Summary stats\n",
    "print(\"Recall = %s\" % metrics.recall())\n",
    "print(\"Precision = %s\" % metrics.precision())\n",
    "print(\"F1 measure = %s\" % metrics.f1Measure())\n",
    "print(\"Accuracy = %s\" % metrics.accuracy)"
   ]
  },
  {
   "cell_type": "code",
   "execution_count": 6,
   "metadata": {},
   "outputs": [
    {
     "name": "stdout",
     "output_type": "stream",
     "text": [
      "Class 1 precision = 0.34764851874\n",
      "Class 1 recall = 0.514458391446\n",
      "Class 1 F1 Measure = 0.414915355918\n",
      "Class 2 precision = 0.399733134315\n",
      "Class 2 recall = 0.719929941754\n",
      "Class 2 F1 Measure = 0.51404723127\n",
      "Class 3 precision = 0.283164112978\n",
      "Class 3 recall = 0.76921919663\n",
      "Class 3 F1 Measure = 0.413946647596\n",
      "Class 4 precision = 0.310577121619\n",
      "Class 4 recall = 0.651171600195\n",
      "Class 4 F1 Measure = 0.420565157367\n"
     ]
    }
   ],
   "source": [
    "labels = [1,2,3,4]\n",
    "for label in labels:\n",
    "    print(\"Class %s precision = %s\" % (label, metrics.precision(label)))\n",
    "    print(\"Class %s recall = %s\" % (label, metrics.recall(label)))\n",
    "    print(\"Class %s F1 Measure = %s\" % (label, metrics.f1Measure(label)))"
   ]
  },
  {
   "cell_type": "markdown",
   "metadata": {},
   "source": [
    "## Accuracy"
   ]
  },
  {
   "cell_type": "code",
   "execution_count": 7,
   "metadata": {},
   "outputs": [
    {
     "name": "stdout",
     "output_type": "stream",
     "text": [
      "[Info]: Accuracy of the model (proportion of correct predictions)\n"
     ]
    },
    {
     "data": {
      "text/plain": [
       "0.6642085202589931"
      ]
     },
     "execution_count": 7,
     "metadata": {},
     "output_type": "execute_result"
    }
   ],
   "source": [
    "from pyspark.sql.functions import col\n",
    "\n",
    "print('[Info]: Accuracy of the model (proportion of correct predictions)')\n",
    "\n",
    "total = pred_final.count()\n",
    "\n",
    "num_correct = pred_final.filter(col('acierto_multilabel') == 1).count()\n",
    "\n",
    "accuracy=float(num_correct) / float(total)\n",
    "\n",
    "accuracy"
   ]
  },
  {
   "cell_type": "code",
   "execution_count": null,
   "metadata": {},
   "outputs": [],
   "source": []
  }
 ],
 "metadata": {
  "kernelspec": {
   "display_name": "Python 2",
   "language": "python",
   "name": "python2"
  },
  "language_info": {
   "codemirror_mode": {
    "name": "ipython",
    "version": 2
   },
   "file_extension": ".py",
   "mimetype": "text/x-python",
   "name": "python",
   "nbconvert_exporter": "python",
   "pygments_lexer": "ipython2",
   "version": "2.7.11"
  }
 },
 "nbformat": 4,
 "nbformat_minor": 2
}
