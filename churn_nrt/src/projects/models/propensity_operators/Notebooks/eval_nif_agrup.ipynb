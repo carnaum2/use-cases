{
 "cells": [
  {
   "cell_type": "code",
   "execution_count": 1,
   "metadata": {},
   "outputs": [],
   "source": [
    "def set_paths():\n",
    "\n",
    "    import os\n",
    "    import sys\n",
    "\n",
    "    USECASES_SRC = os.path.join(os.environ.get('BDA_USER_HOME', ''), \"repositorios\", \"use-cases\")\n",
    "    if USECASES_SRC not in sys.path:\n",
    "        sys.path.append(USECASES_SRC)\n",
    "\n",
    "\n",
    "set_paths()"
   ]
  },
  {
   "cell_type": "code",
   "execution_count": 2,
   "metadata": {},
   "outputs": [],
   "source": [
    "from churn_nrt.src.utils.spark_session import get_spark_session\n",
    "\n",
    "sc, spark, sql_context=get_spark_session(app_name=\"new_competitor_model_by_nif\")"
   ]
  },
  {
   "cell_type": "code",
   "execution_count": 3,
   "metadata": {},
   "outputs": [],
   "source": [
    "pred_eval=spark.read.load('/data/udf/vf_es/churn/churn_competitor_model/v2/multiclase/pred_20191231_evaluation_NIF')"
   ]
  },
  {
   "cell_type": "code",
   "execution_count": 4,
   "metadata": {},
   "outputs": [
    {
     "data": {
      "text/html": [
       "<div>\n",
       "<style scoped>\n",
       "    .dataframe tbody tr th:only-of-type {\n",
       "        vertical-align: middle;\n",
       "    }\n",
       "\n",
       "    .dataframe tbody tr th {\n",
       "        vertical-align: top;\n",
       "    }\n",
       "\n",
       "    .dataframe thead th {\n",
       "        text-align: right;\n",
       "    }\n",
       "</style>\n",
       "<table border=\"1\" class=\"dataframe\">\n",
       "  <thead>\n",
       "    <tr style=\"text-align: right;\">\n",
       "      <th></th>\n",
       "      <th>nif_cliente</th>\n",
       "      <th>prob_array</th>\n",
       "      <th>prediction</th>\n",
       "      <th>label</th>\n",
       "      <th>prediction_multilabel</th>\n",
       "      <th>certainity_1</th>\n",
       "      <th>certainity_2</th>\n",
       "    </tr>\n",
       "  </thead>\n",
       "  <tbody>\n",
       "    <tr>\n",
       "      <th>0</th>\n",
       "      <td>81836875F</td>\n",
       "      <td>[0.223228438389, 0.239416068597, 0.19770550111...</td>\n",
       "      <td>others</td>\n",
       "      <td>[2]</td>\n",
       "      <td>[others, movistar]</td>\n",
       "      <td>0.100234</td>\n",
       "      <td>1.364246</td>\n",
       "    </tr>\n",
       "    <tr>\n",
       "      <th>1</th>\n",
       "      <td>98948904U</td>\n",
       "      <td>[0.22005027388, 0.345419685659, 0.222994833344...</td>\n",
       "      <td>movistar</td>\n",
       "      <td>[2, 2]</td>\n",
       "      <td>[movistar, orange]</td>\n",
       "      <td>0.122425</td>\n",
       "      <td>1.367392</td>\n",
       "    </tr>\n",
       "    <tr>\n",
       "      <th>2</th>\n",
       "      <td>56419938D</td>\n",
       "      <td>[0.251318064408, 0.252208204289, 0.27694260942...</td>\n",
       "      <td>orange</td>\n",
       "      <td>[3]</td>\n",
       "      <td>[orange, movistar]</td>\n",
       "      <td>0.024734</td>\n",
       "      <td>1.382942</td>\n",
       "    </tr>\n",
       "    <tr>\n",
       "      <th>3</th>\n",
       "      <td>90788209M</td>\n",
       "      <td>[0.216020280425, 0.297883321593, 0.27340624520...</td>\n",
       "      <td>movistar</td>\n",
       "      <td>[3]</td>\n",
       "      <td>[movistar, orange]</td>\n",
       "      <td>0.024477</td>\n",
       "      <td>1.375558</td>\n",
       "    </tr>\n",
       "    <tr>\n",
       "      <th>4</th>\n",
       "      <td>77620623E</td>\n",
       "      <td>[0.250336631394, 0.233069285666, 0.24645445342...</td>\n",
       "      <td>others</td>\n",
       "      <td>[3]</td>\n",
       "      <td>[others, masmovil]</td>\n",
       "      <td>0.019803</td>\n",
       "      <td>1.384892</td>\n",
       "    </tr>\n",
       "  </tbody>\n",
       "</table>\n",
       "</div>"
      ],
      "text/plain": [
       "  nif_cliente                                         prob_array prediction  \\\n",
       "0   81836875F  [0.223228438389, 0.239416068597, 0.19770550111...     others   \n",
       "1   98948904U  [0.22005027388, 0.345419685659, 0.222994833344...   movistar   \n",
       "2   56419938D  [0.251318064408, 0.252208204289, 0.27694260942...     orange   \n",
       "3   90788209M  [0.216020280425, 0.297883321593, 0.27340624520...   movistar   \n",
       "4   77620623E  [0.250336631394, 0.233069285666, 0.24645445342...     others   \n",
       "\n",
       "    label prediction_multilabel  certainity_1  certainity_2  \n",
       "0     [2]    [others, movistar]      0.100234      1.364246  \n",
       "1  [2, 2]    [movistar, orange]      0.122425      1.367392  \n",
       "2     [3]    [orange, movistar]      0.024734      1.382942  \n",
       "3     [3]    [movistar, orange]      0.024477      1.375558  \n",
       "4     [3]    [others, masmovil]      0.019803      1.384892  "
      ]
     },
     "execution_count": 4,
     "metadata": {},
     "output_type": "execute_result"
    }
   ],
   "source": [
    "pred_eval.limit(5).toPandas()"
   ]
  },
  {
   "cell_type": "code",
   "execution_count": 5,
   "metadata": {},
   "outputs": [],
   "source": [
    "from pyspark.sql.functions import (lit, from_unixtime, unix_timestamp,\n",
    "                                   regexp_replace, split,concat_ws, array,\n",
    "                                   col, array_contains,collect_list, when)"
   ]
  },
  {
   "cell_type": "code",
   "execution_count": 6,
   "metadata": {},
   "outputs": [
    {
     "name": "stdout",
     "output_type": "stream",
     "text": [
      "[Info]: Since mode is evaluation, we calculate the accuracy of the model: if the predicted label is contained in the list of real labels for each NIF, we consider the prediction correct\n"
     ]
    }
   ],
   "source": [
    "print('[Info]: Since mode is evaluation, we calculate the accuracy of the model: if the predicted label is contained in the list of real labels for each NIF, we consider the prediction correct')\n",
    "\n",
    "final_predictions_accuracy = pred_eval.withColumn('real_label_contain_1',\n",
    "                                                          when(array_contains(col('label'), 1),\n",
    "                                                               1).otherwise(0)).withColumn('real_label_contain_2',\n",
    "                                                                   when(array_contains(col('label'), 2),\n",
    "                                                                        1).otherwise(0)).withColumn('real_label_contain_3',\n",
    "                                                                   when(array_contains(col('label'), 3),\n",
    "                                                                        1).otherwise(0)).withColumn('real_label_contain_4',\n",
    "                                                                   when(array_contains(col('label'), 4),\n",
    "                                                                        1).otherwise(0))\n",
    "\n",
    "final_predictions_accuracy = final_predictions_accuracy.withColumn('acierto',\n",
    "                                                                   when((((col('prediction') == 'masmovil') & (col(\n",
    "                                                                       'real_label_contain_1') == 1))\n",
    "                                                                         | ((col('prediction') == 'movistar') & (\n",
    "                                                                                   col('real_label_contain_2') == 1))\n",
    "                                                                         | ((col('prediction') == 'orange') & (\n",
    "                                                                                   col('real_label_contain_3') == 1))\n",
    "                                                                         | ((col('prediction') == 'others') & (\n",
    "                                                                                   col('real_label_contain_4') == 1))),1).otherwise(0))\n",
    "\n"
   ]
  },
  {
   "cell_type": "code",
   "execution_count": 7,
   "metadata": {
    "scrolled": true
   },
   "outputs": [
    {
     "data": {
      "text/html": [
       "<div>\n",
       "<style scoped>\n",
       "    .dataframe tbody tr th:only-of-type {\n",
       "        vertical-align: middle;\n",
       "    }\n",
       "\n",
       "    .dataframe tbody tr th {\n",
       "        vertical-align: top;\n",
       "    }\n",
       "\n",
       "    .dataframe thead th {\n",
       "        text-align: right;\n",
       "    }\n",
       "</style>\n",
       "<table border=\"1\" class=\"dataframe\">\n",
       "  <thead>\n",
       "    <tr style=\"text-align: right;\">\n",
       "      <th></th>\n",
       "      <th>nif_cliente</th>\n",
       "      <th>prob_array</th>\n",
       "      <th>prediction</th>\n",
       "      <th>label</th>\n",
       "      <th>prediction_multilabel</th>\n",
       "      <th>certainity_1</th>\n",
       "      <th>certainity_2</th>\n",
       "      <th>real_label_contain_1</th>\n",
       "      <th>real_label_contain_2</th>\n",
       "      <th>real_label_contain_3</th>\n",
       "      <th>real_label_contain_4</th>\n",
       "      <th>acierto</th>\n",
       "    </tr>\n",
       "  </thead>\n",
       "  <tbody>\n",
       "    <tr>\n",
       "      <th>0</th>\n",
       "      <td>81836875F</td>\n",
       "      <td>[0.223228438389, 0.239416068597, 0.19770550111...</td>\n",
       "      <td>others</td>\n",
       "      <td>[2]</td>\n",
       "      <td>[others, movistar]</td>\n",
       "      <td>0.100234</td>\n",
       "      <td>1.364246</td>\n",
       "      <td>0</td>\n",
       "      <td>1</td>\n",
       "      <td>0</td>\n",
       "      <td>0</td>\n",
       "      <td>0</td>\n",
       "    </tr>\n",
       "    <tr>\n",
       "      <th>1</th>\n",
       "      <td>98948904U</td>\n",
       "      <td>[0.22005027388, 0.345419685659, 0.222994833344...</td>\n",
       "      <td>movistar</td>\n",
       "      <td>[2, 2]</td>\n",
       "      <td>[movistar, orange]</td>\n",
       "      <td>0.122425</td>\n",
       "      <td>1.367392</td>\n",
       "      <td>0</td>\n",
       "      <td>1</td>\n",
       "      <td>0</td>\n",
       "      <td>0</td>\n",
       "      <td>1</td>\n",
       "    </tr>\n",
       "    <tr>\n",
       "      <th>2</th>\n",
       "      <td>56419938D</td>\n",
       "      <td>[0.251318064408, 0.252208204289, 0.27694260942...</td>\n",
       "      <td>orange</td>\n",
       "      <td>[3]</td>\n",
       "      <td>[orange, movistar]</td>\n",
       "      <td>0.024734</td>\n",
       "      <td>1.382942</td>\n",
       "      <td>0</td>\n",
       "      <td>0</td>\n",
       "      <td>1</td>\n",
       "      <td>0</td>\n",
       "      <td>1</td>\n",
       "    </tr>\n",
       "    <tr>\n",
       "      <th>3</th>\n",
       "      <td>90788209M</td>\n",
       "      <td>[0.216020280425, 0.297883321593, 0.27340624520...</td>\n",
       "      <td>movistar</td>\n",
       "      <td>[3]</td>\n",
       "      <td>[movistar, orange]</td>\n",
       "      <td>0.024477</td>\n",
       "      <td>1.375558</td>\n",
       "      <td>0</td>\n",
       "      <td>0</td>\n",
       "      <td>1</td>\n",
       "      <td>0</td>\n",
       "      <td>0</td>\n",
       "    </tr>\n",
       "    <tr>\n",
       "      <th>4</th>\n",
       "      <td>77620623E</td>\n",
       "      <td>[0.250336631394, 0.233069285666, 0.24645445342...</td>\n",
       "      <td>others</td>\n",
       "      <td>[3]</td>\n",
       "      <td>[others, masmovil]</td>\n",
       "      <td>0.019803</td>\n",
       "      <td>1.384892</td>\n",
       "      <td>0</td>\n",
       "      <td>0</td>\n",
       "      <td>1</td>\n",
       "      <td>0</td>\n",
       "      <td>0</td>\n",
       "    </tr>\n",
       "  </tbody>\n",
       "</table>\n",
       "</div>"
      ],
      "text/plain": [
       "  nif_cliente                                         prob_array prediction  \\\n",
       "0   81836875F  [0.223228438389, 0.239416068597, 0.19770550111...     others   \n",
       "1   98948904U  [0.22005027388, 0.345419685659, 0.222994833344...   movistar   \n",
       "2   56419938D  [0.251318064408, 0.252208204289, 0.27694260942...     orange   \n",
       "3   90788209M  [0.216020280425, 0.297883321593, 0.27340624520...   movistar   \n",
       "4   77620623E  [0.250336631394, 0.233069285666, 0.24645445342...     others   \n",
       "\n",
       "    label prediction_multilabel  certainity_1  certainity_2  \\\n",
       "0     [2]    [others, movistar]      0.100234      1.364246   \n",
       "1  [2, 2]    [movistar, orange]      0.122425      1.367392   \n",
       "2     [3]    [orange, movistar]      0.024734      1.382942   \n",
       "3     [3]    [movistar, orange]      0.024477      1.375558   \n",
       "4     [3]    [others, masmovil]      0.019803      1.384892   \n",
       "\n",
       "   real_label_contain_1  real_label_contain_2  real_label_contain_3  \\\n",
       "0                     0                     1                     0   \n",
       "1                     0                     1                     0   \n",
       "2                     0                     0                     1   \n",
       "3                     0                     0                     1   \n",
       "4                     0                     0                     1   \n",
       "\n",
       "   real_label_contain_4  acierto  \n",
       "0                     0        0  \n",
       "1                     0        1  \n",
       "2                     0        1  \n",
       "3                     0        0  \n",
       "4                     0        0  "
      ]
     },
     "execution_count": 7,
     "metadata": {},
     "output_type": "execute_result"
    }
   ],
   "source": [
    "final_predictions_accuracy.limit(5).toPandas()"
   ]
  },
  {
   "cell_type": "code",
   "execution_count": null,
   "metadata": {},
   "outputs": [],
   "source": [
    "#Añado acierto multilabel"
   ]
  },
  {
   "cell_type": "code",
   "execution_count": 8,
   "metadata": {},
   "outputs": [],
   "source": [
    "final_predictions_accuracy = final_predictions_accuracy.withColumn('multi_label_contain_1',\n",
    "                                                          when(array_contains(col('prediction_multilabel'), 'masmovil'),\n",
    "                                                               1).otherwise(0)).withColumn('multi_label_contain_2',\n",
    "                                                                   when(array_contains(col('prediction_multilabel'), 'movistar'),\n",
    "                                                                        1).otherwise(0)).withColumn('multi_label_contain_3',\n",
    "                                                                   when(array_contains(col('prediction_multilabel'), 'orange'),\n",
    "                                                                        1).otherwise(0)).withColumn('multi_label_contain_4',\n",
    "                                                                   when(array_contains(col('prediction_multilabel'), 'others'),\n",
    "                                                                        1).otherwise(0))"
   ]
  },
  {
   "cell_type": "code",
   "execution_count": 9,
   "metadata": {},
   "outputs": [],
   "source": [
    "final_predictions_accuracy = final_predictions_accuracy.withColumn('acierto_multilabel',\n",
    "                                                                   when((((col('multi_label_contain_1') == 1) & (col(\n",
    "                                                                       'real_label_contain_1') == 1))\n",
    "                                                                         | ((col('multi_label_contain_2') == 1) & (\n",
    "                                                                                   col('real_label_contain_2') == 1))\n",
    "                                                                         | ((col('multi_label_contain_3') == 1) & (\n",
    "                                                                                   col('real_label_contain_3') == 1))\n",
    "                                                                         | ((col('multi_label_contain_4') == 1) & (\n",
    "                                                                                   col('real_label_contain_4') == 1))),1).otherwise(0))\n",
    "\n"
   ]
  },
  {
   "cell_type": "code",
   "execution_count": 10,
   "metadata": {},
   "outputs": [],
   "source": [
    "preds_eval=final_predictions_accuracy"
   ]
  },
  {
   "cell_type": "code",
   "execution_count": 29,
   "metadata": {},
   "outputs": [
    {
     "data": {
      "text/plain": [
       "19715"
      ]
     },
     "execution_count": 29,
     "metadata": {},
     "output_type": "execute_result"
    }
   ],
   "source": [
    "preds_eval.filter(col('real_label_contain_1')==1).count()"
   ]
  },
  {
   "cell_type": "code",
   "execution_count": 32,
   "metadata": {},
   "outputs": [
    {
     "data": {
      "text/plain": [
       "16846"
      ]
     },
     "execution_count": 32,
     "metadata": {},
     "output_type": "execute_result"
    }
   ],
   "source": [
    "preds_eval.filter(col('real_label_contain_2')==1).count()"
   ]
  },
  {
   "cell_type": "code",
   "execution_count": 30,
   "metadata": {},
   "outputs": [
    {
     "data": {
      "text/plain": [
       "69811"
      ]
     },
     "execution_count": 30,
     "metadata": {},
     "output_type": "execute_result"
    }
   ],
   "source": [
    "preds_eval.count()"
   ]
  },
  {
   "cell_type": "code",
   "execution_count": 33,
   "metadata": {},
   "outputs": [
    {
     "data": {
      "text/plain": [
       "0.5237140278752632"
      ]
     },
     "execution_count": 33,
     "metadata": {},
     "output_type": "execute_result"
    }
   ],
   "source": [
    "(float(19715)+ float(16846))/float(69811)"
   ]
  },
  {
   "cell_type": "markdown",
   "metadata": {},
   "source": [
    "## Accuracy vs certainity"
   ]
  },
  {
   "cell_type": "markdown",
   "metadata": {},
   "source": [
    "- Saco las predicciones en modo production para esa fecha a nivel NIF.\n",
    "- Calculo el threshold de certainity que se corresponde a coger cada volumen (de mayor a menor certeza)\n",
    "- Saco el acierto (como lo hemos calculado aquí) para el threshold obtenido, con las predicciones de evaluation"
   ]
  },
  {
   "cell_type": "code",
   "execution_count": 15,
   "metadata": {},
   "outputs": [],
   "source": [
    "pred_prod=spark.read.load('/data/attributes/vf_es/model_outputs/model_scores/model_name=churn_competitor/year=2020/month=6/day=-1')"
   ]
  },
  {
   "cell_type": "code",
   "execution_count": 16,
   "metadata": {},
   "outputs": [],
   "source": [
    "from pyspark.sql.functions import split"
   ]
  },
  {
   "cell_type": "code",
   "execution_count": 17,
   "metadata": {},
   "outputs": [],
   "source": [
    "split_col = split(pred_prod['model_output'], ';')\n",
    "pred_prod =pred_prod.withColumn('masmovil', split_col.getItem(0))\n",
    "pred_prod = pred_prod.withColumn('movistar', split_col.getItem(1))\n",
    "pred_prod = pred_prod.withColumn('orange', split_col.getItem(2))\n",
    "pred_prod = pred_prod.withColumn('others', split_col.getItem(3))"
   ]
  },
  {
   "cell_type": "code",
   "execution_count": 19,
   "metadata": {},
   "outputs": [],
   "source": [
    "from  pyspark.sql.functions import log\n",
    "\n",
    "pred_prod = pred_prod.withColumn(\"certainity_2\", -(pred_prod[\"masmovil\"]*log(pred_prod[\"masmovil\"])\n",
    "                                          +pred_prod[\"movistar\"]*log(pred_prod[\"movistar\"])\n",
    "                                          +pred_prod[\"orange\"]*log(pred_prod[\"orange\"])\n",
    "                                          +pred_prod[\"others\"]*log(pred_prod[\"others\"])\n",
    "                        ))"
   ]
  },
  {
   "cell_type": "code",
   "execution_count": 20,
   "metadata": {},
   "outputs": [],
   "source": [
    "pred_prod=pred_prod.select('certainity_2').orderBy('certainity_2',ascending=True)"
   ]
  },
  {
   "cell_type": "code",
   "execution_count": 21,
   "metadata": {},
   "outputs": [],
   "source": [
    "perc=[0.05,0.1,0.15,0.2,0.25,\n",
    "      0.3,0.35,0.4,0.45,0.5,0.55,\n",
    "      0.6,0.65,0.7,0.75,0.8,0.85,0.90,0.95,1]"
   ]
  },
  {
   "cell_type": "code",
   "execution_count": 22,
   "metadata": {},
   "outputs": [],
   "source": [
    "total=pred_prod.count()\n",
    "\n",
    "volume=[]\n",
    "for i in range(0,len(perc)):\n",
    "    x=int(round(total*perc[i],0))\n",
    "    volume+=[x]   "
   ]
  },
  {
   "cell_type": "code",
   "execution_count": 23,
   "metadata": {},
   "outputs": [],
   "source": [
    "umbrales=[]\n",
    "\n",
    "for i in range(0,len(volume)):\n",
    "\n",
    "    threshold=pred_prod.limit(volume[i]).collect()[volume[i]-1][0]\n",
    "    umbrales+=[threshold]"
   ]
  },
  {
   "cell_type": "code",
   "execution_count": 24,
   "metadata": {},
   "outputs": [],
   "source": [
    "percentage=[5,10,15,20,25,\n",
    "      30,35,40,45,50,55,\n",
    "      60,65,70,75,80,85,90,95,100]"
   ]
  },
  {
   "cell_type": "code",
   "execution_count": 25,
   "metadata": {},
   "outputs": [],
   "source": [
    "pred_pd=preds_eval.toPandas()\n",
    "\n",
    "threshold = umbrales\n",
    "\n",
    "columns = ['% volumen cartera','certainity threshold', 'accuracy','accuracy_multilabel']\n",
    "vals = [(0, 0, 0,0)]\n",
    "\n",
    "df = spark.createDataFrame(vals, columns)\n",
    "\n",
    "for i in range(0,(len(threshold))):\n",
    "\n",
    "    pred=pred_pd[pred_pd['certainity_2']<=threshold[i]]\n",
    "    count=pred.shape[0]\n",
    "    perc_cartera=percentage[i]\n",
    "    acierto=float(pred[pred['acierto']==1].shape[0])/float(count)\n",
    "    acierto_multilabel=float(pred[pred['acierto_multilabel']==1].shape[0])/float(count)\n",
    "    \n",
    "    \n",
    "    newRow = spark.createDataFrame([(perc_cartera,threshold[i],acierto,acierto_multilabel)], columns)\n",
    "    df = df.union(newRow)\n",
    "    \n",
    "df=df.filter(col('% volumen cartera')!=0.00)"
   ]
  },
  {
   "cell_type": "code",
   "execution_count": 26,
   "metadata": {},
   "outputs": [
    {
     "data": {
      "text/html": [
       "<div>\n",
       "<style scoped>\n",
       "    .dataframe tbody tr th:only-of-type {\n",
       "        vertical-align: middle;\n",
       "    }\n",
       "\n",
       "    .dataframe tbody tr th {\n",
       "        vertical-align: top;\n",
       "    }\n",
       "\n",
       "    .dataframe thead th {\n",
       "        text-align: right;\n",
       "    }\n",
       "</style>\n",
       "<table border=\"1\" class=\"dataframe\">\n",
       "  <thead>\n",
       "    <tr style=\"text-align: right;\">\n",
       "      <th></th>\n",
       "      <th>% volumen cartera</th>\n",
       "      <th>certainity threshold</th>\n",
       "      <th>accuracy</th>\n",
       "      <th>accuracy_multilabel</th>\n",
       "    </tr>\n",
       "  </thead>\n",
       "  <tbody>\n",
       "    <tr>\n",
       "      <th>0</th>\n",
       "      <td>5</td>\n",
       "      <td>1.350669</td>\n",
       "      <td>0.647760</td>\n",
       "      <td>0.845682</td>\n",
       "    </tr>\n",
       "    <tr>\n",
       "      <th>1</th>\n",
       "      <td>10</td>\n",
       "      <td>1.358393</td>\n",
       "      <td>0.585161</td>\n",
       "      <td>0.811598</td>\n",
       "    </tr>\n",
       "    <tr>\n",
       "      <th>2</th>\n",
       "      <td>15</td>\n",
       "      <td>1.362368</td>\n",
       "      <td>0.557591</td>\n",
       "      <td>0.793814</td>\n",
       "    </tr>\n",
       "    <tr>\n",
       "      <th>3</th>\n",
       "      <td>20</td>\n",
       "      <td>1.365402</td>\n",
       "      <td>0.537618</td>\n",
       "      <td>0.778102</td>\n",
       "    </tr>\n",
       "    <tr>\n",
       "      <th>4</th>\n",
       "      <td>25</td>\n",
       "      <td>1.367848</td>\n",
       "      <td>0.520363</td>\n",
       "      <td>0.766221</td>\n",
       "    </tr>\n",
       "    <tr>\n",
       "      <th>5</th>\n",
       "      <td>30</td>\n",
       "      <td>1.369899</td>\n",
       "      <td>0.507448</td>\n",
       "      <td>0.755796</td>\n",
       "    </tr>\n",
       "    <tr>\n",
       "      <th>6</th>\n",
       "      <td>35</td>\n",
       "      <td>1.371665</td>\n",
       "      <td>0.496914</td>\n",
       "      <td>0.746438</td>\n",
       "    </tr>\n",
       "    <tr>\n",
       "      <th>7</th>\n",
       "      <td>40</td>\n",
       "      <td>1.373224</td>\n",
       "      <td>0.485224</td>\n",
       "      <td>0.737219</td>\n",
       "    </tr>\n",
       "    <tr>\n",
       "      <th>8</th>\n",
       "      <td>45</td>\n",
       "      <td>1.374692</td>\n",
       "      <td>0.476214</td>\n",
       "      <td>0.730075</td>\n",
       "    </tr>\n",
       "    <tr>\n",
       "      <th>9</th>\n",
       "      <td>50</td>\n",
       "      <td>1.376068</td>\n",
       "      <td>0.468704</td>\n",
       "      <td>0.723764</td>\n",
       "    </tr>\n",
       "    <tr>\n",
       "      <th>10</th>\n",
       "      <td>55</td>\n",
       "      <td>1.377424</td>\n",
       "      <td>0.461232</td>\n",
       "      <td>0.717958</td>\n",
       "    </tr>\n",
       "    <tr>\n",
       "      <th>11</th>\n",
       "      <td>60</td>\n",
       "      <td>1.378753</td>\n",
       "      <td>0.453466</td>\n",
       "      <td>0.712123</td>\n",
       "    </tr>\n",
       "    <tr>\n",
       "      <th>12</th>\n",
       "      <td>65</td>\n",
       "      <td>1.380079</td>\n",
       "      <td>0.446417</td>\n",
       "      <td>0.705403</td>\n",
       "    </tr>\n",
       "    <tr>\n",
       "      <th>13</th>\n",
       "      <td>70</td>\n",
       "      <td>1.381381</td>\n",
       "      <td>0.439243</td>\n",
       "      <td>0.699284</td>\n",
       "    </tr>\n",
       "    <tr>\n",
       "      <th>14</th>\n",
       "      <td>75</td>\n",
       "      <td>1.382662</td>\n",
       "      <td>0.431811</td>\n",
       "      <td>0.693094</td>\n",
       "    </tr>\n",
       "    <tr>\n",
       "      <th>15</th>\n",
       "      <td>80</td>\n",
       "      <td>1.383893</td>\n",
       "      <td>0.423958</td>\n",
       "      <td>0.686336</td>\n",
       "    </tr>\n",
       "    <tr>\n",
       "      <th>16</th>\n",
       "      <td>85</td>\n",
       "      <td>1.385061</td>\n",
       "      <td>0.417040</td>\n",
       "      <td>0.679575</td>\n",
       "    </tr>\n",
       "    <tr>\n",
       "      <th>17</th>\n",
       "      <td>90</td>\n",
       "      <td>1.386485</td>\n",
       "      <td>0.410307</td>\n",
       "      <td>0.672452</td>\n",
       "    </tr>\n",
       "    <tr>\n",
       "      <th>18</th>\n",
       "      <td>95</td>\n",
       "      <td>1.388646</td>\n",
       "      <td>0.405004</td>\n",
       "      <td>0.667858</td>\n",
       "    </tr>\n",
       "    <tr>\n",
       "      <th>19</th>\n",
       "      <td>100</td>\n",
       "      <td>1.409684</td>\n",
       "      <td>0.400009</td>\n",
       "      <td>0.662861</td>\n",
       "    </tr>\n",
       "  </tbody>\n",
       "</table>\n",
       "</div>"
      ],
      "text/plain": [
       "    % volumen cartera  certainity threshold  accuracy  accuracy_multilabel\n",
       "0                   5              1.350669  0.647760             0.845682\n",
       "1                  10              1.358393  0.585161             0.811598\n",
       "2                  15              1.362368  0.557591             0.793814\n",
       "3                  20              1.365402  0.537618             0.778102\n",
       "4                  25              1.367848  0.520363             0.766221\n",
       "5                  30              1.369899  0.507448             0.755796\n",
       "6                  35              1.371665  0.496914             0.746438\n",
       "7                  40              1.373224  0.485224             0.737219\n",
       "8                  45              1.374692  0.476214             0.730075\n",
       "9                  50              1.376068  0.468704             0.723764\n",
       "10                 55              1.377424  0.461232             0.717958\n",
       "11                 60              1.378753  0.453466             0.712123\n",
       "12                 65              1.380079  0.446417             0.705403\n",
       "13                 70              1.381381  0.439243             0.699284\n",
       "14                 75              1.382662  0.431811             0.693094\n",
       "15                 80              1.383893  0.423958             0.686336\n",
       "16                 85              1.385061  0.417040             0.679575\n",
       "17                 90              1.386485  0.410307             0.672452\n",
       "18                 95              1.388646  0.405004             0.667858\n",
       "19                100              1.409684  0.400009             0.662861"
      ]
     },
     "execution_count": 26,
     "metadata": {},
     "output_type": "execute_result"
    }
   ],
   "source": [
    "df.toPandas()"
   ]
  },
  {
   "cell_type": "code",
   "execution_count": null,
   "metadata": {},
   "outputs": [],
   "source": []
  },
  {
   "cell_type": "code",
   "execution_count": 38,
   "metadata": {},
   "outputs": [
    {
     "data": {
      "text/plain": [
       "<matplotlib.legend.Legend at 0x7ff61ac19390>"
      ]
     },
     "execution_count": 38,
     "metadata": {},
     "output_type": "execute_result"
    },
    {
     "data": {
      "image/png": "[encoded data removed]",
      "text/plain": [
       "<Figure size 576x504 with 1 Axes>"
      ]
     },
     "metadata": {},
     "output_type": "display_data"
    }
   ],
   "source": [
    "import matplotlib.pyplot as plt\n",
    "\n",
    "fig,ax = plt.subplots(figsize=(8,7))\n",
    "\n",
    "font={'fontsize':12, 'fontweight': 'bold'}\n",
    "\n",
    "#ax.plot(df.toPandas()['% volumen cartera'], df.toPandas()['accuracy'],color='blue')\n",
    "ax.plot(df.toPandas()['% volumen cartera'], df.toPandas()['accuracy_multilabel'],color='blue')\n",
    "\n",
    "#Calculo  accuracy baseline: count real_label_contain_1/ count total volume nif production\n",
    "#plt.axhline(y=0.28, color='r', linestyle='-')\n",
    "\n",
    "#Calculo accuracy baseline multilabel: count real_label_contain_1 + real_label_contain_2/ count total volume nif production\n",
    "plt.axhline(y=0.52, color='r', linestyle='-')\n",
    "\n",
    "ax.set_ylim([0.0,1])\n",
    "\n",
    "ax.set_xlabel(\"% volumen cartera\", fontdict = font)\n",
    "ax.legend(loc='best')"
   ]
  },
  {
   "cell_type": "code",
   "execution_count": null,
   "metadata": {},
   "outputs": [],
   "source": []
  }
 ],
 "metadata": {
  "kernelspec": {
   "display_name": "Python 2",
   "language": "python",
   "name": "python2"
  },
  "language_info": {
   "codemirror_mode": {
    "name": "ipython",
    "version": 2
   },
   "file_extension": ".py",
   "mimetype": "text/x-python",
   "name": "python",
   "nbconvert_exporter": "python",
   "pygments_lexer": "ipython2",
   "version": "2.7.11"
  }
 },
 "nbformat": 4,
 "nbformat_minor": 2
}
