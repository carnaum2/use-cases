{
 "cells": [
  {
   "cell_type": "code",
   "execution_count": 1,
   "metadata": {},
   "outputs": [],
   "source": [
    "def set_paths():\n",
    "    import os\n",
    "    import sys\n",
    "\n",
    "    USECASES_SRC = os.path.join(os.environ.get('BDA_USER_HOME', ''), \"repositorios\", \"use-cases\")\n",
    "    if USECASES_SRC not in sys.path:\n",
    "        sys.path.append(USECASES_SRC)\n",
    "\n",
    "\n"
   ]
  },
  {
   "cell_type": "code",
   "execution_count": 2,
   "metadata": {},
   "outputs": [],
   "source": [
    "set_paths()\n",
    "\n",
    "from churn_nrt.src.utils.spark_session import get_spark_session"
   ]
  },
  {
   "cell_type": "code",
   "execution_count": 3,
   "metadata": {},
   "outputs": [],
   "source": [
    "sc, spark, sql_context = get_spark_session(app_name=\"volume_churn\")"
   ]
  },
  {
   "cell_type": "markdown",
   "metadata": {},
   "source": [
    "## Cruzo con clientes en riesgo del modelo general de churn: churners observados en enero"
   ]
  },
  {
   "cell_type": "markdown",
   "metadata": {},
   "source": [
    "Leo predicciones del modelo general de churn con la foto de 20191231 y etiqueto con las portabilidades de enero"
   ]
  },
  {
   "cell_type": "code",
   "execution_count": 4,
   "metadata": {},
   "outputs": [],
   "source": [
    "from pyspark.sql.functions import split, col,lit"
   ]
  },
  {
   "cell_type": "code",
   "execution_count": 91,
   "metadata": {},
   "outputs": [
    {
     "name": "stdout",
     "output_type": "stream",
     "text": [
      "[DataTemplate] __init__ | module name = mob_port/30 | path = /data/udf/vf_es/churn_nrt/mob_port/30 | verbose = True\n",
      "[DataTemplate] get_module | module mob_port/30 - for closing_day=20191231 save=False save_others=False force_gen=True\n",
      "[DataTemplate] get_module | args: () | kwargs: {}\n",
      "[MobPort] check_valid_params | Params ok\n",
      "[DataTemplate] get_module | Module will be generated since force_gen parameter was set to True. An existing module in path will be ignored\n",
      "[MobPort] check_valid_params | Params ok\n",
      "[Info get_mobile_portout_requests] - Port-out requests for mobile services during period 20191231-20200130: 171252\n",
      "[DataTemplate] get_module | module 'mob_port/30' | Elapsed time in build_module function: 0.977582466602 minutes\n",
      "[DataTemplate] get_module | module 'mob_port/30' | Module will not be saved (save=False and is_default_module()=True)\n"
     ]
    }
   ],
   "source": [
    "pred_df = spark\\\n",
    ".read\\\n",
    ".parquet('/data/attributes/vf_es/model_outputs/model_scores/model_name=churn_mobile/year=2019/month=12/day=31')\\\n",
    ".select('msisdn', 'scoring', 'extra_info')\\\n",
    ".withColumn('decil', split(split(col('extra_info'), ';').getItem(0), '=').getItem(1))\\\n",
    ".withColumn('flag_propension',split(split(col('extra_info'), ';').getItem(1), '=').getItem(1))\n",
    "\n",
    "from churn_nrt.src.data.sopos_dxs import MobPort\n",
    "\n",
    "port_df = MobPort(spark, churn_window=30)\\\n",
    ".get_module('20191231', save=False, save_others=False, force_gen=True)\\\n",
    ".select(\"msisdn\", \"label_mob\",\"target_operator\")\\\n",
    ".withColumnRenamed('label_mob', 'churn')\n",
    "\n",
    "\n",
    "churn_df = pred_df.join(port_df, ['msisdn'], 'left').na.fill({'churn': 0})"
   ]
  },
  {
   "cell_type": "markdown",
   "metadata": {},
   "source": [
    "Leo modelo afinidad"
   ]
  },
  {
   "cell_type": "code",
   "execution_count": 92,
   "metadata": {},
   "outputs": [],
   "source": [
    "afin_df=spark.read.load('/data/attributes/vf_es/model_outputs/model_scores/model_name=churn_competitor/year=2019/month=12/day=31')"
   ]
  },
  {
   "cell_type": "code",
   "execution_count": 23,
   "metadata": {},
   "outputs": [
    {
     "data": {
      "text/html": [
       "<div>\n",
       "<style scoped>\n",
       "    .dataframe tbody tr th:only-of-type {\n",
       "        vertical-align: middle;\n",
       "    }\n",
       "\n",
       "    .dataframe tbody tr th {\n",
       "        vertical-align: top;\n",
       "    }\n",
       "\n",
       "    .dataframe thead th {\n",
       "        text-align: right;\n",
       "    }\n",
       "</style>\n",
       "<table border=\"1\" class=\"dataframe\">\n",
       "  <thead>\n",
       "    <tr style=\"text-align: right;\">\n",
       "      <th></th>\n",
       "      <th>executed_at</th>\n",
       "      <th>model_executed_at</th>\n",
       "      <th>predict_closing_date</th>\n",
       "      <th>msisdn</th>\n",
       "      <th>client_id</th>\n",
       "      <th>nif</th>\n",
       "      <th>model_output</th>\n",
       "      <th>scoring</th>\n",
       "      <th>prediction</th>\n",
       "      <th>extra_info</th>\n",
       "      <th>time</th>\n",
       "    </tr>\n",
       "  </thead>\n",
       "  <tbody>\n",
       "    <tr>\n",
       "      <th>0</th>\n",
       "      <td>2020-07-07 13:04:14</td>\n",
       "      <td>2020-07-07 13:04:14</td>\n",
       "      <td>20200131</td>\n",
       "      <td>552120296479</td>\n",
       "      <td></td>\n",
       "      <td></td>\n",
       "      <td>0.25491486008737196;0.2596381207453341;0.27925...</td>\n",
       "      <td></td>\n",
       "      <td>orange</td>\n",
       "      <td></td>\n",
       "      <td>130414</td>\n",
       "    </tr>\n",
       "    <tr>\n",
       "      <th>1</th>\n",
       "      <td>2020-07-07 13:04:14</td>\n",
       "      <td>2020-07-07 13:04:14</td>\n",
       "      <td>20200131</td>\n",
       "      <td>600004947</td>\n",
       "      <td></td>\n",
       "      <td></td>\n",
       "      <td>0.29653797015072403;0.213096687427821;0.258195...</td>\n",
       "      <td></td>\n",
       "      <td>masmovil</td>\n",
       "      <td></td>\n",
       "      <td>130414</td>\n",
       "    </tr>\n",
       "    <tr>\n",
       "      <th>2</th>\n",
       "      <td>2020-07-07 13:04:14</td>\n",
       "      <td>2020-07-07 13:04:14</td>\n",
       "      <td>20200131</td>\n",
       "      <td>600011551</td>\n",
       "      <td></td>\n",
       "      <td></td>\n",
       "      <td>0.20887136118102909;0.35189399011993144;0.2526...</td>\n",
       "      <td></td>\n",
       "      <td>movistar</td>\n",
       "      <td></td>\n",
       "      <td>130414</td>\n",
       "    </tr>\n",
       "    <tr>\n",
       "      <th>3</th>\n",
       "      <td>2020-07-07 13:04:14</td>\n",
       "      <td>2020-07-07 13:04:14</td>\n",
       "      <td>20200131</td>\n",
       "      <td>600015671</td>\n",
       "      <td></td>\n",
       "      <td></td>\n",
       "      <td>0.35041421732247857;0.16119260461887433;0.2097...</td>\n",
       "      <td></td>\n",
       "      <td>masmovil</td>\n",
       "      <td></td>\n",
       "      <td>130414</td>\n",
       "    </tr>\n",
       "    <tr>\n",
       "      <th>4</th>\n",
       "      <td>2020-07-07 13:04:14</td>\n",
       "      <td>2020-07-07 13:04:14</td>\n",
       "      <td>20200131</td>\n",
       "      <td>600030544</td>\n",
       "      <td></td>\n",
       "      <td></td>\n",
       "      <td>0.21460262338337302;0.24819544823012735;0.1892...</td>\n",
       "      <td></td>\n",
       "      <td>others</td>\n",
       "      <td></td>\n",
       "      <td>130414</td>\n",
       "    </tr>\n",
       "  </tbody>\n",
       "</table>\n",
       "</div>"
      ],
      "text/plain": [
       "           executed_at    model_executed_at predict_closing_date  \\\n",
       "0  2020-07-07 13:04:14  2020-07-07 13:04:14             20200131   \n",
       "1  2020-07-07 13:04:14  2020-07-07 13:04:14             20200131   \n",
       "2  2020-07-07 13:04:14  2020-07-07 13:04:14             20200131   \n",
       "3  2020-07-07 13:04:14  2020-07-07 13:04:14             20200131   \n",
       "4  2020-07-07 13:04:14  2020-07-07 13:04:14             20200131   \n",
       "\n",
       "         msisdn client_id nif  \\\n",
       "0  552120296479                 \n",
       "1     600004947                 \n",
       "2     600011551                 \n",
       "3     600015671                 \n",
       "4     600030544                 \n",
       "\n",
       "                                        model_output scoring prediction  \\\n",
       "0  0.25491486008737196;0.2596381207453341;0.27925...             orange   \n",
       "1  0.29653797015072403;0.213096687427821;0.258195...           masmovil   \n",
       "2  0.20887136118102909;0.35189399011993144;0.2526...           movistar   \n",
       "3  0.35041421732247857;0.16119260461887433;0.2097...           masmovil   \n",
       "4  0.21460262338337302;0.24819544823012735;0.1892...             others   \n",
       "\n",
       "  extra_info    time  \n",
       "0             130414  \n",
       "1             130414  \n",
       "2             130414  \n",
       "3             130414  \n",
       "4             130414  "
      ]
     },
     "execution_count": 23,
     "metadata": {},
     "output_type": "execute_result"
    }
   ],
   "source": [
    "afin_df.limit(5).toPandas()"
   ]
  },
  {
   "cell_type": "code",
   "execution_count": 93,
   "metadata": {},
   "outputs": [],
   "source": [
    "afin_df=afin_df.select('msisdn','prediction')"
   ]
  },
  {
   "cell_type": "code",
   "execution_count": 26,
   "metadata": {},
   "outputs": [
    {
     "data": {
      "text/plain": [
       "1332"
      ]
     },
     "execution_count": 26,
     "metadata": {},
     "output_type": "execute_result"
    }
   ],
   "source": [
    "#in churn but not in new afin base\n",
    "\n",
    "from pyspark.sql.functions import isnull, lit, col, when\n",
    "churn_df.join(afin_df.withColumn('tmp',lit(1)),\n",
    "                               ['msisdn'],'left').filter(isnull(col('tmp'))).count() "
   ]
  },
  {
   "cell_type": "code",
   "execution_count": null,
   "metadata": {},
   "outputs": [],
   "source": [
    "#Agrupo portabilidades de others"
   ]
  },
  {
   "cell_type": "code",
   "execution_count": 94,
   "metadata": {},
   "outputs": [],
   "source": [
    "churn_df2=churn_df.withColumn('target_operator',when(\n",
    "    (col('target_operator')=='euskaltel')\n",
    "    | (col('target_operator')=='telecable')\n",
    "    | (col('target_operator')=='r')\n",
    "    | (col('target_operator')=='others'),'others')\n",
    "    .otherwise(col('target_operator')))"
   ]
  },
  {
   "cell_type": "code",
   "execution_count": 95,
   "metadata": {},
   "outputs": [],
   "source": [
    "churn_df=churn_df2.select('msisdn','decil','flag_propension','target_operator','churn')"
   ]
  },
  {
   "cell_type": "code",
   "execution_count": null,
   "metadata": {},
   "outputs": [],
   "source": [
    "#Me quedo con churners para evaluar mi modelo"
   ]
  },
  {
   "cell_type": "code",
   "execution_count": 96,
   "metadata": {},
   "outputs": [],
   "source": [
    "churn_df_churners=churn_df.filter(col('churn')==1)"
   ]
  },
  {
   "cell_type": "code",
   "execution_count": 30,
   "metadata": {},
   "outputs": [
    {
     "name": "stdout",
     "output_type": "stream",
     "text": [
      "+---------------+-----+\n",
      "|target_operator|count|\n",
      "+---------------+-----+\n",
      "|         orange|14341|\n",
      "|       masmovil|22652|\n",
      "|       movistar|20940|\n",
      "|         others|21294|\n",
      "+---------------+-----+\n",
      "\n"
     ]
    }
   ],
   "source": [
    "churn_df_churners.groupby('target_operator').count().show()"
   ]
  },
  {
   "cell_type": "code",
   "execution_count": 31,
   "metadata": {},
   "outputs": [],
   "source": [
    "#Uno con modelo de afinidad"
   ]
  },
  {
   "cell_type": "code",
   "execution_count": 97,
   "metadata": {},
   "outputs": [],
   "source": [
    "cruce_afin_churn=churn_df_churners.drop('churn').join(afin_df,on='msisdn',how='inner')"
   ]
  },
  {
   "cell_type": "code",
   "execution_count": 33,
   "metadata": {},
   "outputs": [
    {
     "name": "stdout",
     "output_type": "stream",
     "text": [
      "+---------------+-----+\n",
      "|target_operator|count|\n",
      "+---------------+-----+\n",
      "|         orange|14339|\n",
      "|       masmovil|22651|\n",
      "|       movistar|20933|\n",
      "|         others|21286|\n",
      "+---------------+-----+\n",
      "\n"
     ]
    }
   ],
   "source": [
    "cruce_afin_churn.groupby('target_operator').count().show()"
   ]
  },
  {
   "cell_type": "markdown",
   "metadata": {},
   "source": [
    "Extraigo clientes en riesgo del modelo general de churn"
   ]
  },
  {
   "cell_type": "code",
   "execution_count": 98,
   "metadata": {},
   "outputs": [
    {
     "data": {
      "text/plain": [
       "79406"
      ]
     },
     "execution_count": 98,
     "metadata": {},
     "output_type": "execute_result"
    }
   ],
   "source": [
    "cruce_afin_churn.count()"
   ]
  },
  {
   "cell_type": "code",
   "execution_count": 34,
   "metadata": {},
   "outputs": [],
   "source": [
    "churn_risk_afin=cruce_afin_churn.filter(col('flag_propension')==1)"
   ]
  },
  {
   "cell_type": "code",
   "execution_count": 89,
   "metadata": {},
   "outputs": [
    {
     "data": {
      "text/plain": [
       "44217"
      ]
     },
     "execution_count": 89,
     "metadata": {},
     "output_type": "execute_result"
    }
   ],
   "source": [
    "churn_risk_afin.count()"
   ]
  },
  {
   "cell_type": "code",
   "execution_count": 36,
   "metadata": {},
   "outputs": [],
   "source": [
    "from pyspark.sql.types import IntegerType\n",
    "\n",
    "churn_risk_afin=churn_risk_afin.withColumn('decil',col('decil').cast(IntegerType()))"
   ]
  },
  {
   "cell_type": "markdown",
   "metadata": {},
   "source": [
    "## Multiclass report"
   ]
  },
  {
   "cell_type": "code",
   "execution_count": 42,
   "metadata": {},
   "outputs": [],
   "source": [
    "#Read predictions\n",
    "\n",
    "\n",
    "pred_test=spark.read.load('/data/udf/vf_es/churn/churn_competitor_model/v2/multiclase/pred_20200414_evaluation')"
   ]
  },
  {
   "cell_type": "code",
   "execution_count": 43,
   "metadata": {},
   "outputs": [
    {
     "data": {
      "text/html": [
       "<div>\n",
       "<style scoped>\n",
       "    .dataframe tbody tr th:only-of-type {\n",
       "        vertical-align: middle;\n",
       "    }\n",
       "\n",
       "    .dataframe tbody tr th {\n",
       "        vertical-align: top;\n",
       "    }\n",
       "\n",
       "    .dataframe thead th {\n",
       "        text-align: right;\n",
       "    }\n",
       "</style>\n",
       "<table border=\"1\" class=\"dataframe\">\n",
       "  <thead>\n",
       "    <tr style=\"text-align: right;\">\n",
       "      <th></th>\n",
       "      <th>msisdn</th>\n",
       "      <th>prob_array</th>\n",
       "      <th>prediction</th>\n",
       "      <th>label</th>\n",
       "      <th>prediction_multilabel</th>\n",
       "      <th>label_multilabel</th>\n",
       "      <th>certainity_1</th>\n",
       "      <th>certainity_2</th>\n",
       "      <th>acierto_multilabel</th>\n",
       "    </tr>\n",
       "  </thead>\n",
       "  <tbody>\n",
       "    <tr>\n",
       "      <th>0</th>\n",
       "      <td>678497640</td>\n",
       "      <td>[0.301068957226, 0.213565628734, 0.27013913708...</td>\n",
       "      <td>1.0</td>\n",
       "      <td>4</td>\n",
       "      <td>[1.0, 3.0]</td>\n",
       "      <td>[4.0]</td>\n",
       "      <td>0.030930</td>\n",
       "      <td>1.375278</td>\n",
       "      <td>0</td>\n",
       "    </tr>\n",
       "    <tr>\n",
       "      <th>1</th>\n",
       "      <td>687581520</td>\n",
       "      <td>[0.247043684178, 0.324094755923, 0.22933375660...</td>\n",
       "      <td>2.0</td>\n",
       "      <td>4</td>\n",
       "      <td>[2.0, 1.0]</td>\n",
       "      <td>[4.0]</td>\n",
       "      <td>0.077051</td>\n",
       "      <td>1.369889</td>\n",
       "      <td>0</td>\n",
       "    </tr>\n",
       "    <tr>\n",
       "      <th>2</th>\n",
       "      <td>636095502</td>\n",
       "      <td>[0.279715901489, 0.25375269511, 0.27291943941,...</td>\n",
       "      <td>1.0</td>\n",
       "      <td>1</td>\n",
       "      <td>[1.0, 3.0]</td>\n",
       "      <td>[1.0]</td>\n",
       "      <td>0.006796</td>\n",
       "      <td>1.376647</td>\n",
       "      <td>1</td>\n",
       "    </tr>\n",
       "    <tr>\n",
       "      <th>3</th>\n",
       "      <td>693487097</td>\n",
       "      <td>[0.223864826088, 0.257835297869, 0.23597076209...</td>\n",
       "      <td>4.0</td>\n",
       "      <td>4</td>\n",
       "      <td>[4.0, 2.0]</td>\n",
       "      <td>[4.0]</td>\n",
       "      <td>0.024494</td>\n",
       "      <td>1.382350</td>\n",
       "      <td>1</td>\n",
       "    </tr>\n",
       "    <tr>\n",
       "      <th>4</th>\n",
       "      <td>648669563</td>\n",
       "      <td>[0.20835404162, 0.231035166528, 0.191444783331...</td>\n",
       "      <td>4.0</td>\n",
       "      <td>4</td>\n",
       "      <td>[4.0, 2.0]</td>\n",
       "      <td>[4.0]</td>\n",
       "      <td>0.138131</td>\n",
       "      <td>1.349681</td>\n",
       "      <td>1</td>\n",
       "    </tr>\n",
       "  </tbody>\n",
       "</table>\n",
       "</div>"
      ],
      "text/plain": [
       "      msisdn                                         prob_array  prediction  \\\n",
       "0  678497640  [0.301068957226, 0.213565628734, 0.27013913708...         1.0   \n",
       "1  687581520  [0.247043684178, 0.324094755923, 0.22933375660...         2.0   \n",
       "2  636095502  [0.279715901489, 0.25375269511, 0.27291943941,...         1.0   \n",
       "3  693487097  [0.223864826088, 0.257835297869, 0.23597076209...         4.0   \n",
       "4  648669563  [0.20835404162, 0.231035166528, 0.191444783331...         4.0   \n",
       "\n",
       "   label prediction_multilabel label_multilabel  certainity_1  certainity_2  \\\n",
       "0      4            [1.0, 3.0]            [4.0]      0.030930      1.375278   \n",
       "1      4            [2.0, 1.0]            [4.0]      0.077051      1.369889   \n",
       "2      1            [1.0, 3.0]            [1.0]      0.006796      1.376647   \n",
       "3      4            [4.0, 2.0]            [4.0]      0.024494      1.382350   \n",
       "4      4            [4.0, 2.0]            [4.0]      0.138131      1.349681   \n",
       "\n",
       "   acierto_multilabel  \n",
       "0                   0  \n",
       "1                   0  \n",
       "2                   1  \n",
       "3                   1  \n",
       "4                   1  "
      ]
     },
     "execution_count": 43,
     "metadata": {},
     "output_type": "execute_result"
    }
   ],
   "source": [
    "pred_test.limit(5).toPandas()"
   ]
  },
  {
   "cell_type": "code",
   "execution_count": 189,
   "metadata": {},
   "outputs": [],
   "source": [
    "from pyspark.sql.functions import when\n",
    "\n",
    "pred = pred_test.withColumn(\"label\",\n",
    "              when(pred_test[\"label\"] == 1, 'masmov').otherwise(\n",
    "                when(pred_test[\"label\"] == 2, 'mov').otherwise(\n",
    "                    when(pred_test[\"label\"] == 3, 'or').otherwise(\n",
    "                        when(pred_test[\"label\"] == 4, 'other').otherwise(0)))))\n",
    "                            "
   ]
  },
  {
   "cell_type": "code",
   "execution_count": 190,
   "metadata": {},
   "outputs": [],
   "source": [
    "pred = pred.withColumn(\"prediction\",\n",
    "              when(pred[\"prediction\"] == 1, 'masmov').otherwise(\n",
    "                when(pred[\"prediction\"] == 2, 'mov').otherwise(\n",
    "                    when(pred[\"prediction\"] == 3, 'or').otherwise(\n",
    "                        when(pred[\"prediction\"] == 4, 'other').otherwise(0)))))\n",
    "                            "
   ]
  },
  {
   "cell_type": "code",
   "execution_count": 41,
   "metadata": {},
   "outputs": [],
   "source": [
    "pred=cruce_afin_churn"
   ]
  },
  {
   "cell_type": "code",
   "execution_count": 77,
   "metadata": {},
   "outputs": [],
   "source": [
    "pred=churn_risk_afin.filter(col('decil')>9)"
   ]
  },
  {
   "cell_type": "code",
   "execution_count": 78,
   "metadata": {},
   "outputs": [],
   "source": [
    "pred=pred.toPandas()"
   ]
  },
  {
   "cell_type": "code",
   "execution_count": 79,
   "metadata": {},
   "outputs": [
    {
     "name": "stdout",
     "output_type": "stream",
     "text": [
      "prediction       masmovil  movistar  orange  others\n",
      "target_operator                                    \n",
      "masmovil             1084       864     354     834\n",
      "movistar              378      1689     236     504\n",
      "orange                348       483     303     393\n",
      "others                585       855     253    1388\n"
     ]
    }
   ],
   "source": [
    "import pandas as pd\n",
    "confusion_matrix = pd.crosstab(pred['target_operator'], pred['prediction'], rownames=['target_operator'], colnames=['prediction'])\n",
    "print(confusion_matrix)"
   ]
  },
  {
   "cell_type": "code",
   "execution_count": 80,
   "metadata": {},
   "outputs": [
    {
     "name": "stdout",
     "output_type": "stream",
     "text": [
      "              precision    recall  f1-score   support\n",
      "\n",
      "    masmovil       0.45      0.35      0.39      3136\n",
      "    movistar       0.43      0.60      0.50      2807\n",
      "      orange       0.26      0.20      0.23      1527\n",
      "      others       0.45      0.45      0.45      3081\n",
      "\n",
      "   micro avg       0.42      0.42      0.42     10551\n",
      "   macro avg       0.40      0.40      0.39     10551\n",
      "weighted avg       0.42      0.42      0.41     10551\n",
      "\n"
     ]
    }
   ],
   "source": [
    "from sklearn.metrics import classification_report\n",
    "print(classification_report(pred['target_operator'], pred['prediction']))"
   ]
  },
  {
   "cell_type": "markdown",
   "metadata": {},
   "source": [
    "# Obtener cuánto churn capturamos"
   ]
  },
  {
   "cell_type": "code",
   "execution_count": 86,
   "metadata": {},
   "outputs": [
    {
     "name": "stdout",
     "output_type": "stream",
     "text": [
      "[DataTemplate] __init__ | module name = mob_port/30 | path = /data/udf/vf_es/churn_nrt/mob_port/30 | verbose = True\n",
      "[DataTemplate] get_module | module mob_port/30 - for closing_day=20200131 save=False save_others=False force_gen=True\n",
      "[DataTemplate] get_module | args: () | kwargs: {}\n",
      "[MobPort] check_valid_params | Params ok\n",
      "[DataTemplate] get_module | Module will be generated since force_gen parameter was set to True. An existing module in path will be ignored\n",
      "[MobPort] check_valid_params | Params ok\n",
      "[Info get_mobile_portout_requests] - Port-out requests for mobile services during period 20200131-20200301: 169463\n",
      "[DataTemplate] get_module | module 'mob_port/30' | Elapsed time in build_module function: 0.408583601316 minutes\n",
      "[DataTemplate] get_module | module 'mob_port/30' | Module will not be saved (save=False and is_default_module()=True)\n"
     ]
    }
   ],
   "source": [
    "pred_df = spark\\\n",
    ".read\\\n",
    ".parquet('/data/attributes/vf_es/model_outputs/model_scores/model_name=churn_mobile/year=2020/month=1/day=31')\\\n",
    ".select('msisdn', 'scoring', 'extra_info')\\\n",
    ".withColumn('decil', split(split(col('extra_info'), ';').getItem(0), '=').getItem(1))\n",
    "\n",
    "\n",
    "from churn_nrt.src.data.sopos_dxs import MobPort\n",
    "port_df = MobPort(spark, churn_window=30)\\\n",
    ".get_module('20200131', save=False, save_others=False, force_gen=True)\\\n",
    ".select(\"msisdn\", \"label_mob\")\\\n",
    ".withColumnRenamed('label_mob', 'label')\n",
    "\n",
    "\n",
    "lab30_pred_df = pred_df.join(port_df, ['msisdn'], 'left').na.fill({'label': 0})\n",
    "\n"
   ]
  },
  {
   "cell_type": "code",
   "execution_count": 87,
   "metadata": {},
   "outputs": [
    {
     "data": {
      "image/png": "[encoded data removed]",
      "text/plain": [
       "<Figure size 576x504 with 1 Axes>"
      ]
     },
     "metadata": {},
     "output_type": "display_data"
    }
   ],
   "source": [
    "import matplotlib.pyplot as plt\n",
    "\n",
    "\n",
    "from churn_nrt.src.projects_utils.models.modeler import get_cumulative_churn_rate_fix_step\n",
    "lift_mob_df = get_cumulative_churn_rate_fix_step(spark, lab30_pred_df, step_ = 5000, ord_col =\"scoring\", label_col =\"label\", verbose = False, noise = 0.000001)\n",
    "capt_mob_pd = lift_mob_df.select('cum_volume_for_capture', 'cum_captured_churn').toPandas()\n",
    "fig,ax = plt.subplots(figsize=(8,7))\n",
    "font={'fontsize':12, 'fontweight': 'bold'}\n",
    "ax.plot(capt_mob_pd.cum_volume_for_capture, capt_mob_pd.cum_captured_churn)\n",
    "ax.set_xlabel(\"Volume required (%)\", fontdict = font)\n",
    "ax.set_ylabel(\"Captured churn (%)\", fontdict = font)\n",
    "ax.legend(loc='best')\n",
    "ax.grid(True)"
   ]
  },
  {
   "cell_type": "code",
   "execution_count": null,
   "metadata": {},
   "outputs": [],
   "source": []
  },
  {
   "cell_type": "markdown",
   "metadata": {},
   "source": [
    "## Ver cuántos churners se pierden tras aplicar cada filtro"
   ]
  },
  {
   "cell_type": "markdown",
   "metadata": {},
   "source": [
    "Cojo ids sin filtros y le añado portabilidades. Después aplico función funnel para ver cuántos churners se pierden tras filtros"
   ]
  },
  {
   "cell_type": "code",
   "execution_count": 4,
   "metadata": {},
   "outputs": [],
   "source": [
    "from churn_nrt.src.data_utils.ids_utils import get_ids\n",
    "from pyspark.sql.functions import col"
   ]
  },
  {
   "cell_type": "code",
   "execution_count": 5,
   "metadata": {},
   "outputs": [
    {
     "name": "stdout",
     "output_type": "stream",
     "text": [
      "/data/udf/vf_es/amdocs_inf_dataset/amdocs_ids_service_level/year=2019/month=12/day=31\n"
     ]
    }
   ],
   "source": [
    "df_ids_train = get_ids(spark, '20191231').where(col('serv_rgu') == 'mobile').dropDuplicates(['msisdn'])"
   ]
  },
  {
   "cell_type": "code",
   "execution_count": 6,
   "metadata": {},
   "outputs": [
    {
     "name": "stdout",
     "output_type": "stream",
     "text": [
      "[DataTemplate] __init__ | module name = mob_port/30 | path = /data/udf/vf_es/churn_nrt/mob_port/30 | verbose = True\n",
      "[DataTemplate] get_module | module mob_port/30 - for closing_day=20191231 save=False save_others=False force_gen=True\n",
      "[DataTemplate] get_module | args: () | kwargs: {}\n",
      "[MobPort] check_valid_params | Params ok\n",
      "[DataTemplate] get_module | Module will be generated since force_gen parameter was set to True. An existing module in path will be ignored\n",
      "[MobPort] check_valid_params | Params ok\n",
      "[Info get_mobile_portout_requests] - Port-out requests for mobile services during period 20191231-20200130: 171252\n",
      "[DataTemplate] get_module | module 'mob_port/30' | Elapsed time in build_module function: 0.802100217342 minutes\n",
      "[DataTemplate] get_module | module 'mob_port/30' | Module will not be saved (save=False and is_default_module()=True)\n"
     ]
    }
   ],
   "source": [
    "from churn_nrt.src.data.sopos_dxs import MobPort\n",
    "\n",
    "port_df = MobPort(spark, churn_window=30)\\\n",
    ".get_module('20191231', save=False, save_others=False, force_gen=True)\\\n",
    ".select(\"msisdn\", \"label_mob\")\\\n",
    ".withColumnRenamed('label_mob', 'churn')\n",
    "\n",
    "pop_df = df_ids_train.join(port_df, ['msisdn'], 'left').na.fill({'churn': 0})"
   ]
  },
  {
   "cell_type": "code",
   "execution_count": 10,
   "metadata": {},
   "outputs": [
    {
     "data": {
      "text/plain": [
       "5278"
      ]
     },
     "execution_count": 10,
     "metadata": {},
     "output_type": "execute_result"
    }
   ],
   "source": [
    "len(pop_df.columns)"
   ]
  },
  {
   "cell_type": "code",
   "execution_count": 7,
   "metadata": {},
   "outputs": [],
   "source": [
    "def get_funnel(spark, pop_df, date_, n_cycles=12, verbose = False):\n",
    "    \n",
    "\n",
    "    from churn_nrt.src.utils.date_functions import move_date_n_cycles, get_diff_days\n",
    "    date_prev = move_date_n_cycles(date_, -n_cycles)\n",
    "    diff_days = get_diff_days(date_prev, date_, format_date=\"%Y%m%d\")\n",
    "    pop_df.cache()\n",
    "    print '[Info] Initial - Initial volume: ' + str(pop_df.count()) + ' - Initial number of msisdn: ' + str(pop_df.select('msisdn').distinct().count()) + ' - Initial number of NIFs: ' + str(pop_df.select('nif_cliente').distinct().count()) + ' - Initial number of churners: ' +  str(pop_df.filter(col('churn')==1).count())\n",
    "    #if filter_recent:\n",
    "    from churn_nrt.src.data_utils.base_filters import get_non_recent_customers_filter\n",
    "    df_ids_rec = get_non_recent_customers_filter(spark, date_, diff_days, level='nif', verbose = False)\n",
    "    filt_pop_df = pop_df.join(df_ids_rec.select('nif_cliente'), ['nif_cliente'], 'inner')\\\n",
    "    .select('msisdn', 'num_cliente', 'nif_cliente','churn')\n",
    "    filt_pop_df.cache()\n",
    "    print '[Info] Recent customers - Volume: ' + str(filt_pop_df.count()) + ' - Number of msisdn: ' + str(filt_pop_df.select('msisdn').distinct().count()) + ' - Number of NIFs: ' + str(filt_pop_df.select('nif_cliente').distinct().count()) + ' - Churners: ' +  str(filt_pop_df.filter(col('churn')==1).count())\n",
    "    \n",
    "    #if filter_disc:\n",
    "    from churn_nrt.src.data_utils.base_filters import get_disconnection_process_filter\n",
    "    df_ids_disc = get_disconnection_process_filter(spark, date_, diff_days, verbose=verbose, level=\"nif_cliente\")\n",
    "    filt_pop_df = filt_pop_df.join(df_ids_disc.select('nif_cliente'), ['nif_cliente'], 'inner')\n",
    "    filt_pop_df.cache()\n",
    "    print '[Info] DX customers - Volume: ' + str(filt_pop_df.count()) + ' - Number of msisdn: ' + str(filt_pop_df.select('msisdn').distinct().count()) + ' - Number of NIFs: ' + str(filt_pop_df.select('nif_cliente').distinct().count())  + ' - Churners: ' +  str(filt_pop_df.filter(col('churn')==1).count())\n",
    "   \n",
    "    # if filter_ord:\n",
    "    filt_pop_df = filt_pop_df.join(pop_df.select('nif_cliente', \"Ord_sla_has_forbidden_orders_last90\"), ['nif_cliente'], 'inner').where(~(col(\"Ord_sla_has_forbidden_orders_last90\") > 0))\n",
    "    filt_pop_df.cache()\n",
    "    print '[Info] Orders - Volume: ' + str(filt_pop_df.count()) + ' - Number of msisdn: ' + str(filt_pop_df.select('msisdn').distinct().count()) + ' - Number of NIFs: ' + str(filt_pop_df.select('nif_cliente').distinct().count()) + ' - Churners: ' +  str(filt_pop_df.filter(col('churn')==1).count())\n",
    "    \n",
    "    # if filter_cc:\n",
    "    filt_pop_df = filt_pop_df.join(pop_df.select('nif_cliente', \"CCC_CHURN_CANCELLATIONS_w8\"), ['nif_cliente'], 'inner').where(~(col(\"CCC_CHURN_CANCELLATIONS_w8\") > 0))\n",
    "    filt_pop_df.cache()\n",
    "    print '[Info] Churn call - Volume: ' + str(filt_pop_df.count()) + ' - Number of msisdn: ' + str(filt_pop_df.select('msisdn').distinct().count()) + ' - Number of NIFs: ' + str(filt_pop_df.select('nif_cliente').distinct().count()) + ' - Churners: ' +  str(filt_pop_df.filter(col('churn')==1).count())\n",
    "    \n",
    "    return 1"
   ]
  },
  {
   "cell_type": "code",
   "execution_count": 8,
   "metadata": {},
   "outputs": [
    {
     "ename": "KeyboardInterrupt",
     "evalue": "",
     "output_type": "error",
     "traceback": [
      "\u001b[0;31m\u001b[0m",
      "\u001b[0;31mKeyboardInterrupt\u001b[0mTraceback (most recent call last)",
      "\u001b[0;32m<ipython-input-8-4246cfa9d384>\u001b[0m in \u001b[0;36m<module>\u001b[0;34m()\u001b[0m\n\u001b[0;32m----> 1\u001b[0;31m \u001b[0mget_funnel\u001b[0m\u001b[0;34m(\u001b[0m\u001b[0mspark\u001b[0m\u001b[0;34m,\u001b[0m \u001b[0mpop_df\u001b[0m\u001b[0;34m,\u001b[0m \u001b[0;34m'20191231'\u001b[0m\u001b[0;34m,\u001b[0m \u001b[0mn_cycles\u001b[0m\u001b[0;34m=\u001b[0m\u001b[0;36m12\u001b[0m\u001b[0;34m,\u001b[0m \u001b[0mverbose\u001b[0m \u001b[0;34m=\u001b[0m \u001b[0mFalse\u001b[0m\u001b[0;34m)\u001b[0m\u001b[0;34m\u001b[0m\u001b[0m\n\u001b[0m",
      "\u001b[0;32m<ipython-input-7-78f5621ef978>\u001b[0m in \u001b[0;36mget_funnel\u001b[0;34m(spark, pop_df, date_, n_cycles, verbose)\u001b[0m\n\u001b[1;32m      6\u001b[0m     \u001b[0mdiff_days\u001b[0m \u001b[0;34m=\u001b[0m \u001b[0mget_diff_days\u001b[0m\u001b[0;34m(\u001b[0m\u001b[0mdate_prev\u001b[0m\u001b[0;34m,\u001b[0m \u001b[0mdate_\u001b[0m\u001b[0;34m,\u001b[0m \u001b[0mformat_date\u001b[0m\u001b[0;34m=\u001b[0m\u001b[0;34m\"%Y%m%d\"\u001b[0m\u001b[0;34m)\u001b[0m\u001b[0;34m\u001b[0m\u001b[0m\n\u001b[1;32m      7\u001b[0m     \u001b[0mpop_df\u001b[0m\u001b[0;34m.\u001b[0m\u001b[0mcache\u001b[0m\u001b[0;34m(\u001b[0m\u001b[0;34m)\u001b[0m\u001b[0;34m\u001b[0m\u001b[0m\n\u001b[0;32m----> 8\u001b[0;31m     \u001b[0;32mprint\u001b[0m \u001b[0;34m'[Info] Initial - Initial volume: '\u001b[0m \u001b[0;34m+\u001b[0m \u001b[0mstr\u001b[0m\u001b[0;34m(\u001b[0m\u001b[0mpop_df\u001b[0m\u001b[0;34m.\u001b[0m\u001b[0mcount\u001b[0m\u001b[0;34m(\u001b[0m\u001b[0;34m)\u001b[0m\u001b[0;34m)\u001b[0m \u001b[0;34m+\u001b[0m \u001b[0;34m' - Initial number of msisdn: '\u001b[0m \u001b[0;34m+\u001b[0m \u001b[0mstr\u001b[0m\u001b[0;34m(\u001b[0m\u001b[0mpop_df\u001b[0m\u001b[0;34m.\u001b[0m\u001b[0mselect\u001b[0m\u001b[0;34m(\u001b[0m\u001b[0;34m'msisdn'\u001b[0m\u001b[0;34m)\u001b[0m\u001b[0;34m.\u001b[0m\u001b[0mdistinct\u001b[0m\u001b[0;34m(\u001b[0m\u001b[0;34m)\u001b[0m\u001b[0;34m.\u001b[0m\u001b[0mcount\u001b[0m\u001b[0;34m(\u001b[0m\u001b[0;34m)\u001b[0m\u001b[0;34m)\u001b[0m \u001b[0;34m+\u001b[0m \u001b[0;34m' - Initial number of NIFs: '\u001b[0m \u001b[0;34m+\u001b[0m \u001b[0mstr\u001b[0m\u001b[0;34m(\u001b[0m\u001b[0mpop_df\u001b[0m\u001b[0;34m.\u001b[0m\u001b[0mselect\u001b[0m\u001b[0;34m(\u001b[0m\u001b[0;34m'nif_cliente'\u001b[0m\u001b[0;34m)\u001b[0m\u001b[0;34m.\u001b[0m\u001b[0mdistinct\u001b[0m\u001b[0;34m(\u001b[0m\u001b[0;34m)\u001b[0m\u001b[0;34m.\u001b[0m\u001b[0mcount\u001b[0m\u001b[0;34m(\u001b[0m\u001b[0;34m)\u001b[0m\u001b[0;34m)\u001b[0m \u001b[0;34m+\u001b[0m \u001b[0;34m' - Initial number of churners: '\u001b[0m \u001b[0;34m+\u001b[0m  \u001b[0mstr\u001b[0m\u001b[0;34m(\u001b[0m\u001b[0mpop_df\u001b[0m\u001b[0;34m.\u001b[0m\u001b[0mfilter\u001b[0m\u001b[0;34m(\u001b[0m\u001b[0mcol\u001b[0m\u001b[0;34m(\u001b[0m\u001b[0;34m'churn'\u001b[0m\u001b[0;34m)\u001b[0m\u001b[0;34m==\u001b[0m\u001b[0;36m1\u001b[0m\u001b[0;34m)\u001b[0m\u001b[0;34m.\u001b[0m\u001b[0mcount\u001b[0m\u001b[0;34m(\u001b[0m\u001b[0;34m)\u001b[0m\u001b[0;34m)\u001b[0m\u001b[0;34m\u001b[0m\u001b[0m\n\u001b[0m\u001b[1;32m      9\u001b[0m     \u001b[0;31m#if filter_recent:\u001b[0m\u001b[0;34m\u001b[0m\u001b[0;34m\u001b[0m\u001b[0m\n\u001b[1;32m     10\u001b[0m     \u001b[0;32mfrom\u001b[0m \u001b[0mchurn_nrt\u001b[0m\u001b[0;34m.\u001b[0m\u001b[0msrc\u001b[0m\u001b[0;34m.\u001b[0m\u001b[0mdata_utils\u001b[0m\u001b[0;34m.\u001b[0m\u001b[0mbase_filters\u001b[0m \u001b[0;32mimport\u001b[0m \u001b[0mget_non_recent_customers_filter\u001b[0m\u001b[0;34m\u001b[0m\u001b[0m\n",
      "\u001b[0;32m/opt/cloudera/parcels/SPARK2/lib/spark2/python/pyspark/sql/dataframe.py\u001b[0m in \u001b[0;36mcount\u001b[0;34m(self)\u001b[0m\n\u001b[1;32m    453\u001b[0m         \u001b[0;36m2\u001b[0m\u001b[0;34m\u001b[0m\u001b[0m\n\u001b[1;32m    454\u001b[0m         \"\"\"\n\u001b[0;32m--> 455\u001b[0;31m         \u001b[0;32mreturn\u001b[0m \u001b[0mint\u001b[0m\u001b[0;34m(\u001b[0m\u001b[0mself\u001b[0m\u001b[0;34m.\u001b[0m\u001b[0m_jdf\u001b[0m\u001b[0;34m.\u001b[0m\u001b[0mcount\u001b[0m\u001b[0;34m(\u001b[0m\u001b[0;34m)\u001b[0m\u001b[0;34m)\u001b[0m\u001b[0;34m\u001b[0m\u001b[0m\n\u001b[0m\u001b[1;32m    456\u001b[0m \u001b[0;34m\u001b[0m\u001b[0m\n\u001b[1;32m    457\u001b[0m     \u001b[0;34m@\u001b[0m\u001b[0mignore_unicode_prefix\u001b[0m\u001b[0;34m\u001b[0m\u001b[0m\n",
      "\u001b[0;32m/opt/cloudera/parcels/Anaconda-2.5.0/lib/python2.7/site-packages/py4j/java_gateway.pyc\u001b[0m in \u001b[0;36m__call__\u001b[0;34m(self, *args)\u001b[0m\n\u001b[1;32m   1253\u001b[0m             \u001b[0mproto\u001b[0m\u001b[0;34m.\u001b[0m\u001b[0mEND_COMMAND_PART\u001b[0m\u001b[0;34m\u001b[0m\u001b[0m\n\u001b[1;32m   1254\u001b[0m \u001b[0;34m\u001b[0m\u001b[0m\n\u001b[0;32m-> 1255\u001b[0;31m         \u001b[0manswer\u001b[0m \u001b[0;34m=\u001b[0m \u001b[0mself\u001b[0m\u001b[0;34m.\u001b[0m\u001b[0mgateway_client\u001b[0m\u001b[0;34m.\u001b[0m\u001b[0msend_command\u001b[0m\u001b[0;34m(\u001b[0m\u001b[0mcommand\u001b[0m\u001b[0;34m)\u001b[0m\u001b[0;34m\u001b[0m\u001b[0m\n\u001b[0m\u001b[1;32m   1256\u001b[0m         return_value = get_return_value(\n\u001b[1;32m   1257\u001b[0m             answer, self.gateway_client, self.target_id, self.name)\n",
      "\u001b[0;32m/opt/cloudera/parcels/Anaconda-2.5.0/lib/python2.7/site-packages/py4j/java_gateway.pyc\u001b[0m in \u001b[0;36msend_command\u001b[0;34m(self, command, retry, binary)\u001b[0m\n\u001b[1;32m    983\u001b[0m         \u001b[0mconnection\u001b[0m \u001b[0;34m=\u001b[0m \u001b[0mself\u001b[0m\u001b[0;34m.\u001b[0m\u001b[0m_get_connection\u001b[0m\u001b[0;34m(\u001b[0m\u001b[0;34m)\u001b[0m\u001b[0;34m\u001b[0m\u001b[0m\n\u001b[1;32m    984\u001b[0m         \u001b[0;32mtry\u001b[0m\u001b[0;34m:\u001b[0m\u001b[0;34m\u001b[0m\u001b[0m\n\u001b[0;32m--> 985\u001b[0;31m             \u001b[0mresponse\u001b[0m \u001b[0;34m=\u001b[0m \u001b[0mconnection\u001b[0m\u001b[0;34m.\u001b[0m\u001b[0msend_command\u001b[0m\u001b[0;34m(\u001b[0m\u001b[0mcommand\u001b[0m\u001b[0;34m)\u001b[0m\u001b[0;34m\u001b[0m\u001b[0m\n\u001b[0m\u001b[1;32m    986\u001b[0m             \u001b[0;32mif\u001b[0m \u001b[0mbinary\u001b[0m\u001b[0;34m:\u001b[0m\u001b[0;34m\u001b[0m\u001b[0m\n\u001b[1;32m    987\u001b[0m                 \u001b[0;32mreturn\u001b[0m \u001b[0mresponse\u001b[0m\u001b[0;34m,\u001b[0m \u001b[0mself\u001b[0m\u001b[0;34m.\u001b[0m\u001b[0m_create_connection_guard\u001b[0m\u001b[0;34m(\u001b[0m\u001b[0mconnection\u001b[0m\u001b[0;34m)\u001b[0m\u001b[0;34m\u001b[0m\u001b[0m\n",
      "\u001b[0;32m/opt/cloudera/parcels/Anaconda-2.5.0/lib/python2.7/site-packages/py4j/java_gateway.pyc\u001b[0m in \u001b[0;36msend_command\u001b[0;34m(self, command)\u001b[0m\n\u001b[1;32m   1150\u001b[0m \u001b[0;34m\u001b[0m\u001b[0m\n\u001b[1;32m   1151\u001b[0m         \u001b[0;32mtry\u001b[0m\u001b[0;34m:\u001b[0m\u001b[0;34m\u001b[0m\u001b[0m\n\u001b[0;32m-> 1152\u001b[0;31m             \u001b[0manswer\u001b[0m \u001b[0;34m=\u001b[0m \u001b[0msmart_decode\u001b[0m\u001b[0;34m(\u001b[0m\u001b[0mself\u001b[0m\u001b[0;34m.\u001b[0m\u001b[0mstream\u001b[0m\u001b[0;34m.\u001b[0m\u001b[0mreadline\u001b[0m\u001b[0;34m(\u001b[0m\u001b[0;34m)\u001b[0m\u001b[0;34m[\u001b[0m\u001b[0;34m:\u001b[0m\u001b[0;34m-\u001b[0m\u001b[0;36m1\u001b[0m\u001b[0;34m]\u001b[0m\u001b[0;34m)\u001b[0m\u001b[0;34m\u001b[0m\u001b[0m\n\u001b[0m\u001b[1;32m   1153\u001b[0m             \u001b[0mlogger\u001b[0m\u001b[0;34m.\u001b[0m\u001b[0mdebug\u001b[0m\u001b[0;34m(\u001b[0m\u001b[0;34m\"Answer received: {0}\"\u001b[0m\u001b[0;34m.\u001b[0m\u001b[0mformat\u001b[0m\u001b[0;34m(\u001b[0m\u001b[0manswer\u001b[0m\u001b[0;34m)\u001b[0m\u001b[0;34m)\u001b[0m\u001b[0;34m\u001b[0m\u001b[0m\n\u001b[1;32m   1154\u001b[0m             \u001b[0;32mif\u001b[0m \u001b[0manswer\u001b[0m\u001b[0;34m.\u001b[0m\u001b[0mstartswith\u001b[0m\u001b[0;34m(\u001b[0m\u001b[0mproto\u001b[0m\u001b[0;34m.\u001b[0m\u001b[0mRETURN_MESSAGE\u001b[0m\u001b[0;34m)\u001b[0m\u001b[0;34m:\u001b[0m\u001b[0;34m\u001b[0m\u001b[0m\n",
      "\u001b[0;32m/opt/cloudera/parcels/Anaconda-2.5.0/lib/python2.7/socket.pyc\u001b[0m in \u001b[0;36mreadline\u001b[0;34m(self, size)\u001b[0m\n\u001b[1;32m    449\u001b[0m             \u001b[0;32mwhile\u001b[0m \u001b[0mTrue\u001b[0m\u001b[0;34m:\u001b[0m\u001b[0;34m\u001b[0m\u001b[0m\n\u001b[1;32m    450\u001b[0m                 \u001b[0;32mtry\u001b[0m\u001b[0;34m:\u001b[0m\u001b[0;34m\u001b[0m\u001b[0m\n\u001b[0;32m--> 451\u001b[0;31m                     \u001b[0mdata\u001b[0m \u001b[0;34m=\u001b[0m \u001b[0mself\u001b[0m\u001b[0;34m.\u001b[0m\u001b[0m_sock\u001b[0m\u001b[0;34m.\u001b[0m\u001b[0mrecv\u001b[0m\u001b[0;34m(\u001b[0m\u001b[0mself\u001b[0m\u001b[0;34m.\u001b[0m\u001b[0m_rbufsize\u001b[0m\u001b[0;34m)\u001b[0m\u001b[0;34m\u001b[0m\u001b[0m\n\u001b[0m\u001b[1;32m    452\u001b[0m                 \u001b[0;32mexcept\u001b[0m \u001b[0merror\u001b[0m\u001b[0;34m,\u001b[0m \u001b[0me\u001b[0m\u001b[0;34m:\u001b[0m\u001b[0;34m\u001b[0m\u001b[0m\n\u001b[1;32m    453\u001b[0m                     \u001b[0;32mif\u001b[0m \u001b[0me\u001b[0m\u001b[0;34m.\u001b[0m\u001b[0margs\u001b[0m\u001b[0;34m[\u001b[0m\u001b[0;36m0\u001b[0m\u001b[0;34m]\u001b[0m \u001b[0;34m==\u001b[0m \u001b[0mEINTR\u001b[0m\u001b[0;34m:\u001b[0m\u001b[0;34m\u001b[0m\u001b[0m\n",
      "\u001b[0;31mKeyboardInterrupt\u001b[0m: "
     ]
    }
   ],
   "source": [
    "get_funnel(spark, pop_df, '20191231', n_cycles=12, verbose = False)"
   ]
  },
  {
   "cell_type": "code",
   "execution_count": null,
   "metadata": {},
   "outputs": [],
   "source": []
  },
  {
   "cell_type": "code",
   "execution_count": null,
   "metadata": {},
   "outputs": [],
   "source": [
    "df_ids_train2 = get_ids(spark, '20200131').where(col('serv_rgu') == 'mobile').dropDuplicates(['msisdn']).select(\n",
    "            'msisdn')"
   ]
  },
  {
   "cell_type": "code",
   "execution_count": null,
   "metadata": {},
   "outputs": [],
   "source": [
    "port_df2 = MobPort(spark, churn_window=30)\\\n",
    ".get_module('20200131', save=False, save_others=False, force_gen=True)\\\n",
    ".select(\"msisdn\", \"label_mob\")\\\n",
    ".withColumnRenamed('label_mob', 'churn')\n",
    "\n",
    "pop_df2 = df_ids_train2.join(port_df2, ['msisdn'], 'left').na.fill({'churn': 0})"
   ]
  },
  {
   "cell_type": "code",
   "execution_count": null,
   "metadata": {},
   "outputs": [],
   "source": [
    "get_funnel(spark, pop_df2, '20200131', n_cycles=12, verbose = False)"
   ]
  },
  {
   "cell_type": "code",
   "execution_count": null,
   "metadata": {},
   "outputs": [],
   "source": []
  },
  {
   "cell_type": "code",
   "execution_count": null,
   "metadata": {},
   "outputs": [],
   "source": []
  },
  {
   "cell_type": "code",
   "execution_count": null,
   "metadata": {},
   "outputs": [],
   "source": []
  },
  {
   "cell_type": "code",
   "execution_count": null,
   "metadata": {},
   "outputs": [],
   "source": []
  }
 ],
 "metadata": {
  "kernelspec": {
   "display_name": "Python 2",
   "language": "python",
   "name": "python2"
  },
  "language_info": {
   "codemirror_mode": {
    "name": "ipython",
    "version": 2
   },
   "file_extension": ".py",
   "mimetype": "text/x-python",
   "name": "python",
   "nbconvert_exporter": "python",
   "pygments_lexer": "ipython2",
   "version": "2.7.11"
  }
 },
 "nbformat": 4,
 "nbformat_minor": 2
}
